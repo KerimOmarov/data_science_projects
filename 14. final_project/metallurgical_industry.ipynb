{
 "cells": [
  {
   "cell_type": "markdown",
   "metadata": {
    "toc": true
   },
   "source": [
    "<h1>Table of Contents<span class=\"tocSkip\"></span></h1>\n",
    "<div class=\"toc\"><ul class=\"toc-item\"><li><span><a href=\"#Exploratory-Data-Analysis\" data-toc-modified-id=\"Exploratory-Data-Analysis-1\"><span class=\"toc-item-num\">1&nbsp;&nbsp;</span>Exploratory Data Analysis</a></span><ul class=\"toc-item\"><li><span><a href=\"#Supplied-Electricity-Data\" data-toc-modified-id=\"Supplied-Electricity-Data-1.1\"><span class=\"toc-item-num\">1.1&nbsp;&nbsp;</span>Supplied Electricity Data</a></span></li><li><span><a href=\"#Bulk-material-feed-data-(volume)\" data-toc-modified-id=\"Bulk-material-feed-data-(volume)-1.2\"><span class=\"toc-item-num\">1.2&nbsp;&nbsp;</span>Bulk material feed data (volume)</a></span></li><li><span><a href=\"#Bulk-materials-feeding-data-(time)\" data-toc-modified-id=\"Bulk-materials-feeding-data-(time)-1.3\"><span class=\"toc-item-num\">1.3&nbsp;&nbsp;</span>Bulk materials feeding data (time)</a></span></li><li><span><a href=\"#Data-about-supplied-gases-for-purging\" data-toc-modified-id=\"Data-about-supplied-gases-for-purging-1.4\"><span class=\"toc-item-num\">1.4&nbsp;&nbsp;</span>Data about supplied gases for purging</a></span></li><li><span><a href=\"#Temperature-measurement-results\" data-toc-modified-id=\"Temperature-measurement-results-1.5\"><span class=\"toc-item-num\">1.5&nbsp;&nbsp;</span>Temperature measurement results</a></span></li><li><span><a href=\"#Wire-materials-data-(volume)\" data-toc-modified-id=\"Wire-materials-data-(volume)-1.6\"><span class=\"toc-item-num\">1.6&nbsp;&nbsp;</span>Wire materials data (volume)</a></span></li><li><span><a href=\"#Wire-material-data-(time)\" data-toc-modified-id=\"Wire-material-data-(time)-1.7\"><span class=\"toc-item-num\">1.7&nbsp;&nbsp;</span>Wire material data (time)</a></span></li><li><span><a href=\"#Conclusion\" data-toc-modified-id=\"Conclusion-1.8\"><span class=\"toc-item-num\">1.8&nbsp;&nbsp;</span>Conclusion</a></span></li></ul></li><li><span><a href=\"#Data-Preprocessing\" data-toc-modified-id=\"Data-Preprocessing-2\"><span class=\"toc-item-num\">2&nbsp;&nbsp;</span>Data Preprocessing</a></span><ul class=\"toc-item\"><li><span><a href=\"#Handling-missing-values-and-removing-duplicates\" data-toc-modified-id=\"Handling-missing-values-and-removing-duplicates-2.1\"><span class=\"toc-item-num\">2.1&nbsp;&nbsp;</span>Handling missing values and removing duplicates</a></span></li><li><span><a href=\"#Handling-anomalies\" data-toc-modified-id=\"Handling-anomalies-2.2\"><span class=\"toc-item-num\">2.2&nbsp;&nbsp;</span>Handling anomalies</a></span></li><li><span><a href=\"#Adding-more-features\" data-toc-modified-id=\"Adding-more-features-2.3\"><span class=\"toc-item-num\">2.3&nbsp;&nbsp;</span>Adding more features</a></span></li><li><span><a href=\"#Feature-aggregation-and-table-merging\" data-toc-modified-id=\"Feature-aggregation-and-table-merging-2.4\"><span class=\"toc-item-num\">2.4&nbsp;&nbsp;</span>Feature aggregation and table merging</a></span></li><li><span><a href=\"#Data-split-and-model-training\" data-toc-modified-id=\"Data-split-and-model-training-2.5\"><span class=\"toc-item-num\">2.5&nbsp;&nbsp;</span>Data split and model training</a></span></li><li><span><a href=\"#Model-Analysis\" data-toc-modified-id=\"Model-Analysis-2.6\"><span class=\"toc-item-num\">2.6&nbsp;&nbsp;</span>Model Analysis</a></span></li><li><span><a href=\"#Checking-the-best-model-on-test-data\" data-toc-modified-id=\"Checking-the-best-model-on-test-data-2.7\"><span class=\"toc-item-num\">2.7&nbsp;&nbsp;</span>Checking the best model on test data</a></span></li><li><span><a href=\"#Sanity-Check\" data-toc-modified-id=\"Sanity-Check-2.8\"><span class=\"toc-item-num\">2.8&nbsp;&nbsp;</span>Sanity Check</a></span></li></ul></li><li><span><a href=\"#Report\" data-toc-modified-id=\"Report-3\"><span class=\"toc-item-num\">3&nbsp;&nbsp;</span>Report</a></span></li></ul></div>"
   ]
  },
  {
   "cell_type": "markdown",
   "metadata": {},
   "source": [
    "# Metallurgical Industry"
   ]
  },
  {
   "cell_type": "markdown",
   "metadata": {},
   "source": [
    "To optimize production costs, the metallurgical plant \"ABC Steel\" LLC decided to reduce electricity consumption during the steel processing. We need to build a model that predicts the temperature of the steel.\n",
    "\n",
    "Description of the process\n",
    "\n",
    "Ladle furnace unit (LFU) - metallurgical equipment for out-of-furnace steel processing in the converter shop. The LFU is a large metal ladle with a volume of about 100 tons and is lined from the inside with refractory bricks. Molten steel is poured into the LFU from a steel ladle and then heated by graphite electrodes inserted into the unit's lid.\n",
    "\n",
    "In addition to electric heating, desulfurization (removal of sulfur from the melt), adjustment of the chemical composition, and sampling are carried out at the CPC. Alloying of metal is carried out both with lumpy ferroalloys through the system to supply bulk materials from bunkers and with wire materials through a tube apparatus. Averaging the chemical composition and temperature is carried out through the bottom purge device in the steel ladle.\n",
    "\n",
    "After completion of processing at the LFU, the melt is poured back into the steel ladle and either sent to other metal finishing units or to a continuous casting plant, where it solidifies in the form of metallurgical slabs.\n",
    "\n",
    "Each time the melt enters the Ladle Furnace Unit, the initial temperature and chemical composition are measured. Then, if necessary, the melt is heated for several minutes, after which alloying materials are added, purged with a gas, stirring the melt, and measurements are again carried out following the approved Technological Instruction. This cycle is repeated several times until the target chemistry and melting temperature are reached. In this case, it is not necessary that the melt would be heated in each cycle.\n",
    "\n",
    "**The purpose of the project:** To build a model for the regression problem that predicts the temperature of steel. MAE should be below 6.\n",
    "\n",
    "\n",
    "Project Steps:\n",
    "\n",
    "1. Exploratory data analysis.\n",
    "2. Data preprocessing and model building.\n",
    "3. Testing the best model and checking the model for adequacy.\n",
    "4. Report"
   ]
  },
  {
   "cell_type": "markdown",
   "metadata": {},
   "source": [
    "## Exploratory Data Analysis"
   ]
  },
  {
   "cell_type": "markdown",
   "metadata": {},
   "source": [
    "<b> Importing the required libraries and reading the data </b>"
   ]
  },
  {
   "cell_type": "code",
   "execution_count": 1,
   "metadata": {},
   "outputs": [],
   "source": [
    "import lightgbm as lgb\n",
    "import matplotlib.pyplot as plt\n",
    "import numpy as np\n",
    "import pandas as pd\n",
    "import seaborn as sns\n",
    "import warnings\n",
    "\n",
    "from catboost import CatBoostRegressor\n",
    "from lightgbm import LGBMRegressor\n",
    "from sklearn.dummy import DummyRegressor\n",
    "from sklearn.ensemble import RandomForestRegressor, VotingRegressor, StackingRegressor\n",
    "from sklearn.linear_model import ElasticNet, SGDRegressor\n",
    "from sklearn.metrics import mean_absolute_error\n",
    "from sklearn.model_selection import train_test_split, cross_val_score, GridSearchCV\n",
    "from sklearn.pipeline import Pipeline\n",
    "from sklearn.preprocessing import StandardScaler\n",
    "from xgboost import XGBRegressor\n",
    "\n",
    "RANDOM_STATE = 11122"
   ]
  },
  {
   "cell_type": "code",
   "execution_count": 2,
   "metadata": {},
   "outputs": [],
   "source": [
    "warnings.filterwarnings(\"ignore\")"
   ]
  },
  {
   "cell_type": "code",
   "execution_count": 3,
   "metadata": {},
   "outputs": [],
   "source": [
    "try: \n",
    "    df_arc = pd.read_csv('data_arc.csv', index_col='key', parse_dates=[1, 2])\n",
    "    df_bulk = pd.read_csv('data_bulk.csv', index_col='key')\n",
    "    df_bulk_time = pd.read_csv('data_bulk_time.csv', index_col='key', parse_dates=list(range(1, 16)))\n",
    "    df_gas = pd.read_csv('data_gas.csv', index_col='key')\n",
    "    df_temp = pd.read_csv('data_temp.csv', index_col='key', parse_dates=[1])\n",
    "    df_wire = pd.read_csv('data_wire.csv', index_col='key')\n",
    "    df_wire_time = pd.read_csv('data_wire_time.csv', index_col='key', parse_dates=list(range(1, 10)))\n",
    "except:\n",
    "    'ERROR'"
   ]
  },
  {
   "cell_type": "markdown",
   "metadata": {},
   "source": [
    "So, we have six tables with data: tables with data on electrodes, tables with data on the supply of bulk materials (volume and time), a table with data on gas purge of the alloy, tables with results of temperature measurements and tables with data on the supply of wire materials (volume and time).\n",
    "\n",
    "\n",
    "The data consists of files obtained from various sources\n",
    "\n",
    "* `data_arc.csv` - information on the supplied electricity;\n",
    "* `data_bulk.csv` - data on the supply of bulk materials (volume);\n",
    "* `data_bulk_time.csv` - data on the time of bulk delivery;\n",
    "* `data_gas.csv` - data on supplied gases for purging;\n",
    "* `data_temp.csv` - temperature measurement results;\n",
    "* `data_wire.csv` - data on wire materials (volume);\n",
    "* `data_wire_time.csv` - data about wire recoil time.\n",
    "\n",
    "In all files, the key column contains the batch number. There can be several rows in the files with the same key value: they correspond to different processing iterations."
   ]
  },
  {
   "cell_type": "markdown",
   "metadata": {},
   "source": [
    "Let's write a function for creating a histogram and a boxplot."
   ]
  },
  {
   "cell_type": "code",
   "execution_count": 4,
   "metadata": {},
   "outputs": [],
   "source": [
    "def graph(data):\n",
    "    _, [axs_hist, axs_box] = plt.subplots(2, 1,\n",
    "                                         figsize=(15, 9), \n",
    "                                         sharex=True,\n",
    "                                         gridspec_kw=dict(height_ratios=[10,1]))\n",
    "    hist = sns.histplot(data=data, kde=True, ax=axs_hist)\n",
    "    box = sns.boxplot(data=data, x=data, orient='h', ax=axs_box)\n",
    "    hist.set(title=f'Histogram of {data.name}',\n",
    "             ylabel='Number of records')\n",
    "    box.set(xlabel=f'{data.name}');"
   ]
  },
  {
   "cell_type": "code",
   "execution_count": 5,
   "metadata": {},
   "outputs": [],
   "source": [
    "def hist(data):\n",
    "    plt.figure(figsize=(14,8))\n",
    "    sns.histplot(data=data, discrete=True).set(title=f'Histogram of {data.name}')\n",
    "    plt.show()"
   ]
  },
  {
   "cell_type": "markdown",
   "metadata": {},
   "source": [
    "### Supplied Electricity Data"
   ]
  },
  {
   "cell_type": "code",
   "execution_count": 6,
   "metadata": {
    "scrolled": true
   },
   "outputs": [
    {
     "data": {
      "text/html": [
       "<div>\n",
       "<style scoped>\n",
       "    .dataframe tbody tr th:only-of-type {\n",
       "        vertical-align: middle;\n",
       "    }\n",
       "\n",
       "    .dataframe tbody tr th {\n",
       "        vertical-align: top;\n",
       "    }\n",
       "\n",
       "    .dataframe thead th {\n",
       "        text-align: right;\n",
       "    }\n",
       "</style>\n",
       "<table border=\"1\" class=\"dataframe\">\n",
       "  <thead>\n",
       "    <tr style=\"text-align: right;\">\n",
       "      <th></th>\n",
       "      <th>Начало нагрева дугой</th>\n",
       "      <th>Конец нагрева дугой</th>\n",
       "      <th>Активная мощность</th>\n",
       "      <th>Реактивная мощность</th>\n",
       "    </tr>\n",
       "    <tr>\n",
       "      <th>key</th>\n",
       "      <th></th>\n",
       "      <th></th>\n",
       "      <th></th>\n",
       "      <th></th>\n",
       "    </tr>\n",
       "  </thead>\n",
       "  <tbody>\n",
       "    <tr>\n",
       "      <th>1</th>\n",
       "      <td>2019-05-03 11:02:14</td>\n",
       "      <td>2019-05-03 11:06:02</td>\n",
       "      <td>0.976059</td>\n",
       "      <td>0.687084</td>\n",
       "    </tr>\n",
       "    <tr>\n",
       "      <th>1</th>\n",
       "      <td>2019-05-03 11:07:28</td>\n",
       "      <td>2019-05-03 11:10:33</td>\n",
       "      <td>0.805607</td>\n",
       "      <td>0.520285</td>\n",
       "    </tr>\n",
       "    <tr>\n",
       "      <th>1</th>\n",
       "      <td>2019-05-03 11:11:44</td>\n",
       "      <td>2019-05-03 11:14:36</td>\n",
       "      <td>0.744363</td>\n",
       "      <td>0.498805</td>\n",
       "    </tr>\n",
       "    <tr>\n",
       "      <th>1</th>\n",
       "      <td>2019-05-03 11:18:14</td>\n",
       "      <td>2019-05-03 11:24:19</td>\n",
       "      <td>1.659363</td>\n",
       "      <td>1.062669</td>\n",
       "    </tr>\n",
       "    <tr>\n",
       "      <th>1</th>\n",
       "      <td>2019-05-03 11:26:09</td>\n",
       "      <td>2019-05-03 11:28:37</td>\n",
       "      <td>0.692755</td>\n",
       "      <td>0.414397</td>\n",
       "    </tr>\n",
       "  </tbody>\n",
       "</table>\n",
       "</div>"
      ],
      "text/plain": [
       "    Начало нагрева дугой Конец нагрева дугой  Активная мощность  \\\n",
       "key                                                               \n",
       "1    2019-05-03 11:02:14 2019-05-03 11:06:02           0.976059   \n",
       "1    2019-05-03 11:07:28 2019-05-03 11:10:33           0.805607   \n",
       "1    2019-05-03 11:11:44 2019-05-03 11:14:36           0.744363   \n",
       "1    2019-05-03 11:18:14 2019-05-03 11:24:19           1.659363   \n",
       "1    2019-05-03 11:26:09 2019-05-03 11:28:37           0.692755   \n",
       "\n",
       "     Реактивная мощность  \n",
       "key                       \n",
       "1               0.687084  \n",
       "1               0.520285  \n",
       "1               0.498805  \n",
       "1               1.062669  \n",
       "1               0.414397  "
      ]
     },
     "execution_count": 6,
     "metadata": {},
     "output_type": "execute_result"
    }
   ],
   "source": [
    "df_arc.head(5)"
   ]
  },
  {
   "cell_type": "code",
   "execution_count": 7,
   "metadata": {
    "scrolled": true
   },
   "outputs": [
    {
     "name": "stdout",
     "output_type": "stream",
     "text": [
      "<class 'pandas.core.frame.DataFrame'>\n",
      "Int64Index: 14876 entries, 1 to 3241\n",
      "Data columns (total 4 columns):\n",
      " #   Column                Non-Null Count  Dtype         \n",
      "---  ------                --------------  -----         \n",
      " 0   Начало нагрева дугой  14876 non-null  datetime64[ns]\n",
      " 1   Конец нагрева дугой   14876 non-null  datetime64[ns]\n",
      " 2   Активная мощность     14876 non-null  float64       \n",
      " 3   Реактивная мощность   14876 non-null  float64       \n",
      "dtypes: datetime64[ns](2), float64(2)\n",
      "memory usage: 581.1 KB\n"
     ]
    }
   ],
   "source": [
    "df_arc.info()"
   ]
  },
  {
   "cell_type": "markdown",
   "metadata": {},
   "source": [
    "First, let's rename the columns for our convenience."
   ]
  },
  {
   "cell_type": "code",
   "execution_count": 8,
   "metadata": {},
   "outputs": [],
   "source": [
    "df_arc = df_arc.rename(columns={'Начало нагрева дугой': 'start_heating', \n",
    "                                'Конец нагрева дугой': 'end_heating',\n",
    "                                'Активная мощность': 'active_power',\n",
    "                                'Реактивная мощность': 'reactive_power'}\n",
    "                      )"
   ]
  },
  {
   "cell_type": "code",
   "execution_count": 9,
   "metadata": {},
   "outputs": [
    {
     "data": {
      "text/html": [
       "<div>\n",
       "<style scoped>\n",
       "    .dataframe tbody tr th:only-of-type {\n",
       "        vertical-align: middle;\n",
       "    }\n",
       "\n",
       "    .dataframe tbody tr th {\n",
       "        vertical-align: top;\n",
       "    }\n",
       "\n",
       "    .dataframe thead th {\n",
       "        text-align: right;\n",
       "    }\n",
       "</style>\n",
       "<table border=\"1\" class=\"dataframe\">\n",
       "  <thead>\n",
       "    <tr style=\"text-align: right;\">\n",
       "      <th></th>\n",
       "      <th>active_power</th>\n",
       "      <th>reactive_power</th>\n",
       "    </tr>\n",
       "  </thead>\n",
       "  <tbody>\n",
       "    <tr>\n",
       "      <th>count</th>\n",
       "      <td>14876.000000</td>\n",
       "      <td>14876.000000</td>\n",
       "    </tr>\n",
       "    <tr>\n",
       "      <th>mean</th>\n",
       "      <td>0.670441</td>\n",
       "      <td>0.452592</td>\n",
       "    </tr>\n",
       "    <tr>\n",
       "      <th>std</th>\n",
       "      <td>0.408159</td>\n",
       "      <td>5.878702</td>\n",
       "    </tr>\n",
       "    <tr>\n",
       "      <th>min</th>\n",
       "      <td>0.030002</td>\n",
       "      <td>-715.504924</td>\n",
       "    </tr>\n",
       "    <tr>\n",
       "      <th>25%</th>\n",
       "      <td>0.395297</td>\n",
       "      <td>0.290991</td>\n",
       "    </tr>\n",
       "    <tr>\n",
       "      <th>50%</th>\n",
       "      <td>0.555517</td>\n",
       "      <td>0.415962</td>\n",
       "    </tr>\n",
       "    <tr>\n",
       "      <th>75%</th>\n",
       "      <td>0.857034</td>\n",
       "      <td>0.637371</td>\n",
       "    </tr>\n",
       "    <tr>\n",
       "      <th>max</th>\n",
       "      <td>3.731596</td>\n",
       "      <td>2.676388</td>\n",
       "    </tr>\n",
       "  </tbody>\n",
       "</table>\n",
       "</div>"
      ],
      "text/plain": [
       "       active_power  reactive_power\n",
       "count  14876.000000    14876.000000\n",
       "mean       0.670441        0.452592\n",
       "std        0.408159        5.878702\n",
       "min        0.030002     -715.504924\n",
       "25%        0.395297        0.290991\n",
       "50%        0.555517        0.415962\n",
       "75%        0.857034        0.637371\n",
       "max        3.731596        2.676388"
      ]
     },
     "execution_count": 9,
     "metadata": {},
     "output_type": "execute_result"
    }
   ],
   "source": [
    "df_arc.describe()"
   ]
  },
  {
   "cell_type": "code",
   "execution_count": 10,
   "metadata": {},
   "outputs": [
    {
     "data": {
      "text/plain": [
       "start_heating     0\n",
       "end_heating       0\n",
       "active_power      0\n",
       "reactive_power    0\n",
       "dtype: int64"
      ]
     },
     "execution_count": 10,
     "metadata": {},
     "output_type": "execute_result"
    }
   ],
   "source": [
    "df_arc.isna().sum()"
   ]
  },
  {
   "cell_type": "code",
   "execution_count": 11,
   "metadata": {},
   "outputs": [
    {
     "data": {
      "text/plain": [
       "0"
      ]
     },
     "execution_count": 11,
     "metadata": {},
     "output_type": "execute_result"
    }
   ],
   "source": [
    "df_arc.duplicated().sum()"
   ]
  },
  {
   "cell_type": "markdown",
   "metadata": {},
   "source": [
    "There are no missing or duplicate values in the electrode data table."
   ]
  },
  {
   "cell_type": "markdown",
   "metadata": {},
   "source": [
    "Let's see the number of unique keys in the electrode data table."
   ]
  },
  {
   "cell_type": "code",
   "execution_count": 12,
   "metadata": {},
   "outputs": [
    {
     "data": {
      "text/plain": [
       "3214"
      ]
     },
     "execution_count": 12,
     "metadata": {},
     "output_type": "execute_result"
    }
   ],
   "source": [
    "df_arc.index.nunique()"
   ]
  },
  {
   "cell_type": "markdown",
   "metadata": {},
   "source": [
    "The table contains 3214 unique batches. Let's look at the distribution of the number of heating iterations."
   ]
  },
  {
   "cell_type": "code",
   "execution_count": 13,
   "metadata": {
    "scrolled": true
   },
   "outputs": [
    {
     "data": {
      "text/plain": [
       "2108    16\n",
       "1513    15\n",
       "1689    15\n",
       "2567    14\n",
       "46      13\n",
       "        ..\n",
       "112      1\n",
       "2472     1\n",
       "2025     1\n",
       "3059     1\n",
       "1615     1\n",
       "Name: key, Length: 3214, dtype: int64"
      ]
     },
     "execution_count": 13,
     "metadata": {},
     "output_type": "execute_result"
    }
   ],
   "source": [
    "df_arc.index.value_counts()"
   ]
  },
  {
   "cell_type": "markdown",
   "metadata": {},
   "source": [
    "Batch numbers are repeated from 1 to 16 times (in the case of lot 2108)."
   ]
  },
  {
   "cell_type": "markdown",
   "metadata": {},
   "source": [
    "Let's make histograms of the distribution of the time of the beginning and end of heating by the arc."
   ]
  },
  {
   "cell_type": "code",
   "execution_count": 14,
   "metadata": {
    "scrolled": false
   },
   "outputs": [
    {
     "data": {
      "image/png": "[encoded data removed]",
      "text/plain": [
       "<Figure size 1008x576 with 1 Axes>"
      ]
     },
     "metadata": {
      "needs_background": "light"
     },
     "output_type": "display_data"
    }
   ],
   "source": [
    "hist(df_arc['start_heating'])"
   ]
  },
  {
   "cell_type": "code",
   "execution_count": 15,
   "metadata": {},
   "outputs": [
    {
     "data": {
      "image/png": "[encoded data removed]",
      "text/plain": [
       "<Figure size 1008x576 with 1 Axes>"
      ]
     },
     "metadata": {
      "needs_background": "light"
     },
     "output_type": "display_data"
    }
   ],
   "source": [
    "hist(df_arc['end_heating'])"
   ]
  },
  {
   "cell_type": "markdown",
   "metadata": {},
   "source": [
    "The arc heating time columns contain data for the period from May to September 2019. We can also notice that there is no data for the period from July 11 to July 13. Most likely these days there was a breakdown of the equipment, or preventive maintenance was carried out."
   ]
  },
  {
   "cell_type": "markdown",
   "metadata": {},
   "source": [
    "Now let's look at the distribution of active and reactive powers."
   ]
  },
  {
   "cell_type": "code",
   "execution_count": 16,
   "metadata": {
    "scrolled": false
   },
   "outputs": [
    {
     "data": {
      "image/png": "[encoded data removed]",
      "text/plain": [
       "<Figure size 1080x648 with 2 Axes>"
      ]
     },
     "metadata": {
      "needs_background": "light"
     },
     "output_type": "display_data"
    }
   ],
   "source": [
    "graph(df_arc['active_power'])"
   ]
  },
  {
   "cell_type": "code",
   "execution_count": 17,
   "metadata": {},
   "outputs": [
    {
     "data": {
      "text/plain": [
       "count    14876.000000\n",
       "mean         0.670441\n",
       "std          0.408159\n",
       "min          0.030002\n",
       "25%          0.395297\n",
       "50%          0.555517\n",
       "75%          0.857034\n",
       "max          3.731596\n",
       "Name: active_power, dtype: float64"
      ]
     },
     "execution_count": 17,
     "metadata": {},
     "output_type": "execute_result"
    }
   ],
   "source": [
    "df_arc['active_power'].describe()"
   ]
  },
  {
   "cell_type": "markdown",
   "metadata": {},
   "source": [
    "`Active power` distribution is skewed to the right due to outliers. The average active power is 0.67, the standard deviation is 0.41."
   ]
  },
  {
   "cell_type": "code",
   "execution_count": 18,
   "metadata": {},
   "outputs": [
    {
     "data": {
      "image/png": "[encoded data removed]",
      "text/plain": [
       "<Figure size 1080x648 with 2 Axes>"
      ]
     },
     "metadata": {
      "needs_background": "light"
     },
     "output_type": "display_data"
    }
   ],
   "source": [
    "graph(df_arc['reactive_power'])"
   ]
  },
  {
   "cell_type": "markdown",
   "metadata": {},
   "source": [
    "There is an outlier with a negative value in the data, which makes the distribution plot unreadable. Let's try to create a graph without the outlier."
   ]
  },
  {
   "cell_type": "code",
   "execution_count": 19,
   "metadata": {},
   "outputs": [
    {
     "data": {
      "image/png": "[encoded data removed]",
      "text/plain": [
       "<Figure size 1080x648 with 2 Axes>"
      ]
     },
     "metadata": {
      "needs_background": "light"
     },
     "output_type": "display_data"
    }
   ],
   "source": [
    "graph(df_arc['reactive_power'][df_arc['reactive_power'] > 0])"
   ]
  },
  {
   "cell_type": "markdown",
   "metadata": {},
   "source": [
    "The `reactive power` distribution is also skewed to the right. The average value of reactive power is 0.5, the standard deviation is 0.31."
   ]
  },
  {
   "cell_type": "markdown",
   "metadata": {},
   "source": [
    "Before we move forward, we need to get rid of the batch with a negative reactive power."
   ]
  },
  {
   "cell_type": "markdown",
   "metadata": {},
   "source": [
    "### Bulk material feed data (volume)"
   ]
  },
  {
   "cell_type": "code",
   "execution_count": 20,
   "metadata": {
    "scrolled": true
   },
   "outputs": [
    {
     "data": {
      "text/html": [
       "<div>\n",
       "<style scoped>\n",
       "    .dataframe tbody tr th:only-of-type {\n",
       "        vertical-align: middle;\n",
       "    }\n",
       "\n",
       "    .dataframe tbody tr th {\n",
       "        vertical-align: top;\n",
       "    }\n",
       "\n",
       "    .dataframe thead th {\n",
       "        text-align: right;\n",
       "    }\n",
       "</style>\n",
       "<table border=\"1\" class=\"dataframe\">\n",
       "  <thead>\n",
       "    <tr style=\"text-align: right;\">\n",
       "      <th></th>\n",
       "      <th>Bulk 1</th>\n",
       "      <th>Bulk 2</th>\n",
       "      <th>Bulk 3</th>\n",
       "      <th>Bulk 4</th>\n",
       "      <th>Bulk 5</th>\n",
       "      <th>Bulk 6</th>\n",
       "      <th>Bulk 7</th>\n",
       "      <th>Bulk 8</th>\n",
       "      <th>Bulk 9</th>\n",
       "      <th>Bulk 10</th>\n",
       "      <th>Bulk 11</th>\n",
       "      <th>Bulk 12</th>\n",
       "      <th>Bulk 13</th>\n",
       "      <th>Bulk 14</th>\n",
       "      <th>Bulk 15</th>\n",
       "    </tr>\n",
       "    <tr>\n",
       "      <th>key</th>\n",
       "      <th></th>\n",
       "      <th></th>\n",
       "      <th></th>\n",
       "      <th></th>\n",
       "      <th></th>\n",
       "      <th></th>\n",
       "      <th></th>\n",
       "      <th></th>\n",
       "      <th></th>\n",
       "      <th></th>\n",
       "      <th></th>\n",
       "      <th></th>\n",
       "      <th></th>\n",
       "      <th></th>\n",
       "      <th></th>\n",
       "    </tr>\n",
       "  </thead>\n",
       "  <tbody>\n",
       "    <tr>\n",
       "      <th>1</th>\n",
       "      <td>NaN</td>\n",
       "      <td>NaN</td>\n",
       "      <td>NaN</td>\n",
       "      <td>43.0</td>\n",
       "      <td>NaN</td>\n",
       "      <td>NaN</td>\n",
       "      <td>NaN</td>\n",
       "      <td>NaN</td>\n",
       "      <td>NaN</td>\n",
       "      <td>NaN</td>\n",
       "      <td>NaN</td>\n",
       "      <td>206.0</td>\n",
       "      <td>NaN</td>\n",
       "      <td>150.0</td>\n",
       "      <td>154.0</td>\n",
       "    </tr>\n",
       "    <tr>\n",
       "      <th>2</th>\n",
       "      <td>NaN</td>\n",
       "      <td>NaN</td>\n",
       "      <td>NaN</td>\n",
       "      <td>73.0</td>\n",
       "      <td>NaN</td>\n",
       "      <td>NaN</td>\n",
       "      <td>NaN</td>\n",
       "      <td>NaN</td>\n",
       "      <td>NaN</td>\n",
       "      <td>NaN</td>\n",
       "      <td>NaN</td>\n",
       "      <td>206.0</td>\n",
       "      <td>NaN</td>\n",
       "      <td>149.0</td>\n",
       "      <td>154.0</td>\n",
       "    </tr>\n",
       "    <tr>\n",
       "      <th>3</th>\n",
       "      <td>NaN</td>\n",
       "      <td>NaN</td>\n",
       "      <td>NaN</td>\n",
       "      <td>34.0</td>\n",
       "      <td>NaN</td>\n",
       "      <td>NaN</td>\n",
       "      <td>NaN</td>\n",
       "      <td>NaN</td>\n",
       "      <td>NaN</td>\n",
       "      <td>NaN</td>\n",
       "      <td>NaN</td>\n",
       "      <td>205.0</td>\n",
       "      <td>NaN</td>\n",
       "      <td>152.0</td>\n",
       "      <td>153.0</td>\n",
       "    </tr>\n",
       "    <tr>\n",
       "      <th>4</th>\n",
       "      <td>NaN</td>\n",
       "      <td>NaN</td>\n",
       "      <td>NaN</td>\n",
       "      <td>81.0</td>\n",
       "      <td>NaN</td>\n",
       "      <td>NaN</td>\n",
       "      <td>NaN</td>\n",
       "      <td>NaN</td>\n",
       "      <td>NaN</td>\n",
       "      <td>NaN</td>\n",
       "      <td>NaN</td>\n",
       "      <td>207.0</td>\n",
       "      <td>NaN</td>\n",
       "      <td>153.0</td>\n",
       "      <td>154.0</td>\n",
       "    </tr>\n",
       "    <tr>\n",
       "      <th>5</th>\n",
       "      <td>NaN</td>\n",
       "      <td>NaN</td>\n",
       "      <td>NaN</td>\n",
       "      <td>78.0</td>\n",
       "      <td>NaN</td>\n",
       "      <td>NaN</td>\n",
       "      <td>NaN</td>\n",
       "      <td>NaN</td>\n",
       "      <td>NaN</td>\n",
       "      <td>NaN</td>\n",
       "      <td>NaN</td>\n",
       "      <td>203.0</td>\n",
       "      <td>NaN</td>\n",
       "      <td>151.0</td>\n",
       "      <td>152.0</td>\n",
       "    </tr>\n",
       "  </tbody>\n",
       "</table>\n",
       "</div>"
      ],
      "text/plain": [
       "     Bulk 1  Bulk 2  Bulk 3  Bulk 4  Bulk 5  Bulk 6  Bulk 7  Bulk 8  Bulk 9  \\\n",
       "key                                                                           \n",
       "1       NaN     NaN     NaN    43.0     NaN     NaN     NaN     NaN     NaN   \n",
       "2       NaN     NaN     NaN    73.0     NaN     NaN     NaN     NaN     NaN   \n",
       "3       NaN     NaN     NaN    34.0     NaN     NaN     NaN     NaN     NaN   \n",
       "4       NaN     NaN     NaN    81.0     NaN     NaN     NaN     NaN     NaN   \n",
       "5       NaN     NaN     NaN    78.0     NaN     NaN     NaN     NaN     NaN   \n",
       "\n",
       "     Bulk 10  Bulk 11  Bulk 12  Bulk 13  Bulk 14  Bulk 15  \n",
       "key                                                        \n",
       "1        NaN      NaN    206.0      NaN    150.0    154.0  \n",
       "2        NaN      NaN    206.0      NaN    149.0    154.0  \n",
       "3        NaN      NaN    205.0      NaN    152.0    153.0  \n",
       "4        NaN      NaN    207.0      NaN    153.0    154.0  \n",
       "5        NaN      NaN    203.0      NaN    151.0    152.0  "
      ]
     },
     "execution_count": 20,
     "metadata": {},
     "output_type": "execute_result"
    }
   ],
   "source": [
    "df_bulk.head(5)"
   ]
  },
  {
   "cell_type": "code",
   "execution_count": 21,
   "metadata": {
    "scrolled": false
   },
   "outputs": [
    {
     "name": "stdout",
     "output_type": "stream",
     "text": [
      "<class 'pandas.core.frame.DataFrame'>\n",
      "Int64Index: 3129 entries, 1 to 3241\n",
      "Data columns (total 15 columns):\n",
      " #   Column   Non-Null Count  Dtype  \n",
      "---  ------   --------------  -----  \n",
      " 0   Bulk 1   252 non-null    float64\n",
      " 1   Bulk 2   22 non-null     float64\n",
      " 2   Bulk 3   1298 non-null   float64\n",
      " 3   Bulk 4   1014 non-null   float64\n",
      " 4   Bulk 5   77 non-null     float64\n",
      " 5   Bulk 6   576 non-null    float64\n",
      " 6   Bulk 7   25 non-null     float64\n",
      " 7   Bulk 8   1 non-null      float64\n",
      " 8   Bulk 9   19 non-null     float64\n",
      " 9   Bulk 10  176 non-null    float64\n",
      " 10  Bulk 11  177 non-null    float64\n",
      " 11  Bulk 12  2450 non-null   float64\n",
      " 12  Bulk 13  18 non-null     float64\n",
      " 13  Bulk 14  2806 non-null   float64\n",
      " 14  Bulk 15  2248 non-null   float64\n",
      "dtypes: float64(15)\n",
      "memory usage: 391.1 KB\n"
     ]
    }
   ],
   "source": [
    "df_bulk.info()"
   ]
  },
  {
   "cell_type": "markdown",
   "metadata": {},
   "source": [
    "Let's convert the column names to lowercase and also convert them to snake case."
   ]
  },
  {
   "cell_type": "code",
   "execution_count": 22,
   "metadata": {},
   "outputs": [],
   "source": [
    "df_bulk.columns = df_bulk.columns.str.replace(r\"([A-Z])\", r\" \\1\", regex=True).str.lower().str.replace(' ', '_').str[1:]"
   ]
  },
  {
   "cell_type": "code",
   "execution_count": 23,
   "metadata": {
    "scrolled": true
   },
   "outputs": [
    {
     "data": {
      "text/html": [
       "<div>\n",
       "<style scoped>\n",
       "    .dataframe tbody tr th:only-of-type {\n",
       "        vertical-align: middle;\n",
       "    }\n",
       "\n",
       "    .dataframe tbody tr th {\n",
       "        vertical-align: top;\n",
       "    }\n",
       "\n",
       "    .dataframe thead th {\n",
       "        text-align: right;\n",
       "    }\n",
       "</style>\n",
       "<table border=\"1\" class=\"dataframe\">\n",
       "  <thead>\n",
       "    <tr style=\"text-align: right;\">\n",
       "      <th></th>\n",
       "      <th>bulk_1</th>\n",
       "      <th>bulk_2</th>\n",
       "      <th>bulk_3</th>\n",
       "      <th>bulk_4</th>\n",
       "      <th>bulk_5</th>\n",
       "      <th>bulk_6</th>\n",
       "      <th>bulk_7</th>\n",
       "      <th>bulk_8</th>\n",
       "      <th>bulk_9</th>\n",
       "      <th>bulk_10</th>\n",
       "      <th>bulk_11</th>\n",
       "      <th>bulk_12</th>\n",
       "      <th>bulk_13</th>\n",
       "      <th>bulk_14</th>\n",
       "      <th>bulk_15</th>\n",
       "    </tr>\n",
       "    <tr>\n",
       "      <th>key</th>\n",
       "      <th></th>\n",
       "      <th></th>\n",
       "      <th></th>\n",
       "      <th></th>\n",
       "      <th></th>\n",
       "      <th></th>\n",
       "      <th></th>\n",
       "      <th></th>\n",
       "      <th></th>\n",
       "      <th></th>\n",
       "      <th></th>\n",
       "      <th></th>\n",
       "      <th></th>\n",
       "      <th></th>\n",
       "      <th></th>\n",
       "    </tr>\n",
       "  </thead>\n",
       "  <tbody>\n",
       "    <tr>\n",
       "      <th>1</th>\n",
       "      <td>NaN</td>\n",
       "      <td>NaN</td>\n",
       "      <td>NaN</td>\n",
       "      <td>43.0</td>\n",
       "      <td>NaN</td>\n",
       "      <td>NaN</td>\n",
       "      <td>NaN</td>\n",
       "      <td>NaN</td>\n",
       "      <td>NaN</td>\n",
       "      <td>NaN</td>\n",
       "      <td>NaN</td>\n",
       "      <td>206.0</td>\n",
       "      <td>NaN</td>\n",
       "      <td>150.0</td>\n",
       "      <td>154.0</td>\n",
       "    </tr>\n",
       "    <tr>\n",
       "      <th>2</th>\n",
       "      <td>NaN</td>\n",
       "      <td>NaN</td>\n",
       "      <td>NaN</td>\n",
       "      <td>73.0</td>\n",
       "      <td>NaN</td>\n",
       "      <td>NaN</td>\n",
       "      <td>NaN</td>\n",
       "      <td>NaN</td>\n",
       "      <td>NaN</td>\n",
       "      <td>NaN</td>\n",
       "      <td>NaN</td>\n",
       "      <td>206.0</td>\n",
       "      <td>NaN</td>\n",
       "      <td>149.0</td>\n",
       "      <td>154.0</td>\n",
       "    </tr>\n",
       "    <tr>\n",
       "      <th>3</th>\n",
       "      <td>NaN</td>\n",
       "      <td>NaN</td>\n",
       "      <td>NaN</td>\n",
       "      <td>34.0</td>\n",
       "      <td>NaN</td>\n",
       "      <td>NaN</td>\n",
       "      <td>NaN</td>\n",
       "      <td>NaN</td>\n",
       "      <td>NaN</td>\n",
       "      <td>NaN</td>\n",
       "      <td>NaN</td>\n",
       "      <td>205.0</td>\n",
       "      <td>NaN</td>\n",
       "      <td>152.0</td>\n",
       "      <td>153.0</td>\n",
       "    </tr>\n",
       "    <tr>\n",
       "      <th>4</th>\n",
       "      <td>NaN</td>\n",
       "      <td>NaN</td>\n",
       "      <td>NaN</td>\n",
       "      <td>81.0</td>\n",
       "      <td>NaN</td>\n",
       "      <td>NaN</td>\n",
       "      <td>NaN</td>\n",
       "      <td>NaN</td>\n",
       "      <td>NaN</td>\n",
       "      <td>NaN</td>\n",
       "      <td>NaN</td>\n",
       "      <td>207.0</td>\n",
       "      <td>NaN</td>\n",
       "      <td>153.0</td>\n",
       "      <td>154.0</td>\n",
       "    </tr>\n",
       "    <tr>\n",
       "      <th>5</th>\n",
       "      <td>NaN</td>\n",
       "      <td>NaN</td>\n",
       "      <td>NaN</td>\n",
       "      <td>78.0</td>\n",
       "      <td>NaN</td>\n",
       "      <td>NaN</td>\n",
       "      <td>NaN</td>\n",
       "      <td>NaN</td>\n",
       "      <td>NaN</td>\n",
       "      <td>NaN</td>\n",
       "      <td>NaN</td>\n",
       "      <td>203.0</td>\n",
       "      <td>NaN</td>\n",
       "      <td>151.0</td>\n",
       "      <td>152.0</td>\n",
       "    </tr>\n",
       "  </tbody>\n",
       "</table>\n",
       "</div>"
      ],
      "text/plain": [
       "     bulk_1  bulk_2  bulk_3  bulk_4  bulk_5  bulk_6  bulk_7  bulk_8  bulk_9  \\\n",
       "key                                                                           \n",
       "1       NaN     NaN     NaN    43.0     NaN     NaN     NaN     NaN     NaN   \n",
       "2       NaN     NaN     NaN    73.0     NaN     NaN     NaN     NaN     NaN   \n",
       "3       NaN     NaN     NaN    34.0     NaN     NaN     NaN     NaN     NaN   \n",
       "4       NaN     NaN     NaN    81.0     NaN     NaN     NaN     NaN     NaN   \n",
       "5       NaN     NaN     NaN    78.0     NaN     NaN     NaN     NaN     NaN   \n",
       "\n",
       "     bulk_10  bulk_11  bulk_12  bulk_13  bulk_14  bulk_15  \n",
       "key                                                        \n",
       "1        NaN      NaN    206.0      NaN    150.0    154.0  \n",
       "2        NaN      NaN    206.0      NaN    149.0    154.0  \n",
       "3        NaN      NaN    205.0      NaN    152.0    153.0  \n",
       "4        NaN      NaN    207.0      NaN    153.0    154.0  \n",
       "5        NaN      NaN    203.0      NaN    151.0    152.0  "
      ]
     },
     "execution_count": 23,
     "metadata": {},
     "output_type": "execute_result"
    }
   ],
   "source": [
    "df_bulk.head(5)"
   ]
  },
  {
   "cell_type": "code",
   "execution_count": 24,
   "metadata": {},
   "outputs": [
    {
     "data": {
      "text/html": [
       "<div>\n",
       "<style scoped>\n",
       "    .dataframe tbody tr th:only-of-type {\n",
       "        vertical-align: middle;\n",
       "    }\n",
       "\n",
       "    .dataframe tbody tr th {\n",
       "        vertical-align: top;\n",
       "    }\n",
       "\n",
       "    .dataframe thead th {\n",
       "        text-align: right;\n",
       "    }\n",
       "</style>\n",
       "<table border=\"1\" class=\"dataframe\">\n",
       "  <thead>\n",
       "    <tr style=\"text-align: right;\">\n",
       "      <th></th>\n",
       "      <th>count</th>\n",
       "      <th>mean</th>\n",
       "      <th>std</th>\n",
       "      <th>min</th>\n",
       "      <th>25%</th>\n",
       "      <th>50%</th>\n",
       "      <th>75%</th>\n",
       "      <th>max</th>\n",
       "    </tr>\n",
       "  </thead>\n",
       "  <tbody>\n",
       "    <tr>\n",
       "      <th>bulk_1</th>\n",
       "      <td>252.0</td>\n",
       "      <td>39.242063</td>\n",
       "      <td>18.277654</td>\n",
       "      <td>10.0</td>\n",
       "      <td>27.00</td>\n",
       "      <td>31.0</td>\n",
       "      <td>46.00</td>\n",
       "      <td>185.0</td>\n",
       "    </tr>\n",
       "    <tr>\n",
       "      <th>bulk_2</th>\n",
       "      <td>22.0</td>\n",
       "      <td>253.045455</td>\n",
       "      <td>21.180578</td>\n",
       "      <td>228.0</td>\n",
       "      <td>242.00</td>\n",
       "      <td>251.5</td>\n",
       "      <td>257.75</td>\n",
       "      <td>325.0</td>\n",
       "    </tr>\n",
       "    <tr>\n",
       "      <th>bulk_3</th>\n",
       "      <td>1298.0</td>\n",
       "      <td>113.879045</td>\n",
       "      <td>75.483494</td>\n",
       "      <td>6.0</td>\n",
       "      <td>58.00</td>\n",
       "      <td>97.5</td>\n",
       "      <td>152.00</td>\n",
       "      <td>454.0</td>\n",
       "    </tr>\n",
       "    <tr>\n",
       "      <th>bulk_4</th>\n",
       "      <td>1014.0</td>\n",
       "      <td>104.394477</td>\n",
       "      <td>48.184126</td>\n",
       "      <td>12.0</td>\n",
       "      <td>72.00</td>\n",
       "      <td>102.0</td>\n",
       "      <td>133.00</td>\n",
       "      <td>281.0</td>\n",
       "    </tr>\n",
       "    <tr>\n",
       "      <th>bulk_5</th>\n",
       "      <td>77.0</td>\n",
       "      <td>107.025974</td>\n",
       "      <td>81.790646</td>\n",
       "      <td>11.0</td>\n",
       "      <td>70.00</td>\n",
       "      <td>86.0</td>\n",
       "      <td>132.00</td>\n",
       "      <td>603.0</td>\n",
       "    </tr>\n",
       "    <tr>\n",
       "      <th>bulk_6</th>\n",
       "      <td>576.0</td>\n",
       "      <td>118.925347</td>\n",
       "      <td>72.057776</td>\n",
       "      <td>17.0</td>\n",
       "      <td>69.75</td>\n",
       "      <td>100.0</td>\n",
       "      <td>157.00</td>\n",
       "      <td>503.0</td>\n",
       "    </tr>\n",
       "    <tr>\n",
       "      <th>bulk_7</th>\n",
       "      <td>25.0</td>\n",
       "      <td>305.600000</td>\n",
       "      <td>191.022904</td>\n",
       "      <td>47.0</td>\n",
       "      <td>155.00</td>\n",
       "      <td>298.0</td>\n",
       "      <td>406.00</td>\n",
       "      <td>772.0</td>\n",
       "    </tr>\n",
       "    <tr>\n",
       "      <th>bulk_8</th>\n",
       "      <td>1.0</td>\n",
       "      <td>49.000000</td>\n",
       "      <td>NaN</td>\n",
       "      <td>49.0</td>\n",
       "      <td>49.00</td>\n",
       "      <td>49.0</td>\n",
       "      <td>49.00</td>\n",
       "      <td>49.0</td>\n",
       "    </tr>\n",
       "    <tr>\n",
       "      <th>bulk_9</th>\n",
       "      <td>19.0</td>\n",
       "      <td>76.315789</td>\n",
       "      <td>21.720581</td>\n",
       "      <td>63.0</td>\n",
       "      <td>66.00</td>\n",
       "      <td>68.0</td>\n",
       "      <td>70.50</td>\n",
       "      <td>147.0</td>\n",
       "    </tr>\n",
       "    <tr>\n",
       "      <th>bulk_10</th>\n",
       "      <td>176.0</td>\n",
       "      <td>83.284091</td>\n",
       "      <td>26.060347</td>\n",
       "      <td>24.0</td>\n",
       "      <td>64.00</td>\n",
       "      <td>86.5</td>\n",
       "      <td>102.00</td>\n",
       "      <td>159.0</td>\n",
       "    </tr>\n",
       "    <tr>\n",
       "      <th>bulk_11</th>\n",
       "      <td>177.0</td>\n",
       "      <td>76.819209</td>\n",
       "      <td>59.655365</td>\n",
       "      <td>8.0</td>\n",
       "      <td>25.00</td>\n",
       "      <td>64.0</td>\n",
       "      <td>106.00</td>\n",
       "      <td>313.0</td>\n",
       "    </tr>\n",
       "    <tr>\n",
       "      <th>bulk_12</th>\n",
       "      <td>2450.0</td>\n",
       "      <td>260.471020</td>\n",
       "      <td>120.649269</td>\n",
       "      <td>53.0</td>\n",
       "      <td>204.00</td>\n",
       "      <td>208.0</td>\n",
       "      <td>316.00</td>\n",
       "      <td>1849.0</td>\n",
       "    </tr>\n",
       "    <tr>\n",
       "      <th>bulk_13</th>\n",
       "      <td>18.0</td>\n",
       "      <td>181.111111</td>\n",
       "      <td>46.088009</td>\n",
       "      <td>151.0</td>\n",
       "      <td>153.25</td>\n",
       "      <td>155.5</td>\n",
       "      <td>203.50</td>\n",
       "      <td>305.0</td>\n",
       "    </tr>\n",
       "    <tr>\n",
       "      <th>bulk_14</th>\n",
       "      <td>2806.0</td>\n",
       "      <td>170.284747</td>\n",
       "      <td>65.868652</td>\n",
       "      <td>16.0</td>\n",
       "      <td>119.00</td>\n",
       "      <td>151.0</td>\n",
       "      <td>205.75</td>\n",
       "      <td>636.0</td>\n",
       "    </tr>\n",
       "    <tr>\n",
       "      <th>bulk_15</th>\n",
       "      <td>2248.0</td>\n",
       "      <td>160.513345</td>\n",
       "      <td>51.765319</td>\n",
       "      <td>1.0</td>\n",
       "      <td>105.00</td>\n",
       "      <td>160.0</td>\n",
       "      <td>205.00</td>\n",
       "      <td>405.0</td>\n",
       "    </tr>\n",
       "  </tbody>\n",
       "</table>\n",
       "</div>"
      ],
      "text/plain": [
       "          count        mean         std    min     25%    50%     75%     max\n",
       "bulk_1    252.0   39.242063   18.277654   10.0   27.00   31.0   46.00   185.0\n",
       "bulk_2     22.0  253.045455   21.180578  228.0  242.00  251.5  257.75   325.0\n",
       "bulk_3   1298.0  113.879045   75.483494    6.0   58.00   97.5  152.00   454.0\n",
       "bulk_4   1014.0  104.394477   48.184126   12.0   72.00  102.0  133.00   281.0\n",
       "bulk_5     77.0  107.025974   81.790646   11.0   70.00   86.0  132.00   603.0\n",
       "bulk_6    576.0  118.925347   72.057776   17.0   69.75  100.0  157.00   503.0\n",
       "bulk_7     25.0  305.600000  191.022904   47.0  155.00  298.0  406.00   772.0\n",
       "bulk_8      1.0   49.000000         NaN   49.0   49.00   49.0   49.00    49.0\n",
       "bulk_9     19.0   76.315789   21.720581   63.0   66.00   68.0   70.50   147.0\n",
       "bulk_10   176.0   83.284091   26.060347   24.0   64.00   86.5  102.00   159.0\n",
       "bulk_11   177.0   76.819209   59.655365    8.0   25.00   64.0  106.00   313.0\n",
       "bulk_12  2450.0  260.471020  120.649269   53.0  204.00  208.0  316.00  1849.0\n",
       "bulk_13    18.0  181.111111   46.088009  151.0  153.25  155.5  203.50   305.0\n",
       "bulk_14  2806.0  170.284747   65.868652   16.0  119.00  151.0  205.75   636.0\n",
       "bulk_15  2248.0  160.513345   51.765319    1.0  105.00  160.0  205.00   405.0"
      ]
     },
     "execution_count": 24,
     "metadata": {},
     "output_type": "execute_result"
    }
   ],
   "source": [
    "df_bulk.describe().T"
   ]
  },
  {
   "cell_type": "code",
   "execution_count": 25,
   "metadata": {},
   "outputs": [
    {
     "data": {
      "text/plain": [
       "bulk_1     2877\n",
       "bulk_2     3107\n",
       "bulk_3     1831\n",
       "bulk_4     2115\n",
       "bulk_5     3052\n",
       "bulk_6     2553\n",
       "bulk_7     3104\n",
       "bulk_8     3128\n",
       "bulk_9     3110\n",
       "bulk_10    2953\n",
       "bulk_11    2952\n",
       "bulk_12     679\n",
       "bulk_13    3111\n",
       "bulk_14     323\n",
       "bulk_15     881\n",
       "dtype: int64"
      ]
     },
     "execution_count": 25,
     "metadata": {},
     "output_type": "execute_result"
    }
   ],
   "source": [
    "df_bulk.isna().sum()"
   ]
  },
  {
   "cell_type": "code",
   "execution_count": 26,
   "metadata": {},
   "outputs": [
    {
     "data": {
      "text/plain": [
       "80"
      ]
     },
     "execution_count": 26,
     "metadata": {},
     "output_type": "execute_result"
    }
   ],
   "source": [
    "df_bulk.duplicated().sum()"
   ]
  },
  {
   "cell_type": "markdown",
   "metadata": {},
   "source": [
    "All columns in the table contain missing values. The nature of the missing values is known from the customer - the material was not added. Also, 80 duplicate values were found."
   ]
  },
  {
   "cell_type": "markdown",
   "metadata": {},
   "source": [
    "Let's look at the number of unique keys in the table."
   ]
  },
  {
   "cell_type": "code",
   "execution_count": 27,
   "metadata": {},
   "outputs": [
    {
     "data": {
      "text/plain": [
       "3129"
      ]
     },
     "execution_count": 27,
     "metadata": {},
     "output_type": "execute_result"
    }
   ],
   "source": [
    "df_bulk.index.nunique()"
   ]
  },
  {
   "cell_type": "markdown",
   "metadata": {},
   "source": [
    "The table contains 3129 unique batches."
   ]
  },
  {
   "cell_type": "markdown",
   "metadata": {},
   "source": [
    "Let's make histograms of the supply of bulk materials and look at the distributions."
   ]
  },
  {
   "cell_type": "code",
   "execution_count": 28,
   "metadata": {
    "scrolled": false
   },
   "outputs": [
    {
     "data": {
      "image/png": "[encoded data removed]",
      "text/plain": [
       "<Figure size 1080x720 with 16 Axes>"
      ]
     },
     "metadata": {
      "needs_background": "light"
     },
     "output_type": "display_data"
    }
   ],
   "source": [
    "df_bulk.hist(bins=50, figsize=(15,10), edgecolor='black', linewidth=1)\n",
    "plt.show()"
   ]
  },
  {
   "cell_type": "markdown",
   "metadata": {},
   "source": [
    "All the graphs are different. For some materials, the distribution resembles normal (`bulk_4`) or skewed to the right (`bulk_3` and `bulk_6`). The rest of the materials have a large variance and there are outliers. It is also worth noting that the `bulk_8` material was used only once."
   ]
  },
  {
   "cell_type": "markdown",
   "metadata": {},
   "source": [
    "### Bulk materials feeding data (time)"
   ]
  },
  {
   "cell_type": "code",
   "execution_count": 29,
   "metadata": {
    "scrolled": true
   },
   "outputs": [
    {
     "data": {
      "text/html": [
       "<div>\n",
       "<style scoped>\n",
       "    .dataframe tbody tr th:only-of-type {\n",
       "        vertical-align: middle;\n",
       "    }\n",
       "\n",
       "    .dataframe tbody tr th {\n",
       "        vertical-align: top;\n",
       "    }\n",
       "\n",
       "    .dataframe thead th {\n",
       "        text-align: right;\n",
       "    }\n",
       "</style>\n",
       "<table border=\"1\" class=\"dataframe\">\n",
       "  <thead>\n",
       "    <tr style=\"text-align: right;\">\n",
       "      <th></th>\n",
       "      <th>Bulk 1</th>\n",
       "      <th>Bulk 2</th>\n",
       "      <th>Bulk 3</th>\n",
       "      <th>Bulk 4</th>\n",
       "      <th>Bulk 5</th>\n",
       "      <th>Bulk 6</th>\n",
       "      <th>Bulk 7</th>\n",
       "      <th>Bulk 8</th>\n",
       "      <th>Bulk 9</th>\n",
       "      <th>Bulk 10</th>\n",
       "      <th>Bulk 11</th>\n",
       "      <th>Bulk 12</th>\n",
       "      <th>Bulk 13</th>\n",
       "      <th>Bulk 14</th>\n",
       "      <th>Bulk 15</th>\n",
       "    </tr>\n",
       "    <tr>\n",
       "      <th>key</th>\n",
       "      <th></th>\n",
       "      <th></th>\n",
       "      <th></th>\n",
       "      <th></th>\n",
       "      <th></th>\n",
       "      <th></th>\n",
       "      <th></th>\n",
       "      <th></th>\n",
       "      <th></th>\n",
       "      <th></th>\n",
       "      <th></th>\n",
       "      <th></th>\n",
       "      <th></th>\n",
       "      <th></th>\n",
       "      <th></th>\n",
       "    </tr>\n",
       "  </thead>\n",
       "  <tbody>\n",
       "    <tr>\n",
       "      <th>1</th>\n",
       "      <td>NaT</td>\n",
       "      <td>NaT</td>\n",
       "      <td>NaT</td>\n",
       "      <td>2019-05-03 11:21:30</td>\n",
       "      <td>NaT</td>\n",
       "      <td>NaT</td>\n",
       "      <td>NaT</td>\n",
       "      <td>NaT</td>\n",
       "      <td>NaT</td>\n",
       "      <td>NaT</td>\n",
       "      <td>NaT</td>\n",
       "      <td>2019-05-03 11:03:52</td>\n",
       "      <td>NaT</td>\n",
       "      <td>2019-05-03 11:03:52</td>\n",
       "      <td>2019-05-03 11:03:52</td>\n",
       "    </tr>\n",
       "    <tr>\n",
       "      <th>2</th>\n",
       "      <td>NaT</td>\n",
       "      <td>NaT</td>\n",
       "      <td>NaT</td>\n",
       "      <td>2019-05-03 11:46:38</td>\n",
       "      <td>NaT</td>\n",
       "      <td>NaT</td>\n",
       "      <td>NaT</td>\n",
       "      <td>NaT</td>\n",
       "      <td>NaT</td>\n",
       "      <td>NaT</td>\n",
       "      <td>NaT</td>\n",
       "      <td>2019-05-03 11:40:20</td>\n",
       "      <td>NaT</td>\n",
       "      <td>2019-05-03 11:40:20</td>\n",
       "      <td>2019-05-03 11:40:20</td>\n",
       "    </tr>\n",
       "    <tr>\n",
       "      <th>3</th>\n",
       "      <td>NaT</td>\n",
       "      <td>NaT</td>\n",
       "      <td>NaT</td>\n",
       "      <td>2019-05-03 12:31:06</td>\n",
       "      <td>NaT</td>\n",
       "      <td>NaT</td>\n",
       "      <td>NaT</td>\n",
       "      <td>NaT</td>\n",
       "      <td>NaT</td>\n",
       "      <td>NaT</td>\n",
       "      <td>NaT</td>\n",
       "      <td>2019-05-03 12:09:40</td>\n",
       "      <td>NaT</td>\n",
       "      <td>2019-05-03 12:09:40</td>\n",
       "      <td>2019-05-03 12:09:40</td>\n",
       "    </tr>\n",
       "    <tr>\n",
       "      <th>4</th>\n",
       "      <td>NaT</td>\n",
       "      <td>NaT</td>\n",
       "      <td>NaT</td>\n",
       "      <td>2019-05-03 12:48:43</td>\n",
       "      <td>NaT</td>\n",
       "      <td>NaT</td>\n",
       "      <td>NaT</td>\n",
       "      <td>NaT</td>\n",
       "      <td>NaT</td>\n",
       "      <td>NaT</td>\n",
       "      <td>NaT</td>\n",
       "      <td>2019-05-03 12:41:24</td>\n",
       "      <td>NaT</td>\n",
       "      <td>2019-05-03 12:41:24</td>\n",
       "      <td>2019-05-03 12:41:24</td>\n",
       "    </tr>\n",
       "    <tr>\n",
       "      <th>5</th>\n",
       "      <td>NaT</td>\n",
       "      <td>NaT</td>\n",
       "      <td>NaT</td>\n",
       "      <td>2019-05-03 13:18:50</td>\n",
       "      <td>NaT</td>\n",
       "      <td>NaT</td>\n",
       "      <td>NaT</td>\n",
       "      <td>NaT</td>\n",
       "      <td>NaT</td>\n",
       "      <td>NaT</td>\n",
       "      <td>NaT</td>\n",
       "      <td>2019-05-03 13:12:56</td>\n",
       "      <td>NaT</td>\n",
       "      <td>2019-05-03 13:12:56</td>\n",
       "      <td>2019-05-03 13:12:56</td>\n",
       "    </tr>\n",
       "  </tbody>\n",
       "</table>\n",
       "</div>"
      ],
      "text/plain": [
       "    Bulk 1 Bulk 2 Bulk 3              Bulk 4 Bulk 5 Bulk 6 Bulk 7 Bulk 8  \\\n",
       "key                                                                        \n",
       "1      NaT    NaT    NaT 2019-05-03 11:21:30    NaT    NaT    NaT    NaT   \n",
       "2      NaT    NaT    NaT 2019-05-03 11:46:38    NaT    NaT    NaT    NaT   \n",
       "3      NaT    NaT    NaT 2019-05-03 12:31:06    NaT    NaT    NaT    NaT   \n",
       "4      NaT    NaT    NaT 2019-05-03 12:48:43    NaT    NaT    NaT    NaT   \n",
       "5      NaT    NaT    NaT 2019-05-03 13:18:50    NaT    NaT    NaT    NaT   \n",
       "\n",
       "    Bulk 9 Bulk 10 Bulk 11             Bulk 12 Bulk 13             Bulk 14  \\\n",
       "key                                                                          \n",
       "1      NaT     NaT     NaT 2019-05-03 11:03:52     NaT 2019-05-03 11:03:52   \n",
       "2      NaT     NaT     NaT 2019-05-03 11:40:20     NaT 2019-05-03 11:40:20   \n",
       "3      NaT     NaT     NaT 2019-05-03 12:09:40     NaT 2019-05-03 12:09:40   \n",
       "4      NaT     NaT     NaT 2019-05-03 12:41:24     NaT 2019-05-03 12:41:24   \n",
       "5      NaT     NaT     NaT 2019-05-03 13:12:56     NaT 2019-05-03 13:12:56   \n",
       "\n",
       "                Bulk 15  \n",
       "key                      \n",
       "1   2019-05-03 11:03:52  \n",
       "2   2019-05-03 11:40:20  \n",
       "3   2019-05-03 12:09:40  \n",
       "4   2019-05-03 12:41:24  \n",
       "5   2019-05-03 13:12:56  "
      ]
     },
     "execution_count": 29,
     "metadata": {},
     "output_type": "execute_result"
    }
   ],
   "source": [
    "df_bulk_time.head(5)"
   ]
  },
  {
   "cell_type": "code",
   "execution_count": 30,
   "metadata": {},
   "outputs": [
    {
     "name": "stdout",
     "output_type": "stream",
     "text": [
      "<class 'pandas.core.frame.DataFrame'>\n",
      "Int64Index: 3129 entries, 1 to 3241\n",
      "Data columns (total 15 columns):\n",
      " #   Column   Non-Null Count  Dtype         \n",
      "---  ------   --------------  -----         \n",
      " 0   Bulk 1   252 non-null    datetime64[ns]\n",
      " 1   Bulk 2   22 non-null     datetime64[ns]\n",
      " 2   Bulk 3   1298 non-null   datetime64[ns]\n",
      " 3   Bulk 4   1014 non-null   datetime64[ns]\n",
      " 4   Bulk 5   77 non-null     datetime64[ns]\n",
      " 5   Bulk 6   576 non-null    datetime64[ns]\n",
      " 6   Bulk 7   25 non-null     datetime64[ns]\n",
      " 7   Bulk 8   1 non-null      datetime64[ns]\n",
      " 8   Bulk 9   19 non-null     datetime64[ns]\n",
      " 9   Bulk 10  176 non-null    datetime64[ns]\n",
      " 10  Bulk 11  177 non-null    datetime64[ns]\n",
      " 11  Bulk 12  2450 non-null   datetime64[ns]\n",
      " 12  Bulk 13  18 non-null     datetime64[ns]\n",
      " 13  Bulk 14  2806 non-null   datetime64[ns]\n",
      " 14  Bulk 15  2248 non-null   datetime64[ns]\n",
      "dtypes: datetime64[ns](15)\n",
      "memory usage: 391.1 KB\n"
     ]
    }
   ],
   "source": [
    "df_bulk_time.info()"
   ]
  },
  {
   "cell_type": "code",
   "execution_count": 31,
   "metadata": {},
   "outputs": [
    {
     "data": {
      "text/html": [
       "<div>\n",
       "<style scoped>\n",
       "    .dataframe tbody tr th:only-of-type {\n",
       "        vertical-align: middle;\n",
       "    }\n",
       "\n",
       "    .dataframe tbody tr th {\n",
       "        vertical-align: top;\n",
       "    }\n",
       "\n",
       "    .dataframe thead th {\n",
       "        text-align: right;\n",
       "    }\n",
       "</style>\n",
       "<table border=\"1\" class=\"dataframe\">\n",
       "  <thead>\n",
       "    <tr style=\"text-align: right;\">\n",
       "      <th></th>\n",
       "      <th>count</th>\n",
       "      <th>unique</th>\n",
       "      <th>top</th>\n",
       "      <th>freq</th>\n",
       "      <th>first</th>\n",
       "      <th>last</th>\n",
       "    </tr>\n",
       "  </thead>\n",
       "  <tbody>\n",
       "    <tr>\n",
       "      <th>Bulk 1</th>\n",
       "      <td>252</td>\n",
       "      <td>252</td>\n",
       "      <td>2019-05-03 17:50:19</td>\n",
       "      <td>1</td>\n",
       "      <td>2019-05-03 17:50:19</td>\n",
       "      <td>2019-08-30 23:01:32</td>\n",
       "    </tr>\n",
       "    <tr>\n",
       "      <th>Bulk 2</th>\n",
       "      <td>22</td>\n",
       "      <td>22</td>\n",
       "      <td>2019-05-07 08:36:19</td>\n",
       "      <td>1</td>\n",
       "      <td>2019-05-07 08:36:19</td>\n",
       "      <td>2019-08-08 17:34:38</td>\n",
       "    </tr>\n",
       "    <tr>\n",
       "      <th>Bulk 3</th>\n",
       "      <td>1298</td>\n",
       "      <td>1298</td>\n",
       "      <td>2019-05-03 20:13:36</td>\n",
       "      <td>1</td>\n",
       "      <td>2019-05-03 20:13:36</td>\n",
       "      <td>2019-08-31 23:39:11</td>\n",
       "    </tr>\n",
       "    <tr>\n",
       "      <th>Bulk 4</th>\n",
       "      <td>1014</td>\n",
       "      <td>1014</td>\n",
       "      <td>2019-05-03 11:21:30</td>\n",
       "      <td>1</td>\n",
       "      <td>2019-05-03 11:21:30</td>\n",
       "      <td>2019-08-30 17:36:30</td>\n",
       "    </tr>\n",
       "    <tr>\n",
       "      <th>Bulk 5</th>\n",
       "      <td>77</td>\n",
       "      <td>77</td>\n",
       "      <td>2019-05-07 08:36:19</td>\n",
       "      <td>1</td>\n",
       "      <td>2019-05-07 08:36:19</td>\n",
       "      <td>2019-08-28 09:01:08</td>\n",
       "    </tr>\n",
       "    <tr>\n",
       "      <th>Bulk 6</th>\n",
       "      <td>576</td>\n",
       "      <td>576</td>\n",
       "      <td>2019-05-03 18:52:57</td>\n",
       "      <td>1</td>\n",
       "      <td>2019-05-03 18:52:57</td>\n",
       "      <td>2019-09-01 03:12:40</td>\n",
       "    </tr>\n",
       "    <tr>\n",
       "      <th>Bulk 7</th>\n",
       "      <td>25</td>\n",
       "      <td>25</td>\n",
       "      <td>2019-05-07 11:37:42</td>\n",
       "      <td>1</td>\n",
       "      <td>2019-05-07 11:37:42</td>\n",
       "      <td>2019-08-31 07:22:25</td>\n",
       "    </tr>\n",
       "    <tr>\n",
       "      <th>Bulk 8</th>\n",
       "      <td>1</td>\n",
       "      <td>1</td>\n",
       "      <td>2019-07-05 17:46:11</td>\n",
       "      <td>1</td>\n",
       "      <td>2019-07-05 17:46:11</td>\n",
       "      <td>2019-07-05 17:46:11</td>\n",
       "    </tr>\n",
       "    <tr>\n",
       "      <th>Bulk 9</th>\n",
       "      <td>19</td>\n",
       "      <td>19</td>\n",
       "      <td>2019-05-14 00:04:56</td>\n",
       "      <td>1</td>\n",
       "      <td>2019-05-14 00:04:56</td>\n",
       "      <td>2019-08-11 15:09:33</td>\n",
       "    </tr>\n",
       "    <tr>\n",
       "      <th>Bulk 10</th>\n",
       "      <td>176</td>\n",
       "      <td>176</td>\n",
       "      <td>2019-05-06 01:36:24</td>\n",
       "      <td>1</td>\n",
       "      <td>2019-05-06 01:36:24</td>\n",
       "      <td>2019-08-30 01:30:42</td>\n",
       "    </tr>\n",
       "    <tr>\n",
       "      <th>Bulk 11</th>\n",
       "      <td>177</td>\n",
       "      <td>177</td>\n",
       "      <td>2019-05-05 16:45:05</td>\n",
       "      <td>1</td>\n",
       "      <td>2019-05-05 16:45:05</td>\n",
       "      <td>2019-08-31 16:00:49</td>\n",
       "    </tr>\n",
       "    <tr>\n",
       "      <th>Bulk 12</th>\n",
       "      <td>2450</td>\n",
       "      <td>2450</td>\n",
       "      <td>2019-05-03 11:03:52</td>\n",
       "      <td>1</td>\n",
       "      <td>2019-05-03 11:03:52</td>\n",
       "      <td>2019-09-01 01:39:41</td>\n",
       "    </tr>\n",
       "    <tr>\n",
       "      <th>Bulk 13</th>\n",
       "      <td>18</td>\n",
       "      <td>18</td>\n",
       "      <td>2019-05-05 00:39:35</td>\n",
       "      <td>1</td>\n",
       "      <td>2019-05-05 00:39:35</td>\n",
       "      <td>2019-08-26 20:31:16</td>\n",
       "    </tr>\n",
       "    <tr>\n",
       "      <th>Bulk 14</th>\n",
       "      <td>2806</td>\n",
       "      <td>2806</td>\n",
       "      <td>2019-05-03 11:03:52</td>\n",
       "      <td>1</td>\n",
       "      <td>2019-05-03 11:03:52</td>\n",
       "      <td>2019-09-01 04:05:34</td>\n",
       "    </tr>\n",
       "    <tr>\n",
       "      <th>Bulk 15</th>\n",
       "      <td>2248</td>\n",
       "      <td>2248</td>\n",
       "      <td>2019-05-03 11:03:52</td>\n",
       "      <td>1</td>\n",
       "      <td>2019-05-03 11:03:52</td>\n",
       "      <td>2019-09-01 04:05:34</td>\n",
       "    </tr>\n",
       "  </tbody>\n",
       "</table>\n",
       "</div>"
      ],
      "text/plain": [
       "        count unique                 top freq               first  \\\n",
       "Bulk 1    252    252 2019-05-03 17:50:19    1 2019-05-03 17:50:19   \n",
       "Bulk 2     22     22 2019-05-07 08:36:19    1 2019-05-07 08:36:19   \n",
       "Bulk 3   1298   1298 2019-05-03 20:13:36    1 2019-05-03 20:13:36   \n",
       "Bulk 4   1014   1014 2019-05-03 11:21:30    1 2019-05-03 11:21:30   \n",
       "Bulk 5     77     77 2019-05-07 08:36:19    1 2019-05-07 08:36:19   \n",
       "Bulk 6    576    576 2019-05-03 18:52:57    1 2019-05-03 18:52:57   \n",
       "Bulk 7     25     25 2019-05-07 11:37:42    1 2019-05-07 11:37:42   \n",
       "Bulk 8      1      1 2019-07-05 17:46:11    1 2019-07-05 17:46:11   \n",
       "Bulk 9     19     19 2019-05-14 00:04:56    1 2019-05-14 00:04:56   \n",
       "Bulk 10   176    176 2019-05-06 01:36:24    1 2019-05-06 01:36:24   \n",
       "Bulk 11   177    177 2019-05-05 16:45:05    1 2019-05-05 16:45:05   \n",
       "Bulk 12  2450   2450 2019-05-03 11:03:52    1 2019-05-03 11:03:52   \n",
       "Bulk 13    18     18 2019-05-05 00:39:35    1 2019-05-05 00:39:35   \n",
       "Bulk 14  2806   2806 2019-05-03 11:03:52    1 2019-05-03 11:03:52   \n",
       "Bulk 15  2248   2248 2019-05-03 11:03:52    1 2019-05-03 11:03:52   \n",
       "\n",
       "                       last  \n",
       "Bulk 1  2019-08-30 23:01:32  \n",
       "Bulk 2  2019-08-08 17:34:38  \n",
       "Bulk 3  2019-08-31 23:39:11  \n",
       "Bulk 4  2019-08-30 17:36:30  \n",
       "Bulk 5  2019-08-28 09:01:08  \n",
       "Bulk 6  2019-09-01 03:12:40  \n",
       "Bulk 7  2019-08-31 07:22:25  \n",
       "Bulk 8  2019-07-05 17:46:11  \n",
       "Bulk 9  2019-08-11 15:09:33  \n",
       "Bulk 10 2019-08-30 01:30:42  \n",
       "Bulk 11 2019-08-31 16:00:49  \n",
       "Bulk 12 2019-09-01 01:39:41  \n",
       "Bulk 13 2019-08-26 20:31:16  \n",
       "Bulk 14 2019-09-01 04:05:34  \n",
       "Bulk 15 2019-09-01 04:05:34  "
      ]
     },
     "execution_count": 31,
     "metadata": {},
     "output_type": "execute_result"
    }
   ],
   "source": [
    "df_bulk_time.describe().T"
   ]
  },
  {
   "cell_type": "code",
   "execution_count": 32,
   "metadata": {},
   "outputs": [
    {
     "data": {
      "text/plain": [
       "Bulk 1     2877\n",
       "Bulk 2     3107\n",
       "Bulk 3     1831\n",
       "Bulk 4     2115\n",
       "Bulk 5     3052\n",
       "Bulk 6     2553\n",
       "Bulk 7     3104\n",
       "Bulk 8     3128\n",
       "Bulk 9     3110\n",
       "Bulk 10    2953\n",
       "Bulk 11    2952\n",
       "Bulk 12     679\n",
       "Bulk 13    3111\n",
       "Bulk 14     323\n",
       "Bulk 15     881\n",
       "dtype: int64"
      ]
     },
     "execution_count": 32,
     "metadata": {},
     "output_type": "execute_result"
    }
   ],
   "source": [
    "df_bulk_time.isna().sum()"
   ]
  },
  {
   "cell_type": "markdown",
   "metadata": {},
   "source": [
    "Let's make histograms of the time of supply of bulk materials."
   ]
  },
  {
   "cell_type": "code",
   "execution_count": 33,
   "metadata": {
    "scrolled": false
   },
   "outputs": [
    {
     "data": {
      "image/png": "[encoded data removed]",
      "text/plain": [
       "<Figure size 1008x576 with 1 Axes>"
      ]
     },
     "metadata": {
      "needs_background": "light"
     },
     "output_type": "display_data"
    },
    {
     "data": {
      "image/png": "[encoded data removed]",
      "text/plain": [
       "<Figure size 1008x576 with 1 Axes>"
      ]
     },
     "metadata": {
      "needs_background": "light"
     },
     "output_type": "display_data"
    },
    {
     "data": {
      "image/png": "[encoded data removed]",
      "text/plain": [
       "<Figure size 1008x576 with 1 Axes>"
      ]
     },
     "metadata": {
      "needs_background": "light"
     },
     "output_type": "display_data"
    },
    {
     "data": {
      "image/png": "[encoded data removed]",
      "text/plain": [
       "<Figure size 1008x576 with 1 Axes>"
      ]
     },
     "metadata": {
      "needs_background": "light"
     },
     "output_type": "display_data"
    },
    {
     "data": {
      "image/png": "[encoded data removed]",
      "text/plain": [
       "<Figure size 1008x576 with 1 Axes>"
      ]
     },
     "metadata": {
      "needs_background": "light"
     },
     "output_type": "display_data"
    },
    {
     "data": {
      "image/png": "[encoded data removed]",
      "text/plain": [
       "<Figure size 1008x576 with 1 Axes>"
      ]
     },
     "metadata": {
      "needs_background": "light"
     },
     "output_type": "display_data"
    },
    {
     "data": {
      "image/png": "[encoded data removed]",
      "text/plain": [
       "<Figure size 1008x576 with 1 Axes>"
      ]
     },
     "metadata": {
      "needs_background": "light"
     },
     "output_type": "display_data"
    },
    {
     "data": {
      "image/png": "[encoded data removed]",
      "text/plain": [
       "<Figure size 1008x576 with 1 Axes>"
      ]
     },
     "metadata": {
      "needs_background": "light"
     },
     "output_type": "display_data"
    },
    {
     "data": {
      "image/png": "[encoded data removed]",
      "text/plain": [
       "<Figure size 1008x576 with 1 Axes>"
      ]
     },
     "metadata": {
      "needs_background": "light"
     },
     "output_type": "display_data"
    },
    {
     "data": {
      "image/png": "[encoded data removed]",
      "text/plain": [
       "<Figure size 1008x576 with 1 Axes>"
      ]
     },
     "metadata": {
      "needs_background": "light"
     },
     "output_type": "display_data"
    },
    {
     "data": {
      "image/png": "[encoded data removed]",
      "text/plain": [
       "<Figure size 1008x576 with 1 Axes>"
      ]
     },
     "metadata": {
      "needs_background": "light"
     },
     "output_type": "display_data"
    },
    {
     "data": {
      "image/png": "[encoded data removed]",
      "text/plain": [
       "<Figure size 1008x576 with 1 Axes>"
      ]
     },
     "metadata": {
      "needs_background": "light"
     },
     "output_type": "display_data"
    },
    {
     "data": {
      "image/png": "[encoded data removed]",
      "text/plain": [
       "<Figure size 1008x576 with 1 Axes>"
      ]
     },
     "metadata": {
      "needs_background": "light"
     },
     "output_type": "display_data"
    },
    {
     "data": {
      "image/png": "[encoded data removed]",
      "text/plain": [
       "<Figure size 1008x576 with 1 Axes>"
      ]
     },
     "metadata": {
      "needs_background": "light"
     },
     "output_type": "display_data"
    },
    {
     "data": {
      "image/png": "[encoded data removed]",
      "text/plain": [
       "<Figure size 1008x576 with 1 Axes>"
      ]
     },
     "metadata": {
      "needs_background": "light"
     },
     "output_type": "display_data"
    }
   ],
   "source": [
    "for bulk in df_bulk_time:\n",
    "    plt.figure(figsize=(14,8))\n",
    "    sns.histplot(data=df_bulk_time, x=bulk, discrete=True).set(title=bulk)\n",
    "    plt.show()"
   ]
  },
  {
   "cell_type": "markdown",
   "metadata": {},
   "source": [
    "We can see that there is no data for the period from July 11 to July 13, which is most likely associated with malfunctions. Since time data will not be used for training models as requested by the customer, we will not focus on this table."
   ]
  },
  {
   "cell_type": "markdown",
   "metadata": {},
   "source": [
    "###  Data about supplied gases for purging"
   ]
  },
  {
   "cell_type": "code",
   "execution_count": 34,
   "metadata": {},
   "outputs": [
    {
     "data": {
      "text/html": [
       "<div>\n",
       "<style scoped>\n",
       "    .dataframe tbody tr th:only-of-type {\n",
       "        vertical-align: middle;\n",
       "    }\n",
       "\n",
       "    .dataframe tbody tr th {\n",
       "        vertical-align: top;\n",
       "    }\n",
       "\n",
       "    .dataframe thead th {\n",
       "        text-align: right;\n",
       "    }\n",
       "</style>\n",
       "<table border=\"1\" class=\"dataframe\">\n",
       "  <thead>\n",
       "    <tr style=\"text-align: right;\">\n",
       "      <th></th>\n",
       "      <th>Газ 1</th>\n",
       "    </tr>\n",
       "    <tr>\n",
       "      <th>key</th>\n",
       "      <th></th>\n",
       "    </tr>\n",
       "  </thead>\n",
       "  <tbody>\n",
       "    <tr>\n",
       "      <th>1</th>\n",
       "      <td>29.749986</td>\n",
       "    </tr>\n",
       "    <tr>\n",
       "      <th>2</th>\n",
       "      <td>12.555561</td>\n",
       "    </tr>\n",
       "    <tr>\n",
       "      <th>3</th>\n",
       "      <td>28.554793</td>\n",
       "    </tr>\n",
       "    <tr>\n",
       "      <th>4</th>\n",
       "      <td>18.841219</td>\n",
       "    </tr>\n",
       "    <tr>\n",
       "      <th>5</th>\n",
       "      <td>5.413692</td>\n",
       "    </tr>\n",
       "  </tbody>\n",
       "</table>\n",
       "</div>"
      ],
      "text/plain": [
       "         Газ 1\n",
       "key           \n",
       "1    29.749986\n",
       "2    12.555561\n",
       "3    28.554793\n",
       "4    18.841219\n",
       "5     5.413692"
      ]
     },
     "execution_count": 34,
     "metadata": {},
     "output_type": "execute_result"
    }
   ],
   "source": [
    "df_gas.head(5)"
   ]
  },
  {
   "cell_type": "code",
   "execution_count": 35,
   "metadata": {},
   "outputs": [
    {
     "name": "stdout",
     "output_type": "stream",
     "text": [
      "<class 'pandas.core.frame.DataFrame'>\n",
      "Int64Index: 3239 entries, 1 to 3241\n",
      "Data columns (total 1 columns):\n",
      " #   Column  Non-Null Count  Dtype  \n",
      "---  ------  --------------  -----  \n",
      " 0   Газ 1   3239 non-null   float64\n",
      "dtypes: float64(1)\n",
      "memory usage: 50.6 KB\n"
     ]
    }
   ],
   "source": [
    "df_gas.info()"
   ]
  },
  {
   "cell_type": "code",
   "execution_count": 36,
   "metadata": {},
   "outputs": [
    {
     "data": {
      "text/html": [
       "<div>\n",
       "<style scoped>\n",
       "    .dataframe tbody tr th:only-of-type {\n",
       "        vertical-align: middle;\n",
       "    }\n",
       "\n",
       "    .dataframe tbody tr th {\n",
       "        vertical-align: top;\n",
       "    }\n",
       "\n",
       "    .dataframe thead th {\n",
       "        text-align: right;\n",
       "    }\n",
       "</style>\n",
       "<table border=\"1\" class=\"dataframe\">\n",
       "  <thead>\n",
       "    <tr style=\"text-align: right;\">\n",
       "      <th></th>\n",
       "      <th>Газ 1</th>\n",
       "    </tr>\n",
       "  </thead>\n",
       "  <tbody>\n",
       "    <tr>\n",
       "      <th>count</th>\n",
       "      <td>3239.000000</td>\n",
       "    </tr>\n",
       "    <tr>\n",
       "      <th>mean</th>\n",
       "      <td>11.002062</td>\n",
       "    </tr>\n",
       "    <tr>\n",
       "      <th>std</th>\n",
       "      <td>6.220327</td>\n",
       "    </tr>\n",
       "    <tr>\n",
       "      <th>min</th>\n",
       "      <td>0.008399</td>\n",
       "    </tr>\n",
       "    <tr>\n",
       "      <th>25%</th>\n",
       "      <td>7.043089</td>\n",
       "    </tr>\n",
       "    <tr>\n",
       "      <th>50%</th>\n",
       "      <td>9.836267</td>\n",
       "    </tr>\n",
       "    <tr>\n",
       "      <th>75%</th>\n",
       "      <td>13.769915</td>\n",
       "    </tr>\n",
       "    <tr>\n",
       "      <th>max</th>\n",
       "      <td>77.995040</td>\n",
       "    </tr>\n",
       "  </tbody>\n",
       "</table>\n",
       "</div>"
      ],
      "text/plain": [
       "             Газ 1\n",
       "count  3239.000000\n",
       "mean     11.002062\n",
       "std       6.220327\n",
       "min       0.008399\n",
       "25%       7.043089\n",
       "50%       9.836267\n",
       "75%      13.769915\n",
       "max      77.995040"
      ]
     },
     "execution_count": 36,
     "metadata": {},
     "output_type": "execute_result"
    }
   ],
   "source": [
    "df_gas.describe()"
   ]
  },
  {
   "cell_type": "markdown",
   "metadata": {},
   "source": [
    "First, let's rename the columns for convenience."
   ]
  },
  {
   "cell_type": "code",
   "execution_count": 37,
   "metadata": {},
   "outputs": [],
   "source": [
    "df_gas = df_gas.rename(columns={'Газ 1': 'gas_1'})"
   ]
  },
  {
   "cell_type": "code",
   "execution_count": 38,
   "metadata": {},
   "outputs": [
    {
     "data": {
      "text/html": [
       "<div>\n",
       "<style scoped>\n",
       "    .dataframe tbody tr th:only-of-type {\n",
       "        vertical-align: middle;\n",
       "    }\n",
       "\n",
       "    .dataframe tbody tr th {\n",
       "        vertical-align: top;\n",
       "    }\n",
       "\n",
       "    .dataframe thead th {\n",
       "        text-align: right;\n",
       "    }\n",
       "</style>\n",
       "<table border=\"1\" class=\"dataframe\">\n",
       "  <thead>\n",
       "    <tr style=\"text-align: right;\">\n",
       "      <th></th>\n",
       "      <th>gas_1</th>\n",
       "    </tr>\n",
       "    <tr>\n",
       "      <th>key</th>\n",
       "      <th></th>\n",
       "    </tr>\n",
       "  </thead>\n",
       "  <tbody>\n",
       "    <tr>\n",
       "      <th>1</th>\n",
       "      <td>29.749986</td>\n",
       "    </tr>\n",
       "    <tr>\n",
       "      <th>2</th>\n",
       "      <td>12.555561</td>\n",
       "    </tr>\n",
       "    <tr>\n",
       "      <th>3</th>\n",
       "      <td>28.554793</td>\n",
       "    </tr>\n",
       "    <tr>\n",
       "      <th>4</th>\n",
       "      <td>18.841219</td>\n",
       "    </tr>\n",
       "    <tr>\n",
       "      <th>5</th>\n",
       "      <td>5.413692</td>\n",
       "    </tr>\n",
       "  </tbody>\n",
       "</table>\n",
       "</div>"
      ],
      "text/plain": [
       "         gas_1\n",
       "key           \n",
       "1    29.749986\n",
       "2    12.555561\n",
       "3    28.554793\n",
       "4    18.841219\n",
       "5     5.413692"
      ]
     },
     "execution_count": 38,
     "metadata": {},
     "output_type": "execute_result"
    }
   ],
   "source": [
    "df_gas.head(5)"
   ]
  },
  {
   "cell_type": "code",
   "execution_count": 39,
   "metadata": {
    "scrolled": true
   },
   "outputs": [
    {
     "data": {
      "text/plain": [
       "gas_1    0\n",
       "dtype: int64"
      ]
     },
     "execution_count": 39,
     "metadata": {},
     "output_type": "execute_result"
    }
   ],
   "source": [
    "df_gas.isna().sum()"
   ]
  },
  {
   "cell_type": "code",
   "execution_count": 40,
   "metadata": {},
   "outputs": [
    {
     "data": {
      "text/plain": [
       "0"
      ]
     },
     "execution_count": 40,
     "metadata": {},
     "output_type": "execute_result"
    }
   ],
   "source": [
    "df_gas.duplicated().sum()"
   ]
  },
  {
   "cell_type": "markdown",
   "metadata": {},
   "source": [
    "There are no missing or duplicate values in the table."
   ]
  },
  {
   "cell_type": "markdown",
   "metadata": {},
   "source": [
    "Let's look at the number of unique keys."
   ]
  },
  {
   "cell_type": "code",
   "execution_count": 41,
   "metadata": {},
   "outputs": [
    {
     "data": {
      "text/plain": [
       "3239"
      ]
     },
     "execution_count": 41,
     "metadata": {},
     "output_type": "execute_result"
    }
   ],
   "source": [
    "df_gas.index.nunique()"
   ]
  },
  {
   "cell_type": "markdown",
   "metadata": {},
   "source": [
    "**The table contains 3214 unique batches, which is different from the number in the electrode data table.**"
   ]
  },
  {
   "cell_type": "markdown",
   "metadata": {},
   "source": [
    "Let's create a histogram of gas purge and look at the distribution."
   ]
  },
  {
   "cell_type": "code",
   "execution_count": 42,
   "metadata": {},
   "outputs": [
    {
     "data": {
      "image/png": "[encoded data removed]",
      "text/plain": [
       "<Figure size 1080x648 with 2 Axes>"
      ]
     },
     "metadata": {
      "needs_background": "light"
     },
     "output_type": "display_data"
    }
   ],
   "source": [
    "graph(df_gas['gas_1'])"
   ]
  },
  {
   "cell_type": "markdown",
   "metadata": {},
   "source": [
    "The distribution is skewed to the right due to high values and outliers. The mean value is 11, the standard deviation is 6.22. There are also outliers up to 78."
   ]
  },
  {
   "cell_type": "markdown",
   "metadata": {},
   "source": [
    "### Temperature measurement results"
   ]
  },
  {
   "cell_type": "code",
   "execution_count": 43,
   "metadata": {},
   "outputs": [
    {
     "data": {
      "text/html": [
       "<div>\n",
       "<style scoped>\n",
       "    .dataframe tbody tr th:only-of-type {\n",
       "        vertical-align: middle;\n",
       "    }\n",
       "\n",
       "    .dataframe tbody tr th {\n",
       "        vertical-align: top;\n",
       "    }\n",
       "\n",
       "    .dataframe thead th {\n",
       "        text-align: right;\n",
       "    }\n",
       "</style>\n",
       "<table border=\"1\" class=\"dataframe\">\n",
       "  <thead>\n",
       "    <tr style=\"text-align: right;\">\n",
       "      <th></th>\n",
       "      <th>Время замера</th>\n",
       "      <th>Температура</th>\n",
       "    </tr>\n",
       "    <tr>\n",
       "      <th>key</th>\n",
       "      <th></th>\n",
       "      <th></th>\n",
       "    </tr>\n",
       "  </thead>\n",
       "  <tbody>\n",
       "    <tr>\n",
       "      <th>1</th>\n",
       "      <td>2019-05-03 11:16:18</td>\n",
       "      <td>1571.0</td>\n",
       "    </tr>\n",
       "    <tr>\n",
       "      <th>1</th>\n",
       "      <td>2019-05-03 11:25:53</td>\n",
       "      <td>1604.0</td>\n",
       "    </tr>\n",
       "    <tr>\n",
       "      <th>1</th>\n",
       "      <td>2019-05-03 11:29:11</td>\n",
       "      <td>1618.0</td>\n",
       "    </tr>\n",
       "    <tr>\n",
       "      <th>1</th>\n",
       "      <td>2019-05-03 11:30:01</td>\n",
       "      <td>1601.0</td>\n",
       "    </tr>\n",
       "    <tr>\n",
       "      <th>1</th>\n",
       "      <td>2019-05-03 11:30:39</td>\n",
       "      <td>1613.0</td>\n",
       "    </tr>\n",
       "  </tbody>\n",
       "</table>\n",
       "</div>"
      ],
      "text/plain": [
       "           Время замера  Температура\n",
       "key                                 \n",
       "1   2019-05-03 11:16:18       1571.0\n",
       "1   2019-05-03 11:25:53       1604.0\n",
       "1   2019-05-03 11:29:11       1618.0\n",
       "1   2019-05-03 11:30:01       1601.0\n",
       "1   2019-05-03 11:30:39       1613.0"
      ]
     },
     "execution_count": 43,
     "metadata": {},
     "output_type": "execute_result"
    }
   ],
   "source": [
    "df_temp.head(5)"
   ]
  },
  {
   "cell_type": "code",
   "execution_count": 44,
   "metadata": {},
   "outputs": [
    {
     "name": "stdout",
     "output_type": "stream",
     "text": [
      "<class 'pandas.core.frame.DataFrame'>\n",
      "Int64Index: 15907 entries, 1 to 3241\n",
      "Data columns (total 2 columns):\n",
      " #   Column        Non-Null Count  Dtype         \n",
      "---  ------        --------------  -----         \n",
      " 0   Время замера  15907 non-null  datetime64[ns]\n",
      " 1   Температура   13006 non-null  float64       \n",
      "dtypes: datetime64[ns](1), float64(1)\n",
      "memory usage: 372.8 KB\n"
     ]
    }
   ],
   "source": [
    "df_temp.info()"
   ]
  },
  {
   "cell_type": "code",
   "execution_count": 45,
   "metadata": {},
   "outputs": [
    {
     "data": {
      "text/html": [
       "<div>\n",
       "<style scoped>\n",
       "    .dataframe tbody tr th:only-of-type {\n",
       "        vertical-align: middle;\n",
       "    }\n",
       "\n",
       "    .dataframe tbody tr th {\n",
       "        vertical-align: top;\n",
       "    }\n",
       "\n",
       "    .dataframe thead th {\n",
       "        text-align: right;\n",
       "    }\n",
       "</style>\n",
       "<table border=\"1\" class=\"dataframe\">\n",
       "  <thead>\n",
       "    <tr style=\"text-align: right;\">\n",
       "      <th></th>\n",
       "      <th>Температура</th>\n",
       "    </tr>\n",
       "  </thead>\n",
       "  <tbody>\n",
       "    <tr>\n",
       "      <th>count</th>\n",
       "      <td>13006.000000</td>\n",
       "    </tr>\n",
       "    <tr>\n",
       "      <th>mean</th>\n",
       "      <td>1591.840920</td>\n",
       "    </tr>\n",
       "    <tr>\n",
       "      <th>std</th>\n",
       "      <td>21.375851</td>\n",
       "    </tr>\n",
       "    <tr>\n",
       "      <th>min</th>\n",
       "      <td>1191.000000</td>\n",
       "    </tr>\n",
       "    <tr>\n",
       "      <th>25%</th>\n",
       "      <td>1581.000000</td>\n",
       "    </tr>\n",
       "    <tr>\n",
       "      <th>50%</th>\n",
       "      <td>1591.000000</td>\n",
       "    </tr>\n",
       "    <tr>\n",
       "      <th>75%</th>\n",
       "      <td>1601.000000</td>\n",
       "    </tr>\n",
       "    <tr>\n",
       "      <th>max</th>\n",
       "      <td>1705.000000</td>\n",
       "    </tr>\n",
       "  </tbody>\n",
       "</table>\n",
       "</div>"
      ],
      "text/plain": [
       "        Температура\n",
       "count  13006.000000\n",
       "mean    1591.840920\n",
       "std       21.375851\n",
       "min     1191.000000\n",
       "25%     1581.000000\n",
       "50%     1591.000000\n",
       "75%     1601.000000\n",
       "max     1705.000000"
      ]
     },
     "execution_count": 45,
     "metadata": {},
     "output_type": "execute_result"
    }
   ],
   "source": [
    "df_temp.describe()"
   ]
  },
  {
   "cell_type": "markdown",
   "metadata": {},
   "source": [
    "First, let's rename the columns for convenience."
   ]
  },
  {
   "cell_type": "code",
   "execution_count": 46,
   "metadata": {},
   "outputs": [],
   "source": [
    "df_temp = df_temp.rename(columns={'Время замера': 'measurement_time', \n",
    "                                  'Температура': 'temperature'\n",
    "                                 }\n",
    "                        )"
   ]
  },
  {
   "cell_type": "code",
   "execution_count": 47,
   "metadata": {
    "scrolled": true
   },
   "outputs": [
    {
     "data": {
      "text/html": [
       "<div>\n",
       "<style scoped>\n",
       "    .dataframe tbody tr th:only-of-type {\n",
       "        vertical-align: middle;\n",
       "    }\n",
       "\n",
       "    .dataframe tbody tr th {\n",
       "        vertical-align: top;\n",
       "    }\n",
       "\n",
       "    .dataframe thead th {\n",
       "        text-align: right;\n",
       "    }\n",
       "</style>\n",
       "<table border=\"1\" class=\"dataframe\">\n",
       "  <thead>\n",
       "    <tr style=\"text-align: right;\">\n",
       "      <th></th>\n",
       "      <th>measurement_time</th>\n",
       "      <th>temperature</th>\n",
       "    </tr>\n",
       "    <tr>\n",
       "      <th>key</th>\n",
       "      <th></th>\n",
       "      <th></th>\n",
       "    </tr>\n",
       "  </thead>\n",
       "  <tbody>\n",
       "    <tr>\n",
       "      <th>1</th>\n",
       "      <td>2019-05-03 11:16:18</td>\n",
       "      <td>1571.0</td>\n",
       "    </tr>\n",
       "    <tr>\n",
       "      <th>1</th>\n",
       "      <td>2019-05-03 11:25:53</td>\n",
       "      <td>1604.0</td>\n",
       "    </tr>\n",
       "    <tr>\n",
       "      <th>1</th>\n",
       "      <td>2019-05-03 11:29:11</td>\n",
       "      <td>1618.0</td>\n",
       "    </tr>\n",
       "    <tr>\n",
       "      <th>1</th>\n",
       "      <td>2019-05-03 11:30:01</td>\n",
       "      <td>1601.0</td>\n",
       "    </tr>\n",
       "    <tr>\n",
       "      <th>1</th>\n",
       "      <td>2019-05-03 11:30:39</td>\n",
       "      <td>1613.0</td>\n",
       "    </tr>\n",
       "  </tbody>\n",
       "</table>\n",
       "</div>"
      ],
      "text/plain": [
       "       measurement_time  temperature\n",
       "key                                 \n",
       "1   2019-05-03 11:16:18       1571.0\n",
       "1   2019-05-03 11:25:53       1604.0\n",
       "1   2019-05-03 11:29:11       1618.0\n",
       "1   2019-05-03 11:30:01       1601.0\n",
       "1   2019-05-03 11:30:39       1613.0"
      ]
     },
     "execution_count": 47,
     "metadata": {},
     "output_type": "execute_result"
    }
   ],
   "source": [
    "df_temp.head(5)"
   ]
  },
  {
   "cell_type": "code",
   "execution_count": 48,
   "metadata": {
    "scrolled": false
   },
   "outputs": [
    {
     "data": {
      "text/plain": [
       "measurement_time       0\n",
       "temperature         2901\n",
       "dtype: int64"
      ]
     },
     "execution_count": 48,
     "metadata": {},
     "output_type": "execute_result"
    }
   ],
   "source": [
    "df_temp.isna().sum()"
   ]
  },
  {
   "cell_type": "code",
   "execution_count": 49,
   "metadata": {},
   "outputs": [
    {
     "data": {
      "text/plain": [
       "0"
      ]
     },
     "execution_count": 49,
     "metadata": {},
     "output_type": "execute_result"
    }
   ],
   "source": [
    "df_temp.duplicated().sum()"
   ]
  },
  {
   "cell_type": "markdown",
   "metadata": {},
   "source": [
    "The `temperature` column contains 2901 missing values. We can assume that we have missing values due to failures of the measuring equipment. There are no duplicate data."
   ]
  },
  {
   "cell_type": "markdown",
   "metadata": {},
   "source": [
    "Let's check the number of unique keys in the table with temperature measurement data."
   ]
  },
  {
   "cell_type": "code",
   "execution_count": 50,
   "metadata": {},
   "outputs": [
    {
     "data": {
      "text/plain": [
       "3216"
      ]
     },
     "execution_count": 50,
     "metadata": {},
     "output_type": "execute_result"
    }
   ],
   "source": [
    "df_temp.index.nunique()"
   ]
  },
  {
   "cell_type": "markdown",
   "metadata": {},
   "source": [
    "The table contains 3216 unique batches, which is different from the number in the previous tables."
   ]
  },
  {
   "cell_type": "markdown",
   "metadata": {},
   "source": [
    "Let's create histograms of the measurement time and the temperature."
   ]
  },
  {
   "cell_type": "code",
   "execution_count": 51,
   "metadata": {},
   "outputs": [
    {
     "data": {
      "image/png": "[encoded data removed]",
      "text/plain": [
       "<Figure size 1008x576 with 1 Axes>"
      ]
     },
     "metadata": {
      "needs_background": "light"
     },
     "output_type": "display_data"
    }
   ],
   "source": [
    "hist(df_temp['measurement_time'])"
   ]
  },
  {
   "cell_type": "code",
   "execution_count": 52,
   "metadata": {},
   "outputs": [
    {
     "data": {
      "image/png": "[encoded data removed]",
      "text/plain": [
       "<Figure size 1008x576 with 1 Axes>"
      ]
     },
     "metadata": {
      "needs_background": "light"
     },
     "output_type": "display_data"
    }
   ],
   "source": [
    "hist(df_temp['temperature'])"
   ]
  },
  {
   "cell_type": "markdown",
   "metadata": {},
   "source": [
    "The `temperature` has a normal distribution with a long tail on the left due to values below 1500 degrees. Since the customer informed us that the temperature cannot go below 1500 degrees, it will be necessary to get rid of batches in which the temperature is less than 1500 degrees before training the models."
   ]
  },
  {
   "cell_type": "markdown",
   "metadata": {},
   "source": [
    "Let's look at the distribution of the 'cleaned' data."
   ]
  },
  {
   "cell_type": "code",
   "execution_count": 53,
   "metadata": {
    "scrolled": false
   },
   "outputs": [
    {
     "data": {
      "image/png": "[encoded data removed]",
      "text/plain": [
       "<Figure size 1008x576 with 1 Axes>"
      ]
     },
     "metadata": {
      "needs_background": "light"
     },
     "output_type": "display_data"
    }
   ],
   "source": [
    "hist(df_temp['temperature'][df_temp['temperature'] > 1500])"
   ]
  },
  {
   "cell_type": "markdown",
   "metadata": {},
   "source": [
    "The distribution now appears to be normal with a mean of 1592 and a standard deviation of 19.85."
   ]
  },
  {
   "cell_type": "markdown",
   "metadata": {},
   "source": [
    "### Wire materials data (volume)"
   ]
  },
  {
   "cell_type": "code",
   "execution_count": 54,
   "metadata": {},
   "outputs": [
    {
     "data": {
      "text/html": [
       "<div>\n",
       "<style scoped>\n",
       "    .dataframe tbody tr th:only-of-type {\n",
       "        vertical-align: middle;\n",
       "    }\n",
       "\n",
       "    .dataframe tbody tr th {\n",
       "        vertical-align: top;\n",
       "    }\n",
       "\n",
       "    .dataframe thead th {\n",
       "        text-align: right;\n",
       "    }\n",
       "</style>\n",
       "<table border=\"1\" class=\"dataframe\">\n",
       "  <thead>\n",
       "    <tr style=\"text-align: right;\">\n",
       "      <th></th>\n",
       "      <th>Wire 1</th>\n",
       "      <th>Wire 2</th>\n",
       "      <th>Wire 3</th>\n",
       "      <th>Wire 4</th>\n",
       "      <th>Wire 5</th>\n",
       "      <th>Wire 6</th>\n",
       "      <th>Wire 7</th>\n",
       "      <th>Wire 8</th>\n",
       "      <th>Wire 9</th>\n",
       "    </tr>\n",
       "    <tr>\n",
       "      <th>key</th>\n",
       "      <th></th>\n",
       "      <th></th>\n",
       "      <th></th>\n",
       "      <th></th>\n",
       "      <th></th>\n",
       "      <th></th>\n",
       "      <th></th>\n",
       "      <th></th>\n",
       "      <th></th>\n",
       "    </tr>\n",
       "  </thead>\n",
       "  <tbody>\n",
       "    <tr>\n",
       "      <th>1</th>\n",
       "      <td>60.059998</td>\n",
       "      <td>NaN</td>\n",
       "      <td>NaN</td>\n",
       "      <td>NaN</td>\n",
       "      <td>NaN</td>\n",
       "      <td>NaN</td>\n",
       "      <td>NaN</td>\n",
       "      <td>NaN</td>\n",
       "      <td>NaN</td>\n",
       "    </tr>\n",
       "    <tr>\n",
       "      <th>2</th>\n",
       "      <td>96.052315</td>\n",
       "      <td>NaN</td>\n",
       "      <td>NaN</td>\n",
       "      <td>NaN</td>\n",
       "      <td>NaN</td>\n",
       "      <td>NaN</td>\n",
       "      <td>NaN</td>\n",
       "      <td>NaN</td>\n",
       "      <td>NaN</td>\n",
       "    </tr>\n",
       "    <tr>\n",
       "      <th>3</th>\n",
       "      <td>91.160157</td>\n",
       "      <td>NaN</td>\n",
       "      <td>NaN</td>\n",
       "      <td>NaN</td>\n",
       "      <td>NaN</td>\n",
       "      <td>NaN</td>\n",
       "      <td>NaN</td>\n",
       "      <td>NaN</td>\n",
       "      <td>NaN</td>\n",
       "    </tr>\n",
       "    <tr>\n",
       "      <th>4</th>\n",
       "      <td>89.063515</td>\n",
       "      <td>NaN</td>\n",
       "      <td>NaN</td>\n",
       "      <td>NaN</td>\n",
       "      <td>NaN</td>\n",
       "      <td>NaN</td>\n",
       "      <td>NaN</td>\n",
       "      <td>NaN</td>\n",
       "      <td>NaN</td>\n",
       "    </tr>\n",
       "    <tr>\n",
       "      <th>5</th>\n",
       "      <td>89.238236</td>\n",
       "      <td>9.11456</td>\n",
       "      <td>NaN</td>\n",
       "      <td>NaN</td>\n",
       "      <td>NaN</td>\n",
       "      <td>NaN</td>\n",
       "      <td>NaN</td>\n",
       "      <td>NaN</td>\n",
       "      <td>NaN</td>\n",
       "    </tr>\n",
       "  </tbody>\n",
       "</table>\n",
       "</div>"
      ],
      "text/plain": [
       "        Wire 1   Wire 2  Wire 3  Wire 4  Wire 5  Wire 6  Wire 7  Wire 8  \\\n",
       "key                                                                       \n",
       "1    60.059998      NaN     NaN     NaN     NaN     NaN     NaN     NaN   \n",
       "2    96.052315      NaN     NaN     NaN     NaN     NaN     NaN     NaN   \n",
       "3    91.160157      NaN     NaN     NaN     NaN     NaN     NaN     NaN   \n",
       "4    89.063515      NaN     NaN     NaN     NaN     NaN     NaN     NaN   \n",
       "5    89.238236  9.11456     NaN     NaN     NaN     NaN     NaN     NaN   \n",
       "\n",
       "     Wire 9  \n",
       "key          \n",
       "1       NaN  \n",
       "2       NaN  \n",
       "3       NaN  \n",
       "4       NaN  \n",
       "5       NaN  "
      ]
     },
     "execution_count": 54,
     "metadata": {},
     "output_type": "execute_result"
    }
   ],
   "source": [
    "df_wire.head(5)"
   ]
  },
  {
   "cell_type": "code",
   "execution_count": 55,
   "metadata": {
    "scrolled": true
   },
   "outputs": [
    {
     "name": "stdout",
     "output_type": "stream",
     "text": [
      "<class 'pandas.core.frame.DataFrame'>\n",
      "Int64Index: 3081 entries, 1 to 3241\n",
      "Data columns (total 9 columns):\n",
      " #   Column  Non-Null Count  Dtype  \n",
      "---  ------  --------------  -----  \n",
      " 0   Wire 1  3055 non-null   float64\n",
      " 1   Wire 2  1079 non-null   float64\n",
      " 2   Wire 3  63 non-null     float64\n",
      " 3   Wire 4  14 non-null     float64\n",
      " 4   Wire 5  1 non-null      float64\n",
      " 5   Wire 6  73 non-null     float64\n",
      " 6   Wire 7  11 non-null     float64\n",
      " 7   Wire 8  19 non-null     float64\n",
      " 8   Wire 9  29 non-null     float64\n",
      "dtypes: float64(9)\n",
      "memory usage: 240.7 KB\n"
     ]
    }
   ],
   "source": [
    "df_wire.info()"
   ]
  },
  {
   "cell_type": "code",
   "execution_count": 56,
   "metadata": {},
   "outputs": [
    {
     "data": {
      "text/html": [
       "<div>\n",
       "<style scoped>\n",
       "    .dataframe tbody tr th:only-of-type {\n",
       "        vertical-align: middle;\n",
       "    }\n",
       "\n",
       "    .dataframe tbody tr th {\n",
       "        vertical-align: top;\n",
       "    }\n",
       "\n",
       "    .dataframe thead th {\n",
       "        text-align: right;\n",
       "    }\n",
       "</style>\n",
       "<table border=\"1\" class=\"dataframe\">\n",
       "  <thead>\n",
       "    <tr style=\"text-align: right;\">\n",
       "      <th></th>\n",
       "      <th>count</th>\n",
       "      <th>mean</th>\n",
       "      <th>std</th>\n",
       "      <th>min</th>\n",
       "      <th>25%</th>\n",
       "      <th>50%</th>\n",
       "      <th>75%</th>\n",
       "      <th>max</th>\n",
       "    </tr>\n",
       "  </thead>\n",
       "  <tbody>\n",
       "    <tr>\n",
       "      <th>Wire 1</th>\n",
       "      <td>3055.0</td>\n",
       "      <td>100.895853</td>\n",
       "      <td>42.012518</td>\n",
       "      <td>1.918800</td>\n",
       "      <td>72.115684</td>\n",
       "      <td>100.158234</td>\n",
       "      <td>126.060483</td>\n",
       "      <td>330.314424</td>\n",
       "    </tr>\n",
       "    <tr>\n",
       "      <th>Wire 2</th>\n",
       "      <td>1079.0</td>\n",
       "      <td>50.577323</td>\n",
       "      <td>39.320216</td>\n",
       "      <td>0.030160</td>\n",
       "      <td>20.193680</td>\n",
       "      <td>40.142956</td>\n",
       "      <td>70.227558</td>\n",
       "      <td>282.780152</td>\n",
       "    </tr>\n",
       "    <tr>\n",
       "      <th>Wire 3</th>\n",
       "      <td>63.0</td>\n",
       "      <td>189.482681</td>\n",
       "      <td>99.513444</td>\n",
       "      <td>0.144144</td>\n",
       "      <td>95.135044</td>\n",
       "      <td>235.194977</td>\n",
       "      <td>276.252014</td>\n",
       "      <td>385.008668</td>\n",
       "    </tr>\n",
       "    <tr>\n",
       "      <th>Wire 4</th>\n",
       "      <td>14.0</td>\n",
       "      <td>57.442842</td>\n",
       "      <td>28.824667</td>\n",
       "      <td>24.148801</td>\n",
       "      <td>40.807002</td>\n",
       "      <td>45.234282</td>\n",
       "      <td>76.124619</td>\n",
       "      <td>113.231044</td>\n",
       "    </tr>\n",
       "    <tr>\n",
       "      <th>Wire 5</th>\n",
       "      <td>1.0</td>\n",
       "      <td>15.132000</td>\n",
       "      <td>NaN</td>\n",
       "      <td>15.132000</td>\n",
       "      <td>15.132000</td>\n",
       "      <td>15.132000</td>\n",
       "      <td>15.132000</td>\n",
       "      <td>15.132000</td>\n",
       "    </tr>\n",
       "    <tr>\n",
       "      <th>Wire 6</th>\n",
       "      <td>73.0</td>\n",
       "      <td>48.016974</td>\n",
       "      <td>33.919845</td>\n",
       "      <td>0.034320</td>\n",
       "      <td>25.053600</td>\n",
       "      <td>42.076324</td>\n",
       "      <td>64.212723</td>\n",
       "      <td>180.454575</td>\n",
       "    </tr>\n",
       "    <tr>\n",
       "      <th>Wire 7</th>\n",
       "      <td>11.0</td>\n",
       "      <td>10.039007</td>\n",
       "      <td>8.610584</td>\n",
       "      <td>0.234208</td>\n",
       "      <td>6.762756</td>\n",
       "      <td>9.017009</td>\n",
       "      <td>11.886057</td>\n",
       "      <td>32.847674</td>\n",
       "    </tr>\n",
       "    <tr>\n",
       "      <th>Wire 8</th>\n",
       "      <td>19.0</td>\n",
       "      <td>53.625193</td>\n",
       "      <td>16.881728</td>\n",
       "      <td>45.076721</td>\n",
       "      <td>46.094879</td>\n",
       "      <td>46.279999</td>\n",
       "      <td>48.089603</td>\n",
       "      <td>102.762401</td>\n",
       "    </tr>\n",
       "    <tr>\n",
       "      <th>Wire 9</th>\n",
       "      <td>29.0</td>\n",
       "      <td>34.155752</td>\n",
       "      <td>19.931616</td>\n",
       "      <td>4.622800</td>\n",
       "      <td>22.058401</td>\n",
       "      <td>30.066399</td>\n",
       "      <td>43.862003</td>\n",
       "      <td>90.053604</td>\n",
       "    </tr>\n",
       "  </tbody>\n",
       "</table>\n",
       "</div>"
      ],
      "text/plain": [
       "         count        mean        std        min        25%         50%  \\\n",
       "Wire 1  3055.0  100.895853  42.012518   1.918800  72.115684  100.158234   \n",
       "Wire 2  1079.0   50.577323  39.320216   0.030160  20.193680   40.142956   \n",
       "Wire 3    63.0  189.482681  99.513444   0.144144  95.135044  235.194977   \n",
       "Wire 4    14.0   57.442842  28.824667  24.148801  40.807002   45.234282   \n",
       "Wire 5     1.0   15.132000        NaN  15.132000  15.132000   15.132000   \n",
       "Wire 6    73.0   48.016974  33.919845   0.034320  25.053600   42.076324   \n",
       "Wire 7    11.0   10.039007   8.610584   0.234208   6.762756    9.017009   \n",
       "Wire 8    19.0   53.625193  16.881728  45.076721  46.094879   46.279999   \n",
       "Wire 9    29.0   34.155752  19.931616   4.622800  22.058401   30.066399   \n",
       "\n",
       "               75%         max  \n",
       "Wire 1  126.060483  330.314424  \n",
       "Wire 2   70.227558  282.780152  \n",
       "Wire 3  276.252014  385.008668  \n",
       "Wire 4   76.124619  113.231044  \n",
       "Wire 5   15.132000   15.132000  \n",
       "Wire 6   64.212723  180.454575  \n",
       "Wire 7   11.886057   32.847674  \n",
       "Wire 8   48.089603  102.762401  \n",
       "Wire 9   43.862003   90.053604  "
      ]
     },
     "execution_count": 56,
     "metadata": {},
     "output_type": "execute_result"
    }
   ],
   "source": [
    "df_wire.describe().T"
   ]
  },
  {
   "cell_type": "markdown",
   "metadata": {},
   "source": [
    "Let's convert the column names to lowercase and convert them to snake case."
   ]
  },
  {
   "cell_type": "code",
   "execution_count": 57,
   "metadata": {},
   "outputs": [],
   "source": [
    "df_wire.columns = df_wire.columns.str.replace(r\"([A-Z])\", r\" \\1\", regex=True).str.lower().str.replace(' ', '_').str[1:]"
   ]
  },
  {
   "cell_type": "code",
   "execution_count": 58,
   "metadata": {
    "scrolled": true
   },
   "outputs": [
    {
     "data": {
      "text/html": [
       "<div>\n",
       "<style scoped>\n",
       "    .dataframe tbody tr th:only-of-type {\n",
       "        vertical-align: middle;\n",
       "    }\n",
       "\n",
       "    .dataframe tbody tr th {\n",
       "        vertical-align: top;\n",
       "    }\n",
       "\n",
       "    .dataframe thead th {\n",
       "        text-align: right;\n",
       "    }\n",
       "</style>\n",
       "<table border=\"1\" class=\"dataframe\">\n",
       "  <thead>\n",
       "    <tr style=\"text-align: right;\">\n",
       "      <th></th>\n",
       "      <th>wire_1</th>\n",
       "      <th>wire_2</th>\n",
       "      <th>wire_3</th>\n",
       "      <th>wire_4</th>\n",
       "      <th>wire_5</th>\n",
       "      <th>wire_6</th>\n",
       "      <th>wire_7</th>\n",
       "      <th>wire_8</th>\n",
       "      <th>wire_9</th>\n",
       "    </tr>\n",
       "    <tr>\n",
       "      <th>key</th>\n",
       "      <th></th>\n",
       "      <th></th>\n",
       "      <th></th>\n",
       "      <th></th>\n",
       "      <th></th>\n",
       "      <th></th>\n",
       "      <th></th>\n",
       "      <th></th>\n",
       "      <th></th>\n",
       "    </tr>\n",
       "  </thead>\n",
       "  <tbody>\n",
       "    <tr>\n",
       "      <th>1</th>\n",
       "      <td>60.059998</td>\n",
       "      <td>NaN</td>\n",
       "      <td>NaN</td>\n",
       "      <td>NaN</td>\n",
       "      <td>NaN</td>\n",
       "      <td>NaN</td>\n",
       "      <td>NaN</td>\n",
       "      <td>NaN</td>\n",
       "      <td>NaN</td>\n",
       "    </tr>\n",
       "    <tr>\n",
       "      <th>2</th>\n",
       "      <td>96.052315</td>\n",
       "      <td>NaN</td>\n",
       "      <td>NaN</td>\n",
       "      <td>NaN</td>\n",
       "      <td>NaN</td>\n",
       "      <td>NaN</td>\n",
       "      <td>NaN</td>\n",
       "      <td>NaN</td>\n",
       "      <td>NaN</td>\n",
       "    </tr>\n",
       "    <tr>\n",
       "      <th>3</th>\n",
       "      <td>91.160157</td>\n",
       "      <td>NaN</td>\n",
       "      <td>NaN</td>\n",
       "      <td>NaN</td>\n",
       "      <td>NaN</td>\n",
       "      <td>NaN</td>\n",
       "      <td>NaN</td>\n",
       "      <td>NaN</td>\n",
       "      <td>NaN</td>\n",
       "    </tr>\n",
       "    <tr>\n",
       "      <th>4</th>\n",
       "      <td>89.063515</td>\n",
       "      <td>NaN</td>\n",
       "      <td>NaN</td>\n",
       "      <td>NaN</td>\n",
       "      <td>NaN</td>\n",
       "      <td>NaN</td>\n",
       "      <td>NaN</td>\n",
       "      <td>NaN</td>\n",
       "      <td>NaN</td>\n",
       "    </tr>\n",
       "    <tr>\n",
       "      <th>5</th>\n",
       "      <td>89.238236</td>\n",
       "      <td>9.11456</td>\n",
       "      <td>NaN</td>\n",
       "      <td>NaN</td>\n",
       "      <td>NaN</td>\n",
       "      <td>NaN</td>\n",
       "      <td>NaN</td>\n",
       "      <td>NaN</td>\n",
       "      <td>NaN</td>\n",
       "    </tr>\n",
       "  </tbody>\n",
       "</table>\n",
       "</div>"
      ],
      "text/plain": [
       "        wire_1   wire_2  wire_3  wire_4  wire_5  wire_6  wire_7  wire_8  \\\n",
       "key                                                                       \n",
       "1    60.059998      NaN     NaN     NaN     NaN     NaN     NaN     NaN   \n",
       "2    96.052315      NaN     NaN     NaN     NaN     NaN     NaN     NaN   \n",
       "3    91.160157      NaN     NaN     NaN     NaN     NaN     NaN     NaN   \n",
       "4    89.063515      NaN     NaN     NaN     NaN     NaN     NaN     NaN   \n",
       "5    89.238236  9.11456     NaN     NaN     NaN     NaN     NaN     NaN   \n",
       "\n",
       "     wire_9  \n",
       "key          \n",
       "1       NaN  \n",
       "2       NaN  \n",
       "3       NaN  \n",
       "4       NaN  \n",
       "5       NaN  "
      ]
     },
     "execution_count": 58,
     "metadata": {},
     "output_type": "execute_result"
    }
   ],
   "source": [
    "df_wire.head(5)"
   ]
  },
  {
   "cell_type": "code",
   "execution_count": 59,
   "metadata": {},
   "outputs": [
    {
     "data": {
      "text/plain": [
       "wire_1      26\n",
       "wire_2    2002\n",
       "wire_3    3018\n",
       "wire_4    3067\n",
       "wire_5    3080\n",
       "wire_6    3008\n",
       "wire_7    3070\n",
       "wire_8    3062\n",
       "wire_9    3052\n",
       "dtype: int64"
      ]
     },
     "execution_count": 59,
     "metadata": {},
     "output_type": "execute_result"
    }
   ],
   "source": [
    "df_wire.isna().sum()"
   ]
  },
  {
   "cell_type": "code",
   "execution_count": 60,
   "metadata": {},
   "outputs": [
    {
     "data": {
      "text/plain": [
       "403"
      ]
     },
     "execution_count": 60,
     "metadata": {},
     "output_type": "execute_result"
    }
   ],
   "source": [
    "df_wire.duplicated().sum()"
   ]
  },
  {
   "cell_type": "markdown",
   "metadata": {},
   "source": [
    "All columns in the table contain missing values. The nature of the missing values is known from the customer - the material was not added. Also, 403 duplicate values were identified."
   ]
  },
  {
   "cell_type": "markdown",
   "metadata": {},
   "source": [
    "Let's look at the number of unique keys in the table."
   ]
  },
  {
   "cell_type": "code",
   "execution_count": 61,
   "metadata": {},
   "outputs": [
    {
     "data": {
      "text/plain": [
       "3081"
      ]
     },
     "execution_count": 61,
     "metadata": {},
     "output_type": "execute_result"
    }
   ],
   "source": [
    "df_wire.index.nunique()"
   ]
  },
  {
   "cell_type": "markdown",
   "metadata": {},
   "source": [
    "The table contains 3081 unique batches."
   ]
  },
  {
   "cell_type": "markdown",
   "metadata": {},
   "source": [
    "Let's create histograms of wire materials supply and look at the distributions."
   ]
  },
  {
   "cell_type": "code",
   "execution_count": 62,
   "metadata": {},
   "outputs": [
    {
     "data": {
      "image/png": "[encoded data removed]",
      "text/plain": [
       "<Figure size 1080x720 with 9 Axes>"
      ]
     },
     "metadata": {
      "needs_background": "light"
     },
     "output_type": "display_data"
    }
   ],
   "source": [
    "df_wire.hist(bins=50, figsize=(15,10), edgecolor='black', linewidth=1)\n",
    "plt.show()"
   ]
  },
  {
   "cell_type": "markdown",
   "metadata": {},
   "source": [
    "All the graphs are different. For some materials, the distribution resembles normal (`wire_1`) or skewed to the right (`wire_2`). The rest of the materials have a large variance and there are outliers. It's also worth noting that the `wire_5` was only used once."
   ]
  },
  {
   "cell_type": "markdown",
   "metadata": {},
   "source": [
    "### Wire material data (time)"
   ]
  },
  {
   "cell_type": "code",
   "execution_count": 63,
   "metadata": {},
   "outputs": [
    {
     "data": {
      "text/html": [
       "<div>\n",
       "<style scoped>\n",
       "    .dataframe tbody tr th:only-of-type {\n",
       "        vertical-align: middle;\n",
       "    }\n",
       "\n",
       "    .dataframe tbody tr th {\n",
       "        vertical-align: top;\n",
       "    }\n",
       "\n",
       "    .dataframe thead th {\n",
       "        text-align: right;\n",
       "    }\n",
       "</style>\n",
       "<table border=\"1\" class=\"dataframe\">\n",
       "  <thead>\n",
       "    <tr style=\"text-align: right;\">\n",
       "      <th></th>\n",
       "      <th>Wire 1</th>\n",
       "      <th>Wire 2</th>\n",
       "      <th>Wire 3</th>\n",
       "      <th>Wire 4</th>\n",
       "      <th>Wire 5</th>\n",
       "      <th>Wire 6</th>\n",
       "      <th>Wire 7</th>\n",
       "      <th>Wire 8</th>\n",
       "      <th>Wire 9</th>\n",
       "    </tr>\n",
       "    <tr>\n",
       "      <th>key</th>\n",
       "      <th></th>\n",
       "      <th></th>\n",
       "      <th></th>\n",
       "      <th></th>\n",
       "      <th></th>\n",
       "      <th></th>\n",
       "      <th></th>\n",
       "      <th></th>\n",
       "      <th></th>\n",
       "    </tr>\n",
       "  </thead>\n",
       "  <tbody>\n",
       "    <tr>\n",
       "      <th>1</th>\n",
       "      <td>2019-05-03 11:11:41</td>\n",
       "      <td>NaT</td>\n",
       "      <td>NaT</td>\n",
       "      <td>NaT</td>\n",
       "      <td>NaT</td>\n",
       "      <td>NaT</td>\n",
       "      <td>NaT</td>\n",
       "      <td>NaT</td>\n",
       "      <td>NaT</td>\n",
       "    </tr>\n",
       "    <tr>\n",
       "      <th>2</th>\n",
       "      <td>2019-05-03 11:46:10</td>\n",
       "      <td>NaT</td>\n",
       "      <td>NaT</td>\n",
       "      <td>NaT</td>\n",
       "      <td>NaT</td>\n",
       "      <td>NaT</td>\n",
       "      <td>NaT</td>\n",
       "      <td>NaT</td>\n",
       "      <td>NaT</td>\n",
       "    </tr>\n",
       "    <tr>\n",
       "      <th>3</th>\n",
       "      <td>2019-05-03 12:13:47</td>\n",
       "      <td>NaT</td>\n",
       "      <td>NaT</td>\n",
       "      <td>NaT</td>\n",
       "      <td>NaT</td>\n",
       "      <td>NaT</td>\n",
       "      <td>NaT</td>\n",
       "      <td>NaT</td>\n",
       "      <td>NaT</td>\n",
       "    </tr>\n",
       "    <tr>\n",
       "      <th>4</th>\n",
       "      <td>2019-05-03 12:48:05</td>\n",
       "      <td>NaT</td>\n",
       "      <td>NaT</td>\n",
       "      <td>NaT</td>\n",
       "      <td>NaT</td>\n",
       "      <td>NaT</td>\n",
       "      <td>NaT</td>\n",
       "      <td>NaT</td>\n",
       "      <td>NaT</td>\n",
       "    </tr>\n",
       "    <tr>\n",
       "      <th>5</th>\n",
       "      <td>2019-05-03 13:18:15</td>\n",
       "      <td>2019-05-03 13:32:06</td>\n",
       "      <td>NaT</td>\n",
       "      <td>NaT</td>\n",
       "      <td>NaT</td>\n",
       "      <td>NaT</td>\n",
       "      <td>NaT</td>\n",
       "      <td>NaT</td>\n",
       "      <td>NaT</td>\n",
       "    </tr>\n",
       "  </tbody>\n",
       "</table>\n",
       "</div>"
      ],
      "text/plain": [
       "                 Wire 1              Wire 2 Wire 3 Wire 4 Wire 5 Wire 6  \\\n",
       "key                                                                       \n",
       "1   2019-05-03 11:11:41                 NaT    NaT    NaT    NaT    NaT   \n",
       "2   2019-05-03 11:46:10                 NaT    NaT    NaT    NaT    NaT   \n",
       "3   2019-05-03 12:13:47                 NaT    NaT    NaT    NaT    NaT   \n",
       "4   2019-05-03 12:48:05                 NaT    NaT    NaT    NaT    NaT   \n",
       "5   2019-05-03 13:18:15 2019-05-03 13:32:06    NaT    NaT    NaT    NaT   \n",
       "\n",
       "    Wire 7 Wire 8 Wire 9  \n",
       "key                       \n",
       "1      NaT    NaT    NaT  \n",
       "2      NaT    NaT    NaT  \n",
       "3      NaT    NaT    NaT  \n",
       "4      NaT    NaT    NaT  \n",
       "5      NaT    NaT    NaT  "
      ]
     },
     "execution_count": 63,
     "metadata": {},
     "output_type": "execute_result"
    }
   ],
   "source": [
    "df_wire_time.head(5)"
   ]
  },
  {
   "cell_type": "code",
   "execution_count": 64,
   "metadata": {},
   "outputs": [
    {
     "name": "stdout",
     "output_type": "stream",
     "text": [
      "<class 'pandas.core.frame.DataFrame'>\n",
      "Int64Index: 3081 entries, 1 to 3241\n",
      "Data columns (total 9 columns):\n",
      " #   Column  Non-Null Count  Dtype         \n",
      "---  ------  --------------  -----         \n",
      " 0   Wire 1  3055 non-null   datetime64[ns]\n",
      " 1   Wire 2  1079 non-null   datetime64[ns]\n",
      " 2   Wire 3  63 non-null     datetime64[ns]\n",
      " 3   Wire 4  14 non-null     datetime64[ns]\n",
      " 4   Wire 5  1 non-null      datetime64[ns]\n",
      " 5   Wire 6  73 non-null     datetime64[ns]\n",
      " 6   Wire 7  11 non-null     datetime64[ns]\n",
      " 7   Wire 8  19 non-null     datetime64[ns]\n",
      " 8   Wire 9  29 non-null     datetime64[ns]\n",
      "dtypes: datetime64[ns](9)\n",
      "memory usage: 240.7 KB\n"
     ]
    }
   ],
   "source": [
    "df_wire_time.info()"
   ]
  },
  {
   "cell_type": "code",
   "execution_count": 65,
   "metadata": {},
   "outputs": [
    {
     "data": {
      "text/html": [
       "<div>\n",
       "<style scoped>\n",
       "    .dataframe tbody tr th:only-of-type {\n",
       "        vertical-align: middle;\n",
       "    }\n",
       "\n",
       "    .dataframe tbody tr th {\n",
       "        vertical-align: top;\n",
       "    }\n",
       "\n",
       "    .dataframe thead th {\n",
       "        text-align: right;\n",
       "    }\n",
       "</style>\n",
       "<table border=\"1\" class=\"dataframe\">\n",
       "  <thead>\n",
       "    <tr style=\"text-align: right;\">\n",
       "      <th></th>\n",
       "      <th>count</th>\n",
       "      <th>unique</th>\n",
       "      <th>top</th>\n",
       "      <th>freq</th>\n",
       "      <th>first</th>\n",
       "      <th>last</th>\n",
       "    </tr>\n",
       "  </thead>\n",
       "  <tbody>\n",
       "    <tr>\n",
       "      <th>Wire 1</th>\n",
       "      <td>3055</td>\n",
       "      <td>3055</td>\n",
       "      <td>2019-05-03 11:11:41</td>\n",
       "      <td>1</td>\n",
       "      <td>2019-05-03 11:11:41</td>\n",
       "      <td>2019-09-01 04:16:01</td>\n",
       "    </tr>\n",
       "    <tr>\n",
       "      <th>Wire 2</th>\n",
       "      <td>1079</td>\n",
       "      <td>1079</td>\n",
       "      <td>2019-05-03 13:32:06</td>\n",
       "      <td>1</td>\n",
       "      <td>2019-05-03 13:32:06</td>\n",
       "      <td>2019-08-31 18:50:15</td>\n",
       "    </tr>\n",
       "    <tr>\n",
       "      <th>Wire 3</th>\n",
       "      <td>63</td>\n",
       "      <td>63</td>\n",
       "      <td>2019-05-04 04:47:53</td>\n",
       "      <td>1</td>\n",
       "      <td>2019-05-04 04:47:53</td>\n",
       "      <td>2019-08-28 02:11:18</td>\n",
       "    </tr>\n",
       "    <tr>\n",
       "      <th>Wire 4</th>\n",
       "      <td>14</td>\n",
       "      <td>14</td>\n",
       "      <td>2019-05-07 08:48:23</td>\n",
       "      <td>1</td>\n",
       "      <td>2019-05-07 08:48:23</td>\n",
       "      <td>2019-08-08 12:03:12</td>\n",
       "    </tr>\n",
       "    <tr>\n",
       "      <th>Wire 5</th>\n",
       "      <td>1</td>\n",
       "      <td>1</td>\n",
       "      <td>2019-08-08 16:01:07</td>\n",
       "      <td>1</td>\n",
       "      <td>2019-08-08 16:01:07</td>\n",
       "      <td>2019-08-08 16:01:07</td>\n",
       "    </tr>\n",
       "    <tr>\n",
       "      <th>Wire 6</th>\n",
       "      <td>73</td>\n",
       "      <td>73</td>\n",
       "      <td>2019-05-07 08:37:20</td>\n",
       "      <td>1</td>\n",
       "      <td>2019-05-07 08:37:20</td>\n",
       "      <td>2019-08-14 00:59:11</td>\n",
       "    </tr>\n",
       "    <tr>\n",
       "      <th>Wire 7</th>\n",
       "      <td>11</td>\n",
       "      <td>11</td>\n",
       "      <td>2019-07-23 12:42:00</td>\n",
       "      <td>1</td>\n",
       "      <td>2019-07-23 12:08:44</td>\n",
       "      <td>2019-08-08 18:27:34</td>\n",
       "    </tr>\n",
       "    <tr>\n",
       "      <th>Wire 8</th>\n",
       "      <td>19</td>\n",
       "      <td>19</td>\n",
       "      <td>2019-05-14 00:03:32</td>\n",
       "      <td>1</td>\n",
       "      <td>2019-05-14 00:03:32</td>\n",
       "      <td>2019-08-11 15:09:29</td>\n",
       "    </tr>\n",
       "    <tr>\n",
       "      <th>Wire 9</th>\n",
       "      <td>29</td>\n",
       "      <td>29</td>\n",
       "      <td>2019-05-04 16:09:11</td>\n",
       "      <td>1</td>\n",
       "      <td>2019-05-04 16:09:11</td>\n",
       "      <td>2019-08-29 03:51:31</td>\n",
       "    </tr>\n",
       "  </tbody>\n",
       "</table>\n",
       "</div>"
      ],
      "text/plain": [
       "       count unique                 top freq               first  \\\n",
       "Wire 1  3055   3055 2019-05-03 11:11:41    1 2019-05-03 11:11:41   \n",
       "Wire 2  1079   1079 2019-05-03 13:32:06    1 2019-05-03 13:32:06   \n",
       "Wire 3    63     63 2019-05-04 04:47:53    1 2019-05-04 04:47:53   \n",
       "Wire 4    14     14 2019-05-07 08:48:23    1 2019-05-07 08:48:23   \n",
       "Wire 5     1      1 2019-08-08 16:01:07    1 2019-08-08 16:01:07   \n",
       "Wire 6    73     73 2019-05-07 08:37:20    1 2019-05-07 08:37:20   \n",
       "Wire 7    11     11 2019-07-23 12:42:00    1 2019-07-23 12:08:44   \n",
       "Wire 8    19     19 2019-05-14 00:03:32    1 2019-05-14 00:03:32   \n",
       "Wire 9    29     29 2019-05-04 16:09:11    1 2019-05-04 16:09:11   \n",
       "\n",
       "                      last  \n",
       "Wire 1 2019-09-01 04:16:01  \n",
       "Wire 2 2019-08-31 18:50:15  \n",
       "Wire 3 2019-08-28 02:11:18  \n",
       "Wire 4 2019-08-08 12:03:12  \n",
       "Wire 5 2019-08-08 16:01:07  \n",
       "Wire 6 2019-08-14 00:59:11  \n",
       "Wire 7 2019-08-08 18:27:34  \n",
       "Wire 8 2019-08-11 15:09:29  \n",
       "Wire 9 2019-08-29 03:51:31  "
      ]
     },
     "execution_count": 65,
     "metadata": {},
     "output_type": "execute_result"
    }
   ],
   "source": [
    "df_wire_time.describe().T"
   ]
  },
  {
   "cell_type": "code",
   "execution_count": 66,
   "metadata": {},
   "outputs": [
    {
     "data": {
      "text/plain": [
       "Wire 1      26\n",
       "Wire 2    2002\n",
       "Wire 3    3018\n",
       "Wire 4    3067\n",
       "Wire 5    3080\n",
       "Wire 6    3008\n",
       "Wire 7    3070\n",
       "Wire 8    3062\n",
       "Wire 9    3052\n",
       "dtype: int64"
      ]
     },
     "execution_count": 66,
     "metadata": {},
     "output_type": "execute_result"
    }
   ],
   "source": [
    "df_wire_time.isna().sum()"
   ]
  },
  {
   "cell_type": "markdown",
   "metadata": {},
   "source": [
    "Let's create histograms of the time of supply of wire materials."
   ]
  },
  {
   "cell_type": "code",
   "execution_count": 67,
   "metadata": {
    "scrolled": false
   },
   "outputs": [
    {
     "data": {
      "image/png": "[encoded data removed]",
      "text/plain": [
       "<Figure size 1008x576 with 1 Axes>"
      ]
     },
     "metadata": {
      "needs_background": "light"
     },
     "output_type": "display_data"
    },
    {
     "data": {
      "image/png": "[encoded data removed]",
      "text/plain": [
       "<Figure size 1008x576 with 1 Axes>"
      ]
     },
     "metadata": {
      "needs_background": "light"
     },
     "output_type": "display_data"
    },
    {
     "data": {
      "image/png": "[encoded data removed]",
      "text/plain": [
       "<Figure size 1008x576 with 1 Axes>"
      ]
     },
     "metadata": {
      "needs_background": "light"
     },
     "output_type": "display_data"
    },
    {
     "data": {
      "image/png": "[encoded data removed]",
      "text/plain": [
       "<Figure size 1008x576 with 1 Axes>"
      ]
     },
     "metadata": {
      "needs_background": "light"
     },
     "output_type": "display_data"
    },
    {
     "data": {
      "image/png": "[encoded data removed]",
      "text/plain": [
       "<Figure size 1008x576 with 1 Axes>"
      ]
     },
     "metadata": {
      "needs_background": "light"
     },
     "output_type": "display_data"
    },
    {
     "data": {
      "image/png": "[encoded data removed]",
      "text/plain": [
       "<Figure size 1008x576 with 1 Axes>"
      ]
     },
     "metadata": {
      "needs_background": "light"
     },
     "output_type": "display_data"
    },
    {
     "data": {
      "image/png": "[encoded data removed]",
      "text/plain": [
       "<Figure size 1008x576 with 1 Axes>"
      ]
     },
     "metadata": {
      "needs_background": "light"
     },
     "output_type": "display_data"
    },
    {
     "data": {
      "image/png": "[encoded data removed]",
      "text/plain": [
       "<Figure size 1008x576 with 1 Axes>"
      ]
     },
     "metadata": {
      "needs_background": "light"
     },
     "output_type": "display_data"
    },
    {
     "data": {
      "image/png": "[encoded data removed]",
      "text/plain": [
       "<Figure size 1008x576 with 1 Axes>"
      ]
     },
     "metadata": {
      "needs_background": "light"
     },
     "output_type": "display_data"
    }
   ],
   "source": [
    "for wire in df_wire_time:\n",
    "    plt.figure(figsize=(14,8))\n",
    "    sns.histplot(data=df_wire_time, x=wire, discrete=True).set(title=wire)\n",
    "    plt.show()"
   ]
  },
  {
   "cell_type": "markdown",
   "metadata": {},
   "source": [
    "We can see that for the supply of wire materials there are also no data for the period from July 11 to July 13, which is also associated with malfunctions. Since time data will not be used for training models as requested by the customer, we will not focus on this table."
   ]
  },
  {
   "cell_type": "markdown",
   "metadata": {},
   "source": [
    "### Conclusion"
   ]
  },
  {
   "cell_type": "markdown",
   "metadata": {},
   "source": [
    "We conducted an exploratory data analysis concluded the following:\n",
    "\n",
    "1. The number of batches in all tables is different.\n",
    "2. A batch with negative reactive power has been identified. It will be necessary to exclude this batch before training models.\n",
    "3. From the time data for bulk and wire, it can be seen that there are no data for the period from 11 to 13 July. Most likely this is due to downtime due to a breakdown or scheduled repairs.\n",
    "4. We identified measurements with temperatures below 1500 degrees. This data will need to be removed before training the models.\n",
    "5. We also identified missing values in the temperature data and bulk and wire feed tables. The nature of the missing values is known from the customer - the material was not added.\n",
    "6. There are duplicate values in the bulk and wire feed data."
   ]
  },
  {
   "cell_type": "markdown",
   "metadata": {},
   "source": [
    "## Data Preprocessing"
   ]
  },
  {
   "cell_type": "markdown",
   "metadata": {},
   "source": [
    "During Exploratory data analysis, we found the following:\n",
    "* a batch with negative reactive power\n",
    "* measurements with temperatures below 1500 degrees \n",
    "* Missing values in temperature data and bulk and wire feed tables\n",
    "* Duplicate values in the data on the supply of bulk and wire materials"
   ]
  },
  {
   "cell_type": "markdown",
   "metadata": {},
   "source": [
    "Let's start the data preprocessing by processing the anomalies, as well as removing intermediate temperature measurements per customer's requirements. "
   ]
  },
  {
   "cell_type": "markdown",
   "metadata": {},
   "source": [
    "### Handling missing values and removing duplicates"
   ]
  },
  {
   "cell_type": "markdown",
   "metadata": {},
   "source": [
    "Since the nature of the NaNs in the data on the supply of bulk and wire materials is known from the customer (the material was not added), we will fill in the missing values with zeros."
   ]
  },
  {
   "cell_type": "code",
   "execution_count": 68,
   "metadata": {},
   "outputs": [],
   "source": [
    "df_bulk = df_bulk.fillna(0)\n",
    "df_wire = df_wire.fillna(0)"
   ]
  },
  {
   "cell_type": "code",
   "execution_count": 69,
   "metadata": {
    "scrolled": true
   },
   "outputs": [
    {
     "data": {
      "text/plain": [
       "bulk_1     0\n",
       "bulk_2     0\n",
       "bulk_3     0\n",
       "bulk_4     0\n",
       "bulk_5     0\n",
       "bulk_6     0\n",
       "bulk_7     0\n",
       "bulk_8     0\n",
       "bulk_9     0\n",
       "bulk_10    0\n",
       "bulk_11    0\n",
       "bulk_12    0\n",
       "bulk_13    0\n",
       "bulk_14    0\n",
       "bulk_15    0\n",
       "dtype: int64"
      ]
     },
     "execution_count": 69,
     "metadata": {},
     "output_type": "execute_result"
    }
   ],
   "source": [
    "df_bulk.isna().sum()"
   ]
  },
  {
   "cell_type": "code",
   "execution_count": 70,
   "metadata": {
    "scrolled": true
   },
   "outputs": [
    {
     "data": {
      "text/plain": [
       "wire_1    0\n",
       "wire_2    0\n",
       "wire_3    0\n",
       "wire_4    0\n",
       "wire_5    0\n",
       "wire_6    0\n",
       "wire_7    0\n",
       "wire_8    0\n",
       "wire_9    0\n",
       "dtype: int64"
      ]
     },
     "execution_count": 70,
     "metadata": {},
     "output_type": "execute_result"
    }
   ],
   "source": [
    "df_wire.isna().sum()"
   ]
  },
  {
   "cell_type": "markdown",
   "metadata": {},
   "source": [
    "Let's get rid of duplicates in bulk materials data"
   ]
  },
  {
   "cell_type": "code",
   "execution_count": 71,
   "metadata": {
    "scrolled": true
   },
   "outputs": [
    {
     "data": {
      "text/plain": [
       "80"
      ]
     },
     "execution_count": 71,
     "metadata": {},
     "output_type": "execute_result"
    }
   ],
   "source": [
    "df_bulk.duplicated().sum()"
   ]
  },
  {
   "cell_type": "code",
   "execution_count": 72,
   "metadata": {},
   "outputs": [],
   "source": [
    "df_bulk = df_bulk.drop_duplicates()"
   ]
  },
  {
   "cell_type": "code",
   "execution_count": 73,
   "metadata": {
    "scrolled": true
   },
   "outputs": [
    {
     "data": {
      "text/plain": [
       "0"
      ]
     },
     "execution_count": 73,
     "metadata": {},
     "output_type": "execute_result"
    }
   ],
   "source": [
    "df_bulk.duplicated().sum()"
   ]
  },
  {
   "cell_type": "markdown",
   "metadata": {},
   "source": [
    "Let's get rid of duplicates in wire feed data"
   ]
  },
  {
   "cell_type": "code",
   "execution_count": 74,
   "metadata": {
    "scrolled": false
   },
   "outputs": [
    {
     "data": {
      "text/plain": [
       "403"
      ]
     },
     "execution_count": 74,
     "metadata": {},
     "output_type": "execute_result"
    }
   ],
   "source": [
    "df_wire.duplicated().sum()"
   ]
  },
  {
   "cell_type": "code",
   "execution_count": 75,
   "metadata": {},
   "outputs": [],
   "source": [
    "df_wire = df_wire.drop_duplicates()"
   ]
  },
  {
   "cell_type": "code",
   "execution_count": 76,
   "metadata": {
    "scrolled": true
   },
   "outputs": [
    {
     "data": {
      "text/plain": [
       "0"
      ]
     },
     "execution_count": 76,
     "metadata": {},
     "output_type": "execute_result"
    }
   ],
   "source": [
    "df_wire.duplicated().sum()"
   ]
  },
  {
   "cell_type": "markdown",
   "metadata": {},
   "source": [
    "### Handling anomalies"
   ]
  },
  {
   "cell_type": "markdown",
   "metadata": {},
   "source": [
    "Let's get rid of batches with missing temperatures."
   ]
  },
  {
   "cell_type": "code",
   "execution_count": 77,
   "metadata": {},
   "outputs": [
    {
     "data": {
      "text/plain": [
       "measurement_time       0\n",
       "temperature         2901\n",
       "dtype: int64"
      ]
     },
     "execution_count": 77,
     "metadata": {},
     "output_type": "execute_result"
    }
   ],
   "source": [
    "df_temp.isna().sum()"
   ]
  },
  {
   "cell_type": "code",
   "execution_count": 78,
   "metadata": {},
   "outputs": [],
   "source": [
    "na_keys = df_temp[df_temp['temperature'].isna()].index.unique()\n",
    "df_temp = df_temp[~df_temp.index.isin(na_keys)].copy()"
   ]
  },
  {
   "cell_type": "markdown",
   "metadata": {},
   "source": [
    "Let's get rid of batches with temperatures below 1500."
   ]
  },
  {
   "cell_type": "code",
   "execution_count": 79,
   "metadata": {
    "scrolled": true
   },
   "outputs": [],
   "source": [
    "low_t = df_temp[df_temp['temperature'] < 1500].index.unique()\n",
    "df_temp = df_temp[~df_temp.index.isin(low_t)].copy()"
   ]
  },
  {
   "cell_type": "markdown",
   "metadata": {},
   "source": [
    "Let's get rid of the batch with negative reactive power."
   ]
  },
  {
   "cell_type": "code",
   "execution_count": 80,
   "metadata": {},
   "outputs": [],
   "source": [
    "neg_power = df_arc[df_arc['reactive_power'] < 0].index.unique()\n",
    "df_arc = df_arc[~df_arc.index.isin(neg_power)].copy()"
   ]
  },
  {
   "cell_type": "markdown",
   "metadata": {},
   "source": [
    "Let's remove the intermediate temperatures, and also add such a parameter as the time between measurements."
   ]
  },
  {
   "cell_type": "code",
   "execution_count": 81,
   "metadata": {},
   "outputs": [],
   "source": [
    "dfs_list = []\n",
    "for key in df_temp.index.unique():\n",
    "    sorted = df_temp[df_temp.index == key].sort_values(by='measurement_time').copy()\n",
    "    dfs_list.append(pd.concat([sorted.head(1), sorted.tail(1)]))"
   ]
  },
  {
   "cell_type": "code",
   "execution_count": 82,
   "metadata": {},
   "outputs": [],
   "source": [
    "df_temp = pd.concat(dfs_list)"
   ]
  },
  {
   "cell_type": "code",
   "execution_count": 83,
   "metadata": {},
   "outputs": [
    {
     "data": {
      "text/html": [
       "<div>\n",
       "<style scoped>\n",
       "    .dataframe tbody tr th:only-of-type {\n",
       "        vertical-align: middle;\n",
       "    }\n",
       "\n",
       "    .dataframe tbody tr th {\n",
       "        vertical-align: top;\n",
       "    }\n",
       "\n",
       "    .dataframe thead th {\n",
       "        text-align: right;\n",
       "    }\n",
       "</style>\n",
       "<table border=\"1\" class=\"dataframe\">\n",
       "  <thead>\n",
       "    <tr style=\"text-align: right;\">\n",
       "      <th></th>\n",
       "      <th>measurement_time</th>\n",
       "      <th>temperature</th>\n",
       "    </tr>\n",
       "    <tr>\n",
       "      <th>key</th>\n",
       "      <th></th>\n",
       "      <th></th>\n",
       "    </tr>\n",
       "  </thead>\n",
       "  <tbody>\n",
       "    <tr>\n",
       "      <th>1</th>\n",
       "      <td>2019-05-03 11:16:18</td>\n",
       "      <td>1571.0</td>\n",
       "    </tr>\n",
       "    <tr>\n",
       "      <th>1</th>\n",
       "      <td>2019-05-03 11:30:39</td>\n",
       "      <td>1613.0</td>\n",
       "    </tr>\n",
       "    <tr>\n",
       "      <th>2</th>\n",
       "      <td>2019-05-03 11:37:27</td>\n",
       "      <td>1581.0</td>\n",
       "    </tr>\n",
       "    <tr>\n",
       "      <th>2</th>\n",
       "      <td>2019-05-03 11:59:12</td>\n",
       "      <td>1602.0</td>\n",
       "    </tr>\n",
       "    <tr>\n",
       "      <th>3</th>\n",
       "      <td>2019-05-03 12:13:17</td>\n",
       "      <td>1596.0</td>\n",
       "    </tr>\n",
       "    <tr>\n",
       "      <th>3</th>\n",
       "      <td>2019-05-03 12:34:57</td>\n",
       "      <td>1599.0</td>\n",
       "    </tr>\n",
       "    <tr>\n",
       "      <th>4</th>\n",
       "      <td>2019-05-03 12:52:57</td>\n",
       "      <td>1601.0</td>\n",
       "    </tr>\n",
       "    <tr>\n",
       "      <th>4</th>\n",
       "      <td>2019-05-03 12:59:25</td>\n",
       "      <td>1625.0</td>\n",
       "    </tr>\n",
       "    <tr>\n",
       "      <th>5</th>\n",
       "      <td>2019-05-03 13:23:19</td>\n",
       "      <td>1576.0</td>\n",
       "    </tr>\n",
       "    <tr>\n",
       "      <th>5</th>\n",
       "      <td>2019-05-03 13:36:01</td>\n",
       "      <td>1602.0</td>\n",
       "    </tr>\n",
       "  </tbody>\n",
       "</table>\n",
       "</div>"
      ],
      "text/plain": [
       "       measurement_time  temperature\n",
       "key                                 \n",
       "1   2019-05-03 11:16:18       1571.0\n",
       "1   2019-05-03 11:30:39       1613.0\n",
       "2   2019-05-03 11:37:27       1581.0\n",
       "2   2019-05-03 11:59:12       1602.0\n",
       "3   2019-05-03 12:13:17       1596.0\n",
       "3   2019-05-03 12:34:57       1599.0\n",
       "4   2019-05-03 12:52:57       1601.0\n",
       "4   2019-05-03 12:59:25       1625.0\n",
       "5   2019-05-03 13:23:19       1576.0\n",
       "5   2019-05-03 13:36:01       1602.0"
      ]
     },
     "execution_count": 83,
     "metadata": {},
     "output_type": "execute_result"
    }
   ],
   "source": [
    "df_temp.head(10)"
   ]
  },
  {
   "cell_type": "code",
   "execution_count": 84,
   "metadata": {
    "scrolled": true
   },
   "outputs": [],
   "source": [
    "df_temp = df_temp.groupby(by=df_temp.index).agg(['first', 'last'])\n",
    "df_temp.columns = df_temp.columns.droplevel()\n",
    "df_temp.columns = ['time_first', 'time_last', 'temp_first', 'temp_last']"
   ]
  },
  {
   "cell_type": "code",
   "execution_count": 85,
   "metadata": {},
   "outputs": [],
   "source": [
    "df_temp['time_btw_measure'] = (\n",
    "                                df_temp['time_last']-df_temp['time_first']\n",
    "                                        ).apply(pd.Timedelta.total_seconds).astype('int')"
   ]
  },
  {
   "cell_type": "code",
   "execution_count": 86,
   "metadata": {},
   "outputs": [],
   "source": [
    "df_temp = df_temp.drop(['time_first', 'time_last'], axis=1)"
   ]
  },
  {
   "cell_type": "code",
   "execution_count": 87,
   "metadata": {
    "scrolled": false
   },
   "outputs": [
    {
     "data": {
      "text/html": [
       "<div>\n",
       "<style scoped>\n",
       "    .dataframe tbody tr th:only-of-type {\n",
       "        vertical-align: middle;\n",
       "    }\n",
       "\n",
       "    .dataframe tbody tr th {\n",
       "        vertical-align: top;\n",
       "    }\n",
       "\n",
       "    .dataframe thead th {\n",
       "        text-align: right;\n",
       "    }\n",
       "</style>\n",
       "<table border=\"1\" class=\"dataframe\">\n",
       "  <thead>\n",
       "    <tr style=\"text-align: right;\">\n",
       "      <th></th>\n",
       "      <th>temp_first</th>\n",
       "      <th>temp_last</th>\n",
       "      <th>time_btw_measure</th>\n",
       "    </tr>\n",
       "    <tr>\n",
       "      <th>key</th>\n",
       "      <th></th>\n",
       "      <th></th>\n",
       "      <th></th>\n",
       "    </tr>\n",
       "  </thead>\n",
       "  <tbody>\n",
       "    <tr>\n",
       "      <th>1</th>\n",
       "      <td>1571.0</td>\n",
       "      <td>1613.0</td>\n",
       "      <td>861</td>\n",
       "    </tr>\n",
       "    <tr>\n",
       "      <th>2</th>\n",
       "      <td>1581.0</td>\n",
       "      <td>1602.0</td>\n",
       "      <td>1305</td>\n",
       "    </tr>\n",
       "    <tr>\n",
       "      <th>3</th>\n",
       "      <td>1596.0</td>\n",
       "      <td>1599.0</td>\n",
       "      <td>1300</td>\n",
       "    </tr>\n",
       "    <tr>\n",
       "      <th>4</th>\n",
       "      <td>1601.0</td>\n",
       "      <td>1625.0</td>\n",
       "      <td>388</td>\n",
       "    </tr>\n",
       "    <tr>\n",
       "      <th>5</th>\n",
       "      <td>1576.0</td>\n",
       "      <td>1602.0</td>\n",
       "      <td>762</td>\n",
       "    </tr>\n",
       "    <tr>\n",
       "      <th>...</th>\n",
       "      <td>...</td>\n",
       "      <td>...</td>\n",
       "      <td>...</td>\n",
       "    </tr>\n",
       "    <tr>\n",
       "      <th>2495</th>\n",
       "      <td>1570.0</td>\n",
       "      <td>1591.0</td>\n",
       "      <td>1137</td>\n",
       "    </tr>\n",
       "    <tr>\n",
       "      <th>2496</th>\n",
       "      <td>1554.0</td>\n",
       "      <td>1591.0</td>\n",
       "      <td>1618</td>\n",
       "    </tr>\n",
       "    <tr>\n",
       "      <th>2497</th>\n",
       "      <td>1571.0</td>\n",
       "      <td>1589.0</td>\n",
       "      <td>717</td>\n",
       "    </tr>\n",
       "    <tr>\n",
       "      <th>2498</th>\n",
       "      <td>1591.0</td>\n",
       "      <td>1594.0</td>\n",
       "      <td>1302</td>\n",
       "    </tr>\n",
       "    <tr>\n",
       "      <th>2499</th>\n",
       "      <td>1569.0</td>\n",
       "      <td>1603.0</td>\n",
       "      <td>1203</td>\n",
       "    </tr>\n",
       "  </tbody>\n",
       "</table>\n",
       "<p>2472 rows × 3 columns</p>\n",
       "</div>"
      ],
      "text/plain": [
       "      temp_first  temp_last  time_btw_measure\n",
       "key                                          \n",
       "1         1571.0     1613.0               861\n",
       "2         1581.0     1602.0              1305\n",
       "3         1596.0     1599.0              1300\n",
       "4         1601.0     1625.0               388\n",
       "5         1576.0     1602.0               762\n",
       "...          ...        ...               ...\n",
       "2495      1570.0     1591.0              1137\n",
       "2496      1554.0     1591.0              1618\n",
       "2497      1571.0     1589.0               717\n",
       "2498      1591.0     1594.0              1302\n",
       "2499      1569.0     1603.0              1203\n",
       "\n",
       "[2472 rows x 3 columns]"
      ]
     },
     "execution_count": 87,
     "metadata": {},
     "output_type": "execute_result"
    }
   ],
   "source": [
    "df_temp"
   ]
  },
  {
   "cell_type": "markdown",
   "metadata": {},
   "source": [
    "### Adding more features"
   ]
  },
  {
   "cell_type": "markdown",
   "metadata": {},
   "source": [
    "Let's calculate and add to the table with data on the electrodes the apparent power, heating time and energy spent on heating."
   ]
  },
  {
   "cell_type": "markdown",
   "metadata": {},
   "source": [
    "Formula for calculating full power: $$S=\\sqrt{Q^2 + P^2} $$, where\n",
    "\n",
    "$S$ - apparent power\n",
    "\n",
    "$Q$ - active power\n",
    "\n",
    "$P$ - reactive power"
   ]
  },
  {
   "cell_type": "code",
   "execution_count": 88,
   "metadata": {},
   "outputs": [],
   "source": [
    "df_arc['apparent_power'] = (df_arc['active_power'] ** 2 + df_arc['reactive_power'] ** 2) ** (0.5)\n",
    "df_arc['heating_time'] = (df_arc['end_heating'] - df_arc['start_heating'])\n",
    "\n",
    "df_arc['heating_time'] = df_arc['heating_time'].apply(pd.Timedelta.total_seconds).astype('int')\n",
    "\n",
    "df_arc['energy'] = df_arc['heating_time'] * df_arc['active_power']"
   ]
  },
  {
   "cell_type": "markdown",
   "metadata": {},
   "source": [
    "### Feature aggregation and table merging"
   ]
  },
  {
   "cell_type": "markdown",
   "metadata": {},
   "source": [
    "Let's group the data for apparent power, heating time and energy."
   ]
  },
  {
   "cell_type": "code",
   "execution_count": 89,
   "metadata": {
    "scrolled": false
   },
   "outputs": [],
   "source": [
    "df_arc = df_arc.groupby(by=df_arc.index).agg({'apparent_power': sum, 'heating_time': sum, 'energy': sum})"
   ]
  },
  {
   "cell_type": "code",
   "execution_count": 90,
   "metadata": {},
   "outputs": [
    {
     "data": {
      "text/html": [
       "<div>\n",
       "<style scoped>\n",
       "    .dataframe tbody tr th:only-of-type {\n",
       "        vertical-align: middle;\n",
       "    }\n",
       "\n",
       "    .dataframe tbody tr th {\n",
       "        vertical-align: top;\n",
       "    }\n",
       "\n",
       "    .dataframe thead th {\n",
       "        text-align: right;\n",
       "    }\n",
       "</style>\n",
       "<table border=\"1\" class=\"dataframe\">\n",
       "  <thead>\n",
       "    <tr style=\"text-align: right;\">\n",
       "      <th></th>\n",
       "      <th>apparent_power</th>\n",
       "      <th>heating_time</th>\n",
       "      <th>energy</th>\n",
       "    </tr>\n",
       "    <tr>\n",
       "      <th>key</th>\n",
       "      <th></th>\n",
       "      <th></th>\n",
       "      <th></th>\n",
       "    </tr>\n",
       "  </thead>\n",
       "  <tbody>\n",
       "    <tr>\n",
       "      <th>1</th>\n",
       "      <td>5.826395</td>\n",
       "      <td>1098</td>\n",
       "      <td>1207.804249</td>\n",
       "    </tr>\n",
       "    <tr>\n",
       "      <th>2</th>\n",
       "      <td>3.649216</td>\n",
       "      <td>811</td>\n",
       "      <td>733.816470</td>\n",
       "    </tr>\n",
       "    <tr>\n",
       "      <th>3</th>\n",
       "      <td>2.989534</td>\n",
       "      <td>655</td>\n",
       "      <td>443.583327</td>\n",
       "    </tr>\n",
       "    <tr>\n",
       "      <th>4</th>\n",
       "      <td>3.814962</td>\n",
       "      <td>741</td>\n",
       "      <td>670.663327</td>\n",
       "    </tr>\n",
       "    <tr>\n",
       "      <th>5</th>\n",
       "      <td>4.035758</td>\n",
       "      <td>869</td>\n",
       "      <td>997.496095</td>\n",
       "    </tr>\n",
       "  </tbody>\n",
       "</table>\n",
       "</div>"
      ],
      "text/plain": [
       "     apparent_power  heating_time       energy\n",
       "key                                           \n",
       "1          5.826395          1098  1207.804249\n",
       "2          3.649216           811   733.816470\n",
       "3          2.989534           655   443.583327\n",
       "4          3.814962           741   670.663327\n",
       "5          4.035758           869   997.496095"
      ]
     },
     "execution_count": 90,
     "metadata": {},
     "output_type": "execute_result"
    }
   ],
   "source": [
    "df_arc.head(5)"
   ]
  },
  {
   "cell_type": "markdown",
   "metadata": {},
   "source": [
    "Let's merge all tables using the keys. We will take into account only those keys that we have in all tables."
   ]
  },
  {
   "cell_type": "code",
   "execution_count": 91,
   "metadata": {},
   "outputs": [],
   "source": [
    "df_final = df_temp.merge(\n",
    "                         df_arc, \n",
    "                         on='key',\n",
    "                         how='inner'\n",
    "                        ).merge(\n",
    "                                df_bulk.fillna(value=0), \n",
    "                                on='key', \n",
    "                         how='inner'\n",
    "                        ).merge(\n",
    "                                df_gas, \n",
    "                                on='key', \n",
    "                         how='inner'\n",
    "                        ).merge(\n",
    "                                df_wire.fillna(value=0), \n",
    "                                on='key', \n",
    "                         how='inner'\n",
    "                        )"
   ]
  },
  {
   "cell_type": "code",
   "execution_count": 92,
   "metadata": {
    "scrolled": true
   },
   "outputs": [
    {
     "data": {
      "text/html": [
       "<div>\n",
       "<style scoped>\n",
       "    .dataframe tbody tr th:only-of-type {\n",
       "        vertical-align: middle;\n",
       "    }\n",
       "\n",
       "    .dataframe tbody tr th {\n",
       "        vertical-align: top;\n",
       "    }\n",
       "\n",
       "    .dataframe thead th {\n",
       "        text-align: right;\n",
       "    }\n",
       "</style>\n",
       "<table border=\"1\" class=\"dataframe\">\n",
       "  <thead>\n",
       "    <tr style=\"text-align: right;\">\n",
       "      <th></th>\n",
       "      <th>temp_first</th>\n",
       "      <th>temp_last</th>\n",
       "      <th>time_btw_measure</th>\n",
       "      <th>apparent_power</th>\n",
       "      <th>heating_time</th>\n",
       "      <th>energy</th>\n",
       "      <th>bulk_1</th>\n",
       "      <th>bulk_2</th>\n",
       "      <th>bulk_3</th>\n",
       "      <th>bulk_4</th>\n",
       "      <th>...</th>\n",
       "      <th>gas_1</th>\n",
       "      <th>wire_1</th>\n",
       "      <th>wire_2</th>\n",
       "      <th>wire_3</th>\n",
       "      <th>wire_4</th>\n",
       "      <th>wire_5</th>\n",
       "      <th>wire_6</th>\n",
       "      <th>wire_7</th>\n",
       "      <th>wire_8</th>\n",
       "      <th>wire_9</th>\n",
       "    </tr>\n",
       "    <tr>\n",
       "      <th>key</th>\n",
       "      <th></th>\n",
       "      <th></th>\n",
       "      <th></th>\n",
       "      <th></th>\n",
       "      <th></th>\n",
       "      <th></th>\n",
       "      <th></th>\n",
       "      <th></th>\n",
       "      <th></th>\n",
       "      <th></th>\n",
       "      <th></th>\n",
       "      <th></th>\n",
       "      <th></th>\n",
       "      <th></th>\n",
       "      <th></th>\n",
       "      <th></th>\n",
       "      <th></th>\n",
       "      <th></th>\n",
       "      <th></th>\n",
       "      <th></th>\n",
       "      <th></th>\n",
       "    </tr>\n",
       "  </thead>\n",
       "  <tbody>\n",
       "    <tr>\n",
       "      <th>1</th>\n",
       "      <td>1571.0</td>\n",
       "      <td>1613.0</td>\n",
       "      <td>861</td>\n",
       "      <td>5.826395</td>\n",
       "      <td>1098</td>\n",
       "      <td>1207.804249</td>\n",
       "      <td>0.0</td>\n",
       "      <td>0.0</td>\n",
       "      <td>0.0</td>\n",
       "      <td>43.0</td>\n",
       "      <td>...</td>\n",
       "      <td>29.749986</td>\n",
       "      <td>60.059998</td>\n",
       "      <td>0.00000</td>\n",
       "      <td>0.0</td>\n",
       "      <td>0.0</td>\n",
       "      <td>0.0</td>\n",
       "      <td>0.0</td>\n",
       "      <td>0.0</td>\n",
       "      <td>0.0</td>\n",
       "      <td>0.0</td>\n",
       "    </tr>\n",
       "    <tr>\n",
       "      <th>2</th>\n",
       "      <td>1581.0</td>\n",
       "      <td>1602.0</td>\n",
       "      <td>1305</td>\n",
       "      <td>3.649216</td>\n",
       "      <td>811</td>\n",
       "      <td>733.816470</td>\n",
       "      <td>0.0</td>\n",
       "      <td>0.0</td>\n",
       "      <td>0.0</td>\n",
       "      <td>73.0</td>\n",
       "      <td>...</td>\n",
       "      <td>12.555561</td>\n",
       "      <td>96.052315</td>\n",
       "      <td>0.00000</td>\n",
       "      <td>0.0</td>\n",
       "      <td>0.0</td>\n",
       "      <td>0.0</td>\n",
       "      <td>0.0</td>\n",
       "      <td>0.0</td>\n",
       "      <td>0.0</td>\n",
       "      <td>0.0</td>\n",
       "    </tr>\n",
       "    <tr>\n",
       "      <th>3</th>\n",
       "      <td>1596.0</td>\n",
       "      <td>1599.0</td>\n",
       "      <td>1300</td>\n",
       "      <td>2.989534</td>\n",
       "      <td>655</td>\n",
       "      <td>443.583327</td>\n",
       "      <td>0.0</td>\n",
       "      <td>0.0</td>\n",
       "      <td>0.0</td>\n",
       "      <td>34.0</td>\n",
       "      <td>...</td>\n",
       "      <td>28.554793</td>\n",
       "      <td>91.160157</td>\n",
       "      <td>0.00000</td>\n",
       "      <td>0.0</td>\n",
       "      <td>0.0</td>\n",
       "      <td>0.0</td>\n",
       "      <td>0.0</td>\n",
       "      <td>0.0</td>\n",
       "      <td>0.0</td>\n",
       "      <td>0.0</td>\n",
       "    </tr>\n",
       "    <tr>\n",
       "      <th>4</th>\n",
       "      <td>1601.0</td>\n",
       "      <td>1625.0</td>\n",
       "      <td>388</td>\n",
       "      <td>3.814962</td>\n",
       "      <td>741</td>\n",
       "      <td>670.663327</td>\n",
       "      <td>0.0</td>\n",
       "      <td>0.0</td>\n",
       "      <td>0.0</td>\n",
       "      <td>81.0</td>\n",
       "      <td>...</td>\n",
       "      <td>18.841219</td>\n",
       "      <td>89.063515</td>\n",
       "      <td>0.00000</td>\n",
       "      <td>0.0</td>\n",
       "      <td>0.0</td>\n",
       "      <td>0.0</td>\n",
       "      <td>0.0</td>\n",
       "      <td>0.0</td>\n",
       "      <td>0.0</td>\n",
       "      <td>0.0</td>\n",
       "    </tr>\n",
       "    <tr>\n",
       "      <th>5</th>\n",
       "      <td>1576.0</td>\n",
       "      <td>1602.0</td>\n",
       "      <td>762</td>\n",
       "      <td>4.035758</td>\n",
       "      <td>869</td>\n",
       "      <td>997.496095</td>\n",
       "      <td>0.0</td>\n",
       "      <td>0.0</td>\n",
       "      <td>0.0</td>\n",
       "      <td>78.0</td>\n",
       "      <td>...</td>\n",
       "      <td>5.413692</td>\n",
       "      <td>89.238236</td>\n",
       "      <td>9.11456</td>\n",
       "      <td>0.0</td>\n",
       "      <td>0.0</td>\n",
       "      <td>0.0</td>\n",
       "      <td>0.0</td>\n",
       "      <td>0.0</td>\n",
       "      <td>0.0</td>\n",
       "      <td>0.0</td>\n",
       "    </tr>\n",
       "  </tbody>\n",
       "</table>\n",
       "<p>5 rows × 31 columns</p>\n",
       "</div>"
      ],
      "text/plain": [
       "     temp_first  temp_last  time_btw_measure  apparent_power  heating_time  \\\n",
       "key                                                                          \n",
       "1        1571.0     1613.0               861        5.826395          1098   \n",
       "2        1581.0     1602.0              1305        3.649216           811   \n",
       "3        1596.0     1599.0              1300        2.989534           655   \n",
       "4        1601.0     1625.0               388        3.814962           741   \n",
       "5        1576.0     1602.0               762        4.035758           869   \n",
       "\n",
       "          energy  bulk_1  bulk_2  bulk_3  bulk_4  ...      gas_1     wire_1  \\\n",
       "key                                               ...                         \n",
       "1    1207.804249     0.0     0.0     0.0    43.0  ...  29.749986  60.059998   \n",
       "2     733.816470     0.0     0.0     0.0    73.0  ...  12.555561  96.052315   \n",
       "3     443.583327     0.0     0.0     0.0    34.0  ...  28.554793  91.160157   \n",
       "4     670.663327     0.0     0.0     0.0    81.0  ...  18.841219  89.063515   \n",
       "5     997.496095     0.0     0.0     0.0    78.0  ...   5.413692  89.238236   \n",
       "\n",
       "      wire_2  wire_3  wire_4  wire_5  wire_6  wire_7  wire_8  wire_9  \n",
       "key                                                                   \n",
       "1    0.00000     0.0     0.0     0.0     0.0     0.0     0.0     0.0  \n",
       "2    0.00000     0.0     0.0     0.0     0.0     0.0     0.0     0.0  \n",
       "3    0.00000     0.0     0.0     0.0     0.0     0.0     0.0     0.0  \n",
       "4    0.00000     0.0     0.0     0.0     0.0     0.0     0.0     0.0  \n",
       "5    9.11456     0.0     0.0     0.0     0.0     0.0     0.0     0.0  \n",
       "\n",
       "[5 rows x 31 columns]"
      ]
     },
     "execution_count": 92,
     "metadata": {},
     "output_type": "execute_result"
    }
   ],
   "source": [
    "df_final.head(5)"
   ]
  },
  {
   "cell_type": "markdown",
   "metadata": {},
   "source": [
    "### Data split and model training"
   ]
  },
  {
   "cell_type": "markdown",
   "metadata": {},
   "source": [
    "The data has been preprocessed. Let's divide the data into features and a target variable."
   ]
  },
  {
   "cell_type": "code",
   "execution_count": 93,
   "metadata": {},
   "outputs": [],
   "source": [
    "features = df_final.drop('temp_last', axis=1)\n",
    "target = df_final['temp_last']"
   ]
  },
  {
   "cell_type": "code",
   "execution_count": 94,
   "metadata": {
    "scrolled": true
   },
   "outputs": [
    {
     "name": "stdout",
     "output_type": "stream",
     "text": [
      "Features shape: (2028, 30)\n",
      "Target Variable shape: (2028,)\n"
     ]
    }
   ],
   "source": [
    "print('Features shape:',features.shape)\n",
    "print('Target Variable shape:',target.shape)"
   ]
  },
  {
   "cell_type": "markdown",
   "metadata": {},
   "source": [
    "Let's split the data into two sets: training and test. We will use the training set for model training, hyperparameter tuning and cross-validation, and the test set for testing the best model."
   ]
  },
  {
   "cell_type": "code",
   "execution_count": 95,
   "metadata": {},
   "outputs": [],
   "source": [
    "X_train , X_test , y_train , y_test = train_test_split (\n",
    "    features, target, test_size = .25,\n",
    "    random_state = RANDOM_STATE\n",
    ")"
   ]
  },
  {
   "cell_type": "code",
   "execution_count": 96,
   "metadata": {
    "scrolled": false
   },
   "outputs": [
    {
     "name": "stdout",
     "output_type": "stream",
     "text": [
      "Features shape of the training set: (1521, 30)\n",
      "Target variable shape of the training set: (1521,)\n",
      "Features shape of the test set: (507, 30)\n",
      "Target variable shape of the test set: (507,)\n"
     ]
    }
   ],
   "source": [
    "print('Features shape of the training set:', X_train.shape), \n",
    "print('Target variable shape of the training set:', y_train.shape), \n",
    "print('Features shape of the test set:', X_test.shape), \n",
    "print('Target variable shape of the test set:', y_test.shape)"
   ]
  },
  {
   "cell_type": "markdown",
   "metadata": {},
   "source": [
    "We split the data into two sets in a ratio of 75 to 25:\n",
    "\n",
    "     X_train, y_train - training set\n",
    "     X_test, y_test - test set"
   ]
  },
  {
   "cell_type": "markdown",
   "metadata": {},
   "source": [
    "Let's create lists to add model results to them. After the tests, we will create a summary table and analyze the results."
   ]
  },
  {
   "cell_type": "code",
   "execution_count": 97,
   "metadata": {},
   "outputs": [],
   "source": [
    "model_name = []\n",
    "model_mae = []"
   ]
  },
  {
   "cell_type": "markdown",
   "metadata": {},
   "source": [
    "<b> ElasticNet</b>"
   ]
  },
  {
   "cell_type": "markdown",
   "metadata": {},
   "source": [
    "To begin with, let's tune hyperparameters using GridSearchCV, and then train the ElasticNet model. We will use a pipeline with a StandardScaler to feed the data into the model. "
   ]
  },
  {
   "cell_type": "code",
   "execution_count": 98,
   "metadata": {},
   "outputs": [],
   "source": [
    "pipe_en = Pipeline(\n",
    "        [('scaler', StandardScaler()),\n",
    "         ('en', ElasticNet())]\n",
    "    )  "
   ]
  },
  {
   "cell_type": "code",
   "execution_count": 99,
   "metadata": {},
   "outputs": [],
   "source": [
    "grid_en = {'en__alpha': (0.1, 1), \n",
    "                 'en__l1_ratio': (0.1, 1), \n",
    "                 'en__random_state': [RANDOM_STATE]}"
   ]
  },
  {
   "cell_type": "code",
   "execution_count": 100,
   "metadata": {
    "scrolled": true
   },
   "outputs": [
    {
     "name": "stdout",
     "output_type": "stream",
     "text": [
      "The best MAE for ElasticNet: 6.350334830137163\n"
     ]
    }
   ],
   "source": [
    "grid_en = GridSearchCV(pipe_en, grid_en, cv=5, scoring='neg_mean_absolute_error')\n",
    "grid_en.fit(X_train, y_train)\n",
    "\n",
    "mae_en = abs(grid_en.best_score_)\n",
    "print(f'The best MAE for ElasticNet: {mae_en}')"
   ]
  },
  {
   "cell_type": "code",
   "execution_count": 101,
   "metadata": {},
   "outputs": [],
   "source": [
    "model_name.append('ElasticNet')\n",
    "model_mae.append(mae_en)"
   ]
  },
  {
   "cell_type": "markdown",
   "metadata": {},
   "source": [
    "<b>Random Forest</b>"
   ]
  },
  {
   "cell_type": "markdown",
   "metadata": {},
   "source": [
    "Let's tune hyperparameters using GridSearchCV, and then train the `Random Forest` model. For a `Random Forest` model, there is no need to scale the data."
   ]
  },
  {
   "cell_type": "code",
   "execution_count": 102,
   "metadata": {},
   "outputs": [],
   "source": [
    "rf_reg = RandomForestRegressor()    "
   ]
  },
  {
   "cell_type": "code",
   "execution_count": 103,
   "metadata": {},
   "outputs": [],
   "source": [
    "grid_rf = {'n_estimators': [20, 40, 60, 80, 100, 120],\n",
    "           'random_state': [RANDOM_STATE]}"
   ]
  },
  {
   "cell_type": "code",
   "execution_count": 104,
   "metadata": {},
   "outputs": [
    {
     "name": "stdout",
     "output_type": "stream",
     "text": [
      "The best MAE for Random Forest: 6.1072524266609145\n"
     ]
    }
   ],
   "source": [
    "grid_rf = GridSearchCV(rf_reg, grid_rf, cv=5, scoring='neg_mean_absolute_error')\n",
    "grid_rf.fit(X_train, y_train)\n",
    "\n",
    "mae_rf = abs(grid_rf.best_score_)\n",
    "print(f'The best MAE for Random Forest: {mae_rf}')"
   ]
  },
  {
   "cell_type": "code",
   "execution_count": 105,
   "metadata": {},
   "outputs": [],
   "source": [
    "model_name.append('Random Forest')\n",
    "model_mae.append(mae_rf)"
   ]
  },
  {
   "cell_type": "markdown",
   "metadata": {},
   "source": [
    "<b>LightGBM </b>"
   ]
  },
  {
   "cell_type": "markdown",
   "metadata": {},
   "source": [
    "Let's tune hyperparameters using GridSearchCV, train the model and check the MAE on the training data."
   ]
  },
  {
   "cell_type": "code",
   "execution_count": 106,
   "metadata": {},
   "outputs": [],
   "source": [
    "lgbm = lgb.LGBMRegressor()"
   ]
  },
  {
   "cell_type": "code",
   "execution_count": 107,
   "metadata": {},
   "outputs": [],
   "source": [
    "grid_lgbm = {'learning_rate': [0.01, 0.1, 0.3], \n",
    "             'num_iterations': [100, 200], \n",
    "             'random_state': [RANDOM_STATE]}"
   ]
  },
  {
   "cell_type": "code",
   "execution_count": 108,
   "metadata": {
    "scrolled": true
   },
   "outputs": [
    {
     "name": "stdout",
     "output_type": "stream",
     "text": [
      "Fitting 5 folds for each of 6 candidates, totalling 30 fits\n",
      "The best MAE for LightGBM: 6.060241394291451\n"
     ]
    }
   ],
   "source": [
    "grid_lgbm = GridSearchCV(lgbm, grid_lgbm, cv=5, scoring='neg_mean_absolute_error', verbose=20, n_jobs=-1) \n",
    "grid_lgbm.fit(X_train, y_train)\n",
    "\n",
    "mae_lgbm = abs(grid_lgbm.best_score_)\n",
    "print(f'The best MAE for LightGBM: {mae_lgbm}')"
   ]
  },
  {
   "cell_type": "code",
   "execution_count": 109,
   "metadata": {},
   "outputs": [],
   "source": [
    "model_name.append('LightGBM')\n",
    "model_mae.append(mae_lgbm)"
   ]
  },
  {
   "cell_type": "markdown",
   "metadata": {},
   "source": [
    "<b>Voting Regressor </b>"
   ]
  },
  {
   "cell_type": "markdown",
   "metadata": {},
   "source": [
    "Let's create an ensemble of models (`Random Forest`, `ElasticNet` and `LightGBM`) based on `VotingRegressor`. For ElasticNet, we will feed the features through a pipeline with scaling (StandardScaler). We will check the value of the MAE using cross-validation."
   ]
  },
  {
   "cell_type": "code",
   "execution_count": 110,
   "metadata": {},
   "outputs": [],
   "source": [
    "rf_reg = RandomForestRegressor(random_state=RANDOM_STATE, n_estimators=100)\n",
    "en_reg = Pipeline(\n",
    "    [('scaler', StandardScaler()),\n",
    "     ('en', ElasticNet(random_state=RANDOM_STATE, alpha=0.1, l1_ratio=1))]\n",
    "    )\n",
    "lgbm_reg = lgb.LGBMRegressor(random_state=RANDOM_STATE, learning_rate=0.1, num_iterations=100)"
   ]
  },
  {
   "cell_type": "code",
   "execution_count": 111,
   "metadata": {},
   "outputs": [],
   "source": [
    "voting_reg = VotingRegressor(estimators=[('rf', rf_reg), \n",
    "                                        ('en', en_reg), \n",
    "                                        ('lgbm', lgbm_reg)])\n",
    "\n",
    "cv_scores = cross_val_score(voting_reg, X_train, y_train, cv=5, scoring='neg_mean_absolute_error')"
   ]
  },
  {
   "cell_type": "code",
   "execution_count": 112,
   "metadata": {},
   "outputs": [
    {
     "name": "stdout",
     "output_type": "stream",
     "text": [
      "The best cross-validation MAE for Voting Regressor: 5.883075050927628\n"
     ]
    }
   ],
   "source": [
    "mae_voting = abs(cv_scores.mean())\n",
    "print(f'The best cross-validation MAE for Voting Regressor: {mae_voting}')"
   ]
  },
  {
   "cell_type": "code",
   "execution_count": 113,
   "metadata": {},
   "outputs": [],
   "source": [
    "model_name.append('VotingRegressor')\n",
    "model_mae.append(mae_voting)"
   ]
  },
  {
   "cell_type": "markdown",
   "metadata": {},
   "source": [
    "<b>Stacking (ElasticNet, Random Forest, SGD + CatBoost (final))</b>"
   ]
  },
  {
   "cell_type": "markdown",
   "metadata": {},
   "source": [
    "Let's create an ensemble of models using the `Stack method`. We will use the following models: `ElasticNet`, `Random Forest`, `SGD`. For linear models such as `ElasticNet` and `SGD`, we will feed the features through a pipeline with StandardScaler scaling. We will make the final prediction using `CatBoost`. Cross validation is already built into the `StackingRegressor` by default."
   ]
  },
  {
   "cell_type": "code",
   "execution_count": 114,
   "metadata": {},
   "outputs": [],
   "source": [
    "estimators = [('en', Pipeline([('scaler', StandardScaler()),\n",
    "                                ('en', ElasticNet(random_state=RANDOM_STATE, alpha=0.1, l1_ratio=1))])),\n",
    "              ('rf', RandomForestRegressor(random_state=RANDOM_STATE, n_estimators=100)),\n",
    "              ('sgd', Pipeline([('scaler', StandardScaler()),\n",
    "                                 ('sgd', SGDRegressor(random_state=RANDOM_STATE, max_iter=1000, tol=1e-3))]\n",
    "    ))]"
   ]
  },
  {
   "cell_type": "code",
   "execution_count": 115,
   "metadata": {
    "scrolled": true
   },
   "outputs": [],
   "source": [
    "final_estimator = CatBoostRegressor(random_seed=RANDOM_STATE,\n",
    "                                    depth=4,\n",
    "                                    iterations=200,\n",
    "                                    learning_rate=0.1,\n",
    "                                    verbose=False)\n",
    "\n",
    "stacking_model = StackingRegressor(estimators=estimators, final_estimator=final_estimator)"
   ]
  },
  {
   "cell_type": "code",
   "execution_count": 116,
   "metadata": {},
   "outputs": [
    {
     "data": {
      "text/html": [
       "<style>#sk-container-id-1 {color: black;background-color: white;}#sk-container-id-1 pre{padding: 0;}#sk-container-id-1 div.sk-toggleable {background-color: white;}#sk-container-id-1 label.sk-toggleable__label {cursor: pointer;display: block;width: 100%;margin-bottom: 0;padding: 0.3em;box-sizing: border-box;text-align: center;}#sk-container-id-1 label.sk-toggleable__label-arrow:before {content: \"▸\";float: left;margin-right: 0.25em;color: #696969;}#sk-container-id-1 label.sk-toggleable__label-arrow:hover:before {color: black;}#sk-container-id-1 div.sk-estimator:hover label.sk-toggleable__label-arrow:before {color: black;}#sk-container-id-1 div.sk-toggleable__content {max-height: 0;max-width: 0;overflow: hidden;text-align: left;background-color: #f0f8ff;}#sk-container-id-1 div.sk-toggleable__content pre {margin: 0.2em;color: black;border-radius: 0.25em;background-color: #f0f8ff;}#sk-container-id-1 input.sk-toggleable__control:checked~div.sk-toggleable__content {max-height: 200px;max-width: 100%;overflow: auto;}#sk-container-id-1 input.sk-toggleable__control:checked~label.sk-toggleable__label-arrow:before {content: \"▾\";}#sk-container-id-1 div.sk-estimator input.sk-toggleable__control:checked~label.sk-toggleable__label {background-color: #d4ebff;}#sk-container-id-1 div.sk-label input.sk-toggleable__control:checked~label.sk-toggleable__label {background-color: #d4ebff;}#sk-container-id-1 input.sk-hidden--visually {border: 0;clip: rect(1px 1px 1px 1px);clip: rect(1px, 1px, 1px, 1px);height: 1px;margin: -1px;overflow: hidden;padding: 0;position: absolute;width: 1px;}#sk-container-id-1 div.sk-estimator {font-family: monospace;background-color: #f0f8ff;border: 1px dotted black;border-radius: 0.25em;box-sizing: border-box;margin-bottom: 0.5em;}#sk-container-id-1 div.sk-estimator:hover {background-color: #d4ebff;}#sk-container-id-1 div.sk-parallel-item::after {content: \"\";width: 100%;border-bottom: 1px solid gray;flex-grow: 1;}#sk-container-id-1 div.sk-label:hover label.sk-toggleable__label {background-color: #d4ebff;}#sk-container-id-1 div.sk-serial::before {content: \"\";position: absolute;border-left: 1px solid gray;box-sizing: border-box;top: 0;bottom: 0;left: 50%;z-index: 0;}#sk-container-id-1 div.sk-serial {display: flex;flex-direction: column;align-items: center;background-color: white;padding-right: 0.2em;padding-left: 0.2em;position: relative;}#sk-container-id-1 div.sk-item {position: relative;z-index: 1;}#sk-container-id-1 div.sk-parallel {display: flex;align-items: stretch;justify-content: center;background-color: white;position: relative;}#sk-container-id-1 div.sk-item::before, #sk-container-id-1 div.sk-parallel-item::before {content: \"\";position: absolute;border-left: 1px solid gray;box-sizing: border-box;top: 0;bottom: 0;left: 50%;z-index: -1;}#sk-container-id-1 div.sk-parallel-item {display: flex;flex-direction: column;z-index: 1;position: relative;background-color: white;}#sk-container-id-1 div.sk-parallel-item:first-child::after {align-self: flex-end;width: 50%;}#sk-container-id-1 div.sk-parallel-item:last-child::after {align-self: flex-start;width: 50%;}#sk-container-id-1 div.sk-parallel-item:only-child::after {width: 0;}#sk-container-id-1 div.sk-dashed-wrapped {border: 1px dashed gray;margin: 0 0.4em 0.5em 0.4em;box-sizing: border-box;padding-bottom: 0.4em;background-color: white;}#sk-container-id-1 div.sk-label label {font-family: monospace;font-weight: bold;display: inline-block;line-height: 1.2em;}#sk-container-id-1 div.sk-label-container {text-align: center;}#sk-container-id-1 div.sk-container {/* jupyter's `normalize.less` sets `[hidden] { display: none; }` but bootstrap.min.css set `[hidden] { display: none !important; }` so we also need the `!important` here to be able to override the default hidden behavior on the sphinx rendered scikit-learn.org. See: https://github.com/scikit-learn/scikit-learn/issues/21755 */display: inline-block !important;position: relative;}#sk-container-id-1 div.sk-text-repr-fallback {display: none;}</style><div id=\"sk-container-id-1\" class=\"sk-top-container\"><div class=\"sk-text-repr-fallback\"><pre>StackingRegressor(estimators=[(&#x27;en&#x27;,\n",
       "                               Pipeline(steps=[(&#x27;scaler&#x27;, StandardScaler()),\n",
       "                                               (&#x27;en&#x27;,\n",
       "                                                ElasticNet(alpha=0.1,\n",
       "                                                           l1_ratio=1,\n",
       "                                                           random_state=11122))])),\n",
       "                              (&#x27;rf&#x27;, RandomForestRegressor(random_state=11122)),\n",
       "                              (&#x27;sgd&#x27;,\n",
       "                               Pipeline(steps=[(&#x27;scaler&#x27;, StandardScaler()),\n",
       "                                               (&#x27;sgd&#x27;,\n",
       "                                                SGDRegressor(random_state=11122))]))],\n",
       "                  final_estimator=&lt;catboost.core.CatBoostRegressor object at 0x000001DE544D0E20&gt;)</pre><b>In a Jupyter environment, please rerun this cell to show the HTML representation or trust the notebook. <br />On GitHub, the HTML representation is unable to render, please try loading this page with nbviewer.org.</b></div><div class=\"sk-container\" hidden><div class=\"sk-item sk-dashed-wrapped\"><div class=\"sk-label-container\"><div class=\"sk-label sk-toggleable\"><input class=\"sk-toggleable__control sk-hidden--visually\" id=\"sk-estimator-id-1\" type=\"checkbox\" ><label for=\"sk-estimator-id-1\" class=\"sk-toggleable__label sk-toggleable__label-arrow\">StackingRegressor</label><div class=\"sk-toggleable__content\"><pre>StackingRegressor(estimators=[(&#x27;en&#x27;,\n",
       "                               Pipeline(steps=[(&#x27;scaler&#x27;, StandardScaler()),\n",
       "                                               (&#x27;en&#x27;,\n",
       "                                                ElasticNet(alpha=0.1,\n",
       "                                                           l1_ratio=1,\n",
       "                                                           random_state=11122))])),\n",
       "                              (&#x27;rf&#x27;, RandomForestRegressor(random_state=11122)),\n",
       "                              (&#x27;sgd&#x27;,\n",
       "                               Pipeline(steps=[(&#x27;scaler&#x27;, StandardScaler()),\n",
       "                                               (&#x27;sgd&#x27;,\n",
       "                                                SGDRegressor(random_state=11122))]))],\n",
       "                  final_estimator=&lt;catboost.core.CatBoostRegressor object at 0x000001DE544D0E20&gt;)</pre></div></div></div><div class=\"sk-serial\"><div class=\"sk-item\"><div class=\"sk-parallel\"><div class=\"sk-parallel-item\"><div class=\"sk-item\"><div class=\"sk-label-container\"><div class=\"sk-label sk-toggleable\"><label>en</label></div></div><div class=\"sk-serial\"><div class=\"sk-item\"><div class=\"sk-serial\"><div class=\"sk-item\"><div class=\"sk-estimator sk-toggleable\"><input class=\"sk-toggleable__control sk-hidden--visually\" id=\"sk-estimator-id-2\" type=\"checkbox\" ><label for=\"sk-estimator-id-2\" class=\"sk-toggleable__label sk-toggleable__label-arrow\">StandardScaler</label><div class=\"sk-toggleable__content\"><pre>StandardScaler()</pre></div></div></div><div class=\"sk-item\"><div class=\"sk-estimator sk-toggleable\"><input class=\"sk-toggleable__control sk-hidden--visually\" id=\"sk-estimator-id-3\" type=\"checkbox\" ><label for=\"sk-estimator-id-3\" class=\"sk-toggleable__label sk-toggleable__label-arrow\">ElasticNet</label><div class=\"sk-toggleable__content\"><pre>ElasticNet(alpha=0.1, l1_ratio=1, random_state=11122)</pre></div></div></div></div></div></div></div></div><div class=\"sk-parallel-item\"><div class=\"sk-item\"><div class=\"sk-label-container\"><div class=\"sk-label sk-toggleable\"><label>rf</label></div></div><div class=\"sk-serial\"><div class=\"sk-item\"><div class=\"sk-estimator sk-toggleable\"><input class=\"sk-toggleable__control sk-hidden--visually\" id=\"sk-estimator-id-4\" type=\"checkbox\" ><label for=\"sk-estimator-id-4\" class=\"sk-toggleable__label sk-toggleable__label-arrow\">RandomForestRegressor</label><div class=\"sk-toggleable__content\"><pre>RandomForestRegressor(random_state=11122)</pre></div></div></div></div></div></div><div class=\"sk-parallel-item\"><div class=\"sk-item\"><div class=\"sk-label-container\"><div class=\"sk-label sk-toggleable\"><label>sgd</label></div></div><div class=\"sk-serial\"><div class=\"sk-item\"><div class=\"sk-serial\"><div class=\"sk-item\"><div class=\"sk-estimator sk-toggleable\"><input class=\"sk-toggleable__control sk-hidden--visually\" id=\"sk-estimator-id-5\" type=\"checkbox\" ><label for=\"sk-estimator-id-5\" class=\"sk-toggleable__label sk-toggleable__label-arrow\">StandardScaler</label><div class=\"sk-toggleable__content\"><pre>StandardScaler()</pre></div></div></div><div class=\"sk-item\"><div class=\"sk-estimator sk-toggleable\"><input class=\"sk-toggleable__control sk-hidden--visually\" id=\"sk-estimator-id-6\" type=\"checkbox\" ><label for=\"sk-estimator-id-6\" class=\"sk-toggleable__label sk-toggleable__label-arrow\">SGDRegressor</label><div class=\"sk-toggleable__content\"><pre>SGDRegressor(random_state=11122)</pre></div></div></div></div></div></div></div></div></div></div><div class=\"sk-item\"><div class=\"sk-parallel\"><div class=\"sk-parallel-item\"><div class=\"sk-item\"><div class=\"sk-label-container\"><div class=\"sk-label sk-toggleable\"><label>final_estimator</label></div></div><div class=\"sk-serial\"><div class=\"sk-item\"><div class=\"sk-estimator sk-toggleable\"><input class=\"sk-toggleable__control sk-hidden--visually\" id=\"sk-estimator-id-7\" type=\"checkbox\" ><label for=\"sk-estimator-id-7\" class=\"sk-toggleable__label sk-toggleable__label-arrow\">CatBoostRegressor</label><div class=\"sk-toggleable__content\"><pre>&lt;catboost.core.CatBoostRegressor object at 0x000001DE544D0E20&gt;</pre></div></div></div></div></div></div></div></div></div></div></div></div>"
      ],
      "text/plain": [
       "StackingRegressor(estimators=[('en',\n",
       "                               Pipeline(steps=[('scaler', StandardScaler()),\n",
       "                                               ('en',\n",
       "                                                ElasticNet(alpha=0.1,\n",
       "                                                           l1_ratio=1,\n",
       "                                                           random_state=11122))])),\n",
       "                              ('rf', RandomForestRegressor(random_state=11122)),\n",
       "                              ('sgd',\n",
       "                               Pipeline(steps=[('scaler', StandardScaler()),\n",
       "                                               ('sgd',\n",
       "                                                SGDRegressor(random_state=11122))]))],\n",
       "                  final_estimator=<catboost.core.CatBoostRegressor object at 0x000001DE544D0E20>)"
      ]
     },
     "execution_count": 116,
     "metadata": {},
     "output_type": "execute_result"
    }
   ],
   "source": [
    "stacking_model.fit(X_train, y_train)"
   ]
  },
  {
   "cell_type": "code",
   "execution_count": 117,
   "metadata": {},
   "outputs": [
    {
     "name": "stdout",
     "output_type": "stream",
     "text": [
      "The best MAE for Stacking ensemble on the training data: 4.643704760662627\n"
     ]
    }
   ],
   "source": [
    "stacking_model_pred_train = stacking_model.predict(X_train)\n",
    "mae_stacking = mean_absolute_error(y_train, stacking_model_pred_train)\n",
    "print(f'The best MAE for Stacking ensemble on the training data: {mae_stacking}')"
   ]
  },
  {
   "cell_type": "code",
   "execution_count": 118,
   "metadata": {},
   "outputs": [],
   "source": [
    "model_name.append('Stacking')\n",
    "model_mae.append(mae_stacking)"
   ]
  },
  {
   "cell_type": "markdown",
   "metadata": {},
   "source": [
    "<b>CatBoost </b>"
   ]
  },
  {
   "cell_type": "markdown",
   "metadata": {},
   "source": [
    "Let's tune hyperparameters using GridSearchCV, train the model and check the MAE on the training data."
   ]
  },
  {
   "cell_type": "code",
   "execution_count": 119,
   "metadata": {},
   "outputs": [],
   "source": [
    "catboost = CatBoostRegressor()"
   ]
  },
  {
   "cell_type": "code",
   "execution_count": 120,
   "metadata": {},
   "outputs": [],
   "source": [
    "grid_catboost_params = {'learning_rate': [0.01, 0.1], \n",
    "                        'depth': [4, 6, 10], \n",
    "                        'iterations': [100, 200], \n",
    "                        'verbose': [20], \n",
    "                        'random_seed': [RANDOM_STATE]}"
   ]
  },
  {
   "cell_type": "code",
   "execution_count": 121,
   "metadata": {
    "scrolled": true
   },
   "outputs": [
    {
     "name": "stdout",
     "output_type": "stream",
     "text": [
      "0:\tlearn: 11.6603959\ttotal: 6.66ms\tremaining: 660ms\n",
      "20:\tlearn: 11.1479400\ttotal: 67.9ms\tremaining: 255ms\n",
      "40:\tlearn: 10.7359525\ttotal: 110ms\tremaining: 159ms\n",
      "60:\tlearn: 10.4035052\ttotal: 140ms\tremaining: 89.7ms\n",
      "80:\tlearn: 10.1037029\ttotal: 174ms\tremaining: 40.9ms\n",
      "99:\tlearn: 9.8637508\ttotal: 206ms\tremaining: 0us\n",
      "0:\tlearn: 11.2529852\ttotal: 2.78ms\tremaining: 275ms\n",
      "20:\tlearn: 10.7774025\ttotal: 40.3ms\tremaining: 152ms\n",
      "40:\tlearn: 10.3682817\ttotal: 70.2ms\tremaining: 101ms\n",
      "60:\tlearn: 10.0310003\ttotal: 99ms\tremaining: 63.3ms\n",
      "80:\tlearn: 9.7346181\ttotal: 138ms\tremaining: 32.4ms\n",
      "99:\tlearn: 9.5080973\ttotal: 192ms\tremaining: 0us\n",
      "0:\tlearn: 10.9262003\ttotal: 2.73ms\tremaining: 270ms\n",
      "20:\tlearn: 10.4933672\ttotal: 49.7ms\tremaining: 187ms\n",
      "40:\tlearn: 10.1295627\ttotal: 100ms\tremaining: 144ms\n",
      "60:\tlearn: 9.8340119\ttotal: 144ms\tremaining: 91.8ms\n",
      "80:\tlearn: 9.5732681\ttotal: 185ms\tremaining: 43.5ms\n",
      "99:\tlearn: 9.3624536\ttotal: 223ms\tremaining: 0us\n",
      "0:\tlearn: 11.3884338\ttotal: 2.26ms\tremaining: 224ms\n",
      "20:\tlearn: 10.8703001\ttotal: 35.2ms\tremaining: 132ms\n",
      "40:\tlearn: 10.4321019\ttotal: 69.2ms\tremaining: 99.6ms\n",
      "60:\tlearn: 10.0564292\ttotal: 130ms\tremaining: 83.1ms\n",
      "80:\tlearn: 9.7466139\ttotal: 166ms\tremaining: 38.8ms\n",
      "99:\tlearn: 9.4921645\ttotal: 192ms\tremaining: 0us\n",
      "0:\tlearn: 11.1469476\ttotal: 1.96ms\tremaining: 194ms\n",
      "20:\tlearn: 10.6494080\ttotal: 46.8ms\tremaining: 176ms\n",
      "40:\tlearn: 10.2296527\ttotal: 86.4ms\tremaining: 124ms\n",
      "60:\tlearn: 9.8826977\ttotal: 116ms\tremaining: 74.2ms\n",
      "80:\tlearn: 9.5910408\ttotal: 146ms\tremaining: 34.3ms\n",
      "99:\tlearn: 9.3588135\ttotal: 176ms\tremaining: 0us\n",
      "0:\tlearn: 11.3983093\ttotal: 2.27ms\tremaining: 224ms\n",
      "20:\tlearn: 8.9265278\ttotal: 32.7ms\tremaining: 123ms\n",
      "40:\tlearn: 8.0820094\ttotal: 72.1ms\tremaining: 104ms\n",
      "60:\tlearn: 7.5646737\ttotal: 105ms\tremaining: 67ms\n",
      "80:\tlearn: 7.0955606\ttotal: 133ms\tremaining: 31.3ms\n",
      "99:\tlearn: 6.7355549\ttotal: 177ms\tremaining: 0us\n",
      "0:\tlearn: 11.0586786\ttotal: 2.71ms\tremaining: 268ms\n",
      "20:\tlearn: 8.6051905\ttotal: 41.8ms\tremaining: 157ms\n",
      "40:\tlearn: 7.7686079\ttotal: 79.9ms\tremaining: 115ms\n",
      "60:\tlearn: 7.3198651\ttotal: 111ms\tremaining: 70.8ms\n",
      "80:\tlearn: 6.9180535\ttotal: 142ms\tremaining: 33.4ms\n",
      "99:\tlearn: 6.5752784\ttotal: 180ms\tremaining: 0us\n",
      "0:\tlearn: 10.6967359\ttotal: 2.07ms\tremaining: 205ms\n",
      "20:\tlearn: 8.6355624\ttotal: 37.4ms\tremaining: 141ms\n",
      "40:\tlearn: 7.8321784\ttotal: 69.9ms\tremaining: 101ms\n",
      "60:\tlearn: 7.4149808\ttotal: 103ms\tremaining: 66.2ms\n",
      "80:\tlearn: 7.0102589\ttotal: 133ms\tremaining: 31.2ms\n",
      "99:\tlearn: 6.6233702\ttotal: 166ms\tremaining: 0us\n",
      "0:\tlearn: 11.1177607\ttotal: 1.8ms\tremaining: 179ms\n",
      "20:\tlearn: 8.5294687\ttotal: 30.9ms\tremaining: 116ms\n",
      "40:\tlearn: 7.6538706\ttotal: 60.3ms\tremaining: 86.7ms\n",
      "60:\tlearn: 7.1878699\ttotal: 92.2ms\tremaining: 58.9ms\n",
      "80:\tlearn: 6.7791944\ttotal: 129ms\tremaining: 30.3ms\n",
      "99:\tlearn: 6.4577279\ttotal: 165ms\tremaining: 0us\n",
      "0:\tlearn: 10.9118757\ttotal: 1.8ms\tremaining: 178ms\n",
      "20:\tlearn: 8.5491538\ttotal: 32.4ms\tremaining: 122ms\n",
      "40:\tlearn: 7.7753115\ttotal: 64.4ms\tremaining: 92.7ms\n",
      "60:\tlearn: 7.3590969\ttotal: 96.3ms\tremaining: 61.6ms\n",
      "80:\tlearn: 7.0304015\ttotal: 128ms\tremaining: 30.1ms\n",
      "99:\tlearn: 6.6464623\ttotal: 159ms\tremaining: 0us\n",
      "0:\tlearn: 11.6603959\ttotal: 3.1ms\tremaining: 618ms\n",
      "20:\tlearn: 11.1479400\ttotal: 40.1ms\tremaining: 342ms\n",
      "40:\tlearn: 10.7359525\ttotal: 76.9ms\tremaining: 298ms\n",
      "60:\tlearn: 10.4035052\ttotal: 121ms\tremaining: 275ms\n",
      "80:\tlearn: 10.1037029\ttotal: 153ms\tremaining: 225ms\n",
      "100:\tlearn: 9.8538668\ttotal: 187ms\tremaining: 183ms\n",
      "120:\tlearn: 9.6301497\ttotal: 227ms\tremaining: 148ms\n",
      "140:\tlearn: 9.4274174\ttotal: 263ms\tremaining: 110ms\n",
      "160:\tlearn: 9.2561143\ttotal: 298ms\tremaining: 72.1ms\n",
      "180:\tlearn: 9.1104462\ttotal: 335ms\tremaining: 35.1ms\n",
      "199:\tlearn: 8.9748488\ttotal: 371ms\tremaining: 0us\n",
      "0:\tlearn: 11.2529852\ttotal: 13.9ms\tremaining: 2.77s\n",
      "20:\tlearn: 10.7774025\ttotal: 44.2ms\tremaining: 377ms\n",
      "40:\tlearn: 10.3682817\ttotal: 81.2ms\tremaining: 315ms\n",
      "60:\tlearn: 10.0310003\ttotal: 122ms\tremaining: 277ms\n",
      "80:\tlearn: 9.7346181\ttotal: 172ms\tremaining: 253ms\n",
      "100:\tlearn: 9.4974136\ttotal: 211ms\tremaining: 207ms\n",
      "120:\tlearn: 9.2882684\ttotal: 245ms\tremaining: 160ms\n",
      "140:\tlearn: 9.0977245\ttotal: 278ms\tremaining: 116ms\n",
      "160:\tlearn: 8.9326782\ttotal: 317ms\tremaining: 76.8ms\n",
      "180:\tlearn: 8.7833695\ttotal: 367ms\tremaining: 38.6ms\n",
      "199:\tlearn: 8.6631521\ttotal: 412ms\tremaining: 0us\n",
      "0:\tlearn: 10.9262003\ttotal: 2.17ms\tremaining: 431ms\n",
      "20:\tlearn: 10.4933672\ttotal: 31.3ms\tremaining: 267ms\n",
      "40:\tlearn: 10.1295627\ttotal: 66.8ms\tremaining: 259ms\n",
      "60:\tlearn: 9.8340119\ttotal: 112ms\tremaining: 256ms\n",
      "80:\tlearn: 9.5732681\ttotal: 166ms\tremaining: 244ms\n",
      "100:\tlearn: 9.3535950\ttotal: 210ms\tremaining: 205ms\n",
      "120:\tlearn: 9.1755910\ttotal: 246ms\tremaining: 160ms\n",
      "140:\tlearn: 9.0165714\ttotal: 284ms\tremaining: 119ms\n",
      "160:\tlearn: 8.8703392\ttotal: 331ms\tremaining: 80.2ms\n",
      "180:\tlearn: 8.7438266\ttotal: 365ms\tremaining: 38.3ms\n",
      "199:\tlearn: 8.6320410\ttotal: 393ms\tremaining: 0us\n",
      "0:\tlearn: 11.3884338\ttotal: 1.71ms\tremaining: 341ms\n",
      "20:\tlearn: 10.8703001\ttotal: 37ms\tremaining: 315ms\n",
      "40:\tlearn: 10.4321019\ttotal: 66.8ms\tremaining: 259ms\n",
      "60:\tlearn: 10.0564292\ttotal: 104ms\tremaining: 236ms\n",
      "80:\tlearn: 9.7466139\ttotal: 134ms\tremaining: 197ms\n",
      "100:\tlearn: 9.4790751\ttotal: 164ms\tremaining: 161ms\n",
      "120:\tlearn: 9.2626410\ttotal: 196ms\tremaining: 128ms\n",
      "140:\tlearn: 9.0539398\ttotal: 226ms\tremaining: 94.7ms\n",
      "160:\tlearn: 8.8879457\ttotal: 261ms\tremaining: 63.3ms\n",
      "180:\tlearn: 8.7314006\ttotal: 303ms\tremaining: 31.9ms\n",
      "199:\tlearn: 8.6013867\ttotal: 339ms\tremaining: 0us\n",
      "0:\tlearn: 11.1469476\ttotal: 1.89ms\tremaining: 376ms\n",
      "20:\tlearn: 10.6494080\ttotal: 38.9ms\tremaining: 332ms\n",
      "40:\tlearn: 10.2296527\ttotal: 70.1ms\tremaining: 272ms\n",
      "60:\tlearn: 9.8826977\ttotal: 109ms\tremaining: 248ms\n",
      "80:\tlearn: 9.5910408\ttotal: 144ms\tremaining: 212ms\n",
      "100:\tlearn: 9.3478183\ttotal: 179ms\tremaining: 175ms\n",
      "120:\tlearn: 9.1459280\ttotal: 221ms\tremaining: 144ms\n",
      "140:\tlearn: 8.9615793\ttotal: 256ms\tremaining: 107ms\n",
      "160:\tlearn: 8.8042547\ttotal: 293ms\tremaining: 70.9ms\n",
      "180:\tlearn: 8.6626914\ttotal: 336ms\tremaining: 35.3ms\n",
      "199:\tlearn: 8.5476138\ttotal: 369ms\tremaining: 0us\n",
      "0:\tlearn: 11.3983093\ttotal: 2.31ms\tremaining: 459ms\n",
      "20:\tlearn: 8.9265278\ttotal: 35ms\tremaining: 298ms\n",
      "40:\tlearn: 8.0820094\ttotal: 69.2ms\tremaining: 268ms\n",
      "60:\tlearn: 7.5646737\ttotal: 102ms\tremaining: 233ms\n",
      "80:\tlearn: 7.0955606\ttotal: 139ms\tremaining: 204ms\n",
      "100:\tlearn: 6.7264159\ttotal: 170ms\tremaining: 167ms\n",
      "120:\tlearn: 6.3992633\ttotal: 200ms\tremaining: 131ms\n",
      "140:\tlearn: 6.1578721\ttotal: 237ms\tremaining: 99.2ms\n",
      "160:\tlearn: 5.9244500\ttotal: 273ms\tremaining: 66.2ms\n",
      "180:\tlearn: 5.7023508\ttotal: 305ms\tremaining: 32ms\n",
      "199:\tlearn: 5.5365415\ttotal: 342ms\tremaining: 0us\n",
      "0:\tlearn: 11.0586786\ttotal: 1.96ms\tremaining: 390ms\n",
      "20:\tlearn: 8.6051905\ttotal: 39.6ms\tremaining: 338ms\n",
      "40:\tlearn: 7.7686079\ttotal: 78.3ms\tremaining: 304ms\n",
      "60:\tlearn: 7.3198651\ttotal: 113ms\tremaining: 257ms\n",
      "80:\tlearn: 6.9180535\ttotal: 158ms\tremaining: 232ms\n",
      "100:\tlearn: 6.5508113\ttotal: 190ms\tremaining: 187ms\n",
      "120:\tlearn: 6.1999423\ttotal: 224ms\tremaining: 146ms\n",
      "140:\tlearn: 5.9537568\ttotal: 264ms\tremaining: 110ms\n",
      "160:\tlearn: 5.7405521\ttotal: 296ms\tremaining: 71.8ms\n",
      "180:\tlearn: 5.5594792\ttotal: 340ms\tremaining: 35.6ms\n",
      "199:\tlearn: 5.4182171\ttotal: 384ms\tremaining: 0us\n",
      "0:\tlearn: 10.6967359\ttotal: 1.91ms\tremaining: 380ms\n",
      "20:\tlearn: 8.6355624\ttotal: 39.3ms\tremaining: 335ms\n",
      "40:\tlearn: 7.8321784\ttotal: 72ms\tremaining: 279ms\n",
      "60:\tlearn: 7.4149808\ttotal: 109ms\tremaining: 249ms\n",
      "80:\tlearn: 7.0102589\ttotal: 148ms\tremaining: 217ms\n",
      "100:\tlearn: 6.5994888\ttotal: 184ms\tremaining: 180ms\n",
      "120:\tlearn: 6.2813949\ttotal: 227ms\tremaining: 148ms\n",
      "140:\tlearn: 6.1041755\ttotal: 257ms\tremaining: 108ms\n",
      "160:\tlearn: 5.8821028\ttotal: 286ms\tremaining: 69.3ms\n",
      "180:\tlearn: 5.6830789\ttotal: 320ms\tremaining: 33.6ms\n",
      "199:\tlearn: 5.4988944\ttotal: 353ms\tremaining: 0us\n",
      "0:\tlearn: 11.1177607\ttotal: 1.77ms\tremaining: 352ms\n",
      "20:\tlearn: 8.5294687\ttotal: 41.8ms\tremaining: 356ms\n",
      "40:\tlearn: 7.6538706\ttotal: 71.1ms\tremaining: 276ms\n",
      "60:\tlearn: 7.1878699\ttotal: 108ms\tremaining: 246ms\n",
      "80:\tlearn: 6.7791944\ttotal: 152ms\tremaining: 224ms\n",
      "100:\tlearn: 6.4397025\ttotal: 197ms\tremaining: 193ms\n",
      "120:\tlearn: 6.1313807\ttotal: 232ms\tremaining: 152ms\n",
      "140:\tlearn: 5.9174541\ttotal: 264ms\tremaining: 111ms\n",
      "160:\tlearn: 5.7252136\ttotal: 298ms\tremaining: 72.3ms\n",
      "180:\tlearn: 5.5366004\ttotal: 332ms\tremaining: 34.8ms\n",
      "199:\tlearn: 5.4029761\ttotal: 358ms\tremaining: 0us\n"
     ]
    },
    {
     "name": "stdout",
     "output_type": "stream",
     "text": [
      "0:\tlearn: 10.9118757\ttotal: 2.35ms\tremaining: 469ms\n",
      "20:\tlearn: 8.5491538\ttotal: 35ms\tremaining: 298ms\n",
      "40:\tlearn: 7.7753115\ttotal: 64ms\tremaining: 248ms\n",
      "60:\tlearn: 7.3590969\ttotal: 97.3ms\tremaining: 222ms\n",
      "80:\tlearn: 7.0304015\ttotal: 132ms\tremaining: 194ms\n",
      "100:\tlearn: 6.6346453\ttotal: 170ms\tremaining: 166ms\n",
      "120:\tlearn: 6.2933712\ttotal: 211ms\tremaining: 138ms\n",
      "140:\tlearn: 6.0342863\ttotal: 241ms\tremaining: 101ms\n",
      "160:\tlearn: 5.8207141\ttotal: 271ms\tremaining: 65.5ms\n",
      "180:\tlearn: 5.6491334\ttotal: 300ms\tremaining: 31.5ms\n",
      "199:\tlearn: 5.5081675\ttotal: 331ms\tremaining: 0us\n",
      "0:\tlearn: 11.6604612\ttotal: 3.65ms\tremaining: 362ms\n",
      "20:\tlearn: 11.0495163\ttotal: 78.8ms\tremaining: 296ms\n",
      "40:\tlearn: 10.5365503\ttotal: 144ms\tremaining: 207ms\n",
      "60:\tlearn: 10.1323166\ttotal: 213ms\tremaining: 136ms\n",
      "80:\tlearn: 9.7921039\ttotal: 284ms\tremaining: 66.7ms\n",
      "99:\tlearn: 9.5057563\ttotal: 357ms\tremaining: 0us\n",
      "0:\tlearn: 11.2478783\ttotal: 3.85ms\tremaining: 381ms\n",
      "20:\tlearn: 10.6922157\ttotal: 69.1ms\tremaining: 260ms\n",
      "40:\tlearn: 10.2041639\ttotal: 144ms\tremaining: 207ms\n",
      "60:\tlearn: 9.8117477\ttotal: 219ms\tremaining: 140ms\n",
      "80:\tlearn: 9.4590373\ttotal: 296ms\tremaining: 69.4ms\n",
      "99:\tlearn: 9.1726710\ttotal: 371ms\tremaining: 0us\n",
      "0:\tlearn: 10.9246456\ttotal: 3.72ms\tremaining: 369ms\n",
      "20:\tlearn: 10.4193330\ttotal: 71.2ms\tremaining: 268ms\n",
      "40:\tlearn: 9.9991645\ttotal: 140ms\tremaining: 202ms\n",
      "60:\tlearn: 9.6437867\ttotal: 217ms\tremaining: 139ms\n",
      "80:\tlearn: 9.3246711\ttotal: 289ms\tremaining: 67.8ms\n",
      "99:\tlearn: 9.0792365\ttotal: 383ms\tremaining: 0us\n",
      "0:\tlearn: 11.3855476\ttotal: 5.51ms\tremaining: 546ms\n",
      "20:\tlearn: 10.7763006\ttotal: 75.6ms\tremaining: 284ms\n",
      "40:\tlearn: 10.2762001\ttotal: 140ms\tremaining: 202ms\n",
      "60:\tlearn: 9.8701042\ttotal: 215ms\tremaining: 138ms\n",
      "80:\tlearn: 9.5111821\ttotal: 286ms\tremaining: 67.1ms\n",
      "99:\tlearn: 9.2082977\ttotal: 350ms\tremaining: 0us\n",
      "0:\tlearn: 11.1434664\ttotal: 4.5ms\tremaining: 445ms\n",
      "20:\tlearn: 10.5681507\ttotal: 80.2ms\tremaining: 302ms\n",
      "40:\tlearn: 10.0899591\ttotal: 150ms\tremaining: 216ms\n",
      "60:\tlearn: 9.6910640\ttotal: 223ms\tremaining: 143ms\n",
      "80:\tlearn: 9.3484567\ttotal: 305ms\tremaining: 71.6ms\n",
      "99:\tlearn: 9.0748689\ttotal: 488ms\tremaining: 0us\n",
      "0:\tlearn: 11.3981943\ttotal: 5.28ms\tremaining: 523ms\n",
      "20:\tlearn: 8.4663062\ttotal: 103ms\tremaining: 387ms\n",
      "40:\tlearn: 7.4887151\ttotal: 215ms\tremaining: 309ms\n",
      "60:\tlearn: 6.8805104\ttotal: 318ms\tremaining: 204ms\n",
      "80:\tlearn: 6.3695466\ttotal: 446ms\tremaining: 105ms\n",
      "99:\tlearn: 5.9173298\ttotal: 519ms\tremaining: 0us\n",
      "0:\tlearn: 11.0077377\ttotal: 16.3ms\tremaining: 1.62s\n",
      "20:\tlearn: 8.1619510\ttotal: 127ms\tremaining: 478ms\n",
      "40:\tlearn: 7.2290685\ttotal: 202ms\tremaining: 290ms\n",
      "60:\tlearn: 6.6820055\ttotal: 282ms\tremaining: 181ms\n",
      "80:\tlearn: 6.2312515\ttotal: 371ms\tremaining: 87ms\n",
      "99:\tlearn: 5.7954698\ttotal: 435ms\tremaining: 0us\n",
      "0:\tlearn: 10.6807993\ttotal: 3.8ms\tremaining: 376ms\n",
      "20:\tlearn: 8.1798971\ttotal: 82.8ms\tremaining: 312ms\n",
      "40:\tlearn: 7.2366817\ttotal: 158ms\tremaining: 227ms\n",
      "60:\tlearn: 6.6763571\ttotal: 334ms\tremaining: 214ms\n",
      "80:\tlearn: 6.1511609\ttotal: 502ms\tremaining: 118ms\n",
      "99:\tlearn: 5.7440078\ttotal: 603ms\tremaining: 0us\n",
      "0:\tlearn: 11.0879904\ttotal: 6.69ms\tremaining: 663ms\n",
      "20:\tlearn: 8.0981783\ttotal: 129ms\tremaining: 486ms\n",
      "40:\tlearn: 7.1491730\ttotal: 231ms\tremaining: 332ms\n",
      "60:\tlearn: 6.6132197\ttotal: 337ms\tremaining: 215ms\n",
      "80:\tlearn: 6.1081982\ttotal: 454ms\tremaining: 106ms\n",
      "99:\tlearn: 5.7112724\ttotal: 573ms\tremaining: 0us\n",
      "0:\tlearn: 10.8765281\ttotal: 8.79ms\tremaining: 870ms\n",
      "20:\tlearn: 8.0740195\ttotal: 214ms\tremaining: 804ms\n",
      "40:\tlearn: 7.2928118\ttotal: 315ms\tremaining: 453ms\n",
      "60:\tlearn: 6.7575441\ttotal: 472ms\tremaining: 302ms\n",
      "80:\tlearn: 6.1791859\ttotal: 569ms\tremaining: 133ms\n",
      "99:\tlearn: 5.7519766\ttotal: 676ms\tremaining: 0us\n",
      "0:\tlearn: 11.6604612\ttotal: 8.78ms\tremaining: 1.75s\n",
      "20:\tlearn: 11.0495163\ttotal: 106ms\tremaining: 900ms\n",
      "40:\tlearn: 10.5365503\ttotal: 248ms\tremaining: 963ms\n",
      "60:\tlearn: 10.1323166\ttotal: 367ms\tremaining: 836ms\n",
      "80:\tlearn: 9.7921039\ttotal: 467ms\tremaining: 687ms\n",
      "100:\tlearn: 9.4915008\ttotal: 562ms\tremaining: 551ms\n",
      "120:\tlearn: 9.2421828\ttotal: 709ms\tremaining: 463ms\n",
      "140:\tlearn: 9.0174440\ttotal: 835ms\tremaining: 350ms\n",
      "160:\tlearn: 8.8305003\ttotal: 987ms\tremaining: 239ms\n",
      "180:\tlearn: 8.6539058\ttotal: 1.13s\tremaining: 118ms\n",
      "199:\tlearn: 8.5039330\ttotal: 1.23s\tremaining: 0us\n",
      "0:\tlearn: 11.2478783\ttotal: 10.1ms\tremaining: 2.02s\n",
      "20:\tlearn: 10.6922157\ttotal: 122ms\tremaining: 1.04s\n",
      "40:\tlearn: 10.2041639\ttotal: 213ms\tremaining: 827ms\n",
      "60:\tlearn: 9.8117477\ttotal: 363ms\tremaining: 828ms\n",
      "80:\tlearn: 9.4590373\ttotal: 481ms\tremaining: 706ms\n",
      "100:\tlearn: 9.1617981\ttotal: 597ms\tremaining: 585ms\n",
      "120:\tlearn: 8.9127180\ttotal: 726ms\tremaining: 474ms\n",
      "140:\tlearn: 8.7019942\ttotal: 837ms\tremaining: 350ms\n",
      "160:\tlearn: 8.5084631\ttotal: 937ms\tremaining: 227ms\n",
      "180:\tlearn: 8.3345306\ttotal: 1.04s\tremaining: 109ms\n",
      "199:\tlearn: 8.1951029\ttotal: 1.12s\tremaining: 0us\n",
      "0:\tlearn: 10.9246456\ttotal: 6.61ms\tremaining: 1.31s\n",
      "20:\tlearn: 10.4193330\ttotal: 140ms\tremaining: 1.19s\n",
      "40:\tlearn: 9.9991645\ttotal: 245ms\tremaining: 950ms\n",
      "60:\tlearn: 9.6437867\ttotal: 343ms\tremaining: 781ms\n",
      "80:\tlearn: 9.3246711\ttotal: 440ms\tremaining: 647ms\n",
      "100:\tlearn: 9.0669905\ttotal: 542ms\tremaining: 531ms\n",
      "120:\tlearn: 8.8462560\ttotal: 643ms\tremaining: 420ms\n",
      "140:\tlearn: 8.6377830\ttotal: 732ms\tremaining: 306ms\n",
      "160:\tlearn: 8.4674113\ttotal: 857ms\tremaining: 208ms\n",
      "180:\tlearn: 8.3269497\ttotal: 954ms\tremaining: 100ms\n",
      "199:\tlearn: 8.2154440\ttotal: 1.04s\tremaining: 0us\n",
      "0:\tlearn: 11.3855476\ttotal: 4.53ms\tremaining: 901ms\n",
      "20:\tlearn: 10.7763006\ttotal: 88.7ms\tremaining: 756ms\n",
      "40:\tlearn: 10.2762001\ttotal: 183ms\tremaining: 710ms\n",
      "60:\tlearn: 9.8701042\ttotal: 267ms\tremaining: 608ms\n",
      "80:\tlearn: 9.5111821\ttotal: 340ms\tremaining: 499ms\n",
      "100:\tlearn: 9.1961325\ttotal: 415ms\tremaining: 407ms\n",
      "120:\tlearn: 8.9329067\ttotal: 497ms\tremaining: 324ms\n",
      "140:\tlearn: 8.7026544\ttotal: 570ms\tremaining: 238ms\n",
      "160:\tlearn: 8.4948032\ttotal: 644ms\tremaining: 156ms\n",
      "180:\tlearn: 8.3255296\ttotal: 725ms\tremaining: 76.1ms\n",
      "199:\tlearn: 8.1772292\ttotal: 792ms\tremaining: 0us\n",
      "0:\tlearn: 11.1434664\ttotal: 3.85ms\tremaining: 765ms\n",
      "20:\tlearn: 10.5681507\ttotal: 78.3ms\tremaining: 668ms\n",
      "40:\tlearn: 10.0899591\ttotal: 164ms\tremaining: 636ms\n",
      "60:\tlearn: 9.6910640\ttotal: 241ms\tremaining: 548ms\n",
      "80:\tlearn: 9.3484567\ttotal: 328ms\tremaining: 481ms\n",
      "100:\tlearn: 9.0618182\ttotal: 444ms\tremaining: 435ms\n",
      "120:\tlearn: 8.8204575\ttotal: 515ms\tremaining: 336ms\n",
      "140:\tlearn: 8.6048124\ttotal: 596ms\tremaining: 249ms\n",
      "160:\tlearn: 8.4228049\ttotal: 679ms\tremaining: 164ms\n",
      "180:\tlearn: 8.2591753\ttotal: 766ms\tremaining: 80.4ms\n",
      "199:\tlearn: 8.1344071\ttotal: 855ms\tremaining: 0us\n",
      "0:\tlearn: 11.3981943\ttotal: 4.25ms\tremaining: 845ms\n",
      "20:\tlearn: 8.4663062\ttotal: 105ms\tremaining: 892ms\n",
      "40:\tlearn: 7.4887151\ttotal: 220ms\tremaining: 853ms\n",
      "60:\tlearn: 6.8805104\ttotal: 374ms\tremaining: 851ms\n",
      "80:\tlearn: 6.3695466\ttotal: 492ms\tremaining: 723ms\n",
      "100:\tlearn: 5.8983949\ttotal: 565ms\tremaining: 553ms\n",
      "120:\tlearn: 5.5239857\ttotal: 642ms\tremaining: 419ms\n",
      "140:\tlearn: 5.2012238\ttotal: 730ms\tremaining: 306ms\n",
      "160:\tlearn: 4.9059142\ttotal: 806ms\tremaining: 195ms\n",
      "180:\tlearn: 4.6481363\ttotal: 876ms\tremaining: 92ms\n",
      "199:\tlearn: 4.4348183\ttotal: 947ms\tremaining: 0us\n",
      "0:\tlearn: 11.0077377\ttotal: 4.72ms\tremaining: 939ms\n",
      "20:\tlearn: 8.1619510\ttotal: 74.5ms\tremaining: 635ms\n",
      "40:\tlearn: 7.2290685\ttotal: 146ms\tremaining: 567ms\n",
      "60:\tlearn: 6.6820055\ttotal: 222ms\tremaining: 507ms\n",
      "80:\tlearn: 6.2312515\ttotal: 291ms\tremaining: 428ms\n",
      "100:\tlearn: 5.7673431\ttotal: 362ms\tremaining: 354ms\n",
      "120:\tlearn: 5.3373832\ttotal: 444ms\tremaining: 290ms\n",
      "140:\tlearn: 5.0658920\ttotal: 562ms\tremaining: 235ms\n",
      "160:\tlearn: 4.8183943\ttotal: 680ms\tremaining: 165ms\n",
      "180:\tlearn: 4.5995455\ttotal: 764ms\tremaining: 80.2ms\n",
      "199:\tlearn: 4.4211924\ttotal: 836ms\tremaining: 0us\n",
      "0:\tlearn: 10.6807993\ttotal: 4.64ms\tremaining: 924ms\n",
      "20:\tlearn: 8.1798971\ttotal: 79.1ms\tremaining: 674ms\n",
      "40:\tlearn: 7.2366817\ttotal: 158ms\tremaining: 613ms\n",
      "60:\tlearn: 6.6763571\ttotal: 252ms\tremaining: 575ms\n",
      "80:\tlearn: 6.1511609\ttotal: 326ms\tremaining: 479ms\n",
      "100:\tlearn: 5.7190432\ttotal: 394ms\tremaining: 386ms\n",
      "120:\tlearn: 5.3858584\ttotal: 486ms\tremaining: 317ms\n",
      "140:\tlearn: 5.0893283\ttotal: 593ms\tremaining: 248ms\n",
      "160:\tlearn: 4.8040049\ttotal: 710ms\tremaining: 172ms\n",
      "180:\tlearn: 4.6321625\ttotal: 821ms\tremaining: 86.2ms\n",
      "199:\tlearn: 4.4123769\ttotal: 896ms\tremaining: 0us\n",
      "0:\tlearn: 11.0879904\ttotal: 12.9ms\tremaining: 2.57s\n",
      "20:\tlearn: 8.0981783\ttotal: 128ms\tremaining: 1.09s\n",
      "40:\tlearn: 7.1491730\ttotal: 208ms\tremaining: 806ms\n"
     ]
    },
    {
     "name": "stdout",
     "output_type": "stream",
     "text": [
      "60:\tlearn: 6.6132197\ttotal: 289ms\tremaining: 659ms\n",
      "80:\tlearn: 6.1081982\ttotal: 363ms\tremaining: 533ms\n",
      "100:\tlearn: 5.6831957\ttotal: 433ms\tremaining: 425ms\n",
      "120:\tlearn: 5.3651673\ttotal: 535ms\tremaining: 349ms\n",
      "140:\tlearn: 5.0580915\ttotal: 616ms\tremaining: 258ms\n",
      "160:\tlearn: 4.8008998\ttotal: 687ms\tremaining: 166ms\n",
      "180:\tlearn: 4.5451397\ttotal: 769ms\tremaining: 80.7ms\n",
      "199:\tlearn: 4.3405382\ttotal: 835ms\tremaining: 0us\n",
      "0:\tlearn: 10.8765281\ttotal: 3.75ms\tremaining: 747ms\n",
      "20:\tlearn: 8.0740195\ttotal: 91.4ms\tremaining: 779ms\n",
      "40:\tlearn: 7.2928118\ttotal: 178ms\tremaining: 691ms\n",
      "60:\tlearn: 6.7575441\ttotal: 246ms\tremaining: 561ms\n",
      "80:\tlearn: 6.1791859\ttotal: 343ms\tremaining: 503ms\n",
      "100:\tlearn: 5.7279060\ttotal: 421ms\tremaining: 413ms\n",
      "120:\tlearn: 5.3379756\ttotal: 508ms\tremaining: 332ms\n",
      "140:\tlearn: 5.0902335\ttotal: 584ms\tremaining: 244ms\n",
      "160:\tlearn: 4.8214921\ttotal: 658ms\tremaining: 159ms\n",
      "180:\tlearn: 4.5911911\ttotal: 728ms\tremaining: 76.5ms\n",
      "199:\tlearn: 4.3074954\ttotal: 829ms\tremaining: 0us\n",
      "0:\tlearn: 11.6545654\ttotal: 51.9ms\tremaining: 5.14s\n",
      "20:\tlearn: 10.9803995\ttotal: 1.07s\tremaining: 4.04s\n",
      "40:\tlearn: 10.3939591\ttotal: 2.11s\tremaining: 3.03s\n",
      "60:\tlearn: 9.9052731\ttotal: 3.09s\tremaining: 1.97s\n",
      "80:\tlearn: 9.4631017\ttotal: 4.07s\tremaining: 956ms\n",
      "99:\tlearn: 9.0956081\ttotal: 5s\tremaining: 0us\n",
      "0:\tlearn: 11.2433958\ttotal: 54.9ms\tremaining: 5.44s\n",
      "20:\tlearn: 10.6131280\ttotal: 1.07s\tremaining: 4.01s\n",
      "40:\tlearn: 10.0701032\ttotal: 1.96s\tremaining: 2.82s\n",
      "60:\tlearn: 9.5893724\ttotal: 2.97s\tremaining: 1.9s\n",
      "80:\tlearn: 9.1647455\ttotal: 4s\tremaining: 939ms\n",
      "99:\tlearn: 8.8168890\ttotal: 4.9s\tremaining: 0us\n",
      "0:\tlearn: 10.9227654\ttotal: 51.8ms\tremaining: 5.12s\n",
      "20:\tlearn: 10.3366362\ttotal: 1.07s\tremaining: 4.01s\n",
      "40:\tlearn: 9.8211415\ttotal: 2s\tremaining: 2.88s\n",
      "60:\tlearn: 9.3766816\ttotal: 2.92s\tremaining: 1.86s\n",
      "80:\tlearn: 8.9859858\ttotal: 3.78s\tremaining: 888ms\n",
      "99:\tlearn: 8.6469323\ttotal: 4.6s\tremaining: 0us\n",
      "0:\tlearn: 11.3829973\ttotal: 46.8ms\tremaining: 4.64s\n",
      "20:\tlearn: 10.7207889\ttotal: 1.13s\tremaining: 4.24s\n",
      "40:\tlearn: 10.1313359\ttotal: 2.24s\tremaining: 3.22s\n",
      "60:\tlearn: 9.6297909\ttotal: 3.27s\tremaining: 2.09s\n",
      "80:\tlearn: 9.1881954\ttotal: 4.36s\tremaining: 1.02s\n",
      "99:\tlearn: 8.8114507\ttotal: 5.36s\tremaining: 0us\n",
      "0:\tlearn: 11.1411220\ttotal: 67ms\tremaining: 6.63s\n",
      "20:\tlearn: 10.4980607\ttotal: 1.09s\tremaining: 4.09s\n",
      "40:\tlearn: 9.9525569\ttotal: 2.12s\tremaining: 3.06s\n",
      "60:\tlearn: 9.4731560\ttotal: 3.05s\tremaining: 1.95s\n",
      "80:\tlearn: 9.0368093\ttotal: 3.96s\tremaining: 930ms\n",
      "99:\tlearn: 8.6863312\ttotal: 4.85s\tremaining: 0us\n",
      "0:\tlearn: 11.3390016\ttotal: 54.9ms\tremaining: 5.43s\n",
      "20:\tlearn: 7.5654002\ttotal: 1.09s\tremaining: 4.12s\n",
      "40:\tlearn: 6.0486377\ttotal: 2.01s\tremaining: 2.89s\n",
      "60:\tlearn: 5.2160347\ttotal: 2.93s\tremaining: 1.87s\n",
      "80:\tlearn: 4.5312599\ttotal: 3.98s\tremaining: 933ms\n",
      "99:\tlearn: 3.9268082\ttotal: 4.88s\tremaining: 0us\n",
      "0:\tlearn: 10.9611152\ttotal: 41ms\tremaining: 4.06s\n",
      "20:\tlearn: 7.3893285\ttotal: 891ms\tremaining: 3.35s\n",
      "40:\tlearn: 6.0485851\ttotal: 1.95s\tremaining: 2.8s\n",
      "60:\tlearn: 5.3064536\ttotal: 2.97s\tremaining: 1.9s\n",
      "80:\tlearn: 4.6786570\ttotal: 4.07s\tremaining: 955ms\n",
      "99:\tlearn: 4.0610019\ttotal: 5.08s\tremaining: 0us\n",
      "0:\tlearn: 10.6598114\ttotal: 42.8ms\tremaining: 4.24s\n",
      "20:\tlearn: 7.2862049\ttotal: 1.05s\tremaining: 3.94s\n",
      "40:\tlearn: 6.0550674\ttotal: 2.01s\tremaining: 2.9s\n",
      "60:\tlearn: 5.2029125\ttotal: 2.83s\tremaining: 1.81s\n",
      "80:\tlearn: 4.4893128\ttotal: 3.69s\tremaining: 865ms\n",
      "99:\tlearn: 3.9155756\ttotal: 4.51s\tremaining: 0us\n",
      "0:\tlearn: 11.0601698\ttotal: 40.9ms\tremaining: 4.05s\n",
      "20:\tlearn: 7.3603179\ttotal: 933ms\tremaining: 3.51s\n",
      "40:\tlearn: 6.0236728\ttotal: 1.76s\tremaining: 2.53s\n",
      "60:\tlearn: 5.2008820\ttotal: 2.61s\tremaining: 1.67s\n",
      "80:\tlearn: 4.6340836\ttotal: 3.48s\tremaining: 817ms\n",
      "99:\tlearn: 4.1776697\ttotal: 4.32s\tremaining: 0us\n",
      "0:\tlearn: 10.8511855\ttotal: 48.4ms\tremaining: 4.79s\n",
      "20:\tlearn: 7.2580246\ttotal: 959ms\tremaining: 3.61s\n",
      "40:\tlearn: 5.9225786\ttotal: 1.86s\tremaining: 2.68s\n",
      "60:\tlearn: 5.1866253\ttotal: 2.71s\tremaining: 1.74s\n",
      "80:\tlearn: 4.5692261\ttotal: 3.64s\tremaining: 854ms\n",
      "99:\tlearn: 4.0519064\ttotal: 4.49s\tremaining: 0us\n",
      "0:\tlearn: 11.6545654\ttotal: 43.4ms\tremaining: 8.64s\n",
      "20:\tlearn: 10.9803995\ttotal: 935ms\tremaining: 7.97s\n",
      "40:\tlearn: 10.3939591\ttotal: 1.8s\tremaining: 6.98s\n",
      "60:\tlearn: 9.9052731\ttotal: 2.65s\tremaining: 6.05s\n",
      "80:\tlearn: 9.4631017\ttotal: 3.57s\tremaining: 5.25s\n",
      "100:\tlearn: 9.0754112\ttotal: 4.59s\tremaining: 4.5s\n",
      "120:\tlearn: 8.7444454\ttotal: 5.52s\tremaining: 3.6s\n",
      "140:\tlearn: 8.4314164\ttotal: 6.39s\tremaining: 2.67s\n",
      "160:\tlearn: 8.1642917\ttotal: 7.29s\tremaining: 1.77s\n",
      "180:\tlearn: 7.9259369\ttotal: 8.16s\tremaining: 857ms\n",
      "199:\tlearn: 7.7158884\ttotal: 9.03s\tremaining: 0us\n",
      "0:\tlearn: 11.2433958\ttotal: 58ms\tremaining: 11.5s\n",
      "20:\tlearn: 10.6131280\ttotal: 946ms\tremaining: 8.07s\n",
      "40:\tlearn: 10.0701032\ttotal: 1.77s\tremaining: 6.85s\n",
      "60:\tlearn: 9.5893724\ttotal: 2.58s\tremaining: 5.88s\n",
      "80:\tlearn: 9.1647455\ttotal: 3.44s\tremaining: 5.06s\n",
      "100:\tlearn: 8.7984087\ttotal: 4.33s\tremaining: 4.24s\n",
      "120:\tlearn: 8.4664011\ttotal: 5.18s\tremaining: 3.38s\n",
      "140:\tlearn: 8.1739923\ttotal: 6.04s\tremaining: 2.53s\n",
      "160:\tlearn: 7.9065449\ttotal: 6.9s\tremaining: 1.67s\n",
      "180:\tlearn: 7.6680657\ttotal: 7.79s\tremaining: 818ms\n",
      "199:\tlearn: 7.4720126\ttotal: 8.59s\tremaining: 0us\n",
      "0:\tlearn: 10.9227654\ttotal: 44.6ms\tremaining: 8.87s\n",
      "20:\tlearn: 10.3366362\ttotal: 902ms\tremaining: 7.69s\n",
      "40:\tlearn: 9.8211415\ttotal: 1.8s\tremaining: 6.98s\n",
      "60:\tlearn: 9.3766816\ttotal: 2.67s\tremaining: 6.09s\n",
      "80:\tlearn: 8.9859858\ttotal: 3.55s\tremaining: 5.21s\n",
      "100:\tlearn: 8.6328057\ttotal: 4.44s\tremaining: 4.36s\n",
      "120:\tlearn: 8.3224994\ttotal: 5.31s\tremaining: 3.47s\n",
      "140:\tlearn: 8.0507945\ttotal: 6.17s\tremaining: 2.58s\n",
      "160:\tlearn: 7.8047920\ttotal: 7.02s\tremaining: 1.7s\n",
      "180:\tlearn: 7.5738027\ttotal: 7.89s\tremaining: 829ms\n",
      "199:\tlearn: 7.3866186\ttotal: 8.68s\tremaining: 0us\n",
      "0:\tlearn: 11.3829973\ttotal: 41.4ms\tremaining: 8.24s\n",
      "20:\tlearn: 10.7207889\ttotal: 886ms\tremaining: 7.55s\n",
      "40:\tlearn: 10.1313359\ttotal: 1.71s\tremaining: 6.62s\n",
      "60:\tlearn: 9.6297909\ttotal: 2.57s\tremaining: 5.85s\n",
      "80:\tlearn: 9.1881954\ttotal: 3.42s\tremaining: 5.03s\n",
      "100:\tlearn: 8.7924815\ttotal: 4.27s\tremaining: 4.19s\n",
      "120:\tlearn: 8.4676236\ttotal: 5.13s\tremaining: 3.35s\n",
      "140:\tlearn: 8.1613430\ttotal: 6s\tremaining: 2.51s\n",
      "160:\tlearn: 7.8899295\ttotal: 6.99s\tremaining: 1.69s\n",
      "180:\tlearn: 7.6368002\ttotal: 8s\tremaining: 840ms\n",
      "199:\tlearn: 7.4265192\ttotal: 8.88s\tremaining: 0us\n",
      "0:\tlearn: 11.1411220\ttotal: 42.9ms\tremaining: 8.53s\n",
      "20:\tlearn: 10.4980607\ttotal: 1.01s\tremaining: 8.6s\n",
      "40:\tlearn: 9.9525569\ttotal: 1.92s\tremaining: 7.43s\n",
      "60:\tlearn: 9.4731560\ttotal: 2.97s\tremaining: 6.77s\n",
      "80:\tlearn: 9.0368093\ttotal: 3.99s\tremaining: 5.86s\n",
      "100:\tlearn: 8.6690405\ttotal: 5.03s\tremaining: 4.93s\n",
      "120:\tlearn: 8.3293839\ttotal: 5.96s\tremaining: 3.89s\n",
      "140:\tlearn: 8.0370931\ttotal: 6.87s\tremaining: 2.87s\n",
      "160:\tlearn: 7.7679216\ttotal: 7.8s\tremaining: 1.89s\n",
      "180:\tlearn: 7.5310710\ttotal: 8.72s\tremaining: 915ms\n",
      "199:\tlearn: 7.3275717\ttotal: 9.53s\tremaining: 0us\n",
      "0:\tlearn: 11.3390016\ttotal: 40.8ms\tremaining: 8.11s\n",
      "20:\tlearn: 7.5654002\ttotal: 930ms\tremaining: 7.92s\n",
      "40:\tlearn: 6.0486377\ttotal: 1.82s\tremaining: 7.05s\n",
      "60:\tlearn: 5.2160347\ttotal: 2.65s\tremaining: 6.04s\n",
      "80:\tlearn: 4.5312599\ttotal: 3.5s\tremaining: 5.13s\n",
      "100:\tlearn: 3.9072049\ttotal: 4.35s\tremaining: 4.26s\n",
      "120:\tlearn: 3.4874384\ttotal: 5.2s\tremaining: 3.4s\n",
      "140:\tlearn: 3.1602475\ttotal: 6.09s\tremaining: 2.55s\n",
      "160:\tlearn: 2.8416634\ttotal: 7.01s\tremaining: 1.7s\n",
      "180:\tlearn: 2.5613808\ttotal: 7.95s\tremaining: 834ms\n",
      "199:\tlearn: 2.2724442\ttotal: 8.77s\tremaining: 0us\n",
      "0:\tlearn: 10.9611152\ttotal: 49.5ms\tremaining: 9.85s\n",
      "20:\tlearn: 7.3893285\ttotal: 1.03s\tremaining: 8.79s\n",
      "40:\tlearn: 6.0485851\ttotal: 2.31s\tremaining: 8.95s\n",
      "60:\tlearn: 5.3064536\ttotal: 3.47s\tremaining: 7.9s\n",
      "80:\tlearn: 4.6786570\ttotal: 4.75s\tremaining: 6.98s\n",
      "100:\tlearn: 4.0325893\ttotal: 5.85s\tremaining: 5.74s\n",
      "120:\tlearn: 3.5429797\ttotal: 6.97s\tremaining: 4.55s\n",
      "140:\tlearn: 3.2477368\ttotal: 8.08s\tremaining: 3.38s\n",
      "160:\tlearn: 2.9324039\ttotal: 8.98s\tremaining: 2.17s\n",
      "180:\tlearn: 2.6442295\ttotal: 9.93s\tremaining: 1.04s\n",
      "199:\tlearn: 2.3920731\ttotal: 10.8s\tremaining: 0us\n",
      "0:\tlearn: 10.6598114\ttotal: 41ms\tremaining: 8.15s\n",
      "20:\tlearn: 7.2862049\ttotal: 943ms\tremaining: 8.04s\n",
      "40:\tlearn: 6.0550674\ttotal: 1.86s\tremaining: 7.23s\n",
      "60:\tlearn: 5.2029125\ttotal: 2.74s\tremaining: 6.24s\n",
      "80:\tlearn: 4.4893128\ttotal: 3.72s\tremaining: 5.46s\n"
     ]
    },
    {
     "name": "stdout",
     "output_type": "stream",
     "text": [
      "100:\tlearn: 3.9035098\ttotal: 4.63s\tremaining: 4.54s\n",
      "120:\tlearn: 3.4700995\ttotal: 5.49s\tremaining: 3.58s\n",
      "140:\tlearn: 3.1358326\ttotal: 6.4s\tremaining: 2.68s\n",
      "160:\tlearn: 2.8483609\ttotal: 7.3s\tremaining: 1.77s\n",
      "180:\tlearn: 2.5556165\ttotal: 8.14s\tremaining: 854ms\n",
      "199:\tlearn: 2.2854024\ttotal: 8.91s\tremaining: 0us\n",
      "0:\tlearn: 11.0601698\ttotal: 40.5ms\tremaining: 8.06s\n",
      "20:\tlearn: 7.3603179\ttotal: 999ms\tremaining: 8.52s\n",
      "40:\tlearn: 6.0236728\ttotal: 1.83s\tremaining: 7.09s\n",
      "60:\tlearn: 5.2008820\ttotal: 2.73s\tremaining: 6.23s\n",
      "80:\tlearn: 4.6340836\ttotal: 3.63s\tremaining: 5.33s\n",
      "100:\tlearn: 4.1525128\ttotal: 4.5s\tremaining: 4.41s\n",
      "120:\tlearn: 3.6960949\ttotal: 5.37s\tremaining: 3.51s\n",
      "140:\tlearn: 3.2530792\ttotal: 6.23s\tremaining: 2.61s\n",
      "160:\tlearn: 2.9198296\ttotal: 7.25s\tremaining: 1.75s\n",
      "180:\tlearn: 2.6129284\ttotal: 8.15s\tremaining: 855ms\n",
      "199:\tlearn: 2.3480977\ttotal: 8.96s\tremaining: 0us\n",
      "0:\tlearn: 10.8511855\ttotal: 45.7ms\tremaining: 9.09s\n",
      "20:\tlearn: 7.2580246\ttotal: 1.14s\tremaining: 9.73s\n",
      "40:\tlearn: 5.9225786\ttotal: 2.34s\tremaining: 9.09s\n",
      "60:\tlearn: 5.1866253\ttotal: 3.54s\tremaining: 8.07s\n",
      "80:\tlearn: 4.5692261\ttotal: 4.83s\tremaining: 7.09s\n",
      "100:\tlearn: 4.0208192\ttotal: 5.93s\tremaining: 5.82s\n",
      "120:\tlearn: 3.4623271\ttotal: 7.12s\tremaining: 4.65s\n",
      "140:\tlearn: 3.0673541\ttotal: 8.21s\tremaining: 3.43s\n",
      "160:\tlearn: 2.7746344\ttotal: 9.13s\tremaining: 2.21s\n",
      "180:\tlearn: 2.4657674\ttotal: 10.1s\tremaining: 1.06s\n",
      "199:\tlearn: 2.2930911\ttotal: 10.9s\tremaining: 0us\n",
      "0:\tlearn: 11.0781522\ttotal: 2.01ms\tremaining: 400ms\n",
      "20:\tlearn: 8.7087495\ttotal: 33.3ms\tremaining: 284ms\n",
      "40:\tlearn: 7.8923073\ttotal: 72ms\tremaining: 279ms\n",
      "60:\tlearn: 7.4697860\ttotal: 107ms\tremaining: 243ms\n",
      "80:\tlearn: 7.0878825\ttotal: 142ms\tremaining: 208ms\n",
      "100:\tlearn: 6.7170791\ttotal: 175ms\tremaining: 172ms\n",
      "120:\tlearn: 6.4385407\ttotal: 208ms\tremaining: 136ms\n",
      "140:\tlearn: 6.2535078\ttotal: 239ms\tremaining: 100ms\n",
      "160:\tlearn: 6.0863994\ttotal: 277ms\tremaining: 67.1ms\n",
      "180:\tlearn: 5.9191402\ttotal: 313ms\tremaining: 32.9ms\n",
      "199:\tlearn: 5.7548009\ttotal: 343ms\tremaining: 0us\n"
     ]
    },
    {
     "data": {
      "text/html": [
       "<style>#sk-container-id-2 {color: black;background-color: white;}#sk-container-id-2 pre{padding: 0;}#sk-container-id-2 div.sk-toggleable {background-color: white;}#sk-container-id-2 label.sk-toggleable__label {cursor: pointer;display: block;width: 100%;margin-bottom: 0;padding: 0.3em;box-sizing: border-box;text-align: center;}#sk-container-id-2 label.sk-toggleable__label-arrow:before {content: \"▸\";float: left;margin-right: 0.25em;color: #696969;}#sk-container-id-2 label.sk-toggleable__label-arrow:hover:before {color: black;}#sk-container-id-2 div.sk-estimator:hover label.sk-toggleable__label-arrow:before {color: black;}#sk-container-id-2 div.sk-toggleable__content {max-height: 0;max-width: 0;overflow: hidden;text-align: left;background-color: #f0f8ff;}#sk-container-id-2 div.sk-toggleable__content pre {margin: 0.2em;color: black;border-radius: 0.25em;background-color: #f0f8ff;}#sk-container-id-2 input.sk-toggleable__control:checked~div.sk-toggleable__content {max-height: 200px;max-width: 100%;overflow: auto;}#sk-container-id-2 input.sk-toggleable__control:checked~label.sk-toggleable__label-arrow:before {content: \"▾\";}#sk-container-id-2 div.sk-estimator input.sk-toggleable__control:checked~label.sk-toggleable__label {background-color: #d4ebff;}#sk-container-id-2 div.sk-label input.sk-toggleable__control:checked~label.sk-toggleable__label {background-color: #d4ebff;}#sk-container-id-2 input.sk-hidden--visually {border: 0;clip: rect(1px 1px 1px 1px);clip: rect(1px, 1px, 1px, 1px);height: 1px;margin: -1px;overflow: hidden;padding: 0;position: absolute;width: 1px;}#sk-container-id-2 div.sk-estimator {font-family: monospace;background-color: #f0f8ff;border: 1px dotted black;border-radius: 0.25em;box-sizing: border-box;margin-bottom: 0.5em;}#sk-container-id-2 div.sk-estimator:hover {background-color: #d4ebff;}#sk-container-id-2 div.sk-parallel-item::after {content: \"\";width: 100%;border-bottom: 1px solid gray;flex-grow: 1;}#sk-container-id-2 div.sk-label:hover label.sk-toggleable__label {background-color: #d4ebff;}#sk-container-id-2 div.sk-serial::before {content: \"\";position: absolute;border-left: 1px solid gray;box-sizing: border-box;top: 0;bottom: 0;left: 50%;z-index: 0;}#sk-container-id-2 div.sk-serial {display: flex;flex-direction: column;align-items: center;background-color: white;padding-right: 0.2em;padding-left: 0.2em;position: relative;}#sk-container-id-2 div.sk-item {position: relative;z-index: 1;}#sk-container-id-2 div.sk-parallel {display: flex;align-items: stretch;justify-content: center;background-color: white;position: relative;}#sk-container-id-2 div.sk-item::before, #sk-container-id-2 div.sk-parallel-item::before {content: \"\";position: absolute;border-left: 1px solid gray;box-sizing: border-box;top: 0;bottom: 0;left: 50%;z-index: -1;}#sk-container-id-2 div.sk-parallel-item {display: flex;flex-direction: column;z-index: 1;position: relative;background-color: white;}#sk-container-id-2 div.sk-parallel-item:first-child::after {align-self: flex-end;width: 50%;}#sk-container-id-2 div.sk-parallel-item:last-child::after {align-self: flex-start;width: 50%;}#sk-container-id-2 div.sk-parallel-item:only-child::after {width: 0;}#sk-container-id-2 div.sk-dashed-wrapped {border: 1px dashed gray;margin: 0 0.4em 0.5em 0.4em;box-sizing: border-box;padding-bottom: 0.4em;background-color: white;}#sk-container-id-2 div.sk-label label {font-family: monospace;font-weight: bold;display: inline-block;line-height: 1.2em;}#sk-container-id-2 div.sk-label-container {text-align: center;}#sk-container-id-2 div.sk-container {/* jupyter's `normalize.less` sets `[hidden] { display: none; }` but bootstrap.min.css set `[hidden] { display: none !important; }` so we also need the `!important` here to be able to override the default hidden behavior on the sphinx rendered scikit-learn.org. See: https://github.com/scikit-learn/scikit-learn/issues/21755 */display: inline-block !important;position: relative;}#sk-container-id-2 div.sk-text-repr-fallback {display: none;}</style><div id=\"sk-container-id-2\" class=\"sk-top-container\"><div class=\"sk-text-repr-fallback\"><pre>GridSearchCV(cv=5,\n",
       "             estimator=&lt;catboost.core.CatBoostRegressor object at 0x000001DE56BE8A30&gt;,\n",
       "             param_grid={&#x27;depth&#x27;: [4, 6, 10], &#x27;iterations&#x27;: [100, 200],\n",
       "                         &#x27;learning_rate&#x27;: [0.01, 0.1], &#x27;random_seed&#x27;: [11122],\n",
       "                         &#x27;verbose&#x27;: [20]},\n",
       "             scoring=&#x27;neg_mean_absolute_error&#x27;)</pre><b>In a Jupyter environment, please rerun this cell to show the HTML representation or trust the notebook. <br />On GitHub, the HTML representation is unable to render, please try loading this page with nbviewer.org.</b></div><div class=\"sk-container\" hidden><div class=\"sk-item sk-dashed-wrapped\"><div class=\"sk-label-container\"><div class=\"sk-label sk-toggleable\"><input class=\"sk-toggleable__control sk-hidden--visually\" id=\"sk-estimator-id-8\" type=\"checkbox\" ><label for=\"sk-estimator-id-8\" class=\"sk-toggleable__label sk-toggleable__label-arrow\">GridSearchCV</label><div class=\"sk-toggleable__content\"><pre>GridSearchCV(cv=5,\n",
       "             estimator=&lt;catboost.core.CatBoostRegressor object at 0x000001DE56BE8A30&gt;,\n",
       "             param_grid={&#x27;depth&#x27;: [4, 6, 10], &#x27;iterations&#x27;: [100, 200],\n",
       "                         &#x27;learning_rate&#x27;: [0.01, 0.1], &#x27;random_seed&#x27;: [11122],\n",
       "                         &#x27;verbose&#x27;: [20]},\n",
       "             scoring=&#x27;neg_mean_absolute_error&#x27;)</pre></div></div></div><div class=\"sk-parallel\"><div class=\"sk-parallel-item\"><div class=\"sk-item\"><div class=\"sk-label-container\"><div class=\"sk-label sk-toggleable\"><input class=\"sk-toggleable__control sk-hidden--visually\" id=\"sk-estimator-id-9\" type=\"checkbox\" ><label for=\"sk-estimator-id-9\" class=\"sk-toggleable__label sk-toggleable__label-arrow\">estimator: CatBoostRegressor</label><div class=\"sk-toggleable__content\"><pre>&lt;catboost.core.CatBoostRegressor object at 0x000001DE56BE8A30&gt;</pre></div></div></div><div class=\"sk-serial\"><div class=\"sk-item\"><div class=\"sk-estimator sk-toggleable\"><input class=\"sk-toggleable__control sk-hidden--visually\" id=\"sk-estimator-id-10\" type=\"checkbox\" ><label for=\"sk-estimator-id-10\" class=\"sk-toggleable__label sk-toggleable__label-arrow\">CatBoostRegressor</label><div class=\"sk-toggleable__content\"><pre>&lt;catboost.core.CatBoostRegressor object at 0x000001DE56BE8A30&gt;</pre></div></div></div></div></div></div></div></div></div></div>"
      ],
      "text/plain": [
       "GridSearchCV(cv=5,\n",
       "             estimator=<catboost.core.CatBoostRegressor object at 0x000001DE56BE8A30>,\n",
       "             param_grid={'depth': [4, 6, 10], 'iterations': [100, 200],\n",
       "                         'learning_rate': [0.01, 0.1], 'random_seed': [11122],\n",
       "                         'verbose': [20]},\n",
       "             scoring='neg_mean_absolute_error')"
      ]
     },
     "execution_count": 121,
     "metadata": {},
     "output_type": "execute_result"
    }
   ],
   "source": [
    "grid_catboost = GridSearchCV(catboost, grid_catboost_params, cv=5, scoring='neg_mean_absolute_error')\n",
    "grid_catboost.fit(X_train, y_train)"
   ]
  },
  {
   "cell_type": "code",
   "execution_count": 122,
   "metadata": {},
   "outputs": [
    {
     "name": "stdout",
     "output_type": "stream",
     "text": [
      "The best MAE for CatBoost: 5.780691026594979\n"
     ]
    }
   ],
   "source": [
    "mae_catboost = abs(grid_catboost.best_score_)\n",
    "print(f'The best MAE for CatBoost: {mae_catboost}')"
   ]
  },
  {
   "cell_type": "code",
   "execution_count": 123,
   "metadata": {},
   "outputs": [],
   "source": [
    "model_name.append('CatBoost')\n",
    "model_mae.append(mae_catboost)"
   ]
  },
  {
   "cell_type": "markdown",
   "metadata": {},
   "source": [
    "### Model Analysis"
   ]
  },
  {
   "cell_type": "markdown",
   "metadata": {},
   "source": [
    "Let's create a summary table and compare the models."
   ]
  },
  {
   "cell_type": "code",
   "execution_count": 124,
   "metadata": {},
   "outputs": [
    {
     "data": {
      "text/html": [
       "<style type=\"text/css\">\n",
       "#T_752d1_row0_col1 {\n",
       "  background-color: lightgreen;\n",
       "}\n",
       "</style>\n",
       "<table id=\"T_752d1\">\n",
       "  <thead>\n",
       "    <tr>\n",
       "      <th class=\"blank level0\" >&nbsp;</th>\n",
       "      <th id=\"T_752d1_level0_col0\" class=\"col_heading level0 col0\" >model_name</th>\n",
       "      <th id=\"T_752d1_level0_col1\" class=\"col_heading level0 col1\" >MAE</th>\n",
       "    </tr>\n",
       "  </thead>\n",
       "  <tbody>\n",
       "    <tr>\n",
       "      <th id=\"T_752d1_level0_row0\" class=\"row_heading level0 row0\" >0</th>\n",
       "      <td id=\"T_752d1_row0_col0\" class=\"data row0 col0\" >Stacking</td>\n",
       "      <td id=\"T_752d1_row0_col1\" class=\"data row0 col1\" >4.643705</td>\n",
       "    </tr>\n",
       "    <tr>\n",
       "      <th id=\"T_752d1_level0_row1\" class=\"row_heading level0 row1\" >1</th>\n",
       "      <td id=\"T_752d1_row1_col0\" class=\"data row1 col0\" >CatBoost</td>\n",
       "      <td id=\"T_752d1_row1_col1\" class=\"data row1 col1\" >5.780691</td>\n",
       "    </tr>\n",
       "    <tr>\n",
       "      <th id=\"T_752d1_level0_row2\" class=\"row_heading level0 row2\" >2</th>\n",
       "      <td id=\"T_752d1_row2_col0\" class=\"data row2 col0\" >VotingRegressor</td>\n",
       "      <td id=\"T_752d1_row2_col1\" class=\"data row2 col1\" >5.883075</td>\n",
       "    </tr>\n",
       "    <tr>\n",
       "      <th id=\"T_752d1_level0_row3\" class=\"row_heading level0 row3\" >3</th>\n",
       "      <td id=\"T_752d1_row3_col0\" class=\"data row3 col0\" >LightGBM</td>\n",
       "      <td id=\"T_752d1_row3_col1\" class=\"data row3 col1\" >6.060241</td>\n",
       "    </tr>\n",
       "    <tr>\n",
       "      <th id=\"T_752d1_level0_row4\" class=\"row_heading level0 row4\" >4</th>\n",
       "      <td id=\"T_752d1_row4_col0\" class=\"data row4 col0\" >Random Forest</td>\n",
       "      <td id=\"T_752d1_row4_col1\" class=\"data row4 col1\" >6.107252</td>\n",
       "    </tr>\n",
       "    <tr>\n",
       "      <th id=\"T_752d1_level0_row5\" class=\"row_heading level0 row5\" >5</th>\n",
       "      <td id=\"T_752d1_row5_col0\" class=\"data row5 col0\" >ElasticNet</td>\n",
       "      <td id=\"T_752d1_row5_col1\" class=\"data row5 col1\" >6.350335</td>\n",
       "    </tr>\n",
       "  </tbody>\n",
       "</table>\n"
      ],
      "text/plain": [
       "<pandas.io.formats.style.Styler at 0x1de56be8370>"
      ]
     },
     "execution_count": 124,
     "metadata": {},
     "output_type": "execute_result"
    }
   ],
   "source": [
    "model_comparison = pd.DataFrame(\n",
    "    {\n",
    "    'model_name': model_name, \n",
    "    'MAE': model_mae\n",
    "    }\n",
    ").sort_values(by='MAE').reset_index(drop=True)\n",
    "\n",
    "model_comparison.style.highlight_min(\n",
    "    'MAE', \n",
    "    color='lightgreen', \n",
    "    axis=0\n",
    ")"
   ]
  },
  {
   "cell_type": "markdown",
   "metadata": {},
   "source": [
    "<b>Conclusion</b>"
   ]
  },
  {
   "cell_type": "markdown",
   "metadata": {},
   "source": [
    "`Stacking` model based on `ElasticNet`, `Random Forest` and `SGD` with the final prediction using `CatBoost`, as well as the `CatBoost` model and the `VotingRegressor` ensemble showed a MAE result below 6. The `LightGBM`, `RandomForest` and `ElasticNet` models did not pass the threshold of MAE < 6. Since `Stacking` ensemble showed the best result, we will test it on the test data."
   ]
  },
  {
   "cell_type": "markdown",
   "metadata": {},
   "source": [
    "Let's look at the importance of features for the `CatBoost` model."
   ]
  },
  {
   "cell_type": "code",
   "execution_count": 125,
   "metadata": {},
   "outputs": [
    {
     "data": {
      "image/png": "[encoded data removed]",
      "text/plain": [
       "<Figure size 1008x576 with 1 Axes>"
      ]
     },
     "metadata": {
      "needs_background": "light"
     },
     "output_type": "display_data"
    }
   ],
   "source": [
    "feature_importance = grid_catboost.best_estimator_.feature_importances_\n",
    "sorted_idx = np.argsort(feature_importance)\n",
    "fig = plt.figure(figsize=(14, 8))\n",
    "plt.barh(range(len(sorted_idx)), feature_importance[sorted_idx], align='center')\n",
    "plt.yticks(range(len(sorted_idx)), np.array(X_train.columns)[sorted_idx])\n",
    "plt.title('Feature Importance')\n",
    "plt.show()"
   ]
  },
  {
   "cell_type": "markdown",
   "metadata": {},
   "source": [
    "We can see that the `initial temperature`, as well as the `energy` spent on heating, have the greatest influence on the final temperature. The `cooling time` of the alloy between iterations also plays an important role. If we talk about materials, then the wire material `wire_1`, as well as bulk materials `bulk_6` and `bulk_15`, have the greatest influence on the prediction."
   ]
  },
  {
   "cell_type": "markdown",
   "metadata": {},
   "source": [
    "### Checking the best model on test data"
   ]
  },
  {
   "cell_type": "markdown",
   "metadata": {},
   "source": [
    "<b>Stacking (ElasticNet, Random Forest, SGD + CatBoost (final))</b>"
   ]
  },
  {
   "cell_type": "markdown",
   "metadata": {},
   "source": [
    "Let's check how the model performs on the test data."
   ]
  },
  {
   "cell_type": "code",
   "execution_count": 126,
   "metadata": {},
   "outputs": [
    {
     "name": "stdout",
     "output_type": "stream",
     "text": [
      "The best MAE for Stacking ensemble on the test data: 5.79825611025707\n"
     ]
    }
   ],
   "source": [
    "stacking_model_pred_test = stacking_model.predict(X_test)\n",
    "mae_stacking_test = mean_absolute_error(y_test, stacking_model_pred_test)\n",
    "print(f'The best MAE for Stacking ensemble on the test data: {mae_stacking_test}')"
   ]
  },
  {
   "cell_type": "markdown",
   "metadata": {},
   "source": [
    "### Sanity Check"
   ]
  },
  {
   "cell_type": "markdown",
   "metadata": {},
   "source": [
    "We will perform a sanity check by comparing the MAE of the trained model with the MAE of the constant model (mean). To do this, we use the DummyRegressor tool from the sklearn library."
   ]
  },
  {
   "cell_type": "code",
   "execution_count": 127,
   "metadata": {},
   "outputs": [
    {
     "name": "stdout",
     "output_type": "stream",
     "text": [
      "MAE of the constant model: 8.695198191784447\n"
     ]
    }
   ],
   "source": [
    "dummy = DummyRegressor(strategy = 'mean')\n",
    "dummy.fit(X_train, y_train)\n",
    "dummy_predictions = dummy.predict(X_test)\n",
    "mae_dummy = mean_absolute_error(y_test, dummy_predictions)\n",
    "print(f'MAE of the constant model: {mae_dummy}')"
   ]
  },
  {
   "cell_type": "markdown",
   "metadata": {},
   "source": [
    "All the trained models passed the sanity check, as their MAE is lower than that of the constant model. "
   ]
  },
  {
   "cell_type": "markdown",
   "metadata": {},
   "source": [
    "## Report"
   ]
  },
  {
   "cell_type": "markdown",
   "metadata": {},
   "source": [
    "<b>Introduction</b>\n",
    "\n",
    "\n",
    "To optimize production costs, the metallurgical plant \"ABC Steel\" LLC decided to reduce electricity consumption during the steel processing. We need to build a model that predicts the temperature of the steel.\n",
    "\n",
    "Description of the processing step\n",
    "\n",
    "Ladle furnace unit (LFU) - metallurgical equipment for out-of-furnace steel processing in the converter shop. The LFU is a large metal ladle with a volume of about 100 tons and is lined from the inside with refractory bricks. Molten steel is poured into the LFU from a steel ladle and then heated by graphite electrodes inserted into the unit's lid.\n",
    "\n",
    "In addition to electric heating, desulfurization (removal of sulfur from the melt), adjustment of the chemical composition, and sampling are carried out at the CPC. Alloying of metal is carried out both with lumpy ferroalloys through the system to supply bulk materials from bunkers and with wire materials through a tube apparatus. Averaging the chemical composition and temperature is carried out through the bottom purge device in the steel ladle.\n",
    "\n",
    "After completion of processing at the LFU, the melt is poured back into the steel ladle and either sent to other metal finishing units or to a continuous casting plant, where it solidifies in the form of metallurgical slabs.\n",
    "\n",
    "Each time the melt enters the Ladle Furnace Unit, the initial temperature and chemical composition are measured. Then, if necessary, the melt is heated for several minutes, after which alloying materials are added, purged with a gas, stirring the melt, and measurements are again carried out following the approved Technological Instruction. This cycle is repeated several times until the target chemistry and melting temperature are reached. In this case, it is not necessary that the melt would be heated in each cycle.\n",
    "\n",
    "<b>Data</b>\n",
    "\n",
    "The data consists of a few files obtained from different sources\n",
    "\n",
    "* `data_arc.csv` - electrode data;\n",
    "* `data_bulk.csv` - data on the supply of bulk materials (volume);\n",
    "* `data_bulk_time.csv` - data on the supply of bulk materials (time);\n",
    "* `data_gas.csv` - data on alloy gas purge;\n",
    "* `data_temp.csv` - temperature measurement results;\n",
    "* `data_wire.csv` - data on wire materials (volume);\n",
    "* `data_wire_time.csv` - data on wire materials (time).\n",
    "\n",
    "The number of rows in the files varies from 3081 to 14876. We found missing values in all tables. In all files, the `key` column contains the batch number. There can be several lines in files with the same `key` value: they correspond to different processing iterations.\n",
    "\n",
    "<b>Plan completion</b>\n",
    "\n",
    "The original work plan consisted of seven phases and was too fragmented. Some items duplicated each other, and data preprocessing was located before exploratory data analysis. In the course of the project, some stages had to be swapped, and some merged. Thus, the final plan consisted of four stages, such as:\n",
    "\n",
    "1. Exploratory data analysis.\n",
    "2. Data preprocessing and model building.\n",
    "3. Testing the best model and checking the model for adequacy.\n",
    "4. Report\n",
    "\n",
    "After revising the structure and content of the work plan, all project stages were successfully implemented.\n",
    "\n",
    "<b>Difficulties encountered (obstacles)</b>\n",
    "\n",
    "The main problem in the execution of the project arose from the incorrect structuring of the stages of the plan and, as a result, the work was not readable and inconsistent. After clarifying this and changing the structure of the project, further work proceeded consistently and logically.\n",
    "\n",
    "Also, during the execution, some difficulties arose with data preprocessing, namely, with the removal of intermediate temperatures and the merging of tables. Since it was necessary to take into account batch numbers (keys) and exclude the entire batch in case of anomalies or omissions, several methods of sorting, aggregating, and combining data were tried, such as handwritten functions, loops, and filtering. As a result of the experiments, it was possible to pre-process and exclude batches that do not meet the conditions using only one cycle and filtrations.\n",
    "\n",
    "<b>Exploratory data analysis and data preprocessing</b>\n",
    "\n",
    "During the project, we conducted exploratory data analysis and found the following:\n",
    "\n",
    "* The number of features in all tables is different.\n",
    "* A batch with negative reactive power.\n",
    "* From the time data for bulk and wire, we found that there is no data for the period from 11 to 13 July.\n",
    "* Measurements with temperatures below 1500 degrees.\n",
    "* Missing values have been identified in the temperature data and bulk and wire feed tables. The reason is known from the customer - the material was not added.\n",
    "* Duplicate values in the data for the supply of bulk and wire materials.\n",
    "\n",
    "Based on the results of the review and exploratory data analysis, we did the following:\n",
    "\n",
    "* filled in the missing values and removed duplicate values in the tables with data on the supply of bulk and wire materials (`df_bulk` and `df_wire`)\n",
    "* removed batches with missing temperature values (`df_temp`)\n",
    "* removed the anomalies: negative reactive power in the electrode data table (`df_arc`), temperatures below 1500 in the temperature measurement table (`df_temp`)\n",
    "* to prevent leakage of the target variable, we removed intermediate temperature measurements and also got rid of unnecessary columns\n",
    "* added more features: apparent power, heating time, energy spent on heating, and time elapsed between temperature measurements\n",
    "* did an aggregation of features in the electrode data, and also combined all the tables into one, except for the time tables, using the keys.\n",
    "* split the data into two sets (training and test) in the proportion of 75:25.\n",
    "\n",
    "\n",
    "<b>Models</b>\n",
    "\n",
    "In the course of the project, we tested several different models as well as ensembles of models to solve the regression problem. To compare the models, we trained each of them using cross-validation and evaluated them using MAE (Mean Absolute Error) metric. Also, for models where it was necessary to scale features, we fed the data into the model through a pipeline (with StandardScaler). We tuned hyperparameters using the GridSearchCV tool from the Scikit Learn library.\n",
    "\n",
    "For this project, we chose six models:\n",
    "\n",
    "\n",
    "* `Linear Regression` with regularization (`ElasticNet`)\n",
    "* `RandomForest`\n",
    "* `LightGBM`\n",
    "* `VotingRegressor`\n",
    "* `CatBoost`\n",
    "* `Staking ensemble` (`ElasticNet`, `Random Forest` and `SGD` with final prediction using `CatBoost`)\n",
    "\n",
    "<b>Results</b>\n",
    "\n",
    "We obtained the following results on the training set:\n",
    "\n",
    "*Table 1. Cross-validation MAE for different models*\n",
    "\n",
    "| model_name         | MAE       |\n",
    "| :----------------- | --------- |\n",
    "| Stacking           | 4.643705  |\n",
    "| CatBoost           | 5.780691  |\n",
    "| VotingRegressor    | 5.883075  |\n",
    "| LightGBM           | 6.060241  |\n",
    "| Random Forest      | 6.107252  |\n",
    "| ElasticNet         | 6.350335  |\n",
    "\n",
    "\n",
    "<b>The Best Model</b>\n",
    "\n",
    "The best result (MAE = 4.64) was shown by the `Stacking` ensemble (`ElasticNet`, `Random Forest`, and `SGD` with final prediction using `CatBoost`). We selected it to get predictions on test data and got the following results:\n",
    "\n",
    "*Table 2. MAE for Stacking on test data.*\n",
    "\n",
    "| model_name          | MAE         |\n",
    "| :-----------------: | :---------: |\n",
    "| Stacking            | 5.798256    |\n",
    "\n",
    "\n",
    "We also checked which features influence the model's predictions the most. The most important features to predict the final temperature of the alloy are the initial temperature and the energy."
   ]
  }
 ],
 "metadata": {
  "ExecuteTimeLog": [
   {
    "duration": 423,
    "start_time": "2022-11-03T19:29:27.061Z"
   },
   {
    "duration": 612,
    "start_time": "2022-11-03T19:29:28.542Z"
   },
   {
    "duration": 24,
    "start_time": "2022-11-03T19:29:34.761Z"
   },
   {
    "duration": 30,
    "start_time": "2022-11-03T19:29:51.534Z"
   },
   {
    "duration": 19,
    "start_time": "2022-11-03T19:30:06.773Z"
   },
   {
    "duration": 10,
    "start_time": "2022-11-03T19:30:18.097Z"
   },
   {
    "duration": 12,
    "start_time": "2022-11-03T19:30:27.034Z"
   },
   {
    "duration": 15,
    "start_time": "2022-11-03T19:30:32.220Z"
   },
   {
    "duration": 15,
    "start_time": "2022-11-03T19:30:45.049Z"
   },
   {
    "duration": 1763,
    "start_time": "2022-11-05T07:17:57.783Z"
   },
   {
    "duration": 3,
    "start_time": "2022-11-05T07:18:00.711Z"
   },
   {
    "duration": 500,
    "start_time": "2022-11-05T07:18:01.895Z"
   },
   {
    "duration": 22,
    "start_time": "2022-11-05T07:18:04.687Z"
   },
   {
    "duration": 21,
    "start_time": "2022-11-05T07:29:06.918Z"
   },
   {
    "duration": 20,
    "start_time": "2022-11-05T07:29:21.896Z"
   },
   {
    "duration": 9,
    "start_time": "2022-11-05T07:29:29.017Z"
   },
   {
    "duration": 13,
    "start_time": "2022-11-05T07:29:34.167Z"
   },
   {
    "duration": 18,
    "start_time": "2022-11-05T07:29:42.137Z"
   },
   {
    "duration": 14,
    "start_time": "2022-11-05T07:29:45.498Z"
   },
   {
    "duration": 13,
    "start_time": "2022-11-05T07:30:07.966Z"
   },
   {
    "duration": 12,
    "start_time": "2022-11-05T07:30:28.964Z"
   },
   {
    "duration": 13,
    "start_time": "2022-11-05T07:30:55.047Z"
   },
   {
    "duration": 11,
    "start_time": "2022-11-05T07:31:23.637Z"
   },
   {
    "duration": 11,
    "start_time": "2022-11-05T07:31:35.880Z"
   },
   {
    "duration": 12,
    "start_time": "2022-11-05T07:31:45.247Z"
   },
   {
    "duration": 12,
    "start_time": "2022-11-05T07:31:54.889Z"
   },
   {
    "duration": 3,
    "start_time": "2022-11-05T07:37:29.342Z"
   },
   {
    "duration": 197,
    "start_time": "2022-11-05T08:08:20.879Z"
   },
   {
    "duration": 13,
    "start_time": "2022-11-05T08:08:23.592Z"
   },
   {
    "duration": 15,
    "start_time": "2022-11-05T08:08:26.374Z"
   },
   {
    "duration": 191,
    "start_time": "2022-11-05T08:08:39.922Z"
   },
   {
    "duration": 15,
    "start_time": "2022-11-05T08:08:41.582Z"
   },
   {
    "duration": 15,
    "start_time": "2022-11-05T08:08:42.821Z"
   },
   {
    "duration": 12,
    "start_time": "2022-11-05T08:08:45.248Z"
   },
   {
    "duration": 21,
    "start_time": "2022-11-05T08:08:46.870Z"
   },
   {
    "duration": 16,
    "start_time": "2022-11-05T08:08:52.282Z"
   },
   {
    "duration": 16,
    "start_time": "2022-11-05T08:08:54.054Z"
   },
   {
    "duration": 8,
    "start_time": "2022-11-05T08:29:24.562Z"
   },
   {
    "duration": 121,
    "start_time": "2022-11-05T08:32:29.478Z"
   },
   {
    "duration": 12,
    "start_time": "2022-11-05T08:33:36.870Z"
   },
   {
    "duration": 89,
    "start_time": "2022-11-05T08:33:39.429Z"
   },
   {
    "duration": 18,
    "start_time": "2022-11-05T08:33:43.455Z"
   },
   {
    "duration": 3851,
    "start_time": "2022-11-05T08:46:27.945Z"
   },
   {
    "duration": 173,
    "start_time": "2022-11-05T08:46:46.347Z"
   },
   {
    "duration": 3683,
    "start_time": "2022-11-05T08:47:12.424Z"
   },
   {
    "duration": 3745,
    "start_time": "2022-11-05T08:47:35.835Z"
   },
   {
    "duration": 3602,
    "start_time": "2022-11-05T08:47:48.871Z"
   },
   {
    "duration": 9,
    "start_time": "2022-11-05T08:47:55.757Z"
   },
   {
    "duration": 5,
    "start_time": "2022-11-05T08:48:11.472Z"
   },
   {
    "duration": 3,
    "start_time": "2022-11-05T08:48:23.742Z"
   },
   {
    "duration": 256,
    "start_time": "2022-11-05T08:49:16.383Z"
   },
   {
    "duration": 118,
    "start_time": "2022-11-05T08:49:45.475Z"
   },
   {
    "duration": 77,
    "start_time": "2022-11-05T08:50:10.040Z"
   },
   {
    "duration": 8145,
    "start_time": "2022-11-05T08:51:20.303Z"
   },
   {
    "duration": 84,
    "start_time": "2022-11-05T08:51:30.679Z"
   },
   {
    "duration": 52,
    "start_time": "2022-11-05T08:54:13.957Z"
   },
   {
    "duration": 7,
    "start_time": "2022-11-05T09:24:28.732Z"
   },
   {
    "duration": 14,
    "start_time": "2022-11-05T09:24:37.238Z"
   },
   {
    "duration": 5,
    "start_time": "2022-11-05T09:25:44.124Z"
   },
   {
    "duration": 21,
    "start_time": "2022-11-05T09:25:53.733Z"
   },
   {
    "duration": 5,
    "start_time": "2022-11-05T09:26:40.690Z"
   },
   {
    "duration": 17,
    "start_time": "2022-11-05T09:26:44.071Z"
   },
   {
    "duration": 19,
    "start_time": "2022-11-05T09:28:05.923Z"
   },
   {
    "duration": 114,
    "start_time": "2022-11-05T09:28:14.703Z"
   },
   {
    "duration": 3,
    "start_time": "2022-11-05T09:28:24.932Z"
   },
   {
    "duration": 10,
    "start_time": "2022-11-05T09:28:27.298Z"
   },
   {
    "duration": 5,
    "start_time": "2022-11-05T09:32:14.302Z"
   },
   {
    "duration": 11,
    "start_time": "2022-11-05T09:32:16.001Z"
   },
   {
    "duration": 5,
    "start_time": "2022-11-05T09:32:49.457Z"
   },
   {
    "duration": 17,
    "start_time": "2022-11-05T09:32:50.422Z"
   },
   {
    "duration": 14,
    "start_time": "2022-11-05T09:43:45.139Z"
   },
   {
    "duration": 21,
    "start_time": "2022-11-05T09:44:14.264Z"
   },
   {
    "duration": 8,
    "start_time": "2022-11-05T09:46:40.724Z"
   },
   {
    "duration": 10,
    "start_time": "2022-11-05T09:47:18.184Z"
   },
   {
    "duration": 17,
    "start_time": "2022-11-05T09:47:48.201Z"
   },
   {
    "duration": 11,
    "start_time": "2022-11-05T09:48:20.380Z"
   },
   {
    "duration": 10,
    "start_time": "2022-11-05T09:48:54.608Z"
   },
   {
    "duration": 13,
    "start_time": "2022-11-05T09:48:56.813Z"
   },
   {
    "duration": 27,
    "start_time": "2022-11-05T09:49:14.196Z"
   },
   {
    "duration": 48,
    "start_time": "2022-11-05T09:49:43.057Z"
   },
   {
    "duration": 11,
    "start_time": "2022-11-05T09:50:12.714Z"
   },
   {
    "duration": 13,
    "start_time": "2022-11-05T09:50:36.657Z"
   },
   {
    "duration": 34,
    "start_time": "2022-11-05T09:50:56.994Z"
   },
   {
    "duration": 52,
    "start_time": "2022-11-05T12:30:44.927Z"
   },
   {
    "duration": 77,
    "start_time": "2022-11-05T12:30:49.980Z"
   },
   {
    "duration": 25,
    "start_time": "2022-11-05T12:31:42.084Z"
   },
   {
    "duration": 65,
    "start_time": "2022-11-05T12:31:49.555Z"
   },
   {
    "duration": 9,
    "start_time": "2022-11-05T12:33:45.556Z"
   },
   {
    "duration": 4,
    "start_time": "2022-11-05T12:33:46.860Z"
   },
   {
    "duration": 29,
    "start_time": "2022-11-05T12:33:49.096Z"
   },
   {
    "duration": 5,
    "start_time": "2022-11-05T12:33:51.075Z"
   },
   {
    "duration": 20,
    "start_time": "2022-11-05T12:35:20.213Z"
   },
   {
    "duration": 16,
    "start_time": "2022-11-05T12:35:31.344Z"
   },
   {
    "duration": 10,
    "start_time": "2022-11-05T12:35:41.298Z"
   },
   {
    "duration": 19,
    "start_time": "2022-11-05T12:41:15.699Z"
   },
   {
    "duration": 15995,
    "start_time": "2022-11-05T12:42:06.144Z"
   },
   {
    "duration": 27,
    "start_time": "2022-11-05T12:42:58.180Z"
   },
   {
    "duration": 20,
    "start_time": "2022-11-05T12:43:02.741Z"
   },
   {
    "duration": 7,
    "start_time": "2022-11-05T12:43:20.625Z"
   },
   {
    "duration": 16,
    "start_time": "2022-11-05T12:43:22.467Z"
   },
   {
    "duration": 4,
    "start_time": "2022-11-05T12:43:23.084Z"
   },
   {
    "duration": 36,
    "start_time": "2022-11-05T12:43:23.781Z"
   },
   {
    "duration": 5,
    "start_time": "2022-11-05T12:43:24.602Z"
   },
   {
    "duration": 14549,
    "start_time": "2022-11-05T12:43:26.985Z"
   },
   {
    "duration": 28,
    "start_time": "2022-11-05T12:44:12.206Z"
   },
   {
    "duration": 38,
    "start_time": "2022-11-05T12:44:23.960Z"
   },
   {
    "duration": 58,
    "start_time": "2022-11-05T12:44:29.419Z"
   },
   {
    "duration": 19,
    "start_time": "2022-11-05T12:44:37.808Z"
   },
   {
    "duration": 14,
    "start_time": "2022-11-05T12:44:39.179Z"
   },
   {
    "duration": 5,
    "start_time": "2022-11-05T12:44:39.682Z"
   },
   {
    "duration": 32,
    "start_time": "2022-11-05T12:44:40.524Z"
   },
   {
    "duration": 5,
    "start_time": "2022-11-05T12:44:41.138Z"
   },
   {
    "duration": 13623,
    "start_time": "2022-11-05T12:44:42.547Z"
   },
   {
    "duration": 1689,
    "start_time": "2022-11-06T06:12:32.194Z"
   },
   {
    "duration": 3,
    "start_time": "2022-11-06T06:12:38.355Z"
   },
   {
    "duration": 458,
    "start_time": "2022-11-06T06:12:39.302Z"
   },
   {
    "duration": 12,
    "start_time": "2022-11-06T06:13:49.097Z"
   },
   {
    "duration": 118,
    "start_time": "2022-11-06T06:14:18.910Z"
   },
   {
    "duration": 356,
    "start_time": "2022-11-06T06:14:50.271Z"
   },
   {
    "duration": 1015,
    "start_time": "2022-11-06T06:15:27.310Z"
   },
   {
    "duration": 109,
    "start_time": "2022-11-06T06:15:46.015Z"
   },
   {
    "duration": 930,
    "start_time": "2022-11-06T06:16:07.006Z"
   },
   {
    "duration": 979,
    "start_time": "2022-11-06T06:17:27.861Z"
   },
   {
    "duration": 507,
    "start_time": "2022-11-06T06:19:10.405Z"
   },
   {
    "duration": 46,
    "start_time": "2022-11-06T06:19:44.726Z"
   },
   {
    "duration": 15,
    "start_time": "2022-11-06T06:19:46.016Z"
   },
   {
    "duration": 17,
    "start_time": "2022-11-06T06:19:57.765Z"
   },
   {
    "duration": 163,
    "start_time": "2022-11-06T06:20:05.926Z"
   },
   {
    "duration": 50,
    "start_time": "2022-11-06T06:20:14.715Z"
   },
   {
    "duration": 14,
    "start_time": "2022-11-06T06:20:15.409Z"
   },
   {
    "duration": 3,
    "start_time": "2022-11-06T06:20:24.185Z"
   },
   {
    "duration": 5,
    "start_time": "2022-11-06T06:20:25.577Z"
   },
   {
    "duration": 185,
    "start_time": "2022-11-06T06:20:25.958Z"
   },
   {
    "duration": 4,
    "start_time": "2022-11-06T06:20:29.714Z"
   },
   {
    "duration": 5,
    "start_time": "2022-11-06T06:20:34.013Z"
   },
   {
    "duration": 4,
    "start_time": "2022-11-06T06:20:41.344Z"
   },
   {
    "duration": 5,
    "start_time": "2022-11-06T06:20:45.937Z"
   },
   {
    "duration": 6,
    "start_time": "2022-11-06T06:20:50.178Z"
   },
   {
    "duration": 945,
    "start_time": "2022-11-06T06:20:55.294Z"
   },
   {
    "duration": 11,
    "start_time": "2022-11-06T06:21:55.377Z"
   },
   {
    "duration": 91,
    "start_time": "2022-11-06T06:22:36.047Z"
   },
   {
    "duration": 17,
    "start_time": "2022-11-06T06:22:38.286Z"
   },
   {
    "duration": 49,
    "start_time": "2022-11-06T06:22:42.563Z"
   },
   {
    "duration": 18,
    "start_time": "2022-11-06T06:22:43.388Z"
   },
   {
    "duration": 16,
    "start_time": "2022-11-06T06:23:33.375Z"
   },
   {
    "duration": 14,
    "start_time": "2022-11-06T06:23:47.693Z"
   },
   {
    "duration": 159,
    "start_time": "2022-11-06T06:24:11.686Z"
   },
   {
    "duration": 4,
    "start_time": "2022-11-06T06:24:38.207Z"
   },
   {
    "duration": 3,
    "start_time": "2022-11-06T06:24:39.392Z"
   },
   {
    "duration": 185,
    "start_time": "2022-11-06T06:24:39.774Z"
   },
   {
    "duration": 4,
    "start_time": "2022-11-06T06:24:42.702Z"
   },
   {
    "duration": 133,
    "start_time": "2022-11-06T06:24:46.710Z"
   },
   {
    "duration": 30,
    "start_time": "2022-11-06T06:26:07.751Z"
   },
   {
    "duration": 4,
    "start_time": "2022-11-06T06:26:57.448Z"
   },
   {
    "duration": 109,
    "start_time": "2022-11-06T06:27:00.736Z"
   },
   {
    "duration": 145,
    "start_time": "2022-11-06T06:28:01.147Z"
   },
   {
    "duration": 116,
    "start_time": "2022-11-06T06:28:18.666Z"
   },
   {
    "duration": 3,
    "start_time": "2022-11-06T06:29:37.817Z"
   },
   {
    "duration": 118,
    "start_time": "2022-11-06T06:29:48.601Z"
   },
   {
    "duration": 273,
    "start_time": "2022-11-06T06:30:18.436Z"
   },
   {
    "duration": 105,
    "start_time": "2022-11-06T06:30:52.686Z"
   },
   {
    "duration": 81,
    "start_time": "2022-11-06T06:40:55.791Z"
   },
   {
    "duration": 83,
    "start_time": "2022-11-06T06:41:08.264Z"
   },
   {
    "duration": 86,
    "start_time": "2022-11-06T06:41:17.825Z"
   },
   {
    "duration": 318,
    "start_time": "2022-11-06T06:41:24.796Z"
   },
   {
    "duration": 320,
    "start_time": "2022-11-06T06:41:52.132Z"
   },
   {
    "duration": 281,
    "start_time": "2022-11-06T06:42:21.010Z"
   },
   {
    "duration": 334,
    "start_time": "2022-11-06T06:42:36.091Z"
   },
   {
    "duration": 412,
    "start_time": "2022-11-06T06:42:40.164Z"
   },
   {
    "duration": 261,
    "start_time": "2022-11-06T06:43:03.231Z"
   },
   {
    "duration": 256,
    "start_time": "2022-11-06T06:43:08.404Z"
   },
   {
    "duration": 330,
    "start_time": "2022-11-06T06:43:12.520Z"
   },
   {
    "duration": 267,
    "start_time": "2022-11-06T06:43:57.781Z"
   },
   {
    "duration": 376,
    "start_time": "2022-11-06T06:44:01.707Z"
   },
   {
    "duration": 263,
    "start_time": "2022-11-06T06:44:19.578Z"
   },
   {
    "duration": 213,
    "start_time": "2022-11-06T06:44:24.410Z"
   },
   {
    "duration": 262,
    "start_time": "2022-11-06T06:44:27.411Z"
   },
   {
    "duration": 277,
    "start_time": "2022-11-06T06:44:43.244Z"
   },
   {
    "duration": 9,
    "start_time": "2022-11-06T06:56:15.674Z"
   },
   {
    "duration": 422,
    "start_time": "2022-11-06T06:57:07.409Z"
   },
   {
    "duration": 9,
    "start_time": "2022-11-06T06:57:25.074Z"
   },
   {
    "duration": 479,
    "start_time": "2022-11-06T06:57:35.284Z"
   },
   {
    "duration": 392,
    "start_time": "2022-11-06T06:58:29.307Z"
   },
   {
    "duration": 427,
    "start_time": "2022-11-06T06:59:11.443Z"
   },
   {
    "duration": 443,
    "start_time": "2022-11-06T06:59:21.178Z"
   },
   {
    "duration": 4,
    "start_time": "2022-11-06T08:38:31.600Z"
   },
   {
    "duration": 1393,
    "start_time": "2022-11-06T08:38:51.538Z"
   },
   {
    "duration": 2,
    "start_time": "2022-11-06T08:38:54.322Z"
   },
   {
    "duration": 198,
    "start_time": "2022-11-06T08:38:54.907Z"
   },
   {
    "duration": 4,
    "start_time": "2022-11-06T08:38:59.404Z"
   },
   {
    "duration": 5,
    "start_time": "2022-11-06T08:39:04.297Z"
   },
   {
    "duration": 5,
    "start_time": "2022-11-06T08:39:06.757Z"
   },
   {
    "duration": 295,
    "start_time": "2022-11-06T08:39:08.571Z"
   },
   {
    "duration": 529,
    "start_time": "2022-11-06T08:39:16.251Z"
   },
   {
    "duration": 9,
    "start_time": "2022-11-06T08:39:43.038Z"
   },
   {
    "duration": 3,
    "start_time": "2022-11-06T08:39:47.755Z"
   },
   {
    "duration": 217,
    "start_time": "2022-11-06T08:39:48.448Z"
   },
   {
    "duration": 5,
    "start_time": "2022-11-06T08:40:12.105Z"
   },
   {
    "duration": 423,
    "start_time": "2022-11-06T08:40:16.218Z"
   },
   {
    "duration": 3,
    "start_time": "2022-11-06T08:40:30.755Z"
   },
   {
    "duration": 129,
    "start_time": "2022-11-06T08:40:31.789Z"
   },
   {
    "duration": 295,
    "start_time": "2022-11-06T08:40:35.817Z"
   },
   {
    "duration": 3,
    "start_time": "2022-11-06T08:40:44.464Z"
   },
   {
    "duration": 123,
    "start_time": "2022-11-06T08:40:46.337Z"
   },
   {
    "duration": 2,
    "start_time": "2022-11-06T08:40:50.702Z"
   },
   {
    "duration": 156,
    "start_time": "2022-11-06T08:40:52.220Z"
   },
   {
    "duration": 3,
    "start_time": "2022-11-06T08:40:59.469Z"
   },
   {
    "duration": 138,
    "start_time": "2022-11-06T08:41:00.104Z"
   },
   {
    "duration": 297,
    "start_time": "2022-11-06T08:41:05.391Z"
   },
   {
    "duration": 211,
    "start_time": "2022-11-06T08:41:40.863Z"
   },
   {
    "duration": 4,
    "start_time": "2022-11-06T08:41:50.820Z"
   },
   {
    "duration": 127,
    "start_time": "2022-11-06T08:41:52.380Z"
   },
   {
    "duration": 4,
    "start_time": "2022-11-06T08:42:03.739Z"
   },
   {
    "duration": 119,
    "start_time": "2022-11-06T08:42:22.621Z"
   },
   {
    "duration": 6,
    "start_time": "2022-11-06T08:42:34.724Z"
   },
   {
    "duration": 215,
    "start_time": "2022-11-06T08:42:43.919Z"
   },
   {
    "duration": 44,
    "start_time": "2022-11-06T08:43:08.872Z"
   },
   {
    "duration": 25,
    "start_time": "2022-11-06T08:43:11.000Z"
   },
   {
    "duration": 21,
    "start_time": "2022-11-06T08:43:12.152Z"
   },
   {
    "duration": 10,
    "start_time": "2022-11-06T08:43:13.196Z"
   },
   {
    "duration": 27,
    "start_time": "2022-11-06T08:43:14.401Z"
   },
   {
    "duration": 14099,
    "start_time": "2022-11-06T08:43:16.255Z"
   },
   {
    "duration": 9,
    "start_time": "2022-11-06T08:46:03.302Z"
   },
   {
    "duration": 21,
    "start_time": "2022-11-06T08:47:05.499Z"
   },
   {
    "duration": 142,
    "start_time": "2022-11-06T08:47:06.285Z"
   },
   {
    "duration": 44,
    "start_time": "2022-11-06T08:47:24.284Z"
   },
   {
    "duration": 32,
    "start_time": "2022-11-06T08:48:37.188Z"
   },
   {
    "duration": 190,
    "start_time": "2022-11-06T08:48:41.351Z"
   },
   {
    "duration": 4,
    "start_time": "2022-11-06T08:48:44.005Z"
   },
   {
    "duration": 28,
    "start_time": "2022-11-06T08:48:47.142Z"
   },
   {
    "duration": 27,
    "start_time": "2022-11-06T08:48:52.107Z"
   },
   {
    "duration": 26,
    "start_time": "2022-11-06T08:49:10.441Z"
   },
   {
    "duration": 5,
    "start_time": "2022-11-06T08:49:34.966Z"
   },
   {
    "duration": 138,
    "start_time": "2022-11-06T08:49:52.980Z"
   },
   {
    "duration": 5,
    "start_time": "2022-11-06T08:50:00.912Z"
   },
   {
    "duration": 3,
    "start_time": "2022-11-06T08:50:08.290Z"
   },
   {
    "duration": 3,
    "start_time": "2022-11-06T08:50:12.027Z"
   },
   {
    "duration": 4,
    "start_time": "2022-11-06T08:50:14.940Z"
   },
   {
    "duration": 11,
    "start_time": "2022-11-06T08:50:20.097Z"
   },
   {
    "duration": 89,
    "start_time": "2022-11-06T08:50:21.417Z"
   },
   {
    "duration": 15,
    "start_time": "2022-11-06T08:50:23.196Z"
   },
   {
    "duration": 45,
    "start_time": "2022-11-06T08:50:31.207Z"
   },
   {
    "duration": 21,
    "start_time": "2022-11-06T08:50:32.518Z"
   },
   {
    "duration": 9,
    "start_time": "2022-11-06T08:50:34.228Z"
   },
   {
    "duration": 7,
    "start_time": "2022-11-06T08:50:35.475Z"
   },
   {
    "duration": 18,
    "start_time": "2022-11-06T08:50:36.425Z"
   },
   {
    "duration": 4,
    "start_time": "2022-11-06T08:50:37.381Z"
   },
   {
    "duration": 37,
    "start_time": "2022-11-06T08:50:41.510Z"
   },
   {
    "duration": 106,
    "start_time": "2022-11-06T08:50:48.404Z"
   },
   {
    "duration": 287780,
    "start_time": "2022-11-06T08:50:50.868Z"
   },
   {
    "duration": 9,
    "start_time": "2022-11-06T08:55:38.650Z"
   },
   {
    "duration": 1419,
    "start_time": "2022-11-06T08:56:02.895Z"
   },
   {
    "duration": 1493,
    "start_time": "2022-11-06T08:59:57.716Z"
   },
   {
    "duration": 4,
    "start_time": "2022-11-06T09:00:39.426Z"
   },
   {
    "duration": 10,
    "start_time": "2022-11-06T09:01:07.325Z"
   },
   {
    "duration": 14,
    "start_time": "2022-11-06T09:01:21.043Z"
   },
   {
    "duration": 1333,
    "start_time": "2022-11-06T09:01:35.078Z"
   },
   {
    "duration": 1598,
    "start_time": "2022-11-06T19:28:25.172Z"
   },
   {
    "duration": 2,
    "start_time": "2022-11-06T19:28:28.347Z"
   },
   {
    "duration": 642,
    "start_time": "2022-11-06T19:28:29.576Z"
   },
   {
    "duration": 4,
    "start_time": "2022-11-06T19:28:37.334Z"
   },
   {
    "duration": 297,
    "start_time": "2022-11-06T19:28:51.881Z"
   },
   {
    "duration": 5,
    "start_time": "2022-11-06T19:29:01.276Z"
   },
   {
    "duration": 6,
    "start_time": "2022-11-06T19:29:15.204Z"
   },
   {
    "duration": 4,
    "start_time": "2022-11-06T19:29:47.852Z"
   },
   {
    "duration": 4,
    "start_time": "2022-11-06T19:29:54.853Z"
   },
   {
    "duration": 4,
    "start_time": "2022-11-06T19:30:01.827Z"
   },
   {
    "duration": 10,
    "start_time": "2022-11-06T19:34:55.682Z"
   },
   {
    "duration": 14,
    "start_time": "2022-11-06T19:35:02.166Z"
   },
   {
    "duration": 93,
    "start_time": "2022-11-06T19:35:03.432Z"
   },
   {
    "duration": 16,
    "start_time": "2022-11-06T19:35:05.039Z"
   },
   {
    "duration": 58,
    "start_time": "2022-11-06T19:35:13.887Z"
   },
   {
    "duration": 26,
    "start_time": "2022-11-06T19:35:14.776Z"
   },
   {
    "duration": 16,
    "start_time": "2022-11-06T19:35:16.439Z"
   },
   {
    "duration": 7,
    "start_time": "2022-11-06T19:35:17.718Z"
   },
   {
    "duration": 22,
    "start_time": "2022-11-06T19:35:24.386Z"
   },
   {
    "duration": 102,
    "start_time": "2022-11-06T19:38:16.892Z"
   },
   {
    "duration": 3,
    "start_time": "2022-11-06T19:38:19.377Z"
   },
   {
    "duration": 40,
    "start_time": "2022-11-06T19:38:20.074Z"
   },
   {
    "duration": 7,
    "start_time": "2022-11-06T19:38:39.965Z"
   },
   {
    "duration": 76,
    "start_time": "2022-11-06T19:38:43.093Z"
   },
   {
    "duration": 11,
    "start_time": "2022-11-06T19:38:47.336Z"
   },
   {
    "duration": 3,
    "start_time": "2022-11-06T19:39:02.112Z"
   },
   {
    "duration": 8,
    "start_time": "2022-11-06T19:39:12.315Z"
   },
   {
    "duration": 70,
    "start_time": "2022-11-06T19:39:30.144Z"
   },
   {
    "duration": 1338,
    "start_time": "2022-11-06T19:39:32.069Z"
   },
   {
    "duration": 286271,
    "start_time": "2022-11-06T19:39:43.656Z"
   },
   {
    "duration": 10,
    "start_time": "2022-11-06T19:44:29.929Z"
   },
   {
    "duration": 4,
    "start_time": "2022-11-06T19:44:48.659Z"
   },
   {
    "duration": 5,
    "start_time": "2022-11-06T19:44:55.213Z"
   },
   {
    "duration": 37,
    "start_time": "2022-11-06T19:45:28.214Z"
   },
   {
    "duration": 12,
    "start_time": "2022-11-06T19:46:19.271Z"
   },
   {
    "duration": 7,
    "start_time": "2022-11-06T19:46:23.181Z"
   },
   {
    "duration": 194,
    "start_time": "2022-11-06T19:46:35.795Z"
   },
   {
    "duration": 4,
    "start_time": "2022-11-06T19:46:38.924Z"
   },
   {
    "duration": 15,
    "start_time": "2022-11-06T19:46:44.700Z"
   },
   {
    "duration": 7,
    "start_time": "2022-11-06T19:46:48.617Z"
   },
   {
    "duration": 5,
    "start_time": "2022-11-06T19:47:07.614Z"
   },
   {
    "duration": 11,
    "start_time": "2022-11-06T19:54:37.101Z"
   },
   {
    "duration": 8,
    "start_time": "2022-11-06T19:54:45.777Z"
   },
   {
    "duration": 4,
    "start_time": "2022-11-06T19:55:17.186Z"
   },
   {
    "duration": 9,
    "start_time": "2022-11-06T19:55:19.690Z"
   },
   {
    "duration": 11,
    "start_time": "2022-11-06T19:55:36.215Z"
   },
   {
    "duration": 1083,
    "start_time": "2022-11-06T19:55:47.856Z"
   },
   {
    "duration": 9,
    "start_time": "2022-11-06T19:56:02.759Z"
   },
   {
    "duration": 5,
    "start_time": "2022-11-06T19:56:07.030Z"
   },
   {
    "duration": 4,
    "start_time": "2022-11-06T19:56:20.834Z"
   },
   {
    "duration": 3,
    "start_time": "2022-11-06T19:56:42.087Z"
   },
   {
    "duration": 9,
    "start_time": "2022-11-06T19:58:17.393Z"
   },
   {
    "duration": 74,
    "start_time": "2022-11-06T19:58:18.274Z"
   },
   {
    "duration": 13,
    "start_time": "2022-11-06T19:58:20.522Z"
   },
   {
    "duration": 33,
    "start_time": "2022-11-06T19:58:24.150Z"
   },
   {
    "duration": 21,
    "start_time": "2022-11-06T19:58:25.096Z"
   },
   {
    "duration": 30,
    "start_time": "2022-11-06T19:58:32.811Z"
   },
   {
    "duration": 3,
    "start_time": "2022-11-06T20:00:14.845Z"
   },
   {
    "duration": 8,
    "start_time": "2022-11-06T20:00:21.172Z"
   },
   {
    "duration": 32,
    "start_time": "2022-11-06T20:00:28.662Z"
   },
   {
    "duration": 1623,
    "start_time": "2022-11-08T05:14:35.464Z"
   },
   {
    "duration": 4,
    "start_time": "2022-11-08T05:14:38.611Z"
   },
   {
    "duration": 3,
    "start_time": "2022-11-08T06:03:05.502Z"
   },
   {
    "duration": 2,
    "start_time": "2022-11-08T06:03:06.748Z"
   },
   {
    "duration": 566,
    "start_time": "2022-11-08T06:03:07.237Z"
   },
   {
    "duration": 12,
    "start_time": "2022-11-08T06:03:09.602Z"
   },
   {
    "duration": 11,
    "start_time": "2022-11-08T06:03:14.385Z"
   },
   {
    "duration": 16,
    "start_time": "2022-11-08T06:03:19.122Z"
   },
   {
    "duration": 6,
    "start_time": "2022-11-08T06:03:22.862Z"
   },
   {
    "duration": 16,
    "start_time": "2022-11-08T06:11:54.346Z"
   },
   {
    "duration": 9,
    "start_time": "2022-11-08T06:11:56.503Z"
   },
   {
    "duration": 49,
    "start_time": "2022-11-08T06:12:00.676Z"
   },
   {
    "duration": 135,
    "start_time": "2022-11-08T06:12:04.721Z"
   },
   {
    "duration": 47,
    "start_time": "2022-11-08T06:12:07.715Z"
   },
   {
    "duration": 6,
    "start_time": "2022-11-08T06:12:11.328Z"
   },
   {
    "duration": 12,
    "start_time": "2022-11-08T06:12:17.299Z"
   },
   {
    "duration": 10,
    "start_time": "2022-11-08T06:12:21.211Z"
   },
   {
    "duration": 32,
    "start_time": "2022-11-08T06:12:28.638Z"
   },
   {
    "duration": 7,
    "start_time": "2022-11-08T06:12:35.592Z"
   },
   {
    "duration": 7,
    "start_time": "2022-11-08T06:12:38.758Z"
   },
   {
    "duration": 9,
    "start_time": "2022-11-08T06:12:40.792Z"
   },
   {
    "duration": 10,
    "start_time": "2022-11-08T06:12:43.646Z"
   },
   {
    "duration": 6,
    "start_time": "2022-11-08T06:12:46.293Z"
   },
   {
    "duration": 7,
    "start_time": "2022-11-08T06:12:49.311Z"
   },
   {
    "duration": 10,
    "start_time": "2022-11-08T06:12:51.950Z"
   },
   {
    "duration": 11,
    "start_time": "2022-11-08T06:12:53.982Z"
   },
   {
    "duration": 5,
    "start_time": "2022-11-08T06:12:58.448Z"
   },
   {
    "duration": 10,
    "start_time": "2022-11-08T06:13:01.237Z"
   },
   {
    "duration": 11,
    "start_time": "2022-11-08T06:13:03.732Z"
   },
   {
    "duration": 35,
    "start_time": "2022-11-08T06:13:07.141Z"
   },
   {
    "duration": 5,
    "start_time": "2022-11-08T06:13:09.771Z"
   },
   {
    "duration": 10,
    "start_time": "2022-11-08T06:13:15.040Z"
   },
   {
    "duration": 10,
    "start_time": "2022-11-08T06:13:16.864Z"
   },
   {
    "duration": 28,
    "start_time": "2022-11-08T06:13:18.853Z"
   },
   {
    "duration": 22,
    "start_time": "2022-11-08T06:13:22.432Z"
   },
   {
    "duration": 6,
    "start_time": "2022-11-08T06:13:25.158Z"
   },
   {
    "duration": 1379,
    "start_time": "2022-11-08T06:34:23.607Z"
   },
   {
    "duration": 3,
    "start_time": "2022-11-08T06:34:26.409Z"
   },
   {
    "duration": 193,
    "start_time": "2022-11-08T06:34:26.973Z"
   },
   {
    "duration": 12,
    "start_time": "2022-11-08T06:34:29.207Z"
   },
   {
    "duration": 12,
    "start_time": "2022-11-08T06:34:30.431Z"
   },
   {
    "duration": 18,
    "start_time": "2022-11-08T06:34:31.862Z"
   },
   {
    "duration": 7,
    "start_time": "2022-11-08T06:34:33.789Z"
   },
   {
    "duration": 16,
    "start_time": "2022-11-08T06:34:35.865Z"
   },
   {
    "duration": 10,
    "start_time": "2022-11-08T06:34:37.380Z"
   },
   {
    "duration": 47,
    "start_time": "2022-11-08T06:34:38.910Z"
   },
   {
    "duration": 5,
    "start_time": "2022-11-08T06:34:40.567Z"
   },
   {
    "duration": 14,
    "start_time": "2022-11-08T06:34:42.922Z"
   },
   {
    "duration": 13,
    "start_time": "2022-11-08T06:34:44.485Z"
   },
   {
    "duration": 33,
    "start_time": "2022-11-08T06:34:45.793Z"
   },
   {
    "duration": 7,
    "start_time": "2022-11-08T06:34:47.309Z"
   },
   {
    "duration": 6,
    "start_time": "2022-11-08T06:34:48.806Z"
   },
   {
    "duration": 9,
    "start_time": "2022-11-08T06:34:50.306Z"
   },
   {
    "duration": 13,
    "start_time": "2022-11-08T06:34:51.104Z"
   },
   {
    "duration": 6,
    "start_time": "2022-11-08T06:34:52.299Z"
   },
   {
    "duration": 8,
    "start_time": "2022-11-08T06:34:53.978Z"
   },
   {
    "duration": 11,
    "start_time": "2022-11-08T06:34:55.133Z"
   },
   {
    "duration": 13,
    "start_time": "2022-11-08T06:34:56.265Z"
   },
   {
    "duration": 7,
    "start_time": "2022-11-08T06:34:57.863Z"
   },
   {
    "duration": 11,
    "start_time": "2022-11-08T06:34:59.229Z"
   },
   {
    "duration": 11,
    "start_time": "2022-11-08T06:35:00.373Z"
   },
   {
    "duration": 31,
    "start_time": "2022-11-08T06:35:02.237Z"
   },
   {
    "duration": 7,
    "start_time": "2022-11-08T06:35:03.827Z"
   },
   {
    "duration": 10,
    "start_time": "2022-11-08T06:35:06.622Z"
   },
   {
    "duration": 10,
    "start_time": "2022-11-08T06:35:07.976Z"
   },
   {
    "duration": 23,
    "start_time": "2022-11-08T06:35:09.084Z"
   },
   {
    "duration": 7,
    "start_time": "2022-11-08T06:35:10.422Z"
   },
   {
    "duration": 4,
    "start_time": "2022-11-08T06:35:12.220Z"
   },
   {
    "duration": 9,
    "start_time": "2022-11-08T06:35:14.237Z"
   },
   {
    "duration": 7,
    "start_time": "2022-11-08T06:35:23.789Z"
   },
   {
    "duration": 3,
    "start_time": "2022-11-08T06:35:24.910Z"
   },
   {
    "duration": 5,
    "start_time": "2022-11-08T06:35:27.631Z"
   },
   {
    "duration": 17,
    "start_time": "2022-11-08T06:35:48.439Z"
   },
   {
    "duration": 3,
    "start_time": "2022-11-08T06:36:21.202Z"
   },
   {
    "duration": 6,
    "start_time": "2022-11-08T06:36:21.921Z"
   },
   {
    "duration": 4,
    "start_time": "2022-11-08T06:36:41.806Z"
   },
   {
    "duration": 9,
    "start_time": "2022-11-08T06:36:42.481Z"
   },
   {
    "duration": 3,
    "start_time": "2022-11-08T06:37:00.840Z"
   },
   {
    "duration": 15,
    "start_time": "2022-11-08T06:37:01.448Z"
   },
   {
    "duration": 3,
    "start_time": "2022-11-08T06:37:05.134Z"
   },
   {
    "duration": 6,
    "start_time": "2022-11-08T06:37:06.257Z"
   },
   {
    "duration": 8,
    "start_time": "2022-11-08T06:37:18.143Z"
   },
   {
    "duration": 10,
    "start_time": "2022-11-08T06:39:12.152Z"
   },
   {
    "duration": 22,
    "start_time": "2022-11-08T06:39:59.191Z"
   },
   {
    "duration": 1104,
    "start_time": "2022-11-08T06:40:26.499Z"
   },
   {
    "duration": 5,
    "start_time": "2022-11-08T06:40:35.595Z"
   },
   {
    "duration": 6,
    "start_time": "2022-11-08T06:41:05.100Z"
   },
   {
    "duration": 2699,
    "start_time": "2022-11-08T06:41:46.694Z"
   },
   {
    "duration": 3,
    "start_time": "2022-11-08T06:44:30.288Z"
   },
   {
    "duration": 794,
    "start_time": "2022-11-08T06:44:47.487Z"
   },
   {
    "duration": 144,
    "start_time": "2022-11-08T06:45:01.515Z"
   },
   {
    "duration": 141,
    "start_time": "2022-11-08T06:45:25.297Z"
   },
   {
    "duration": 139,
    "start_time": "2022-11-08T06:45:27.415Z"
   },
   {
    "duration": 386,
    "start_time": "2022-11-08T06:45:41.005Z"
   },
   {
    "duration": 3,
    "start_time": "2022-11-08T06:46:19.792Z"
   },
   {
    "duration": 524,
    "start_time": "2022-11-08T06:46:20.533Z"
   },
   {
    "duration": 3,
    "start_time": "2022-11-08T06:46:25.510Z"
   },
   {
    "duration": 409,
    "start_time": "2022-11-08T06:46:26.136Z"
   },
   {
    "duration": 3,
    "start_time": "2022-11-08T06:47:06.452Z"
   },
   {
    "duration": 475,
    "start_time": "2022-11-08T06:47:07.238Z"
   },
   {
    "duration": 227441,
    "start_time": "2022-11-08T06:48:01.750Z"
   },
   {
    "duration": 2752,
    "start_time": "2022-11-08T06:51:50.863Z"
   },
   {
    "duration": 40,
    "start_time": "2022-11-08T06:53:07.085Z"
   },
   {
    "duration": 2153,
    "start_time": "2022-11-08T06:53:11.052Z"
   },
   {
    "duration": 15,
    "start_time": "2022-11-08T06:54:28.076Z"
   },
   {
    "duration": 201,
    "start_time": "2022-11-08T07:59:16.631Z"
   },
   {
    "duration": 603,
    "start_time": "2022-11-08T07:59:43.319Z"
   },
   {
    "duration": 614,
    "start_time": "2022-11-08T08:00:43.212Z"
   },
   {
    "duration": 4,
    "start_time": "2022-11-08T08:02:33.951Z"
   },
   {
    "duration": 1169,
    "start_time": "2022-11-08T08:02:56.949Z"
   },
   {
    "duration": 28900,
    "start_time": "2022-11-08T08:05:20.295Z"
   },
   {
    "duration": 5,
    "start_time": "2022-11-08T08:06:46.169Z"
   },
   {
    "duration": 1896,
    "start_time": "2022-11-08T08:06:46.925Z"
   },
   {
    "duration": 90255,
    "start_time": "2022-11-08T08:07:17.289Z"
   },
   {
    "duration": 1208,
    "start_time": "2022-11-08T08:08:56.096Z"
   },
   {
    "duration": 3,
    "start_time": "2022-11-08T08:09:04.335Z"
   },
   {
    "duration": 629,
    "start_time": "2022-11-08T08:09:06.144Z"
   },
   {
    "duration": 5,
    "start_time": "2022-11-08T08:09:16.189Z"
   },
   {
    "duration": 536,
    "start_time": "2022-11-08T08:09:16.881Z"
   },
   {
    "duration": 4,
    "start_time": "2022-11-08T08:09:57.362Z"
   },
   {
    "duration": 1119,
    "start_time": "2022-11-08T08:09:58.740Z"
   },
   {
    "duration": 1989,
    "start_time": "2022-11-08T08:11:33.549Z"
   },
   {
    "duration": 554,
    "start_time": "2022-11-08T08:11:51.485Z"
   },
   {
    "duration": 638,
    "start_time": "2022-11-08T08:12:05.680Z"
   },
   {
    "duration": 618,
    "start_time": "2022-11-08T08:12:28.331Z"
   },
   {
    "duration": 30396,
    "start_time": "2022-11-08T08:12:38.160Z"
   },
   {
    "duration": 0,
    "start_time": "2022-11-08T08:13:08.558Z"
   },
   {
    "duration": 2262,
    "start_time": "2022-11-08T08:13:09.723Z"
   },
   {
    "duration": 636,
    "start_time": "2022-11-08T08:13:20.906Z"
   },
   {
    "duration": 47,
    "start_time": "2022-11-08T08:13:46.651Z"
   },
   {
    "duration": 581,
    "start_time": "2022-11-08T08:13:53.557Z"
   },
   {
    "duration": 590,
    "start_time": "2022-11-08T08:14:00.958Z"
   },
   {
    "duration": 598,
    "start_time": "2022-11-08T08:14:14.202Z"
   },
   {
    "duration": 4,
    "start_time": "2022-11-08T08:14:32.679Z"
   },
   {
    "duration": 0,
    "start_time": "2022-11-08T08:14:42.051Z"
   },
   {
    "duration": 613,
    "start_time": "2022-11-08T08:14:44.733Z"
   },
   {
    "duration": 43120,
    "start_time": "2022-11-08T08:15:07.543Z"
   },
   {
    "duration": 1224,
    "start_time": "2022-11-08T08:28:47.616Z"
   },
   {
    "duration": 594,
    "start_time": "2022-11-08T08:29:28.539Z"
   },
   {
    "duration": 43300,
    "start_time": "2022-11-08T08:30:38.350Z"
   },
   {
    "duration": 438,
    "start_time": "2022-11-08T08:32:03.397Z"
   },
   {
    "duration": 356,
    "start_time": "2022-11-08T08:32:19.616Z"
   },
   {
    "duration": 579,
    "start_time": "2022-11-08T08:36:11.204Z"
   },
   {
    "duration": 8,
    "start_time": "2022-11-08T08:39:11.695Z"
   },
   {
    "duration": 139,
    "start_time": "2022-11-08T08:39:19.732Z"
   },
   {
    "duration": 777,
    "start_time": "2022-11-08T08:40:54.899Z"
   },
   {
    "duration": 825,
    "start_time": "2022-11-08T08:41:10.097Z"
   },
   {
    "duration": 17,
    "start_time": "2022-11-08T08:41:22.393Z"
   },
   {
    "duration": 375,
    "start_time": "2022-11-08T08:41:54.308Z"
   },
   {
    "duration": 14,
    "start_time": "2022-11-08T08:42:05.805Z"
   },
   {
    "duration": 388,
    "start_time": "2022-11-08T08:42:35.072Z"
   },
   {
    "duration": 400,
    "start_time": "2022-11-08T08:43:00.901Z"
   },
   {
    "duration": 416,
    "start_time": "2022-11-08T08:44:07.153Z"
   },
   {
    "duration": 444,
    "start_time": "2022-11-08T08:44:55.936Z"
   },
   {
    "duration": 142686,
    "start_time": "2022-11-08T08:45:20.237Z"
   },
   {
    "duration": 139495,
    "start_time": "2022-11-08T08:47:46.629Z"
   },
   {
    "duration": 0,
    "start_time": "2022-11-08T08:50:06.129Z"
   },
   {
    "duration": 0,
    "start_time": "2022-11-08T08:50:06.131Z"
   },
   {
    "duration": 41094,
    "start_time": "2022-11-08T08:50:07.387Z"
   },
   {
    "duration": 85285,
    "start_time": "2022-11-08T08:50:50.907Z"
   },
   {
    "duration": 11,
    "start_time": "2022-11-08T08:52:29.394Z"
   },
   {
    "duration": 82381,
    "start_time": "2022-11-08T08:52:34.096Z"
   },
   {
    "duration": 229,
    "start_time": "2022-11-08T08:56:11.537Z"
   },
   {
    "duration": 4,
    "start_time": "2022-11-08T08:56:31.817Z"
   },
   {
    "duration": 4,
    "start_time": "2022-11-08T08:56:36.289Z"
   },
   {
    "duration": 3,
    "start_time": "2022-11-08T08:56:38.565Z"
   },
   {
    "duration": 6,
    "start_time": "2022-11-08T08:56:40.893Z"
   },
   {
    "duration": 3,
    "start_time": "2022-11-08T08:56:43.594Z"
   },
   {
    "duration": 7,
    "start_time": "2022-11-08T08:56:44.501Z"
   },
   {
    "duration": 4,
    "start_time": "2022-11-08T08:56:46.563Z"
   },
   {
    "duration": 4,
    "start_time": "2022-11-08T08:56:49.190Z"
   },
   {
    "duration": 3,
    "start_time": "2022-11-08T08:56:51.601Z"
   },
   {
    "duration": 5,
    "start_time": "2022-11-08T08:56:53.425Z"
   },
   {
    "duration": 387,
    "start_time": "2022-11-08T08:57:24.269Z"
   },
   {
    "duration": 2726,
    "start_time": "2022-11-08T08:57:32.517Z"
   },
   {
    "duration": 385,
    "start_time": "2022-11-08T08:58:56.095Z"
   },
   {
    "duration": 331,
    "start_time": "2022-11-08T08:59:05.204Z"
   },
   {
    "duration": 352,
    "start_time": "2022-11-08T09:00:03.449Z"
   },
   {
    "duration": 9,
    "start_time": "2022-11-08T09:00:59.059Z"
   },
   {
    "duration": 4918,
    "start_time": "2022-11-08T09:01:06.724Z"
   },
   {
    "duration": 5023,
    "start_time": "2022-11-08T09:02:22.092Z"
   },
   {
    "duration": 374,
    "start_time": "2022-11-08T09:03:33.424Z"
   },
   {
    "duration": 373,
    "start_time": "2022-11-08T09:03:53.261Z"
   },
   {
    "duration": 5108,
    "start_time": "2022-11-08T09:04:45.108Z"
   },
   {
    "duration": 410,
    "start_time": "2022-11-08T09:04:55.658Z"
   },
   {
    "duration": 3,
    "start_time": "2022-11-08T09:06:10.324Z"
   },
   {
    "duration": 389,
    "start_time": "2022-11-08T09:06:35.397Z"
   },
   {
    "duration": 428,
    "start_time": "2022-11-08T09:06:48.494Z"
   },
   {
    "duration": 18,
    "start_time": "2022-11-08T09:07:29.370Z"
   },
   {
    "duration": 20,
    "start_time": "2022-11-08T09:08:16.515Z"
   },
   {
    "duration": 8,
    "start_time": "2022-11-08T09:08:59.852Z"
   },
   {
    "duration": 18,
    "start_time": "2022-11-08T09:09:09.524Z"
   },
   {
    "duration": 8,
    "start_time": "2022-11-08T09:09:20.448Z"
   },
   {
    "duration": 26,
    "start_time": "2022-11-08T09:09:26.106Z"
   },
   {
    "duration": 26,
    "start_time": "2022-11-08T09:09:46.092Z"
   },
   {
    "duration": 18,
    "start_time": "2022-11-08T11:02:29.456Z"
   },
   {
    "duration": 249708,
    "start_time": "2022-11-08T11:06:18.019Z"
   },
   {
    "duration": 38893,
    "start_time": "2022-11-08T11:13:16.045Z"
   },
   {
    "duration": 0,
    "start_time": "2022-11-08T11:13:54.942Z"
   },
   {
    "duration": 5,
    "start_time": "2022-11-08T11:13:57.658Z"
   },
   {
    "duration": 231554,
    "start_time": "2022-11-08T11:14:07.342Z"
   },
   {
    "duration": 45173,
    "start_time": "2022-11-08T11:18:33.834Z"
   },
   {
    "duration": 11,
    "start_time": "2022-11-08T11:19:28.344Z"
   },
   {
    "duration": 62,
    "start_time": "2022-11-08T11:20:25.677Z"
   },
   {
    "duration": 9,
    "start_time": "2022-11-08T11:20:28.949Z"
   },
   {
    "duration": 11,
    "start_time": "2022-11-08T11:20:30.788Z"
   },
   {
    "duration": 5,
    "start_time": "2022-11-08T11:20:53.994Z"
   },
   {
    "duration": 12,
    "start_time": "2022-11-08T11:20:55.874Z"
   },
   {
    "duration": 231,
    "start_time": "2022-11-08T11:21:14.040Z"
   },
   {
    "duration": 12,
    "start_time": "2022-11-08T11:21:15.259Z"
   },
   {
    "duration": 57,
    "start_time": "2022-11-08T11:21:30.939Z"
   },
   {
    "duration": 11,
    "start_time": "2022-11-08T11:21:32.229Z"
   },
   {
    "duration": 262,
    "start_time": "2022-11-08T11:21:45.210Z"
   },
   {
    "duration": 11,
    "start_time": "2022-11-08T11:21:46.177Z"
   },
   {
    "duration": 213,
    "start_time": "2022-11-08T11:21:55.434Z"
   },
   {
    "duration": 11,
    "start_time": "2022-11-08T11:21:57.034Z"
   },
   {
    "duration": 301,
    "start_time": "2022-11-08T11:22:02.582Z"
   },
   {
    "duration": 12,
    "start_time": "2022-11-08T11:22:04.065Z"
   },
   {
    "duration": 220,
    "start_time": "2022-11-08T11:22:18.464Z"
   },
   {
    "duration": 10,
    "start_time": "2022-11-08T11:22:19.737Z"
   },
   {
    "duration": 10,
    "start_time": "2022-11-08T12:41:56.717Z"
   },
   {
    "duration": 3,
    "start_time": "2022-11-08T12:42:16.049Z"
   },
   {
    "duration": 9,
    "start_time": "2022-11-08T12:42:18.743Z"
   },
   {
    "duration": 4,
    "start_time": "2022-11-08T12:42:27.198Z"
   },
   {
    "duration": 15,
    "start_time": "2022-11-08T12:42:27.842Z"
   },
   {
    "duration": 4,
    "start_time": "2022-11-08T12:42:29.705Z"
   },
   {
    "duration": 7,
    "start_time": "2022-11-08T12:42:30.384Z"
   },
   {
    "duration": 3,
    "start_time": "2022-11-08T12:42:32.728Z"
   },
   {
    "duration": 7,
    "start_time": "2022-11-08T12:42:33.428Z"
   },
   {
    "duration": 4,
    "start_time": "2022-11-08T12:42:41.126Z"
   },
   {
    "duration": 7,
    "start_time": "2022-11-08T12:42:42.090Z"
   },
   {
    "duration": 4,
    "start_time": "2022-11-08T12:42:44.201Z"
   },
   {
    "duration": 11,
    "start_time": "2022-11-08T12:42:45.147Z"
   },
   {
    "duration": 3,
    "start_time": "2022-11-08T12:42:48.163Z"
   },
   {
    "duration": 6,
    "start_time": "2022-11-08T12:42:49.027Z"
   },
   {
    "duration": 4,
    "start_time": "2022-11-08T12:43:15.275Z"
   },
   {
    "duration": 6,
    "start_time": "2022-11-08T12:43:16.664Z"
   },
   {
    "duration": 430,
    "start_time": "2022-11-08T12:43:26.130Z"
   },
   {
    "duration": 371,
    "start_time": "2022-11-08T12:43:37.279Z"
   },
   {
    "duration": 48,
    "start_time": "2022-11-08T12:49:38.460Z"
   },
   {
    "duration": 5,
    "start_time": "2022-11-08T12:50:11.763Z"
   },
   {
    "duration": 8,
    "start_time": "2022-11-08T12:50:14.962Z"
   },
   {
    "duration": 10,
    "start_time": "2022-11-08T12:52:21.637Z"
   },
   {
    "duration": 9,
    "start_time": "2022-11-08T12:52:38.939Z"
   },
   {
    "duration": 10,
    "start_time": "2022-11-08T12:59:21.231Z"
   },
   {
    "duration": 4,
    "start_time": "2022-11-08T12:59:39.558Z"
   },
   {
    "duration": 17,
    "start_time": "2022-11-08T13:01:09.370Z"
   },
   {
    "duration": 22,
    "start_time": "2022-11-08T13:01:55.898Z"
   },
   {
    "duration": 22,
    "start_time": "2022-11-08T13:02:10.377Z"
   },
   {
    "duration": 37,
    "start_time": "2022-11-08T13:05:03.174Z"
   },
   {
    "duration": 10,
    "start_time": "2022-11-08T13:19:42.348Z"
   },
   {
    "duration": 5,
    "start_time": "2022-11-08T13:21:48.812Z"
   },
   {
    "duration": 4,
    "start_time": "2022-11-08T13:21:56.129Z"
   },
   {
    "duration": 6,
    "start_time": "2022-11-08T13:22:22.420Z"
   },
   {
    "duration": 11,
    "start_time": "2022-11-08T13:23:29.417Z"
   },
   {
    "duration": 848,
    "start_time": "2022-11-08T13:24:00.524Z"
   },
   {
    "duration": 5,
    "start_time": "2022-11-08T13:25:16.897Z"
   },
   {
    "duration": 6,
    "start_time": "2022-11-08T13:26:06.407Z"
   },
   {
    "duration": 15,
    "start_time": "2022-11-08T13:26:29.699Z"
   },
   {
    "duration": 45083,
    "start_time": "2022-11-08T13:26:36.377Z"
   },
   {
    "duration": 0,
    "start_time": "2022-11-08T13:27:21.469Z"
   },
   {
    "duration": 11,
    "start_time": "2022-11-08T13:27:23.148Z"
   },
   {
    "duration": 60,
    "start_time": "2022-11-08T13:28:53.210Z"
   },
   {
    "duration": 1537,
    "start_time": "2022-11-08T13:39:01.112Z"
   },
   {
    "duration": 4,
    "start_time": "2022-11-08T13:39:45.736Z"
   },
   {
    "duration": 57,
    "start_time": "2022-11-08T13:39:59.563Z"
   },
   {
    "duration": 4,
    "start_time": "2022-11-08T13:40:37.854Z"
   },
   {
    "duration": 2831,
    "start_time": "2022-11-08T13:42:27.833Z"
   },
   {
    "duration": 3169,
    "start_time": "2022-11-08T13:42:40.401Z"
   },
   {
    "duration": 71,
    "start_time": "2022-11-08T17:22:08.380Z"
   },
   {
    "duration": 2015,
    "start_time": "2022-11-08T17:22:14.864Z"
   },
   {
    "duration": 3,
    "start_time": "2022-11-08T17:22:16.881Z"
   },
   {
    "duration": 928,
    "start_time": "2022-11-08T17:22:16.886Z"
   },
   {
    "duration": 4,
    "start_time": "2022-11-08T17:22:52.114Z"
   },
   {
    "duration": 13,
    "start_time": "2022-11-08T17:22:53.619Z"
   },
   {
    "duration": 11,
    "start_time": "2022-11-08T17:22:55.464Z"
   },
   {
    "duration": 4,
    "start_time": "2022-11-08T17:23:02.358Z"
   },
   {
    "duration": 16,
    "start_time": "2022-11-08T17:23:03.020Z"
   },
   {
    "duration": 3,
    "start_time": "2022-11-08T17:23:06.453Z"
   },
   {
    "duration": 6,
    "start_time": "2022-11-08T17:23:07.554Z"
   },
   {
    "duration": 8,
    "start_time": "2022-11-08T17:23:16.233Z"
   },
   {
    "duration": 5,
    "start_time": "2022-11-08T17:23:40.383Z"
   },
   {
    "duration": 3,
    "start_time": "2022-11-08T17:23:46.592Z"
   },
   {
    "duration": 7,
    "start_time": "2022-11-08T17:23:47.340Z"
   },
   {
    "duration": 6,
    "start_time": "2022-11-08T17:23:48.696Z"
   },
   {
    "duration": 4,
    "start_time": "2022-11-08T17:23:52.232Z"
   },
   {
    "duration": 20,
    "start_time": "2022-11-08T17:23:53.387Z"
   },
   {
    "duration": 4,
    "start_time": "2022-11-08T17:23:57.598Z"
   },
   {
    "duration": 3,
    "start_time": "2022-11-08T17:23:58.259Z"
   },
   {
    "duration": 229,
    "start_time": "2022-11-08T17:23:58.680Z"
   },
   {
    "duration": 4,
    "start_time": "2022-11-08T17:24:01.752Z"
   },
   {
    "duration": 11,
    "start_time": "2022-11-08T17:24:02.395Z"
   },
   {
    "duration": 13,
    "start_time": "2022-11-08T17:24:03.692Z"
   },
   {
    "duration": 5,
    "start_time": "2022-11-08T17:24:05.577Z"
   },
   {
    "duration": 17,
    "start_time": "2022-11-08T17:24:06.178Z"
   },
   {
    "duration": 3,
    "start_time": "2022-11-08T17:24:07.629Z"
   },
   {
    "duration": 6,
    "start_time": "2022-11-08T17:24:09.428Z"
   },
   {
    "duration": 8,
    "start_time": "2022-11-08T17:24:11.508Z"
   },
   {
    "duration": 3,
    "start_time": "2022-11-08T17:24:14.104Z"
   },
   {
    "duration": 7,
    "start_time": "2022-11-08T17:24:14.927Z"
   },
   {
    "duration": 7,
    "start_time": "2022-11-08T17:24:17.160Z"
   },
   {
    "duration": 7,
    "start_time": "2022-11-08T17:24:19.031Z"
   },
   {
    "duration": 11,
    "start_time": "2022-11-08T17:24:19.934Z"
   },
   {
    "duration": 12,
    "start_time": "2022-11-08T17:24:28.243Z"
   },
   {
    "duration": 5,
    "start_time": "2022-11-08T17:24:32.289Z"
   },
   {
    "duration": 12,
    "start_time": "2022-11-08T17:24:32.838Z"
   },
   {
    "duration": 3,
    "start_time": "2022-11-08T17:24:34.174Z"
   },
   {
    "duration": 8,
    "start_time": "2022-11-08T17:24:35.302Z"
   },
   {
    "duration": 10,
    "start_time": "2022-11-08T17:24:46.133Z"
   },
   {
    "duration": 13,
    "start_time": "2022-11-08T17:24:48.418Z"
   },
   {
    "duration": 17,
    "start_time": "2022-11-08T17:24:49.561Z"
   },
   {
    "duration": 228,
    "start_time": "2022-11-08T17:25:50.486Z"
   },
   {
    "duration": 4,
    "start_time": "2022-11-08T17:25:53.322Z"
   },
   {
    "duration": 10,
    "start_time": "2022-11-08T17:25:53.966Z"
   },
   {
    "duration": 12,
    "start_time": "2022-11-08T17:25:55.707Z"
   },
   {
    "duration": 6,
    "start_time": "2022-11-08T17:25:57.803Z"
   },
   {
    "duration": 16,
    "start_time": "2022-11-08T17:25:58.806Z"
   },
   {
    "duration": 8,
    "start_time": "2022-11-08T17:26:00.878Z"
   },
   {
    "duration": 3,
    "start_time": "2022-11-08T17:26:03.560Z"
   },
   {
    "duration": 9,
    "start_time": "2022-11-08T17:26:04.375Z"
   },
   {
    "duration": 9,
    "start_time": "2022-11-08T17:26:05.622Z"
   },
   {
    "duration": 7,
    "start_time": "2022-11-08T17:26:57.281Z"
   },
   {
    "duration": 10,
    "start_time": "2022-11-08T17:27:00.452Z"
   },
   {
    "duration": 4,
    "start_time": "2022-11-08T17:28:01.598Z"
   },
   {
    "duration": 9,
    "start_time": "2022-11-08T17:28:02.569Z"
   },
   {
    "duration": 7,
    "start_time": "2022-11-08T17:28:03.960Z"
   },
   {
    "duration": 5,
    "start_time": "2022-11-08T17:28:06.189Z"
   },
   {
    "duration": 8,
    "start_time": "2022-11-08T17:28:06.798Z"
   },
   {
    "duration": 10,
    "start_time": "2022-11-08T17:28:09.219Z"
   },
   {
    "duration": 5,
    "start_time": "2022-11-08T17:28:19.217Z"
   },
   {
    "duration": 13,
    "start_time": "2022-11-08T17:28:19.897Z"
   },
   {
    "duration": 4,
    "start_time": "2022-11-08T17:28:21.709Z"
   },
   {
    "duration": 7,
    "start_time": "2022-11-08T17:28:23.074Z"
   },
   {
    "duration": 9,
    "start_time": "2022-11-08T17:28:24.361Z"
   },
   {
    "duration": 7,
    "start_time": "2022-11-08T17:29:31.136Z"
   },
   {
    "duration": 8,
    "start_time": "2022-11-08T17:29:37.005Z"
   },
   {
    "duration": 3,
    "start_time": "2022-11-08T17:35:22.922Z"
   },
   {
    "duration": 4,
    "start_time": "2022-11-08T17:35:45.275Z"
   },
   {
    "duration": 2,
    "start_time": "2022-11-08T17:35:45.813Z"
   },
   {
    "duration": 939,
    "start_time": "2022-11-08T17:35:50.160Z"
   },
   {
    "duration": 442,
    "start_time": "2022-11-08T17:35:53.826Z"
   },
   {
    "duration": 10,
    "start_time": "2022-11-08T17:36:45.393Z"
   },
   {
    "duration": 1651,
    "start_time": "2022-11-08T17:47:03.449Z"
   },
   {
    "duration": 3,
    "start_time": "2022-11-08T17:47:06.944Z"
   },
   {
    "duration": 233,
    "start_time": "2022-11-08T17:47:07.499Z"
   },
   {
    "duration": 17,
    "start_time": "2022-11-08T17:47:09.164Z"
   },
   {
    "duration": 11,
    "start_time": "2022-11-08T17:47:10.461Z"
   },
   {
    "duration": 17,
    "start_time": "2022-11-08T17:47:15.485Z"
   },
   {
    "duration": 8,
    "start_time": "2022-11-08T17:47:16.711Z"
   },
   {
    "duration": 18,
    "start_time": "2022-11-08T17:47:21.067Z"
   },
   {
    "duration": 11,
    "start_time": "2022-11-08T17:47:23.385Z"
   },
   {
    "duration": 50,
    "start_time": "2022-11-08T17:47:26.543Z"
   },
   {
    "duration": 8,
    "start_time": "2022-11-08T17:47:28.374Z"
   },
   {
    "duration": 17,
    "start_time": "2022-11-08T17:47:30.315Z"
   },
   {
    "duration": 11,
    "start_time": "2022-11-08T17:47:31.554Z"
   },
   {
    "duration": 42,
    "start_time": "2022-11-08T17:47:33.907Z"
   },
   {
    "duration": 6,
    "start_time": "2022-11-08T17:47:35.981Z"
   },
   {
    "duration": 8,
    "start_time": "2022-11-08T17:47:37.571Z"
   },
   {
    "duration": 10,
    "start_time": "2022-11-08T17:47:38.722Z"
   },
   {
    "duration": 14,
    "start_time": "2022-11-08T17:47:43.244Z"
   },
   {
    "duration": 218,
    "start_time": "2022-11-08T17:47:56.233Z"
   },
   {
    "duration": 12,
    "start_time": "2022-11-08T17:48:03.987Z"
   },
   {
    "duration": 879,
    "start_time": "2022-11-08T17:48:13.489Z"
   },
   {
    "duration": 3,
    "start_time": "2022-11-08T17:49:02.420Z"
   },
   {
    "duration": 1643,
    "start_time": "2022-11-08T17:51:58.577Z"
   },
   {
    "duration": 3,
    "start_time": "2022-11-08T17:52:00.222Z"
   },
   {
    "duration": 282,
    "start_time": "2022-11-08T17:52:00.227Z"
   },
   {
    "duration": 13,
    "start_time": "2022-11-08T17:52:00.512Z"
   },
   {
    "duration": 22,
    "start_time": "2022-11-08T17:52:00.528Z"
   },
   {
    "duration": 21,
    "start_time": "2022-11-08T17:52:00.551Z"
   },
   {
    "duration": 6,
    "start_time": "2022-11-08T17:52:00.574Z"
   },
   {
    "duration": 20,
    "start_time": "2022-11-08T17:52:00.582Z"
   },
   {
    "duration": 34,
    "start_time": "2022-11-08T17:52:00.604Z"
   },
   {
    "duration": 54,
    "start_time": "2022-11-08T17:52:00.640Z"
   },
   {
    "duration": 7,
    "start_time": "2022-11-08T17:52:00.696Z"
   },
   {
    "duration": 35,
    "start_time": "2022-11-08T17:52:00.704Z"
   },
   {
    "duration": 17,
    "start_time": "2022-11-08T17:52:00.741Z"
   },
   {
    "duration": 58,
    "start_time": "2022-11-08T17:52:00.761Z"
   },
   {
    "duration": 10,
    "start_time": "2022-11-08T17:52:00.821Z"
   },
   {
    "duration": 19,
    "start_time": "2022-11-08T17:52:00.832Z"
   },
   {
    "duration": 26,
    "start_time": "2022-11-08T17:52:00.853Z"
   },
   {
    "duration": 34,
    "start_time": "2022-11-08T17:52:00.881Z"
   },
   {
    "duration": 25,
    "start_time": "2022-11-08T17:52:00.917Z"
   },
   {
    "duration": 388,
    "start_time": "2022-11-08T17:52:00.944Z"
   },
   {
    "duration": 28,
    "start_time": "2022-11-08T17:52:01.334Z"
   },
   {
    "duration": 39,
    "start_time": "2022-11-08T17:52:01.364Z"
   },
   {
    "duration": 11,
    "start_time": "2022-11-08T17:52:01.405Z"
   },
   {
    "duration": 41,
    "start_time": "2022-11-08T17:52:01.418Z"
   },
   {
    "duration": 24,
    "start_time": "2022-11-08T17:52:01.462Z"
   },
   {
    "duration": 53,
    "start_time": "2022-11-08T17:52:01.488Z"
   },
   {
    "duration": 7,
    "start_time": "2022-11-08T17:52:01.543Z"
   },
   {
    "duration": 36,
    "start_time": "2022-11-08T17:52:01.552Z"
   },
   {
    "duration": 27,
    "start_time": "2022-11-08T17:52:01.590Z"
   },
   {
    "duration": 54,
    "start_time": "2022-11-08T17:52:01.619Z"
   },
   {
    "duration": 6,
    "start_time": "2022-11-08T17:52:01.675Z"
   },
   {
    "duration": 63,
    "start_time": "2022-11-08T17:52:01.683Z"
   },
   {
    "duration": 33,
    "start_time": "2022-11-08T17:52:01.749Z"
   },
   {
    "duration": 43,
    "start_time": "2022-11-08T17:52:01.785Z"
   },
   {
    "duration": 8,
    "start_time": "2022-11-08T17:52:01.830Z"
   },
   {
    "duration": 33,
    "start_time": "2022-11-08T17:52:01.840Z"
   },
   {
    "duration": 43,
    "start_time": "2022-11-08T17:52:01.874Z"
   },
   {
    "duration": 76,
    "start_time": "2022-11-08T17:52:01.919Z"
   },
   {
    "duration": 43,
    "start_time": "2022-11-08T17:52:01.997Z"
   },
   {
    "duration": 14,
    "start_time": "2022-11-08T17:52:02.042Z"
   },
   {
    "duration": 39,
    "start_time": "2022-11-08T17:52:02.061Z"
   },
   {
    "duration": 32,
    "start_time": "2022-11-08T17:52:02.102Z"
   },
   {
    "duration": 26,
    "start_time": "2022-11-08T17:52:02.136Z"
   },
   {
    "duration": 41,
    "start_time": "2022-11-08T17:52:02.164Z"
   },
   {
    "duration": 17,
    "start_time": "2022-11-08T17:52:02.206Z"
   },
   {
    "duration": 30,
    "start_time": "2022-11-08T17:52:02.225Z"
   },
   {
    "duration": 41,
    "start_time": "2022-11-08T17:52:02.257Z"
   },
   {
    "duration": 19,
    "start_time": "2022-11-08T17:52:02.299Z"
   },
   {
    "duration": 30,
    "start_time": "2022-11-08T17:52:02.320Z"
   },
   {
    "duration": 17,
    "start_time": "2022-11-08T17:52:02.352Z"
   },
   {
    "duration": 17,
    "start_time": "2022-11-08T17:52:02.371Z"
   },
   {
    "duration": 18,
    "start_time": "2022-11-08T17:52:02.390Z"
   },
   {
    "duration": 18,
    "start_time": "2022-11-08T17:52:02.410Z"
   },
   {
    "duration": 11,
    "start_time": "2022-11-08T17:52:02.430Z"
   },
   {
    "duration": 10,
    "start_time": "2022-11-08T17:52:02.443Z"
   },
   {
    "duration": 26,
    "start_time": "2022-11-08T17:52:02.454Z"
   },
   {
    "duration": 5,
    "start_time": "2022-11-08T17:52:02.482Z"
   },
   {
    "duration": 6,
    "start_time": "2022-11-08T17:52:02.488Z"
   },
   {
    "duration": 16,
    "start_time": "2022-11-08T17:52:02.495Z"
   },
   {
    "duration": 20,
    "start_time": "2022-11-08T17:52:02.513Z"
   },
   {
    "duration": 588,
    "start_time": "2022-11-08T17:52:02.535Z"
   },
   {
    "duration": 442,
    "start_time": "2022-11-08T17:52:03.127Z"
   },
   {
    "duration": 644,
    "start_time": "2022-11-08T17:52:03.572Z"
   },
   {
    "duration": 16,
    "start_time": "2022-11-08T17:52:04.218Z"
   },
   {
    "duration": 44676,
    "start_time": "2022-11-08T17:52:04.237Z"
   },
   {
    "duration": 713,
    "start_time": "2022-11-08T17:52:48.915Z"
   },
   {
    "duration": 5,
    "start_time": "2022-11-08T17:52:49.629Z"
   },
   {
    "duration": 7160,
    "start_time": "2022-11-08T17:52:49.635Z"
   },
   {
    "duration": 5819,
    "start_time": "2022-11-08T17:52:56.797Z"
   },
   {
    "duration": 10,
    "start_time": "2022-11-08T17:53:02.618Z"
   },
   {
    "duration": 409,
    "start_time": "2022-11-08T17:53:02.630Z"
   },
   {
    "duration": 4,
    "start_time": "2022-11-08T17:53:03.041Z"
   },
   {
    "duration": 413,
    "start_time": "2022-11-08T17:53:03.047Z"
   },
   {
    "duration": 1032,
    "start_time": "2022-11-08T17:53:03.462Z"
   },
   {
    "duration": 432,
    "start_time": "2022-11-08T17:53:04.495Z"
   },
   {
    "duration": 5,
    "start_time": "2022-11-08T17:53:04.929Z"
   },
   {
    "duration": 1641,
    "start_time": "2022-11-08T17:53:04.936Z"
   },
   {
    "duration": 3080,
    "start_time": "2022-11-08T17:53:06.579Z"
   },
   {
    "duration": 3,
    "start_time": "2022-11-08T17:53:09.661Z"
   },
   {
    "duration": 12,
    "start_time": "2022-11-08T17:53:09.666Z"
   },
   {
    "duration": 9,
    "start_time": "2022-11-08T17:53:09.680Z"
   },
   {
    "duration": 9,
    "start_time": "2022-11-08T17:53:09.691Z"
   },
   {
    "duration": 5,
    "start_time": "2022-11-08T17:53:09.702Z"
   },
   {
    "duration": 4,
    "start_time": "2022-11-08T17:53:09.709Z"
   },
   {
    "duration": 12,
    "start_time": "2022-11-08T17:53:09.715Z"
   },
   {
    "duration": 3,
    "start_time": "2022-11-08T17:53:09.729Z"
   },
   {
    "duration": 10,
    "start_time": "2022-11-08T17:53:09.734Z"
   },
   {
    "duration": 7,
    "start_time": "2022-11-08T17:53:09.746Z"
   },
   {
    "duration": 5,
    "start_time": "2022-11-08T17:53:09.755Z"
   },
   {
    "duration": 5,
    "start_time": "2022-11-08T17:53:09.761Z"
   },
   {
    "duration": 5,
    "start_time": "2022-11-08T17:53:09.768Z"
   },
   {
    "duration": 5,
    "start_time": "2022-11-08T17:53:09.774Z"
   },
   {
    "duration": 4,
    "start_time": "2022-11-08T17:53:09.781Z"
   },
   {
    "duration": 93,
    "start_time": "2022-11-09T12:42:16.179Z"
   },
   {
    "duration": 74,
    "start_time": "2022-11-09T12:45:13.860Z"
   },
   {
    "duration": 54,
    "start_time": "2022-11-09T13:58:17.123Z"
   },
   {
    "duration": 1836,
    "start_time": "2022-11-09T14:43:06.100Z"
   },
   {
    "duration": 3,
    "start_time": "2022-11-09T14:43:08.248Z"
   },
   {
    "duration": 426,
    "start_time": "2022-11-09T14:43:08.689Z"
   },
   {
    "duration": 4,
    "start_time": "2022-11-09T14:43:11.309Z"
   },
   {
    "duration": 4,
    "start_time": "2022-11-09T14:43:11.942Z"
   },
   {
    "duration": 13,
    "start_time": "2022-11-09T14:43:13.453Z"
   },
   {
    "duration": 13,
    "start_time": "2022-11-09T14:43:14.585Z"
   },
   {
    "duration": 5,
    "start_time": "2022-11-09T14:43:16.057Z"
   },
   {
    "duration": 16,
    "start_time": "2022-11-09T14:43:17.266Z"
   },
   {
    "duration": 8,
    "start_time": "2022-11-09T14:43:18.401Z"
   },
   {
    "duration": 11,
    "start_time": "2022-11-09T14:43:44.999Z"
   },
   {
    "duration": 3,
    "start_time": "2022-11-09T14:44:00.570Z"
   },
   {
    "duration": 6,
    "start_time": "2022-11-09T14:44:03.251Z"
   },
   {
    "duration": 7,
    "start_time": "2022-11-09T14:44:08.013Z"
   },
   {
    "duration": 17,
    "start_time": "2022-11-09T14:44:58.700Z"
   },
   {
    "duration": 10,
    "start_time": "2022-11-09T14:44:59.855Z"
   },
   {
    "duration": 5,
    "start_time": "2022-11-09T14:45:02.593Z"
   },
   {
    "duration": 15,
    "start_time": "2022-11-09T14:45:04.257Z"
   },
   {
    "duration": 47,
    "start_time": "2022-11-09T14:45:06.060Z"
   },
   {
    "duration": 7,
    "start_time": "2022-11-09T14:45:07.787Z"
   },
   {
    "duration": 9,
    "start_time": "2022-11-09T14:45:11.232Z"
   },
   {
    "duration": 197,
    "start_time": "2022-11-09T14:45:20.793Z"
   },
   {
    "duration": 10,
    "start_time": "2022-11-09T14:45:29.045Z"
   },
   {
    "duration": 8,
    "start_time": "2022-11-09T14:45:34.482Z"
   },
   {
    "duration": 6,
    "start_time": "2022-11-09T14:45:36.539Z"
   },
   {
    "duration": 7,
    "start_time": "2022-11-09T14:45:37.825Z"
   },
   {
    "duration": 5,
    "start_time": "2022-11-09T15:00:28.719Z"
   },
   {
    "duration": 79,
    "start_time": "2022-11-09T15:01:02.762Z"
   },
   {
    "duration": 7,
    "start_time": "2022-11-09T15:01:31.823Z"
   },
   {
    "duration": 149,
    "start_time": "2022-11-09T15:07:37.143Z"
   },
   {
    "duration": 1238,
    "start_time": "2022-11-09T16:08:25.636Z"
   },
   {
    "duration": 5,
    "start_time": "2022-11-09T16:08:52.491Z"
   },
   {
    "duration": 1261,
    "start_time": "2022-11-09T16:08:59.156Z"
   },
   {
    "duration": 6,
    "start_time": "2022-11-09T16:09:12.557Z"
   },
   {
    "duration": 6,
    "start_time": "2022-11-09T16:09:30.887Z"
   },
   {
    "duration": 5,
    "start_time": "2022-11-09T16:09:59.027Z"
   },
   {
    "duration": 6,
    "start_time": "2022-11-09T16:10:01.115Z"
   },
   {
    "duration": 6,
    "start_time": "2022-11-09T16:21:27.652Z"
   },
   {
    "duration": 6,
    "start_time": "2022-11-09T16:21:31.162Z"
   },
   {
    "duration": 13,
    "start_time": "2022-11-09T16:21:51.202Z"
   },
   {
    "duration": 4,
    "start_time": "2022-11-09T16:22:15.832Z"
   },
   {
    "duration": 10,
    "start_time": "2022-11-09T16:22:17.866Z"
   },
   {
    "duration": 15,
    "start_time": "2022-11-09T16:24:02.960Z"
   },
   {
    "duration": 4,
    "start_time": "2022-11-09T16:24:11.860Z"
   },
   {
    "duration": 5,
    "start_time": "2022-11-09T16:25:28.252Z"
   },
   {
    "duration": 14,
    "start_time": "2022-11-09T16:25:30.229Z"
   },
   {
    "duration": 10,
    "start_time": "2022-11-09T16:28:04.312Z"
   },
   {
    "duration": 13,
    "start_time": "2022-11-09T16:28:37.892Z"
   },
   {
    "duration": 11,
    "start_time": "2022-11-09T16:28:42.240Z"
   },
   {
    "duration": 10,
    "start_time": "2022-11-09T16:28:45.958Z"
   },
   {
    "duration": 5,
    "start_time": "2022-11-09T16:29:46.681Z"
   },
   {
    "duration": 12,
    "start_time": "2022-11-09T16:30:15.057Z"
   },
   {
    "duration": 10,
    "start_time": "2022-11-09T16:41:45.187Z"
   },
   {
    "duration": 19,
    "start_time": "2022-11-09T16:41:53.067Z"
   },
   {
    "duration": 24,
    "start_time": "2022-11-09T16:47:05.171Z"
   },
   {
    "duration": 18,
    "start_time": "2022-11-09T16:47:47.293Z"
   },
   {
    "duration": 3334,
    "start_time": "2022-11-09T16:49:19.125Z"
   },
   {
    "duration": 1356,
    "start_time": "2022-11-09T16:49:27.762Z"
   },
   {
    "duration": 316,
    "start_time": "2022-11-09T16:50:04.914Z"
   },
   {
    "duration": 47,
    "start_time": "2022-11-09T16:51:55.760Z"
   },
   {
    "duration": 23,
    "start_time": "2022-11-09T16:51:58.267Z"
   },
   {
    "duration": 31,
    "start_time": "2022-11-09T16:52:02.553Z"
   },
   {
    "duration": 9,
    "start_time": "2022-11-09T16:52:24.049Z"
   },
   {
    "duration": 32,
    "start_time": "2022-11-09T16:53:03.837Z"
   },
   {
    "duration": 44,
    "start_time": "2022-11-09T16:53:23.411Z"
   },
   {
    "duration": 11,
    "start_time": "2022-11-09T16:54:06.050Z"
   },
   {
    "duration": 3,
    "start_time": "2022-11-09T16:54:06.693Z"
   },
   {
    "duration": 19,
    "start_time": "2022-11-09T16:54:07.828Z"
   },
   {
    "duration": 4,
    "start_time": "2022-11-09T16:54:09.424Z"
   },
   {
    "duration": 3,
    "start_time": "2022-11-09T16:54:11.377Z"
   },
   {
    "duration": 40,
    "start_time": "2022-11-09T16:54:11.938Z"
   },
   {
    "duration": 2,
    "start_time": "2022-11-09T16:54:13.141Z"
   },
   {
    "duration": 17,
    "start_time": "2022-11-09T16:54:13.884Z"
   },
   {
    "duration": 31,
    "start_time": "2022-11-09T16:54:27.061Z"
   },
   {
    "duration": 17,
    "start_time": "2022-11-09T16:54:32.088Z"
   },
   {
    "duration": 43,
    "start_time": "2022-11-09T16:57:21.462Z"
   },
   {
    "duration": 19,
    "start_time": "2022-11-09T16:57:22.748Z"
   },
   {
    "duration": 39,
    "start_time": "2022-11-09T16:57:23.380Z"
   },
   {
    "duration": 29,
    "start_time": "2022-11-09T16:57:31.112Z"
   },
   {
    "duration": 36,
    "start_time": "2022-11-09T16:57:33.272Z"
   },
   {
    "duration": 17,
    "start_time": "2022-11-09T16:57:33.901Z"
   },
   {
    "duration": 42,
    "start_time": "2022-11-09T16:57:34.566Z"
   },
   {
    "duration": 36,
    "start_time": "2022-11-09T16:58:01.635Z"
   },
   {
    "duration": 16,
    "start_time": "2022-11-09T16:58:02.392Z"
   },
   {
    "duration": 33,
    "start_time": "2022-11-09T16:58:03.135Z"
   },
   {
    "duration": 36,
    "start_time": "2022-11-09T16:58:15.941Z"
   },
   {
    "duration": 18,
    "start_time": "2022-11-09T16:58:16.528Z"
   },
   {
    "duration": 37,
    "start_time": "2022-11-09T16:58:17.030Z"
   },
   {
    "duration": 13,
    "start_time": "2022-11-09T16:58:33.986Z"
   },
   {
    "duration": 6,
    "start_time": "2022-11-09T16:58:41.470Z"
   },
   {
    "duration": 15,
    "start_time": "2022-11-09T16:58:42.523Z"
   },
   {
    "duration": 2,
    "start_time": "2022-11-09T16:58:44.241Z"
   },
   {
    "duration": 28,
    "start_time": "2022-11-09T16:58:44.689Z"
   },
   {
    "duration": 3,
    "start_time": "2022-11-09T16:58:45.188Z"
   },
   {
    "duration": 54,
    "start_time": "2022-11-09T16:58:46.334Z"
   },
   {
    "duration": 1041,
    "start_time": "2022-11-09T16:58:48.551Z"
   },
   {
    "duration": 249623,
    "start_time": "2022-11-09T16:58:59.142Z"
   },
   {
    "duration": 3,
    "start_time": "2022-11-09T17:03:11.408Z"
   },
   {
    "duration": 11,
    "start_time": "2022-11-09T17:04:26.504Z"
   },
   {
    "duration": 214,
    "start_time": "2022-11-09T17:04:39.381Z"
   },
   {
    "duration": 8,
    "start_time": "2022-11-09T17:04:51.263Z"
   },
   {
    "duration": 8,
    "start_time": "2022-11-09T17:04:57.694Z"
   },
   {
    "duration": 28,
    "start_time": "2022-11-09T17:05:05.363Z"
   },
   {
    "duration": 8,
    "start_time": "2022-11-09T17:05:07.794Z"
   },
   {
    "duration": 37,
    "start_time": "2022-11-09T17:05:08.484Z"
   },
   {
    "duration": 5,
    "start_time": "2022-11-09T17:05:13.454Z"
   },
   {
    "duration": 11,
    "start_time": "2022-11-09T17:05:14.868Z"
   },
   {
    "duration": 3,
    "start_time": "2022-11-09T17:05:16.339Z"
   },
   {
    "duration": 15,
    "start_time": "2022-11-09T17:05:16.798Z"
   },
   {
    "duration": 4,
    "start_time": "2022-11-09T17:05:17.708Z"
   },
   {
    "duration": 18,
    "start_time": "2022-11-09T17:05:18.607Z"
   },
   {
    "duration": 517,
    "start_time": "2022-11-09T17:05:19.677Z"
   },
   {
    "duration": 191238,
    "start_time": "2022-11-09T17:05:28.592Z"
   },
   {
    "duration": 3,
    "start_time": "2022-11-09T17:08:51.901Z"
   },
   {
    "duration": 376,
    "start_time": "2022-11-09T17:08:55.416Z"
   },
   {
    "duration": 26,
    "start_time": "2022-11-09T17:09:47.735Z"
   },
   {
    "duration": 8,
    "start_time": "2022-11-09T17:09:49.521Z"
   },
   {
    "duration": 31,
    "start_time": "2022-11-09T17:09:50.138Z"
   },
   {
    "duration": 5,
    "start_time": "2022-11-09T17:09:57.227Z"
   },
   {
    "duration": 8,
    "start_time": "2022-11-09T17:09:58.392Z"
   },
   {
    "duration": 2,
    "start_time": "2022-11-09T17:09:59.833Z"
   },
   {
    "duration": 15,
    "start_time": "2022-11-09T17:10:00.313Z"
   },
   {
    "duration": 2,
    "start_time": "2022-11-09T17:10:01.087Z"
   },
   {
    "duration": 17,
    "start_time": "2022-11-09T17:10:01.607Z"
   },
   {
    "duration": 857,
    "start_time": "2022-11-09T17:10:03.036Z"
   },
   {
    "duration": 26,
    "start_time": "2022-11-09T17:10:27.862Z"
   },
   {
    "duration": 11,
    "start_time": "2022-11-09T17:10:29.311Z"
   },
   {
    "duration": 31,
    "start_time": "2022-11-09T17:10:30.618Z"
   },
   {
    "duration": 19,
    "start_time": "2022-11-09T17:11:04.579Z"
   },
   {
    "duration": 20,
    "start_time": "2022-11-09T17:12:01.676Z"
   },
   {
    "duration": 19,
    "start_time": "2022-11-09T17:12:10.548Z"
   },
   {
    "duration": 16,
    "start_time": "2022-11-09T17:12:22.864Z"
   },
   {
    "duration": 14,
    "start_time": "2022-11-09T17:12:25.734Z"
   },
   {
    "duration": 15,
    "start_time": "2022-11-09T17:12:37.573Z"
   },
   {
    "duration": 16,
    "start_time": "2022-11-09T17:12:44.481Z"
   },
   {
    "duration": 14,
    "start_time": "2022-11-09T17:12:48.575Z"
   },
   {
    "duration": 17,
    "start_time": "2022-11-09T17:12:53.695Z"
   },
   {
    "duration": 19,
    "start_time": "2022-11-09T17:13:04.486Z"
   },
   {
    "duration": 14,
    "start_time": "2022-11-09T17:13:08.580Z"
   },
   {
    "duration": 20,
    "start_time": "2022-11-09T17:13:12.488Z"
   },
   {
    "duration": 68,
    "start_time": "2022-11-09T17:13:34.352Z"
   },
   {
    "duration": 4,
    "start_time": "2022-11-09T17:13:38.763Z"
   },
   {
    "duration": 17,
    "start_time": "2022-11-09T17:13:42.489Z"
   },
   {
    "duration": 17,
    "start_time": "2022-11-09T17:13:54.742Z"
   },
   {
    "duration": 18,
    "start_time": "2022-11-09T17:14:04.614Z"
   },
   {
    "duration": 9,
    "start_time": "2022-11-09T17:14:10.893Z"
   },
   {
    "duration": 21,
    "start_time": "2022-11-09T17:14:34.754Z"
   },
   {
    "duration": 32,
    "start_time": "2022-11-09T17:14:40.688Z"
   },
   {
    "duration": 13,
    "start_time": "2022-11-09T17:15:14.667Z"
   },
   {
    "duration": 5,
    "start_time": "2022-11-09T17:15:24.087Z"
   },
   {
    "duration": 14,
    "start_time": "2022-11-09T17:15:28.443Z"
   },
   {
    "duration": 300,
    "start_time": "2022-11-09T17:15:54.807Z"
   },
   {
    "duration": 9,
    "start_time": "2022-11-09T17:15:56.286Z"
   },
   {
    "duration": 18,
    "start_time": "2022-11-09T17:18:40.500Z"
   },
   {
    "duration": 19,
    "start_time": "2022-11-09T17:19:34.319Z"
   },
   {
    "duration": 17,
    "start_time": "2022-11-09T17:19:57.116Z"
   },
   {
    "duration": 17,
    "start_time": "2022-11-09T17:20:11.678Z"
   },
   {
    "duration": 20,
    "start_time": "2022-11-09T17:20:17.459Z"
   },
   {
    "duration": 1648,
    "start_time": "2022-11-09T19:51:22.499Z"
   },
   {
    "duration": 3,
    "start_time": "2022-11-09T19:51:25.814Z"
   },
   {
    "duration": 410,
    "start_time": "2022-11-09T19:51:26.230Z"
   },
   {
    "duration": 4,
    "start_time": "2022-11-09T19:51:29.606Z"
   },
   {
    "duration": 3,
    "start_time": "2022-11-09T19:51:30.325Z"
   },
   {
    "duration": 4,
    "start_time": "2022-11-09T19:51:45.426Z"
   },
   {
    "duration": 7,
    "start_time": "2022-11-09T19:51:48.319Z"
   },
   {
    "duration": 6,
    "start_time": "2022-11-09T19:51:50.129Z"
   },
   {
    "duration": 9,
    "start_time": "2022-11-09T19:51:54.352Z"
   },
   {
    "duration": 6,
    "start_time": "2022-11-09T19:51:55.114Z"
   },
   {
    "duration": 7,
    "start_time": "2022-11-09T19:51:55.916Z"
   },
   {
    "duration": 6,
    "start_time": "2022-11-09T19:51:57.330Z"
   },
   {
    "duration": 5,
    "start_time": "2022-11-09T19:51:58.316Z"
   },
   {
    "duration": 6,
    "start_time": "2022-11-09T19:51:58.841Z"
   },
   {
    "duration": 7,
    "start_time": "2022-11-09T19:52:08.337Z"
   },
   {
    "duration": 1187,
    "start_time": "2022-11-09T19:52:25.530Z"
   },
   {
    "duration": 3,
    "start_time": "2022-11-09T19:52:36.854Z"
   },
   {
    "duration": 4,
    "start_time": "2022-11-09T19:52:42.848Z"
   },
   {
    "duration": 3,
    "start_time": "2022-11-09T19:52:55.925Z"
   },
   {
    "duration": 3,
    "start_time": "2022-11-09T19:52:59.104Z"
   },
   {
    "duration": 4,
    "start_time": "2022-11-09T19:53:17.458Z"
   },
   {
    "duration": 3,
    "start_time": "2022-11-09T19:53:27.763Z"
   },
   {
    "duration": 5,
    "start_time": "2022-11-09T19:53:28.382Z"
   },
   {
    "duration": 6,
    "start_time": "2022-11-09T19:53:29.709Z"
   },
   {
    "duration": 7,
    "start_time": "2022-11-09T19:53:31.010Z"
   },
   {
    "duration": 6,
    "start_time": "2022-11-09T19:53:31.815Z"
   },
   {
    "duration": 7,
    "start_time": "2022-11-09T19:53:35.279Z"
   },
   {
    "duration": 5,
    "start_time": "2022-11-09T19:53:37.595Z"
   },
   {
    "duration": 5,
    "start_time": "2022-11-09T19:53:44.953Z"
   },
   {
    "duration": 6,
    "start_time": "2022-11-09T19:53:45.686Z"
   },
   {
    "duration": 5,
    "start_time": "2022-11-09T19:53:49.541Z"
   },
   {
    "duration": 7,
    "start_time": "2022-11-09T19:53:51.145Z"
   },
   {
    "duration": 6,
    "start_time": "2022-11-09T19:53:52.697Z"
   },
   {
    "duration": 6,
    "start_time": "2022-11-09T19:53:53.650Z"
   },
   {
    "duration": 3237,
    "start_time": "2022-11-09T19:54:00.886Z"
   },
   {
    "duration": 308,
    "start_time": "2022-11-09T19:54:05.725Z"
   },
   {
    "duration": 9,
    "start_time": "2022-11-09T19:54:07.131Z"
   },
   {
    "duration": 16,
    "start_time": "2022-11-09T19:55:08.495Z"
   },
   {
    "duration": 85,
    "start_time": "2022-11-09T19:56:53.713Z"
   },
   {
    "duration": 34,
    "start_time": "2022-11-09T19:56:56.402Z"
   },
   {
    "duration": 12,
    "start_time": "2022-11-09T19:56:58.204Z"
   },
   {
    "duration": 35,
    "start_time": "2022-11-09T19:56:58.895Z"
   },
   {
    "duration": 6,
    "start_time": "2022-11-09T19:57:02.962Z"
   },
   {
    "duration": 10,
    "start_time": "2022-11-09T19:57:04.133Z"
   },
   {
    "duration": 2,
    "start_time": "2022-11-09T19:57:05.637Z"
   },
   {
    "duration": 18,
    "start_time": "2022-11-09T19:57:06.290Z"
   },
   {
    "duration": 2,
    "start_time": "2022-11-09T19:57:07.610Z"
   },
   {
    "duration": 17,
    "start_time": "2022-11-09T19:57:08.313Z"
   },
   {
    "duration": 503,
    "start_time": "2022-11-09T19:57:09.260Z"
   },
   {
    "duration": 6,
    "start_time": "2022-11-09T19:57:13.539Z"
   },
   {
    "duration": 9,
    "start_time": "2022-11-09T19:57:14.558Z"
   },
   {
    "duration": 15,
    "start_time": "2022-11-09T19:57:18.952Z"
   },
   {
    "duration": 894,
    "start_time": "2022-11-09T19:57:19.967Z"
   },
   {
    "duration": 106,
    "start_time": "2022-11-09T20:05:53.519Z"
   },
   {
    "duration": 49,
    "start_time": "2022-11-09T20:05:55.941Z"
   },
   {
    "duration": 13,
    "start_time": "2022-11-09T20:05:57.572Z"
   },
   {
    "duration": 39,
    "start_time": "2022-11-09T20:05:58.238Z"
   },
   {
    "duration": 7,
    "start_time": "2022-11-09T20:06:01.163Z"
   },
   {
    "duration": 19,
    "start_time": "2022-11-09T20:06:01.911Z"
   },
   {
    "duration": 214,
    "start_time": "2022-11-09T20:06:05.241Z"
   },
   {
    "duration": 1145,
    "start_time": "2022-11-09T20:06:06.214Z"
   },
   {
    "duration": 26,
    "start_time": "2022-11-09T20:08:48.190Z"
   },
   {
    "duration": 13,
    "start_time": "2022-11-09T20:08:50.909Z"
   },
   {
    "duration": 40,
    "start_time": "2022-11-09T20:08:51.637Z"
   },
   {
    "duration": 33,
    "start_time": "2022-11-09T20:08:55.242Z"
   },
   {
    "duration": 14,
    "start_time": "2022-11-09T20:08:56.247Z"
   },
   {
    "duration": 50,
    "start_time": "2022-11-09T20:08:56.870Z"
   },
   {
    "duration": 7,
    "start_time": "2022-11-09T20:11:19.271Z"
   },
   {
    "duration": 1148,
    "start_time": "2022-11-09T20:11:21.352Z"
   },
   {
    "duration": 5,
    "start_time": "2022-11-09T20:11:55.181Z"
   },
   {
    "duration": 1123,
    "start_time": "2022-11-09T20:11:56.119Z"
   },
   {
    "duration": 5,
    "start_time": "2022-11-09T20:12:58.045Z"
   },
   {
    "duration": 890,
    "start_time": "2022-11-09T20:12:59.038Z"
   },
   {
    "duration": 4,
    "start_time": "2022-11-09T20:14:04.785Z"
   },
   {
    "duration": 833,
    "start_time": "2022-11-09T20:14:06.442Z"
   },
   {
    "duration": 3,
    "start_time": "2022-11-09T20:15:26.627Z"
   },
   {
    "duration": 839,
    "start_time": "2022-11-09T20:15:27.528Z"
   },
   {
    "duration": 17,
    "start_time": "2022-11-09T20:21:33.068Z"
   },
   {
    "duration": 17,
    "start_time": "2022-11-09T20:21:41.048Z"
   },
   {
    "duration": 11,
    "start_time": "2022-11-09T20:22:17.609Z"
   },
   {
    "duration": 10,
    "start_time": "2022-11-09T20:22:27.411Z"
   },
   {
    "duration": 4,
    "start_time": "2022-11-09T20:22:30.202Z"
   },
   {
    "duration": 4,
    "start_time": "2022-11-09T20:23:15.612Z"
   },
   {
    "duration": 8,
    "start_time": "2022-11-09T20:23:36.063Z"
   },
   {
    "duration": 13,
    "start_time": "2022-11-09T20:23:36.991Z"
   },
   {
    "duration": 15,
    "start_time": "2022-11-09T20:25:13.221Z"
   },
   {
    "duration": 8,
    "start_time": "2022-11-09T20:25:24.027Z"
   },
   {
    "duration": 3,
    "start_time": "2022-11-09T20:25:24.909Z"
   },
   {
    "duration": 12,
    "start_time": "2022-11-09T20:25:25.873Z"
   },
   {
    "duration": 10,
    "start_time": "2022-11-09T20:28:02.725Z"
   },
   {
    "duration": 14,
    "start_time": "2022-11-09T20:28:04.247Z"
   },
   {
    "duration": 9,
    "start_time": "2022-11-09T20:28:10.534Z"
   },
   {
    "duration": 2,
    "start_time": "2022-11-09T20:28:33.619Z"
   },
   {
    "duration": 12,
    "start_time": "2022-11-09T20:28:34.952Z"
   },
   {
    "duration": 99,
    "start_time": "2022-11-09T20:29:13.399Z"
   },
   {
    "duration": 23,
    "start_time": "2022-11-09T20:29:14.693Z"
   },
   {
    "duration": 14,
    "start_time": "2022-11-09T20:29:17.610Z"
   },
   {
    "duration": 13,
    "start_time": "2022-11-09T20:29:34.765Z"
   },
   {
    "duration": 34,
    "start_time": "2022-11-09T20:29:36.083Z"
   },
   {
    "duration": 15,
    "start_time": "2022-11-09T20:30:28.958Z"
   },
   {
    "duration": 14,
    "start_time": "2022-11-09T20:30:29.754Z"
   },
   {
    "duration": 8,
    "start_time": "2022-11-09T20:30:30.884Z"
   },
   {
    "duration": 9,
    "start_time": "2022-11-09T20:30:31.528Z"
   },
   {
    "duration": 33,
    "start_time": "2022-11-09T20:30:32.167Z"
   },
   {
    "duration": 6,
    "start_time": "2022-11-09T20:30:56.087Z"
   },
   {
    "duration": 32,
    "start_time": "2022-11-09T20:30:56.704Z"
   },
   {
    "duration": 14,
    "start_time": "2022-11-09T20:32:17.844Z"
   },
   {
    "duration": 24,
    "start_time": "2022-11-09T20:32:53.056Z"
   },
   {
    "duration": 9,
    "start_time": "2022-11-09T20:33:21.371Z"
   },
   {
    "duration": 17,
    "start_time": "2022-11-09T20:35:54.660Z"
   },
   {
    "duration": 31,
    "start_time": "2022-11-09T20:36:15.742Z"
   },
   {
    "duration": 44,
    "start_time": "2022-11-09T20:36:18.728Z"
   },
   {
    "duration": 24,
    "start_time": "2022-11-09T20:39:46.952Z"
   },
   {
    "duration": 21,
    "start_time": "2022-11-09T20:42:04.060Z"
   },
   {
    "duration": 19,
    "start_time": "2022-11-09T20:42:34.354Z"
   },
   {
    "duration": 89,
    "start_time": "2022-11-09T20:42:48.338Z"
   },
   {
    "duration": 22,
    "start_time": "2022-11-09T20:43:32.646Z"
   },
   {
    "duration": 8,
    "start_time": "2022-11-09T20:43:57.094Z"
   },
   {
    "duration": 27,
    "start_time": "2022-11-09T20:43:59.353Z"
   },
   {
    "duration": 13,
    "start_time": "2022-11-09T20:44:01.825Z"
   },
   {
    "duration": 36,
    "start_time": "2022-11-09T20:44:08.025Z"
   },
   {
    "duration": 12,
    "start_time": "2022-11-09T20:44:17.197Z"
   },
   {
    "duration": 5,
    "start_time": "2022-11-09T20:44:42.788Z"
   },
   {
    "duration": 7,
    "start_time": "2022-11-09T20:44:43.972Z"
   },
   {
    "duration": 3,
    "start_time": "2022-11-09T20:44:46.074Z"
   },
   {
    "duration": 11,
    "start_time": "2022-11-09T20:44:46.680Z"
   },
   {
    "duration": 21,
    "start_time": "2022-11-09T20:44:48.377Z"
   },
   {
    "duration": 68,
    "start_time": "2022-11-09T20:44:49.403Z"
   },
   {
    "duration": 84,
    "start_time": "2022-11-09T20:45:02.673Z"
   },
   {
    "duration": 149180,
    "start_time": "2022-11-09T20:45:10.165Z"
   },
   {
    "duration": 20,
    "start_time": "2022-11-09T20:47:39.347Z"
   },
   {
    "duration": 14,
    "start_time": "2022-11-09T20:49:08.702Z"
   },
   {
    "duration": 139941,
    "start_time": "2022-11-09T20:49:18.635Z"
   },
   {
    "duration": 5,
    "start_time": "2022-11-09T20:51:52.491Z"
   },
   {
    "duration": 9,
    "start_time": "2022-11-09T20:53:02.322Z"
   },
   {
    "duration": 12,
    "start_time": "2022-11-09T20:53:43.479Z"
   },
   {
    "duration": 6,
    "start_time": "2022-11-09T20:54:01.960Z"
   },
   {
    "duration": 185,
    "start_time": "2022-11-09T20:54:02.777Z"
   },
   {
    "duration": 5,
    "start_time": "2022-11-09T20:54:05.503Z"
   },
   {
    "duration": 4,
    "start_time": "2022-11-09T20:54:34.673Z"
   },
   {
    "duration": 5,
    "start_time": "2022-11-09T20:54:35.491Z"
   },
   {
    "duration": 528,
    "start_time": "2022-11-09T20:54:38.924Z"
   },
   {
    "duration": 4,
    "start_time": "2022-11-09T20:54:41.616Z"
   },
   {
    "duration": 3,
    "start_time": "2022-11-09T20:58:03.651Z"
   },
   {
    "duration": 75,
    "start_time": "2022-11-09T20:58:30.459Z"
   },
   {
    "duration": 3,
    "start_time": "2022-11-09T20:58:54.115Z"
   },
   {
    "duration": 27,
    "start_time": "2022-11-09T20:59:04.813Z"
   },
   {
    "duration": 3,
    "start_time": "2022-11-09T21:02:08.316Z"
   },
   {
    "duration": 3,
    "start_time": "2022-11-09T21:02:09.992Z"
   },
   {
    "duration": 150844,
    "start_time": "2022-11-09T21:02:11.085Z"
   },
   {
    "duration": 5,
    "start_time": "2022-11-09T21:29:47.034Z"
   },
   {
    "duration": 10,
    "start_time": "2022-11-09T21:32:39.755Z"
   },
   {
    "duration": 25,
    "start_time": "2022-11-09T21:34:24.623Z"
   },
   {
    "duration": 35,
    "start_time": "2022-11-09T21:40:55.667Z"
   },
   {
    "duration": 4,
    "start_time": "2022-11-09T21:41:12.164Z"
   },
   {
    "duration": 3,
    "start_time": "2022-11-09T21:41:13.866Z"
   },
   {
    "duration": 24,
    "start_time": "2022-11-09T21:41:17.511Z"
   },
   {
    "duration": 2,
    "start_time": "2022-11-09T21:41:32.790Z"
   },
   {
    "duration": 22,
    "start_time": "2022-11-09T21:41:33.404Z"
   },
   {
    "duration": 2,
    "start_time": "2022-11-09T21:42:03.167Z"
   },
   {
    "duration": 24,
    "start_time": "2022-11-09T21:42:03.697Z"
   },
   {
    "duration": 2,
    "start_time": "2022-11-09T21:43:48.489Z"
   },
   {
    "duration": 24,
    "start_time": "2022-11-09T21:43:49.467Z"
   },
   {
    "duration": 3,
    "start_time": "2022-11-09T21:44:10.998Z"
   },
   {
    "duration": 1808,
    "start_time": "2022-11-09T21:44:11.564Z"
   },
   {
    "duration": 4,
    "start_time": "2022-11-09T21:44:23.501Z"
   },
   {
    "duration": 1212,
    "start_time": "2022-11-09T21:45:28.528Z"
   },
   {
    "duration": 1493,
    "start_time": "2022-11-09T21:45:52.708Z"
   },
   {
    "duration": 4,
    "start_time": "2022-11-09T21:45:54.611Z"
   },
   {
    "duration": 239,
    "start_time": "2022-11-09T21:45:55.137Z"
   },
   {
    "duration": 6,
    "start_time": "2022-11-09T21:45:58.266Z"
   },
   {
    "duration": 3,
    "start_time": "2022-11-09T21:45:58.885Z"
   },
   {
    "duration": 4,
    "start_time": "2022-11-09T21:46:02.147Z"
   },
   {
    "duration": 4,
    "start_time": "2022-11-09T21:46:08.401Z"
   },
   {
    "duration": 3,
    "start_time": "2022-11-09T21:46:14.345Z"
   },
   {
    "duration": 4,
    "start_time": "2022-11-09T21:46:18.594Z"
   },
   {
    "duration": 13,
    "start_time": "2022-11-09T21:46:22.652Z"
   },
   {
    "duration": 9,
    "start_time": "2022-11-09T21:46:25.470Z"
   },
   {
    "duration": 6,
    "start_time": "2022-11-09T21:46:31.643Z"
   },
   {
    "duration": 5,
    "start_time": "2022-11-09T21:46:33.500Z"
   },
   {
    "duration": 8,
    "start_time": "2022-11-09T21:46:34.835Z"
   },
   {
    "duration": 7,
    "start_time": "2022-11-09T21:46:36.623Z"
   },
   {
    "duration": 4,
    "start_time": "2022-11-09T21:46:46.567Z"
   },
   {
    "duration": 5,
    "start_time": "2022-11-09T21:46:48.077Z"
   },
   {
    "duration": 6,
    "start_time": "2022-11-09T21:46:49.315Z"
   },
   {
    "duration": 11,
    "start_time": "2022-11-09T21:46:51.233Z"
   },
   {
    "duration": 9,
    "start_time": "2022-11-09T21:46:52.704Z"
   },
   {
    "duration": 7,
    "start_time": "2022-11-09T21:46:53.277Z"
   },
   {
    "duration": 8,
    "start_time": "2022-11-09T21:46:54.608Z"
   },
   {
    "duration": 6,
    "start_time": "2022-11-09T21:46:55.636Z"
   },
   {
    "duration": 10,
    "start_time": "2022-11-09T21:46:56.266Z"
   },
   {
    "duration": 7,
    "start_time": "2022-11-09T21:46:58.620Z"
   },
   {
    "duration": 6,
    "start_time": "2022-11-09T21:46:59.994Z"
   },
   {
    "duration": 6,
    "start_time": "2022-11-09T21:47:00.838Z"
   },
   {
    "duration": 6,
    "start_time": "2022-11-09T21:47:01.501Z"
   },
   {
    "duration": 3346,
    "start_time": "2022-11-09T21:47:04.560Z"
   },
   {
    "duration": 332,
    "start_time": "2022-11-09T21:47:08.572Z"
   },
   {
    "duration": 12,
    "start_time": "2022-11-09T21:47:09.473Z"
   },
   {
    "duration": 10,
    "start_time": "2022-11-09T21:47:14.638Z"
   },
   {
    "duration": 11,
    "start_time": "2022-11-09T21:47:16.319Z"
   },
   {
    "duration": 97,
    "start_time": "2022-11-09T21:47:23.017Z"
   },
   {
    "duration": 9,
    "start_time": "2022-11-09T21:47:25.605Z"
   },
   {
    "duration": 12,
    "start_time": "2022-11-09T21:47:26.490Z"
   },
   {
    "duration": 22,
    "start_time": "2022-11-09T21:47:33.168Z"
   },
   {
    "duration": 26,
    "start_time": "2022-11-09T21:47:35.567Z"
   },
   {
    "duration": 4,
    "start_time": "2022-11-09T21:47:47.101Z"
   },
   {
    "duration": 5,
    "start_time": "2022-11-09T21:47:48.312Z"
   },
   {
    "duration": 5,
    "start_time": "2022-11-09T21:47:52.229Z"
   },
   {
    "duration": 5,
    "start_time": "2022-11-09T21:47:53.216Z"
   },
   {
    "duration": 3,
    "start_time": "2022-11-09T21:47:57.081Z"
   },
   {
    "duration": 3,
    "start_time": "2022-11-09T21:47:58.322Z"
   },
   {
    "duration": 2339,
    "start_time": "2022-11-09T21:48:00.718Z"
   },
   {
    "duration": 4,
    "start_time": "2022-11-09T21:48:04.242Z"
   },
   {
    "duration": 9,
    "start_time": "2022-11-09T21:52:28.714Z"
   },
   {
    "duration": 206,
    "start_time": "2022-11-09T21:52:39.076Z"
   },
   {
    "duration": 9,
    "start_time": "2022-11-09T21:52:40.129Z"
   },
   {
    "duration": 14,
    "start_time": "2022-11-09T21:52:43.210Z"
   },
   {
    "duration": 118,
    "start_time": "2022-11-09T21:53:33.274Z"
   },
   {
    "duration": 19,
    "start_time": "2022-11-09T21:53:53.124Z"
   },
   {
    "duration": 7,
    "start_time": "2022-11-09T21:54:09.632Z"
   },
   {
    "duration": 15,
    "start_time": "2022-11-09T21:54:13.587Z"
   },
   {
    "duration": 5,
    "start_time": "2022-11-09T21:54:46.477Z"
   },
   {
    "duration": 14,
    "start_time": "2022-11-09T21:54:54.505Z"
   },
   {
    "duration": 2,
    "start_time": "2022-11-09T21:55:05.441Z"
   },
   {
    "duration": 5,
    "start_time": "2022-11-09T21:55:06.002Z"
   },
   {
    "duration": 7,
    "start_time": "2022-11-09T21:55:08.011Z"
   },
   {
    "duration": 26,
    "start_time": "2022-11-09T21:55:09.844Z"
   },
   {
    "duration": 3,
    "start_time": "2022-11-09T21:55:36.170Z"
   },
   {
    "duration": 18,
    "start_time": "2022-11-09T21:55:36.780Z"
   },
   {
    "duration": 11,
    "start_time": "2022-11-09T21:56:09.214Z"
   },
   {
    "duration": 8,
    "start_time": "2022-11-09T21:56:15.000Z"
   },
   {
    "duration": 4,
    "start_time": "2022-11-09T21:56:15.567Z"
   },
   {
    "duration": 13,
    "start_time": "2022-11-09T21:56:16.895Z"
   },
   {
    "duration": 5,
    "start_time": "2022-11-09T21:56:36.331Z"
   },
   {
    "duration": 19,
    "start_time": "2022-11-09T21:56:40.998Z"
   },
   {
    "duration": 25,
    "start_time": "2022-11-09T21:57:04.048Z"
   },
   {
    "duration": 19,
    "start_time": "2022-11-09T21:57:34.867Z"
   },
   {
    "duration": 13,
    "start_time": "2022-11-09T21:57:36.113Z"
   },
   {
    "duration": 1170,
    "start_time": "2022-11-09T22:01:59.794Z"
   },
   {
    "duration": 10,
    "start_time": "2022-11-09T22:02:02.734Z"
   },
   {
    "duration": 26,
    "start_time": "2022-11-09T22:02:03.537Z"
   },
   {
    "duration": 14,
    "start_time": "2022-11-09T22:02:08.320Z"
   },
   {
    "duration": 4,
    "start_time": "2022-11-09T22:03:01.799Z"
   },
   {
    "duration": 11,
    "start_time": "2022-11-09T22:03:02.687Z"
   },
   {
    "duration": 1124,
    "start_time": "2022-11-09T22:03:23.606Z"
   },
   {
    "duration": 7,
    "start_time": "2022-11-09T22:03:28.429Z"
   },
   {
    "duration": 11,
    "start_time": "2022-11-09T22:03:29.113Z"
   },
   {
    "duration": 18,
    "start_time": "2022-11-09T22:03:31.219Z"
   },
   {
    "duration": 25,
    "start_time": "2022-11-09T22:03:33.514Z"
   },
   {
    "duration": 5,
    "start_time": "2022-11-09T22:03:36.991Z"
   },
   {
    "duration": 4,
    "start_time": "2022-11-09T22:03:38.483Z"
   },
   {
    "duration": 7,
    "start_time": "2022-11-09T22:03:39.507Z"
   },
   {
    "duration": 6,
    "start_time": "2022-11-09T22:03:40.157Z"
   },
   {
    "duration": 4,
    "start_time": "2022-11-09T22:03:42.792Z"
   },
   {
    "duration": 3,
    "start_time": "2022-11-09T22:03:45.062Z"
   },
   {
    "duration": 2009,
    "start_time": "2022-11-09T22:03:46.149Z"
   },
   {
    "duration": 4,
    "start_time": "2022-11-09T22:03:49.827Z"
   },
   {
    "duration": 3,
    "start_time": "2022-11-09T22:05:32.370Z"
   },
   {
    "duration": 3,
    "start_time": "2022-11-09T22:05:35.082Z"
   },
   {
    "duration": 162104,
    "start_time": "2022-11-09T22:05:36.159Z"
   },
   {
    "duration": 4,
    "start_time": "2022-11-09T22:08:18.265Z"
   },
   {
    "duration": 147137,
    "start_time": "2022-11-09T22:08:18.271Z"
   },
   {
    "duration": 5,
    "start_time": "2022-11-09T22:10:45.410Z"
   },
   {
    "duration": 1578,
    "start_time": "2022-11-09T22:11:28.850Z"
   },
   {
    "duration": 3,
    "start_time": "2022-11-09T22:11:30.430Z"
   },
   {
    "duration": 253,
    "start_time": "2022-11-09T22:11:30.435Z"
   },
   {
    "duration": 5,
    "start_time": "2022-11-09T22:11:30.690Z"
   },
   {
    "duration": 33,
    "start_time": "2022-11-09T22:11:30.697Z"
   },
   {
    "duration": 56,
    "start_time": "2022-11-09T22:11:30.731Z"
   },
   {
    "duration": 24,
    "start_time": "2022-11-09T22:11:30.789Z"
   },
   {
    "duration": 24,
    "start_time": "2022-11-09T22:11:30.815Z"
   },
   {
    "duration": 36,
    "start_time": "2022-11-09T22:11:30.840Z"
   },
   {
    "duration": 28,
    "start_time": "2022-11-09T22:11:30.879Z"
   },
   {
    "duration": 39,
    "start_time": "2022-11-09T22:11:30.908Z"
   },
   {
    "duration": 30,
    "start_time": "2022-11-09T22:11:30.949Z"
   },
   {
    "duration": 14,
    "start_time": "2022-11-09T22:11:30.980Z"
   },
   {
    "duration": 544,
    "start_time": "2022-11-09T22:11:30.995Z"
   },
   {
    "duration": 380,
    "start_time": "2022-11-09T22:11:31.540Z"
   },
   {
    "duration": 767,
    "start_time": "2022-11-09T22:11:31.921Z"
   },
   {
    "duration": 8,
    "start_time": "2022-11-09T22:11:32.690Z"
   },
   {
    "duration": 37725,
    "start_time": "2022-11-09T22:11:32.700Z"
   },
   {
    "duration": 753,
    "start_time": "2022-11-09T22:12:10.426Z"
   },
   {
    "duration": 17,
    "start_time": "2022-11-09T22:12:11.180Z"
   },
   {
    "duration": 67,
    "start_time": "2022-11-09T22:12:11.199Z"
   },
   {
    "duration": 5,
    "start_time": "2022-11-09T22:12:11.267Z"
   },
   {
    "duration": 20,
    "start_time": "2022-11-09T22:12:11.274Z"
   },
   {
    "duration": 96,
    "start_time": "2022-11-09T22:12:11.296Z"
   },
   {
    "duration": 60,
    "start_time": "2022-11-09T22:12:11.394Z"
   },
   {
    "duration": 16,
    "start_time": "2022-11-09T22:12:11.457Z"
   },
   {
    "duration": 4,
    "start_time": "2022-11-09T22:12:11.475Z"
   },
   {
    "duration": 6780,
    "start_time": "2022-11-09T22:12:11.485Z"
   },
   {
    "duration": 16,
    "start_time": "2022-11-09T22:12:18.267Z"
   },
   {
    "duration": 14,
    "start_time": "2022-11-09T22:12:18.285Z"
   },
   {
    "duration": 53,
    "start_time": "2022-11-09T22:12:18.300Z"
   },
   {
    "duration": 6,
    "start_time": "2022-11-09T22:12:18.354Z"
   },
   {
    "duration": 5417,
    "start_time": "2022-11-09T22:12:18.362Z"
   },
   {
    "duration": 7,
    "start_time": "2022-11-09T22:12:23.781Z"
   },
   {
    "duration": 16,
    "start_time": "2022-11-09T22:12:23.789Z"
   },
   {
    "duration": 15,
    "start_time": "2022-11-09T22:12:23.807Z"
   },
   {
    "duration": 12,
    "start_time": "2022-11-09T22:12:23.823Z"
   },
   {
    "duration": 23,
    "start_time": "2022-11-09T22:12:23.837Z"
   },
   {
    "duration": 13,
    "start_time": "2022-11-09T22:12:23.861Z"
   },
   {
    "duration": 20,
    "start_time": "2022-11-09T22:12:23.875Z"
   },
   {
    "duration": 15,
    "start_time": "2022-11-09T22:12:23.897Z"
   },
   {
    "duration": 355,
    "start_time": "2022-11-09T22:12:23.914Z"
   },
   {
    "duration": 9,
    "start_time": "2022-11-09T22:12:24.271Z"
   },
   {
    "duration": 20,
    "start_time": "2022-11-09T22:12:24.282Z"
   },
   {
    "duration": 20,
    "start_time": "2022-11-09T22:12:24.304Z"
   },
   {
    "duration": 4,
    "start_time": "2022-11-09T22:12:24.326Z"
   },
   {
    "duration": 31,
    "start_time": "2022-11-09T22:12:24.333Z"
   },
   {
    "duration": 7,
    "start_time": "2022-11-09T22:12:24.366Z"
   },
   {
    "duration": 13,
    "start_time": "2022-11-09T22:12:24.375Z"
   },
   {
    "duration": 5,
    "start_time": "2022-11-09T22:12:24.390Z"
   },
   {
    "duration": 510,
    "start_time": "2022-11-09T22:12:24.397Z"
   },
   {
    "duration": 751,
    "start_time": "2022-11-09T22:12:24.909Z"
   },
   {
    "duration": 520,
    "start_time": "2022-11-09T22:12:25.662Z"
   },
   {
    "duration": 12,
    "start_time": "2022-11-09T22:12:26.184Z"
   },
   {
    "duration": 20,
    "start_time": "2022-11-09T22:12:26.198Z"
   },
   {
    "duration": 47,
    "start_time": "2022-11-09T22:12:26.220Z"
   },
   {
    "duration": 5,
    "start_time": "2022-11-09T22:12:26.268Z"
   },
   {
    "duration": 15,
    "start_time": "2022-11-09T22:12:26.274Z"
   },
   {
    "duration": 9,
    "start_time": "2022-11-09T22:12:26.290Z"
   },
   {
    "duration": 9,
    "start_time": "2022-11-09T22:12:26.301Z"
   },
   {
    "duration": 8,
    "start_time": "2022-11-09T22:12:26.312Z"
   },
   {
    "duration": 1837,
    "start_time": "2022-11-09T22:12:26.322Z"
   },
   {
    "duration": 11,
    "start_time": "2022-11-09T22:12:28.161Z"
   },
   {
    "duration": 13,
    "start_time": "2022-11-09T22:12:28.174Z"
   },
   {
    "duration": 82,
    "start_time": "2022-11-09T22:12:28.188Z"
   },
   {
    "duration": 7,
    "start_time": "2022-11-09T22:12:28.272Z"
   },
   {
    "duration": 3396,
    "start_time": "2022-11-09T22:12:28.281Z"
   },
   {
    "duration": 3,
    "start_time": "2022-11-09T22:12:31.679Z"
   },
   {
    "duration": 15,
    "start_time": "2022-11-09T22:12:31.684Z"
   },
   {
    "duration": 23,
    "start_time": "2022-11-09T22:12:31.701Z"
   },
   {
    "duration": 16,
    "start_time": "2022-11-09T22:12:31.726Z"
   },
   {
    "duration": 6,
    "start_time": "2022-11-09T22:12:31.743Z"
   },
   {
    "duration": 22,
    "start_time": "2022-11-09T22:12:31.751Z"
   },
   {
    "duration": 8,
    "start_time": "2022-11-09T22:12:31.776Z"
   },
   {
    "duration": 6,
    "start_time": "2022-11-09T22:12:31.786Z"
   },
   {
    "duration": 18,
    "start_time": "2022-11-09T22:12:31.793Z"
   },
   {
    "duration": 13,
    "start_time": "2022-11-09T22:12:31.812Z"
   },
   {
    "duration": 10,
    "start_time": "2022-11-09T22:12:31.827Z"
   },
   {
    "duration": 11,
    "start_time": "2022-11-09T22:12:31.839Z"
   },
   {
    "duration": 5,
    "start_time": "2022-11-09T22:12:31.852Z"
   },
   {
    "duration": 3404,
    "start_time": "2022-11-09T22:12:31.859Z"
   },
   {
    "duration": 243,
    "start_time": "2022-11-09T22:12:35.269Z"
   },
   {
    "duration": 9,
    "start_time": "2022-11-09T22:12:35.513Z"
   },
   {
    "duration": 35,
    "start_time": "2022-11-09T22:12:35.523Z"
   },
   {
    "duration": 25,
    "start_time": "2022-11-09T22:12:35.560Z"
   },
   {
    "duration": 12,
    "start_time": "2022-11-09T22:12:35.587Z"
   },
   {
    "duration": 14,
    "start_time": "2022-11-09T22:12:35.600Z"
   },
   {
    "duration": 181,
    "start_time": "2022-11-09T22:12:35.616Z"
   },
   {
    "duration": 8,
    "start_time": "2022-11-09T22:12:35.798Z"
   },
   {
    "duration": 11,
    "start_time": "2022-11-09T22:12:35.808Z"
   },
   {
    "duration": 34,
    "start_time": "2022-11-09T22:12:35.820Z"
   },
   {
    "duration": 24,
    "start_time": "2022-11-09T22:12:35.856Z"
   },
   {
    "duration": 5,
    "start_time": "2022-11-09T22:12:35.882Z"
   },
   {
    "duration": 6,
    "start_time": "2022-11-09T22:12:35.888Z"
   },
   {
    "duration": 9,
    "start_time": "2022-11-09T22:12:35.896Z"
   },
   {
    "duration": 9,
    "start_time": "2022-11-09T22:12:35.907Z"
   },
   {
    "duration": 4,
    "start_time": "2022-11-09T22:12:35.918Z"
   },
   {
    "duration": 29,
    "start_time": "2022-11-09T22:12:35.923Z"
   },
   {
    "duration": 6,
    "start_time": "2022-11-09T22:12:35.954Z"
   },
   {
    "duration": 6,
    "start_time": "2022-11-09T22:12:35.961Z"
   },
   {
    "duration": 2085,
    "start_time": "2022-11-09T22:12:35.968Z"
   },
   {
    "duration": 6,
    "start_time": "2022-11-09T22:12:38.055Z"
   },
   {
    "duration": 12,
    "start_time": "2022-11-09T22:12:38.151Z"
   },
   {
    "duration": 6,
    "start_time": "2022-11-09T22:12:38.165Z"
   },
   {
    "duration": 145092,
    "start_time": "2022-11-09T22:12:38.172Z"
   },
   {
    "duration": 4,
    "start_time": "2022-11-09T22:15:03.266Z"
   },
   {
    "duration": 9,
    "start_time": "2022-11-09T22:15:03.273Z"
   },
   {
    "duration": 37,
    "start_time": "2022-11-09T22:16:41.990Z"
   },
   {
    "duration": 122,
    "start_time": "2022-11-09T22:16:45.678Z"
   },
   {
    "duration": 19,
    "start_time": "2022-11-09T22:17:32.158Z"
   },
   {
    "duration": 34,
    "start_time": "2022-11-09T22:17:36.685Z"
   },
   {
    "duration": 78,
    "start_time": "2022-11-10T18:53:15.422Z"
   },
   {
    "duration": 2232,
    "start_time": "2022-11-10T19:42:05.041Z"
   },
   {
    "duration": 4,
    "start_time": "2022-11-10T19:42:07.275Z"
   },
   {
    "duration": 527,
    "start_time": "2022-11-10T19:42:07.281Z"
   },
   {
    "duration": 5,
    "start_time": "2022-11-10T19:42:07.810Z"
   },
   {
    "duration": 15,
    "start_time": "2022-11-10T19:42:07.818Z"
   },
   {
    "duration": 26,
    "start_time": "2022-11-10T19:42:07.836Z"
   },
   {
    "duration": 16,
    "start_time": "2022-11-10T19:42:07.864Z"
   },
   {
    "duration": 6,
    "start_time": "2022-11-10T19:42:07.883Z"
   },
   {
    "duration": 26,
    "start_time": "2022-11-10T19:42:07.891Z"
   },
   {
    "duration": 32,
    "start_time": "2022-11-10T19:42:07.919Z"
   },
   {
    "duration": 12,
    "start_time": "2022-11-10T19:42:07.953Z"
   },
   {
    "duration": 8,
    "start_time": "2022-11-10T19:42:07.966Z"
   },
   {
    "duration": 15,
    "start_time": "2022-11-10T19:42:07.976Z"
   },
   {
    "duration": 759,
    "start_time": "2022-11-10T19:42:07.996Z"
   },
   {
    "duration": 479,
    "start_time": "2022-11-10T19:42:08.757Z"
   },
   {
    "duration": 836,
    "start_time": "2022-11-10T19:42:09.238Z"
   },
   {
    "duration": 13,
    "start_time": "2022-11-10T19:42:10.076Z"
   },
   {
    "duration": 48390,
    "start_time": "2022-11-10T19:42:10.090Z"
   },
   {
    "duration": 4784,
    "start_time": "2022-11-10T19:42:58.482Z"
   },
   {
    "duration": 18,
    "start_time": "2022-11-10T19:43:03.268Z"
   },
   {
    "duration": 14,
    "start_time": "2022-11-10T19:43:03.289Z"
   },
   {
    "duration": 6,
    "start_time": "2022-11-10T19:43:03.305Z"
   },
   {
    "duration": 48,
    "start_time": "2022-11-10T19:43:03.313Z"
   },
   {
    "duration": 78,
    "start_time": "2022-11-10T19:43:03.363Z"
   },
   {
    "duration": 7,
    "start_time": "2022-11-10T19:43:03.451Z"
   },
   {
    "duration": 24,
    "start_time": "2022-11-10T19:43:03.460Z"
   },
   {
    "duration": 6,
    "start_time": "2022-11-10T19:43:03.487Z"
   },
   {
    "duration": 2821,
    "start_time": "2022-11-10T19:43:03.495Z"
   },
   {
    "duration": 19,
    "start_time": "2022-11-10T19:43:06.318Z"
   },
   {
    "duration": 18,
    "start_time": "2022-11-10T19:43:06.351Z"
   },
   {
    "duration": 60,
    "start_time": "2022-11-10T19:43:06.372Z"
   },
   {
    "duration": 17,
    "start_time": "2022-11-10T19:43:06.435Z"
   },
   {
    "duration": 7043,
    "start_time": "2022-11-10T19:43:06.454Z"
   },
   {
    "duration": 10,
    "start_time": "2022-11-10T19:43:13.499Z"
   },
   {
    "duration": 18,
    "start_time": "2022-11-10T19:43:13.512Z"
   },
   {
    "duration": 20,
    "start_time": "2022-11-10T19:43:13.551Z"
   },
   {
    "duration": 5,
    "start_time": "2022-11-10T19:43:13.574Z"
   },
   {
    "duration": 19,
    "start_time": "2022-11-10T19:43:13.582Z"
   },
   {
    "duration": 17,
    "start_time": "2022-11-10T19:43:13.603Z"
   },
   {
    "duration": 10,
    "start_time": "2022-11-10T19:43:13.622Z"
   },
   {
    "duration": 6,
    "start_time": "2022-11-10T19:43:13.657Z"
   },
   {
    "duration": 533,
    "start_time": "2022-11-10T19:43:13.665Z"
   },
   {
    "duration": 18,
    "start_time": "2022-11-10T19:43:14.201Z"
   },
   {
    "duration": 34,
    "start_time": "2022-11-10T19:43:14.222Z"
   },
   {
    "duration": 25,
    "start_time": "2022-11-10T19:43:14.257Z"
   },
   {
    "duration": 5,
    "start_time": "2022-11-10T19:43:14.284Z"
   },
   {
    "duration": 41,
    "start_time": "2022-11-10T19:43:14.292Z"
   },
   {
    "duration": 17,
    "start_time": "2022-11-10T19:43:14.336Z"
   },
   {
    "duration": 24,
    "start_time": "2022-11-10T19:43:14.356Z"
   },
   {
    "duration": 16,
    "start_time": "2022-11-10T19:43:14.382Z"
   },
   {
    "duration": 500,
    "start_time": "2022-11-10T19:43:14.400Z"
   },
   {
    "duration": 1209,
    "start_time": "2022-11-10T19:43:14.902Z"
   },
   {
    "duration": 554,
    "start_time": "2022-11-10T19:43:16.113Z"
   },
   {
    "duration": 18,
    "start_time": "2022-11-10T19:43:16.669Z"
   },
   {
    "duration": 31,
    "start_time": "2022-11-10T19:43:16.690Z"
   },
   {
    "duration": 62,
    "start_time": "2022-11-10T19:43:16.724Z"
   },
   {
    "duration": 7,
    "start_time": "2022-11-10T19:43:16.788Z"
   },
   {
    "duration": 29,
    "start_time": "2022-11-10T19:43:16.797Z"
   },
   {
    "duration": 24,
    "start_time": "2022-11-10T19:43:16.828Z"
   },
   {
    "duration": 9,
    "start_time": "2022-11-10T19:43:16.854Z"
   },
   {
    "duration": 8,
    "start_time": "2022-11-10T19:43:16.865Z"
   },
   {
    "duration": 2173,
    "start_time": "2022-11-10T19:43:16.875Z"
   },
   {
    "duration": 18,
    "start_time": "2022-11-10T19:43:19.051Z"
   },
   {
    "duration": 23,
    "start_time": "2022-11-10T19:43:19.071Z"
   },
   {
    "duration": 56,
    "start_time": "2022-11-10T19:43:19.096Z"
   },
   {
    "duration": 9,
    "start_time": "2022-11-10T19:43:19.157Z"
   },
   {
    "duration": 4180,
    "start_time": "2022-11-10T19:43:19.168Z"
   },
   {
    "duration": 5,
    "start_time": "2022-11-10T19:43:23.351Z"
   },
   {
    "duration": 15,
    "start_time": "2022-11-10T19:43:23.359Z"
   },
   {
    "duration": 11,
    "start_time": "2022-11-10T19:43:23.376Z"
   },
   {
    "duration": 20,
    "start_time": "2022-11-10T19:43:23.390Z"
   },
   {
    "duration": 11,
    "start_time": "2022-11-10T19:43:23.412Z"
   },
   {
    "duration": 11,
    "start_time": "2022-11-10T19:43:23.452Z"
   },
   {
    "duration": 11,
    "start_time": "2022-11-10T19:43:23.465Z"
   },
   {
    "duration": 7,
    "start_time": "2022-11-10T19:43:23.478Z"
   },
   {
    "duration": 9,
    "start_time": "2022-11-10T19:43:23.487Z"
   },
   {
    "duration": 8,
    "start_time": "2022-11-10T19:43:23.498Z"
   },
   {
    "duration": 52,
    "start_time": "2022-11-10T19:43:23.509Z"
   },
   {
    "duration": 6,
    "start_time": "2022-11-10T19:43:23.564Z"
   },
   {
    "duration": 7,
    "start_time": "2022-11-10T19:43:23.572Z"
   },
   {
    "duration": 4348,
    "start_time": "2022-11-10T19:43:23.583Z"
   },
   {
    "duration": 440,
    "start_time": "2022-11-10T19:43:27.933Z"
   },
   {
    "duration": 9,
    "start_time": "2022-11-10T19:43:28.375Z"
   },
   {
    "duration": 14,
    "start_time": "2022-11-10T19:43:28.386Z"
   },
   {
    "duration": 55,
    "start_time": "2022-11-10T19:43:28.402Z"
   },
   {
    "duration": 7,
    "start_time": "2022-11-10T19:43:28.459Z"
   },
   {
    "duration": 17,
    "start_time": "2022-11-10T19:43:28.469Z"
   },
   {
    "duration": 133,
    "start_time": "2022-11-10T19:43:28.488Z"
   },
   {
    "duration": 10,
    "start_time": "2022-11-10T19:43:28.623Z"
   },
   {
    "duration": 22,
    "start_time": "2022-11-10T19:43:28.635Z"
   },
   {
    "duration": 33,
    "start_time": "2022-11-10T19:43:28.660Z"
   },
   {
    "duration": 62,
    "start_time": "2022-11-10T19:43:28.695Z"
   },
   {
    "duration": 7,
    "start_time": "2022-11-10T19:43:28.760Z"
   },
   {
    "duration": 6,
    "start_time": "2022-11-10T19:43:28.770Z"
   },
   {
    "duration": 13,
    "start_time": "2022-11-10T19:43:28.779Z"
   },
   {
    "duration": 6,
    "start_time": "2022-11-10T19:43:28.794Z"
   },
   {
    "duration": 5,
    "start_time": "2022-11-10T19:43:28.803Z"
   },
   {
    "duration": 4,
    "start_time": "2022-11-10T19:43:28.850Z"
   },
   {
    "duration": 7,
    "start_time": "2022-11-10T19:43:28.857Z"
   },
   {
    "duration": 6,
    "start_time": "2022-11-10T19:43:28.866Z"
   },
   {
    "duration": 7,
    "start_time": "2022-11-10T19:43:28.875Z"
   },
   {
    "duration": 2390,
    "start_time": "2022-11-10T19:43:28.885Z"
   },
   {
    "duration": 7,
    "start_time": "2022-11-10T19:43:31.351Z"
   },
   {
    "duration": 54,
    "start_time": "2022-11-10T19:43:31.450Z"
   },
   {
    "duration": 55,
    "start_time": "2022-11-10T19:43:31.509Z"
   },
   {
    "duration": 329,
    "start_time": "2022-11-10T19:43:31.566Z"
   },
   {
    "duration": 0,
    "start_time": "2022-11-10T19:43:31.898Z"
   },
   {
    "duration": 0,
    "start_time": "2022-11-10T19:43:31.901Z"
   },
   {
    "duration": 0,
    "start_time": "2022-11-10T19:43:31.911Z"
   },
   {
    "duration": 0,
    "start_time": "2022-11-10T19:43:31.914Z"
   },
   {
    "duration": 0,
    "start_time": "2022-11-10T19:43:31.915Z"
   },
   {
    "duration": 0,
    "start_time": "2022-11-10T19:43:31.917Z"
   },
   {
    "duration": 0,
    "start_time": "2022-11-10T19:43:31.919Z"
   },
   {
    "duration": 0,
    "start_time": "2022-11-10T19:43:31.920Z"
   },
   {
    "duration": 0,
    "start_time": "2022-11-10T19:43:31.937Z"
   },
   {
    "duration": 0,
    "start_time": "2022-11-10T19:43:31.940Z"
   },
   {
    "duration": 0,
    "start_time": "2022-11-10T19:43:31.952Z"
   },
   {
    "duration": 0,
    "start_time": "2022-11-10T19:43:31.953Z"
   },
   {
    "duration": 0,
    "start_time": "2022-11-10T19:43:31.955Z"
   },
   {
    "duration": 0,
    "start_time": "2022-11-10T19:43:31.956Z"
   },
   {
    "duration": 0,
    "start_time": "2022-11-10T19:43:31.958Z"
   },
   {
    "duration": 0,
    "start_time": "2022-11-10T19:43:31.959Z"
   },
   {
    "duration": 4,
    "start_time": "2022-11-10T19:43:59.277Z"
   },
   {
    "duration": 23306,
    "start_time": "2022-11-10T19:44:00.104Z"
   },
   {
    "duration": 4,
    "start_time": "2022-11-10T19:44:27.102Z"
   },
   {
    "duration": 4,
    "start_time": "2022-11-10T19:44:53.642Z"
   },
   {
    "duration": 4,
    "start_time": "2022-11-10T19:44:54.463Z"
   },
   {
    "duration": 274206,
    "start_time": "2022-11-10T19:44:55.509Z"
   },
   {
    "duration": 0,
    "start_time": "2022-11-10T19:49:29.718Z"
   },
   {
    "duration": 19,
    "start_time": "2022-11-10T19:49:35.072Z"
   },
   {
    "duration": 3,
    "start_time": "2022-11-10T19:49:45.875Z"
   },
   {
    "duration": 1170824,
    "start_time": "2022-11-10T19:49:47.139Z"
   },
   {
    "duration": 3,
    "start_time": "2022-11-10T20:11:55.828Z"
   },
   {
    "duration": 12,
    "start_time": "2022-11-10T20:11:57.461Z"
   },
   {
    "duration": 13,
    "start_time": "2022-11-10T20:12:10.394Z"
   },
   {
    "duration": 6,
    "start_time": "2022-11-10T20:14:12.137Z"
   },
   {
    "duration": 4,
    "start_time": "2022-11-10T20:14:47.634Z"
   },
   {
    "duration": 13,
    "start_time": "2022-11-10T20:14:51.621Z"
   },
   {
    "duration": 3,
    "start_time": "2022-11-10T20:15:15.021Z"
   },
   {
    "duration": 13,
    "start_time": "2022-11-10T20:15:15.920Z"
   },
   {
    "duration": 13,
    "start_time": "2022-11-10T20:19:32.521Z"
   },
   {
    "duration": 4,
    "start_time": "2022-11-10T20:20:58.168Z"
   },
   {
    "duration": 13,
    "start_time": "2022-11-10T20:20:59.056Z"
   },
   {
    "duration": 51310,
    "start_time": "2022-11-10T20:21:56.259Z"
   },
   {
    "duration": 5,
    "start_time": "2022-11-10T20:23:34.463Z"
   },
   {
    "duration": 3,
    "start_time": "2022-11-10T20:23:38.036Z"
   },
   {
    "duration": 3,
    "start_time": "2022-11-10T20:23:42.728Z"
   },
   {
    "duration": 3,
    "start_time": "2022-11-10T20:23:43.615Z"
   },
   {
    "duration": 178942,
    "start_time": "2022-11-10T20:23:45.135Z"
   },
   {
    "duration": 4,
    "start_time": "2022-11-10T20:26:56.485Z"
   },
   {
    "duration": 3,
    "start_time": "2022-11-10T20:26:59.311Z"
   },
   {
    "duration": 59,
    "start_time": "2022-11-10T20:27:01.038Z"
   },
   {
    "duration": 5,
    "start_time": "2022-11-10T20:28:11.671Z"
   },
   {
    "duration": 4,
    "start_time": "2022-11-10T20:28:28.765Z"
   },
   {
    "duration": 245424,
    "start_time": "2022-11-10T20:28:32.432Z"
   },
   {
    "duration": 4,
    "start_time": "2022-11-10T20:33:11.003Z"
   },
   {
    "duration": 3,
    "start_time": "2022-11-10T20:33:16.959Z"
   },
   {
    "duration": 3,
    "start_time": "2022-11-10T20:34:15.173Z"
   },
   {
    "duration": 5,
    "start_time": "2022-11-10T20:36:28.325Z"
   },
   {
    "duration": 14,
    "start_time": "2022-11-10T20:42:03.151Z"
   },
   {
    "duration": 4,
    "start_time": "2022-11-10T20:42:17.938Z"
   },
   {
    "duration": 4,
    "start_time": "2022-11-10T20:42:18.639Z"
   },
   {
    "duration": 13,
    "start_time": "2022-11-10T20:42:24.611Z"
   },
   {
    "duration": 5,
    "start_time": "2022-11-10T20:42:51.233Z"
   },
   {
    "duration": 5,
    "start_time": "2022-11-10T20:43:38.044Z"
   },
   {
    "duration": 8046,
    "start_time": "2022-11-10T20:43:59.224Z"
   },
   {
    "duration": 33174,
    "start_time": "2022-11-10T20:44:43.365Z"
   },
   {
    "duration": 4,
    "start_time": "2022-11-10T20:45:23.807Z"
   },
   {
    "duration": 5,
    "start_time": "2022-11-10T20:48:53.804Z"
   },
   {
    "duration": 73,
    "start_time": "2022-11-10T20:50:38.066Z"
   },
   {
    "duration": 4,
    "start_time": "2022-11-10T20:51:30.381Z"
   },
   {
    "duration": 3,
    "start_time": "2022-11-10T20:51:38.066Z"
   },
   {
    "duration": 34905,
    "start_time": "2022-11-10T20:51:40.136Z"
   },
   {
    "duration": 4,
    "start_time": "2022-11-10T20:52:36.455Z"
   },
   {
    "duration": 8033,
    "start_time": "2022-11-10T20:53:57.050Z"
   },
   {
    "duration": 256,
    "start_time": "2022-11-10T20:55:22.509Z"
   },
   {
    "duration": 206,
    "start_time": "2022-11-10T20:56:36.851Z"
   },
   {
    "duration": 11,
    "start_time": "2022-11-10T20:58:31.251Z"
   },
   {
    "duration": 517,
    "start_time": "2022-11-10T21:16:18.982Z"
   },
   {
    "duration": 2934,
    "start_time": "2022-11-10T21:16:38.023Z"
   },
   {
    "duration": 1998,
    "start_time": "2022-11-10T21:18:19.071Z"
   },
   {
    "duration": 1807,
    "start_time": "2022-11-10T21:21:34.970Z"
   },
   {
    "duration": 3,
    "start_time": "2022-11-10T21:21:36.779Z"
   },
   {
    "duration": 229,
    "start_time": "2022-11-10T21:21:36.784Z"
   },
   {
    "duration": 4,
    "start_time": "2022-11-10T21:21:37.015Z"
   },
   {
    "duration": 7,
    "start_time": "2022-11-10T21:21:37.021Z"
   },
   {
    "duration": 37,
    "start_time": "2022-11-10T21:21:37.030Z"
   },
   {
    "duration": 16,
    "start_time": "2022-11-10T21:21:37.069Z"
   },
   {
    "duration": 4,
    "start_time": "2022-11-10T21:21:37.087Z"
   },
   {
    "duration": 24,
    "start_time": "2022-11-10T21:21:37.093Z"
   },
   {
    "duration": 7,
    "start_time": "2022-11-10T21:21:37.119Z"
   },
   {
    "duration": 33,
    "start_time": "2022-11-10T21:21:37.127Z"
   },
   {
    "duration": 4,
    "start_time": "2022-11-10T21:21:37.162Z"
   },
   {
    "duration": 9,
    "start_time": "2022-11-10T21:21:37.168Z"
   },
   {
    "duration": 615,
    "start_time": "2022-11-10T21:21:37.178Z"
   },
   {
    "duration": 446,
    "start_time": "2022-11-10T21:21:37.796Z"
   },
   {
    "duration": 1249,
    "start_time": "2022-11-10T21:21:38.244Z"
   },
   {
    "duration": 66,
    "start_time": "2022-11-10T21:21:39.495Z"
   },
   {
    "duration": 49308,
    "start_time": "2022-11-10T21:21:39.563Z"
   },
   {
    "duration": 728,
    "start_time": "2022-11-10T21:22:28.873Z"
   },
   {
    "duration": 24,
    "start_time": "2022-11-10T21:22:29.602Z"
   },
   {
    "duration": 589,
    "start_time": "2022-11-10T21:22:29.629Z"
   },
   {
    "duration": 374,
    "start_time": "2022-11-10T21:22:30.220Z"
   },
   {
    "duration": 60,
    "start_time": "2022-11-10T21:22:30.597Z"
   },
   {
    "duration": 111,
    "start_time": "2022-11-10T21:22:30.660Z"
   },
   {
    "duration": 7,
    "start_time": "2022-11-10T21:22:30.773Z"
   },
   {
    "duration": 55,
    "start_time": "2022-11-10T21:22:30.781Z"
   },
   {
    "duration": 66,
    "start_time": "2022-11-10T21:22:30.839Z"
   },
   {
    "duration": 7259,
    "start_time": "2022-11-10T21:22:30.910Z"
   },
   {
    "duration": 22,
    "start_time": "2022-11-10T21:22:38.173Z"
   },
   {
    "duration": 35,
    "start_time": "2022-11-10T21:22:38.197Z"
   },
   {
    "duration": 67,
    "start_time": "2022-11-10T21:22:38.234Z"
   },
   {
    "duration": 7,
    "start_time": "2022-11-10T21:22:38.303Z"
   },
   {
    "duration": 7472,
    "start_time": "2022-11-10T21:22:38.312Z"
   },
   {
    "duration": 7,
    "start_time": "2022-11-10T21:22:45.786Z"
   },
   {
    "duration": 16,
    "start_time": "2022-11-10T21:22:45.795Z"
   },
   {
    "duration": 31,
    "start_time": "2022-11-10T21:22:45.813Z"
   },
   {
    "duration": 33,
    "start_time": "2022-11-10T21:22:45.850Z"
   },
   {
    "duration": 45,
    "start_time": "2022-11-10T21:22:45.885Z"
   },
   {
    "duration": 24,
    "start_time": "2022-11-10T21:22:45.932Z"
   },
   {
    "duration": 30,
    "start_time": "2022-11-10T21:22:45.959Z"
   },
   {
    "duration": 29,
    "start_time": "2022-11-10T21:22:45.990Z"
   },
   {
    "duration": 486,
    "start_time": "2022-11-10T21:22:46.021Z"
   },
   {
    "duration": 8,
    "start_time": "2022-11-10T21:22:46.509Z"
   },
   {
    "duration": 26,
    "start_time": "2022-11-10T21:22:46.519Z"
   },
   {
    "duration": 36,
    "start_time": "2022-11-10T21:22:46.551Z"
   },
   {
    "duration": 28,
    "start_time": "2022-11-10T21:22:46.589Z"
   },
   {
    "duration": 16,
    "start_time": "2022-11-10T21:22:46.619Z"
   },
   {
    "duration": 18,
    "start_time": "2022-11-10T21:22:46.636Z"
   },
   {
    "duration": 31,
    "start_time": "2022-11-10T21:22:46.656Z"
   },
   {
    "duration": 8,
    "start_time": "2022-11-10T21:22:46.689Z"
   },
   {
    "duration": 620,
    "start_time": "2022-11-10T21:22:46.699Z"
   },
   {
    "duration": 955,
    "start_time": "2022-11-10T21:22:47.321Z"
   },
   {
    "duration": 621,
    "start_time": "2022-11-10T21:22:48.278Z"
   },
   {
    "duration": 14,
    "start_time": "2022-11-10T21:22:48.901Z"
   },
   {
    "duration": 19,
    "start_time": "2022-11-10T21:22:48.917Z"
   },
   {
    "duration": 44,
    "start_time": "2022-11-10T21:22:48.950Z"
   },
   {
    "duration": 5,
    "start_time": "2022-11-10T21:22:48.996Z"
   },
   {
    "duration": 32,
    "start_time": "2022-11-10T21:22:49.003Z"
   },
   {
    "duration": 9,
    "start_time": "2022-11-10T21:22:49.051Z"
   },
   {
    "duration": 9,
    "start_time": "2022-11-10T21:22:49.062Z"
   },
   {
    "duration": 6,
    "start_time": "2022-11-10T21:22:49.073Z"
   },
   {
    "duration": 2046,
    "start_time": "2022-11-10T21:22:49.083Z"
   },
   {
    "duration": 21,
    "start_time": "2022-11-10T21:22:51.131Z"
   },
   {
    "duration": 51,
    "start_time": "2022-11-10T21:22:51.155Z"
   },
   {
    "duration": 68,
    "start_time": "2022-11-10T21:22:51.208Z"
   },
   {
    "duration": 28,
    "start_time": "2022-11-10T21:22:51.279Z"
   },
   {
    "duration": 3574,
    "start_time": "2022-11-10T21:22:51.309Z"
   },
   {
    "duration": 5,
    "start_time": "2022-11-10T21:22:54.885Z"
   },
   {
    "duration": 15,
    "start_time": "2022-11-10T21:22:54.892Z"
   },
   {
    "duration": 14,
    "start_time": "2022-11-10T21:22:54.908Z"
   },
   {
    "duration": 13,
    "start_time": "2022-11-10T21:22:54.924Z"
   },
   {
    "duration": 13,
    "start_time": "2022-11-10T21:22:54.951Z"
   },
   {
    "duration": 18,
    "start_time": "2022-11-10T21:22:54.967Z"
   },
   {
    "duration": 8,
    "start_time": "2022-11-10T21:22:54.988Z"
   },
   {
    "duration": 11,
    "start_time": "2022-11-10T21:22:54.998Z"
   },
   {
    "duration": 35,
    "start_time": "2022-11-10T21:22:55.011Z"
   },
   {
    "duration": 35,
    "start_time": "2022-11-10T21:22:55.048Z"
   },
   {
    "duration": 10,
    "start_time": "2022-11-10T21:22:55.085Z"
   },
   {
    "duration": 22,
    "start_time": "2022-11-10T21:22:55.098Z"
   },
   {
    "duration": 20,
    "start_time": "2022-11-10T21:22:55.123Z"
   },
   {
    "duration": 4244,
    "start_time": "2022-11-10T21:22:55.146Z"
   },
   {
    "duration": 360,
    "start_time": "2022-11-10T21:22:59.397Z"
   },
   {
    "duration": 16,
    "start_time": "2022-11-10T21:22:59.761Z"
   },
   {
    "duration": 28,
    "start_time": "2022-11-10T21:22:59.779Z"
   },
   {
    "duration": 68,
    "start_time": "2022-11-10T21:22:59.810Z"
   },
   {
    "duration": 5,
    "start_time": "2022-11-10T21:22:59.880Z"
   },
   {
    "duration": 26,
    "start_time": "2022-11-10T21:22:59.887Z"
   },
   {
    "duration": 231,
    "start_time": "2022-11-10T21:22:59.915Z"
   },
   {
    "duration": 12,
    "start_time": "2022-11-10T21:23:00.148Z"
   },
   {
    "duration": 51,
    "start_time": "2022-11-10T21:23:00.162Z"
   },
   {
    "duration": 38,
    "start_time": "2022-11-10T21:23:00.215Z"
   },
   {
    "duration": 36,
    "start_time": "2022-11-10T21:23:00.256Z"
   },
   {
    "duration": 6,
    "start_time": "2022-11-10T21:23:00.294Z"
   },
   {
    "duration": 25,
    "start_time": "2022-11-10T21:23:00.303Z"
   },
   {
    "duration": 50,
    "start_time": "2022-11-10T21:23:00.329Z"
   },
   {
    "duration": 29,
    "start_time": "2022-11-10T21:23:00.383Z"
   },
   {
    "duration": 30,
    "start_time": "2022-11-10T21:23:00.414Z"
   },
   {
    "duration": 36,
    "start_time": "2022-11-10T21:23:00.447Z"
   },
   {
    "duration": 43,
    "start_time": "2022-11-10T21:23:00.485Z"
   },
   {
    "duration": 2228,
    "start_time": "2022-11-10T21:23:00.529Z"
   },
   {
    "duration": 5,
    "start_time": "2022-11-10T21:23:02.759Z"
   },
   {
    "duration": 202,
    "start_time": "2022-11-10T21:23:02.767Z"
   },
   {
    "duration": 17,
    "start_time": "2022-11-10T21:23:02.971Z"
   },
   {
    "duration": 23511,
    "start_time": "2022-11-10T21:23:02.990Z"
   },
   {
    "duration": 3,
    "start_time": "2022-11-10T21:23:26.503Z"
   },
   {
    "duration": 9,
    "start_time": "2022-11-10T21:23:26.508Z"
   },
   {
    "duration": 10,
    "start_time": "2022-11-10T21:23:26.518Z"
   },
   {
    "duration": 300722,
    "start_time": "2022-11-10T21:23:26.530Z"
   },
   {
    "duration": 3,
    "start_time": "2022-11-10T21:28:27.254Z"
   },
   {
    "duration": 28,
    "start_time": "2022-11-10T21:28:27.259Z"
   },
   {
    "duration": 33793,
    "start_time": "2022-11-10T21:28:27.289Z"
   },
   {
    "duration": 4,
    "start_time": "2022-11-10T21:29:01.084Z"
   },
   {
    "duration": 12,
    "start_time": "2022-11-10T21:29:01.151Z"
   },
   {
    "duration": 44,
    "start_time": "2022-11-10T21:29:01.166Z"
   },
   {
    "duration": 35,
    "start_time": "2022-11-10T21:29:01.212Z"
   },
   {
    "duration": 8042,
    "start_time": "2022-11-10T21:29:01.250Z"
   },
   {
    "duration": 188,
    "start_time": "2022-11-10T21:29:09.294Z"
   },
   {
    "duration": 4,
    "start_time": "2022-11-10T21:29:09.552Z"
   },
   {
    "duration": 105,
    "start_time": "2022-11-10T21:29:09.558Z"
   },
   {
    "duration": 6,
    "start_time": "2022-11-10T21:29:09.666Z"
   },
   {
    "duration": 171698,
    "start_time": "2022-11-10T21:29:09.674Z"
   },
   {
    "duration": 4,
    "start_time": "2022-11-10T21:32:01.374Z"
   },
   {
    "duration": 26,
    "start_time": "2022-11-10T21:32:01.380Z"
   },
   {
    "duration": 80,
    "start_time": "2022-11-10T21:32:01.408Z"
   },
   {
    "duration": 187,
    "start_time": "2022-11-10T21:32:01.490Z"
   },
   {
    "duration": 76,
    "start_time": "2022-11-10T21:32:01.679Z"
   },
   {
    "duration": 9,
    "start_time": "2022-11-10T21:32:01.850Z"
   },
   {
    "duration": 140,
    "start_time": "2022-11-10T21:46:08.087Z"
   },
   {
    "duration": 10,
    "start_time": "2022-11-10T21:46:12.410Z"
   },
   {
    "duration": 14,
    "start_time": "2022-11-10T21:46:29.780Z"
   },
   {
    "duration": 15,
    "start_time": "2022-11-10T21:46:38.024Z"
   },
   {
    "duration": 12,
    "start_time": "2022-11-10T21:46:52.277Z"
   },
   {
    "duration": 2486,
    "start_time": "2022-11-10T21:49:41.576Z"
   },
   {
    "duration": 10,
    "start_time": "2022-11-10T21:49:53.508Z"
   },
   {
    "duration": 14,
    "start_time": "2022-11-10T21:50:05.247Z"
   },
   {
    "duration": 339,
    "start_time": "2022-11-10T21:50:19.745Z"
   },
   {
    "duration": 12,
    "start_time": "2022-11-10T21:50:27.572Z"
   },
   {
    "duration": 294,
    "start_time": "2022-11-10T21:50:34.094Z"
   },
   {
    "duration": 69,
    "start_time": "2022-11-10T21:52:02.122Z"
   },
   {
    "duration": 989,
    "start_time": "2022-11-10T21:52:07.116Z"
   },
   {
    "duration": 308,
    "start_time": "2022-11-10T21:52:33.104Z"
   },
   {
    "duration": 336,
    "start_time": "2022-11-10T21:52:56.361Z"
   },
   {
    "duration": 73,
    "start_time": "2022-11-10T21:56:34.781Z"
   },
   {
    "duration": 318,
    "start_time": "2022-11-10T21:56:52.016Z"
   },
   {
    "duration": 1799,
    "start_time": "2022-11-10T22:30:12.127Z"
   },
   {
    "duration": 4,
    "start_time": "2022-11-10T22:30:13.929Z"
   },
   {
    "duration": 250,
    "start_time": "2022-11-10T22:30:13.935Z"
   },
   {
    "duration": 6,
    "start_time": "2022-11-10T22:30:14.187Z"
   },
   {
    "duration": 22,
    "start_time": "2022-11-10T22:30:14.195Z"
   },
   {
    "duration": 23,
    "start_time": "2022-11-10T22:30:14.219Z"
   },
   {
    "duration": 17,
    "start_time": "2022-11-10T22:30:14.244Z"
   },
   {
    "duration": 4,
    "start_time": "2022-11-10T22:30:14.263Z"
   },
   {
    "duration": 30,
    "start_time": "2022-11-10T22:30:14.270Z"
   },
   {
    "duration": 8,
    "start_time": "2022-11-10T22:30:14.302Z"
   },
   {
    "duration": 31,
    "start_time": "2022-11-10T22:30:14.312Z"
   },
   {
    "duration": 10,
    "start_time": "2022-11-10T22:30:14.350Z"
   },
   {
    "duration": 9,
    "start_time": "2022-11-10T22:30:14.362Z"
   },
   {
    "duration": 722,
    "start_time": "2022-11-10T22:30:14.376Z"
   },
   {
    "duration": 467,
    "start_time": "2022-11-10T22:30:15.100Z"
   },
   {
    "duration": 716,
    "start_time": "2022-11-10T22:30:15.569Z"
   },
   {
    "duration": 10,
    "start_time": "2022-11-10T22:30:16.288Z"
   },
   {
    "duration": 43668,
    "start_time": "2022-11-10T22:30:16.300Z"
   },
   {
    "duration": 709,
    "start_time": "2022-11-10T22:30:59.970Z"
   },
   {
    "duration": 23,
    "start_time": "2022-11-10T22:31:00.682Z"
   },
   {
    "duration": 19,
    "start_time": "2022-11-10T22:31:00.707Z"
   },
   {
    "duration": 10,
    "start_time": "2022-11-10T22:31:00.728Z"
   },
   {
    "duration": 20,
    "start_time": "2022-11-10T22:31:00.751Z"
   },
   {
    "duration": 75,
    "start_time": "2022-11-10T22:31:00.773Z"
   },
   {
    "duration": 7,
    "start_time": "2022-11-10T22:31:00.850Z"
   },
   {
    "duration": 23,
    "start_time": "2022-11-10T22:31:00.858Z"
   },
   {
    "duration": 17,
    "start_time": "2022-11-10T22:31:00.883Z"
   },
   {
    "duration": 6691,
    "start_time": "2022-11-10T22:31:00.902Z"
   },
   {
    "duration": 17,
    "start_time": "2022-11-10T22:31:07.595Z"
   },
   {
    "duration": 20,
    "start_time": "2022-11-10T22:31:07.613Z"
   },
   {
    "duration": 56,
    "start_time": "2022-11-10T22:31:07.636Z"
   },
   {
    "duration": 7,
    "start_time": "2022-11-10T22:31:07.694Z"
   },
   {
    "duration": 6189,
    "start_time": "2022-11-10T22:31:07.703Z"
   },
   {
    "duration": 10,
    "start_time": "2022-11-10T22:31:13.894Z"
   },
   {
    "duration": 19,
    "start_time": "2022-11-10T22:31:13.906Z"
   },
   {
    "duration": 27,
    "start_time": "2022-11-10T22:31:13.927Z"
   },
   {
    "duration": 4,
    "start_time": "2022-11-10T22:31:13.955Z"
   },
   {
    "duration": 15,
    "start_time": "2022-11-10T22:31:13.961Z"
   },
   {
    "duration": 9,
    "start_time": "2022-11-10T22:31:13.978Z"
   },
   {
    "duration": 14,
    "start_time": "2022-11-10T22:31:13.989Z"
   },
   {
    "duration": 6,
    "start_time": "2022-11-10T22:31:14.010Z"
   },
   {
    "duration": 459,
    "start_time": "2022-11-10T22:31:14.018Z"
   },
   {
    "duration": 10,
    "start_time": "2022-11-10T22:31:14.479Z"
   },
   {
    "duration": 13,
    "start_time": "2022-11-10T22:31:14.490Z"
   },
   {
    "duration": 13,
    "start_time": "2022-11-10T22:31:14.505Z"
   },
   {
    "duration": 32,
    "start_time": "2022-11-10T22:31:14.520Z"
   },
   {
    "duration": 9,
    "start_time": "2022-11-10T22:31:14.555Z"
   },
   {
    "duration": 8,
    "start_time": "2022-11-10T22:31:14.565Z"
   },
   {
    "duration": 9,
    "start_time": "2022-11-10T22:31:14.575Z"
   },
   {
    "duration": 7,
    "start_time": "2022-11-10T22:31:14.586Z"
   },
   {
    "duration": 598,
    "start_time": "2022-11-10T22:31:14.595Z"
   },
   {
    "duration": 918,
    "start_time": "2022-11-10T22:31:15.196Z"
   },
   {
    "duration": 593,
    "start_time": "2022-11-10T22:31:16.116Z"
   },
   {
    "duration": 14,
    "start_time": "2022-11-10T22:31:16.711Z"
   },
   {
    "duration": 26,
    "start_time": "2022-11-10T22:31:16.727Z"
   },
   {
    "duration": 39,
    "start_time": "2022-11-10T22:31:16.755Z"
   },
   {
    "duration": 5,
    "start_time": "2022-11-10T22:31:16.795Z"
   },
   {
    "duration": 15,
    "start_time": "2022-11-10T22:31:16.802Z"
   },
   {
    "duration": 33,
    "start_time": "2022-11-10T22:31:16.819Z"
   },
   {
    "duration": 13,
    "start_time": "2022-11-10T22:31:16.854Z"
   },
   {
    "duration": 9,
    "start_time": "2022-11-10T22:31:16.871Z"
   },
   {
    "duration": 1839,
    "start_time": "2022-11-10T22:31:16.881Z"
   },
   {
    "duration": 28,
    "start_time": "2022-11-10T22:31:18.722Z"
   },
   {
    "duration": 17,
    "start_time": "2022-11-10T22:31:18.752Z"
   },
   {
    "duration": 34,
    "start_time": "2022-11-10T22:31:18.771Z"
   },
   {
    "duration": 7,
    "start_time": "2022-11-10T22:31:18.807Z"
   },
   {
    "duration": 3507,
    "start_time": "2022-11-10T22:31:18.815Z"
   },
   {
    "duration": 4,
    "start_time": "2022-11-10T22:31:22.324Z"
   },
   {
    "duration": 8,
    "start_time": "2022-11-10T22:31:22.330Z"
   },
   {
    "duration": 7,
    "start_time": "2022-11-10T22:31:22.351Z"
   },
   {
    "duration": 9,
    "start_time": "2022-11-10T22:31:22.360Z"
   },
   {
    "duration": 6,
    "start_time": "2022-11-10T22:31:22.371Z"
   },
   {
    "duration": 8,
    "start_time": "2022-11-10T22:31:22.379Z"
   },
   {
    "duration": 7,
    "start_time": "2022-11-10T22:31:22.389Z"
   },
   {
    "duration": 6,
    "start_time": "2022-11-10T22:31:22.397Z"
   },
   {
    "duration": 51,
    "start_time": "2022-11-10T22:31:22.405Z"
   },
   {
    "duration": 8,
    "start_time": "2022-11-10T22:31:22.458Z"
   },
   {
    "duration": 8,
    "start_time": "2022-11-10T22:31:22.467Z"
   },
   {
    "duration": 13,
    "start_time": "2022-11-10T22:31:22.478Z"
   },
   {
    "duration": 5,
    "start_time": "2022-11-10T22:31:22.493Z"
   },
   {
    "duration": 3716,
    "start_time": "2022-11-10T22:31:22.500Z"
   },
   {
    "duration": 274,
    "start_time": "2022-11-10T22:31:26.218Z"
   },
   {
    "duration": 9,
    "start_time": "2022-11-10T22:31:26.494Z"
   },
   {
    "duration": 17,
    "start_time": "2022-11-10T22:31:26.505Z"
   },
   {
    "duration": 33,
    "start_time": "2022-11-10T22:31:26.524Z"
   },
   {
    "duration": 4,
    "start_time": "2022-11-10T22:31:26.559Z"
   },
   {
    "duration": 16,
    "start_time": "2022-11-10T22:31:26.565Z"
   },
   {
    "duration": 214,
    "start_time": "2022-11-10T22:31:26.583Z"
   },
   {
    "duration": 9,
    "start_time": "2022-11-10T22:31:26.799Z"
   },
   {
    "duration": 9,
    "start_time": "2022-11-10T22:31:26.810Z"
   },
   {
    "duration": 39,
    "start_time": "2022-11-10T22:31:26.820Z"
   },
   {
    "duration": 29,
    "start_time": "2022-11-10T22:31:26.861Z"
   },
   {
    "duration": 5,
    "start_time": "2022-11-10T22:31:26.892Z"
   },
   {
    "duration": 6,
    "start_time": "2022-11-10T22:31:26.899Z"
   },
   {
    "duration": 12,
    "start_time": "2022-11-10T22:31:26.907Z"
   },
   {
    "duration": 32,
    "start_time": "2022-11-10T22:31:26.921Z"
   },
   {
    "duration": 6,
    "start_time": "2022-11-10T22:31:26.955Z"
   },
   {
    "duration": 8,
    "start_time": "2022-11-10T22:31:26.963Z"
   },
   {
    "duration": 8,
    "start_time": "2022-11-10T22:31:26.973Z"
   },
   {
    "duration": 2273,
    "start_time": "2022-11-10T22:31:26.982Z"
   },
   {
    "duration": 4,
    "start_time": "2022-11-10T22:31:29.258Z"
   },
   {
    "duration": 115,
    "start_time": "2022-11-10T22:31:29.352Z"
   },
   {
    "duration": 24,
    "start_time": "2022-11-10T22:31:29.469Z"
   },
   {
    "duration": 22609,
    "start_time": "2022-11-10T22:31:29.495Z"
   },
   {
    "duration": 3,
    "start_time": "2022-11-10T22:31:52.106Z"
   },
   {
    "duration": 14,
    "start_time": "2022-11-10T22:31:52.111Z"
   },
   {
    "duration": 13,
    "start_time": "2022-11-10T22:31:52.127Z"
   },
   {
    "duration": 240210,
    "start_time": "2022-11-10T22:31:52.142Z"
   },
   {
    "duration": 3,
    "start_time": "2022-11-10T22:35:52.355Z"
   },
   {
    "duration": 19,
    "start_time": "2022-11-10T22:35:52.360Z"
   },
   {
    "duration": 31273,
    "start_time": "2022-11-10T22:35:52.381Z"
   },
   {
    "duration": 4,
    "start_time": "2022-11-10T22:36:23.657Z"
   },
   {
    "duration": 6,
    "start_time": "2022-11-10T22:36:23.663Z"
   },
   {
    "duration": 6,
    "start_time": "2022-11-10T22:36:23.671Z"
   },
   {
    "duration": 13,
    "start_time": "2022-11-10T22:36:23.678Z"
   },
   {
    "duration": 7907,
    "start_time": "2022-11-10T22:36:23.693Z"
   },
   {
    "duration": 180,
    "start_time": "2022-11-10T22:36:31.602Z"
   },
   {
    "duration": 3,
    "start_time": "2022-11-10T22:36:31.852Z"
   },
   {
    "duration": 100,
    "start_time": "2022-11-10T22:36:31.857Z"
   },
   {
    "duration": 5,
    "start_time": "2022-11-10T22:36:31.959Z"
   },
   {
    "duration": 170487,
    "start_time": "2022-11-10T22:36:31.965Z"
   },
   {
    "duration": 4,
    "start_time": "2022-11-10T22:39:22.461Z"
   },
   {
    "duration": 6,
    "start_time": "2022-11-10T22:39:22.467Z"
   },
   {
    "duration": 75,
    "start_time": "2022-11-10T22:39:22.475Z"
   },
   {
    "duration": 372,
    "start_time": "2022-11-10T22:39:22.553Z"
   },
   {
    "duration": 230,
    "start_time": "2022-11-10T22:39:22.927Z"
   },
   {
    "duration": 91,
    "start_time": "2022-11-10T22:39:23.160Z"
   },
   {
    "duration": 2111,
    "start_time": "2022-11-11T13:49:33.530Z"
   },
   {
    "duration": 3,
    "start_time": "2022-11-11T13:49:35.643Z"
   },
   {
    "duration": 652,
    "start_time": "2022-11-11T13:49:35.647Z"
   },
   {
    "duration": 4,
    "start_time": "2022-11-11T13:49:38.333Z"
   },
   {
    "duration": 3,
    "start_time": "2022-11-11T13:49:38.512Z"
   },
   {
    "duration": 15,
    "start_time": "2022-11-11T13:49:38.840Z"
   },
   {
    "duration": 16,
    "start_time": "2022-11-11T13:49:39.025Z"
   },
   {
    "duration": 3,
    "start_time": "2022-11-11T13:49:39.400Z"
   },
   {
    "duration": 17,
    "start_time": "2022-11-11T13:49:39.575Z"
   },
   {
    "duration": 6,
    "start_time": "2022-11-11T13:49:39.747Z"
   },
   {
    "duration": 10,
    "start_time": "2022-11-11T13:49:39.924Z"
   },
   {
    "duration": 5,
    "start_time": "2022-11-11T13:49:40.410Z"
   },
   {
    "duration": 6,
    "start_time": "2022-11-11T13:49:40.740Z"
   },
   {
    "duration": 540,
    "start_time": "2022-11-11T13:49:41.242Z"
   },
   {
    "duration": 418,
    "start_time": "2022-11-11T13:49:41.784Z"
   },
   {
    "duration": 600,
    "start_time": "2022-11-11T13:49:42.204Z"
   },
   {
    "duration": 8,
    "start_time": "2022-11-11T13:49:42.806Z"
   },
   {
    "duration": 36021,
    "start_time": "2022-11-11T13:49:42.816Z"
   },
   {
    "duration": 3651,
    "start_time": "2022-11-11T13:50:18.838Z"
   },
   {
    "duration": 17,
    "start_time": "2022-11-11T13:50:22.491Z"
   },
   {
    "duration": 15,
    "start_time": "2022-11-11T13:50:22.510Z"
   },
   {
    "duration": 23,
    "start_time": "2022-11-11T13:50:22.526Z"
   },
   {
    "duration": 21,
    "start_time": "2022-11-11T13:50:22.551Z"
   },
   {
    "duration": 52,
    "start_time": "2022-11-11T13:50:22.573Z"
   },
   {
    "duration": 19,
    "start_time": "2022-11-11T13:50:22.628Z"
   },
   {
    "duration": 12,
    "start_time": "2022-11-11T13:50:22.649Z"
   },
   {
    "duration": 4,
    "start_time": "2022-11-11T13:50:22.662Z"
   },
   {
    "duration": 2432,
    "start_time": "2022-11-11T13:50:22.668Z"
   },
   {
    "duration": 15,
    "start_time": "2022-11-11T13:50:25.102Z"
   },
   {
    "duration": 12,
    "start_time": "2022-11-11T13:50:25.119Z"
   },
   {
    "duration": 43,
    "start_time": "2022-11-11T13:50:25.146Z"
   },
   {
    "duration": 5,
    "start_time": "2022-11-11T13:50:25.191Z"
   },
   {
    "duration": 5704,
    "start_time": "2022-11-11T13:50:25.198Z"
   },
   {
    "duration": 7,
    "start_time": "2022-11-11T13:50:30.904Z"
   },
   {
    "duration": 34,
    "start_time": "2022-11-11T13:50:30.913Z"
   },
   {
    "duration": 45,
    "start_time": "2022-11-11T13:50:30.949Z"
   },
   {
    "duration": 15,
    "start_time": "2022-11-11T13:50:30.996Z"
   },
   {
    "duration": 24,
    "start_time": "2022-11-11T13:50:31.013Z"
   },
   {
    "duration": 23,
    "start_time": "2022-11-11T13:50:31.039Z"
   },
   {
    "duration": 15,
    "start_time": "2022-11-11T13:50:31.066Z"
   },
   {
    "duration": 32,
    "start_time": "2022-11-11T13:50:31.083Z"
   },
   {
    "duration": 392,
    "start_time": "2022-11-11T13:50:31.117Z"
   },
   {
    "duration": 8,
    "start_time": "2022-11-11T13:50:31.511Z"
   },
   {
    "duration": 31,
    "start_time": "2022-11-11T13:50:31.520Z"
   },
   {
    "duration": 26,
    "start_time": "2022-11-11T13:50:31.553Z"
   },
   {
    "duration": 14,
    "start_time": "2022-11-11T13:50:31.581Z"
   },
   {
    "duration": 20,
    "start_time": "2022-11-11T13:50:31.597Z"
   },
   {
    "duration": 21,
    "start_time": "2022-11-11T13:50:31.619Z"
   },
   {
    "duration": 35,
    "start_time": "2022-11-11T13:50:31.641Z"
   },
   {
    "duration": 17,
    "start_time": "2022-11-11T13:50:31.678Z"
   },
   {
    "duration": 439,
    "start_time": "2022-11-11T13:50:31.696Z"
   },
   {
    "duration": 923,
    "start_time": "2022-11-11T13:50:32.137Z"
   },
   {
    "duration": 425,
    "start_time": "2022-11-11T13:50:33.062Z"
   },
   {
    "duration": 15,
    "start_time": "2022-11-11T13:50:33.489Z"
   },
   {
    "duration": 11,
    "start_time": "2022-11-11T13:50:33.506Z"
   },
   {
    "duration": 52,
    "start_time": "2022-11-11T13:50:33.518Z"
   },
   {
    "duration": 4,
    "start_time": "2022-11-11T13:50:33.571Z"
   },
   {
    "duration": 17,
    "start_time": "2022-11-11T13:50:33.577Z"
   },
   {
    "duration": 10,
    "start_time": "2022-11-11T13:50:33.596Z"
   },
   {
    "duration": 6,
    "start_time": "2022-11-11T13:50:33.608Z"
   },
   {
    "duration": 5,
    "start_time": "2022-11-11T13:50:33.615Z"
   },
   {
    "duration": 1707,
    "start_time": "2022-11-11T13:50:33.621Z"
   },
   {
    "duration": 18,
    "start_time": "2022-11-11T13:50:35.330Z"
   },
   {
    "duration": 24,
    "start_time": "2022-11-11T13:50:35.350Z"
   },
   {
    "duration": 29,
    "start_time": "2022-11-11T13:50:35.375Z"
   },
   {
    "duration": 6,
    "start_time": "2022-11-11T13:50:35.406Z"
   },
   {
    "duration": 2940,
    "start_time": "2022-11-11T13:50:35.413Z"
   },
   {
    "duration": 4,
    "start_time": "2022-11-11T13:50:38.354Z"
   },
   {
    "duration": 14,
    "start_time": "2022-11-11T13:50:38.359Z"
   },
   {
    "duration": 7,
    "start_time": "2022-11-11T13:50:38.375Z"
   },
   {
    "duration": 19,
    "start_time": "2022-11-11T13:50:38.383Z"
   },
   {
    "duration": 7,
    "start_time": "2022-11-11T13:50:38.403Z"
   },
   {
    "duration": 9,
    "start_time": "2022-11-11T13:50:38.411Z"
   },
   {
    "duration": 29,
    "start_time": "2022-11-11T13:50:38.421Z"
   },
   {
    "duration": 5,
    "start_time": "2022-11-11T13:50:38.452Z"
   },
   {
    "duration": 9,
    "start_time": "2022-11-11T13:50:38.459Z"
   },
   {
    "duration": 7,
    "start_time": "2022-11-11T13:50:38.469Z"
   },
   {
    "duration": 5,
    "start_time": "2022-11-11T13:50:38.477Z"
   },
   {
    "duration": 9,
    "start_time": "2022-11-11T13:50:38.484Z"
   },
   {
    "duration": 5,
    "start_time": "2022-11-11T13:51:13.525Z"
   },
   {
    "duration": 6,
    "start_time": "2022-11-11T13:53:14.490Z"
   },
   {
    "duration": 3167,
    "start_time": "2022-11-11T13:53:15.350Z"
   },
   {
    "duration": 334,
    "start_time": "2022-11-11T13:53:18.519Z"
   },
   {
    "duration": 8,
    "start_time": "2022-11-11T13:53:18.855Z"
   },
   {
    "duration": 11,
    "start_time": "2022-11-11T13:53:19.546Z"
   },
   {
    "duration": 18,
    "start_time": "2022-11-11T13:53:19.853Z"
   },
   {
    "duration": 3,
    "start_time": "2022-11-11T13:53:20.180Z"
   },
   {
    "duration": 13,
    "start_time": "2022-11-11T13:53:20.421Z"
   },
   {
    "duration": 82,
    "start_time": "2022-11-11T13:53:22.203Z"
   },
   {
    "duration": 9,
    "start_time": "2022-11-11T13:53:23.546Z"
   },
   {
    "duration": 8,
    "start_time": "2022-11-11T13:53:24.039Z"
   },
   {
    "duration": 19,
    "start_time": "2022-11-11T13:53:25.167Z"
   },
   {
    "duration": 26,
    "start_time": "2022-11-11T13:53:25.533Z"
   },
   {
    "duration": 11,
    "start_time": "2022-11-11T13:53:26.146Z"
   }
  ],
  "kernelspec": {
   "display_name": "Python 3 (ipykernel)",
   "language": "python",
   "name": "python3"
  },
  "language_info": {
   "codemirror_mode": {
    "name": "ipython",
    "version": 3
   },
   "file_extension": ".py",
   "mimetype": "text/x-python",
   "name": "python",
   "nbconvert_exporter": "python",
   "pygments_lexer": "ipython3",
   "version": "3.9.12"
  },
  "toc": {
   "base_numbering": 1,
   "nav_menu": {},
   "number_sections": true,
   "sideBar": true,
   "skip_h1_title": true,
   "title_cell": "Table of Contents",
   "title_sidebar": "Contents",
   "toc_cell": true,
   "toc_position": {
    "height": "calc(100% - 180px)",
    "left": "10px",
    "top": "150px",
    "width": "366.2px"
   },
   "toc_section_display": true,
   "toc_window_display": true
  }
 },
 "nbformat": 4,
 "nbformat_minor": 2
}
