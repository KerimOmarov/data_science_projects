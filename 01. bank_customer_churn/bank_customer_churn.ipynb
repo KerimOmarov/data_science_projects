{
 "cells": [
  {
   "cell_type": "markdown",
   "id": "56f556fc",
   "metadata": {},
   "source": [
    "# Bank Customer Churn"
   ]
  },
  {
   "cell_type": "markdown",
   "id": "fe6991e6",
   "metadata": {},
   "source": [
    "The customer is the credit department of the bank. It is necessary to find out whether the marital status and the number of children of the client affect the fact of repaying the loan on time. Input data from the bank - statistics on the solvency of customers.\n",
    "The results of the study will be taken into account when building a credit scoring model - a special system that assesses the ability of a potential borrower to return a loan to a bank.\n",
    "\n",
    "**The purpose of the study** is to test four hypotheses:\n",
    "\n",
    "1. Is there a relationship between the number of children and loan repayment on time\n",
    "2. Is there a relationship between marital status and loan repayment on time\n",
    "3. Is there a relationship between income level and loan repayment on time\n",
    "4. How different purposes of the loan affect its repayment on time\n",
    "\n",
    "**Research Plan**\n",
    "\n",
    "The study will take place in four stages:\n",
    "\n",
    "* Overview of data.\n",
    "* Data preprocessing.\n",
    "* Data categorization.\n",
    "* Hypothesis testing."
   ]
  },
  {
   "cell_type": "markdown",
   "id": "e3277cd6",
   "metadata": {},
   "source": [
    "## Data review"
   ]
  },
  {
   "cell_type": "code",
   "execution_count": 1,
   "id": "4113ee2c",
   "metadata": {},
   "outputs": [],
   "source": [
    "# pandas import and file read\n",
    "import pandas as pd\n",
    "import numpy as np\n",
    "df = pd.read_csv('/datasets/data.csv')"
   ]
  },
  {
   "cell_type": "code",
   "execution_count": 2,
   "id": "154a83e0",
   "metadata": {},
   "outputs": [
    {
     "data": {
      "text/html": [
       "<div>\n",
       "<style scoped>\n",
       "    .dataframe tbody tr th:only-of-type {\n",
       "        vertical-align: middle;\n",
       "    }\n",
       "\n",
       "    .dataframe tbody tr th {\n",
       "        vertical-align: top;\n",
       "    }\n",
       "\n",
       "    .dataframe thead th {\n",
       "        text-align: right;\n",
       "    }\n",
       "</style>\n",
       "<table border=\"1\" class=\"dataframe\">\n",
       "  <thead>\n",
       "    <tr style=\"text-align: right;\">\n",
       "      <th></th>\n",
       "      <th>children</th>\n",
       "      <th>days_employed</th>\n",
       "      <th>dob_years</th>\n",
       "      <th>education</th>\n",
       "      <th>education_id</th>\n",
       "      <th>family_status</th>\n",
       "      <th>family_status_id</th>\n",
       "      <th>gender</th>\n",
       "      <th>income_type</th>\n",
       "      <th>debt</th>\n",
       "      <th>total_income</th>\n",
       "      <th>purpose</th>\n",
       "    </tr>\n",
       "  </thead>\n",
       "  <tbody>\n",
       "    <tr>\n",
       "      <th>0</th>\n",
       "      <td>1</td>\n",
       "      <td>-8437.673028</td>\n",
       "      <td>42</td>\n",
       "      <td>высшее</td>\n",
       "      <td>0</td>\n",
       "      <td>женат / замужем</td>\n",
       "      <td>0</td>\n",
       "      <td>F</td>\n",
       "      <td>сотрудник</td>\n",
       "      <td>0</td>\n",
       "      <td>253875.639453</td>\n",
       "      <td>покупка жилья</td>\n",
       "    </tr>\n",
       "    <tr>\n",
       "      <th>1</th>\n",
       "      <td>1</td>\n",
       "      <td>-4024.803754</td>\n",
       "      <td>36</td>\n",
       "      <td>среднее</td>\n",
       "      <td>1</td>\n",
       "      <td>женат / замужем</td>\n",
       "      <td>0</td>\n",
       "      <td>F</td>\n",
       "      <td>сотрудник</td>\n",
       "      <td>0</td>\n",
       "      <td>112080.014102</td>\n",
       "      <td>приобретение автомобиля</td>\n",
       "    </tr>\n",
       "    <tr>\n",
       "      <th>2</th>\n",
       "      <td>0</td>\n",
       "      <td>-5623.422610</td>\n",
       "      <td>33</td>\n",
       "      <td>Среднее</td>\n",
       "      <td>1</td>\n",
       "      <td>женат / замужем</td>\n",
       "      <td>0</td>\n",
       "      <td>M</td>\n",
       "      <td>сотрудник</td>\n",
       "      <td>0</td>\n",
       "      <td>145885.952297</td>\n",
       "      <td>покупка жилья</td>\n",
       "    </tr>\n",
       "    <tr>\n",
       "      <th>3</th>\n",
       "      <td>3</td>\n",
       "      <td>-4124.747207</td>\n",
       "      <td>32</td>\n",
       "      <td>среднее</td>\n",
       "      <td>1</td>\n",
       "      <td>женат / замужем</td>\n",
       "      <td>0</td>\n",
       "      <td>M</td>\n",
       "      <td>сотрудник</td>\n",
       "      <td>0</td>\n",
       "      <td>267628.550329</td>\n",
       "      <td>дополнительное образование</td>\n",
       "    </tr>\n",
       "    <tr>\n",
       "      <th>4</th>\n",
       "      <td>0</td>\n",
       "      <td>340266.072047</td>\n",
       "      <td>53</td>\n",
       "      <td>среднее</td>\n",
       "      <td>1</td>\n",
       "      <td>гражданский брак</td>\n",
       "      <td>1</td>\n",
       "      <td>F</td>\n",
       "      <td>пенсионер</td>\n",
       "      <td>0</td>\n",
       "      <td>158616.077870</td>\n",
       "      <td>сыграть свадьбу</td>\n",
       "    </tr>\n",
       "    <tr>\n",
       "      <th>5</th>\n",
       "      <td>0</td>\n",
       "      <td>-926.185831</td>\n",
       "      <td>27</td>\n",
       "      <td>высшее</td>\n",
       "      <td>0</td>\n",
       "      <td>гражданский брак</td>\n",
       "      <td>1</td>\n",
       "      <td>M</td>\n",
       "      <td>компаньон</td>\n",
       "      <td>0</td>\n",
       "      <td>255763.565419</td>\n",
       "      <td>покупка жилья</td>\n",
       "    </tr>\n",
       "    <tr>\n",
       "      <th>6</th>\n",
       "      <td>0</td>\n",
       "      <td>-2879.202052</td>\n",
       "      <td>43</td>\n",
       "      <td>высшее</td>\n",
       "      <td>0</td>\n",
       "      <td>женат / замужем</td>\n",
       "      <td>0</td>\n",
       "      <td>F</td>\n",
       "      <td>компаньон</td>\n",
       "      <td>0</td>\n",
       "      <td>240525.971920</td>\n",
       "      <td>операции с жильем</td>\n",
       "    </tr>\n",
       "    <tr>\n",
       "      <th>7</th>\n",
       "      <td>0</td>\n",
       "      <td>-152.779569</td>\n",
       "      <td>50</td>\n",
       "      <td>СРЕДНЕЕ</td>\n",
       "      <td>1</td>\n",
       "      <td>женат / замужем</td>\n",
       "      <td>0</td>\n",
       "      <td>M</td>\n",
       "      <td>сотрудник</td>\n",
       "      <td>0</td>\n",
       "      <td>135823.934197</td>\n",
       "      <td>образование</td>\n",
       "    </tr>\n",
       "    <tr>\n",
       "      <th>8</th>\n",
       "      <td>2</td>\n",
       "      <td>-6929.865299</td>\n",
       "      <td>35</td>\n",
       "      <td>ВЫСШЕЕ</td>\n",
       "      <td>0</td>\n",
       "      <td>гражданский брак</td>\n",
       "      <td>1</td>\n",
       "      <td>F</td>\n",
       "      <td>сотрудник</td>\n",
       "      <td>0</td>\n",
       "      <td>95856.832424</td>\n",
       "      <td>на проведение свадьбы</td>\n",
       "    </tr>\n",
       "    <tr>\n",
       "      <th>9</th>\n",
       "      <td>0</td>\n",
       "      <td>-2188.756445</td>\n",
       "      <td>41</td>\n",
       "      <td>среднее</td>\n",
       "      <td>1</td>\n",
       "      <td>женат / замужем</td>\n",
       "      <td>0</td>\n",
       "      <td>M</td>\n",
       "      <td>сотрудник</td>\n",
       "      <td>0</td>\n",
       "      <td>144425.938277</td>\n",
       "      <td>покупка жилья для семьи</td>\n",
       "    </tr>\n",
       "  </tbody>\n",
       "</table>\n",
       "</div>"
      ],
      "text/plain": [
       "   children  days_employed  dob_years education  education_id  \\\n",
       "0         1   -8437.673028         42    высшее             0   \n",
       "1         1   -4024.803754         36   среднее             1   \n",
       "2         0   -5623.422610         33   Среднее             1   \n",
       "3         3   -4124.747207         32   среднее             1   \n",
       "4         0  340266.072047         53   среднее             1   \n",
       "5         0    -926.185831         27    высшее             0   \n",
       "6         0   -2879.202052         43    высшее             0   \n",
       "7         0    -152.779569         50   СРЕДНЕЕ             1   \n",
       "8         2   -6929.865299         35    ВЫСШЕЕ             0   \n",
       "9         0   -2188.756445         41   среднее             1   \n",
       "\n",
       "      family_status  family_status_id gender income_type  debt   total_income  \\\n",
       "0   женат / замужем                 0      F   сотрудник     0  253875.639453   \n",
       "1   женат / замужем                 0      F   сотрудник     0  112080.014102   \n",
       "2   женат / замужем                 0      M   сотрудник     0  145885.952297   \n",
       "3   женат / замужем                 0      M   сотрудник     0  267628.550329   \n",
       "4  гражданский брак                 1      F   пенсионер     0  158616.077870   \n",
       "5  гражданский брак                 1      M   компаньон     0  255763.565419   \n",
       "6   женат / замужем                 0      F   компаньон     0  240525.971920   \n",
       "7   женат / замужем                 0      M   сотрудник     0  135823.934197   \n",
       "8  гражданский брак                 1      F   сотрудник     0   95856.832424   \n",
       "9   женат / замужем                 0      M   сотрудник     0  144425.938277   \n",
       "\n",
       "                      purpose  \n",
       "0               покупка жилья  \n",
       "1     приобретение автомобиля  \n",
       "2               покупка жилья  \n",
       "3  дополнительное образование  \n",
       "4             сыграть свадьбу  \n",
       "5               покупка жилья  \n",
       "6           операции с жильем  \n",
       "7                 образование  \n",
       "8       на проведение свадьбы  \n",
       "9     покупка жилья для семьи  "
      ]
     },
     "execution_count": 2,
     "metadata": {},
     "output_type": "execute_result"
    }
   ],
   "source": [
    "df.head(10)"
   ]
  },
  {
   "cell_type": "code",
   "execution_count": 3,
   "id": "956cce65",
   "metadata": {
    "scrolled": true
   },
   "outputs": [
    {
     "name": "stdout",
     "output_type": "stream",
     "text": [
      "<class 'pandas.core.frame.DataFrame'>\n",
      "RangeIndex: 21525 entries, 0 to 21524\n",
      "Data columns (total 12 columns):\n",
      " #   Column            Non-Null Count  Dtype  \n",
      "---  ------            --------------  -----  \n",
      " 0   children          21525 non-null  int64  \n",
      " 1   days_employed     19351 non-null  float64\n",
      " 2   dob_years         21525 non-null  int64  \n",
      " 3   education         21525 non-null  object \n",
      " 4   education_id      21525 non-null  int64  \n",
      " 5   family_status     21525 non-null  object \n",
      " 6   family_status_id  21525 non-null  int64  \n",
      " 7   gender            21525 non-null  object \n",
      " 8   income_type       21525 non-null  object \n",
      " 9   debt              21525 non-null  int64  \n",
      " 10  total_income      19351 non-null  float64\n",
      " 11  purpose           21525 non-null  object \n",
      "dtypes: float64(2), int64(5), object(5)\n",
      "memory usage: 2.0+ MB\n"
     ]
    }
   ],
   "source": [
    "df.info()"
   ]
  },
  {
   "cell_type": "markdown",
   "id": "b37371e8",
   "metadata": {},
   "source": [
    "DataFrame has twelve columns.\n",
    "\n",
    "According to the documentation:\n",
    "    \n",
    "* `children` — number of children\n",
    "* `days_employed` — work experience (in days)\n",
    "* `dob_years` — client age (in years)\n",
    "* `education` — level of education\n",
    "* `education_id` — education level id\n",
    "* `family_status` — family status\n",
    "* `family_status_id` — family status id\n",
    "* `gender` — gender\n",
    "* `income_type` — income type\n",
    "* `debt` — had overdue payment\n",
    "* `total_income` — monthly income\n",
    "* `purpose` — purpose of debt"
   ]
  },
  {
   "cell_type": "code",
   "execution_count": 4,
   "id": "c5d746b9",
   "metadata": {
    "scrolled": false
   },
   "outputs": [
    {
     "data": {
      "text/html": [
       "<div>\n",
       "<style scoped>\n",
       "    .dataframe tbody tr th:only-of-type {\n",
       "        vertical-align: middle;\n",
       "    }\n",
       "\n",
       "    .dataframe tbody tr th {\n",
       "        vertical-align: top;\n",
       "    }\n",
       "\n",
       "    .dataframe thead th {\n",
       "        text-align: right;\n",
       "    }\n",
       "</style>\n",
       "<table border=\"1\" class=\"dataframe\">\n",
       "  <thead>\n",
       "    <tr style=\"text-align: right;\">\n",
       "      <th></th>\n",
       "      <th>children</th>\n",
       "      <th>days_employed</th>\n",
       "      <th>dob_years</th>\n",
       "      <th>education</th>\n",
       "      <th>education_id</th>\n",
       "      <th>family_status</th>\n",
       "      <th>family_status_id</th>\n",
       "      <th>gender</th>\n",
       "      <th>income_type</th>\n",
       "      <th>debt</th>\n",
       "      <th>total_income</th>\n",
       "      <th>purpose</th>\n",
       "    </tr>\n",
       "  </thead>\n",
       "  <tbody>\n",
       "    <tr>\n",
       "      <th>sum</th>\n",
       "      <td>0.0</td>\n",
       "      <td>2174.000000</td>\n",
       "      <td>0.0</td>\n",
       "      <td>0.0</td>\n",
       "      <td>0.0</td>\n",
       "      <td>0.0</td>\n",
       "      <td>0.0</td>\n",
       "      <td>0.0</td>\n",
       "      <td>0.0</td>\n",
       "      <td>0.0</td>\n",
       "      <td>2174.000000</td>\n",
       "      <td>0.0</td>\n",
       "    </tr>\n",
       "    <tr>\n",
       "      <th>mean</th>\n",
       "      <td>0.0</td>\n",
       "      <td>0.100999</td>\n",
       "      <td>0.0</td>\n",
       "      <td>0.0</td>\n",
       "      <td>0.0</td>\n",
       "      <td>0.0</td>\n",
       "      <td>0.0</td>\n",
       "      <td>0.0</td>\n",
       "      <td>0.0</td>\n",
       "      <td>0.0</td>\n",
       "      <td>0.100999</td>\n",
       "      <td>0.0</td>\n",
       "    </tr>\n",
       "  </tbody>\n",
       "</table>\n",
       "</div>"
      ],
      "text/plain": [
       "      children  days_employed  dob_years  education  education_id  \\\n",
       "sum        0.0    2174.000000        0.0        0.0           0.0   \n",
       "mean       0.0       0.100999        0.0        0.0           0.0   \n",
       "\n",
       "      family_status  family_status_id  gender  income_type  debt  \\\n",
       "sum             0.0               0.0     0.0          0.0   0.0   \n",
       "mean            0.0               0.0     0.0          0.0   0.0   \n",
       "\n",
       "      total_income  purpose  \n",
       "sum    2174.000000      0.0  \n",
       "mean      0.100999      0.0  "
      ]
     },
     "execution_count": 4,
     "metadata": {},
     "output_type": "execute_result"
    }
   ],
   "source": [
    "df.isna().agg(['sum', 'mean'])"
   ]
  },
  {
   "cell_type": "markdown",
   "id": "d2762eba",
   "metadata": {},
   "source": [
    "Columns `days_employed` and `total_income` have 2174 or 10% of missed values.\n",
    "\n",
    "These values should be filled with medians because these columns may have a high level of variance among categories (e.g. 'unemployed' vs 'retired')."
   ]
  },
  {
   "cell_type": "code",
   "execution_count": 5,
   "id": "7f6d97f1",
   "metadata": {},
   "outputs": [
    {
     "name": "stdout",
     "output_type": "stream",
     "text": [
      "[0, 19, 20, 21, 22, 23, 24, 25, 26, 27, 28, 29, 30, 31, 32, 33, 34, 35, 36, 37, 38, 39, 40, 41, 42, 43, 44, 45, 46, 47, 48, 49, 50, 51, 52, 53, 54, 55, 56, 57, 58, 59, 60, 61, 62, 63, 64, 65, 66, 67, 68, 69, 70, 71, 72, 73, 74, 75]\n"
     ]
    }
   ],
   "source": [
    "age = df['dob_years'].unique()\n",
    "print(sorted(age))"
   ]
  },
  {
   "cell_type": "code",
   "execution_count": 6,
   "id": "f386b825",
   "metadata": {
    "scrolled": false
   },
   "outputs": [
    {
     "data": {
      "text/html": [
       "<div>\n",
       "<style scoped>\n",
       "    .dataframe tbody tr th:only-of-type {\n",
       "        vertical-align: middle;\n",
       "    }\n",
       "\n",
       "    .dataframe tbody tr th {\n",
       "        vertical-align: top;\n",
       "    }\n",
       "\n",
       "    .dataframe thead th {\n",
       "        text-align: right;\n",
       "    }\n",
       "</style>\n",
       "<table border=\"1\" class=\"dataframe\">\n",
       "  <thead>\n",
       "    <tr style=\"text-align: right;\">\n",
       "      <th></th>\n",
       "      <th>children</th>\n",
       "      <th>days_employed</th>\n",
       "      <th>dob_years</th>\n",
       "      <th>education</th>\n",
       "      <th>education_id</th>\n",
       "      <th>family_status</th>\n",
       "      <th>family_status_id</th>\n",
       "      <th>gender</th>\n",
       "      <th>income_type</th>\n",
       "      <th>debt</th>\n",
       "      <th>total_income</th>\n",
       "      <th>purpose</th>\n",
       "    </tr>\n",
       "  </thead>\n",
       "  <tbody>\n",
       "    <tr>\n",
       "      <th>99</th>\n",
       "      <td>0</td>\n",
       "      <td>346541.618895</td>\n",
       "      <td>0</td>\n",
       "      <td>Среднее</td>\n",
       "      <td>1</td>\n",
       "      <td>женат / замужем</td>\n",
       "      <td>0</td>\n",
       "      <td>F</td>\n",
       "      <td>пенсионер</td>\n",
       "      <td>0</td>\n",
       "      <td>71291.522491</td>\n",
       "      <td>автомобиль</td>\n",
       "    </tr>\n",
       "    <tr>\n",
       "      <th>149</th>\n",
       "      <td>0</td>\n",
       "      <td>-2664.273168</td>\n",
       "      <td>0</td>\n",
       "      <td>среднее</td>\n",
       "      <td>1</td>\n",
       "      <td>в разводе</td>\n",
       "      <td>3</td>\n",
       "      <td>F</td>\n",
       "      <td>сотрудник</td>\n",
       "      <td>0</td>\n",
       "      <td>70176.435951</td>\n",
       "      <td>операции с жильем</td>\n",
       "    </tr>\n",
       "    <tr>\n",
       "      <th>270</th>\n",
       "      <td>3</td>\n",
       "      <td>-1872.663186</td>\n",
       "      <td>0</td>\n",
       "      <td>среднее</td>\n",
       "      <td>1</td>\n",
       "      <td>женат / замужем</td>\n",
       "      <td>0</td>\n",
       "      <td>F</td>\n",
       "      <td>сотрудник</td>\n",
       "      <td>0</td>\n",
       "      <td>102166.458894</td>\n",
       "      <td>ремонт жилью</td>\n",
       "    </tr>\n",
       "    <tr>\n",
       "      <th>578</th>\n",
       "      <td>0</td>\n",
       "      <td>397856.565013</td>\n",
       "      <td>0</td>\n",
       "      <td>среднее</td>\n",
       "      <td>1</td>\n",
       "      <td>женат / замужем</td>\n",
       "      <td>0</td>\n",
       "      <td>F</td>\n",
       "      <td>пенсионер</td>\n",
       "      <td>0</td>\n",
       "      <td>97620.687042</td>\n",
       "      <td>строительство собственной недвижимости</td>\n",
       "    </tr>\n",
       "    <tr>\n",
       "      <th>1040</th>\n",
       "      <td>0</td>\n",
       "      <td>-1158.029561</td>\n",
       "      <td>0</td>\n",
       "      <td>высшее</td>\n",
       "      <td>0</td>\n",
       "      <td>в разводе</td>\n",
       "      <td>3</td>\n",
       "      <td>F</td>\n",
       "      <td>компаньон</td>\n",
       "      <td>0</td>\n",
       "      <td>303994.134987</td>\n",
       "      <td>свой автомобиль</td>\n",
       "    </tr>\n",
       "    <tr>\n",
       "      <th>1149</th>\n",
       "      <td>0</td>\n",
       "      <td>-934.654854</td>\n",
       "      <td>0</td>\n",
       "      <td>среднее</td>\n",
       "      <td>1</td>\n",
       "      <td>женат / замужем</td>\n",
       "      <td>0</td>\n",
       "      <td>F</td>\n",
       "      <td>компаньон</td>\n",
       "      <td>0</td>\n",
       "      <td>201852.430096</td>\n",
       "      <td>покупка недвижимости</td>\n",
       "    </tr>\n",
       "    <tr>\n",
       "      <th>1175</th>\n",
       "      <td>0</td>\n",
       "      <td>370879.508002</td>\n",
       "      <td>0</td>\n",
       "      <td>среднее</td>\n",
       "      <td>1</td>\n",
       "      <td>женат / замужем</td>\n",
       "      <td>0</td>\n",
       "      <td>F</td>\n",
       "      <td>пенсионер</td>\n",
       "      <td>0</td>\n",
       "      <td>313949.845188</td>\n",
       "      <td>получение дополнительного образования</td>\n",
       "    </tr>\n",
       "    <tr>\n",
       "      <th>1386</th>\n",
       "      <td>0</td>\n",
       "      <td>-5043.219890</td>\n",
       "      <td>0</td>\n",
       "      <td>высшее</td>\n",
       "      <td>0</td>\n",
       "      <td>женат / замужем</td>\n",
       "      <td>0</td>\n",
       "      <td>M</td>\n",
       "      <td>госслужащий</td>\n",
       "      <td>0</td>\n",
       "      <td>240523.618071</td>\n",
       "      <td>сделка с автомобилем</td>\n",
       "    </tr>\n",
       "    <tr>\n",
       "      <th>1890</th>\n",
       "      <td>0</td>\n",
       "      <td>NaN</td>\n",
       "      <td>0</td>\n",
       "      <td>высшее</td>\n",
       "      <td>0</td>\n",
       "      <td>Не женат / не замужем</td>\n",
       "      <td>4</td>\n",
       "      <td>F</td>\n",
       "      <td>сотрудник</td>\n",
       "      <td>0</td>\n",
       "      <td>NaN</td>\n",
       "      <td>жилье</td>\n",
       "    </tr>\n",
       "    <tr>\n",
       "      <th>1898</th>\n",
       "      <td>0</td>\n",
       "      <td>370144.537021</td>\n",
       "      <td>0</td>\n",
       "      <td>среднее</td>\n",
       "      <td>1</td>\n",
       "      <td>вдовец / вдова</td>\n",
       "      <td>2</td>\n",
       "      <td>F</td>\n",
       "      <td>пенсионер</td>\n",
       "      <td>0</td>\n",
       "      <td>127400.268338</td>\n",
       "      <td>на покупку автомобиля</td>\n",
       "    </tr>\n",
       "  </tbody>\n",
       "</table>\n",
       "</div>"
      ],
      "text/plain": [
       "      children  days_employed  dob_years education  education_id  \\\n",
       "99           0  346541.618895          0   Среднее             1   \n",
       "149          0   -2664.273168          0   среднее             1   \n",
       "270          3   -1872.663186          0   среднее             1   \n",
       "578          0  397856.565013          0   среднее             1   \n",
       "1040         0   -1158.029561          0    высшее             0   \n",
       "1149         0    -934.654854          0   среднее             1   \n",
       "1175         0  370879.508002          0   среднее             1   \n",
       "1386         0   -5043.219890          0    высшее             0   \n",
       "1890         0            NaN          0    высшее             0   \n",
       "1898         0  370144.537021          0   среднее             1   \n",
       "\n",
       "              family_status  family_status_id gender  income_type  debt  \\\n",
       "99          женат / замужем                 0      F    пенсионер     0   \n",
       "149               в разводе                 3      F    сотрудник     0   \n",
       "270         женат / замужем                 0      F    сотрудник     0   \n",
       "578         женат / замужем                 0      F    пенсионер     0   \n",
       "1040              в разводе                 3      F    компаньон     0   \n",
       "1149        женат / замужем                 0      F    компаньон     0   \n",
       "1175        женат / замужем                 0      F    пенсионер     0   \n",
       "1386        женат / замужем                 0      M  госслужащий     0   \n",
       "1890  Не женат / не замужем                 4      F    сотрудник     0   \n",
       "1898         вдовец / вдова                 2      F    пенсионер     0   \n",
       "\n",
       "       total_income                                 purpose  \n",
       "99     71291.522491                              автомобиль  \n",
       "149    70176.435951                       операции с жильем  \n",
       "270   102166.458894                            ремонт жилью  \n",
       "578    97620.687042  строительство собственной недвижимости  \n",
       "1040  303994.134987                         свой автомобиль  \n",
       "1149  201852.430096                    покупка недвижимости  \n",
       "1175  313949.845188   получение дополнительного образования  \n",
       "1386  240523.618071                    сделка с автомобилем  \n",
       "1890            NaN                                   жилье  \n",
       "1898  127400.268338                   на покупку автомобиля  "
      ]
     },
     "execution_count": 6,
     "metadata": {},
     "output_type": "execute_result"
    }
   ],
   "source": [
    "df[df['dob_years'] == 0].head(10)"
   ]
  },
  {
   "cell_type": "code",
   "execution_count": 7,
   "id": "5256b986",
   "metadata": {},
   "outputs": [
    {
     "data": {
      "text/plain": [
       "F      14236\n",
       "M       7288\n",
       "XNA        1\n",
       "Name: gender, dtype: int64"
      ]
     },
     "execution_count": 7,
     "metadata": {},
     "output_type": "execute_result"
    }
   ],
   "source": [
    "df['gender'].value_counts()"
   ]
  },
  {
   "cell_type": "code",
   "execution_count": 8,
   "id": "ce8099e5",
   "metadata": {},
   "outputs": [
    {
     "data": {
      "text/plain": [
       " 0     14149\n",
       " 1      4818\n",
       " 2      2055\n",
       " 3       330\n",
       " 20       76\n",
       "-1        47\n",
       " 4        41\n",
       " 5         9\n",
       "Name: children, dtype: int64"
      ]
     },
     "execution_count": 8,
     "metadata": {},
     "output_type": "execute_result"
    }
   ],
   "source": [
    "df['children'].value_counts()"
   ]
  },
  {
   "cell_type": "code",
   "execution_count": 9,
   "id": "1126ba42",
   "metadata": {},
   "outputs": [
    {
     "data": {
      "text/plain": [
       "count     19351.000000\n",
       "mean      63046.497661\n",
       "std      140827.311974\n",
       "min      -18388.949901\n",
       "25%       -2747.423625\n",
       "50%       -1203.369529\n",
       "75%        -291.095954\n",
       "max      401755.400475\n",
       "Name: days_employed, dtype: float64"
      ]
     },
     "execution_count": 9,
     "metadata": {},
     "output_type": "execute_result"
    }
   ],
   "source": [
    "df['days_employed'].describe()"
   ]
  },
  {
   "cell_type": "markdown",
   "id": "5ee1fe8a",
   "metadata": {},
   "source": [
    "Aside from missed values, the dataframe also has anomalies:\n",
    "\n",
    "1. Column `days_employed` contains negative values and extremely large values.\n",
    "2. Column `dob_years` contains zero values.\n",
    "3. Column `children` has values -1 and 20.\n",
    "4. Column `gender` contains value `XNA`."
   ]
  },
  {
   "cell_type": "markdown",
   "id": "59e92313",
   "metadata": {},
   "source": [
    "**Conclusion**\n",
    "\n",
    "Each row of the table contains information about bank clients. Some of the columns describe socio-demographic information: age, education, gender, marital status, and the number of children. The rest of the data tells about economic indicators: seniority, type of employment, income, whether he had debts to repay loans, and the purpose of obtaining a loan.\n",
    "\n",
    "It can be assumed that we have enough data to test hypotheses. But to move forward we need to handle missed values, duplicates, and anomalies."
   ]
  },
  {
   "cell_type": "markdown",
   "id": "26581ff5",
   "metadata": {},
   "source": [
    "## Data preparation"
   ]
  },
  {
   "cell_type": "markdown",
   "id": "c2a7fa77",
   "metadata": {},
   "source": [
    "### Handling missing values"
   ]
  },
  {
   "cell_type": "markdown",
   "id": "32f3c3db",
   "metadata": {},
   "source": [
    "Let's fill in missed values in columns `days_employed` and `total_income` with median values based on income type."
   ]
  },
  {
   "cell_type": "code",
   "execution_count": 10,
   "id": "a02c3c90",
   "metadata": {},
   "outputs": [],
   "source": [
    "#Create dictionary with pairs(income type : median value)\n",
    "income_type_income_median = df.groupby('income_type').median()['total_income'].to_dict()    \n",
    "income_type_employed_median = df.groupby('income_type').median()['days_employed'].to_dict()    "
   ]
  },
  {
   "cell_type": "code",
   "execution_count": 11,
   "id": "7f9f49c1",
   "metadata": {},
   "outputs": [
    {
     "data": {
      "text/plain": [
       "{'безработный': 131339.7516762103,\n",
       " 'в декрете': 53829.13072905995,\n",
       " 'госслужащий': 150447.9352830068,\n",
       " 'компаньон': 172357.95096577113,\n",
       " 'пенсионер': 118514.48641164352,\n",
       " 'предприниматель': 499163.1449470857,\n",
       " 'сотрудник': 142594.39684740017,\n",
       " 'студент': 98201.62531401133}"
      ]
     },
     "execution_count": 11,
     "metadata": {},
     "output_type": "execute_result"
    }
   ],
   "source": [
    "income_type_income_median"
   ]
  },
  {
   "cell_type": "code",
   "execution_count": 12,
   "id": "d0934399",
   "metadata": {},
   "outputs": [],
   "source": [
    "#Make a function that fills missed values with medians based on income type from dictionary and apply it to the data\n",
    "def total_income_fill_median(row):\n",
    "    total_income = row['total_income']\n",
    "    income_type = row['income_type']\n",
    "    if np.isnan(row['total_income']):      \n",
    "        return income_type_income_median[income_type]\n",
    "    return total_income\n",
    "    \n",
    "df['total_income'] = df.apply(total_income_fill_median, axis=1)"
   ]
  },
  {
   "cell_type": "code",
   "execution_count": 13,
   "id": "a00e13c4",
   "metadata": {},
   "outputs": [],
   "source": [
    "def days_employed_fill_median(row):\n",
    "    days_employed = row['days_employed']\n",
    "    income_type = row['income_type']\n",
    "    if np.isnan(row['days_employed']):      \n",
    "        return income_type_employed_median[income_type]\n",
    "    return days_employed\n",
    "       \n",
    "df['days_employed'] = df.apply(days_employed_fill_median, axis=1)"
   ]
  },
  {
   "cell_type": "code",
   "execution_count": 14,
   "id": "9d719520",
   "metadata": {},
   "outputs": [
    {
     "name": "stdout",
     "output_type": "stream",
     "text": [
      "<class 'pandas.core.frame.DataFrame'>\n",
      "RangeIndex: 21525 entries, 0 to 21524\n",
      "Data columns (total 12 columns):\n",
      " #   Column            Non-Null Count  Dtype  \n",
      "---  ------            --------------  -----  \n",
      " 0   children          21525 non-null  int64  \n",
      " 1   days_employed     21525 non-null  float64\n",
      " 2   dob_years         21525 non-null  int64  \n",
      " 3   education         21525 non-null  object \n",
      " 4   education_id      21525 non-null  int64  \n",
      " 5   family_status     21525 non-null  object \n",
      " 6   family_status_id  21525 non-null  int64  \n",
      " 7   gender            21525 non-null  object \n",
      " 8   income_type       21525 non-null  object \n",
      " 9   debt              21525 non-null  int64  \n",
      " 10  total_income      21525 non-null  float64\n",
      " 11  purpose           21525 non-null  object \n",
      "dtypes: float64(2), int64(5), object(5)\n",
      "memory usage: 2.0+ MB\n"
     ]
    }
   ],
   "source": [
    "df.info()"
   ]
  },
  {
   "cell_type": "markdown",
   "id": "9eb6c06a",
   "metadata": {},
   "source": [
    "### Handling anomalies"
   ]
  },
  {
   "cell_type": "code",
   "execution_count": 15,
   "id": "e575d5c6",
   "metadata": {},
   "outputs": [],
   "source": [
    "df['days_employed'] = df['days_employed'].abs()\n",
    "df['children'] = df['children'].abs()\n",
    "df['children'] = df['children'].replace(20, 2)\n",
    "df = df.loc[df['gender'] != 'XNA']\n",
    "df = df.loc[df['dob_years'] != 0]"
   ]
  },
  {
   "cell_type": "code",
   "execution_count": 16,
   "id": "cd97b221",
   "metadata": {},
   "outputs": [
    {
     "data": {
      "text/plain": [
       "F    14164\n",
       "M     7259\n",
       "Name: gender, dtype: int64"
      ]
     },
     "execution_count": 16,
     "metadata": {},
     "output_type": "execute_result"
    }
   ],
   "source": [
    "df['gender'].value_counts()"
   ]
  },
  {
   "cell_type": "markdown",
   "id": "d129b96c",
   "metadata": {},
   "source": [
    "First, let's get rid of the negative values in the `days_employed` and `children` columns by converting them to absolute values. Negative values in the `days_employed` column are found only among people who still work. It seems that negative values separate currently employed from unemployed and retired. There are also abnormally large values in the `days_employed` column. Since this column is not used in calculations, we will leave these values unchanged.\n",
    "\n",
    "Let's also assume that the values '20' in the children column are due to human error (accidentally adding a zero after the 2 because the value is very out of the 0-5 range) and replace them with the value 2.\n",
    "\n",
    "The '0' values in the `dob_years` column will have to be removed as they occur across different customer categories such as: 'employee', 'companion', and 'retired'. In this case, filling with the mean or median will not work."
   ]
  },
  {
   "cell_type": "markdown",
   "id": "8f0aa1d2",
   "metadata": {},
   "source": [
    "### Data type change"
   ]
  },
  {
   "cell_type": "code",
   "execution_count": 17,
   "id": "c3375c9d",
   "metadata": {},
   "outputs": [],
   "source": [
    "df['total_income'] = df['total_income'].astype('int')"
   ]
  },
  {
   "cell_type": "code",
   "execution_count": 18,
   "id": "8217eff0",
   "metadata": {
    "scrolled": true
   },
   "outputs": [
    {
     "name": "stdout",
     "output_type": "stream",
     "text": [
      "<class 'pandas.core.frame.DataFrame'>\n",
      "Int64Index: 21423 entries, 0 to 21524\n",
      "Data columns (total 12 columns):\n",
      " #   Column            Non-Null Count  Dtype  \n",
      "---  ------            --------------  -----  \n",
      " 0   children          21423 non-null  int64  \n",
      " 1   days_employed     21423 non-null  float64\n",
      " 2   dob_years         21423 non-null  int64  \n",
      " 3   education         21423 non-null  object \n",
      " 4   education_id      21423 non-null  int64  \n",
      " 5   family_status     21423 non-null  object \n",
      " 6   family_status_id  21423 non-null  int64  \n",
      " 7   gender            21423 non-null  object \n",
      " 8   income_type       21423 non-null  object \n",
      " 9   debt              21423 non-null  int64  \n",
      " 10  total_income      21423 non-null  int64  \n",
      " 11  purpose           21423 non-null  object \n",
      "dtypes: float64(1), int64(6), object(5)\n",
      "memory usage: 2.1+ MB\n"
     ]
    }
   ],
   "source": [
    "df.info()"
   ]
  },
  {
   "cell_type": "markdown",
   "id": "edbbc7d0",
   "metadata": {},
   "source": [
    "### Duplicates handling"
   ]
  },
  {
   "cell_type": "markdown",
   "id": "44e1ee5f",
   "metadata": {},
   "source": [
    "Let's check for duplicates and remove them."
   ]
  },
  {
   "cell_type": "code",
   "execution_count": 19,
   "id": "841a1cc2",
   "metadata": {},
   "outputs": [
    {
     "data": {
      "text/plain": [
       "54"
      ]
     },
     "execution_count": 19,
     "metadata": {},
     "output_type": "execute_result"
    }
   ],
   "source": [
    "df.duplicated().sum()"
   ]
  },
  {
   "cell_type": "code",
   "execution_count": 20,
   "id": "bda245a8",
   "metadata": {
    "scrolled": false
   },
   "outputs": [],
   "source": [
    "df = df.drop_duplicates().reset_index(drop=True)"
   ]
  },
  {
   "cell_type": "code",
   "execution_count": 21,
   "id": "ad29bbe1",
   "metadata": {},
   "outputs": [
    {
     "data": {
      "text/plain": [
       "0"
      ]
     },
     "execution_count": 21,
     "metadata": {},
     "output_type": "execute_result"
    }
   ],
   "source": [
    "df.duplicated().sum()"
   ]
  },
  {
   "cell_type": "markdown",
   "id": "0fc39a97",
   "metadata": {},
   "source": [
    "Let's check the data for implicit duplicates"
   ]
  },
  {
   "cell_type": "code",
   "execution_count": 22,
   "id": "dc95dd79",
   "metadata": {
    "scrolled": true
   },
   "outputs": [
    {
     "data": {
      "text/plain": [
       "array(['ВЫСШЕЕ', 'Высшее', 'НАЧАЛЬНОЕ', 'НЕОКОНЧЕННОЕ ВЫСШЕЕ',\n",
       "       'Начальное', 'Неоконченное высшее', 'СРЕДНЕЕ', 'Среднее',\n",
       "       'УЧЕНАЯ СТЕПЕНЬ', 'Ученая степень', 'высшее', 'начальное',\n",
       "       'неоконченное высшее', 'среднее', 'ученая степень'], dtype=object)"
      ]
     },
     "metadata": {},
     "output_type": "display_data"
    }
   ],
   "source": [
    "display(df['education'].sort_values().unique())"
   ]
  },
  {
   "cell_type": "markdown",
   "id": "f6888ba0",
   "metadata": {},
   "source": [
    "Column `education` contains similar values but written in lower/upper cases. Let's bring the data to lowercase, use snake case and remove duplicates."
   ]
  },
  {
   "cell_type": "code",
   "execution_count": 23,
   "id": "6cf425bd",
   "metadata": {},
   "outputs": [],
   "source": [
    "df['education'] = df['education'].str.lower()\n",
    "df['family_status'] = df['family_status'].str.lower()"
   ]
  },
  {
   "cell_type": "code",
   "execution_count": 24,
   "id": "d2a6e375",
   "metadata": {},
   "outputs": [
    {
     "data": {
      "text/plain": [
       "17"
      ]
     },
     "execution_count": 24,
     "metadata": {},
     "output_type": "execute_result"
    }
   ],
   "source": [
    "df.duplicated().sum()"
   ]
  },
  {
   "cell_type": "code",
   "execution_count": 25,
   "id": "f0fd01d8",
   "metadata": {},
   "outputs": [],
   "source": [
    "df = df.drop_duplicates().reset_index(drop=True)"
   ]
  },
  {
   "cell_type": "code",
   "execution_count": 26,
   "id": "73fa0070",
   "metadata": {},
   "outputs": [
    {
     "data": {
      "text/plain": [
       "0"
      ]
     },
     "execution_count": 26,
     "metadata": {},
     "output_type": "execute_result"
    }
   ],
   "source": [
    "df.duplicated().sum()"
   ]
  },
  {
   "cell_type": "markdown",
   "id": "8f2fbb80",
   "metadata": {},
   "source": [
    "### Creating dictionaries and decomposition of the original dataframe"
   ]
  },
  {
   "cell_type": "code",
   "execution_count": 27,
   "id": "630fa49f",
   "metadata": {},
   "outputs": [
    {
     "data": {
      "text/html": [
       "<div>\n",
       "<style scoped>\n",
       "    .dataframe tbody tr th:only-of-type {\n",
       "        vertical-align: middle;\n",
       "    }\n",
       "\n",
       "    .dataframe tbody tr th {\n",
       "        vertical-align: top;\n",
       "    }\n",
       "\n",
       "    .dataframe thead th {\n",
       "        text-align: right;\n",
       "    }\n",
       "</style>\n",
       "<table border=\"1\" class=\"dataframe\">\n",
       "  <thead>\n",
       "    <tr style=\"text-align: right;\">\n",
       "      <th></th>\n",
       "      <th>children</th>\n",
       "      <th>days_employed</th>\n",
       "      <th>dob_years</th>\n",
       "      <th>education_id</th>\n",
       "      <th>family_status_id</th>\n",
       "      <th>gender</th>\n",
       "      <th>income_type</th>\n",
       "      <th>debt</th>\n",
       "      <th>total_income</th>\n",
       "      <th>purpose</th>\n",
       "    </tr>\n",
       "  </thead>\n",
       "  <tbody>\n",
       "    <tr>\n",
       "      <th>0</th>\n",
       "      <td>1</td>\n",
       "      <td>8437.673028</td>\n",
       "      <td>42</td>\n",
       "      <td>0</td>\n",
       "      <td>0</td>\n",
       "      <td>F</td>\n",
       "      <td>сотрудник</td>\n",
       "      <td>0</td>\n",
       "      <td>253875</td>\n",
       "      <td>покупка жилья</td>\n",
       "    </tr>\n",
       "    <tr>\n",
       "      <th>1</th>\n",
       "      <td>1</td>\n",
       "      <td>4024.803754</td>\n",
       "      <td>36</td>\n",
       "      <td>1</td>\n",
       "      <td>0</td>\n",
       "      <td>F</td>\n",
       "      <td>сотрудник</td>\n",
       "      <td>0</td>\n",
       "      <td>112080</td>\n",
       "      <td>приобретение автомобиля</td>\n",
       "    </tr>\n",
       "    <tr>\n",
       "      <th>2</th>\n",
       "      <td>0</td>\n",
       "      <td>5623.422610</td>\n",
       "      <td>33</td>\n",
       "      <td>1</td>\n",
       "      <td>0</td>\n",
       "      <td>M</td>\n",
       "      <td>сотрудник</td>\n",
       "      <td>0</td>\n",
       "      <td>145885</td>\n",
       "      <td>покупка жилья</td>\n",
       "    </tr>\n",
       "    <tr>\n",
       "      <th>3</th>\n",
       "      <td>3</td>\n",
       "      <td>4124.747207</td>\n",
       "      <td>32</td>\n",
       "      <td>1</td>\n",
       "      <td>0</td>\n",
       "      <td>M</td>\n",
       "      <td>сотрудник</td>\n",
       "      <td>0</td>\n",
       "      <td>267628</td>\n",
       "      <td>дополнительное образование</td>\n",
       "    </tr>\n",
       "    <tr>\n",
       "      <th>4</th>\n",
       "      <td>0</td>\n",
       "      <td>340266.072047</td>\n",
       "      <td>53</td>\n",
       "      <td>1</td>\n",
       "      <td>1</td>\n",
       "      <td>F</td>\n",
       "      <td>пенсионер</td>\n",
       "      <td>0</td>\n",
       "      <td>158616</td>\n",
       "      <td>сыграть свадьбу</td>\n",
       "    </tr>\n",
       "    <tr>\n",
       "      <th>...</th>\n",
       "      <td>...</td>\n",
       "      <td>...</td>\n",
       "      <td>...</td>\n",
       "      <td>...</td>\n",
       "      <td>...</td>\n",
       "      <td>...</td>\n",
       "      <td>...</td>\n",
       "      <td>...</td>\n",
       "      <td>...</td>\n",
       "      <td>...</td>\n",
       "    </tr>\n",
       "    <tr>\n",
       "      <th>21347</th>\n",
       "      <td>1</td>\n",
       "      <td>4529.316663</td>\n",
       "      <td>43</td>\n",
       "      <td>1</td>\n",
       "      <td>1</td>\n",
       "      <td>F</td>\n",
       "      <td>компаньон</td>\n",
       "      <td>0</td>\n",
       "      <td>224791</td>\n",
       "      <td>операции с жильем</td>\n",
       "    </tr>\n",
       "    <tr>\n",
       "      <th>21348</th>\n",
       "      <td>0</td>\n",
       "      <td>343937.404131</td>\n",
       "      <td>67</td>\n",
       "      <td>1</td>\n",
       "      <td>0</td>\n",
       "      <td>F</td>\n",
       "      <td>пенсионер</td>\n",
       "      <td>0</td>\n",
       "      <td>155999</td>\n",
       "      <td>сделка с автомобилем</td>\n",
       "    </tr>\n",
       "    <tr>\n",
       "      <th>21349</th>\n",
       "      <td>1</td>\n",
       "      <td>2113.346888</td>\n",
       "      <td>38</td>\n",
       "      <td>1</td>\n",
       "      <td>1</td>\n",
       "      <td>M</td>\n",
       "      <td>сотрудник</td>\n",
       "      <td>1</td>\n",
       "      <td>89672</td>\n",
       "      <td>недвижимость</td>\n",
       "    </tr>\n",
       "    <tr>\n",
       "      <th>21350</th>\n",
       "      <td>3</td>\n",
       "      <td>3112.481705</td>\n",
       "      <td>38</td>\n",
       "      <td>1</td>\n",
       "      <td>0</td>\n",
       "      <td>M</td>\n",
       "      <td>сотрудник</td>\n",
       "      <td>1</td>\n",
       "      <td>244093</td>\n",
       "      <td>на покупку своего автомобиля</td>\n",
       "    </tr>\n",
       "    <tr>\n",
       "      <th>21351</th>\n",
       "      <td>2</td>\n",
       "      <td>1984.507589</td>\n",
       "      <td>40</td>\n",
       "      <td>1</td>\n",
       "      <td>0</td>\n",
       "      <td>F</td>\n",
       "      <td>сотрудник</td>\n",
       "      <td>0</td>\n",
       "      <td>82047</td>\n",
       "      <td>на покупку автомобиля</td>\n",
       "    </tr>\n",
       "  </tbody>\n",
       "</table>\n",
       "<p>21352 rows × 10 columns</p>\n",
       "</div>"
      ],
      "text/plain": [
       "       children  days_employed  dob_years  education_id  family_status_id  \\\n",
       "0             1    8437.673028         42             0                 0   \n",
       "1             1    4024.803754         36             1                 0   \n",
       "2             0    5623.422610         33             1                 0   \n",
       "3             3    4124.747207         32             1                 0   \n",
       "4             0  340266.072047         53             1                 1   \n",
       "...         ...            ...        ...           ...               ...   \n",
       "21347         1    4529.316663         43             1                 1   \n",
       "21348         0  343937.404131         67             1                 0   \n",
       "21349         1    2113.346888         38             1                 1   \n",
       "21350         3    3112.481705         38             1                 0   \n",
       "21351         2    1984.507589         40             1                 0   \n",
       "\n",
       "      gender income_type  debt  total_income                       purpose  \n",
       "0          F   сотрудник     0        253875                 покупка жилья  \n",
       "1          F   сотрудник     0        112080       приобретение автомобиля  \n",
       "2          M   сотрудник     0        145885                 покупка жилья  \n",
       "3          M   сотрудник     0        267628    дополнительное образование  \n",
       "4          F   пенсионер     0        158616               сыграть свадьбу  \n",
       "...      ...         ...   ...           ...                           ...  \n",
       "21347      F   компаньон     0        224791             операции с жильем  \n",
       "21348      F   пенсионер     0        155999          сделка с автомобилем  \n",
       "21349      M   сотрудник     1         89672                  недвижимость  \n",
       "21350      M   сотрудник     1        244093  на покупку своего автомобиля  \n",
       "21351      F   сотрудник     0         82047         на покупку автомобиля  \n",
       "\n",
       "[21352 rows x 10 columns]"
      ]
     },
     "execution_count": 27,
     "metadata": {},
     "output_type": "execute_result"
    }
   ],
   "source": [
    "#создание словарей для education и family_status\n",
    "education_dict = df[['education_id','education']]\n",
    "family_dict = df[['family_status_id', 'family_status']]\n",
    "education_dict = education_dict.drop_duplicates().reset_index(drop=True)\n",
    "family_dict = family_dict.drop_duplicates().reset_index(drop=True) \n",
    "df.drop(columns = ['education', 'family_status'], axis = 1) "
   ]
  },
  {
   "cell_type": "markdown",
   "id": "077da47b",
   "metadata": {},
   "source": [
    "### Income categories"
   ]
  },
  {
   "cell_type": "markdown",
   "id": "895f084d",
   "metadata": {},
   "source": [
    "Let's categorize clients by income into the following categories:\n",
    "\n",
    "* 0–30000 — 'E';\n",
    "* 30001–50000 — 'D';\n",
    "* 50001–200000 — 'C';\n",
    "* 200001–1000000 — 'B';\n",
    "* 1000001 и выше — 'A'."
   ]
  },
  {
   "cell_type": "code",
   "execution_count": 28,
   "id": "478d05ef",
   "metadata": {},
   "outputs": [],
   "source": [
    "def category(income):\n",
    "    if income <= 30000:\n",
    "        return 'E'\n",
    "    if income <= 50000:\n",
    "        return 'D'\n",
    "    if income <= 200000:\n",
    "        return 'C'\n",
    "    if income <= 1000000:\n",
    "        return 'B'\n",
    "    return 'A'\n",
    "\n",
    "df['total_income_category'] = df['total_income'].apply(category)"
   ]
  },
  {
   "cell_type": "code",
   "execution_count": 29,
   "id": "ef28d264",
   "metadata": {
    "scrolled": true
   },
   "outputs": [
    {
     "data": {
      "text/plain": [
       "C    15942\n",
       "B     5015\n",
       "D      348\n",
       "A       25\n",
       "E       22\n",
       "Name: total_income_category, dtype: int64"
      ]
     },
     "execution_count": 29,
     "metadata": {},
     "output_type": "execute_result"
    }
   ],
   "source": [
    "df['total_income_category'].value_counts()"
   ]
  },
  {
   "cell_type": "markdown",
   "id": "24bce92b",
   "metadata": {},
   "source": [
    "### Loan purpose categories"
   ]
  },
  {
   "cell_type": "markdown",
   "id": "c010be2c",
   "metadata": {},
   "source": [
    "Let's bring the loan `purpose` column to a single view by dividing the values into the following categories:\n",
    "\n",
    "* `операции с автомобилем` ('car loan')\n",
    "* `операции с недвижимостью` ('mortgage')\n",
    "* `проведение свадьбы` ('wedding loan')\n",
    "* `получение образования` ('education loan')"
   ]
  },
  {
   "cell_type": "code",
   "execution_count": 30,
   "id": "8edfbbd6",
   "metadata": {},
   "outputs": [],
   "source": [
    "def purpose_category(purpose):\n",
    "    if 'автомобил' in purpose:\n",
    "        return 'операции с автомобилем'\n",
    "    elif 'недвиж' in purpose or 'жил' in purpose:\n",
    "        return 'операции с недвижимостью'\n",
    "    elif 'свадьб' in purpose:\n",
    "        return 'проведение свадьбы'\n",
    "    else:\n",
    "        return 'получение образования'\n",
    "    \n",
    "df['purpose_category'] = df['purpose'].apply(purpose_category)"
   ]
  },
  {
   "cell_type": "code",
   "execution_count": 31,
   "id": "a000a960",
   "metadata": {},
   "outputs": [
    {
     "data": {
      "text/plain": [
       "операции с недвижимостью    10763\n",
       "операции с автомобилем       4284\n",
       "получение образования        3995\n",
       "проведение свадьбы           2310\n",
       "Name: purpose_category, dtype: int64"
      ]
     },
     "execution_count": 31,
     "metadata": {},
     "output_type": "execute_result"
    }
   ],
   "source": [
    "df['purpose_category'].value_counts()"
   ]
  },
  {
   "cell_type": "markdown",
   "id": "2c6ecdf9",
   "metadata": {},
   "source": [
    "### Number of children "
   ]
  },
  {
   "cell_type": "markdown",
   "id": "efda3b39",
   "metadata": {},
   "source": [
    "Let's divide the data in the `children` column into the following categories: \n",
    "\n",
    "* 0 - 'бездетные' ('childless')\n",
    "* 1-2 - '1-2 детей' ('1-2 children')\n",
    "* 3 и более - 'многодетные' ('having many children')"
   ]
  },
  {
   "cell_type": "code",
   "execution_count": 32,
   "id": "ca390860",
   "metadata": {},
   "outputs": [],
   "source": [
    "def category(children):\n",
    "    if children == 0:\n",
    "        return 'бездетные'\n",
    "    if children <= 2:\n",
    "        return '1-2 детей'\n",
    "    return 'многодетные'\n",
    "\n",
    "df['children_category'] = df['children'].apply(category)"
   ]
  },
  {
   "cell_type": "code",
   "execution_count": 33,
   "id": "54e034e5",
   "metadata": {},
   "outputs": [
    {
     "data": {
      "text/plain": [
       "бездетные      14021\n",
       "1-2 детей       6953\n",
       "многодетные      378\n",
       "Name: children_category, dtype: int64"
      ]
     },
     "execution_count": 33,
     "metadata": {},
     "output_type": "execute_result"
    }
   ],
   "source": [
    "df['children_category'].value_counts()"
   ]
  },
  {
   "cell_type": "markdown",
   "id": "021cb24d",
   "metadata": {},
   "source": [
    "### Questions - Answers"
   ]
  },
  {
   "cell_type": "markdown",
   "id": "990b15b9",
   "metadata": {},
   "source": [
    "#### Question 1:"
   ]
  },
  {
   "cell_type": "markdown",
   "id": "13abf1cb",
   "metadata": {},
   "source": [
    "Let's check if there is a relation between the number of children and returning a loan in time."
   ]
  },
  {
   "cell_type": "code",
   "execution_count": 34,
   "id": "83714c17",
   "metadata": {
    "scrolled": true
   },
   "outputs": [
    {
     "data": {
      "text/html": [
       "<div>\n",
       "<style scoped>\n",
       "    .dataframe tbody tr th:only-of-type {\n",
       "        vertical-align: middle;\n",
       "    }\n",
       "\n",
       "    .dataframe tbody tr th {\n",
       "        vertical-align: top;\n",
       "    }\n",
       "\n",
       "    .dataframe thead th {\n",
       "        text-align: right;\n",
       "    }\n",
       "</style>\n",
       "<table border=\"1\" class=\"dataframe\">\n",
       "  <thead>\n",
       "    <tr style=\"text-align: right;\">\n",
       "      <th></th>\n",
       "      <th>count</th>\n",
       "      <th>mean</th>\n",
       "    </tr>\n",
       "    <tr>\n",
       "      <th>children_category</th>\n",
       "      <th></th>\n",
       "      <th></th>\n",
       "    </tr>\n",
       "  </thead>\n",
       "  <tbody>\n",
       "    <tr>\n",
       "      <th>1-2 детей</th>\n",
       "      <td>6953</td>\n",
       "      <td>0.092622</td>\n",
       "    </tr>\n",
       "    <tr>\n",
       "      <th>бездетные</th>\n",
       "      <td>14021</td>\n",
       "      <td>0.075458</td>\n",
       "    </tr>\n",
       "    <tr>\n",
       "      <th>многодетные</th>\n",
       "      <td>378</td>\n",
       "      <td>0.082011</td>\n",
       "    </tr>\n",
       "  </tbody>\n",
       "</table>\n",
       "</div>"
      ],
      "text/plain": [
       "                   count      mean\n",
       "children_category                 \n",
       "1-2 детей           6953  0.092622\n",
       "бездетные          14021  0.075458\n",
       "многодетные          378  0.082011"
      ]
     },
     "execution_count": 34,
     "metadata": {},
     "output_type": "execute_result"
    }
   ],
   "source": [
    "df.groupby('children_category')['debt'].agg(['count','mean'])"
   ]
  },
  {
   "cell_type": "code",
   "execution_count": 35,
   "id": "2918fa8c",
   "metadata": {
    "scrolled": true
   },
   "outputs": [
    {
     "data": {
      "text/html": [
       "<div>\n",
       "<style scoped>\n",
       "    .dataframe tbody tr th:only-of-type {\n",
       "        vertical-align: middle;\n",
       "    }\n",
       "\n",
       "    .dataframe tbody tr th {\n",
       "        vertical-align: top;\n",
       "    }\n",
       "\n",
       "    .dataframe thead tr th {\n",
       "        text-align: left;\n",
       "    }\n",
       "\n",
       "    .dataframe thead tr:last-of-type th {\n",
       "        text-align: right;\n",
       "    }\n",
       "</style>\n",
       "<table border=\"1\" class=\"dataframe\">\n",
       "  <thead>\n",
       "    <tr>\n",
       "      <th></th>\n",
       "      <th colspan=\"2\" halign=\"left\">count</th>\n",
       "      <th colspan=\"2\" halign=\"left\">mean</th>\n",
       "    </tr>\n",
       "    <tr>\n",
       "      <th>gender</th>\n",
       "      <th>F</th>\n",
       "      <th>M</th>\n",
       "      <th>F</th>\n",
       "      <th>M</th>\n",
       "    </tr>\n",
       "    <tr>\n",
       "      <th>children_category</th>\n",
       "      <th></th>\n",
       "      <th></th>\n",
       "      <th></th>\n",
       "      <th></th>\n",
       "    </tr>\n",
       "  </thead>\n",
       "  <tbody>\n",
       "    <tr>\n",
       "      <th>1-2 детей</th>\n",
       "      <td>4402</td>\n",
       "      <td>2551</td>\n",
       "      <td>0.086779</td>\n",
       "      <td>0.102705</td>\n",
       "    </tr>\n",
       "    <tr>\n",
       "      <th>бездетные</th>\n",
       "      <td>9470</td>\n",
       "      <td>4551</td>\n",
       "      <td>0.062196</td>\n",
       "      <td>0.103054</td>\n",
       "    </tr>\n",
       "    <tr>\n",
       "      <th>многодетные</th>\n",
       "      <td>230</td>\n",
       "      <td>148</td>\n",
       "      <td>0.078261</td>\n",
       "      <td>0.087838</td>\n",
       "    </tr>\n",
       "  </tbody>\n",
       "</table>\n",
       "</div>"
      ],
      "text/plain": [
       "                  count            mean          \n",
       "gender                F     M         F         M\n",
       "children_category                                \n",
       "1-2 детей          4402  2551  0.086779  0.102705\n",
       "бездетные          9470  4551  0.062196  0.103054\n",
       "многодетные         230   148  0.078261  0.087838"
      ]
     },
     "execution_count": 35,
     "metadata": {},
     "output_type": "execute_result"
    }
   ],
   "source": [
    "df.pivot_table(index=['children_category'],columns=['gender'],values='debt',aggfunc=['count', 'mean'])"
   ]
  },
  {
   "cell_type": "markdown",
   "id": "c45e51af",
   "metadata": {},
   "source": [
    "#### Answer 1:"
   ]
  },
  {
   "cell_type": "markdown",
   "id": "5a50d742",
   "metadata": {},
   "source": [
    "We can make the following conclusions from the obtained results:\n",
    "\n",
    "1. Most often, the loan is repaid on time by clients (7.5% of non-repayments on time) who do not have children.\n",
    "2. The largest share of loan defaults - 9.3%, among clients with 1-2 children.\n",
    "3. Among those with many children, the share of clients who do not repay the loan on time is 8.2%\n",
    "\n",
    "Also, if we include gender, we can see that men default more often in each category."
   ]
  },
  {
   "cell_type": "markdown",
   "id": "857f2163",
   "metadata": {},
   "source": [
    "#### Question 2:"
   ]
  },
  {
   "cell_type": "markdown",
   "id": "b6dd3dcf",
   "metadata": {},
   "source": [
    "Let's check if there is any relation between marital status and default."
   ]
  },
  {
   "cell_type": "code",
   "execution_count": 36,
   "id": "0250f0ac",
   "metadata": {
    "scrolled": true
   },
   "outputs": [
    {
     "data": {
      "text/html": [
       "<div>\n",
       "<style scoped>\n",
       "    .dataframe tbody tr th:only-of-type {\n",
       "        vertical-align: middle;\n",
       "    }\n",
       "\n",
       "    .dataframe tbody tr th {\n",
       "        vertical-align: top;\n",
       "    }\n",
       "\n",
       "    .dataframe thead th {\n",
       "        text-align: right;\n",
       "    }\n",
       "</style>\n",
       "<table border=\"1\" class=\"dataframe\">\n",
       "  <thead>\n",
       "    <tr style=\"text-align: right;\">\n",
       "      <th></th>\n",
       "      <th>count</th>\n",
       "      <th>mean</th>\n",
       "    </tr>\n",
       "    <tr>\n",
       "      <th>family_status</th>\n",
       "      <th></th>\n",
       "      <th></th>\n",
       "    </tr>\n",
       "  </thead>\n",
       "  <tbody>\n",
       "    <tr>\n",
       "      <th>в разводе</th>\n",
       "      <td>1185</td>\n",
       "      <td>0.071730</td>\n",
       "    </tr>\n",
       "    <tr>\n",
       "      <th>вдовец / вдова</th>\n",
       "      <td>954</td>\n",
       "      <td>0.064990</td>\n",
       "    </tr>\n",
       "    <tr>\n",
       "      <th>гражданский брак</th>\n",
       "      <td>4129</td>\n",
       "      <td>0.093485</td>\n",
       "    </tr>\n",
       "    <tr>\n",
       "      <th>женат / замужем</th>\n",
       "      <td>12290</td>\n",
       "      <td>0.075427</td>\n",
       "    </tr>\n",
       "    <tr>\n",
       "      <th>не женат / не замужем</th>\n",
       "      <td>2794</td>\n",
       "      <td>0.097709</td>\n",
       "    </tr>\n",
       "  </tbody>\n",
       "</table>\n",
       "</div>"
      ],
      "text/plain": [
       "                       count      mean\n",
       "family_status                         \n",
       "в разводе               1185  0.071730\n",
       "вдовец / вдова           954  0.064990\n",
       "гражданский брак        4129  0.093485\n",
       "женат / замужем        12290  0.075427\n",
       "не женат / не замужем   2794  0.097709"
      ]
     },
     "execution_count": 36,
     "metadata": {},
     "output_type": "execute_result"
    }
   ],
   "source": [
    "df.groupby('family_status')['debt'].agg(['count','mean'])"
   ]
  },
  {
   "cell_type": "code",
   "execution_count": 37,
   "id": "1edfdb3a",
   "metadata": {},
   "outputs": [
    {
     "data": {
      "text/html": [
       "<div>\n",
       "<style scoped>\n",
       "    .dataframe tbody tr th:only-of-type {\n",
       "        vertical-align: middle;\n",
       "    }\n",
       "\n",
       "    .dataframe tbody tr th {\n",
       "        vertical-align: top;\n",
       "    }\n",
       "\n",
       "    .dataframe thead tr th {\n",
       "        text-align: left;\n",
       "    }\n",
       "\n",
       "    .dataframe thead tr:last-of-type th {\n",
       "        text-align: right;\n",
       "    }\n",
       "</style>\n",
       "<table border=\"1\" class=\"dataframe\">\n",
       "  <thead>\n",
       "    <tr>\n",
       "      <th></th>\n",
       "      <th colspan=\"2\" halign=\"left\">count</th>\n",
       "      <th colspan=\"2\" halign=\"left\">mean</th>\n",
       "    </tr>\n",
       "    <tr>\n",
       "      <th>gender</th>\n",
       "      <th>F</th>\n",
       "      <th>M</th>\n",
       "      <th>F</th>\n",
       "      <th>M</th>\n",
       "    </tr>\n",
       "    <tr>\n",
       "      <th>family_status</th>\n",
       "      <th></th>\n",
       "      <th></th>\n",
       "      <th></th>\n",
       "      <th></th>\n",
       "    </tr>\n",
       "  </thead>\n",
       "  <tbody>\n",
       "    <tr>\n",
       "      <th>в разводе</th>\n",
       "      <td>927</td>\n",
       "      <td>258</td>\n",
       "      <td>0.065804</td>\n",
       "      <td>0.093023</td>\n",
       "    </tr>\n",
       "    <tr>\n",
       "      <th>вдовец / вдова</th>\n",
       "      <td>899</td>\n",
       "      <td>55</td>\n",
       "      <td>0.056730</td>\n",
       "      <td>0.200000</td>\n",
       "    </tr>\n",
       "    <tr>\n",
       "      <th>гражданский брак</th>\n",
       "      <td>2829</td>\n",
       "      <td>1300</td>\n",
       "      <td>0.082008</td>\n",
       "      <td>0.118462</td>\n",
       "    </tr>\n",
       "    <tr>\n",
       "      <th>женат / замужем</th>\n",
       "      <td>7726</td>\n",
       "      <td>4564</td>\n",
       "      <td>0.068211</td>\n",
       "      <td>0.087642</td>\n",
       "    </tr>\n",
       "    <tr>\n",
       "      <th>не женат / не замужем</th>\n",
       "      <td>1721</td>\n",
       "      <td>1073</td>\n",
       "      <td>0.068565</td>\n",
       "      <td>0.144455</td>\n",
       "    </tr>\n",
       "  </tbody>\n",
       "</table>\n",
       "</div>"
      ],
      "text/plain": [
       "                      count            mean          \n",
       "gender                    F     M         F         M\n",
       "family_status                                        \n",
       "в разводе               927   258  0.065804  0.093023\n",
       "вдовец / вдова          899    55  0.056730  0.200000\n",
       "гражданский брак       2829  1300  0.082008  0.118462\n",
       "женат / замужем        7726  4564  0.068211  0.087642\n",
       "не женат / не замужем  1721  1073  0.068565  0.144455"
      ]
     },
     "execution_count": 37,
     "metadata": {},
     "output_type": "execute_result"
    }
   ],
   "source": [
    "df.pivot_table(index=['family_status'],columns=['gender'],values='debt',aggfunc=['count', 'mean'])"
   ]
  },
  {
   "cell_type": "markdown",
   "id": "5d39fbba",
   "metadata": {},
   "source": [
    "#### Answer 2:"
   ]
  },
  {
   "cell_type": "markdown",
   "id": "67ab168a",
   "metadata": {},
   "source": [
    "If we look at the relationship between marital status and loan repayment on time, we can draw the following conclusions:\n",
    "\n",
    "1. The share of clients who do not repay loans on time is the highest among the categories 'single' and 'civil marriage' - 9.8% and 9.4% respectively.\n",
    "2. The smallest share of clients - 6.5%, who do not repay their loans on time is among the 'widower/widow' category. Also, 'divorced' and 'married' clients are more responsible with only 7.2% and 7.5% of late payments respectively.\n",
    "\n",
    "Also, if we add the division by gender, we can see that men default more often in each category."
   ]
  },
  {
   "cell_type": "markdown",
   "id": "087cb977",
   "metadata": {},
   "source": [
    "#### Question 3:"
   ]
  },
  {
   "cell_type": "markdown",
   "id": "f8678a0c",
   "metadata": {},
   "source": [
    "Let's check if there is a relation between income and paying on time."
   ]
  },
  {
   "cell_type": "code",
   "execution_count": 38,
   "id": "79653d2c",
   "metadata": {
    "scrolled": true
   },
   "outputs": [
    {
     "data": {
      "text/html": [
       "<div>\n",
       "<style scoped>\n",
       "    .dataframe tbody tr th:only-of-type {\n",
       "        vertical-align: middle;\n",
       "    }\n",
       "\n",
       "    .dataframe tbody tr th {\n",
       "        vertical-align: top;\n",
       "    }\n",
       "\n",
       "    .dataframe thead th {\n",
       "        text-align: right;\n",
       "    }\n",
       "</style>\n",
       "<table border=\"1\" class=\"dataframe\">\n",
       "  <thead>\n",
       "    <tr style=\"text-align: right;\">\n",
       "      <th></th>\n",
       "      <th>count</th>\n",
       "      <th>mean</th>\n",
       "    </tr>\n",
       "    <tr>\n",
       "      <th>total_income_category</th>\n",
       "      <th></th>\n",
       "      <th></th>\n",
       "    </tr>\n",
       "  </thead>\n",
       "  <tbody>\n",
       "    <tr>\n",
       "      <th>A</th>\n",
       "      <td>25</td>\n",
       "      <td>0.080000</td>\n",
       "    </tr>\n",
       "    <tr>\n",
       "      <th>B</th>\n",
       "      <td>5015</td>\n",
       "      <td>0.070788</td>\n",
       "    </tr>\n",
       "    <tr>\n",
       "      <th>C</th>\n",
       "      <td>15942</td>\n",
       "      <td>0.084870</td>\n",
       "    </tr>\n",
       "    <tr>\n",
       "      <th>D</th>\n",
       "      <td>348</td>\n",
       "      <td>0.060345</td>\n",
       "    </tr>\n",
       "    <tr>\n",
       "      <th>E</th>\n",
       "      <td>22</td>\n",
       "      <td>0.090909</td>\n",
       "    </tr>\n",
       "  </tbody>\n",
       "</table>\n",
       "</div>"
      ],
      "text/plain": [
       "                       count      mean\n",
       "total_income_category                 \n",
       "A                         25  0.080000\n",
       "B                       5015  0.070788\n",
       "C                      15942  0.084870\n",
       "D                        348  0.060345\n",
       "E                         22  0.090909"
      ]
     },
     "execution_count": 38,
     "metadata": {},
     "output_type": "execute_result"
    }
   ],
   "source": [
    "df.groupby('total_income_category')['debt'].agg(['count','mean'])"
   ]
  },
  {
   "cell_type": "code",
   "execution_count": 39,
   "id": "fa80b959",
   "metadata": {},
   "outputs": [
    {
     "data": {
      "text/html": [
       "<div>\n",
       "<style scoped>\n",
       "    .dataframe tbody tr th:only-of-type {\n",
       "        vertical-align: middle;\n",
       "    }\n",
       "\n",
       "    .dataframe tbody tr th {\n",
       "        vertical-align: top;\n",
       "    }\n",
       "\n",
       "    .dataframe thead tr th {\n",
       "        text-align: left;\n",
       "    }\n",
       "\n",
       "    .dataframe thead tr:last-of-type th {\n",
       "        text-align: right;\n",
       "    }\n",
       "</style>\n",
       "<table border=\"1\" class=\"dataframe\">\n",
       "  <thead>\n",
       "    <tr>\n",
       "      <th></th>\n",
       "      <th colspan=\"2\" halign=\"left\">count</th>\n",
       "      <th colspan=\"2\" halign=\"left\">mean</th>\n",
       "    </tr>\n",
       "    <tr>\n",
       "      <th>gender</th>\n",
       "      <th>F</th>\n",
       "      <th>M</th>\n",
       "      <th>F</th>\n",
       "      <th>M</th>\n",
       "    </tr>\n",
       "    <tr>\n",
       "      <th>total_income_category</th>\n",
       "      <th></th>\n",
       "      <th></th>\n",
       "      <th></th>\n",
       "      <th></th>\n",
       "    </tr>\n",
       "  </thead>\n",
       "  <tbody>\n",
       "    <tr>\n",
       "      <th>A</th>\n",
       "      <td>10</td>\n",
       "      <td>15</td>\n",
       "      <td>0.000000</td>\n",
       "      <td>0.133333</td>\n",
       "    </tr>\n",
       "    <tr>\n",
       "      <th>B</th>\n",
       "      <td>2697</td>\n",
       "      <td>2318</td>\n",
       "      <td>0.060808</td>\n",
       "      <td>0.082399</td>\n",
       "    </tr>\n",
       "    <tr>\n",
       "      <th>C</th>\n",
       "      <td>11072</td>\n",
       "      <td>4870</td>\n",
       "      <td>0.072977</td>\n",
       "      <td>0.111910</td>\n",
       "    </tr>\n",
       "    <tr>\n",
       "      <th>D</th>\n",
       "      <td>307</td>\n",
       "      <td>41</td>\n",
       "      <td>0.048860</td>\n",
       "      <td>0.146341</td>\n",
       "    </tr>\n",
       "    <tr>\n",
       "      <th>E</th>\n",
       "      <td>16</td>\n",
       "      <td>6</td>\n",
       "      <td>0.125000</td>\n",
       "      <td>0.000000</td>\n",
       "    </tr>\n",
       "  </tbody>\n",
       "</table>\n",
       "</div>"
      ],
      "text/plain": [
       "                       count            mean          \n",
       "gender                     F     M         F         M\n",
       "total_income_category                                 \n",
       "A                         10    15  0.000000  0.133333\n",
       "B                       2697  2318  0.060808  0.082399\n",
       "C                      11072  4870  0.072977  0.111910\n",
       "D                        307    41  0.048860  0.146341\n",
       "E                         16     6  0.125000  0.000000"
      ]
     },
     "execution_count": 39,
     "metadata": {},
     "output_type": "execute_result"
    }
   ],
   "source": [
    "df.pivot_table(index=['total_income_category'],columns='gender',values='debt',aggfunc=['count', 'mean'])"
   ]
  },
  {
   "cell_type": "markdown",
   "id": "b74deda2",
   "metadata": {},
   "source": [
    "#### Answer 3:"
   ]
  },
  {
   "cell_type": "markdown",
   "id": "cc943155",
   "metadata": {},
   "source": [
    "We can see from the data that there is no linear relation between income and paying in time.\n",
    "\n",
    "The highest default rate - 9.1% is within the low income category (below 30000).\n",
    "\n",
    "They are followed by clients with income between 50,000 and 200,000 - default rate is 8.5%.\n",
    "\n",
    "The clients with incomes 30000 to 50000 have the lowest default rate.\n",
    "\n",
    "Also, clients with income above 1000000 have a default rate of 8%.\n",
    "\n",
    "If we add the division by gender, we can notice an interesting thing. Men are more likely to fail to repay loans on time in all categories except for one - clients with incomes below 30,000. On the other hand, this phenomenon may be present due to a lack of data on the category. In our case, 22 rows of data is not a representative sample. Additional data are needed to confirm or reject this hypothesis."
   ]
  },
  {
   "cell_type": "markdown",
   "id": "d0df5b65",
   "metadata": {},
   "source": [
    "#### Question 4:"
   ]
  },
  {
   "cell_type": "markdown",
   "id": "235e74a7",
   "metadata": {},
   "source": [
    "Let's check how paying on time depends on the loan purpose."
   ]
  },
  {
   "cell_type": "code",
   "execution_count": 40,
   "id": "58a28a62",
   "metadata": {},
   "outputs": [
    {
     "data": {
      "text/html": [
       "<div>\n",
       "<style scoped>\n",
       "    .dataframe tbody tr th:only-of-type {\n",
       "        vertical-align: middle;\n",
       "    }\n",
       "\n",
       "    .dataframe tbody tr th {\n",
       "        vertical-align: top;\n",
       "    }\n",
       "\n",
       "    .dataframe thead th {\n",
       "        text-align: right;\n",
       "    }\n",
       "</style>\n",
       "<table border=\"1\" class=\"dataframe\">\n",
       "  <thead>\n",
       "    <tr style=\"text-align: right;\">\n",
       "      <th></th>\n",
       "      <th>count</th>\n",
       "      <th>mean</th>\n",
       "    </tr>\n",
       "    <tr>\n",
       "      <th>purpose_category</th>\n",
       "      <th></th>\n",
       "      <th></th>\n",
       "    </tr>\n",
       "  </thead>\n",
       "  <tbody>\n",
       "    <tr>\n",
       "      <th>операции с автомобилем</th>\n",
       "      <td>4284</td>\n",
       "      <td>0.093371</td>\n",
       "    </tr>\n",
       "    <tr>\n",
       "      <th>операции с недвижимостью</th>\n",
       "      <td>10763</td>\n",
       "      <td>0.072378</td>\n",
       "    </tr>\n",
       "    <tr>\n",
       "      <th>получение образования</th>\n",
       "      <td>3995</td>\n",
       "      <td>0.092616</td>\n",
       "    </tr>\n",
       "    <tr>\n",
       "      <th>проведение свадьбы</th>\n",
       "      <td>2310</td>\n",
       "      <td>0.079654</td>\n",
       "    </tr>\n",
       "  </tbody>\n",
       "</table>\n",
       "</div>"
      ],
      "text/plain": [
       "                          count      mean\n",
       "purpose_category                         \n",
       "операции с автомобилем     4284  0.093371\n",
       "операции с недвижимостью  10763  0.072378\n",
       "получение образования      3995  0.092616\n",
       "проведение свадьбы         2310  0.079654"
      ]
     },
     "execution_count": 40,
     "metadata": {},
     "output_type": "execute_result"
    }
   ],
   "source": [
    "df.groupby('purpose_category')['debt'].agg(['count','mean'])"
   ]
  },
  {
   "cell_type": "code",
   "execution_count": 41,
   "id": "131463bb",
   "metadata": {},
   "outputs": [
    {
     "data": {
      "text/html": [
       "<div>\n",
       "<style scoped>\n",
       "    .dataframe tbody tr th:only-of-type {\n",
       "        vertical-align: middle;\n",
       "    }\n",
       "\n",
       "    .dataframe tbody tr th {\n",
       "        vertical-align: top;\n",
       "    }\n",
       "\n",
       "    .dataframe thead tr th {\n",
       "        text-align: left;\n",
       "    }\n",
       "\n",
       "    .dataframe thead tr:last-of-type th {\n",
       "        text-align: right;\n",
       "    }\n",
       "</style>\n",
       "<table border=\"1\" class=\"dataframe\">\n",
       "  <thead>\n",
       "    <tr>\n",
       "      <th></th>\n",
       "      <th colspan=\"2\" halign=\"left\">count</th>\n",
       "      <th colspan=\"2\" halign=\"left\">mean</th>\n",
       "    </tr>\n",
       "    <tr>\n",
       "      <th>gender</th>\n",
       "      <th>F</th>\n",
       "      <th>M</th>\n",
       "      <th>F</th>\n",
       "      <th>M</th>\n",
       "    </tr>\n",
       "    <tr>\n",
       "      <th>purpose_category</th>\n",
       "      <th></th>\n",
       "      <th></th>\n",
       "      <th></th>\n",
       "      <th></th>\n",
       "    </tr>\n",
       "  </thead>\n",
       "  <tbody>\n",
       "    <tr>\n",
       "      <th>операции с автомобилем</th>\n",
       "      <td>2842</td>\n",
       "      <td>1442</td>\n",
       "      <td>0.081633</td>\n",
       "      <td>0.116505</td>\n",
       "    </tr>\n",
       "    <tr>\n",
       "      <th>операции с недвижимостью</th>\n",
       "      <td>7056</td>\n",
       "      <td>3707</td>\n",
       "      <td>0.062783</td>\n",
       "      <td>0.090639</td>\n",
       "    </tr>\n",
       "    <tr>\n",
       "      <th>получение образования</th>\n",
       "      <td>2652</td>\n",
       "      <td>1343</td>\n",
       "      <td>0.078054</td>\n",
       "      <td>0.121370</td>\n",
       "    </tr>\n",
       "    <tr>\n",
       "      <th>проведение свадьбы</th>\n",
       "      <td>1552</td>\n",
       "      <td>758</td>\n",
       "      <td>0.068943</td>\n",
       "      <td>0.101583</td>\n",
       "    </tr>\n",
       "  </tbody>\n",
       "</table>\n",
       "</div>"
      ],
      "text/plain": [
       "                         count            mean          \n",
       "gender                       F     M         F         M\n",
       "purpose_category                                        \n",
       "операции с автомобилем    2842  1442  0.081633  0.116505\n",
       "операции с недвижимостью  7056  3707  0.062783  0.090639\n",
       "получение образования     2652  1343  0.078054  0.121370\n",
       "проведение свадьбы        1552   758  0.068943  0.101583"
      ]
     },
     "execution_count": 41,
     "metadata": {},
     "output_type": "execute_result"
    }
   ],
   "source": [
    "df.pivot_table(index=['purpose_category'],columns='gender',values='debt',aggfunc=['count', 'mean'])"
   ]
  },
  {
   "cell_type": "markdown",
   "id": "020d2861",
   "metadata": {},
   "source": [
    "#### Answer 4:"
   ]
  },
  {
   "cell_type": "markdown",
   "id": "8f3ac6cf",
   "metadata": {},
   "source": [
    "The highest loan default rate is within clients, who get a car loan - 9.4% and a student loan - 9.2%.\n",
    "\n",
    "The lowest loan default rate is within clients with mortgages - 7.2%.\n",
    "\n",
    "In the middle are the clients who get a wedding loan with 8% of defaults.\n",
    "\n",
    "If we add the division by gender, we can notice that men are more likely to fail to repay loans on time in all categories."
   ]
  },
  {
   "cell_type": "markdown",
   "id": "b21c279e",
   "metadata": {},
   "source": [
    "## Conclusion:"
   ]
  },
  {
   "cell_type": "markdown",
   "id": "fecd1312",
   "metadata": {},
   "source": [
    "In the course of the project, we found missing values and anomalies in the data. We replaced missed values in `days_employed` and `total_income` with medians by income type. We handled the anomalies in the `dob_years`, `children`, and `gender` columns. Then we changed the data type in the `total_income` column to 'int'. After that, we removed the explicit and implicit duplicates and added income categories, the purpose of the loan, and the number of children categories.\n",
    "\n",
    "After the analysis we obtained the following results:\n",
    "\n",
    "1. Clients without children are more likely to repay the loan on time. The share of late payments is lower among families with many children than among families with 1-2 children.\n",
    "\n",
    "2. Unmarried and married clients have more debts than other categories. Widows/widowers are more likely to repay loans on time.\n",
    "\n",
    "3. Contrary to expectations, the results show that there is no clear linear relationship between the level of income and the repayment of the loan on time. While, as expected, the lowest-income clients are more likely to default, the highest-income clients are also quite likely to default on loans.\n",
    "\n",
    "4. Real estate loans are more likely to be returned on time than car and education loans.\n",
    "\n",
    "Also, in the course of the study, we found a relation between gender and loan repayment on time. Thus, men are more likely to delay a loan payment than women."
   ]
  }
 ],
 "metadata": {
  "ExecuteTimeLog": [
   {
    "duration": 45,
    "start_time": "2022-04-15T10:08:46.893Z"
   },
   {
    "duration": 456,
    "start_time": "2022-04-15T10:08:51.977Z"
   },
   {
    "duration": 29,
    "start_time": "2022-04-15T10:08:54.986Z"
   },
   {
    "duration": 16,
    "start_time": "2022-04-15T10:09:16.152Z"
   },
   {
    "duration": 13,
    "start_time": "2022-04-15T10:11:46.617Z"
   },
   {
    "duration": 6,
    "start_time": "2022-04-15T10:12:51.315Z"
   },
   {
    "duration": 5,
    "start_time": "2022-04-15T10:12:56.484Z"
   },
   {
    "duration": 5,
    "start_time": "2022-04-15T10:13:08.861Z"
   },
   {
    "duration": 5,
    "start_time": "2022-04-15T10:21:39.692Z"
   },
   {
    "duration": 54,
    "start_time": "2022-04-15T10:22:03.306Z"
   },
   {
    "duration": 22,
    "start_time": "2022-04-15T10:22:11.910Z"
   },
   {
    "duration": 13,
    "start_time": "2022-04-15T10:28:01.271Z"
   },
   {
    "duration": 13,
    "start_time": "2022-04-15T10:28:35.285Z"
   },
   {
    "duration": 13,
    "start_time": "2022-04-15T10:34:48.142Z"
   },
   {
    "duration": 19,
    "start_time": "2022-04-15T10:35:04.877Z"
   },
   {
    "duration": 22,
    "start_time": "2022-04-15T10:36:49.488Z"
   },
   {
    "duration": 25,
    "start_time": "2022-04-15T10:36:57.926Z"
   },
   {
    "duration": 1845,
    "start_time": "2022-04-15T10:38:27.370Z"
   },
   {
    "duration": 10,
    "start_time": "2022-04-15T10:39:57.682Z"
   },
   {
    "duration": 913,
    "start_time": "2022-04-15T10:40:15.374Z"
   },
   {
    "duration": 7,
    "start_time": "2022-04-15T10:40:34.465Z"
   },
   {
    "duration": 29,
    "start_time": "2022-04-15T10:40:48.195Z"
   },
   {
    "duration": 37,
    "start_time": "2022-04-15T10:52:45.651Z"
   },
   {
    "duration": 7,
    "start_time": "2022-04-15T10:53:01.205Z"
   },
   {
    "duration": 5,
    "start_time": "2022-04-15T10:53:12.794Z"
   },
   {
    "duration": 4,
    "start_time": "2022-04-15T10:54:35.866Z"
   },
   {
    "duration": 3,
    "start_time": "2022-04-15T10:54:47.752Z"
   },
   {
    "duration": 3,
    "start_time": "2022-04-15T10:54:52.230Z"
   },
   {
    "duration": 7,
    "start_time": "2022-04-15T10:55:23.362Z"
   },
   {
    "duration": 8,
    "start_time": "2022-04-15T10:56:07.354Z"
   },
   {
    "duration": 9,
    "start_time": "2022-04-15T10:56:25.660Z"
   },
   {
    "duration": 9,
    "start_time": "2022-04-15T10:58:05.701Z"
   },
   {
    "duration": 7,
    "start_time": "2022-04-15T10:58:24.809Z"
   },
   {
    "duration": 4,
    "start_time": "2022-04-15T10:58:29.142Z"
   },
   {
    "duration": 3,
    "start_time": "2022-04-15T10:58:33.385Z"
   },
   {
    "duration": 3,
    "start_time": "2022-04-15T10:58:35.689Z"
   },
   {
    "duration": 5,
    "start_time": "2022-04-15T10:58:40.506Z"
   },
   {
    "duration": 3,
    "start_time": "2022-04-15T10:59:26.799Z"
   },
   {
    "duration": 3,
    "start_time": "2022-04-15T10:59:34.236Z"
   },
   {
    "duration": 4,
    "start_time": "2022-04-15T10:59:43.294Z"
   },
   {
    "duration": 3,
    "start_time": "2022-04-15T10:59:47.297Z"
   },
   {
    "duration": 3,
    "start_time": "2022-04-15T11:00:20.053Z"
   },
   {
    "duration": 3,
    "start_time": "2022-04-15T11:00:21.395Z"
   },
   {
    "duration": 5,
    "start_time": "2022-04-15T11:00:31.165Z"
   },
   {
    "duration": 8,
    "start_time": "2022-04-15T11:02:35.400Z"
   },
   {
    "duration": 7,
    "start_time": "2022-04-15T11:02:56.388Z"
   },
   {
    "duration": 8,
    "start_time": "2022-04-15T11:03:03.178Z"
   },
   {
    "duration": 7,
    "start_time": "2022-04-15T11:03:09.456Z"
   },
   {
    "duration": 7,
    "start_time": "2022-04-15T11:03:45.681Z"
   },
   {
    "duration": 5,
    "start_time": "2022-04-15T11:03:51.074Z"
   },
   {
    "duration": 3,
    "start_time": "2022-04-15T11:04:14.829Z"
   },
   {
    "duration": 4,
    "start_time": "2022-04-15T11:04:24.889Z"
   },
   {
    "duration": 9,
    "start_time": "2022-04-15T11:05:10.336Z"
   },
   {
    "duration": 5,
    "start_time": "2022-04-15T11:05:27.886Z"
   },
   {
    "duration": 5,
    "start_time": "2022-04-15T11:05:47.642Z"
   },
   {
    "duration": 1677,
    "start_time": "2022-04-15T11:09:12.260Z"
   },
   {
    "duration": 1967,
    "start_time": "2022-04-15T11:09:34.223Z"
   },
   {
    "duration": 20,
    "start_time": "2022-04-15T11:12:43.779Z"
   },
   {
    "duration": 14,
    "start_time": "2022-04-15T11:16:49.126Z"
   },
   {
    "duration": 17,
    "start_time": "2022-04-15T11:36:49.608Z"
   },
   {
    "duration": 5,
    "start_time": "2022-04-15T11:45:31.129Z"
   },
   {
    "duration": 117,
    "start_time": "2022-04-15T11:46:18.529Z"
   },
   {
    "duration": 8,
    "start_time": "2022-04-15T12:27:05.724Z"
   },
   {
    "duration": 6,
    "start_time": "2022-04-15T12:28:15.185Z"
   },
   {
    "duration": 17,
    "start_time": "2022-04-15T12:44:38.227Z"
   },
   {
    "duration": 11,
    "start_time": "2022-04-15T12:44:43.990Z"
   },
   {
    "duration": 19,
    "start_time": "2022-04-15T12:44:56.198Z"
   },
   {
    "duration": 20,
    "start_time": "2022-04-15T12:49:11.717Z"
   },
   {
    "duration": 21,
    "start_time": "2022-04-15T12:49:19.988Z"
   },
   {
    "duration": 58,
    "start_time": "2022-04-15T12:49:25.094Z"
   },
   {
    "duration": 16,
    "start_time": "2022-04-15T12:49:35.807Z"
   },
   {
    "duration": 12,
    "start_time": "2022-04-15T12:53:39.628Z"
   },
   {
    "duration": 20,
    "start_time": "2022-04-15T12:53:42.085Z"
   },
   {
    "duration": 21,
    "start_time": "2022-04-15T12:53:58.840Z"
   },
   {
    "duration": 19,
    "start_time": "2022-04-15T12:54:01.211Z"
   },
   {
    "duration": 18,
    "start_time": "2022-04-15T13:05:36.665Z"
   },
   {
    "duration": 15,
    "start_time": "2022-04-15T13:05:55.361Z"
   },
   {
    "duration": 15,
    "start_time": "2022-04-15T13:09:12.572Z"
   },
   {
    "duration": 16,
    "start_time": "2022-04-15T13:09:58.316Z"
   },
   {
    "duration": 56,
    "start_time": "2022-04-15T16:57:23.896Z"
   },
   {
    "duration": 514,
    "start_time": "2022-04-15T16:57:29.606Z"
   },
   {
    "duration": 45,
    "start_time": "2022-04-15T16:57:34.318Z"
   },
   {
    "duration": 13,
    "start_time": "2022-04-15T16:59:36.576Z"
   },
   {
    "duration": 10,
    "start_time": "2022-04-15T16:59:48.871Z"
   },
   {
    "duration": 142,
    "start_time": "2022-04-15T16:59:51.067Z"
   },
   {
    "duration": 71,
    "start_time": "2022-04-15T17:00:11.072Z"
   },
   {
    "duration": 10,
    "start_time": "2022-04-15T17:01:12.581Z"
   },
   {
    "duration": 13,
    "start_time": "2022-04-15T17:03:59.173Z"
   },
   {
    "duration": 15,
    "start_time": "2022-04-15T17:04:00.968Z"
   },
   {
    "duration": 36,
    "start_time": "2022-04-15T17:04:03.610Z"
   },
   {
    "duration": 4,
    "start_time": "2022-04-15T17:04:05.438Z"
   },
   {
    "duration": 15,
    "start_time": "2022-04-15T17:04:06.675Z"
   },
   {
    "duration": 5,
    "start_time": "2022-04-15T17:04:08.244Z"
   },
   {
    "duration": 7,
    "start_time": "2022-04-15T17:04:10.899Z"
   },
   {
    "duration": 6,
    "start_time": "2022-04-15T17:04:12.611Z"
   },
   {
    "duration": 4,
    "start_time": "2022-04-15T17:04:15.131Z"
   },
   {
    "duration": 21,
    "start_time": "2022-04-15T17:04:16.605Z"
   },
   {
    "duration": 25,
    "start_time": "2022-04-15T17:04:17.599Z"
   },
   {
    "duration": 20,
    "start_time": "2022-04-15T17:04:19.113Z"
   },
   {
    "duration": 17,
    "start_time": "2022-04-15T17:04:20.668Z"
   },
   {
    "duration": 11,
    "start_time": "2022-04-15T17:04:21.926Z"
   },
   {
    "duration": 21,
    "start_time": "2022-04-15T17:04:23.092Z"
   },
   {
    "duration": 21,
    "start_time": "2022-04-15T17:04:24.071Z"
   },
   {
    "duration": 21,
    "start_time": "2022-04-15T17:04:25.263Z"
   },
   {
    "duration": 29,
    "start_time": "2022-04-15T17:04:29.415Z"
   },
   {
    "duration": 9,
    "start_time": "2022-04-15T17:04:44.147Z"
   },
   {
    "duration": 10,
    "start_time": "2022-04-15T17:04:46.550Z"
   },
   {
    "duration": 14,
    "start_time": "2022-04-15T17:04:49.969Z"
   },
   {
    "duration": 69,
    "start_time": "2022-04-15T17:05:11.360Z"
   },
   {
    "duration": 6,
    "start_time": "2022-04-15T17:11:35.544Z"
   },
   {
    "duration": 11,
    "start_time": "2022-04-15T17:11:57.359Z"
   },
   {
    "duration": 11,
    "start_time": "2022-04-15T17:12:24.950Z"
   },
   {
    "duration": 13,
    "start_time": "2022-04-15T17:12:50.371Z"
   },
   {
    "duration": 12,
    "start_time": "2022-04-15T17:13:18.650Z"
   },
   {
    "duration": 50,
    "start_time": "2022-04-15T17:14:59.157Z"
   },
   {
    "duration": 18,
    "start_time": "2022-04-15T17:15:12.190Z"
   },
   {
    "duration": 51,
    "start_time": "2022-04-15T17:15:16.511Z"
   },
   {
    "duration": 39,
    "start_time": "2022-04-15T17:15:36.336Z"
   },
   {
    "duration": 13,
    "start_time": "2022-04-15T17:17:28.540Z"
   },
   {
    "duration": 35,
    "start_time": "2022-04-15T17:19:44.690Z"
   },
   {
    "duration": 6,
    "start_time": "2022-04-15T17:22:15.258Z"
   },
   {
    "duration": 22,
    "start_time": "2022-04-15T17:23:25.592Z"
   },
   {
    "duration": 10,
    "start_time": "2022-04-15T17:24:56.449Z"
   },
   {
    "duration": 13,
    "start_time": "2022-04-15T17:28:53.372Z"
   },
   {
    "duration": 30,
    "start_time": "2022-04-15T20:04:59.195Z"
   },
   {
    "duration": 11,
    "start_time": "2022-04-15T20:05:09.009Z"
   },
   {
    "duration": 21,
    "start_time": "2022-04-15T20:05:26.154Z"
   },
   {
    "duration": 76,
    "start_time": "2022-04-15T20:07:11.825Z"
   },
   {
    "duration": 23,
    "start_time": "2022-04-15T20:07:16.290Z"
   },
   {
    "duration": 7,
    "start_time": "2022-04-15T20:07:17.514Z"
   },
   {
    "duration": 7,
    "start_time": "2022-04-15T20:07:19.662Z"
   },
   {
    "duration": 63,
    "start_time": "2022-04-15T20:07:36.185Z"
   },
   {
    "duration": 7,
    "start_time": "2022-04-15T20:07:38.999Z"
   },
   {
    "duration": 28,
    "start_time": "2022-04-15T20:07:46.210Z"
   },
   {
    "duration": 11,
    "start_time": "2022-04-15T20:07:46.987Z"
   },
   {
    "duration": 61,
    "start_time": "2022-04-15T20:08:02.164Z"
   },
   {
    "duration": 8,
    "start_time": "2022-04-15T20:08:35.076Z"
   },
   {
    "duration": 7,
    "start_time": "2022-04-15T20:08:36.005Z"
   },
   {
    "duration": 65,
    "start_time": "2022-04-15T20:09:00.894Z"
   },
   {
    "duration": 7,
    "start_time": "2022-04-15T20:09:07.041Z"
   },
   {
    "duration": 7,
    "start_time": "2022-04-15T20:09:25.762Z"
   },
   {
    "duration": 61,
    "start_time": "2022-04-15T20:09:41.158Z"
   },
   {
    "duration": 12,
    "start_time": "2022-04-15T20:09:45.182Z"
   },
   {
    "duration": 26,
    "start_time": "2022-04-15T20:09:51.458Z"
   },
   {
    "duration": 4,
    "start_time": "2022-04-15T20:09:55.528Z"
   },
   {
    "duration": 14,
    "start_time": "2022-04-15T20:09:56.966Z"
   },
   {
    "duration": 7,
    "start_time": "2022-04-15T20:09:59.846Z"
   },
   {
    "duration": 6,
    "start_time": "2022-04-15T20:10:01.854Z"
   },
   {
    "duration": 7,
    "start_time": "2022-04-15T20:10:09.312Z"
   },
   {
    "duration": 10,
    "start_time": "2022-04-15T20:10:15.807Z"
   },
   {
    "duration": 7,
    "start_time": "2022-04-15T20:10:17.881Z"
   },
   {
    "duration": 5,
    "start_time": "2022-04-15T20:10:37.144Z"
   },
   {
    "duration": 17,
    "start_time": "2022-04-15T20:10:38.964Z"
   },
   {
    "duration": 19,
    "start_time": "2022-04-15T20:10:40.751Z"
   },
   {
    "duration": 16,
    "start_time": "2022-04-15T20:10:41.650Z"
   },
   {
    "duration": 14,
    "start_time": "2022-04-15T20:10:43.203Z"
   },
   {
    "duration": 10,
    "start_time": "2022-04-15T20:10:44.637Z"
   },
   {
    "duration": 31,
    "start_time": "2022-04-15T20:10:45.821Z"
   },
   {
    "duration": 20,
    "start_time": "2022-04-15T20:10:46.892Z"
   },
   {
    "duration": 18,
    "start_time": "2022-04-15T20:10:47.880Z"
   },
   {
    "duration": 35,
    "start_time": "2022-04-15T20:10:50.732Z"
   },
   {
    "duration": 9,
    "start_time": "2022-04-15T20:10:56.943Z"
   },
   {
    "duration": 12,
    "start_time": "2022-04-15T20:10:58.333Z"
   },
   {
    "duration": 13,
    "start_time": "2022-04-15T20:10:59.620Z"
   },
   {
    "duration": 9,
    "start_time": "2022-04-15T20:11:01.494Z"
   },
   {
    "duration": 73,
    "start_time": "2022-04-15T20:11:16.099Z"
   },
   {
    "duration": 10,
    "start_time": "2022-04-15T20:11:25.733Z"
   },
   {
    "duration": 6,
    "start_time": "2022-04-15T20:11:29.842Z"
   },
   {
    "duration": 7,
    "start_time": "2022-04-15T20:11:31.962Z"
   },
   {
    "duration": 7,
    "start_time": "2022-04-15T20:11:32.970Z"
   },
   {
    "duration": 7,
    "start_time": "2022-04-15T20:11:34.757Z"
   },
   {
    "duration": 4,
    "start_time": "2022-04-15T20:12:03.446Z"
   },
   {
    "duration": 16,
    "start_time": "2022-04-15T20:12:06.897Z"
   },
   {
    "duration": 18,
    "start_time": "2022-04-15T20:12:07.956Z"
   },
   {
    "duration": 31,
    "start_time": "2022-04-15T20:12:08.612Z"
   },
   {
    "duration": 15,
    "start_time": "2022-04-15T20:12:10.076Z"
   },
   {
    "duration": 16,
    "start_time": "2022-04-15T20:12:11.426Z"
   },
   {
    "duration": 22,
    "start_time": "2022-04-15T20:12:12.043Z"
   },
   {
    "duration": 19,
    "start_time": "2022-04-15T20:12:12.884Z"
   },
   {
    "duration": 25,
    "start_time": "2022-04-15T20:12:13.526Z"
   },
   {
    "duration": 30,
    "start_time": "2022-04-15T20:12:15.337Z"
   },
   {
    "duration": 9,
    "start_time": "2022-04-15T20:12:17.787Z"
   },
   {
    "duration": 10,
    "start_time": "2022-04-15T20:12:19.289Z"
   },
   {
    "duration": 9,
    "start_time": "2022-04-15T20:12:22.865Z"
   },
   {
    "duration": 68,
    "start_time": "2022-04-15T20:13:02.493Z"
   },
   {
    "duration": 12,
    "start_time": "2022-04-15T20:13:09.916Z"
   },
   {
    "duration": 11,
    "start_time": "2022-04-15T20:14:16.039Z"
   },
   {
    "duration": 11,
    "start_time": "2022-04-15T20:14:59.510Z"
   },
   {
    "duration": 11,
    "start_time": "2022-04-15T20:15:08.912Z"
   },
   {
    "duration": 12,
    "start_time": "2022-04-15T20:15:17.078Z"
   },
   {
    "duration": 11,
    "start_time": "2022-04-15T20:15:19.199Z"
   },
   {
    "duration": 35,
    "start_time": "2022-04-15T20:15:30.094Z"
   },
   {
    "duration": 23,
    "start_time": "2022-04-15T20:16:17.234Z"
   },
   {
    "duration": 10,
    "start_time": "2022-04-15T20:16:37.548Z"
   },
   {
    "duration": 20,
    "start_time": "2022-04-15T20:16:55.261Z"
   },
   {
    "duration": 34,
    "start_time": "2022-04-15T20:17:40.353Z"
   },
   {
    "duration": 18,
    "start_time": "2022-04-15T20:18:54.987Z"
   },
   {
    "duration": 30,
    "start_time": "2022-04-15T20:19:13.117Z"
   },
   {
    "duration": 67,
    "start_time": "2022-04-16T06:11:40.519Z"
   },
   {
    "duration": 561,
    "start_time": "2022-04-16T06:11:47.249Z"
   },
   {
    "duration": 96,
    "start_time": "2022-04-16T06:11:55.906Z"
   },
   {
    "duration": 19,
    "start_time": "2022-04-16T06:12:15.947Z"
   },
   {
    "duration": 21,
    "start_time": "2022-04-16T06:12:17.695Z"
   },
   {
    "duration": 41,
    "start_time": "2022-04-16T06:12:19.528Z"
   },
   {
    "duration": 6,
    "start_time": "2022-04-16T06:12:21.081Z"
   },
   {
    "duration": 21,
    "start_time": "2022-04-16T06:12:21.927Z"
   },
   {
    "duration": 10,
    "start_time": "2022-04-16T06:12:23.613Z"
   },
   {
    "duration": 7,
    "start_time": "2022-04-16T06:12:24.995Z"
   },
   {
    "duration": 8,
    "start_time": "2022-04-16T06:12:26.944Z"
   },
   {
    "duration": 12,
    "start_time": "2022-04-16T06:12:28.300Z"
   },
   {
    "duration": 10,
    "start_time": "2022-04-16T06:12:29.681Z"
   },
   {
    "duration": 5,
    "start_time": "2022-04-16T06:12:31.599Z"
   },
   {
    "duration": 26,
    "start_time": "2022-04-16T06:12:32.466Z"
   },
   {
    "duration": 28,
    "start_time": "2022-04-16T06:12:33.713Z"
   },
   {
    "duration": 25,
    "start_time": "2022-04-16T06:12:34.465Z"
   },
   {
    "duration": 19,
    "start_time": "2022-04-16T06:12:36.092Z"
   },
   {
    "duration": 15,
    "start_time": "2022-04-16T06:12:36.839Z"
   },
   {
    "duration": 27,
    "start_time": "2022-04-16T06:12:37.744Z"
   },
   {
    "duration": 28,
    "start_time": "2022-04-16T06:12:38.546Z"
   },
   {
    "duration": 26,
    "start_time": "2022-04-16T06:12:39.196Z"
   },
   {
    "duration": 38,
    "start_time": "2022-04-16T06:12:40.847Z"
   },
   {
    "duration": 13,
    "start_time": "2022-04-16T06:12:43.739Z"
   },
   {
    "duration": 13,
    "start_time": "2022-04-16T06:12:45.262Z"
   },
   {
    "duration": 14,
    "start_time": "2022-04-16T06:12:49.324Z"
   },
   {
    "duration": 78,
    "start_time": "2022-04-16T06:12:51.438Z"
   },
   {
    "duration": 53,
    "start_time": "2022-04-16T06:14:04.795Z"
   },
   {
    "duration": 42,
    "start_time": "2022-04-16T06:15:01.498Z"
   },
   {
    "duration": 45,
    "start_time": "2022-04-16T06:17:18.871Z"
   },
   {
    "duration": 197,
    "start_time": "2022-04-16T06:17:59.686Z"
   },
   {
    "duration": 48,
    "start_time": "2022-04-16T06:24:21.495Z"
   },
   {
    "duration": 817,
    "start_time": "2022-04-16T06:24:38.586Z"
   },
   {
    "duration": 188,
    "start_time": "2022-04-16T06:27:14.319Z"
   },
   {
    "duration": 10,
    "start_time": "2022-04-16T06:29:37.035Z"
   },
   {
    "duration": 9,
    "start_time": "2022-04-16T06:32:38.513Z"
   },
   {
    "duration": 5,
    "start_time": "2022-04-16T06:32:45.381Z"
   },
   {
    "duration": 19,
    "start_time": "2022-04-16T06:33:30.013Z"
   },
   {
    "duration": 10,
    "start_time": "2022-04-16T06:33:35.422Z"
   },
   {
    "duration": 17,
    "start_time": "2022-04-16T06:38:03.634Z"
   },
   {
    "duration": 178,
    "start_time": "2022-04-16T06:38:06.069Z"
   },
   {
    "duration": 211,
    "start_time": "2022-04-16T06:38:08.362Z"
   },
   {
    "duration": 277,
    "start_time": "2022-04-16T06:39:28.883Z"
   },
   {
    "duration": 202,
    "start_time": "2022-04-16T06:45:01.550Z"
   },
   {
    "duration": 30,
    "start_time": "2022-04-16T06:52:18.241Z"
   },
   {
    "duration": 20,
    "start_time": "2022-04-16T06:52:29.135Z"
   },
   {
    "duration": 35,
    "start_time": "2022-04-16T06:53:26.030Z"
   },
   {
    "duration": 47,
    "start_time": "2022-04-16T07:52:31.556Z"
   },
   {
    "duration": 45,
    "start_time": "2022-04-16T08:02:34.597Z"
   },
   {
    "duration": 51,
    "start_time": "2022-04-16T08:02:59.864Z"
   },
   {
    "duration": 11,
    "start_time": "2022-04-16T08:11:32.683Z"
   },
   {
    "duration": 16,
    "start_time": "2022-04-16T08:11:43.679Z"
   },
   {
    "duration": 56,
    "start_time": "2022-04-16T08:11:52.469Z"
   },
   {
    "duration": 811,
    "start_time": "2022-04-16T08:12:10.040Z"
   },
   {
    "duration": 70,
    "start_time": "2022-04-16T08:17:31.802Z"
   },
   {
    "duration": 19,
    "start_time": "2022-04-16T08:17:33.596Z"
   },
   {
    "duration": 22,
    "start_time": "2022-04-16T08:17:35.929Z"
   },
   {
    "duration": 45,
    "start_time": "2022-04-16T08:17:37.745Z"
   },
   {
    "duration": 5,
    "start_time": "2022-04-16T08:17:38.747Z"
   },
   {
    "duration": 186,
    "start_time": "2022-04-16T08:17:40.019Z"
   },
   {
    "duration": 21,
    "start_time": "2022-04-16T08:17:41.446Z"
   },
   {
    "duration": 10,
    "start_time": "2022-04-16T08:17:43.048Z"
   },
   {
    "duration": 8,
    "start_time": "2022-04-16T08:17:44.377Z"
   },
   {
    "duration": 8,
    "start_time": "2022-04-16T08:17:47.201Z"
   },
   {
    "duration": 19,
    "start_time": "2022-04-16T08:17:48.343Z"
   },
   {
    "duration": 10,
    "start_time": "2022-04-16T08:17:49.599Z"
   },
   {
    "duration": 5,
    "start_time": "2022-04-16T08:17:52.401Z"
   },
   {
    "duration": 26,
    "start_time": "2022-04-16T08:17:53.613Z"
   },
   {
    "duration": 31,
    "start_time": "2022-04-16T08:17:55.068Z"
   },
   {
    "duration": 26,
    "start_time": "2022-04-16T08:17:55.691Z"
   },
   {
    "duration": 20,
    "start_time": "2022-04-16T08:17:57.294Z"
   },
   {
    "duration": 29,
    "start_time": "2022-04-16T08:17:58.372Z"
   },
   {
    "duration": 29,
    "start_time": "2022-04-16T08:17:59.193Z"
   },
   {
    "duration": 27,
    "start_time": "2022-04-16T08:18:00.060Z"
   },
   {
    "duration": 26,
    "start_time": "2022-04-16T08:18:01.333Z"
   },
   {
    "duration": 37,
    "start_time": "2022-04-16T08:18:02.770Z"
   },
   {
    "duration": 13,
    "start_time": "2022-04-16T08:18:05.344Z"
   },
   {
    "duration": 13,
    "start_time": "2022-04-16T08:18:06.956Z"
   },
   {
    "duration": 11,
    "start_time": "2022-04-16T08:18:09.246Z"
   },
   {
    "duration": 15,
    "start_time": "2022-04-16T08:18:12.386Z"
   },
   {
    "duration": 15,
    "start_time": "2022-04-16T08:18:27.040Z"
   },
   {
    "duration": 53,
    "start_time": "2022-04-16T08:18:30.390Z"
   },
   {
    "duration": 49,
    "start_time": "2022-04-16T08:18:33.549Z"
   },
   {
    "duration": 614,
    "start_time": "2022-04-16T09:17:36.545Z"
   },
   {
    "duration": 30,
    "start_time": "2022-04-16T09:17:37.165Z"
   },
   {
    "duration": 21,
    "start_time": "2022-04-16T09:17:37.197Z"
   },
   {
    "duration": 75,
    "start_time": "2022-04-16T09:17:37.222Z"
   },
   {
    "duration": 5,
    "start_time": "2022-04-16T09:17:37.300Z"
   },
   {
    "duration": 26,
    "start_time": "2022-04-16T09:17:37.307Z"
   },
   {
    "duration": 12,
    "start_time": "2022-04-16T09:17:37.335Z"
   },
   {
    "duration": 50,
    "start_time": "2022-04-16T09:17:37.349Z"
   },
   {
    "duration": 11,
    "start_time": "2022-04-16T09:17:37.401Z"
   },
   {
    "duration": 22,
    "start_time": "2022-04-16T09:17:37.417Z"
   },
   {
    "duration": 11,
    "start_time": "2022-04-16T09:17:37.442Z"
   },
   {
    "duration": 5,
    "start_time": "2022-04-16T09:17:37.455Z"
   },
   {
    "duration": 28,
    "start_time": "2022-04-16T09:17:37.493Z"
   },
   {
    "duration": 33,
    "start_time": "2022-04-16T09:17:37.523Z"
   },
   {
    "duration": 53,
    "start_time": "2022-04-16T09:17:37.559Z"
   },
   {
    "duration": 20,
    "start_time": "2022-04-16T09:17:37.614Z"
   },
   {
    "duration": 58,
    "start_time": "2022-04-16T09:17:37.637Z"
   },
   {
    "duration": 29,
    "start_time": "2022-04-16T09:17:37.697Z"
   },
   {
    "duration": 28,
    "start_time": "2022-04-16T09:17:37.729Z"
   },
   {
    "duration": 54,
    "start_time": "2022-04-16T09:17:37.760Z"
   },
   {
    "duration": 41,
    "start_time": "2022-04-16T09:17:37.817Z"
   },
   {
    "duration": 39,
    "start_time": "2022-04-16T09:17:37.860Z"
   },
   {
    "duration": 19,
    "start_time": "2022-04-16T09:17:37.901Z"
   },
   {
    "duration": 16,
    "start_time": "2022-04-16T09:17:37.923Z"
   },
   {
    "duration": 21,
    "start_time": "2022-04-16T09:17:37.942Z"
   },
   {
    "duration": 80,
    "start_time": "2022-04-16T09:17:37.965Z"
   },
   {
    "duration": 17,
    "start_time": "2022-04-16T09:17:38.048Z"
   },
   {
    "duration": 68,
    "start_time": "2022-04-16T09:17:38.096Z"
   },
   {
    "duration": 35,
    "start_time": "2022-04-16T09:17:38.166Z"
   },
   {
    "duration": 44,
    "start_time": "2022-04-16T09:17:38.204Z"
   },
   {
    "duration": 44,
    "start_time": "2022-04-16T09:17:38.251Z"
   },
   {
    "duration": 48,
    "start_time": "2022-04-16T09:17:38.297Z"
   },
   {
    "duration": 471,
    "start_time": "2022-04-25T11:11:23.594Z"
   },
   {
    "duration": 20,
    "start_time": "2022-04-25T11:11:24.067Z"
   },
   {
    "duration": 20,
    "start_time": "2022-04-25T11:11:24.088Z"
   },
   {
    "duration": 26,
    "start_time": "2022-04-25T11:11:24.110Z"
   },
   {
    "duration": 4,
    "start_time": "2022-04-25T11:11:24.137Z"
   },
   {
    "duration": 15,
    "start_time": "2022-04-25T11:11:24.142Z"
   },
   {
    "duration": 6,
    "start_time": "2022-04-25T11:11:24.159Z"
   },
   {
    "duration": 41,
    "start_time": "2022-04-25T11:11:24.167Z"
   },
   {
    "duration": 7,
    "start_time": "2022-04-25T11:11:24.210Z"
   },
   {
    "duration": 11,
    "start_time": "2022-04-25T11:11:24.220Z"
   },
   {
    "duration": 6,
    "start_time": "2022-04-25T11:11:24.232Z"
   },
   {
    "duration": 5,
    "start_time": "2022-04-25T11:11:24.240Z"
   },
   {
    "duration": 19,
    "start_time": "2022-04-25T11:11:24.246Z"
   },
   {
    "duration": 46,
    "start_time": "2022-04-25T11:11:24.266Z"
   },
   {
    "duration": 16,
    "start_time": "2022-04-25T11:11:24.314Z"
   },
   {
    "duration": 14,
    "start_time": "2022-04-25T11:11:24.332Z"
   },
   {
    "duration": 25,
    "start_time": "2022-04-25T11:11:24.347Z"
   },
   {
    "duration": 42,
    "start_time": "2022-04-25T11:11:24.373Z"
   },
   {
    "duration": 18,
    "start_time": "2022-04-25T11:11:24.416Z"
   },
   {
    "duration": 16,
    "start_time": "2022-04-25T11:11:24.435Z"
   },
   {
    "duration": 24,
    "start_time": "2022-04-25T11:11:24.453Z"
   },
   {
    "duration": 35,
    "start_time": "2022-04-25T11:11:24.478Z"
   },
   {
    "duration": 9,
    "start_time": "2022-04-25T11:11:24.515Z"
   },
   {
    "duration": 6,
    "start_time": "2022-04-25T11:11:24.526Z"
   },
   {
    "duration": 12,
    "start_time": "2022-04-25T11:11:24.534Z"
   },
   {
    "duration": 32,
    "start_time": "2022-04-25T11:11:24.547Z"
   },
   {
    "duration": 36,
    "start_time": "2022-04-25T11:11:24.580Z"
   },
   {
    "duration": 33,
    "start_time": "2022-04-25T11:11:24.618Z"
   },
   {
    "duration": 10,
    "start_time": "2022-04-25T11:11:24.652Z"
   },
   {
    "duration": 54,
    "start_time": "2022-04-25T11:11:24.663Z"
   },
   {
    "duration": 11,
    "start_time": "2022-04-25T11:11:24.719Z"
   },
   {
    "duration": 30,
    "start_time": "2022-04-25T11:11:24.731Z"
   },
   {
    "duration": 484,
    "start_time": "2022-04-25T11:15:09.605Z"
   },
   {
    "duration": 21,
    "start_time": "2022-04-25T11:15:10.091Z"
   },
   {
    "duration": 15,
    "start_time": "2022-04-25T11:15:10.114Z"
   },
   {
    "duration": 27,
    "start_time": "2022-04-25T11:15:10.131Z"
   },
   {
    "duration": 3,
    "start_time": "2022-04-25T11:15:10.160Z"
   },
   {
    "duration": 49,
    "start_time": "2022-04-25T11:15:10.165Z"
   },
   {
    "duration": 7,
    "start_time": "2022-04-25T11:15:10.215Z"
   },
   {
    "duration": 12,
    "start_time": "2022-04-25T11:15:10.223Z"
   },
   {
    "duration": 10,
    "start_time": "2022-04-25T11:15:10.237Z"
   },
   {
    "duration": 10,
    "start_time": "2022-04-25T11:15:10.251Z"
   },
   {
    "duration": 6,
    "start_time": "2022-04-25T11:15:10.263Z"
   },
   {
    "duration": 4,
    "start_time": "2022-04-25T11:15:10.271Z"
   },
   {
    "duration": 46,
    "start_time": "2022-04-25T11:15:10.277Z"
   },
   {
    "duration": 17,
    "start_time": "2022-04-25T11:15:10.325Z"
   },
   {
    "duration": 16,
    "start_time": "2022-04-25T11:15:10.344Z"
   },
   {
    "duration": 46,
    "start_time": "2022-04-25T11:15:10.362Z"
   },
   {
    "duration": 20,
    "start_time": "2022-04-25T11:15:10.410Z"
   },
   {
    "duration": 21,
    "start_time": "2022-04-25T11:15:10.432Z"
   },
   {
    "duration": 19,
    "start_time": "2022-04-25T11:15:10.455Z"
   },
   {
    "duration": 42,
    "start_time": "2022-04-25T11:15:10.476Z"
   },
   {
    "duration": 28,
    "start_time": "2022-04-25T11:15:10.519Z"
   },
   {
    "duration": 11,
    "start_time": "2022-04-25T11:15:10.548Z"
   },
   {
    "duration": 9,
    "start_time": "2022-04-25T11:15:10.561Z"
   },
   {
    "duration": 35,
    "start_time": "2022-04-25T11:15:10.572Z"
   },
   {
    "duration": 12,
    "start_time": "2022-04-25T11:15:10.609Z"
   },
   {
    "duration": 32,
    "start_time": "2022-04-25T11:15:10.623Z"
   },
   {
    "duration": 10,
    "start_time": "2022-04-25T11:15:10.656Z"
   },
   {
    "duration": 61,
    "start_time": "2022-04-25T11:15:10.669Z"
   },
   {
    "duration": 11,
    "start_time": "2022-04-25T11:15:10.731Z"
   },
   {
    "duration": 29,
    "start_time": "2022-04-25T11:15:10.743Z"
   },
   {
    "duration": 10,
    "start_time": "2022-04-25T11:15:10.774Z"
   },
   {
    "duration": 32,
    "start_time": "2022-04-25T11:15:10.807Z"
   },
   {
    "duration": 78,
    "start_time": "2022-04-25T14:43:29.466Z"
   },
   {
    "duration": 500,
    "start_time": "2022-04-25T14:43:36.098Z"
   },
   {
    "duration": 20,
    "start_time": "2022-04-25T14:43:36.600Z"
   },
   {
    "duration": 25,
    "start_time": "2022-04-25T14:43:36.622Z"
   },
   {
    "duration": 29,
    "start_time": "2022-04-25T14:43:36.649Z"
   },
   {
    "duration": 6,
    "start_time": "2022-04-25T14:43:36.681Z"
   },
   {
    "duration": 25,
    "start_time": "2022-04-25T14:43:36.689Z"
   },
   {
    "duration": 14,
    "start_time": "2022-04-25T14:43:36.716Z"
   },
   {
    "duration": 62,
    "start_time": "2022-04-25T14:43:36.732Z"
   },
   {
    "duration": 55,
    "start_time": "2022-04-25T14:43:36.797Z"
   },
   {
    "duration": 30,
    "start_time": "2022-04-25T14:43:36.856Z"
   },
   {
    "duration": 28,
    "start_time": "2022-04-25T14:43:36.888Z"
   },
   {
    "duration": 28,
    "start_time": "2022-04-25T14:43:36.917Z"
   },
   {
    "duration": 43,
    "start_time": "2022-04-25T14:43:36.947Z"
   },
   {
    "duration": 44,
    "start_time": "2022-04-25T14:43:36.991Z"
   },
   {
    "duration": 32,
    "start_time": "2022-04-25T14:43:37.036Z"
   },
   {
    "duration": 18,
    "start_time": "2022-04-25T14:43:37.070Z"
   },
   {
    "duration": 17,
    "start_time": "2022-04-25T14:43:37.091Z"
   },
   {
    "duration": 35,
    "start_time": "2022-04-25T14:43:37.123Z"
   },
   {
    "duration": 26,
    "start_time": "2022-04-25T14:43:37.160Z"
   },
   {
    "duration": 22,
    "start_time": "2022-04-25T14:43:37.188Z"
   },
   {
    "duration": 38,
    "start_time": "2022-04-25T14:43:37.212Z"
   },
   {
    "duration": 42,
    "start_time": "2022-04-25T14:43:37.252Z"
   },
   {
    "duration": 40,
    "start_time": "2022-04-25T14:43:37.296Z"
   },
   {
    "duration": 48,
    "start_time": "2022-04-25T14:43:37.338Z"
   },
   {
    "duration": 37,
    "start_time": "2022-04-25T14:43:37.388Z"
   },
   {
    "duration": 14,
    "start_time": "2022-04-25T14:43:37.427Z"
   },
   {
    "duration": 35,
    "start_time": "2022-04-25T14:43:37.443Z"
   },
   {
    "duration": 12,
    "start_time": "2022-04-25T14:43:37.482Z"
   },
   {
    "duration": 61,
    "start_time": "2022-04-25T14:43:37.495Z"
   },
   {
    "duration": 11,
    "start_time": "2022-04-25T14:43:37.558Z"
   },
   {
    "duration": 53,
    "start_time": "2022-04-25T14:43:37.571Z"
   },
   {
    "duration": 12,
    "start_time": "2022-04-25T14:43:37.625Z"
   },
   {
    "duration": 33,
    "start_time": "2022-04-25T14:43:37.639Z"
   },
   {
    "duration": 91,
    "start_time": "2022-04-25T14:44:05.841Z"
   },
   {
    "duration": 14,
    "start_time": "2022-04-25T14:44:06.914Z"
   },
   {
    "duration": 19,
    "start_time": "2022-04-25T14:44:09.036Z"
   },
   {
    "duration": 44,
    "start_time": "2022-04-25T14:44:11.794Z"
   },
   {
    "duration": 4,
    "start_time": "2022-04-25T14:44:13.266Z"
   },
   {
    "duration": 17,
    "start_time": "2022-04-25T14:44:14.633Z"
   },
   {
    "duration": 11,
    "start_time": "2022-04-25T14:44:16.195Z"
   },
   {
    "duration": 8,
    "start_time": "2022-04-25T14:44:17.009Z"
   },
   {
    "duration": 8,
    "start_time": "2022-04-25T14:44:21.658Z"
   },
   {
    "duration": 13,
    "start_time": "2022-04-25T14:44:23.046Z"
   },
   {
    "duration": 11,
    "start_time": "2022-04-25T14:44:24.395Z"
   },
   {
    "duration": 4,
    "start_time": "2022-04-25T14:44:28.327Z"
   },
   {
    "duration": 21,
    "start_time": "2022-04-25T14:44:30.104Z"
   },
   {
    "duration": 451,
    "start_time": "2022-04-25T14:45:43.348Z"
   },
   {
    "duration": 19,
    "start_time": "2022-04-25T14:45:43.801Z"
   },
   {
    "duration": 17,
    "start_time": "2022-04-25T14:45:43.822Z"
   },
   {
    "duration": 28,
    "start_time": "2022-04-25T14:45:43.841Z"
   },
   {
    "duration": 4,
    "start_time": "2022-04-25T14:45:43.871Z"
   },
   {
    "duration": 32,
    "start_time": "2022-04-25T14:45:43.876Z"
   },
   {
    "duration": 18,
    "start_time": "2022-04-25T14:45:43.910Z"
   },
   {
    "duration": 19,
    "start_time": "2022-04-25T14:45:43.930Z"
   },
   {
    "duration": 41,
    "start_time": "2022-04-25T14:45:43.950Z"
   },
   {
    "duration": 26,
    "start_time": "2022-04-25T14:45:43.993Z"
   },
   {
    "duration": 7,
    "start_time": "2022-04-25T14:45:44.021Z"
   },
   {
    "duration": 23,
    "start_time": "2022-04-25T14:45:44.030Z"
   },
   {
    "duration": 41,
    "start_time": "2022-04-25T14:45:44.055Z"
   },
   {
    "duration": 31,
    "start_time": "2022-04-25T14:45:44.098Z"
   },
   {
    "duration": 20,
    "start_time": "2022-04-25T14:45:44.131Z"
   },
   {
    "duration": 24,
    "start_time": "2022-04-25T14:45:44.153Z"
   },
   {
    "duration": 23,
    "start_time": "2022-04-25T14:45:44.179Z"
   },
   {
    "duration": 57,
    "start_time": "2022-04-25T14:45:44.203Z"
   },
   {
    "duration": 41,
    "start_time": "2022-04-25T14:45:44.262Z"
   },
   {
    "duration": 27,
    "start_time": "2022-04-25T14:45:44.304Z"
   },
   {
    "duration": 25,
    "start_time": "2022-04-25T14:45:44.334Z"
   },
   {
    "duration": 36,
    "start_time": "2022-04-25T14:45:44.361Z"
   },
   {
    "duration": 30,
    "start_time": "2022-04-25T14:45:44.399Z"
   },
   {
    "duration": 3219,
    "start_time": "2022-04-25T14:45:44.431Z"
   },
   {
    "duration": 0,
    "start_time": "2022-04-25T14:45:47.653Z"
   },
   {
    "duration": 0,
    "start_time": "2022-04-25T14:45:47.654Z"
   },
   {
    "duration": 0,
    "start_time": "2022-04-25T14:45:47.655Z"
   },
   {
    "duration": 0,
    "start_time": "2022-04-25T14:45:47.657Z"
   },
   {
    "duration": 0,
    "start_time": "2022-04-25T14:45:47.659Z"
   },
   {
    "duration": 0,
    "start_time": "2022-04-25T14:45:47.660Z"
   },
   {
    "duration": 0,
    "start_time": "2022-04-25T14:45:47.661Z"
   },
   {
    "duration": 0,
    "start_time": "2022-04-25T14:45:47.662Z"
   },
   {
    "duration": 0,
    "start_time": "2022-04-25T14:45:47.664Z"
   },
   {
    "duration": 0,
    "start_time": "2022-04-25T14:45:47.666Z"
   },
   {
    "duration": 7,
    "start_time": "2022-04-25T14:46:06.654Z"
   },
   {
    "duration": 11,
    "start_time": "2022-04-25T14:46:15.766Z"
   },
   {
    "duration": 3444,
    "start_time": "2022-04-25T14:46:36.055Z"
   },
   {
    "duration": 10,
    "start_time": "2022-04-25T14:46:41.092Z"
   },
   {
    "duration": 8,
    "start_time": "2022-04-25T14:46:42.065Z"
   },
   {
    "duration": 8,
    "start_time": "2022-04-25T14:51:11.676Z"
   },
   {
    "duration": 588,
    "start_time": "2022-04-25T14:51:25.746Z"
   },
   {
    "duration": 10,
    "start_time": "2022-04-25T14:52:08.904Z"
   },
   {
    "duration": 13,
    "start_time": "2022-04-25T14:55:24.265Z"
   },
   {
    "duration": 218,
    "start_time": "2022-04-25T14:58:35.617Z"
   },
   {
    "duration": 9,
    "start_time": "2022-04-25T15:00:51.429Z"
   },
   {
    "duration": 7,
    "start_time": "2022-04-25T15:01:55.971Z"
   },
   {
    "duration": 129,
    "start_time": "2022-04-25T15:02:08.396Z"
   },
   {
    "duration": 16,
    "start_time": "2022-04-25T18:44:55.227Z"
   },
   {
    "duration": 485,
    "start_time": "2022-04-25T19:48:59.127Z"
   },
   {
    "duration": 20,
    "start_time": "2022-04-25T19:48:59.614Z"
   },
   {
    "duration": 20,
    "start_time": "2022-04-25T19:48:59.636Z"
   },
   {
    "duration": 27,
    "start_time": "2022-04-25T19:48:59.658Z"
   },
   {
    "duration": 4,
    "start_time": "2022-04-25T19:48:59.688Z"
   },
   {
    "duration": 16,
    "start_time": "2022-04-25T19:48:59.722Z"
   },
   {
    "duration": 8,
    "start_time": "2022-04-25T19:48:59.739Z"
   },
   {
    "duration": 7,
    "start_time": "2022-04-25T19:48:59.749Z"
   },
   {
    "duration": 9,
    "start_time": "2022-04-25T19:48:59.757Z"
   },
   {
    "duration": 54,
    "start_time": "2022-04-25T19:48:59.768Z"
   },
   {
    "duration": 287,
    "start_time": "2022-04-25T19:48:59.824Z"
   },
   {
    "duration": 285,
    "start_time": "2022-04-25T19:49:00.113Z"
   },
   {
    "duration": 23,
    "start_time": "2022-04-25T19:49:00.400Z"
   },
   {
    "duration": 11,
    "start_time": "2022-04-25T19:49:00.426Z"
   },
   {
    "duration": 11,
    "start_time": "2022-04-25T19:49:00.439Z"
   },
   {
    "duration": 14,
    "start_time": "2022-04-25T19:49:00.452Z"
   },
   {
    "duration": 23,
    "start_time": "2022-04-25T19:49:00.468Z"
   },
   {
    "duration": 30,
    "start_time": "2022-04-25T19:49:00.493Z"
   },
   {
    "duration": 20,
    "start_time": "2022-04-25T19:49:00.525Z"
   },
   {
    "duration": 19,
    "start_time": "2022-04-25T19:49:00.547Z"
   },
   {
    "duration": 17,
    "start_time": "2022-04-25T19:49:00.568Z"
   },
   {
    "duration": 47,
    "start_time": "2022-04-25T19:49:00.587Z"
   },
   {
    "duration": 22,
    "start_time": "2022-04-25T19:49:00.636Z"
   },
   {
    "duration": 27,
    "start_time": "2022-04-25T19:49:00.660Z"
   },
   {
    "duration": 48,
    "start_time": "2022-04-25T19:49:00.689Z"
   },
   {
    "duration": 29,
    "start_time": "2022-04-25T19:49:00.740Z"
   },
   {
    "duration": 9,
    "start_time": "2022-04-25T19:49:00.771Z"
   },
   {
    "duration": 19,
    "start_time": "2022-04-25T19:49:00.782Z"
   },
   {
    "duration": 25,
    "start_time": "2022-04-25T19:49:00.804Z"
   },
   {
    "duration": 8,
    "start_time": "2022-04-25T19:49:00.831Z"
   },
   {
    "duration": 21,
    "start_time": "2022-04-25T19:49:00.841Z"
   },
   {
    "duration": 21,
    "start_time": "2022-04-25T19:49:00.863Z"
   },
   {
    "duration": 61,
    "start_time": "2022-04-25T19:49:00.886Z"
   },
   {
    "duration": 13,
    "start_time": "2022-04-25T19:49:00.949Z"
   },
   {
    "duration": 39,
    "start_time": "2022-04-25T19:49:00.964Z"
   },
   {
    "duration": 12,
    "start_time": "2022-04-25T19:49:01.021Z"
   },
   {
    "duration": 61,
    "start_time": "2022-04-25T19:49:01.035Z"
   },
   {
    "duration": 30,
    "start_time": "2022-04-25T19:49:01.098Z"
   },
   {
    "duration": 54,
    "start_time": "2022-04-25T19:49:01.130Z"
   },
   {
    "duration": 9,
    "start_time": "2022-04-25T19:52:29.245Z"
   },
   {
    "duration": 15,
    "start_time": "2022-04-25T19:54:21.377Z"
   },
   {
    "duration": 495,
    "start_time": "2022-04-25T19:55:36.929Z"
   },
   {
    "duration": 23,
    "start_time": "2022-04-25T19:55:37.426Z"
   },
   {
    "duration": 15,
    "start_time": "2022-04-25T19:55:37.450Z"
   },
   {
    "duration": 25,
    "start_time": "2022-04-25T19:55:37.467Z"
   },
   {
    "duration": 3,
    "start_time": "2022-04-25T19:55:37.493Z"
   },
   {
    "duration": 20,
    "start_time": "2022-04-25T19:55:37.522Z"
   },
   {
    "duration": 9,
    "start_time": "2022-04-25T19:55:37.544Z"
   },
   {
    "duration": 6,
    "start_time": "2022-04-25T19:55:37.555Z"
   },
   {
    "duration": 11,
    "start_time": "2022-04-25T19:55:37.563Z"
   },
   {
    "duration": 54,
    "start_time": "2022-04-25T19:55:37.578Z"
   },
   {
    "duration": 307,
    "start_time": "2022-04-25T19:55:37.634Z"
   },
   {
    "duration": 328,
    "start_time": "2022-04-25T19:55:37.943Z"
   },
   {
    "duration": 19,
    "start_time": "2022-04-25T19:55:38.272Z"
   },
   {
    "duration": 9,
    "start_time": "2022-04-25T19:55:38.292Z"
   },
   {
    "duration": 20,
    "start_time": "2022-04-25T19:55:38.303Z"
   },
   {
    "duration": 10,
    "start_time": "2022-04-25T19:55:38.325Z"
   },
   {
    "duration": 18,
    "start_time": "2022-04-25T19:55:38.337Z"
   },
   {
    "duration": 18,
    "start_time": "2022-04-25T19:55:38.357Z"
   },
   {
    "duration": 19,
    "start_time": "2022-04-25T19:55:38.376Z"
   },
   {
    "duration": 52,
    "start_time": "2022-04-25T19:55:38.397Z"
   },
   {
    "duration": 15,
    "start_time": "2022-04-25T19:55:38.450Z"
   },
   {
    "duration": 21,
    "start_time": "2022-04-25T19:55:38.467Z"
   },
   {
    "duration": 55,
    "start_time": "2022-04-25T19:55:38.489Z"
   },
   {
    "duration": 17,
    "start_time": "2022-04-25T19:55:38.546Z"
   },
   {
    "duration": 17,
    "start_time": "2022-04-25T19:55:38.564Z"
   },
   {
    "duration": 46,
    "start_time": "2022-04-25T19:55:38.583Z"
   },
   {
    "duration": 11,
    "start_time": "2022-04-25T19:55:38.631Z"
   },
   {
    "duration": 8,
    "start_time": "2022-04-25T19:55:38.647Z"
   },
   {
    "duration": 13,
    "start_time": "2022-04-25T19:55:38.657Z"
   },
   {
    "duration": 8,
    "start_time": "2022-04-25T19:55:38.671Z"
   },
   {
    "duration": 9,
    "start_time": "2022-04-25T19:55:38.681Z"
   },
   {
    "duration": 39,
    "start_time": "2022-04-25T19:55:38.692Z"
   },
   {
    "duration": 13,
    "start_time": "2022-04-25T19:55:38.733Z"
   },
   {
    "duration": 43,
    "start_time": "2022-04-25T19:55:38.748Z"
   },
   {
    "duration": 38,
    "start_time": "2022-04-25T19:55:38.793Z"
   },
   {
    "duration": 34,
    "start_time": "2022-04-25T19:55:38.833Z"
   },
   {
    "duration": 11,
    "start_time": "2022-04-25T19:55:38.868Z"
   },
   {
    "duration": 55,
    "start_time": "2022-04-25T19:55:38.880Z"
   },
   {
    "duration": 14,
    "start_time": "2022-04-25T19:55:38.938Z"
   },
   {
    "duration": 28,
    "start_time": "2022-04-25T19:55:38.954Z"
   },
   {
    "duration": 4,
    "start_time": "2022-04-25T20:11:04.696Z"
   },
   {
    "duration": 5,
    "start_time": "2022-04-25T20:11:30.784Z"
   },
   {
    "duration": 5,
    "start_time": "2022-04-25T20:14:49.941Z"
   },
   {
    "duration": 7,
    "start_time": "2022-04-25T20:15:21.418Z"
   },
   {
    "duration": 7,
    "start_time": "2022-04-25T20:15:50.915Z"
   },
   {
    "duration": 24,
    "start_time": "2022-04-25T20:16:26.355Z"
   },
   {
    "duration": 23,
    "start_time": "2022-04-25T20:17:43.662Z"
   },
   {
    "duration": 21,
    "start_time": "2022-04-25T20:17:51.321Z"
   },
   {
    "duration": 465,
    "start_time": "2022-04-26T06:50:57.861Z"
   },
   {
    "duration": 19,
    "start_time": "2022-04-26T06:50:58.328Z"
   },
   {
    "duration": 15,
    "start_time": "2022-04-26T06:50:58.349Z"
   },
   {
    "duration": 46,
    "start_time": "2022-04-26T06:50:58.367Z"
   },
   {
    "duration": 3,
    "start_time": "2022-04-26T06:50:58.415Z"
   },
   {
    "duration": 15,
    "start_time": "2022-04-26T06:50:58.420Z"
   },
   {
    "duration": 6,
    "start_time": "2022-04-26T06:50:58.437Z"
   },
   {
    "duration": 6,
    "start_time": "2022-04-26T06:50:58.445Z"
   },
   {
    "duration": 8,
    "start_time": "2022-04-26T06:50:58.452Z"
   },
   {
    "duration": 44,
    "start_time": "2022-04-26T06:50:58.463Z"
   },
   {
    "duration": 3,
    "start_time": "2022-04-26T06:50:58.509Z"
   },
   {
    "duration": 270,
    "start_time": "2022-04-26T06:50:58.514Z"
   },
   {
    "duration": 249,
    "start_time": "2022-04-26T06:50:58.786Z"
   },
   {
    "duration": 13,
    "start_time": "2022-04-26T06:50:59.037Z"
   },
   {
    "duration": 9,
    "start_time": "2022-04-26T06:50:59.051Z"
   },
   {
    "duration": 6,
    "start_time": "2022-04-26T06:50:59.061Z"
   },
   {
    "duration": 6,
    "start_time": "2022-04-26T06:50:59.068Z"
   },
   {
    "duration": 32,
    "start_time": "2022-04-26T06:50:59.075Z"
   },
   {
    "duration": 15,
    "start_time": "2022-04-26T06:50:59.108Z"
   },
   {
    "duration": 17,
    "start_time": "2022-04-26T06:50:59.124Z"
   },
   {
    "duration": 16,
    "start_time": "2022-04-26T06:50:59.142Z"
   },
   {
    "duration": 42,
    "start_time": "2022-04-26T06:50:59.160Z"
   },
   {
    "duration": 20,
    "start_time": "2022-04-26T06:50:59.203Z"
   },
   {
    "duration": 19,
    "start_time": "2022-04-26T06:50:59.224Z"
   },
   {
    "duration": 16,
    "start_time": "2022-04-26T06:50:59.245Z"
   },
   {
    "duration": 15,
    "start_time": "2022-04-26T06:50:59.263Z"
   },
   {
    "duration": 23,
    "start_time": "2022-04-26T06:50:59.300Z"
   },
   {
    "duration": 8,
    "start_time": "2022-04-26T06:50:59.326Z"
   },
   {
    "duration": 11,
    "start_time": "2022-04-26T06:50:59.335Z"
   },
   {
    "duration": 11,
    "start_time": "2022-04-26T06:50:59.347Z"
   },
   {
    "duration": 6,
    "start_time": "2022-04-26T06:50:59.359Z"
   },
   {
    "duration": 7,
    "start_time": "2022-04-26T06:50:59.366Z"
   },
   {
    "duration": 28,
    "start_time": "2022-04-26T06:50:59.375Z"
   },
   {
    "duration": 10,
    "start_time": "2022-04-26T06:50:59.404Z"
   },
   {
    "duration": 31,
    "start_time": "2022-04-26T06:50:59.415Z"
   },
   {
    "duration": 9,
    "start_time": "2022-04-26T06:50:59.448Z"
   },
   {
    "duration": 51,
    "start_time": "2022-04-26T06:50:59.458Z"
   },
   {
    "duration": 9,
    "start_time": "2022-04-26T06:50:59.511Z"
   },
   {
    "duration": 28,
    "start_time": "2022-04-26T06:50:59.522Z"
   },
   {
    "duration": 9,
    "start_time": "2022-04-26T06:50:59.552Z"
   },
   {
    "duration": 57,
    "start_time": "2022-04-26T06:50:59.563Z"
   },
   {
    "duration": 455,
    "start_time": "2022-04-26T06:52:23.114Z"
   },
   {
    "duration": 18,
    "start_time": "2022-04-26T06:52:23.571Z"
   },
   {
    "duration": 14,
    "start_time": "2022-04-26T06:52:23.590Z"
   },
   {
    "duration": 24,
    "start_time": "2022-04-26T06:52:23.605Z"
   },
   {
    "duration": 3,
    "start_time": "2022-04-26T06:52:23.631Z"
   },
   {
    "duration": 15,
    "start_time": "2022-04-26T06:52:23.635Z"
   },
   {
    "duration": 6,
    "start_time": "2022-04-26T06:52:23.651Z"
   },
   {
    "duration": 7,
    "start_time": "2022-04-26T06:52:23.658Z"
   },
   {
    "duration": 39,
    "start_time": "2022-04-26T06:52:23.666Z"
   },
   {
    "duration": 16,
    "start_time": "2022-04-26T06:52:23.707Z"
   },
   {
    "duration": 3,
    "start_time": "2022-04-26T06:52:23.725Z"
   },
   {
    "duration": 267,
    "start_time": "2022-04-26T06:52:23.730Z"
   },
   {
    "duration": 256,
    "start_time": "2022-04-26T06:52:23.999Z"
   },
   {
    "duration": 13,
    "start_time": "2022-04-26T06:52:24.258Z"
   },
   {
    "duration": 9,
    "start_time": "2022-04-26T06:52:24.272Z"
   },
   {
    "duration": 23,
    "start_time": "2022-04-26T06:52:24.282Z"
   },
   {
    "duration": 6,
    "start_time": "2022-04-26T06:52:24.306Z"
   },
   {
    "duration": 16,
    "start_time": "2022-04-26T06:52:24.313Z"
   },
   {
    "duration": 15,
    "start_time": "2022-04-26T06:52:24.331Z"
   },
   {
    "duration": 17,
    "start_time": "2022-04-26T06:52:24.347Z"
   },
   {
    "duration": 36,
    "start_time": "2022-04-26T06:52:24.366Z"
   },
   {
    "duration": 14,
    "start_time": "2022-04-26T06:52:24.403Z"
   },
   {
    "duration": 19,
    "start_time": "2022-04-26T06:52:24.418Z"
   },
   {
    "duration": 21,
    "start_time": "2022-04-26T06:52:24.439Z"
   },
   {
    "duration": 38,
    "start_time": "2022-04-26T06:52:24.462Z"
   },
   {
    "duration": 18,
    "start_time": "2022-04-26T06:52:24.502Z"
   },
   {
    "duration": 26,
    "start_time": "2022-04-26T06:52:24.522Z"
   },
   {
    "duration": 8,
    "start_time": "2022-04-26T06:52:24.550Z"
   },
   {
    "duration": 13,
    "start_time": "2022-04-26T06:52:24.559Z"
   },
   {
    "duration": 31,
    "start_time": "2022-04-26T06:52:24.573Z"
   },
   {
    "duration": 9,
    "start_time": "2022-04-26T06:52:24.605Z"
   },
   {
    "duration": 8,
    "start_time": "2022-04-26T06:52:24.615Z"
   },
   {
    "duration": 7,
    "start_time": "2022-04-26T06:52:24.625Z"
   },
   {
    "duration": 14,
    "start_time": "2022-04-26T06:52:24.633Z"
   },
   {
    "duration": 30,
    "start_time": "2022-04-26T06:52:24.649Z"
   },
   {
    "duration": 28,
    "start_time": "2022-04-26T06:52:24.680Z"
   },
   {
    "duration": 35,
    "start_time": "2022-04-26T06:52:24.709Z"
   },
   {
    "duration": 9,
    "start_time": "2022-04-26T06:52:24.745Z"
   },
   {
    "duration": 26,
    "start_time": "2022-04-26T06:52:24.755Z"
   },
   {
    "duration": 10,
    "start_time": "2022-04-26T06:52:24.800Z"
   },
   {
    "duration": 29,
    "start_time": "2022-04-26T06:52:24.813Z"
   }
  ],
  "kernelspec": {
   "display_name": "Python 3 (ipykernel)",
   "language": "python",
   "name": "python3"
  },
  "language_info": {
   "codemirror_mode": {
    "name": "ipython",
    "version": 3
   },
   "file_extension": ".py",
   "mimetype": "text/x-python",
   "name": "python",
   "nbconvert_exporter": "python",
   "pygments_lexer": "ipython3",
   "version": "3.9.12"
  },
  "toc": {
   "base_numbering": 1,
   "nav_menu": {
    "height": "277px",
    "width": "408px"
   },
   "number_sections": true,
   "sideBar": true,
   "skip_h1_title": true,
   "title_cell": "Table of Contents",
   "title_sidebar": "Contents",
   "toc_cell": false,
   "toc_position": {
    "height": "calc(100% - 180px)",
    "left": "10px",
    "top": "150px",
    "width": "318.4px"
   },
   "toc_section_display": true,
   "toc_window_display": true
  }
 },
 "nbformat": 4,
 "nbformat_minor": 5
}
