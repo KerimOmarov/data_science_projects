{
 "cells": [
  {
   "cell_type": "markdown",
   "metadata": {
    "toc": true
   },
   "source": [
    "<h1>Table of Contents<span class=\"tocSkip\"></span></h1>\n",
    "<div class=\"toc\"><ul class=\"toc-item\"><li><span><a href=\"#Data-preparation\" data-toc-modified-id=\"Data-preparation-1\"><span class=\"toc-item-num\">1&nbsp;&nbsp;</span>Data preparation</a></span><ul class=\"toc-item\"><li><span><a href=\"#Handling-missing-values\" data-toc-modified-id=\"Handling-missing-values-1.1\"><span class=\"toc-item-num\">1.1&nbsp;&nbsp;</span>Handling missing values</a></span></li><li><span><a href=\"#Useless-features\" data-toc-modified-id=\"Useless-features-1.2\"><span class=\"toc-item-num\">1.2&nbsp;&nbsp;</span>Useless features</a></span></li><li><span><a href=\"#Anomalies-handling\" data-toc-modified-id=\"Anomalies-handling-1.3\"><span class=\"toc-item-num\">1.3&nbsp;&nbsp;</span>Anomalies handling</a></span></li><li><span><a href=\"#Check-for-duplicates\" data-toc-modified-id=\"Check-for-duplicates-1.4\"><span class=\"toc-item-num\">1.4&nbsp;&nbsp;</span>Check for duplicates</a></span></li><li><span><a href=\"#Conclusion\" data-toc-modified-id=\"Conclusion-1.5\"><span class=\"toc-item-num\">1.5&nbsp;&nbsp;</span>Conclusion</a></span></li></ul></li><li><span><a href=\"#Model-Training\" data-toc-modified-id=\"Model-Training-2\"><span class=\"toc-item-num\">2&nbsp;&nbsp;</span>Model Training</a></span><ul class=\"toc-item\"><li><span><a href=\"#Data-split\" data-toc-modified-id=\"Data-split-2.1\"><span class=\"toc-item-num\">2.1&nbsp;&nbsp;</span>Data split</a></span></li><li><span><a href=\"#RandomForestRegressor\" data-toc-modified-id=\"RandomForestRegressor-2.2\"><span class=\"toc-item-num\">2.2&nbsp;&nbsp;</span>RandomForestRegressor</a></span></li><li><span><a href=\"#LightGBM\" data-toc-modified-id=\"LightGBM-2.3\"><span class=\"toc-item-num\">2.3&nbsp;&nbsp;</span>LightGBM</a></span></li><li><span><a href=\"#CatBoost\" data-toc-modified-id=\"CatBoost-2.4\"><span class=\"toc-item-num\">2.4&nbsp;&nbsp;</span>CatBoost</a></span></li><li><span><a href=\"#ElasticNet\" data-toc-modified-id=\"ElasticNet-2.5\"><span class=\"toc-item-num\">2.5&nbsp;&nbsp;</span>ElasticNet</a></span></li></ul></li><li><span><a href=\"#Model-Analysis\" data-toc-modified-id=\"Model-Analysis-3\"><span class=\"toc-item-num\">3&nbsp;&nbsp;</span>Model Analysis</a></span></li><li><span><a href=\"#Testing-the-best-model\" data-toc-modified-id=\"Testing-the-best-model-4\"><span class=\"toc-item-num\">4&nbsp;&nbsp;</span>Testing the best model</a></span></li><li><span><a href=\"#Sanity-Check\" data-toc-modified-id=\"Sanity-Check-5\"><span class=\"toc-item-num\">5&nbsp;&nbsp;</span>Sanity Check</a></span></li><li><span><a href=\"#Conclusion\" data-toc-modified-id=\"Conclusion-6\"><span class=\"toc-item-num\">6&nbsp;&nbsp;</span>Conclusion</a></span></li></ul></div>"
   ]
  },
  {
   "cell_type": "markdown",
   "metadata": {},
   "source": [
    "# Determining the car price"
   ]
  },
  {
   "cell_type": "markdown",
   "metadata": {},
   "source": [
    "Service that sells used cars \"XYZ\" is developing an application to attract new customers. Using that app, you can quickly find out the market value of your car. At our disposal are historical data: technical specifications, equipment and prices of cars. We need to build a model to determine the price.\n",
    "\n",
    "The customer requirements:\n",
    "\n",
    "- quality of prediction;\n",
    "- prediction speed;\n",
    "- training time.\n",
    "\n",
    "The purpose of the project: To build a model for a regression problem that will predict the market value of a car.\n",
    "\n",
    "Project steps:\n",
    "\n",
    "1. Review and preparation of data.\n",
    "2. Model training.\n",
    "3. Model analysis.\n",
    "4. Testing the best model.\n",
    "5. Sanity Check"
   ]
  },
  {
   "cell_type": "markdown",
   "metadata": {},
   "source": [
    "## Data preparation"
   ]
  },
  {
   "cell_type": "code",
   "execution_count": 1,
   "metadata": {},
   "outputs": [],
   "source": [
    "import lightgbm as lgb\n",
    "import matplotlib.pyplot as plt\n",
    "import numpy as np\n",
    "import pandas as pd\n",
    "import seaborn as sns\n",
    "import time\n",
    "import warnings\n",
    "\n",
    "from catboost import CatBoostRegressor\n",
    "from scipy import stats as st\n",
    "from sklearn.dummy import DummyRegressor\n",
    "from sklearn.compose import ColumnTransformer\n",
    "from sklearn.ensemble import RandomForestRegressor \n",
    "from sklearn.linear_model import ElasticNet\n",
    "from sklearn.metrics import mean_squared_error\n",
    "from sklearn.model_selection import train_test_split, GridSearchCV\n",
    "from sklearn.preprocessing import StandardScaler, OrdinalEncoder"
   ]
  },
  {
   "cell_type": "code",
   "execution_count": 2,
   "metadata": {},
   "outputs": [],
   "source": [
    "try:\n",
    "    df = pd.read_csv('autos.csv')\n",
    "except: \n",
    "    print('Something is wrong')"
   ]
  },
  {
   "cell_type": "code",
   "execution_count": 3,
   "metadata": {},
   "outputs": [],
   "source": [
    "warnings.filterwarnings(\"ignore\")"
   ]
  },
  {
   "cell_type": "code",
   "execution_count": 4,
   "metadata": {},
   "outputs": [
    {
     "name": "stdout",
     "output_type": "stream",
     "text": [
      "<class 'pandas.core.frame.DataFrame'>\n",
      "RangeIndex: 354369 entries, 0 to 354368\n",
      "Data columns (total 16 columns):\n",
      " #   Column             Non-Null Count   Dtype \n",
      "---  ------             --------------   ----- \n",
      " 0   DateCrawled        354369 non-null  object\n",
      " 1   Price              354369 non-null  int64 \n",
      " 2   VehicleType        316879 non-null  object\n",
      " 3   RegistrationYear   354369 non-null  int64 \n",
      " 4   Gearbox            334536 non-null  object\n",
      " 5   Power              354369 non-null  int64 \n",
      " 6   Model              334664 non-null  object\n",
      " 7   Kilometer          354369 non-null  int64 \n",
      " 8   RegistrationMonth  354369 non-null  int64 \n",
      " 9   FuelType           321474 non-null  object\n",
      " 10  Brand              354369 non-null  object\n",
      " 11  NotRepaired        283215 non-null  object\n",
      " 12  DateCreated        354369 non-null  object\n",
      " 13  NumberOfPictures   354369 non-null  int64 \n",
      " 14  PostalCode         354369 non-null  int64 \n",
      " 15  LastSeen           354369 non-null  object\n",
      "dtypes: int64(7), object(9)\n",
      "memory usage: 43.3+ MB\n"
     ]
    }
   ],
   "source": [
    "df.info()"
   ]
  },
  {
   "cell_type": "code",
   "execution_count": 5,
   "metadata": {},
   "outputs": [
    {
     "data": {
      "text/html": [
       "<div>\n",
       "<style scoped>\n",
       "    .dataframe tbody tr th:only-of-type {\n",
       "        vertical-align: middle;\n",
       "    }\n",
       "\n",
       "    .dataframe tbody tr th {\n",
       "        vertical-align: top;\n",
       "    }\n",
       "\n",
       "    .dataframe thead th {\n",
       "        text-align: right;\n",
       "    }\n",
       "</style>\n",
       "<table border=\"1\" class=\"dataframe\">\n",
       "  <thead>\n",
       "    <tr style=\"text-align: right;\">\n",
       "      <th></th>\n",
       "      <th>DateCrawled</th>\n",
       "      <th>Price</th>\n",
       "      <th>VehicleType</th>\n",
       "      <th>RegistrationYear</th>\n",
       "      <th>Gearbox</th>\n",
       "      <th>Power</th>\n",
       "      <th>Model</th>\n",
       "      <th>Kilometer</th>\n",
       "      <th>RegistrationMonth</th>\n",
       "      <th>FuelType</th>\n",
       "      <th>Brand</th>\n",
       "      <th>NotRepaired</th>\n",
       "      <th>DateCreated</th>\n",
       "      <th>NumberOfPictures</th>\n",
       "      <th>PostalCode</th>\n",
       "      <th>LastSeen</th>\n",
       "    </tr>\n",
       "  </thead>\n",
       "  <tbody>\n",
       "    <tr>\n",
       "      <th>0</th>\n",
       "      <td>2016-03-24 11:52:17</td>\n",
       "      <td>480</td>\n",
       "      <td>NaN</td>\n",
       "      <td>1993</td>\n",
       "      <td>manual</td>\n",
       "      <td>0</td>\n",
       "      <td>golf</td>\n",
       "      <td>150000</td>\n",
       "      <td>0</td>\n",
       "      <td>petrol</td>\n",
       "      <td>volkswagen</td>\n",
       "      <td>NaN</td>\n",
       "      <td>2016-03-24 00:00:00</td>\n",
       "      <td>0</td>\n",
       "      <td>70435</td>\n",
       "      <td>2016-04-07 03:16:57</td>\n",
       "    </tr>\n",
       "    <tr>\n",
       "      <th>1</th>\n",
       "      <td>2016-03-24 10:58:45</td>\n",
       "      <td>18300</td>\n",
       "      <td>coupe</td>\n",
       "      <td>2011</td>\n",
       "      <td>manual</td>\n",
       "      <td>190</td>\n",
       "      <td>NaN</td>\n",
       "      <td>125000</td>\n",
       "      <td>5</td>\n",
       "      <td>gasoline</td>\n",
       "      <td>audi</td>\n",
       "      <td>yes</td>\n",
       "      <td>2016-03-24 00:00:00</td>\n",
       "      <td>0</td>\n",
       "      <td>66954</td>\n",
       "      <td>2016-04-07 01:46:50</td>\n",
       "    </tr>\n",
       "    <tr>\n",
       "      <th>2</th>\n",
       "      <td>2016-03-14 12:52:21</td>\n",
       "      <td>9800</td>\n",
       "      <td>suv</td>\n",
       "      <td>2004</td>\n",
       "      <td>auto</td>\n",
       "      <td>163</td>\n",
       "      <td>grand</td>\n",
       "      <td>125000</td>\n",
       "      <td>8</td>\n",
       "      <td>gasoline</td>\n",
       "      <td>jeep</td>\n",
       "      <td>NaN</td>\n",
       "      <td>2016-03-14 00:00:00</td>\n",
       "      <td>0</td>\n",
       "      <td>90480</td>\n",
       "      <td>2016-04-05 12:47:46</td>\n",
       "    </tr>\n",
       "    <tr>\n",
       "      <th>3</th>\n",
       "      <td>2016-03-17 16:54:04</td>\n",
       "      <td>1500</td>\n",
       "      <td>small</td>\n",
       "      <td>2001</td>\n",
       "      <td>manual</td>\n",
       "      <td>75</td>\n",
       "      <td>golf</td>\n",
       "      <td>150000</td>\n",
       "      <td>6</td>\n",
       "      <td>petrol</td>\n",
       "      <td>volkswagen</td>\n",
       "      <td>no</td>\n",
       "      <td>2016-03-17 00:00:00</td>\n",
       "      <td>0</td>\n",
       "      <td>91074</td>\n",
       "      <td>2016-03-17 17:40:17</td>\n",
       "    </tr>\n",
       "    <tr>\n",
       "      <th>4</th>\n",
       "      <td>2016-03-31 17:25:20</td>\n",
       "      <td>3600</td>\n",
       "      <td>small</td>\n",
       "      <td>2008</td>\n",
       "      <td>manual</td>\n",
       "      <td>69</td>\n",
       "      <td>fabia</td>\n",
       "      <td>90000</td>\n",
       "      <td>7</td>\n",
       "      <td>gasoline</td>\n",
       "      <td>skoda</td>\n",
       "      <td>no</td>\n",
       "      <td>2016-03-31 00:00:00</td>\n",
       "      <td>0</td>\n",
       "      <td>60437</td>\n",
       "      <td>2016-04-06 10:17:21</td>\n",
       "    </tr>\n",
       "  </tbody>\n",
       "</table>\n",
       "</div>"
      ],
      "text/plain": [
       "           DateCrawled  Price VehicleType  RegistrationYear Gearbox  Power  \\\n",
       "0  2016-03-24 11:52:17    480         NaN              1993  manual      0   \n",
       "1  2016-03-24 10:58:45  18300       coupe              2011  manual    190   \n",
       "2  2016-03-14 12:52:21   9800         suv              2004    auto    163   \n",
       "3  2016-03-17 16:54:04   1500       small              2001  manual     75   \n",
       "4  2016-03-31 17:25:20   3600       small              2008  manual     69   \n",
       "\n",
       "   Model  Kilometer  RegistrationMonth  FuelType       Brand NotRepaired  \\\n",
       "0   golf     150000                  0    petrol  volkswagen         NaN   \n",
       "1    NaN     125000                  5  gasoline        audi         yes   \n",
       "2  grand     125000                  8  gasoline        jeep         NaN   \n",
       "3   golf     150000                  6    petrol  volkswagen          no   \n",
       "4  fabia      90000                  7  gasoline       skoda          no   \n",
       "\n",
       "           DateCreated  NumberOfPictures  PostalCode             LastSeen  \n",
       "0  2016-03-24 00:00:00                 0       70435  2016-04-07 03:16:57  \n",
       "1  2016-03-24 00:00:00                 0       66954  2016-04-07 01:46:50  \n",
       "2  2016-03-14 00:00:00                 0       90480  2016-04-05 12:47:46  \n",
       "3  2016-03-17 00:00:00                 0       91074  2016-03-17 17:40:17  \n",
       "4  2016-03-31 00:00:00                 0       60437  2016-04-06 10:17:21  "
      ]
     },
     "execution_count": 5,
     "metadata": {},
     "output_type": "execute_result"
    }
   ],
   "source": [
    "df.head(5)"
   ]
  },
  {
   "cell_type": "markdown",
   "metadata": {},
   "source": [
    "So, we have a table with data.\n",
    "\n",
    "According to the data documentation:\n",
    "\n",
    "Features:\n",
    "\n",
    "* `DateCrawled` — date of downloading the questionnaire from the database\n",
    "* `VehicleType` — car body type\n",
    "* `RegistrationYear` - year of car registration\n",
    "* `Gearbox` — gear box type\n",
    "* `Power` - power (hp)\n",
    "* `Model` — car model\n",
    "* `Kilometer` — mileage (km)\n",
    "* `RegistrationMonth` — car registration month\n",
    "* `FuelType` — fuel type\n",
    "* `Brand` — car brand\n",
    "* `NotRepaired` - was the car under repair or not\n",
    "* `DateCreated` — date of creation of the questionnaire\n",
    "* `NumberOfPictures` - the number of photos of the car\n",
    "* `PostalCode` — postal code of the owner of the profile (user)\n",
    "* `LastSeen` — date of last user activity\n",
    "\n",
    "Target variable:\n",
    "\n",
    "* `Price` — price (euro)"
   ]
  },
  {
   "cell_type": "markdown",
   "metadata": {},
   "source": [
    "Let's convert the column names to lowercase and convert some of them to snake case "
   ]
  },
  {
   "cell_type": "code",
   "execution_count": 6,
   "metadata": {},
   "outputs": [],
   "source": [
    "df.columns = df.columns.str.replace(r\"([A-Z])\", r\" \\1\", regex=True).str.lower().str.replace(' ', '_').str[1:]"
   ]
  },
  {
   "cell_type": "code",
   "execution_count": 7,
   "metadata": {},
   "outputs": [
    {
     "data": {
      "text/plain": [
       "Index(['date_crawled', 'price', 'vehicle_type', 'registration_year', 'gearbox',\n",
       "       'power', 'model', 'kilometer', 'registration_month', 'fuel_type',\n",
       "       'brand', 'not_repaired', 'date_created', 'number_of_pictures',\n",
       "       'postal_code', 'last_seen'],\n",
       "      dtype='object')"
      ]
     },
     "execution_count": 7,
     "metadata": {},
     "output_type": "execute_result"
    }
   ],
   "source": [
    "df.columns"
   ]
  },
  {
   "cell_type": "markdown",
   "metadata": {},
   "source": [
    "Let's create histograms and look at the distribution of features."
   ]
  },
  {
   "cell_type": "code",
   "execution_count": 8,
   "metadata": {
    "scrolled": false
   },
   "outputs": [
    {
     "data": {
      "image/png": "[encoded data removed]",
      "text/plain": [
       "<Figure size 1008x1008 with 9 Axes>"
      ]
     },
     "metadata": {
      "needs_background": "light"
     },
     "output_type": "display_data"
    }
   ],
   "source": [
    "df.hist(bins=30, figsize=(14,14), edgecolor='black', linewidth=1)\n",
    "plt.show()"
   ]
  },
  {
   "cell_type": "code",
   "execution_count": 9,
   "metadata": {
    "scrolled": true
   },
   "outputs": [
    {
     "data": {
      "text/html": [
       "<div>\n",
       "<style scoped>\n",
       "    .dataframe tbody tr th:only-of-type {\n",
       "        vertical-align: middle;\n",
       "    }\n",
       "\n",
       "    .dataframe tbody tr th {\n",
       "        vertical-align: top;\n",
       "    }\n",
       "\n",
       "    .dataframe thead th {\n",
       "        text-align: right;\n",
       "    }\n",
       "</style>\n",
       "<table border=\"1\" class=\"dataframe\">\n",
       "  <thead>\n",
       "    <tr style=\"text-align: right;\">\n",
       "      <th></th>\n",
       "      <th>count</th>\n",
       "      <th>mean</th>\n",
       "      <th>std</th>\n",
       "      <th>min</th>\n",
       "      <th>25%</th>\n",
       "      <th>50%</th>\n",
       "      <th>75%</th>\n",
       "      <th>max</th>\n",
       "    </tr>\n",
       "  </thead>\n",
       "  <tbody>\n",
       "    <tr>\n",
       "      <th>price</th>\n",
       "      <td>354369.0</td>\n",
       "      <td>4416.656776</td>\n",
       "      <td>4514.158514</td>\n",
       "      <td>0.0</td>\n",
       "      <td>1050.0</td>\n",
       "      <td>2700.0</td>\n",
       "      <td>6400.0</td>\n",
       "      <td>20000.0</td>\n",
       "    </tr>\n",
       "    <tr>\n",
       "      <th>registration_year</th>\n",
       "      <td>354369.0</td>\n",
       "      <td>2004.234448</td>\n",
       "      <td>90.227958</td>\n",
       "      <td>1000.0</td>\n",
       "      <td>1999.0</td>\n",
       "      <td>2003.0</td>\n",
       "      <td>2008.0</td>\n",
       "      <td>9999.0</td>\n",
       "    </tr>\n",
       "    <tr>\n",
       "      <th>power</th>\n",
       "      <td>354369.0</td>\n",
       "      <td>110.094337</td>\n",
       "      <td>189.850405</td>\n",
       "      <td>0.0</td>\n",
       "      <td>69.0</td>\n",
       "      <td>105.0</td>\n",
       "      <td>143.0</td>\n",
       "      <td>20000.0</td>\n",
       "    </tr>\n",
       "    <tr>\n",
       "      <th>kilometer</th>\n",
       "      <td>354369.0</td>\n",
       "      <td>128211.172535</td>\n",
       "      <td>37905.341530</td>\n",
       "      <td>5000.0</td>\n",
       "      <td>125000.0</td>\n",
       "      <td>150000.0</td>\n",
       "      <td>150000.0</td>\n",
       "      <td>150000.0</td>\n",
       "    </tr>\n",
       "    <tr>\n",
       "      <th>registration_month</th>\n",
       "      <td>354369.0</td>\n",
       "      <td>5.714645</td>\n",
       "      <td>3.726421</td>\n",
       "      <td>0.0</td>\n",
       "      <td>3.0</td>\n",
       "      <td>6.0</td>\n",
       "      <td>9.0</td>\n",
       "      <td>12.0</td>\n",
       "    </tr>\n",
       "    <tr>\n",
       "      <th>number_of_pictures</th>\n",
       "      <td>354369.0</td>\n",
       "      <td>0.000000</td>\n",
       "      <td>0.000000</td>\n",
       "      <td>0.0</td>\n",
       "      <td>0.0</td>\n",
       "      <td>0.0</td>\n",
       "      <td>0.0</td>\n",
       "      <td>0.0</td>\n",
       "    </tr>\n",
       "    <tr>\n",
       "      <th>postal_code</th>\n",
       "      <td>354369.0</td>\n",
       "      <td>50508.689087</td>\n",
       "      <td>25783.096248</td>\n",
       "      <td>1067.0</td>\n",
       "      <td>30165.0</td>\n",
       "      <td>49413.0</td>\n",
       "      <td>71083.0</td>\n",
       "      <td>99998.0</td>\n",
       "    </tr>\n",
       "  </tbody>\n",
       "</table>\n",
       "</div>"
      ],
      "text/plain": [
       "                       count           mean           std     min       25%  \\\n",
       "price               354369.0    4416.656776   4514.158514     0.0    1050.0   \n",
       "registration_year   354369.0    2004.234448     90.227958  1000.0    1999.0   \n",
       "power               354369.0     110.094337    189.850405     0.0      69.0   \n",
       "kilometer           354369.0  128211.172535  37905.341530  5000.0  125000.0   \n",
       "registration_month  354369.0       5.714645      3.726421     0.0       3.0   \n",
       "number_of_pictures  354369.0       0.000000      0.000000     0.0       0.0   \n",
       "postal_code         354369.0   50508.689087  25783.096248  1067.0   30165.0   \n",
       "\n",
       "                         50%       75%       max  \n",
       "price                 2700.0    6400.0   20000.0  \n",
       "registration_year     2003.0    2008.0    9999.0  \n",
       "power                  105.0     143.0   20000.0  \n",
       "kilometer           150000.0  150000.0  150000.0  \n",
       "registration_month       6.0       9.0      12.0  \n",
       "number_of_pictures       0.0       0.0       0.0  \n",
       "postal_code          49413.0   71083.0   99998.0  "
      ]
     },
     "execution_count": 9,
     "metadata": {},
     "output_type": "execute_result"
    }
   ],
   "source": [
    "df.describe().T"
   ]
  },
  {
   "cell_type": "markdown",
   "metadata": {},
   "source": [
    "The graphs show that there are anomalies and outliers in the data that require further processing. Let's look at the correlations between features."
   ]
  },
  {
   "cell_type": "code",
   "execution_count": 10,
   "metadata": {},
   "outputs": [
    {
     "data": {
      "image/png": "[encoded data removed]",
      "text/plain": [
       "<Figure size 432x288 with 2 Axes>"
      ]
     },
     "metadata": {
      "needs_background": "light"
     },
     "output_type": "display_data"
    }
   ],
   "source": [
    "sns.heatmap(df.corr(), annot=True, square=True)\n",
    "plt.show()"
   ]
  },
  {
   "cell_type": "markdown",
   "metadata": {},
   "source": [
    "There is a weak negative correlation (-0.33) between mileage and price."
   ]
  },
  {
   "cell_type": "markdown",
   "metadata": {},
   "source": [
    "### Handling missing values"
   ]
  },
  {
   "cell_type": "markdown",
   "metadata": {},
   "source": [
    "Let's check the number of missing values."
   ]
  },
  {
   "cell_type": "code",
   "execution_count": 11,
   "metadata": {
    "scrolled": false
   },
   "outputs": [
    {
     "data": {
      "text/html": [
       "<div>\n",
       "<style scoped>\n",
       "    .dataframe tbody tr th:only-of-type {\n",
       "        vertical-align: middle;\n",
       "    }\n",
       "\n",
       "    .dataframe tbody tr th {\n",
       "        vertical-align: top;\n",
       "    }\n",
       "\n",
       "    .dataframe thead th {\n",
       "        text-align: right;\n",
       "    }\n",
       "</style>\n",
       "<table border=\"1\" class=\"dataframe\">\n",
       "  <thead>\n",
       "    <tr style=\"text-align: right;\">\n",
       "      <th></th>\n",
       "      <th>sum</th>\n",
       "      <th>mean</th>\n",
       "    </tr>\n",
       "  </thead>\n",
       "  <tbody>\n",
       "    <tr>\n",
       "      <th>not_repaired</th>\n",
       "      <td>71154.0</td>\n",
       "      <td>0.200791</td>\n",
       "    </tr>\n",
       "    <tr>\n",
       "      <th>vehicle_type</th>\n",
       "      <td>37490.0</td>\n",
       "      <td>0.105794</td>\n",
       "    </tr>\n",
       "    <tr>\n",
       "      <th>fuel_type</th>\n",
       "      <td>32895.0</td>\n",
       "      <td>0.092827</td>\n",
       "    </tr>\n",
       "    <tr>\n",
       "      <th>gearbox</th>\n",
       "      <td>19833.0</td>\n",
       "      <td>0.055967</td>\n",
       "    </tr>\n",
       "    <tr>\n",
       "      <th>model</th>\n",
       "      <td>19705.0</td>\n",
       "      <td>0.055606</td>\n",
       "    </tr>\n",
       "    <tr>\n",
       "      <th>date_crawled</th>\n",
       "      <td>0.0</td>\n",
       "      <td>0.000000</td>\n",
       "    </tr>\n",
       "    <tr>\n",
       "      <th>price</th>\n",
       "      <td>0.0</td>\n",
       "      <td>0.000000</td>\n",
       "    </tr>\n",
       "    <tr>\n",
       "      <th>registration_year</th>\n",
       "      <td>0.0</td>\n",
       "      <td>0.000000</td>\n",
       "    </tr>\n",
       "    <tr>\n",
       "      <th>power</th>\n",
       "      <td>0.0</td>\n",
       "      <td>0.000000</td>\n",
       "    </tr>\n",
       "    <tr>\n",
       "      <th>kilometer</th>\n",
       "      <td>0.0</td>\n",
       "      <td>0.000000</td>\n",
       "    </tr>\n",
       "    <tr>\n",
       "      <th>registration_month</th>\n",
       "      <td>0.0</td>\n",
       "      <td>0.000000</td>\n",
       "    </tr>\n",
       "    <tr>\n",
       "      <th>brand</th>\n",
       "      <td>0.0</td>\n",
       "      <td>0.000000</td>\n",
       "    </tr>\n",
       "    <tr>\n",
       "      <th>date_created</th>\n",
       "      <td>0.0</td>\n",
       "      <td>0.000000</td>\n",
       "    </tr>\n",
       "    <tr>\n",
       "      <th>number_of_pictures</th>\n",
       "      <td>0.0</td>\n",
       "      <td>0.000000</td>\n",
       "    </tr>\n",
       "    <tr>\n",
       "      <th>postal_code</th>\n",
       "      <td>0.0</td>\n",
       "      <td>0.000000</td>\n",
       "    </tr>\n",
       "    <tr>\n",
       "      <th>last_seen</th>\n",
       "      <td>0.0</td>\n",
       "      <td>0.000000</td>\n",
       "    </tr>\n",
       "  </tbody>\n",
       "</table>\n",
       "</div>"
      ],
      "text/plain": [
       "                        sum      mean\n",
       "not_repaired        71154.0  0.200791\n",
       "vehicle_type        37490.0  0.105794\n",
       "fuel_type           32895.0  0.092827\n",
       "gearbox             19833.0  0.055967\n",
       "model               19705.0  0.055606\n",
       "date_crawled            0.0  0.000000\n",
       "price                   0.0  0.000000\n",
       "registration_year       0.0  0.000000\n",
       "power                   0.0  0.000000\n",
       "kilometer               0.0  0.000000\n",
       "registration_month      0.0  0.000000\n",
       "brand                   0.0  0.000000\n",
       "date_created            0.0  0.000000\n",
       "number_of_pictures      0.0  0.000000\n",
       "postal_code             0.0  0.000000\n",
       "last_seen               0.0  0.000000"
      ]
     },
     "execution_count": 11,
     "metadata": {},
     "output_type": "execute_result"
    }
   ],
   "source": [
    "pd.DataFrame(data=(df.isna().sum(), df.isna().mean()), index=['sum', 'mean']).T.sort_values(by='mean', ascending=False)"
   ]
  },
  {
   "cell_type": "markdown",
   "metadata": {},
   "source": [
    "We have a large number of missing values (20%) in the `not_repaired` column. This may be because the user did not report the repair, or due to a technical error.  \n",
    "\n",
    "There are also a lot of missing values in the following columns: `vehicle_type` (10.6%), `fuel_type` (9.3%), `gearbox` (5.6%), and `model` (5.6%). Missing values in these columns could also appear either as a result of user errors when filling out the ad or as a result of a technical error.\n",
    "\n",
    "Since all features with missing values are categorical, we will replace them with the `unknown` type. "
   ]
  },
  {
   "cell_type": "code",
   "execution_count": 12,
   "metadata": {},
   "outputs": [],
   "source": [
    "df_new = df.fillna('unknown')"
   ]
  },
  {
   "cell_type": "code",
   "execution_count": 13,
   "metadata": {},
   "outputs": [
    {
     "data": {
      "text/plain": [
       "date_crawled          0\n",
       "price                 0\n",
       "vehicle_type          0\n",
       "registration_year     0\n",
       "gearbox               0\n",
       "power                 0\n",
       "model                 0\n",
       "kilometer             0\n",
       "registration_month    0\n",
       "fuel_type             0\n",
       "brand                 0\n",
       "not_repaired          0\n",
       "date_created          0\n",
       "number_of_pictures    0\n",
       "postal_code           0\n",
       "last_seen             0\n",
       "dtype: int64"
      ]
     },
     "execution_count": 13,
     "metadata": {},
     "output_type": "execute_result"
    }
   ],
   "source": [
    "df_new.isna().sum()"
   ]
  },
  {
   "cell_type": "markdown",
   "metadata": {},
   "source": [
    "### Useless features"
   ]
  },
  {
   "cell_type": "markdown",
   "metadata": {},
   "source": [
    "Let's remove features such as: the date the profile was downloaded from the database (`date_crawled`), the date the profile was created (`date_created`), the date of the last user activity (`last_seen`), the number of car photos (`number_of_pictures`) (contains only `0` values in all ads), the postal code of the owner of the profile (user) (`postal_code`) and the month of registration of the car (`registration_month`), since they are not useful for our project."
   ]
  },
  {
   "cell_type": "code",
   "execution_count": 14,
   "metadata": {},
   "outputs": [],
   "source": [
    "df_new = df_new.drop(\n",
    "    ['date_crawled', \n",
    "     'date_created', \n",
    "     'last_seen', \n",
    "     'number_of_pictures', \n",
    "     'postal_code', \n",
    "     'registration_month'], axis=1)"
   ]
  },
  {
   "cell_type": "code",
   "execution_count": 15,
   "metadata": {
    "scrolled": false
   },
   "outputs": [
    {
     "data": {
      "text/html": [
       "<div>\n",
       "<style scoped>\n",
       "    .dataframe tbody tr th:only-of-type {\n",
       "        vertical-align: middle;\n",
       "    }\n",
       "\n",
       "    .dataframe tbody tr th {\n",
       "        vertical-align: top;\n",
       "    }\n",
       "\n",
       "    .dataframe thead th {\n",
       "        text-align: right;\n",
       "    }\n",
       "</style>\n",
       "<table border=\"1\" class=\"dataframe\">\n",
       "  <thead>\n",
       "    <tr style=\"text-align: right;\">\n",
       "      <th></th>\n",
       "      <th>price</th>\n",
       "      <th>vehicle_type</th>\n",
       "      <th>registration_year</th>\n",
       "      <th>gearbox</th>\n",
       "      <th>power</th>\n",
       "      <th>model</th>\n",
       "      <th>kilometer</th>\n",
       "      <th>fuel_type</th>\n",
       "      <th>brand</th>\n",
       "      <th>not_repaired</th>\n",
       "    </tr>\n",
       "  </thead>\n",
       "  <tbody>\n",
       "    <tr>\n",
       "      <th>0</th>\n",
       "      <td>480</td>\n",
       "      <td>unknown</td>\n",
       "      <td>1993</td>\n",
       "      <td>manual</td>\n",
       "      <td>0</td>\n",
       "      <td>golf</td>\n",
       "      <td>150000</td>\n",
       "      <td>petrol</td>\n",
       "      <td>volkswagen</td>\n",
       "      <td>unknown</td>\n",
       "    </tr>\n",
       "    <tr>\n",
       "      <th>1</th>\n",
       "      <td>18300</td>\n",
       "      <td>coupe</td>\n",
       "      <td>2011</td>\n",
       "      <td>manual</td>\n",
       "      <td>190</td>\n",
       "      <td>unknown</td>\n",
       "      <td>125000</td>\n",
       "      <td>gasoline</td>\n",
       "      <td>audi</td>\n",
       "      <td>yes</td>\n",
       "    </tr>\n",
       "    <tr>\n",
       "      <th>2</th>\n",
       "      <td>9800</td>\n",
       "      <td>suv</td>\n",
       "      <td>2004</td>\n",
       "      <td>auto</td>\n",
       "      <td>163</td>\n",
       "      <td>grand</td>\n",
       "      <td>125000</td>\n",
       "      <td>gasoline</td>\n",
       "      <td>jeep</td>\n",
       "      <td>unknown</td>\n",
       "    </tr>\n",
       "    <tr>\n",
       "      <th>3</th>\n",
       "      <td>1500</td>\n",
       "      <td>small</td>\n",
       "      <td>2001</td>\n",
       "      <td>manual</td>\n",
       "      <td>75</td>\n",
       "      <td>golf</td>\n",
       "      <td>150000</td>\n",
       "      <td>petrol</td>\n",
       "      <td>volkswagen</td>\n",
       "      <td>no</td>\n",
       "    </tr>\n",
       "    <tr>\n",
       "      <th>4</th>\n",
       "      <td>3600</td>\n",
       "      <td>small</td>\n",
       "      <td>2008</td>\n",
       "      <td>manual</td>\n",
       "      <td>69</td>\n",
       "      <td>fabia</td>\n",
       "      <td>90000</td>\n",
       "      <td>gasoline</td>\n",
       "      <td>skoda</td>\n",
       "      <td>no</td>\n",
       "    </tr>\n",
       "  </tbody>\n",
       "</table>\n",
       "</div>"
      ],
      "text/plain": [
       "   price vehicle_type  registration_year gearbox  power    model  kilometer  \\\n",
       "0    480      unknown               1993  manual      0     golf     150000   \n",
       "1  18300        coupe               2011  manual    190  unknown     125000   \n",
       "2   9800          suv               2004    auto    163    grand     125000   \n",
       "3   1500        small               2001  manual     75     golf     150000   \n",
       "4   3600        small               2008  manual     69    fabia      90000   \n",
       "\n",
       "  fuel_type       brand not_repaired  \n",
       "0    petrol  volkswagen      unknown  \n",
       "1  gasoline        audi          yes  \n",
       "2  gasoline        jeep      unknown  \n",
       "3    petrol  volkswagen           no  \n",
       "4  gasoline       skoda           no  "
      ]
     },
     "execution_count": 15,
     "metadata": {},
     "output_type": "execute_result"
    }
   ],
   "source": [
    "df_new.head(5)"
   ]
  },
  {
   "cell_type": "markdown",
   "metadata": {},
   "source": [
    "### Anomalies handling "
   ]
  },
  {
   "cell_type": "markdown",
   "metadata": {},
   "source": [
    "Let's take another look at the distribution of values in columns with numeric data."
   ]
  },
  {
   "cell_type": "code",
   "execution_count": 16,
   "metadata": {
    "scrolled": true
   },
   "outputs": [
    {
     "data": {
      "text/html": [
       "<div>\n",
       "<style scoped>\n",
       "    .dataframe tbody tr th:only-of-type {\n",
       "        vertical-align: middle;\n",
       "    }\n",
       "\n",
       "    .dataframe tbody tr th {\n",
       "        vertical-align: top;\n",
       "    }\n",
       "\n",
       "    .dataframe thead th {\n",
       "        text-align: right;\n",
       "    }\n",
       "</style>\n",
       "<table border=\"1\" class=\"dataframe\">\n",
       "  <thead>\n",
       "    <tr style=\"text-align: right;\">\n",
       "      <th></th>\n",
       "      <th>count</th>\n",
       "      <th>mean</th>\n",
       "      <th>std</th>\n",
       "      <th>min</th>\n",
       "      <th>25%</th>\n",
       "      <th>50%</th>\n",
       "      <th>75%</th>\n",
       "      <th>max</th>\n",
       "    </tr>\n",
       "  </thead>\n",
       "  <tbody>\n",
       "    <tr>\n",
       "      <th>price</th>\n",
       "      <td>354369.0</td>\n",
       "      <td>4416.656776</td>\n",
       "      <td>4514.158514</td>\n",
       "      <td>0.0</td>\n",
       "      <td>1050.0</td>\n",
       "      <td>2700.0</td>\n",
       "      <td>6400.0</td>\n",
       "      <td>20000.0</td>\n",
       "    </tr>\n",
       "    <tr>\n",
       "      <th>registration_year</th>\n",
       "      <td>354369.0</td>\n",
       "      <td>2004.234448</td>\n",
       "      <td>90.227958</td>\n",
       "      <td>1000.0</td>\n",
       "      <td>1999.0</td>\n",
       "      <td>2003.0</td>\n",
       "      <td>2008.0</td>\n",
       "      <td>9999.0</td>\n",
       "    </tr>\n",
       "    <tr>\n",
       "      <th>power</th>\n",
       "      <td>354369.0</td>\n",
       "      <td>110.094337</td>\n",
       "      <td>189.850405</td>\n",
       "      <td>0.0</td>\n",
       "      <td>69.0</td>\n",
       "      <td>105.0</td>\n",
       "      <td>143.0</td>\n",
       "      <td>20000.0</td>\n",
       "    </tr>\n",
       "    <tr>\n",
       "      <th>kilometer</th>\n",
       "      <td>354369.0</td>\n",
       "      <td>128211.172535</td>\n",
       "      <td>37905.341530</td>\n",
       "      <td>5000.0</td>\n",
       "      <td>125000.0</td>\n",
       "      <td>150000.0</td>\n",
       "      <td>150000.0</td>\n",
       "      <td>150000.0</td>\n",
       "    </tr>\n",
       "  </tbody>\n",
       "</table>\n",
       "</div>"
      ],
      "text/plain": [
       "                      count           mean           std     min       25%  \\\n",
       "price              354369.0    4416.656776   4514.158514     0.0    1050.0   \n",
       "registration_year  354369.0    2004.234448     90.227958  1000.0    1999.0   \n",
       "power              354369.0     110.094337    189.850405     0.0      69.0   \n",
       "kilometer          354369.0  128211.172535  37905.341530  5000.0  125000.0   \n",
       "\n",
       "                        50%       75%       max  \n",
       "price                2700.0    6400.0   20000.0  \n",
       "registration_year    2003.0    2008.0    9999.0  \n",
       "power                 105.0     143.0   20000.0  \n",
       "kilometer          150000.0  150000.0  150000.0  "
      ]
     },
     "execution_count": 16,
     "metadata": {},
     "output_type": "execute_result"
    }
   ],
   "source": [
    "df_new.describe().T"
   ]
  },
  {
   "cell_type": "code",
   "execution_count": 17,
   "metadata": {},
   "outputs": [
    {
     "data": {
      "text/plain": [
       "'2016-04-07 00:00:00'"
      ]
     },
     "execution_count": 17,
     "metadata": {},
     "output_type": "execute_result"
    }
   ],
   "source": [
    "df['date_created'].max()"
   ]
  },
  {
   "cell_type": "markdown",
   "metadata": {},
   "source": [
    "There are null values in the `price` and `power` columns. Also, the maximum engine power is 20,000 hp. looks unrealistic and is most likely a data entry error. Anomalies are also observed in the `registration_year` column: the minimum year of registration is 1000 and the maximum is 9999. Since the year of data upload is 2016, the year of registration of the car cannot be higher than this value. To continue the project it is necessary to get rid of anomalies. We will remove values below the 1st percentile and above the 99th percentile, and for the year of registration, we will limit the data to 2016. "
   ]
  },
  {
   "cell_type": "code",
   "execution_count": 18,
   "metadata": {},
   "outputs": [
    {
     "data": {
      "text/html": [
       "<div>\n",
       "<style scoped>\n",
       "    .dataframe tbody tr th:only-of-type {\n",
       "        vertical-align: middle;\n",
       "    }\n",
       "\n",
       "    .dataframe tbody tr th {\n",
       "        vertical-align: top;\n",
       "    }\n",
       "\n",
       "    .dataframe thead th {\n",
       "        text-align: right;\n",
       "    }\n",
       "</style>\n",
       "<table border=\"1\" class=\"dataframe\">\n",
       "  <thead>\n",
       "    <tr style=\"text-align: right;\">\n",
       "      <th></th>\n",
       "      <th>count</th>\n",
       "      <th>mean</th>\n",
       "      <th>std</th>\n",
       "      <th>min</th>\n",
       "      <th>25%</th>\n",
       "      <th>50%</th>\n",
       "      <th>75%</th>\n",
       "      <th>max</th>\n",
       "    </tr>\n",
       "  </thead>\n",
       "  <tbody>\n",
       "    <tr>\n",
       "      <th>price</th>\n",
       "      <td>288278.0</td>\n",
       "      <td>4609.850079</td>\n",
       "      <td>4309.514546</td>\n",
       "      <td>1.0</td>\n",
       "      <td>1300.0</td>\n",
       "      <td>3000.0</td>\n",
       "      <td>6700.0</td>\n",
       "      <td>18800.0</td>\n",
       "    </tr>\n",
       "    <tr>\n",
       "      <th>registration_year</th>\n",
       "      <td>288278.0</td>\n",
       "      <td>2002.999299</td>\n",
       "      <td>5.858523</td>\n",
       "      <td>1981.0</td>\n",
       "      <td>1999.0</td>\n",
       "      <td>2003.0</td>\n",
       "      <td>2007.0</td>\n",
       "      <td>2016.0</td>\n",
       "    </tr>\n",
       "    <tr>\n",
       "      <th>power</th>\n",
       "      <td>288278.0</td>\n",
       "      <td>117.867881</td>\n",
       "      <td>48.315132</td>\n",
       "      <td>1.0</td>\n",
       "      <td>75.0</td>\n",
       "      <td>110.0</td>\n",
       "      <td>145.0</td>\n",
       "      <td>300.0</td>\n",
       "    </tr>\n",
       "    <tr>\n",
       "      <th>kilometer</th>\n",
       "      <td>288278.0</td>\n",
       "      <td>128949.971902</td>\n",
       "      <td>36183.351011</td>\n",
       "      <td>5000.0</td>\n",
       "      <td>125000.0</td>\n",
       "      <td>150000.0</td>\n",
       "      <td>150000.0</td>\n",
       "      <td>150000.0</td>\n",
       "    </tr>\n",
       "  </tbody>\n",
       "</table>\n",
       "</div>"
      ],
      "text/plain": [
       "                      count           mean           std     min       25%  \\\n",
       "price              288278.0    4609.850079   4309.514546     1.0    1300.0   \n",
       "registration_year  288278.0    2002.999299      5.858523  1981.0    1999.0   \n",
       "power              288278.0     117.867881     48.315132     1.0      75.0   \n",
       "kilometer          288278.0  128949.971902  36183.351011  5000.0  125000.0   \n",
       "\n",
       "                        50%       75%       max  \n",
       "price                3000.0    6700.0   18800.0  \n",
       "registration_year    2003.0    2007.0    2016.0  \n",
       "power                 110.0     145.0     300.0  \n",
       "kilometer          150000.0  150000.0  150000.0  "
      ]
     },
     "execution_count": 18,
     "metadata": {},
     "output_type": "execute_result"
    }
   ],
   "source": [
    "df_clean = df_new.loc[\n",
    "    (df_new['registration_year'] > df_new['registration_year'].quantile(0.01)) & \n",
    "    (df_new['registration_year'] <= 2016) & \n",
    "    (df_new['power'] > df_new['power'].quantile(0.01)) & \n",
    "    (df_new['power'] <= df_new['power'].quantile(0.99)) & \n",
    "    (df_new['price'] > df_new['price'].quantile(0.01)) & \n",
    "    (df_new['price'] <= df_new['price'].quantile(0.99))\n",
    "]\n",
    "df_clean.describe().T"
   ]
  },
  {
   "cell_type": "markdown",
   "metadata": {},
   "source": [
    "Thus, we got rid of anomalies. Let's see how much data we have left after filtering."
   ]
  },
  {
   "cell_type": "code",
   "execution_count": 19,
   "metadata": {},
   "outputs": [
    {
     "name": "stdout",
     "output_type": "stream",
     "text": [
      "81.35%\n"
     ]
    }
   ],
   "source": [
    "print(f'{df_clean.shape[0]/df.shape[0]:.2%}')"
   ]
  },
  {
   "cell_type": "markdown",
   "metadata": {},
   "source": [
    "### Check for duplicates"
   ]
  },
  {
   "cell_type": "markdown",
   "metadata": {},
   "source": [
    "Let's check the data for duplicates."
   ]
  },
  {
   "cell_type": "code",
   "execution_count": 20,
   "metadata": {
    "scrolled": true
   },
   "outputs": [
    {
     "data": {
      "text/plain": [
       "38492"
      ]
     },
     "execution_count": 20,
     "metadata": {},
     "output_type": "execute_result"
    }
   ],
   "source": [
    "df_clean.duplicated().sum()"
   ]
  },
  {
   "cell_type": "markdown",
   "metadata": {},
   "source": [
    "We have found 38492 duplicate values. This is probably due to some technical problem or data entry error. Let's remove duplicate values to improve model training."
   ]
  },
  {
   "cell_type": "code",
   "execution_count": 21,
   "metadata": {},
   "outputs": [],
   "source": [
    "df_clean = df_clean.drop_duplicates()"
   ]
  },
  {
   "cell_type": "code",
   "execution_count": 22,
   "metadata": {},
   "outputs": [
    {
     "data": {
      "text/plain": [
       "0"
      ]
     },
     "execution_count": 22,
     "metadata": {},
     "output_type": "execute_result"
    }
   ],
   "source": [
    "df_clean.duplicated().sum()"
   ]
  },
  {
   "cell_type": "markdown",
   "metadata": {},
   "source": [
    "Thus, we removed the duplicates and can move on."
   ]
  },
  {
   "cell_type": "markdown",
   "metadata": {},
   "source": [
    "### Conclusion"
   ]
  },
  {
   "cell_type": "markdown",
   "metadata": {},
   "source": [
    "Our dataset consists of 354369 observations and 16 columns. Each object in the dataset is information about the technical characteristics, equipment and prices of cars.\n",
    "\n",
    "During the data preparation step we did the following:\n",
    "\n",
    "* converted column names to lowercase and converted some of them to snake case\n",
    "* filled in missing values with 'unknown'\n",
    "* removed unnecessary features such as `date_crawled`, `date_created`, `last_seen`, `number_of_pictures`, `postal_code` and `registration_month` as they are not useful for analysis and training of models\n",
    "* removed the rows with anomalous values in columns `registration_year`, `power` and `price`\n",
    "* removed duplicates"
   ]
  },
  {
   "cell_type": "markdown",
   "metadata": {},
   "source": [
    "## Model Training"
   ]
  },
  {
   "cell_type": "markdown",
   "metadata": {},
   "source": [
    "### Data split"
   ]
  },
  {
   "cell_type": "markdown",
   "metadata": {},
   "source": [
    "Let's divide the dataset into features and a target variable."
   ]
  },
  {
   "cell_type": "code",
   "execution_count": 23,
   "metadata": {},
   "outputs": [],
   "source": [
    "features = df_clean.drop('price', axis=1)\n",
    "target = df_clean['price']"
   ]
  },
  {
   "cell_type": "code",
   "execution_count": 24,
   "metadata": {},
   "outputs": [
    {
     "name": "stdout",
     "output_type": "stream",
     "text": [
      "Features size: (249786, 9)\n",
      "Target variable size: (249786,)\n"
     ]
    }
   ],
   "source": [
    "print('Features size:',features.shape)\n",
    "print('Target variable size:',target.shape)"
   ]
  },
  {
   "cell_type": "markdown",
   "metadata": {},
   "source": [
    "Let's split the data into two sets: training and test. We will use the training set to train the model and tune the hyperparameters, and the test set to test the model."
   ]
  },
  {
   "cell_type": "code",
   "execution_count": 25,
   "metadata": {},
   "outputs": [],
   "source": [
    "X_train , X_test , y_train , y_test = train_test_split (\n",
    "    features, target, test_size = .25,\n",
    "    random_state = 12345\n",
    ")"
   ]
  },
  {
   "cell_type": "code",
   "execution_count": 26,
   "metadata": {},
   "outputs": [
    {
     "name": "stdout",
     "output_type": "stream",
     "text": [
      "Features size of training set: (187339, 9)\n",
      "Target size of training set: (187339,)\n",
      "Features size of validation set: (62447, 9)\n",
      "Target size of validation set: (62447,)\n"
     ]
    }
   ],
   "source": [
    "print('Features size of training set:', X_train.shape), \n",
    "print('Target size of training set:', y_train.shape), \n",
    "print('Features size of validation set:', X_test.shape), \n",
    "print('Target size of validation set:', y_test.shape)"
   ]
  },
  {
   "cell_type": "markdown",
   "metadata": {},
   "source": [
    "We split the data into two sets in a ratio of 75 to 25:\n",
    "\n",
    "     X_train, y_train - training set\n",
    "     X_test, y_test - test set"
   ]
  },
  {
   "cell_type": "markdown",
   "metadata": {},
   "source": [
    "Let's create lists in order to add model results to them. After the end of the tests, we will create a table and analyze the results."
   ]
  },
  {
   "cell_type": "code",
   "execution_count": 27,
   "metadata": {},
   "outputs": [],
   "source": [
    "training_time = []\n",
    "prediction_time = []\n",
    "model_rmse = []\n",
    "model_name = []"
   ]
  },
  {
   "cell_type": "markdown",
   "metadata": {},
   "source": [
    "### RandomForestRegressor"
   ]
  },
  {
   "cell_type": "markdown",
   "metadata": {},
   "source": [
    "Before training the `Random Forest` model, let's scale the numeric variables with the Standard Scaler and encode the categorical variables with the Ordinal Encoder."
   ]
  },
  {
   "cell_type": "markdown",
   "metadata": {},
   "source": [
    "Let's separate categorical and numerical columns."
   ]
  },
  {
   "cell_type": "code",
   "execution_count": 28,
   "metadata": {},
   "outputs": [
    {
     "data": {
      "text/plain": [
       "['vehicle_type', 'gearbox', 'model', 'fuel_type', 'brand', 'not_repaired']"
      ]
     },
     "execution_count": 28,
     "metadata": {},
     "output_type": "execute_result"
    }
   ],
   "source": [
    "cat_features = list(X_train.select_dtypes(include=['object']).columns)\n",
    "cat_features"
   ]
  },
  {
   "cell_type": "code",
   "execution_count": 29,
   "metadata": {},
   "outputs": [
    {
     "data": {
      "text/plain": [
       "['power', 'registration_year', 'kilometer']"
      ]
     },
     "execution_count": 29,
     "metadata": {},
     "output_type": "execute_result"
    }
   ],
   "source": [
    "num_features = list(set(X_train.columns) - set(cat_features))\n",
    "num_features"
   ]
  },
  {
   "cell_type": "markdown",
   "metadata": {},
   "source": [
    "Let's create a transformer that will scale numerical variables and encode categorical variables."
   ]
  },
  {
   "cell_type": "code",
   "execution_count": 30,
   "metadata": {},
   "outputs": [],
   "source": [
    "numeric_transformer = StandardScaler()\n",
    "categorical_transformer = OrdinalEncoder (handle_unknown='use_encoded_value', unknown_value=np.nan)\n",
    "preprocessor = ColumnTransformer (\n",
    "    transformers = [\n",
    "        ('num' , numeric_transformer , num_features) ,\n",
    "        ('cat' , categorical_transformer , cat_features) ]\n",
    "    )"
   ]
  },
  {
   "cell_type": "markdown",
   "metadata": {},
   "source": [
    "In order to correctly calculate the training time of the `Random Forest` model, let's calculate the total time required to transform the variables and train the model."
   ]
  },
  {
   "cell_type": "code",
   "execution_count": 31,
   "metadata": {},
   "outputs": [],
   "source": [
    "st_data_transform = time.time()\n",
    "\n",
    "X_train_reg = preprocessor.fit_transform(X_train)\n",
    "X_test_reg  = preprocessor.transform(X_test)\n",
    "\n",
    "et_data_transform = time.time()\n",
    "elapsed_time_data_transform = et_data_transform - st_data_transform"
   ]
  },
  {
   "cell_type": "markdown",
   "metadata": {},
   "source": [
    "**Hyperparameter tuning and model training**"
   ]
  },
  {
   "cell_type": "markdown",
   "metadata": {},
   "source": [
    "Let's tune hyperparameters using GridSearchCV and train the model."
   ]
  },
  {
   "cell_type": "code",
   "execution_count": 32,
   "metadata": {},
   "outputs": [
    {
     "data": {
      "text/html": [
       "<style>#sk-container-id-1 {color: black;background-color: white;}#sk-container-id-1 pre{padding: 0;}#sk-container-id-1 div.sk-toggleable {background-color: white;}#sk-container-id-1 label.sk-toggleable__label {cursor: pointer;display: block;width: 100%;margin-bottom: 0;padding: 0.3em;box-sizing: border-box;text-align: center;}#sk-container-id-1 label.sk-toggleable__label-arrow:before {content: \"▸\";float: left;margin-right: 0.25em;color: #696969;}#sk-container-id-1 label.sk-toggleable__label-arrow:hover:before {color: black;}#sk-container-id-1 div.sk-estimator:hover label.sk-toggleable__label-arrow:before {color: black;}#sk-container-id-1 div.sk-toggleable__content {max-height: 0;max-width: 0;overflow: hidden;text-align: left;background-color: #f0f8ff;}#sk-container-id-1 div.sk-toggleable__content pre {margin: 0.2em;color: black;border-radius: 0.25em;background-color: #f0f8ff;}#sk-container-id-1 input.sk-toggleable__control:checked~div.sk-toggleable__content {max-height: 200px;max-width: 100%;overflow: auto;}#sk-container-id-1 input.sk-toggleable__control:checked~label.sk-toggleable__label-arrow:before {content: \"▾\";}#sk-container-id-1 div.sk-estimator input.sk-toggleable__control:checked~label.sk-toggleable__label {background-color: #d4ebff;}#sk-container-id-1 div.sk-label input.sk-toggleable__control:checked~label.sk-toggleable__label {background-color: #d4ebff;}#sk-container-id-1 input.sk-hidden--visually {border: 0;clip: rect(1px 1px 1px 1px);clip: rect(1px, 1px, 1px, 1px);height: 1px;margin: -1px;overflow: hidden;padding: 0;position: absolute;width: 1px;}#sk-container-id-1 div.sk-estimator {font-family: monospace;background-color: #f0f8ff;border: 1px dotted black;border-radius: 0.25em;box-sizing: border-box;margin-bottom: 0.5em;}#sk-container-id-1 div.sk-estimator:hover {background-color: #d4ebff;}#sk-container-id-1 div.sk-parallel-item::after {content: \"\";width: 100%;border-bottom: 1px solid gray;flex-grow: 1;}#sk-container-id-1 div.sk-label:hover label.sk-toggleable__label {background-color: #d4ebff;}#sk-container-id-1 div.sk-serial::before {content: \"\";position: absolute;border-left: 1px solid gray;box-sizing: border-box;top: 0;bottom: 0;left: 50%;z-index: 0;}#sk-container-id-1 div.sk-serial {display: flex;flex-direction: column;align-items: center;background-color: white;padding-right: 0.2em;padding-left: 0.2em;position: relative;}#sk-container-id-1 div.sk-item {position: relative;z-index: 1;}#sk-container-id-1 div.sk-parallel {display: flex;align-items: stretch;justify-content: center;background-color: white;position: relative;}#sk-container-id-1 div.sk-item::before, #sk-container-id-1 div.sk-parallel-item::before {content: \"\";position: absolute;border-left: 1px solid gray;box-sizing: border-box;top: 0;bottom: 0;left: 50%;z-index: -1;}#sk-container-id-1 div.sk-parallel-item {display: flex;flex-direction: column;z-index: 1;position: relative;background-color: white;}#sk-container-id-1 div.sk-parallel-item:first-child::after {align-self: flex-end;width: 50%;}#sk-container-id-1 div.sk-parallel-item:last-child::after {align-self: flex-start;width: 50%;}#sk-container-id-1 div.sk-parallel-item:only-child::after {width: 0;}#sk-container-id-1 div.sk-dashed-wrapped {border: 1px dashed gray;margin: 0 0.4em 0.5em 0.4em;box-sizing: border-box;padding-bottom: 0.4em;background-color: white;}#sk-container-id-1 div.sk-label label {font-family: monospace;font-weight: bold;display: inline-block;line-height: 1.2em;}#sk-container-id-1 div.sk-label-container {text-align: center;}#sk-container-id-1 div.sk-container {/* jupyter's `normalize.less` sets `[hidden] { display: none; }` but bootstrap.min.css set `[hidden] { display: none !important; }` so we also need the `!important` here to be able to override the default hidden behavior on the sphinx rendered scikit-learn.org. See: https://github.com/scikit-learn/scikit-learn/issues/21755 */display: inline-block !important;position: relative;}#sk-container-id-1 div.sk-text-repr-fallback {display: none;}</style><div id=\"sk-container-id-1\" class=\"sk-top-container\"><div class=\"sk-text-repr-fallback\"><pre>GridSearchCV(cv=5, estimator=RandomForestRegressor(random_state=12345),\n",
       "             param_grid={&#x27;max_depth&#x27;: [4, 5, 6, 7, 8],\n",
       "                         &#x27;max_features&#x27;: [&#x27;auto&#x27;, &#x27;sqrt&#x27;, &#x27;log2&#x27;],\n",
       "                         &#x27;n_estimators&#x27;: [10, 20, 30]},\n",
       "             scoring=&#x27;neg_root_mean_squared_error&#x27;)</pre><b>In a Jupyter environment, please rerun this cell to show the HTML representation or trust the notebook. <br />On GitHub, the HTML representation is unable to render, please try loading this page with nbviewer.org.</b></div><div class=\"sk-container\" hidden><div class=\"sk-item sk-dashed-wrapped\"><div class=\"sk-label-container\"><div class=\"sk-label sk-toggleable\"><input class=\"sk-toggleable__control sk-hidden--visually\" id=\"sk-estimator-id-1\" type=\"checkbox\" ><label for=\"sk-estimator-id-1\" class=\"sk-toggleable__label sk-toggleable__label-arrow\">GridSearchCV</label><div class=\"sk-toggleable__content\"><pre>GridSearchCV(cv=5, estimator=RandomForestRegressor(random_state=12345),\n",
       "             param_grid={&#x27;max_depth&#x27;: [4, 5, 6, 7, 8],\n",
       "                         &#x27;max_features&#x27;: [&#x27;auto&#x27;, &#x27;sqrt&#x27;, &#x27;log2&#x27;],\n",
       "                         &#x27;n_estimators&#x27;: [10, 20, 30]},\n",
       "             scoring=&#x27;neg_root_mean_squared_error&#x27;)</pre></div></div></div><div class=\"sk-parallel\"><div class=\"sk-parallel-item\"><div class=\"sk-item\"><div class=\"sk-label-container\"><div class=\"sk-label sk-toggleable\"><input class=\"sk-toggleable__control sk-hidden--visually\" id=\"sk-estimator-id-2\" type=\"checkbox\" ><label for=\"sk-estimator-id-2\" class=\"sk-toggleable__label sk-toggleable__label-arrow\">estimator: RandomForestRegressor</label><div class=\"sk-toggleable__content\"><pre>RandomForestRegressor(random_state=12345)</pre></div></div></div><div class=\"sk-serial\"><div class=\"sk-item\"><div class=\"sk-estimator sk-toggleable\"><input class=\"sk-toggleable__control sk-hidden--visually\" id=\"sk-estimator-id-3\" type=\"checkbox\" ><label for=\"sk-estimator-id-3\" class=\"sk-toggleable__label sk-toggleable__label-arrow\">RandomForestRegressor</label><div class=\"sk-toggleable__content\"><pre>RandomForestRegressor(random_state=12345)</pre></div></div></div></div></div></div></div></div></div></div>"
      ],
      "text/plain": [
       "GridSearchCV(cv=5, estimator=RandomForestRegressor(random_state=12345),\n",
       "             param_grid={'max_depth': [4, 5, 6, 7, 8],\n",
       "                         'max_features': ['auto', 'sqrt', 'log2'],\n",
       "                         'n_estimators': [10, 20, 30]},\n",
       "             scoring='neg_root_mean_squared_error')"
      ]
     },
     "execution_count": 32,
     "metadata": {},
     "output_type": "execute_result"
    }
   ],
   "source": [
    "random_forest_params = {'n_estimators': [10, 20, 30], \n",
    "                        'max_features': ['auto', 'sqrt', 'log2'], \n",
    "                        'max_depth' : [4,5,6,7,8]}\n",
    "random_forest = RandomForestRegressor(random_state=12345)\n",
    "\n",
    "grid_forest = GridSearchCV(random_forest, random_forest_params, cv=5, scoring='neg_root_mean_squared_error')\n",
    "grid_forest.fit(X_train_reg, y_train)"
   ]
  },
  {
   "cell_type": "markdown",
   "metadata": {},
   "source": [
    "Let's train the model using the best parameters and measure the training time."
   ]
  },
  {
   "cell_type": "code",
   "execution_count": 33,
   "metadata": {},
   "outputs": [],
   "source": [
    "st_rf_train = time.time()\n",
    "\n",
    "rf_model = RandomForestRegressor(**grid_forest.best_params_, random_state=12345)\n",
    "rf_model.fit(X_train_reg, y_train)\n",
    "\n",
    "et_rf_train = time.time()\n",
    "elapsed_time_rf_train = et_rf_train - st_rf_train + elapsed_time_data_transform"
   ]
  },
  {
   "cell_type": "markdown",
   "metadata": {},
   "source": [
    "Let's check the model on the training data and evaluate the quality using the RMSE."
   ]
  },
  {
   "cell_type": "code",
   "execution_count": 34,
   "metadata": {},
   "outputs": [
    {
     "name": "stdout",
     "output_type": "stream",
     "text": [
      "The best RMSE for Random Forest: 1867.5529717637478\n"
     ]
    }
   ],
   "source": [
    "st_rf_pred = time.time()\n",
    "\n",
    "rf_pred = rf_model.predict(X_train_reg)\n",
    "rmse_rf = mean_squared_error(y_train, rf_pred, squared=False)\n",
    "print(f'The best RMSE for Random Forest: {rmse_rf}')\n",
    "\n",
    "et_rf_pred = time.time()\n",
    "elapsed_time_rf_pred = et_rf_pred - st_rf_pred"
   ]
  },
  {
   "cell_type": "code",
   "execution_count": 35,
   "metadata": {},
   "outputs": [],
   "source": [
    "model_name.append('RandomForest')\n",
    "training_time.append(elapsed_time_rf_train)\n",
    "prediction_time.append(elapsed_time_rf_pred)\n",
    "model_rmse.append(rmse_rf)"
   ]
  },
  {
   "cell_type": "markdown",
   "metadata": {},
   "source": [
    "### LightGBM"
   ]
  },
  {
   "cell_type": "markdown",
   "metadata": {},
   "source": [
    "Since the LightGBM library can work with categorical data, there is no need to encode it. At the same time, for the model to work correctly, we need to change the data type from object to category. First, let's tune hyperparameters using GridSearchCV, and then train the model and measure the time required for training and prediction."
   ]
  },
  {
   "cell_type": "code",
   "execution_count": 36,
   "metadata": {},
   "outputs": [
    {
     "data": {
      "text/plain": [
       "['vehicle_type',\n",
       " 'registration_year',\n",
       " 'gearbox',\n",
       " 'power',\n",
       " 'model',\n",
       " 'kilometer',\n",
       " 'fuel_type',\n",
       " 'brand',\n",
       " 'not_repaired']"
      ]
     },
     "execution_count": 36,
     "metadata": {},
     "output_type": "execute_result"
    }
   ],
   "source": [
    "lgbm_features = list(X_train.columns)\n",
    "lgbm_features"
   ]
  },
  {
   "cell_type": "code",
   "execution_count": 37,
   "metadata": {},
   "outputs": [],
   "source": [
    "X_train_lgbm = X_train.copy()"
   ]
  },
  {
   "cell_type": "code",
   "execution_count": 38,
   "metadata": {
    "scrolled": true
   },
   "outputs": [
    {
     "name": "stdout",
     "output_type": "stream",
     "text": [
      "Fitting 5 folds for each of 4 candidates, totalling 20 fits\n"
     ]
    },
    {
     "data": {
      "text/html": [
       "<style>#sk-container-id-2 {color: black;background-color: white;}#sk-container-id-2 pre{padding: 0;}#sk-container-id-2 div.sk-toggleable {background-color: white;}#sk-container-id-2 label.sk-toggleable__label {cursor: pointer;display: block;width: 100%;margin-bottom: 0;padding: 0.3em;box-sizing: border-box;text-align: center;}#sk-container-id-2 label.sk-toggleable__label-arrow:before {content: \"▸\";float: left;margin-right: 0.25em;color: #696969;}#sk-container-id-2 label.sk-toggleable__label-arrow:hover:before {color: black;}#sk-container-id-2 div.sk-estimator:hover label.sk-toggleable__label-arrow:before {color: black;}#sk-container-id-2 div.sk-toggleable__content {max-height: 0;max-width: 0;overflow: hidden;text-align: left;background-color: #f0f8ff;}#sk-container-id-2 div.sk-toggleable__content pre {margin: 0.2em;color: black;border-radius: 0.25em;background-color: #f0f8ff;}#sk-container-id-2 input.sk-toggleable__control:checked~div.sk-toggleable__content {max-height: 200px;max-width: 100%;overflow: auto;}#sk-container-id-2 input.sk-toggleable__control:checked~label.sk-toggleable__label-arrow:before {content: \"▾\";}#sk-container-id-2 div.sk-estimator input.sk-toggleable__control:checked~label.sk-toggleable__label {background-color: #d4ebff;}#sk-container-id-2 div.sk-label input.sk-toggleable__control:checked~label.sk-toggleable__label {background-color: #d4ebff;}#sk-container-id-2 input.sk-hidden--visually {border: 0;clip: rect(1px 1px 1px 1px);clip: rect(1px, 1px, 1px, 1px);height: 1px;margin: -1px;overflow: hidden;padding: 0;position: absolute;width: 1px;}#sk-container-id-2 div.sk-estimator {font-family: monospace;background-color: #f0f8ff;border: 1px dotted black;border-radius: 0.25em;box-sizing: border-box;margin-bottom: 0.5em;}#sk-container-id-2 div.sk-estimator:hover {background-color: #d4ebff;}#sk-container-id-2 div.sk-parallel-item::after {content: \"\";width: 100%;border-bottom: 1px solid gray;flex-grow: 1;}#sk-container-id-2 div.sk-label:hover label.sk-toggleable__label {background-color: #d4ebff;}#sk-container-id-2 div.sk-serial::before {content: \"\";position: absolute;border-left: 1px solid gray;box-sizing: border-box;top: 0;bottom: 0;left: 50%;z-index: 0;}#sk-container-id-2 div.sk-serial {display: flex;flex-direction: column;align-items: center;background-color: white;padding-right: 0.2em;padding-left: 0.2em;position: relative;}#sk-container-id-2 div.sk-item {position: relative;z-index: 1;}#sk-container-id-2 div.sk-parallel {display: flex;align-items: stretch;justify-content: center;background-color: white;position: relative;}#sk-container-id-2 div.sk-item::before, #sk-container-id-2 div.sk-parallel-item::before {content: \"\";position: absolute;border-left: 1px solid gray;box-sizing: border-box;top: 0;bottom: 0;left: 50%;z-index: -1;}#sk-container-id-2 div.sk-parallel-item {display: flex;flex-direction: column;z-index: 1;position: relative;background-color: white;}#sk-container-id-2 div.sk-parallel-item:first-child::after {align-self: flex-end;width: 50%;}#sk-container-id-2 div.sk-parallel-item:last-child::after {align-self: flex-start;width: 50%;}#sk-container-id-2 div.sk-parallel-item:only-child::after {width: 0;}#sk-container-id-2 div.sk-dashed-wrapped {border: 1px dashed gray;margin: 0 0.4em 0.5em 0.4em;box-sizing: border-box;padding-bottom: 0.4em;background-color: white;}#sk-container-id-2 div.sk-label label {font-family: monospace;font-weight: bold;display: inline-block;line-height: 1.2em;}#sk-container-id-2 div.sk-label-container {text-align: center;}#sk-container-id-2 div.sk-container {/* jupyter's `normalize.less` sets `[hidden] { display: none; }` but bootstrap.min.css set `[hidden] { display: none !important; }` so we also need the `!important` here to be able to override the default hidden behavior on the sphinx rendered scikit-learn.org. See: https://github.com/scikit-learn/scikit-learn/issues/21755 */display: inline-block !important;position: relative;}#sk-container-id-2 div.sk-text-repr-fallback {display: none;}</style><div id=\"sk-container-id-2\" class=\"sk-top-container\"><div class=\"sk-text-repr-fallback\"><pre>GridSearchCV(cv=5, estimator=LGBMRegressor(random_state=12345), n_jobs=-1,\n",
       "             param_grid={&#x27;learning_rate&#x27;: [0.2, 0.5],\n",
       "                         &#x27;num_iterations&#x27;: [100, 200]},\n",
       "             scoring=&#x27;neg_root_mean_squared_error&#x27;, verbose=20)</pre><b>In a Jupyter environment, please rerun this cell to show the HTML representation or trust the notebook. <br />On GitHub, the HTML representation is unable to render, please try loading this page with nbviewer.org.</b></div><div class=\"sk-container\" hidden><div class=\"sk-item sk-dashed-wrapped\"><div class=\"sk-label-container\"><div class=\"sk-label sk-toggleable\"><input class=\"sk-toggleable__control sk-hidden--visually\" id=\"sk-estimator-id-4\" type=\"checkbox\" ><label for=\"sk-estimator-id-4\" class=\"sk-toggleable__label sk-toggleable__label-arrow\">GridSearchCV</label><div class=\"sk-toggleable__content\"><pre>GridSearchCV(cv=5, estimator=LGBMRegressor(random_state=12345), n_jobs=-1,\n",
       "             param_grid={&#x27;learning_rate&#x27;: [0.2, 0.5],\n",
       "                         &#x27;num_iterations&#x27;: [100, 200]},\n",
       "             scoring=&#x27;neg_root_mean_squared_error&#x27;, verbose=20)</pre></div></div></div><div class=\"sk-parallel\"><div class=\"sk-parallel-item\"><div class=\"sk-item\"><div class=\"sk-label-container\"><div class=\"sk-label sk-toggleable\"><input class=\"sk-toggleable__control sk-hidden--visually\" id=\"sk-estimator-id-5\" type=\"checkbox\" ><label for=\"sk-estimator-id-5\" class=\"sk-toggleable__label sk-toggleable__label-arrow\">estimator: LGBMRegressor</label><div class=\"sk-toggleable__content\"><pre>LGBMRegressor(random_state=12345)</pre></div></div></div><div class=\"sk-serial\"><div class=\"sk-item\"><div class=\"sk-estimator sk-toggleable\"><input class=\"sk-toggleable__control sk-hidden--visually\" id=\"sk-estimator-id-6\" type=\"checkbox\" ><label for=\"sk-estimator-id-6\" class=\"sk-toggleable__label sk-toggleable__label-arrow\">LGBMRegressor</label><div class=\"sk-toggleable__content\"><pre>LGBMRegressor(random_state=12345)</pre></div></div></div></div></div></div></div></div></div></div>"
      ],
      "text/plain": [
       "GridSearchCV(cv=5, estimator=LGBMRegressor(random_state=12345), n_jobs=-1,\n",
       "             param_grid={'learning_rate': [0.2, 0.5],\n",
       "                         'num_iterations': [100, 200]},\n",
       "             scoring='neg_root_mean_squared_error', verbose=20)"
      ]
     },
     "execution_count": 38,
     "metadata": {},
     "output_type": "execute_result"
    }
   ],
   "source": [
    "# change categorical columns to category type\n",
    "X_train_lgbm[cat_features] = X_train_lgbm[cat_features].apply(lambda x: x.astype('category'))\n",
    "\n",
    "# prepare the data\n",
    "train_data = lgb.Dataset (X_train_lgbm, \n",
    "                          label = y_train, \n",
    "                          feature_name = lgbm_features, \n",
    "                          categorical_feature = cat_features)\n",
    "\n",
    "# create a parameter grid\n",
    "lgb_params = {'learning_rate': [0.2, 0.5], 'num_iterations': [100, 200]}\n",
    "\n",
    "\n",
    "lgb_model = lgb.LGBMRegressor(random_state=12345)\n",
    "grid_lgbm = GridSearchCV(lgb_model, lgb_params, cv=5, scoring='neg_root_mean_squared_error', verbose=20, n_jobs=-1) \n",
    "grid_lgbm.fit(X_train_lgbm, y_train)"
   ]
  },
  {
   "cell_type": "markdown",
   "metadata": {},
   "source": [
    "Let's train the model using the best parameters and measure the training time."
   ]
  },
  {
   "cell_type": "code",
   "execution_count": 39,
   "metadata": {},
   "outputs": [
    {
     "name": "stdout",
     "output_type": "stream",
     "text": [
      "[LightGBM] [Warning] Auto-choosing row-wise multi-threading, the overhead of testing was 0.007872 seconds.\n",
      "You can set `force_row_wise=true` to remove the overhead.\n",
      "And if memory is not enough, you can set `force_col_wise=true`.\n",
      "[LightGBM] [Info] Total Bins 545\n",
      "[LightGBM] [Info] Number of data points in the train set: 187339, number of used features: 9\n",
      "[LightGBM] [Info] Start training from score 4683.650676\n"
     ]
    }
   ],
   "source": [
    "st_lgbm_train = time.time()\n",
    "\n",
    "\n",
    "lgb_model = lgb.train(grid_lgbm.best_params_, train_data)\n",
    "\n",
    "\n",
    "et_lgbm_train = time.time()\n",
    "elapsed_time_lgbm_train = et_lgbm_train - st_lgbm_train"
   ]
  },
  {
   "cell_type": "markdown",
   "metadata": {},
   "source": [
    "Let's check the model on the training data and evaluate the quality using the RMSE."
   ]
  },
  {
   "cell_type": "code",
   "execution_count": 40,
   "metadata": {},
   "outputs": [
    {
     "name": "stdout",
     "output_type": "stream",
     "text": [
      "RMSE of LightGBM: 1372.777224664424\n"
     ]
    }
   ],
   "source": [
    "st_lgbm_pred = time.time()\n",
    "\n",
    "lgbm_pred = lgb_model.predict(X_train_lgbm)\n",
    "rmse_lgbm = mean_squared_error(y_train, lgbm_pred, squared=False)\n",
    "\n",
    "print(f'RMSE of LightGBM: {rmse_lgbm}')\n",
    "\n",
    "et_lgbm_pred = time.time()\n",
    "elapsed_time_lgbm_pred = et_lgbm_pred - st_lgbm_pred"
   ]
  },
  {
   "cell_type": "code",
   "execution_count": 41,
   "metadata": {},
   "outputs": [],
   "source": [
    "model_name.append('LightGBM')\n",
    "training_time.append(elapsed_time_lgbm_train)\n",
    "prediction_time.append(elapsed_time_lgbm_pred)\n",
    "model_rmse.append(rmse_lgbm)"
   ]
  },
  {
   "cell_type": "markdown",
   "metadata": {},
   "source": [
    "### CatBoost"
   ]
  },
  {
   "cell_type": "markdown",
   "metadata": {},
   "source": [
    "For the CatBoost model, we don't need to encode categorical features and also change their type. To begin with, let's tune hyperparameters using GridSearchCV, and then train the model and measure the time required for training and prediction."
   ]
  },
  {
   "cell_type": "code",
   "execution_count": 42,
   "metadata": {
    "scrolled": true
   },
   "outputs": [
    {
     "name": "stdout",
     "output_type": "stream",
     "text": [
      "0:\tlearn: 3851.0410132\ttotal: 229ms\tremaining: 22.7s\n",
      "20:\tlearn: 1883.8314187\ttotal: 1.58s\tremaining: 5.96s\n",
      "40:\tlearn: 1755.6009489\ttotal: 2.75s\tremaining: 3.95s\n",
      "60:\tlearn: 1698.2941267\ttotal: 3.9s\tremaining: 2.5s\n",
      "80:\tlearn: 1664.4675256\ttotal: 5.03s\tremaining: 1.18s\n",
      "99:\tlearn: 1645.1139123\ttotal: 6.04s\tremaining: 0us\n",
      "0:\tlearn: 3843.5910430\ttotal: 63.5ms\tremaining: 6.29s\n",
      "20:\tlearn: 1876.8862192\ttotal: 1.17s\tremaining: 4.42s\n",
      "40:\tlearn: 1761.7768370\ttotal: 2.25s\tremaining: 3.25s\n",
      "60:\tlearn: 1700.5991496\ttotal: 3.31s\tremaining: 2.12s\n",
      "80:\tlearn: 1667.1870325\ttotal: 4.37s\tremaining: 1.02s\n",
      "99:\tlearn: 1645.0655362\ttotal: 5.37s\tremaining: 0us\n",
      "0:\tlearn: 3855.9750273\ttotal: 68.6ms\tremaining: 6.79s\n",
      "20:\tlearn: 1888.4369360\ttotal: 1.18s\tremaining: 4.43s\n",
      "40:\tlearn: 1762.8012552\ttotal: 2.24s\tremaining: 3.23s\n",
      "60:\tlearn: 1710.5999768\ttotal: 3.34s\tremaining: 2.14s\n",
      "80:\tlearn: 1675.0739710\ttotal: 4.44s\tremaining: 1.04s\n",
      "99:\tlearn: 1648.6753879\ttotal: 5.44s\tremaining: 0us\n",
      "0:\tlearn: 3849.7681841\ttotal: 68.9ms\tremaining: 6.82s\n",
      "20:\tlearn: 1886.1418715\ttotal: 1.17s\tremaining: 4.42s\n",
      "40:\tlearn: 1760.7820647\ttotal: 2.23s\tremaining: 3.21s\n",
      "60:\tlearn: 1700.7276069\ttotal: 3.31s\tremaining: 2.12s\n",
      "80:\tlearn: 1668.2550428\ttotal: 4.37s\tremaining: 1.02s\n",
      "99:\tlearn: 1645.9432256\ttotal: 5.37s\tremaining: 0us\n",
      "0:\tlearn: 3852.2017670\ttotal: 62.3ms\tremaining: 6.17s\n",
      "20:\tlearn: 1885.5988900\ttotal: 1.17s\tremaining: 4.42s\n",
      "40:\tlearn: 1755.1660599\ttotal: 2.25s\tremaining: 3.23s\n",
      "60:\tlearn: 1695.4326918\ttotal: 3.34s\tremaining: 2.13s\n",
      "80:\tlearn: 1661.5303415\ttotal: 4.4s\tremaining: 1.03s\n",
      "99:\tlearn: 1641.5342517\ttotal: 5.44s\tremaining: 0us\n",
      "0:\tlearn: 3410.2467740\ttotal: 72.6ms\tremaining: 7.19s\n",
      "20:\tlearn: 1784.5585996\ttotal: 1.21s\tremaining: 4.55s\n",
      "40:\tlearn: 1692.9977618\ttotal: 2.29s\tremaining: 3.29s\n",
      "60:\tlearn: 1647.1492558\ttotal: 3.37s\tremaining: 2.16s\n",
      "80:\tlearn: 1620.0783574\ttotal: 4.44s\tremaining: 1.04s\n",
      "99:\tlearn: 1600.4750560\ttotal: 5.47s\tremaining: 0us\n",
      "0:\tlearn: 3402.1298927\ttotal: 62.8ms\tremaining: 6.22s\n",
      "20:\tlearn: 1782.1390962\ttotal: 1.18s\tremaining: 4.43s\n",
      "40:\tlearn: 1687.7497546\ttotal: 2.25s\tremaining: 3.23s\n",
      "60:\tlearn: 1647.3900732\ttotal: 3.3s\tremaining: 2.11s\n",
      "80:\tlearn: 1620.6896497\ttotal: 4.37s\tremaining: 1.02s\n",
      "99:\tlearn: 1603.7612945\ttotal: 5.38s\tremaining: 0us\n",
      "0:\tlearn: 3413.2212973\ttotal: 64.7ms\tremaining: 6.41s\n",
      "20:\tlearn: 1780.3947680\ttotal: 1.16s\tremaining: 4.38s\n",
      "40:\tlearn: 1694.0717227\ttotal: 2.22s\tremaining: 3.19s\n",
      "60:\tlearn: 1644.1070060\ttotal: 3.27s\tremaining: 2.09s\n",
      "80:\tlearn: 1617.2047603\ttotal: 4.34s\tremaining: 1.02s\n",
      "99:\tlearn: 1598.2286174\ttotal: 5.34s\tremaining: 0us\n",
      "0:\tlearn: 3407.6044962\ttotal: 64.7ms\tremaining: 6.41s\n",
      "20:\tlearn: 1790.0664068\ttotal: 1.18s\tremaining: 4.44s\n",
      "40:\tlearn: 1691.5422817\ttotal: 2.25s\tremaining: 3.25s\n",
      "60:\tlearn: 1650.1978413\ttotal: 3.31s\tremaining: 2.11s\n",
      "80:\tlearn: 1623.5953463\ttotal: 4.37s\tremaining: 1.02s\n",
      "99:\tlearn: 1604.6908745\ttotal: 5.37s\tremaining: 0us\n",
      "0:\tlearn: 3411.5346696\ttotal: 61.7ms\tremaining: 6.1s\n",
      "20:\tlearn: 1769.7605178\ttotal: 1.18s\tremaining: 4.43s\n",
      "40:\tlearn: 1682.5529195\ttotal: 2.27s\tremaining: 3.26s\n",
      "60:\tlearn: 1640.3392200\ttotal: 3.35s\tremaining: 2.14s\n",
      "80:\tlearn: 1613.5212730\ttotal: 4.47s\tremaining: 1.05s\n",
      "99:\tlearn: 1596.0818810\ttotal: 5.47s\tremaining: 0us\n",
      "0:\tlearn: 3849.3835349\ttotal: 126ms\tremaining: 25.1s\n",
      "20:\tlearn: 1855.1114229\ttotal: 2.17s\tremaining: 18.5s\n",
      "40:\tlearn: 1742.6415910\ttotal: 4.33s\tremaining: 16.8s\n",
      "60:\tlearn: 1682.9167285\ttotal: 6.61s\tremaining: 15.1s\n",
      "80:\tlearn: 1650.0863412\ttotal: 8.74s\tremaining: 12.8s\n",
      "100:\tlearn: 1626.8309354\ttotal: 10.8s\tremaining: 10.6s\n",
      "120:\tlearn: 1609.2400175\ttotal: 12.6s\tremaining: 8.24s\n",
      "140:\tlearn: 1597.5446757\ttotal: 14.6s\tremaining: 6.13s\n",
      "160:\tlearn: 1587.3792071\ttotal: 16.6s\tremaining: 4.03s\n",
      "180:\tlearn: 1579.1204772\ttotal: 18.7s\tremaining: 1.96s\n",
      "199:\tlearn: 1571.6792053\ttotal: 20.5s\tremaining: 0us\n",
      "0:\tlearn: 3844.1588159\ttotal: 127ms\tremaining: 25.3s\n",
      "20:\tlearn: 1864.7234525\ttotal: 2.17s\tremaining: 18.5s\n",
      "40:\tlearn: 1739.0762769\ttotal: 4.25s\tremaining: 16.5s\n",
      "60:\tlearn: 1687.5468302\ttotal: 6.23s\tremaining: 14.2s\n",
      "80:\tlearn: 1651.8394002\ttotal: 8.34s\tremaining: 12.3s\n",
      "100:\tlearn: 1624.0002501\ttotal: 10.5s\tremaining: 10.3s\n",
      "120:\tlearn: 1606.9030465\ttotal: 12.7s\tremaining: 8.31s\n",
      "140:\tlearn: 1592.1642800\ttotal: 15s\tremaining: 6.27s\n",
      "160:\tlearn: 1579.2018286\ttotal: 17s\tremaining: 4.13s\n",
      "180:\tlearn: 1570.7583967\ttotal: 19.1s\tremaining: 2s\n",
      "199:\tlearn: 1563.7013544\ttotal: 21s\tremaining: 0us\n",
      "0:\tlearn: 3855.1894382\ttotal: 131ms\tremaining: 26s\n",
      "20:\tlearn: 1865.3502853\ttotal: 2.21s\tremaining: 18.9s\n",
      "40:\tlearn: 1739.1506956\ttotal: 4.19s\tremaining: 16.3s\n",
      "60:\tlearn: 1687.5812199\ttotal: 6.19s\tremaining: 14.1s\n",
      "80:\tlearn: 1654.1696377\ttotal: 8.1s\tremaining: 11.9s\n",
      "100:\tlearn: 1631.6700541\ttotal: 10.2s\tremaining: 9.98s\n",
      "120:\tlearn: 1614.1962397\ttotal: 12.2s\tremaining: 7.98s\n",
      "140:\tlearn: 1594.8099150\ttotal: 14.3s\tremaining: 5.97s\n",
      "160:\tlearn: 1585.5702609\ttotal: 16.3s\tremaining: 3.96s\n",
      "180:\tlearn: 1576.4641786\ttotal: 18.4s\tremaining: 1.93s\n",
      "199:\tlearn: 1568.8472577\ttotal: 20.4s\tremaining: 0us\n",
      "0:\tlearn: 3850.9084402\ttotal: 129ms\tremaining: 25.7s\n",
      "20:\tlearn: 1869.9745322\ttotal: 2.15s\tremaining: 18.4s\n",
      "40:\tlearn: 1746.8571465\ttotal: 4.12s\tremaining: 16s\n",
      "60:\tlearn: 1694.7913358\ttotal: 6.27s\tremaining: 14.3s\n",
      "80:\tlearn: 1659.3719243\ttotal: 8.47s\tremaining: 12.4s\n",
      "100:\tlearn: 1633.7271698\ttotal: 10.5s\tremaining: 10.3s\n",
      "120:\tlearn: 1615.1600154\ttotal: 12.5s\tremaining: 8.14s\n",
      "140:\tlearn: 1600.3915189\ttotal: 14.4s\tremaining: 6.04s\n",
      "160:\tlearn: 1588.3495511\ttotal: 16.5s\tremaining: 4s\n",
      "180:\tlearn: 1580.8045404\ttotal: 18.5s\tremaining: 1.95s\n",
      "199:\tlearn: 1572.1835444\ttotal: 20.4s\tremaining: 0us\n",
      "0:\tlearn: 3855.2449405\ttotal: 120ms\tremaining: 23.8s\n",
      "20:\tlearn: 1860.0496043\ttotal: 2.19s\tremaining: 18.7s\n",
      "40:\tlearn: 1741.8883432\ttotal: 4.1s\tremaining: 15.9s\n",
      "60:\tlearn: 1686.3594647\ttotal: 6.13s\tremaining: 14s\n",
      "80:\tlearn: 1653.5577478\ttotal: 8.2s\tremaining: 12s\n",
      "100:\tlearn: 1627.4701674\ttotal: 10.2s\tremaining: 9.97s\n",
      "120:\tlearn: 1611.8601920\ttotal: 12.1s\tremaining: 7.92s\n",
      "140:\tlearn: 1599.6548589\ttotal: 14.1s\tremaining: 5.9s\n",
      "160:\tlearn: 1586.7418118\ttotal: 16s\tremaining: 3.87s\n",
      "180:\tlearn: 1577.8206822\ttotal: 17.9s\tremaining: 1.88s\n",
      "199:\tlearn: 1569.9780147\ttotal: 19.8s\tremaining: 0us\n",
      "0:\tlearn: 3406.9205590\ttotal: 126ms\tremaining: 25s\n",
      "20:\tlearn: 1765.4598452\ttotal: 2.17s\tremaining: 18.5s\n",
      "40:\tlearn: 1684.8734837\ttotal: 4.15s\tremaining: 16.1s\n",
      "60:\tlearn: 1631.2948427\ttotal: 6.11s\tremaining: 13.9s\n",
      "80:\tlearn: 1605.7138004\ttotal: 8.17s\tremaining: 12s\n",
      "100:\tlearn: 1587.0138784\ttotal: 10.1s\tremaining: 9.92s\n",
      "120:\tlearn: 1573.1756335\ttotal: 12s\tremaining: 7.83s\n",
      "140:\tlearn: 1561.1514086\ttotal: 13.9s\tremaining: 5.81s\n",
      "160:\tlearn: 1553.9905278\ttotal: 15.9s\tremaining: 3.84s\n",
      "180:\tlearn: 1544.1299589\ttotal: 17.8s\tremaining: 1.87s\n",
      "199:\tlearn: 1537.7789833\ttotal: 19.7s\tremaining: 0us\n",
      "0:\tlearn: 3403.2720981\ttotal: 126ms\tremaining: 25s\n",
      "20:\tlearn: 1767.4894444\ttotal: 2.22s\tremaining: 18.9s\n",
      "40:\tlearn: 1675.0905943\ttotal: 4.27s\tremaining: 16.6s\n",
      "60:\tlearn: 1622.8134724\ttotal: 6.27s\tremaining: 14.3s\n",
      "80:\tlearn: 1596.8871580\ttotal: 8.27s\tremaining: 12.1s\n",
      "100:\tlearn: 1576.6321914\ttotal: 10.5s\tremaining: 10.3s\n",
      "120:\tlearn: 1563.1500157\ttotal: 12.6s\tremaining: 8.23s\n",
      "140:\tlearn: 1551.7356179\ttotal: 14.7s\tremaining: 6.15s\n",
      "160:\tlearn: 1543.1460946\ttotal: 16.8s\tremaining: 4.06s\n",
      "180:\tlearn: 1536.3887589\ttotal: 18.7s\tremaining: 1.97s\n",
      "199:\tlearn: 1530.3793052\ttotal: 20.7s\tremaining: 0us\n",
      "0:\tlearn: 3411.6456871\ttotal: 119ms\tremaining: 23.7s\n",
      "20:\tlearn: 1773.4433639\ttotal: 2.21s\tremaining: 18.9s\n",
      "40:\tlearn: 1676.2808046\ttotal: 4.24s\tremaining: 16.4s\n",
      "60:\tlearn: 1640.9462853\ttotal: 6.21s\tremaining: 14.2s\n",
      "80:\tlearn: 1610.1170312\ttotal: 8.28s\tremaining: 12.2s\n",
      "100:\tlearn: 1588.9546265\ttotal: 10.4s\tremaining: 10.2s\n",
      "120:\tlearn: 1573.5689249\ttotal: 12.3s\tremaining: 8.06s\n",
      "140:\tlearn: 1559.1257415\ttotal: 14.4s\tremaining: 6.01s\n",
      "160:\tlearn: 1551.7140021\ttotal: 16.3s\tremaining: 3.96s\n",
      "180:\tlearn: 1543.4004660\ttotal: 18.4s\tremaining: 1.93s\n",
      "199:\tlearn: 1534.5703442\ttotal: 20.3s\tremaining: 0us\n",
      "0:\tlearn: 3409.8968277\ttotal: 126ms\tremaining: 25.2s\n",
      "20:\tlearn: 1764.6184540\ttotal: 2.25s\tremaining: 19.2s\n",
      "40:\tlearn: 1677.4310956\ttotal: 4.29s\tremaining: 16.7s\n",
      "60:\tlearn: 1634.1931546\ttotal: 6.3s\tremaining: 14.4s\n",
      "80:\tlearn: 1609.1458474\ttotal: 8.3s\tremaining: 12.2s\n"
     ]
    },
    {
     "name": "stdout",
     "output_type": "stream",
     "text": [
      "100:\tlearn: 1587.9429303\ttotal: 10.4s\tremaining: 10.2s\n",
      "120:\tlearn: 1573.5967339\ttotal: 12.4s\tremaining: 8.12s\n",
      "140:\tlearn: 1562.8313155\ttotal: 14.4s\tremaining: 6.01s\n",
      "160:\tlearn: 1552.2410401\ttotal: 16.4s\tremaining: 3.98s\n",
      "180:\tlearn: 1544.9653545\ttotal: 18.3s\tremaining: 1.93s\n",
      "199:\tlearn: 1539.3530908\ttotal: 20.2s\tremaining: 0us\n",
      "0:\tlearn: 3417.6553209\ttotal: 130ms\tremaining: 26s\n",
      "20:\tlearn: 1746.6889522\ttotal: 2.2s\tremaining: 18.7s\n",
      "40:\tlearn: 1667.0741349\ttotal: 4.18s\tremaining: 16.2s\n",
      "60:\tlearn: 1622.1383140\ttotal: 6.21s\tremaining: 14.2s\n",
      "80:\tlearn: 1599.7268423\ttotal: 8.39s\tremaining: 12.3s\n",
      "100:\tlearn: 1579.0486313\ttotal: 10.7s\tremaining: 10.5s\n",
      "120:\tlearn: 1563.9157816\ttotal: 13s\tremaining: 8.5s\n",
      "140:\tlearn: 1552.3893820\ttotal: 15.2s\tremaining: 6.35s\n",
      "160:\tlearn: 1542.3795560\ttotal: 17.1s\tremaining: 4.15s\n",
      "180:\tlearn: 1535.4356591\ttotal: 19.4s\tremaining: 2.04s\n",
      "199:\tlearn: 1527.3735974\ttotal: 21.4s\tremaining: 0us\n",
      "0:\tlearn: 3795.1322433\ttotal: 83.9ms\tremaining: 8.31s\n",
      "20:\tlearn: 1767.1651929\ttotal: 1.7s\tremaining: 6.39s\n",
      "40:\tlearn: 1667.2173245\ttotal: 3.26s\tremaining: 4.7s\n",
      "60:\tlearn: 1612.3709294\ttotal: 4.8s\tremaining: 3.07s\n",
      "80:\tlearn: 1584.0662430\ttotal: 6.34s\tremaining: 1.49s\n",
      "99:\tlearn: 1567.7922725\ttotal: 7.78s\tremaining: 0us\n",
      "0:\tlearn: 3787.0103728\ttotal: 86ms\tremaining: 8.52s\n",
      "20:\tlearn: 1768.6046773\ttotal: 1.65s\tremaining: 6.21s\n",
      "40:\tlearn: 1669.8172233\ttotal: 3.19s\tremaining: 4.59s\n",
      "60:\tlearn: 1621.7346796\ttotal: 4.72s\tremaining: 3.02s\n",
      "80:\tlearn: 1582.9963320\ttotal: 6.23s\tremaining: 1.46s\n",
      "99:\tlearn: 1561.8202180\ttotal: 7.7s\tremaining: 0us\n",
      "0:\tlearn: 3799.9635374\ttotal: 86.3ms\tremaining: 8.55s\n",
      "20:\tlearn: 1777.2377534\ttotal: 1.79s\tremaining: 6.73s\n",
      "40:\tlearn: 1675.8816336\ttotal: 3.31s\tremaining: 4.76s\n",
      "60:\tlearn: 1622.4077288\ttotal: 4.77s\tremaining: 3.05s\n",
      "80:\tlearn: 1591.2398759\ttotal: 6.23s\tremaining: 1.46s\n",
      "99:\tlearn: 1568.1903483\ttotal: 7.61s\tremaining: 0us\n",
      "0:\tlearn: 3794.2605571\ttotal: 83.2ms\tremaining: 8.24s\n",
      "20:\tlearn: 1778.6243809\ttotal: 1.67s\tremaining: 6.29s\n",
      "40:\tlearn: 1676.3361490\ttotal: 3.2s\tremaining: 4.61s\n",
      "60:\tlearn: 1616.2526645\ttotal: 4.74s\tremaining: 3.03s\n",
      "80:\tlearn: 1585.3819151\ttotal: 6.28s\tremaining: 1.47s\n",
      "99:\tlearn: 1565.4785219\ttotal: 7.75s\tremaining: 0us\n",
      "0:\tlearn: 3802.5124071\ttotal: 88.7ms\tremaining: 8.78s\n",
      "20:\tlearn: 1767.4376914\ttotal: 1.67s\tremaining: 6.3s\n",
      "40:\tlearn: 1664.7187739\ttotal: 3.21s\tremaining: 4.62s\n",
      "60:\tlearn: 1609.8028238\ttotal: 4.74s\tremaining: 3.03s\n",
      "80:\tlearn: 1579.6663988\ttotal: 6.26s\tremaining: 1.47s\n",
      "99:\tlearn: 1557.5611201\ttotal: 7.71s\tremaining: 0us\n",
      "0:\tlearn: 3296.8705921\ttotal: 87.7ms\tremaining: 8.68s\n",
      "20:\tlearn: 1688.7172905\ttotal: 1.67s\tremaining: 6.29s\n",
      "40:\tlearn: 1612.3069937\ttotal: 3.23s\tremaining: 4.65s\n",
      "60:\tlearn: 1567.0399226\ttotal: 4.79s\tremaining: 3.06s\n",
      "80:\tlearn: 1540.3809580\ttotal: 6.32s\tremaining: 1.48s\n",
      "99:\tlearn: 1525.2801389\ttotal: 7.77s\tremaining: 0us\n",
      "0:\tlearn: 3287.2933066\ttotal: 84.3ms\tremaining: 8.35s\n",
      "20:\tlearn: 1676.4834841\ttotal: 1.68s\tremaining: 6.33s\n",
      "40:\tlearn: 1595.0660787\ttotal: 3.21s\tremaining: 4.62s\n",
      "60:\tlearn: 1557.3327036\ttotal: 4.96s\tremaining: 3.17s\n",
      "80:\tlearn: 1532.7213527\ttotal: 6.67s\tremaining: 1.56s\n",
      "99:\tlearn: 1516.9829128\ttotal: 8.22s\tremaining: 0us\n",
      "0:\tlearn: 3299.5588508\ttotal: 85.7ms\tremaining: 8.48s\n",
      "20:\tlearn: 1686.6270028\ttotal: 1.68s\tremaining: 6.3s\n",
      "40:\tlearn: 1603.1374454\ttotal: 3.26s\tremaining: 4.69s\n",
      "60:\tlearn: 1563.0173725\ttotal: 4.8s\tremaining: 3.07s\n",
      "80:\tlearn: 1538.4837963\ttotal: 6.34s\tremaining: 1.49s\n",
      "99:\tlearn: 1519.1138042\ttotal: 7.8s\tremaining: 0us\n",
      "0:\tlearn: 3294.9672403\ttotal: 105ms\tremaining: 10.4s\n",
      "20:\tlearn: 1682.9582847\ttotal: 1.68s\tremaining: 6.31s\n",
      "40:\tlearn: 1597.5926558\ttotal: 3.21s\tremaining: 4.62s\n",
      "60:\tlearn: 1560.2689503\ttotal: 4.74s\tremaining: 3.03s\n",
      "80:\tlearn: 1534.9004912\ttotal: 6.29s\tremaining: 1.47s\n",
      "99:\tlearn: 1518.6858026\ttotal: 7.74s\tremaining: 0us\n",
      "0:\tlearn: 3310.8712228\ttotal: 92.3ms\tremaining: 9.13s\n",
      "20:\tlearn: 1673.5989012\ttotal: 1.68s\tremaining: 6.34s\n",
      "40:\tlearn: 1586.2194732\ttotal: 3.23s\tremaining: 4.65s\n",
      "60:\tlearn: 1548.8075915\ttotal: 4.78s\tremaining: 3.05s\n",
      "80:\tlearn: 1525.8965870\ttotal: 6.32s\tremaining: 1.48s\n",
      "99:\tlearn: 1509.8364337\ttotal: 7.78s\tremaining: 0us\n",
      "0:\tlearn: 3788.3111485\ttotal: 181ms\tremaining: 35.9s\n",
      "20:\tlearn: 1753.0183888\ttotal: 3.38s\tremaining: 28.8s\n",
      "40:\tlearn: 1648.5037233\ttotal: 6.47s\tremaining: 25.1s\n",
      "60:\tlearn: 1602.8966411\ttotal: 9.54s\tremaining: 21.7s\n",
      "80:\tlearn: 1572.7976324\ttotal: 12.6s\tremaining: 18.5s\n",
      "100:\tlearn: 1554.5061564\ttotal: 15.6s\tremaining: 15.3s\n",
      "120:\tlearn: 1541.2318294\ttotal: 18.5s\tremaining: 12.1s\n",
      "140:\tlearn: 1528.0490621\ttotal: 21.7s\tremaining: 9.1s\n",
      "160:\tlearn: 1517.7852261\ttotal: 24.8s\tremaining: 6.02s\n",
      "180:\tlearn: 1507.9240747\ttotal: 27.9s\tremaining: 2.93s\n",
      "199:\tlearn: 1501.7174371\ttotal: 31s\tremaining: 0us\n",
      "0:\tlearn: 3780.8745426\ttotal: 192ms\tremaining: 38.2s\n",
      "20:\tlearn: 1741.1819822\ttotal: 3.61s\tremaining: 30.7s\n",
      "40:\tlearn: 1645.4778154\ttotal: 7.15s\tremaining: 27.7s\n",
      "60:\tlearn: 1600.0790692\ttotal: 10.3s\tremaining: 23.6s\n",
      "80:\tlearn: 1569.3253510\ttotal: 13.3s\tremaining: 19.6s\n",
      "100:\tlearn: 1547.3432469\ttotal: 16.5s\tremaining: 16.1s\n",
      "120:\tlearn: 1529.2684655\ttotal: 19.7s\tremaining: 12.8s\n",
      "140:\tlearn: 1515.1658495\ttotal: 22.8s\tremaining: 9.54s\n",
      "160:\tlearn: 1505.1335230\ttotal: 26s\tremaining: 6.29s\n",
      "180:\tlearn: 1495.8030661\ttotal: 29s\tremaining: 3.05s\n",
      "199:\tlearn: 1488.7771034\ttotal: 31.9s\tremaining: 0us\n",
      "0:\tlearn: 3793.1742437\ttotal: 188ms\tremaining: 37.4s\n",
      "20:\tlearn: 1758.2053640\ttotal: 3.32s\tremaining: 28.3s\n",
      "40:\tlearn: 1649.2793357\ttotal: 6.38s\tremaining: 24.8s\n",
      "60:\tlearn: 1602.4165389\ttotal: 9.42s\tremaining: 21.5s\n",
      "80:\tlearn: 1571.8607396\ttotal: 12.5s\tremaining: 18.4s\n",
      "100:\tlearn: 1549.8387102\ttotal: 15.8s\tremaining: 15.5s\n",
      "120:\tlearn: 1534.3345780\ttotal: 18.8s\tremaining: 12.3s\n",
      "140:\tlearn: 1523.3183526\ttotal: 21.9s\tremaining: 9.15s\n",
      "160:\tlearn: 1512.4841690\ttotal: 25s\tremaining: 6.07s\n",
      "180:\tlearn: 1503.0182649\ttotal: 28.2s\tremaining: 2.96s\n",
      "199:\tlearn: 1495.7441416\ttotal: 31.1s\tremaining: 0us\n",
      "0:\tlearn: 3787.7521993\ttotal: 188ms\tremaining: 37.4s\n",
      "20:\tlearn: 1750.7716412\ttotal: 3.41s\tremaining: 29.1s\n",
      "40:\tlearn: 1652.8599871\ttotal: 6.75s\tremaining: 26.2s\n",
      "60:\tlearn: 1602.5715721\ttotal: 9.91s\tremaining: 22.6s\n",
      "80:\tlearn: 1570.3953323\ttotal: 13.1s\tremaining: 19.3s\n",
      "100:\tlearn: 1546.1843418\ttotal: 16.4s\tremaining: 16s\n",
      "120:\tlearn: 1532.5129873\ttotal: 19.4s\tremaining: 12.6s\n",
      "140:\tlearn: 1520.7937080\ttotal: 22.4s\tremaining: 9.39s\n",
      "160:\tlearn: 1510.5857511\ttotal: 25.4s\tremaining: 6.15s\n",
      "180:\tlearn: 1502.1457745\ttotal: 28.5s\tremaining: 2.99s\n",
      "199:\tlearn: 1494.3057810\ttotal: 31.5s\tremaining: 0us\n",
      "0:\tlearn: 3787.2536544\ttotal: 193ms\tremaining: 38.4s\n",
      "20:\tlearn: 1754.6961570\ttotal: 3.28s\tremaining: 27.9s\n",
      "40:\tlearn: 1648.9155144\ttotal: 6.31s\tremaining: 24.5s\n",
      "60:\tlearn: 1599.7892521\ttotal: 9.33s\tremaining: 21.3s\n",
      "80:\tlearn: 1569.8127886\ttotal: 12.4s\tremaining: 18.3s\n",
      "100:\tlearn: 1547.5228000\ttotal: 15.6s\tremaining: 15.3s\n",
      "120:\tlearn: 1532.6589927\ttotal: 18.7s\tremaining: 12.2s\n",
      "140:\tlearn: 1521.7686540\ttotal: 22s\tremaining: 9.19s\n",
      "160:\tlearn: 1510.9274082\ttotal: 25.2s\tremaining: 6.11s\n",
      "180:\tlearn: 1502.6703803\ttotal: 28.4s\tremaining: 2.98s\n",
      "199:\tlearn: 1495.4619435\ttotal: 31.5s\tremaining: 0us\n",
      "0:\tlearn: 3282.8154978\ttotal: 198ms\tremaining: 39.4s\n",
      "20:\tlearn: 1657.4028201\ttotal: 3.41s\tremaining: 29s\n",
      "40:\tlearn: 1584.0008635\ttotal: 6.64s\tremaining: 25.7s\n",
      "60:\tlearn: 1549.5543890\ttotal: 10.1s\tremaining: 23s\n",
      "80:\tlearn: 1525.4915223\ttotal: 13.8s\tremaining: 20.3s\n",
      "100:\tlearn: 1509.2804857\ttotal: 17.1s\tremaining: 16.8s\n",
      "120:\tlearn: 1495.4664477\ttotal: 21.5s\tremaining: 14s\n",
      "140:\tlearn: 1484.0855770\ttotal: 25s\tremaining: 10.5s\n",
      "160:\tlearn: 1474.0943705\ttotal: 28.5s\tremaining: 6.9s\n",
      "180:\tlearn: 1465.1816797\ttotal: 33.7s\tremaining: 3.54s\n",
      "199:\tlearn: 1458.3652010\ttotal: 38.2s\tremaining: 0us\n",
      "0:\tlearn: 3274.6627379\ttotal: 185ms\tremaining: 36.9s\n",
      "20:\tlearn: 1657.4940885\ttotal: 3.51s\tremaining: 29.9s\n",
      "40:\tlearn: 1575.6457069\ttotal: 6.76s\tremaining: 26.2s\n",
      "60:\tlearn: 1536.5854243\ttotal: 10.2s\tremaining: 23.2s\n",
      "80:\tlearn: 1514.5134058\ttotal: 13.5s\tremaining: 19.8s\n",
      "100:\tlearn: 1497.6880616\ttotal: 16.8s\tremaining: 16.5s\n",
      "120:\tlearn: 1483.1749786\ttotal: 20.3s\tremaining: 13.2s\n",
      "140:\tlearn: 1474.1341021\ttotal: 23.7s\tremaining: 9.91s\n",
      "160:\tlearn: 1465.3348108\ttotal: 27.7s\tremaining: 6.7s\n",
      "180:\tlearn: 1457.1917694\ttotal: 31.4s\tremaining: 3.29s\n"
     ]
    },
    {
     "name": "stdout",
     "output_type": "stream",
     "text": [
      "199:\tlearn: 1448.7456989\ttotal: 34.7s\tremaining: 0us\n",
      "0:\tlearn: 3285.5923471\ttotal: 194ms\tremaining: 38.7s\n",
      "20:\tlearn: 1667.2691917\ttotal: 4.83s\tremaining: 41.2s\n",
      "40:\tlearn: 1591.1655611\ttotal: 10.1s\tremaining: 39s\n",
      "60:\tlearn: 1550.9551989\ttotal: 13.6s\tremaining: 31s\n",
      "80:\tlearn: 1524.6621558\ttotal: 16.9s\tremaining: 24.8s\n",
      "100:\tlearn: 1508.9896816\ttotal: 20.2s\tremaining: 19.8s\n",
      "120:\tlearn: 1497.2014263\ttotal: 23.4s\tremaining: 15.3s\n",
      "140:\tlearn: 1485.0986485\ttotal: 26.5s\tremaining: 11.1s\n",
      "160:\tlearn: 1473.6934508\ttotal: 29.9s\tremaining: 7.25s\n",
      "180:\tlearn: 1464.5761893\ttotal: 33.5s\tremaining: 3.52s\n",
      "199:\tlearn: 1456.4669541\ttotal: 37s\tremaining: 0us\n",
      "0:\tlearn: 3281.5782033\ttotal: 208ms\tremaining: 41.3s\n",
      "20:\tlearn: 1658.9288851\ttotal: 3.52s\tremaining: 30s\n",
      "40:\tlearn: 1581.4060939\ttotal: 6.93s\tremaining: 26.9s\n",
      "60:\tlearn: 1543.7571333\ttotal: 10.1s\tremaining: 23s\n",
      "80:\tlearn: 1519.3951035\ttotal: 13.3s\tremaining: 19.6s\n",
      "100:\tlearn: 1503.1360567\ttotal: 16.6s\tremaining: 16.3s\n",
      "120:\tlearn: 1491.6329146\ttotal: 20.2s\tremaining: 13.2s\n",
      "140:\tlearn: 1481.3243659\ttotal: 23.5s\tremaining: 9.82s\n",
      "160:\tlearn: 1468.9466431\ttotal: 27.4s\tremaining: 6.65s\n",
      "180:\tlearn: 1459.2780499\ttotal: 31s\tremaining: 3.25s\n",
      "199:\tlearn: 1451.9924667\ttotal: 34.2s\tremaining: 0us\n",
      "0:\tlearn: 3279.5833418\ttotal: 191ms\tremaining: 38s\n",
      "20:\tlearn: 1666.4436239\ttotal: 3.3s\tremaining: 28.1s\n",
      "40:\tlearn: 1587.5143352\ttotal: 6.71s\tremaining: 26s\n",
      "60:\tlearn: 1546.4798423\ttotal: 10.3s\tremaining: 23.4s\n",
      "80:\tlearn: 1521.9110491\ttotal: 15.3s\tremaining: 22.4s\n",
      "100:\tlearn: 1502.7971884\ttotal: 19.3s\tremaining: 18.9s\n",
      "120:\tlearn: 1488.8758059\ttotal: 22.8s\tremaining: 14.9s\n",
      "140:\tlearn: 1478.6229054\ttotal: 27.9s\tremaining: 11.7s\n",
      "160:\tlearn: 1468.1507382\ttotal: 32s\tremaining: 7.74s\n",
      "180:\tlearn: 1459.7714760\ttotal: 36.1s\tremaining: 3.79s\n",
      "199:\tlearn: 1452.3476706\ttotal: 40s\tremaining: 0us\n",
      "0:\tlearn: 3733.4501968\ttotal: 179ms\tremaining: 17.7s\n",
      "20:\tlearn: 1623.0556892\ttotal: 2.95s\tremaining: 11.1s\n",
      "40:\tlearn: 1537.0099359\ttotal: 5.98s\tremaining: 8.61s\n",
      "60:\tlearn: 1494.2577691\ttotal: 8.57s\tremaining: 5.48s\n",
      "80:\tlearn: 1451.4781347\ttotal: 11.2s\tremaining: 2.62s\n",
      "99:\tlearn: 1427.9137073\ttotal: 13.8s\tremaining: 0us\n",
      "0:\tlearn: 3721.9789211\ttotal: 144ms\tremaining: 14.3s\n",
      "20:\tlearn: 1623.8469950\ttotal: 4.1s\tremaining: 15.4s\n",
      "40:\tlearn: 1534.6796223\ttotal: 7.75s\tremaining: 11.2s\n",
      "60:\tlearn: 1483.1875272\ttotal: 10.6s\tremaining: 6.76s\n",
      "80:\tlearn: 1447.9949179\ttotal: 13.3s\tremaining: 3.12s\n",
      "99:\tlearn: 1422.8201924\ttotal: 15.9s\tremaining: 0us\n",
      "0:\tlearn: 3734.2269659\ttotal: 159ms\tremaining: 15.8s\n",
      "20:\tlearn: 1633.6174703\ttotal: 3.05s\tremaining: 11.5s\n",
      "40:\tlearn: 1542.7406163\ttotal: 5.58s\tremaining: 8.04s\n",
      "60:\tlearn: 1485.8271217\ttotal: 8.1s\tremaining: 5.18s\n",
      "80:\tlearn: 1454.5989371\ttotal: 10.6s\tremaining: 2.48s\n",
      "99:\tlearn: 1433.0850266\ttotal: 13.1s\tremaining: 0us\n",
      "0:\tlearn: 3728.7266244\ttotal: 143ms\tremaining: 14.2s\n",
      "20:\tlearn: 1632.6441270\ttotal: 2.7s\tremaining: 10.1s\n",
      "40:\tlearn: 1538.3853019\ttotal: 5.64s\tremaining: 8.12s\n",
      "60:\tlearn: 1487.1967410\ttotal: 8.16s\tremaining: 5.22s\n",
      "80:\tlearn: 1451.1821158\ttotal: 10.7s\tremaining: 2.52s\n",
      "99:\tlearn: 1429.5617472\ttotal: 13.1s\tremaining: 0us\n",
      "0:\tlearn: 3734.6317462\ttotal: 147ms\tremaining: 14.6s\n",
      "20:\tlearn: 1627.8642705\ttotal: 2.7s\tremaining: 10.2s\n",
      "40:\tlearn: 1526.2680956\ttotal: 5.24s\tremaining: 7.53s\n",
      "60:\tlearn: 1478.6633786\ttotal: 7.8s\tremaining: 4.99s\n",
      "80:\tlearn: 1443.7941775\ttotal: 10.3s\tremaining: 2.42s\n",
      "99:\tlearn: 1419.0360334\ttotal: 12.7s\tremaining: 0us\n",
      "0:\tlearn: 3168.9263343\ttotal: 141ms\tremaining: 13.9s\n",
      "20:\tlearn: 1550.9015995\ttotal: 2.71s\tremaining: 10.2s\n",
      "40:\tlearn: 1464.6062192\ttotal: 5.23s\tremaining: 7.53s\n",
      "60:\tlearn: 1421.3367481\ttotal: 8.04s\tremaining: 5.14s\n",
      "80:\tlearn: 1390.2270658\ttotal: 10.7s\tremaining: 2.51s\n",
      "99:\tlearn: 1366.6805456\ttotal: 13s\tremaining: 0us\n",
      "0:\tlearn: 3152.2207795\ttotal: 138ms\tremaining: 13.7s\n",
      "20:\tlearn: 1546.9355932\ttotal: 2.58s\tremaining: 9.71s\n",
      "40:\tlearn: 1471.6193698\ttotal: 4.99s\tremaining: 7.18s\n",
      "60:\tlearn: 1411.9058717\ttotal: 7.38s\tremaining: 4.72s\n",
      "80:\tlearn: 1380.7956737\ttotal: 9.78s\tremaining: 2.29s\n",
      "99:\tlearn: 1354.5765281\ttotal: 12.1s\tremaining: 0us\n",
      "0:\tlearn: 3163.0560899\ttotal: 142ms\tremaining: 14s\n",
      "20:\tlearn: 1548.3118406\ttotal: 2.71s\tremaining: 10.2s\n",
      "40:\tlearn: 1458.1096537\ttotal: 5.22s\tremaining: 7.51s\n",
      "60:\tlearn: 1410.8361598\ttotal: 7.74s\tremaining: 4.95s\n",
      "80:\tlearn: 1384.4213921\ttotal: 10.3s\tremaining: 2.41s\n",
      "99:\tlearn: 1360.5622008\ttotal: 12.6s\tremaining: 0us\n",
      "0:\tlearn: 3158.8999538\ttotal: 137ms\tremaining: 13.5s\n",
      "20:\tlearn: 1555.5839088\ttotal: 2.63s\tremaining: 9.88s\n",
      "40:\tlearn: 1463.4256937\ttotal: 5.04s\tremaining: 7.25s\n",
      "60:\tlearn: 1413.5752114\ttotal: 7.51s\tremaining: 4.8s\n",
      "80:\tlearn: 1383.1997792\ttotal: 9.95s\tremaining: 2.33s\n",
      "99:\tlearn: 1362.6665832\ttotal: 12.2s\tremaining: 0us\n",
      "0:\tlearn: 3170.3487752\ttotal: 144ms\tremaining: 14.3s\n",
      "20:\tlearn: 1541.7270124\ttotal: 2.78s\tremaining: 10.5s\n",
      "40:\tlearn: 1458.4712809\ttotal: 5.33s\tremaining: 7.66s\n",
      "60:\tlearn: 1416.1689622\ttotal: 7.86s\tremaining: 5.03s\n",
      "80:\tlearn: 1384.4346975\ttotal: 10.3s\tremaining: 2.41s\n",
      "99:\tlearn: 1360.3801826\ttotal: 12.6s\tremaining: 0us\n",
      "0:\tlearn: 3724.8446719\ttotal: 332ms\tremaining: 1m 6s\n",
      "20:\tlearn: 1613.4479607\ttotal: 6.82s\tremaining: 58.1s\n",
      "40:\tlearn: 1521.5890044\ttotal: 13.7s\tremaining: 53s\n",
      "60:\tlearn: 1474.6590408\ttotal: 20.5s\tremaining: 46.7s\n",
      "80:\tlearn: 1443.6778430\ttotal: 28.2s\tremaining: 41.4s\n",
      "100:\tlearn: 1420.5561258\ttotal: 35.3s\tremaining: 34.6s\n",
      "120:\tlearn: 1400.7445081\ttotal: 42.6s\tremaining: 27.8s\n",
      "140:\tlearn: 1381.8578322\ttotal: 49.7s\tremaining: 20.8s\n",
      "160:\tlearn: 1367.0873944\ttotal: 57s\tremaining: 13.8s\n",
      "180:\tlearn: 1354.5953106\ttotal: 1m 4s\tremaining: 6.74s\n",
      "199:\tlearn: 1344.3241436\ttotal: 1m 11s\tremaining: 0us\n",
      "0:\tlearn: 3718.4779729\ttotal: 350ms\tremaining: 1m 9s\n",
      "20:\tlearn: 1602.3499473\ttotal: 6.84s\tremaining: 58.3s\n",
      "40:\tlearn: 1516.8735622\ttotal: 13.4s\tremaining: 52.1s\n",
      "60:\tlearn: 1469.4579969\ttotal: 20.2s\tremaining: 46.1s\n",
      "80:\tlearn: 1436.0854780\ttotal: 27.2s\tremaining: 39.9s\n",
      "100:\tlearn: 1411.6151553\ttotal: 34s\tremaining: 33.3s\n",
      "120:\tlearn: 1389.6215261\ttotal: 41.2s\tremaining: 26.9s\n",
      "140:\tlearn: 1375.5695402\ttotal: 48.9s\tremaining: 20.5s\n",
      "160:\tlearn: 1361.9670700\ttotal: 56.5s\tremaining: 13.7s\n",
      "180:\tlearn: 1350.1068193\ttotal: 1m 4s\tremaining: 6.77s\n",
      "199:\tlearn: 1337.5290118\ttotal: 1m 12s\tremaining: 0us\n",
      "0:\tlearn: 3729.1432765\ttotal: 349ms\tremaining: 1m 9s\n",
      "20:\tlearn: 1623.8341222\ttotal: 7.15s\tremaining: 1m\n",
      "40:\tlearn: 1525.2863226\ttotal: 14s\tremaining: 54.4s\n",
      "60:\tlearn: 1476.2915827\ttotal: 20.8s\tremaining: 47.4s\n",
      "80:\tlearn: 1441.6103952\ttotal: 27.7s\tremaining: 40.6s\n",
      "100:\tlearn: 1415.5553516\ttotal: 34.5s\tremaining: 33.8s\n",
      "120:\tlearn: 1395.5773539\ttotal: 41.7s\tremaining: 27.2s\n",
      "140:\tlearn: 1378.9528562\ttotal: 48.8s\tremaining: 20.4s\n",
      "160:\tlearn: 1364.2860131\ttotal: 56s\tremaining: 13.6s\n",
      "180:\tlearn: 1351.3325635\ttotal: 1m 4s\tremaining: 6.74s\n",
      "199:\tlearn: 1339.6122607\ttotal: 1m 11s\tremaining: 0us\n",
      "0:\tlearn: 3724.4267414\ttotal: 326ms\tremaining: 1m 4s\n",
      "20:\tlearn: 1610.3826990\ttotal: 6.76s\tremaining: 57.6s\n",
      "40:\tlearn: 1516.1479360\ttotal: 13.6s\tremaining: 52.7s\n",
      "60:\tlearn: 1468.8483332\ttotal: 20.4s\tremaining: 46.5s\n",
      "80:\tlearn: 1436.1308684\ttotal: 27.4s\tremaining: 40.3s\n",
      "100:\tlearn: 1414.0073429\ttotal: 34.5s\tremaining: 33.8s\n",
      "120:\tlearn: 1392.1198326\ttotal: 41.5s\tremaining: 27.1s\n",
      "140:\tlearn: 1375.4155321\ttotal: 49.3s\tremaining: 20.6s\n",
      "160:\tlearn: 1359.4382921\ttotal: 57s\tremaining: 13.8s\n",
      "180:\tlearn: 1351.3393313\ttotal: 1m 4s\tremaining: 6.75s\n",
      "199:\tlearn: 1342.1095191\ttotal: 1m 11s\tremaining: 0us\n",
      "0:\tlearn: 3712.8687924\ttotal: 363ms\tremaining: 1m 12s\n",
      "20:\tlearn: 1595.1962973\ttotal: 6.69s\tremaining: 57s\n",
      "40:\tlearn: 1513.5936396\ttotal: 13.5s\tremaining: 52.4s\n",
      "60:\tlearn: 1468.2085772\ttotal: 20.3s\tremaining: 46.4s\n",
      "80:\tlearn: 1436.3133363\ttotal: 27.4s\tremaining: 40.3s\n",
      "100:\tlearn: 1408.6442458\ttotal: 34.5s\tremaining: 33.8s\n",
      "120:\tlearn: 1393.1592507\ttotal: 41.7s\tremaining: 27.2s\n",
      "140:\tlearn: 1374.1518747\ttotal: 49.4s\tremaining: 20.7s\n",
      "160:\tlearn: 1359.9660319\ttotal: 56.9s\tremaining: 13.8s\n",
      "180:\tlearn: 1348.8341999\ttotal: 1m 4s\tremaining: 6.82s\n",
      "199:\tlearn: 1338.0341250\ttotal: 1m 12s\tremaining: 0us\n",
      "0:\tlearn: 3150.0405148\ttotal: 329ms\tremaining: 1m 5s\n",
      "20:\tlearn: 1529.3441184\ttotal: 6.88s\tremaining: 58.6s\n",
      "40:\tlearn: 1450.7898344\ttotal: 13.3s\tremaining: 51.8s\n",
      "60:\tlearn: 1408.9271665\ttotal: 20.4s\tremaining: 46.4s\n"
     ]
    },
    {
     "name": "stdout",
     "output_type": "stream",
     "text": [
      "80:\tlearn: 1379.0627624\ttotal: 27.5s\tremaining: 40.4s\n",
      "100:\tlearn: 1349.2544271\ttotal: 34.7s\tremaining: 34s\n",
      "120:\tlearn: 1330.2621691\ttotal: 42.3s\tremaining: 27.6s\n",
      "140:\tlearn: 1311.8865370\ttotal: 49.9s\tremaining: 20.9s\n",
      "160:\tlearn: 1295.6339433\ttotal: 57.4s\tremaining: 13.9s\n",
      "180:\tlearn: 1279.8453936\ttotal: 1m 4s\tremaining: 6.77s\n",
      "199:\tlearn: 1268.4588831\ttotal: 1m 11s\tremaining: 0us\n",
      "0:\tlearn: 3144.0808326\ttotal: 326ms\tremaining: 1m 4s\n",
      "20:\tlearn: 1522.4738662\ttotal: 6.83s\tremaining: 58.3s\n",
      "40:\tlearn: 1447.0747806\ttotal: 14.2s\tremaining: 55.1s\n",
      "60:\tlearn: 1407.7976526\ttotal: 21.2s\tremaining: 48.4s\n",
      "80:\tlearn: 1374.7148244\ttotal: 28.3s\tremaining: 41.6s\n",
      "100:\tlearn: 1350.3086362\ttotal: 36.3s\tremaining: 35.6s\n",
      "120:\tlearn: 1331.4334216\ttotal: 43.6s\tremaining: 28.5s\n",
      "140:\tlearn: 1309.9377438\ttotal: 51s\tremaining: 21.4s\n",
      "160:\tlearn: 1291.2327995\ttotal: 58.6s\tremaining: 14.2s\n",
      "180:\tlearn: 1278.1320671\ttotal: 1m 6s\tremaining: 6.95s\n",
      "199:\tlearn: 1264.8800989\ttotal: 1m 13s\tremaining: 0us\n",
      "0:\tlearn: 3151.5829021\ttotal: 332ms\tremaining: 1m 6s\n",
      "20:\tlearn: 1539.6682130\ttotal: 6.72s\tremaining: 57.3s\n",
      "40:\tlearn: 1458.7232766\ttotal: 13.4s\tremaining: 51.8s\n",
      "60:\tlearn: 1412.4538073\ttotal: 20.4s\tremaining: 46.5s\n",
      "80:\tlearn: 1380.8793790\ttotal: 28s\tremaining: 41.1s\n",
      "100:\tlearn: 1358.2118026\ttotal: 35.2s\tremaining: 34.5s\n",
      "120:\tlearn: 1336.4332214\ttotal: 42.2s\tremaining: 27.5s\n",
      "140:\tlearn: 1317.3013350\ttotal: 50.8s\tremaining: 21.3s\n",
      "160:\tlearn: 1298.8959078\ttotal: 59.1s\tremaining: 14.3s\n",
      "180:\tlearn: 1281.7846045\ttotal: 1m 7s\tremaining: 7.11s\n",
      "199:\tlearn: 1269.4295142\ttotal: 1m 16s\tremaining: 0us\n",
      "0:\tlearn: 3149.0737824\ttotal: 388ms\tremaining: 1m 17s\n",
      "20:\tlearn: 1529.2374996\ttotal: 12.4s\tremaining: 1m 45s\n",
      "40:\tlearn: 1448.5722564\ttotal: 19.9s\tremaining: 1m 17s\n",
      "60:\tlearn: 1404.9961611\ttotal: 27.8s\tremaining: 1m 3s\n",
      "80:\tlearn: 1376.3308315\ttotal: 36.1s\tremaining: 53.1s\n",
      "100:\tlearn: 1351.1075058\ttotal: 43.9s\tremaining: 43s\n",
      "120:\tlearn: 1326.9028947\ttotal: 51.6s\tremaining: 33.7s\n",
      "140:\tlearn: 1307.5605064\ttotal: 1m\tremaining: 25.1s\n",
      "160:\tlearn: 1292.1389317\ttotal: 1m 8s\tremaining: 16.7s\n",
      "180:\tlearn: 1278.0814253\ttotal: 1m 18s\tremaining: 8.28s\n",
      "199:\tlearn: 1265.5881622\ttotal: 1m 26s\tremaining: 0us\n",
      "0:\tlearn: 3123.6588767\ttotal: 376ms\tremaining: 1m 14s\n",
      "20:\tlearn: 1517.1247952\ttotal: 7.64s\tremaining: 1m 5s\n",
      "40:\tlearn: 1444.9520020\ttotal: 15.8s\tremaining: 1m 1s\n",
      "60:\tlearn: 1401.5362177\ttotal: 23.2s\tremaining: 52.9s\n",
      "80:\tlearn: 1374.7525095\ttotal: 31s\tremaining: 45.5s\n",
      "100:\tlearn: 1351.4171131\ttotal: 39.1s\tremaining: 38.4s\n",
      "120:\tlearn: 1326.5713508\ttotal: 47.7s\tremaining: 31.2s\n",
      "140:\tlearn: 1309.6957674\ttotal: 56s\tremaining: 23.4s\n",
      "160:\tlearn: 1293.3039809\ttotal: 1m 8s\tremaining: 16.6s\n",
      "180:\tlearn: 1281.3430171\ttotal: 1m 20s\tremaining: 8.5s\n",
      "199:\tlearn: 1266.2887903\ttotal: 1m 28s\tremaining: 0us\n",
      "0:\tlearn: 3713.2338102\ttotal: 424ms\tremaining: 1m 24s\n",
      "20:\tlearn: 1610.3728329\ttotal: 8.59s\tremaining: 1m 13s\n",
      "40:\tlearn: 1518.6769281\ttotal: 18s\tremaining: 1m 9s\n",
      "60:\tlearn: 1473.5875212\ttotal: 27.2s\tremaining: 1m 1s\n",
      "80:\tlearn: 1444.7226679\ttotal: 37.2s\tremaining: 54.7s\n",
      "100:\tlearn: 1423.3009173\ttotal: 46.7s\tremaining: 45.8s\n",
      "120:\tlearn: 1403.7716848\ttotal: 56s\tremaining: 36.5s\n",
      "140:\tlearn: 1387.8488842\ttotal: 1m 5s\tremaining: 27.3s\n",
      "160:\tlearn: 1376.7045540\ttotal: 1m 14s\tremaining: 18s\n",
      "180:\tlearn: 1365.4675541\ttotal: 1m 23s\tremaining: 8.77s\n",
      "199:\tlearn: 1356.0416686\ttotal: 1m 32s\tremaining: 0us\n"
     ]
    },
    {
     "data": {
      "text/html": [
       "<style>#sk-container-id-3 {color: black;background-color: white;}#sk-container-id-3 pre{padding: 0;}#sk-container-id-3 div.sk-toggleable {background-color: white;}#sk-container-id-3 label.sk-toggleable__label {cursor: pointer;display: block;width: 100%;margin-bottom: 0;padding: 0.3em;box-sizing: border-box;text-align: center;}#sk-container-id-3 label.sk-toggleable__label-arrow:before {content: \"▸\";float: left;margin-right: 0.25em;color: #696969;}#sk-container-id-3 label.sk-toggleable__label-arrow:hover:before {color: black;}#sk-container-id-3 div.sk-estimator:hover label.sk-toggleable__label-arrow:before {color: black;}#sk-container-id-3 div.sk-toggleable__content {max-height: 0;max-width: 0;overflow: hidden;text-align: left;background-color: #f0f8ff;}#sk-container-id-3 div.sk-toggleable__content pre {margin: 0.2em;color: black;border-radius: 0.25em;background-color: #f0f8ff;}#sk-container-id-3 input.sk-toggleable__control:checked~div.sk-toggleable__content {max-height: 200px;max-width: 100%;overflow: auto;}#sk-container-id-3 input.sk-toggleable__control:checked~label.sk-toggleable__label-arrow:before {content: \"▾\";}#sk-container-id-3 div.sk-estimator input.sk-toggleable__control:checked~label.sk-toggleable__label {background-color: #d4ebff;}#sk-container-id-3 div.sk-label input.sk-toggleable__control:checked~label.sk-toggleable__label {background-color: #d4ebff;}#sk-container-id-3 input.sk-hidden--visually {border: 0;clip: rect(1px 1px 1px 1px);clip: rect(1px, 1px, 1px, 1px);height: 1px;margin: -1px;overflow: hidden;padding: 0;position: absolute;width: 1px;}#sk-container-id-3 div.sk-estimator {font-family: monospace;background-color: #f0f8ff;border: 1px dotted black;border-radius: 0.25em;box-sizing: border-box;margin-bottom: 0.5em;}#sk-container-id-3 div.sk-estimator:hover {background-color: #d4ebff;}#sk-container-id-3 div.sk-parallel-item::after {content: \"\";width: 100%;border-bottom: 1px solid gray;flex-grow: 1;}#sk-container-id-3 div.sk-label:hover label.sk-toggleable__label {background-color: #d4ebff;}#sk-container-id-3 div.sk-serial::before {content: \"\";position: absolute;border-left: 1px solid gray;box-sizing: border-box;top: 0;bottom: 0;left: 50%;z-index: 0;}#sk-container-id-3 div.sk-serial {display: flex;flex-direction: column;align-items: center;background-color: white;padding-right: 0.2em;padding-left: 0.2em;position: relative;}#sk-container-id-3 div.sk-item {position: relative;z-index: 1;}#sk-container-id-3 div.sk-parallel {display: flex;align-items: stretch;justify-content: center;background-color: white;position: relative;}#sk-container-id-3 div.sk-item::before, #sk-container-id-3 div.sk-parallel-item::before {content: \"\";position: absolute;border-left: 1px solid gray;box-sizing: border-box;top: 0;bottom: 0;left: 50%;z-index: -1;}#sk-container-id-3 div.sk-parallel-item {display: flex;flex-direction: column;z-index: 1;position: relative;background-color: white;}#sk-container-id-3 div.sk-parallel-item:first-child::after {align-self: flex-end;width: 50%;}#sk-container-id-3 div.sk-parallel-item:last-child::after {align-self: flex-start;width: 50%;}#sk-container-id-3 div.sk-parallel-item:only-child::after {width: 0;}#sk-container-id-3 div.sk-dashed-wrapped {border: 1px dashed gray;margin: 0 0.4em 0.5em 0.4em;box-sizing: border-box;padding-bottom: 0.4em;background-color: white;}#sk-container-id-3 div.sk-label label {font-family: monospace;font-weight: bold;display: inline-block;line-height: 1.2em;}#sk-container-id-3 div.sk-label-container {text-align: center;}#sk-container-id-3 div.sk-container {/* jupyter's `normalize.less` sets `[hidden] { display: none; }` but bootstrap.min.css set `[hidden] { display: none !important; }` so we also need the `!important` here to be able to override the default hidden behavior on the sphinx rendered scikit-learn.org. See: https://github.com/scikit-learn/scikit-learn/issues/21755 */display: inline-block !important;position: relative;}#sk-container-id-3 div.sk-text-repr-fallback {display: none;}</style><div id=\"sk-container-id-3\" class=\"sk-top-container\"><div class=\"sk-text-repr-fallback\"><pre>GridSearchCV(cv=5,\n",
       "             estimator=&lt;catboost.core.CatBoostRegressor object at 0x0000025DE9F6CB50&gt;,\n",
       "             param_grid={&#x27;depth&#x27;: [4, 6, 10], &#x27;iterations&#x27;: [100, 200],\n",
       "                         &#x27;learning_rate&#x27;: [0.2, 0.4], &#x27;random_seed&#x27;: [12345],\n",
       "                         &#x27;verbose&#x27;: [20]},\n",
       "             scoring=&#x27;neg_root_mean_squared_error&#x27;)</pre><b>In a Jupyter environment, please rerun this cell to show the HTML representation or trust the notebook. <br />On GitHub, the HTML representation is unable to render, please try loading this page with nbviewer.org.</b></div><div class=\"sk-container\" hidden><div class=\"sk-item sk-dashed-wrapped\"><div class=\"sk-label-container\"><div class=\"sk-label sk-toggleable\"><input class=\"sk-toggleable__control sk-hidden--visually\" id=\"sk-estimator-id-7\" type=\"checkbox\" ><label for=\"sk-estimator-id-7\" class=\"sk-toggleable__label sk-toggleable__label-arrow\">GridSearchCV</label><div class=\"sk-toggleable__content\"><pre>GridSearchCV(cv=5,\n",
       "             estimator=&lt;catboost.core.CatBoostRegressor object at 0x0000025DE9F6CB50&gt;,\n",
       "             param_grid={&#x27;depth&#x27;: [4, 6, 10], &#x27;iterations&#x27;: [100, 200],\n",
       "                         &#x27;learning_rate&#x27;: [0.2, 0.4], &#x27;random_seed&#x27;: [12345],\n",
       "                         &#x27;verbose&#x27;: [20]},\n",
       "             scoring=&#x27;neg_root_mean_squared_error&#x27;)</pre></div></div></div><div class=\"sk-parallel\"><div class=\"sk-parallel-item\"><div class=\"sk-item\"><div class=\"sk-label-container\"><div class=\"sk-label sk-toggleable\"><input class=\"sk-toggleable__control sk-hidden--visually\" id=\"sk-estimator-id-8\" type=\"checkbox\" ><label for=\"sk-estimator-id-8\" class=\"sk-toggleable__label sk-toggleable__label-arrow\">estimator: CatBoostRegressor</label><div class=\"sk-toggleable__content\"><pre>&lt;catboost.core.CatBoostRegressor object at 0x0000025DE9F6CB50&gt;</pre></div></div></div><div class=\"sk-serial\"><div class=\"sk-item\"><div class=\"sk-estimator sk-toggleable\"><input class=\"sk-toggleable__control sk-hidden--visually\" id=\"sk-estimator-id-9\" type=\"checkbox\" ><label for=\"sk-estimator-id-9\" class=\"sk-toggleable__label sk-toggleable__label-arrow\">CatBoostRegressor</label><div class=\"sk-toggleable__content\"><pre>&lt;catboost.core.CatBoostRegressor object at 0x0000025DE9F6CB50&gt;</pre></div></div></div></div></div></div></div></div></div></div>"
      ],
      "text/plain": [
       "GridSearchCV(cv=5,\n",
       "             estimator=<catboost.core.CatBoostRegressor object at 0x0000025DE9F6CB50>,\n",
       "             param_grid={'depth': [4, 6, 10], 'iterations': [100, 200],\n",
       "                         'learning_rate': [0.2, 0.4], 'random_seed': [12345],\n",
       "                         'verbose': [20]},\n",
       "             scoring='neg_root_mean_squared_error')"
      ]
     },
     "execution_count": 42,
     "metadata": {},
     "output_type": "execute_result"
    }
   ],
   "source": [
    "grid_catboost_params = {'learning_rate': [0.2, 0.4], \n",
    "                 'depth': [4, 6, 10], \n",
    "                 'iterations': [100, 200], \n",
    "                 'verbose': [20], \n",
    "                 'random_seed': [12345]}\n",
    "\n",
    "grid_catboost_model = CatBoostRegressor(cat_features=cat_features)\n",
    "grid_catboost = GridSearchCV(grid_catboost_model, grid_catboost_params, cv=5, scoring='neg_root_mean_squared_error')\n",
    "grid_catboost.fit(X_train, y_train)\n"
   ]
  },
  {
   "cell_type": "markdown",
   "metadata": {},
   "source": [
    "Let's train the model using the best parameters and measure the training time."
   ]
  },
  {
   "cell_type": "code",
   "execution_count": 43,
   "metadata": {},
   "outputs": [
    {
     "name": "stdout",
     "output_type": "stream",
     "text": [
      "0:\tlearn: 3713.2338102\ttotal: 389ms\tremaining: 1m 17s\n",
      "20:\tlearn: 1610.3728329\ttotal: 8.51s\tremaining: 1m 12s\n",
      "40:\tlearn: 1518.6769281\ttotal: 17s\tremaining: 1m 5s\n",
      "60:\tlearn: 1473.5875212\ttotal: 25.4s\tremaining: 57.9s\n",
      "80:\tlearn: 1444.7226679\ttotal: 34.2s\tremaining: 50.2s\n",
      "100:\tlearn: 1423.3009173\ttotal: 43.3s\tremaining: 42.4s\n",
      "120:\tlearn: 1403.7716848\ttotal: 52.2s\tremaining: 34.1s\n",
      "140:\tlearn: 1387.8488842\ttotal: 1m 1s\tremaining: 25.6s\n",
      "160:\tlearn: 1376.7045540\ttotal: 1m 10s\tremaining: 17.1s\n",
      "180:\tlearn: 1365.4675541\ttotal: 1m 19s\tremaining: 8.36s\n",
      "199:\tlearn: 1356.0416686\ttotal: 1m 28s\tremaining: 0us\n"
     ]
    }
   ],
   "source": [
    "st_catboost_train = time.time()\n",
    "\n",
    "cat_model = CatBoostRegressor(**grid_catboost.best_params_, cat_features=cat_features)\n",
    "\n",
    "cat_model.fit(X_train, y_train)\n",
    "\n",
    "et_catboost_train = time.time()\n",
    "elapsed_time_catboost_train = et_catboost_train - st_catboost_train"
   ]
  },
  {
   "cell_type": "markdown",
   "metadata": {},
   "source": [
    "Let's check the model on the training data and evaluate the quality using the RMSE."
   ]
  },
  {
   "cell_type": "code",
   "execution_count": 44,
   "metadata": {},
   "outputs": [
    {
     "name": "stdout",
     "output_type": "stream",
     "text": [
      "RMSE of Catboost: 1372.1444200808303\n"
     ]
    }
   ],
   "source": [
    "st_catboost_pred = time.time()\n",
    "\n",
    "catboost_pred = cat_model.predict(X_train)\n",
    "rmse_catboost = mean_squared_error(y_train, catboost_pred, squared=False)\n",
    "print(f'RMSE of Catboost: {rmse_catboost}')\n",
    "\n",
    "et_catboost_pred = time.time()\n",
    "elapsed_time_catboost_pred = et_catboost_pred - st_catboost_pred"
   ]
  },
  {
   "cell_type": "code",
   "execution_count": 45,
   "metadata": {},
   "outputs": [],
   "source": [
    "model_name.append('CatBoost')\n",
    "training_time.append(elapsed_time_catboost_train)\n",
    "prediction_time.append(elapsed_time_catboost_pred)\n",
    "model_rmse.append(rmse_catboost)"
   ]
  },
  {
   "cell_type": "markdown",
   "metadata": {},
   "source": [
    "### ElasticNet"
   ]
  },
  {
   "cell_type": "markdown",
   "metadata": {},
   "source": [
    "First, we tune hyperparameters using GridSearchCV, and then train the ElasticNet model and measure the time required for training and prediction. For the fair comparison, we will include the time required for encoding categorical features and scaling numerical ones in the total training time of the model."
   ]
  },
  {
   "cell_type": "code",
   "execution_count": 46,
   "metadata": {},
   "outputs": [
    {
     "data": {
      "text/html": [
       "<style>#sk-container-id-4 {color: black;background-color: white;}#sk-container-id-4 pre{padding: 0;}#sk-container-id-4 div.sk-toggleable {background-color: white;}#sk-container-id-4 label.sk-toggleable__label {cursor: pointer;display: block;width: 100%;margin-bottom: 0;padding: 0.3em;box-sizing: border-box;text-align: center;}#sk-container-id-4 label.sk-toggleable__label-arrow:before {content: \"▸\";float: left;margin-right: 0.25em;color: #696969;}#sk-container-id-4 label.sk-toggleable__label-arrow:hover:before {color: black;}#sk-container-id-4 div.sk-estimator:hover label.sk-toggleable__label-arrow:before {color: black;}#sk-container-id-4 div.sk-toggleable__content {max-height: 0;max-width: 0;overflow: hidden;text-align: left;background-color: #f0f8ff;}#sk-container-id-4 div.sk-toggleable__content pre {margin: 0.2em;color: black;border-radius: 0.25em;background-color: #f0f8ff;}#sk-container-id-4 input.sk-toggleable__control:checked~div.sk-toggleable__content {max-height: 200px;max-width: 100%;overflow: auto;}#sk-container-id-4 input.sk-toggleable__control:checked~label.sk-toggleable__label-arrow:before {content: \"▾\";}#sk-container-id-4 div.sk-estimator input.sk-toggleable__control:checked~label.sk-toggleable__label {background-color: #d4ebff;}#sk-container-id-4 div.sk-label input.sk-toggleable__control:checked~label.sk-toggleable__label {background-color: #d4ebff;}#sk-container-id-4 input.sk-hidden--visually {border: 0;clip: rect(1px 1px 1px 1px);clip: rect(1px, 1px, 1px, 1px);height: 1px;margin: -1px;overflow: hidden;padding: 0;position: absolute;width: 1px;}#sk-container-id-4 div.sk-estimator {font-family: monospace;background-color: #f0f8ff;border: 1px dotted black;border-radius: 0.25em;box-sizing: border-box;margin-bottom: 0.5em;}#sk-container-id-4 div.sk-estimator:hover {background-color: #d4ebff;}#sk-container-id-4 div.sk-parallel-item::after {content: \"\";width: 100%;border-bottom: 1px solid gray;flex-grow: 1;}#sk-container-id-4 div.sk-label:hover label.sk-toggleable__label {background-color: #d4ebff;}#sk-container-id-4 div.sk-serial::before {content: \"\";position: absolute;border-left: 1px solid gray;box-sizing: border-box;top: 0;bottom: 0;left: 50%;z-index: 0;}#sk-container-id-4 div.sk-serial {display: flex;flex-direction: column;align-items: center;background-color: white;padding-right: 0.2em;padding-left: 0.2em;position: relative;}#sk-container-id-4 div.sk-item {position: relative;z-index: 1;}#sk-container-id-4 div.sk-parallel {display: flex;align-items: stretch;justify-content: center;background-color: white;position: relative;}#sk-container-id-4 div.sk-item::before, #sk-container-id-4 div.sk-parallel-item::before {content: \"\";position: absolute;border-left: 1px solid gray;box-sizing: border-box;top: 0;bottom: 0;left: 50%;z-index: -1;}#sk-container-id-4 div.sk-parallel-item {display: flex;flex-direction: column;z-index: 1;position: relative;background-color: white;}#sk-container-id-4 div.sk-parallel-item:first-child::after {align-self: flex-end;width: 50%;}#sk-container-id-4 div.sk-parallel-item:last-child::after {align-self: flex-start;width: 50%;}#sk-container-id-4 div.sk-parallel-item:only-child::after {width: 0;}#sk-container-id-4 div.sk-dashed-wrapped {border: 1px dashed gray;margin: 0 0.4em 0.5em 0.4em;box-sizing: border-box;padding-bottom: 0.4em;background-color: white;}#sk-container-id-4 div.sk-label label {font-family: monospace;font-weight: bold;display: inline-block;line-height: 1.2em;}#sk-container-id-4 div.sk-label-container {text-align: center;}#sk-container-id-4 div.sk-container {/* jupyter's `normalize.less` sets `[hidden] { display: none; }` but bootstrap.min.css set `[hidden] { display: none !important; }` so we also need the `!important` here to be able to override the default hidden behavior on the sphinx rendered scikit-learn.org. See: https://github.com/scikit-learn/scikit-learn/issues/21755 */display: inline-block !important;position: relative;}#sk-container-id-4 div.sk-text-repr-fallback {display: none;}</style><div id=\"sk-container-id-4\" class=\"sk-top-container\"><div class=\"sk-text-repr-fallback\"><pre>GridSearchCV(cv=5, estimator=ElasticNet(random_state=12345),\n",
       "             param_grid={&#x27;alpha&#x27;: (0.01, 0.5, 0.05),\n",
       "                         &#x27;l1_ratio&#x27;: (0.1, 0.9, 0.1)},\n",
       "             scoring=&#x27;neg_root_mean_squared_error&#x27;)</pre><b>In a Jupyter environment, please rerun this cell to show the HTML representation or trust the notebook. <br />On GitHub, the HTML representation is unable to render, please try loading this page with nbviewer.org.</b></div><div class=\"sk-container\" hidden><div class=\"sk-item sk-dashed-wrapped\"><div class=\"sk-label-container\"><div class=\"sk-label sk-toggleable\"><input class=\"sk-toggleable__control sk-hidden--visually\" id=\"sk-estimator-id-10\" type=\"checkbox\" ><label for=\"sk-estimator-id-10\" class=\"sk-toggleable__label sk-toggleable__label-arrow\">GridSearchCV</label><div class=\"sk-toggleable__content\"><pre>GridSearchCV(cv=5, estimator=ElasticNet(random_state=12345),\n",
       "             param_grid={&#x27;alpha&#x27;: (0.01, 0.5, 0.05),\n",
       "                         &#x27;l1_ratio&#x27;: (0.1, 0.9, 0.1)},\n",
       "             scoring=&#x27;neg_root_mean_squared_error&#x27;)</pre></div></div></div><div class=\"sk-parallel\"><div class=\"sk-parallel-item\"><div class=\"sk-item\"><div class=\"sk-label-container\"><div class=\"sk-label sk-toggleable\"><input class=\"sk-toggleable__control sk-hidden--visually\" id=\"sk-estimator-id-11\" type=\"checkbox\" ><label for=\"sk-estimator-id-11\" class=\"sk-toggleable__label sk-toggleable__label-arrow\">estimator: ElasticNet</label><div class=\"sk-toggleable__content\"><pre>ElasticNet(random_state=12345)</pre></div></div></div><div class=\"sk-serial\"><div class=\"sk-item\"><div class=\"sk-estimator sk-toggleable\"><input class=\"sk-toggleable__control sk-hidden--visually\" id=\"sk-estimator-id-12\" type=\"checkbox\" ><label for=\"sk-estimator-id-12\" class=\"sk-toggleable__label sk-toggleable__label-arrow\">ElasticNet</label><div class=\"sk-toggleable__content\"><pre>ElasticNet(random_state=12345)</pre></div></div></div></div></div></div></div></div></div></div>"
      ],
      "text/plain": [
       "GridSearchCV(cv=5, estimator=ElasticNet(random_state=12345),\n",
       "             param_grid={'alpha': (0.01, 0.5, 0.05),\n",
       "                         'l1_ratio': (0.1, 0.9, 0.1)},\n",
       "             scoring='neg_root_mean_squared_error')"
      ]
     },
     "execution_count": 46,
     "metadata": {},
     "output_type": "execute_result"
    }
   ],
   "source": [
    "eln_params = {'alpha': (.01, .5, .05), \n",
    "                        'l1_ratio': (.1, .9, .1)}\n",
    "elastic_net = ElasticNet(random_state=12345)\n",
    "grid_eln = GridSearchCV(elastic_net, eln_params, cv=5, scoring='neg_root_mean_squared_error')\n",
    "\n",
    "grid_eln.fit(X_train_reg, y_train)"
   ]
  },
  {
   "cell_type": "code",
   "execution_count": 47,
   "metadata": {},
   "outputs": [],
   "source": [
    "st_eln_train = time.time()\n",
    "\n",
    "eln_model = ElasticNet(**grid_eln.best_params_, random_state=12345)\n",
    "eln_model.fit(X_train_reg, y_train)\n",
    "\n",
    "et_eln_train = time.time()\n",
    "elapsed_time_eln_train = et_eln_train - st_eln_train"
   ]
  },
  {
   "cell_type": "code",
   "execution_count": 48,
   "metadata": {},
   "outputs": [
    {
     "name": "stdout",
     "output_type": "stream",
     "text": [
      "The best RMSE for ElasticNet: 2668.886293931846\n"
     ]
    }
   ],
   "source": [
    "st_eln_pred = time.time()\n",
    "\n",
    "eln_pred = eln_model.predict(X_train_reg)\n",
    "\n",
    "rmse_eln = mean_squared_error(y_train, eln_pred, squared=False)\n",
    "print(f'The best RMSE for ElasticNet: {rmse_eln}')\n",
    "\n",
    "et_eln_pred = time.time()\n",
    "elapsed_time_eln_pred = et_eln_pred - st_eln_pred"
   ]
  },
  {
   "cell_type": "code",
   "execution_count": 49,
   "metadata": {},
   "outputs": [],
   "source": [
    "model_name.append('ElasticNet')\n",
    "training_time.append(elapsed_time_eln_train)\n",
    "prediction_time.append(elapsed_time_eln_pred)\n",
    "model_rmse.append(rmse_eln)"
   ]
  },
  {
   "cell_type": "markdown",
   "metadata": {},
   "source": [
    "## Model Analysis"
   ]
  },
  {
   "cell_type": "markdown",
   "metadata": {},
   "source": [
    "Let's create a table with the results and compare the models."
   ]
  },
  {
   "cell_type": "code",
   "execution_count": 50,
   "metadata": {
    "scrolled": true
   },
   "outputs": [
    {
     "data": {
      "text/html": [
       "<style type=\"text/css\">\n",
       "#T_9a34c_row0_col3, #T_9a34c_row3_col1, #T_9a34c_row3_col2 {\n",
       "  background-color: lightgreen;\n",
       "}\n",
       "</style>\n",
       "<table id=\"T_9a34c\">\n",
       "  <thead>\n",
       "    <tr>\n",
       "      <th class=\"blank level0\" >&nbsp;</th>\n",
       "      <th id=\"T_9a34c_level0_col0\" class=\"col_heading level0 col0\" >model_name</th>\n",
       "      <th id=\"T_9a34c_level0_col1\" class=\"col_heading level0 col1\" >training_time, sec</th>\n",
       "      <th id=\"T_9a34c_level0_col2\" class=\"col_heading level0 col2\" >prediction_time, sec</th>\n",
       "      <th id=\"T_9a34c_level0_col3\" class=\"col_heading level0 col3\" >RMSE</th>\n",
       "    </tr>\n",
       "  </thead>\n",
       "  <tbody>\n",
       "    <tr>\n",
       "      <th id=\"T_9a34c_level0_row0\" class=\"row_heading level0 row0\" >0</th>\n",
       "      <td id=\"T_9a34c_row0_col0\" class=\"data row0 col0\" >CatBoost</td>\n",
       "      <td id=\"T_9a34c_row0_col1\" class=\"data row0 col1\" >90.112482</td>\n",
       "      <td id=\"T_9a34c_row0_col2\" class=\"data row0 col2\" >1.034526</td>\n",
       "      <td id=\"T_9a34c_row0_col3\" class=\"data row0 col3\" >1372.144420</td>\n",
       "    </tr>\n",
       "    <tr>\n",
       "      <th id=\"T_9a34c_level0_row1\" class=\"row_heading level0 row1\" >1</th>\n",
       "      <td id=\"T_9a34c_row1_col0\" class=\"data row1 col0\" >LightGBM</td>\n",
       "      <td id=\"T_9a34c_row1_col1\" class=\"data row1 col1\" >1.908197</td>\n",
       "      <td id=\"T_9a34c_row1_col2\" class=\"data row1 col2\" >1.064368</td>\n",
       "      <td id=\"T_9a34c_row1_col3\" class=\"data row1 col3\" >1372.777225</td>\n",
       "    </tr>\n",
       "    <tr>\n",
       "      <th id=\"T_9a34c_level0_row2\" class=\"row_heading level0 row2\" >2</th>\n",
       "      <td id=\"T_9a34c_row2_col0\" class=\"data row2 col0\" >RandomForest</td>\n",
       "      <td id=\"T_9a34c_row2_col1\" class=\"data row2 col1\" >3.743850</td>\n",
       "      <td id=\"T_9a34c_row2_col2\" class=\"data row2 col2\" >0.501338</td>\n",
       "      <td id=\"T_9a34c_row2_col3\" class=\"data row2 col3\" >1867.552972</td>\n",
       "    </tr>\n",
       "    <tr>\n",
       "      <th id=\"T_9a34c_level0_row3\" class=\"row_heading level0 row3\" >3</th>\n",
       "      <td id=\"T_9a34c_row3_col0\" class=\"data row3 col0\" >ElasticNet</td>\n",
       "      <td id=\"T_9a34c_row3_col1\" class=\"data row3 col1\" >0.080441</td>\n",
       "      <td id=\"T_9a34c_row3_col2\" class=\"data row3 col2\" >0.008021</td>\n",
       "      <td id=\"T_9a34c_row3_col3\" class=\"data row3 col3\" >2668.886294</td>\n",
       "    </tr>\n",
       "  </tbody>\n",
       "</table>\n"
      ],
      "text/plain": [
       "<pandas.io.formats.style.Styler at 0x25de9f27760>"
      ]
     },
     "execution_count": 50,
     "metadata": {},
     "output_type": "execute_result"
    }
   ],
   "source": [
    "model_comparison = pd.DataFrame(\n",
    "    {\n",
    "    'model_name': model_name, \n",
    "    'training_time, sec': training_time, \n",
    "    'prediction_time, sec': prediction_time, \n",
    "    'RMSE': model_rmse\n",
    "    }\n",
    ").sort_values(by='RMSE').reset_index(drop=True)\n",
    "\n",
    "model_comparison.style.highlight_min(\n",
    "    ['RMSE', 'prediction_time, sec', 'training_time, sec'], \n",
    "    color='lightgreen', \n",
    "    axis=0\n",
    ")"
   ]
  },
  {
   "cell_type": "markdown",
   "metadata": {},
   "source": [
    "The `LightGBM` and `Catboost` models showed equally good prediction quality, outperforming `Random Forest Regressor` and `ElasticNet`. At the same time, the training time of `LightGBM` is much lower than that of `CatBoost`, and the prediction time is higher. The `ElasticNet` model turned out to be the fastest in terms of learning and prediction, but its prediction quality is the lowest."
   ]
  },
  {
   "cell_type": "markdown",
   "metadata": {},
   "source": [
    "Let's check feature importance for LightGBM model."
   ]
  },
  {
   "cell_type": "code",
   "execution_count": 51,
   "metadata": {},
   "outputs": [
    {
     "data": {
      "image/png": "[encoded data removed]",
      "text/plain": [
       "<Figure size 864x432 with 1 Axes>"
      ]
     },
     "metadata": {
      "needs_background": "light"
     },
     "output_type": "display_data"
    }
   ],
   "source": [
    "lgb.plot_importance(lgb_model, figsize = (12, 6))\n",
    "plt.show()"
   ]
  },
  {
   "cell_type": "markdown",
   "metadata": {},
   "source": [
    "`Year of registration` is on the first place, the `power` is second and the `car model` closes the top three."
   ]
  },
  {
   "cell_type": "markdown",
   "metadata": {},
   "source": [
    "Let's look at the importance of features for the CatBoost model."
   ]
  },
  {
   "cell_type": "code",
   "execution_count": 52,
   "metadata": {},
   "outputs": [
    {
     "data": {
      "image/png": "[encoded data removed]",
      "text/plain": [
       "<Figure size 864x432 with 1 Axes>"
      ]
     },
     "metadata": {
      "needs_background": "light"
     },
     "output_type": "display_data"
    }
   ],
   "source": [
    "feature_importance = cat_model.feature_importances_\n",
    "sorted_idx = np.argsort(feature_importance)\n",
    "fig = plt.figure(figsize=(12, 6))\n",
    "plt.barh(range(len(sorted_idx)), feature_importance[sorted_idx], align='center')\n",
    "plt.yticks(range(len(sorted_idx)), np.array(X_train.columns)[sorted_idx])\n",
    "plt.title('Feature Importance')\n",
    "plt.show()"
   ]
  },
  {
   "cell_type": "markdown",
   "metadata": {},
   "source": [
    "For the CatBoost model, the most important are: the `year of registration`, `power` and `brand`."
   ]
  },
  {
   "cell_type": "markdown",
   "metadata": {},
   "source": [
    "**Conclusion**"
   ]
  },
  {
   "cell_type": "markdown",
   "metadata": {},
   "source": [
    "The `LightGBM` model showed the best result in terms of prediction quality, model training time, and model prediction time. Let's test it on the new data. "
   ]
  },
  {
   "cell_type": "markdown",
   "metadata": {},
   "source": [
    "## Testing the best model"
   ]
  },
  {
   "cell_type": "markdown",
   "metadata": {},
   "source": [
    "**LightGBM**"
   ]
  },
  {
   "cell_type": "markdown",
   "metadata": {},
   "source": [
    "Let's check how the model performs on the test data."
   ]
  },
  {
   "cell_type": "code",
   "execution_count": 53,
   "metadata": {},
   "outputs": [],
   "source": [
    "X_test_lgbm = X_test.copy()"
   ]
  },
  {
   "cell_type": "code",
   "execution_count": 54,
   "metadata": {},
   "outputs": [
    {
     "name": "stdout",
     "output_type": "stream",
     "text": [
      "RMSE of LightGBM on the test data: 1469.5039355550798\n"
     ]
    }
   ],
   "source": [
    "st_lgbm_test = time.time()\n",
    "\n",
    "X_test_lgbm[cat_features] = X_test_lgbm[cat_features].apply(lambda x: x.astype('category'))\n",
    "\n",
    "\n",
    "lgbm_pred = lgb_model.predict(X_test_lgbm)\n",
    "rmse_lgbm = mean_squared_error(y_test, lgbm_pred, squared=False)\n",
    "\n",
    "print(f'RMSE of LightGBM on the test data: {rmse_lgbm}')\n",
    "\n",
    "et_lgbm_test = time.time()\n",
    "elapsed_time_lgbm_test = et_lgbm_test - st_lgbm_test"
   ]
  },
  {
   "cell_type": "markdown",
   "metadata": {},
   "source": [
    "## Sanity Check"
   ]
  },
  {
   "cell_type": "markdown",
   "metadata": {},
   "source": [
    "Let's check the model for adequacy by comparing the RMSE of the trained model with the RMSE of the constant model (mean). To do this, we use the DummyRegressor from the sklearn library."
   ]
  },
  {
   "cell_type": "code",
   "execution_count": 55,
   "metadata": {},
   "outputs": [
    {
     "name": "stdout",
     "output_type": "stream",
     "text": [
      "RMSE of the constant model: 4351.352727898366\n"
     ]
    }
   ],
   "source": [
    "dummy = DummyRegressor(strategy = 'mean')\n",
    "dummy.fit(X_train, y_train)\n",
    "dummy_predictions = dummy.predict(X_test)\n",
    "rmse_dummy = mean_squared_error(y_test, dummy_predictions, squared=False)\n",
    "print(f'RMSE of the constant model: {rmse_dummy}')"
   ]
  },
  {
   "cell_type": "markdown",
   "metadata": {},
   "source": [
    "All trained models passed sanity check, as their RMSE is lower than that of the constant model."
   ]
  },
  {
   "cell_type": "markdown",
   "metadata": {},
   "source": [
    "## Conclusion"
   ]
  },
  {
   "cell_type": "markdown",
   "metadata": {},
   "source": [
    "In the course of the project, we reviewed the data, checked the distributions of values and correlations, replaced the missing values in the columns with `unknown` values, and also removed features that were not useful, such as `date_crawled`, `date_created`, `last_seen`, ` number_of_pictures`, `postal_code` and `registration_month`. We got rid of rows with anomalous values in the columns `registration_year`, `power` and `price`, and also removed duplicates.\n",
    "\n",
    "After that, we divided the data into two sets (training and test) in the proportion of 75:25. Then we encoded categorical features and scaled numerical features. After that we trained `Random Forest`, `LightGBM`, `CatBoost` and `ElasticNet` models. We checked the quality of the models on test data using the RMSE metric, and also measured the training and prediction times of the models.\n",
    "\n",
    "`LightGBM` and `CatBoost` models showed the best RMSE result (1372). However, the training time of the `LightGBM` model (1.91 sec) is much lower than that of `CatBoost` (90.1 sec). `ElasticNet` model has the best prediction time (0.008 sec), but the prediction quality is very low (RMSE - 2668.89).\n",
    "\n",
    "Based on customer requirements - the best model in terms of a combination of factors will be based on the `LightGBM` library."
   ]
  }
 ],
 "metadata": {
  "ExecuteTimeLog": [
   {
    "duration": 6122,
    "start_time": "2022-08-20T09:54:22.102Z"
   },
   {
    "duration": 158,
    "start_time": "2022-08-20T09:54:30.004Z"
   },
   {
    "duration": 285,
    "start_time": "2022-08-20T09:54:44.501Z"
   },
   {
    "duration": 18,
    "start_time": "2022-08-20T09:54:56.738Z"
   },
   {
    "duration": 5,
    "start_time": "2022-08-20T09:55:41.108Z"
   },
   {
    "duration": 6,
    "start_time": "2022-08-20T09:55:41.670Z"
   },
   {
    "duration": 305,
    "start_time": "2022-08-20T09:56:25.190Z"
   },
   {
    "duration": 445,
    "start_time": "2022-08-20T10:30:46.212Z"
   },
   {
    "duration": 3525,
    "start_time": "2022-08-23T12:16:39.549Z"
   },
   {
    "duration": 122,
    "start_time": "2022-08-23T12:16:45.203Z"
   },
   {
    "duration": 18,
    "start_time": "2022-08-23T12:16:46.788Z"
   },
   {
    "duration": 4,
    "start_time": "2022-08-23T12:16:48.164Z"
   },
   {
    "duration": 5,
    "start_time": "2022-08-23T12:16:49.054Z"
   },
   {
    "duration": 252,
    "start_time": "2022-08-23T12:16:50.331Z"
   },
   {
    "duration": 524,
    "start_time": "2022-08-23T12:17:01.558Z"
   },
   {
    "duration": 149,
    "start_time": "2022-08-23T12:19:22.448Z"
   },
   {
    "duration": 45,
    "start_time": "2022-08-23T12:19:33.041Z"
   },
   {
    "duration": 14,
    "start_time": "2022-08-23T12:20:05.574Z"
   },
   {
    "duration": 11,
    "start_time": "2022-08-23T12:20:46.810Z"
   },
   {
    "duration": 107,
    "start_time": "2022-08-23T12:21:17.688Z"
   },
   {
    "duration": 117,
    "start_time": "2022-08-23T12:21:38.359Z"
   },
   {
    "duration": 91,
    "start_time": "2022-08-23T12:21:55.240Z"
   },
   {
    "duration": 95,
    "start_time": "2022-08-23T12:22:05.526Z"
   },
   {
    "duration": 35,
    "start_time": "2022-08-23T12:22:22.860Z"
   },
   {
    "duration": 44,
    "start_time": "2022-08-23T12:23:14.649Z"
   },
   {
    "duration": 7,
    "start_time": "2022-08-23T12:23:31.064Z"
   },
   {
    "duration": 481,
    "start_time": "2022-08-23T12:23:36.978Z"
   },
   {
    "duration": 1414,
    "start_time": "2022-08-23T12:26:10.375Z"
   },
   {
    "duration": 41,
    "start_time": "2022-08-23T12:26:47.967Z"
   },
   {
    "duration": 1224,
    "start_time": "2022-08-23T12:26:51.727Z"
   },
   {
    "duration": 21,
    "start_time": "2022-08-23T12:27:05.061Z"
   },
   {
    "duration": 82,
    "start_time": "2022-08-23T12:27:25.943Z"
   },
   {
    "duration": 28,
    "start_time": "2022-08-23T12:28:44.138Z"
   },
   {
    "duration": 20,
    "start_time": "2022-08-23T12:28:59.411Z"
   },
   {
    "duration": 20,
    "start_time": "2022-08-23T12:29:09.801Z"
   },
   {
    "duration": 38,
    "start_time": "2022-08-23T12:30:01.570Z"
   },
   {
    "duration": 36,
    "start_time": "2022-08-23T12:30:54.368Z"
   },
   {
    "duration": 40,
    "start_time": "2022-08-23T12:31:48.648Z"
   },
   {
    "duration": 35,
    "start_time": "2022-08-23T12:33:11.892Z"
   },
   {
    "duration": 57,
    "start_time": "2022-08-23T12:34:07.055Z"
   },
   {
    "duration": 55,
    "start_time": "2022-08-23T12:34:58.203Z"
   },
   {
    "duration": 13,
    "start_time": "2022-08-23T12:35:14.525Z"
   },
   {
    "duration": 10,
    "start_time": "2022-08-23T12:35:28.659Z"
   },
   {
    "duration": 10,
    "start_time": "2022-08-23T12:35:31.497Z"
   },
   {
    "duration": 10,
    "start_time": "2022-08-23T12:35:36.116Z"
   },
   {
    "duration": 11,
    "start_time": "2022-08-23T12:35:41.062Z"
   },
   {
    "duration": 10,
    "start_time": "2022-08-23T12:35:44.322Z"
   },
   {
    "duration": 12,
    "start_time": "2022-08-23T12:35:47.579Z"
   },
   {
    "duration": 10,
    "start_time": "2022-08-23T12:35:50.796Z"
   },
   {
    "duration": 10,
    "start_time": "2022-08-23T12:35:53.316Z"
   },
   {
    "duration": 188,
    "start_time": "2022-08-23T12:38:36.481Z"
   },
   {
    "duration": 210,
    "start_time": "2022-08-23T12:38:59.851Z"
   },
   {
    "duration": 886,
    "start_time": "2022-08-23T12:39:30.966Z"
   },
   {
    "duration": 240,
    "start_time": "2022-08-23T12:39:54.475Z"
   },
   {
    "duration": 24,
    "start_time": "2022-08-23T12:40:33.681Z"
   },
   {
    "duration": 7,
    "start_time": "2022-08-23T12:41:59.478Z"
   },
   {
    "duration": 7,
    "start_time": "2022-08-23T12:42:04.773Z"
   },
   {
    "duration": 7,
    "start_time": "2022-08-23T12:42:08.180Z"
   },
   {
    "duration": 8,
    "start_time": "2022-08-23T12:42:10.942Z"
   },
   {
    "duration": 35,
    "start_time": "2022-08-23T12:42:44.983Z"
   },
   {
    "duration": 100,
    "start_time": "2022-08-23T12:42:53.263Z"
   },
   {
    "duration": 107,
    "start_time": "2022-08-23T12:43:15.197Z"
   },
   {
    "duration": 105,
    "start_time": "2022-08-23T12:43:21.745Z"
   },
   {
    "duration": 106,
    "start_time": "2022-08-23T12:43:31.084Z"
   },
   {
    "duration": 487,
    "start_time": "2022-08-23T12:43:56.691Z"
   },
   {
    "duration": 200,
    "start_time": "2022-08-23T12:44:06.088Z"
   },
   {
    "duration": 237,
    "start_time": "2022-08-23T12:45:02.244Z"
   },
   {
    "duration": 209,
    "start_time": "2022-08-23T12:45:09.537Z"
   },
   {
    "duration": 221,
    "start_time": "2022-08-23T12:45:21.725Z"
   },
   {
    "duration": 220,
    "start_time": "2022-08-23T12:45:29.285Z"
   },
   {
    "duration": 216,
    "start_time": "2022-08-23T12:45:35.200Z"
   },
   {
    "duration": 234,
    "start_time": "2022-08-23T12:45:40.748Z"
   },
   {
    "duration": 369,
    "start_time": "2022-08-23T12:45:48.784Z"
   },
   {
    "duration": 14,
    "start_time": "2022-08-23T12:48:00.479Z"
   },
   {
    "duration": 15,
    "start_time": "2022-08-23T12:51:10.915Z"
   },
   {
    "duration": 14,
    "start_time": "2022-08-23T12:51:30.510Z"
   },
   {
    "duration": 17,
    "start_time": "2022-08-23T12:51:40.649Z"
   },
   {
    "duration": 14,
    "start_time": "2022-08-23T12:54:07.951Z"
   },
   {
    "duration": 40,
    "start_time": "2022-08-23T12:54:57.952Z"
   },
   {
    "duration": 45,
    "start_time": "2022-08-23T12:55:11.903Z"
   },
   {
    "duration": 56,
    "start_time": "2022-08-23T12:55:18.949Z"
   },
   {
    "duration": 144,
    "start_time": "2022-08-23T12:57:08.712Z"
   },
   {
    "duration": 165,
    "start_time": "2022-08-23T12:57:21.331Z"
   },
   {
    "duration": 201,
    "start_time": "2022-08-23T12:58:24.346Z"
   },
   {
    "duration": 187,
    "start_time": "2022-08-23T12:58:37.023Z"
   },
   {
    "duration": 3,
    "start_time": "2022-08-23T12:59:36.518Z"
   },
   {
    "duration": 15,
    "start_time": "2022-08-23T12:59:41.327Z"
   },
   {
    "duration": 19,
    "start_time": "2022-08-23T13:00:03.679Z"
   },
   {
    "duration": 19,
    "start_time": "2022-08-23T13:01:42.466Z"
   },
   {
    "duration": 22,
    "start_time": "2022-08-23T13:01:48.295Z"
   },
   {
    "duration": 171,
    "start_time": "2022-08-23T13:02:01.998Z"
   },
   {
    "duration": 194,
    "start_time": "2022-08-23T13:02:18.105Z"
   },
   {
    "duration": 8,
    "start_time": "2022-08-23T13:03:14.356Z"
   },
   {
    "duration": 10,
    "start_time": "2022-08-23T13:03:20.029Z"
   },
   {
    "duration": 10,
    "start_time": "2022-08-23T13:03:25.211Z"
   },
   {
    "duration": 10,
    "start_time": "2022-08-23T13:03:29.887Z"
   },
   {
    "duration": 10,
    "start_time": "2022-08-23T13:03:32.632Z"
   },
   {
    "duration": 9,
    "start_time": "2022-08-23T13:03:42.590Z"
   },
   {
    "duration": 11,
    "start_time": "2022-08-23T13:03:46.391Z"
   },
   {
    "duration": 10,
    "start_time": "2022-08-23T13:04:00.479Z"
   },
   {
    "duration": 209,
    "start_time": "2022-08-23T13:04:25.888Z"
   },
   {
    "duration": 180,
    "start_time": "2022-08-23T13:05:13.006Z"
   },
   {
    "duration": 186,
    "start_time": "2022-08-23T13:05:22.328Z"
   },
   {
    "duration": 180,
    "start_time": "2022-08-23T13:05:26.722Z"
   },
   {
    "duration": 296,
    "start_time": "2022-08-23T13:05:37.435Z"
   },
   {
    "duration": 208,
    "start_time": "2022-08-23T13:05:48.389Z"
   },
   {
    "duration": 186,
    "start_time": "2022-08-23T13:05:55.877Z"
   },
   {
    "duration": 152,
    "start_time": "2022-08-23T13:06:08.461Z"
   },
   {
    "duration": 502,
    "start_time": "2022-08-23T13:06:19.634Z"
   },
   {
    "duration": 172,
    "start_time": "2022-08-23T13:06:25.409Z"
   },
   {
    "duration": 171,
    "start_time": "2022-08-23T13:06:34.633Z"
   },
   {
    "duration": 215,
    "start_time": "2022-08-23T13:06:38.777Z"
   },
   {
    "duration": 169,
    "start_time": "2022-08-23T13:06:48.093Z"
   },
   {
    "duration": 188,
    "start_time": "2022-08-23T13:06:54.349Z"
   },
   {
    "duration": 23,
    "start_time": "2022-08-23T13:07:29.235Z"
   },
   {
    "duration": 22,
    "start_time": "2022-08-23T13:08:31.074Z"
   },
   {
    "duration": 47,
    "start_time": "2022-08-23T13:09:42.188Z"
   },
   {
    "duration": 10,
    "start_time": "2022-08-23T13:10:16.631Z"
   },
   {
    "duration": 28,
    "start_time": "2022-08-23T13:10:22.402Z"
   },
   {
    "duration": 58,
    "start_time": "2022-08-23T13:11:26.215Z"
   },
   {
    "duration": 63,
    "start_time": "2022-08-23T13:13:04.841Z"
   },
   {
    "duration": 108,
    "start_time": "2022-08-23T13:16:09.001Z"
   },
   {
    "duration": 90,
    "start_time": "2022-08-23T13:16:35.370Z"
   },
   {
    "duration": 661,
    "start_time": "2022-08-23T13:17:11.510Z"
   },
   {
    "duration": 409,
    "start_time": "2022-08-23T13:17:24.980Z"
   },
   {
    "duration": 46,
    "start_time": "2022-08-23T17:03:03.177Z"
   },
   {
    "duration": 127,
    "start_time": "2022-08-23T17:03:12.246Z"
   },
   {
    "duration": 37,
    "start_time": "2022-08-23T17:03:46.930Z"
   },
   {
    "duration": 128,
    "start_time": "2022-08-23T17:03:56.246Z"
   },
   {
    "duration": 147,
    "start_time": "2022-08-23T17:04:41.605Z"
   },
   {
    "duration": 123,
    "start_time": "2022-08-23T17:05:06.665Z"
   },
   {
    "duration": 120,
    "start_time": "2022-08-23T17:05:15.265Z"
   },
   {
    "duration": 131,
    "start_time": "2022-08-23T17:05:26.068Z"
   },
   {
    "duration": 107,
    "start_time": "2022-08-23T17:08:43.780Z"
   },
   {
    "duration": 76,
    "start_time": "2022-08-23T17:08:50.559Z"
   },
   {
    "duration": 10,
    "start_time": "2022-08-23T17:09:02.422Z"
   },
   {
    "duration": 105,
    "start_time": "2022-08-23T17:09:07.035Z"
   },
   {
    "duration": 4,
    "start_time": "2022-08-23T17:09:14.785Z"
   },
   {
    "duration": 98,
    "start_time": "2022-08-23T17:09:17.819Z"
   },
   {
    "duration": 50,
    "start_time": "2022-08-23T17:14:24.296Z"
   },
   {
    "duration": 116,
    "start_time": "2022-08-23T17:14:33.230Z"
   },
   {
    "duration": 53,
    "start_time": "2022-08-23T17:14:59.341Z"
   },
   {
    "duration": 30,
    "start_time": "2022-08-23T17:15:15.117Z"
   },
   {
    "duration": 78,
    "start_time": "2022-08-23T17:15:30.019Z"
   },
   {
    "duration": 69,
    "start_time": "2022-08-23T17:16:04.481Z"
   },
   {
    "duration": 118,
    "start_time": "2022-08-23T17:17:03.153Z"
   },
   {
    "duration": 58,
    "start_time": "2022-08-23T17:24:17.667Z"
   },
   {
    "duration": 147,
    "start_time": "2022-08-23T17:24:32.523Z"
   },
   {
    "duration": 155,
    "start_time": "2022-08-23T17:24:51.814Z"
   },
   {
    "duration": 39,
    "start_time": "2022-08-23T17:25:35.045Z"
   },
   {
    "duration": 40,
    "start_time": "2022-08-23T17:25:47.814Z"
   },
   {
    "duration": 133,
    "start_time": "2022-08-23T18:22:00.209Z"
   },
   {
    "duration": 163,
    "start_time": "2022-08-23T18:22:53.390Z"
   },
   {
    "duration": 128,
    "start_time": "2022-08-23T18:23:40.072Z"
   },
   {
    "duration": 194,
    "start_time": "2022-08-23T18:23:56.378Z"
   },
   {
    "duration": 249,
    "start_time": "2022-08-23T18:28:15.997Z"
   },
   {
    "duration": 139,
    "start_time": "2022-08-23T18:29:07.677Z"
   },
   {
    "duration": 135,
    "start_time": "2022-08-23T18:29:22.715Z"
   },
   {
    "duration": 121,
    "start_time": "2022-08-23T18:29:33.031Z"
   },
   {
    "duration": 489,
    "start_time": "2022-08-23T18:31:50.801Z"
   },
   {
    "duration": 175,
    "start_time": "2022-08-23T18:31:55.034Z"
   },
   {
    "duration": 508,
    "start_time": "2022-08-23T18:32:00.738Z"
   },
   {
    "duration": 42,
    "start_time": "2022-08-23T19:30:06.603Z"
   },
   {
    "duration": 85,
    "start_time": "2022-08-23T19:32:41.757Z"
   },
   {
    "duration": 17,
    "start_time": "2022-08-23T19:32:54.074Z"
   },
   {
    "duration": 18,
    "start_time": "2022-08-23T19:33:12.802Z"
   },
   {
    "duration": 85,
    "start_time": "2022-08-23T19:33:13.842Z"
   },
   {
    "duration": 24,
    "start_time": "2022-08-23T19:33:19.230Z"
   },
   {
    "duration": 1360,
    "start_time": "2022-08-23T19:33:20.775Z"
   },
   {
    "duration": 71,
    "start_time": "2022-08-23T19:35:56.633Z"
   },
   {
    "duration": 120,
    "start_time": "2022-08-23T19:36:17.681Z"
   },
   {
    "duration": 125,
    "start_time": "2022-08-23T19:36:56.378Z"
   },
   {
    "duration": 71,
    "start_time": "2022-08-23T19:37:00.393Z"
   },
   {
    "duration": 82,
    "start_time": "2022-08-23T19:37:01.351Z"
   },
   {
    "duration": 22,
    "start_time": "2022-08-23T19:37:10.360Z"
   },
   {
    "duration": 11908,
    "start_time": "2022-08-23T19:37:12.299Z"
   },
   {
    "duration": 11500,
    "start_time": "2022-08-23T19:37:36.563Z"
   },
   {
    "duration": 126,
    "start_time": "2022-08-23T19:38:03.561Z"
   },
   {
    "duration": 4,
    "start_time": "2022-08-23T19:38:34.330Z"
   },
   {
    "duration": 17,
    "start_time": "2022-08-23T19:38:37.230Z"
   },
   {
    "duration": 289499,
    "start_time": "2022-08-23T19:38:49.217Z"
   },
   {
    "duration": 5,
    "start_time": "2022-08-23T19:43:38.720Z"
   },
   {
    "duration": 760,
    "start_time": "2022-08-23T20:08:59.256Z"
   },
   {
    "duration": 2578,
    "start_time": "2022-08-26T17:05:01.776Z"
   },
   {
    "duration": 126,
    "start_time": "2022-08-26T17:05:11.390Z"
   },
   {
    "duration": 18,
    "start_time": "2022-08-26T17:05:14.451Z"
   },
   {
    "duration": 4,
    "start_time": "2022-08-26T17:05:16.142Z"
   },
   {
    "duration": 4,
    "start_time": "2022-08-26T17:05:16.940Z"
   },
   {
    "duration": 203,
    "start_time": "2022-08-26T17:05:18.187Z"
   },
   {
    "duration": 90,
    "start_time": "2022-08-26T17:05:19.968Z"
   },
   {
    "duration": 1053,
    "start_time": "2022-08-26T17:05:21.533Z"
   },
   {
    "duration": 113,
    "start_time": "2022-08-26T17:05:27.165Z"
   },
   {
    "duration": 582,
    "start_time": "2022-08-26T17:05:39.558Z"
   },
   {
    "duration": 9,
    "start_time": "2022-08-26T17:05:49.810Z"
   },
   {
    "duration": 137,
    "start_time": "2022-08-26T17:06:13.209Z"
   },
   {
    "duration": 33,
    "start_time": "2022-08-26T17:06:17.614Z"
   },
   {
    "duration": 16,
    "start_time": "2022-08-26T17:06:26.401Z"
   },
   {
    "duration": 690,
    "start_time": "2022-08-26T17:06:39.977Z"
   },
   {
    "duration": 6,
    "start_time": "2022-08-26T17:06:44.432Z"
   },
   {
    "duration": 4,
    "start_time": "2022-08-26T17:06:44.849Z"
   },
   {
    "duration": 204,
    "start_time": "2022-08-26T17:06:47.304Z"
   },
   {
    "duration": 81,
    "start_time": "2022-08-26T17:06:49.109Z"
   },
   {
    "duration": 980,
    "start_time": "2022-08-26T17:06:51.220Z"
   },
   {
    "duration": 112,
    "start_time": "2022-08-26T17:06:55.467Z"
   },
   {
    "duration": 113,
    "start_time": "2022-08-26T17:06:57.252Z"
   },
   {
    "duration": 15,
    "start_time": "2022-08-26T17:06:59.691Z"
   },
   {
    "duration": 11,
    "start_time": "2022-08-26T17:07:07.980Z"
   },
   {
    "duration": 53,
    "start_time": "2022-08-26T17:07:13.536Z"
   },
   {
    "duration": 10,
    "start_time": "2022-08-26T17:07:16.722Z"
   },
   {
    "duration": 72,
    "start_time": "2022-08-26T17:07:32.150Z"
   },
   {
    "duration": 96,
    "start_time": "2022-08-26T17:07:57.461Z"
   },
   {
    "duration": 20,
    "start_time": "2022-08-26T17:08:46.705Z"
   },
   {
    "duration": 68,
    "start_time": "2022-08-26T17:08:57.698Z"
   },
   {
    "duration": 358,
    "start_time": "2022-08-26T17:09:08.124Z"
   },
   {
    "duration": 13,
    "start_time": "2022-08-26T17:09:27.983Z"
   },
   {
    "duration": 53,
    "start_time": "2022-08-26T17:09:37.354Z"
   },
   {
    "duration": 15,
    "start_time": "2022-08-26T17:10:13.517Z"
   },
   {
    "duration": 147,
    "start_time": "2022-08-26T17:10:40.915Z"
   },
   {
    "duration": 147,
    "start_time": "2022-08-26T17:12:07.740Z"
   },
   {
    "duration": 4464,
    "start_time": "2022-08-29T11:03:22.177Z"
   },
   {
    "duration": 5,
    "start_time": "2022-08-29T11:14:21.318Z"
   },
   {
    "duration": 5,
    "start_time": "2022-08-29T11:14:24.163Z"
   },
   {
    "duration": 198,
    "start_time": "2022-08-29T11:14:26.333Z"
   },
   {
    "duration": 88,
    "start_time": "2022-08-29T11:14:28.016Z"
   },
   {
    "duration": 1168,
    "start_time": "2022-08-29T11:14:29.207Z"
   },
   {
    "duration": 634,
    "start_time": "2022-08-29T11:14:32.420Z"
   },
   {
    "duration": 156,
    "start_time": "2022-08-29T11:14:35.302Z"
   },
   {
    "duration": 121,
    "start_time": "2022-08-29T11:14:37.324Z"
   },
   {
    "duration": 11,
    "start_time": "2022-08-29T11:14:38.995Z"
   },
   {
    "duration": 59,
    "start_time": "2022-08-29T11:14:41.109Z"
   },
   {
    "duration": 9,
    "start_time": "2022-08-29T11:14:43.204Z"
   },
   {
    "duration": 99,
    "start_time": "2022-08-29T11:14:46.124Z"
   },
   {
    "duration": 108,
    "start_time": "2022-08-29T11:15:02.350Z"
   },
   {
    "duration": 100,
    "start_time": "2022-08-29T11:15:14.524Z"
   },
   {
    "duration": 99,
    "start_time": "2022-08-29T11:15:19.564Z"
   },
   {
    "duration": 93,
    "start_time": "2022-08-29T11:15:27.722Z"
   },
   {
    "duration": 92,
    "start_time": "2022-08-29T11:15:32.170Z"
   },
   {
    "duration": 167,
    "start_time": "2022-08-29T11:17:47.987Z"
   },
   {
    "duration": 83,
    "start_time": "2022-08-29T11:18:54.352Z"
   },
   {
    "duration": 85,
    "start_time": "2022-08-29T11:19:04.028Z"
   },
   {
    "duration": 89,
    "start_time": "2022-08-29T11:20:12.994Z"
   },
   {
    "duration": 24,
    "start_time": "2022-08-29T11:20:35.570Z"
   },
   {
    "duration": 772,
    "start_time": "2022-08-29T11:21:15.373Z"
   },
   {
    "duration": 16,
    "start_time": "2022-08-29T11:21:28.652Z"
   },
   {
    "duration": 65,
    "start_time": "2022-08-29T11:21:36.461Z"
   },
   {
    "duration": 22,
    "start_time": "2022-08-29T11:21:56.975Z"
   },
   {
    "duration": 11,
    "start_time": "2022-08-29T11:22:17.944Z"
   },
   {
    "duration": 9,
    "start_time": "2022-08-29T11:23:06.266Z"
   },
   {
    "duration": 35,
    "start_time": "2022-08-29T11:23:18.842Z"
   },
   {
    "duration": 43,
    "start_time": "2022-08-29T11:23:24.792Z"
   },
   {
    "duration": 96,
    "start_time": "2022-08-29T11:24:21.520Z"
   },
   {
    "duration": 370,
    "start_time": "2022-08-29T11:25:06.454Z"
   },
   {
    "duration": 139,
    "start_time": "2022-08-29T11:25:24.396Z"
   },
   {
    "duration": 123,
    "start_time": "2022-08-29T11:25:44.966Z"
   },
   {
    "duration": 182,
    "start_time": "2022-08-29T11:25:56.106Z"
   },
   {
    "duration": 11,
    "start_time": "2022-08-29T12:28:34.524Z"
   },
   {
    "duration": 45,
    "start_time": "2022-08-29T12:32:24.073Z"
   },
   {
    "duration": 4458,
    "start_time": "2022-08-29T12:32:40.256Z"
   },
   {
    "duration": 108,
    "start_time": "2022-08-29T12:32:51.004Z"
   },
   {
    "duration": 17,
    "start_time": "2022-08-29T12:32:52.424Z"
   },
   {
    "duration": 5,
    "start_time": "2022-08-29T12:32:53.440Z"
   },
   {
    "duration": 5,
    "start_time": "2022-08-29T12:32:54.053Z"
   },
   {
    "duration": 187,
    "start_time": "2022-08-29T12:32:55.644Z"
   },
   {
    "duration": 83,
    "start_time": "2022-08-29T12:32:57.347Z"
   },
   {
    "duration": 1120,
    "start_time": "2022-08-29T12:32:58.633Z"
   },
   {
    "duration": 534,
    "start_time": "2022-08-29T12:33:02.128Z"
   },
   {
    "duration": 131,
    "start_time": "2022-08-29T12:33:04.404Z"
   },
   {
    "duration": 151,
    "start_time": "2022-08-29T12:33:05.992Z"
   },
   {
    "duration": 11,
    "start_time": "2022-08-29T12:33:06.772Z"
   },
   {
    "duration": 56,
    "start_time": "2022-08-29T12:33:08.858Z"
   },
   {
    "duration": 171,
    "start_time": "2022-08-29T12:33:22.184Z"
   },
   {
    "duration": 35,
    "start_time": "2022-08-29T12:33:23.547Z"
   },
   {
    "duration": 42,
    "start_time": "2022-08-29T12:36:57.436Z"
   },
   {
    "duration": 6,
    "start_time": "2022-08-29T12:37:45.599Z"
   },
   {
    "duration": 4453,
    "start_time": "2022-08-29T12:38:00.657Z"
   },
   {
    "duration": 108,
    "start_time": "2022-08-29T12:38:06.615Z"
   },
   {
    "duration": 17,
    "start_time": "2022-08-29T12:38:08.258Z"
   },
   {
    "duration": 5,
    "start_time": "2022-08-29T12:38:09.519Z"
   },
   {
    "duration": 5,
    "start_time": "2022-08-29T12:38:09.958Z"
   },
   {
    "duration": 200,
    "start_time": "2022-08-29T12:38:11.356Z"
   },
   {
    "duration": 140,
    "start_time": "2022-08-29T12:38:15.296Z"
   },
   {
    "duration": 123,
    "start_time": "2022-08-29T12:38:16.303Z"
   },
   {
    "duration": 10,
    "start_time": "2022-08-29T12:38:17.608Z"
   },
   {
    "duration": 59,
    "start_time": "2022-08-29T12:38:19.448Z"
   },
   {
    "duration": 2508,
    "start_time": "2022-08-29T12:38:24.967Z"
   },
   {
    "duration": 73,
    "start_time": "2022-08-29T12:38:37.368Z"
   },
   {
    "duration": 0,
    "start_time": "2022-08-29T12:40:02.943Z"
   },
   {
    "duration": 135,
    "start_time": "2022-08-29T12:40:04.822Z"
   },
   {
    "duration": 130,
    "start_time": "2022-08-29T12:40:43.239Z"
   },
   {
    "duration": 132,
    "start_time": "2022-08-29T12:40:48.066Z"
   },
   {
    "duration": 157,
    "start_time": "2022-08-29T12:40:54.336Z"
   },
   {
    "duration": 165,
    "start_time": "2022-08-29T12:41:04.893Z"
   },
   {
    "duration": 121,
    "start_time": "2022-08-29T12:42:14.834Z"
   },
   {
    "duration": 13,
    "start_time": "2022-08-29T12:42:40.933Z"
   },
   {
    "duration": 195,
    "start_time": "2022-08-29T12:42:43.956Z"
   },
   {
    "duration": 117,
    "start_time": "2022-08-29T12:42:45.935Z"
   },
   {
    "duration": 98,
    "start_time": "2022-08-29T12:43:49.139Z"
   },
   {
    "duration": 13,
    "start_time": "2022-08-29T12:44:10.827Z"
   },
   {
    "duration": 24,
    "start_time": "2022-08-29T12:44:21.367Z"
   },
   {
    "duration": 9,
    "start_time": "2022-08-29T12:44:42.961Z"
   },
   {
    "duration": 99,
    "start_time": "2022-08-29T18:07:47.436Z"
   },
   {
    "duration": 98,
    "start_time": "2022-08-29T18:07:56.540Z"
   },
   {
    "duration": 96,
    "start_time": "2022-08-29T18:08:14.841Z"
   },
   {
    "duration": 184,
    "start_time": "2022-08-29T18:08:54.727Z"
   },
   {
    "duration": 37,
    "start_time": "2022-08-29T18:08:56.316Z"
   },
   {
    "duration": 95,
    "start_time": "2022-08-29T18:09:08.462Z"
   },
   {
    "duration": 3,
    "start_time": "2022-08-29T18:09:28.545Z"
   },
   {
    "duration": 10,
    "start_time": "2022-08-29T18:09:33.187Z"
   },
   {
    "duration": 5,
    "start_time": "2022-08-29T18:09:41.401Z"
   },
   {
    "duration": 5,
    "start_time": "2022-08-29T18:09:52.590Z"
   },
   {
    "duration": 101,
    "start_time": "2022-08-29T18:10:47.529Z"
   },
   {
    "duration": 8,
    "start_time": "2022-08-29T18:11:59.558Z"
   },
   {
    "duration": 121,
    "start_time": "2022-08-29T18:12:10.486Z"
   },
   {
    "duration": 111,
    "start_time": "2022-08-29T18:12:15.071Z"
   },
   {
    "duration": 134,
    "start_time": "2022-08-29T18:12:29.928Z"
   },
   {
    "duration": 118,
    "start_time": "2022-08-29T18:12:36.330Z"
   },
   {
    "duration": 105,
    "start_time": "2022-08-29T18:12:50.402Z"
   },
   {
    "duration": 16,
    "start_time": "2022-08-29T18:12:58.457Z"
   },
   {
    "duration": 11,
    "start_time": "2022-08-29T18:13:56.885Z"
   },
   {
    "duration": 51,
    "start_time": "2022-08-29T18:14:06.189Z"
   },
   {
    "duration": 3,
    "start_time": "2022-08-29T18:14:34.436Z"
   },
   {
    "duration": 17,
    "start_time": "2022-08-29T18:14:39.548Z"
   },
   {
    "duration": 88,
    "start_time": "2022-08-29T18:14:52.561Z"
   },
   {
    "duration": 16,
    "start_time": "2022-08-29T18:15:07.877Z"
   },
   {
    "duration": 3907,
    "start_time": "2022-08-29T18:15:10.802Z"
   },
   {
    "duration": 78,
    "start_time": "2022-08-29T18:15:57.924Z"
   },
   {
    "duration": 3,
    "start_time": "2022-08-29T18:16:02.881Z"
   },
   {
    "duration": 459,
    "start_time": "2022-08-29T18:16:03.562Z"
   },
   {
    "duration": 7866,
    "start_time": "2022-08-29T18:16:27.604Z"
   },
   {
    "duration": 3,
    "start_time": "2022-08-29T18:17:38.074Z"
   },
   {
    "duration": 3,
    "start_time": "2022-08-29T18:17:51.490Z"
   },
   {
    "duration": 380,
    "start_time": "2022-08-29T18:18:10.375Z"
   },
   {
    "duration": 396,
    "start_time": "2022-08-29T18:30:50.439Z"
   },
   {
    "duration": 3,
    "start_time": "2022-08-29T18:31:07.911Z"
   },
   {
    "duration": 737,
    "start_time": "2022-08-29T18:31:08.854Z"
   },
   {
    "duration": 4,
    "start_time": "2022-08-29T18:31:25.465Z"
   },
   {
    "duration": 4,
    "start_time": "2022-08-29T18:31:34.259Z"
   },
   {
    "duration": 3,
    "start_time": "2022-08-29T18:33:00.083Z"
   },
   {
    "duration": 407,
    "start_time": "2022-08-29T18:33:03.007Z"
   },
   {
    "duration": 402,
    "start_time": "2022-08-29T19:22:42.261Z"
   },
   {
    "duration": 276,
    "start_time": "2022-08-29T19:22:52.518Z"
   },
   {
    "duration": 60,
    "start_time": "2022-08-29T19:22:59.228Z"
   },
   {
    "duration": 13,
    "start_time": "2022-08-29T19:24:07.691Z"
   },
   {
    "duration": 623,
    "start_time": "2022-08-29T19:24:45.901Z"
   },
   {
    "duration": 12,
    "start_time": "2022-08-29T19:24:50.944Z"
   },
   {
    "duration": 82,
    "start_time": "2022-08-29T19:24:56.497Z"
   },
   {
    "duration": 3,
    "start_time": "2022-08-29T19:25:29.317Z"
   },
   {
    "duration": 19,
    "start_time": "2022-08-29T19:25:40.812Z"
   },
   {
    "duration": 17,
    "start_time": "2022-08-29T19:25:56.265Z"
   },
   {
    "duration": 33,
    "start_time": "2022-08-29T19:25:57.297Z"
   },
   {
    "duration": 19,
    "start_time": "2022-08-29T19:26:32.326Z"
   },
   {
    "duration": 9,
    "start_time": "2022-08-29T19:26:47.563Z"
   },
   {
    "duration": 9,
    "start_time": "2022-08-29T19:26:50.858Z"
   },
   {
    "duration": 35,
    "start_time": "2022-08-29T19:26:56.394Z"
   },
   {
    "duration": 10,
    "start_time": "2022-08-29T19:27:41.136Z"
   },
   {
    "duration": 11,
    "start_time": "2022-08-29T19:28:00.954Z"
   },
   {
    "duration": 10,
    "start_time": "2022-08-29T19:28:14.316Z"
   },
   {
    "duration": 12,
    "start_time": "2022-08-29T19:29:25.613Z"
   },
   {
    "duration": 3,
    "start_time": "2022-08-29T19:29:55.638Z"
   },
   {
    "duration": 4,
    "start_time": "2022-08-29T19:30:26.269Z"
   },
   {
    "duration": 4,
    "start_time": "2022-08-29T19:30:33.339Z"
   },
   {
    "duration": 3,
    "start_time": "2022-08-29T19:30:38.455Z"
   },
   {
    "duration": 3,
    "start_time": "2022-08-29T19:30:41.254Z"
   },
   {
    "duration": 9,
    "start_time": "2022-08-29T19:30:53.588Z"
   },
   {
    "duration": 3,
    "start_time": "2022-08-29T19:36:21.488Z"
   },
   {
    "duration": 14,
    "start_time": "2022-08-29T19:36:25.511Z"
   },
   {
    "duration": 19,
    "start_time": "2022-08-29T19:36:43.901Z"
   },
   {
    "duration": 99,
    "start_time": "2022-08-29T19:36:47.749Z"
   },
   {
    "duration": 20,
    "start_time": "2022-08-29T19:36:51.701Z"
   },
   {
    "duration": 14,
    "start_time": "2022-08-29T19:36:56.670Z"
   },
   {
    "duration": 2,
    "start_time": "2022-08-29T19:37:09.925Z"
   },
   {
    "duration": 15,
    "start_time": "2022-08-29T19:37:10.407Z"
   },
   {
    "duration": 8,
    "start_time": "2022-08-29T19:37:45.762Z"
   },
   {
    "duration": 15,
    "start_time": "2022-08-29T19:38:42.829Z"
   },
   {
    "duration": 59,
    "start_time": "2022-08-29T19:40:02.518Z"
   },
   {
    "duration": 423,
    "start_time": "2022-08-29T19:57:45.345Z"
   },
   {
    "duration": 414,
    "start_time": "2022-08-29T19:57:55.241Z"
   },
   {
    "duration": 13,
    "start_time": "2022-08-29T20:02:00.352Z"
   },
   {
    "duration": 423,
    "start_time": "2022-08-29T20:02:14.153Z"
   },
   {
    "duration": 424,
    "start_time": "2022-08-29T20:02:20.951Z"
   },
   {
    "duration": 15,
    "start_time": "2022-08-29T20:04:38.112Z"
   },
   {
    "duration": 15,
    "start_time": "2022-08-29T20:05:09.366Z"
   },
   {
    "duration": 20,
    "start_time": "2022-08-29T20:05:29.784Z"
   },
   {
    "duration": 28,
    "start_time": "2022-08-29T20:05:43.676Z"
   },
   {
    "duration": 27,
    "start_time": "2022-08-29T20:06:06.964Z"
   },
   {
    "duration": 3,
    "start_time": "2022-08-29T20:08:58.541Z"
   },
   {
    "duration": 359,
    "start_time": "2022-08-29T20:09:03.504Z"
   },
   {
    "duration": 4,
    "start_time": "2022-08-29T20:09:15.472Z"
   },
   {
    "duration": 13,
    "start_time": "2022-08-29T20:09:28.872Z"
   },
   {
    "duration": 10,
    "start_time": "2022-08-29T20:11:37.750Z"
   },
   {
    "duration": 29,
    "start_time": "2022-08-29T20:12:36.652Z"
   },
   {
    "duration": 12,
    "start_time": "2022-08-29T20:12:38.291Z"
   },
   {
    "duration": 2,
    "start_time": "2022-08-29T20:12:53.467Z"
   },
   {
    "duration": 15,
    "start_time": "2022-08-29T20:12:54.467Z"
   },
   {
    "duration": 328766,
    "start_time": "2022-08-29T20:15:32.248Z"
   },
   {
    "duration": 2,
    "start_time": "2022-08-29T20:21:59.607Z"
   },
   {
    "duration": 319090,
    "start_time": "2022-08-29T20:22:29.096Z"
   },
   {
    "duration": 3,
    "start_time": "2022-08-29T20:28:02.426Z"
   },
   {
    "duration": 27,
    "start_time": "2022-08-29T20:28:08.573Z"
   },
   {
    "duration": 28,
    "start_time": "2022-08-29T20:28:32.621Z"
   },
   {
    "duration": 30,
    "start_time": "2022-08-29T20:28:40.907Z"
   },
   {
    "duration": 119,
    "start_time": "2022-08-29T20:29:00.362Z"
   },
   {
    "duration": 119,
    "start_time": "2022-08-29T20:29:08.380Z"
   },
   {
    "duration": 2796,
    "start_time": "2022-08-31T07:48:21.373Z"
   },
   {
    "duration": 110,
    "start_time": "2022-08-31T07:48:30.038Z"
   },
   {
    "duration": 5,
    "start_time": "2022-08-31T07:48:32.656Z"
   },
   {
    "duration": 6,
    "start_time": "2022-08-31T07:48:33.333Z"
   },
   {
    "duration": 204,
    "start_time": "2022-08-31T07:48:35.462Z"
   },
   {
    "duration": 148,
    "start_time": "2022-08-31T07:48:37.572Z"
   },
   {
    "duration": 1268,
    "start_time": "2022-08-31T07:48:38.766Z"
   },
   {
    "duration": 144,
    "start_time": "2022-08-31T07:48:45.228Z"
   },
   {
    "duration": 137,
    "start_time": "2022-08-31T07:48:48.493Z"
   },
   {
    "duration": 11,
    "start_time": "2022-08-31T07:48:50.498Z"
   },
   {
    "duration": 74,
    "start_time": "2022-08-31T07:48:52.486Z"
   },
   {
    "duration": 112,
    "start_time": "2022-08-31T07:48:58.407Z"
   },
   {
    "duration": 4,
    "start_time": "2022-08-31T07:49:01.149Z"
   },
   {
    "duration": 19,
    "start_time": "2022-08-31T07:49:32.498Z"
   },
   {
    "duration": 129,
    "start_time": "2022-08-31T07:49:45.047Z"
   },
   {
    "duration": 136,
    "start_time": "2022-08-31T07:49:46.418Z"
   },
   {
    "duration": 121,
    "start_time": "2022-08-31T07:49:48.130Z"
   },
   {
    "duration": 13,
    "start_time": "2022-08-31T07:49:50.405Z"
   },
   {
    "duration": 53,
    "start_time": "2022-08-31T07:49:51.025Z"
   },
   {
    "duration": 3,
    "start_time": "2022-08-31T07:49:52.831Z"
   },
   {
    "duration": 16,
    "start_time": "2022-08-31T07:49:56.889Z"
   },
   {
    "duration": 4,
    "start_time": "2022-08-31T07:49:57.924Z"
   },
   {
    "duration": 108,
    "start_time": "2022-08-31T07:50:02.315Z"
   },
   {
    "duration": 3,
    "start_time": "2022-08-31T07:50:18.839Z"
   },
   {
    "duration": 380609,
    "start_time": "2022-08-31T07:50:21.153Z"
   },
   {
    "duration": 69,
    "start_time": "2022-08-31T07:57:41.940Z"
   },
   {
    "duration": 55,
    "start_time": "2022-08-31T07:57:56.314Z"
   },
   {
    "duration": 70,
    "start_time": "2022-08-31T07:58:06.419Z"
   },
   {
    "duration": 17,
    "start_time": "2022-08-31T07:59:35.904Z"
   },
   {
    "duration": 137,
    "start_time": "2022-08-31T08:01:36.860Z"
   },
   {
    "duration": 133,
    "start_time": "2022-08-31T08:01:54.874Z"
   },
   {
    "duration": 4,
    "start_time": "2022-08-31T08:02:04.648Z"
   },
   {
    "duration": 9,
    "start_time": "2022-08-31T08:02:15.354Z"
   },
   {
    "duration": 5,
    "start_time": "2022-08-31T08:18:48.837Z"
   },
   {
    "duration": 7,
    "start_time": "2022-08-31T08:19:14.104Z"
   },
   {
    "duration": 55,
    "start_time": "2022-08-31T08:22:23.285Z"
   },
   {
    "duration": 86,
    "start_time": "2022-08-31T08:22:33.653Z"
   },
   {
    "duration": 10,
    "start_time": "2022-08-31T08:30:25.433Z"
   },
   {
    "duration": 18,
    "start_time": "2022-08-31T08:30:51.319Z"
   },
   {
    "duration": 107,
    "start_time": "2022-08-31T08:33:15.666Z"
   },
   {
    "duration": 17,
    "start_time": "2022-08-31T08:33:40.485Z"
   },
   {
    "duration": 45,
    "start_time": "2022-08-31T08:33:44.607Z"
   },
   {
    "duration": 102,
    "start_time": "2022-08-31T08:34:00.823Z"
   },
   {
    "duration": 22,
    "start_time": "2022-08-31T08:34:01.948Z"
   },
   {
    "duration": 28,
    "start_time": "2022-08-31T08:34:08.278Z"
   },
   {
    "duration": 4,
    "start_time": "2022-08-31T08:45:15.279Z"
   },
   {
    "duration": 7,
    "start_time": "2022-08-31T08:45:17.222Z"
   },
   {
    "duration": 2095,
    "start_time": "2022-08-31T08:45:19.691Z"
   },
   {
    "duration": 6441,
    "start_time": "2022-08-31T08:46:10.144Z"
   },
   {
    "duration": 4,
    "start_time": "2022-08-31T08:46:20.547Z"
   },
   {
    "duration": 521,
    "start_time": "2022-08-31T08:46:22.073Z"
   },
   {
    "duration": 14,
    "start_time": "2022-08-31T08:46:33.038Z"
   },
   {
    "duration": 5,
    "start_time": "2022-08-31T08:47:48.246Z"
   },
   {
    "duration": 4,
    "start_time": "2022-08-31T08:47:52.083Z"
   },
   {
    "duration": 4,
    "start_time": "2022-08-31T08:47:57.219Z"
   },
   {
    "duration": 4,
    "start_time": "2022-08-31T08:48:03.555Z"
   },
   {
    "duration": 3,
    "start_time": "2022-08-31T08:48:28.615Z"
   },
   {
    "duration": 4041,
    "start_time": "2022-08-31T08:48:35.550Z"
   },
   {
    "duration": 437,
    "start_time": "2022-08-31T08:49:06.549Z"
   },
   {
    "duration": 10,
    "start_time": "2022-08-31T08:49:15.468Z"
   },
   {
    "duration": 4,
    "start_time": "2022-08-31T08:49:40.355Z"
   },
   {
    "duration": 3,
    "start_time": "2022-08-31T08:49:44.053Z"
   },
   {
    "duration": 11224,
    "start_time": "2022-08-31T08:50:41.580Z"
   },
   {
    "duration": 627,
    "start_time": "2022-08-31T08:50:57.280Z"
   },
   {
    "duration": 4165,
    "start_time": "2022-08-31T08:51:02.729Z"
   },
   {
    "duration": 467,
    "start_time": "2022-08-31T08:51:09.331Z"
   },
   {
    "duration": 3949,
    "start_time": "2022-08-31T08:51:17.139Z"
   },
   {
    "duration": 461,
    "start_time": "2022-08-31T08:51:24.029Z"
   },
   {
    "duration": 4719,
    "start_time": "2022-08-31T08:51:30.372Z"
   },
   {
    "duration": 530,
    "start_time": "2022-08-31T08:51:36.956Z"
   },
   {
    "duration": 4306,
    "start_time": "2022-08-31T08:51:46.882Z"
   },
   {
    "duration": 596,
    "start_time": "2022-08-31T08:51:51.190Z"
   },
   {
    "duration": 2645,
    "start_time": "2022-08-31T08:51:59.443Z"
   },
   {
    "duration": 330,
    "start_time": "2022-08-31T08:52:03.765Z"
   },
   {
    "duration": 6177,
    "start_time": "2022-08-31T08:52:09.818Z"
   },
   {
    "duration": 651,
    "start_time": "2022-08-31T08:52:17.659Z"
   },
   {
    "duration": 3,
    "start_time": "2022-08-31T08:52:40.038Z"
   },
   {
    "duration": 9687,
    "start_time": "2022-08-31T09:00:16.753Z"
   },
   {
    "duration": 427,
    "start_time": "2022-08-31T09:00:31.886Z"
   },
   {
    "duration": 79,
    "start_time": "2022-08-31T09:00:48.460Z"
   },
   {
    "duration": 8439,
    "start_time": "2022-08-31T09:00:59.115Z"
   },
   {
    "duration": 87,
    "start_time": "2022-08-31T09:01:08.489Z"
   },
   {
    "duration": 8512,
    "start_time": "2022-08-31T09:01:19.236Z"
   },
   {
    "duration": 87,
    "start_time": "2022-08-31T09:01:28.942Z"
   },
   {
    "duration": 8309,
    "start_time": "2022-08-31T09:01:35.337Z"
   },
   {
    "duration": 93,
    "start_time": "2022-08-31T09:01:46.095Z"
   },
   {
    "duration": 8309,
    "start_time": "2022-08-31T09:01:50.867Z"
   },
   {
    "duration": 83,
    "start_time": "2022-08-31T09:02:00.553Z"
   },
   {
    "duration": 8270,
    "start_time": "2022-08-31T09:02:13.897Z"
   },
   {
    "duration": 84,
    "start_time": "2022-08-31T09:02:25.025Z"
   },
   {
    "duration": 8027,
    "start_time": "2022-08-31T09:02:43.715Z"
   },
   {
    "duration": 86,
    "start_time": "2022-08-31T09:02:54.632Z"
   },
   {
    "duration": 8584,
    "start_time": "2022-08-31T09:03:01.097Z"
   },
   {
    "duration": 87,
    "start_time": "2022-08-31T09:03:11.232Z"
   },
   {
    "duration": 8483,
    "start_time": "2022-08-31T09:03:17.413Z"
   },
   {
    "duration": 82,
    "start_time": "2022-08-31T09:03:28.870Z"
   },
   {
    "duration": 11,
    "start_time": "2022-08-31T09:04:25.793Z"
   },
   {
    "duration": 104,
    "start_time": "2022-08-31T09:09:19.975Z"
   },
   {
    "duration": 4,
    "start_time": "2022-08-31T09:10:59.823Z"
   },
   {
    "duration": 73,
    "start_time": "2022-08-31T09:11:26.322Z"
   },
   {
    "duration": 3,
    "start_time": "2022-08-31T09:13:24.910Z"
   },
   {
    "duration": 203,
    "start_time": "2022-08-31T09:13:37.651Z"
   },
   {
    "duration": 90,
    "start_time": "2022-08-31T09:15:42.014Z"
   },
   {
    "duration": 3,
    "start_time": "2022-08-31T09:15:49.684Z"
   },
   {
    "duration": 4,
    "start_time": "2022-08-31T09:15:55.881Z"
   },
   {
    "duration": 4,
    "start_time": "2022-08-31T09:16:03.584Z"
   },
   {
    "duration": 4,
    "start_time": "2022-08-31T09:16:12.243Z"
   },
   {
    "duration": 2575,
    "start_time": "2022-08-31T12:25:45.371Z"
   },
   {
    "duration": 170,
    "start_time": "2022-08-31T12:25:56.042Z"
   },
   {
    "duration": 21,
    "start_time": "2022-08-31T12:25:57.570Z"
   },
   {
    "duration": 5,
    "start_time": "2022-08-31T12:25:59.794Z"
   },
   {
    "duration": 5,
    "start_time": "2022-08-31T12:26:00.433Z"
   },
   {
    "duration": 203,
    "start_time": "2022-08-31T12:26:02.026Z"
   },
   {
    "duration": 88,
    "start_time": "2022-08-31T12:26:06.532Z"
   },
   {
    "duration": 1067,
    "start_time": "2022-08-31T12:26:08.475Z"
   },
   {
    "duration": 565,
    "start_time": "2022-08-31T12:26:23.163Z"
   },
   {
    "duration": 151,
    "start_time": "2022-08-31T12:26:27.239Z"
   },
   {
    "duration": 138,
    "start_time": "2022-08-31T12:26:29.627Z"
   },
   {
    "duration": 10,
    "start_time": "2022-08-31T12:26:31.237Z"
   },
   {
    "duration": 53,
    "start_time": "2022-08-31T12:26:33.587Z"
   },
   {
    "duration": 120,
    "start_time": "2022-08-31T12:26:36.867Z"
   },
   {
    "duration": 3,
    "start_time": "2022-08-31T12:26:44.341Z"
   },
   {
    "duration": 148,
    "start_time": "2022-08-31T12:27:41.948Z"
   },
   {
    "duration": 115,
    "start_time": "2022-08-31T12:29:15.198Z"
   },
   {
    "duration": 3,
    "start_time": "2022-08-31T12:29:20.584Z"
   },
   {
    "duration": 127,
    "start_time": "2022-08-31T12:29:24.759Z"
   },
   {
    "duration": 138,
    "start_time": "2022-08-31T12:29:25.872Z"
   },
   {
    "duration": 180,
    "start_time": "2022-08-31T12:32:17.514Z"
   },
   {
    "duration": 82,
    "start_time": "2022-08-31T12:32:20.422Z"
   },
   {
    "duration": 9,
    "start_time": "2022-08-31T12:32:21.198Z"
   },
   {
    "duration": 55,
    "start_time": "2022-08-31T12:32:23.452Z"
   },
   {
    "duration": 102,
    "start_time": "2022-08-31T12:32:25.928Z"
   },
   {
    "duration": 3,
    "start_time": "2022-08-31T12:32:27.919Z"
   },
   {
    "duration": 125,
    "start_time": "2022-08-31T12:32:31.606Z"
   },
   {
    "duration": 138,
    "start_time": "2022-08-31T12:32:32.619Z"
   },
   {
    "duration": 114,
    "start_time": "2022-08-31T12:34:49.775Z"
   },
   {
    "duration": 82,
    "start_time": "2022-08-31T12:34:51.184Z"
   },
   {
    "duration": 9,
    "start_time": "2022-08-31T12:34:52.654Z"
   },
   {
    "duration": 106,
    "start_time": "2022-08-31T12:35:04.141Z"
   },
   {
    "duration": 3,
    "start_time": "2022-08-31T12:35:09.552Z"
   },
   {
    "duration": 16,
    "start_time": "2022-08-31T12:36:17.042Z"
   },
   {
    "duration": 131,
    "start_time": "2022-08-31T12:36:52.238Z"
   },
   {
    "duration": 17,
    "start_time": "2022-08-31T12:37:03.230Z"
   },
   {
    "duration": 17,
    "start_time": "2022-08-31T12:37:23.471Z"
   },
   {
    "duration": 143,
    "start_time": "2022-08-31T12:37:44.434Z"
   },
   {
    "duration": 17,
    "start_time": "2022-08-31T12:37:56.643Z"
   },
   {
    "duration": 114,
    "start_time": "2022-08-31T12:38:08.316Z"
   },
   {
    "duration": 95,
    "start_time": "2022-08-31T12:38:12.731Z"
   },
   {
    "duration": 132,
    "start_time": "2022-08-31T12:38:16.867Z"
   },
   {
    "duration": 15,
    "start_time": "2022-08-31T12:38:19.989Z"
   },
   {
    "duration": 132,
    "start_time": "2022-08-31T12:38:24.600Z"
   },
   {
    "duration": 17,
    "start_time": "2022-08-31T12:38:28.875Z"
   },
   {
    "duration": 127,
    "start_time": "2022-08-31T12:39:26.839Z"
   },
   {
    "duration": 118,
    "start_time": "2022-08-31T12:39:28.704Z"
   },
   {
    "duration": 17,
    "start_time": "2022-08-31T12:39:31.651Z"
   },
   {
    "duration": 11,
    "start_time": "2022-08-31T12:40:28.147Z"
   },
   {
    "duration": 88,
    "start_time": "2022-08-31T12:40:28.694Z"
   },
   {
    "duration": 2,
    "start_time": "2022-08-31T12:40:32.901Z"
   },
   {
    "duration": 17,
    "start_time": "2022-08-31T12:40:44.427Z"
   },
   {
    "duration": 4,
    "start_time": "2022-08-31T12:40:45.996Z"
   },
   {
    "duration": 2,
    "start_time": "2022-08-31T12:40:48.769Z"
   },
   {
    "duration": 353482,
    "start_time": "2022-08-31T12:41:01.685Z"
   },
   {
    "duration": 120,
    "start_time": "2022-08-31T12:48:54.816Z"
   },
   {
    "duration": 4,
    "start_time": "2022-08-31T12:48:58.922Z"
   },
   {
    "duration": 6,
    "start_time": "2022-08-31T12:48:59.756Z"
   },
   {
    "duration": 4752,
    "start_time": "2022-08-31T12:49:00.753Z"
   },
   {
    "duration": 136,
    "start_time": "2022-08-31T12:53:03.526Z"
   },
   {
    "duration": 3,
    "start_time": "2022-08-31T12:53:09.660Z"
   },
   {
    "duration": 4,
    "start_time": "2022-08-31T12:53:16.342Z"
   },
   {
    "duration": 511,
    "start_time": "2022-08-31T12:53:17.602Z"
   },
   {
    "duration": 2,
    "start_time": "2022-08-31T12:53:20.298Z"
   },
   {
    "duration": 7901,
    "start_time": "2022-08-31T12:53:25.998Z"
   },
   {
    "duration": 93,
    "start_time": "2022-08-31T12:53:37.949Z"
   },
   {
    "duration": 2,
    "start_time": "2022-08-31T12:53:41.118Z"
   },
   {
    "duration": 9,
    "start_time": "2022-08-31T12:53:43.645Z"
   },
   {
    "duration": 3,
    "start_time": "2022-08-31T12:54:37.352Z"
   },
   {
    "duration": 3,
    "start_time": "2022-08-31T12:54:45.455Z"
   },
   {
    "duration": 2,
    "start_time": "2022-08-31T12:54:49.164Z"
   },
   {
    "duration": 9316,
    "start_time": "2022-08-31T12:55:12.949Z"
   },
   {
    "duration": 85,
    "start_time": "2022-08-31T12:55:23.704Z"
   },
   {
    "duration": 3,
    "start_time": "2022-08-31T12:55:26.647Z"
   },
   {
    "duration": 8,
    "start_time": "2022-08-31T12:55:28.740Z"
   },
   {
    "duration": 173,
    "start_time": "2022-08-31T12:57:19.710Z"
   },
   {
    "duration": 194,
    "start_time": "2022-08-31T12:57:36.080Z"
   },
   {
    "duration": 233,
    "start_time": "2022-08-31T12:57:44.383Z"
   },
   {
    "duration": 252,
    "start_time": "2022-08-31T12:57:58.832Z"
   },
   {
    "duration": 173,
    "start_time": "2022-08-31T12:58:03.742Z"
   },
   {
    "duration": 9,
    "start_time": "2022-08-31T12:58:21.618Z"
   },
   {
    "duration": 9,
    "start_time": "2022-08-31T12:58:38.088Z"
   },
   {
    "duration": 7,
    "start_time": "2022-08-31T13:00:45.641Z"
   },
   {
    "duration": 5,
    "start_time": "2022-08-31T13:01:04.814Z"
   },
   {
    "duration": 12,
    "start_time": "2022-08-31T13:01:43.563Z"
   },
   {
    "duration": 5,
    "start_time": "2022-08-31T13:05:11.860Z"
   },
   {
    "duration": 171,
    "start_time": "2022-08-31T13:05:13.257Z"
   },
   {
    "duration": 172,
    "start_time": "2022-08-31T13:08:40.364Z"
   },
   {
    "duration": 149,
    "start_time": "2022-08-31T13:09:39.382Z"
   },
   {
    "duration": 191,
    "start_time": "2022-08-31T13:10:14.134Z"
   },
   {
    "duration": 14,
    "start_time": "2022-08-31T13:16:21.760Z"
   },
   {
    "duration": 11,
    "start_time": "2022-08-31T13:16:34.800Z"
   },
   {
    "duration": 11,
    "start_time": "2022-08-31T13:16:43.561Z"
   },
   {
    "duration": 3,
    "start_time": "2022-08-31T13:20:07.216Z"
   },
   {
    "duration": 36,
    "start_time": "2022-08-31T13:20:33.367Z"
   },
   {
    "duration": 136,
    "start_time": "2022-08-31T13:20:41.375Z"
   },
   {
    "duration": 7,
    "start_time": "2022-08-31T13:20:45.939Z"
   },
   {
    "duration": 12092,
    "start_time": "2022-08-31T13:24:30.216Z"
   },
   {
    "duration": 5,
    "start_time": "2022-08-31T13:25:33.080Z"
   },
   {
    "duration": 13587,
    "start_time": "2022-08-31T13:26:50.912Z"
   },
   {
    "duration": 6,
    "start_time": "2022-08-31T13:27:07.609Z"
   },
   {
    "duration": 5,
    "start_time": "2022-08-31T13:32:57.231Z"
   },
   {
    "duration": 16,
    "start_time": "2022-08-31T13:40:16.989Z"
   },
   {
    "duration": 4270,
    "start_time": "2022-08-31T13:40:44.338Z"
   },
   {
    "duration": 453,
    "start_time": "2022-08-31T13:40:53.760Z"
   },
   {
    "duration": 8,
    "start_time": "2022-08-31T13:46:46.823Z"
   },
   {
    "duration": 13469,
    "start_time": "2022-08-31T13:46:59.635Z"
   },
   {
    "duration": 7,
    "start_time": "2022-08-31T13:47:14.249Z"
   },
   {
    "duration": 3,
    "start_time": "2022-08-31T13:47:16.214Z"
   },
   {
    "duration": 12,
    "start_time": "2022-08-31T13:47:17.617Z"
   },
   {
    "duration": 7,
    "start_time": "2022-08-31T13:49:04.392Z"
   },
   {
    "duration": 2,
    "start_time": "2022-08-31T13:49:06.942Z"
   },
   {
    "duration": 12,
    "start_time": "2022-08-31T13:49:08.197Z"
   },
   {
    "duration": 3,
    "start_time": "2022-08-31T13:49:18.754Z"
   },
   {
    "duration": 14,
    "start_time": "2022-08-31T13:49:20.316Z"
   },
   {
    "duration": 2,
    "start_time": "2022-08-31T13:49:31.222Z"
   },
   {
    "duration": 11,
    "start_time": "2022-08-31T13:49:34.042Z"
   },
   {
    "duration": 356139,
    "start_time": "2022-08-31T13:49:45.877Z"
   },
   {
    "duration": 135,
    "start_time": "2022-08-31T13:55:51.292Z"
   },
   {
    "duration": 3,
    "start_time": "2022-08-31T13:55:52.554Z"
   },
   {
    "duration": 5,
    "start_time": "2022-08-31T13:55:54.514Z"
   },
   {
    "duration": 6,
    "start_time": "2022-08-31T13:55:55.735Z"
   },
   {
    "duration": 5144,
    "start_time": "2022-08-31T13:55:56.261Z"
   },
   {
    "duration": 4,
    "start_time": "2022-08-31T13:56:03.451Z"
   },
   {
    "duration": 523,
    "start_time": "2022-08-31T13:56:04.591Z"
   },
   {
    "duration": 3,
    "start_time": "2022-08-31T13:56:14.179Z"
   },
   {
    "duration": 7795,
    "start_time": "2022-08-31T13:56:15.858Z"
   },
   {
    "duration": 92,
    "start_time": "2022-08-31T13:56:25.128Z"
   },
   {
    "duration": 2,
    "start_time": "2022-08-31T13:56:26.545Z"
   },
   {
    "duration": 21120,
    "start_time": "2022-08-31T13:56:28.082Z"
   },
   {
    "duration": 12,
    "start_time": "2022-08-31T13:56:50.827Z"
   },
   {
    "duration": 3,
    "start_time": "2022-08-31T13:56:52.306Z"
   },
   {
    "duration": 12,
    "start_time": "2022-08-31T13:56:54.104Z"
   },
   {
    "duration": 4,
    "start_time": "2022-08-31T13:57:16.348Z"
   },
   {
    "duration": 4,
    "start_time": "2022-08-31T13:57:21.846Z"
   },
   {
    "duration": 4,
    "start_time": "2022-08-31T13:57:26.814Z"
   },
   {
    "duration": 6,
    "start_time": "2022-08-31T13:57:34.380Z"
   },
   {
    "duration": 4,
    "start_time": "2022-08-31T13:57:45.441Z"
   },
   {
    "duration": 8,
    "start_time": "2022-08-31T13:57:56.337Z"
   },
   {
    "duration": 9,
    "start_time": "2022-08-31T13:58:00.531Z"
   },
   {
    "duration": 5,
    "start_time": "2022-08-31T13:59:14.590Z"
   },
   {
    "duration": 4,
    "start_time": "2022-08-31T13:59:21.241Z"
   },
   {
    "duration": 4,
    "start_time": "2022-08-31T14:00:08.031Z"
   },
   {
    "duration": 3,
    "start_time": "2022-08-31T14:00:08.945Z"
   },
   {
    "duration": 9,
    "start_time": "2022-08-31T14:00:25.974Z"
   },
   {
    "duration": 2,
    "start_time": "2022-08-31T14:01:17.753Z"
   },
   {
    "duration": 3,
    "start_time": "2022-08-31T14:01:21.531Z"
   },
   {
    "duration": 4,
    "start_time": "2022-08-31T14:01:24.643Z"
   },
   {
    "duration": 3,
    "start_time": "2022-08-31T14:01:26.664Z"
   },
   {
    "duration": 3,
    "start_time": "2022-08-31T14:01:28.360Z"
   },
   {
    "duration": 4,
    "start_time": "2022-08-31T14:01:29.167Z"
   },
   {
    "duration": 2,
    "start_time": "2022-08-31T14:01:32.901Z"
   },
   {
    "duration": 11,
    "start_time": "2022-08-31T14:01:35.726Z"
   },
   {
    "duration": 6,
    "start_time": "2022-08-31T14:01:56.893Z"
   },
   {
    "duration": 11,
    "start_time": "2022-08-31T14:02:05.069Z"
   },
   {
    "duration": 13,
    "start_time": "2022-08-31T14:02:21.948Z"
   },
   {
    "duration": 44,
    "start_time": "2022-08-31T14:04:21.637Z"
   },
   {
    "duration": 15,
    "start_time": "2022-08-31T14:04:34.263Z"
   },
   {
    "duration": 10,
    "start_time": "2022-08-31T14:05:51.145Z"
   },
   {
    "duration": 10,
    "start_time": "2022-08-31T14:06:29.334Z"
   },
   {
    "duration": 11,
    "start_time": "2022-08-31T14:06:44.068Z"
   },
   {
    "duration": 11,
    "start_time": "2022-08-31T14:07:17.780Z"
   },
   {
    "duration": 12,
    "start_time": "2022-08-31T14:08:18.542Z"
   },
   {
    "duration": 3,
    "start_time": "2022-08-31T14:57:29.790Z"
   },
   {
    "duration": 5,
    "start_time": "2022-08-31T14:58:19.919Z"
   },
   {
    "duration": 8,
    "start_time": "2022-08-31T16:17:54.945Z"
   },
   {
    "duration": 5,
    "start_time": "2022-08-31T16:18:00.493Z"
   },
   {
    "duration": 5,
    "start_time": "2022-08-31T17:21:52.479Z"
   },
   {
    "duration": 5,
    "start_time": "2022-08-31T17:21:58.756Z"
   },
   {
    "duration": 3,
    "start_time": "2022-08-31T17:42:26.474Z"
   },
   {
    "duration": 12,
    "start_time": "2022-08-31T17:43:33.627Z"
   },
   {
    "duration": 5,
    "start_time": "2022-08-31T17:44:16.741Z"
   },
   {
    "duration": 5,
    "start_time": "2022-08-31T17:44:34.714Z"
   },
   {
    "duration": 89,
    "start_time": "2022-08-31T18:00:10.877Z"
   },
   {
    "duration": 52,
    "start_time": "2022-08-31T18:00:24.514Z"
   },
   {
    "duration": 18,
    "start_time": "2022-08-31T18:00:44.217Z"
   },
   {
    "duration": 17,
    "start_time": "2022-08-31T18:00:48.858Z"
   },
   {
    "duration": 17,
    "start_time": "2022-08-31T18:01:34.239Z"
   },
   {
    "duration": 20,
    "start_time": "2022-08-31T18:02:03.196Z"
   },
   {
    "duration": 101,
    "start_time": "2022-08-31T18:03:16.000Z"
   },
   {
    "duration": 63,
    "start_time": "2022-08-31T18:03:30.736Z"
   },
   {
    "duration": 64,
    "start_time": "2022-08-31T18:05:22.921Z"
   },
   {
    "duration": 17,
    "start_time": "2022-08-31T18:08:13.034Z"
   },
   {
    "duration": 0,
    "start_time": "2022-08-31T18:10:19.204Z"
   },
   {
    "duration": 0,
    "start_time": "2022-08-31T18:11:02.204Z"
   },
   {
    "duration": 43663,
    "start_time": "2022-08-31T18:11:02.839Z"
   },
   {
    "duration": 25267,
    "start_time": "2022-08-31T18:11:48.631Z"
   },
   {
    "duration": 728,
    "start_time": "2022-08-31T18:23:40.808Z"
   },
   {
    "duration": 464,
    "start_time": "2022-08-31T18:39:04.623Z"
   },
   {
    "duration": 0,
    "start_time": "2022-08-31T18:56:36.911Z"
   },
   {
    "duration": 759,
    "start_time": "2022-08-31T18:56:38.858Z"
   },
   {
    "duration": 143,
    "start_time": "2022-08-31T18:56:43.918Z"
   },
   {
    "duration": 5,
    "start_time": "2022-08-31T18:56:46.575Z"
   },
   {
    "duration": 5,
    "start_time": "2022-08-31T18:56:47.045Z"
   },
   {
    "duration": 165,
    "start_time": "2022-08-31T18:56:51.910Z"
   },
   {
    "duration": 67,
    "start_time": "2022-08-31T18:56:53.347Z"
   },
   {
    "duration": 13,
    "start_time": "2022-08-31T18:56:54.679Z"
   },
   {
    "duration": 110,
    "start_time": "2022-08-31T18:56:57.583Z"
   },
   {
    "duration": 4,
    "start_time": "2022-08-31T18:56:59.212Z"
   },
   {
    "duration": 196,
    "start_time": "2022-08-31T18:57:00.725Z"
   },
   {
    "duration": 150,
    "start_time": "2022-08-31T18:57:01.418Z"
   },
   {
    "duration": 148,
    "start_time": "2022-08-31T18:57:01.970Z"
   },
   {
    "duration": 14,
    "start_time": "2022-08-31T18:57:04.221Z"
   },
   {
    "duration": 5,
    "start_time": "2022-08-31T18:57:06.295Z"
   },
   {
    "duration": 104,
    "start_time": "2022-08-31T18:57:07.551Z"
   },
   {
    "duration": 7,
    "start_time": "2022-08-31T18:57:08.291Z"
   },
   {
    "duration": 3,
    "start_time": "2022-08-31T18:57:09.779Z"
   },
   {
    "duration": 16,
    "start_time": "2022-08-31T18:57:11.178Z"
   },
   {
    "duration": 4,
    "start_time": "2022-08-31T18:57:11.816Z"
   },
   {
    "duration": 3,
    "start_time": "2022-08-31T18:57:13.249Z"
   },
   {
    "duration": 522,
    "start_time": "2022-08-31T18:57:14.537Z"
   },
   {
    "duration": 411425,
    "start_time": "2022-08-31T18:57:17.416Z"
   },
   {
    "duration": 173,
    "start_time": "2022-08-31T19:04:59.993Z"
   },
   {
    "duration": 3,
    "start_time": "2022-08-31T19:05:02.033Z"
   },
   {
    "duration": 5,
    "start_time": "2022-08-31T19:05:03.847Z"
   },
   {
    "duration": 8,
    "start_time": "2022-08-31T19:05:05.723Z"
   },
   {
    "duration": 912907,
    "start_time": "2022-08-31T19:05:08.919Z"
   },
   {
    "duration": 209435,
    "start_time": "2022-08-31T19:23:10.864Z"
   },
   {
    "duration": 4,
    "start_time": "2022-08-31T19:27:05.319Z"
   },
   {
    "duration": 525,
    "start_time": "2022-08-31T19:27:06.694Z"
   },
   {
    "duration": 7,
    "start_time": "2022-08-31T19:27:10.798Z"
   },
   {
    "duration": 8251,
    "start_time": "2022-08-31T19:27:12.990Z"
   },
   {
    "duration": 91,
    "start_time": "2022-08-31T19:27:23.187Z"
   },
   {
    "duration": 3,
    "start_time": "2022-08-31T19:27:24.550Z"
   },
   {
    "duration": 21252,
    "start_time": "2022-08-31T19:27:27.756Z"
   },
   {
    "duration": 7,
    "start_time": "2022-08-31T19:27:51.756Z"
   },
   {
    "duration": 3,
    "start_time": "2022-08-31T19:27:53.761Z"
   },
   {
    "duration": 12,
    "start_time": "2022-08-31T19:27:54.731Z"
   },
   {
    "duration": 183,
    "start_time": "2022-08-31T19:28:09.785Z"
   },
   {
    "duration": 145,
    "start_time": "2022-08-31T19:28:12.842Z"
   },
   {
    "duration": 7,
    "start_time": "2022-08-31T19:28:15.085Z"
   },
   {
    "duration": 22,
    "start_time": "2022-08-31T20:03:55.441Z"
   },
   {
    "duration": 51,
    "start_time": "2022-08-31T20:18:30.821Z"
   },
   {
    "duration": 16,
    "start_time": "2022-08-31T20:23:07.476Z"
   },
   {
    "duration": 70,
    "start_time": "2022-08-31T20:23:19.595Z"
   },
   {
    "duration": 2675,
    "start_time": "2022-09-01T06:12:47.570Z"
   },
   {
    "duration": 125,
    "start_time": "2022-09-01T06:12:50.247Z"
   },
   {
    "duration": 16,
    "start_time": "2022-09-01T06:12:50.373Z"
   },
   {
    "duration": 6,
    "start_time": "2022-09-01T06:12:50.391Z"
   },
   {
    "duration": 15,
    "start_time": "2022-09-01T06:12:50.399Z"
   },
   {
    "duration": 266,
    "start_time": "2022-09-01T06:12:50.415Z"
   },
   {
    "duration": 102,
    "start_time": "2022-09-01T06:12:50.683Z"
   },
   {
    "duration": 1347,
    "start_time": "2022-09-01T06:12:50.786Z"
   },
   {
    "duration": 641,
    "start_time": "2022-09-01T06:12:52.134Z"
   },
   {
    "duration": 45,
    "start_time": "2022-09-01T06:12:52.777Z"
   },
   {
    "duration": 0,
    "start_time": "2022-09-01T06:12:52.825Z"
   },
   {
    "duration": 0,
    "start_time": "2022-09-01T06:12:52.826Z"
   },
   {
    "duration": 0,
    "start_time": "2022-09-01T06:12:52.827Z"
   },
   {
    "duration": 0,
    "start_time": "2022-09-01T06:12:52.829Z"
   },
   {
    "duration": 0,
    "start_time": "2022-09-01T06:12:52.831Z"
   },
   {
    "duration": 0,
    "start_time": "2022-09-01T06:12:52.832Z"
   },
   {
    "duration": 0,
    "start_time": "2022-09-01T06:12:52.833Z"
   },
   {
    "duration": 0,
    "start_time": "2022-09-01T06:12:52.834Z"
   },
   {
    "duration": 0,
    "start_time": "2022-09-01T06:12:52.835Z"
   },
   {
    "duration": 0,
    "start_time": "2022-09-01T06:12:52.836Z"
   },
   {
    "duration": 0,
    "start_time": "2022-09-01T06:12:52.837Z"
   },
   {
    "duration": 0,
    "start_time": "2022-09-01T06:12:52.838Z"
   },
   {
    "duration": 0,
    "start_time": "2022-09-01T06:12:52.839Z"
   },
   {
    "duration": 0,
    "start_time": "2022-09-01T06:12:52.840Z"
   },
   {
    "duration": 0,
    "start_time": "2022-09-01T06:12:52.841Z"
   },
   {
    "duration": 0,
    "start_time": "2022-09-01T06:12:52.842Z"
   },
   {
    "duration": 0,
    "start_time": "2022-09-01T06:12:52.843Z"
   },
   {
    "duration": 0,
    "start_time": "2022-09-01T06:12:52.844Z"
   },
   {
    "duration": 0,
    "start_time": "2022-09-01T06:12:52.846Z"
   },
   {
    "duration": 0,
    "start_time": "2022-09-01T06:12:52.847Z"
   },
   {
    "duration": 0,
    "start_time": "2022-09-01T06:12:52.848Z"
   },
   {
    "duration": 0,
    "start_time": "2022-09-01T06:12:52.849Z"
   },
   {
    "duration": 0,
    "start_time": "2022-09-01T06:12:52.850Z"
   },
   {
    "duration": 0,
    "start_time": "2022-09-01T06:12:52.851Z"
   },
   {
    "duration": 0,
    "start_time": "2022-09-01T06:12:52.852Z"
   },
   {
    "duration": 0,
    "start_time": "2022-09-01T06:12:52.853Z"
   },
   {
    "duration": 0,
    "start_time": "2022-09-01T06:12:52.854Z"
   },
   {
    "duration": 0,
    "start_time": "2022-09-01T06:12:52.856Z"
   },
   {
    "duration": 0,
    "start_time": "2022-09-01T06:12:52.856Z"
   },
   {
    "duration": 0,
    "start_time": "2022-09-01T06:12:52.857Z"
   },
   {
    "duration": 0,
    "start_time": "2022-09-01T06:12:52.858Z"
   },
   {
    "duration": 0,
    "start_time": "2022-09-01T06:12:52.859Z"
   },
   {
    "duration": 0,
    "start_time": "2022-09-01T06:12:52.860Z"
   },
   {
    "duration": 0,
    "start_time": "2022-09-01T06:12:52.861Z"
   },
   {
    "duration": 0,
    "start_time": "2022-09-01T06:12:52.862Z"
   },
   {
    "duration": 0,
    "start_time": "2022-09-01T06:12:52.863Z"
   },
   {
    "duration": 0,
    "start_time": "2022-09-01T06:12:52.864Z"
   },
   {
    "duration": 0,
    "start_time": "2022-09-01T06:12:52.865Z"
   },
   {
    "duration": 0,
    "start_time": "2022-09-01T06:12:52.866Z"
   },
   {
    "duration": 2135,
    "start_time": "2022-09-01T06:13:10.879Z"
   },
   {
    "duration": 129,
    "start_time": "2022-09-01T06:13:13.016Z"
   },
   {
    "duration": 15,
    "start_time": "2022-09-01T06:13:13.147Z"
   },
   {
    "duration": 4,
    "start_time": "2022-09-01T06:13:13.164Z"
   },
   {
    "duration": 8,
    "start_time": "2022-09-01T06:13:13.170Z"
   },
   {
    "duration": 263,
    "start_time": "2022-09-01T06:13:13.179Z"
   },
   {
    "duration": 83,
    "start_time": "2022-09-01T06:13:13.444Z"
   },
   {
    "duration": 1188,
    "start_time": "2022-09-01T06:13:13.539Z"
   },
   {
    "duration": 603,
    "start_time": "2022-09-01T06:13:14.729Z"
   },
   {
    "duration": 245,
    "start_time": "2022-09-01T06:13:15.333Z"
   },
   {
    "duration": 194,
    "start_time": "2022-09-01T06:13:15.580Z"
   },
   {
    "duration": 125,
    "start_time": "2022-09-01T06:13:15.776Z"
   },
   {
    "duration": 127,
    "start_time": "2022-09-01T06:13:15.902Z"
   },
   {
    "duration": 10,
    "start_time": "2022-09-01T06:13:16.038Z"
   },
   {
    "duration": 60,
    "start_time": "2022-09-01T06:13:16.049Z"
   },
   {
    "duration": 121,
    "start_time": "2022-09-01T06:13:16.110Z"
   },
   {
    "duration": 6,
    "start_time": "2022-09-01T06:13:16.232Z"
   },
   {
    "duration": 140,
    "start_time": "2022-09-01T06:13:16.240Z"
   },
   {
    "duration": 137,
    "start_time": "2022-09-01T06:13:16.382Z"
   },
   {
    "duration": 123,
    "start_time": "2022-09-01T06:13:16.521Z"
   },
   {
    "duration": 11,
    "start_time": "2022-09-01T06:13:16.645Z"
   },
   {
    "duration": 3,
    "start_time": "2022-09-01T06:13:16.658Z"
   },
   {
    "duration": 50,
    "start_time": "2022-09-01T06:13:16.663Z"
   },
   {
    "duration": 5,
    "start_time": "2022-09-01T06:13:16.715Z"
   },
   {
    "duration": 2,
    "start_time": "2022-09-01T06:13:16.740Z"
   },
   {
    "duration": 20,
    "start_time": "2022-09-01T06:13:16.744Z"
   },
   {
    "duration": 7,
    "start_time": "2022-09-01T06:13:16.765Z"
   },
   {
    "duration": 6,
    "start_time": "2022-09-01T06:13:16.773Z"
   },
   {
    "duration": 416,
    "start_time": "2022-09-01T06:13:16.780Z"
   },
   {
    "duration": 367304,
    "start_time": "2022-09-01T06:13:17.198Z"
   },
   {
    "duration": 133,
    "start_time": "2022-09-01T06:19:24.504Z"
   },
   {
    "duration": 6,
    "start_time": "2022-09-01T06:19:24.645Z"
   },
   {
    "duration": 8,
    "start_time": "2022-09-01T06:19:24.653Z"
   },
   {
    "duration": 13,
    "start_time": "2022-09-01T06:19:24.662Z"
   },
   {
    "duration": 47475,
    "start_time": "2022-09-01T06:19:24.676Z"
   },
   {
    "duration": 5,
    "start_time": "2022-09-01T06:20:12.154Z"
   },
   {
    "duration": 602,
    "start_time": "2022-09-01T06:20:12.161Z"
   },
   {
    "duration": 3,
    "start_time": "2022-09-01T06:20:12.839Z"
   },
   {
    "duration": 8491,
    "start_time": "2022-09-01T06:20:12.846Z"
   },
   {
    "duration": 84,
    "start_time": "2022-09-01T06:20:21.349Z"
   },
   {
    "duration": 6,
    "start_time": "2022-09-01T06:20:21.436Z"
   },
   {
    "duration": 21716,
    "start_time": "2022-09-01T06:20:21.444Z"
   },
   {
    "duration": 99,
    "start_time": "2022-09-01T06:20:43.256Z"
   },
   {
    "duration": 85,
    "start_time": "2022-09-01T06:20:43.358Z"
   },
   {
    "duration": 152,
    "start_time": "2022-09-01T06:20:43.449Z"
   },
   {
    "duration": 201,
    "start_time": "2022-09-01T06:20:43.603Z"
   },
   {
    "duration": 166,
    "start_time": "2022-09-01T06:20:43.805Z"
   },
   {
    "duration": 6,
    "start_time": "2022-09-01T06:20:43.973Z"
   },
   {
    "duration": 12,
    "start_time": "2022-09-01T06:25:51.757Z"
   },
   {
    "duration": 3,
    "start_time": "2022-09-01T06:26:10.125Z"
   },
   {
    "duration": 4,
    "start_time": "2022-09-01T06:26:16.908Z"
   },
   {
    "duration": 6097,
    "start_time": "2022-09-01T06:26:30.045Z"
   },
   {
    "duration": 4596,
    "start_time": "2022-09-01T06:26:51.049Z"
   },
   {
    "duration": 2215,
    "start_time": "2022-09-01T06:27:07.510Z"
   },
   {
    "duration": 136,
    "start_time": "2022-09-01T06:27:13.576Z"
   },
   {
    "duration": 15,
    "start_time": "2022-09-01T06:27:15.125Z"
   },
   {
    "duration": 5,
    "start_time": "2022-09-01T06:27:16.525Z"
   },
   {
    "duration": 4,
    "start_time": "2022-09-01T06:27:17.024Z"
   },
   {
    "duration": 239,
    "start_time": "2022-09-01T06:27:18.150Z"
   },
   {
    "duration": 98,
    "start_time": "2022-09-01T06:27:19.660Z"
   },
   {
    "duration": 1212,
    "start_time": "2022-09-01T06:27:21.924Z"
   },
   {
    "duration": 601,
    "start_time": "2022-09-01T06:27:24.943Z"
   },
   {
    "duration": 249,
    "start_time": "2022-09-01T06:27:27.080Z"
   },
   {
    "duration": 199,
    "start_time": "2022-09-01T06:27:28.770Z"
   },
   {
    "duration": 123,
    "start_time": "2022-09-01T06:27:29.394Z"
   },
   {
    "duration": 133,
    "start_time": "2022-09-01T06:27:31.025Z"
   },
   {
    "duration": 11,
    "start_time": "2022-09-01T06:27:32.480Z"
   },
   {
    "duration": 57,
    "start_time": "2022-09-01T06:27:33.443Z"
   },
   {
    "duration": 118,
    "start_time": "2022-09-01T06:27:34.772Z"
   },
   {
    "duration": 3,
    "start_time": "2022-09-01T06:27:36.198Z"
   },
   {
    "duration": 134,
    "start_time": "2022-09-01T06:27:37.763Z"
   },
   {
    "duration": 167,
    "start_time": "2022-09-01T06:27:38.900Z"
   },
   {
    "duration": 121,
    "start_time": "2022-09-01T06:27:39.536Z"
   },
   {
    "duration": 12,
    "start_time": "2022-09-01T06:27:41.756Z"
   },
   {
    "duration": 4,
    "start_time": "2022-09-01T06:27:42.264Z"
   },
   {
    "duration": 49,
    "start_time": "2022-09-01T06:27:43.260Z"
   },
   {
    "duration": 4,
    "start_time": "2022-09-01T06:27:44.594Z"
   },
   {
    "duration": 3,
    "start_time": "2022-09-01T06:27:46.035Z"
   },
   {
    "duration": 15,
    "start_time": "2022-09-01T06:27:47.312Z"
   },
   {
    "duration": 4,
    "start_time": "2022-09-01T06:27:48.274Z"
   },
   {
    "duration": 3,
    "start_time": "2022-09-01T06:27:49.678Z"
   },
   {
    "duration": 377,
    "start_time": "2022-09-01T06:27:50.855Z"
   },
   {
    "duration": 352114,
    "start_time": "2022-09-01T06:27:52.664Z"
   },
   {
    "duration": 137,
    "start_time": "2022-09-01T06:35:01.729Z"
   },
   {
    "duration": 3,
    "start_time": "2022-09-01T06:35:02.880Z"
   },
   {
    "duration": 3,
    "start_time": "2022-09-01T06:35:04.675Z"
   },
   {
    "duration": 8,
    "start_time": "2022-09-01T06:35:06.142Z"
   },
   {
    "duration": 4638,
    "start_time": "2022-09-01T06:35:13.016Z"
   },
   {
    "duration": 5,
    "start_time": "2022-09-01T06:35:19.909Z"
   },
   {
    "duration": 572,
    "start_time": "2022-09-01T06:35:21.385Z"
   },
   {
    "duration": 3,
    "start_time": "2022-09-01T06:35:23.349Z"
   },
   {
    "duration": 7768,
    "start_time": "2022-09-01T06:35:24.774Z"
   },
   {
    "duration": 84,
    "start_time": "2022-09-01T06:35:34.930Z"
   },
   {
    "duration": 4,
    "start_time": "2022-09-01T06:35:36.768Z"
   },
   {
    "duration": 13692,
    "start_time": "2022-09-01T06:35:37.949Z"
   },
   {
    "duration": 12,
    "start_time": "2022-09-01T06:35:52.964Z"
   },
   {
    "duration": 3,
    "start_time": "2022-09-01T06:35:54.264Z"
   },
   {
    "duration": 51,
    "start_time": "2022-09-01T06:35:55.454Z"
   },
   {
    "duration": 207,
    "start_time": "2022-09-01T06:38:15.661Z"
   },
   {
    "duration": 150,
    "start_time": "2022-09-01T06:38:20.885Z"
   },
   {
    "duration": 2226,
    "start_time": "2022-09-01T06:49:17.212Z"
   },
   {
    "duration": 133,
    "start_time": "2022-09-01T06:49:21.060Z"
   },
   {
    "duration": 16,
    "start_time": "2022-09-01T06:49:22.557Z"
   },
   {
    "duration": 5,
    "start_time": "2022-09-01T06:49:24.360Z"
   },
   {
    "duration": 4,
    "start_time": "2022-09-01T06:49:24.960Z"
   },
   {
    "duration": 1198,
    "start_time": "2022-09-01T06:49:26.163Z"
   },
   {
    "duration": 93,
    "start_time": "2022-09-01T06:49:29.310Z"
   },
   {
    "duration": 581,
    "start_time": "2022-09-01T06:49:30.638Z"
   },
   {
    "duration": 252,
    "start_time": "2022-09-01T06:49:32.765Z"
   },
   {
    "duration": 173,
    "start_time": "2022-09-01T06:49:34.418Z"
   },
   {
    "duration": 125,
    "start_time": "2022-09-01T06:49:35.164Z"
   },
   {
    "duration": 131,
    "start_time": "2022-09-01T06:49:37.002Z"
   },
   {
    "duration": 10,
    "start_time": "2022-09-01T06:49:47.721Z"
   },
   {
    "duration": 55,
    "start_time": "2022-09-01T06:49:49.165Z"
   },
   {
    "duration": 113,
    "start_time": "2022-09-01T06:49:50.498Z"
   },
   {
    "duration": 3,
    "start_time": "2022-09-01T06:49:52.581Z"
   },
   {
    "duration": 138,
    "start_time": "2022-09-01T06:49:53.951Z"
   },
   {
    "duration": 141,
    "start_time": "2022-09-01T06:49:54.949Z"
   },
   {
    "duration": 120,
    "start_time": "2022-09-01T06:49:55.676Z"
   },
   {
    "duration": 14,
    "start_time": "2022-09-01T06:49:57.758Z"
   },
   {
    "duration": 4,
    "start_time": "2022-09-01T06:49:58.258Z"
   },
   {
    "duration": 49,
    "start_time": "2022-09-01T06:49:59.288Z"
   },
   {
    "duration": 5,
    "start_time": "2022-09-01T06:50:00.724Z"
   },
   {
    "duration": 2,
    "start_time": "2022-09-01T06:50:02.036Z"
   },
   {
    "duration": 15,
    "start_time": "2022-09-01T06:50:03.354Z"
   },
   {
    "duration": 3,
    "start_time": "2022-09-01T06:50:04.767Z"
   },
   {
    "duration": 3,
    "start_time": "2022-09-01T06:50:06.457Z"
   },
   {
    "duration": 387,
    "start_time": "2022-09-01T06:50:07.480Z"
   },
   {
    "duration": 356487,
    "start_time": "2022-09-01T06:50:09.352Z"
   },
   {
    "duration": 124,
    "start_time": "2022-09-01T06:56:19.733Z"
   },
   {
    "duration": 3,
    "start_time": "2022-09-01T06:56:20.886Z"
   },
   {
    "duration": 4,
    "start_time": "2022-09-01T06:56:22.524Z"
   },
   {
    "duration": 6,
    "start_time": "2022-09-01T06:56:24.164Z"
   },
   {
    "duration": 4345,
    "start_time": "2022-09-01T06:56:26.000Z"
   },
   {
    "duration": 4,
    "start_time": "2022-09-01T06:56:32.155Z"
   },
   {
    "duration": 575,
    "start_time": "2022-09-01T06:56:32.764Z"
   },
   {
    "duration": 3,
    "start_time": "2022-09-01T06:56:34.397Z"
   },
   {
    "duration": 7681,
    "start_time": "2022-09-01T06:56:36.109Z"
   },
   {
    "duration": 88,
    "start_time": "2022-09-01T06:56:46.216Z"
   },
   {
    "duration": 3,
    "start_time": "2022-09-01T06:56:47.553Z"
   },
   {
    "duration": 13380,
    "start_time": "2022-09-01T06:56:48.859Z"
   },
   {
    "duration": 6,
    "start_time": "2022-09-01T06:57:03.458Z"
   },
   {
    "duration": 3,
    "start_time": "2022-09-01T06:57:04.739Z"
   },
   {
    "duration": 46,
    "start_time": "2022-09-01T06:57:06.554Z"
   },
   {
    "duration": 178,
    "start_time": "2022-09-01T06:57:15.854Z"
   },
   {
    "duration": 171,
    "start_time": "2022-09-01T06:57:17.541Z"
   },
   {
    "duration": 6,
    "start_time": "2022-09-01T06:57:20.453Z"
   },
   {
    "duration": 42,
    "start_time": "2022-09-01T11:54:37.524Z"
   },
   {
    "duration": 4340,
    "start_time": "2022-09-01T11:54:41.312Z"
   },
   {
    "duration": 107,
    "start_time": "2022-09-01T11:54:46.188Z"
   },
   {
    "duration": 14,
    "start_time": "2022-09-01T11:54:48.190Z"
   },
   {
    "duration": 5,
    "start_time": "2022-09-01T11:54:50.103Z"
   },
   {
    "duration": 5,
    "start_time": "2022-09-01T11:54:51.010Z"
   },
   {
    "duration": 1191,
    "start_time": "2022-09-01T11:54:52.242Z"
   },
   {
    "duration": 84,
    "start_time": "2022-09-01T11:54:55.084Z"
   },
   {
    "duration": 184,
    "start_time": "2022-09-01T11:54:59.782Z"
   },
   {
    "duration": 130,
    "start_time": "2022-09-01T11:55:03.158Z"
   },
   {
    "duration": 90,
    "start_time": "2022-09-01T11:55:03.779Z"
   },
   {
    "duration": 117,
    "start_time": "2022-09-01T11:55:08.033Z"
   },
   {
    "duration": 10,
    "start_time": "2022-09-01T11:55:08.911Z"
   },
   {
    "duration": 52,
    "start_time": "2022-09-01T11:55:10.425Z"
   },
   {
    "duration": 40,
    "start_time": "2022-09-01T11:55:11.528Z"
   },
   {
    "duration": 35,
    "start_time": "2022-09-01T11:55:31.759Z"
   },
   {
    "duration": 26,
    "start_time": "2022-09-01T11:55:47.902Z"
   },
   {
    "duration": 20,
    "start_time": "2022-09-01T11:55:56.246Z"
   },
   {
    "duration": 109,
    "start_time": "2022-09-01T11:57:17.285Z"
   },
   {
    "duration": 110,
    "start_time": "2022-09-01T12:00:18.257Z"
   },
   {
    "duration": 91,
    "start_time": "2022-09-01T12:00:24.379Z"
   },
   {
    "duration": 87,
    "start_time": "2022-09-01T12:07:26.462Z"
   },
   {
    "duration": 73,
    "start_time": "2022-09-01T12:07:52.093Z"
   },
   {
    "duration": 19,
    "start_time": "2022-09-01T12:08:02.295Z"
   },
   {
    "duration": 11,
    "start_time": "2022-09-01T12:53:12.379Z"
   },
   {
    "duration": 1090,
    "start_time": "2022-09-01T12:53:16.792Z"
   },
   {
    "duration": 5,
    "start_time": "2022-09-01T12:53:21.708Z"
   },
   {
    "duration": 4,
    "start_time": "2022-09-01T12:53:22.229Z"
   },
   {
    "duration": 149,
    "start_time": "2022-09-01T12:53:27.680Z"
   },
   {
    "duration": 138,
    "start_time": "2022-09-01T12:53:29.585Z"
   },
   {
    "duration": 92,
    "start_time": "2022-09-01T12:53:32.838Z"
   },
   {
    "duration": 3,
    "start_time": "2022-09-01T12:53:36.059Z"
   },
   {
    "duration": 113,
    "start_time": "2022-09-01T12:53:38.893Z"
   },
   {
    "duration": 123,
    "start_time": "2022-09-01T12:53:39.825Z"
   },
   {
    "duration": 103,
    "start_time": "2022-09-01T12:53:40.712Z"
   },
   {
    "duration": 11,
    "start_time": "2022-09-01T12:53:42.780Z"
   },
   {
    "duration": 43,
    "start_time": "2022-09-01T12:53:43.819Z"
   },
   {
    "duration": 3,
    "start_time": "2022-09-01T12:53:45.531Z"
   },
   {
    "duration": 15,
    "start_time": "2022-09-01T12:53:47.132Z"
   },
   {
    "duration": 4,
    "start_time": "2022-09-01T12:53:47.707Z"
   },
   {
    "duration": 4,
    "start_time": "2022-09-01T12:53:49.207Z"
   },
   {
    "duration": 338,
    "start_time": "2022-09-01T12:53:52.465Z"
   },
   {
    "duration": 4,
    "start_time": "2022-09-01T12:53:56.460Z"
   },
   {
    "duration": 8,
    "start_time": "2022-09-01T12:53:57.918Z"
   },
   {
    "duration": 107,
    "start_time": "2022-09-01T12:54:00.005Z"
   },
   {
    "duration": 444763,
    "start_time": "2022-09-01T12:54:43.293Z"
   },
   {
    "duration": 8,
    "start_time": "2022-09-01T13:33:49.665Z"
   },
   {
    "duration": 4,
    "start_time": "2022-09-01T13:34:13.812Z"
   },
   {
    "duration": 4,
    "start_time": "2022-09-01T13:34:29.945Z"
   },
   {
    "duration": 3,
    "start_time": "2022-09-01T13:34:35.951Z"
   },
   {
    "duration": 5,
    "start_time": "2022-09-01T13:35:03.209Z"
   },
   {
    "duration": 11,
    "start_time": "2022-09-01T13:35:05.530Z"
   },
   {
    "duration": 3,
    "start_time": "2022-09-01T13:35:09.368Z"
   },
   {
    "duration": 3,
    "start_time": "2022-09-01T13:35:24.431Z"
   },
   {
    "duration": 3,
    "start_time": "2022-09-01T13:35:29.432Z"
   },
   {
    "duration": 3,
    "start_time": "2022-09-01T13:35:42.844Z"
   },
   {
    "duration": 4,
    "start_time": "2022-09-01T13:35:55.749Z"
   },
   {
    "duration": 4,
    "start_time": "2022-09-01T13:36:08.496Z"
   },
   {
    "duration": 4,
    "start_time": "2022-09-01T13:36:18.636Z"
   },
   {
    "duration": 1241,
    "start_time": "2022-09-01T13:37:13.026Z"
   },
   {
    "duration": 8,
    "start_time": "2022-09-01T13:38:04.240Z"
   },
   {
    "duration": 8,
    "start_time": "2022-09-01T13:38:08.373Z"
   },
   {
    "duration": 9,
    "start_time": "2022-09-01T13:38:19.590Z"
   },
   {
    "duration": 14257,
    "start_time": "2022-09-01T13:47:59.307Z"
   },
   {
    "duration": 4,
    "start_time": "2022-09-01T13:48:51.589Z"
   },
   {
    "duration": 4,
    "start_time": "2022-09-01T13:49:15.970Z"
   },
   {
    "duration": 4,
    "start_time": "2022-09-01T13:50:00.058Z"
   },
   {
    "duration": 18154,
    "start_time": "2022-09-01T13:57:37.507Z"
   },
   {
    "duration": 12900,
    "start_time": "2022-09-01T13:59:14.662Z"
   },
   {
    "duration": 20,
    "start_time": "2022-09-01T14:11:00.921Z"
   },
   {
    "duration": 10,
    "start_time": "2022-09-01T14:12:24.271Z"
   },
   {
    "duration": 5,
    "start_time": "2022-09-01T14:12:40.842Z"
   },
   {
    "duration": 4,
    "start_time": "2022-09-01T14:12:53.236Z"
   },
   {
    "duration": 90,
    "start_time": "2022-09-01T14:13:50.218Z"
   },
   {
    "duration": 8,
    "start_time": "2022-09-01T14:13:53.785Z"
   },
   {
    "duration": 13,
    "start_time": "2022-09-01T14:15:17.536Z"
   },
   {
    "duration": 9,
    "start_time": "2022-09-01T14:15:19.286Z"
   },
   {
    "duration": 8,
    "start_time": "2022-09-01T14:16:59.762Z"
   },
   {
    "duration": 59631,
    "start_time": "2022-09-01T14:17:03.951Z"
   },
   {
    "duration": 11,
    "start_time": "2022-09-01T14:18:10.767Z"
   },
   {
    "duration": 128822,
    "start_time": "2022-09-01T14:18:11.741Z"
   },
   {
    "duration": 4,
    "start_time": "2022-09-01T14:20:43.725Z"
   },
   {
    "duration": 4,
    "start_time": "2022-09-01T14:20:49.946Z"
   },
   {
    "duration": 128531,
    "start_time": "2022-09-01T14:21:34.334Z"
   },
   {
    "duration": 319,
    "start_time": "2022-09-01T14:25:06.312Z"
   },
   {
    "duration": 77,
    "start_time": "2022-09-01T14:25:49.232Z"
   },
   {
    "duration": 8367,
    "start_time": "2022-09-01T14:25:53.996Z"
   },
   {
    "duration": 4,
    "start_time": "2022-09-01T14:26:23.817Z"
   },
   {
    "duration": 10,
    "start_time": "2022-09-01T14:27:19.576Z"
   },
   {
    "duration": 4,
    "start_time": "2022-09-01T14:27:28.430Z"
   },
   {
    "duration": 766,
    "start_time": "2022-09-01T14:27:39.308Z"
   },
   {
    "duration": 3,
    "start_time": "2022-09-01T14:30:38.037Z"
   },
   {
    "duration": 103865,
    "start_time": "2022-09-01T14:31:24.402Z"
   },
   {
    "duration": 6843,
    "start_time": "2022-09-01T14:33:48.717Z"
   },
   {
    "duration": 4,
    "start_time": "2022-09-01T14:35:21.654Z"
   },
   {
    "duration": 192051,
    "start_time": "2022-09-01T14:36:32.613Z"
   },
   {
    "duration": 4,
    "start_time": "2022-09-01T14:50:12.959Z"
   },
   {
    "duration": 4,
    "start_time": "2022-09-01T14:50:35.625Z"
   },
   {
    "duration": 185417,
    "start_time": "2022-09-01T14:51:41.830Z"
   },
   {
    "duration": 12,
    "start_time": "2022-09-01T14:56:32.252Z"
   },
   {
    "duration": 66787,
    "start_time": "2022-09-01T14:56:47.255Z"
   },
   {
    "duration": 28454,
    "start_time": "2022-09-01T14:58:20.828Z"
   },
   {
    "duration": 563466,
    "start_time": "2022-09-01T14:59:54.236Z"
   },
   {
    "duration": 151103,
    "start_time": "2022-09-01T15:09:28.105Z"
   },
   {
    "duration": 110768,
    "start_time": "2022-09-01T15:12:09.606Z"
   },
   {
    "duration": 3771,
    "start_time": "2022-09-01T15:14:05.971Z"
   },
   {
    "duration": 16,
    "start_time": "2022-09-01T15:14:16.713Z"
   },
   {
    "duration": 1503516,
    "start_time": "2022-09-01T15:14:26.018Z"
   },
   {
    "duration": 6672,
    "start_time": "2022-09-01T15:40:46.039Z"
   },
   {
    "duration": 4,
    "start_time": "2022-09-01T15:41:39.707Z"
   },
   {
    "duration": 3257,
    "start_time": "2022-09-01T15:42:04.695Z"
   },
   {
    "duration": 1015,
    "start_time": "2022-09-01T15:42:23.917Z"
   },
   {
    "duration": 20057,
    "start_time": "2022-09-01T15:43:29.566Z"
   },
   {
    "duration": 86606,
    "start_time": "2022-09-01T15:44:10.225Z"
   },
   {
    "duration": 844,
    "start_time": "2022-09-01T15:46:10.928Z"
   },
   {
    "duration": 1053,
    "start_time": "2022-09-01T15:54:22.196Z"
   },
   {
    "duration": 9,
    "start_time": "2022-09-01T15:54:59.832Z"
   },
   {
    "duration": 4,
    "start_time": "2022-09-01T15:55:33.911Z"
   },
   {
    "duration": 8,
    "start_time": "2022-09-01T15:56:13.231Z"
   },
   {
    "duration": 23,
    "start_time": "2022-09-01T15:56:47.518Z"
   },
   {
    "duration": 22984,
    "start_time": "2022-09-01T15:56:58.180Z"
   },
   {
    "duration": 2267,
    "start_time": "2022-09-01T15:58:28.002Z"
   },
   {
    "duration": 956,
    "start_time": "2022-09-01T15:59:02.375Z"
   },
   {
    "duration": 61,
    "start_time": "2022-09-01T15:59:13.451Z"
   },
   {
    "duration": 10,
    "start_time": "2022-09-01T15:59:15.911Z"
   },
   {
    "duration": 12,
    "start_time": "2022-09-01T15:59:19.561Z"
   },
   {
    "duration": 2343,
    "start_time": "2022-09-01T15:59:27.144Z"
   },
   {
    "duration": 2263,
    "start_time": "2022-09-01T15:59:41.017Z"
   },
   {
    "duration": 10,
    "start_time": "2022-09-01T15:59:48.180Z"
   },
   {
    "duration": 3,
    "start_time": "2022-09-01T16:00:00.135Z"
   },
   {
    "duration": 13,
    "start_time": "2022-09-01T16:00:04.332Z"
   },
   {
    "duration": 3,
    "start_time": "2022-09-01T16:03:54.824Z"
   },
   {
    "duration": 845,
    "start_time": "2022-09-01T16:03:55.526Z"
   },
   {
    "duration": 12852,
    "start_time": "2022-09-01T16:05:52.211Z"
   },
   {
    "duration": 8,
    "start_time": "2022-09-01T16:06:06.435Z"
   },
   {
    "duration": 193,
    "start_time": "2022-09-01T16:08:07.152Z"
   },
   {
    "duration": 12,
    "start_time": "2022-09-01T16:09:07.659Z"
   },
   {
    "duration": 2202,
    "start_time": "2022-09-01T16:15:34.377Z"
   },
   {
    "duration": 215,
    "start_time": "2022-09-01T16:15:36.581Z"
   },
   {
    "duration": 78,
    "start_time": "2022-09-01T16:15:36.798Z"
   },
   {
    "duration": 5,
    "start_time": "2022-09-01T16:15:36.878Z"
   },
   {
    "duration": 7,
    "start_time": "2022-09-01T16:15:36.884Z"
   },
   {
    "duration": 1619,
    "start_time": "2022-09-01T16:15:36.892Z"
   },
   {
    "duration": 93,
    "start_time": "2022-09-01T16:15:38.513Z"
   },
   {
    "duration": 510,
    "start_time": "2022-09-01T16:15:38.607Z"
   },
   {
    "duration": 196,
    "start_time": "2022-09-01T16:15:39.118Z"
   },
   {
    "duration": 147,
    "start_time": "2022-09-01T16:15:39.316Z"
   },
   {
    "duration": 98,
    "start_time": "2022-09-01T16:15:39.465Z"
   },
   {
    "duration": 145,
    "start_time": "2022-09-01T16:15:39.564Z"
   },
   {
    "duration": 10,
    "start_time": "2022-09-01T16:15:39.711Z"
   },
   {
    "duration": 63,
    "start_time": "2022-09-01T16:15:39.723Z"
   },
   {
    "duration": 21,
    "start_time": "2022-09-01T16:15:39.788Z"
   },
   {
    "duration": 106,
    "start_time": "2022-09-01T16:15:39.810Z"
   },
   {
    "duration": 3,
    "start_time": "2022-09-01T16:15:39.918Z"
   },
   {
    "duration": 133,
    "start_time": "2022-09-01T16:15:39.922Z"
   },
   {
    "duration": 137,
    "start_time": "2022-09-01T16:15:40.057Z"
   },
   {
    "duration": 121,
    "start_time": "2022-09-01T16:15:40.196Z"
   },
   {
    "duration": 12,
    "start_time": "2022-09-01T16:15:40.319Z"
   },
   {
    "duration": 13,
    "start_time": "2022-09-01T16:15:40.332Z"
   },
   {
    "duration": 54,
    "start_time": "2022-09-01T16:15:40.346Z"
   },
   {
    "duration": 3,
    "start_time": "2022-09-01T16:15:40.402Z"
   },
   {
    "duration": 5,
    "start_time": "2022-09-01T16:15:40.407Z"
   },
   {
    "duration": 17,
    "start_time": "2022-09-01T16:15:40.413Z"
   },
   {
    "duration": 10,
    "start_time": "2022-09-01T16:15:40.431Z"
   },
   {
    "duration": 3,
    "start_time": "2022-09-01T16:15:40.457Z"
   },
   {
    "duration": 328,
    "start_time": "2022-09-01T16:15:40.461Z"
   },
   {
    "duration": 304731,
    "start_time": "2022-09-01T16:15:40.790Z"
   },
   {
    "duration": 412,
    "start_time": "2022-09-01T16:20:45.522Z"
   },
   {
    "duration": 0,
    "start_time": "2022-09-01T16:20:45.935Z"
   },
   {
    "duration": 0,
    "start_time": "2022-09-01T16:20:45.936Z"
   },
   {
    "duration": 0,
    "start_time": "2022-09-01T16:20:45.937Z"
   },
   {
    "duration": 0,
    "start_time": "2022-09-01T16:20:45.939Z"
   },
   {
    "duration": 0,
    "start_time": "2022-09-01T16:20:45.940Z"
   },
   {
    "duration": 0,
    "start_time": "2022-09-01T16:20:45.941Z"
   },
   {
    "duration": 0,
    "start_time": "2022-09-01T16:20:45.955Z"
   },
   {
    "duration": 0,
    "start_time": "2022-09-01T16:20:45.956Z"
   },
   {
    "duration": 0,
    "start_time": "2022-09-01T16:20:45.957Z"
   },
   {
    "duration": 0,
    "start_time": "2022-09-01T16:20:45.958Z"
   },
   {
    "duration": 0,
    "start_time": "2022-09-01T16:20:45.960Z"
   },
   {
    "duration": 0,
    "start_time": "2022-09-01T16:20:45.961Z"
   },
   {
    "duration": 0,
    "start_time": "2022-09-01T16:20:45.962Z"
   },
   {
    "duration": 0,
    "start_time": "2022-09-01T16:20:45.964Z"
   },
   {
    "duration": 0,
    "start_time": "2022-09-01T16:20:45.965Z"
   },
   {
    "duration": 0,
    "start_time": "2022-09-01T16:20:45.966Z"
   },
   {
    "duration": 0,
    "start_time": "2022-09-01T16:20:45.968Z"
   },
   {
    "duration": 0,
    "start_time": "2022-09-01T16:20:45.969Z"
   },
   {
    "duration": 0,
    "start_time": "2022-09-01T16:20:45.970Z"
   },
   {
    "duration": 0,
    "start_time": "2022-09-01T16:20:45.971Z"
   },
   {
    "duration": 0,
    "start_time": "2022-09-01T16:20:45.972Z"
   },
   {
    "duration": 309,
    "start_time": "2022-09-01T16:21:47.731Z"
   },
   {
    "duration": 3,
    "start_time": "2022-09-01T16:21:52.507Z"
   },
   {
    "duration": 43,
    "start_time": "2022-09-01T16:21:55.363Z"
   },
   {
    "duration": 2163,
    "start_time": "2022-09-01T16:22:05.250Z"
   },
   {
    "duration": 125,
    "start_time": "2022-09-01T16:22:07.415Z"
   },
   {
    "duration": 23,
    "start_time": "2022-09-01T16:22:07.542Z"
   },
   {
    "duration": 5,
    "start_time": "2022-09-01T16:22:07.567Z"
   },
   {
    "duration": 6,
    "start_time": "2022-09-01T16:22:07.574Z"
   },
   {
    "duration": 1114,
    "start_time": "2022-09-01T16:22:07.581Z"
   },
   {
    "duration": 92,
    "start_time": "2022-09-01T16:22:08.697Z"
   },
   {
    "duration": 546,
    "start_time": "2022-09-01T16:22:08.791Z"
   },
   {
    "duration": 199,
    "start_time": "2022-09-01T16:22:09.339Z"
   },
   {
    "duration": 153,
    "start_time": "2022-09-01T16:22:09.541Z"
   },
   {
    "duration": 102,
    "start_time": "2022-09-01T16:22:09.695Z"
   },
   {
    "duration": 142,
    "start_time": "2022-09-01T16:22:09.799Z"
   },
   {
    "duration": 14,
    "start_time": "2022-09-01T16:22:09.943Z"
   },
   {
    "duration": 53,
    "start_time": "2022-09-01T16:22:09.962Z"
   },
   {
    "duration": 43,
    "start_time": "2022-09-01T16:22:10.017Z"
   },
   {
    "duration": 107,
    "start_time": "2022-09-01T16:22:10.062Z"
   },
   {
    "duration": 3,
    "start_time": "2022-09-01T16:22:10.171Z"
   },
   {
    "duration": 145,
    "start_time": "2022-09-01T16:22:10.176Z"
   },
   {
    "duration": 126,
    "start_time": "2022-09-01T16:22:10.323Z"
   },
   {
    "duration": 106,
    "start_time": "2022-09-01T16:22:10.450Z"
   },
   {
    "duration": 11,
    "start_time": "2022-09-01T16:22:10.557Z"
   },
   {
    "duration": 3,
    "start_time": "2022-09-01T16:22:10.570Z"
   },
   {
    "duration": 48,
    "start_time": "2022-09-01T16:22:10.574Z"
   },
   {
    "duration": 4,
    "start_time": "2022-09-01T16:22:10.623Z"
   },
   {
    "duration": 7,
    "start_time": "2022-09-01T16:22:10.629Z"
   },
   {
    "duration": 14,
    "start_time": "2022-09-01T16:22:10.655Z"
   },
   {
    "duration": 5,
    "start_time": "2022-09-01T16:22:10.670Z"
   },
   {
    "duration": 5,
    "start_time": "2022-09-01T16:22:10.676Z"
   },
   {
    "duration": 337,
    "start_time": "2022-09-01T16:22:10.682Z"
   },
   {
    "duration": 307166,
    "start_time": "2022-09-01T16:22:11.020Z"
   },
   {
    "duration": 316,
    "start_time": "2022-09-01T16:27:18.188Z"
   },
   {
    "duration": 2,
    "start_time": "2022-09-01T16:27:18.506Z"
   },
   {
    "duration": 6,
    "start_time": "2022-09-01T16:27:18.510Z"
   },
   {
    "duration": 8,
    "start_time": "2022-09-01T16:27:18.518Z"
   },
   {
    "duration": 94832,
    "start_time": "2022-09-01T16:27:18.527Z"
   },
   {
    "duration": 6595,
    "start_time": "2022-09-01T16:28:53.361Z"
   },
   {
    "duration": 2312,
    "start_time": "2022-09-01T16:28:59.957Z"
   },
   {
    "duration": 3,
    "start_time": "2022-09-01T16:29:02.271Z"
   },
   {
    "duration": 124,
    "start_time": "2022-09-01T16:29:02.276Z"
   },
   {
    "duration": 0,
    "start_time": "2022-09-01T16:29:02.402Z"
   },
   {
    "duration": 0,
    "start_time": "2022-09-01T16:29:02.403Z"
   },
   {
    "duration": 0,
    "start_time": "2022-09-01T16:29:02.403Z"
   },
   {
    "duration": 0,
    "start_time": "2022-09-01T16:29:02.405Z"
   },
   {
    "duration": 0,
    "start_time": "2022-09-01T16:29:02.406Z"
   },
   {
    "duration": 0,
    "start_time": "2022-09-01T16:29:02.407Z"
   },
   {
    "duration": 0,
    "start_time": "2022-09-01T16:29:02.407Z"
   },
   {
    "duration": 0,
    "start_time": "2022-09-01T16:29:02.408Z"
   },
   {
    "duration": 0,
    "start_time": "2022-09-01T16:29:02.409Z"
   },
   {
    "duration": 0,
    "start_time": "2022-09-01T16:29:02.410Z"
   },
   {
    "duration": 0,
    "start_time": "2022-09-01T16:29:02.411Z"
   },
   {
    "duration": 0,
    "start_time": "2022-09-01T16:29:02.412Z"
   },
   {
    "duration": 0,
    "start_time": "2022-09-01T16:29:02.413Z"
   },
   {
    "duration": 3,
    "start_time": "2022-09-01T16:30:32.583Z"
   },
   {
    "duration": 9,
    "start_time": "2022-09-01T16:30:51.649Z"
   },
   {
    "duration": 9,
    "start_time": "2022-09-01T16:30:55.106Z"
   },
   {
    "duration": 13739,
    "start_time": "2022-09-01T16:30:59.836Z"
   },
   {
    "duration": 4,
    "start_time": "2022-09-01T16:31:17.371Z"
   },
   {
    "duration": 32,
    "start_time": "2022-09-01T16:34:37.501Z"
   },
   {
    "duration": 2400,
    "start_time": "2022-09-01T16:35:29.906Z"
   },
   {
    "duration": 329,
    "start_time": "2022-09-01T16:35:47.822Z"
   },
   {
    "duration": 8,
    "start_time": "2022-09-01T16:35:52.052Z"
   },
   {
    "duration": 55,
    "start_time": "2022-09-01T16:35:54.615Z"
   },
   {
    "duration": 29,
    "start_time": "2022-09-01T16:38:48.790Z"
   },
   {
    "duration": 103,
    "start_time": "2022-09-01T16:39:00.570Z"
   },
   {
    "duration": 8,
    "start_time": "2022-09-01T16:39:09.278Z"
   },
   {
    "duration": 8,
    "start_time": "2022-09-01T16:39:20.387Z"
   },
   {
    "duration": 2,
    "start_time": "2022-09-01T16:39:23.749Z"
   },
   {
    "duration": 16,
    "start_time": "2022-09-01T16:39:26.767Z"
   },
   {
    "duration": 2021,
    "start_time": "2022-09-01T16:45:45.278Z"
   },
   {
    "duration": 132,
    "start_time": "2022-09-01T16:45:47.301Z"
   },
   {
    "duration": 25,
    "start_time": "2022-09-01T16:45:47.434Z"
   },
   {
    "duration": 5,
    "start_time": "2022-09-01T16:45:47.461Z"
   },
   {
    "duration": 25,
    "start_time": "2022-09-01T16:45:47.468Z"
   },
   {
    "duration": 2034,
    "start_time": "2022-09-01T16:45:47.496Z"
   },
   {
    "duration": 95,
    "start_time": "2022-09-01T16:45:49.532Z"
   },
   {
    "duration": 502,
    "start_time": "2022-09-01T16:45:49.629Z"
   },
   {
    "duration": 195,
    "start_time": "2022-09-01T16:45:50.133Z"
   },
   {
    "duration": 155,
    "start_time": "2022-09-01T16:45:50.331Z"
   },
   {
    "duration": 100,
    "start_time": "2022-09-01T16:45:50.487Z"
   },
   {
    "duration": 154,
    "start_time": "2022-09-01T16:45:50.588Z"
   },
   {
    "duration": 14,
    "start_time": "2022-09-01T16:45:50.744Z"
   },
   {
    "duration": 61,
    "start_time": "2022-09-01T16:45:50.759Z"
   },
   {
    "duration": 17,
    "start_time": "2022-09-01T16:45:50.822Z"
   },
   {
    "duration": 96,
    "start_time": "2022-09-01T16:45:50.841Z"
   },
   {
    "duration": 3,
    "start_time": "2022-09-01T16:45:50.939Z"
   },
   {
    "duration": 140,
    "start_time": "2022-09-01T16:45:50.943Z"
   },
   {
    "duration": 117,
    "start_time": "2022-09-01T16:45:51.084Z"
   },
   {
    "duration": 103,
    "start_time": "2022-09-01T16:45:51.203Z"
   },
   {
    "duration": 10,
    "start_time": "2022-09-01T16:45:51.307Z"
   },
   {
    "duration": 12,
    "start_time": "2022-09-01T16:45:51.319Z"
   },
   {
    "duration": 59,
    "start_time": "2022-09-01T16:45:51.333Z"
   },
   {
    "duration": 5,
    "start_time": "2022-09-01T16:45:51.393Z"
   },
   {
    "duration": 23,
    "start_time": "2022-09-01T16:45:51.399Z"
   },
   {
    "duration": 25,
    "start_time": "2022-09-01T16:45:51.423Z"
   },
   {
    "duration": 20,
    "start_time": "2022-09-01T16:45:51.450Z"
   },
   {
    "duration": 12,
    "start_time": "2022-09-01T16:45:51.473Z"
   },
   {
    "duration": 332,
    "start_time": "2022-09-01T16:45:51.487Z"
   },
   {
    "duration": 304039,
    "start_time": "2022-09-01T16:45:51.820Z"
   },
   {
    "duration": 2177,
    "start_time": "2022-09-01T16:50:55.861Z"
   },
   {
    "duration": 307,
    "start_time": "2022-09-01T16:50:58.039Z"
   },
   {
    "duration": 3,
    "start_time": "2022-09-01T16:50:58.347Z"
   },
   {
    "duration": 3,
    "start_time": "2022-09-01T16:50:58.355Z"
   },
   {
    "duration": 8,
    "start_time": "2022-09-01T16:50:58.359Z"
   },
   {
    "duration": 214700,
    "start_time": "2022-09-01T16:50:58.369Z"
   },
   {
    "duration": 29791,
    "start_time": "2022-09-01T16:54:33.071Z"
   },
   {
    "duration": 2507,
    "start_time": "2022-09-01T16:55:02.866Z"
   },
   {
    "duration": 3,
    "start_time": "2022-09-01T16:55:05.375Z"
   },
   {
    "duration": 1391004,
    "start_time": "2022-09-01T16:55:05.379Z"
   },
   {
    "duration": 933,
    "start_time": "2022-09-01T17:18:16.385Z"
   },
   {
    "duration": 0,
    "start_time": "2022-09-01T17:18:17.320Z"
   },
   {
    "duration": 0,
    "start_time": "2022-09-01T17:18:17.321Z"
   },
   {
    "duration": 0,
    "start_time": "2022-09-01T17:18:17.322Z"
   },
   {
    "duration": 0,
    "start_time": "2022-09-01T17:18:17.323Z"
   },
   {
    "duration": 0,
    "start_time": "2022-09-01T17:18:17.324Z"
   },
   {
    "duration": 0,
    "start_time": "2022-09-01T17:18:17.325Z"
   },
   {
    "duration": 0,
    "start_time": "2022-09-01T17:18:17.325Z"
   },
   {
    "duration": 0,
    "start_time": "2022-09-01T17:18:17.326Z"
   },
   {
    "duration": 0,
    "start_time": "2022-09-01T17:18:17.327Z"
   },
   {
    "duration": 0,
    "start_time": "2022-09-01T17:18:17.328Z"
   },
   {
    "duration": 0,
    "start_time": "2022-09-01T17:18:17.328Z"
   },
   {
    "duration": 0,
    "start_time": "2022-09-01T17:18:17.329Z"
   },
   {
    "duration": 77612,
    "start_time": "2022-09-01T17:20:33.331Z"
   },
   {
    "duration": 796,
    "start_time": "2022-09-01T17:22:02.609Z"
   },
   {
    "duration": 3,
    "start_time": "2022-09-01T17:22:06.005Z"
   },
   {
    "duration": 14434,
    "start_time": "2022-09-01T17:22:09.222Z"
   },
   {
    "duration": 235,
    "start_time": "2022-09-01T17:22:27.321Z"
   },
   {
    "duration": 13,
    "start_time": "2022-09-01T17:22:29.790Z"
   },
   {
    "duration": 2,
    "start_time": "2022-09-01T17:22:31.924Z"
   },
   {
    "duration": 42,
    "start_time": "2022-09-01T17:22:33.574Z"
   },
   {
    "duration": 78,
    "start_time": "2022-09-01T17:23:37.191Z"
   },
   {
    "duration": 13,
    "start_time": "2022-09-01T17:23:42.391Z"
   },
   {
    "duration": 152480,
    "start_time": "2022-09-01T17:25:14.582Z"
   },
   {
    "duration": 108,
    "start_time": "2022-09-01T17:28:23.615Z"
   },
   {
    "duration": 27864,
    "start_time": "2022-09-01T17:28:29.097Z"
   },
   {
    "duration": 4,
    "start_time": "2022-09-01T17:28:57.965Z"
   },
   {
    "duration": 112602,
    "start_time": "2022-09-01T17:30:00.758Z"
   },
   {
    "duration": 5682,
    "start_time": "2022-09-01T17:31:58.873Z"
   },
   {
    "duration": 2173,
    "start_time": "2022-09-01T17:32:07.028Z"
   },
   {
    "duration": 2,
    "start_time": "2022-09-01T17:32:11.150Z"
   },
   {
    "duration": 13,
    "start_time": "2022-09-01T17:32:15.689Z"
   },
   {
    "duration": 3,
    "start_time": "2022-09-01T17:33:21.276Z"
   },
   {
    "duration": 12,
    "start_time": "2022-09-01T17:33:23.746Z"
   },
   {
    "duration": 166,
    "start_time": "2022-09-01T17:34:03.512Z"
   },
   {
    "duration": 132,
    "start_time": "2022-09-01T17:34:06.248Z"
   },
   {
    "duration": 4,
    "start_time": "2022-09-01T17:40:43.594Z"
   },
   {
    "duration": 785,
    "start_time": "2022-09-01T17:40:44.424Z"
   },
   {
    "duration": 8,
    "start_time": "2022-09-01T17:40:49.041Z"
   },
   {
    "duration": 2100,
    "start_time": "2022-09-01T17:41:25.472Z"
   },
   {
    "duration": 122,
    "start_time": "2022-09-01T17:41:27.575Z"
   },
   {
    "duration": 16,
    "start_time": "2022-09-01T17:41:27.698Z"
   },
   {
    "duration": 5,
    "start_time": "2022-09-01T17:41:27.715Z"
   },
   {
    "duration": 8,
    "start_time": "2022-09-01T17:41:27.722Z"
   },
   {
    "duration": 1139,
    "start_time": "2022-09-01T17:41:27.731Z"
   },
   {
    "duration": 98,
    "start_time": "2022-09-01T17:41:28.872Z"
   },
   {
    "duration": 545,
    "start_time": "2022-09-01T17:41:28.971Z"
   },
   {
    "duration": 196,
    "start_time": "2022-09-01T17:41:29.517Z"
   },
   {
    "duration": 144,
    "start_time": "2022-09-01T17:41:29.715Z"
   },
   {
    "duration": 101,
    "start_time": "2022-09-01T17:41:29.861Z"
   },
   {
    "duration": 142,
    "start_time": "2022-09-01T17:41:29.964Z"
   },
   {
    "duration": 10,
    "start_time": "2022-09-01T17:41:30.107Z"
   },
   {
    "duration": 73,
    "start_time": "2022-09-01T17:41:30.119Z"
   },
   {
    "duration": 18,
    "start_time": "2022-09-01T17:41:30.193Z"
   },
   {
    "duration": 109,
    "start_time": "2022-09-01T17:41:30.212Z"
   },
   {
    "duration": 2,
    "start_time": "2022-09-01T17:41:30.323Z"
   },
   {
    "duration": 130,
    "start_time": "2022-09-01T17:41:30.327Z"
   },
   {
    "duration": 129,
    "start_time": "2022-09-01T17:41:30.459Z"
   },
   {
    "duration": 106,
    "start_time": "2022-09-01T17:41:30.590Z"
   },
   {
    "duration": 11,
    "start_time": "2022-09-01T17:41:30.698Z"
   },
   {
    "duration": 14,
    "start_time": "2022-09-01T17:41:30.710Z"
   },
   {
    "duration": 55,
    "start_time": "2022-09-01T17:41:30.725Z"
   },
   {
    "duration": 5,
    "start_time": "2022-09-01T17:41:30.782Z"
   },
   {
    "duration": 6,
    "start_time": "2022-09-01T17:41:30.788Z"
   },
   {
    "duration": 33,
    "start_time": "2022-09-01T17:41:30.796Z"
   },
   {
    "duration": 8,
    "start_time": "2022-09-01T17:41:30.830Z"
   },
   {
    "duration": 6,
    "start_time": "2022-09-01T17:41:30.839Z"
   },
   {
    "duration": 339,
    "start_time": "2022-09-01T17:41:30.846Z"
   },
   {
    "duration": 317167,
    "start_time": "2022-09-01T17:41:31.186Z"
   },
   {
    "duration": 3230,
    "start_time": "2022-09-01T17:46:48.355Z"
   },
   {
    "duration": 324,
    "start_time": "2022-09-01T17:46:51.587Z"
   },
   {
    "duration": 2,
    "start_time": "2022-09-01T17:46:51.913Z"
   },
   {
    "duration": 21,
    "start_time": "2022-09-01T17:46:51.917Z"
   },
   {
    "duration": 8,
    "start_time": "2022-09-01T17:46:51.939Z"
   },
   {
    "duration": 495331,
    "start_time": "2022-09-01T17:46:51.949Z"
   },
   {
    "duration": 38673,
    "start_time": "2022-09-01T17:55:07.282Z"
   },
   {
    "duration": 2511,
    "start_time": "2022-09-01T17:55:45.966Z"
   },
   {
    "duration": 3,
    "start_time": "2022-09-01T17:55:48.478Z"
   },
   {
    "duration": 1406323,
    "start_time": "2022-09-01T17:55:48.482Z"
   },
   {
    "duration": 77252,
    "start_time": "2022-09-01T18:19:14.808Z"
   },
   {
    "duration": 776,
    "start_time": "2022-09-01T18:20:32.062Z"
   },
   {
    "duration": 2,
    "start_time": "2022-09-01T18:20:32.840Z"
   },
   {
    "duration": 15912,
    "start_time": "2022-09-01T18:20:32.844Z"
   },
   {
    "duration": 202,
    "start_time": "2022-09-01T18:20:48.758Z"
   },
   {
    "duration": 100,
    "start_time": "2022-09-01T18:20:48.962Z"
   },
   {
    "duration": 97,
    "start_time": "2022-09-01T18:20:49.064Z"
   },
   {
    "duration": 122,
    "start_time": "2022-09-01T18:20:49.163Z"
   },
   {
    "duration": 179,
    "start_time": "2022-09-01T18:20:49.286Z"
   },
   {
    "duration": 138,
    "start_time": "2022-09-01T18:20:49.466Z"
   },
   {
    "duration": 5,
    "start_time": "2022-09-01T18:20:49.605Z"
   },
   {
    "duration": 773,
    "start_time": "2022-09-01T18:20:49.611Z"
   },
   {
    "duration": 5,
    "start_time": "2022-09-01T18:20:50.385Z"
   }
  ],
  "kernelspec": {
   "display_name": "Python 3 (ipykernel)",
   "language": "python",
   "name": "python3"
  },
  "language_info": {
   "codemirror_mode": {
    "name": "ipython",
    "version": 3
   },
   "file_extension": ".py",
   "mimetype": "text/x-python",
   "name": "python",
   "nbconvert_exporter": "python",
   "pygments_lexer": "ipython3",
   "version": "3.9.12"
  },
  "toc": {
   "base_numbering": 1,
   "nav_menu": {},
   "number_sections": true,
   "sideBar": true,
   "skip_h1_title": true,
   "title_cell": "Table of Contents",
   "title_sidebar": "Contents",
   "toc_cell": true,
   "toc_position": {
    "height": "calc(100% - 180px)",
    "left": "10px",
    "top": "150px",
    "width": "233.2px"
   },
   "toc_section_display": true,
   "toc_window_display": true
  }
 },
 "nbformat": 4,
 "nbformat_minor": 2
}
