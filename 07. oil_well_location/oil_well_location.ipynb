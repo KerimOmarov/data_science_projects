{
 "cells": [
  {
   "cell_type": "markdown",
   "metadata": {
    "toc": true
   },
   "source": [
    "<h1>Table of Contents<span class=\"tocSkip\"></span></h1>\n",
    "<div class=\"toc\"><ul class=\"toc-item\"><li><span><a href=\"#Data-Review-and-Preparation\" data-toc-modified-id=\"Data-Review-and-Preparation-1\"><span class=\"toc-item-num\">1&nbsp;&nbsp;</span>Data Review and Preparation</a></span><ul class=\"toc-item\"><li><span><a href=\"#Conclusion\" data-toc-modified-id=\"Conclusion-1.1\"><span class=\"toc-item-num\">1.1&nbsp;&nbsp;</span>Conclusion</a></span></li></ul></li><li><span><a href=\"#Model-training-and-validation\" data-toc-modified-id=\"Model-training-and-validation-2\"><span class=\"toc-item-num\">2&nbsp;&nbsp;</span>Model training and validation</a></span><ul class=\"toc-item\"><li><span><a href=\"#Region-1\" data-toc-modified-id=\"Region-1-2.1\"><span class=\"toc-item-num\">2.1&nbsp;&nbsp;</span>Region 1</a></span></li><li><span><a href=\"#Region-2\" data-toc-modified-id=\"Region-2-2.2\"><span class=\"toc-item-num\">2.2&nbsp;&nbsp;</span>Region 2</a></span></li><li><span><a href=\"#Region-3\" data-toc-modified-id=\"Region-3-2.3\"><span class=\"toc-item-num\">2.3&nbsp;&nbsp;</span>Region 3</a></span></li><li><span><a href=\"#Conclusion\" data-toc-modified-id=\"Conclusion-2.4\"><span class=\"toc-item-num\">2.4&nbsp;&nbsp;</span>Conclusion</a></span></li></ul></li><li><span><a href=\"#Preparation-for-profit-calculation\" data-toc-modified-id=\"Preparation-for-profit-calculation-3\"><span class=\"toc-item-num\">3&nbsp;&nbsp;</span>Preparation for profit calculation</a></span><ul class=\"toc-item\"><li><span><a href=\"#Conclusion\" data-toc-modified-id=\"Conclusion-3.1\"><span class=\"toc-item-num\">3.1&nbsp;&nbsp;</span>Conclusion</a></span></li></ul></li><li><span><a href=\"#Profit-and-risks-calculation\" data-toc-modified-id=\"Profit-and-risks-calculation-4\"><span class=\"toc-item-num\">4&nbsp;&nbsp;</span>Profit and risks calculation</a></span><ul class=\"toc-item\"><li><span><a href=\"#Profit-Calculation\" data-toc-modified-id=\"Profit-Calculation-4.1\"><span class=\"toc-item-num\">4.1&nbsp;&nbsp;</span>Profit Calculation</a></span></li></ul></li><li><span><a href=\"#Conclusion\" data-toc-modified-id=\"Conclusion-5\"><span class=\"toc-item-num\">5&nbsp;&nbsp;</span>Conclusion</a></span></li></ul></div>"
   ]
  },
  {
   "cell_type": "markdown",
   "metadata": {},
   "source": [
    "# Choosing the oil well location"
   ]
  },
  {
   "cell_type": "markdown",
   "metadata": {},
   "source": [
    "Let's say you work for the mining company ABC. We need to decide where to drill a new well.\n",
    "\n",
    "You have been provided with oil samples in three regions: in each of 10,000 fields, where the quality of oil and the volume of its reserves have been measured. Build a machine learning model to help determine the region where mining will bring the most profit. Analyze possible profits and risks using the *Bootstrap* technique.\n",
    "\n",
    "Steps to choose a location:\n",
    "\n",
    "- In the selected region, they are looking for deposits, for each, the values of features are determined;\n",
    "- Build a model and estimate the volume of reserves;\n",
    "- Select the deposits with the highest value estimates. The number of deposits depends on the company's budget and the cost of developing one well;\n",
    "- The profit is equal to the total profit of the selected deposits.\n",
    "\n",
    "\n",
    "**The purpose of the project:** To build a model to determine the most profitable region.\n",
    "\n",
    "Research steps:\n",
    "\n",
    "    Data Review and Preparation.\n",
    "    Training and validation of models.\n",
    "    Preparation for profit calculation.\n",
    "    Profit and risks calculation."
   ]
  },
  {
   "cell_type": "markdown",
   "metadata": {},
   "source": [
    "## Data Review and Preparation"
   ]
  },
  {
   "cell_type": "code",
   "execution_count": 1,
   "metadata": {},
   "outputs": [],
   "source": [
    "import matplotlib.pyplot as plt\n",
    "import numpy as np\n",
    "import pandas as pd\n",
    "import seaborn as sns\n",
    "\n",
    "from scipy import stats as st\n",
    "from sklearn.linear_model import LinearRegression\n",
    "from sklearn.metrics import r2_score, mean_squared_error, mean_absolute_error\n",
    "from sklearn.model_selection import train_test_split, GridSearchCV"
   ]
  },
  {
   "cell_type": "code",
   "execution_count": 2,
   "metadata": {},
   "outputs": [],
   "source": [
    "try:\n",
    "    loc_1 = pd.read_csv('geo_data_0.csv')\n",
    "    loc_2 = pd.read_csv('geo_data_1.csv')\n",
    "    loc_3 = pd.read_csv('geo_data_2.csv')\n",
    "except: \n",
    "    print('Something is wrong')"
   ]
  },
  {
   "cell_type": "code",
   "execution_count": 3,
   "metadata": {},
   "outputs": [
    {
     "data": {
      "text/html": [
       "<div>\n",
       "<style scoped>\n",
       "    .dataframe tbody tr th:only-of-type {\n",
       "        vertical-align: middle;\n",
       "    }\n",
       "\n",
       "    .dataframe tbody tr th {\n",
       "        vertical-align: top;\n",
       "    }\n",
       "\n",
       "    .dataframe thead th {\n",
       "        text-align: right;\n",
       "    }\n",
       "</style>\n",
       "<table border=\"1\" class=\"dataframe\">\n",
       "  <thead>\n",
       "    <tr style=\"text-align: right;\">\n",
       "      <th></th>\n",
       "      <th>id</th>\n",
       "      <th>f0</th>\n",
       "      <th>f1</th>\n",
       "      <th>f2</th>\n",
       "      <th>product</th>\n",
       "    </tr>\n",
       "  </thead>\n",
       "  <tbody>\n",
       "    <tr>\n",
       "      <th>0</th>\n",
       "      <td>txEyH</td>\n",
       "      <td>0.705745</td>\n",
       "      <td>-0.497823</td>\n",
       "      <td>1.221170</td>\n",
       "      <td>105.280062</td>\n",
       "    </tr>\n",
       "    <tr>\n",
       "      <th>1</th>\n",
       "      <td>2acmU</td>\n",
       "      <td>1.334711</td>\n",
       "      <td>-0.340164</td>\n",
       "      <td>4.365080</td>\n",
       "      <td>73.037750</td>\n",
       "    </tr>\n",
       "    <tr>\n",
       "      <th>2</th>\n",
       "      <td>409Wp</td>\n",
       "      <td>1.022732</td>\n",
       "      <td>0.151990</td>\n",
       "      <td>1.419926</td>\n",
       "      <td>85.265647</td>\n",
       "    </tr>\n",
       "    <tr>\n",
       "      <th>3</th>\n",
       "      <td>iJLyR</td>\n",
       "      <td>-0.032172</td>\n",
       "      <td>0.139033</td>\n",
       "      <td>2.978566</td>\n",
       "      <td>168.620776</td>\n",
       "    </tr>\n",
       "    <tr>\n",
       "      <th>4</th>\n",
       "      <td>Xdl7t</td>\n",
       "      <td>1.988431</td>\n",
       "      <td>0.155413</td>\n",
       "      <td>4.751769</td>\n",
       "      <td>154.036647</td>\n",
       "    </tr>\n",
       "  </tbody>\n",
       "</table>\n",
       "</div>"
      ],
      "text/plain": [
       "      id        f0        f1        f2     product\n",
       "0  txEyH  0.705745 -0.497823  1.221170  105.280062\n",
       "1  2acmU  1.334711 -0.340164  4.365080   73.037750\n",
       "2  409Wp  1.022732  0.151990  1.419926   85.265647\n",
       "3  iJLyR -0.032172  0.139033  2.978566  168.620776\n",
       "4  Xdl7t  1.988431  0.155413  4.751769  154.036647"
      ]
     },
     "execution_count": 3,
     "metadata": {},
     "output_type": "execute_result"
    }
   ],
   "source": [
    "loc_1.head()"
   ]
  },
  {
   "cell_type": "code",
   "execution_count": 4,
   "metadata": {},
   "outputs": [
    {
     "name": "stdout",
     "output_type": "stream",
     "text": [
      "<class 'pandas.core.frame.DataFrame'>\n",
      "RangeIndex: 100000 entries, 0 to 99999\n",
      "Data columns (total 5 columns):\n",
      " #   Column   Non-Null Count   Dtype  \n",
      "---  ------   --------------   -----  \n",
      " 0   id       100000 non-null  object \n",
      " 1   f0       100000 non-null  float64\n",
      " 2   f1       100000 non-null  float64\n",
      " 3   f2       100000 non-null  float64\n",
      " 4   product  100000 non-null  float64\n",
      "dtypes: float64(4), object(1)\n",
      "memory usage: 3.8+ MB\n"
     ]
    }
   ],
   "source": [
    "loc_1.info()"
   ]
  },
  {
   "cell_type": "code",
   "execution_count": 5,
   "metadata": {},
   "outputs": [
    {
     "data": {
      "text/html": [
       "<div>\n",
       "<style scoped>\n",
       "    .dataframe tbody tr th:only-of-type {\n",
       "        vertical-align: middle;\n",
       "    }\n",
       "\n",
       "    .dataframe tbody tr th {\n",
       "        vertical-align: top;\n",
       "    }\n",
       "\n",
       "    .dataframe thead th {\n",
       "        text-align: right;\n",
       "    }\n",
       "</style>\n",
       "<table border=\"1\" class=\"dataframe\">\n",
       "  <thead>\n",
       "    <tr style=\"text-align: right;\">\n",
       "      <th></th>\n",
       "      <th>id</th>\n",
       "      <th>f0</th>\n",
       "      <th>f1</th>\n",
       "      <th>f2</th>\n",
       "      <th>product</th>\n",
       "    </tr>\n",
       "  </thead>\n",
       "  <tbody>\n",
       "    <tr>\n",
       "      <th>0</th>\n",
       "      <td>kBEdx</td>\n",
       "      <td>-15.001348</td>\n",
       "      <td>-8.276000</td>\n",
       "      <td>-0.005876</td>\n",
       "      <td>3.179103</td>\n",
       "    </tr>\n",
       "    <tr>\n",
       "      <th>1</th>\n",
       "      <td>62mP7</td>\n",
       "      <td>14.272088</td>\n",
       "      <td>-3.475083</td>\n",
       "      <td>0.999183</td>\n",
       "      <td>26.953261</td>\n",
       "    </tr>\n",
       "    <tr>\n",
       "      <th>2</th>\n",
       "      <td>vyE1P</td>\n",
       "      <td>6.263187</td>\n",
       "      <td>-5.948386</td>\n",
       "      <td>5.001160</td>\n",
       "      <td>134.766305</td>\n",
       "    </tr>\n",
       "    <tr>\n",
       "      <th>3</th>\n",
       "      <td>KcrkZ</td>\n",
       "      <td>-13.081196</td>\n",
       "      <td>-11.506057</td>\n",
       "      <td>4.999415</td>\n",
       "      <td>137.945408</td>\n",
       "    </tr>\n",
       "    <tr>\n",
       "      <th>4</th>\n",
       "      <td>AHL4O</td>\n",
       "      <td>12.702195</td>\n",
       "      <td>-8.147433</td>\n",
       "      <td>5.004363</td>\n",
       "      <td>134.766305</td>\n",
       "    </tr>\n",
       "  </tbody>\n",
       "</table>\n",
       "</div>"
      ],
      "text/plain": [
       "      id         f0         f1        f2     product\n",
       "0  kBEdx -15.001348  -8.276000 -0.005876    3.179103\n",
       "1  62mP7  14.272088  -3.475083  0.999183   26.953261\n",
       "2  vyE1P   6.263187  -5.948386  5.001160  134.766305\n",
       "3  KcrkZ -13.081196 -11.506057  4.999415  137.945408\n",
       "4  AHL4O  12.702195  -8.147433  5.004363  134.766305"
      ]
     },
     "execution_count": 5,
     "metadata": {},
     "output_type": "execute_result"
    }
   ],
   "source": [
    "loc_2.head()"
   ]
  },
  {
   "cell_type": "code",
   "execution_count": 6,
   "metadata": {},
   "outputs": [
    {
     "name": "stdout",
     "output_type": "stream",
     "text": [
      "<class 'pandas.core.frame.DataFrame'>\n",
      "RangeIndex: 100000 entries, 0 to 99999\n",
      "Data columns (total 5 columns):\n",
      " #   Column   Non-Null Count   Dtype  \n",
      "---  ------   --------------   -----  \n",
      " 0   id       100000 non-null  object \n",
      " 1   f0       100000 non-null  float64\n",
      " 2   f1       100000 non-null  float64\n",
      " 3   f2       100000 non-null  float64\n",
      " 4   product  100000 non-null  float64\n",
      "dtypes: float64(4), object(1)\n",
      "memory usage: 3.8+ MB\n"
     ]
    }
   ],
   "source": [
    "loc_2.info()"
   ]
  },
  {
   "cell_type": "code",
   "execution_count": 7,
   "metadata": {},
   "outputs": [
    {
     "data": {
      "text/html": [
       "<div>\n",
       "<style scoped>\n",
       "    .dataframe tbody tr th:only-of-type {\n",
       "        vertical-align: middle;\n",
       "    }\n",
       "\n",
       "    .dataframe tbody tr th {\n",
       "        vertical-align: top;\n",
       "    }\n",
       "\n",
       "    .dataframe thead th {\n",
       "        text-align: right;\n",
       "    }\n",
       "</style>\n",
       "<table border=\"1\" class=\"dataframe\">\n",
       "  <thead>\n",
       "    <tr style=\"text-align: right;\">\n",
       "      <th></th>\n",
       "      <th>id</th>\n",
       "      <th>f0</th>\n",
       "      <th>f1</th>\n",
       "      <th>f2</th>\n",
       "      <th>product</th>\n",
       "    </tr>\n",
       "  </thead>\n",
       "  <tbody>\n",
       "    <tr>\n",
       "      <th>0</th>\n",
       "      <td>fwXo0</td>\n",
       "      <td>-1.146987</td>\n",
       "      <td>0.963328</td>\n",
       "      <td>-0.828965</td>\n",
       "      <td>27.758673</td>\n",
       "    </tr>\n",
       "    <tr>\n",
       "      <th>1</th>\n",
       "      <td>WJtFt</td>\n",
       "      <td>0.262778</td>\n",
       "      <td>0.269839</td>\n",
       "      <td>-2.530187</td>\n",
       "      <td>56.069697</td>\n",
       "    </tr>\n",
       "    <tr>\n",
       "      <th>2</th>\n",
       "      <td>ovLUW</td>\n",
       "      <td>0.194587</td>\n",
       "      <td>0.289035</td>\n",
       "      <td>-5.586433</td>\n",
       "      <td>62.871910</td>\n",
       "    </tr>\n",
       "    <tr>\n",
       "      <th>3</th>\n",
       "      <td>q6cA6</td>\n",
       "      <td>2.236060</td>\n",
       "      <td>-0.553760</td>\n",
       "      <td>0.930038</td>\n",
       "      <td>114.572842</td>\n",
       "    </tr>\n",
       "    <tr>\n",
       "      <th>4</th>\n",
       "      <td>WPMUX</td>\n",
       "      <td>-0.515993</td>\n",
       "      <td>1.716266</td>\n",
       "      <td>5.899011</td>\n",
       "      <td>149.600746</td>\n",
       "    </tr>\n",
       "  </tbody>\n",
       "</table>\n",
       "</div>"
      ],
      "text/plain": [
       "      id        f0        f1        f2     product\n",
       "0  fwXo0 -1.146987  0.963328 -0.828965   27.758673\n",
       "1  WJtFt  0.262778  0.269839 -2.530187   56.069697\n",
       "2  ovLUW  0.194587  0.289035 -5.586433   62.871910\n",
       "3  q6cA6  2.236060 -0.553760  0.930038  114.572842\n",
       "4  WPMUX -0.515993  1.716266  5.899011  149.600746"
      ]
     },
     "execution_count": 7,
     "metadata": {},
     "output_type": "execute_result"
    }
   ],
   "source": [
    "loc_3.head()"
   ]
  },
  {
   "cell_type": "code",
   "execution_count": 8,
   "metadata": {},
   "outputs": [
    {
     "name": "stdout",
     "output_type": "stream",
     "text": [
      "<class 'pandas.core.frame.DataFrame'>\n",
      "RangeIndex: 100000 entries, 0 to 99999\n",
      "Data columns (total 5 columns):\n",
      " #   Column   Non-Null Count   Dtype  \n",
      "---  ------   --------------   -----  \n",
      " 0   id       100000 non-null  object \n",
      " 1   f0       100000 non-null  float64\n",
      " 2   f1       100000 non-null  float64\n",
      " 3   f2       100000 non-null  float64\n",
      " 4   product  100000 non-null  float64\n",
      "dtypes: float64(4), object(1)\n",
      "memory usage: 3.8+ MB\n"
     ]
    }
   ],
   "source": [
    "loc_3.info()"
   ]
  },
  {
   "cell_type": "code",
   "execution_count": 9,
   "metadata": {},
   "outputs": [
    {
     "name": "stdout",
     "output_type": "stream",
     "text": [
      "Number of duplicates in 1 region data:  0\n",
      "Number of duplicates in 2 region data:  0\n",
      "Number of duplicates in 3 region data:  0\n"
     ]
    }
   ],
   "source": [
    "print('Number of duplicates in 1 region data: ', loc_1.duplicated().sum())\n",
    "print('Number of duplicates in 2 region data: ', loc_2.duplicated().sum())\n",
    "print('Number of duplicates in 3 region data: ', loc_3.duplicated().sum())"
   ]
  },
  {
   "cell_type": "markdown",
   "metadata": {},
   "source": [
    "So, we have three tables with data. Each table contains data for one of the three regions.\n",
    "\n",
    "According to the data documentation:\n",
    "\n",
    "Features:\n",
    "\n",
    "* `id` — unique identifier of the well\n",
    "* `f0, f1, f2` - three features (it doesn't matter what they mean, but the features themselves are significant)\n",
    "\n",
    "Target variable:\n",
    "\n",
    "* `product` - volume of reserves in the well (thousand barrels)\n",
    "\n",
    "There are no missing values or duplicates in the data."
   ]
  },
  {
   "cell_type": "markdown",
   "metadata": {},
   "source": [
    "Let's make histograms for each region and look at the distributions. And let's also check the correlations between features."
   ]
  },
  {
   "cell_type": "markdown",
   "metadata": {},
   "source": [
    "**Region 1**"
   ]
  },
  {
   "cell_type": "code",
   "execution_count": 10,
   "metadata": {},
   "outputs": [
    {
     "data": {
      "image/png": "[encoded data removed]",
      "text/plain": [
       "<Figure size 1080x720 with 4 Axes>"
      ]
     },
     "metadata": {
      "needs_background": "light"
     },
     "output_type": "display_data"
    }
   ],
   "source": [
    "loc_1.hist(bins=50, figsize=(15,10), edgecolor='black', linewidth=1)\n",
    "plt.show()"
   ]
  },
  {
   "cell_type": "markdown",
   "metadata": {},
   "source": [
    "We don't see any anomalies on the charts. Let's look at the correlations between features."
   ]
  },
  {
   "cell_type": "code",
   "execution_count": 11,
   "metadata": {},
   "outputs": [
    {
     "data": {
      "image/png": "[encoded data removed]",
      "text/plain": [
       "<Figure size 432x288 with 2 Axes>"
      ]
     },
     "metadata": {
      "needs_background": "light"
     },
     "output_type": "display_data"
    }
   ],
   "source": [
    "sns.heatmap(loc_1.corr(), annot=True, square=True)\n",
    "plt.show()"
   ]
  },
  {
   "cell_type": "markdown",
   "metadata": {},
   "source": [
    "There is a weak positive correlation (0.48) between the `f2` feature and the target variable `product`, as well as a weak negative correlation (-0.44) between the `f0` and `f1` features."
   ]
  },
  {
   "cell_type": "markdown",
   "metadata": {},
   "source": [
    "**Region 2**"
   ]
  },
  {
   "cell_type": "code",
   "execution_count": 12,
   "metadata": {
    "scrolled": false
   },
   "outputs": [
    {
     "data": {
      "image/png": "[encoded data removed]",
      "text/plain": [
       "<Figure size 1080x720 with 4 Axes>"
      ]
     },
     "metadata": {
      "needs_background": "light"
     },
     "output_type": "display_data"
    }
   ],
   "source": [
    "loc_2.hist(bins=50, figsize=(15,10), edgecolor='black', linewidth=1)\n",
    "plt.show()"
   ]
  },
  {
   "cell_type": "markdown",
   "metadata": {},
   "source": [
    "In the second region, there are anomalies in the distribution of the feature `f2`. Its distribution is very similar to the distribution of the target variable `product`. Let's look at the correlations between features."
   ]
  },
  {
   "cell_type": "code",
   "execution_count": 13,
   "metadata": {},
   "outputs": [
    {
     "data": {
      "image/png": "[encoded data removed]",
      "text/plain": [
       "<Figure size 432x288 with 2 Axes>"
      ]
     },
     "metadata": {
      "needs_background": "light"
     },
     "output_type": "display_data"
    }
   ],
   "source": [
    "sns.heatmap(loc_2.corr(), annot=True, square=True)\n",
    "plt.show()"
   ]
  },
  {
   "cell_type": "markdown",
   "metadata": {},
   "source": [
    "We can note a very strong positive correlation (1) between the feature `f2` and the target variable `product`."
   ]
  },
  {
   "cell_type": "markdown",
   "metadata": {},
   "source": [
    "**Region 3**"
   ]
  },
  {
   "cell_type": "code",
   "execution_count": 14,
   "metadata": {},
   "outputs": [
    {
     "data": {
      "image/png": "[encoded data removed]",
      "text/plain": [
       "<Figure size 1080x720 with 4 Axes>"
      ]
     },
     "metadata": {
      "needs_background": "light"
     },
     "output_type": "display_data"
    }
   ],
   "source": [
    "loc_3.hist(bins=50, figsize=(15,10), edgecolor='black', linewidth=1)\n",
    "plt.show()"
   ]
  },
  {
   "cell_type": "markdown",
   "metadata": {},
   "source": [
    "According to the graphs, we see a normal distribution of feature values. No anomalies were found. Let's look at the correlations between features."
   ]
  },
  {
   "cell_type": "code",
   "execution_count": 15,
   "metadata": {},
   "outputs": [
    {
     "data": {
      "image/png": "[encoded data removed]",
      "text/plain": [
       "<Figure size 432x288 with 2 Axes>"
      ]
     },
     "metadata": {
      "needs_background": "light"
     },
     "output_type": "display_data"
    }
   ],
   "source": [
    "sns.heatmap(loc_3.corr(), annot=True, square=True)\n",
    "plt.show()"
   ]
  },
  {
   "cell_type": "markdown",
   "metadata": {},
   "source": [
    "There is a weak positive correlation (0.45) between the `f2` feature and the target variable `product`."
   ]
  },
  {
   "cell_type": "markdown",
   "metadata": {},
   "source": [
    "Let's remove the unnecessary attribute `id` since it is not useful for the analysis and training of the model."
   ]
  },
  {
   "cell_type": "code",
   "execution_count": 16,
   "metadata": {},
   "outputs": [],
   "source": [
    "loc_1 = loc_1.drop('id', axis=1)\n",
    "loc_2 = loc_2.drop('id', axis=1)\n",
    "loc_3 = loc_3.drop('id', axis=1)"
   ]
  },
  {
   "cell_type": "markdown",
   "metadata": {},
   "source": [
    "### Conclusion"
   ]
  },
  {
   "cell_type": "markdown",
   "metadata": {},
   "source": [
    "The data consists of three tables of 100,000 observations and 4 columns. Each feature in the dataset is information about oil well. After studying the data, we can conclude the following:\n",
    "\n",
    "* there are no missing values or duplicate values in the data\n",
    "\n",
    "* in the data for the second region there is an anomalous distribution of the feature `f2`. Its distribution is very similar to the distribution of the target feature. There is also a strong positive correlation between them.\n",
    "\n",
    "* we removed unnecessary attribute `id`, since it is not useful for analysis and training of the model\n",
    "\n",
    "\n",
    "Now we can prepare the data."
   ]
  },
  {
   "cell_type": "markdown",
   "metadata": {},
   "source": [
    "Let's write a function to separate features and a target feature, as well as a function to view sample sizes."
   ]
  },
  {
   "cell_type": "code",
   "execution_count": 17,
   "metadata": {},
   "outputs": [],
   "source": [
    "def split_data(data, target_column):\n",
    "    return data.drop([target_column], axis=1), data[target_column]"
   ]
  },
  {
   "cell_type": "code",
   "execution_count": 18,
   "metadata": {},
   "outputs": [],
   "source": [
    "def shape(features_train, target_train, features_valid, target_valid):\n",
    "    return (\n",
    "        print('Features size of training set:', features_train.shape), \n",
    "        print('Target size of training set:', target_train.shape), \n",
    "        print('Features size of validation set:', features_valid.shape), \n",
    "        print('Target size of validation set:', target_valid.shape)\n",
    "    )"
   ]
  },
  {
   "cell_type": "markdown",
   "metadata": {},
   "source": [
    "Let's divide the data into features and a target variable."
   ]
  },
  {
   "cell_type": "code",
   "execution_count": 19,
   "metadata": {},
   "outputs": [],
   "source": [
    "features_1, target_1 = split_data(loc_1,'product')\n",
    "features_2, target_2 = split_data(loc_2,'product')\n",
    "features_3, target_3 = split_data(loc_3,'product')"
   ]
  },
  {
   "cell_type": "markdown",
   "metadata": {},
   "source": [
    "Let's split the data into two sets: training and validation. We will use the training set to train the model and adjust the hyperparameters, and the validation set to test the model."
   ]
  },
  {
   "cell_type": "code",
   "execution_count": 20,
   "metadata": {},
   "outputs": [],
   "source": [
    "features_1_train, features_1_valid, target_1_train, target_1_valid = train_test_split(\n",
    "    features_1,\n",
    "    target_1, \n",
    "    train_size=0.75, \n",
    "    random_state=12345\n",
    ")\n",
    "\n",
    "features_2_train, features_2_valid, target_2_train, target_2_valid = train_test_split(\n",
    "    features_2, \n",
    "    target_2, \n",
    "    train_size=0.75, \n",
    "    random_state=12345\n",
    ")\n",
    "\n",
    "features_3_train, features_3_valid, target_3_train, target_3_valid = train_test_split(\n",
    "    features_3, \n",
    "    target_3, \n",
    "    train_size=0.75, \n",
    "    random_state=12345\n",
    ")"
   ]
  },
  {
   "cell_type": "code",
   "execution_count": 21,
   "metadata": {},
   "outputs": [
    {
     "name": "stdout",
     "output_type": "stream",
     "text": [
      "Features size of training set: (75000, 3)\n",
      "Target size of training set: (75000,)\n",
      "Features size of validation set: (25000, 3)\n",
      "Target size of validation set: (25000,)\n"
     ]
    },
    {
     "data": {
      "text/plain": [
       "(None, None, None, None)"
      ]
     },
     "execution_count": 21,
     "metadata": {},
     "output_type": "execute_result"
    }
   ],
   "source": [
    "shape(features_1_train, target_1_train, features_1_valid, target_1_valid)"
   ]
  },
  {
   "cell_type": "code",
   "execution_count": 22,
   "metadata": {},
   "outputs": [
    {
     "name": "stdout",
     "output_type": "stream",
     "text": [
      "Features size of training set: (75000, 3)\n",
      "Target size of training set: (75000,)\n",
      "Features size of validation set: (25000, 3)\n",
      "Target size of validation set: (25000,)\n"
     ]
    },
    {
     "data": {
      "text/plain": [
       "(None, None, None, None)"
      ]
     },
     "execution_count": 22,
     "metadata": {},
     "output_type": "execute_result"
    }
   ],
   "source": [
    "shape(features_2_train, target_2_train, features_2_valid, target_2_valid)"
   ]
  },
  {
   "cell_type": "code",
   "execution_count": 23,
   "metadata": {
    "scrolled": true
   },
   "outputs": [
    {
     "name": "stdout",
     "output_type": "stream",
     "text": [
      "Features size of training set: (75000, 3)\n",
      "Target size of training set: (75000,)\n",
      "Features size of validation set: (25000, 3)\n",
      "Target size of validation set: (25000,)\n"
     ]
    },
    {
     "data": {
      "text/plain": [
       "(None, None, None, None)"
      ]
     },
     "execution_count": 23,
     "metadata": {},
     "output_type": "execute_result"
    }
   ],
   "source": [
    "shape(features_3_train, target_3_train, features_3_valid, target_3_valid)"
   ]
  },
  {
   "cell_type": "markdown",
   "metadata": {},
   "source": [
    "We divided the data into two sets in a ratio of 75 to 25:\n",
    "\n",
    "    * features_train, target_train - training set\n",
    "    * features_valid, target_valid - validation set"
   ]
  },
  {
   "cell_type": "markdown",
   "metadata": {},
   "source": [
    "## Model training and validation"
   ]
  },
  {
   "cell_type": "markdown",
   "metadata": {},
   "source": [
    "### Region 1"
   ]
  },
  {
   "cell_type": "markdown",
   "metadata": {},
   "source": [
    "Let's tune hyperparameters using the GridSearchCV tool"
   ]
  },
  {
   "cell_type": "code",
   "execution_count": 24,
   "metadata": {},
   "outputs": [],
   "source": [
    "reg_1_params = {'fit_intercept':[True,False], 'copy_X':[True, False]}\n",
    "model_1 = LinearRegression()\n",
    "\n",
    "grid_reg_1 = GridSearchCV(model_1, reg_1_params, cv=5, scoring='r2')\n",
    "grid_reg_1.fit(features_1_train, target_1_train)\n",
    "best_params_1 = grid_reg_1.best_params_"
   ]
  },
  {
   "cell_type": "markdown",
   "metadata": {},
   "source": [
    "Train the model and test it on the validation set."
   ]
  },
  {
   "cell_type": "code",
   "execution_count": 25,
   "metadata": {
    "scrolled": true
   },
   "outputs": [
    {
     "name": "stdout",
     "output_type": "stream",
     "text": [
      "R2: 0.27994321524487786\n",
      "MSE = 1412.2129364399243\n",
      "RMSE = 37.5794217150813\n",
      "MAE:  30.919600777151313\n",
      "Average reserve (thousand barrels): 92.59256778438035\n"
     ]
    }
   ],
   "source": [
    "model_reg_1 = LinearRegression(**best_params_1) \n",
    "model_reg_1.fit(features_1_train, target_1_train) \n",
    "predicted_valid_1 = model_reg_1.predict(features_1_valid)\n",
    "mse = mean_squared_error(target_1_valid, predicted_valid_1)\n",
    "\n",
    "print('R2:',  model_reg_1.score(features_1_valid, target_1_valid))\n",
    "print('MSE =', mse)\n",
    "print('RMSE =', mse ** 0.5)\n",
    "print('MAE: ', mean_absolute_error(target_1_valid, predicted_valid_1))\n",
    "print('Average reserve (thousand barrels):', predicted_valid_1.mean())"
   ]
  },
  {
   "cell_type": "markdown",
   "metadata": {},
   "source": [
    "Let's do a sanity check by comparing the MAE of the trained model with the MAE of the constant model (median)."
   ]
  },
  {
   "cell_type": "code",
   "execution_count": 26,
   "metadata": {},
   "outputs": [
    {
     "name": "stdout",
     "output_type": "stream",
     "text": [
      "Median\n",
      "MAE of the constant model:  37.67178003955267\n"
     ]
    }
   ],
   "source": [
    "pred_const_1 = pd.Series(target_1_train.median(), index=target_1_valid.index)\n",
    "print('Median')\n",
    "print('MAE of the constant model: ', mean_absolute_error(target_1_valid, pred_const_1))"
   ]
  },
  {
   "cell_type": "markdown",
   "metadata": {},
   "source": [
    "The trained model passed the sanity test since its mean absolute deviation (MAE) is lower than that of the constant model. "
   ]
  },
  {
   "cell_type": "markdown",
   "metadata": {},
   "source": [
    "### Region 2"
   ]
  },
  {
   "cell_type": "markdown",
   "metadata": {},
   "source": [
    "Let's tune hyperparameters using the GridSearchCV tool"
   ]
  },
  {
   "cell_type": "code",
   "execution_count": 27,
   "metadata": {},
   "outputs": [],
   "source": [
    "reg_2_params = {'fit_intercept':[True,False], 'copy_X':[True, False]}\n",
    "model_2 = LinearRegression()\n",
    "\n",
    "grid_reg_2 = GridSearchCV(model_2, reg_2_params, cv=5, scoring='r2')\n",
    "grid_reg_2.fit(features_2_train, target_2_train)\n",
    "best_params_2 = grid_reg_2.best_params_"
   ]
  },
  {
   "cell_type": "markdown",
   "metadata": {},
   "source": [
    "Train the model and test it on the validation set."
   ]
  },
  {
   "cell_type": "code",
   "execution_count": 28,
   "metadata": {},
   "outputs": [
    {
     "name": "stdout",
     "output_type": "stream",
     "text": [
      "R2: 0.9996233978805127\n",
      "MSE = 0.7976263360391158\n",
      "RMSE = 0.893099286775617\n",
      "MAE:  0.7187662442124758\n",
      "Average reserve (thousand barrels): 68.72854689544602\n"
     ]
    }
   ],
   "source": [
    "model_reg_2 = LinearRegression(**best_params_2) \n",
    "model_reg_2.fit(features_2_train, target_2_train) \n",
    "predicted_valid_2 = model_reg_2.predict(features_2_valid)\n",
    "mse = mean_squared_error(target_2_valid, predicted_valid_2)\n",
    "\n",
    "print('R2:',  model_reg_2.score(features_2_valid, target_2_valid))\n",
    "print('MSE =', mse)\n",
    "print('RMSE =', mse ** 0.5)\n",
    "print('MAE: ', mean_absolute_error(target_2_valid, predicted_valid_2))\n",
    "print('Average reserve (thousand barrels):', predicted_valid_2.mean())"
   ]
  },
  {
   "cell_type": "markdown",
   "metadata": {},
   "source": [
    "Let's do a sanity check by comparing the MAE of the trained model with the MAE of the constant model (median)."
   ]
  },
  {
   "cell_type": "code",
   "execution_count": 29,
   "metadata": {
    "scrolled": true
   },
   "outputs": [
    {
     "name": "stdout",
     "output_type": "stream",
     "text": [
      "Median\n",
      "MAE of the constant model:  40.26547941945416\n"
     ]
    }
   ],
   "source": [
    "pred_const_2 = pd.Series(target_2_train.median(), index=target_2_valid.index)\n",
    "print('Median')\n",
    "print('MAE of the constant model: ', mean_absolute_error(target_2_valid, pred_const_2))"
   ]
  },
  {
   "cell_type": "markdown",
   "metadata": {},
   "source": [
    "The trained model passed the sanity test since its mean absolute deviation (MAE) is lower than that of the constant model. "
   ]
  },
  {
   "cell_type": "markdown",
   "metadata": {},
   "source": [
    "### Region 3"
   ]
  },
  {
   "cell_type": "markdown",
   "metadata": {},
   "source": [
    "Let's tune hyperparameters using the GridSearchCV tool"
   ]
  },
  {
   "cell_type": "code",
   "execution_count": 30,
   "metadata": {},
   "outputs": [],
   "source": [
    "reg_3_params = {'fit_intercept':[True,False], 'copy_X':[True, False]}\n",
    "model_3 = LinearRegression()\n",
    "\n",
    "grid_reg_3 = GridSearchCV(model_3, reg_3_params, cv=5, scoring='r2')\n",
    "grid_reg_3.fit(features_3_train, target_3_train)\n",
    "best_params_3 = grid_reg_3.best_params_"
   ]
  },
  {
   "cell_type": "markdown",
   "metadata": {},
   "source": [
    "Train the model and test it on the validation set."
   ]
  },
  {
   "cell_type": "code",
   "execution_count": 31,
   "metadata": {
    "scrolled": true
   },
   "outputs": [
    {
     "name": "stdout",
     "output_type": "stream",
     "text": [
      "R2: 0.20524758386040443\n",
      "MSE = 1602.3775813236196\n",
      "RMSE = 40.02970873393434\n",
      "MAE:  32.792652105481814\n",
      "Average reserve (thousand barrels): 94.96504596800489\n"
     ]
    }
   ],
   "source": [
    "model_reg_3 = LinearRegression(**best_params_3) \n",
    "model_reg_3.fit(features_3_train, target_3_train) \n",
    "predicted_valid_3 = model_reg_3.predict(features_3_valid)\n",
    "mse = mean_squared_error(target_3_valid, predicted_valid_3)\n",
    "\n",
    "print('R2:',  model_reg_3.score(features_3_valid, target_3_valid))\n",
    "print('MSE =', mse)\n",
    "print('RMSE =', mse ** 0.5)\n",
    "print('MAE: ', mean_absolute_error(target_3_valid, predicted_valid_3))\n",
    "print('Average reserve (thousand barrels):', predicted_valid_3.mean())"
   ]
  },
  {
   "cell_type": "markdown",
   "metadata": {},
   "source": [
    "Let's do a sanity check by comparing the MAE of the trained model with the MAE of the constant model (median)."
   ]
  },
  {
   "cell_type": "code",
   "execution_count": 32,
   "metadata": {},
   "outputs": [
    {
     "name": "stdout",
     "output_type": "stream",
     "text": [
      "Median\n",
      "MAE of the constant model:  37.92103997436729\n"
     ]
    }
   ],
   "source": [
    "pred_const_3 = pd.Series(target_3_train.median(), index=target_3_valid.index)\n",
    "print('Median')\n",
    "print('MAE of the constant model: ', mean_absolute_error(target_3_valid, pred_const_3))"
   ]
  },
  {
   "cell_type": "markdown",
   "metadata": {},
   "source": [
    "The trained model passed the sanity test since its mean absolute deviation (MAE) is lower than that of the constant model. "
   ]
  },
  {
   "cell_type": "markdown",
   "metadata": {},
   "source": [
    "### Conclusion"
   ]
  },
  {
   "cell_type": "markdown",
   "metadata": {},
   "source": [
    "Average oil reserves for the region, predicted by the model (thousand barrels):\n",
    "\n",
    "        Region 1: 92.5925\n",
    "        Region 2: 68.7285\n",
    "        Region 3: 94.9650\n",
    "\n",
    "\n",
    "We built linear regression models for three regions and calculated RMSE:\n",
    "\n",
    "        RMSE 1 models: 37.579\n",
    "        RMSE 2 models: 0.893\n",
    "        RMSE 3 models: 40.029\n",
    "\n",
    "The first and the third models show a rather large error value - almost half of the average value of reserves in the region. The second model behaves too ideally - it showed the coefficient of determination equal to almost 1, as well as RMSE 0.89. We also noted earlier that the `f2` feature showed a strong positive correlation and a similar distribution to the target variable. Thus, we cannot use the second region's model to make predictions and we need to request additional information about features.  "
   ]
  },
  {
   "cell_type": "markdown",
   "metadata": {},
   "source": [
    "## Preparation for profit calculation"
   ]
  },
  {
   "cell_type": "markdown",
   "metadata": {},
   "source": [
    "The budget for the development of wells in the region is 10 billion rubles.  \n",
    "\n",
    "At current prices, one barrel of raw materials brings 450 rubles of income.  \n",
    "\n",
    "The income from each unit of the product is 450 thousand rubles, since the volume is indicated in thousands of barrels."
   ]
  },
  {
   "cell_type": "code",
   "execution_count": 33,
   "metadata": {},
   "outputs": [],
   "source": [
    "BUDGET = 10*10**9\n",
    "BEST_POINTS = 200\n",
    "REVENUE_PER_1000_BARRELS = 450*10**3\n",
    "PRICE_PER_POINT = int(BUDGET / BEST_POINTS)"
   ]
  },
  {
   "cell_type": "markdown",
   "metadata": {},
   "source": [
    "Let's calculate the sufficient oil reserve for the break-even development of a new well."
   ]
  },
  {
   "cell_type": "code",
   "execution_count": 34,
   "metadata": {},
   "outputs": [
    {
     "name": "stdout",
     "output_type": "stream",
     "text": [
      "Oil well reserve to achieve break-even: 111.11 thousand barrels\n"
     ]
    }
   ],
   "source": [
    "min_reserve_per_point = PRICE_PER_POINT / REVENUE_PER_1000_BARRELS\n",
    "print(f'Oil well reserve to achieve break-even: {min_reserve_per_point:.2f} thousand barrels')"
   ]
  },
  {
   "cell_type": "markdown",
   "metadata": {},
   "source": [
    "Let's compare the result with the average oil reserve in each region."
   ]
  },
  {
   "cell_type": "code",
   "execution_count": 35,
   "metadata": {},
   "outputs": [],
   "source": [
    "means = pd.DataFrame(\n",
    "    [predicted_valid_1.mean(), predicted_valid_2.mean(), predicted_valid_3.mean()], \n",
    "    columns=['mean'],\n",
    "    index=['Region_1', 'Region_2', 'Region_3']\n",
    ")"
   ]
  },
  {
   "cell_type": "code",
   "execution_count": 36,
   "metadata": {},
   "outputs": [
    {
     "data": {
      "text/html": [
       "<div>\n",
       "<style scoped>\n",
       "    .dataframe tbody tr th:only-of-type {\n",
       "        vertical-align: middle;\n",
       "    }\n",
       "\n",
       "    .dataframe tbody tr th {\n",
       "        vertical-align: top;\n",
       "    }\n",
       "\n",
       "    .dataframe thead th {\n",
       "        text-align: right;\n",
       "    }\n",
       "</style>\n",
       "<table border=\"1\" class=\"dataframe\">\n",
       "  <thead>\n",
       "    <tr style=\"text-align: right;\">\n",
       "      <th></th>\n",
       "      <th>mean</th>\n",
       "      <th>difference</th>\n",
       "    </tr>\n",
       "  </thead>\n",
       "  <tbody>\n",
       "    <tr>\n",
       "      <th>Region_1</th>\n",
       "      <td>92.592568</td>\n",
       "      <td>-18.518543</td>\n",
       "    </tr>\n",
       "    <tr>\n",
       "      <th>Region_2</th>\n",
       "      <td>68.728547</td>\n",
       "      <td>-42.382564</td>\n",
       "    </tr>\n",
       "    <tr>\n",
       "      <th>Region_3</th>\n",
       "      <td>94.965046</td>\n",
       "      <td>-16.146065</td>\n",
       "    </tr>\n",
       "  </tbody>\n",
       "</table>\n",
       "</div>"
      ],
      "text/plain": [
       "               mean  difference\n",
       "Region_1  92.592568  -18.518543\n",
       "Region_2  68.728547  -42.382564\n",
       "Region_3  94.965046  -16.146065"
      ]
     },
     "execution_count": 36,
     "metadata": {},
     "output_type": "execute_result"
    }
   ],
   "source": [
    "means['difference'] = means['mean']-min_reserve_per_point\n",
    "means"
   ]
  },
  {
   "cell_type": "markdown",
   "metadata": {},
   "source": [
    "### Conclusion"
   ]
  },
  {
   "cell_type": "markdown",
   "metadata": {},
   "source": [
    "In all three regions, the average oil reserve is lower than the calculated volume of oil needed for the break-even development of a new well. If we used only the indicators of the average reserve for the entire sample, then it would be unprofitable to drill wells in any of the regions. Since we will be selecting the top 200 wells, let's look at further results."
   ]
  },
  {
   "cell_type": "markdown",
   "metadata": {},
   "source": [
    "## Profit and risks calculation "
   ]
  },
  {
   "cell_type": "markdown",
   "metadata": {},
   "source": [
    "### Profit Calculation"
   ]
  },
  {
   "cell_type": "markdown",
   "metadata": {},
   "source": [
    "Let's make a function to calculate the profit:\n",
    "\n",
    "* select 200 wells with the best predictions\n",
    "* sum the target value corresponding to these predictions\n",
    "* calculate the profit"
   ]
  },
  {
   "cell_type": "code",
   "execution_count": 37,
   "metadata": {},
   "outputs": [],
   "source": [
    "def profit(target, predictions):\n",
    "    target = pd.Series(target).reset_index(drop=True)\n",
    "    preds_sorted = pd.Series(predictions).reset_index(drop=True).sort_values(ascending=False)\n",
    "    selected = target[preds_sorted.index][:BEST_POINTS]\n",
    "    return ((REVENUE_PER_1000_BARRELS * selected.sum()) - BUDGET) / 10**9"
   ]
  },
  {
   "cell_type": "code",
   "execution_count": 38,
   "metadata": {
    "scrolled": true
   },
   "outputs": [
    {
     "name": "stdout",
     "output_type": "stream",
     "text": [
      "Region 1 profit: 3.32 bil. rub.\n",
      "Region 2 profit: 2.42 bil. rub.\n",
      "Region 3 profit: 2.71 bil. rub.\n"
     ]
    }
   ],
   "source": [
    "print(f'Region 1 profit: {profit(target_1_valid, predicted_valid_1):.2f} bil. rub.')\n",
    "print(f'Region 2 profit: {profit(target_2_valid, predicted_valid_2):.2f} bil. rub.')\n",
    "print(f'Region 3 profit: {profit(target_3_valid, predicted_valid_3):.2f} bil. rub.')"
   ]
  },
  {
   "cell_type": "markdown",
   "metadata": {},
   "source": [
    "Using the Bootstrap technique, let's find the distribution of profits and risks. To do this, let's write a function and apply it to our data."
   ]
  },
  {
   "cell_type": "code",
   "execution_count": 39,
   "metadata": {},
   "outputs": [],
   "source": [
    "def bootstrap (target, predictions):\n",
    "    values = []\n",
    "    state = np.random.RandomState(12345)\n",
    "    \n",
    "    for i in range(1000):\n",
    "        target_subsample = target.reset_index(drop=True).sample(n=500, replace=True, random_state=state)\n",
    "        preds_subsample = predictions[target_subsample.index]\n",
    "        values.append(profit(target_subsample, preds_subsample))\n",
    "\n",
    "        \n",
    "    values = pd.Series(values)\n",
    "    mean = values.mean()\n",
    "    lower = values.quantile(0.025)\n",
    "    upper = values.quantile(0.975)\n",
    "    confidence_interval = st.t.interval(0.95, len(values)-1, values.mean(), values.sem())\n",
    "\n",
    "    print(f'Average profit: {mean:.2f}')\n",
    "    print(f'2.5%-quantile : {lower:.2f}')\n",
    "    print(f'97.5%-quantile : {upper:.2f}')\n",
    "    print(f'95% confidence interval:', confidence_interval)\n",
    "    print(f'Loss risk: {(values < 0).mean():.2%}')   "
   ]
  },
  {
   "cell_type": "markdown",
   "metadata": {},
   "source": [
    "**Region 1**"
   ]
  },
  {
   "cell_type": "code",
   "execution_count": 40,
   "metadata": {},
   "outputs": [
    {
     "name": "stdout",
     "output_type": "stream",
     "text": [
      "Average profit: 0.40\n",
      "2.5%-quantile : -0.11\n",
      "97.5%-quantile : 0.91\n",
      "95% confidence interval: (0.3796203151479724, 0.4127096544567696)\n",
      "Loss risk: 6.90%\n"
     ]
    }
   ],
   "source": [
    "bootstrap(target_1_valid, predicted_valid_1)"
   ]
  },
  {
   "cell_type": "markdown",
   "metadata": {},
   "source": [
    "In the sample obtained by the Bootstrap technique, we got a 95% chance of getting more than 0.38 billion rubles in profit. At the same time, the risks of loss are 6.90%."
   ]
  },
  {
   "cell_type": "markdown",
   "metadata": {},
   "source": [
    "**Region 2**"
   ]
  },
  {
   "cell_type": "code",
   "execution_count": 41,
   "metadata": {
    "scrolled": true
   },
   "outputs": [
    {
     "name": "stdout",
     "output_type": "stream",
     "text": [
      "Average profit: 0.46\n",
      "2.5%-quantile : 0.03\n",
      "97.5%-quantile : 0.85\n",
      "95% confidence interval: (0.4431472486638998, 0.46894296290942034)\n",
      "Loss risk: 1.50%\n"
     ]
    }
   ],
   "source": [
    "bootstrap(target_2_valid, predicted_valid_2)"
   ]
  },
  {
   "cell_type": "markdown",
   "metadata": {},
   "source": [
    "In the sample obtained by the Bootstrap technique, we got a 95% chance of getting more than 0.44 billion rubles in profit. At the same time, the risks of loss are 1.50%."
   ]
  },
  {
   "cell_type": "markdown",
   "metadata": {},
   "source": [
    "**Region 3**"
   ]
  },
  {
   "cell_type": "code",
   "execution_count": 42,
   "metadata": {
    "scrolled": false
   },
   "outputs": [
    {
     "name": "stdout",
     "output_type": "stream",
     "text": [
      "Average profit: 0.40\n",
      "2.5%-quantile : -0.16\n",
      "97.5%-quantile : 0.95\n",
      "95% confidence interval: (0.3874457974712805, 0.42136193566543334)\n",
      "Loss risk: 7.60%\n"
     ]
    }
   ],
   "source": [
    "bootstrap(target_3_valid, predicted_valid_3)"
   ]
  },
  {
   "cell_type": "markdown",
   "metadata": {},
   "source": [
    "In the sample obtained by the Bootstrap technique, we got a 95% chance of getting more than 0.39 billion rubles in profit. At the same time, the risks of loss are 7.60%."
   ]
  },
  {
   "cell_type": "markdown",
   "metadata": {},
   "source": [
    "## Conclusion"
   ]
  },
  {
   "cell_type": "markdown",
   "metadata": {},
   "source": [
    "During the project we studied the data, checked the distributions of values and correlations, and removed the `id` column that is not useful for models. We split the data into two sets (training and validation) in the proportion of 75:25. Then we trained a linear regression model and tuned hyperparameters using GridSearchCV. Then we did a sanity test to check the models for adequacy. We also calculated profit and risks for each region.\n",
    "\n",
    "The first region showed the highest profit - 3.32 billion rubles.\n",
    "\n",
    "Using the Bootstrap technique, we calculated the average profit and risk. The best results were obtained in the first two regions. At the same time, according to our analysis and model performance indicatiors we came to the conclusion that the model trained on the data of the second region should not be considered, since we found anomalies in the data and a strong positive correlation - 1, which greatly influenced the predictions. The coefficient of determination `R2` is 1, and `RMSE` is 0.893. It is necessary to request additional information, correct the anomalies and errors in the data, and retrain the model.\n",
    "\n",
    "Thus, based on these models and the results of the Bootstrap technique, the recommended region for development is Region 1. "
   ]
  }
 ],
 "metadata": {
  "ExecuteTimeLog": [
   {
    "duration": 3149,
    "start_time": "2022-07-03T17:29:49.156Z"
   },
   {
    "duration": 15,
    "start_time": "2022-07-03T17:30:42.695Z"
   },
   {
    "duration": 14,
    "start_time": "2022-07-03T17:30:51.356Z"
   },
   {
    "duration": 13,
    "start_time": "2022-07-03T17:30:52.895Z"
   },
   {
    "duration": 45,
    "start_time": "2022-07-03T17:34:05.724Z"
   },
   {
    "duration": 54,
    "start_time": "2022-07-03T17:34:09.835Z"
   },
   {
    "duration": 36,
    "start_time": "2022-07-03T17:34:11.768Z"
   },
   {
    "duration": 41,
    "start_time": "2022-07-03T17:34:16.598Z"
   },
   {
    "duration": 43,
    "start_time": "2022-07-03T17:34:35.388Z"
   },
   {
    "duration": 67,
    "start_time": "2022-07-03T17:34:36.289Z"
   },
   {
    "duration": 3354,
    "start_time": "2022-07-05T20:09:55.319Z"
   },
   {
    "duration": 17,
    "start_time": "2022-07-05T20:09:59.638Z"
   },
   {
    "duration": 15,
    "start_time": "2022-07-05T20:10:00.790Z"
   },
   {
    "duration": 22,
    "start_time": "2022-07-05T20:10:01.653Z"
   },
   {
    "duration": 18,
    "start_time": "2022-07-05T20:11:01.107Z"
   },
   {
    "duration": 38,
    "start_time": "2022-07-05T20:11:05.683Z"
   },
   {
    "duration": 19,
    "start_time": "2022-07-05T20:11:14.943Z"
   },
   {
    "duration": 19,
    "start_time": "2022-07-05T20:11:18.745Z"
   },
   {
    "duration": 11,
    "start_time": "2022-07-05T20:11:21.751Z"
   },
   {
    "duration": 149,
    "start_time": "2022-07-05T20:12:36.614Z"
   },
   {
    "duration": 371,
    "start_time": "2022-07-05T20:12:40.301Z"
   },
   {
    "duration": 15,
    "start_time": "2022-07-05T20:12:41.441Z"
   },
   {
    "duration": 14,
    "start_time": "2022-07-05T20:12:42.697Z"
   },
   {
    "duration": 19,
    "start_time": "2022-07-05T20:12:43.622Z"
   },
   {
    "duration": 15,
    "start_time": "2022-07-05T20:12:51.646Z"
   },
   {
    "duration": 15,
    "start_time": "2022-07-05T20:12:59.356Z"
   },
   {
    "duration": 14,
    "start_time": "2022-07-05T20:13:03.223Z"
   },
   {
    "duration": 11,
    "start_time": "2022-07-05T20:13:05.735Z"
   },
   {
    "duration": 14,
    "start_time": "2022-07-05T20:13:08.952Z"
   },
   {
    "duration": 32,
    "start_time": "2022-07-05T20:13:24.554Z"
   },
   {
    "duration": 24,
    "start_time": "2022-07-05T20:13:25.261Z"
   },
   {
    "duration": 32,
    "start_time": "2022-07-05T20:13:25.942Z"
   },
   {
    "duration": 3,
    "start_time": "2022-07-05T20:16:00.500Z"
   },
   {
    "duration": 7,
    "start_time": "2022-07-05T20:16:03.093Z"
   },
   {
    "duration": 2497,
    "start_time": "2022-07-08T19:04:48.576Z"
   },
   {
    "duration": 17,
    "start_time": "2022-07-08T19:04:51.807Z"
   },
   {
    "duration": 15,
    "start_time": "2022-07-08T19:04:53.289Z"
   },
   {
    "duration": 14,
    "start_time": "2022-07-08T19:04:54.232Z"
   },
   {
    "duration": 16,
    "start_time": "2022-07-08T19:04:56.943Z"
   },
   {
    "duration": 29,
    "start_time": "2022-07-08T19:04:59.787Z"
   },
   {
    "duration": 22,
    "start_time": "2022-07-08T19:05:00.495Z"
   },
   {
    "duration": 37,
    "start_time": "2022-07-08T19:05:01.153Z"
   },
   {
    "duration": 3,
    "start_time": "2022-07-08T19:05:02.938Z"
   },
   {
    "duration": 5,
    "start_time": "2022-07-08T19:05:04.006Z"
   },
   {
    "duration": 10,
    "start_time": "2022-07-08T19:05:05.643Z"
   },
   {
    "duration": 40,
    "start_time": "2022-07-08T19:05:08.338Z"
   },
   {
    "duration": 5,
    "start_time": "2022-07-08T19:05:13.597Z"
   },
   {
    "duration": 6,
    "start_time": "2022-07-08T19:05:16.472Z"
   },
   {
    "duration": 5,
    "start_time": "2022-07-08T19:05:18.595Z"
   },
   {
    "duration": 1915,
    "start_time": "2022-07-08T19:05:20.751Z"
   },
   {
    "duration": 19,
    "start_time": "2022-07-08T19:05:25.916Z"
   },
   {
    "duration": 4,
    "start_time": "2022-07-08T19:05:56.945Z"
   },
   {
    "duration": 20,
    "start_time": "2022-07-08T19:06:14.966Z"
   },
   {
    "duration": 5,
    "start_time": "2022-07-08T19:06:17.775Z"
   },
   {
    "duration": 4,
    "start_time": "2022-07-08T19:06:23.777Z"
   },
   {
    "duration": 28,
    "start_time": "2022-07-08T19:06:56.316Z"
   },
   {
    "duration": 6,
    "start_time": "2022-07-08T19:07:11.174Z"
   },
   {
    "duration": 44,
    "start_time": "2022-07-08T19:07:42.751Z"
   },
   {
    "duration": 18,
    "start_time": "2022-07-08T19:07:49.329Z"
   },
   {
    "duration": 5,
    "start_time": "2022-07-08T19:08:02.001Z"
   },
   {
    "duration": 121,
    "start_time": "2022-07-08T19:10:18.955Z"
   },
   {
    "duration": 3,
    "start_time": "2022-07-08T19:10:21.721Z"
   },
   {
    "duration": 3,
    "start_time": "2022-07-08T19:10:22.816Z"
   },
   {
    "duration": 4,
    "start_time": "2022-07-08T19:16:40.409Z"
   },
   {
    "duration": 17,
    "start_time": "2022-07-08T19:48:27.040Z"
   },
   {
    "duration": 22,
    "start_time": "2022-07-08T19:48:53.348Z"
   },
   {
    "duration": 21,
    "start_time": "2022-07-08T19:49:11.754Z"
   },
   {
    "duration": 47,
    "start_time": "2022-07-13T09:24:29.467Z"
   },
   {
    "duration": 6,
    "start_time": "2022-07-13T09:27:17.662Z"
   },
   {
    "duration": 3214,
    "start_time": "2022-07-13T09:27:21.744Z"
   },
   {
    "duration": 17,
    "start_time": "2022-07-13T09:27:26.060Z"
   },
   {
    "duration": 16,
    "start_time": "2022-07-13T09:27:27.159Z"
   },
   {
    "duration": 15,
    "start_time": "2022-07-13T09:27:27.970Z"
   },
   {
    "duration": 18,
    "start_time": "2022-07-13T09:27:29.497Z"
   },
   {
    "duration": 98,
    "start_time": "2022-07-13T09:27:30.114Z"
   },
   {
    "duration": 14,
    "start_time": "2022-07-13T09:27:39.709Z"
   },
   {
    "duration": 13,
    "start_time": "2022-07-13T09:27:42.352Z"
   },
   {
    "duration": 37,
    "start_time": "2022-07-13T09:27:45.190Z"
   },
   {
    "duration": 25,
    "start_time": "2022-07-13T09:27:45.954Z"
   },
   {
    "duration": 40,
    "start_time": "2022-07-13T09:27:46.563Z"
   },
   {
    "duration": 3,
    "start_time": "2022-07-13T09:27:48.405Z"
   },
   {
    "duration": 4,
    "start_time": "2022-07-13T09:27:49.093Z"
   },
   {
    "duration": 9,
    "start_time": "2022-07-13T09:27:50.181Z"
   },
   {
    "duration": 37,
    "start_time": "2022-07-13T09:27:51.482Z"
   },
   {
    "duration": 5,
    "start_time": "2022-07-13T09:27:52.690Z"
   },
   {
    "duration": 6,
    "start_time": "2022-07-13T09:27:53.598Z"
   },
   {
    "duration": 5,
    "start_time": "2022-07-13T09:27:54.334Z"
   },
   {
    "duration": 10,
    "start_time": "2022-07-13T09:27:56.497Z"
   },
   {
    "duration": 2092,
    "start_time": "2022-07-13T09:28:10.613Z"
   },
   {
    "duration": 20,
    "start_time": "2022-07-13T09:28:14.065Z"
   },
   {
    "duration": 18,
    "start_time": "2022-07-13T09:28:26.258Z"
   },
   {
    "duration": 10,
    "start_time": "2022-07-13T09:28:48.778Z"
   },
   {
    "duration": 1435,
    "start_time": "2022-07-13T09:28:57.569Z"
   },
   {
    "duration": 18,
    "start_time": "2022-07-13T09:28:59.706Z"
   },
   {
    "duration": 1740,
    "start_time": "2022-07-13T09:29:13.178Z"
   },
   {
    "duration": 17,
    "start_time": "2022-07-13T09:29:20.660Z"
   },
   {
    "duration": 18,
    "start_time": "2022-07-13T09:30:00.910Z"
   },
   {
    "duration": 18,
    "start_time": "2022-07-13T09:30:01.615Z"
   },
   {
    "duration": 18,
    "start_time": "2022-07-13T09:30:02.486Z"
   },
   {
    "duration": 1773,
    "start_time": "2022-07-13T09:30:03.743Z"
   },
   {
    "duration": 19,
    "start_time": "2022-07-13T09:30:06.065Z"
   },
   {
    "duration": 3,
    "start_time": "2022-07-13T09:30:19.830Z"
   },
   {
    "duration": 2,
    "start_time": "2022-07-13T09:30:21.274Z"
   },
   {
    "duration": 5,
    "start_time": "2022-07-13T09:30:26.082Z"
   },
   {
    "duration": 2267,
    "start_time": "2022-07-14T07:34:15.729Z"
   },
   {
    "duration": 21,
    "start_time": "2022-07-14T07:34:20.168Z"
   },
   {
    "duration": 13,
    "start_time": "2022-07-14T07:34:21.646Z"
   },
   {
    "duration": 14,
    "start_time": "2022-07-14T07:34:22.599Z"
   },
   {
    "duration": 114,
    "start_time": "2022-07-14T07:34:25.610Z"
   },
   {
    "duration": 13,
    "start_time": "2022-07-14T07:34:34.278Z"
   },
   {
    "duration": 34,
    "start_time": "2022-07-14T07:34:41.204Z"
   },
   {
    "duration": 37,
    "start_time": "2022-07-14T07:34:42.148Z"
   },
   {
    "duration": 50,
    "start_time": "2022-07-14T07:34:43.090Z"
   },
   {
    "duration": 3,
    "start_time": "2022-07-14T07:34:44.376Z"
   },
   {
    "duration": 3,
    "start_time": "2022-07-14T07:34:45.180Z"
   },
   {
    "duration": 12,
    "start_time": "2022-07-14T07:34:46.539Z"
   },
   {
    "duration": 41,
    "start_time": "2022-07-14T07:34:47.257Z"
   },
   {
    "duration": 6,
    "start_time": "2022-07-14T07:34:48.742Z"
   },
   {
    "duration": 7,
    "start_time": "2022-07-14T07:34:50.117Z"
   },
   {
    "duration": 5,
    "start_time": "2022-07-14T07:34:50.932Z"
   },
   {
    "duration": 1805,
    "start_time": "2022-07-14T07:34:52.637Z"
   },
   {
    "duration": 18,
    "start_time": "2022-07-14T07:34:56.058Z"
   },
   {
    "duration": 449,
    "start_time": "2022-07-14T07:35:02.778Z"
   },
   {
    "duration": 12,
    "start_time": "2022-07-14T07:35:14.882Z"
   },
   {
    "duration": 488,
    "start_time": "2022-07-14T07:35:19.090Z"
   },
   {
    "duration": 1744,
    "start_time": "2022-07-14T07:35:30.411Z"
   },
   {
    "duration": 16,
    "start_time": "2022-07-14T07:35:33.436Z"
   },
   {
    "duration": 21,
    "start_time": "2022-07-14T07:35:34.495Z"
   },
   {
    "duration": 25,
    "start_time": "2022-07-14T07:35:35.530Z"
   },
   {
    "duration": 122,
    "start_time": "2022-07-14T07:35:40.774Z"
   },
   {
    "duration": 13,
    "start_time": "2022-07-14T07:35:49.753Z"
   },
   {
    "duration": 355,
    "start_time": "2022-07-14T07:35:53.948Z"
   },
   {
    "duration": 14,
    "start_time": "2022-07-14T07:35:55.977Z"
   },
   {
    "duration": 16,
    "start_time": "2022-07-14T07:35:57.271Z"
   },
   {
    "duration": 26,
    "start_time": "2022-07-14T07:35:58.428Z"
   },
   {
    "duration": 14,
    "start_time": "2022-07-14T07:36:01.103Z"
   },
   {
    "duration": 32,
    "start_time": "2022-07-14T07:36:02.625Z"
   },
   {
    "duration": 27,
    "start_time": "2022-07-14T07:36:03.431Z"
   },
   {
    "duration": 32,
    "start_time": "2022-07-14T07:36:04.248Z"
   },
   {
    "duration": 5,
    "start_time": "2022-07-14T07:36:32.686Z"
   },
   {
    "duration": 5,
    "start_time": "2022-07-14T07:36:33.753Z"
   },
   {
    "duration": 9,
    "start_time": "2022-07-14T07:36:34.983Z"
   },
   {
    "duration": 42,
    "start_time": "2022-07-14T07:36:36.381Z"
   },
   {
    "duration": 6,
    "start_time": "2022-07-14T07:36:39.040Z"
   },
   {
    "duration": 5,
    "start_time": "2022-07-14T07:36:40.363Z"
   },
   {
    "duration": 5,
    "start_time": "2022-07-14T07:36:41.823Z"
   },
   {
    "duration": 1643,
    "start_time": "2022-07-14T07:36:45.005Z"
   },
   {
    "duration": 17,
    "start_time": "2022-07-14T07:36:47.889Z"
   },
   {
    "duration": 1656,
    "start_time": "2022-07-14T07:36:51.896Z"
   },
   {
    "duration": 97,
    "start_time": "2022-07-14T07:36:55.747Z"
   },
   {
    "duration": 1703,
    "start_time": "2022-07-14T07:36:57.639Z"
   },
   {
    "duration": 24,
    "start_time": "2022-07-14T07:37:00.649Z"
   },
   {
    "duration": 3,
    "start_time": "2022-07-14T07:37:04.565Z"
   },
   {
    "duration": 3,
    "start_time": "2022-07-14T07:37:05.765Z"
   },
   {
    "duration": 5,
    "start_time": "2022-07-14T07:37:07.195Z"
   },
   {
    "duration": 5,
    "start_time": "2022-07-14T07:37:19.401Z"
   },
   {
    "duration": 4,
    "start_time": "2022-07-14T07:37:28.108Z"
   },
   {
    "duration": 4,
    "start_time": "2022-07-14T07:37:30.479Z"
   },
   {
    "duration": 12,
    "start_time": "2022-07-14T07:40:18.701Z"
   },
   {
    "duration": 23,
    "start_time": "2022-07-14T07:40:30.774Z"
   },
   {
    "duration": 9,
    "start_time": "2022-07-14T07:40:50.553Z"
   },
   {
    "duration": 9,
    "start_time": "2022-07-14T07:43:15.618Z"
   },
   {
    "duration": 8,
    "start_time": "2022-07-14T07:43:23.146Z"
   },
   {
    "duration": 8,
    "start_time": "2022-07-14T07:43:26.975Z"
   },
   {
    "duration": 8,
    "start_time": "2022-07-14T07:45:58.094Z"
   },
   {
    "duration": 11,
    "start_time": "2022-07-14T07:46:08.208Z"
   },
   {
    "duration": 9,
    "start_time": "2022-07-14T07:46:16.367Z"
   },
   {
    "duration": 9,
    "start_time": "2022-07-14T07:46:23.789Z"
   },
   {
    "duration": 23,
    "start_time": "2022-07-14T07:46:38.099Z"
   },
   {
    "duration": 15,
    "start_time": "2022-07-14T07:46:59.360Z"
   },
   {
    "duration": 13,
    "start_time": "2022-07-14T07:47:19.857Z"
   },
   {
    "duration": 14,
    "start_time": "2022-07-14T07:47:25.958Z"
   },
   {
    "duration": 8,
    "start_time": "2022-07-14T07:47:37.786Z"
   },
   {
    "duration": 14,
    "start_time": "2022-07-14T07:47:43.875Z"
   },
   {
    "duration": 19,
    "start_time": "2022-07-14T07:48:01.141Z"
   },
   {
    "duration": 2298,
    "start_time": "2022-07-14T17:42:27.403Z"
   },
   {
    "duration": 15,
    "start_time": "2022-07-14T17:42:33.114Z"
   },
   {
    "duration": 14,
    "start_time": "2022-07-14T17:42:34.129Z"
   },
   {
    "duration": 17,
    "start_time": "2022-07-14T17:42:35.636Z"
   },
   {
    "duration": 21,
    "start_time": "2022-07-14T17:42:41.093Z"
   },
   {
    "duration": 31,
    "start_time": "2022-07-14T17:42:43.035Z"
   },
   {
    "duration": 24,
    "start_time": "2022-07-14T17:42:43.779Z"
   },
   {
    "duration": 29,
    "start_time": "2022-07-14T17:42:44.235Z"
   },
   {
    "duration": 3,
    "start_time": "2022-07-14T17:42:45.772Z"
   },
   {
    "duration": 3,
    "start_time": "2022-07-14T17:42:46.901Z"
   },
   {
    "duration": 9,
    "start_time": "2022-07-14T17:42:48.646Z"
   },
   {
    "duration": 31,
    "start_time": "2022-07-14T17:42:50.220Z"
   },
   {
    "duration": 5,
    "start_time": "2022-07-14T17:42:51.634Z"
   },
   {
    "duration": 6,
    "start_time": "2022-07-14T17:42:53.474Z"
   },
   {
    "duration": 5,
    "start_time": "2022-07-14T17:42:54.365Z"
   },
   {
    "duration": 2314,
    "start_time": "2022-07-14T17:42:56.454Z"
   },
   {
    "duration": 17,
    "start_time": "2022-07-14T17:42:59.863Z"
   },
   {
    "duration": 2213,
    "start_time": "2022-07-14T17:43:02.352Z"
   },
   {
    "duration": 18,
    "start_time": "2022-07-14T17:43:04.986Z"
   },
   {
    "duration": 2284,
    "start_time": "2022-07-14T17:43:06.680Z"
   },
   {
    "duration": 17,
    "start_time": "2022-07-14T17:43:09.577Z"
   },
   {
    "duration": 3,
    "start_time": "2022-07-14T17:43:12.252Z"
   },
   {
    "duration": 3,
    "start_time": "2022-07-14T17:43:12.960Z"
   },
   {
    "duration": 118,
    "start_time": "2022-07-14T17:43:15.668Z"
   },
   {
    "duration": 4,
    "start_time": "2022-07-14T17:43:20.264Z"
   },
   {
    "duration": 4,
    "start_time": "2022-07-14T17:43:20.976Z"
   },
   {
    "duration": 4,
    "start_time": "2022-07-14T17:43:21.599Z"
   },
   {
    "duration": 15,
    "start_time": "2022-07-14T17:43:25.403Z"
   },
   {
    "duration": 6,
    "start_time": "2022-07-14T17:44:44.297Z"
   },
   {
    "duration": 5,
    "start_time": "2022-07-14T17:44:57.529Z"
   },
   {
    "duration": 9,
    "start_time": "2022-07-14T17:45:15.272Z"
   },
   {
    "duration": 5,
    "start_time": "2022-07-14T17:45:24.682Z"
   },
   {
    "duration": 5,
    "start_time": "2022-07-14T17:45:33.020Z"
   },
   {
    "duration": 12,
    "start_time": "2022-07-14T17:46:02.555Z"
   },
   {
    "duration": 48,
    "start_time": "2022-07-14T17:46:16.305Z"
   },
   {
    "duration": 10,
    "start_time": "2022-07-14T17:46:18.972Z"
   },
   {
    "duration": 8,
    "start_time": "2022-07-14T17:46:34.237Z"
   },
   {
    "duration": 683,
    "start_time": "2022-07-14T17:46:46.325Z"
   },
   {
    "duration": 652,
    "start_time": "2022-07-14T17:47:08.554Z"
   },
   {
    "duration": 643,
    "start_time": "2022-07-14T17:47:15.351Z"
   },
   {
    "duration": 12,
    "start_time": "2022-07-14T17:47:22.676Z"
   },
   {
    "duration": 702,
    "start_time": "2022-07-14T17:47:34.081Z"
   },
   {
    "duration": 66,
    "start_time": "2022-07-14T17:47:40.583Z"
   },
   {
    "duration": 8,
    "start_time": "2022-07-14T17:47:44.670Z"
   },
   {
    "duration": 6,
    "start_time": "2022-07-14T17:47:56.373Z"
   },
   {
    "duration": 9,
    "start_time": "2022-07-14T17:48:10.911Z"
   },
   {
    "duration": 15,
    "start_time": "2022-07-14T17:49:07.960Z"
   },
   {
    "duration": 20,
    "start_time": "2022-07-14T17:49:20.054Z"
   },
   {
    "duration": 7,
    "start_time": "2022-07-14T17:50:55.871Z"
   },
   {
    "duration": 7,
    "start_time": "2022-07-14T17:51:06.278Z"
   },
   {
    "duration": 9,
    "start_time": "2022-07-14T17:51:36.262Z"
   },
   {
    "duration": 4,
    "start_time": "2022-07-14T17:52:46.377Z"
   },
   {
    "duration": 8,
    "start_time": "2022-07-14T17:53:29.317Z"
   },
   {
    "duration": 4,
    "start_time": "2022-07-14T17:55:17.020Z"
   },
   {
    "duration": 6,
    "start_time": "2022-07-14T17:55:19.562Z"
   },
   {
    "duration": 4,
    "start_time": "2022-07-14T17:55:35.617Z"
   },
   {
    "duration": 8,
    "start_time": "2022-07-14T17:55:40.942Z"
   },
   {
    "duration": 10,
    "start_time": "2022-07-14T17:56:53.857Z"
   },
   {
    "duration": 37,
    "start_time": "2022-07-14T17:57:28.428Z"
   },
   {
    "duration": 20,
    "start_time": "2022-07-14T17:57:58.127Z"
   },
   {
    "duration": 23,
    "start_time": "2022-07-14T17:58:26.449Z"
   },
   {
    "duration": 27,
    "start_time": "2022-07-14T17:59:30.740Z"
   },
   {
    "duration": 134,
    "start_time": "2022-07-14T17:59:47.630Z"
   },
   {
    "duration": 96,
    "start_time": "2022-07-14T18:00:08.370Z"
   },
   {
    "duration": 3,
    "start_time": "2022-07-14T18:00:51.233Z"
   },
   {
    "duration": 9,
    "start_time": "2022-07-14T18:00:52.952Z"
   },
   {
    "duration": 5,
    "start_time": "2022-07-14T19:29:19.314Z"
   },
   {
    "duration": 9,
    "start_time": "2022-07-14T19:29:39.776Z"
   },
   {
    "duration": 8,
    "start_time": "2022-07-14T19:30:31.639Z"
   },
   {
    "duration": 5,
    "start_time": "2022-07-14T19:30:48.957Z"
   },
   {
    "duration": 8,
    "start_time": "2022-07-14T19:31:40.463Z"
   },
   {
    "duration": 7,
    "start_time": "2022-07-14T19:32:06.609Z"
   },
   {
    "duration": 6,
    "start_time": "2022-07-14T19:32:25.851Z"
   },
   {
    "duration": 7,
    "start_time": "2022-07-14T19:32:47.161Z"
   },
   {
    "duration": 6,
    "start_time": "2022-07-14T19:32:48.298Z"
   },
   {
    "duration": 9,
    "start_time": "2022-07-14T19:36:04.026Z"
   },
   {
    "duration": 9,
    "start_time": "2022-07-14T19:36:54.015Z"
   },
   {
    "duration": 7,
    "start_time": "2022-07-14T19:37:03.091Z"
   },
   {
    "duration": 3520,
    "start_time": "2022-07-15T07:51:34.975Z"
   },
   {
    "duration": 20,
    "start_time": "2022-07-15T07:51:39.311Z"
   },
   {
    "duration": 13,
    "start_time": "2022-07-15T07:51:40.601Z"
   },
   {
    "duration": 18,
    "start_time": "2022-07-15T07:51:41.802Z"
   },
   {
    "duration": 20,
    "start_time": "2022-07-15T07:51:43.269Z"
   },
   {
    "duration": 40,
    "start_time": "2022-07-15T07:51:45.082Z"
   },
   {
    "duration": 23,
    "start_time": "2022-07-15T07:51:45.854Z"
   },
   {
    "duration": 27,
    "start_time": "2022-07-15T07:51:46.626Z"
   },
   {
    "duration": 3,
    "start_time": "2022-07-15T07:51:48.740Z"
   },
   {
    "duration": 5,
    "start_time": "2022-07-15T07:51:50.313Z"
   },
   {
    "duration": 9,
    "start_time": "2022-07-15T07:51:53.097Z"
   },
   {
    "duration": 29,
    "start_time": "2022-07-15T07:51:53.813Z"
   },
   {
    "duration": 5,
    "start_time": "2022-07-15T07:51:57.731Z"
   },
   {
    "duration": 5,
    "start_time": "2022-07-15T07:51:58.429Z"
   },
   {
    "duration": 6,
    "start_time": "2022-07-15T07:51:59.411Z"
   },
   {
    "duration": 1369,
    "start_time": "2022-07-15T07:52:02.743Z"
   },
   {
    "duration": 21,
    "start_time": "2022-07-15T07:52:06.200Z"
   },
   {
    "duration": 1127,
    "start_time": "2022-07-15T07:52:11.775Z"
   },
   {
    "duration": 30,
    "start_time": "2022-07-15T07:52:13.878Z"
   },
   {
    "duration": 1615,
    "start_time": "2022-07-15T07:52:18.489Z"
   },
   {
    "duration": 22,
    "start_time": "2022-07-15T07:52:20.898Z"
   },
   {
    "duration": 3,
    "start_time": "2022-07-15T07:53:36.085Z"
   },
   {
    "duration": 3,
    "start_time": "2022-07-15T07:53:41.315Z"
   },
   {
    "duration": 7,
    "start_time": "2022-07-15T07:53:42.359Z"
   },
   {
    "duration": 4,
    "start_time": "2022-07-15T07:53:44.973Z"
   },
   {
    "duration": 13,
    "start_time": "2022-07-15T07:53:45.772Z"
   },
   {
    "duration": 5,
    "start_time": "2022-07-15T07:53:48.072Z"
   },
   {
    "duration": 4,
    "start_time": "2022-07-15T07:53:48.798Z"
   },
   {
    "duration": 4,
    "start_time": "2022-07-15T07:53:49.393Z"
   },
   {
    "duration": 95,
    "start_time": "2022-07-15T08:11:58.818Z"
   },
   {
    "duration": 34,
    "start_time": "2022-07-15T08:12:27.401Z"
   },
   {
    "duration": 14,
    "start_time": "2022-07-15T08:12:44.287Z"
   },
   {
    "duration": 4,
    "start_time": "2022-07-15T08:15:27.403Z"
   },
   {
    "duration": 9,
    "start_time": "2022-07-15T08:15:58.809Z"
   },
   {
    "duration": 12,
    "start_time": "2022-07-15T08:16:08.638Z"
   },
   {
    "duration": 4,
    "start_time": "2022-07-15T08:16:53.709Z"
   },
   {
    "duration": 9,
    "start_time": "2022-07-15T08:16:54.338Z"
   },
   {
    "duration": 3,
    "start_time": "2022-07-15T08:19:11.106Z"
   },
   {
    "duration": 18,
    "start_time": "2022-07-15T08:19:21.153Z"
   },
   {
    "duration": 3,
    "start_time": "2022-07-15T08:20:01.671Z"
   },
   {
    "duration": 20,
    "start_time": "2022-07-15T08:20:02.287Z"
   },
   {
    "duration": 4,
    "start_time": "2022-07-15T08:21:35.029Z"
   },
   {
    "duration": 20,
    "start_time": "2022-07-15T08:21:39.360Z"
   },
   {
    "duration": 3,
    "start_time": "2022-07-15T08:29:26.132Z"
   },
   {
    "duration": 12,
    "start_time": "2022-07-15T08:29:48.380Z"
   },
   {
    "duration": 3,
    "start_time": "2022-07-15T08:33:32.127Z"
   },
   {
    "duration": 21,
    "start_time": "2022-07-15T08:33:32.715Z"
   },
   {
    "duration": 4,
    "start_time": "2022-07-15T08:34:22.744Z"
   },
   {
    "duration": 6,
    "start_time": "2022-07-15T08:34:36.480Z"
   },
   {
    "duration": 4,
    "start_time": "2022-07-15T08:35:23.086Z"
   },
   {
    "duration": 7,
    "start_time": "2022-07-15T08:35:29.497Z"
   },
   {
    "duration": 5,
    "start_time": "2022-07-15T08:36:06.556Z"
   },
   {
    "duration": 3,
    "start_time": "2022-07-15T08:36:31.533Z"
   },
   {
    "duration": 9,
    "start_time": "2022-07-15T08:36:48.389Z"
   },
   {
    "duration": 5,
    "start_time": "2022-07-15T08:41:18.263Z"
   },
   {
    "duration": 10,
    "start_time": "2022-07-15T08:42:13.383Z"
   },
   {
    "duration": 2,
    "start_time": "2022-07-15T08:42:40.683Z"
   },
   {
    "duration": 5,
    "start_time": "2022-07-15T08:42:44.003Z"
   },
   {
    "duration": 8,
    "start_time": "2022-07-15T08:43:15.814Z"
   },
   {
    "duration": 3,
    "start_time": "2022-07-15T08:43:29.020Z"
   },
   {
    "duration": 14,
    "start_time": "2022-07-15T08:43:33.221Z"
   },
   {
    "duration": 5,
    "start_time": "2022-07-15T08:44:37.790Z"
   },
   {
    "duration": 11,
    "start_time": "2022-07-15T08:44:40.708Z"
   },
   {
    "duration": 13,
    "start_time": "2022-07-15T08:45:04.079Z"
   },
   {
    "duration": 1656,
    "start_time": "2022-07-15T08:52:17.819Z"
   },
   {
    "duration": 14,
    "start_time": "2022-07-15T08:52:20.643Z"
   },
   {
    "duration": 13,
    "start_time": "2022-07-15T08:52:22.113Z"
   },
   {
    "duration": 12,
    "start_time": "2022-07-15T08:52:23.377Z"
   },
   {
    "duration": 16,
    "start_time": "2022-07-15T08:52:25.526Z"
   },
   {
    "duration": 30,
    "start_time": "2022-07-15T08:52:26.737Z"
   },
   {
    "duration": 22,
    "start_time": "2022-07-15T08:52:27.266Z"
   },
   {
    "duration": 28,
    "start_time": "2022-07-15T08:52:27.867Z"
   },
   {
    "duration": 2,
    "start_time": "2022-07-15T08:52:31.076Z"
   },
   {
    "duration": 3,
    "start_time": "2022-07-15T08:52:33.975Z"
   },
   {
    "duration": 10,
    "start_time": "2022-07-15T08:52:39.252Z"
   },
   {
    "duration": 30,
    "start_time": "2022-07-15T08:52:58.055Z"
   },
   {
    "duration": 5,
    "start_time": "2022-07-15T08:52:59.558Z"
   },
   {
    "duration": 4,
    "start_time": "2022-07-15T08:53:00.563Z"
   },
   {
    "duration": 4,
    "start_time": "2022-07-15T08:53:01.651Z"
   },
   {
    "duration": 1358,
    "start_time": "2022-07-15T08:53:11.656Z"
   },
   {
    "duration": 16,
    "start_time": "2022-07-15T08:53:14.684Z"
   },
   {
    "duration": 1487,
    "start_time": "2022-07-15T08:53:18.118Z"
   },
   {
    "duration": 15,
    "start_time": "2022-07-15T08:53:20.127Z"
   },
   {
    "duration": 1048,
    "start_time": "2022-07-15T08:53:22.664Z"
   },
   {
    "duration": 16,
    "start_time": "2022-07-15T08:53:25.935Z"
   },
   {
    "duration": 7,
    "start_time": "2022-07-15T08:53:29.106Z"
   },
   {
    "duration": 3,
    "start_time": "2022-07-15T08:53:35.915Z"
   },
   {
    "duration": 2,
    "start_time": "2022-07-15T08:53:37.075Z"
   },
   {
    "duration": 5,
    "start_time": "2022-07-15T08:53:37.917Z"
   },
   {
    "duration": 4,
    "start_time": "2022-07-15T08:53:39.379Z"
   },
   {
    "duration": 12,
    "start_time": "2022-07-15T08:53:40.044Z"
   },
   {
    "duration": 5,
    "start_time": "2022-07-15T08:54:06.199Z"
   },
   {
    "duration": 5,
    "start_time": "2022-07-15T08:54:07.234Z"
   },
   {
    "duration": 4,
    "start_time": "2022-07-15T08:54:08.152Z"
   },
   {
    "duration": 5,
    "start_time": "2022-07-15T08:54:29.459Z"
   },
   {
    "duration": 6,
    "start_time": "2022-07-15T08:54:30.469Z"
   },
   {
    "duration": 6,
    "start_time": "2022-07-15T08:54:31.299Z"
   },
   {
    "duration": 13,
    "start_time": "2022-07-15T08:55:04.420Z"
   },
   {
    "duration": 11,
    "start_time": "2022-07-15T08:55:37.310Z"
   },
   {
    "duration": 4,
    "start_time": "2022-07-15T08:56:56.241Z"
   },
   {
    "duration": 97,
    "start_time": "2022-07-15T08:56:56.988Z"
   },
   {
    "duration": 16,
    "start_time": "2022-07-15T08:57:17.734Z"
   },
   {
    "duration": 3,
    "start_time": "2022-07-15T08:57:38.174Z"
   },
   {
    "duration": 7,
    "start_time": "2022-07-15T08:57:38.886Z"
   },
   {
    "duration": 3,
    "start_time": "2022-07-15T08:59:08.720Z"
   },
   {
    "duration": 9,
    "start_time": "2022-07-15T08:59:09.462Z"
   },
   {
    "duration": 21,
    "start_time": "2022-07-15T08:59:14.943Z"
   },
   {
    "duration": 4,
    "start_time": "2022-07-15T08:59:20.965Z"
   },
   {
    "duration": 8,
    "start_time": "2022-07-15T08:59:21.582Z"
   },
   {
    "duration": 20,
    "start_time": "2022-07-15T08:59:26.734Z"
   },
   {
    "duration": 3,
    "start_time": "2022-07-15T08:59:31.229Z"
   },
   {
    "duration": 10,
    "start_time": "2022-07-15T08:59:31.892Z"
   },
   {
    "duration": 16,
    "start_time": "2022-07-15T08:59:51.713Z"
   },
   {
    "duration": 7,
    "start_time": "2022-07-15T08:59:57.114Z"
   },
   {
    "duration": 6,
    "start_time": "2022-07-15T08:59:59.793Z"
   },
   {
    "duration": 6,
    "start_time": "2022-07-15T09:00:00.765Z"
   },
   {
    "duration": 3,
    "start_time": "2022-07-15T09:00:28.567Z"
   },
   {
    "duration": 3,
    "start_time": "2022-07-15T09:00:29.617Z"
   },
   {
    "duration": 3,
    "start_time": "2022-07-15T09:00:30.446Z"
   },
   {
    "duration": 6,
    "start_time": "2022-07-15T09:00:34.869Z"
   },
   {
    "duration": 6,
    "start_time": "2022-07-15T09:00:39.211Z"
   },
   {
    "duration": 15,
    "start_time": "2022-07-15T09:01:03.600Z"
   },
   {
    "duration": 16,
    "start_time": "2022-07-15T09:01:26.251Z"
   },
   {
    "duration": 12,
    "start_time": "2022-07-15T09:05:05.699Z"
   },
   {
    "duration": 13,
    "start_time": "2022-07-15T09:05:19.848Z"
   },
   {
    "duration": 14,
    "start_time": "2022-07-15T09:05:31.392Z"
   },
   {
    "duration": 18,
    "start_time": "2022-07-15T09:05:38.579Z"
   },
   {
    "duration": 4,
    "start_time": "2022-07-15T09:07:19.225Z"
   },
   {
    "duration": 1161,
    "start_time": "2022-07-15T09:07:40.208Z"
   },
   {
    "duration": 5,
    "start_time": "2022-07-15T09:07:56.477Z"
   },
   {
    "duration": 1215,
    "start_time": "2022-07-15T09:07:57.247Z"
   },
   {
    "duration": 3,
    "start_time": "2022-07-15T09:09:28.748Z"
   },
   {
    "duration": 4,
    "start_time": "2022-07-15T09:09:29.500Z"
   },
   {
    "duration": 1178,
    "start_time": "2022-07-15T09:09:30.561Z"
   },
   {
    "duration": 1151,
    "start_time": "2022-07-15T09:10:52.737Z"
   },
   {
    "duration": 3,
    "start_time": "2022-07-15T09:11:39.785Z"
   },
   {
    "duration": 8,
    "start_time": "2022-07-15T09:11:40.857Z"
   },
   {
    "duration": 5,
    "start_time": "2022-07-15T09:11:44.289Z"
   },
   {
    "duration": 1142,
    "start_time": "2022-07-15T09:11:45.489Z"
   },
   {
    "duration": 3,
    "start_time": "2022-07-15T09:12:27.639Z"
   },
   {
    "duration": 5,
    "start_time": "2022-07-15T09:12:28.353Z"
   },
   {
    "duration": 1004,
    "start_time": "2022-07-15T09:12:29.239Z"
   },
   {
    "duration": 955,
    "start_time": "2022-07-15T09:12:36.190Z"
   },
   {
    "duration": 1003,
    "start_time": "2022-07-15T09:12:38.419Z"
   },
   {
    "duration": 968,
    "start_time": "2022-07-15T09:12:41.995Z"
   },
   {
    "duration": 78,
    "start_time": "2022-07-15T09:19:29.054Z"
   },
   {
    "duration": 6,
    "start_time": "2022-07-15T09:19:39.863Z"
   },
   {
    "duration": 998,
    "start_time": "2022-07-15T09:19:41.178Z"
   },
   {
    "duration": 10,
    "start_time": "2022-07-15T09:20:22.852Z"
   },
   {
    "duration": 1012,
    "start_time": "2022-07-15T09:20:23.887Z"
   },
   {
    "duration": 5,
    "start_time": "2022-07-15T09:20:49.235Z"
   },
   {
    "duration": 1005,
    "start_time": "2022-07-15T09:20:50.469Z"
   },
   {
    "duration": 5,
    "start_time": "2022-07-15T09:24:11.385Z"
   },
   {
    "duration": 1078,
    "start_time": "2022-07-15T09:24:12.329Z"
   },
   {
    "duration": 3,
    "start_time": "2022-07-15T09:28:09.546Z"
   },
   {
    "duration": 7,
    "start_time": "2022-07-15T09:28:11.263Z"
   },
   {
    "duration": 1002,
    "start_time": "2022-07-15T09:28:12.414Z"
   },
   {
    "duration": 949,
    "start_time": "2022-07-15T09:28:18.655Z"
   },
   {
    "duration": 1043,
    "start_time": "2022-07-15T09:28:39.407Z"
   },
   {
    "duration": 3,
    "start_time": "2022-07-15T09:30:13.268Z"
   },
   {
    "duration": 11,
    "start_time": "2022-07-15T09:30:33.311Z"
   },
   {
    "duration": 9,
    "start_time": "2022-07-15T09:30:38.962Z"
   },
   {
    "duration": 9,
    "start_time": "2022-07-15T09:30:41.227Z"
   },
   {
    "duration": 3,
    "start_time": "2022-07-15T09:31:53.605Z"
   },
   {
    "duration": 10,
    "start_time": "2022-07-15T09:31:54.250Z"
   },
   {
    "duration": 3,
    "start_time": "2022-07-15T09:32:22.449Z"
   },
   {
    "duration": 4,
    "start_time": "2022-07-15T09:34:16.375Z"
   },
   {
    "duration": 8,
    "start_time": "2022-07-15T09:34:16.948Z"
   },
   {
    "duration": 5,
    "start_time": "2022-07-15T09:34:21.365Z"
   },
   {
    "duration": 933,
    "start_time": "2022-07-15T09:34:22.227Z"
   },
   {
    "duration": 3,
    "start_time": "2022-07-15T09:35:55.887Z"
   },
   {
    "duration": 9,
    "start_time": "2022-07-15T09:35:56.318Z"
   },
   {
    "duration": 49,
    "start_time": "2022-07-15T14:23:26.431Z"
   },
   {
    "duration": 3509,
    "start_time": "2022-07-15T14:26:19.975Z"
   },
   {
    "duration": 24,
    "start_time": "2022-07-15T14:26:24.430Z"
   },
   {
    "duration": 15,
    "start_time": "2022-07-15T14:26:25.772Z"
   },
   {
    "duration": 14,
    "start_time": "2022-07-15T14:26:26.771Z"
   },
   {
    "duration": 16,
    "start_time": "2022-07-15T14:26:28.202Z"
   },
   {
    "duration": 40,
    "start_time": "2022-07-15T14:26:28.915Z"
   },
   {
    "duration": 25,
    "start_time": "2022-07-15T14:26:29.601Z"
   },
   {
    "duration": 34,
    "start_time": "2022-07-15T14:26:30.317Z"
   },
   {
    "duration": 9,
    "start_time": "2022-07-15T14:26:31.948Z"
   },
   {
    "duration": 4,
    "start_time": "2022-07-15T14:26:32.981Z"
   },
   {
    "duration": 10,
    "start_time": "2022-07-15T14:26:34.046Z"
   },
   {
    "duration": 48,
    "start_time": "2022-07-15T14:26:34.709Z"
   },
   {
    "duration": 6,
    "start_time": "2022-07-15T14:26:36.055Z"
   },
   {
    "duration": 12,
    "start_time": "2022-07-15T14:26:36.748Z"
   },
   {
    "duration": 5,
    "start_time": "2022-07-15T14:26:37.491Z"
   },
   {
    "duration": 1910,
    "start_time": "2022-07-15T14:26:38.732Z"
   },
   {
    "duration": 19,
    "start_time": "2022-07-15T14:26:41.081Z"
   },
   {
    "duration": 1727,
    "start_time": "2022-07-15T14:26:42.720Z"
   },
   {
    "duration": 19,
    "start_time": "2022-07-15T14:26:44.883Z"
   },
   {
    "duration": 1672,
    "start_time": "2022-07-15T14:26:46.275Z"
   },
   {
    "duration": 76,
    "start_time": "2022-07-15T14:26:48.381Z"
   },
   {
    "duration": 2,
    "start_time": "2022-07-15T14:26:50.529Z"
   },
   {
    "duration": 2,
    "start_time": "2022-07-15T14:26:51.234Z"
   },
   {
    "duration": 6,
    "start_time": "2022-07-15T14:26:51.758Z"
   },
   {
    "duration": 4,
    "start_time": "2022-07-15T14:26:52.884Z"
   },
   {
    "duration": 16,
    "start_time": "2022-07-15T14:26:53.342Z"
   },
   {
    "duration": 4,
    "start_time": "2022-07-15T14:26:54.606Z"
   },
   {
    "duration": 4,
    "start_time": "2022-07-15T14:26:55.183Z"
   },
   {
    "duration": 6,
    "start_time": "2022-07-15T14:26:55.780Z"
   },
   {
    "duration": 5,
    "start_time": "2022-07-15T14:26:56.999Z"
   },
   {
    "duration": 15,
    "start_time": "2022-07-15T14:26:57.846Z"
   },
   {
    "duration": 11,
    "start_time": "2022-07-15T14:26:58.946Z"
   },
   {
    "duration": 10,
    "start_time": "2022-07-15T14:27:00.187Z"
   },
   {
    "duration": 13,
    "start_time": "2022-07-15T14:27:13.186Z"
   },
   {
    "duration": 7,
    "start_time": "2022-07-15T14:27:18.188Z"
   },
   {
    "duration": 1292,
    "start_time": "2022-07-15T14:27:23.018Z"
   },
   {
    "duration": 1445,
    "start_time": "2022-07-15T14:27:26.788Z"
   },
   {
    "duration": 1190,
    "start_time": "2022-07-15T14:27:29.840Z"
   },
   {
    "duration": 78,
    "start_time": "2022-07-15T14:31:44.081Z"
   },
   {
    "duration": 6,
    "start_time": "2022-07-15T14:32:01.391Z"
   },
   {
    "duration": 4,
    "start_time": "2022-07-15T14:32:08.391Z"
   },
   {
    "duration": 4,
    "start_time": "2022-07-15T14:32:18.481Z"
   },
   {
    "duration": 5,
    "start_time": "2022-07-15T14:32:43.004Z"
   },
   {
    "duration": 5,
    "start_time": "2022-07-15T14:32:52.414Z"
   },
   {
    "duration": 5,
    "start_time": "2022-07-15T14:32:58.285Z"
   },
   {
    "duration": 8,
    "start_time": "2022-07-15T14:33:11.844Z"
   },
   {
    "duration": 4,
    "start_time": "2022-07-15T14:33:24.812Z"
   },
   {
    "duration": 7,
    "start_time": "2022-07-15T14:34:10.592Z"
   },
   {
    "duration": 6,
    "start_time": "2022-07-15T14:35:45.859Z"
   },
   {
    "duration": 7,
    "start_time": "2022-07-15T14:35:48.203Z"
   },
   {
    "duration": 5,
    "start_time": "2022-07-15T14:35:48.725Z"
   },
   {
    "duration": 6,
    "start_time": "2022-07-15T14:35:49.139Z"
   },
   {
    "duration": 5,
    "start_time": "2022-07-15T14:35:49.491Z"
   },
   {
    "duration": 5,
    "start_time": "2022-07-15T14:35:49.705Z"
   },
   {
    "duration": 6,
    "start_time": "2022-07-15T14:35:49.864Z"
   },
   {
    "duration": 6,
    "start_time": "2022-07-15T14:35:50.049Z"
   },
   {
    "duration": 5,
    "start_time": "2022-07-15T14:35:50.433Z"
   },
   {
    "duration": 5,
    "start_time": "2022-07-15T14:35:50.647Z"
   },
   {
    "duration": 5,
    "start_time": "2022-07-15T14:35:50.833Z"
   },
   {
    "duration": 5,
    "start_time": "2022-07-15T14:35:51.009Z"
   },
   {
    "duration": 5,
    "start_time": "2022-07-15T14:35:51.190Z"
   },
   {
    "duration": 6,
    "start_time": "2022-07-15T14:35:51.382Z"
   },
   {
    "duration": 6,
    "start_time": "2022-07-15T14:35:51.524Z"
   },
   {
    "duration": 5,
    "start_time": "2022-07-15T14:35:51.695Z"
   },
   {
    "duration": 6,
    "start_time": "2022-07-15T14:35:51.859Z"
   },
   {
    "duration": 6,
    "start_time": "2022-07-15T14:35:52.028Z"
   },
   {
    "duration": 4,
    "start_time": "2022-07-15T14:35:52.215Z"
   },
   {
    "duration": 6,
    "start_time": "2022-07-15T14:35:52.388Z"
   },
   {
    "duration": 5,
    "start_time": "2022-07-15T14:35:52.545Z"
   },
   {
    "duration": 6,
    "start_time": "2022-07-15T14:35:52.709Z"
   },
   {
    "duration": 6,
    "start_time": "2022-07-15T14:35:52.890Z"
   },
   {
    "duration": 7,
    "start_time": "2022-07-15T14:35:53.049Z"
   },
   {
    "duration": 7,
    "start_time": "2022-07-15T14:35:53.212Z"
   },
   {
    "duration": 6,
    "start_time": "2022-07-15T14:35:53.376Z"
   },
   {
    "duration": 6,
    "start_time": "2022-07-15T14:35:53.554Z"
   },
   {
    "duration": 6,
    "start_time": "2022-07-15T14:35:53.705Z"
   },
   {
    "duration": 5,
    "start_time": "2022-07-15T14:35:53.891Z"
   },
   {
    "duration": 5,
    "start_time": "2022-07-15T14:36:00.349Z"
   },
   {
    "duration": 6,
    "start_time": "2022-07-15T14:37:20.588Z"
   },
   {
    "duration": 7,
    "start_time": "2022-07-15T14:37:36.031Z"
   },
   {
    "duration": 7,
    "start_time": "2022-07-15T14:37:39.872Z"
   },
   {
    "duration": 6,
    "start_time": "2022-07-15T14:37:51.076Z"
   },
   {
    "duration": 9,
    "start_time": "2022-07-15T14:42:16.002Z"
   },
   {
    "duration": 10,
    "start_time": "2022-07-15T14:42:24.926Z"
   },
   {
    "duration": 10,
    "start_time": "2022-07-15T14:42:32.602Z"
   },
   {
    "duration": 113,
    "start_time": "2022-07-15T15:16:58.019Z"
   },
   {
    "duration": 83,
    "start_time": "2022-07-15T15:18:54.561Z"
   },
   {
    "duration": 916,
    "start_time": "2022-07-15T15:20:14.305Z"
   },
   {
    "duration": 1037,
    "start_time": "2022-07-15T15:20:35.656Z"
   },
   {
    "duration": 911,
    "start_time": "2022-07-15T15:20:54.831Z"
   },
   {
    "duration": 29,
    "start_time": "2022-07-15T15:21:58.135Z"
   },
   {
    "duration": 365,
    "start_time": "2022-07-15T15:23:03.341Z"
   },
   {
    "duration": 338,
    "start_time": "2022-07-15T15:23:13.066Z"
   },
   {
    "duration": 341,
    "start_time": "2022-07-15T15:23:28.314Z"
   },
   {
    "duration": 328,
    "start_time": "2022-07-15T15:23:31.390Z"
   },
   {
    "duration": 79,
    "start_time": "2022-07-15T15:28:39.955Z"
   },
   {
    "duration": 120,
    "start_time": "2022-07-15T15:40:21.092Z"
   },
   {
    "duration": 243,
    "start_time": "2022-07-15T16:00:43.862Z"
   },
   {
    "duration": 9,
    "start_time": "2022-07-15T16:10:32.252Z"
   },
   {
    "duration": 15,
    "start_time": "2022-07-15T16:12:09.595Z"
   },
   {
    "duration": 13,
    "start_time": "2022-07-15T16:12:23.690Z"
   },
   {
    "duration": 5,
    "start_time": "2022-07-15T16:13:06.271Z"
   },
   {
    "duration": 7,
    "start_time": "2022-07-15T16:13:07.369Z"
   },
   {
    "duration": 15,
    "start_time": "2022-07-15T16:14:08.680Z"
   },
   {
    "duration": 15,
    "start_time": "2022-07-15T16:14:40.244Z"
   },
   {
    "duration": 7,
    "start_time": "2022-07-15T16:22:54.895Z"
   },
   {
    "duration": 120,
    "start_time": "2022-07-15T16:25:35.372Z"
   },
   {
    "duration": 94,
    "start_time": "2022-07-15T16:25:41.115Z"
   },
   {
    "duration": 20,
    "start_time": "2022-07-15T16:25:53.784Z"
   },
   {
    "duration": 22,
    "start_time": "2022-07-15T17:58:44.610Z"
   },
   {
    "duration": 8,
    "start_time": "2022-07-15T17:58:47.669Z"
   },
   {
    "duration": 1963,
    "start_time": "2022-07-15T17:58:54.586Z"
   },
   {
    "duration": 21,
    "start_time": "2022-07-15T17:58:57.070Z"
   },
   {
    "duration": 11,
    "start_time": "2022-07-15T17:58:59.762Z"
   },
   {
    "duration": 4,
    "start_time": "2022-07-15T18:01:51.021Z"
   },
   {
    "duration": 21,
    "start_time": "2022-07-15T18:05:07.668Z"
   },
   {
    "duration": 22,
    "start_time": "2022-07-15T18:05:52.669Z"
   },
   {
    "duration": 26,
    "start_time": "2022-07-15T18:06:10.131Z"
   },
   {
    "duration": 9,
    "start_time": "2022-07-15T18:07:11.979Z"
   },
   {
    "duration": 9,
    "start_time": "2022-07-15T18:07:23.876Z"
   },
   {
    "duration": 9,
    "start_time": "2022-07-15T18:07:41.169Z"
   },
   {
    "duration": 9,
    "start_time": "2022-07-15T18:07:52.587Z"
   },
   {
    "duration": 10,
    "start_time": "2022-07-15T18:07:58.481Z"
   },
   {
    "duration": 10,
    "start_time": "2022-07-15T18:08:02.968Z"
   },
   {
    "duration": 21,
    "start_time": "2022-07-15T18:09:25.110Z"
   },
   {
    "duration": 21,
    "start_time": "2022-07-15T18:09:54.815Z"
   },
   {
    "duration": 19,
    "start_time": "2022-07-15T18:10:29.696Z"
   },
   {
    "duration": 6,
    "start_time": "2022-07-15T18:16:44.890Z"
   },
   {
    "duration": 1389,
    "start_time": "2022-07-15T18:16:46.227Z"
   },
   {
    "duration": 1353,
    "start_time": "2022-07-15T18:17:31.020Z"
   },
   {
    "duration": 1328,
    "start_time": "2022-07-15T18:17:33.471Z"
   },
   {
    "duration": 106,
    "start_time": "2022-07-15T18:57:36.814Z"
   },
   {
    "duration": 4,
    "start_time": "2022-07-15T18:57:48.432Z"
   },
   {
    "duration": 4,
    "start_time": "2022-07-15T18:59:25.426Z"
   },
   {
    "duration": 5,
    "start_time": "2022-07-15T19:20:36.312Z"
   },
   {
    "duration": 1651,
    "start_time": "2022-07-15T19:20:37.401Z"
   },
   {
    "duration": 1636,
    "start_time": "2022-07-15T19:20:40.434Z"
   },
   {
    "duration": 1583,
    "start_time": "2022-07-15T19:20:42.866Z"
   },
   {
    "duration": 63,
    "start_time": "2022-07-15T19:52:12.490Z"
   },
   {
    "duration": 67,
    "start_time": "2022-07-15T19:52:13.098Z"
   },
   {
    "duration": 55,
    "start_time": "2022-07-15T19:52:13.652Z"
   },
   {
    "duration": 3284,
    "start_time": "2022-07-15T19:53:35.254Z"
   },
   {
    "duration": 24,
    "start_time": "2022-07-15T19:53:38.541Z"
   },
   {
    "duration": 41,
    "start_time": "2022-07-15T19:53:38.568Z"
   },
   {
    "duration": 10,
    "start_time": "2022-07-15T19:53:38.611Z"
   },
   {
    "duration": 23,
    "start_time": "2022-07-15T19:53:38.623Z"
   },
   {
    "duration": 20,
    "start_time": "2022-07-15T19:53:38.648Z"
   },
   {
    "duration": 29,
    "start_time": "2022-07-15T19:53:38.680Z"
   },
   {
    "duration": 175,
    "start_time": "2022-07-15T19:53:38.711Z"
   },
   {
    "duration": 1021,
    "start_time": "2022-07-15T19:53:38.891Z"
   },
   {
    "duration": 421,
    "start_time": "2022-07-15T19:53:39.915Z"
   },
   {
    "duration": 1151,
    "start_time": "2022-07-15T19:53:40.338Z"
   },
   {
    "duration": 400,
    "start_time": "2022-07-15T19:53:41.491Z"
   },
   {
    "duration": 979,
    "start_time": "2022-07-15T19:53:41.899Z"
   },
   {
    "duration": 349,
    "start_time": "2022-07-15T19:53:42.882Z"
   },
   {
    "duration": 25,
    "start_time": "2022-07-15T19:53:43.233Z"
   },
   {
    "duration": 16,
    "start_time": "2022-07-15T19:53:43.265Z"
   },
   {
    "duration": 35,
    "start_time": "2022-07-15T19:53:43.285Z"
   },
   {
    "duration": 14,
    "start_time": "2022-07-15T19:53:43.322Z"
   },
   {
    "duration": 98,
    "start_time": "2022-07-15T19:53:43.338Z"
   },
   {
    "duration": 24,
    "start_time": "2022-07-15T19:53:43.438Z"
   },
   {
    "duration": 41,
    "start_time": "2022-07-15T19:53:43.464Z"
   },
   {
    "duration": 11,
    "start_time": "2022-07-15T19:53:43.507Z"
   },
   {
    "duration": 2276,
    "start_time": "2022-07-15T19:53:43.520Z"
   },
   {
    "duration": 64,
    "start_time": "2022-07-15T19:53:45.843Z"
   },
   {
    "duration": 53,
    "start_time": "2022-07-15T19:53:45.909Z"
   },
   {
    "duration": 1609,
    "start_time": "2022-07-15T19:53:45.968Z"
   },
   {
    "duration": 112,
    "start_time": "2022-07-15T19:53:47.579Z"
   },
   {
    "duration": 49,
    "start_time": "2022-07-15T19:53:47.742Z"
   },
   {
    "duration": 1599,
    "start_time": "2022-07-15T19:53:47.845Z"
   },
   {
    "duration": 97,
    "start_time": "2022-07-15T19:53:49.454Z"
   },
   {
    "duration": 128,
    "start_time": "2022-07-15T19:53:49.568Z"
   },
   {
    "duration": 4,
    "start_time": "2022-07-15T19:53:49.699Z"
   },
   {
    "duration": 10,
    "start_time": "2022-07-15T19:53:49.705Z"
   },
   {
    "duration": 8,
    "start_time": "2022-07-15T19:53:49.718Z"
   },
   {
    "duration": 20,
    "start_time": "2022-07-15T19:53:49.728Z"
   },
   {
    "duration": 43,
    "start_time": "2022-07-15T19:53:49.756Z"
   },
   {
    "duration": 31,
    "start_time": "2022-07-15T19:53:49.801Z"
   },
   {
    "duration": 21,
    "start_time": "2022-07-15T19:53:49.835Z"
   },
   {
    "duration": 1441,
    "start_time": "2022-07-15T19:53:49.861Z"
   },
   {
    "duration": 1493,
    "start_time": "2022-07-15T19:53:51.305Z"
   },
   {
    "duration": 1448,
    "start_time": "2022-07-15T19:53:52.802Z"
   },
   {
    "duration": 1028,
    "start_time": "2022-07-15T20:36:12.669Z"
   },
   {
    "duration": 941,
    "start_time": "2022-07-15T20:36:45.724Z"
   },
   {
    "duration": 941,
    "start_time": "2022-07-15T20:36:55.685Z"
   },
   {
    "duration": 841,
    "start_time": "2022-07-15T20:37:15.768Z"
   },
   {
    "duration": 874,
    "start_time": "2022-07-15T20:37:23.635Z"
   },
   {
    "duration": 98,
    "start_time": "2022-07-15T20:39:50.470Z"
   },
   {
    "duration": 12,
    "start_time": "2022-07-15T20:45:26.956Z"
   },
   {
    "duration": 1397,
    "start_time": "2022-07-15T20:45:31.702Z"
   },
   {
    "duration": 1371,
    "start_time": "2022-07-15T20:45:50.458Z"
   },
   {
    "duration": 1356,
    "start_time": "2022-07-15T20:46:00.382Z"
   },
   {
    "duration": 1367,
    "start_time": "2022-07-15T20:46:12.500Z"
   },
   {
    "duration": 1980,
    "start_time": "2022-07-15T20:46:38.473Z"
   },
   {
    "duration": 18,
    "start_time": "2022-07-15T20:46:40.463Z"
   },
   {
    "duration": 24,
    "start_time": "2022-07-15T20:46:40.484Z"
   },
   {
    "duration": 11,
    "start_time": "2022-07-15T20:46:40.510Z"
   },
   {
    "duration": 21,
    "start_time": "2022-07-15T20:46:40.522Z"
   },
   {
    "duration": 35,
    "start_time": "2022-07-15T20:46:40.547Z"
   },
   {
    "duration": 16,
    "start_time": "2022-07-15T20:46:40.584Z"
   },
   {
    "duration": 158,
    "start_time": "2022-07-15T20:46:40.602Z"
   },
   {
    "duration": 893,
    "start_time": "2022-07-15T20:46:40.763Z"
   },
   {
    "duration": 335,
    "start_time": "2022-07-15T20:46:41.659Z"
   },
   {
    "duration": 920,
    "start_time": "2022-07-15T20:46:41.996Z"
   },
   {
    "duration": 352,
    "start_time": "2022-07-15T20:46:42.918Z"
   },
   {
    "duration": 950,
    "start_time": "2022-07-15T20:46:43.272Z"
   },
   {
    "duration": 396,
    "start_time": "2022-07-15T20:46:44.224Z"
   },
   {
    "duration": 11,
    "start_time": "2022-07-15T20:46:44.622Z"
   },
   {
    "duration": 33,
    "start_time": "2022-07-15T20:46:44.645Z"
   },
   {
    "duration": 10,
    "start_time": "2022-07-15T20:46:44.680Z"
   },
   {
    "duration": 12,
    "start_time": "2022-07-15T20:46:44.692Z"
   },
   {
    "duration": 52,
    "start_time": "2022-07-15T20:46:44.706Z"
   },
   {
    "duration": 9,
    "start_time": "2022-07-15T20:46:44.759Z"
   },
   {
    "duration": 16,
    "start_time": "2022-07-15T20:46:44.771Z"
   },
   {
    "duration": 12,
    "start_time": "2022-07-15T20:46:44.788Z"
   },
   {
    "duration": 1840,
    "start_time": "2022-07-15T20:46:44.801Z"
   },
   {
    "duration": 106,
    "start_time": "2022-07-15T20:46:46.644Z"
   },
   {
    "duration": 95,
    "start_time": "2022-07-15T20:46:46.756Z"
   },
   {
    "duration": 1834,
    "start_time": "2022-07-15T20:46:46.857Z"
   },
   {
    "duration": 39,
    "start_time": "2022-07-15T20:46:48.743Z"
   },
   {
    "duration": 171,
    "start_time": "2022-07-15T20:46:48.786Z"
   },
   {
    "duration": 2186,
    "start_time": "2022-07-15T20:46:48.960Z"
   },
   {
    "duration": 43,
    "start_time": "2022-07-15T20:46:51.148Z"
   },
   {
    "duration": 100,
    "start_time": "2022-07-15T20:46:51.261Z"
   },
   {
    "duration": 159,
    "start_time": "2022-07-15T20:46:51.373Z"
   },
   {
    "duration": 0,
    "start_time": "2022-07-15T20:46:51.534Z"
   },
   {
    "duration": 0,
    "start_time": "2022-07-15T20:46:51.535Z"
   },
   {
    "duration": 0,
    "start_time": "2022-07-15T20:46:51.537Z"
   },
   {
    "duration": 0,
    "start_time": "2022-07-15T20:46:51.538Z"
   },
   {
    "duration": 0,
    "start_time": "2022-07-15T20:46:51.546Z"
   },
   {
    "duration": 0,
    "start_time": "2022-07-15T20:46:51.546Z"
   },
   {
    "duration": 0,
    "start_time": "2022-07-15T20:46:51.547Z"
   },
   {
    "duration": 0,
    "start_time": "2022-07-15T20:46:51.548Z"
   },
   {
    "duration": 0,
    "start_time": "2022-07-15T20:46:51.562Z"
   },
   {
    "duration": 2025,
    "start_time": "2022-07-15T20:47:39.347Z"
   },
   {
    "duration": 14,
    "start_time": "2022-07-15T20:47:41.374Z"
   },
   {
    "duration": 16,
    "start_time": "2022-07-15T20:47:41.389Z"
   },
   {
    "duration": 9,
    "start_time": "2022-07-15T20:47:41.407Z"
   },
   {
    "duration": 39,
    "start_time": "2022-07-15T20:47:41.418Z"
   },
   {
    "duration": 21,
    "start_time": "2022-07-15T20:47:41.461Z"
   },
   {
    "duration": 17,
    "start_time": "2022-07-15T20:47:41.483Z"
   },
   {
    "duration": 172,
    "start_time": "2022-07-15T20:47:41.501Z"
   },
   {
    "duration": 903,
    "start_time": "2022-07-15T20:47:41.675Z"
   },
   {
    "duration": 395,
    "start_time": "2022-07-15T20:47:42.581Z"
   },
   {
    "duration": 959,
    "start_time": "2022-07-15T20:47:42.978Z"
   },
   {
    "duration": 357,
    "start_time": "2022-07-15T20:47:43.940Z"
   },
   {
    "duration": 978,
    "start_time": "2022-07-15T20:47:44.302Z"
   },
   {
    "duration": 390,
    "start_time": "2022-07-15T20:47:45.285Z"
   },
   {
    "duration": 15,
    "start_time": "2022-07-15T20:47:45.678Z"
   },
   {
    "duration": 10,
    "start_time": "2022-07-15T20:47:45.695Z"
   },
   {
    "duration": 7,
    "start_time": "2022-07-15T20:47:45.707Z"
   },
   {
    "duration": 18,
    "start_time": "2022-07-15T20:47:45.716Z"
   },
   {
    "duration": 86,
    "start_time": "2022-07-15T20:47:45.744Z"
   },
   {
    "duration": 12,
    "start_time": "2022-07-15T20:47:45.833Z"
   },
   {
    "duration": 36,
    "start_time": "2022-07-15T20:47:45.851Z"
   },
   {
    "duration": 7,
    "start_time": "2022-07-15T20:47:45.890Z"
   },
   {
    "duration": 1652,
    "start_time": "2022-07-15T20:47:45.899Z"
   },
   {
    "duration": 110,
    "start_time": "2022-07-15T20:47:47.554Z"
   },
   {
    "duration": 179,
    "start_time": "2022-07-15T20:47:47.668Z"
   },
   {
    "duration": 1900,
    "start_time": "2022-07-15T20:47:47.849Z"
   },
   {
    "duration": 88,
    "start_time": "2022-07-15T20:47:49.754Z"
   },
   {
    "duration": 126,
    "start_time": "2022-07-15T20:47:49.851Z"
   },
   {
    "duration": 1663,
    "start_time": "2022-07-15T20:47:49.980Z"
   },
   {
    "duration": 109,
    "start_time": "2022-07-15T20:47:51.648Z"
   },
   {
    "duration": 121,
    "start_time": "2022-07-15T20:47:51.758Z"
   },
   {
    "duration": 6,
    "start_time": "2022-07-15T20:47:51.881Z"
   },
   {
    "duration": 13,
    "start_time": "2022-07-15T20:47:51.889Z"
   },
   {
    "duration": 65,
    "start_time": "2022-07-15T20:47:51.904Z"
   },
   {
    "duration": 12,
    "start_time": "2022-07-15T20:47:51.972Z"
   },
   {
    "duration": 3,
    "start_time": "2022-07-15T20:47:51.986Z"
   },
   {
    "duration": 23,
    "start_time": "2022-07-15T20:47:51.990Z"
   },
   {
    "duration": 6,
    "start_time": "2022-07-15T20:47:52.015Z"
   },
   {
    "duration": 1361,
    "start_time": "2022-07-15T20:47:52.022Z"
   },
   {
    "duration": 1308,
    "start_time": "2022-07-15T20:47:53.385Z"
   },
   {
    "duration": 1336,
    "start_time": "2022-07-15T20:47:54.694Z"
   }
  ],
  "kernelspec": {
   "display_name": "Python 3 (ipykernel)",
   "language": "python",
   "name": "python3"
  },
  "language_info": {
   "codemirror_mode": {
    "name": "ipython",
    "version": 3
   },
   "file_extension": ".py",
   "mimetype": "text/x-python",
   "name": "python",
   "nbconvert_exporter": "python",
   "pygments_lexer": "ipython3",
   "version": "3.9.12"
  },
  "toc": {
   "base_numbering": 1,
   "nav_menu": {},
   "number_sections": true,
   "sideBar": true,
   "skip_h1_title": true,
   "title_cell": "Table of Contents",
   "title_sidebar": "Contents",
   "toc_cell": true,
   "toc_position": {
    "height": "calc(100% - 180px)",
    "left": "10px",
    "top": "150px",
    "width": "334.4px"
   },
   "toc_section_display": true,
   "toc_window_display": true
  }
 },
 "nbformat": 4,
 "nbformat_minor": 2
}
