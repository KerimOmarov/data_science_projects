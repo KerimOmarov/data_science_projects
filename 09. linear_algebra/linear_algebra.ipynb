{
 "cells": [
  {
   "cell_type": "markdown",
   "metadata": {
    "toc": true
   },
   "source": [
    "<h1>Table of Contents<span class=\"tocSkip\"></span></h1>\n",
    "<div class=\"toc\"><ul class=\"toc-item\"><li><span><a href=\"#Data-Review\" data-toc-modified-id=\"Data-Review-1\"><span class=\"toc-item-num\">1&nbsp;&nbsp;</span>Data Review</a></span><ul class=\"toc-item\"><li><span><a href=\"#Conclusion\" data-toc-modified-id=\"Conclusion-1.1\"><span class=\"toc-item-num\">1.1&nbsp;&nbsp;</span>Conclusion</a></span></li></ul></li><li><span><a href=\"#Matrix-multiplication\" data-toc-modified-id=\"Matrix-multiplication-2\"><span class=\"toc-item-num\">2&nbsp;&nbsp;</span>Matrix multiplication</a></span></li><li><span><a href=\"#Conversion-algorithm\" data-toc-modified-id=\"Conversion-algorithm-3\"><span class=\"toc-item-num\">3&nbsp;&nbsp;</span>Conversion algorithm</a></span></li><li><span><a href=\"#Algorithm-verification\" data-toc-modified-id=\"Algorithm-verification-4\"><span class=\"toc-item-num\">4&nbsp;&nbsp;</span>Algorithm verification</a></span></li><li><span><a href=\"#Conclusion\" data-toc-modified-id=\"Conclusion-5\"><span class=\"toc-item-num\">5&nbsp;&nbsp;</span>Conclusion</a></span></li></ul></div>"
   ]
  },
  {
   "cell_type": "markdown",
   "metadata": {},
   "source": [
    "# Protection of personal data of clients"
   ]
  },
  {
   "cell_type": "markdown",
   "metadata": {},
   "source": [
    "We need to protect the data of customers of the insurance company \"ABC\". We need to develop a data transformation method that makes it difficult to recover personal information and make sure that it works correctly.\n",
    "\n",
    "We need to protect the data so that the quality of the machine learning models does not change during the transformation. There is no need to select the best model."
   ]
  },
  {
   "cell_type": "markdown",
   "metadata": {},
   "source": [
    "## Data Review"
   ]
  },
  {
   "cell_type": "code",
   "execution_count": 1,
   "metadata": {},
   "outputs": [],
   "source": [
    "import matplotlib.pyplot as plt\n",
    "import numpy as np\n",
    "import pandas as pd\n",
    "from scipy import stats as st\n",
    "import seaborn as sns\n",
    "\n",
    "from sklearn.linear_model import LinearRegression\n",
    "from sklearn.metrics import r2_score\n",
    "from sklearn.model_selection import train_test_split"
   ]
  },
  {
   "cell_type": "code",
   "execution_count": 2,
   "metadata": {},
   "outputs": [],
   "source": [
    "try:\n",
    "    df = pd.read_csv('insurance.csv')\n",
    "except: \n",
    "    print('Something is wrong')"
   ]
  },
  {
   "cell_type": "code",
   "execution_count": 3,
   "metadata": {},
   "outputs": [
    {
     "name": "stdout",
     "output_type": "stream",
     "text": [
      "<class 'pandas.core.frame.DataFrame'>\n",
      "RangeIndex: 5000 entries, 0 to 4999\n",
      "Data columns (total 5 columns):\n",
      " #   Column             Non-Null Count  Dtype  \n",
      "---  ------             --------------  -----  \n",
      " 0   Пол                5000 non-null   int64  \n",
      " 1   Возраст            5000 non-null   float64\n",
      " 2   Зарплата           5000 non-null   float64\n",
      " 3   Члены семьи        5000 non-null   int64  \n",
      " 4   Страховые выплаты  5000 non-null   int64  \n",
      "dtypes: float64(2), int64(3)\n",
      "memory usage: 195.4 KB\n"
     ]
    }
   ],
   "source": [
    "df.info()"
   ]
  },
  {
   "cell_type": "code",
   "execution_count": 4,
   "metadata": {},
   "outputs": [
    {
     "data": {
      "text/html": [
       "<div>\n",
       "<style scoped>\n",
       "    .dataframe tbody tr th:only-of-type {\n",
       "        vertical-align: middle;\n",
       "    }\n",
       "\n",
       "    .dataframe tbody tr th {\n",
       "        vertical-align: top;\n",
       "    }\n",
       "\n",
       "    .dataframe thead th {\n",
       "        text-align: right;\n",
       "    }\n",
       "</style>\n",
       "<table border=\"1\" class=\"dataframe\">\n",
       "  <thead>\n",
       "    <tr style=\"text-align: right;\">\n",
       "      <th></th>\n",
       "      <th>Пол</th>\n",
       "      <th>Возраст</th>\n",
       "      <th>Зарплата</th>\n",
       "      <th>Члены семьи</th>\n",
       "      <th>Страховые выплаты</th>\n",
       "    </tr>\n",
       "  </thead>\n",
       "  <tbody>\n",
       "    <tr>\n",
       "      <th>0</th>\n",
       "      <td>1</td>\n",
       "      <td>41.0</td>\n",
       "      <td>49600.0</td>\n",
       "      <td>1</td>\n",
       "      <td>0</td>\n",
       "    </tr>\n",
       "    <tr>\n",
       "      <th>1</th>\n",
       "      <td>0</td>\n",
       "      <td>46.0</td>\n",
       "      <td>38000.0</td>\n",
       "      <td>1</td>\n",
       "      <td>1</td>\n",
       "    </tr>\n",
       "    <tr>\n",
       "      <th>2</th>\n",
       "      <td>0</td>\n",
       "      <td>29.0</td>\n",
       "      <td>21000.0</td>\n",
       "      <td>0</td>\n",
       "      <td>0</td>\n",
       "    </tr>\n",
       "    <tr>\n",
       "      <th>3</th>\n",
       "      <td>0</td>\n",
       "      <td>21.0</td>\n",
       "      <td>41700.0</td>\n",
       "      <td>2</td>\n",
       "      <td>0</td>\n",
       "    </tr>\n",
       "    <tr>\n",
       "      <th>4</th>\n",
       "      <td>1</td>\n",
       "      <td>28.0</td>\n",
       "      <td>26100.0</td>\n",
       "      <td>0</td>\n",
       "      <td>0</td>\n",
       "    </tr>\n",
       "  </tbody>\n",
       "</table>\n",
       "</div>"
      ],
      "text/plain": [
       "   Пол  Возраст  Зарплата  Члены семьи  Страховые выплаты\n",
       "0    1     41.0   49600.0            1                  0\n",
       "1    0     46.0   38000.0            1                  1\n",
       "2    0     29.0   21000.0            0                  0\n",
       "3    0     21.0   41700.0            2                  0\n",
       "4    1     28.0   26100.0            0                  0"
      ]
     },
     "execution_count": 4,
     "metadata": {},
     "output_type": "execute_result"
    }
   ],
   "source": [
    "df.head(5)"
   ]
  },
  {
   "cell_type": "code",
   "execution_count": 5,
   "metadata": {
    "scrolled": true
   },
   "outputs": [
    {
     "data": {
      "text/html": [
       "<div>\n",
       "<style scoped>\n",
       "    .dataframe tbody tr th:only-of-type {\n",
       "        vertical-align: middle;\n",
       "    }\n",
       "\n",
       "    .dataframe tbody tr th {\n",
       "        vertical-align: top;\n",
       "    }\n",
       "\n",
       "    .dataframe thead th {\n",
       "        text-align: right;\n",
       "    }\n",
       "</style>\n",
       "<table border=\"1\" class=\"dataframe\">\n",
       "  <thead>\n",
       "    <tr style=\"text-align: right;\">\n",
       "      <th></th>\n",
       "      <th>Пол</th>\n",
       "      <th>Возраст</th>\n",
       "      <th>Зарплата</th>\n",
       "      <th>Члены семьи</th>\n",
       "      <th>Страховые выплаты</th>\n",
       "    </tr>\n",
       "  </thead>\n",
       "  <tbody>\n",
       "    <tr>\n",
       "      <th>count</th>\n",
       "      <td>5000.000000</td>\n",
       "      <td>5000.000000</td>\n",
       "      <td>5000.000000</td>\n",
       "      <td>5000.000000</td>\n",
       "      <td>5000.000000</td>\n",
       "    </tr>\n",
       "    <tr>\n",
       "      <th>mean</th>\n",
       "      <td>0.499000</td>\n",
       "      <td>30.952800</td>\n",
       "      <td>39916.360000</td>\n",
       "      <td>1.194200</td>\n",
       "      <td>0.148000</td>\n",
       "    </tr>\n",
       "    <tr>\n",
       "      <th>std</th>\n",
       "      <td>0.500049</td>\n",
       "      <td>8.440807</td>\n",
       "      <td>9900.083569</td>\n",
       "      <td>1.091387</td>\n",
       "      <td>0.463183</td>\n",
       "    </tr>\n",
       "    <tr>\n",
       "      <th>min</th>\n",
       "      <td>0.000000</td>\n",
       "      <td>18.000000</td>\n",
       "      <td>5300.000000</td>\n",
       "      <td>0.000000</td>\n",
       "      <td>0.000000</td>\n",
       "    </tr>\n",
       "    <tr>\n",
       "      <th>25%</th>\n",
       "      <td>0.000000</td>\n",
       "      <td>24.000000</td>\n",
       "      <td>33300.000000</td>\n",
       "      <td>0.000000</td>\n",
       "      <td>0.000000</td>\n",
       "    </tr>\n",
       "    <tr>\n",
       "      <th>50%</th>\n",
       "      <td>0.000000</td>\n",
       "      <td>30.000000</td>\n",
       "      <td>40200.000000</td>\n",
       "      <td>1.000000</td>\n",
       "      <td>0.000000</td>\n",
       "    </tr>\n",
       "    <tr>\n",
       "      <th>75%</th>\n",
       "      <td>1.000000</td>\n",
       "      <td>37.000000</td>\n",
       "      <td>46600.000000</td>\n",
       "      <td>2.000000</td>\n",
       "      <td>0.000000</td>\n",
       "    </tr>\n",
       "    <tr>\n",
       "      <th>max</th>\n",
       "      <td>1.000000</td>\n",
       "      <td>65.000000</td>\n",
       "      <td>79000.000000</td>\n",
       "      <td>6.000000</td>\n",
       "      <td>5.000000</td>\n",
       "    </tr>\n",
       "  </tbody>\n",
       "</table>\n",
       "</div>"
      ],
      "text/plain": [
       "               Пол      Возраст      Зарплата  Члены семьи  Страховые выплаты\n",
       "count  5000.000000  5000.000000   5000.000000  5000.000000        5000.000000\n",
       "mean      0.499000    30.952800  39916.360000     1.194200           0.148000\n",
       "std       0.500049     8.440807   9900.083569     1.091387           0.463183\n",
       "min       0.000000    18.000000   5300.000000     0.000000           0.000000\n",
       "25%       0.000000    24.000000  33300.000000     0.000000           0.000000\n",
       "50%       0.000000    30.000000  40200.000000     1.000000           0.000000\n",
       "75%       1.000000    37.000000  46600.000000     2.000000           0.000000\n",
       "max       1.000000    65.000000  79000.000000     6.000000           5.000000"
      ]
     },
     "execution_count": 5,
     "metadata": {},
     "output_type": "execute_result"
    }
   ],
   "source": [
    "df.describe()"
   ]
  },
  {
   "cell_type": "markdown",
   "metadata": {},
   "source": [
    "So, we have a table with data.\n",
    "\n",
    "According to the data documentation:\n",
    "\n",
    "Features:\n",
    "\n",
    "* Gender\n",
    "* Age\n",
    "* Salary of the insured\n",
    "* Number of family members\n",
    "\n",
    "Target variable:\n",
    "\n",
    "* The number of insurance payments to the client for the last 5 years"
   ]
  },
  {
   "cell_type": "markdown",
   "metadata": {},
   "source": [
    "Let's create histograms to visualize the feature distributions."
   ]
  },
  {
   "cell_type": "code",
   "execution_count": 6,
   "metadata": {},
   "outputs": [
    {
     "data": {
      "image/png": "[encoded data removed]",
      "text/plain": [
       "<Figure size 1008x1008 with 6 Axes>"
      ]
     },
     "metadata": {
      "needs_background": "light"
     },
     "output_type": "display_data"
    }
   ],
   "source": [
    "df.hist(bins=30, figsize=(14,14), edgecolor='black', linewidth=1)\n",
    "plt.show()"
   ]
  },
  {
   "cell_type": "markdown",
   "metadata": {},
   "source": [
    "The distributions look normal, no anomalies were found. Let's look at the correlations between features."
   ]
  },
  {
   "cell_type": "code",
   "execution_count": 7,
   "metadata": {},
   "outputs": [
    {
     "data": {
      "image/png": "[encoded data removed]",
      "text/plain": [
       "<Figure size 432x288 with 2 Axes>"
      ]
     },
     "metadata": {
      "needs_background": "light"
     },
     "output_type": "display_data"
    }
   ],
   "source": [
    "sns.heatmap(df.corr(), annot=True, square=True)\n",
    "plt.show()"
   ]
  },
  {
   "cell_type": "markdown",
   "metadata": {},
   "source": [
    "There is an moderate positive correlation (0.65) between the age and the amount of insurance payments to the client in the last 5 years."
   ]
  },
  {
   "cell_type": "markdown",
   "metadata": {},
   "source": [
    "**Data transformation**"
   ]
  },
  {
   "cell_type": "markdown",
   "metadata": {},
   "source": [
    "For convenience, we will rename the columns from Russian to English."
   ]
  },
  {
   "cell_type": "code",
   "execution_count": 8,
   "metadata": {},
   "outputs": [
    {
     "data": {
      "text/html": [
       "<div>\n",
       "<style scoped>\n",
       "    .dataframe tbody tr th:only-of-type {\n",
       "        vertical-align: middle;\n",
       "    }\n",
       "\n",
       "    .dataframe tbody tr th {\n",
       "        vertical-align: top;\n",
       "    }\n",
       "\n",
       "    .dataframe thead th {\n",
       "        text-align: right;\n",
       "    }\n",
       "</style>\n",
       "<table border=\"1\" class=\"dataframe\">\n",
       "  <thead>\n",
       "    <tr style=\"text-align: right;\">\n",
       "      <th></th>\n",
       "      <th>gender</th>\n",
       "      <th>age</th>\n",
       "      <th>salary</th>\n",
       "      <th>family</th>\n",
       "      <th>insurance_payments</th>\n",
       "    </tr>\n",
       "  </thead>\n",
       "  <tbody>\n",
       "    <tr>\n",
       "      <th>0</th>\n",
       "      <td>1</td>\n",
       "      <td>41.0</td>\n",
       "      <td>49600.0</td>\n",
       "      <td>1</td>\n",
       "      <td>0</td>\n",
       "    </tr>\n",
       "    <tr>\n",
       "      <th>1</th>\n",
       "      <td>0</td>\n",
       "      <td>46.0</td>\n",
       "      <td>38000.0</td>\n",
       "      <td>1</td>\n",
       "      <td>1</td>\n",
       "    </tr>\n",
       "    <tr>\n",
       "      <th>2</th>\n",
       "      <td>0</td>\n",
       "      <td>29.0</td>\n",
       "      <td>21000.0</td>\n",
       "      <td>0</td>\n",
       "      <td>0</td>\n",
       "    </tr>\n",
       "    <tr>\n",
       "      <th>3</th>\n",
       "      <td>0</td>\n",
       "      <td>21.0</td>\n",
       "      <td>41700.0</td>\n",
       "      <td>2</td>\n",
       "      <td>0</td>\n",
       "    </tr>\n",
       "    <tr>\n",
       "      <th>4</th>\n",
       "      <td>1</td>\n",
       "      <td>28.0</td>\n",
       "      <td>26100.0</td>\n",
       "      <td>0</td>\n",
       "      <td>0</td>\n",
       "    </tr>\n",
       "  </tbody>\n",
       "</table>\n",
       "</div>"
      ],
      "text/plain": [
       "   gender   age   salary  family  insurance_payments\n",
       "0       1  41.0  49600.0       1                   0\n",
       "1       0  46.0  38000.0       1                   1\n",
       "2       0  29.0  21000.0       0                   0\n",
       "3       0  21.0  41700.0       2                   0\n",
       "4       1  28.0  26100.0       0                   0"
      ]
     },
     "execution_count": 8,
     "metadata": {},
     "output_type": "execute_result"
    }
   ],
   "source": [
    "df.columns = ['gender', 'age', 'salary', 'family', 'insurance_payments']\n",
    "df.head()"
   ]
  },
  {
   "cell_type": "markdown",
   "metadata": {},
   "source": [
    "Let's change the type of the `age` column to integer for the convenience."
   ]
  },
  {
   "cell_type": "code",
   "execution_count": 9,
   "metadata": {},
   "outputs": [],
   "source": [
    "df['age'] = df['age'].astype('int')"
   ]
  },
  {
   "cell_type": "code",
   "execution_count": 10,
   "metadata": {},
   "outputs": [
    {
     "name": "stdout",
     "output_type": "stream",
     "text": [
      "<class 'pandas.core.frame.DataFrame'>\n",
      "RangeIndex: 5000 entries, 0 to 4999\n",
      "Data columns (total 5 columns):\n",
      " #   Column              Non-Null Count  Dtype  \n",
      "---  ------              --------------  -----  \n",
      " 0   gender              5000 non-null   int64  \n",
      " 1   age                 5000 non-null   int32  \n",
      " 2   salary              5000 non-null   float64\n",
      " 3   family              5000 non-null   int64  \n",
      " 4   insurance_payments  5000 non-null   int64  \n",
      "dtypes: float64(1), int32(1), int64(3)\n",
      "memory usage: 175.9 KB\n"
     ]
    }
   ],
   "source": [
    "df.info()"
   ]
  },
  {
   "cell_type": "markdown",
   "metadata": {},
   "source": [
    "Let's check the data for duplicate values."
   ]
  },
  {
   "cell_type": "code",
   "execution_count": 11,
   "metadata": {},
   "outputs": [
    {
     "data": {
      "text/plain": [
       "153"
      ]
     },
     "execution_count": 11,
     "metadata": {},
     "output_type": "execute_result"
    }
   ],
   "source": [
    "df.duplicated().sum()"
   ]
  },
  {
   "cell_type": "markdown",
   "metadata": {},
   "source": [
    "We have found 153 duplicate values. This is probably due to some technical problem or data entry error. Since the target variable ranges from 0 to 5, it seems unlikely that there could be a complete match for all features of two different clients. Based on this assumption, it would be correct to get rid of duplicate values."
   ]
  },
  {
   "cell_type": "code",
   "execution_count": 12,
   "metadata": {},
   "outputs": [],
   "source": [
    "df.drop_duplicates(inplace=True)"
   ]
  },
  {
   "cell_type": "code",
   "execution_count": 13,
   "metadata": {},
   "outputs": [
    {
     "data": {
      "text/plain": [
       "0"
      ]
     },
     "execution_count": 13,
     "metadata": {},
     "output_type": "execute_result"
    }
   ],
   "source": [
    "df.duplicated().sum()"
   ]
  },
  {
   "cell_type": "markdown",
   "metadata": {},
   "source": [
    "Thus, we removed 153 duplicate values."
   ]
  },
  {
   "cell_type": "markdown",
   "metadata": {},
   "source": [
    "### Conclusion"
   ]
  },
  {
   "cell_type": "markdown",
   "metadata": {},
   "source": [
    "The data consists of 5000 observations and 5 columns. Each row in the data set is personal information about the clients of the insurance company, as well as the number of insurance payments to the client over the past 5 years.\n",
    "\n",
    "The data is normally distributed, no missing, anomalies, or outliers were found. There is an moderate positive correlation (0.65) between the age and the number of insurance payments to the client over the last 5 years.\n",
    "\n",
    "During data preprocessing, we did the following:\n",
    "\n",
    "* renamed the columns\n",
    "* removed 153 duplicate values\n",
    "* changed the type of the `Age` column to integer"
   ]
  },
  {
   "cell_type": "markdown",
   "metadata": {},
   "source": [
    "## Matrix multiplication"
   ]
  },
  {
   "cell_type": "markdown",
   "metadata": {},
   "source": [
    "The features are multiplied by an invertible matrix. It is necessary to check whether the quality of the linear regression will change and show how the linear regression parameters are related in the original problem and in the transformed one."
   ]
  },
  {
   "cell_type": "markdown",
   "metadata": {},
   "source": [
    "- $X$ - feature matrix (zero column consists of ones)\n",
    "\n",
    "- $y$ — target feature vector\n",
    "\n",
    "- $P$ - the matrix by which features are multiplied\n",
    "\n",
    "- $w$ — vector of linear regression weights (zero element equals to shift)"
   ]
  },
  {
   "cell_type": "markdown",
   "metadata": {},
   "source": [
    "Predictions:\n",
    "\n",
    "$$\n",
    "a = Xw\n",
    "$$\n",
    "\n",
    "Learning objective:\n",
    "\n",
    "$$\n",
    "w = \\arg\\min_w MSE(Xw, y)\n",
    "$$\n",
    "\n",
    "Learning formula:\n",
    "\n",
    "$$\n",
    "w = (X^T X)^{-1} X^T y\n",
    "$$"
   ]
  },
  {
   "cell_type": "markdown",
   "metadata": {},
   "source": [
    "We need to prove that the predictions before the transformation will be equal to the predictions after the transformation."
   ]
  },
  {
   "cell_type": "markdown",
   "metadata": {},
   "source": [
    "Now let's check whether the predictions before the transformation **a** are equal to the predictions after the transformation **a'**.\n",
    "\n",
    "First, let's denote the vector of linear regression weights for the transformed data (multiplied by a random invertible matrix) as **w'**. Let's substitute the matrix **X** multiplied by a random invertible matrix **P** into the formula for calculating **w** and perform the following transformations:"
   ]
  },
  {
   "cell_type": "markdown",
   "metadata": {},
   "source": [
    "$w' = ((PX)^T(PX))^{-1}(PX)^Ty$"
   ]
  },
  {
   "cell_type": "markdown",
   "metadata": {},
   "source": [
    "$w' = (P^TX^TPX)^{-1}P^TX^Ty$"
   ]
  },
  {
   "cell_type": "markdown",
   "metadata": {},
   "source": [
    "$w' = P^{-1}(X^TX)^{-1}(P^T)^{-1}P^TX^Ty$"
   ]
  },
  {
   "cell_type": "markdown",
   "metadata": {},
   "source": [
    "Since the product of a matrix and the inverse gives the identity matrix, we use the formula: $ AA^{-1}=A^{-1}A=E $"
   ]
  },
  {
   "cell_type": "markdown",
   "metadata": {},
   "source": [
    "$w' = P^{-1}(X^TX)^{-1}EX^Ty$"
   ]
  },
  {
   "cell_type": "markdown",
   "metadata": {},
   "source": [
    "$w' = P^{-1}(X^TX)^{-1}X^Ty$"
   ]
  },
  {
   "cell_type": "markdown",
   "metadata": {},
   "source": [
    "Since the right side of the equality $(X^TX)^{-1}X^Ty$ corresponds to the formula for calculating the weight vector **w**, then the equality can be written as:"
   ]
  },
  {
   "cell_type": "markdown",
   "metadata": {},
   "source": [
    "$w' = P^{-1}w$"
   ]
  },
  {
   "cell_type": "markdown",
   "metadata": {},
   "source": [
    "Thus:"
   ]
  },
  {
   "cell_type": "markdown",
   "metadata": {},
   "source": [
    "$a' = PXw' = XPP^{-1}w = XEw = Xw = a$"
   ]
  },
  {
   "cell_type": "markdown",
   "metadata": {},
   "source": [
    "**Conclusion**"
   ]
  },
  {
   "cell_type": "markdown",
   "metadata": {},
   "source": [
    "Thus, we have proved that the predictions for the feature matrix multiplied by the invertible matrix are equal to the predictions for the original matrix. Therefore, the quality of the linear regression will not change."
   ]
  },
  {
   "cell_type": "markdown",
   "metadata": {},
   "source": [
    "## Conversion algorithm"
   ]
  },
  {
   "cell_type": "markdown",
   "metadata": {},
   "source": [
    "**Algorithm**\n",
    "\n",
    "1. Divide the sample into features and target variable\n",
    "2. Create a random invertible matrix as an encryption key\n",
    "3. Multiply the feature matrix by the created matrix\n",
    "4. Train the model on the initial features\n",
    "5. Train the model on new features\n",
    "6. Use the R2 metric to compare model predictions\n",
    "7. Determine if the quality of the linear regression will change\n",
    "\n",
    "If the algorithm is successful, then we will decrypt the data and compare it with the original ones."
   ]
  },
  {
   "cell_type": "markdown",
   "metadata": {},
   "source": [
    "**Explanation**\n",
    "\n",
    "Since we have proved that the quality of linear regression does not change when the feature matrix is multiplied by any invertible matrix P, we can follow the algorithm described above without fear of obtaining a different result of linear regression."
   ]
  },
  {
   "cell_type": "markdown",
   "metadata": {},
   "source": [
    "## Algorithm verification"
   ]
  },
  {
   "cell_type": "code",
   "execution_count": 14,
   "metadata": {},
   "outputs": [],
   "source": [
    "def shape(X_train, y_train, X_valid, y_valid):\n",
    "    return (\n",
    "        print('Features size of training set:', X_train.shape), \n",
    "        print('Target size of training set:', y_train.shape), \n",
    "        print('Features size of validation set:', X_valid.shape), \n",
    "        print('Target size of validation set:', y_valid.shape)\n",
    "    )"
   ]
  },
  {
   "cell_type": "markdown",
   "metadata": {},
   "source": [
    "**Data preprocessing**"
   ]
  },
  {
   "cell_type": "markdown",
   "metadata": {},
   "source": [
    "Let's divide the data into features and a target variable."
   ]
  },
  {
   "cell_type": "code",
   "execution_count": 15,
   "metadata": {},
   "outputs": [],
   "source": [
    "features = df.drop('insurance_payments', axis=1)\n",
    "target = df['insurance_payments']"
   ]
  },
  {
   "cell_type": "code",
   "execution_count": 16,
   "metadata": {
    "scrolled": false
   },
   "outputs": [
    {
     "name": "stdout",
     "output_type": "stream",
     "text": [
      "Features size: (4847, 4)\n",
      "Target size: (4847,)\n"
     ]
    }
   ],
   "source": [
    "print('Features size:',features.shape)\n",
    "print('Target size:',target.shape)"
   ]
  },
  {
   "cell_type": "markdown",
   "metadata": {},
   "source": [
    "**Initial data**"
   ]
  },
  {
   "cell_type": "markdown",
   "metadata": {},
   "source": [
    "Let's split the data into two sets: training and validation in the proportion of 75/25."
   ]
  },
  {
   "cell_type": "code",
   "execution_count": 17,
   "metadata": {},
   "outputs": [],
   "source": [
    "X_train, X_valid, y_train, y_valid = train_test_split(\n",
    "    features,\n",
    "    target, \n",
    "    train_size=0.75, \n",
    "    random_state=12345\n",
    ")"
   ]
  },
  {
   "cell_type": "code",
   "execution_count": 18,
   "metadata": {},
   "outputs": [
    {
     "name": "stdout",
     "output_type": "stream",
     "text": [
      "Features size of training set: (3635, 4)\n",
      "Target size of training set: (1212, 4)\n",
      "Features size of validation set: (3635,)\n",
      "Target size of validation set: (1212,)\n"
     ]
    },
    {
     "data": {
      "text/plain": [
       "(None, None, None, None)"
      ]
     },
     "execution_count": 18,
     "metadata": {},
     "output_type": "execute_result"
    }
   ],
   "source": [
    "shape(X_train, X_valid, y_train, y_valid)"
   ]
  },
  {
   "cell_type": "markdown",
   "metadata": {},
   "source": [
    "Let's check the linear regression model on the original data."
   ]
  },
  {
   "cell_type": "code",
   "execution_count": 19,
   "metadata": {},
   "outputs": [
    {
     "name": "stdout",
     "output_type": "stream",
     "text": [
      "R2: 0.42307727492147584\n"
     ]
    }
   ],
   "source": [
    "model_lr = LinearRegression()\n",
    "model_lr.fit(X_train, y_train)\n",
    "lr_pred = model_lr.predict(X_valid)\n",
    "r2 = r2_score(y_valid, lr_pred)\n",
    "print(f'R2: {r2}')"
   ]
  },
  {
   "cell_type": "markdown",
   "metadata": {},
   "source": [
    "**Transformed data**"
   ]
  },
  {
   "cell_type": "markdown",
   "metadata": {},
   "source": [
    "Let's create a random invertible matrix and multiply the original data by it."
   ]
  },
  {
   "cell_type": "code",
   "execution_count": 20,
   "metadata": {},
   "outputs": [],
   "source": [
    "rand_matrix = np.linalg.inv(np.random.rand(4, 4))\n",
    "features_new = features @ rand_matrix"
   ]
  },
  {
   "cell_type": "code",
   "execution_count": 21,
   "metadata": {},
   "outputs": [
    {
     "data": {
      "text/html": [
       "<div>\n",
       "<style scoped>\n",
       "    .dataframe tbody tr th:only-of-type {\n",
       "        vertical-align: middle;\n",
       "    }\n",
       "\n",
       "    .dataframe tbody tr th {\n",
       "        vertical-align: top;\n",
       "    }\n",
       "\n",
       "    .dataframe thead th {\n",
       "        text-align: right;\n",
       "    }\n",
       "</style>\n",
       "<table border=\"1\" class=\"dataframe\">\n",
       "  <thead>\n",
       "    <tr style=\"text-align: right;\">\n",
       "      <th></th>\n",
       "      <th>0</th>\n",
       "      <th>1</th>\n",
       "      <th>2</th>\n",
       "      <th>3</th>\n",
       "    </tr>\n",
       "  </thead>\n",
       "  <tbody>\n",
       "    <tr>\n",
       "      <th>0</th>\n",
       "      <td>-259961.004390</td>\n",
       "      <td>124248.142952</td>\n",
       "      <td>16463.617818</td>\n",
       "      <td>254840.128726</td>\n",
       "    </tr>\n",
       "    <tr>\n",
       "      <th>1</th>\n",
       "      <td>-199058.909125</td>\n",
       "      <td>95129.473465</td>\n",
       "      <td>12605.740721</td>\n",
       "      <td>195178.724390</td>\n",
       "    </tr>\n",
       "    <tr>\n",
       "      <th>2</th>\n",
       "      <td>-109989.376776</td>\n",
       "      <td>52559.857612</td>\n",
       "      <td>6966.335733</td>\n",
       "      <td>107852.670248</td>\n",
       "    </tr>\n",
       "    <tr>\n",
       "      <th>3</th>\n",
       "      <td>-218622.232624</td>\n",
       "      <td>104502.583220</td>\n",
       "      <td>13840.903900</td>\n",
       "      <td>214289.975734</td>\n",
       "    </tr>\n",
       "    <tr>\n",
       "      <th>4</th>\n",
       "      <td>-136762.733793</td>\n",
       "      <td>65359.813334</td>\n",
       "      <td>8663.699384</td>\n",
       "      <td>134080.652717</td>\n",
       "    </tr>\n",
       "  </tbody>\n",
       "</table>\n",
       "</div>"
      ],
      "text/plain": [
       "               0              1             2              3\n",
       "0 -259961.004390  124248.142952  16463.617818  254840.128726\n",
       "1 -199058.909125   95129.473465  12605.740721  195178.724390\n",
       "2 -109989.376776   52559.857612   6966.335733  107852.670248\n",
       "3 -218622.232624  104502.583220  13840.903900  214289.975734\n",
       "4 -136762.733793   65359.813334   8663.699384  134080.652717"
      ]
     },
     "execution_count": 21,
     "metadata": {},
     "output_type": "execute_result"
    }
   ],
   "source": [
    "features_new.head(5)"
   ]
  },
  {
   "cell_type": "markdown",
   "metadata": {},
   "source": [
    "We will also split the new data into two sets: training and validation in the proportion of 75/25."
   ]
  },
  {
   "cell_type": "code",
   "execution_count": 22,
   "metadata": {},
   "outputs": [],
   "source": [
    "X_train_new, X_valid_new, y_train_new, y_valid_new = train_test_split(\n",
    "    features_new,\n",
    "    target, \n",
    "    train_size=0.75, \n",
    "    random_state=12345\n",
    ")"
   ]
  },
  {
   "cell_type": "code",
   "execution_count": 23,
   "metadata": {},
   "outputs": [
    {
     "name": "stdout",
     "output_type": "stream",
     "text": [
      "Features size of training set: (3635, 4)\n",
      "Target size of training set: (1212, 4)\n",
      "Features size of validation set: (3635,)\n",
      "Target size of validation set: (1212,)\n"
     ]
    },
    {
     "data": {
      "text/plain": [
       "(None, None, None, None)"
      ]
     },
     "execution_count": 23,
     "metadata": {},
     "output_type": "execute_result"
    }
   ],
   "source": [
    "shape(X_train_new, X_valid_new, y_train_new, y_valid_new)"
   ]
  },
  {
   "cell_type": "markdown",
   "metadata": {},
   "source": [
    "Let's test the linear regression model on new data."
   ]
  },
  {
   "cell_type": "code",
   "execution_count": 24,
   "metadata": {},
   "outputs": [
    {
     "name": "stdout",
     "output_type": "stream",
     "text": [
      "R2: 0.42307727492119107\n"
     ]
    }
   ],
   "source": [
    "model_lr_new = LinearRegression()\n",
    "model_lr_new.fit(X_train_new, y_train_new)\n",
    "lr_pred_new = model_lr_new.predict(X_valid_new)\n",
    "r2_new = r2_score(y_valid_new, lr_pred_new)\n",
    "print(f'R2: {r2_new}')"
   ]
  },
  {
   "cell_type": "markdown",
   "metadata": {},
   "source": [
    "**Comparison of results**"
   ]
  },
  {
   "cell_type": "code",
   "execution_count": 25,
   "metadata": {},
   "outputs": [
    {
     "data": {
      "text/html": [
       "<div>\n",
       "<style scoped>\n",
       "    .dataframe tbody tr th:only-of-type {\n",
       "        vertical-align: middle;\n",
       "    }\n",
       "\n",
       "    .dataframe tbody tr th {\n",
       "        vertical-align: top;\n",
       "    }\n",
       "\n",
       "    .dataframe thead th {\n",
       "        text-align: right;\n",
       "    }\n",
       "</style>\n",
       "<table border=\"1\" class=\"dataframe\">\n",
       "  <thead>\n",
       "    <tr style=\"text-align: right;\">\n",
       "      <th></th>\n",
       "      <th>R2</th>\n",
       "    </tr>\n",
       "  </thead>\n",
       "  <tbody>\n",
       "    <tr>\n",
       "      <th>Not encrypted</th>\n",
       "      <td>0.423077</td>\n",
       "    </tr>\n",
       "    <tr>\n",
       "      <th>Encrypted</th>\n",
       "      <td>0.423077</td>\n",
       "    </tr>\n",
       "  </tbody>\n",
       "</table>\n",
       "</div>"
      ],
      "text/plain": [
       "                     R2\n",
       "Not encrypted  0.423077\n",
       "Encrypted      0.423077"
      ]
     },
     "execution_count": 25,
     "metadata": {},
     "output_type": "execute_result"
    }
   ],
   "source": [
    "pd.Series([r2, r2_new], index=['Not encrypted', 'Encrypted']).to_frame('R2')"
   ]
  },
  {
   "cell_type": "markdown",
   "metadata": {},
   "source": [
    "Thus, verification confirms that the algorithm works as intended. The coefficients of determination for linear regression trained on the original and transformed data are similar."
   ]
  },
  {
   "cell_type": "markdown",
   "metadata": {},
   "source": [
    "**Data decryption**"
   ]
  },
  {
   "cell_type": "markdown",
   "metadata": {},
   "source": [
    "Now let's try to decrypt the encrypted data of the validation set."
   ]
  },
  {
   "cell_type": "markdown",
   "metadata": {},
   "source": [
    "First, let's look at the encrypted data."
   ]
  },
  {
   "cell_type": "code",
   "execution_count": 26,
   "metadata": {
    "scrolled": false
   },
   "outputs": [
    {
     "data": {
      "text/html": [
       "<div>\n",
       "<style scoped>\n",
       "    .dataframe tbody tr th:only-of-type {\n",
       "        vertical-align: middle;\n",
       "    }\n",
       "\n",
       "    .dataframe tbody tr th {\n",
       "        vertical-align: top;\n",
       "    }\n",
       "\n",
       "    .dataframe thead th {\n",
       "        text-align: right;\n",
       "    }\n",
       "</style>\n",
       "<table border=\"1\" class=\"dataframe\">\n",
       "  <thead>\n",
       "    <tr style=\"text-align: right;\">\n",
       "      <th></th>\n",
       "      <th>0</th>\n",
       "      <th>1</th>\n",
       "      <th>2</th>\n",
       "      <th>3</th>\n",
       "    </tr>\n",
       "  </thead>\n",
       "  <tbody>\n",
       "    <tr>\n",
       "      <th>1335</th>\n",
       "      <td>-247497.930507</td>\n",
       "      <td>118301.987677</td>\n",
       "      <td>15674.433014</td>\n",
       "      <td>242579.638853</td>\n",
       "    </tr>\n",
       "    <tr>\n",
       "      <th>3875</th>\n",
       "      <td>-345550.287010</td>\n",
       "      <td>165170.356825</td>\n",
       "      <td>21883.320917</td>\n",
       "      <td>338685.286154</td>\n",
       "    </tr>\n",
       "    <tr>\n",
       "      <th>166</th>\n",
       "      <td>-177630.246433</td>\n",
       "      <td>84896.592660</td>\n",
       "      <td>11248.815055</td>\n",
       "      <td>174145.795125</td>\n",
       "    </tr>\n",
       "    <tr>\n",
       "      <th>3003</th>\n",
       "      <td>-100981.929872</td>\n",
       "      <td>48249.481692</td>\n",
       "      <td>6394.056127</td>\n",
       "      <td>99056.870613</td>\n",
       "    </tr>\n",
       "    <tr>\n",
       "      <th>424</th>\n",
       "      <td>-143958.288164</td>\n",
       "      <td>68789.577328</td>\n",
       "      <td>9115.666067</td>\n",
       "      <td>141187.581754</td>\n",
       "    </tr>\n",
       "    <tr>\n",
       "      <th>...</th>\n",
       "      <td>...</td>\n",
       "      <td>...</td>\n",
       "      <td>...</td>\n",
       "      <td>...</td>\n",
       "    </tr>\n",
       "    <tr>\n",
       "      <th>1589</th>\n",
       "      <td>-120441.213387</td>\n",
       "      <td>57553.459793</td>\n",
       "      <td>7629.487199</td>\n",
       "      <td>118107.252664</td>\n",
       "    </tr>\n",
       "    <tr>\n",
       "      <th>32</th>\n",
       "      <td>-267366.144896</td>\n",
       "      <td>127798.266644</td>\n",
       "      <td>16930.153706</td>\n",
       "      <td>262072.162304</td>\n",
       "    </tr>\n",
       "    <tr>\n",
       "      <th>360</th>\n",
       "      <td>-175565.537889</td>\n",
       "      <td>83916.501703</td>\n",
       "      <td>11116.103898</td>\n",
       "      <td>172108.097116</td>\n",
       "    </tr>\n",
       "    <tr>\n",
       "      <th>2862</th>\n",
       "      <td>-173498.919175</td>\n",
       "      <td>82924.442665</td>\n",
       "      <td>10987.081488</td>\n",
       "      <td>170076.872022</td>\n",
       "    </tr>\n",
       "    <tr>\n",
       "      <th>646</th>\n",
       "      <td>-171753.544077</td>\n",
       "      <td>82071.853323</td>\n",
       "      <td>10879.632815</td>\n",
       "      <td>168428.908175</td>\n",
       "    </tr>\n",
       "  </tbody>\n",
       "</table>\n",
       "<p>1212 rows × 4 columns</p>\n",
       "</div>"
      ],
      "text/plain": [
       "                  0              1             2              3\n",
       "1335 -247497.930507  118301.987677  15674.433014  242579.638853\n",
       "3875 -345550.287010  165170.356825  21883.320917  338685.286154\n",
       "166  -177630.246433   84896.592660  11248.815055  174145.795125\n",
       "3003 -100981.929872   48249.481692   6394.056127   99056.870613\n",
       "424  -143958.288164   68789.577328   9115.666067  141187.581754\n",
       "...             ...            ...           ...            ...\n",
       "1589 -120441.213387   57553.459793   7629.487199  118107.252664\n",
       "32   -267366.144896  127798.266644  16930.153706  262072.162304\n",
       "360  -175565.537889   83916.501703  11116.103898  172108.097116\n",
       "2862 -173498.919175   82924.442665  10987.081488  170076.872022\n",
       "646  -171753.544077   82071.853323  10879.632815  168428.908175\n",
       "\n",
       "[1212 rows x 4 columns]"
      ]
     },
     "execution_count": 26,
     "metadata": {},
     "output_type": "execute_result"
    }
   ],
   "source": [
    "X_valid_new"
   ]
  },
  {
   "cell_type": "markdown",
   "metadata": {},
   "source": [
    "Now we decrypt the data by multiplying it by the inverse matrix."
   ]
  },
  {
   "cell_type": "code",
   "execution_count": 27,
   "metadata": {},
   "outputs": [
    {
     "data": {
      "text/html": [
       "<div>\n",
       "<style scoped>\n",
       "    .dataframe tbody tr th:only-of-type {\n",
       "        vertical-align: middle;\n",
       "    }\n",
       "\n",
       "    .dataframe tbody tr th {\n",
       "        vertical-align: top;\n",
       "    }\n",
       "\n",
       "    .dataframe thead th {\n",
       "        text-align: right;\n",
       "    }\n",
       "</style>\n",
       "<table border=\"1\" class=\"dataframe\">\n",
       "  <thead>\n",
       "    <tr style=\"text-align: right;\">\n",
       "      <th></th>\n",
       "      <th>gender</th>\n",
       "      <th>age</th>\n",
       "      <th>salary</th>\n",
       "      <th>family</th>\n",
       "    </tr>\n",
       "  </thead>\n",
       "  <tbody>\n",
       "    <tr>\n",
       "      <th>1335</th>\n",
       "      <td>1</td>\n",
       "      <td>23</td>\n",
       "      <td>47200</td>\n",
       "      <td>0</td>\n",
       "    </tr>\n",
       "    <tr>\n",
       "      <th>3875</th>\n",
       "      <td>1</td>\n",
       "      <td>32</td>\n",
       "      <td>65900</td>\n",
       "      <td>0</td>\n",
       "    </tr>\n",
       "    <tr>\n",
       "      <th>166</th>\n",
       "      <td>1</td>\n",
       "      <td>33</td>\n",
       "      <td>33900</td>\n",
       "      <td>2</td>\n",
       "    </tr>\n",
       "    <tr>\n",
       "      <th>3003</th>\n",
       "      <td>0</td>\n",
       "      <td>39</td>\n",
       "      <td>19300</td>\n",
       "      <td>2</td>\n",
       "    </tr>\n",
       "    <tr>\n",
       "      <th>424</th>\n",
       "      <td>0</td>\n",
       "      <td>46</td>\n",
       "      <td>27500</td>\n",
       "      <td>2</td>\n",
       "    </tr>\n",
       "    <tr>\n",
       "      <th>...</th>\n",
       "      <td>...</td>\n",
       "      <td>...</td>\n",
       "      <td>...</td>\n",
       "      <td>...</td>\n",
       "    </tr>\n",
       "    <tr>\n",
       "      <th>1589</th>\n",
       "      <td>1</td>\n",
       "      <td>35</td>\n",
       "      <td>23000</td>\n",
       "      <td>1</td>\n",
       "    </tr>\n",
       "    <tr>\n",
       "      <th>32</th>\n",
       "      <td>1</td>\n",
       "      <td>30</td>\n",
       "      <td>51000</td>\n",
       "      <td>2</td>\n",
       "    </tr>\n",
       "    <tr>\n",
       "      <th>360</th>\n",
       "      <td>1</td>\n",
       "      <td>26</td>\n",
       "      <td>33500</td>\n",
       "      <td>3</td>\n",
       "    </tr>\n",
       "    <tr>\n",
       "      <th>2862</th>\n",
       "      <td>0</td>\n",
       "      <td>25</td>\n",
       "      <td>33100</td>\n",
       "      <td>0</td>\n",
       "    </tr>\n",
       "    <tr>\n",
       "      <th>646</th>\n",
       "      <td>1</td>\n",
       "      <td>51</td>\n",
       "      <td>32800</td>\n",
       "      <td>1</td>\n",
       "    </tr>\n",
       "  </tbody>\n",
       "</table>\n",
       "<p>1212 rows × 4 columns</p>\n",
       "</div>"
      ],
      "text/plain": [
       "      gender  age  salary  family\n",
       "1335       1   23   47200       0\n",
       "3875       1   32   65900       0\n",
       "166        1   33   33900       2\n",
       "3003       0   39   19300       2\n",
       "424        0   46   27500       2\n",
       "...      ...  ...     ...     ...\n",
       "1589       1   35   23000       1\n",
       "32         1   30   51000       2\n",
       "360        1   26   33500       3\n",
       "2862       0   25   33100       0\n",
       "646        1   51   32800       1\n",
       "\n",
       "[1212 rows x 4 columns]"
      ]
     },
     "execution_count": 27,
     "metadata": {},
     "output_type": "execute_result"
    }
   ],
   "source": [
    "X_valid_decripted = round(X_valid_new @ np.linalg.inv(rand_matrix)).astype('int')\n",
    "X_valid_decripted.columns = ['gender', 'age', 'salary', 'family']\n",
    "X_valid_decripted"
   ]
  },
  {
   "cell_type": "markdown",
   "metadata": {},
   "source": [
    "Compare with the original data of the validation set."
   ]
  },
  {
   "cell_type": "code",
   "execution_count": 28,
   "metadata": {},
   "outputs": [
    {
     "data": {
      "text/html": [
       "<div>\n",
       "<style scoped>\n",
       "    .dataframe tbody tr th:only-of-type {\n",
       "        vertical-align: middle;\n",
       "    }\n",
       "\n",
       "    .dataframe tbody tr th {\n",
       "        vertical-align: top;\n",
       "    }\n",
       "\n",
       "    .dataframe thead th {\n",
       "        text-align: right;\n",
       "    }\n",
       "</style>\n",
       "<table border=\"1\" class=\"dataframe\">\n",
       "  <thead>\n",
       "    <tr style=\"text-align: right;\">\n",
       "      <th></th>\n",
       "      <th>gender</th>\n",
       "      <th>age</th>\n",
       "      <th>salary</th>\n",
       "      <th>family</th>\n",
       "    </tr>\n",
       "  </thead>\n",
       "  <tbody>\n",
       "    <tr>\n",
       "      <th>1335</th>\n",
       "      <td>1</td>\n",
       "      <td>23</td>\n",
       "      <td>47200.0</td>\n",
       "      <td>0</td>\n",
       "    </tr>\n",
       "    <tr>\n",
       "      <th>3875</th>\n",
       "      <td>1</td>\n",
       "      <td>32</td>\n",
       "      <td>65900.0</td>\n",
       "      <td>0</td>\n",
       "    </tr>\n",
       "    <tr>\n",
       "      <th>166</th>\n",
       "      <td>1</td>\n",
       "      <td>33</td>\n",
       "      <td>33900.0</td>\n",
       "      <td>2</td>\n",
       "    </tr>\n",
       "    <tr>\n",
       "      <th>3003</th>\n",
       "      <td>0</td>\n",
       "      <td>39</td>\n",
       "      <td>19300.0</td>\n",
       "      <td>2</td>\n",
       "    </tr>\n",
       "    <tr>\n",
       "      <th>424</th>\n",
       "      <td>0</td>\n",
       "      <td>46</td>\n",
       "      <td>27500.0</td>\n",
       "      <td>2</td>\n",
       "    </tr>\n",
       "    <tr>\n",
       "      <th>...</th>\n",
       "      <td>...</td>\n",
       "      <td>...</td>\n",
       "      <td>...</td>\n",
       "      <td>...</td>\n",
       "    </tr>\n",
       "    <tr>\n",
       "      <th>1589</th>\n",
       "      <td>1</td>\n",
       "      <td>35</td>\n",
       "      <td>23000.0</td>\n",
       "      <td>1</td>\n",
       "    </tr>\n",
       "    <tr>\n",
       "      <th>32</th>\n",
       "      <td>1</td>\n",
       "      <td>30</td>\n",
       "      <td>51000.0</td>\n",
       "      <td>2</td>\n",
       "    </tr>\n",
       "    <tr>\n",
       "      <th>360</th>\n",
       "      <td>1</td>\n",
       "      <td>26</td>\n",
       "      <td>33500.0</td>\n",
       "      <td>3</td>\n",
       "    </tr>\n",
       "    <tr>\n",
       "      <th>2862</th>\n",
       "      <td>0</td>\n",
       "      <td>25</td>\n",
       "      <td>33100.0</td>\n",
       "      <td>0</td>\n",
       "    </tr>\n",
       "    <tr>\n",
       "      <th>646</th>\n",
       "      <td>1</td>\n",
       "      <td>51</td>\n",
       "      <td>32800.0</td>\n",
       "      <td>1</td>\n",
       "    </tr>\n",
       "  </tbody>\n",
       "</table>\n",
       "<p>1212 rows × 4 columns</p>\n",
       "</div>"
      ],
      "text/plain": [
       "      gender  age   salary  family\n",
       "1335       1   23  47200.0       0\n",
       "3875       1   32  65900.0       0\n",
       "166        1   33  33900.0       2\n",
       "3003       0   39  19300.0       2\n",
       "424        0   46  27500.0       2\n",
       "...      ...  ...      ...     ...\n",
       "1589       1   35  23000.0       1\n",
       "32         1   30  51000.0       2\n",
       "360        1   26  33500.0       3\n",
       "2862       0   25  33100.0       0\n",
       "646        1   51  32800.0       1\n",
       "\n",
       "[1212 rows x 4 columns]"
      ]
     },
     "execution_count": 28,
     "metadata": {},
     "output_type": "execute_result"
    }
   ],
   "source": [
    "X_valid"
   ]
  },
  {
   "cell_type": "code",
   "execution_count": 29,
   "metadata": {},
   "outputs": [
    {
     "data": {
      "text/html": [
       "<div>\n",
       "<style scoped>\n",
       "    .dataframe tbody tr th:only-of-type {\n",
       "        vertical-align: middle;\n",
       "    }\n",
       "\n",
       "    .dataframe tbody tr th {\n",
       "        vertical-align: top;\n",
       "    }\n",
       "\n",
       "    .dataframe thead th {\n",
       "        text-align: right;\n",
       "    }\n",
       "</style>\n",
       "<table border=\"1\" class=\"dataframe\">\n",
       "  <thead>\n",
       "    <tr style=\"text-align: right;\">\n",
       "      <th></th>\n",
       "      <th>Number of matches</th>\n",
       "    </tr>\n",
       "  </thead>\n",
       "  <tbody>\n",
       "    <tr>\n",
       "      <th>gender</th>\n",
       "      <td>1212</td>\n",
       "    </tr>\n",
       "    <tr>\n",
       "      <th>age</th>\n",
       "      <td>1212</td>\n",
       "    </tr>\n",
       "    <tr>\n",
       "      <th>salary</th>\n",
       "      <td>1212</td>\n",
       "    </tr>\n",
       "    <tr>\n",
       "      <th>family</th>\n",
       "      <td>1212</td>\n",
       "    </tr>\n",
       "  </tbody>\n",
       "</table>\n",
       "</div>"
      ],
      "text/plain": [
       "        Number of matches\n",
       "gender               1212\n",
       "age                  1212\n",
       "salary               1212\n",
       "family               1212"
      ]
     },
     "execution_count": 29,
     "metadata": {},
     "output_type": "execute_result"
    }
   ],
   "source": [
    "pd.DataFrame(data=((X_valid == X_valid_decripted).count()), columns=['Number of matches'])"
   ]
  },
  {
   "cell_type": "markdown",
   "metadata": {},
   "source": [
    "After the transformation, we received an identical data set to the original one. The algorithm works correctly and encryption does not affect the results of the linear regression model."
   ]
  },
  {
   "cell_type": "markdown",
   "metadata": {},
   "source": [
    "## Conclusion"
   ]
  },
  {
   "cell_type": "markdown",
   "metadata": {},
   "source": [
    "In the course of the project, we examined the data, checked feature distributions, and removed duplicates. We proved that multiplication by a random invertible matrix does not affect the quality of linear regression. We proposed the algorithm for transforming data to solve the problem. We split the data into training and validation sets in the proportion of 75:25. Checked the quality of linear regression on the original data. We encrypted the data by multiplying it by a random invertible matrix and checked the quality of the linear regression on the new data. We compared the results using the R2 metric and tried to decrypt the data.\n",
    "\n",
    "We managed to create such a data transformation method based on obtaining a random reversible matrix and multiplying it by a matrix of learning features, so that it would be difficult to restore personal information from them. As a result, we managed to distort the data in such a way that it is difficult to recover information from them, but at the same time, the quality of the predictions of the linear regression trained on them does not change.\n",
    "\n",
    "We also created a method for decrypting data and bringing it back to its original form and tested it."
   ]
  }
 ],
 "metadata": {
  "ExecuteTimeLog": [
   {
    "duration": 62,
    "start_time": "2022-08-03T09:35:33.171Z"
   },
   {
    "duration": 1223,
    "start_time": "2022-08-08T11:00:05.783Z"
   },
   {
    "duration": 303,
    "start_time": "2022-08-08T11:02:56.479Z"
   },
   {
    "duration": 10,
    "start_time": "2022-08-08T11:03:06.287Z"
   },
   {
    "duration": 13,
    "start_time": "2022-08-08T11:03:11.195Z"
   },
   {
    "duration": 25,
    "start_time": "2022-08-08T11:03:20.045Z"
   },
   {
    "duration": 7,
    "start_time": "2022-08-08T11:03:56.277Z"
   },
   {
    "duration": 5,
    "start_time": "2022-08-08T11:04:00.181Z"
   },
   {
    "duration": 13,
    "start_time": "2022-08-08T11:04:41.623Z"
   },
   {
    "duration": 601,
    "start_time": "2022-08-08T11:05:41.789Z"
   },
   {
    "duration": 746,
    "start_time": "2022-08-08T11:05:48.037Z"
   },
   {
    "duration": 10,
    "start_time": "2022-08-08T11:05:56.616Z"
   },
   {
    "duration": 8,
    "start_time": "2022-08-08T11:06:15.825Z"
   },
   {
    "duration": 5,
    "start_time": "2022-08-08T11:07:10.161Z"
   },
   {
    "duration": 6,
    "start_time": "2022-08-08T11:07:10.549Z"
   },
   {
    "duration": 1049,
    "start_time": "2022-08-08T11:07:39.586Z"
   },
   {
    "duration": 942,
    "start_time": "2022-08-08T11:08:01.568Z"
   },
   {
    "duration": 754,
    "start_time": "2022-08-08T11:08:09.393Z"
   },
   {
    "duration": 910,
    "start_time": "2022-08-08T11:09:52.613Z"
   },
   {
    "duration": 9,
    "start_time": "2022-08-08T11:11:41.189Z"
   },
   {
    "duration": 4,
    "start_time": "2022-08-08T11:11:47.373Z"
   },
   {
    "duration": 10,
    "start_time": "2022-08-08T11:11:56.846Z"
   },
   {
    "duration": 135,
    "start_time": "2022-08-08T11:38:12.212Z"
   },
   {
    "duration": 14,
    "start_time": "2022-08-08T12:50:12.863Z"
   },
   {
    "duration": 5,
    "start_time": "2022-08-08T12:50:31.013Z"
   },
   {
    "duration": 4,
    "start_time": "2022-08-08T12:50:50.470Z"
   },
   {
    "duration": 4,
    "start_time": "2022-08-08T12:52:56.420Z"
   },
   {
    "duration": 12,
    "start_time": "2022-08-08T12:53:00.863Z"
   },
   {
    "duration": 64,
    "start_time": "2022-08-08T12:54:30.295Z"
   },
   {
    "duration": 7,
    "start_time": "2022-08-08T12:55:37.236Z"
   },
   {
    "duration": 5,
    "start_time": "2022-08-08T12:56:10.752Z"
   },
   {
    "duration": 4,
    "start_time": "2022-08-08T12:57:42.706Z"
   },
   {
    "duration": 9,
    "start_time": "2022-08-08T12:57:43.513Z"
   },
   {
    "duration": 11,
    "start_time": "2022-08-08T12:57:49.144Z"
   },
   {
    "duration": 9,
    "start_time": "2022-08-08T12:57:49.691Z"
   },
   {
    "duration": 9,
    "start_time": "2022-08-08T12:57:50.170Z"
   },
   {
    "duration": 16,
    "start_time": "2022-08-08T13:01:45.730Z"
   },
   {
    "duration": 139,
    "start_time": "2022-08-08T13:01:58.575Z"
   },
   {
    "duration": 10,
    "start_time": "2022-08-08T13:02:19.611Z"
   },
   {
    "duration": 14,
    "start_time": "2022-08-08T13:03:20.256Z"
   },
   {
    "duration": 5,
    "start_time": "2022-08-08T13:04:05.344Z"
   },
   {
    "duration": 9,
    "start_time": "2022-08-08T13:04:08.042Z"
   },
   {
    "duration": 17,
    "start_time": "2022-08-08T13:04:17.712Z"
   },
   {
    "duration": 12,
    "start_time": "2022-08-08T13:04:32.290Z"
   },
   {
    "duration": 14,
    "start_time": "2022-08-08T13:04:52.505Z"
   },
   {
    "duration": 20,
    "start_time": "2022-08-08T13:05:17.181Z"
   },
   {
    "duration": 13,
    "start_time": "2022-08-08T13:05:47.945Z"
   },
   {
    "duration": 3,
    "start_time": "2022-08-08T13:19:40.884Z"
   },
   {
    "duration": 15,
    "start_time": "2022-08-08T13:19:45.379Z"
   },
   {
    "duration": 4,
    "start_time": "2022-08-08T13:19:50.583Z"
   },
   {
    "duration": 14,
    "start_time": "2022-08-08T13:20:30.166Z"
   },
   {
    "duration": 4,
    "start_time": "2022-08-08T13:20:41.149Z"
   },
   {
    "duration": 13,
    "start_time": "2022-08-08T13:20:42.066Z"
   },
   {
    "duration": 4,
    "start_time": "2022-08-08T13:25:13.278Z"
   },
   {
    "duration": 5,
    "start_time": "2022-08-08T13:28:50.475Z"
   },
   {
    "duration": 9,
    "start_time": "2022-08-08T13:29:32.298Z"
   },
   {
    "duration": 5,
    "start_time": "2022-08-08T13:30:20.554Z"
   },
   {
    "duration": 27,
    "start_time": "2022-08-08T13:30:59.632Z"
   },
   {
    "duration": 8,
    "start_time": "2022-08-08T13:31:11.634Z"
   },
   {
    "duration": 14,
    "start_time": "2022-08-08T13:33:23.034Z"
   },
   {
    "duration": 8,
    "start_time": "2022-08-08T13:35:49.621Z"
   },
   {
    "duration": 12,
    "start_time": "2022-08-08T13:35:58.169Z"
   },
   {
    "duration": 7,
    "start_time": "2022-08-08T13:36:04.993Z"
   },
   {
    "duration": 5,
    "start_time": "2022-08-08T13:36:28.673Z"
   },
   {
    "duration": 3,
    "start_time": "2022-08-08T13:40:18.818Z"
   },
   {
    "duration": 9,
    "start_time": "2022-08-08T13:40:53.646Z"
   },
   {
    "duration": 3,
    "start_time": "2022-08-08T13:42:10.052Z"
   },
   {
    "duration": 3,
    "start_time": "2022-08-08T13:42:42.467Z"
   },
   {
    "duration": 9,
    "start_time": "2022-08-08T13:43:03.023Z"
   },
   {
    "duration": 5,
    "start_time": "2022-08-08T13:43:24.618Z"
   },
   {
    "duration": 6,
    "start_time": "2022-08-08T13:43:25.333Z"
   },
   {
    "duration": 5,
    "start_time": "2022-08-08T13:44:01.196Z"
   },
   {
    "duration": 5,
    "start_time": "2022-08-08T13:44:25.683Z"
   },
   {
    "duration": 9,
    "start_time": "2022-08-08T13:45:02.929Z"
   },
   {
    "duration": 8,
    "start_time": "2022-08-08T13:47:32.127Z"
   },
   {
    "duration": 13,
    "start_time": "2022-08-08T13:53:22.640Z"
   },
   {
    "duration": 11,
    "start_time": "2022-08-08T13:54:13.678Z"
   },
   {
    "duration": 11,
    "start_time": "2022-08-08T13:55:11.385Z"
   },
   {
    "duration": 9,
    "start_time": "2022-08-08T13:57:25.905Z"
   },
   {
    "duration": 92,
    "start_time": "2022-08-08T13:58:23.620Z"
   },
   {
    "duration": 9,
    "start_time": "2022-08-08T13:58:29.728Z"
   },
   {
    "duration": 19,
    "start_time": "2022-08-08T13:59:20.725Z"
   },
   {
    "duration": 11,
    "start_time": "2022-08-08T14:00:05.598Z"
   },
   {
    "duration": 11,
    "start_time": "2022-08-08T14:00:09.977Z"
   },
   {
    "duration": 9,
    "start_time": "2022-08-08T14:00:20.881Z"
   },
   {
    "duration": 205,
    "start_time": "2022-08-08T14:01:10.980Z"
   },
   {
    "duration": 6,
    "start_time": "2022-08-08T14:01:25.472Z"
   },
   {
    "duration": 9,
    "start_time": "2022-08-08T14:01:33.152Z"
   },
   {
    "duration": 18,
    "start_time": "2022-08-08T14:02:08.915Z"
   },
   {
    "duration": 12,
    "start_time": "2022-08-08T14:02:19.261Z"
   },
   {
    "duration": 11,
    "start_time": "2022-08-08T14:02:30.629Z"
   },
   {
    "duration": 15,
    "start_time": "2022-08-08T14:02:52.235Z"
   },
   {
    "duration": 12,
    "start_time": "2022-08-08T14:02:55.613Z"
   },
   {
    "duration": 10,
    "start_time": "2022-08-08T14:03:01.296Z"
   },
   {
    "duration": 10,
    "start_time": "2022-08-08T14:03:15.842Z"
   },
   {
    "duration": 8,
    "start_time": "2022-08-08T14:27:06.134Z"
   },
   {
    "duration": 1350,
    "start_time": "2022-08-08T14:42:26.975Z"
   },
   {
    "duration": 12,
    "start_time": "2022-08-08T14:42:28.327Z"
   },
   {
    "duration": 28,
    "start_time": "2022-08-08T14:42:28.343Z"
   },
   {
    "duration": 39,
    "start_time": "2022-08-08T14:42:28.373Z"
   },
   {
    "duration": 839,
    "start_time": "2022-08-08T14:42:28.413Z"
   },
   {
    "duration": 19,
    "start_time": "2022-08-08T14:42:29.254Z"
   },
   {
    "duration": 16,
    "start_time": "2022-08-08T14:42:29.275Z"
   },
   {
    "duration": 15,
    "start_time": "2022-08-08T14:42:29.293Z"
   },
   {
    "duration": 7,
    "start_time": "2022-08-08T14:42:29.310Z"
   },
   {
    "duration": 7,
    "start_time": "2022-08-08T14:42:29.319Z"
   },
   {
    "duration": 7,
    "start_time": "2022-08-08T14:42:29.328Z"
   },
   {
    "duration": 5,
    "start_time": "2022-08-08T14:42:29.336Z"
   },
   {
    "duration": 17,
    "start_time": "2022-08-08T14:42:29.342Z"
   },
   {
    "duration": 102,
    "start_time": "2022-08-08T14:42:29.361Z"
   },
   {
    "duration": 18,
    "start_time": "2022-08-08T14:42:29.465Z"
   },
   {
    "duration": 10,
    "start_time": "2022-08-08T14:42:29.485Z"
   },
   {
    "duration": 112,
    "start_time": "2022-08-08T14:42:29.496Z"
   },
   {
    "duration": 0,
    "start_time": "2022-08-08T14:42:29.609Z"
   },
   {
    "duration": 0,
    "start_time": "2022-08-08T14:42:29.611Z"
   },
   {
    "duration": 0,
    "start_time": "2022-08-08T14:42:29.612Z"
   },
   {
    "duration": 0,
    "start_time": "2022-08-08T14:42:29.613Z"
   },
   {
    "duration": 0,
    "start_time": "2022-08-08T14:42:29.614Z"
   },
   {
    "duration": 0,
    "start_time": "2022-08-08T14:42:29.615Z"
   },
   {
    "duration": 0,
    "start_time": "2022-08-08T14:42:29.616Z"
   },
   {
    "duration": 0,
    "start_time": "2022-08-08T14:42:29.618Z"
   },
   {
    "duration": 0,
    "start_time": "2022-08-08T14:42:29.619Z"
   },
   {
    "duration": 0,
    "start_time": "2022-08-08T14:42:29.620Z"
   },
   {
    "duration": 788,
    "start_time": "2022-08-08T14:42:47.517Z"
   },
   {
    "duration": 753,
    "start_time": "2022-08-08T14:42:57.176Z"
   },
   {
    "duration": 10,
    "start_time": "2022-08-08T14:45:07.669Z"
   },
   {
    "duration": 323,
    "start_time": "2022-08-08T14:46:10.984Z"
   },
   {
    "duration": 10,
    "start_time": "2022-08-08T14:53:28.083Z"
   },
   {
    "duration": 1330,
    "start_time": "2022-08-08T14:53:33.079Z"
   },
   {
    "duration": 12,
    "start_time": "2022-08-08T14:53:34.411Z"
   },
   {
    "duration": 14,
    "start_time": "2022-08-08T14:53:34.425Z"
   },
   {
    "duration": 31,
    "start_time": "2022-08-08T14:53:34.440Z"
   },
   {
    "duration": 761,
    "start_time": "2022-08-08T14:53:34.474Z"
   },
   {
    "duration": 511,
    "start_time": "2022-08-08T14:53:35.237Z"
   },
   {
    "duration": 14,
    "start_time": "2022-08-08T14:53:35.750Z"
   },
   {
    "duration": 23,
    "start_time": "2022-08-08T14:53:35.765Z"
   },
   {
    "duration": 18,
    "start_time": "2022-08-08T14:53:35.791Z"
   },
   {
    "duration": 5,
    "start_time": "2022-08-08T14:53:35.810Z"
   },
   {
    "duration": 7,
    "start_time": "2022-08-08T14:53:35.817Z"
   },
   {
    "duration": 5,
    "start_time": "2022-08-08T14:53:35.826Z"
   },
   {
    "duration": 4,
    "start_time": "2022-08-08T14:53:35.833Z"
   },
   {
    "duration": 12,
    "start_time": "2022-08-08T14:53:35.839Z"
   },
   {
    "duration": 8,
    "start_time": "2022-08-08T14:53:35.853Z"
   },
   {
    "duration": 18,
    "start_time": "2022-08-08T14:53:35.862Z"
   },
   {
    "duration": 9,
    "start_time": "2022-08-08T14:53:35.881Z"
   },
   {
    "duration": 8,
    "start_time": "2022-08-08T14:53:35.892Z"
   },
   {
    "duration": 13,
    "start_time": "2022-08-08T14:53:35.901Z"
   },
   {
    "duration": 51,
    "start_time": "2022-08-08T14:53:35.916Z"
   },
   {
    "duration": 92,
    "start_time": "2022-08-08T14:53:35.969Z"
   },
   {
    "duration": 13,
    "start_time": "2022-08-08T14:53:36.066Z"
   },
   {
    "duration": 11,
    "start_time": "2022-08-08T14:53:36.081Z"
   },
   {
    "duration": 8,
    "start_time": "2022-08-08T14:53:36.094Z"
   },
   {
    "duration": 12,
    "start_time": "2022-08-08T14:53:36.104Z"
   },
   {
    "duration": 44,
    "start_time": "2022-08-08T14:53:36.118Z"
   },
   {
    "duration": 11,
    "start_time": "2022-08-08T14:53:36.166Z"
   },
   {
    "duration": 89,
    "start_time": "2022-08-08T14:53:36.179Z"
   }
  ],
  "kernelspec": {
   "display_name": "Python 3 (ipykernel)",
   "language": "python",
   "name": "python3"
  },
  "language_info": {
   "codemirror_mode": {
    "name": "ipython",
    "version": 3
   },
   "file_extension": ".py",
   "mimetype": "text/x-python",
   "name": "python",
   "nbconvert_exporter": "python",
   "pygments_lexer": "ipython3",
   "version": "3.9.12"
  },
  "toc": {
   "base_numbering": 1,
   "nav_menu": {},
   "number_sections": true,
   "sideBar": true,
   "skip_h1_title": true,
   "title_cell": "Table of Contents",
   "title_sidebar": "Contents",
   "toc_cell": true,
   "toc_position": {},
   "toc_section_display": true,
   "toc_window_display": true
  }
 },
 "nbformat": 4,
 "nbformat_minor": 2
}
