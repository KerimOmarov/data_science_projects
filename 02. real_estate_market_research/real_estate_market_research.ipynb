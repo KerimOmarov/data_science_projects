{
 "cells": [
  {
   "cell_type": "markdown",
   "metadata": {
    "toc": true
   },
   "source": [
    "<h1>Table of Contents<span class=\"tocSkip\"></span></h1>\n",
    "<div class=\"toc\"><ul class=\"toc-item\"><li><span><a href=\"#Data-Review\" data-toc-modified-id=\"Data-Review-1\"><span class=\"toc-item-num\">1&nbsp;&nbsp;</span>Data Review</a></span><ul class=\"toc-item\"><li><span><a href=\"#Conclusion\" data-toc-modified-id=\"Conclusion-1.1\"><span class=\"toc-item-num\">1.1&nbsp;&nbsp;</span>Conclusion</a></span></li></ul></li><li><span><a href=\"#Data-Cleaning\" data-toc-modified-id=\"Data-Cleaning-2\"><span class=\"toc-item-num\">2&nbsp;&nbsp;</span>Data Cleaning</a></span><ul class=\"toc-item\"><li><span><a href=\"#Handling-missing-values\" data-toc-modified-id=\"Handling-missing-values-2.1\"><span class=\"toc-item-num\">2.1&nbsp;&nbsp;</span>Handling missing values</a></span></li><li><span><a href=\"#Handling-anomalies\" data-toc-modified-id=\"Handling-anomalies-2.2\"><span class=\"toc-item-num\">2.2&nbsp;&nbsp;</span>Handling anomalies</a></span></li><li><span><a href=\"#Changing-Data-Types\" data-toc-modified-id=\"Changing-Data-Types-2.3\"><span class=\"toc-item-num\">2.3&nbsp;&nbsp;</span>Changing Data Types</a></span></li><li><span><a href=\"#Removing-duplicate-values\" data-toc-modified-id=\"Removing-duplicate-values-2.4\"><span class=\"toc-item-num\">2.4&nbsp;&nbsp;</span>Removing duplicate values</a></span></li></ul></li><li><span><a href=\"#Calculations\" data-toc-modified-id=\"Calculations-3\"><span class=\"toc-item-num\">3&nbsp;&nbsp;</span>Calculations</a></span></li><li><span><a href=\"#Exploratory-Data-Analysis\" data-toc-modified-id=\"Exploratory-Data-Analysis-4\"><span class=\"toc-item-num\">4&nbsp;&nbsp;</span>Exploratory Data Analysis</a></span><ul class=\"toc-item\"><li><span><a href=\"#Studying-the-area,-prices,-number-of-rooms,-ceiling-heights\" data-toc-modified-id=\"Studying-the-area,-prices,-number-of-rooms,-ceiling-heights-4.1\"><span class=\"toc-item-num\">4.1&nbsp;&nbsp;</span>Studying the area, prices, number of rooms, ceiling heights</a></span></li><li><span><a href=\"#Studying-days-advertisment-was-active\" data-toc-modified-id=\"Studying-days-advertisment-was-active-4.2\"><span class=\"toc-item-num\">4.2&nbsp;&nbsp;</span>Studying days advertisment was active</a></span></li><li><span><a href=\"#Removing-rare-values-and-outliers\" data-toc-modified-id=\"Removing-rare-values-and-outliers-4.3\"><span class=\"toc-item-num\">4.3&nbsp;&nbsp;</span>Removing rare values and outliers</a></span></li><li><span><a href=\"#The-study-of-factors-affecting-the-price-of-an-apartment\" data-toc-modified-id=\"The-study-of-factors-affecting-the-price-of-an-apartment-4.4\"><span class=\"toc-item-num\">4.4&nbsp;&nbsp;</span>The study of factors affecting the price of an apartment</a></span></li><li><span><a href=\"#The-price-of-apartments-in-the-top-10-settlements-by-the-number-of-ads\" data-toc-modified-id=\"The-price-of-apartments-in-the-top-10-settlements-by-the-number-of-ads-4.5\"><span class=\"toc-item-num\">4.5&nbsp;&nbsp;</span>The price of apartments in the top 10 settlements by the number of ads</a></span></li><li><span><a href=\"#Locating-of-the-central-zone-of-St.-Petersburg\" data-toc-modified-id=\"Locating-of-the-central-zone-of-St.-Petersburg-4.6\"><span class=\"toc-item-num\">4.6&nbsp;&nbsp;</span>Locating of the central zone of St. Petersburg</a></span></li><li><span><a href=\"#Analysis-of-the-parameters-of-apartments-in-the-center-of-St.-Petersburg\" data-toc-modified-id=\"Analysis-of-the-parameters-of-apartments-in-the-center-of-St.-Petersburg-4.7\"><span class=\"toc-item-num\">4.7&nbsp;&nbsp;</span>Analysis of the parameters of apartments in the center of St. Petersburg</a></span></li></ul></li><li><span><a href=\"#Conclusion\" data-toc-modified-id=\"Conclusion-5\"><span class=\"toc-item-num\">5&nbsp;&nbsp;</span>Conclusion</a></span></li></ul></div>"
   ]
  },
  {
   "cell_type": "markdown",
   "metadata": {},
   "source": [
    "# Real Estate Prices Research\n",
    "\n",
    "At our disposal is the data of the ABC Real Estate service - an archive of ads for the sale of apartments in St. Petersburg and neighboring settlements for several years. We need to learn how to determine the market value of the real estate. Our job is to determine the parameters. This will allow the building of an automated system: it will track anomalies and fraudulent activity.\n",
    "\n",
    "Two types of data are available for each apartment. The first ones are entered by the user, the second ones are obtained automatically based on cartographic data. For example, the distance to the center, airport, nearest park, and reservoir.\n",
    "\n",
    "**Purpose of the project:** To process and investigate the initial data to establish the parameters necessary for determining the price.\n",
    "\n",
    "**Research steps:**\n",
    "\n",
    "Project steps:\n",
    "\n",
    "* Data review.\n",
    "* Data preprocessing.\n",
    "* Calculations and adding results to the table.\n",
    "* Exploratory data analysis."
   ]
  },
  {
   "cell_type": "markdown",
   "metadata": {},
   "source": [
    "## Data Review"
   ]
  },
  {
   "cell_type": "code",
   "execution_count": 1,
   "metadata": {},
   "outputs": [],
   "source": [
    "import pandas as pd\n",
    "import numpy as np\n",
    "import matplotlib.pyplot as plt \n",
    "import seaborn as sns\n",
    "df = pd.read_csv('real_estate_data.csv', sep='\\t')"
   ]
  },
  {
   "cell_type": "code",
   "execution_count": 2,
   "metadata": {},
   "outputs": [
    {
     "data": {
      "text/html": [
       "<div>\n",
       "<style scoped>\n",
       "    .dataframe tbody tr th:only-of-type {\n",
       "        vertical-align: middle;\n",
       "    }\n",
       "\n",
       "    .dataframe tbody tr th {\n",
       "        vertical-align: top;\n",
       "    }\n",
       "\n",
       "    .dataframe thead th {\n",
       "        text-align: right;\n",
       "    }\n",
       "</style>\n",
       "<table border=\"1\" class=\"dataframe\">\n",
       "  <thead>\n",
       "    <tr style=\"text-align: right;\">\n",
       "      <th></th>\n",
       "      <th>total_images</th>\n",
       "      <th>last_price</th>\n",
       "      <th>total_area</th>\n",
       "      <th>first_day_exposition</th>\n",
       "      <th>rooms</th>\n",
       "      <th>ceiling_height</th>\n",
       "      <th>floors_total</th>\n",
       "      <th>living_area</th>\n",
       "      <th>floor</th>\n",
       "      <th>is_apartment</th>\n",
       "      <th>...</th>\n",
       "      <th>kitchen_area</th>\n",
       "      <th>balcony</th>\n",
       "      <th>locality_name</th>\n",
       "      <th>airports_nearest</th>\n",
       "      <th>cityCenters_nearest</th>\n",
       "      <th>parks_around3000</th>\n",
       "      <th>parks_nearest</th>\n",
       "      <th>ponds_around3000</th>\n",
       "      <th>ponds_nearest</th>\n",
       "      <th>days_exposition</th>\n",
       "    </tr>\n",
       "  </thead>\n",
       "  <tbody>\n",
       "    <tr>\n",
       "      <th>0</th>\n",
       "      <td>20</td>\n",
       "      <td>13000000.0</td>\n",
       "      <td>108.0</td>\n",
       "      <td>2019-03-07T00:00:00</td>\n",
       "      <td>3</td>\n",
       "      <td>2.70</td>\n",
       "      <td>16.0</td>\n",
       "      <td>51.0</td>\n",
       "      <td>8</td>\n",
       "      <td>NaN</td>\n",
       "      <td>...</td>\n",
       "      <td>25.0</td>\n",
       "      <td>NaN</td>\n",
       "      <td>Санкт-Петербург</td>\n",
       "      <td>18863.0</td>\n",
       "      <td>16028.0</td>\n",
       "      <td>1.0</td>\n",
       "      <td>482.0</td>\n",
       "      <td>2.0</td>\n",
       "      <td>755.0</td>\n",
       "      <td>NaN</td>\n",
       "    </tr>\n",
       "    <tr>\n",
       "      <th>1</th>\n",
       "      <td>7</td>\n",
       "      <td>3350000.0</td>\n",
       "      <td>40.4</td>\n",
       "      <td>2018-12-04T00:00:00</td>\n",
       "      <td>1</td>\n",
       "      <td>NaN</td>\n",
       "      <td>11.0</td>\n",
       "      <td>18.6</td>\n",
       "      <td>1</td>\n",
       "      <td>NaN</td>\n",
       "      <td>...</td>\n",
       "      <td>11.0</td>\n",
       "      <td>2.0</td>\n",
       "      <td>посёлок Шушары</td>\n",
       "      <td>12817.0</td>\n",
       "      <td>18603.0</td>\n",
       "      <td>0.0</td>\n",
       "      <td>NaN</td>\n",
       "      <td>0.0</td>\n",
       "      <td>NaN</td>\n",
       "      <td>81.0</td>\n",
       "    </tr>\n",
       "    <tr>\n",
       "      <th>2</th>\n",
       "      <td>10</td>\n",
       "      <td>5196000.0</td>\n",
       "      <td>56.0</td>\n",
       "      <td>2015-08-20T00:00:00</td>\n",
       "      <td>2</td>\n",
       "      <td>NaN</td>\n",
       "      <td>5.0</td>\n",
       "      <td>34.3</td>\n",
       "      <td>4</td>\n",
       "      <td>NaN</td>\n",
       "      <td>...</td>\n",
       "      <td>8.3</td>\n",
       "      <td>0.0</td>\n",
       "      <td>Санкт-Петербург</td>\n",
       "      <td>21741.0</td>\n",
       "      <td>13933.0</td>\n",
       "      <td>1.0</td>\n",
       "      <td>90.0</td>\n",
       "      <td>2.0</td>\n",
       "      <td>574.0</td>\n",
       "      <td>558.0</td>\n",
       "    </tr>\n",
       "    <tr>\n",
       "      <th>3</th>\n",
       "      <td>0</td>\n",
       "      <td>64900000.0</td>\n",
       "      <td>159.0</td>\n",
       "      <td>2015-07-24T00:00:00</td>\n",
       "      <td>3</td>\n",
       "      <td>NaN</td>\n",
       "      <td>14.0</td>\n",
       "      <td>NaN</td>\n",
       "      <td>9</td>\n",
       "      <td>NaN</td>\n",
       "      <td>...</td>\n",
       "      <td>NaN</td>\n",
       "      <td>0.0</td>\n",
       "      <td>Санкт-Петербург</td>\n",
       "      <td>28098.0</td>\n",
       "      <td>6800.0</td>\n",
       "      <td>2.0</td>\n",
       "      <td>84.0</td>\n",
       "      <td>3.0</td>\n",
       "      <td>234.0</td>\n",
       "      <td>424.0</td>\n",
       "    </tr>\n",
       "    <tr>\n",
       "      <th>4</th>\n",
       "      <td>2</td>\n",
       "      <td>10000000.0</td>\n",
       "      <td>100.0</td>\n",
       "      <td>2018-06-19T00:00:00</td>\n",
       "      <td>2</td>\n",
       "      <td>3.03</td>\n",
       "      <td>14.0</td>\n",
       "      <td>32.0</td>\n",
       "      <td>13</td>\n",
       "      <td>NaN</td>\n",
       "      <td>...</td>\n",
       "      <td>41.0</td>\n",
       "      <td>NaN</td>\n",
       "      <td>Санкт-Петербург</td>\n",
       "      <td>31856.0</td>\n",
       "      <td>8098.0</td>\n",
       "      <td>2.0</td>\n",
       "      <td>112.0</td>\n",
       "      <td>1.0</td>\n",
       "      <td>48.0</td>\n",
       "      <td>121.0</td>\n",
       "    </tr>\n",
       "  </tbody>\n",
       "</table>\n",
       "<p>5 rows × 22 columns</p>\n",
       "</div>"
      ],
      "text/plain": [
       "   total_images  last_price  total_area first_day_exposition  rooms  \\\n",
       "0            20  13000000.0       108.0  2019-03-07T00:00:00      3   \n",
       "1             7   3350000.0        40.4  2018-12-04T00:00:00      1   \n",
       "2            10   5196000.0        56.0  2015-08-20T00:00:00      2   \n",
       "3             0  64900000.0       159.0  2015-07-24T00:00:00      3   \n",
       "4             2  10000000.0       100.0  2018-06-19T00:00:00      2   \n",
       "\n",
       "   ceiling_height  floors_total  living_area  floor is_apartment  ...  \\\n",
       "0            2.70          16.0         51.0      8          NaN  ...   \n",
       "1             NaN          11.0         18.6      1          NaN  ...   \n",
       "2             NaN           5.0         34.3      4          NaN  ...   \n",
       "3             NaN          14.0          NaN      9          NaN  ...   \n",
       "4            3.03          14.0         32.0     13          NaN  ...   \n",
       "\n",
       "   kitchen_area  balcony    locality_name  airports_nearest  \\\n",
       "0          25.0      NaN  Санкт-Петербург           18863.0   \n",
       "1          11.0      2.0   посёлок Шушары           12817.0   \n",
       "2           8.3      0.0  Санкт-Петербург           21741.0   \n",
       "3           NaN      0.0  Санкт-Петербург           28098.0   \n",
       "4          41.0      NaN  Санкт-Петербург           31856.0   \n",
       "\n",
       "  cityCenters_nearest  parks_around3000  parks_nearest  ponds_around3000  \\\n",
       "0             16028.0               1.0          482.0               2.0   \n",
       "1             18603.0               0.0            NaN               0.0   \n",
       "2             13933.0               1.0           90.0               2.0   \n",
       "3              6800.0               2.0           84.0               3.0   \n",
       "4              8098.0               2.0          112.0               1.0   \n",
       "\n",
       "   ponds_nearest  days_exposition  \n",
       "0          755.0              NaN  \n",
       "1            NaN             81.0  \n",
       "2          574.0            558.0  \n",
       "3          234.0            424.0  \n",
       "4           48.0            121.0  \n",
       "\n",
       "[5 rows x 22 columns]"
      ]
     },
     "execution_count": 2,
     "metadata": {},
     "output_type": "execute_result"
    }
   ],
   "source": [
    "df.head()"
   ]
  },
  {
   "cell_type": "code",
   "execution_count": 3,
   "metadata": {},
   "outputs": [
    {
     "name": "stdout",
     "output_type": "stream",
     "text": [
      "<class 'pandas.core.frame.DataFrame'>\n",
      "RangeIndex: 23699 entries, 0 to 23698\n",
      "Data columns (total 22 columns):\n",
      " #   Column                Non-Null Count  Dtype  \n",
      "---  ------                --------------  -----  \n",
      " 0   total_images          23699 non-null  int64  \n",
      " 1   last_price            23699 non-null  float64\n",
      " 2   total_area            23699 non-null  float64\n",
      " 3   first_day_exposition  23699 non-null  object \n",
      " 4   rooms                 23699 non-null  int64  \n",
      " 5   ceiling_height        14504 non-null  float64\n",
      " 6   floors_total          23613 non-null  float64\n",
      " 7   living_area           21796 non-null  float64\n",
      " 8   floor                 23699 non-null  int64  \n",
      " 9   is_apartment          2775 non-null   object \n",
      " 10  studio                23699 non-null  bool   \n",
      " 11  open_plan             23699 non-null  bool   \n",
      " 12  kitchen_area          21421 non-null  float64\n",
      " 13  balcony               12180 non-null  float64\n",
      " 14  locality_name         23650 non-null  object \n",
      " 15  airports_nearest      18157 non-null  float64\n",
      " 16  cityCenters_nearest   18180 non-null  float64\n",
      " 17  parks_around3000      18181 non-null  float64\n",
      " 18  parks_nearest         8079 non-null   float64\n",
      " 19  ponds_around3000      18181 non-null  float64\n",
      " 20  ponds_nearest         9110 non-null   float64\n",
      " 21  days_exposition       20518 non-null  float64\n",
      "dtypes: bool(2), float64(14), int64(3), object(3)\n",
      "memory usage: 3.7+ MB\n"
     ]
    }
   ],
   "source": [
    "df.info()"
   ]
  },
  {
   "cell_type": "code",
   "execution_count": 4,
   "metadata": {
    "scrolled": false
   },
   "outputs": [
    {
     "data": {
      "text/html": [
       "<div>\n",
       "<style scoped>\n",
       "    .dataframe tbody tr th:only-of-type {\n",
       "        vertical-align: middle;\n",
       "    }\n",
       "\n",
       "    .dataframe tbody tr th {\n",
       "        vertical-align: top;\n",
       "    }\n",
       "\n",
       "    .dataframe thead th {\n",
       "        text-align: right;\n",
       "    }\n",
       "</style>\n",
       "<table border=\"1\" class=\"dataframe\">\n",
       "  <thead>\n",
       "    <tr style=\"text-align: right;\">\n",
       "      <th></th>\n",
       "      <th>total_images</th>\n",
       "      <th>last_price</th>\n",
       "      <th>total_area</th>\n",
       "      <th>first_day_exposition</th>\n",
       "      <th>rooms</th>\n",
       "      <th>ceiling_height</th>\n",
       "      <th>floors_total</th>\n",
       "      <th>living_area</th>\n",
       "      <th>floor</th>\n",
       "      <th>is_apartment</th>\n",
       "      <th>...</th>\n",
       "      <th>kitchen_area</th>\n",
       "      <th>balcony</th>\n",
       "      <th>locality_name</th>\n",
       "      <th>airports_nearest</th>\n",
       "      <th>cityCenters_nearest</th>\n",
       "      <th>parks_around3000</th>\n",
       "      <th>parks_nearest</th>\n",
       "      <th>ponds_around3000</th>\n",
       "      <th>ponds_nearest</th>\n",
       "      <th>days_exposition</th>\n",
       "    </tr>\n",
       "  </thead>\n",
       "  <tbody>\n",
       "    <tr>\n",
       "      <th>sum</th>\n",
       "      <td>0.0</td>\n",
       "      <td>0.0</td>\n",
       "      <td>0.0</td>\n",
       "      <td>0.0</td>\n",
       "      <td>0.0</td>\n",
       "      <td>9195.000000</td>\n",
       "      <td>86.000000</td>\n",
       "      <td>1903.000000</td>\n",
       "      <td>0.0</td>\n",
       "      <td>20924.000000</td>\n",
       "      <td>...</td>\n",
       "      <td>2278.000000</td>\n",
       "      <td>11519.000000</td>\n",
       "      <td>49.000000</td>\n",
       "      <td>5542.00000</td>\n",
       "      <td>5519.000000</td>\n",
       "      <td>5518.000000</td>\n",
       "      <td>15620.0000</td>\n",
       "      <td>5518.000000</td>\n",
       "      <td>14589.000000</td>\n",
       "      <td>3181.000000</td>\n",
       "    </tr>\n",
       "    <tr>\n",
       "      <th>mean</th>\n",
       "      <td>0.0</td>\n",
       "      <td>0.0</td>\n",
       "      <td>0.0</td>\n",
       "      <td>0.0</td>\n",
       "      <td>0.0</td>\n",
       "      <td>0.387991</td>\n",
       "      <td>0.003629</td>\n",
       "      <td>0.080299</td>\n",
       "      <td>0.0</td>\n",
       "      <td>0.882906</td>\n",
       "      <td>...</td>\n",
       "      <td>0.096122</td>\n",
       "      <td>0.486054</td>\n",
       "      <td>0.002068</td>\n",
       "      <td>0.23385</td>\n",
       "      <td>0.232879</td>\n",
       "      <td>0.232837</td>\n",
       "      <td>0.6591</td>\n",
       "      <td>0.232837</td>\n",
       "      <td>0.615596</td>\n",
       "      <td>0.134225</td>\n",
       "    </tr>\n",
       "  </tbody>\n",
       "</table>\n",
       "<p>2 rows × 22 columns</p>\n",
       "</div>"
      ],
      "text/plain": [
       "      total_images  last_price  total_area  first_day_exposition  rooms  \\\n",
       "sum            0.0         0.0         0.0                   0.0    0.0   \n",
       "mean           0.0         0.0         0.0                   0.0    0.0   \n",
       "\n",
       "      ceiling_height  floors_total  living_area  floor  is_apartment  ...  \\\n",
       "sum      9195.000000     86.000000  1903.000000    0.0  20924.000000  ...   \n",
       "mean        0.387991      0.003629     0.080299    0.0      0.882906  ...   \n",
       "\n",
       "      kitchen_area       balcony  locality_name  airports_nearest  \\\n",
       "sum    2278.000000  11519.000000      49.000000        5542.00000   \n",
       "mean      0.096122      0.486054       0.002068           0.23385   \n",
       "\n",
       "      cityCenters_nearest  parks_around3000  parks_nearest  ponds_around3000  \\\n",
       "sum           5519.000000       5518.000000     15620.0000       5518.000000   \n",
       "mean             0.232879          0.232837         0.6591          0.232837   \n",
       "\n",
       "      ponds_nearest  days_exposition  \n",
       "sum    14589.000000      3181.000000  \n",
       "mean       0.615596         0.134225  \n",
       "\n",
       "[2 rows x 22 columns]"
      ]
     },
     "execution_count": 4,
     "metadata": {},
     "output_type": "execute_result"
    }
   ],
   "source": [
    "df.isna().agg(['sum', 'mean'])"
   ]
  },
  {
   "cell_type": "markdown",
   "metadata": {},
   "source": [
    "DataFrame has twenty-two columns.\n",
    "\n",
    "According to the documentation:\n",
    "\n",
    "* `airports_nearest` — distance to the nearest airport (m) \n",
    "* `balcony` — number of balconies\n",
    "* `ceiling_height` — ceiling height (m)\n",
    "* `cityCenters_nearest` — distance to city center \n",
    "* `days_exposition` — days, advertisment was active (from publication to withdrawal)\n",
    "* `first_day_exposition` — publication date \n",
    "* `floor` — floor\n",
    "* `floors_total` — total floors in a building \n",
    "* `is_apartment` — apartment (boolean) \n",
    "* `kitchen_area` —  kitchen area (sq.m)\n",
    "* `last_price` — price on withdrawal \n",
    "* `living_area` —  living room area (sq.m) \n",
    "* `locality_name` — locality name \n",
    "* `open_plan` — open plan (boolean)\n",
    "* `parks_around3000` — number of parks around (3 km) \n",
    "* `parks_nearest` — distance to the nearest park (m) \n",
    "* `ponds_around3000` — number of ponds around (3km) \n",
    "* `ponds_nearest` — distance to the nearest pond (m) \n",
    "* `rooms` — number of rooms \n",
    "* `studio` — studio (boolean) \n",
    "* `total_area` —  total area (sq.m) \n",
    "* `total_images` — number of photos in ad\n",
    "\n",
    "Number of values in columns differ, therefore there are missing values. "
   ]
  },
  {
   "cell_type": "code",
   "execution_count": 5,
   "metadata": {},
   "outputs": [
    {
     "data": {
      "text/plain": [
       "is_apartment            20924\n",
       "parks_nearest           15620\n",
       "ponds_nearest           14589\n",
       "balcony                 11519\n",
       "ceiling_height           9195\n",
       "airports_nearest         5542\n",
       "cityCenters_nearest      5519\n",
       "ponds_around3000         5518\n",
       "parks_around3000         5518\n",
       "days_exposition          3181\n",
       "kitchen_area             2278\n",
       "living_area              1903\n",
       "floors_total               86\n",
       "locality_name              49\n",
       "total_images                0\n",
       "last_price                  0\n",
       "studio                      0\n",
       "floor                       0\n",
       "rooms                       0\n",
       "first_day_exposition        0\n",
       "total_area                  0\n",
       "open_plan                   0\n",
       "dtype: int64"
      ]
     },
     "execution_count": 5,
     "metadata": {},
     "output_type": "execute_result"
    }
   ],
   "source": [
    "df.isna().sum().sort_values(ascending=False)"
   ]
  },
  {
   "cell_type": "code",
   "execution_count": 6,
   "metadata": {},
   "outputs": [
    {
     "data": {
      "text/html": [
       "<div>\n",
       "<style scoped>\n",
       "    .dataframe tbody tr th:only-of-type {\n",
       "        vertical-align: middle;\n",
       "    }\n",
       "\n",
       "    .dataframe tbody tr th {\n",
       "        vertical-align: top;\n",
       "    }\n",
       "\n",
       "    .dataframe thead th {\n",
       "        text-align: right;\n",
       "    }\n",
       "</style>\n",
       "<table border=\"1\" class=\"dataframe\">\n",
       "  <thead>\n",
       "    <tr style=\"text-align: right;\">\n",
       "      <th></th>\n",
       "      <th>total_images</th>\n",
       "      <th>last_price</th>\n",
       "      <th>total_area</th>\n",
       "      <th>rooms</th>\n",
       "      <th>ceiling_height</th>\n",
       "      <th>floors_total</th>\n",
       "      <th>living_area</th>\n",
       "      <th>floor</th>\n",
       "      <th>kitchen_area</th>\n",
       "      <th>balcony</th>\n",
       "      <th>airports_nearest</th>\n",
       "      <th>cityCenters_nearest</th>\n",
       "      <th>parks_around3000</th>\n",
       "      <th>parks_nearest</th>\n",
       "      <th>ponds_around3000</th>\n",
       "      <th>ponds_nearest</th>\n",
       "      <th>days_exposition</th>\n",
       "    </tr>\n",
       "  </thead>\n",
       "  <tbody>\n",
       "    <tr>\n",
       "      <th>count</th>\n",
       "      <td>23699.000000</td>\n",
       "      <td>2.369900e+04</td>\n",
       "      <td>23699.000000</td>\n",
       "      <td>23699.000000</td>\n",
       "      <td>14504.000000</td>\n",
       "      <td>23613.000000</td>\n",
       "      <td>21796.000000</td>\n",
       "      <td>23699.000000</td>\n",
       "      <td>21421.000000</td>\n",
       "      <td>12180.000000</td>\n",
       "      <td>18157.000000</td>\n",
       "      <td>18180.000000</td>\n",
       "      <td>18181.000000</td>\n",
       "      <td>8079.000000</td>\n",
       "      <td>18181.000000</td>\n",
       "      <td>9110.000000</td>\n",
       "      <td>20518.000000</td>\n",
       "    </tr>\n",
       "    <tr>\n",
       "      <th>mean</th>\n",
       "      <td>9.858475</td>\n",
       "      <td>6.541549e+06</td>\n",
       "      <td>60.348651</td>\n",
       "      <td>2.070636</td>\n",
       "      <td>2.771499</td>\n",
       "      <td>10.673824</td>\n",
       "      <td>34.457852</td>\n",
       "      <td>5.892358</td>\n",
       "      <td>10.569807</td>\n",
       "      <td>1.150082</td>\n",
       "      <td>28793.672193</td>\n",
       "      <td>14191.277833</td>\n",
       "      <td>0.611408</td>\n",
       "      <td>490.804555</td>\n",
       "      <td>0.770255</td>\n",
       "      <td>517.980900</td>\n",
       "      <td>180.888634</td>\n",
       "    </tr>\n",
       "    <tr>\n",
       "      <th>std</th>\n",
       "      <td>5.682529</td>\n",
       "      <td>1.088701e+07</td>\n",
       "      <td>35.654083</td>\n",
       "      <td>1.078405</td>\n",
       "      <td>1.261056</td>\n",
       "      <td>6.597173</td>\n",
       "      <td>22.030445</td>\n",
       "      <td>4.885249</td>\n",
       "      <td>5.905438</td>\n",
       "      <td>1.071300</td>\n",
       "      <td>12630.880622</td>\n",
       "      <td>8608.386210</td>\n",
       "      <td>0.802074</td>\n",
       "      <td>342.317995</td>\n",
       "      <td>0.938346</td>\n",
       "      <td>277.720643</td>\n",
       "      <td>219.727988</td>\n",
       "    </tr>\n",
       "    <tr>\n",
       "      <th>min</th>\n",
       "      <td>0.000000</td>\n",
       "      <td>1.219000e+04</td>\n",
       "      <td>12.000000</td>\n",
       "      <td>0.000000</td>\n",
       "      <td>1.000000</td>\n",
       "      <td>1.000000</td>\n",
       "      <td>2.000000</td>\n",
       "      <td>1.000000</td>\n",
       "      <td>1.300000</td>\n",
       "      <td>0.000000</td>\n",
       "      <td>0.000000</td>\n",
       "      <td>181.000000</td>\n",
       "      <td>0.000000</td>\n",
       "      <td>1.000000</td>\n",
       "      <td>0.000000</td>\n",
       "      <td>13.000000</td>\n",
       "      <td>1.000000</td>\n",
       "    </tr>\n",
       "    <tr>\n",
       "      <th>25%</th>\n",
       "      <td>6.000000</td>\n",
       "      <td>3.400000e+06</td>\n",
       "      <td>40.000000</td>\n",
       "      <td>1.000000</td>\n",
       "      <td>2.520000</td>\n",
       "      <td>5.000000</td>\n",
       "      <td>18.600000</td>\n",
       "      <td>2.000000</td>\n",
       "      <td>7.000000</td>\n",
       "      <td>0.000000</td>\n",
       "      <td>18585.000000</td>\n",
       "      <td>9238.000000</td>\n",
       "      <td>0.000000</td>\n",
       "      <td>288.000000</td>\n",
       "      <td>0.000000</td>\n",
       "      <td>294.000000</td>\n",
       "      <td>45.000000</td>\n",
       "    </tr>\n",
       "    <tr>\n",
       "      <th>50%</th>\n",
       "      <td>9.000000</td>\n",
       "      <td>4.650000e+06</td>\n",
       "      <td>52.000000</td>\n",
       "      <td>2.000000</td>\n",
       "      <td>2.650000</td>\n",
       "      <td>9.000000</td>\n",
       "      <td>30.000000</td>\n",
       "      <td>4.000000</td>\n",
       "      <td>9.100000</td>\n",
       "      <td>1.000000</td>\n",
       "      <td>26726.000000</td>\n",
       "      <td>13098.500000</td>\n",
       "      <td>0.000000</td>\n",
       "      <td>455.000000</td>\n",
       "      <td>1.000000</td>\n",
       "      <td>502.000000</td>\n",
       "      <td>95.000000</td>\n",
       "    </tr>\n",
       "    <tr>\n",
       "      <th>75%</th>\n",
       "      <td>14.000000</td>\n",
       "      <td>6.800000e+06</td>\n",
       "      <td>69.900000</td>\n",
       "      <td>3.000000</td>\n",
       "      <td>2.800000</td>\n",
       "      <td>16.000000</td>\n",
       "      <td>42.300000</td>\n",
       "      <td>8.000000</td>\n",
       "      <td>12.000000</td>\n",
       "      <td>2.000000</td>\n",
       "      <td>37273.000000</td>\n",
       "      <td>16293.000000</td>\n",
       "      <td>1.000000</td>\n",
       "      <td>612.000000</td>\n",
       "      <td>1.000000</td>\n",
       "      <td>729.000000</td>\n",
       "      <td>232.000000</td>\n",
       "    </tr>\n",
       "    <tr>\n",
       "      <th>max</th>\n",
       "      <td>50.000000</td>\n",
       "      <td>7.630000e+08</td>\n",
       "      <td>900.000000</td>\n",
       "      <td>19.000000</td>\n",
       "      <td>100.000000</td>\n",
       "      <td>60.000000</td>\n",
       "      <td>409.700000</td>\n",
       "      <td>33.000000</td>\n",
       "      <td>112.000000</td>\n",
       "      <td>5.000000</td>\n",
       "      <td>84869.000000</td>\n",
       "      <td>65968.000000</td>\n",
       "      <td>3.000000</td>\n",
       "      <td>3190.000000</td>\n",
       "      <td>3.000000</td>\n",
       "      <td>1344.000000</td>\n",
       "      <td>1580.000000</td>\n",
       "    </tr>\n",
       "  </tbody>\n",
       "</table>\n",
       "</div>"
      ],
      "text/plain": [
       "       total_images    last_price    total_area         rooms  ceiling_height  \\\n",
       "count  23699.000000  2.369900e+04  23699.000000  23699.000000    14504.000000   \n",
       "mean       9.858475  6.541549e+06     60.348651      2.070636        2.771499   \n",
       "std        5.682529  1.088701e+07     35.654083      1.078405        1.261056   \n",
       "min        0.000000  1.219000e+04     12.000000      0.000000        1.000000   \n",
       "25%        6.000000  3.400000e+06     40.000000      1.000000        2.520000   \n",
       "50%        9.000000  4.650000e+06     52.000000      2.000000        2.650000   \n",
       "75%       14.000000  6.800000e+06     69.900000      3.000000        2.800000   \n",
       "max       50.000000  7.630000e+08    900.000000     19.000000      100.000000   \n",
       "\n",
       "       floors_total   living_area         floor  kitchen_area       balcony  \\\n",
       "count  23613.000000  21796.000000  23699.000000  21421.000000  12180.000000   \n",
       "mean      10.673824     34.457852      5.892358     10.569807      1.150082   \n",
       "std        6.597173     22.030445      4.885249      5.905438      1.071300   \n",
       "min        1.000000      2.000000      1.000000      1.300000      0.000000   \n",
       "25%        5.000000     18.600000      2.000000      7.000000      0.000000   \n",
       "50%        9.000000     30.000000      4.000000      9.100000      1.000000   \n",
       "75%       16.000000     42.300000      8.000000     12.000000      2.000000   \n",
       "max       60.000000    409.700000     33.000000    112.000000      5.000000   \n",
       "\n",
       "       airports_nearest  cityCenters_nearest  parks_around3000  parks_nearest  \\\n",
       "count      18157.000000         18180.000000      18181.000000    8079.000000   \n",
       "mean       28793.672193         14191.277833          0.611408     490.804555   \n",
       "std        12630.880622          8608.386210          0.802074     342.317995   \n",
       "min            0.000000           181.000000          0.000000       1.000000   \n",
       "25%        18585.000000          9238.000000          0.000000     288.000000   \n",
       "50%        26726.000000         13098.500000          0.000000     455.000000   \n",
       "75%        37273.000000         16293.000000          1.000000     612.000000   \n",
       "max        84869.000000         65968.000000          3.000000    3190.000000   \n",
       "\n",
       "       ponds_around3000  ponds_nearest  days_exposition  \n",
       "count      18181.000000    9110.000000     20518.000000  \n",
       "mean           0.770255     517.980900       180.888634  \n",
       "std            0.938346     277.720643       219.727988  \n",
       "min            0.000000      13.000000         1.000000  \n",
       "25%            0.000000     294.000000        45.000000  \n",
       "50%            1.000000     502.000000        95.000000  \n",
       "75%            1.000000     729.000000       232.000000  \n",
       "max            3.000000    1344.000000      1580.000000  "
      ]
     },
     "execution_count": 6,
     "metadata": {},
     "output_type": "execute_result"
    }
   ],
   "source": [
    "df.describe()"
   ]
  },
  {
   "cell_type": "markdown",
   "metadata": {},
   "source": [
    "### Conclusion"
   ]
  },
  {
   "cell_type": "markdown",
   "metadata": {},
   "source": [
    "Each line of the table contains an advertisement for the sale of an apartment. Some of the columns describe the parameters of the apartment, such as price, total area, number of rooms, ceiling height, etc. The rest of the data tells about the location of the apartment: the distance to the center, airport, nearest park, and reservoir.\n",
    "\n",
    "Preliminarily, we can suggest that there is enough data to test hypotheses. But there are gaps and anomalies in the data.\n",
    "\n",
    "To move forward, we need to fix problems in the data."
   ]
  },
  {
   "cell_type": "markdown",
   "metadata": {},
   "source": [
    "## Data Cleaning"
   ]
  },
  {
   "cell_type": "markdown",
   "metadata": {},
   "source": [
    "### Handling missing values"
   ]
  },
  {
   "cell_type": "markdown",
   "metadata": {},
   "source": [
    "**Number of balconies**"
   ]
  },
  {
   "cell_type": "markdown",
   "metadata": {},
   "source": [
    "Since the number of balconies is an important item in apartment listings, let's assume that missing values in the data indicate that there is no balcony. Thus, we can fill missing values in the balcony column with 0."
   ]
  },
  {
   "cell_type": "code",
   "execution_count": 7,
   "metadata": {},
   "outputs": [
    {
     "data": {
      "text/plain": [
       "11519"
      ]
     },
     "execution_count": 7,
     "metadata": {},
     "output_type": "execute_result"
    }
   ],
   "source": [
    "df['balcony'].isna().sum()"
   ]
  },
  {
   "cell_type": "code",
   "execution_count": 8,
   "metadata": {},
   "outputs": [],
   "source": [
    "df['balcony'].fillna(0, inplace=True)"
   ]
  },
  {
   "cell_type": "code",
   "execution_count": 9,
   "metadata": {},
   "outputs": [
    {
     "data": {
      "text/plain": [
       "0"
      ]
     },
     "execution_count": 9,
     "metadata": {},
     "output_type": "execute_result"
    }
   ],
   "source": [
    "df['balcony'].isna().sum()"
   ]
  },
  {
   "cell_type": "markdown",
   "metadata": {},
   "source": [
    "**Ceiling Height**"
   ]
  },
  {
   "cell_type": "markdown",
   "metadata": {},
   "source": [
    "Let's fill missed values in column `ceiling_height` with median values "
   ]
  },
  {
   "cell_type": "code",
   "execution_count": 10,
   "metadata": {},
   "outputs": [
    {
     "data": {
      "text/plain": [
       "9195"
      ]
     },
     "execution_count": 10,
     "metadata": {},
     "output_type": "execute_result"
    }
   ],
   "source": [
    "df['ceiling_height'].isna().sum()"
   ]
  },
  {
   "cell_type": "code",
   "execution_count": 11,
   "metadata": {},
   "outputs": [],
   "source": [
    "ceiling_height_med = df['ceiling_height'].median()"
   ]
  },
  {
   "cell_type": "code",
   "execution_count": 12,
   "metadata": {},
   "outputs": [],
   "source": [
    "df['ceiling_height'].fillna(ceiling_height_med, inplace=True)"
   ]
  },
  {
   "cell_type": "code",
   "execution_count": 13,
   "metadata": {
    "scrolled": false
   },
   "outputs": [
    {
     "data": {
      "text/plain": [
       "0"
      ]
     },
     "execution_count": 13,
     "metadata": {},
     "output_type": "execute_result"
    }
   ],
   "source": [
    "df['ceiling_height'].isna().sum()"
   ]
  },
  {
   "cell_type": "markdown",
   "metadata": {},
   "source": [
    "**Total Floors in a building**"
   ]
  },
  {
   "cell_type": "code",
   "execution_count": 14,
   "metadata": {},
   "outputs": [
    {
     "data": {
      "text/plain": [
       "86"
      ]
     },
     "execution_count": 14,
     "metadata": {},
     "output_type": "execute_result"
    }
   ],
   "source": [
    "df['floors_total'].isna().sum()"
   ]
  },
  {
   "cell_type": "markdown",
   "metadata": {},
   "source": [
    "The column contains 86 rows with missing values. Let's replace the missing values with the floor value and add 1 to not make the floor the last one. Since the number of missing values is less than 1%, this will not skew the data."
   ]
  },
  {
   "cell_type": "code",
   "execution_count": 15,
   "metadata": {},
   "outputs": [],
   "source": [
    "df['floors_total'] = df['floors_total'].fillna(df['floor'] + 1)"
   ]
  },
  {
   "cell_type": "code",
   "execution_count": 16,
   "metadata": {
    "scrolled": true
   },
   "outputs": [
    {
     "data": {
      "text/plain": [
       "0"
      ]
     },
     "execution_count": 16,
     "metadata": {},
     "output_type": "execute_result"
    }
   ],
   "source": [
    "df['floors_total'].isna().sum()"
   ]
  },
  {
   "cell_type": "markdown",
   "metadata": {},
   "source": [
    "**Locality Name**"
   ]
  },
  {
   "cell_type": "markdown",
   "metadata": {},
   "source": [
    "Dataset has 49 rows with the name of the settlement missing. Since there is no geodata, it is not possible to correctly fill in these gaps. Also, considering that the missing values are only 0.2% of the total, we will remove them."
   ]
  },
  {
   "cell_type": "code",
   "execution_count": 17,
   "metadata": {},
   "outputs": [
    {
     "data": {
      "text/plain": [
       "49"
      ]
     },
     "execution_count": 17,
     "metadata": {},
     "output_type": "execute_result"
    }
   ],
   "source": [
    "df['locality_name'].isna().sum()"
   ]
  },
  {
   "cell_type": "code",
   "execution_count": 18,
   "metadata": {},
   "outputs": [],
   "source": [
    "df = df.dropna(axis='index', how='any', subset=['locality_name'])"
   ]
  },
  {
   "cell_type": "code",
   "execution_count": 19,
   "metadata": {
    "scrolled": false
   },
   "outputs": [
    {
     "data": {
      "text/plain": [
       "0"
      ]
     },
     "execution_count": 19,
     "metadata": {},
     "output_type": "execute_result"
    }
   ],
   "source": [
    "df['locality_name'].isna().sum()"
   ]
  },
  {
   "cell_type": "markdown",
   "metadata": {},
   "source": [
    "**Days advertisment was active**"
   ]
  },
  {
   "cell_type": "markdown",
   "metadata": {},
   "source": [
    "Let's see how many missing values are in the `days_exposition` column."
   ]
  },
  {
   "cell_type": "code",
   "execution_count": 20,
   "metadata": {
    "scrolled": true
   },
   "outputs": [
    {
     "data": {
      "text/plain": [
       "3180"
      ]
     },
     "execution_count": 20,
     "metadata": {},
     "output_type": "execute_result"
    }
   ],
   "source": [
    "df['days_exposition'].isna().sum()"
   ]
  },
  {
   "cell_type": "code",
   "execution_count": 21,
   "metadata": {
    "scrolled": false
   },
   "outputs": [
    {
     "data": {
      "text/html": [
       "<div>\n",
       "<style scoped>\n",
       "    .dataframe tbody tr th:only-of-type {\n",
       "        vertical-align: middle;\n",
       "    }\n",
       "\n",
       "    .dataframe tbody tr th {\n",
       "        vertical-align: top;\n",
       "    }\n",
       "\n",
       "    .dataframe thead th {\n",
       "        text-align: right;\n",
       "    }\n",
       "</style>\n",
       "<table border=\"1\" class=\"dataframe\">\n",
       "  <thead>\n",
       "    <tr style=\"text-align: right;\">\n",
       "      <th></th>\n",
       "      <th>total_images</th>\n",
       "      <th>last_price</th>\n",
       "      <th>total_area</th>\n",
       "      <th>first_day_exposition</th>\n",
       "      <th>rooms</th>\n",
       "      <th>ceiling_height</th>\n",
       "      <th>floors_total</th>\n",
       "      <th>living_area</th>\n",
       "      <th>floor</th>\n",
       "      <th>is_apartment</th>\n",
       "      <th>...</th>\n",
       "      <th>kitchen_area</th>\n",
       "      <th>balcony</th>\n",
       "      <th>locality_name</th>\n",
       "      <th>airports_nearest</th>\n",
       "      <th>cityCenters_nearest</th>\n",
       "      <th>parks_around3000</th>\n",
       "      <th>parks_nearest</th>\n",
       "      <th>ponds_around3000</th>\n",
       "      <th>ponds_nearest</th>\n",
       "      <th>days_exposition</th>\n",
       "    </tr>\n",
       "  </thead>\n",
       "  <tbody>\n",
       "    <tr>\n",
       "      <th>0</th>\n",
       "      <td>20</td>\n",
       "      <td>13000000.0</td>\n",
       "      <td>108.00</td>\n",
       "      <td>2019-03-07T00:00:00</td>\n",
       "      <td>3</td>\n",
       "      <td>2.70</td>\n",
       "      <td>16.0</td>\n",
       "      <td>51.0</td>\n",
       "      <td>8</td>\n",
       "      <td>NaN</td>\n",
       "      <td>...</td>\n",
       "      <td>25.00</td>\n",
       "      <td>0.0</td>\n",
       "      <td>Санкт-Петербург</td>\n",
       "      <td>18863.0</td>\n",
       "      <td>16028.0</td>\n",
       "      <td>1.0</td>\n",
       "      <td>482.0</td>\n",
       "      <td>2.0</td>\n",
       "      <td>755.0</td>\n",
       "      <td>NaN</td>\n",
       "    </tr>\n",
       "    <tr>\n",
       "      <th>7</th>\n",
       "      <td>5</td>\n",
       "      <td>7915000.0</td>\n",
       "      <td>71.60</td>\n",
       "      <td>2019-04-18T00:00:00</td>\n",
       "      <td>2</td>\n",
       "      <td>2.65</td>\n",
       "      <td>24.0</td>\n",
       "      <td>NaN</td>\n",
       "      <td>22</td>\n",
       "      <td>NaN</td>\n",
       "      <td>...</td>\n",
       "      <td>18.90</td>\n",
       "      <td>2.0</td>\n",
       "      <td>Санкт-Петербург</td>\n",
       "      <td>23982.0</td>\n",
       "      <td>11634.0</td>\n",
       "      <td>0.0</td>\n",
       "      <td>NaN</td>\n",
       "      <td>0.0</td>\n",
       "      <td>NaN</td>\n",
       "      <td>NaN</td>\n",
       "    </tr>\n",
       "    <tr>\n",
       "      <th>44</th>\n",
       "      <td>13</td>\n",
       "      <td>5350000.0</td>\n",
       "      <td>40.00</td>\n",
       "      <td>2018-11-18T00:00:00</td>\n",
       "      <td>1</td>\n",
       "      <td>2.65</td>\n",
       "      <td>22.0</td>\n",
       "      <td>NaN</td>\n",
       "      <td>3</td>\n",
       "      <td>NaN</td>\n",
       "      <td>...</td>\n",
       "      <td>NaN</td>\n",
       "      <td>1.0</td>\n",
       "      <td>Санкт-Петербург</td>\n",
       "      <td>30471.0</td>\n",
       "      <td>11603.0</td>\n",
       "      <td>1.0</td>\n",
       "      <td>620.0</td>\n",
       "      <td>1.0</td>\n",
       "      <td>1152.0</td>\n",
       "      <td>NaN</td>\n",
       "    </tr>\n",
       "    <tr>\n",
       "      <th>45</th>\n",
       "      <td>17</td>\n",
       "      <td>5200000.0</td>\n",
       "      <td>50.60</td>\n",
       "      <td>2018-12-02T00:00:00</td>\n",
       "      <td>2</td>\n",
       "      <td>2.65</td>\n",
       "      <td>9.0</td>\n",
       "      <td>30.3</td>\n",
       "      <td>7</td>\n",
       "      <td>NaN</td>\n",
       "      <td>...</td>\n",
       "      <td>7.00</td>\n",
       "      <td>0.0</td>\n",
       "      <td>Санкт-Петербург</td>\n",
       "      <td>30011.0</td>\n",
       "      <td>12872.0</td>\n",
       "      <td>0.0</td>\n",
       "      <td>NaN</td>\n",
       "      <td>0.0</td>\n",
       "      <td>NaN</td>\n",
       "      <td>NaN</td>\n",
       "    </tr>\n",
       "    <tr>\n",
       "      <th>46</th>\n",
       "      <td>17</td>\n",
       "      <td>6600000.0</td>\n",
       "      <td>52.10</td>\n",
       "      <td>2019-01-31T00:00:00</td>\n",
       "      <td>2</td>\n",
       "      <td>2.60</td>\n",
       "      <td>24.0</td>\n",
       "      <td>29.7</td>\n",
       "      <td>9</td>\n",
       "      <td>NaN</td>\n",
       "      <td>...</td>\n",
       "      <td>8.30</td>\n",
       "      <td>2.0</td>\n",
       "      <td>Санкт-Петербург</td>\n",
       "      <td>15114.0</td>\n",
       "      <td>12702.0</td>\n",
       "      <td>0.0</td>\n",
       "      <td>NaN</td>\n",
       "      <td>0.0</td>\n",
       "      <td>NaN</td>\n",
       "      <td>NaN</td>\n",
       "    </tr>\n",
       "    <tr>\n",
       "      <th>...</th>\n",
       "      <td>...</td>\n",
       "      <td>...</td>\n",
       "      <td>...</td>\n",
       "      <td>...</td>\n",
       "      <td>...</td>\n",
       "      <td>...</td>\n",
       "      <td>...</td>\n",
       "      <td>...</td>\n",
       "      <td>...</td>\n",
       "      <td>...</td>\n",
       "      <td>...</td>\n",
       "      <td>...</td>\n",
       "      <td>...</td>\n",
       "      <td>...</td>\n",
       "      <td>...</td>\n",
       "      <td>...</td>\n",
       "      <td>...</td>\n",
       "      <td>...</td>\n",
       "      <td>...</td>\n",
       "      <td>...</td>\n",
       "      <td>...</td>\n",
       "    </tr>\n",
       "    <tr>\n",
       "      <th>23684</th>\n",
       "      <td>20</td>\n",
       "      <td>21400000.0</td>\n",
       "      <td>145.00</td>\n",
       "      <td>2018-11-02T00:00:00</td>\n",
       "      <td>4</td>\n",
       "      <td>3.00</td>\n",
       "      <td>26.0</td>\n",
       "      <td>71.4</td>\n",
       "      <td>17</td>\n",
       "      <td>NaN</td>\n",
       "      <td>...</td>\n",
       "      <td>15.60</td>\n",
       "      <td>0.0</td>\n",
       "      <td>Санкт-Петербург</td>\n",
       "      <td>11827.0</td>\n",
       "      <td>11459.0</td>\n",
       "      <td>0.0</td>\n",
       "      <td>NaN</td>\n",
       "      <td>0.0</td>\n",
       "      <td>NaN</td>\n",
       "      <td>NaN</td>\n",
       "    </tr>\n",
       "    <tr>\n",
       "      <th>23685</th>\n",
       "      <td>15</td>\n",
       "      <td>2490000.0</td>\n",
       "      <td>31.00</td>\n",
       "      <td>2019-01-24T00:00:00</td>\n",
       "      <td>1</td>\n",
       "      <td>2.50</td>\n",
       "      <td>5.0</td>\n",
       "      <td>17.3</td>\n",
       "      <td>5</td>\n",
       "      <td>NaN</td>\n",
       "      <td>...</td>\n",
       "      <td>5.60</td>\n",
       "      <td>1.0</td>\n",
       "      <td>Ломоносов</td>\n",
       "      <td>48393.0</td>\n",
       "      <td>51818.0</td>\n",
       "      <td>0.0</td>\n",
       "      <td>NaN</td>\n",
       "      <td>0.0</td>\n",
       "      <td>NaN</td>\n",
       "      <td>NaN</td>\n",
       "    </tr>\n",
       "    <tr>\n",
       "      <th>23694</th>\n",
       "      <td>9</td>\n",
       "      <td>9700000.0</td>\n",
       "      <td>133.81</td>\n",
       "      <td>2017-03-21T00:00:00</td>\n",
       "      <td>3</td>\n",
       "      <td>3.70</td>\n",
       "      <td>5.0</td>\n",
       "      <td>73.3</td>\n",
       "      <td>3</td>\n",
       "      <td>NaN</td>\n",
       "      <td>...</td>\n",
       "      <td>13.83</td>\n",
       "      <td>0.0</td>\n",
       "      <td>Санкт-Петербург</td>\n",
       "      <td>24665.0</td>\n",
       "      <td>4232.0</td>\n",
       "      <td>1.0</td>\n",
       "      <td>796.0</td>\n",
       "      <td>3.0</td>\n",
       "      <td>381.0</td>\n",
       "      <td>NaN</td>\n",
       "    </tr>\n",
       "    <tr>\n",
       "      <th>23696</th>\n",
       "      <td>18</td>\n",
       "      <td>2500000.0</td>\n",
       "      <td>56.70</td>\n",
       "      <td>2018-02-11T00:00:00</td>\n",
       "      <td>2</td>\n",
       "      <td>2.65</td>\n",
       "      <td>3.0</td>\n",
       "      <td>29.7</td>\n",
       "      <td>1</td>\n",
       "      <td>NaN</td>\n",
       "      <td>...</td>\n",
       "      <td>NaN</td>\n",
       "      <td>0.0</td>\n",
       "      <td>село Рождествено</td>\n",
       "      <td>NaN</td>\n",
       "      <td>NaN</td>\n",
       "      <td>NaN</td>\n",
       "      <td>NaN</td>\n",
       "      <td>NaN</td>\n",
       "      <td>NaN</td>\n",
       "      <td>NaN</td>\n",
       "    </tr>\n",
       "    <tr>\n",
       "      <th>23698</th>\n",
       "      <td>4</td>\n",
       "      <td>1350000.0</td>\n",
       "      <td>32.30</td>\n",
       "      <td>2017-07-21T00:00:00</td>\n",
       "      <td>1</td>\n",
       "      <td>2.50</td>\n",
       "      <td>5.0</td>\n",
       "      <td>12.3</td>\n",
       "      <td>1</td>\n",
       "      <td>NaN</td>\n",
       "      <td>...</td>\n",
       "      <td>9.00</td>\n",
       "      <td>0.0</td>\n",
       "      <td>поселок Новый Учхоз</td>\n",
       "      <td>NaN</td>\n",
       "      <td>NaN</td>\n",
       "      <td>NaN</td>\n",
       "      <td>NaN</td>\n",
       "      <td>NaN</td>\n",
       "      <td>NaN</td>\n",
       "      <td>NaN</td>\n",
       "    </tr>\n",
       "  </tbody>\n",
       "</table>\n",
       "<p>3180 rows × 22 columns</p>\n",
       "</div>"
      ],
      "text/plain": [
       "       total_images  last_price  total_area first_day_exposition  rooms  \\\n",
       "0                20  13000000.0      108.00  2019-03-07T00:00:00      3   \n",
       "7                 5   7915000.0       71.60  2019-04-18T00:00:00      2   \n",
       "44               13   5350000.0       40.00  2018-11-18T00:00:00      1   \n",
       "45               17   5200000.0       50.60  2018-12-02T00:00:00      2   \n",
       "46               17   6600000.0       52.10  2019-01-31T00:00:00      2   \n",
       "...             ...         ...         ...                  ...    ...   \n",
       "23684            20  21400000.0      145.00  2018-11-02T00:00:00      4   \n",
       "23685            15   2490000.0       31.00  2019-01-24T00:00:00      1   \n",
       "23694             9   9700000.0      133.81  2017-03-21T00:00:00      3   \n",
       "23696            18   2500000.0       56.70  2018-02-11T00:00:00      2   \n",
       "23698             4   1350000.0       32.30  2017-07-21T00:00:00      1   \n",
       "\n",
       "       ceiling_height  floors_total  living_area  floor is_apartment  ...  \\\n",
       "0                2.70          16.0         51.0      8          NaN  ...   \n",
       "7                2.65          24.0          NaN     22          NaN  ...   \n",
       "44               2.65          22.0          NaN      3          NaN  ...   \n",
       "45               2.65           9.0         30.3      7          NaN  ...   \n",
       "46               2.60          24.0         29.7      9          NaN  ...   \n",
       "...               ...           ...          ...    ...          ...  ...   \n",
       "23684            3.00          26.0         71.4     17          NaN  ...   \n",
       "23685            2.50           5.0         17.3      5          NaN  ...   \n",
       "23694            3.70           5.0         73.3      3          NaN  ...   \n",
       "23696            2.65           3.0         29.7      1          NaN  ...   \n",
       "23698            2.50           5.0         12.3      1          NaN  ...   \n",
       "\n",
       "       kitchen_area  balcony        locality_name  airports_nearest  \\\n",
       "0             25.00      0.0      Санкт-Петербург           18863.0   \n",
       "7             18.90      2.0      Санкт-Петербург           23982.0   \n",
       "44              NaN      1.0      Санкт-Петербург           30471.0   \n",
       "45             7.00      0.0      Санкт-Петербург           30011.0   \n",
       "46             8.30      2.0      Санкт-Петербург           15114.0   \n",
       "...             ...      ...                  ...               ...   \n",
       "23684         15.60      0.0      Санкт-Петербург           11827.0   \n",
       "23685          5.60      1.0            Ломоносов           48393.0   \n",
       "23694         13.83      0.0      Санкт-Петербург           24665.0   \n",
       "23696           NaN      0.0     село Рождествено               NaN   \n",
       "23698          9.00      0.0  поселок Новый Учхоз               NaN   \n",
       "\n",
       "      cityCenters_nearest  parks_around3000  parks_nearest  ponds_around3000  \\\n",
       "0                 16028.0               1.0          482.0               2.0   \n",
       "7                 11634.0               0.0            NaN               0.0   \n",
       "44                11603.0               1.0          620.0               1.0   \n",
       "45                12872.0               0.0            NaN               0.0   \n",
       "46                12702.0               0.0            NaN               0.0   \n",
       "...                   ...               ...            ...               ...   \n",
       "23684             11459.0               0.0            NaN               0.0   \n",
       "23685             51818.0               0.0            NaN               0.0   \n",
       "23694              4232.0               1.0          796.0               3.0   \n",
       "23696                 NaN               NaN            NaN               NaN   \n",
       "23698                 NaN               NaN            NaN               NaN   \n",
       "\n",
       "       ponds_nearest  days_exposition  \n",
       "0              755.0              NaN  \n",
       "7                NaN              NaN  \n",
       "44            1152.0              NaN  \n",
       "45               NaN              NaN  \n",
       "46               NaN              NaN  \n",
       "...              ...              ...  \n",
       "23684            NaN              NaN  \n",
       "23685            NaN              NaN  \n",
       "23694          381.0              NaN  \n",
       "23696            NaN              NaN  \n",
       "23698            NaN              NaN  \n",
       "\n",
       "[3180 rows x 22 columns]"
      ]
     },
     "execution_count": 21,
     "metadata": {},
     "output_type": "execute_result"
    }
   ],
   "source": [
    "df.loc[df['days_exposition'].isna()]"
   ]
  },
  {
   "cell_type": "markdown",
   "metadata": {},
   "source": [
    "The dataset contains 3180 rows with missing values. They may have been due to a glitch, or the ads have not yet been removed from publication. Since we cannot determine the exact reason or request additional information, we will leave these fields blank."
   ]
  },
  {
   "cell_type": "markdown",
   "metadata": {},
   "source": [
    "**Kitchen area and Living Room area**"
   ]
  },
  {
   "cell_type": "markdown",
   "metadata": {},
   "source": [
    "Let's check the missing values of the kitchen area in studio apartments and replace them with `0` because in such apartments the kitchen is combined with the living room."
   ]
  },
  {
   "cell_type": "code",
   "execution_count": 22,
   "metadata": {},
   "outputs": [
    {
     "data": {
      "text/html": [
       "<div>\n",
       "<style scoped>\n",
       "    .dataframe tbody tr th:only-of-type {\n",
       "        vertical-align: middle;\n",
       "    }\n",
       "\n",
       "    .dataframe tbody tr th {\n",
       "        vertical-align: top;\n",
       "    }\n",
       "\n",
       "    .dataframe thead th {\n",
       "        text-align: right;\n",
       "    }\n",
       "</style>\n",
       "<table border=\"1\" class=\"dataframe\">\n",
       "  <thead>\n",
       "    <tr style=\"text-align: right;\">\n",
       "      <th></th>\n",
       "      <th>total_images</th>\n",
       "      <th>last_price</th>\n",
       "      <th>total_area</th>\n",
       "      <th>first_day_exposition</th>\n",
       "      <th>rooms</th>\n",
       "      <th>ceiling_height</th>\n",
       "      <th>floors_total</th>\n",
       "      <th>living_area</th>\n",
       "      <th>floor</th>\n",
       "      <th>is_apartment</th>\n",
       "      <th>...</th>\n",
       "      <th>kitchen_area</th>\n",
       "      <th>balcony</th>\n",
       "      <th>locality_name</th>\n",
       "      <th>airports_nearest</th>\n",
       "      <th>cityCenters_nearest</th>\n",
       "      <th>parks_around3000</th>\n",
       "      <th>parks_nearest</th>\n",
       "      <th>ponds_around3000</th>\n",
       "      <th>ponds_nearest</th>\n",
       "      <th>days_exposition</th>\n",
       "    </tr>\n",
       "  </thead>\n",
       "  <tbody>\n",
       "    <tr>\n",
       "      <th>144</th>\n",
       "      <td>1</td>\n",
       "      <td>2450000.0</td>\n",
       "      <td>27.00</td>\n",
       "      <td>2017-03-30T00:00:00</td>\n",
       "      <td>0</td>\n",
       "      <td>2.65</td>\n",
       "      <td>24.0</td>\n",
       "      <td>15.50</td>\n",
       "      <td>2</td>\n",
       "      <td>NaN</td>\n",
       "      <td>...</td>\n",
       "      <td>NaN</td>\n",
       "      <td>2.0</td>\n",
       "      <td>посёлок Мурино</td>\n",
       "      <td>NaN</td>\n",
       "      <td>NaN</td>\n",
       "      <td>NaN</td>\n",
       "      <td>NaN</td>\n",
       "      <td>NaN</td>\n",
       "      <td>NaN</td>\n",
       "      <td>181.0</td>\n",
       "    </tr>\n",
       "    <tr>\n",
       "      <th>440</th>\n",
       "      <td>8</td>\n",
       "      <td>2480000.0</td>\n",
       "      <td>27.11</td>\n",
       "      <td>2018-03-12T00:00:00</td>\n",
       "      <td>0</td>\n",
       "      <td>2.65</td>\n",
       "      <td>17.0</td>\n",
       "      <td>24.75</td>\n",
       "      <td>4</td>\n",
       "      <td>NaN</td>\n",
       "      <td>...</td>\n",
       "      <td>NaN</td>\n",
       "      <td>2.0</td>\n",
       "      <td>Санкт-Петербург</td>\n",
       "      <td>38171.0</td>\n",
       "      <td>15015.0</td>\n",
       "      <td>0.0</td>\n",
       "      <td>NaN</td>\n",
       "      <td>2.0</td>\n",
       "      <td>982.0</td>\n",
       "      <td>64.0</td>\n",
       "    </tr>\n",
       "    <tr>\n",
       "      <th>608</th>\n",
       "      <td>2</td>\n",
       "      <td>1850000.0</td>\n",
       "      <td>25.00</td>\n",
       "      <td>2019-02-20T00:00:00</td>\n",
       "      <td>0</td>\n",
       "      <td>2.65</td>\n",
       "      <td>10.0</td>\n",
       "      <td>NaN</td>\n",
       "      <td>7</td>\n",
       "      <td>NaN</td>\n",
       "      <td>...</td>\n",
       "      <td>NaN</td>\n",
       "      <td>0.0</td>\n",
       "      <td>посёлок Шушары</td>\n",
       "      <td>NaN</td>\n",
       "      <td>NaN</td>\n",
       "      <td>NaN</td>\n",
       "      <td>NaN</td>\n",
       "      <td>NaN</td>\n",
       "      <td>NaN</td>\n",
       "      <td>29.0</td>\n",
       "    </tr>\n",
       "    <tr>\n",
       "      <th>697</th>\n",
       "      <td>12</td>\n",
       "      <td>2500000.0</td>\n",
       "      <td>24.10</td>\n",
       "      <td>2017-12-01T00:00:00</td>\n",
       "      <td>0</td>\n",
       "      <td>2.75</td>\n",
       "      <td>25.0</td>\n",
       "      <td>17.50</td>\n",
       "      <td>21</td>\n",
       "      <td>NaN</td>\n",
       "      <td>...</td>\n",
       "      <td>NaN</td>\n",
       "      <td>0.0</td>\n",
       "      <td>деревня Кудрово</td>\n",
       "      <td>NaN</td>\n",
       "      <td>NaN</td>\n",
       "      <td>NaN</td>\n",
       "      <td>NaN</td>\n",
       "      <td>NaN</td>\n",
       "      <td>NaN</td>\n",
       "      <td>201.0</td>\n",
       "    </tr>\n",
       "    <tr>\n",
       "      <th>716</th>\n",
       "      <td>5</td>\n",
       "      <td>1500000.0</td>\n",
       "      <td>17.00</td>\n",
       "      <td>2017-06-07T00:00:00</td>\n",
       "      <td>0</td>\n",
       "      <td>2.70</td>\n",
       "      <td>9.0</td>\n",
       "      <td>12.00</td>\n",
       "      <td>1</td>\n",
       "      <td>NaN</td>\n",
       "      <td>...</td>\n",
       "      <td>NaN</td>\n",
       "      <td>0.0</td>\n",
       "      <td>посёлок Шушары</td>\n",
       "      <td>18654.0</td>\n",
       "      <td>29846.0</td>\n",
       "      <td>0.0</td>\n",
       "      <td>NaN</td>\n",
       "      <td>0.0</td>\n",
       "      <td>NaN</td>\n",
       "      <td>40.0</td>\n",
       "    </tr>\n",
       "    <tr>\n",
       "      <th>...</th>\n",
       "      <td>...</td>\n",
       "      <td>...</td>\n",
       "      <td>...</td>\n",
       "      <td>...</td>\n",
       "      <td>...</td>\n",
       "      <td>...</td>\n",
       "      <td>...</td>\n",
       "      <td>...</td>\n",
       "      <td>...</td>\n",
       "      <td>...</td>\n",
       "      <td>...</td>\n",
       "      <td>...</td>\n",
       "      <td>...</td>\n",
       "      <td>...</td>\n",
       "      <td>...</td>\n",
       "      <td>...</td>\n",
       "      <td>...</td>\n",
       "      <td>...</td>\n",
       "      <td>...</td>\n",
       "      <td>...</td>\n",
       "      <td>...</td>\n",
       "    </tr>\n",
       "    <tr>\n",
       "      <th>22867</th>\n",
       "      <td>8</td>\n",
       "      <td>3090000.0</td>\n",
       "      <td>30.00</td>\n",
       "      <td>2017-12-17T00:00:00</td>\n",
       "      <td>0</td>\n",
       "      <td>2.65</td>\n",
       "      <td>25.0</td>\n",
       "      <td>18.20</td>\n",
       "      <td>5</td>\n",
       "      <td>NaN</td>\n",
       "      <td>...</td>\n",
       "      <td>NaN</td>\n",
       "      <td>0.0</td>\n",
       "      <td>Санкт-Петербург</td>\n",
       "      <td>35250.0</td>\n",
       "      <td>16414.0</td>\n",
       "      <td>0.0</td>\n",
       "      <td>NaN</td>\n",
       "      <td>1.0</td>\n",
       "      <td>400.0</td>\n",
       "      <td>211.0</td>\n",
       "    </tr>\n",
       "    <tr>\n",
       "      <th>22877</th>\n",
       "      <td>2</td>\n",
       "      <td>4280000.0</td>\n",
       "      <td>28.00</td>\n",
       "      <td>2017-10-26T00:00:00</td>\n",
       "      <td>0</td>\n",
       "      <td>2.70</td>\n",
       "      <td>19.0</td>\n",
       "      <td>18.00</td>\n",
       "      <td>10</td>\n",
       "      <td>NaN</td>\n",
       "      <td>...</td>\n",
       "      <td>NaN</td>\n",
       "      <td>0.0</td>\n",
       "      <td>Санкт-Петербург</td>\n",
       "      <td>18982.0</td>\n",
       "      <td>7206.0</td>\n",
       "      <td>0.0</td>\n",
       "      <td>NaN</td>\n",
       "      <td>1.0</td>\n",
       "      <td>415.0</td>\n",
       "      <td>151.0</td>\n",
       "    </tr>\n",
       "    <tr>\n",
       "      <th>23210</th>\n",
       "      <td>7</td>\n",
       "      <td>3200000.0</td>\n",
       "      <td>26.00</td>\n",
       "      <td>2017-09-01T00:00:00</td>\n",
       "      <td>0</td>\n",
       "      <td>2.65</td>\n",
       "      <td>25.0</td>\n",
       "      <td>18.00</td>\n",
       "      <td>16</td>\n",
       "      <td>NaN</td>\n",
       "      <td>...</td>\n",
       "      <td>NaN</td>\n",
       "      <td>0.0</td>\n",
       "      <td>Санкт-Петербург</td>\n",
       "      <td>11405.0</td>\n",
       "      <td>13222.0</td>\n",
       "      <td>0.0</td>\n",
       "      <td>NaN</td>\n",
       "      <td>1.0</td>\n",
       "      <td>623.0</td>\n",
       "      <td>14.0</td>\n",
       "    </tr>\n",
       "    <tr>\n",
       "      <th>23554</th>\n",
       "      <td>15</td>\n",
       "      <td>3350000.0</td>\n",
       "      <td>26.00</td>\n",
       "      <td>2018-09-07T00:00:00</td>\n",
       "      <td>0</td>\n",
       "      <td>2.65</td>\n",
       "      <td>19.0</td>\n",
       "      <td>NaN</td>\n",
       "      <td>8</td>\n",
       "      <td>NaN</td>\n",
       "      <td>...</td>\n",
       "      <td>NaN</td>\n",
       "      <td>0.0</td>\n",
       "      <td>Санкт-Петербург</td>\n",
       "      <td>18090.0</td>\n",
       "      <td>17092.0</td>\n",
       "      <td>0.0</td>\n",
       "      <td>NaN</td>\n",
       "      <td>2.0</td>\n",
       "      <td>112.0</td>\n",
       "      <td>31.0</td>\n",
       "    </tr>\n",
       "    <tr>\n",
       "      <th>23637</th>\n",
       "      <td>8</td>\n",
       "      <td>2350000.0</td>\n",
       "      <td>26.00</td>\n",
       "      <td>2018-06-26T00:00:00</td>\n",
       "      <td>0</td>\n",
       "      <td>2.65</td>\n",
       "      <td>25.0</td>\n",
       "      <td>17.00</td>\n",
       "      <td>4</td>\n",
       "      <td>NaN</td>\n",
       "      <td>...</td>\n",
       "      <td>NaN</td>\n",
       "      <td>2.0</td>\n",
       "      <td>посёлок Бугры</td>\n",
       "      <td>NaN</td>\n",
       "      <td>NaN</td>\n",
       "      <td>NaN</td>\n",
       "      <td>NaN</td>\n",
       "      <td>NaN</td>\n",
       "      <td>NaN</td>\n",
       "      <td>207.0</td>\n",
       "    </tr>\n",
       "  </tbody>\n",
       "</table>\n",
       "<p>149 rows × 22 columns</p>\n",
       "</div>"
      ],
      "text/plain": [
       "       total_images  last_price  total_area first_day_exposition  rooms  \\\n",
       "144               1   2450000.0       27.00  2017-03-30T00:00:00      0   \n",
       "440               8   2480000.0       27.11  2018-03-12T00:00:00      0   \n",
       "608               2   1850000.0       25.00  2019-02-20T00:00:00      0   \n",
       "697              12   2500000.0       24.10  2017-12-01T00:00:00      0   \n",
       "716               5   1500000.0       17.00  2017-06-07T00:00:00      0   \n",
       "...             ...         ...         ...                  ...    ...   \n",
       "22867             8   3090000.0       30.00  2017-12-17T00:00:00      0   \n",
       "22877             2   4280000.0       28.00  2017-10-26T00:00:00      0   \n",
       "23210             7   3200000.0       26.00  2017-09-01T00:00:00      0   \n",
       "23554            15   3350000.0       26.00  2018-09-07T00:00:00      0   \n",
       "23637             8   2350000.0       26.00  2018-06-26T00:00:00      0   \n",
       "\n",
       "       ceiling_height  floors_total  living_area  floor is_apartment  ...  \\\n",
       "144              2.65          24.0        15.50      2          NaN  ...   \n",
       "440              2.65          17.0        24.75      4          NaN  ...   \n",
       "608              2.65          10.0          NaN      7          NaN  ...   \n",
       "697              2.75          25.0        17.50     21          NaN  ...   \n",
       "716              2.70           9.0        12.00      1          NaN  ...   \n",
       "...               ...           ...          ...    ...          ...  ...   \n",
       "22867            2.65          25.0        18.20      5          NaN  ...   \n",
       "22877            2.70          19.0        18.00     10          NaN  ...   \n",
       "23210            2.65          25.0        18.00     16          NaN  ...   \n",
       "23554            2.65          19.0          NaN      8          NaN  ...   \n",
       "23637            2.65          25.0        17.00      4          NaN  ...   \n",
       "\n",
       "       kitchen_area  balcony    locality_name  airports_nearest  \\\n",
       "144             NaN      2.0   посёлок Мурино               NaN   \n",
       "440             NaN      2.0  Санкт-Петербург           38171.0   \n",
       "608             NaN      0.0   посёлок Шушары               NaN   \n",
       "697             NaN      0.0  деревня Кудрово               NaN   \n",
       "716             NaN      0.0   посёлок Шушары           18654.0   \n",
       "...             ...      ...              ...               ...   \n",
       "22867           NaN      0.0  Санкт-Петербург           35250.0   \n",
       "22877           NaN      0.0  Санкт-Петербург           18982.0   \n",
       "23210           NaN      0.0  Санкт-Петербург           11405.0   \n",
       "23554           NaN      0.0  Санкт-Петербург           18090.0   \n",
       "23637           NaN      2.0    посёлок Бугры               NaN   \n",
       "\n",
       "      cityCenters_nearest  parks_around3000  parks_nearest  ponds_around3000  \\\n",
       "144                   NaN               NaN            NaN               NaN   \n",
       "440               15015.0               0.0            NaN               2.0   \n",
       "608                   NaN               NaN            NaN               NaN   \n",
       "697                   NaN               NaN            NaN               NaN   \n",
       "716               29846.0               0.0            NaN               0.0   \n",
       "...                   ...               ...            ...               ...   \n",
       "22867             16414.0               0.0            NaN               1.0   \n",
       "22877              7206.0               0.0            NaN               1.0   \n",
       "23210             13222.0               0.0            NaN               1.0   \n",
       "23554             17092.0               0.0            NaN               2.0   \n",
       "23637                 NaN               NaN            NaN               NaN   \n",
       "\n",
       "       ponds_nearest  days_exposition  \n",
       "144              NaN            181.0  \n",
       "440            982.0             64.0  \n",
       "608              NaN             29.0  \n",
       "697              NaN            201.0  \n",
       "716              NaN             40.0  \n",
       "...              ...              ...  \n",
       "22867          400.0            211.0  \n",
       "22877          415.0            151.0  \n",
       "23210          623.0             14.0  \n",
       "23554          112.0             31.0  \n",
       "23637            NaN            207.0  \n",
       "\n",
       "[149 rows x 22 columns]"
      ]
     },
     "execution_count": 22,
     "metadata": {},
     "output_type": "execute_result"
    }
   ],
   "source": [
    "df.loc[df['kitchen_area'].isna() & df['studio'] == True]"
   ]
  },
  {
   "cell_type": "code",
   "execution_count": 23,
   "metadata": {},
   "outputs": [],
   "source": [
    "df.loc[df['studio'] == True, 'kitchen_area'] = 0"
   ]
  },
  {
   "cell_type": "code",
   "execution_count": 24,
   "metadata": {},
   "outputs": [
    {
     "data": {
      "text/plain": [
       "2120"
      ]
     },
     "execution_count": 24,
     "metadata": {},
     "output_type": "execute_result"
    }
   ],
   "source": [
    "df['kitchen_area'].isna().sum()"
   ]
  },
  {
   "cell_type": "markdown",
   "metadata": {},
   "source": [
    "Thus, 149 missing values were filled in."
   ]
  },
  {
   "cell_type": "code",
   "execution_count": 25,
   "metadata": {},
   "outputs": [
    {
     "data": {
      "text/plain": [
       "count    21530.000000\n",
       "mean        10.493277\n",
       "std          5.946174\n",
       "min          0.000000\n",
       "25%          7.000000\n",
       "50%          9.000000\n",
       "75%         12.000000\n",
       "max        112.000000\n",
       "Name: kitchen_area, dtype: float64"
      ]
     },
     "execution_count": 25,
     "metadata": {},
     "output_type": "execute_result"
    }
   ],
   "source": [
    "df['kitchen_area'].describe()"
   ]
  },
  {
   "cell_type": "markdown",
   "metadata": {},
   "source": [
    "Let's fill in the rest of the gaps in the `kitchen_area` column with median values based on the number of rooms and the settlement so as not to distort the distribution. We will do the same with missed values in the `living_room` column."
   ]
  },
  {
   "cell_type": "code",
   "execution_count": 26,
   "metadata": {},
   "outputs": [
    {
     "data": {
      "text/plain": [
       "kitchen_area    2120\n",
       "living_area     1898\n",
       "dtype: int64"
      ]
     },
     "execution_count": 26,
     "metadata": {},
     "output_type": "execute_result"
    }
   ],
   "source": [
    "df[['kitchen_area', 'living_area']].isna().sum()"
   ]
  },
  {
   "cell_type": "code",
   "execution_count": 27,
   "metadata": {
    "scrolled": false
   },
   "outputs": [],
   "source": [
    "df['living_area'] = df['living_area'].fillna(df.groupby(['locality_name', 'rooms'])['living_area'].transform('median'))\n",
    "df['kitchen_area'] = df['kitchen_area'].fillna(df.groupby(['locality_name', 'rooms'])['kitchen_area'].transform('median'))"
   ]
  },
  {
   "cell_type": "code",
   "execution_count": 28,
   "metadata": {
    "scrolled": true
   },
   "outputs": [
    {
     "data": {
      "text/plain": [
       "kitchen_area    53\n",
       "living_area     55\n",
       "dtype: int64"
      ]
     },
     "execution_count": 28,
     "metadata": {},
     "output_type": "execute_result"
    }
   ],
   "source": [
    "df[['kitchen_area', 'living_area']].isna().sum()"
   ]
  },
  {
   "cell_type": "markdown",
   "metadata": {},
   "source": [
    "As we can see, there are still missing values in the column. Let's replace them with the median values for the entire column."
   ]
  },
  {
   "cell_type": "code",
   "execution_count": 29,
   "metadata": {},
   "outputs": [],
   "source": [
    "kitchen_area_med = df['kitchen_area'].median()\n",
    "living_area_med = df['living_area'].median()\n",
    "df['kitchen_area'].fillna(kitchen_area_med, inplace=True)\n",
    "df['living_area'].fillna(kitchen_area_med, inplace=True)"
   ]
  },
  {
   "cell_type": "code",
   "execution_count": 30,
   "metadata": {
    "scrolled": true
   },
   "outputs": [
    {
     "data": {
      "text/plain": [
       "kitchen_area    0\n",
       "living_area     0\n",
       "dtype: int64"
      ]
     },
     "execution_count": 30,
     "metadata": {},
     "output_type": "execute_result"
    }
   ],
   "source": [
    "df[['kitchen_area', 'living_area']].isna().sum()"
   ]
  },
  {
   "cell_type": "code",
   "execution_count": 31,
   "metadata": {
    "scrolled": false
   },
   "outputs": [
    {
     "data": {
      "text/plain": [
       "total_images                0\n",
       "last_price                  0\n",
       "total_area                  0\n",
       "first_day_exposition        0\n",
       "rooms                       0\n",
       "ceiling_height              0\n",
       "floors_total                0\n",
       "living_area                 0\n",
       "floor                       0\n",
       "is_apartment            20890\n",
       "studio                      0\n",
       "open_plan                   0\n",
       "kitchen_area                0\n",
       "balcony                     0\n",
       "locality_name               0\n",
       "airports_nearest         5534\n",
       "cityCenters_nearest      5511\n",
       "parks_around3000         5510\n",
       "parks_nearest           15586\n",
       "ponds_around3000         5510\n",
       "ponds_nearest           14565\n",
       "days_exposition          3180\n",
       "dtype: int64"
      ]
     },
     "execution_count": 31,
     "metadata": {},
     "output_type": "execute_result"
    }
   ],
   "source": [
    "df.isna().sum()"
   ]
  },
  {
   "cell_type": "markdown",
   "metadata": {},
   "source": [
    "There are still missing values in the following columns: `is_apartment` `airports_nearest` `cityCenters_nearest` `parks_around3000` `parks_nearest` `ponds_around3000` `ponds_nearest`. The data in the `is_apartment` column has boolean type, and we can't fill in missing data without asking for more information. In addition, we don't need this column within the scope of the project, so we will leave it unchanged. Also, we can't fill in missing values in the remaining columns without geolocation data. For this project, we will only need the `cityCenters_nearest` column, but we will leave the gaps in it as is."
   ]
  },
  {
   "cell_type": "markdown",
   "metadata": {},
   "source": [
    "### Handling anomalies "
   ]
  },
  {
   "cell_type": "markdown",
   "metadata": {},
   "source": [
    "Let's check the column names"
   ]
  },
  {
   "cell_type": "code",
   "execution_count": 32,
   "metadata": {},
   "outputs": [
    {
     "data": {
      "text/plain": [
       "Index(['total_images', 'last_price', 'total_area', 'first_day_exposition',\n",
       "       'rooms', 'ceiling_height', 'floors_total', 'living_area', 'floor',\n",
       "       'is_apartment', 'studio', 'open_plan', 'kitchen_area', 'balcony',\n",
       "       'locality_name', 'airports_nearest', 'cityCenters_nearest',\n",
       "       'parks_around3000', 'parks_nearest', 'ponds_around3000',\n",
       "       'ponds_nearest', 'days_exposition'],\n",
       "      dtype='object')"
      ]
     },
     "execution_count": 32,
     "metadata": {},
     "output_type": "execute_result"
    }
   ],
   "source": [
    "df.columns"
   ]
  },
  {
   "cell_type": "markdown",
   "metadata": {},
   "source": [
    "Let's fix the `cityCenters_nearest` header style and rename the `parks_around3000`, `parks_nearest`, `ponds_around3000` and `ponds_nearest` columns."
   ]
  },
  {
   "cell_type": "code",
   "execution_count": 33,
   "metadata": {},
   "outputs": [],
   "source": [
    "df = df.rename(\n",
    "    columns={\n",
    "    'cityCenters_nearest': 'city_center_dist_m',\n",
    "    'parks_around3000': 'parks_around_3000m',\n",
    "    'parks_nearest': 'parks_nearest_m',\n",
    "    'ponds_around3000': 'ponds_around_3000m',\n",
    "    'ponds_nearest': 'ponds_nearest_m'}\n",
    ")"
   ]
  },
  {
   "cell_type": "code",
   "execution_count": 34,
   "metadata": {
    "scrolled": false
   },
   "outputs": [
    {
     "data": {
      "text/plain": [
       "Index(['total_images', 'last_price', 'total_area', 'first_day_exposition',\n",
       "       'rooms', 'ceiling_height', 'floors_total', 'living_area', 'floor',\n",
       "       'is_apartment', 'studio', 'open_plan', 'kitchen_area', 'balcony',\n",
       "       'locality_name', 'airports_nearest', 'city_center_dist_m',\n",
       "       'parks_around_3000m', 'parks_nearest_m', 'ponds_around_3000m',\n",
       "       'ponds_nearest_m', 'days_exposition'],\n",
       "      dtype='object')"
      ]
     },
     "execution_count": 34,
     "metadata": {},
     "output_type": "execute_result"
    }
   ],
   "source": [
    "df.columns"
   ]
  },
  {
   "cell_type": "code",
   "execution_count": 35,
   "metadata": {},
   "outputs": [
    {
     "name": "stdout",
     "output_type": "stream",
     "text": [
      "<class 'pandas.core.frame.DataFrame'>\n",
      "Int64Index: 23650 entries, 0 to 23698\n",
      "Data columns (total 22 columns):\n",
      " #   Column                Non-Null Count  Dtype  \n",
      "---  ------                --------------  -----  \n",
      " 0   total_images          23650 non-null  int64  \n",
      " 1   last_price            23650 non-null  float64\n",
      " 2   total_area            23650 non-null  float64\n",
      " 3   first_day_exposition  23650 non-null  object \n",
      " 4   rooms                 23650 non-null  int64  \n",
      " 5   ceiling_height        23650 non-null  float64\n",
      " 6   floors_total          23650 non-null  float64\n",
      " 7   living_area           23650 non-null  float64\n",
      " 8   floor                 23650 non-null  int64  \n",
      " 9   is_apartment          2760 non-null   object \n",
      " 10  studio                23650 non-null  bool   \n",
      " 11  open_plan             23650 non-null  bool   \n",
      " 12  kitchen_area          23650 non-null  float64\n",
      " 13  balcony               23650 non-null  float64\n",
      " 14  locality_name         23650 non-null  object \n",
      " 15  airports_nearest      18116 non-null  float64\n",
      " 16  city_center_dist_m    18139 non-null  float64\n",
      " 17  parks_around_3000m    18140 non-null  float64\n",
      " 18  parks_nearest_m       8064 non-null   float64\n",
      " 19  ponds_around_3000m    18140 non-null  float64\n",
      " 20  ponds_nearest_m       9085 non-null   float64\n",
      " 21  days_exposition       20470 non-null  float64\n",
      "dtypes: bool(2), float64(14), int64(3), object(3)\n",
      "memory usage: 3.8+ MB\n"
     ]
    }
   ],
   "source": [
    "df.info()"
   ]
  },
  {
   "cell_type": "markdown",
   "metadata": {},
   "source": [
    "### Changing Data Types"
   ]
  },
  {
   "cell_type": "markdown",
   "metadata": {},
   "source": [
    "Let's change the data type in the columns: `balcony` `last_price` `floors_total` to integers for the convenience of calculations."
   ]
  },
  {
   "cell_type": "code",
   "execution_count": 36,
   "metadata": {},
   "outputs": [],
   "source": [
    "df['balcony'] = df['balcony'].astype('int')\n",
    "df['last_price'] = df['last_price'].astype('int')\n",
    "df['floors_total'] = df['floors_total'].astype('int')"
   ]
  },
  {
   "cell_type": "markdown",
   "metadata": {},
   "source": [
    "Let's change the publication date column to the DateTime type. This will help us to use day and time data for further calculations."
   ]
  },
  {
   "cell_type": "code",
   "execution_count": 37,
   "metadata": {},
   "outputs": [],
   "source": [
    "df['first_day_exposition'] = pd.to_datetime(df['first_day_exposition'], format='%Y-%m-%dT%H:%M:%S')"
   ]
  },
  {
   "cell_type": "code",
   "execution_count": 38,
   "metadata": {
    "scrolled": false
   },
   "outputs": [
    {
     "name": "stdout",
     "output_type": "stream",
     "text": [
      "<class 'pandas.core.frame.DataFrame'>\n",
      "Int64Index: 23650 entries, 0 to 23698\n",
      "Data columns (total 22 columns):\n",
      " #   Column                Non-Null Count  Dtype         \n",
      "---  ------                --------------  -----         \n",
      " 0   total_images          23650 non-null  int64         \n",
      " 1   last_price            23650 non-null  int32         \n",
      " 2   total_area            23650 non-null  float64       \n",
      " 3   first_day_exposition  23650 non-null  datetime64[ns]\n",
      " 4   rooms                 23650 non-null  int64         \n",
      " 5   ceiling_height        23650 non-null  float64       \n",
      " 6   floors_total          23650 non-null  int32         \n",
      " 7   living_area           23650 non-null  float64       \n",
      " 8   floor                 23650 non-null  int64         \n",
      " 9   is_apartment          2760 non-null   object        \n",
      " 10  studio                23650 non-null  bool          \n",
      " 11  open_plan             23650 non-null  bool          \n",
      " 12  kitchen_area          23650 non-null  float64       \n",
      " 13  balcony               23650 non-null  int32         \n",
      " 14  locality_name         23650 non-null  object        \n",
      " 15  airports_nearest      18116 non-null  float64       \n",
      " 16  city_center_dist_m    18139 non-null  float64       \n",
      " 17  parks_around_3000m    18140 non-null  float64       \n",
      " 18  parks_nearest_m       8064 non-null   float64       \n",
      " 19  ponds_around_3000m    18140 non-null  float64       \n",
      " 20  ponds_nearest_m       9085 non-null   float64       \n",
      " 21  days_exposition       20470 non-null  float64       \n",
      "dtypes: bool(2), datetime64[ns](1), float64(11), int32(3), int64(3), object(2)\n",
      "memory usage: 3.6+ MB\n"
     ]
    }
   ],
   "source": [
    "df.info()"
   ]
  },
  {
   "cell_type": "markdown",
   "metadata": {},
   "source": [
    "All the necessary data has been converted to the required data types."
   ]
  },
  {
   "cell_type": "markdown",
   "metadata": {},
   "source": [
    "### Removing duplicate values"
   ]
  },
  {
   "cell_type": "markdown",
   "metadata": {},
   "source": [
    "Let's check for duplicates."
   ]
  },
  {
   "cell_type": "code",
   "execution_count": 39,
   "metadata": {
    "scrolled": true
   },
   "outputs": [
    {
     "data": {
      "text/plain": [
       "0"
      ]
     },
     "execution_count": 39,
     "metadata": {},
     "output_type": "execute_result"
    }
   ],
   "source": [
    "df.duplicated().sum()"
   ]
  },
  {
   "cell_type": "markdown",
   "metadata": {},
   "source": [
    "We can see that there are no obvious duplicates in the data. Let's also check for implicit duplicates."
   ]
  },
  {
   "cell_type": "markdown",
   "metadata": {},
   "source": [
    "Let's look at the names of settlements and check for duplicates."
   ]
  },
  {
   "cell_type": "code",
   "execution_count": 40,
   "metadata": {},
   "outputs": [
    {
     "data": {
      "text/plain": [
       "array(['Санкт-Петербург', 'посёлок Шушары', 'городской посёлок Янино-1',\n",
       "       'посёлок Парголово', 'посёлок Мурино', 'Ломоносов', 'Сертолово',\n",
       "       'Петергоф', 'Пушкин', 'деревня Кудрово', 'Коммунар', 'Колпино',\n",
       "       'поселок городского типа Красный Бор', 'Гатчина', 'поселок Мурино',\n",
       "       'деревня Фёдоровское', 'Выборг', 'Кронштадт', 'Кировск',\n",
       "       'деревня Новое Девяткино', 'посёлок Металлострой',\n",
       "       'посёлок городского типа Лебяжье',\n",
       "       'посёлок городского типа Сиверский', 'поселок Молодцово',\n",
       "       'поселок городского типа Кузьмоловский',\n",
       "       'садовое товарищество Новая Ропша', 'Павловск',\n",
       "       'деревня Пикколово', 'Всеволожск', 'Волхов', 'Кингисепп',\n",
       "       'Приозерск', 'Сестрорецк', 'деревня Куттузи', 'посёлок Аннино',\n",
       "       'поселок городского типа Ефимовский', 'посёлок Плодовое',\n",
       "       'деревня Заклинье', 'поселок Торковичи', 'поселок Первомайское',\n",
       "       'Красное Село', 'посёлок Понтонный', 'Сясьстрой', 'деревня Старая',\n",
       "       'деревня Лесколово', 'посёлок Новый Свет', 'Сланцы',\n",
       "       'село Путилово', 'Ивангород', 'Мурино', 'Шлиссельбург',\n",
       "       'Никольское', 'Зеленогорск', 'Сосновый Бор', 'поселок Новый Свет',\n",
       "       'деревня Оржицы', 'деревня Кальтино', 'Кудрово',\n",
       "       'поселок Романовка', 'посёлок Бугры', 'поселок Бугры',\n",
       "       'поселок городского типа Рощино', 'Кириши', 'Луга', 'Волосово',\n",
       "       'Отрадное', 'село Павлово', 'поселок Оредеж', 'село Копорье',\n",
       "       'посёлок городского типа Красный Бор', 'посёлок Молодёжное',\n",
       "       'Тихвин', 'посёлок Победа', 'деревня Нурма',\n",
       "       'поселок городского типа Синявино', 'Тосно',\n",
       "       'посёлок городского типа Кузьмоловский', 'посёлок Стрельна',\n",
       "       'Бокситогорск', 'посёлок Александровская', 'деревня Лопухинка',\n",
       "       'Пикалёво', 'поселок Терволово',\n",
       "       'поселок городского типа Советский', 'Подпорожье',\n",
       "       'посёлок Петровское', 'посёлок городского типа Токсово',\n",
       "       'поселок Сельцо', 'посёлок городского типа Вырица',\n",
       "       'деревня Кипень', 'деревня Келози', 'деревня Вартемяги',\n",
       "       'посёлок Тельмана', 'поселок Севастьяново',\n",
       "       'городской поселок Большая Ижора', 'городской посёлок Павлово',\n",
       "       'деревня Агалатово', 'посёлок Новогорелово',\n",
       "       'городской посёлок Лесогорский', 'деревня Лаголово',\n",
       "       'поселок Цвелодубово', 'поселок городского типа Рахья',\n",
       "       'поселок городского типа Вырица', 'деревня Белогорка',\n",
       "       'поселок Заводской', 'городской посёлок Новоселье',\n",
       "       'деревня Большие Колпаны', 'деревня Горбунки', 'деревня Батово',\n",
       "       'деревня Заневка', 'деревня Иссад', 'Приморск',\n",
       "       'городской посёлок Фёдоровское', 'деревня Мистолово',\n",
       "       'Новая Ладога', 'поселок Зимитицы', 'поселок Барышево',\n",
       "       'деревня Разметелево', 'поселок городского типа имени Свердлова',\n",
       "       'деревня Пеники', 'поселок Рябово', 'деревня Пудомяги',\n",
       "       'поселок станции Корнево', 'деревня Низино', 'деревня Бегуницы',\n",
       "       'посёлок Поляны', 'городской посёлок Мга', 'поселок Елизаветино',\n",
       "       'посёлок городского типа Кузнечное', 'деревня Колтуши',\n",
       "       'поселок Запорожское', 'посёлок городского типа Рощино',\n",
       "       'деревня Гостилицы', 'деревня Малое Карлино',\n",
       "       'посёлок Мичуринское', 'посёлок городского типа имени Морозова',\n",
       "       'посёлок Песочный', 'посёлок Сосново', 'деревня Аро',\n",
       "       'поселок Ильичёво', 'посёлок городского типа Тайцы',\n",
       "       'деревня Малое Верево', 'деревня Извара', 'поселок станции Вещево',\n",
       "       'село Паша', 'деревня Калитино',\n",
       "       'посёлок городского типа Ульяновка', 'деревня Чудской Бор',\n",
       "       'поселок городского типа Дубровка', 'деревня Мины',\n",
       "       'поселок Войсковицы', 'посёлок городского типа имени Свердлова',\n",
       "       'деревня Коркино', 'посёлок Ропша',\n",
       "       'поселок городского типа Приладожский', 'посёлок Щеглово',\n",
       "       'посёлок Гаврилово', 'Лодейное Поле', 'деревня Рабитицы',\n",
       "       'поселок городского типа Никольский', 'деревня Кузьмолово',\n",
       "       'деревня Малые Колпаны', 'поселок Тельмана',\n",
       "       'посёлок Петро-Славянка', 'городской посёлок Назия',\n",
       "       'посёлок Репино', 'посёлок Ильичёво', 'поселок Углово',\n",
       "       'поселок Старая Малукса', 'садовое товарищество Рахья',\n",
       "       'поселок Аннино', 'поселок Победа', 'деревня Меньково',\n",
       "       'деревня Старые Бегуницы', 'посёлок Сапёрный', 'поселок Семрино',\n",
       "       'поселок Гаврилово', 'поселок Глажево', 'поселок Кобринское',\n",
       "       'деревня Гарболово', 'деревня Юкки',\n",
       "       'поселок станции Приветнинское', 'деревня Мануйлово',\n",
       "       'деревня Пчева', 'поселок Поляны', 'поселок Цвылёво',\n",
       "       'поселок Мельниково', 'посёлок Пудость', 'посёлок Усть-Луга',\n",
       "       'Светогорск', 'Любань', 'поселок Селезнёво',\n",
       "       'поселок городского типа Рябово', 'Каменногорск', 'деревня Кривко',\n",
       "       'поселок Глебычево', 'деревня Парицы', 'поселок Жилпосёлок',\n",
       "       'посёлок городского типа Мга', 'городской поселок Янино-1',\n",
       "       'посёлок Войскорово', 'село Никольское', 'посёлок Терволово',\n",
       "       'поселок Стеклянный', 'посёлок городского типа Важины',\n",
       "       'посёлок Мыза-Ивановка', 'село Русско-Высоцкое',\n",
       "       'поселок городского типа Лебяжье',\n",
       "       'поселок городского типа Форносово', 'село Старая Ладога',\n",
       "       'поселок Житково', 'городской посёлок Виллози', 'деревня Лампово',\n",
       "       'деревня Шпаньково', 'деревня Лаврики', 'посёлок Сумино',\n",
       "       'посёлок Возрождение', 'деревня Старосиверская',\n",
       "       'посёлок Кикерино', 'поселок Возрождение',\n",
       "       'деревня Старое Хинколово', 'посёлок Пригородный',\n",
       "       'посёлок Торфяное', 'городской посёлок Будогощь',\n",
       "       'поселок Суходолье', 'поселок Красная Долина', 'деревня Хапо-Ое',\n",
       "       'поселок городского типа Дружная Горка', 'поселок Лисий Нос',\n",
       "       'деревня Яльгелево', 'посёлок Стеклянный', 'село Рождествено',\n",
       "       'деревня Старополье', 'посёлок Левашово', 'деревня Сяськелево',\n",
       "       'деревня Камышовка',\n",
       "       'садоводческое некоммерческое товарищество Лесная Поляна',\n",
       "       'деревня Хязельки', 'поселок Жилгородок',\n",
       "       'посёлок городского типа Павлово', 'деревня Ялгино',\n",
       "       'поселок Новый Учхоз', 'городской посёлок Рощино',\n",
       "       'поселок Гончарово', 'поселок Почап', 'посёлок Сапёрное',\n",
       "       'посёлок Платформа 69-й километр', 'поселок Каложицы',\n",
       "       'деревня Фалилеево', 'деревня Пельгора',\n",
       "       'поселок городского типа Лесогорский', 'деревня Торошковичи',\n",
       "       'посёлок Белоостров', 'посёлок Алексеевка', 'поселок Серебрянский',\n",
       "       'поселок Лукаши', 'поселок Петровское', 'деревня Щеглово',\n",
       "       'поселок Мичуринское', 'деревня Тарасово', 'поселок Кингисеппский',\n",
       "       'посёлок при железнодорожной станции Вещево', 'поселок Ушаки',\n",
       "       'деревня Котлы', 'деревня Сижно', 'деревня Торосово',\n",
       "       'посёлок Форт Красная Горка', 'поселок городского типа Токсово',\n",
       "       'деревня Новолисино', 'посёлок станции Громово', 'деревня Глинка',\n",
       "       'посёлок Мельниково', 'поселок городского типа Назия',\n",
       "       'деревня Старая Пустошь', 'поселок Коммунары', 'поселок Починок',\n",
       "       'посёлок городского типа Вознесенье', 'деревня Разбегаево',\n",
       "       'посёлок городского типа Рябово', 'поселок Гладкое',\n",
       "       'посёлок при железнодорожной станции Приветнинское',\n",
       "       'поселок Тёсово-4', 'посёлок Жилгородок', 'деревня Бор',\n",
       "       'посёлок Коробицыно', 'деревня Большая Вруда', 'деревня Курковицы',\n",
       "       'посёлок Лисий Нос', 'городской посёлок Советский',\n",
       "       'посёлок Кобралово', 'деревня Суоранда', 'поселок Кобралово',\n",
       "       'поселок городского типа Кондратьево',\n",
       "       'коттеджный поселок Счастье', 'поселок Любань', 'деревня Реброво',\n",
       "       'деревня Зимитицы', 'деревня Тойворово', 'поселок Семиозерье',\n",
       "       'поселок Лесное', 'поселок Совхозный', 'поселок Усть-Луга',\n",
       "       'посёлок Ленинское', 'посёлок Суйда',\n",
       "       'посёлок городского типа Форносово', 'деревня Нижние Осельки',\n",
       "       'посёлок станции Свирь', 'поселок Перово', 'Высоцк',\n",
       "       'поселок Гарболово', 'село Шум', 'поселок Котельский',\n",
       "       'поселок станции Лужайка', 'деревня Большая Пустомержа',\n",
       "       'поселок Красносельское', 'деревня Вахнова Кара', 'деревня Пижма',\n",
       "       'коттеджный поселок Кивеннапа Север', 'поселок Коробицыно',\n",
       "       'поселок Ромашки', 'посёлок Перово', 'деревня Каськово',\n",
       "       'деревня Куровицы', 'посёлок Плоское', 'поселок Сумино',\n",
       "       'поселок городского типа Большая Ижора', 'поселок Кирпичное',\n",
       "       'деревня Ям-Тесово', 'деревня Раздолье', 'деревня Терпилицы',\n",
       "       'посёлок Шугозеро', 'деревня Ваганово', 'поселок Пушное',\n",
       "       'садовое товарищество Садко', 'посёлок Усть-Ижора',\n",
       "       'деревня Выскатка', 'городской посёлок Свирьстрой',\n",
       "       'поселок Громово', 'деревня Кисельня', 'посёлок Старая Малукса',\n",
       "       'деревня Трубников Бор', 'поселок Калитино',\n",
       "       'посёлок Высокоключевой', 'садовое товарищество Приладожский',\n",
       "       'посёлок Пансионат Зелёный Бор', 'деревня Ненимяки',\n",
       "       'поселок Пансионат Зелёный Бор', 'деревня Снегирёвка',\n",
       "       'деревня Рапполово', 'деревня Пустынка', 'поселок Рабитицы',\n",
       "       'деревня Большой Сабск', 'деревня Русско', 'деревня Лупполово',\n",
       "       'деревня Большое Рейзино', 'деревня Малая Романовка',\n",
       "       'поселок Дружноселье', 'поселок Пчевжа', 'поселок Володарское',\n",
       "       'деревня Нижняя', 'коттеджный посёлок Лесное', 'деревня Тихковицы',\n",
       "       'деревня Борисова Грива', 'посёлок Дзержинского'], dtype=object)"
      ]
     },
     "execution_count": 40,
     "metadata": {},
     "output_type": "execute_result"
    }
   ],
   "source": [
    "df['locality_name'].unique()"
   ]
  },
  {
   "cell_type": "markdown",
   "metadata": {},
   "source": [
    "The list contains similar names, but with different spellings of the letter `ё`. We will replace all the letters `ё` with `e` to get rid of duplicates."
   ]
  },
  {
   "cell_type": "code",
   "execution_count": 41,
   "metadata": {
    "scrolled": true
   },
   "outputs": [
    {
     "data": {
      "text/plain": [
       "364"
      ]
     },
     "execution_count": 41,
     "metadata": {},
     "output_type": "execute_result"
    }
   ],
   "source": [
    "len(df['locality_name'].unique())"
   ]
  },
  {
   "cell_type": "code",
   "execution_count": 42,
   "metadata": {},
   "outputs": [],
   "source": [
    "df['locality_name'] = df['locality_name'].str.replace('ё', 'е', regex=True)"
   ]
  },
  {
   "cell_type": "code",
   "execution_count": 43,
   "metadata": {},
   "outputs": [
    {
     "data": {
      "text/plain": [
       "330"
      ]
     },
     "execution_count": 43,
     "metadata": {},
     "output_type": "execute_result"
    }
   ],
   "source": [
    "len(df['locality_name'].unique())"
   ]
  },
  {
   "cell_type": "markdown",
   "metadata": {},
   "source": [
    "Thus, we removed 34 duplicate names."
   ]
  },
  {
   "cell_type": "markdown",
   "metadata": {},
   "source": [
    "## Calculations"
   ]
  },
  {
   "cell_type": "markdown",
   "metadata": {},
   "source": [
    "Let's calculate and add the price per square meter."
   ]
  },
  {
   "cell_type": "code",
   "execution_count": 44,
   "metadata": {},
   "outputs": [],
   "source": [
    "df['sq_meter_price'] = df['last_price'] / df['total_area']"
   ]
  },
  {
   "cell_type": "markdown",
   "metadata": {},
   "source": [
    "Let's add the day of the week, month, and year of publication."
   ]
  },
  {
   "cell_type": "code",
   "execution_count": 45,
   "metadata": {},
   "outputs": [],
   "source": [
    "df['weekday'] = df['first_day_exposition'].dt.weekday\n",
    "df['month'] = df['first_day_exposition'].dt.month\n",
    "df['year'] = df['first_day_exposition'].dt.year"
   ]
  },
  {
   "cell_type": "markdown",
   "metadata": {},
   "source": [
    "Let's divide the floors into categories: `first`, `last`, and `other`."
   ]
  },
  {
   "cell_type": "code",
   "execution_count": 46,
   "metadata": {},
   "outputs": [],
   "source": [
    "def floor_category(row):\n",
    "    if row['floor'] == 1:\n",
    "        return 'first'\n",
    "    if row['floor'] == row['floors_total']:\n",
    "        return 'last'\n",
    "    return 'other'\n",
    "\n",
    "df['floor_category'] = df.apply(floor_category, axis=1)"
   ]
  },
  {
   "cell_type": "markdown",
   "metadata": {},
   "source": [
    "Let's calculate and add the ratio of the living area to the total area and ratio of the kitchen area to the total area. "
   ]
  },
  {
   "cell_type": "code",
   "execution_count": 47,
   "metadata": {},
   "outputs": [],
   "source": [
    "df['ratio_area'] = df['living_area'] / df['total_area']\n",
    "df['ratio_kitchen'] = df['kitchen_area'] / df['total_area']"
   ]
  },
  {
   "cell_type": "markdown",
   "metadata": {},
   "source": [
    "Let's check if all the columns have been added."
   ]
  },
  {
   "cell_type": "code",
   "execution_count": 48,
   "metadata": {},
   "outputs": [
    {
     "data": {
      "text/html": [
       "<div>\n",
       "<style scoped>\n",
       "    .dataframe tbody tr th:only-of-type {\n",
       "        vertical-align: middle;\n",
       "    }\n",
       "\n",
       "    .dataframe tbody tr th {\n",
       "        vertical-align: top;\n",
       "    }\n",
       "\n",
       "    .dataframe thead th {\n",
       "        text-align: right;\n",
       "    }\n",
       "</style>\n",
       "<table border=\"1\" class=\"dataframe\">\n",
       "  <thead>\n",
       "    <tr style=\"text-align: right;\">\n",
       "      <th></th>\n",
       "      <th>total_images</th>\n",
       "      <th>last_price</th>\n",
       "      <th>total_area</th>\n",
       "      <th>first_day_exposition</th>\n",
       "      <th>rooms</th>\n",
       "      <th>ceiling_height</th>\n",
       "      <th>floors_total</th>\n",
       "      <th>living_area</th>\n",
       "      <th>floor</th>\n",
       "      <th>is_apartment</th>\n",
       "      <th>...</th>\n",
       "      <th>ponds_around_3000m</th>\n",
       "      <th>ponds_nearest_m</th>\n",
       "      <th>days_exposition</th>\n",
       "      <th>sq_meter_price</th>\n",
       "      <th>weekday</th>\n",
       "      <th>month</th>\n",
       "      <th>year</th>\n",
       "      <th>floor_category</th>\n",
       "      <th>ratio_area</th>\n",
       "      <th>ratio_kitchen</th>\n",
       "    </tr>\n",
       "  </thead>\n",
       "  <tbody>\n",
       "    <tr>\n",
       "      <th>0</th>\n",
       "      <td>20</td>\n",
       "      <td>13000000</td>\n",
       "      <td>108.0</td>\n",
       "      <td>2019-03-07</td>\n",
       "      <td>3</td>\n",
       "      <td>2.70</td>\n",
       "      <td>16</td>\n",
       "      <td>51.00</td>\n",
       "      <td>8</td>\n",
       "      <td>NaN</td>\n",
       "      <td>...</td>\n",
       "      <td>2.0</td>\n",
       "      <td>755.0</td>\n",
       "      <td>NaN</td>\n",
       "      <td>120370.370370</td>\n",
       "      <td>3</td>\n",
       "      <td>3</td>\n",
       "      <td>2019</td>\n",
       "      <td>other</td>\n",
       "      <td>0.472222</td>\n",
       "      <td>0.231481</td>\n",
       "    </tr>\n",
       "    <tr>\n",
       "      <th>1</th>\n",
       "      <td>7</td>\n",
       "      <td>3350000</td>\n",
       "      <td>40.4</td>\n",
       "      <td>2018-12-04</td>\n",
       "      <td>1</td>\n",
       "      <td>2.65</td>\n",
       "      <td>11</td>\n",
       "      <td>18.60</td>\n",
       "      <td>1</td>\n",
       "      <td>NaN</td>\n",
       "      <td>...</td>\n",
       "      <td>0.0</td>\n",
       "      <td>NaN</td>\n",
       "      <td>81.0</td>\n",
       "      <td>82920.792079</td>\n",
       "      <td>1</td>\n",
       "      <td>12</td>\n",
       "      <td>2018</td>\n",
       "      <td>first</td>\n",
       "      <td>0.460396</td>\n",
       "      <td>0.272277</td>\n",
       "    </tr>\n",
       "    <tr>\n",
       "      <th>2</th>\n",
       "      <td>10</td>\n",
       "      <td>5196000</td>\n",
       "      <td>56.0</td>\n",
       "      <td>2015-08-20</td>\n",
       "      <td>2</td>\n",
       "      <td>2.65</td>\n",
       "      <td>5</td>\n",
       "      <td>34.30</td>\n",
       "      <td>4</td>\n",
       "      <td>NaN</td>\n",
       "      <td>...</td>\n",
       "      <td>2.0</td>\n",
       "      <td>574.0</td>\n",
       "      <td>558.0</td>\n",
       "      <td>92785.714286</td>\n",
       "      <td>3</td>\n",
       "      <td>8</td>\n",
       "      <td>2015</td>\n",
       "      <td>other</td>\n",
       "      <td>0.612500</td>\n",
       "      <td>0.148214</td>\n",
       "    </tr>\n",
       "    <tr>\n",
       "      <th>3</th>\n",
       "      <td>0</td>\n",
       "      <td>64900000</td>\n",
       "      <td>159.0</td>\n",
       "      <td>2015-07-24</td>\n",
       "      <td>3</td>\n",
       "      <td>2.65</td>\n",
       "      <td>14</td>\n",
       "      <td>45.76</td>\n",
       "      <td>9</td>\n",
       "      <td>NaN</td>\n",
       "      <td>...</td>\n",
       "      <td>3.0</td>\n",
       "      <td>234.0</td>\n",
       "      <td>424.0</td>\n",
       "      <td>408176.100629</td>\n",
       "      <td>4</td>\n",
       "      <td>7</td>\n",
       "      <td>2015</td>\n",
       "      <td>other</td>\n",
       "      <td>0.287799</td>\n",
       "      <td>0.062893</td>\n",
       "    </tr>\n",
       "    <tr>\n",
       "      <th>4</th>\n",
       "      <td>2</td>\n",
       "      <td>10000000</td>\n",
       "      <td>100.0</td>\n",
       "      <td>2018-06-19</td>\n",
       "      <td>2</td>\n",
       "      <td>3.03</td>\n",
       "      <td>14</td>\n",
       "      <td>32.00</td>\n",
       "      <td>13</td>\n",
       "      <td>NaN</td>\n",
       "      <td>...</td>\n",
       "      <td>1.0</td>\n",
       "      <td>48.0</td>\n",
       "      <td>121.0</td>\n",
       "      <td>100000.000000</td>\n",
       "      <td>1</td>\n",
       "      <td>6</td>\n",
       "      <td>2018</td>\n",
       "      <td>other</td>\n",
       "      <td>0.320000</td>\n",
       "      <td>0.410000</td>\n",
       "    </tr>\n",
       "  </tbody>\n",
       "</table>\n",
       "<p>5 rows × 29 columns</p>\n",
       "</div>"
      ],
      "text/plain": [
       "   total_images  last_price  total_area first_day_exposition  rooms  \\\n",
       "0            20    13000000       108.0           2019-03-07      3   \n",
       "1             7     3350000        40.4           2018-12-04      1   \n",
       "2            10     5196000        56.0           2015-08-20      2   \n",
       "3             0    64900000       159.0           2015-07-24      3   \n",
       "4             2    10000000       100.0           2018-06-19      2   \n",
       "\n",
       "   ceiling_height  floors_total  living_area  floor is_apartment  ...  \\\n",
       "0            2.70            16        51.00      8          NaN  ...   \n",
       "1            2.65            11        18.60      1          NaN  ...   \n",
       "2            2.65             5        34.30      4          NaN  ...   \n",
       "3            2.65            14        45.76      9          NaN  ...   \n",
       "4            3.03            14        32.00     13          NaN  ...   \n",
       "\n",
       "   ponds_around_3000m  ponds_nearest_m  days_exposition  sq_meter_price  \\\n",
       "0                 2.0            755.0              NaN   120370.370370   \n",
       "1                 0.0              NaN             81.0    82920.792079   \n",
       "2                 2.0            574.0            558.0    92785.714286   \n",
       "3                 3.0            234.0            424.0   408176.100629   \n",
       "4                 1.0             48.0            121.0   100000.000000   \n",
       "\n",
       "  weekday  month  year  floor_category  ratio_area  ratio_kitchen  \n",
       "0       3      3  2019           other    0.472222       0.231481  \n",
       "1       1     12  2018           first    0.460396       0.272277  \n",
       "2       3      8  2015           other    0.612500       0.148214  \n",
       "3       4      7  2015           other    0.287799       0.062893  \n",
       "4       1      6  2018           other    0.320000       0.410000  \n",
       "\n",
       "[5 rows x 29 columns]"
      ]
     },
     "execution_count": 48,
     "metadata": {},
     "output_type": "execute_result"
    }
   ],
   "source": [
    "df.head()"
   ]
  },
  {
   "cell_type": "markdown",
   "metadata": {},
   "source": [
    "## Exploratory Data Analysis"
   ]
  },
  {
   "cell_type": "markdown",
   "metadata": {},
   "source": [
    "### Studying the area, prices, number of rooms, ceiling heights"
   ]
  },
  {
   "cell_type": "markdown",
   "metadata": {},
   "source": [
    "**Let's study the data on the area of apartments and make a histogram.**"
   ]
  },
  {
   "cell_type": "code",
   "execution_count": 49,
   "metadata": {
    "scrolled": true
   },
   "outputs": [
    {
     "data": {
      "text/plain": [
       "count    23650.00\n",
       "mean        60.33\n",
       "std         35.66\n",
       "min         12.00\n",
       "25%         40.00\n",
       "50%         52.00\n",
       "75%         69.70\n",
       "max        900.00\n",
       "Name: total_area, dtype: object"
      ]
     },
     "execution_count": 49,
     "metadata": {},
     "output_type": "execute_result"
    }
   ],
   "source": [
    "df['total_area'].describe().apply('{0:.2f}'.format)"
   ]
  },
  {
   "cell_type": "code",
   "execution_count": 50,
   "metadata": {},
   "outputs": [
    {
     "data": {
      "image/png": "[encoded data removed]",
      "text/plain": [
       "<Figure size 432x288 with 1 Axes>"
      ]
     },
     "metadata": {
      "needs_background": "light"
     },
     "output_type": "display_data"
    }
   ],
   "source": [
    "plt.hist(df[\"total_area\"], bins=50)\n",
    "plt.grid()\n",
    "plt.show()"
   ]
  },
  {
   "cell_type": "markdown",
   "metadata": {},
   "source": [
    "Let's create a boxplot to display the distribution and outliers.  "
   ]
  },
  {
   "cell_type": "code",
   "execution_count": 51,
   "metadata": {},
   "outputs": [
    {
     "data": {
      "image/png": "[encoded data removed]",
      "text/plain": [
       "<Figure size 216x648 with 1 Axes>"
      ]
     },
     "metadata": {
      "needs_background": "light"
     },
     "output_type": "display_data"
    }
   ],
   "source": [
    "df.boxplot('total_area', figsize=(3, 9))\n",
    "plt.show()"
   ]
  },
  {
   "cell_type": "code",
   "execution_count": 52,
   "metadata": {},
   "outputs": [
    {
     "data": {
      "image/png": "[encoded data removed]",
      "text/plain": [
       "<Figure size 432x288 with 1 Axes>"
      ]
     },
     "metadata": {
      "needs_background": "light"
     },
     "output_type": "display_data"
    }
   ],
   "source": [
    "sns.boxplot(x=df.total_area, showfliers=False)\n",
    "plt.show()"
   ]
  },
  {
   "cell_type": "markdown",
   "metadata": {},
   "source": [
    "We can see that the values range from 12sq.m to 120sq.m.\n",
    "The data even includes apartments over 800 sq.m. Let's remove rare values and outliers and make a histogram without them."
   ]
  },
  {
   "cell_type": "code",
   "execution_count": 53,
   "metadata": {},
   "outputs": [],
   "source": [
    "total_area_good = df.query('total_area <= 120')"
   ]
  },
  {
   "cell_type": "code",
   "execution_count": 54,
   "metadata": {
    "scrolled": true
   },
   "outputs": [
    {
     "data": {
      "image/png": "[encoded data removed]",
      "text/plain": [
       "<Figure size 432x288 with 1 Axes>"
      ]
     },
     "metadata": {
      "needs_background": "light"
     },
     "output_type": "display_data"
    }
   ],
   "source": [
    "plt.hist(total_area_good[\"total_area\"], bins=50)\n",
    "plt.grid()\n",
    "plt.show()"
   ]
  },
  {
   "cell_type": "code",
   "execution_count": 55,
   "metadata": {},
   "outputs": [
    {
     "data": {
      "text/plain": [
       "count    22591.00\n",
       "mean        54.84\n",
       "std         20.09\n",
       "min         12.00\n",
       "25%         39.50\n",
       "50%         50.50\n",
       "75%         66.00\n",
       "max        120.00\n",
       "Name: total_area, dtype: object"
      ]
     },
     "execution_count": 55,
     "metadata": {},
     "output_type": "execute_result"
    }
   ],
   "source": [
    "total_area_good['total_area'].describe().apply('{0:.2f}'.format)"
   ]
  },
  {
   "cell_type": "markdown",
   "metadata": {},
   "source": [
    "The total area histogram has a peak around 45 sq.m. Most of the apartments have an area of 39.5-66 sq.m. The average area is 54.84 sq.m, the median is 50.50 sq.m, and the minimum area is 12 sq.m, but there are not many such apartments. After 100 sq.m, the number of apartments decreases sharply."
   ]
  },
  {
   "cell_type": "markdown",
   "metadata": {},
   "source": [
    "**Let's study the data on the price of apartments and make a histogram.**"
   ]
  },
  {
   "cell_type": "code",
   "execution_count": 56,
   "metadata": {},
   "outputs": [
    {
     "data": {
      "text/plain": [
       "count        23650.00\n",
       "mean       6541126.90\n",
       "std       10896399.18\n",
       "min          12190.00\n",
       "25%        3400000.00\n",
       "50%        4650000.00\n",
       "75%        6799000.00\n",
       "max      763000000.00\n",
       "Name: last_price, dtype: object"
      ]
     },
     "execution_count": 56,
     "metadata": {},
     "output_type": "execute_result"
    }
   ],
   "source": [
    "df['last_price'].describe().apply('{0:.2f}'.format)"
   ]
  },
  {
   "cell_type": "code",
   "execution_count": 57,
   "metadata": {
    "scrolled": true
   },
   "outputs": [
    {
     "data": {
      "image/png": "[encoded data removed]",
      "text/plain": [
       "<Figure size 432x288 with 1 Axes>"
      ]
     },
     "metadata": {
      "needs_background": "light"
     },
     "output_type": "display_data"
    }
   ],
   "source": [
    "plt.hist(total_area_good[\"last_price\"], bins=50)\n",
    "plt.grid()\n",
    "plt.show()"
   ]
  },
  {
   "cell_type": "markdown",
   "metadata": {},
   "source": [
    "Let's create a boxplot to display the distribution and outliers.  "
   ]
  },
  {
   "cell_type": "code",
   "execution_count": 58,
   "metadata": {},
   "outputs": [
    {
     "data": {
      "image/png": "[encoded data removed]",
      "text/plain": [
       "<Figure size 216x648 with 1 Axes>"
      ]
     },
     "metadata": {
      "needs_background": "light"
     },
     "output_type": "display_data"
    }
   ],
   "source": [
    "df.boxplot('last_price', figsize=(3, 9))\n",
    "plt.show()"
   ]
  },
  {
   "cell_type": "code",
   "execution_count": 59,
   "metadata": {},
   "outputs": [
    {
     "data": {
      "image/png": "[encoded data removed]",
      "text/plain": [
       "<Figure size 432x288 with 1 Axes>"
      ]
     },
     "metadata": {
      "needs_background": "light"
     },
     "output_type": "display_data"
    }
   ],
   "source": [
    "sns.boxplot(x=df.last_price, showfliers=False)\n",
    "plt.show()"
   ]
  },
  {
   "cell_type": "markdown",
   "metadata": {},
   "source": [
    "The data contains an abnormally cheap apartment for 12,190 rubles. Most likely it was a data entry error."
   ]
  },
  {
   "cell_type": "code",
   "execution_count": 60,
   "metadata": {},
   "outputs": [
    {
     "data": {
      "text/html": [
       "<div>\n",
       "<style scoped>\n",
       "    .dataframe tbody tr th:only-of-type {\n",
       "        vertical-align: middle;\n",
       "    }\n",
       "\n",
       "    .dataframe tbody tr th {\n",
       "        vertical-align: top;\n",
       "    }\n",
       "\n",
       "    .dataframe thead th {\n",
       "        text-align: right;\n",
       "    }\n",
       "</style>\n",
       "<table border=\"1\" class=\"dataframe\">\n",
       "  <thead>\n",
       "    <tr style=\"text-align: right;\">\n",
       "      <th></th>\n",
       "      <th>total_images</th>\n",
       "      <th>last_price</th>\n",
       "      <th>total_area</th>\n",
       "      <th>first_day_exposition</th>\n",
       "      <th>rooms</th>\n",
       "      <th>ceiling_height</th>\n",
       "      <th>floors_total</th>\n",
       "      <th>living_area</th>\n",
       "      <th>floor</th>\n",
       "      <th>is_apartment</th>\n",
       "      <th>...</th>\n",
       "      <th>ponds_around_3000m</th>\n",
       "      <th>ponds_nearest_m</th>\n",
       "      <th>days_exposition</th>\n",
       "      <th>sq_meter_price</th>\n",
       "      <th>weekday</th>\n",
       "      <th>month</th>\n",
       "      <th>year</th>\n",
       "      <th>floor_category</th>\n",
       "      <th>ratio_area</th>\n",
       "      <th>ratio_kitchen</th>\n",
       "    </tr>\n",
       "  </thead>\n",
       "  <tbody>\n",
       "    <tr>\n",
       "      <th>8793</th>\n",
       "      <td>7</td>\n",
       "      <td>12190</td>\n",
       "      <td>109.0</td>\n",
       "      <td>2019-03-20</td>\n",
       "      <td>2</td>\n",
       "      <td>2.75</td>\n",
       "      <td>25</td>\n",
       "      <td>32.0</td>\n",
       "      <td>25</td>\n",
       "      <td>NaN</td>\n",
       "      <td>...</td>\n",
       "      <td>0.0</td>\n",
       "      <td>NaN</td>\n",
       "      <td>8.0</td>\n",
       "      <td>111.834862</td>\n",
       "      <td>2</td>\n",
       "      <td>3</td>\n",
       "      <td>2019</td>\n",
       "      <td>last</td>\n",
       "      <td>0.293578</td>\n",
       "      <td>0.37156</td>\n",
       "    </tr>\n",
       "  </tbody>\n",
       "</table>\n",
       "<p>1 rows × 29 columns</p>\n",
       "</div>"
      ],
      "text/plain": [
       "      total_images  last_price  total_area first_day_exposition  rooms  \\\n",
       "8793             7       12190       109.0           2019-03-20      2   \n",
       "\n",
       "      ceiling_height  floors_total  living_area  floor is_apartment  ...  \\\n",
       "8793            2.75            25         32.0     25          NaN  ...   \n",
       "\n",
       "      ponds_around_3000m  ponds_nearest_m  days_exposition  sq_meter_price  \\\n",
       "8793                 0.0              NaN              8.0      111.834862   \n",
       "\n",
       "     weekday  month  year  floor_category  ratio_area  ratio_kitchen  \n",
       "8793       2      3  2019            last    0.293578        0.37156  \n",
       "\n",
       "[1 rows x 29 columns]"
      ]
     },
     "execution_count": 60,
     "metadata": {},
     "output_type": "execute_result"
    }
   ],
   "source": [
    "df.loc[df['last_price'] < 20000]"
   ]
  },
  {
   "cell_type": "markdown",
   "metadata": {},
   "source": [
    "We can see that most of the apartments have a price of up to 11 million rubles. The maximum price of the apartment is 763 million rubles. There is a rather large gap between the average (6.5m rubles) and the median price (4.7m rubles) as super-expensive apartments shift the distribution. It can also be noted that outliers may represent a segment of luxury real estate. It would be more correct to separate the data into another segment and study it separately, but within the scope of this project, we will remove outliers and make a histogram without them. "
   ]
  },
  {
   "cell_type": "code",
   "execution_count": 61,
   "metadata": {},
   "outputs": [],
   "source": [
    "last_price_good = df.query('last_price > 20000 & last_price <= 11000000')"
   ]
  },
  {
   "cell_type": "code",
   "execution_count": 62,
   "metadata": {
    "scrolled": false
   },
   "outputs": [
    {
     "data": {
      "image/png": "[encoded data removed]",
      "text/plain": [
       "<Figure size 432x288 with 1 Axes>"
      ]
     },
     "metadata": {
      "needs_background": "light"
     },
     "output_type": "display_data"
    }
   ],
   "source": [
    "plt.hist(last_price_good[\"last_price\"], bins=50)\n",
    "plt.grid()\n",
    "plt.show()"
   ]
  },
  {
   "cell_type": "code",
   "execution_count": 63,
   "metadata": {},
   "outputs": [
    {
     "data": {
      "text/plain": [
       "count       21372.00\n",
       "mean      4770150.78\n",
       "std       2121973.66\n",
       "min        430000.00\n",
       "25%       3300000.00\n",
       "50%       4400000.00\n",
       "75%       5950000.00\n",
       "max      11000000.00\n",
       "Name: last_price, dtype: object"
      ]
     },
     "execution_count": 63,
     "metadata": {},
     "output_type": "execute_result"
    }
   ],
   "source": [
    "last_price_good['last_price'].describe().apply('{0:.2f}'.format)"
   ]
  },
  {
   "cell_type": "markdown",
   "metadata": {},
   "source": [
    "Most of the apartments cost from 3.300.000 rubles to 5.950.000 rubles with a median value of 4.400.000 rubles."
   ]
  },
  {
   "cell_type": "markdown",
   "metadata": {},
   "source": [
    "**Let's study the data on the number of rooms and make a histogram.**"
   ]
  },
  {
   "cell_type": "code",
   "execution_count": 64,
   "metadata": {},
   "outputs": [
    {
     "data": {
      "text/plain": [
       "count    23650.00\n",
       "mean         2.07\n",
       "std          1.08\n",
       "min          0.00\n",
       "25%          1.00\n",
       "50%          2.00\n",
       "75%          3.00\n",
       "max         19.00\n",
       "Name: rooms, dtype: object"
      ]
     },
     "execution_count": 64,
     "metadata": {},
     "output_type": "execute_result"
    }
   ],
   "source": [
    "df['rooms'].describe().apply('{0:.2f}'.format)"
   ]
  },
  {
   "cell_type": "code",
   "execution_count": 65,
   "metadata": {},
   "outputs": [
    {
     "data": {
      "image/png": "[encoded data removed]",
      "text/plain": [
       "<Figure size 432x288 with 1 Axes>"
      ]
     },
     "metadata": {
      "needs_background": "light"
     },
     "output_type": "display_data"
    }
   ],
   "source": [
    "plt.hist(df[\"rooms\"], bins=10)\n",
    "plt.grid()\n",
    "plt.show()"
   ]
  },
  {
   "cell_type": "markdown",
   "metadata": {},
   "source": [
    "Let's create a boxplot to display the distribution and outliers.  "
   ]
  },
  {
   "cell_type": "code",
   "execution_count": 66,
   "metadata": {},
   "outputs": [
    {
     "data": {
      "image/png": "[encoded data removed]",
      "text/plain": [
       "<Figure size 432x288 with 1 Axes>"
      ]
     },
     "metadata": {
      "needs_background": "light"
     },
     "output_type": "display_data"
    }
   ],
   "source": [
    "df.boxplot('rooms')\n",
    "plt.show()"
   ]
  },
  {
   "cell_type": "markdown",
   "metadata": {},
   "source": [
    "Most apartments (Q1 - Q3) have 1 to 3 rooms. The spread of normal values is from 0 to 6 rooms. There is a small segment of apartments with 0 rooms - studio apartments. There are also apartments with 15 or more rooms. Let's remove rare values and outliers and create a histogram without them."
   ]
  },
  {
   "cell_type": "code",
   "execution_count": 67,
   "metadata": {},
   "outputs": [],
   "source": [
    "rooms_good = df.query('rooms <= 6')"
   ]
  },
  {
   "cell_type": "code",
   "execution_count": 68,
   "metadata": {
    "scrolled": false
   },
   "outputs": [
    {
     "data": {
      "image/png": "[encoded data removed]",
      "text/plain": [
       "<Figure size 432x288 with 1 Axes>"
      ]
     },
     "metadata": {
      "needs_background": "light"
     },
     "output_type": "display_data"
    }
   ],
   "source": [
    "plt.hist(rooms_good[\"rooms\"], bins=10)\n",
    "plt.grid()\n",
    "plt.show()"
   ]
  },
  {
   "cell_type": "code",
   "execution_count": 69,
   "metadata": {
    "scrolled": true
   },
   "outputs": [
    {
     "data": {
      "text/plain": [
       "count    23560.00\n",
       "mean         2.05\n",
       "std          1.01\n",
       "min          0.00\n",
       "25%          1.00\n",
       "50%          2.00\n",
       "75%          3.00\n",
       "max          6.00\n",
       "Name: rooms, dtype: object"
      ]
     },
     "execution_count": 69,
     "metadata": {},
     "output_type": "execute_result"
    }
   ],
   "source": [
    "rooms_good['rooms'].describe().apply('{0:.2f}'.format)"
   ]
  },
  {
   "cell_type": "markdown",
   "metadata": {},
   "source": [
    "Most of the apartments have 1-3 rooms with a predominance of one-room apartments."
   ]
  },
  {
   "cell_type": "markdown",
   "metadata": {},
   "source": [
    "**Let's study the data on the height of the ceilings and make a histogram.**"
   ]
  },
  {
   "cell_type": "code",
   "execution_count": 70,
   "metadata": {},
   "outputs": [
    {
     "data": {
      "text/plain": [
       "count    23650.00\n",
       "mean         2.72\n",
       "std          0.99\n",
       "min          1.00\n",
       "25%          2.60\n",
       "50%          2.65\n",
       "75%          2.70\n",
       "max        100.00\n",
       "Name: ceiling_height, dtype: object"
      ]
     },
     "execution_count": 70,
     "metadata": {},
     "output_type": "execute_result"
    }
   ],
   "source": [
    "df['ceiling_height'].describe().apply('{0:.2f}'.format)"
   ]
  },
  {
   "cell_type": "code",
   "execution_count": 71,
   "metadata": {
    "scrolled": true
   },
   "outputs": [
    {
     "data": {
      "image/png": "[encoded data removed]",
      "text/plain": [
       "<Figure size 432x288 with 1 Axes>"
      ]
     },
     "metadata": {
      "needs_background": "light"
     },
     "output_type": "display_data"
    }
   ],
   "source": [
    "plt.hist(df[\"ceiling_height\"], bins=50)\n",
    "plt.grid()\n",
    "plt.show()"
   ]
  },
  {
   "cell_type": "markdown",
   "metadata": {},
   "source": [
    "The histogram shows that there are abnormally large outliers in the data."
   ]
  },
  {
   "cell_type": "markdown",
   "metadata": {},
   "source": [
    "Let's create a boxplot to display the distribution and outliers.  "
   ]
  },
  {
   "cell_type": "code",
   "execution_count": 72,
   "metadata": {},
   "outputs": [
    {
     "data": {
      "image/png": "[encoded data removed]",
      "text/plain": [
       "<Figure size 432x288 with 1 Axes>"
      ]
     },
     "metadata": {
      "needs_background": "light"
     },
     "output_type": "display_data"
    }
   ],
   "source": [
    "df.boxplot('ceiling_height')\n",
    "plt.show()"
   ]
  },
  {
   "cell_type": "code",
   "execution_count": 73,
   "metadata": {
    "scrolled": true
   },
   "outputs": [
    {
     "data": {
      "image/png": "[encoded data removed]",
      "text/plain": [
       "<Figure size 432x288 with 1 Axes>"
      ]
     },
     "metadata": {
      "needs_background": "light"
     },
     "output_type": "display_data"
    }
   ],
   "source": [
    "sns.boxplot(x=df.ceiling_height, showfliers=False)\n",
    "plt.show()"
   ]
  },
  {
   "cell_type": "markdown",
   "metadata": {},
   "source": [
    "Most of the apartments have ceiling heights ranging from 2.4m to 3m. The minimum ceiling height is 1m, which is a data entry error. The data also includes apartments with a ceiling height of more than 5 meters. Even if we take into account that there are duplex apartments in the ads, this data looks implausible. They, too, most likely appeared as a result of data entry errors. For example 27m instead of 2.7m. Let's remove rare values and outliers and create a histogram."
   ]
  },
  {
   "cell_type": "code",
   "execution_count": 74,
   "metadata": {},
   "outputs": [],
   "source": [
    "ceiling_height_good = df.query('ceiling_height > 2.2 and ceiling_height < 5')"
   ]
  },
  {
   "cell_type": "code",
   "execution_count": 75,
   "metadata": {
    "scrolled": true
   },
   "outputs": [
    {
     "data": {
      "image/png": "[encoded data removed]",
      "text/plain": [
       "<Figure size 432x288 with 1 Axes>"
      ]
     },
     "metadata": {
      "needs_background": "light"
     },
     "output_type": "display_data"
    }
   ],
   "source": [
    "plt.hist(ceiling_height_good[\"ceiling_height\"], bins=10)\n",
    "plt.grid()\n",
    "plt.show()"
   ]
  },
  {
   "cell_type": "code",
   "execution_count": 76,
   "metadata": {},
   "outputs": [
    {
     "data": {
      "text/plain": [
       "count    23598.00\n",
       "mean         2.70\n",
       "std          0.21\n",
       "min          2.25\n",
       "25%          2.60\n",
       "50%          2.65\n",
       "75%          2.70\n",
       "max          4.90\n",
       "Name: ceiling_height, dtype: object"
      ]
     },
     "execution_count": 76,
     "metadata": {},
     "output_type": "execute_result"
    }
   ],
   "source": [
    "ceiling_height_good['ceiling_height'].describe().apply('{0:.2f}'.format)"
   ]
  },
  {
   "cell_type": "markdown",
   "metadata": {},
   "source": [
    "Most of the apartments have ceiling heights ranging from 2.6m to 2.7m"
   ]
  },
  {
   "cell_type": "markdown",
   "metadata": {},
   "source": [
    "### Studying days advertisment was active"
   ]
  },
  {
   "cell_type": "markdown",
   "metadata": {},
   "source": [
    "Let's study the data on the time of sale of apartments and make a histogram."
   ]
  },
  {
   "cell_type": "code",
   "execution_count": 77,
   "metadata": {},
   "outputs": [
    {
     "data": {
      "text/plain": [
       "count    20470.00\n",
       "mean       180.75\n",
       "std        219.78\n",
       "min          1.00\n",
       "25%         45.00\n",
       "50%         95.00\n",
       "75%        231.00\n",
       "max       1580.00\n",
       "Name: days_exposition, dtype: object"
      ]
     },
     "execution_count": 77,
     "metadata": {},
     "output_type": "execute_result"
    }
   ],
   "source": [
    "df['days_exposition'].describe().apply('{0:.2f}'.format)"
   ]
  },
  {
   "cell_type": "code",
   "execution_count": 78,
   "metadata": {
    "scrolled": true
   },
   "outputs": [
    {
     "data": {
      "image/png": "[encoded data removed]",
      "text/plain": [
       "<Figure size 432x288 with 1 Axes>"
      ]
     },
     "metadata": {
      "needs_background": "light"
     },
     "output_type": "display_data"
    }
   ],
   "source": [
    "df['days_exposition'].hist(bins=50)\n",
    "plt.show()"
   ]
  },
  {
   "cell_type": "markdown",
   "metadata": {},
   "source": [
    "Let's create a boxplot to display the distribution and outliers.  "
   ]
  },
  {
   "cell_type": "code",
   "execution_count": 79,
   "metadata": {},
   "outputs": [
    {
     "data": {
      "image/png": "[encoded data removed]",
      "text/plain": [
       "<Figure size 216x648 with 1 Axes>"
      ]
     },
     "metadata": {
      "needs_background": "light"
     },
     "output_type": "display_data"
    }
   ],
   "source": [
    "df.boxplot('days_exposition', figsize=(3, 9))\n",
    "plt.show()"
   ]
  },
  {
   "cell_type": "markdown",
   "metadata": {},
   "source": [
    "We can see that most of the values range from 45 to 231 days. The range of normal values is from 1 to 510. Note that there are several values in the data less than 3 days old. It is likely that the people who posted the ads removed them for some reason. The difference between the mean and median is almost two times. This is because the distribution has a long tail of high values that drag the mean to the right. The maximum value is 1580 days. Let's remove rare values and outliers and create a histogram."
   ]
  },
  {
   "cell_type": "code",
   "execution_count": 80,
   "metadata": {},
   "outputs": [],
   "source": [
    "good_days_exposition = df.query('days_exposition > 2 and days_exposition <= 510')"
   ]
  },
  {
   "cell_type": "code",
   "execution_count": 81,
   "metadata": {
    "scrolled": false
   },
   "outputs": [
    {
     "data": {
      "image/png": "[encoded data removed]",
      "text/plain": [
       "<Figure size 432x288 with 1 Axes>"
      ]
     },
     "metadata": {
      "needs_background": "light"
     },
     "output_type": "display_data"
    }
   ],
   "source": [
    "good_days_exposition['days_exposition'].hist(bins=50)\n",
    "plt.show()"
   ]
  },
  {
   "cell_type": "code",
   "execution_count": 82,
   "metadata": {},
   "outputs": [
    {
     "name": "stdout",
     "output_type": "stream",
     "text": [
      "Mean `days_exposition` before removing outliers: 181 days\n",
      "Mean `days_exposition` after removing outliers: 128 days \n",
      "\n",
      "Median `days_exposition` before removing outliers: 95 days\n",
      "Median `days_exposition` after removing outliers: 85 days\n"
     ]
    }
   ],
   "source": [
    "print(f'Mean `days_exposition` before removing outliers: {df[\"days_exposition\"].mean():.0f} days')\n",
    "print(f'Mean `days_exposition` after removing outliers: {good_days_exposition[\"days_exposition\"].mean():.0f} days \\n')\n",
    "\n",
    "print(f'Median `days_exposition` before removing outliers: {df[\"days_exposition\"].median():.0f} days')\n",
    "print(f'Median `days_exposition` after removing outliers: {good_days_exposition[\"days_exposition\"].median():.0f} days')"
   ]
  },
  {
   "cell_type": "markdown",
   "metadata": {},
   "source": [
    "###### Conclusion"
   ]
  },
  {
   "cell_type": "markdown",
   "metadata": {},
   "source": [
    "After examining the data and graphs, we can conclude that the sale went quickly if less than 45 days have passed since the publication. And too long if the ad has been published for more than 510 days."
   ]
  },
  {
   "cell_type": "markdown",
   "metadata": {},
   "source": [
    "### Removing rare values and outliers"
   ]
  },
  {
   "cell_type": "markdown",
   "metadata": {},
   "source": [
    "Remove rare values and outliers such as:\n",
    "* `total area` over 120sq.m\n",
    "* `price` less than 20 thousand rubles and more than 11 million rubles\n",
    "* more than 6 rooms\n",
    "* ceiling height less than 2.2m and more than 5m\n",
    "* ad publishing time less than 3 days and more than 510 days\n",
    "\n",
    "We will save the slice in the `good_df` variable"
   ]
  },
  {
   "cell_type": "code",
   "execution_count": 83,
   "metadata": {},
   "outputs": [],
   "source": [
    "good_df = df.query(\n",
    "                   'total_area <= 120 and '\n",
    "                   'last_price > 20000 & last_price <= 11000000 and '\n",
    "                   'rooms  <= 6 and '\n",
    "                   'ceiling_height > 2.2 and ceiling_height < 5 and '\n",
    "                   'days_exposition > 2 and days_exposition <= 510')"
   ]
  },
  {
   "cell_type": "markdown",
   "metadata": {},
   "source": [
    "### The study of factors affecting the price of an apartment"
   ]
  },
  {
   "cell_type": "markdown",
   "metadata": {},
   "source": [
    "Let's check how the area of the apartment affects the price. We will calculate the correlation coefficient and create a scatterplot."
   ]
  },
  {
   "cell_type": "code",
   "execution_count": 84,
   "metadata": {},
   "outputs": [
    {
     "data": {
      "text/plain": [
       "0.6946407945482348"
      ]
     },
     "execution_count": 84,
     "metadata": {},
     "output_type": "execute_result"
    }
   ],
   "source": [
    "good_df['total_area'].corr(good_df['last_price'])"
   ]
  },
  {
   "cell_type": "code",
   "execution_count": 85,
   "metadata": {
    "scrolled": true
   },
   "outputs": [
    {
     "data": {
      "image/png": "[encoded data removed]",
      "text/plain": [
       "<Figure size 432x288 with 1 Axes>"
      ]
     },
     "metadata": {
      "needs_background": "light"
     },
     "output_type": "display_data"
    }
   ],
   "source": [
    "good_df.plot(x='total_area', y='last_price', kind='scatter', grid=True)\n",
    "plt.title('Realtionship between Total Area and Price')\n",
    "plt.xlabel('Total Area')\n",
    "plt.ylabel('Price')\n",
    "plt.show()"
   ]
  },
  {
   "cell_type": "markdown",
   "metadata": {},
   "source": [
    "The correlation coefficient is 0.69, which indicates a strong positive relationship between the total area and the price of the apartment. Also, the scatter diagram shows that there is a dependence of price on total_area, although there are outliers."
   ]
  },
  {
   "cell_type": "markdown",
   "metadata": {},
   "source": [
    "Let's check how the number of rooms in an apartment affects its price. We will calculate the correlation coefficient and create a scatterplot."
   ]
  },
  {
   "cell_type": "code",
   "execution_count": 86,
   "metadata": {},
   "outputs": [
    {
     "data": {
      "text/plain": [
       "0.4438179623942936"
      ]
     },
     "execution_count": 86,
     "metadata": {},
     "output_type": "execute_result"
    }
   ],
   "source": [
    "good_df['rooms'].corr(good_df['last_price'])"
   ]
  },
  {
   "cell_type": "code",
   "execution_count": 87,
   "metadata": {},
   "outputs": [
    {
     "data": {
      "image/png": "[encoded data removed]",
      "text/plain": [
       "<Figure size 432x288 with 1 Axes>"
      ]
     },
     "metadata": {
      "needs_background": "light"
     },
     "output_type": "display_data"
    }
   ],
   "source": [
    "sns.regplot(data=good_df, x='rooms', y='last_price')\n",
    "plt.title('Relationship between Rooms and Price')\n",
    "plt.xlabel('Number of Rooms')\n",
    "plt.ylabel('Price')\n",
    "plt.show()"
   ]
  },
  {
   "cell_type": "markdown",
   "metadata": {},
   "source": [
    "The correlation coefficient is 0.44, which indicates an average positive correlation between the factors. The graph shows that there is a direct dependence of the price on the number of rooms."
   ]
  },
  {
   "cell_type": "markdown",
   "metadata": {},
   "source": [
    "Let's check how the distance from the center affects the price. We will calculate the correlation coefficient and create a scatterplot."
   ]
  },
  {
   "cell_type": "code",
   "execution_count": 88,
   "metadata": {},
   "outputs": [
    {
     "data": {
      "text/plain": [
       "-0.33822971790625717"
      ]
     },
     "execution_count": 88,
     "metadata": {},
     "output_type": "execute_result"
    }
   ],
   "source": [
    "good_df['city_center_dist_m'].corr(good_df['last_price'])"
   ]
  },
  {
   "cell_type": "code",
   "execution_count": 89,
   "metadata": {},
   "outputs": [
    {
     "data": {
      "image/png": "[encoded data removed]",
      "text/plain": [
       "<Figure size 432x288 with 1 Axes>"
      ]
     },
     "metadata": {
      "needs_background": "light"
     },
     "output_type": "display_data"
    }
   ],
   "source": [
    "good_df.plot(x='city_center_dist_m', y='last_price', kind='scatter', grid=True)\n",
    "plt.title('Relationship between Distance from center and Price')\n",
    "plt.xlabel('Distance from center')\n",
    "plt.ylabel('Price')\n",
    "plt.show()"
   ]
  },
  {
   "cell_type": "markdown",
   "metadata": {},
   "source": [
    "Let's also look at a scatterplot using raw data."
   ]
  },
  {
   "cell_type": "code",
   "execution_count": 90,
   "metadata": {},
   "outputs": [
    {
     "data": {
      "text/plain": [
       "-0.20688702501498776"
      ]
     },
     "execution_count": 90,
     "metadata": {},
     "output_type": "execute_result"
    }
   ],
   "source": [
    "df['city_center_dist_m'].corr(df['last_price'])"
   ]
  },
  {
   "cell_type": "code",
   "execution_count": 91,
   "metadata": {},
   "outputs": [
    {
     "data": {
      "image/png": "[encoded data removed]",
      "text/plain": [
       "<Figure size 432x288 with 1 Axes>"
      ]
     },
     "metadata": {
      "needs_background": "light"
     },
     "output_type": "display_data"
    }
   ],
   "source": [
    "df.plot(x='city_center_dist_m', y='last_price', kind='scatter', grid=True)\n",
    "plt.title('Relationship between Distance from center and Price (raw data)')\n",
    "plt.xlabel('Distance from center')\n",
    "plt.ylabel('Price')\n",
    "plt.show()"
   ]
  },
  {
   "cell_type": "markdown",
   "metadata": {},
   "source": [
    "The correlation coefficient is -0.34, which indicates a weak negative correlation. We can see that with the increase in the distance from the center, the price of apartments falls. At the same time, small spikes are present in the data at a distance of 30 km and 50 km from the center. Perhaps these are apartments in the centers of settlements neighboring St. Petersburg."
   ]
  },
  {
   "cell_type": "markdown",
   "metadata": {},
   "source": [
    "Let's check how the floor affects the apartment price. We will create boxplots for three categories - the first, the last, and the other."
   ]
  },
  {
   "cell_type": "code",
   "execution_count": 92,
   "metadata": {},
   "outputs": [
    {
     "data": {
      "image/png": "[encoded data removed]",
      "text/plain": [
       "<Figure size 360x360 with 1 Axes>"
      ]
     },
     "metadata": {
      "needs_background": "light"
     },
     "output_type": "display_data"
    }
   ],
   "source": [
    "sns.catplot(data=good_df, x='floor_category', y='last_price', kind='box')\n",
    "plt.title('Relationshp between Floor and Price')\n",
    "plt.xlabel('Floor')\n",
    "plt.ylabel('Price')\n",
    "plt.show()"
   ]
  },
  {
   "cell_type": "markdown",
   "metadata": {},
   "source": [
    "The lowest prices are for apartments located on the ground floor, and the highest prices are for apartments on the floors between the first and last."
   ]
  },
  {
   "cell_type": "code",
   "execution_count": 93,
   "metadata": {},
   "outputs": [
    {
     "data": {
      "image/png": "[encoded data removed]",
      "text/plain": [
       "<Figure size 432x288 with 1 Axes>"
      ]
     },
     "metadata": {
      "needs_background": "light"
     },
     "output_type": "display_data"
    },
    {
     "data": {
      "image/png": "[encoded data removed]",
      "text/plain": [
       "<Figure size 432x288 with 1 Axes>"
      ]
     },
     "metadata": {
      "needs_background": "light"
     },
     "output_type": "display_data"
    },
    {
     "data": {
      "image/png": "[encoded data removed]",
      "text/plain": [
       "<Figure size 432x288 with 1 Axes>"
      ]
     },
     "metadata": {
      "needs_background": "light"
     },
     "output_type": "display_data"
    }
   ],
   "source": [
    "good_df.pivot_table(index='weekday', values='last_price', aggfunc='median').plot(y='last_price', style='o-', grid=True)\n",
    "plt.title('Relationship between ad publication weekday and Price')\n",
    "plt.xlabel(\"Weekday\")\n",
    "plt.ylabel(\"Price\")\n",
    "plt.show()\n",
    "\n",
    "good_df.pivot_table(index='month', values='last_price', aggfunc='median').plot(y='last_price', style='o-', grid=True)\n",
    "plt.title('Relationship between ad publication month and Price')\n",
    "plt.xlabel(\"Month\")\n",
    "plt.ylabel(\"Price\")\n",
    "plt.show()\n",
    "\n",
    "good_df.pivot_table(index='year', values='last_price', aggfunc='median').plot(y='last_price', style='o-', grid=True)\n",
    "plt.title('Relationship between ad publication year and Price')\n",
    "plt.xlabel(\"Year\")\n",
    "plt.ylabel(\"Price\")\n",
    "plt.show()"
   ]
  },
  {
   "cell_type": "markdown",
   "metadata": {},
   "source": [
    "###### Conclusion"
   ]
  },
  {
   "cell_type": "markdown",
   "metadata": {},
   "source": [
    "* There is a clear dependence of the price on the total area and the number of rooms\n",
    "* The closer the apartments are to the center, the higher the price. At the same time, there are small spikes in the data at a distance of 30 km and 50 km from the center. Perhaps these are the apartments in the centers of settlements neighboring St. Petersburg.\n",
    "* The lowest price is for apartments located on the ground floor, and the highest price is for apartments on floors between the first and the last\n",
    "* The price of apartments rises from Monday to Wednesday, and begins to fall sharply on Thursday, reaching a minimum on Friday. Then rises sharply on Saturday and falls on Sunday\n",
    "* Apartment prices rise from October until the end of the year, and from the beginning of the year until April. Then they begin to fall sharply, reaching a minimum in June.\n",
    "* Apartment prices fell sharply in 2015 and continued to fall until 2017. Starting from 2018, the market began to recover and grow in 2019"
   ]
  },
  {
   "cell_type": "markdown",
   "metadata": {},
   "source": [
    "### The price of apartments in the top 10 settlements by the number of ads"
   ]
  },
  {
   "cell_type": "code",
   "execution_count": 94,
   "metadata": {
    "scrolled": true
   },
   "outputs": [
    {
     "data": {
      "text/html": [
       "<div>\n",
       "<style scoped>\n",
       "    .dataframe tbody tr th:only-of-type {\n",
       "        vertical-align: middle;\n",
       "    }\n",
       "\n",
       "    .dataframe tbody tr th {\n",
       "        vertical-align: top;\n",
       "    }\n",
       "\n",
       "    .dataframe thead th {\n",
       "        text-align: right;\n",
       "    }\n",
       "</style>\n",
       "<table border=\"1\" class=\"dataframe\">\n",
       "  <thead>\n",
       "    <tr style=\"text-align: right;\">\n",
       "      <th></th>\n",
       "      <th>count</th>\n",
       "      <th>mean_sq_meter_price</th>\n",
       "    </tr>\n",
       "    <tr>\n",
       "      <th>locality_name</th>\n",
       "      <th></th>\n",
       "      <th></th>\n",
       "    </tr>\n",
       "  </thead>\n",
       "  <tbody>\n",
       "    <tr>\n",
       "      <th>Санкт-Петербург</th>\n",
       "      <td>11042</td>\n",
       "      <td>104002.293750</td>\n",
       "    </tr>\n",
       "    <tr>\n",
       "      <th>поселок Мурино</th>\n",
       "      <td>516</td>\n",
       "      <td>85936.528290</td>\n",
       "    </tr>\n",
       "    <tr>\n",
       "      <th>поселок Шушары</th>\n",
       "      <td>387</td>\n",
       "      <td>77899.853098</td>\n",
       "    </tr>\n",
       "    <tr>\n",
       "      <th>Всеволожск</th>\n",
       "      <td>305</td>\n",
       "      <td>66807.553551</td>\n",
       "    </tr>\n",
       "    <tr>\n",
       "      <th>Колпино</th>\n",
       "      <td>291</td>\n",
       "      <td>74508.355292</td>\n",
       "    </tr>\n",
       "    <tr>\n",
       "      <th>поселок Парголово</th>\n",
       "      <td>287</td>\n",
       "      <td>89336.954129</td>\n",
       "    </tr>\n",
       "    <tr>\n",
       "      <th>деревня Кудрово</th>\n",
       "      <td>267</td>\n",
       "      <td>92600.436714</td>\n",
       "    </tr>\n",
       "    <tr>\n",
       "      <th>Пушкин</th>\n",
       "      <td>258</td>\n",
       "      <td>99062.732446</td>\n",
       "    </tr>\n",
       "    <tr>\n",
       "      <th>Гатчина</th>\n",
       "      <td>240</td>\n",
       "      <td>68288.075254</td>\n",
       "    </tr>\n",
       "    <tr>\n",
       "      <th>Выборг</th>\n",
       "      <td>190</td>\n",
       "      <td>57241.879933</td>\n",
       "    </tr>\n",
       "  </tbody>\n",
       "</table>\n",
       "</div>"
      ],
      "text/plain": [
       "                   count  mean_sq_meter_price\n",
       "locality_name                                \n",
       "Санкт-Петербург    11042        104002.293750\n",
       "поселок Мурино       516         85936.528290\n",
       "поселок Шушары       387         77899.853098\n",
       "Всеволожск           305         66807.553551\n",
       "Колпино              291         74508.355292\n",
       "поселок Парголово    287         89336.954129\n",
       "деревня Кудрово      267         92600.436714\n",
       "Пушкин               258         99062.732446\n",
       "Гатчина              240         68288.075254\n",
       "Выборг               190         57241.879933"
      ]
     },
     "execution_count": 94,
     "metadata": {},
     "output_type": "execute_result"
    }
   ],
   "source": [
    "top_10 = good_df.pivot_table(index='locality_name', values='sq_meter_price', aggfunc=['count', 'mean'])\n",
    "top_10.columns = ['count', 'mean_sq_meter_price']\n",
    "top_10.sort_values(by='count', ascending=False)[:10]"
   ]
  },
  {
   "cell_type": "markdown",
   "metadata": {},
   "source": [
    "###### Conclusion"
   ]
  },
  {
   "cell_type": "markdown",
   "metadata": {},
   "source": [
    "The highest housing price is in St. Petersburg - 105,300 rubles per square meter, and the lowest is in Vyborg - 58,464 rubles per square meter. "
   ]
  },
  {
   "cell_type": "markdown",
   "metadata": {},
   "source": [
    "### Locating of the central zone of St. Petersburg"
   ]
  },
  {
   "cell_type": "markdown",
   "metadata": {},
   "source": [
    "Let's study the ads. First, we will separate apartments in St. Petersburg and then determine the city's central zone.  "
   ]
  },
  {
   "cell_type": "code",
   "execution_count": 95,
   "metadata": {},
   "outputs": [],
   "source": [
    "spb_flats = good_df.copy()\n",
    "spb_flats = spb_flats.loc[spb_flats['locality_name'] == 'Санкт-Петербург']\n",
    "spb_flats['city_center_dist_km'] = np.round(spb_flats['city_center_dist_m']/1000, 0)"
   ]
  },
  {
   "cell_type": "code",
   "execution_count": 96,
   "metadata": {},
   "outputs": [
    {
     "data": {
      "image/png": "[encoded data removed]",
      "text/plain": [
       "<Figure size 432x288 with 1 Axes>"
      ]
     },
     "metadata": {
      "needs_background": "light"
     },
     "output_type": "display_data"
    }
   ],
   "source": [
    "spb_flats.pivot_table(index='city_center_dist_km', values='last_price').plot()\n",
    "plt.title('Dependence of price on distance from the center')\n",
    "plt.xlabel('Distance from the center in km')\n",
    "plt.ylabel('Price')\n",
    "plt.show()"
   ]
  },
  {
   "cell_type": "markdown",
   "metadata": {},
   "source": [
    "###### Conclusion"
   ]
  },
  {
   "cell_type": "markdown",
   "metadata": {},
   "source": [
    "We can see from the chart that the price begins to fall sharply after the 9km mark. Thus, the central zone of St. Petersburg has a radius of 9 km. The graph also shows price spikes in the region of 20km and 27km - these can be apartments on Kamenny Island, where housing is more expensive. "
   ]
  },
  {
   "cell_type": "markdown",
   "metadata": {},
   "source": [
    "### Analysis of the parameters of apartments in the center of St. Petersburg"
   ]
  },
  {
   "cell_type": "markdown",
   "metadata": {},
   "source": [
    "Let's select a segment of apartments in the center. Let's analyze this territory and study the following parameters: area, price, number of rooms, and ceiling height. We also highlight the factors that affect the appartment price. "
   ]
  },
  {
   "cell_type": "code",
   "execution_count": 97,
   "metadata": {},
   "outputs": [],
   "source": [
    "spb_flats_center = spb_flats.copy()"
   ]
  },
  {
   "cell_type": "code",
   "execution_count": 98,
   "metadata": {},
   "outputs": [],
   "source": [
    "spb_flats_center = spb_flats_center.loc[spb_flats_center['city_center_dist_km'] <= 9]"
   ]
  },
  {
   "cell_type": "code",
   "execution_count": 99,
   "metadata": {},
   "outputs": [
    {
     "data": {
      "image/png": "[encoded data removed]",
      "text/plain": [
       "<Figure size 864x432 with 2 Axes>"
      ]
     },
     "metadata": {
      "needs_background": "light"
     },
     "output_type": "display_data"
    },
    {
     "data": {
      "text/plain": [
       "count    2426.00\n",
       "mean       59.92\n",
       "std        20.51\n",
       "min        12.00\n",
       "25%        44.00\n",
       "50%        57.10\n",
       "75%        74.00\n",
       "max       120.00\n",
       "Name: total_area, dtype: object"
      ]
     },
     "execution_count": 99,
     "metadata": {},
     "output_type": "execute_result"
    }
   ],
   "source": [
    "f, axs = plt.subplots(1, 2, figsize=(12, 6))\n",
    "axs[0].hist(spb_flats_center['total_area'], bins=30)\n",
    "axs[0].grid()\n",
    "\n",
    "axs[1].boxplot(spb_flats_center['total_area'])\n",
    "axs[1].grid()\n",
    "\n",
    "plt.suptitle('Total Area')\n",
    "plt.show()\n",
    "\n",
    "spb_flats_center['total_area'].describe().apply('{0:.2f}'.format)"
   ]
  },
  {
   "cell_type": "code",
   "execution_count": 100,
   "metadata": {},
   "outputs": [
    {
     "data": {
      "image/png": "[encoded data removed]",
      "text/plain": [
       "<Figure size 864x432 with 2 Axes>"
      ]
     },
     "metadata": {
      "needs_background": "light"
     },
     "output_type": "display_data"
    },
    {
     "data": {
      "text/plain": [
       "count        2426.00\n",
       "mean      6606174.49\n",
       "std       2098357.49\n",
       "min       1600000.00\n",
       "25%       4990000.00\n",
       "50%       6500000.00\n",
       "75%       8200000.00\n",
       "max      11000000.00\n",
       "Name: last_price, dtype: object"
      ]
     },
     "execution_count": 100,
     "metadata": {},
     "output_type": "execute_result"
    }
   ],
   "source": [
    "f, axs = plt.subplots(1, 2, figsize=(12, 6))\n",
    "axs[0].hist(spb_flats_center['last_price'])\n",
    "axs[0].grid()\n",
    "\n",
    "axs[1].boxplot(spb_flats_center['last_price'])\n",
    "axs[1].grid()\n",
    "\n",
    "plt.suptitle('Price')\n",
    "plt.show()\n",
    "\n",
    "spb_flats_center['last_price'].describe().apply('{0:.2f}'.format)"
   ]
  },
  {
   "cell_type": "code",
   "execution_count": 101,
   "metadata": {},
   "outputs": [
    {
     "data": {
      "image/png": "[encoded data removed]",
      "text/plain": [
       "<Figure size 864x432 with 2 Axes>"
      ]
     },
     "metadata": {
      "needs_background": "light"
     },
     "output_type": "display_data"
    },
    {
     "data": {
      "text/plain": [
       "count    2426.00\n",
       "mean        2.14\n",
       "std         0.94\n",
       "min         0.00\n",
       "25%         1.00\n",
       "50%         2.00\n",
       "75%         3.00\n",
       "max         6.00\n",
       "Name: rooms, dtype: object"
      ]
     },
     "execution_count": 101,
     "metadata": {},
     "output_type": "execute_result"
    }
   ],
   "source": [
    "f, axs = plt.subplots(1, 2, figsize=(12, 6))\n",
    "axs[0].hist(spb_flats_center['rooms'])\n",
    "axs[0].grid()\n",
    "\n",
    "axs[1].boxplot(spb_flats_center['rooms'])\n",
    "axs[1].grid()\n",
    "\n",
    "plt.suptitle('Rooms')\n",
    "plt.show()\n",
    "\n",
    "spb_flats_center['rooms'].describe().apply('{0:.2f}'.format)"
   ]
  },
  {
   "cell_type": "code",
   "execution_count": 102,
   "metadata": {},
   "outputs": [
    {
     "data": {
      "image/png": "[encoded data removed]",
      "text/plain": [
       "<Figure size 864x432 with 2 Axes>"
      ]
     },
     "metadata": {
      "needs_background": "light"
     },
     "output_type": "display_data"
    },
    {
     "data": {
      "text/plain": [
       "count    2426.00\n",
       "mean        2.81\n",
       "std         0.29\n",
       "min         2.40\n",
       "25%         2.65\n",
       "50%         2.65\n",
       "75%         3.00\n",
       "max         4.37\n",
       "Name: ceiling_height, dtype: object"
      ]
     },
     "execution_count": 102,
     "metadata": {},
     "output_type": "execute_result"
    }
   ],
   "source": [
    "f, axs = plt.subplots(1, 2, figsize=(12, 6))\n",
    "axs[0].hist(spb_flats_center['ceiling_height'])\n",
    "axs[0].grid()\n",
    "\n",
    "axs[1].boxplot(spb_flats_center['ceiling_height'])\n",
    "axs[1].grid()\n",
    "\n",
    "plt.suptitle('Ceiling height')\n",
    "plt.show()\n",
    "\n",
    "spb_flats_center['ceiling_height'].describe().apply('{0:.2f}'.format)"
   ]
  },
  {
   "cell_type": "markdown",
   "metadata": {},
   "source": [
    "Having studied such parameters as area, price, number of rooms, and ceiling height for apartments in the center of St. Petersburg, the following features can be distinguished:\n",
    "* Most of the apartments have an area of 44.3sq.m to 74.5sq.m with a median value of 58sq.m and an average of 60.36m\n",
    "* Price of most apartments is from 5,050,000 rubles to 8,389,000 rubles with a median value of 6,650,000 rubles \n",
    "* Most of the apartments have from 1 to 3 rooms. 2-room apartments predominate\n",
    "* Most of the apartments have ceiling heights from 2.65m to 3m "
   ]
  },
  {
   "cell_type": "markdown",
   "metadata": {},
   "source": [
    "Let's calculate the correlation coefficients between the price of apartments, the number of rooms, and the distance from the center, and also build a matrix of scatterplots."
   ]
  },
  {
   "cell_type": "code",
   "execution_count": 103,
   "metadata": {},
   "outputs": [
    {
     "data": {
      "image/png": "[encoded data removed]",
      "text/plain": [
       "<Figure size 432x288 with 2 Axes>"
      ]
     },
     "metadata": {
      "needs_background": "light"
     },
     "output_type": "display_data"
    }
   ],
   "source": [
    "sns.heatmap(spb_flats_center[['last_price', 'rooms', 'city_center_dist_km']].corr(), annot=True, vmax=1, vmin=0)\n",
    "plt.show()"
   ]
  },
  {
   "cell_type": "markdown",
   "metadata": {},
   "source": [
    "The correlation table shows that there is a medium positive correlation (0.49) between the number of rooms and the price of apartments, as well as a weak negative correlation (-0.3) between the distance from the center and the price. Thus, it can be noted that with an increase in the number of rooms, the price also increases, and also that the farther from the center an apartment is located, the cheaper it is. "
   ]
  },
  {
   "cell_type": "code",
   "execution_count": 104,
   "metadata": {
    "scrolled": false
   },
   "outputs": [
    {
     "data": {
      "image/png": "[encoded data removed]",
      "text/plain": [
       "<Figure size 864x864 with 9 Axes>"
      ]
     },
     "metadata": {
      "needs_background": "light"
     },
     "output_type": "display_data"
    }
   ],
   "source": [
    "pd.plotting.scatter_matrix(spb_flats_center[['last_price', 'rooms', 'city_center_dist_km']], figsize=(12,12))\n",
    "plt.show()"
   ]
  },
  {
   "cell_type": "code",
   "execution_count": 105,
   "metadata": {},
   "outputs": [
    {
     "data": {
      "image/png": "[encoded data removed]",
      "text/plain": [
       "<Figure size 432x288 with 1 Axes>"
      ]
     },
     "metadata": {
      "needs_background": "light"
     },
     "output_type": "display_data"
    },
    {
     "data": {
      "image/png": "[encoded data removed]",
      "text/plain": [
       "<Figure size 432x288 with 1 Axes>"
      ]
     },
     "metadata": {
      "needs_background": "light"
     },
     "output_type": "display_data"
    },
    {
     "data": {
      "image/png": "[encoded data removed]",
      "text/plain": [
       "<Figure size 432x288 with 1 Axes>"
      ]
     },
     "metadata": {
      "needs_background": "light"
     },
     "output_type": "display_data"
    }
   ],
   "source": [
    "spb_flats_center.pivot_table(index='weekday', values='last_price', aggfunc='median').plot(y='last_price', style='o-', grid=True)\n",
    "plt.title('Relationship between ad publication weekday and Price')\n",
    "plt.xlabel('Day of the week')\n",
    "plt.ylabel('Price')\n",
    "plt.show()\n",
    "\n",
    "spb_flats_center.pivot_table(index='month', values='last_price', aggfunc='median').plot(y='last_price', style='o-', grid=True)\n",
    "plt.title('Month of publication / Price')\n",
    "plt.xlabel('Month')\n",
    "plt.ylabel('Price')\n",
    "plt.show()\n",
    "\n",
    "spb_flats_center.pivot_table(index='year', values='last_price', aggfunc='median').plot(y='last_price', style='o-', grid=True)\n",
    "plt.title('Year of publication / Price')\n",
    "plt.xlabel('Year')\n",
    "plt.ylabel('Price')\n",
    "plt.show()"
   ]
  },
  {
   "cell_type": "code",
   "execution_count": 106,
   "metadata": {
    "scrolled": false
   },
   "outputs": [
    {
     "data": {
      "image/png": "[encoded data removed]",
      "text/plain": [
       "<Figure size 360x360 with 1 Axes>"
      ]
     },
     "metadata": {
      "needs_background": "light"
     },
     "output_type": "display_data"
    }
   ],
   "source": [
    "sns.catplot(data=spb_flats_center, x='floor_category', y='last_price', kind='box')\n",
    "plt.title('Relationship between Floor and Price')\n",
    "plt.xlabel('Floor')\n",
    "plt.ylabel('Price')\n",
    "plt.show()"
   ]
  },
  {
   "cell_type": "markdown",
   "metadata": {},
   "source": [
    "Having studied the graphs and taking into account the correlation coefficients, we can come to the following conclusions:\n",
    "* There is a clear dependence of the price on the number of rooms \n",
    "* The closer the apartments are to the center, the higher the price \n",
    "* Prices in the ads posted on Tuesdays and Thursdays are the lowest, with a slight rise on Wednesdays. Starting Friday, the price rises and peaks on Sunday\n",
    "* The ads published from October to May have the lowest prices. The prices rise from June and peak in September. \n",
    "* Apartment prices have been gradually increasing since 2015\n",
    "* The ground floor apartments have the lowest prices, while apartments that are located on 'other floors' or on the last floor have similar prices "
   ]
  },
  {
   "cell_type": "markdown",
   "metadata": {},
   "source": [
    "###### Conclusion"
   ]
  },
  {
   "cell_type": "markdown",
   "metadata": {},
   "source": [
    "Comparing the data for the center of St. Petersburg with the data for the entire database, we can note the following differences:\n",
    "The average area of apartments in the center is larger than all data average - 60.36 sq. m against 54.8 sq.m\n",
    "* Apartments in the center are much more expensive. Median values 6.650.000 rubles against 4.400.000 rubles\n",
    "* Apartments mostly have 1 to 3 rooms.  Two-room apartments prevail in the center, and one-room apartments prevail for all data\n",
    "* Apartments in the center have higher ceilings\n",
    "* The price of apartments in the center, as well as throughout the database, depends on the number of rooms, proximity to the center, and floor. It can also be noted that although apartments on the first floors are equally cheaper everywhere, across the entire database, apartments on the 'other floors' are more expensive than apartments on the top floor. At the same time, in the central-zone data, apartments on the 'other floors' and on the last ones have similar prices.\n",
    "* In the center, the prices of apartments published on weekends are higher, while in the data for the entire database, prices are higher mainly from Monday to Wednesday\n",
    "* Central-zone apartments have higher prices in the summer, while the apartments throughout the database have higher prices from October to April\n",
    "* The prices of apartments in the central zone have been gradually growing since 2015, while across the database they fell from 2015 to 2017 and began to grow only from 2018"
   ]
  },
  {
   "cell_type": "markdown",
   "metadata": {},
   "source": [
    "## Conclusion"
   ]
  },
  {
   "cell_type": "markdown",
   "metadata": {},
   "source": [
    "During the project we have discovered missing values and anomalies in the data. Missing values in the `balcony` column are filled with `0`. Missing values in `ceiling_height` are filled with median values. We have replaced missing values in `floors_total` with floor value +1 to avoid making the floor last. Removed missing data in `locality_name` column. The gaps in the `kitchen_area` column for studio apartments were replaced with 0, then the rest of the gaps, as well as the gaps in the `living_area` column, were replaced with median values based on the number of rooms and settlement, and the rest were replaced with the column median. Fixed heading style in 'cityCenters_nearest' column and renamed some columns. We changed the data type in the 'balcony', 'last_price' and 'floors_total' columns to 'int' for the convenience of calculations, and also changed the type in the 'first_day_exposition' column to 'datetime'. After that, we calculated the price per square meter, the ratio of residential and total area, as well as the ratio of the kitchen area to the total area and added them to the table. Then we added the day, month and year of the publication of the ad and divided the floor of the apartment into categories.\n",
    "\n",
    "\n",
    "During the analysis of the data, the following results were obtained:\n",
    "\n",
    "1. Parameters affecting the price of an apartment have been identified:\n",
    "\n",
    "* Total area\n",
    "* Number of rooms\n",
    "* Apartment floor\n",
    "* Proximity to the center\n",
    "* Day, month and year of ad posting\n",
    "\n",
    "2. The following patterns were found:\n",
    "\n",
    "* It usually takes 85-128 days from the day the ad is placed to the sale of the apartment\n",
    "* The highest sqare meter price is in St. Petersburg, and the lowest in Vyborg\n",
    "* Apartments on the first floor are cheaper than on any other\n",
    "\n",
    "3. Differences of St. Petersburg's central-zone ads from all-database ads:\n",
    "\n",
    "* The area of apartments, the number of rooms, the ceiling heights are on average higher in the center of St. Petersburg\n",
    "* The last floor in the center of St. Petersburg does not reduce the price of the apartment\n",
    "* Apartment prices of ads published on weekends and in summer are higher\n",
    "* Prices for apartments in the center have been growing since 2015, while across the database they have been falling from 2015 to 2017 and started to grow only from 2018\n",
    "\n",
    "\n",
    "It can also be noted that there are many outliers in the `price` and `total_area` data. This data may represent a segment of luxury real estate. In further research, it would be right to separate the data into the luxury segment and investigate further."
   ]
  }
 ],
 "metadata": {
  "ExecuteTimeLog": [
   {
    "duration": 464,
    "start_time": "2022-04-26T10:39:17.314Z"
   },
   {
    "duration": 17,
    "start_time": "2022-04-26T10:39:19.502Z"
   },
   {
    "duration": 73,
    "start_time": "2022-04-26T10:39:52.582Z"
   },
   {
    "duration": 33,
    "start_time": "2022-04-26T10:39:53.539Z"
   },
   {
    "duration": 14,
    "start_time": "2022-04-26T10:40:07.409Z"
   },
   {
    "duration": 57,
    "start_time": "2022-04-26T10:44:38.911Z"
   },
   {
    "duration": 7,
    "start_time": "2022-04-26T10:45:36.803Z"
   },
   {
    "duration": 6,
    "start_time": "2022-04-26T10:45:48.668Z"
   },
   {
    "duration": 5,
    "start_time": "2022-04-26T10:46:09.488Z"
   },
   {
    "duration": 170,
    "start_time": "2022-04-26T10:46:34.693Z"
   },
   {
    "duration": 5,
    "start_time": "2022-04-26T10:46:40.118Z"
   },
   {
    "duration": 24,
    "start_time": "2022-04-26T11:12:02.272Z"
   },
   {
    "duration": 28,
    "start_time": "2022-04-26T11:17:39.842Z"
   },
   {
    "duration": 20,
    "start_time": "2022-04-26T11:17:47.000Z"
   },
   {
    "duration": 9,
    "start_time": "2022-04-26T11:18:48.663Z"
   },
   {
    "duration": 6,
    "start_time": "2022-04-26T11:19:51.886Z"
   },
   {
    "duration": 6,
    "start_time": "2022-04-26T11:20:02.533Z"
   },
   {
    "duration": 4,
    "start_time": "2022-04-26T11:21:06.903Z"
   },
   {
    "duration": 8,
    "start_time": "2022-04-26T11:21:16.363Z"
   },
   {
    "duration": 46,
    "start_time": "2022-04-26T11:21:20.420Z"
   },
   {
    "duration": 18,
    "start_time": "2022-04-26T11:21:26.263Z"
   },
   {
    "duration": 5,
    "start_time": "2022-04-26T11:23:53.599Z"
   },
   {
    "duration": 21,
    "start_time": "2022-04-26T11:24:04.781Z"
   },
   {
    "duration": 3,
    "start_time": "2022-04-26T11:24:29.686Z"
   },
   {
    "duration": 33,
    "start_time": "2022-04-26T11:24:41.315Z"
   },
   {
    "duration": 21,
    "start_time": "2022-04-26T11:24:47.635Z"
   },
   {
    "duration": 32,
    "start_time": "2022-04-26T11:25:05.567Z"
   },
   {
    "duration": 22,
    "start_time": "2022-04-26T11:35:48.464Z"
   },
   {
    "duration": 21,
    "start_time": "2022-04-26T11:43:46.019Z"
   },
   {
    "duration": 7,
    "start_time": "2022-04-26T11:44:09.303Z"
   },
   {
    "duration": 481,
    "start_time": "2022-04-26T11:44:22.685Z"
   },
   {
    "duration": 418,
    "start_time": "2022-04-26T12:10:20.478Z"
   },
   {
    "duration": 23,
    "start_time": "2022-04-26T12:13:43.286Z"
   },
   {
    "duration": 238,
    "start_time": "2022-04-26T12:14:55.330Z"
   },
   {
    "duration": 28,
    "start_time": "2022-04-26T12:15:02.037Z"
   },
   {
    "duration": 33,
    "start_time": "2022-04-26T12:15:23.207Z"
   },
   {
    "duration": 1802,
    "start_time": "2022-04-26T12:21:20.520Z"
   },
   {
    "duration": 13,
    "start_time": "2022-04-26T12:21:49.962Z"
   },
   {
    "duration": 14,
    "start_time": "2022-04-26T12:23:14.249Z"
   },
   {
    "duration": 23,
    "start_time": "2022-04-26T12:25:59.172Z"
   },
   {
    "duration": 30,
    "start_time": "2022-04-26T12:26:02.768Z"
   },
   {
    "duration": 4,
    "start_time": "2022-04-26T13:18:17.225Z"
   },
   {
    "duration": 6,
    "start_time": "2022-04-26T13:25:13.276Z"
   },
   {
    "duration": 4,
    "start_time": "2022-04-26T13:25:14.026Z"
   },
   {
    "duration": 2020,
    "start_time": "2022-04-26T13:26:04.818Z"
   },
   {
    "duration": 4,
    "start_time": "2022-04-26T13:26:29.049Z"
   },
   {
    "duration": 21,
    "start_time": "2022-04-26T13:26:34.837Z"
   },
   {
    "duration": 4,
    "start_time": "2022-04-26T13:36:41.559Z"
   },
   {
    "duration": 23,
    "start_time": "2022-04-26T13:36:44.698Z"
   },
   {
    "duration": 4,
    "start_time": "2022-04-26T13:36:50.747Z"
   },
   {
    "duration": 4,
    "start_time": "2022-04-26T13:36:58.084Z"
   },
   {
    "duration": 23,
    "start_time": "2022-04-26T13:36:59.557Z"
   },
   {
    "duration": 532,
    "start_time": "2022-04-26T13:40:26.117Z"
   },
   {
    "duration": 9,
    "start_time": "2022-04-26T13:42:18.222Z"
   },
   {
    "duration": 143,
    "start_time": "2022-04-26T13:44:50.401Z"
   },
   {
    "duration": 160,
    "start_time": "2022-04-26T13:45:22.221Z"
   },
   {
    "duration": 260,
    "start_time": "2022-04-26T13:45:34.187Z"
   },
   {
    "duration": 157,
    "start_time": "2022-04-26T13:45:40.639Z"
   },
   {
    "duration": 150,
    "start_time": "2022-04-26T13:45:48.049Z"
   },
   {
    "duration": 183,
    "start_time": "2022-04-26T13:45:59.843Z"
   },
   {
    "duration": 51,
    "start_time": "2022-04-26T20:56:35.647Z"
   },
   {
    "duration": 555,
    "start_time": "2022-04-26T20:56:40.956Z"
   },
   {
    "duration": 76,
    "start_time": "2022-04-26T20:56:45.421Z"
   },
   {
    "duration": 49,
    "start_time": "2022-04-28T07:20:00.576Z"
   },
   {
    "duration": 495,
    "start_time": "2022-04-28T07:20:06.550Z"
   },
   {
    "duration": 31,
    "start_time": "2022-04-28T07:20:08.106Z"
   },
   {
    "duration": 16,
    "start_time": "2022-04-28T07:20:12.835Z"
   },
   {
    "duration": 36,
    "start_time": "2022-04-28T07:20:16.108Z"
   },
   {
    "duration": 6,
    "start_time": "2022-04-28T07:20:18.750Z"
   },
   {
    "duration": 7,
    "start_time": "2022-04-28T07:20:38.755Z"
   },
   {
    "duration": 4,
    "start_time": "2022-04-28T07:21:08.748Z"
   },
   {
    "duration": 7,
    "start_time": "2022-04-28T07:21:38.102Z"
   },
   {
    "duration": 6,
    "start_time": "2022-04-28T07:22:10.549Z"
   },
   {
    "duration": 37,
    "start_time": "2022-04-28T07:22:20.443Z"
   },
   {
    "duration": 4,
    "start_time": "2022-04-28T07:22:59.333Z"
   },
   {
    "duration": 604,
    "start_time": "2022-04-28T07:23:01.937Z"
   },
   {
    "duration": 5,
    "start_time": "2022-04-28T07:23:34.510Z"
   },
   {
    "duration": 8,
    "start_time": "2022-04-28T07:25:01.842Z"
   },
   {
    "duration": 5,
    "start_time": "2022-04-28T07:25:02.840Z"
   },
   {
    "duration": 4,
    "start_time": "2022-04-28T07:25:25.894Z"
   },
   {
    "duration": 33,
    "start_time": "2022-04-28T07:25:34.524Z"
   },
   {
    "duration": 71,
    "start_time": "2022-04-28T07:25:55.850Z"
   },
   {
    "duration": 22,
    "start_time": "2022-04-28T07:25:57.201Z"
   },
   {
    "duration": 13,
    "start_time": "2022-04-28T07:26:00.739Z"
   },
   {
    "duration": 34,
    "start_time": "2022-04-28T07:26:02.639Z"
   },
   {
    "duration": 5,
    "start_time": "2022-04-28T07:26:05.318Z"
   },
   {
    "duration": 6,
    "start_time": "2022-04-28T07:26:07.334Z"
   },
   {
    "duration": 66,
    "start_time": "2022-04-28T07:26:08.418Z"
   },
   {
    "duration": 6,
    "start_time": "2022-04-28T07:26:11.012Z"
   },
   {
    "duration": 4,
    "start_time": "2022-04-28T07:26:15.720Z"
   },
   {
    "duration": 4,
    "start_time": "2022-04-28T07:26:17.550Z"
   },
   {
    "duration": 33,
    "start_time": "2022-04-28T07:26:21.819Z"
   },
   {
    "duration": 4,
    "start_time": "2022-04-28T07:26:33.370Z"
   },
   {
    "duration": 5,
    "start_time": "2022-04-28T07:26:34.862Z"
   },
   {
    "duration": 33,
    "start_time": "2022-04-28T07:26:36.559Z"
   },
   {
    "duration": 7,
    "start_time": "2022-04-28T07:27:00.591Z"
   },
   {
    "duration": 94,
    "start_time": "2022-04-28T07:27:23.625Z"
   },
   {
    "duration": 14,
    "start_time": "2022-04-28T07:27:31.389Z"
   },
   {
    "duration": 34,
    "start_time": "2022-04-28T07:27:43.435Z"
   },
   {
    "duration": 23,
    "start_time": "2022-04-28T07:28:05.648Z"
   },
   {
    "duration": 18,
    "start_time": "2022-04-28T07:28:11.626Z"
   },
   {
    "duration": 49,
    "start_time": "2022-04-28T07:28:15.680Z"
   },
   {
    "duration": 66,
    "start_time": "2022-04-28T07:28:17.842Z"
   },
   {
    "duration": 6,
    "start_time": "2022-04-28T07:28:40.690Z"
   },
   {
    "duration": 5,
    "start_time": "2022-04-28T07:28:45.197Z"
   },
   {
    "duration": 34,
    "start_time": "2022-04-28T07:29:09.712Z"
   },
   {
    "duration": 44,
    "start_time": "2022-04-30T16:17:30.190Z"
   },
   {
    "duration": 5,
    "start_time": "2022-04-30T17:08:02.028Z"
   },
   {
    "duration": 6,
    "start_time": "2022-04-30T17:25:45.285Z"
   },
   {
    "duration": 1373,
    "start_time": "2022-04-30T17:25:53.104Z"
   },
   {
    "duration": 26,
    "start_time": "2022-04-30T17:25:55.838Z"
   },
   {
    "duration": 18,
    "start_time": "2022-04-30T17:25:58.193Z"
   },
   {
    "duration": 32,
    "start_time": "2022-04-30T17:25:59.933Z"
   },
   {
    "duration": 8,
    "start_time": "2022-04-30T17:26:02.281Z"
   },
   {
    "duration": 67,
    "start_time": "2022-04-30T17:26:07.572Z"
   },
   {
    "duration": 4,
    "start_time": "2022-04-30T17:26:10.677Z"
   },
   {
    "duration": 4,
    "start_time": "2022-04-30T17:26:12.186Z"
   },
   {
    "duration": 4,
    "start_time": "2022-04-30T17:26:13.191Z"
   },
   {
    "duration": 5,
    "start_time": "2022-04-30T17:26:16.436Z"
   },
   {
    "duration": 3,
    "start_time": "2022-04-30T17:26:18.519Z"
   },
   {
    "duration": 3,
    "start_time": "2022-04-30T17:26:20.191Z"
   },
   {
    "duration": 5,
    "start_time": "2022-04-30T17:26:21.625Z"
   },
   {
    "duration": 5,
    "start_time": "2022-04-30T17:26:23.712Z"
   },
   {
    "duration": 5,
    "start_time": "2022-04-30T17:26:25.271Z"
   },
   {
    "duration": 28,
    "start_time": "2022-04-30T17:27:35.487Z"
   },
   {
    "duration": 12,
    "start_time": "2022-04-30T17:27:40.773Z"
   },
   {
    "duration": 4,
    "start_time": "2022-04-30T17:30:15.083Z"
   },
   {
    "duration": 4,
    "start_time": "2022-04-30T17:30:17.622Z"
   },
   {
    "duration": 4,
    "start_time": "2022-04-30T17:30:19.370Z"
   },
   {
    "duration": 3,
    "start_time": "2022-04-30T17:30:21.256Z"
   },
   {
    "duration": 13,
    "start_time": "2022-04-30T17:30:28.977Z"
   },
   {
    "duration": 72,
    "start_time": "2022-04-30T17:30:39.446Z"
   },
   {
    "duration": 9,
    "start_time": "2022-04-30T17:31:18.928Z"
   },
   {
    "duration": 7,
    "start_time": "2022-04-30T17:31:36.666Z"
   },
   {
    "duration": 5,
    "start_time": "2022-04-30T17:31:57.127Z"
   },
   {
    "duration": 5,
    "start_time": "2022-04-30T17:32:34.240Z"
   },
   {
    "duration": 8,
    "start_time": "2022-04-30T17:33:01.039Z"
   },
   {
    "duration": 161,
    "start_time": "2022-04-30T17:33:14.716Z"
   },
   {
    "duration": 32,
    "start_time": "2022-04-30T17:33:45.546Z"
   },
   {
    "duration": 7,
    "start_time": "2022-04-30T17:35:10.197Z"
   },
   {
    "duration": 7,
    "start_time": "2022-04-30T17:35:25.342Z"
   },
   {
    "duration": 4,
    "start_time": "2022-04-30T17:36:20.413Z"
   },
   {
    "duration": 5,
    "start_time": "2022-04-30T17:36:27.502Z"
   },
   {
    "duration": 13,
    "start_time": "2022-04-30T17:36:33.551Z"
   },
   {
    "duration": 9,
    "start_time": "2022-04-30T17:36:41.955Z"
   },
   {
    "duration": 363,
    "start_time": "2022-04-30T17:37:06.842Z"
   },
   {
    "duration": 4,
    "start_time": "2022-04-30T17:37:16.462Z"
   },
   {
    "duration": 29,
    "start_time": "2022-04-30T17:37:18.979Z"
   },
   {
    "duration": 5,
    "start_time": "2022-04-30T17:37:42.797Z"
   },
   {
    "duration": 4,
    "start_time": "2022-04-30T17:37:57.588Z"
   },
   {
    "duration": 5,
    "start_time": "2022-04-30T17:38:09.693Z"
   },
   {
    "duration": 13,
    "start_time": "2022-04-30T17:39:52.165Z"
   },
   {
    "duration": 31,
    "start_time": "2022-04-30T17:41:27.442Z"
   },
   {
    "duration": 12,
    "start_time": "2022-04-30T17:41:57.267Z"
   },
   {
    "duration": 4,
    "start_time": "2022-04-30T17:51:56.535Z"
   },
   {
    "duration": 6,
    "start_time": "2022-04-30T17:57:11.894Z"
   },
   {
    "duration": 6,
    "start_time": "2022-04-30T17:57:20.423Z"
   },
   {
    "duration": 17,
    "start_time": "2022-04-30T18:00:09.880Z"
   },
   {
    "duration": 10,
    "start_time": "2022-04-30T18:00:20.836Z"
   },
   {
    "duration": 20,
    "start_time": "2022-04-30T18:00:31.824Z"
   },
   {
    "duration": 9,
    "start_time": "2022-04-30T18:00:35.953Z"
   },
   {
    "duration": 6,
    "start_time": "2022-04-30T18:11:16.929Z"
   },
   {
    "duration": 8,
    "start_time": "2022-04-30T18:11:45.387Z"
   },
   {
    "duration": 6,
    "start_time": "2022-04-30T18:11:46.180Z"
   },
   {
    "duration": 8,
    "start_time": "2022-04-30T18:12:20.811Z"
   },
   {
    "duration": 4,
    "start_time": "2022-04-30T18:14:17.480Z"
   },
   {
    "duration": 7,
    "start_time": "2022-04-30T18:14:33.226Z"
   },
   {
    "duration": 33,
    "start_time": "2022-04-30T18:15:15.763Z"
   },
   {
    "duration": 4,
    "start_time": "2022-04-30T18:15:54.138Z"
   },
   {
    "duration": 6,
    "start_time": "2022-04-30T18:22:36.519Z"
   },
   {
    "duration": 9,
    "start_time": "2022-04-30T18:25:28.326Z"
   },
   {
    "duration": 7,
    "start_time": "2022-04-30T18:25:32.843Z"
   },
   {
    "duration": 8,
    "start_time": "2022-04-30T18:25:47.009Z"
   },
   {
    "duration": 5,
    "start_time": "2022-04-30T18:26:01.655Z"
   },
   {
    "duration": 8,
    "start_time": "2022-04-30T18:26:16.430Z"
   },
   {
    "duration": 5,
    "start_time": "2022-04-30T18:27:59.195Z"
   },
   {
    "duration": 11,
    "start_time": "2022-04-30T18:28:29.040Z"
   },
   {
    "duration": 10,
    "start_time": "2022-04-30T18:29:08.473Z"
   },
   {
    "duration": 13,
    "start_time": "2022-04-30T18:30:31.831Z"
   },
   {
    "duration": 11,
    "start_time": "2022-04-30T18:30:32.476Z"
   },
   {
    "duration": 11,
    "start_time": "2022-04-30T18:36:46.082Z"
   },
   {
    "duration": 1279,
    "start_time": "2022-04-30T18:40:13.889Z"
   },
   {
    "duration": 24,
    "start_time": "2022-04-30T18:40:16.921Z"
   },
   {
    "duration": 14,
    "start_time": "2022-04-30T18:40:18.334Z"
   },
   {
    "duration": 32,
    "start_time": "2022-04-30T18:40:19.712Z"
   },
   {
    "duration": 9,
    "start_time": "2022-04-30T18:40:22.211Z"
   },
   {
    "duration": 62,
    "start_time": "2022-04-30T18:40:23.532Z"
   },
   {
    "duration": 4,
    "start_time": "2022-04-30T18:40:26.375Z"
   },
   {
    "duration": 3,
    "start_time": "2022-04-30T18:40:27.344Z"
   },
   {
    "duration": 4,
    "start_time": "2022-04-30T18:40:27.977Z"
   },
   {
    "duration": 5,
    "start_time": "2022-04-30T18:40:29.852Z"
   },
   {
    "duration": 4,
    "start_time": "2022-04-30T18:40:30.535Z"
   },
   {
    "duration": 3,
    "start_time": "2022-04-30T18:40:31.169Z"
   },
   {
    "duration": 5,
    "start_time": "2022-04-30T18:40:31.808Z"
   },
   {
    "duration": 5,
    "start_time": "2022-04-30T18:40:37.411Z"
   },
   {
    "duration": 7,
    "start_time": "2022-04-30T18:40:39.800Z"
   },
   {
    "duration": 4,
    "start_time": "2022-04-30T18:40:41.257Z"
   },
   {
    "duration": 5,
    "start_time": "2022-04-30T18:40:44.023Z"
   },
   {
    "duration": 9,
    "start_time": "2022-04-30T18:40:45.207Z"
   },
   {
    "duration": 6,
    "start_time": "2022-04-30T18:40:46.104Z"
   },
   {
    "duration": 5,
    "start_time": "2022-04-30T18:40:47.968Z"
   },
   {
    "duration": 33,
    "start_time": "2022-04-30T18:40:49.500Z"
   },
   {
    "duration": 4,
    "start_time": "2022-04-30T18:40:53.358Z"
   },
   {
    "duration": 7,
    "start_time": "2022-04-30T18:40:55.802Z"
   },
   {
    "duration": 5,
    "start_time": "2022-04-30T18:40:58.118Z"
   },
   {
    "duration": 7,
    "start_time": "2022-04-30T18:41:02.427Z"
   },
   {
    "duration": 5,
    "start_time": "2022-04-30T18:41:04.091Z"
   },
   {
    "duration": 10,
    "start_time": "2022-04-30T18:41:05.445Z"
   },
   {
    "duration": 6,
    "start_time": "2022-04-30T18:41:06.607Z"
   },
   {
    "duration": 24,
    "start_time": "2022-04-30T18:41:49.039Z"
   },
   {
    "duration": 94,
    "start_time": "2022-04-30T18:51:33.485Z"
   },
   {
    "duration": 5,
    "start_time": "2022-04-30T19:04:00.023Z"
   },
   {
    "duration": 4,
    "start_time": "2022-04-30T19:04:54.476Z"
   },
   {
    "duration": 4,
    "start_time": "2022-04-30T19:05:10.526Z"
   },
   {
    "duration": 3,
    "start_time": "2022-04-30T19:06:50.525Z"
   },
   {
    "duration": 32,
    "start_time": "2022-04-30T19:07:06.912Z"
   },
   {
    "duration": 7,
    "start_time": "2022-04-30T19:08:34.925Z"
   },
   {
    "duration": 37,
    "start_time": "2022-04-30T19:08:41.615Z"
   },
   {
    "duration": 7,
    "start_time": "2022-04-30T19:09:06.763Z"
   },
   {
    "duration": 37,
    "start_time": "2022-04-30T19:09:07.996Z"
   },
   {
    "duration": 8,
    "start_time": "2022-04-30T19:09:32.890Z"
   },
   {
    "duration": 24,
    "start_time": "2022-04-30T19:09:34.287Z"
   },
   {
    "duration": 3355,
    "start_time": "2022-04-30T19:21:19.556Z"
   },
   {
    "duration": 3233,
    "start_time": "2022-04-30T19:21:32.507Z"
   },
   {
    "duration": 3234,
    "start_time": "2022-04-30T19:21:41.843Z"
   },
   {
    "duration": 34,
    "start_time": "2022-04-30T19:22:21.070Z"
   },
   {
    "duration": 31,
    "start_time": "2022-04-30T19:24:26.049Z"
   },
   {
    "duration": 31,
    "start_time": "2022-04-30T19:26:43.573Z"
   },
   {
    "duration": 8,
    "start_time": "2022-04-30T19:26:55.555Z"
   },
   {
    "duration": 195,
    "start_time": "2022-04-30T19:27:21.061Z"
   },
   {
    "duration": 7,
    "start_time": "2022-04-30T19:27:27.707Z"
   },
   {
    "duration": 9,
    "start_time": "2022-04-30T19:27:42.433Z"
   },
   {
    "duration": 29,
    "start_time": "2022-04-30T19:27:52.478Z"
   },
   {
    "duration": 3219,
    "start_time": "2022-04-30T19:28:14.065Z"
   },
   {
    "duration": 3,
    "start_time": "2022-04-30T19:28:25.514Z"
   },
   {
    "duration": 5,
    "start_time": "2022-04-30T19:28:29.145Z"
   },
   {
    "duration": 13,
    "start_time": "2022-04-30T19:28:42.205Z"
   },
   {
    "duration": 8,
    "start_time": "2022-04-30T19:36:09.073Z"
   },
   {
    "duration": 11,
    "start_time": "2022-04-30T19:36:13.264Z"
   },
   {
    "duration": 30,
    "start_time": "2022-04-30T19:41:27.260Z"
   },
   {
    "duration": 14,
    "start_time": "2022-04-30T19:42:14.413Z"
   },
   {
    "duration": 14,
    "start_time": "2022-04-30T19:42:34.919Z"
   },
   {
    "duration": 14,
    "start_time": "2022-04-30T19:42:42.023Z"
   },
   {
    "duration": 23,
    "start_time": "2022-04-30T19:42:53.942Z"
   },
   {
    "duration": 16,
    "start_time": "2022-04-30T19:43:01.227Z"
   },
   {
    "duration": 12,
    "start_time": "2022-04-30T19:43:35.141Z"
   },
   {
    "duration": 7,
    "start_time": "2022-04-30T19:44:03.064Z"
   },
   {
    "duration": 3209,
    "start_time": "2022-04-30T19:44:41.314Z"
   },
   {
    "duration": 12,
    "start_time": "2022-04-30T19:45:04.550Z"
   },
   {
    "duration": 3174,
    "start_time": "2022-04-30T19:45:16.178Z"
   },
   {
    "duration": 11,
    "start_time": "2022-04-30T19:45:32.805Z"
   },
   {
    "duration": 10,
    "start_time": "2022-04-30T19:45:46.765Z"
   },
   {
    "duration": 16,
    "start_time": "2022-04-30T19:45:56.766Z"
   },
   {
    "duration": 15,
    "start_time": "2022-04-30T19:46:22.665Z"
   },
   {
    "duration": 16,
    "start_time": "2022-04-30T19:46:32.099Z"
   },
   {
    "duration": 14,
    "start_time": "2022-04-30T19:46:39.943Z"
   },
   {
    "duration": 11,
    "start_time": "2022-04-30T19:46:44.770Z"
   },
   {
    "duration": 14,
    "start_time": "2022-04-30T19:46:56.662Z"
   },
   {
    "duration": 31,
    "start_time": "2022-04-30T19:47:12.320Z"
   },
   {
    "duration": 11,
    "start_time": "2022-04-30T19:47:25.744Z"
   },
   {
    "duration": 12,
    "start_time": "2022-04-30T19:47:33.502Z"
   },
   {
    "duration": 12,
    "start_time": "2022-04-30T19:47:36.310Z"
   },
   {
    "duration": 15,
    "start_time": "2022-04-30T19:47:46.657Z"
   },
   {
    "duration": 20,
    "start_time": "2022-04-30T19:47:47.843Z"
   },
   {
    "duration": 14,
    "start_time": "2022-04-30T19:48:28.553Z"
   },
   {
    "duration": 14,
    "start_time": "2022-04-30T19:48:48.502Z"
   },
   {
    "duration": 3007,
    "start_time": "2022-04-30T19:49:05.262Z"
   },
   {
    "duration": 15,
    "start_time": "2022-04-30T19:49:34.663Z"
   },
   {
    "duration": 31,
    "start_time": "2022-04-30T19:50:10.604Z"
   },
   {
    "duration": 28,
    "start_time": "2022-04-30T19:51:57.455Z"
   },
   {
    "duration": 13,
    "start_time": "2022-04-30T19:53:47.462Z"
   },
   {
    "duration": 11,
    "start_time": "2022-04-30T19:54:35.776Z"
   },
   {
    "duration": 11,
    "start_time": "2022-04-30T19:55:06.926Z"
   },
   {
    "duration": 100,
    "start_time": "2022-04-30T20:21:27.053Z"
   },
   {
    "duration": 10,
    "start_time": "2022-04-30T20:22:08.394Z"
   },
   {
    "duration": 87,
    "start_time": "2022-04-30T20:24:07.801Z"
   },
   {
    "duration": 81,
    "start_time": "2022-04-30T20:24:20.751Z"
   },
   {
    "duration": 14,
    "start_time": "2022-04-30T20:34:35.762Z"
   },
   {
    "duration": 308,
    "start_time": "2022-04-30T20:58:09.837Z"
   },
   {
    "duration": 387,
    "start_time": "2022-04-30T20:58:54.369Z"
   },
   {
    "duration": 325,
    "start_time": "2022-04-30T20:59:10.655Z"
   },
   {
    "duration": 368,
    "start_time": "2022-04-30T20:59:35.560Z"
   },
   {
    "duration": 331,
    "start_time": "2022-04-30T20:59:45.513Z"
   },
   {
    "duration": 392,
    "start_time": "2022-04-30T20:59:48.976Z"
   },
   {
    "duration": 326,
    "start_time": "2022-04-30T20:59:53.853Z"
   },
   {
    "duration": 360,
    "start_time": "2022-04-30T21:00:38.286Z"
   },
   {
    "duration": 304,
    "start_time": "2022-04-30T21:00:42.427Z"
   },
   {
    "duration": 2011,
    "start_time": "2022-04-30T21:02:11.865Z"
   },
   {
    "duration": 252,
    "start_time": "2022-04-30T21:03:24.001Z"
   },
   {
    "duration": 286,
    "start_time": "2022-04-30T21:05:04.659Z"
   },
   {
    "duration": 25,
    "start_time": "2022-04-30T21:07:06.712Z"
   },
   {
    "duration": 21,
    "start_time": "2022-04-30T21:11:58.357Z"
   },
   {
    "duration": 19,
    "start_time": "2022-04-30T21:12:02.478Z"
   },
   {
    "duration": 43,
    "start_time": "2022-05-01T20:35:16.035Z"
   },
   {
    "duration": 1386,
    "start_time": "2022-05-01T20:36:59.702Z"
   },
   {
    "duration": 113,
    "start_time": "2022-05-01T20:37:12.037Z"
   },
   {
    "duration": 312,
    "start_time": "2022-05-01T20:37:24.948Z"
   },
   {
    "duration": 119,
    "start_time": "2022-05-01T20:38:01.620Z"
   },
   {
    "duration": 125,
    "start_time": "2022-05-01T20:38:20.366Z"
   },
   {
    "duration": 119,
    "start_time": "2022-05-01T20:38:31.090Z"
   },
   {
    "duration": 9,
    "start_time": "2022-05-01T20:39:07.775Z"
   },
   {
    "duration": 60,
    "start_time": "2022-05-01T20:39:19.745Z"
   },
   {
    "duration": 8,
    "start_time": "2022-05-01T20:39:25.771Z"
   },
   {
    "duration": 5,
    "start_time": "2022-05-01T20:39:52.830Z"
   },
   {
    "duration": 13,
    "start_time": "2022-05-01T20:39:59.074Z"
   },
   {
    "duration": 8,
    "start_time": "2022-05-01T20:40:08.086Z"
   },
   {
    "duration": 124,
    "start_time": "2022-05-01T20:40:38.469Z"
   },
   {
    "duration": 118,
    "start_time": "2022-05-01T20:40:58.554Z"
   },
   {
    "duration": 135,
    "start_time": "2022-05-01T20:41:05.999Z"
   },
   {
    "duration": 107,
    "start_time": "2022-05-01T20:41:13.943Z"
   },
   {
    "duration": 176,
    "start_time": "2022-05-01T20:41:18.297Z"
   },
   {
    "duration": 121,
    "start_time": "2022-05-01T20:41:26.690Z"
   },
   {
    "duration": 239,
    "start_time": "2022-05-03T07:38:50.709Z"
   },
   {
    "duration": 94,
    "start_time": "2022-05-03T07:39:00.259Z"
   },
   {
    "duration": 1924,
    "start_time": "2022-05-03T07:39:07.727Z"
   },
   {
    "duration": 58,
    "start_time": "2022-05-03T07:39:09.654Z"
   },
   {
    "duration": 32,
    "start_time": "2022-05-03T07:39:11.517Z"
   },
   {
    "duration": 97,
    "start_time": "2022-05-03T07:39:12.844Z"
   },
   {
    "duration": 13,
    "start_time": "2022-05-03T07:39:17.306Z"
   },
   {
    "duration": 97,
    "start_time": "2022-05-03T07:39:18.840Z"
   },
   {
    "duration": 7,
    "start_time": "2022-05-03T07:39:21.647Z"
   },
   {
    "duration": 5,
    "start_time": "2022-05-03T07:39:22.478Z"
   },
   {
    "duration": 6,
    "start_time": "2022-05-03T07:39:23.339Z"
   },
   {
    "duration": 6,
    "start_time": "2022-05-03T07:39:24.575Z"
   },
   {
    "duration": 9,
    "start_time": "2022-05-03T07:39:25.395Z"
   },
   {
    "duration": 4,
    "start_time": "2022-05-03T07:39:26.236Z"
   },
   {
    "duration": 6,
    "start_time": "2022-05-03T07:39:26.963Z"
   },
   {
    "duration": 7,
    "start_time": "2022-05-03T07:39:28.317Z"
   },
   {
    "duration": 10,
    "start_time": "2022-05-03T07:39:29.048Z"
   },
   {
    "duration": 9,
    "start_time": "2022-05-03T07:39:29.803Z"
   },
   {
    "duration": 7,
    "start_time": "2022-05-03T07:39:31.285Z"
   },
   {
    "duration": 13,
    "start_time": "2022-05-03T07:39:31.976Z"
   },
   {
    "duration": 7,
    "start_time": "2022-05-03T07:39:34.053Z"
   },
   {
    "duration": 6,
    "start_time": "2022-05-03T07:39:35.721Z"
   },
   {
    "duration": 59,
    "start_time": "2022-05-03T07:39:37.487Z"
   },
   {
    "duration": 7,
    "start_time": "2022-05-03T07:39:40.365Z"
   },
   {
    "duration": 59,
    "start_time": "2022-05-03T07:39:43.399Z"
   },
   {
    "duration": 6,
    "start_time": "2022-05-03T07:39:48.418Z"
   },
   {
    "duration": 6,
    "start_time": "2022-05-03T07:39:49.214Z"
   },
   {
    "duration": 32,
    "start_time": "2022-05-03T07:40:03.768Z"
   },
   {
    "duration": 59,
    "start_time": "2022-05-03T07:40:20.026Z"
   },
   {
    "duration": 9,
    "start_time": "2022-05-03T07:40:51.110Z"
   },
   {
    "duration": 223,
    "start_time": "2022-05-03T07:42:02.022Z"
   },
   {
    "duration": 21,
    "start_time": "2022-05-03T07:42:22.935Z"
   },
   {
    "duration": 10,
    "start_time": "2022-05-03T07:42:24.839Z"
   },
   {
    "duration": 99,
    "start_time": "2022-05-03T07:42:58.533Z"
   },
   {
    "duration": 23,
    "start_time": "2022-05-03T07:44:08.611Z"
   },
   {
    "duration": 2161,
    "start_time": "2022-05-03T07:46:18.137Z"
   },
   {
    "duration": 57,
    "start_time": "2022-05-03T07:46:21.179Z"
   },
   {
    "duration": 22,
    "start_time": "2022-05-03T07:46:22.528Z"
   },
   {
    "duration": 68,
    "start_time": "2022-05-03T07:46:23.847Z"
   },
   {
    "duration": 14,
    "start_time": "2022-05-03T07:46:25.541Z"
   },
   {
    "duration": 104,
    "start_time": "2022-05-03T07:46:26.942Z"
   },
   {
    "duration": 8,
    "start_time": "2022-05-03T07:46:29.399Z"
   },
   {
    "duration": 5,
    "start_time": "2022-05-03T07:46:30.017Z"
   },
   {
    "duration": 6,
    "start_time": "2022-05-03T07:46:30.723Z"
   },
   {
    "duration": 7,
    "start_time": "2022-05-03T07:46:32.300Z"
   },
   {
    "duration": 5,
    "start_time": "2022-05-03T07:46:33.306Z"
   },
   {
    "duration": 6,
    "start_time": "2022-05-03T07:46:33.995Z"
   },
   {
    "duration": 7,
    "start_time": "2022-05-03T07:46:34.418Z"
   },
   {
    "duration": 9,
    "start_time": "2022-05-03T07:46:35.937Z"
   },
   {
    "duration": 12,
    "start_time": "2022-05-03T07:46:36.651Z"
   },
   {
    "duration": 8,
    "start_time": "2022-05-03T07:46:37.441Z"
   },
   {
    "duration": 7,
    "start_time": "2022-05-03T07:46:40.156Z"
   },
   {
    "duration": 16,
    "start_time": "2022-05-03T07:46:41.134Z"
   },
   {
    "duration": 10,
    "start_time": "2022-05-03T07:46:41.806Z"
   },
   {
    "duration": 6,
    "start_time": "2022-05-03T07:46:44.326Z"
   },
   {
    "duration": 60,
    "start_time": "2022-05-03T07:46:45.082Z"
   },
   {
    "duration": 9,
    "start_time": "2022-05-03T07:46:46.544Z"
   },
   {
    "duration": 62,
    "start_time": "2022-05-03T07:46:49.644Z"
   },
   {
    "duration": 5,
    "start_time": "2022-05-03T07:46:52.057Z"
   },
   {
    "duration": 5,
    "start_time": "2022-05-03T07:46:53.023Z"
   },
   {
    "duration": 6,
    "start_time": "2022-05-03T07:46:57.377Z"
   },
   {
    "duration": 8,
    "start_time": "2022-05-03T07:46:58.690Z"
   },
   {
    "duration": 7,
    "start_time": "2022-05-03T07:47:00.042Z"
   },
   {
    "duration": 24,
    "start_time": "2022-05-03T07:47:01.460Z"
   },
   {
    "duration": 40,
    "start_time": "2022-05-03T07:47:11.090Z"
   },
   {
    "duration": 10,
    "start_time": "2022-05-03T07:47:12.848Z"
   },
   {
    "duration": 8,
    "start_time": "2022-05-03T07:47:14.757Z"
   },
   {
    "duration": 17,
    "start_time": "2022-05-03T07:47:15.752Z"
   },
   {
    "duration": 9,
    "start_time": "2022-05-03T07:47:16.714Z"
   },
   {
    "duration": 12,
    "start_time": "2022-05-03T07:47:26.810Z"
   },
   {
    "duration": 26,
    "start_time": "2022-05-03T07:47:29.204Z"
   },
   {
    "duration": 13,
    "start_time": "2022-05-03T07:47:30.218Z"
   },
   {
    "duration": 30,
    "start_time": "2022-05-03T07:47:38.513Z"
   },
   {
    "duration": 49,
    "start_time": "2022-05-03T07:47:45.202Z"
   },
   {
    "duration": 54,
    "start_time": "2022-05-03T07:47:46.286Z"
   },
   {
    "duration": 1864,
    "start_time": "2022-05-03T07:50:20.265Z"
   },
   {
    "duration": 43,
    "start_time": "2022-05-03T07:50:22.743Z"
   },
   {
    "duration": 26,
    "start_time": "2022-05-03T07:50:23.987Z"
   },
   {
    "duration": 94,
    "start_time": "2022-05-03T07:50:25.351Z"
   },
   {
    "duration": 20,
    "start_time": "2022-05-03T07:50:27.615Z"
   },
   {
    "duration": 173,
    "start_time": "2022-05-03T07:50:28.946Z"
   },
   {
    "duration": 7,
    "start_time": "2022-05-03T07:50:32.677Z"
   },
   {
    "duration": 5,
    "start_time": "2022-05-03T07:50:33.358Z"
   },
   {
    "duration": 7,
    "start_time": "2022-05-03T07:50:33.850Z"
   },
   {
    "duration": 7,
    "start_time": "2022-05-03T07:50:35.059Z"
   },
   {
    "duration": 7,
    "start_time": "2022-05-03T07:50:35.708Z"
   },
   {
    "duration": 6,
    "start_time": "2022-05-03T07:50:36.213Z"
   },
   {
    "duration": 6,
    "start_time": "2022-05-03T07:50:37.038Z"
   },
   {
    "duration": 7,
    "start_time": "2022-05-03T07:50:38.469Z"
   },
   {
    "duration": 12,
    "start_time": "2022-05-03T07:50:39.287Z"
   },
   {
    "duration": 6,
    "start_time": "2022-05-03T07:50:39.669Z"
   },
   {
    "duration": 7,
    "start_time": "2022-05-03T07:50:40.874Z"
   },
   {
    "duration": 12,
    "start_time": "2022-05-03T07:50:41.444Z"
   },
   {
    "duration": 8,
    "start_time": "2022-05-03T07:50:41.866Z"
   },
   {
    "duration": 7,
    "start_time": "2022-05-03T07:50:43.343Z"
   },
   {
    "duration": 56,
    "start_time": "2022-05-03T07:50:44.324Z"
   },
   {
    "duration": 5,
    "start_time": "2022-05-03T07:50:45.718Z"
   },
   {
    "duration": 56,
    "start_time": "2022-05-03T07:50:48.117Z"
   },
   {
    "duration": 11,
    "start_time": "2022-05-03T07:50:49.701Z"
   },
   {
    "duration": 9,
    "start_time": "2022-05-03T07:50:51.039Z"
   },
   {
    "duration": 26,
    "start_time": "2022-05-03T07:50:52.757Z"
   },
   {
    "duration": 10,
    "start_time": "2022-05-03T07:50:55.683Z"
   },
   {
    "duration": 13,
    "start_time": "2022-05-03T07:51:00.717Z"
   },
   {
    "duration": 10,
    "start_time": "2022-05-03T07:51:01.806Z"
   },
   {
    "duration": 31,
    "start_time": "2022-05-03T07:51:04.529Z"
   },
   {
    "duration": 2332,
    "start_time": "2022-05-03T07:52:05.778Z"
   },
   {
    "duration": 65,
    "start_time": "2022-05-03T07:52:08.619Z"
   },
   {
    "duration": 35,
    "start_time": "2022-05-03T07:52:10.006Z"
   },
   {
    "duration": 63,
    "start_time": "2022-05-03T07:52:11.597Z"
   },
   {
    "duration": 12,
    "start_time": "2022-05-03T07:52:13.442Z"
   },
   {
    "duration": 115,
    "start_time": "2022-05-03T07:52:14.578Z"
   },
   {
    "duration": 8,
    "start_time": "2022-05-03T07:52:17.317Z"
   },
   {
    "duration": 5,
    "start_time": "2022-05-03T07:52:18.059Z"
   },
   {
    "duration": 7,
    "start_time": "2022-05-03T07:52:18.782Z"
   },
   {
    "duration": 14,
    "start_time": "2022-05-03T07:52:19.993Z"
   },
   {
    "duration": 8,
    "start_time": "2022-05-03T07:52:20.657Z"
   },
   {
    "duration": 6,
    "start_time": "2022-05-03T07:52:21.153Z"
   },
   {
    "duration": 7,
    "start_time": "2022-05-03T07:52:21.573Z"
   },
   {
    "duration": 7,
    "start_time": "2022-05-03T07:52:22.719Z"
   },
   {
    "duration": 13,
    "start_time": "2022-05-03T07:52:23.803Z"
   },
   {
    "duration": 7,
    "start_time": "2022-05-03T07:52:24.181Z"
   },
   {
    "duration": 10,
    "start_time": "2022-05-03T07:52:25.570Z"
   },
   {
    "duration": 16,
    "start_time": "2022-05-03T07:52:26.132Z"
   },
   {
    "duration": 8,
    "start_time": "2022-05-03T07:52:26.557Z"
   },
   {
    "duration": 7,
    "start_time": "2022-05-03T07:52:31.712Z"
   },
   {
    "duration": 57,
    "start_time": "2022-05-03T07:52:32.324Z"
   },
   {
    "duration": 7,
    "start_time": "2022-05-03T07:52:34.118Z"
   },
   {
    "duration": 102,
    "start_time": "2022-05-03T07:52:35.567Z"
   },
   {
    "duration": 7,
    "start_time": "2022-05-03T07:52:36.956Z"
   },
   {
    "duration": 8,
    "start_time": "2022-05-03T07:52:38.585Z"
   },
   {
    "duration": 25,
    "start_time": "2022-05-03T07:52:40.905Z"
   },
   {
    "duration": 9,
    "start_time": "2022-05-03T07:52:43.982Z"
   },
   {
    "duration": 21,
    "start_time": "2022-05-03T07:52:52.430Z"
   },
   {
    "duration": 9,
    "start_time": "2022-05-03T07:52:53.963Z"
   },
   {
    "duration": 16,
    "start_time": "2022-05-03T07:52:54.997Z"
   },
   {
    "duration": 13,
    "start_time": "2022-05-03T07:52:55.896Z"
   },
   {
    "duration": 24,
    "start_time": "2022-05-03T07:52:57.824Z"
   },
   {
    "duration": 1616,
    "start_time": "2022-05-03T07:55:57.007Z"
   },
   {
    "duration": 42,
    "start_time": "2022-05-03T07:55:59.109Z"
   },
   {
    "duration": 33,
    "start_time": "2022-05-03T07:56:00.391Z"
   },
   {
    "duration": 66,
    "start_time": "2022-05-03T07:56:01.658Z"
   },
   {
    "duration": 19,
    "start_time": "2022-05-03T07:56:03.425Z"
   },
   {
    "duration": 95,
    "start_time": "2022-05-03T07:56:04.917Z"
   },
   {
    "duration": 7,
    "start_time": "2022-05-03T07:56:07.306Z"
   },
   {
    "duration": 5,
    "start_time": "2022-05-03T07:56:08.010Z"
   },
   {
    "duration": 6,
    "start_time": "2022-05-03T07:56:08.459Z"
   },
   {
    "duration": 6,
    "start_time": "2022-05-03T07:56:09.781Z"
   },
   {
    "duration": 6,
    "start_time": "2022-05-03T07:56:10.429Z"
   },
   {
    "duration": 5,
    "start_time": "2022-05-03T07:56:10.875Z"
   },
   {
    "duration": 8,
    "start_time": "2022-05-03T07:56:11.279Z"
   },
   {
    "duration": 7,
    "start_time": "2022-05-03T07:56:12.706Z"
   },
   {
    "duration": 9,
    "start_time": "2022-05-03T07:56:13.518Z"
   },
   {
    "duration": 8,
    "start_time": "2022-05-03T07:56:14.292Z"
   },
   {
    "duration": 8,
    "start_time": "2022-05-03T07:56:15.658Z"
   },
   {
    "duration": 13,
    "start_time": "2022-05-03T07:56:16.439Z"
   },
   {
    "duration": 9,
    "start_time": "2022-05-03T07:56:17.114Z"
   },
   {
    "duration": 9,
    "start_time": "2022-05-03T07:56:19.689Z"
   },
   {
    "duration": 84,
    "start_time": "2022-05-03T07:56:20.439Z"
   },
   {
    "duration": 6,
    "start_time": "2022-05-03T07:56:23.595Z"
   },
   {
    "duration": 5,
    "start_time": "2022-05-03T07:56:34.460Z"
   },
   {
    "duration": 62,
    "start_time": "2022-05-03T07:56:38.070Z"
   },
   {
    "duration": 6,
    "start_time": "2022-05-03T07:56:39.841Z"
   },
   {
    "duration": 6,
    "start_time": "2022-05-03T07:56:41.132Z"
   },
   {
    "duration": 9,
    "start_time": "2022-05-03T07:56:43.062Z"
   },
   {
    "duration": 21,
    "start_time": "2022-05-03T07:56:45.740Z"
   },
   {
    "duration": 9,
    "start_time": "2022-05-03T07:56:46.551Z"
   },
   {
    "duration": 9,
    "start_time": "2022-05-03T07:56:48.330Z"
   },
   {
    "duration": 10,
    "start_time": "2022-05-03T07:56:49.050Z"
   },
   {
    "duration": 7,
    "start_time": "2022-05-03T07:56:51.652Z"
   },
   {
    "duration": 7,
    "start_time": "2022-05-03T07:56:52.851Z"
   },
   {
    "duration": 6,
    "start_time": "2022-05-03T07:56:54.214Z"
   },
   {
    "duration": 23,
    "start_time": "2022-05-03T07:56:55.651Z"
   },
   {
    "duration": 10,
    "start_time": "2022-05-03T07:56:58.255Z"
   },
   {
    "duration": 13,
    "start_time": "2022-05-03T07:57:05.101Z"
   },
   {
    "duration": 7,
    "start_time": "2022-05-03T07:57:06.556Z"
   },
   {
    "duration": 41,
    "start_time": "2022-05-03T07:57:25.341Z"
   },
   {
    "duration": 21,
    "start_time": "2022-05-03T07:57:28.313Z"
   },
   {
    "duration": 12,
    "start_time": "2022-05-03T07:58:23.627Z"
   },
   {
    "duration": 17,
    "start_time": "2022-05-03T07:58:26.408Z"
   },
   {
    "duration": 20,
    "start_time": "2022-05-03T07:58:29.026Z"
   },
   {
    "duration": 6,
    "start_time": "2022-05-03T07:58:32.724Z"
   },
   {
    "duration": 29,
    "start_time": "2022-05-03T07:58:55.425Z"
   },
   {
    "duration": 11,
    "start_time": "2022-05-03T07:58:57.220Z"
   },
   {
    "duration": 8,
    "start_time": "2022-05-03T07:58:58.711Z"
   },
   {
    "duration": 17,
    "start_time": "2022-05-03T07:58:59.635Z"
   },
   {
    "duration": 9,
    "start_time": "2022-05-03T07:59:00.424Z"
   },
   {
    "duration": 32,
    "start_time": "2022-05-03T07:59:01.902Z"
   },
   {
    "duration": 6,
    "start_time": "2022-05-03T07:59:07.881Z"
   },
   {
    "duration": 39,
    "start_time": "2022-05-03T07:59:08.953Z"
   },
   {
    "duration": 16,
    "start_time": "2022-05-03T07:59:10.759Z"
   },
   {
    "duration": 39,
    "start_time": "2022-05-03T07:59:12.148Z"
   },
   {
    "duration": 541,
    "start_time": "2022-05-03T07:59:15.182Z"
   },
   {
    "duration": 36,
    "start_time": "2022-05-03T07:59:17.497Z"
   },
   {
    "duration": 7,
    "start_time": "2022-05-03T07:59:25.460Z"
   },
   {
    "duration": 33,
    "start_time": "2022-05-03T07:59:26.814Z"
   },
   {
    "duration": 190,
    "start_time": "2022-05-03T07:59:39.972Z"
   },
   {
    "duration": 608,
    "start_time": "2022-05-03T07:59:42.933Z"
   },
   {
    "duration": 14,
    "start_time": "2022-05-03T08:01:00.480Z"
   },
   {
    "duration": 179,
    "start_time": "2022-05-03T08:01:52.246Z"
   },
   {
    "duration": 13,
    "start_time": "2022-05-03T08:02:02.616Z"
   },
   {
    "duration": 10,
    "start_time": "2022-05-03T08:11:34.161Z"
   },
   {
    "duration": 12,
    "start_time": "2022-05-03T08:51:22.288Z"
   },
   {
    "duration": 1783,
    "start_time": "2022-05-03T08:51:36.518Z"
   },
   {
    "duration": 49,
    "start_time": "2022-05-03T08:51:38.734Z"
   },
   {
    "duration": 34,
    "start_time": "2022-05-03T08:51:39.729Z"
   },
   {
    "duration": 59,
    "start_time": "2022-05-03T08:51:41.310Z"
   },
   {
    "duration": 21,
    "start_time": "2022-05-03T08:51:42.776Z"
   },
   {
    "duration": 157,
    "start_time": "2022-05-03T08:51:44.147Z"
   },
   {
    "duration": 13,
    "start_time": "2022-05-03T08:51:46.382Z"
   },
   {
    "duration": 6,
    "start_time": "2022-05-03T08:51:47.005Z"
   },
   {
    "duration": 16,
    "start_time": "2022-05-03T08:51:47.676Z"
   },
   {
    "duration": 7,
    "start_time": "2022-05-03T08:51:49.617Z"
   },
   {
    "duration": 6,
    "start_time": "2022-05-03T08:51:50.164Z"
   },
   {
    "duration": 5,
    "start_time": "2022-05-03T08:51:50.686Z"
   },
   {
    "duration": 8,
    "start_time": "2022-05-03T08:51:51.198Z"
   },
   {
    "duration": 7,
    "start_time": "2022-05-03T08:51:52.275Z"
   },
   {
    "duration": 10,
    "start_time": "2022-05-03T08:51:53.004Z"
   },
   {
    "duration": 7,
    "start_time": "2022-05-03T08:51:53.605Z"
   },
   {
    "duration": 7,
    "start_time": "2022-05-03T08:51:55.027Z"
   },
   {
    "duration": 19,
    "start_time": "2022-05-03T08:51:55.745Z"
   },
   {
    "duration": 11,
    "start_time": "2022-05-03T08:51:56.240Z"
   },
   {
    "duration": 9,
    "start_time": "2022-05-03T08:51:57.548Z"
   },
   {
    "duration": 65,
    "start_time": "2022-05-03T08:51:58.149Z"
   },
   {
    "duration": 7,
    "start_time": "2022-05-03T08:51:59.509Z"
   },
   {
    "duration": 63,
    "start_time": "2022-05-03T08:52:00.952Z"
   },
   {
    "duration": 6,
    "start_time": "2022-05-03T08:52:02.512Z"
   },
   {
    "duration": 8,
    "start_time": "2022-05-03T08:52:03.098Z"
   },
   {
    "duration": 17,
    "start_time": "2022-05-03T08:52:05.605Z"
   },
   {
    "duration": 37,
    "start_time": "2022-05-03T08:52:07.852Z"
   },
   {
    "duration": 182,
    "start_time": "2022-05-03T08:52:08.767Z"
   },
   {
    "duration": 693,
    "start_time": "2022-05-03T08:52:26.875Z"
   },
   {
    "duration": 15,
    "start_time": "2022-05-03T08:52:29.390Z"
   },
   {
    "duration": 8,
    "start_time": "2022-05-03T08:53:00.719Z"
   },
   {
    "duration": 37,
    "start_time": "2022-05-03T08:53:57.752Z"
   },
   {
    "duration": 19,
    "start_time": "2022-05-03T11:41:38.663Z"
   },
   {
    "duration": 9,
    "start_time": "2022-05-03T11:41:47.817Z"
   },
   {
    "duration": 10,
    "start_time": "2022-05-03T11:41:49.762Z"
   },
   {
    "duration": 21,
    "start_time": "2022-05-03T11:41:50.566Z"
   },
   {
    "duration": 31,
    "start_time": "2022-05-03T11:41:56.314Z"
   },
   {
    "duration": 10,
    "start_time": "2022-05-03T11:41:57.541Z"
   },
   {
    "duration": 8,
    "start_time": "2022-05-03T11:41:59.755Z"
   },
   {
    "duration": 17,
    "start_time": "2022-05-03T11:42:00.866Z"
   },
   {
    "duration": 8,
    "start_time": "2022-05-03T11:42:01.752Z"
   },
   {
    "duration": 6,
    "start_time": "2022-05-03T11:42:04.103Z"
   },
   {
    "duration": 38,
    "start_time": "2022-05-03T11:42:04.786Z"
   },
   {
    "duration": 16,
    "start_time": "2022-05-03T11:42:06.252Z"
   },
   {
    "duration": 35,
    "start_time": "2022-05-03T11:42:07.621Z"
   },
   {
    "duration": 512,
    "start_time": "2022-05-03T11:42:08.684Z"
   },
   {
    "duration": 33,
    "start_time": "2022-05-03T11:42:10.349Z"
   },
   {
    "duration": 8,
    "start_time": "2022-05-03T11:42:12.319Z"
   },
   {
    "duration": 39,
    "start_time": "2022-05-03T11:42:13.469Z"
   },
   {
    "duration": 180,
    "start_time": "2022-05-03T11:42:16.177Z"
   },
   {
    "duration": 413,
    "start_time": "2022-05-03T11:42:49.204Z"
   },
   {
    "duration": 240,
    "start_time": "2022-05-03T11:43:01.911Z"
   },
   {
    "duration": 401,
    "start_time": "2022-05-03T11:48:49.571Z"
   },
   {
    "duration": 330,
    "start_time": "2022-05-03T11:49:43.310Z"
   },
   {
    "duration": 499,
    "start_time": "2022-05-03T11:49:59.309Z"
   },
   {
    "duration": 405,
    "start_time": "2022-05-03T11:50:26.931Z"
   },
   {
    "duration": 337,
    "start_time": "2022-05-03T11:50:40.538Z"
   },
   {
    "duration": 403,
    "start_time": "2022-05-03T11:51:00.238Z"
   },
   {
    "duration": 300,
    "start_time": "2022-05-03T11:51:11.887Z"
   },
   {
    "duration": 510,
    "start_time": "2022-05-03T11:51:22.366Z"
   },
   {
    "duration": 363,
    "start_time": "2022-05-03T11:53:18.757Z"
   },
   {
    "duration": 416,
    "start_time": "2022-05-03T11:53:34.003Z"
   },
   {
    "duration": 415,
    "start_time": "2022-05-03T11:53:49.136Z"
   },
   {
    "duration": 397,
    "start_time": "2022-05-03T11:53:56.134Z"
   },
   {
    "duration": 193,
    "start_time": "2022-05-03T11:54:05.644Z"
   },
   {
    "duration": 238,
    "start_time": "2022-05-03T11:57:15.363Z"
   },
   {
    "duration": 225,
    "start_time": "2022-05-03T12:13:12.600Z"
   },
   {
    "duration": 14,
    "start_time": "2022-05-03T12:14:28.208Z"
   },
   {
    "duration": 167,
    "start_time": "2022-05-03T12:14:47.653Z"
   },
   {
    "duration": 258,
    "start_time": "2022-05-03T12:16:18.556Z"
   },
   {
    "duration": 182,
    "start_time": "2022-05-03T12:16:37.886Z"
   },
   {
    "duration": 185,
    "start_time": "2022-05-03T12:17:05.569Z"
   },
   {
    "duration": 183,
    "start_time": "2022-05-03T12:17:29.371Z"
   },
   {
    "duration": 12,
    "start_time": "2022-05-03T12:18:12.992Z"
   },
   {
    "duration": 303,
    "start_time": "2022-05-03T12:50:06.921Z"
   },
   {
    "duration": 204,
    "start_time": "2022-05-03T13:13:29.155Z"
   },
   {
    "duration": 33,
    "start_time": "2022-05-03T13:13:34.270Z"
   },
   {
    "duration": 13,
    "start_time": "2022-05-03T13:14:10.571Z"
   },
   {
    "duration": 11,
    "start_time": "2022-05-03T13:16:50.471Z"
   },
   {
    "duration": 15,
    "start_time": "2022-05-03T13:16:56.675Z"
   },
   {
    "duration": 253,
    "start_time": "2022-05-03T13:17:34.470Z"
   },
   {
    "duration": 15,
    "start_time": "2022-05-03T13:18:03.783Z"
   },
   {
    "duration": 279,
    "start_time": "2022-05-03T13:18:04.686Z"
   },
   {
    "duration": 156,
    "start_time": "2022-05-03T13:18:24.455Z"
   },
   {
    "duration": 180,
    "start_time": "2022-05-03T13:18:52.168Z"
   },
   {
    "duration": 281,
    "start_time": "2022-05-03T13:19:03.999Z"
   },
   {
    "duration": 171,
    "start_time": "2022-05-03T13:19:17.386Z"
   },
   {
    "duration": 647,
    "start_time": "2022-05-03T13:20:14.890Z"
   },
   {
    "duration": 241,
    "start_time": "2022-05-03T13:23:18.127Z"
   },
   {
    "duration": 277,
    "start_time": "2022-05-03T13:35:42.477Z"
   },
   {
    "duration": 14,
    "start_time": "2022-05-03T13:35:46.375Z"
   },
   {
    "duration": 262,
    "start_time": "2022-05-03T13:35:47.188Z"
   },
   {
    "duration": 614,
    "start_time": "2022-05-03T13:36:14.318Z"
   },
   {
    "duration": 204,
    "start_time": "2022-05-03T13:39:10.546Z"
   },
   {
    "duration": 192,
    "start_time": "2022-05-03T13:42:57.840Z"
   },
   {
    "duration": 267,
    "start_time": "2022-05-03T13:43:17.439Z"
   },
   {
    "duration": 11,
    "start_time": "2022-05-03T13:43:46.303Z"
   },
   {
    "duration": 127,
    "start_time": "2022-05-03T13:45:32.238Z"
   },
   {
    "duration": 133,
    "start_time": "2022-05-03T13:45:49.700Z"
   },
   {
    "duration": 127,
    "start_time": "2022-05-03T13:45:56.652Z"
   },
   {
    "duration": 125,
    "start_time": "2022-05-03T13:46:58.502Z"
   },
   {
    "duration": 547,
    "start_time": "2022-05-03T13:47:45.962Z"
   },
   {
    "duration": 12,
    "start_time": "2022-05-03T13:48:52.323Z"
   },
   {
    "duration": 14,
    "start_time": "2022-05-03T13:49:03.166Z"
   },
   {
    "duration": 12,
    "start_time": "2022-05-03T13:50:56.076Z"
   },
   {
    "duration": 13,
    "start_time": "2022-05-03T13:51:27.236Z"
   },
   {
    "duration": 12,
    "start_time": "2022-05-03T13:52:24.962Z"
   },
   {
    "duration": 474,
    "start_time": "2022-05-03T13:52:57.253Z"
   },
   {
    "duration": 182,
    "start_time": "2022-05-03T13:56:44.680Z"
   },
   {
    "duration": 123,
    "start_time": "2022-05-03T13:56:51.648Z"
   },
   {
    "duration": 140,
    "start_time": "2022-05-03T13:56:59.162Z"
   },
   {
    "duration": 34,
    "start_time": "2022-05-03T14:09:26.363Z"
   },
   {
    "duration": 33,
    "start_time": "2022-05-03T14:11:18.563Z"
   },
   {
    "duration": 32,
    "start_time": "2022-05-03T14:11:53.891Z"
   },
   {
    "duration": 15,
    "start_time": "2022-05-03T14:14:57.517Z"
   },
   {
    "duration": 274,
    "start_time": "2022-05-03T14:15:17.601Z"
   },
   {
    "duration": 270,
    "start_time": "2022-05-03T14:15:43.790Z"
   },
   {
    "duration": 15,
    "start_time": "2022-05-03T14:17:55.981Z"
   },
   {
    "duration": 294,
    "start_time": "2022-05-03T14:17:56.758Z"
   },
   {
    "duration": 186,
    "start_time": "2022-05-03T14:21:35.055Z"
   },
   {
    "duration": 13,
    "start_time": "2022-05-03T14:21:50.397Z"
   },
   {
    "duration": 268,
    "start_time": "2022-05-03T14:21:51.192Z"
   },
   {
    "duration": 276,
    "start_time": "2022-05-03T14:21:53.517Z"
   },
   {
    "duration": 153,
    "start_time": "2022-05-03T14:23:36.649Z"
   },
   {
    "duration": 275,
    "start_time": "2022-05-03T14:23:42.750Z"
   },
   {
    "duration": 14,
    "start_time": "2022-05-03T14:23:58.617Z"
   },
   {
    "duration": 257,
    "start_time": "2022-05-03T14:23:59.149Z"
   },
   {
    "duration": 212,
    "start_time": "2022-05-03T14:24:42.851Z"
   },
   {
    "duration": 146,
    "start_time": "2022-05-03T14:24:57.055Z"
   },
   {
    "duration": 196,
    "start_time": "2022-05-03T14:26:06.699Z"
   },
   {
    "duration": 204,
    "start_time": "2022-05-03T14:26:16.471Z"
   },
   {
    "duration": 169,
    "start_time": "2022-05-03T14:27:50.944Z"
   },
   {
    "duration": 220,
    "start_time": "2022-05-03T14:28:01.899Z"
   },
   {
    "duration": 133,
    "start_time": "2022-05-03T14:28:09.090Z"
   },
   {
    "duration": 291,
    "start_time": "2022-05-03T14:28:27.921Z"
   },
   {
    "duration": 228,
    "start_time": "2022-05-03T14:28:37.239Z"
   },
   {
    "duration": 245,
    "start_time": "2022-05-03T14:28:44.516Z"
   },
   {
    "duration": 213,
    "start_time": "2022-05-03T14:28:49.929Z"
   },
   {
    "duration": 174,
    "start_time": "2022-05-03T14:30:05.549Z"
   },
   {
    "duration": 13,
    "start_time": "2022-05-03T14:35:26.519Z"
   },
   {
    "duration": 326,
    "start_time": "2022-05-03T14:35:49.426Z"
   },
   {
    "duration": 227,
    "start_time": "2022-05-03T14:36:08.493Z"
   },
   {
    "duration": 198,
    "start_time": "2022-05-03T14:36:21.245Z"
   },
   {
    "duration": 198,
    "start_time": "2022-05-03T14:36:27.710Z"
   },
   {
    "duration": 197,
    "start_time": "2022-05-03T14:36:35.354Z"
   },
   {
    "duration": 274,
    "start_time": "2022-05-03T14:38:13.365Z"
   },
   {
    "duration": 175,
    "start_time": "2022-05-03T14:38:19.162Z"
   },
   {
    "duration": 273,
    "start_time": "2022-05-03T14:38:43.788Z"
   },
   {
    "duration": 170,
    "start_time": "2022-05-03T14:39:41.534Z"
   },
   {
    "duration": 161,
    "start_time": "2022-05-03T14:39:45.248Z"
   },
   {
    "duration": 159,
    "start_time": "2022-05-03T14:40:01.398Z"
   },
   {
    "duration": 164,
    "start_time": "2022-05-03T14:40:36.191Z"
   },
   {
    "duration": 180,
    "start_time": "2022-05-03T14:43:23.173Z"
   },
   {
    "duration": 271,
    "start_time": "2022-05-03T14:43:30.948Z"
   },
   {
    "duration": 16,
    "start_time": "2022-05-03T14:57:51.442Z"
   },
   {
    "duration": 428,
    "start_time": "2022-05-03T14:58:04.290Z"
   },
   {
    "duration": 254,
    "start_time": "2022-05-03T14:58:23.845Z"
   },
   {
    "duration": 204,
    "start_time": "2022-05-03T14:58:28.711Z"
   },
   {
    "duration": 219,
    "start_time": "2022-05-03T14:58:33.587Z"
   },
   {
    "duration": 16,
    "start_time": "2022-05-03T15:03:18.205Z"
   },
   {
    "duration": 118,
    "start_time": "2022-05-03T15:05:36.719Z"
   },
   {
    "duration": 13,
    "start_time": "2022-05-03T15:06:05.937Z"
   },
   {
    "duration": 111,
    "start_time": "2022-05-03T15:06:16.213Z"
   },
   {
    "duration": 157,
    "start_time": "2022-05-03T15:06:39.715Z"
   },
   {
    "duration": 168,
    "start_time": "2022-05-03T15:07:17.686Z"
   },
   {
    "duration": 162,
    "start_time": "2022-05-03T15:07:39.825Z"
   },
   {
    "duration": 18,
    "start_time": "2022-05-03T15:08:26.374Z"
   },
   {
    "duration": 290,
    "start_time": "2022-05-03T15:08:51.555Z"
   },
   {
    "duration": 263,
    "start_time": "2022-05-03T15:09:03.003Z"
   },
   {
    "duration": 202,
    "start_time": "2022-05-03T15:09:16.732Z"
   },
   {
    "duration": 281,
    "start_time": "2022-05-03T15:09:21.352Z"
   },
   {
    "duration": 261,
    "start_time": "2022-05-03T15:09:32.817Z"
   },
   {
    "duration": 385,
    "start_time": "2022-05-03T15:09:37.312Z"
   },
   {
    "duration": 338,
    "start_time": "2022-05-03T15:09:50.055Z"
   },
   {
    "duration": 375,
    "start_time": "2022-05-03T15:10:05.007Z"
   },
   {
    "duration": 14,
    "start_time": "2022-05-03T15:11:02.731Z"
   },
   {
    "duration": 417,
    "start_time": "2022-05-03T15:11:17.563Z"
   },
   {
    "duration": 282,
    "start_time": "2022-05-03T15:11:31.341Z"
   },
   {
    "duration": 616,
    "start_time": "2022-05-03T15:11:44.717Z"
   },
   {
    "duration": 15,
    "start_time": "2022-05-03T15:13:05.965Z"
   },
   {
    "duration": 399,
    "start_time": "2022-05-03T15:13:06.759Z"
   },
   {
    "duration": 493,
    "start_time": "2022-05-03T15:13:12.348Z"
   },
   {
    "duration": 136,
    "start_time": "2022-05-03T15:15:13.749Z"
   },
   {
    "duration": 1047,
    "start_time": "2022-05-03T15:20:11.103Z"
   },
   {
    "duration": 235,
    "start_time": "2022-05-03T15:20:37.760Z"
   },
   {
    "duration": 219,
    "start_time": "2022-05-03T15:20:54.454Z"
   },
   {
    "duration": 217,
    "start_time": "2022-05-03T15:24:22.107Z"
   },
   {
    "duration": 210,
    "start_time": "2022-05-03T15:25:20.654Z"
   },
   {
    "duration": 5,
    "start_time": "2022-05-03T15:25:31.727Z"
   },
   {
    "duration": 6,
    "start_time": "2022-05-03T15:25:42.363Z"
   },
   {
    "duration": 8,
    "start_time": "2022-05-03T15:26:21.795Z"
   },
   {
    "duration": 12,
    "start_time": "2022-05-03T15:26:34.535Z"
   },
   {
    "duration": 6,
    "start_time": "2022-05-03T15:26:53.254Z"
   },
   {
    "duration": 7,
    "start_time": "2022-05-03T15:27:48.805Z"
   },
   {
    "duration": 288,
    "start_time": "2022-05-03T15:28:39.295Z"
   },
   {
    "duration": 484,
    "start_time": "2022-05-03T15:28:53.360Z"
   },
   {
    "duration": 280,
    "start_time": "2022-05-03T15:29:01.494Z"
   },
   {
    "duration": 464,
    "start_time": "2022-05-03T15:29:16.785Z"
   },
   {
    "duration": 48,
    "start_time": "2022-05-03T15:30:37.762Z"
   },
   {
    "duration": 4,
    "start_time": "2022-05-03T15:30:49.522Z"
   },
   {
    "duration": 17,
    "start_time": "2022-05-03T15:30:50.068Z"
   },
   {
    "duration": 266,
    "start_time": "2022-05-03T15:30:59.281Z"
   },
   {
    "duration": 4,
    "start_time": "2022-05-03T15:31:50.401Z"
   },
   {
    "duration": 14,
    "start_time": "2022-05-03T15:31:52.421Z"
   },
   {
    "duration": 429,
    "start_time": "2022-05-03T15:31:53.073Z"
   },
   {
    "duration": 328,
    "start_time": "2022-05-03T15:32:13.682Z"
   },
   {
    "duration": 308,
    "start_time": "2022-05-03T15:32:33.300Z"
   },
   {
    "duration": 448,
    "start_time": "2022-05-03T15:32:45.291Z"
   },
   {
    "duration": 4,
    "start_time": "2022-05-03T15:33:25.547Z"
   },
   {
    "duration": 12,
    "start_time": "2022-05-03T15:33:26.186Z"
   },
   {
    "duration": 271,
    "start_time": "2022-05-03T15:33:27.022Z"
   },
   {
    "duration": 12,
    "start_time": "2022-05-03T15:33:47.054Z"
   },
   {
    "duration": 1016,
    "start_time": "2022-05-03T17:40:16.629Z"
   },
   {
    "duration": 16,
    "start_time": "2022-05-03T17:40:53.433Z"
   },
   {
    "duration": 130,
    "start_time": "2022-05-03T17:41:05.376Z"
   },
   {
    "duration": 13,
    "start_time": "2022-05-03T17:42:06.594Z"
   },
   {
    "duration": 128,
    "start_time": "2022-05-03T17:42:13.651Z"
   },
   {
    "duration": 23,
    "start_time": "2022-05-03T17:43:14.575Z"
   },
   {
    "duration": 25,
    "start_time": "2022-05-03T17:43:29.325Z"
   },
   {
    "duration": 22,
    "start_time": "2022-05-03T17:43:46.730Z"
   },
   {
    "duration": 39,
    "start_time": "2022-05-03T17:43:53.727Z"
   },
   {
    "duration": 39,
    "start_time": "2022-05-03T17:52:31.249Z"
   },
   {
    "duration": 27,
    "start_time": "2022-05-03T17:52:50.883Z"
   },
   {
    "duration": 464,
    "start_time": "2022-05-03T17:53:17.941Z"
   },
   {
    "duration": 12,
    "start_time": "2022-05-03T17:55:31.951Z"
   },
   {
    "duration": 3189,
    "start_time": "2022-05-03T17:55:38.810Z"
   },
   {
    "duration": 250,
    "start_time": "2022-05-03T18:01:19.528Z"
   },
   {
    "duration": 247,
    "start_time": "2022-05-03T18:01:36.995Z"
   },
   {
    "duration": 249,
    "start_time": "2022-05-03T18:01:51.979Z"
   },
   {
    "duration": 267,
    "start_time": "2022-05-03T18:05:00.891Z"
   },
   {
    "duration": 255,
    "start_time": "2022-05-03T18:05:16.200Z"
   },
   {
    "duration": 418,
    "start_time": "2022-05-03T18:06:20.577Z"
   },
   {
    "duration": 252,
    "start_time": "2022-05-03T18:06:40.524Z"
   },
   {
    "duration": 4047,
    "start_time": "2022-05-03T18:08:16.428Z"
   },
   {
    "duration": 270,
    "start_time": "2022-05-03T18:08:54.325Z"
   },
   {
    "duration": 279,
    "start_time": "2022-05-03T18:09:35.768Z"
   },
   {
    "duration": 286,
    "start_time": "2022-05-03T18:10:51.834Z"
   },
   {
    "duration": 84,
    "start_time": "2022-05-03T18:12:06.646Z"
   },
   {
    "duration": 31,
    "start_time": "2022-05-03T18:12:24.668Z"
   },
   {
    "duration": 7,
    "start_time": "2022-05-03T18:14:25.351Z"
   },
   {
    "duration": 120,
    "start_time": "2022-05-03T18:14:45.003Z"
   },
   {
    "duration": 11,
    "start_time": "2022-05-03T18:15:11.653Z"
   },
   {
    "duration": 178,
    "start_time": "2022-05-03T18:15:12.223Z"
   },
   {
    "duration": 97,
    "start_time": "2022-05-03T18:18:28.036Z"
   },
   {
    "duration": 11,
    "start_time": "2022-05-03T18:18:41.674Z"
   },
   {
    "duration": 11,
    "start_time": "2022-05-03T18:19:32.524Z"
   },
   {
    "duration": 229,
    "start_time": "2022-05-03T18:20:33.305Z"
   },
   {
    "duration": 485,
    "start_time": "2022-05-03T18:20:47.927Z"
   },
   {
    "duration": 289,
    "start_time": "2022-05-03T18:43:16.018Z"
   },
   {
    "duration": 8,
    "start_time": "2022-05-03T20:11:16.529Z"
   },
   {
    "duration": 38,
    "start_time": "2022-05-03T20:37:09.116Z"
   },
   {
    "duration": 54,
    "start_time": "2022-05-03T20:37:28.123Z"
   },
   {
    "duration": 57,
    "start_time": "2022-05-03T20:37:49.493Z"
   },
   {
    "duration": 34,
    "start_time": "2022-05-03T20:38:06.820Z"
   },
   {
    "duration": 185,
    "start_time": "2022-05-03T20:44:54.429Z"
   },
   {
    "duration": 185,
    "start_time": "2022-05-03T20:45:39.418Z"
   },
   {
    "duration": 53,
    "start_time": "2022-05-03T20:50:35.502Z"
   },
   {
    "duration": 34,
    "start_time": "2022-05-03T20:50:41.222Z"
   },
   {
    "duration": 16,
    "start_time": "2022-05-03T20:56:49.905Z"
   },
   {
    "duration": 267,
    "start_time": "2022-05-03T20:57:15.017Z"
   },
   {
    "duration": 9,
    "start_time": "2022-05-03T21:01:43.430Z"
   },
   {
    "duration": 14,
    "start_time": "2022-05-03T21:02:47.134Z"
   },
   {
    "duration": 276,
    "start_time": "2022-05-03T21:03:03.396Z"
   },
   {
    "duration": 283,
    "start_time": "2022-05-03T21:03:49.799Z"
   },
   {
    "duration": 259,
    "start_time": "2022-05-03T21:04:01.455Z"
   },
   {
    "duration": 15,
    "start_time": "2022-05-03T21:04:35.667Z"
   },
   {
    "duration": 264,
    "start_time": "2022-05-03T21:04:36.839Z"
   },
   {
    "duration": 488,
    "start_time": "2022-05-03T21:05:04.509Z"
   },
   {
    "duration": 12,
    "start_time": "2022-05-03T21:05:22.042Z"
   },
   {
    "duration": 284,
    "start_time": "2022-05-03T21:05:23.995Z"
   },
   {
    "duration": 263,
    "start_time": "2022-05-03T21:05:37.043Z"
   },
   {
    "duration": 4,
    "start_time": "2022-05-03T21:06:01.592Z"
   },
   {
    "duration": 12,
    "start_time": "2022-05-03T21:06:04.673Z"
   },
   {
    "duration": 267,
    "start_time": "2022-05-03T21:06:06.014Z"
   },
   {
    "duration": 4,
    "start_time": "2022-05-03T21:06:19.516Z"
   },
   {
    "duration": 14,
    "start_time": "2022-05-03T21:06:20.503Z"
   },
   {
    "duration": 270,
    "start_time": "2022-05-03T21:06:21.798Z"
   },
   {
    "duration": 258,
    "start_time": "2022-05-03T21:06:27.525Z"
   },
   {
    "duration": 11,
    "start_time": "2022-05-03T21:06:39.420Z"
   },
   {
    "duration": 279,
    "start_time": "2022-05-03T21:06:40.486Z"
   },
   {
    "duration": 4,
    "start_time": "2022-05-03T21:06:46.827Z"
   },
   {
    "duration": 3,
    "start_time": "2022-05-03T21:06:59.143Z"
   },
   {
    "duration": 11,
    "start_time": "2022-05-03T21:07:00.084Z"
   },
   {
    "duration": 275,
    "start_time": "2022-05-03T21:07:00.801Z"
   },
   {
    "duration": 252,
    "start_time": "2022-05-03T21:07:17.160Z"
   },
   {
    "duration": 4,
    "start_time": "2022-05-03T21:07:37.939Z"
   },
   {
    "duration": 11,
    "start_time": "2022-05-03T21:07:39.182Z"
   },
   {
    "duration": 256,
    "start_time": "2022-05-03T21:07:40.532Z"
   },
   {
    "duration": 8,
    "start_time": "2022-05-03T21:08:00.209Z"
   },
   {
    "duration": 10,
    "start_time": "2022-05-03T21:19:08.111Z"
   },
   {
    "duration": 217,
    "start_time": "2022-05-03T21:19:33.468Z"
   },
   {
    "duration": 9,
    "start_time": "2022-05-03T21:19:43.210Z"
   },
   {
    "duration": 15,
    "start_time": "2022-05-03T21:21:05.425Z"
   },
   {
    "duration": 256,
    "start_time": "2022-05-03T21:21:15.955Z"
   },
   {
    "duration": 266,
    "start_time": "2022-05-03T21:21:27.797Z"
   },
   {
    "duration": 287,
    "start_time": "2022-05-03T21:21:37.054Z"
   },
   {
    "duration": 348,
    "start_time": "2022-05-03T21:24:40.238Z"
   },
   {
    "duration": 203,
    "start_time": "2022-05-03T21:25:15.079Z"
   },
   {
    "duration": 146,
    "start_time": "2022-05-03T21:25:34.356Z"
   },
   {
    "duration": 147,
    "start_time": "2022-05-03T21:25:56.927Z"
   },
   {
    "duration": 10,
    "start_time": "2022-05-03T21:26:15.402Z"
   },
   {
    "duration": 141,
    "start_time": "2022-05-03T21:26:17.177Z"
   },
   {
    "duration": 142,
    "start_time": "2022-05-03T21:26:23.614Z"
   },
   {
    "duration": 151,
    "start_time": "2022-05-03T21:26:30.415Z"
   },
   {
    "duration": 136,
    "start_time": "2022-05-03T21:26:53.830Z"
   },
   {
    "duration": 136,
    "start_time": "2022-05-03T21:27:13.077Z"
   },
   {
    "duration": 43,
    "start_time": "2022-05-04T06:52:24.212Z"
   },
   {
    "duration": 1395,
    "start_time": "2022-05-04T06:52:32.294Z"
   },
   {
    "duration": 28,
    "start_time": "2022-05-04T06:52:35.868Z"
   },
   {
    "duration": 15,
    "start_time": "2022-05-04T06:52:37.451Z"
   },
   {
    "duration": 35,
    "start_time": "2022-05-04T06:52:38.771Z"
   },
   {
    "duration": 9,
    "start_time": "2022-05-04T06:52:40.944Z"
   },
   {
    "duration": 63,
    "start_time": "2022-05-04T06:52:42.411Z"
   },
   {
    "duration": 4,
    "start_time": "2022-05-04T06:52:45.044Z"
   },
   {
    "duration": 4,
    "start_time": "2022-05-04T06:52:45.713Z"
   },
   {
    "duration": 5,
    "start_time": "2022-05-04T06:52:46.493Z"
   },
   {
    "duration": 5,
    "start_time": "2022-05-04T06:52:47.851Z"
   },
   {
    "duration": 5,
    "start_time": "2022-05-04T06:52:48.580Z"
   },
   {
    "duration": 3,
    "start_time": "2022-05-04T06:52:49.097Z"
   },
   {
    "duration": 5,
    "start_time": "2022-05-04T06:52:49.676Z"
   },
   {
    "duration": 5,
    "start_time": "2022-05-04T06:52:51.585Z"
   },
   {
    "duration": 6,
    "start_time": "2022-05-04T06:52:52.687Z"
   },
   {
    "duration": 4,
    "start_time": "2022-05-04T06:52:53.131Z"
   },
   {
    "duration": 6,
    "start_time": "2022-05-04T06:52:54.443Z"
   },
   {
    "duration": 8,
    "start_time": "2022-05-04T06:52:55.180Z"
   },
   {
    "duration": 5,
    "start_time": "2022-05-04T06:52:56.033Z"
   },
   {
    "duration": 4,
    "start_time": "2022-05-04T06:52:59.037Z"
   },
   {
    "duration": 37,
    "start_time": "2022-05-04T06:53:01.299Z"
   },
   {
    "duration": 4,
    "start_time": "2022-05-04T06:53:06.623Z"
   },
   {
    "duration": 34,
    "start_time": "2022-05-04T06:53:10.550Z"
   },
   {
    "duration": 4,
    "start_time": "2022-05-04T06:53:17.372Z"
   },
   {
    "duration": 4,
    "start_time": "2022-05-04T06:53:18.874Z"
   },
   {
    "duration": 8,
    "start_time": "2022-05-04T06:53:20.995Z"
   },
   {
    "duration": 7,
    "start_time": "2022-05-04T06:53:36.296Z"
   },
   {
    "duration": 14,
    "start_time": "2022-05-04T06:53:38.330Z"
   },
   {
    "duration": 6,
    "start_time": "2022-05-04T06:53:40.731Z"
   },
   {
    "duration": 6,
    "start_time": "2022-05-04T06:53:53.216Z"
   },
   {
    "duration": 6,
    "start_time": "2022-05-04T06:53:54.421Z"
   },
   {
    "duration": 9,
    "start_time": "2022-05-04T06:53:56.468Z"
   },
   {
    "duration": 130,
    "start_time": "2022-05-04T06:54:00.830Z"
   },
   {
    "duration": 5,
    "start_time": "2022-05-04T06:54:03.304Z"
   },
   {
    "duration": 6,
    "start_time": "2022-05-04T06:54:04.891Z"
   },
   {
    "duration": 4,
    "start_time": "2022-05-04T06:54:05.979Z"
   },
   {
    "duration": 13,
    "start_time": "2022-05-04T06:54:08.552Z"
   },
   {
    "duration": 8,
    "start_time": "2022-05-04T06:54:10.748Z"
   },
   {
    "duration": 7,
    "start_time": "2022-05-04T06:54:14.483Z"
   },
   {
    "duration": 13,
    "start_time": "2022-05-04T06:54:16.133Z"
   },
   {
    "duration": 21,
    "start_time": "2022-05-04T06:54:20.595Z"
   },
   {
    "duration": 6,
    "start_time": "2022-05-04T06:54:21.826Z"
   },
   {
    "duration": 5,
    "start_time": "2022-05-04T06:54:23.485Z"
   },
   {
    "duration": 12,
    "start_time": "2022-05-04T06:54:24.225Z"
   },
   {
    "duration": 5,
    "start_time": "2022-05-04T06:54:24.867Z"
   },
   {
    "duration": 4,
    "start_time": "2022-05-04T06:54:27.000Z"
   },
   {
    "duration": 25,
    "start_time": "2022-05-04T06:54:28.498Z"
   },
   {
    "duration": 12,
    "start_time": "2022-05-04T06:54:30.380Z"
   },
   {
    "duration": 24,
    "start_time": "2022-05-04T06:54:32.122Z"
   },
   {
    "duration": 303,
    "start_time": "2022-05-04T06:54:39.580Z"
   },
   {
    "duration": 21,
    "start_time": "2022-05-04T06:54:41.208Z"
   },
   {
    "duration": 5,
    "start_time": "2022-05-04T06:54:46.614Z"
   },
   {
    "duration": 20,
    "start_time": "2022-05-04T06:54:48.012Z"
   },
   {
    "duration": 9,
    "start_time": "2022-05-04T06:54:51.223Z"
   },
   {
    "duration": 145,
    "start_time": "2022-05-04T06:54:52.704Z"
   },
   {
    "duration": 102,
    "start_time": "2022-05-04T06:54:54.833Z"
   },
   {
    "duration": 75,
    "start_time": "2022-05-04T06:54:57.108Z"
   },
   {
    "duration": 13,
    "start_time": "2022-05-04T06:54:59.304Z"
   },
   {
    "duration": 181,
    "start_time": "2022-05-04T06:55:00.191Z"
   },
   {
    "duration": 413,
    "start_time": "2022-05-04T06:55:02.347Z"
   },
   {
    "duration": 10,
    "start_time": "2022-05-04T06:55:05.868Z"
   },
   {
    "duration": 9,
    "start_time": "2022-05-04T06:55:08.621Z"
   },
   {
    "duration": 170,
    "start_time": "2022-05-04T06:55:10.144Z"
   },
   {
    "duration": 124,
    "start_time": "2022-05-04T06:55:12.829Z"
   },
   {
    "duration": 81,
    "start_time": "2022-05-04T06:55:15.019Z"
   },
   {
    "duration": 19,
    "start_time": "2022-05-04T06:55:17.470Z"
   },
   {
    "duration": 9,
    "start_time": "2022-05-04T06:55:27.217Z"
   },
   {
    "duration": 160,
    "start_time": "2022-05-04T06:55:28.385Z"
   },
   {
    "duration": 163,
    "start_time": "2022-05-04T06:55:42.812Z"
   },
   {
    "duration": 12,
    "start_time": "2022-05-04T06:55:48.524Z"
   },
   {
    "duration": 9,
    "start_time": "2022-05-04T06:55:50.720Z"
   },
   {
    "duration": 119,
    "start_time": "2022-05-04T06:55:53.190Z"
   },
   {
    "duration": 104,
    "start_time": "2022-05-04T06:55:56.185Z"
   },
   {
    "duration": 9,
    "start_time": "2022-05-04T06:55:58.819Z"
   },
   {
    "duration": 115,
    "start_time": "2022-05-04T06:55:59.529Z"
   },
   {
    "duration": 11,
    "start_time": "2022-05-04T06:56:04.598Z"
   },
   {
    "duration": 9,
    "start_time": "2022-05-04T06:56:06.424Z"
   },
   {
    "duration": 149,
    "start_time": "2022-05-04T06:56:11.640Z"
   },
   {
    "duration": 174,
    "start_time": "2022-05-04T06:56:41.339Z"
   },
   {
    "duration": 90,
    "start_time": "2022-05-04T06:56:45.463Z"
   },
   {
    "duration": 8,
    "start_time": "2022-05-04T06:56:58.085Z"
   },
   {
    "duration": 121,
    "start_time": "2022-05-04T06:57:00.460Z"
   },
   {
    "duration": 11,
    "start_time": "2022-05-04T06:57:07.727Z"
   },
   {
    "duration": 8,
    "start_time": "2022-05-04T06:57:09.149Z"
   },
   {
    "duration": 146,
    "start_time": "2022-05-04T06:57:10.712Z"
   },
   {
    "duration": 108,
    "start_time": "2022-05-04T06:57:12.233Z"
   },
   {
    "duration": 8,
    "start_time": "2022-05-04T06:57:17.221Z"
   },
   {
    "duration": 146,
    "start_time": "2022-05-04T06:57:18.165Z"
   },
   {
    "duration": 142,
    "start_time": "2022-05-04T06:57:21.943Z"
   },
   {
    "duration": 6,
    "start_time": "2022-05-04T06:57:24.489Z"
   },
   {
    "duration": 83,
    "start_time": "2022-05-04T06:57:27.794Z"
   },
   {
    "duration": 11,
    "start_time": "2022-05-04T06:57:47.124Z"
   },
   {
    "duration": 12,
    "start_time": "2022-05-04T06:58:11.897Z"
   },
   {
    "duration": 292,
    "start_time": "2022-05-04T06:58:14.810Z"
   },
   {
    "duration": 158,
    "start_time": "2022-05-04T06:58:18.187Z"
   },
   {
    "duration": 489,
    "start_time": "2022-05-04T06:58:20.836Z"
   },
   {
    "duration": 249,
    "start_time": "2022-05-04T07:09:08.584Z"
   },
   {
    "duration": 163,
    "start_time": "2022-05-04T07:09:30.169Z"
   },
   {
    "duration": 13,
    "start_time": "2022-05-04T07:09:52.417Z"
   },
   {
    "duration": 173,
    "start_time": "2022-05-04T07:09:54.105Z"
   },
   {
    "duration": 11,
    "start_time": "2022-05-04T07:10:05.415Z"
   },
   {
    "duration": 186,
    "start_time": "2022-05-04T07:10:07.350Z"
   },
   {
    "duration": 11,
    "start_time": "2022-05-04T07:10:24.255Z"
   },
   {
    "duration": 166,
    "start_time": "2022-05-04T07:10:26.606Z"
   },
   {
    "duration": 11,
    "start_time": "2022-05-04T07:10:49.461Z"
   },
   {
    "duration": 172,
    "start_time": "2022-05-04T07:10:50.907Z"
   },
   {
    "duration": 12,
    "start_time": "2022-05-04T07:11:14.937Z"
   },
   {
    "duration": 158,
    "start_time": "2022-05-04T07:11:16.562Z"
   },
   {
    "duration": 2303,
    "start_time": "2022-05-04T07:17:23.064Z"
   },
   {
    "duration": 13,
    "start_time": "2022-05-04T07:17:58.771Z"
   },
   {
    "duration": 7,
    "start_time": "2022-05-04T07:23:14.559Z"
   },
   {
    "duration": 9,
    "start_time": "2022-05-04T07:23:23.481Z"
   },
   {
    "duration": 593,
    "start_time": "2022-05-04T07:23:26.981Z"
   },
   {
    "duration": 13,
    "start_time": "2022-05-04T07:24:19.391Z"
   },
   {
    "duration": 2218,
    "start_time": "2022-05-04T07:25:43.386Z"
   },
   {
    "duration": 961,
    "start_time": "2022-05-04T07:27:27.600Z"
   },
   {
    "duration": 948,
    "start_time": "2022-05-04T07:28:32.737Z"
   },
   {
    "duration": 952,
    "start_time": "2022-05-04T07:28:46.961Z"
   },
   {
    "duration": 10,
    "start_time": "2022-05-04T07:30:01.786Z"
   },
   {
    "duration": 1485,
    "start_time": "2022-05-04T07:30:13.516Z"
   },
   {
    "duration": 951,
    "start_time": "2022-05-04T07:33:07.922Z"
   },
   {
    "duration": 938,
    "start_time": "2022-05-04T07:34:02.501Z"
   },
   {
    "duration": 1563,
    "start_time": "2022-05-04T07:34:52.410Z"
   },
   {
    "duration": 164,
    "start_time": "2022-05-04T07:35:28.426Z"
   },
   {
    "duration": 964,
    "start_time": "2022-05-04T07:35:55.196Z"
   },
   {
    "duration": 1508,
    "start_time": "2022-05-04T07:36:30.511Z"
   },
   {
    "duration": 2170,
    "start_time": "2022-05-04T07:38:38.063Z"
   },
   {
    "duration": 2356,
    "start_time": "2022-05-04T07:39:35.229Z"
   },
   {
    "duration": 162,
    "start_time": "2022-05-04T07:39:41.942Z"
   },
   {
    "duration": 177,
    "start_time": "2022-05-04T07:39:58.591Z"
   },
   {
    "duration": 740,
    "start_time": "2022-05-04T07:40:43.627Z"
   },
   {
    "duration": 905,
    "start_time": "2022-05-04T07:40:56.183Z"
   },
   {
    "duration": 717,
    "start_time": "2022-05-04T07:41:14.577Z"
   },
   {
    "duration": 173,
    "start_time": "2022-05-04T07:41:30.851Z"
   },
   {
    "duration": 439,
    "start_time": "2022-05-04T07:43:33.993Z"
   },
   {
    "duration": 356,
    "start_time": "2022-05-04T07:47:33.296Z"
   },
   {
    "duration": 373,
    "start_time": "2022-05-04T07:48:41.957Z"
   },
   {
    "duration": 162,
    "start_time": "2022-05-04T07:51:11.934Z"
   },
   {
    "duration": 155,
    "start_time": "2022-05-04T07:57:17.375Z"
   },
   {
    "duration": 237,
    "start_time": "2022-05-04T07:57:40.293Z"
   },
   {
    "duration": 163,
    "start_time": "2022-05-04T07:57:46.173Z"
   },
   {
    "duration": 20,
    "start_time": "2022-05-04T07:59:23.330Z"
   },
   {
    "duration": 170,
    "start_time": "2022-05-04T08:00:11.144Z"
   },
   {
    "duration": 179,
    "start_time": "2022-05-04T08:00:26.421Z"
   },
   {
    "duration": 138,
    "start_time": "2022-05-04T08:02:19.662Z"
   },
   {
    "duration": 135,
    "start_time": "2022-05-04T08:03:38.191Z"
   },
   {
    "duration": 136,
    "start_time": "2022-05-04T08:04:11.088Z"
   },
   {
    "duration": 153,
    "start_time": "2022-05-04T08:04:50.882Z"
   },
   {
    "duration": 141,
    "start_time": "2022-05-04T08:05:40.165Z"
   },
   {
    "duration": 144,
    "start_time": "2022-05-04T08:05:43.092Z"
   },
   {
    "duration": 167,
    "start_time": "2022-05-04T08:16:41.110Z"
   },
   {
    "duration": 182,
    "start_time": "2022-05-04T08:16:59.289Z"
   },
   {
    "duration": 8,
    "start_time": "2022-05-04T08:26:08.542Z"
   },
   {
    "duration": 12,
    "start_time": "2022-05-04T08:27:40.673Z"
   },
   {
    "duration": 6,
    "start_time": "2022-05-04T08:32:59.634Z"
   },
   {
    "duration": 4,
    "start_time": "2022-05-04T08:34:56.620Z"
   },
   {
    "duration": 35,
    "start_time": "2022-05-04T08:35:16.905Z"
   },
   {
    "duration": 11,
    "start_time": "2022-05-04T08:36:01.751Z"
   },
   {
    "duration": 9,
    "start_time": "2022-05-04T08:38:17.609Z"
   },
   {
    "duration": 21,
    "start_time": "2022-05-04T08:38:35.362Z"
   },
   {
    "duration": 6,
    "start_time": "2022-05-04T08:38:54.018Z"
   },
   {
    "duration": 10,
    "start_time": "2022-05-04T08:39:01.038Z"
   },
   {
    "duration": 12,
    "start_time": "2022-05-04T08:39:32.986Z"
   },
   {
    "duration": 26,
    "start_time": "2022-05-04T08:39:43.806Z"
   },
   {
    "duration": 24,
    "start_time": "2022-05-04T08:40:24.872Z"
   },
   {
    "duration": 7,
    "start_time": "2022-05-04T08:43:48.270Z"
   },
   {
    "duration": 19,
    "start_time": "2022-05-04T08:45:54.548Z"
   },
   {
    "duration": 11,
    "start_time": "2022-05-04T08:47:06.154Z"
   },
   {
    "duration": 14,
    "start_time": "2022-05-04T08:47:23.590Z"
   },
   {
    "duration": 8,
    "start_time": "2022-05-04T08:48:00.172Z"
   },
   {
    "duration": 11,
    "start_time": "2022-05-04T08:48:29.801Z"
   },
   {
    "duration": 33,
    "start_time": "2022-05-04T08:50:03.389Z"
   },
   {
    "duration": 31,
    "start_time": "2022-05-04T08:50:33.892Z"
   },
   {
    "duration": 15,
    "start_time": "2022-05-04T08:50:51.545Z"
   },
   {
    "duration": 15,
    "start_time": "2022-05-04T08:51:33.048Z"
   },
   {
    "duration": 17,
    "start_time": "2022-05-04T08:52:00.269Z"
   },
   {
    "duration": 14,
    "start_time": "2022-05-04T08:52:14.774Z"
   },
   {
    "duration": 13,
    "start_time": "2022-05-04T08:53:14.304Z"
   },
   {
    "duration": 17,
    "start_time": "2022-05-04T08:54:52.001Z"
   },
   {
    "duration": 26,
    "start_time": "2022-05-04T08:56:32.307Z"
   },
   {
    "duration": 769,
    "start_time": "2022-05-04T08:58:25.780Z"
   },
   {
    "duration": 879,
    "start_time": "2022-05-04T08:58:36.785Z"
   },
   {
    "duration": 22,
    "start_time": "2022-05-04T08:58:51.014Z"
   },
   {
    "duration": 30,
    "start_time": "2022-05-04T08:59:27.206Z"
   },
   {
    "duration": 27,
    "start_time": "2022-05-04T08:59:34.585Z"
   },
   {
    "duration": 35,
    "start_time": "2022-05-04T08:59:45.973Z"
   },
   {
    "duration": 37,
    "start_time": "2022-05-04T09:00:07.206Z"
   },
   {
    "duration": 32,
    "start_time": "2022-05-04T09:00:20.513Z"
   },
   {
    "duration": 6,
    "start_time": "2022-05-04T09:04:25.086Z"
   },
   {
    "duration": 5,
    "start_time": "2022-05-04T09:04:35.233Z"
   },
   {
    "duration": 4,
    "start_time": "2022-05-04T09:05:52.083Z"
   },
   {
    "duration": 29,
    "start_time": "2022-05-04T09:06:32.114Z"
   },
   {
    "duration": 5,
    "start_time": "2022-05-04T09:06:37.842Z"
   },
   {
    "duration": 1583,
    "start_time": "2022-05-04T09:06:47.636Z"
   },
   {
    "duration": 38,
    "start_time": "2022-05-04T09:06:50.168Z"
   },
   {
    "duration": 21,
    "start_time": "2022-05-04T09:06:51.339Z"
   },
   {
    "duration": 49,
    "start_time": "2022-05-04T09:06:52.738Z"
   },
   {
    "duration": 12,
    "start_time": "2022-05-04T09:06:54.444Z"
   },
   {
    "duration": 63,
    "start_time": "2022-05-04T09:06:55.959Z"
   },
   {
    "duration": 6,
    "start_time": "2022-05-04T09:06:59.231Z"
   },
   {
    "duration": 3,
    "start_time": "2022-05-04T09:06:59.982Z"
   },
   {
    "duration": 4,
    "start_time": "2022-05-04T09:07:00.455Z"
   },
   {
    "duration": 4,
    "start_time": "2022-05-04T09:07:01.578Z"
   },
   {
    "duration": 5,
    "start_time": "2022-05-04T09:07:02.313Z"
   },
   {
    "duration": 4,
    "start_time": "2022-05-04T09:07:02.877Z"
   },
   {
    "duration": 5,
    "start_time": "2022-05-04T09:07:03.418Z"
   },
   {
    "duration": 5,
    "start_time": "2022-05-04T09:07:04.719Z"
   },
   {
    "duration": 7,
    "start_time": "2022-05-04T09:07:05.447Z"
   },
   {
    "duration": 5,
    "start_time": "2022-05-04T09:07:05.908Z"
   },
   {
    "duration": 6,
    "start_time": "2022-05-04T09:07:07.362Z"
   },
   {
    "duration": 10,
    "start_time": "2022-05-04T09:07:08.138Z"
   },
   {
    "duration": 5,
    "start_time": "2022-05-04T09:07:08.805Z"
   },
   {
    "duration": 5,
    "start_time": "2022-05-04T09:07:10.242Z"
   },
   {
    "duration": 36,
    "start_time": "2022-05-04T09:07:14.904Z"
   },
   {
    "duration": 5,
    "start_time": "2022-05-04T09:07:17.918Z"
   },
   {
    "duration": 35,
    "start_time": "2022-05-04T09:07:19.269Z"
   },
   {
    "duration": 4,
    "start_time": "2022-05-04T09:07:21.020Z"
   },
   {
    "duration": 4,
    "start_time": "2022-05-04T09:07:21.493Z"
   },
   {
    "duration": 11,
    "start_time": "2022-05-04T09:07:22.640Z"
   },
   {
    "duration": 6,
    "start_time": "2022-05-04T09:07:23.977Z"
   },
   {
    "duration": 15,
    "start_time": "2022-05-04T09:07:24.731Z"
   },
   {
    "duration": 7,
    "start_time": "2022-05-04T09:07:26.000Z"
   },
   {
    "duration": 8,
    "start_time": "2022-05-04T09:07:27.031Z"
   },
   {
    "duration": 9,
    "start_time": "2022-05-04T09:07:27.856Z"
   },
   {
    "duration": 9,
    "start_time": "2022-05-04T09:07:29.385Z"
   },
   {
    "duration": 100,
    "start_time": "2022-05-04T09:07:31.033Z"
   },
   {
    "duration": 4,
    "start_time": "2022-05-04T09:07:32.598Z"
   },
   {
    "duration": 6,
    "start_time": "2022-05-04T09:07:33.802Z"
   },
   {
    "duration": 4,
    "start_time": "2022-05-04T09:07:35.001Z"
   },
   {
    "duration": 15,
    "start_time": "2022-05-04T09:07:36.239Z"
   },
   {
    "duration": 8,
    "start_time": "2022-05-04T09:07:38.865Z"
   },
   {
    "duration": 8,
    "start_time": "2022-05-04T09:07:39.716Z"
   },
   {
    "duration": 14,
    "start_time": "2022-05-04T09:07:40.854Z"
   },
   {
    "duration": 21,
    "start_time": "2022-05-04T09:07:43.248Z"
   },
   {
    "duration": 6,
    "start_time": "2022-05-04T09:07:44.860Z"
   },
   {
    "duration": 5,
    "start_time": "2022-05-04T09:07:46.309Z"
   },
   {
    "duration": 10,
    "start_time": "2022-05-04T09:07:47.199Z"
   },
   {
    "duration": 6,
    "start_time": "2022-05-04T09:07:47.878Z"
   },
   {
    "duration": 4,
    "start_time": "2022-05-04T09:07:50.043Z"
   },
   {
    "duration": 25,
    "start_time": "2022-05-04T09:07:51.045Z"
   },
   {
    "duration": 13,
    "start_time": "2022-05-04T09:07:52.447Z"
   },
   {
    "duration": 24,
    "start_time": "2022-05-04T09:07:54.000Z"
   },
   {
    "duration": 314,
    "start_time": "2022-05-04T09:07:55.050Z"
   },
   {
    "duration": 21,
    "start_time": "2022-05-04T09:07:56.612Z"
   },
   {
    "duration": 5,
    "start_time": "2022-05-04T09:07:57.812Z"
   },
   {
    "duration": 22,
    "start_time": "2022-05-04T09:07:58.451Z"
   },
   {
    "duration": 10,
    "start_time": "2022-05-04T09:08:02.716Z"
   },
   {
    "duration": 163,
    "start_time": "2022-05-04T09:08:03.748Z"
   },
   {
    "duration": 100,
    "start_time": "2022-05-04T09:08:05.314Z"
   },
   {
    "duration": 111,
    "start_time": "2022-05-04T09:08:06.851Z"
   },
   {
    "duration": 16,
    "start_time": "2022-05-04T09:08:08.284Z"
   },
   {
    "duration": 238,
    "start_time": "2022-05-04T09:08:08.760Z"
   },
   {
    "duration": 407,
    "start_time": "2022-05-04T09:08:10.249Z"
   },
   {
    "duration": 9,
    "start_time": "2022-05-04T09:08:19.057Z"
   },
   {
    "duration": 161,
    "start_time": "2022-05-04T09:08:20.193Z"
   },
   {
    "duration": 114,
    "start_time": "2022-05-04T09:08:21.972Z"
   },
   {
    "duration": 83,
    "start_time": "2022-05-04T09:08:26.420Z"
   },
   {
    "duration": 22,
    "start_time": "2022-05-04T09:08:28.422Z"
   },
   {
    "duration": 11,
    "start_time": "2022-05-04T09:08:29.972Z"
   },
   {
    "duration": 148,
    "start_time": "2022-05-04T09:08:31.713Z"
   },
   {
    "duration": 8,
    "start_time": "2022-05-04T09:08:34.173Z"
   },
   {
    "duration": 119,
    "start_time": "2022-05-04T09:08:35.552Z"
   },
   {
    "duration": 103,
    "start_time": "2022-05-04T09:08:36.685Z"
   },
   {
    "duration": 9,
    "start_time": "2022-05-04T09:08:38.815Z"
   },
   {
    "duration": 123,
    "start_time": "2022-05-04T09:08:39.451Z"
   },
   {
    "duration": 11,
    "start_time": "2022-05-04T09:08:43.245Z"
   },
   {
    "duration": 164,
    "start_time": "2022-05-04T09:08:44.468Z"
   },
   {
    "duration": 110,
    "start_time": "2022-05-04T09:08:47.725Z"
   },
   {
    "duration": 171,
    "start_time": "2022-05-04T09:08:49.317Z"
   },
   {
    "duration": 11,
    "start_time": "2022-05-04T09:08:51.627Z"
   },
   {
    "duration": 124,
    "start_time": "2022-05-04T09:08:52.911Z"
   },
   {
    "duration": 10,
    "start_time": "2022-05-04T09:08:55.343Z"
   },
   {
    "duration": 159,
    "start_time": "2022-05-04T09:08:56.747Z"
   },
   {
    "duration": 112,
    "start_time": "2022-05-04T09:08:58.196Z"
   },
   {
    "duration": 10,
    "start_time": "2022-05-04T09:09:00.153Z"
   },
   {
    "duration": 154,
    "start_time": "2022-05-04T09:09:02.157Z"
   },
   {
    "duration": 154,
    "start_time": "2022-05-04T09:09:04.128Z"
   },
   {
    "duration": 7,
    "start_time": "2022-05-04T09:09:05.724Z"
   },
   {
    "duration": 11,
    "start_time": "2022-05-04T09:09:20.749Z"
   },
   {
    "duration": 174,
    "start_time": "2022-05-04T09:09:23.190Z"
   },
   {
    "duration": 241,
    "start_time": "2022-05-04T09:09:25.306Z"
   },
   {
    "duration": 1023,
    "start_time": "2022-05-04T09:09:26.724Z"
   },
   {
    "duration": 174,
    "start_time": "2022-05-04T09:09:29.413Z"
   },
   {
    "duration": 275,
    "start_time": "2022-05-04T09:09:30.833Z"
   },
   {
    "duration": 355,
    "start_time": "2022-05-04T09:09:32.612Z"
   },
   {
    "duration": 145,
    "start_time": "2022-05-04T09:09:34.873Z"
   },
   {
    "duration": 146,
    "start_time": "2022-05-04T09:09:36.152Z"
   },
   {
    "duration": 143,
    "start_time": "2022-05-04T09:09:37.401Z"
   },
   {
    "duration": 22,
    "start_time": "2022-05-04T09:09:39.655Z"
   },
   {
    "duration": 5,
    "start_time": "2022-05-04T09:09:42.857Z"
   },
   {
    "duration": 4,
    "start_time": "2022-05-04T09:10:29.773Z"
   },
   {
    "duration": 5,
    "start_time": "2022-05-04T09:10:34.363Z"
   },
   {
    "duration": 10,
    "start_time": "2022-05-04T09:12:53.600Z"
   },
   {
    "duration": 4,
    "start_time": "2022-05-04T09:18:39.501Z"
   },
   {
    "duration": 4,
    "start_time": "2022-05-04T09:18:48.643Z"
   },
   {
    "duration": 33,
    "start_time": "2022-05-04T09:19:05.956Z"
   },
   {
    "duration": 1154,
    "start_time": "2022-05-04T09:19:47.408Z"
   },
   {
    "duration": 28,
    "start_time": "2022-05-04T09:19:48.563Z"
   },
   {
    "duration": 16,
    "start_time": "2022-05-04T09:19:50.162Z"
   },
   {
    "duration": 37,
    "start_time": "2022-05-04T09:19:51.289Z"
   },
   {
    "duration": 11,
    "start_time": "2022-05-04T09:19:52.929Z"
   },
   {
    "duration": 65,
    "start_time": "2022-05-04T09:19:54.236Z"
   },
   {
    "duration": 4,
    "start_time": "2022-05-04T09:19:56.912Z"
   },
   {
    "duration": 3,
    "start_time": "2022-05-04T09:19:57.565Z"
   },
   {
    "duration": 5,
    "start_time": "2022-05-04T09:19:57.992Z"
   },
   {
    "duration": 5,
    "start_time": "2022-05-04T09:19:59.291Z"
   },
   {
    "duration": 5,
    "start_time": "2022-05-04T09:19:59.855Z"
   },
   {
    "duration": 4,
    "start_time": "2022-05-04T09:20:00.290Z"
   },
   {
    "duration": 5,
    "start_time": "2022-05-04T09:20:00.765Z"
   },
   {
    "duration": 6,
    "start_time": "2022-05-04T09:20:02.194Z"
   },
   {
    "duration": 7,
    "start_time": "2022-05-04T09:20:03.195Z"
   },
   {
    "duration": 5,
    "start_time": "2022-05-04T09:20:03.578Z"
   },
   {
    "duration": 5,
    "start_time": "2022-05-04T09:20:04.685Z"
   },
   {
    "duration": 8,
    "start_time": "2022-05-04T09:20:05.238Z"
   },
   {
    "duration": 5,
    "start_time": "2022-05-04T09:20:05.656Z"
   },
   {
    "duration": 5,
    "start_time": "2022-05-04T09:20:06.991Z"
   },
   {
    "duration": 35,
    "start_time": "2022-05-04T09:20:07.707Z"
   },
   {
    "duration": 4,
    "start_time": "2022-05-04T09:20:09.599Z"
   },
   {
    "duration": 35,
    "start_time": "2022-05-04T09:20:10.435Z"
   },
   {
    "duration": 4,
    "start_time": "2022-05-04T09:20:11.935Z"
   },
   {
    "duration": 4,
    "start_time": "2022-05-04T09:20:12.653Z"
   },
   {
    "duration": 7,
    "start_time": "2022-05-04T09:20:15.651Z"
   },
   {
    "duration": 13,
    "start_time": "2022-05-04T09:20:16.455Z"
   },
   {
    "duration": 7,
    "start_time": "2022-05-04T09:20:17.762Z"
   },
   {
    "duration": 5,
    "start_time": "2022-05-04T09:20:18.760Z"
   },
   {
    "duration": 7,
    "start_time": "2022-05-04T09:20:20.013Z"
   },
   {
    "duration": 9,
    "start_time": "2022-05-04T09:20:21.447Z"
   },
   {
    "duration": 93,
    "start_time": "2022-05-04T09:20:23.446Z"
   },
   {
    "duration": 4,
    "start_time": "2022-05-04T09:20:26.425Z"
   },
   {
    "duration": 6,
    "start_time": "2022-05-04T09:20:51.405Z"
   },
   {
    "duration": 4,
    "start_time": "2022-05-04T09:20:52.919Z"
   },
   {
    "duration": 13,
    "start_time": "2022-05-04T09:20:53.750Z"
   },
   {
    "duration": 9,
    "start_time": "2022-05-04T09:20:55.657Z"
   },
   {
    "duration": 8,
    "start_time": "2022-05-04T09:20:57.057Z"
   },
   {
    "duration": 14,
    "start_time": "2022-05-04T09:20:58.369Z"
   },
   {
    "duration": 20,
    "start_time": "2022-05-04T09:21:00.322Z"
   },
   {
    "duration": 7,
    "start_time": "2022-05-04T09:21:01.430Z"
   },
   {
    "duration": 6,
    "start_time": "2022-05-04T09:21:02.721Z"
   },
   {
    "duration": 17,
    "start_time": "2022-05-04T09:21:03.401Z"
   },
   {
    "duration": 5,
    "start_time": "2022-05-04T09:21:03.973Z"
   },
   {
    "duration": 4,
    "start_time": "2022-05-04T09:21:05.307Z"
   },
   {
    "duration": 25,
    "start_time": "2022-05-04T09:21:06.009Z"
   },
   {
    "duration": 11,
    "start_time": "2022-05-04T09:21:07.525Z"
   },
   {
    "duration": 23,
    "start_time": "2022-05-04T09:21:08.254Z"
   },
   {
    "duration": 294,
    "start_time": "2022-05-04T09:21:09.553Z"
   },
   {
    "duration": 21,
    "start_time": "2022-05-04T09:21:10.339Z"
   },
   {
    "duration": 5,
    "start_time": "2022-05-04T09:21:11.836Z"
   },
   {
    "duration": 22,
    "start_time": "2022-05-04T09:21:12.493Z"
   },
   {
    "duration": 9,
    "start_time": "2022-05-04T09:21:15.160Z"
   },
   {
    "duration": 137,
    "start_time": "2022-05-04T09:21:15.979Z"
   },
   {
    "duration": 96,
    "start_time": "2022-05-04T09:21:17.303Z"
   },
   {
    "duration": 70,
    "start_time": "2022-05-04T09:21:18.736Z"
   },
   {
    "duration": 13,
    "start_time": "2022-05-04T09:21:20.094Z"
   },
   {
    "duration": 155,
    "start_time": "2022-05-04T09:21:20.587Z"
   },
   {
    "duration": 440,
    "start_time": "2022-05-04T09:21:22.305Z"
   },
   {
    "duration": 10,
    "start_time": "2022-05-04T09:21:25.162Z"
   },
   {
    "duration": 140,
    "start_time": "2022-05-04T09:21:25.891Z"
   },
   {
    "duration": 102,
    "start_time": "2022-05-04T09:21:27.131Z"
   },
   {
    "duration": 77,
    "start_time": "2022-05-04T09:21:28.458Z"
   },
   {
    "duration": 20,
    "start_time": "2022-05-04T09:21:29.833Z"
   },
   {
    "duration": 11,
    "start_time": "2022-05-04T09:21:31.318Z"
   },
   {
    "duration": 151,
    "start_time": "2022-05-04T09:21:32.017Z"
   },
   {
    "duration": 8,
    "start_time": "2022-05-04T09:21:34.237Z"
   },
   {
    "duration": 122,
    "start_time": "2022-05-04T09:21:35.251Z"
   },
   {
    "duration": 99,
    "start_time": "2022-05-04T09:21:36.430Z"
   },
   {
    "duration": 9,
    "start_time": "2022-05-04T09:21:37.590Z"
   },
   {
    "duration": 128,
    "start_time": "2022-05-04T09:21:38.218Z"
   },
   {
    "duration": 89,
    "start_time": "2022-05-04T09:21:39.667Z"
   },
   {
    "duration": 8,
    "start_time": "2022-05-04T09:21:40.767Z"
   },
   {
    "duration": 10,
    "start_time": "2022-05-04T09:21:49.605Z"
   },
   {
    "duration": 162,
    "start_time": "2022-05-04T09:21:51.016Z"
   },
   {
    "duration": 183,
    "start_time": "2022-05-04T09:21:52.234Z"
   },
   {
    "duration": 88,
    "start_time": "2022-05-04T09:21:53.514Z"
   },
   {
    "duration": 10,
    "start_time": "2022-05-04T09:21:55.095Z"
   },
   {
    "duration": 114,
    "start_time": "2022-05-04T09:21:56.244Z"
   },
   {
    "duration": 9,
    "start_time": "2022-05-04T09:21:57.976Z"
   },
   {
    "duration": 148,
    "start_time": "2022-05-04T09:21:59.108Z"
   },
   {
    "duration": 109,
    "start_time": "2022-05-04T09:22:00.358Z"
   },
   {
    "duration": 10,
    "start_time": "2022-05-04T09:22:05.159Z"
   },
   {
    "duration": 164,
    "start_time": "2022-05-04T09:22:06.109Z"
   },
   {
    "duration": 145,
    "start_time": "2022-05-04T09:22:08.095Z"
   },
   {
    "duration": 6,
    "start_time": "2022-05-04T09:22:10.892Z"
   },
   {
    "duration": 12,
    "start_time": "2022-05-04T09:22:16.788Z"
   },
   {
    "duration": 164,
    "start_time": "2022-05-04T09:22:18.988Z"
   },
   {
    "duration": 167,
    "start_time": "2022-05-04T09:22:20.273Z"
   },
   {
    "duration": 985,
    "start_time": "2022-05-04T09:22:21.633Z"
   },
   {
    "duration": 232,
    "start_time": "2022-05-04T09:22:27.212Z"
   },
   {
    "duration": 179,
    "start_time": "2022-05-04T09:22:28.590Z"
   },
   {
    "duration": 319,
    "start_time": "2022-05-04T09:22:30.055Z"
   },
   {
    "duration": 142,
    "start_time": "2022-05-04T09:22:31.668Z"
   },
   {
    "duration": 144,
    "start_time": "2022-05-04T09:22:33.098Z"
   },
   {
    "duration": 144,
    "start_time": "2022-05-04T09:22:34.391Z"
   },
   {
    "duration": 23,
    "start_time": "2022-05-04T09:22:36.725Z"
   },
   {
    "duration": 8,
    "start_time": "2022-05-04T09:22:40.887Z"
   },
   {
    "duration": 40,
    "start_time": "2022-05-04T09:22:41.712Z"
   },
   {
    "duration": 5,
    "start_time": "2022-05-04T09:22:55.102Z"
   },
   {
    "duration": 6,
    "start_time": "2022-05-04T09:24:14.289Z"
   },
   {
    "duration": 9,
    "start_time": "2022-05-04T09:24:28.238Z"
   },
   {
    "duration": 37,
    "start_time": "2022-05-04T09:24:31.314Z"
   },
   {
    "duration": 5,
    "start_time": "2022-05-04T09:24:36.398Z"
   },
   {
    "duration": 34,
    "start_time": "2022-05-04T09:24:42.748Z"
   },
   {
    "duration": 144,
    "start_time": "2022-05-04T09:25:44.787Z"
   },
   {
    "duration": 123,
    "start_time": "2022-05-04T09:27:24.631Z"
   },
   {
    "duration": 122,
    "start_time": "2022-05-04T09:28:06.850Z"
   },
   {
    "duration": 198,
    "start_time": "2022-05-04T09:28:18.161Z"
   },
   {
    "duration": 7,
    "start_time": "2022-05-04T09:30:47.890Z"
   },
   {
    "duration": 126,
    "start_time": "2022-05-04T09:30:53.571Z"
   },
   {
    "duration": 8,
    "start_time": "2022-05-04T09:31:14.535Z"
   },
   {
    "duration": 5,
    "start_time": "2022-05-04T09:31:44.396Z"
   },
   {
    "duration": 6,
    "start_time": "2022-05-04T09:31:48.817Z"
   },
   {
    "duration": 4,
    "start_time": "2022-05-04T09:32:21.949Z"
   },
   {
    "duration": 7,
    "start_time": "2022-05-04T09:32:24.469Z"
   },
   {
    "duration": 5,
    "start_time": "2022-05-04T09:32:29.859Z"
   },
   {
    "duration": 5,
    "start_time": "2022-05-04T09:32:32.380Z"
   },
   {
    "duration": 6,
    "start_time": "2022-05-04T09:32:37.607Z"
   },
   {
    "duration": 5,
    "start_time": "2022-05-04T09:32:42.045Z"
   },
   {
    "duration": 4,
    "start_time": "2022-05-04T09:33:10.004Z"
   },
   {
    "duration": 5,
    "start_time": "2022-05-04T09:33:11.059Z"
   },
   {
    "duration": 125,
    "start_time": "2022-05-04T09:33:12.408Z"
   },
   {
    "duration": 5,
    "start_time": "2022-05-04T09:34:45.636Z"
   },
   {
    "duration": 7,
    "start_time": "2022-05-04T09:34:47.286Z"
   },
   {
    "duration": 5,
    "start_time": "2022-05-04T09:34:49.635Z"
   },
   {
    "duration": 5,
    "start_time": "2022-05-04T09:34:55.513Z"
   },
   {
    "duration": 7,
    "start_time": "2022-05-04T09:34:56.214Z"
   },
   {
    "duration": 130,
    "start_time": "2022-05-04T09:34:59.304Z"
   },
   {
    "duration": 4,
    "start_time": "2022-05-04T09:35:22.712Z"
   },
   {
    "duration": 6,
    "start_time": "2022-05-04T09:35:23.710Z"
   },
   {
    "duration": 4,
    "start_time": "2022-05-04T09:35:24.805Z"
   },
   {
    "duration": 4,
    "start_time": "2022-05-04T09:35:25.413Z"
   },
   {
    "duration": 5,
    "start_time": "2022-05-04T09:35:26.235Z"
   },
   {
    "duration": 126,
    "start_time": "2022-05-04T09:35:26.993Z"
   },
   {
    "duration": 9,
    "start_time": "2022-05-04T09:37:50.223Z"
   },
   {
    "duration": 131,
    "start_time": "2022-05-04T09:37:54.520Z"
   },
   {
    "duration": 126,
    "start_time": "2022-05-04T09:38:11.840Z"
   },
   {
    "duration": 140,
    "start_time": "2022-05-04T09:39:29.782Z"
   },
   {
    "duration": 3,
    "start_time": "2022-05-04T09:46:42.686Z"
   },
   {
    "duration": 5,
    "start_time": "2022-05-04T09:46:43.648Z"
   },
   {
    "duration": 147,
    "start_time": "2022-05-04T09:47:52.449Z"
   },
   {
    "duration": 1425,
    "start_time": "2022-05-04T14:02:54.646Z"
   },
   {
    "duration": 29,
    "start_time": "2022-05-04T14:02:56.843Z"
   },
   {
    "duration": 16,
    "start_time": "2022-05-04T14:02:58.557Z"
   },
   {
    "duration": 41,
    "start_time": "2022-05-04T14:02:59.994Z"
   },
   {
    "duration": 11,
    "start_time": "2022-05-04T14:03:01.966Z"
   },
   {
    "duration": 75,
    "start_time": "2022-05-04T14:03:03.165Z"
   },
   {
    "duration": 5,
    "start_time": "2022-05-04T14:03:05.548Z"
   },
   {
    "duration": 3,
    "start_time": "2022-05-04T14:03:06.183Z"
   },
   {
    "duration": 5,
    "start_time": "2022-05-04T14:03:06.665Z"
   },
   {
    "duration": 5,
    "start_time": "2022-05-04T14:03:08.694Z"
   },
   {
    "duration": 4,
    "start_time": "2022-05-04T14:03:09.340Z"
   },
   {
    "duration": 3,
    "start_time": "2022-05-04T14:03:09.967Z"
   },
   {
    "duration": 5,
    "start_time": "2022-05-04T14:03:10.354Z"
   },
   {
    "duration": 5,
    "start_time": "2022-05-04T14:03:11.570Z"
   },
   {
    "duration": 6,
    "start_time": "2022-05-04T14:03:12.187Z"
   },
   {
    "duration": 5,
    "start_time": "2022-05-04T14:03:12.880Z"
   },
   {
    "duration": 5,
    "start_time": "2022-05-04T14:03:14.245Z"
   },
   {
    "duration": 9,
    "start_time": "2022-05-04T14:03:14.837Z"
   },
   {
    "duration": 6,
    "start_time": "2022-05-04T14:03:15.212Z"
   },
   {
    "duration": 6,
    "start_time": "2022-05-04T14:03:16.414Z"
   },
   {
    "duration": 40,
    "start_time": "2022-05-04T14:03:17.835Z"
   },
   {
    "duration": 5,
    "start_time": "2022-05-04T14:03:19.151Z"
   },
   {
    "duration": 38,
    "start_time": "2022-05-04T14:03:20.816Z"
   },
   {
    "duration": 4,
    "start_time": "2022-05-04T14:03:22.309Z"
   },
   {
    "duration": 5,
    "start_time": "2022-05-04T14:03:22.831Z"
   },
   {
    "duration": 10,
    "start_time": "2022-05-04T14:03:24.164Z"
   },
   {
    "duration": 7,
    "start_time": "2022-05-04T14:03:25.271Z"
   },
   {
    "duration": 15,
    "start_time": "2022-05-04T14:03:26.964Z"
   },
   {
    "duration": 7,
    "start_time": "2022-05-04T14:03:28.080Z"
   },
   {
    "duration": 6,
    "start_time": "2022-05-04T14:03:29.081Z"
   },
   {
    "duration": 7,
    "start_time": "2022-05-04T14:03:30.546Z"
   },
   {
    "duration": 10,
    "start_time": "2022-05-04T14:03:31.936Z"
   },
   {
    "duration": 110,
    "start_time": "2022-05-04T14:03:33.120Z"
   },
   {
    "duration": 5,
    "start_time": "2022-05-04T14:03:36.533Z"
   },
   {
    "duration": 6,
    "start_time": "2022-05-04T14:03:37.510Z"
   },
   {
    "duration": 15,
    "start_time": "2022-05-04T14:03:39.336Z"
   },
   {
    "duration": 10,
    "start_time": "2022-05-04T14:03:41.732Z"
   },
   {
    "duration": 8,
    "start_time": "2022-05-04T14:03:42.827Z"
   },
   {
    "duration": 15,
    "start_time": "2022-05-04T14:03:43.599Z"
   },
   {
    "duration": 35,
    "start_time": "2022-05-04T14:03:46.760Z"
   },
   {
    "duration": 7,
    "start_time": "2022-05-04T14:03:48.129Z"
   },
   {
    "duration": 6,
    "start_time": "2022-05-04T14:03:49.078Z"
   },
   {
    "duration": 12,
    "start_time": "2022-05-04T14:03:50.274Z"
   },
   {
    "duration": 6,
    "start_time": "2022-05-04T14:03:50.675Z"
   },
   {
    "duration": 4,
    "start_time": "2022-05-04T14:03:53.069Z"
   },
   {
    "duration": 26,
    "start_time": "2022-05-04T14:03:53.645Z"
   },
   {
    "duration": 13,
    "start_time": "2022-05-04T14:03:55.024Z"
   },
   {
    "duration": 26,
    "start_time": "2022-05-04T14:03:56.463Z"
   },
   {
    "duration": 313,
    "start_time": "2022-05-04T14:03:58.090Z"
   },
   {
    "duration": 24,
    "start_time": "2022-05-04T14:03:59.631Z"
   },
   {
    "duration": 6,
    "start_time": "2022-05-04T14:04:03.485Z"
   },
   {
    "duration": 25,
    "start_time": "2022-05-04T14:04:04.346Z"
   },
   {
    "duration": 9,
    "start_time": "2022-05-04T14:04:08.061Z"
   },
   {
    "duration": 164,
    "start_time": "2022-05-04T14:04:10.437Z"
   },
   {
    "duration": 110,
    "start_time": "2022-05-04T14:04:12.394Z"
   },
   {
    "duration": 84,
    "start_time": "2022-05-04T14:04:14.315Z"
   },
   {
    "duration": 14,
    "start_time": "2022-05-04T14:04:22.214Z"
   },
   {
    "duration": 191,
    "start_time": "2022-05-04T14:04:22.768Z"
   },
   {
    "duration": 463,
    "start_time": "2022-05-04T14:04:25.664Z"
   },
   {
    "duration": 11,
    "start_time": "2022-05-04T14:04:42.741Z"
   },
   {
    "duration": 181,
    "start_time": "2022-05-04T14:04:44.018Z"
   },
   {
    "duration": 128,
    "start_time": "2022-05-04T14:04:46.734Z"
   },
   {
    "duration": 95,
    "start_time": "2022-05-04T14:04:48.613Z"
   },
   {
    "duration": 23,
    "start_time": "2022-05-04T14:04:52.887Z"
   },
   {
    "duration": 12,
    "start_time": "2022-05-04T14:04:59.377Z"
   },
   {
    "duration": 176,
    "start_time": "2022-05-04T14:05:00.279Z"
   },
   {
    "duration": 9,
    "start_time": "2022-05-04T14:05:11.313Z"
   },
   {
    "duration": 135,
    "start_time": "2022-05-04T14:05:12.152Z"
   },
   {
    "duration": 113,
    "start_time": "2022-05-04T14:05:13.737Z"
   },
   {
    "duration": 11,
    "start_time": "2022-05-04T14:05:22.210Z"
   },
   {
    "duration": 139,
    "start_time": "2022-05-04T14:05:22.893Z"
   },
   {
    "duration": 189,
    "start_time": "2022-05-04T14:06:25.865Z"
   },
   {
    "duration": 10,
    "start_time": "2022-05-04T14:06:28.684Z"
   },
   {
    "duration": 183,
    "start_time": "2022-05-04T14:06:29.624Z"
   },
   {
    "duration": 204,
    "start_time": "2022-05-04T14:06:37.903Z"
   },
   {
    "duration": 99,
    "start_time": "2022-05-04T14:06:40.679Z"
   },
   {
    "duration": 10,
    "start_time": "2022-05-04T14:06:47.784Z"
   },
   {
    "duration": 151,
    "start_time": "2022-05-04T14:06:48.552Z"
   },
   {
    "duration": 9,
    "start_time": "2022-05-04T14:06:59.225Z"
   },
   {
    "duration": 175,
    "start_time": "2022-05-04T14:07:00.746Z"
   },
   {
    "duration": 130,
    "start_time": "2022-05-04T14:07:03.147Z"
   },
   {
    "duration": 12,
    "start_time": "2022-05-04T14:07:10.267Z"
   },
   {
    "duration": 175,
    "start_time": "2022-05-04T14:07:11.040Z"
   },
   {
    "duration": 14,
    "start_time": "2022-05-04T14:08:11.969Z"
   },
   {
    "duration": 187,
    "start_time": "2022-05-04T14:08:16.214Z"
   },
   {
    "duration": 178,
    "start_time": "2022-05-04T14:08:18.345Z"
   },
   {
    "duration": 1052,
    "start_time": "2022-05-04T14:08:19.626Z"
   },
   {
    "duration": 184,
    "start_time": "2022-05-04T14:08:22.422Z"
   },
   {
    "duration": 298,
    "start_time": "2022-05-04T14:08:24.081Z"
   },
   {
    "duration": 384,
    "start_time": "2022-05-04T14:08:26.952Z"
   },
   {
    "duration": 154,
    "start_time": "2022-05-04T14:08:29.362Z"
   },
   {
    "duration": 160,
    "start_time": "2022-05-04T14:08:33.058Z"
   },
   {
    "duration": 156,
    "start_time": "2022-05-04T14:08:35.634Z"
   },
   {
    "duration": 160,
    "start_time": "2022-05-04T14:09:02.826Z"
   },
   {
    "duration": 180,
    "start_time": "2022-05-04T14:09:16.188Z"
   },
   {
    "duration": 24,
    "start_time": "2022-05-04T14:09:22.405Z"
   },
   {
    "duration": 9,
    "start_time": "2022-05-04T14:09:28.140Z"
   },
   {
    "duration": 150,
    "start_time": "2022-05-04T14:09:29.001Z"
   },
   {
    "duration": 100,
    "start_time": "2022-05-04T14:10:36.922Z"
   },
   {
    "duration": 38,
    "start_time": "2022-05-04T14:10:41.346Z"
   },
   {
    "duration": 100,
    "start_time": "2022-05-04T14:11:41.983Z"
   },
   {
    "duration": 141,
    "start_time": "2022-05-04T14:11:52.962Z"
   },
   {
    "duration": 16,
    "start_time": "2022-05-04T14:12:10.062Z"
   },
   {
    "duration": 30,
    "start_time": "2022-05-04T14:13:43.278Z"
   },
   {
    "duration": 18,
    "start_time": "2022-05-04T14:15:34.277Z"
   },
   {
    "duration": 43,
    "start_time": "2022-05-04T14:15:43.812Z"
   },
   {
    "duration": 4,
    "start_time": "2022-05-04T14:16:25.689Z"
   },
   {
    "duration": 14,
    "start_time": "2022-05-04T14:17:05.013Z"
   },
   {
    "duration": 119,
    "start_time": "2022-05-04T14:17:12.803Z"
   },
   {
    "duration": 29,
    "start_time": "2022-05-04T14:17:16.376Z"
   },
   {
    "duration": 168,
    "start_time": "2022-05-04T14:17:32.462Z"
   },
   {
    "duration": 8,
    "start_time": "2022-05-04T14:22:21.054Z"
   },
   {
    "duration": 195,
    "start_time": "2022-05-04T14:22:35.019Z"
   },
   {
    "duration": 26,
    "start_time": "2022-05-04T14:24:33.436Z"
   },
   {
    "duration": 7,
    "start_time": "2022-05-04T14:26:17.407Z"
   },
   {
    "duration": 187,
    "start_time": "2022-05-04T14:26:18.178Z"
   },
   {
    "duration": 181,
    "start_time": "2022-05-04T14:28:26.339Z"
   },
   {
    "duration": 10,
    "start_time": "2022-05-04T14:40:26.254Z"
   },
   {
    "duration": 9,
    "start_time": "2022-05-04T14:43:28.603Z"
   },
   {
    "duration": 4,
    "start_time": "2022-05-04T14:43:34.902Z"
   },
   {
    "duration": 6,
    "start_time": "2022-05-04T14:43:37.338Z"
   },
   {
    "duration": 164,
    "start_time": "2022-05-04T14:43:39.479Z"
   },
   {
    "duration": 2381,
    "start_time": "2022-05-04T14:43:41.955Z"
   },
   {
    "duration": 1021,
    "start_time": "2022-05-04T14:43:56.957Z"
   },
   {
    "duration": 773,
    "start_time": "2022-05-04T14:44:10.109Z"
   },
   {
    "duration": 1180,
    "start_time": "2022-05-04T14:44:27.541Z"
   },
   {
    "duration": 1011,
    "start_time": "2022-05-04T14:45:15.285Z"
   },
   {
    "duration": 339,
    "start_time": "2022-05-04T14:45:24.789Z"
   },
   {
    "duration": 293,
    "start_time": "2022-05-04T14:48:12.351Z"
   },
   {
    "duration": 2958,
    "start_time": "2022-05-04T14:54:42.811Z"
   },
   {
    "duration": 641,
    "start_time": "2022-05-04T14:55:54.281Z"
   },
   {
    "duration": 545,
    "start_time": "2022-05-04T14:58:03.980Z"
   },
   {
    "duration": 2568,
    "start_time": "2022-05-04T14:58:25.336Z"
   },
   {
    "duration": 2418,
    "start_time": "2022-05-04T14:58:44.997Z"
   },
   {
    "duration": 2444,
    "start_time": "2022-05-04T14:59:22.587Z"
   },
   {
    "duration": 641,
    "start_time": "2022-05-04T15:08:43.372Z"
   },
   {
    "duration": 594,
    "start_time": "2022-05-04T15:09:10.835Z"
   },
   {
    "duration": 626,
    "start_time": "2022-05-04T15:10:27.238Z"
   },
   {
    "duration": 229,
    "start_time": "2022-05-04T15:10:49.733Z"
   },
   {
    "duration": 150,
    "start_time": "2022-05-04T15:11:10.238Z"
   },
   {
    "duration": 974,
    "start_time": "2022-05-04T15:11:31.978Z"
   },
   {
    "duration": 1896,
    "start_time": "2022-05-04T15:18:39.696Z"
   },
   {
    "duration": 1278,
    "start_time": "2022-05-04T15:18:58.617Z"
   },
   {
    "duration": 284,
    "start_time": "2022-05-04T15:26:18.967Z"
   },
   {
    "duration": 249,
    "start_time": "2022-05-04T15:27:20.791Z"
   },
   {
    "duration": 528,
    "start_time": "2022-05-04T15:28:52.006Z"
   },
   {
    "duration": 235,
    "start_time": "2022-05-04T15:29:52.947Z"
   },
   {
    "duration": 228,
    "start_time": "2022-05-04T15:30:07.470Z"
   },
   {
    "duration": 207,
    "start_time": "2022-05-04T15:31:09.260Z"
   },
   {
    "duration": 200,
    "start_time": "2022-05-04T15:31:45.263Z"
   },
   {
    "duration": 201,
    "start_time": "2022-05-04T15:31:56.065Z"
   },
   {
    "duration": 230,
    "start_time": "2022-05-04T15:32:40.612Z"
   },
   {
    "duration": 256,
    "start_time": "2022-05-04T15:34:04.932Z"
   },
   {
    "duration": 215,
    "start_time": "2022-05-04T15:34:14.727Z"
   },
   {
    "duration": 420,
    "start_time": "2022-05-04T15:34:33.681Z"
   },
   {
    "duration": 220,
    "start_time": "2022-05-04T15:34:40.266Z"
   },
   {
    "duration": 218,
    "start_time": "2022-05-04T15:34:59.571Z"
   },
   {
    "duration": 10,
    "start_time": "2022-05-04T15:35:47.047Z"
   },
   {
    "duration": 259,
    "start_time": "2022-05-04T15:36:26.014Z"
   },
   {
    "duration": 240,
    "start_time": "2022-05-04T15:37:51.867Z"
   },
   {
    "duration": 224,
    "start_time": "2022-05-04T15:37:56.851Z"
   },
   {
    "duration": 236,
    "start_time": "2022-05-04T15:38:12.975Z"
   },
   {
    "duration": 246,
    "start_time": "2022-05-04T15:38:21.522Z"
   },
   {
    "duration": 22,
    "start_time": "2022-05-04T15:54:53.702Z"
   },
   {
    "duration": 4,
    "start_time": "2022-05-04T15:59:30.377Z"
   },
   {
    "duration": 4,
    "start_time": "2022-05-04T15:59:36.247Z"
   },
   {
    "duration": 150,
    "start_time": "2022-05-04T16:01:02.555Z"
   },
   {
    "duration": 157,
    "start_time": "2022-05-04T16:01:27.421Z"
   },
   {
    "duration": 154,
    "start_time": "2022-05-04T16:02:49.474Z"
   },
   {
    "duration": 142,
    "start_time": "2022-05-04T16:03:43.906Z"
   },
   {
    "duration": 175,
    "start_time": "2022-05-04T16:04:54.866Z"
   },
   {
    "duration": 925,
    "start_time": "2022-05-04T16:10:04.632Z"
   },
   {
    "duration": 673,
    "start_time": "2022-05-04T16:11:09.154Z"
   },
   {
    "duration": 153,
    "start_time": "2022-05-04T16:13:07.421Z"
   },
   {
    "duration": 185,
    "start_time": "2022-05-04T16:13:56.318Z"
   },
   {
    "duration": 201,
    "start_time": "2022-05-04T16:14:21.659Z"
   },
   {
    "duration": 4,
    "start_time": "2022-05-04T16:15:47.857Z"
   },
   {
    "duration": 204,
    "start_time": "2022-05-04T16:15:49.771Z"
   },
   {
    "duration": 39,
    "start_time": "2022-05-04T16:16:18.872Z"
   },
   {
    "duration": 14,
    "start_time": "2022-05-04T16:17:03.097Z"
   },
   {
    "duration": 184,
    "start_time": "2022-05-04T16:17:11.765Z"
   },
   {
    "duration": 253,
    "start_time": "2022-05-04T16:20:54.161Z"
   },
   {
    "duration": 111,
    "start_time": "2022-05-04T16:21:17.326Z"
   },
   {
    "duration": 288,
    "start_time": "2022-05-04T16:21:31.369Z"
   },
   {
    "duration": 270,
    "start_time": "2022-05-04T16:21:41.374Z"
   },
   {
    "duration": 455,
    "start_time": "2022-05-04T16:22:11.865Z"
   },
   {
    "duration": 276,
    "start_time": "2022-05-04T16:22:30.264Z"
   },
   {
    "duration": 252,
    "start_time": "2022-05-04T16:24:10.580Z"
   },
   {
    "duration": 247,
    "start_time": "2022-05-04T16:25:53.013Z"
   },
   {
    "duration": 260,
    "start_time": "2022-05-04T16:26:02.502Z"
   },
   {
    "duration": 252,
    "start_time": "2022-05-04T16:27:08.790Z"
   },
   {
    "duration": 255,
    "start_time": "2022-05-04T16:27:25.165Z"
   },
   {
    "duration": 339,
    "start_time": "2022-05-04T16:27:47.328Z"
   },
   {
    "duration": 262,
    "start_time": "2022-05-04T16:28:11.824Z"
   },
   {
    "duration": 1937,
    "start_time": "2022-05-04T16:28:53.030Z"
   },
   {
    "duration": 1898,
    "start_time": "2022-05-04T16:29:03.663Z"
   },
   {
    "duration": 691,
    "start_time": "2022-05-04T16:46:59.931Z"
   },
   {
    "duration": 494,
    "start_time": "2022-05-04T16:47:26.242Z"
   },
   {
    "duration": 538,
    "start_time": "2022-05-04T16:51:22.083Z"
   },
   {
    "duration": 534,
    "start_time": "2022-05-04T16:51:52.178Z"
   },
   {
    "duration": 500,
    "start_time": "2022-05-04T16:52:07.067Z"
   },
   {
    "duration": 527,
    "start_time": "2022-05-04T16:52:14.918Z"
   },
   {
    "duration": 13,
    "start_time": "2022-05-04T17:04:55.728Z"
   },
   {
    "duration": 613,
    "start_time": "2022-05-04T17:06:10.949Z"
   },
   {
    "duration": 831,
    "start_time": "2022-05-04T17:06:34.965Z"
   },
   {
    "duration": 8,
    "start_time": "2022-05-04T17:08:47.369Z"
   },
   {
    "duration": 459,
    "start_time": "2022-05-04T17:11:54.860Z"
   },
   {
    "duration": 11,
    "start_time": "2022-05-04T17:29:58.213Z"
   },
   {
    "duration": 11,
    "start_time": "2022-05-04T17:34:52.128Z"
   },
   {
    "duration": 10,
    "start_time": "2022-05-04T17:35:01.077Z"
   },
   {
    "duration": 9,
    "start_time": "2022-05-04T17:35:10.891Z"
   },
   {
    "duration": 9,
    "start_time": "2022-05-04T17:43:09.264Z"
   },
   {
    "duration": 127,
    "start_time": "2022-05-04T17:46:07.756Z"
   },
   {
    "duration": 124,
    "start_time": "2022-05-04T17:46:14.162Z"
   },
   {
    "duration": 135,
    "start_time": "2022-05-04T17:46:50.539Z"
   },
   {
    "duration": 122,
    "start_time": "2022-05-04T17:47:05.685Z"
   },
   {
    "duration": 129,
    "start_time": "2022-05-04T17:47:11.157Z"
   },
   {
    "duration": 10,
    "start_time": "2022-05-04T17:50:59.197Z"
   },
   {
    "duration": 185,
    "start_time": "2022-05-04T21:01:58.332Z"
   },
   {
    "duration": 1137,
    "start_time": "2022-05-04T21:02:45.817Z"
   },
   {
    "duration": 17,
    "start_time": "2022-05-04T21:07:47.217Z"
   },
   {
    "duration": 1675,
    "start_time": "2022-05-07T06:20:17.796Z"
   },
   {
    "duration": 52,
    "start_time": "2022-05-07T06:20:19.474Z"
   },
   {
    "duration": 23,
    "start_time": "2022-05-07T06:20:19.528Z"
   },
   {
    "duration": 84,
    "start_time": "2022-05-07T06:20:19.554Z"
   },
   {
    "duration": 14,
    "start_time": "2022-05-07T06:20:19.640Z"
   },
   {
    "duration": 122,
    "start_time": "2022-05-07T06:20:19.656Z"
   },
   {
    "duration": 7,
    "start_time": "2022-05-07T06:20:19.780Z"
   },
   {
    "duration": 19,
    "start_time": "2022-05-07T06:20:19.790Z"
   },
   {
    "duration": 15,
    "start_time": "2022-05-07T06:20:19.811Z"
   },
   {
    "duration": 10,
    "start_time": "2022-05-07T06:20:19.830Z"
   },
   {
    "duration": 8,
    "start_time": "2022-05-07T06:20:19.842Z"
   },
   {
    "duration": 15,
    "start_time": "2022-05-07T06:20:19.853Z"
   },
   {
    "duration": 9,
    "start_time": "2022-05-07T06:20:19.871Z"
   },
   {
    "duration": 9,
    "start_time": "2022-05-07T06:20:19.882Z"
   },
   {
    "duration": 36,
    "start_time": "2022-05-07T06:20:19.893Z"
   },
   {
    "duration": 9,
    "start_time": "2022-05-07T06:20:19.931Z"
   },
   {
    "duration": 11,
    "start_time": "2022-05-07T06:20:19.942Z"
   },
   {
    "duration": 14,
    "start_time": "2022-05-07T06:20:19.956Z"
   },
   {
    "duration": 12,
    "start_time": "2022-05-07T06:20:19.972Z"
   },
   {
    "duration": 41,
    "start_time": "2022-05-07T06:20:19.985Z"
   },
   {
    "duration": 61,
    "start_time": "2022-05-07T06:20:20.028Z"
   },
   {
    "duration": 32,
    "start_time": "2022-05-07T06:20:20.091Z"
   },
   {
    "duration": 57,
    "start_time": "2022-05-07T06:20:20.126Z"
   },
   {
    "duration": 6,
    "start_time": "2022-05-07T06:20:20.185Z"
   },
   {
    "duration": 34,
    "start_time": "2022-05-07T06:20:20.193Z"
   },
   {
    "duration": 15,
    "start_time": "2022-05-07T06:20:20.229Z"
   },
   {
    "duration": 11,
    "start_time": "2022-05-07T06:20:20.246Z"
   },
   {
    "duration": 20,
    "start_time": "2022-05-07T06:20:20.264Z"
   },
   {
    "duration": 40,
    "start_time": "2022-05-07T06:20:20.286Z"
   },
   {
    "duration": 8,
    "start_time": "2022-05-07T06:20:20.329Z"
   },
   {
    "duration": 9,
    "start_time": "2022-05-07T06:20:20.339Z"
   },
   {
    "duration": 15,
    "start_time": "2022-05-07T06:20:20.350Z"
   },
   {
    "duration": 5,
    "start_time": "2022-05-07T06:20:20.367Z"
   },
   {
    "duration": 51,
    "start_time": "2022-05-07T06:20:20.374Z"
   },
   {
    "duration": 6,
    "start_time": "2022-05-07T06:20:20.427Z"
   },
   {
    "duration": 24,
    "start_time": "2022-05-07T06:20:20.435Z"
   },
   {
    "duration": 11,
    "start_time": "2022-05-07T06:20:20.461Z"
   },
   {
    "duration": 13,
    "start_time": "2022-05-07T06:20:20.474Z"
   },
   {
    "duration": 56,
    "start_time": "2022-05-07T06:20:20.489Z"
   },
   {
    "duration": 32,
    "start_time": "2022-05-07T06:20:20.547Z"
   },
   {
    "duration": 10,
    "start_time": "2022-05-07T06:20:20.581Z"
   },
   {
    "duration": 8,
    "start_time": "2022-05-07T06:20:20.625Z"
   },
   {
    "duration": 17,
    "start_time": "2022-05-07T06:20:20.636Z"
   },
   {
    "duration": 11,
    "start_time": "2022-05-07T06:20:20.655Z"
   },
   {
    "duration": 6,
    "start_time": "2022-05-07T06:20:20.668Z"
   },
   {
    "duration": 53,
    "start_time": "2022-05-07T06:20:20.676Z"
   },
   {
    "duration": 558,
    "start_time": "2022-05-07T06:20:20.731Z"
   },
   {
    "duration": 7,
    "start_time": "2022-05-07T06:20:21.291Z"
   },
   {
    "duration": 48,
    "start_time": "2022-05-07T06:20:21.300Z"
   },
   {
    "duration": 20,
    "start_time": "2022-05-07T06:20:21.350Z"
   },
   {
    "duration": 290,
    "start_time": "2022-05-07T06:20:21.372Z"
   },
   {
    "duration": 183,
    "start_time": "2022-05-07T06:20:21.664Z"
   },
   {
    "duration": 144,
    "start_time": "2022-05-07T06:20:21.850Z"
   },
   {
    "duration": 28,
    "start_time": "2022-05-07T06:20:21.996Z"
   },
   {
    "duration": 301,
    "start_time": "2022-05-07T06:20:22.027Z"
   },
   {
    "duration": 13,
    "start_time": "2022-05-07T06:20:22.330Z"
   },
   {
    "duration": 12,
    "start_time": "2022-05-07T06:20:22.345Z"
   },
   {
    "duration": 401,
    "start_time": "2022-05-07T06:20:22.359Z"
   },
   {
    "duration": 209,
    "start_time": "2022-05-07T06:20:22.762Z"
   },
   {
    "duration": 159,
    "start_time": "2022-05-07T06:20:22.973Z"
   },
   {
    "duration": 33,
    "start_time": "2022-05-07T06:20:23.134Z"
   },
   {
    "duration": 16,
    "start_time": "2022-05-07T06:20:23.169Z"
   },
   {
    "duration": 307,
    "start_time": "2022-05-07T06:20:23.188Z"
   },
   {
    "duration": 28,
    "start_time": "2022-05-07T06:20:23.498Z"
   },
   {
    "duration": 12,
    "start_time": "2022-05-07T06:20:23.528Z"
   },
   {
    "duration": 242,
    "start_time": "2022-05-07T06:20:23.542Z"
   },
   {
    "duration": 195,
    "start_time": "2022-05-07T06:20:23.786Z"
   },
   {
    "duration": 15,
    "start_time": "2022-05-07T06:20:23.983Z"
   },
   {
    "duration": 237,
    "start_time": "2022-05-07T06:20:24.000Z"
   },
   {
    "duration": 11,
    "start_time": "2022-05-07T06:20:24.239Z"
   },
   {
    "duration": 12,
    "start_time": "2022-05-07T06:20:24.253Z"
   },
   {
    "duration": 322,
    "start_time": "2022-05-07T06:20:24.267Z"
   },
   {
    "duration": 184,
    "start_time": "2022-05-07T06:20:24.591Z"
   },
   {
    "duration": 260,
    "start_time": "2022-05-07T06:20:24.777Z"
   },
   {
    "duration": 14,
    "start_time": "2022-05-07T06:20:25.040Z"
   },
   {
    "duration": 234,
    "start_time": "2022-05-07T06:20:25.056Z"
   },
   {
    "duration": 12,
    "start_time": "2022-05-07T06:20:25.292Z"
   },
   {
    "duration": 25,
    "start_time": "2022-05-07T06:20:25.306Z"
   },
   {
    "duration": 304,
    "start_time": "2022-05-07T06:20:25.334Z"
   },
   {
    "duration": 213,
    "start_time": "2022-05-07T06:20:25.640Z"
   },
   {
    "duration": 14,
    "start_time": "2022-05-07T06:20:25.855Z"
   },
   {
    "duration": 289,
    "start_time": "2022-05-07T06:20:25.878Z"
   },
   {
    "duration": 8,
    "start_time": "2022-05-07T06:20:26.170Z"
   },
   {
    "duration": 18,
    "start_time": "2022-05-07T06:20:26.180Z"
   },
   {
    "duration": 294,
    "start_time": "2022-05-07T06:20:26.224Z"
   },
   {
    "duration": 1488,
    "start_time": "2022-05-07T06:20:26.520Z"
   },
   {
    "duration": 297,
    "start_time": "2022-05-07T06:20:28.010Z"
   },
   {
    "duration": 323,
    "start_time": "2022-05-07T06:20:28.309Z"
   },
   {
    "duration": 636,
    "start_time": "2022-05-07T06:20:28.634Z"
   },
   {
    "duration": 746,
    "start_time": "2022-05-07T06:20:29.272Z"
   },
   {
    "duration": 36,
    "start_time": "2022-05-07T06:20:30.025Z"
   },
   {
    "duration": 12,
    "start_time": "2022-05-07T06:20:30.064Z"
   },
   {
    "duration": 271,
    "start_time": "2022-05-07T06:20:30.078Z"
   },
   {
    "duration": 4,
    "start_time": "2022-05-07T06:20:30.351Z"
   },
   {
    "duration": 17,
    "start_time": "2022-05-07T06:20:30.357Z"
   },
   {
    "duration": 416,
    "start_time": "2022-05-07T06:20:30.377Z"
   },
   {
    "duration": 392,
    "start_time": "2022-05-07T06:20:30.795Z"
   },
   {
    "duration": 383,
    "start_time": "2022-05-07T06:20:31.189Z"
   },
   {
    "duration": 420,
    "start_time": "2022-05-07T06:20:31.574Z"
   },
   {
    "duration": 1213,
    "start_time": "2022-05-07T06:20:31.996Z"
   },
   {
    "duration": 802,
    "start_time": "2022-05-07T06:20:33.212Z"
   },
   {
    "duration": 395,
    "start_time": "2022-05-07T06:20:34.016Z"
   },
   {
    "duration": 22,
    "start_time": "2022-05-07T08:12:00.045Z"
   },
   {
    "duration": 48,
    "start_time": "2022-05-08T15:41:35.689Z"
   },
   {
    "duration": 1601,
    "start_time": "2022-05-08T15:41:49.361Z"
   },
   {
    "duration": 30,
    "start_time": "2022-05-08T15:41:50.965Z"
   },
   {
    "duration": 18,
    "start_time": "2022-05-08T15:41:50.997Z"
   },
   {
    "duration": 58,
    "start_time": "2022-05-08T15:41:51.017Z"
   },
   {
    "duration": 12,
    "start_time": "2022-05-08T15:41:51.077Z"
   },
   {
    "duration": 83,
    "start_time": "2022-05-08T15:41:51.091Z"
   },
   {
    "duration": 5,
    "start_time": "2022-05-08T15:41:51.176Z"
   },
   {
    "duration": 4,
    "start_time": "2022-05-08T15:41:51.183Z"
   },
   {
    "duration": 6,
    "start_time": "2022-05-08T15:41:51.189Z"
   },
   {
    "duration": 5,
    "start_time": "2022-05-08T15:41:51.197Z"
   },
   {
    "duration": 5,
    "start_time": "2022-05-08T15:41:51.204Z"
   },
   {
    "duration": 7,
    "start_time": "2022-05-08T15:41:51.210Z"
   },
   {
    "duration": 6,
    "start_time": "2022-05-08T15:41:51.219Z"
   },
   {
    "duration": 5,
    "start_time": "2022-05-08T15:41:51.255Z"
   },
   {
    "duration": 8,
    "start_time": "2022-05-08T15:41:51.261Z"
   },
   {
    "duration": 5,
    "start_time": "2022-05-08T15:41:51.270Z"
   },
   {
    "duration": 6,
    "start_time": "2022-05-08T15:41:51.276Z"
   },
   {
    "duration": 10,
    "start_time": "2022-05-08T15:41:51.284Z"
   },
   {
    "duration": 5,
    "start_time": "2022-05-08T15:41:51.296Z"
   },
   {
    "duration": 7,
    "start_time": "2022-05-08T15:41:51.303Z"
   },
   {
    "duration": 67,
    "start_time": "2022-05-08T15:41:51.311Z"
   },
   {
    "duration": 34,
    "start_time": "2022-05-08T15:41:51.380Z"
   },
   {
    "duration": 4,
    "start_time": "2022-05-08T15:41:51.416Z"
   },
   {
    "duration": 6,
    "start_time": "2022-05-08T15:41:51.422Z"
   },
   {
    "duration": 31,
    "start_time": "2022-05-08T15:41:51.430Z"
   },
   {
    "duration": 6,
    "start_time": "2022-05-08T15:41:51.463Z"
   },
   {
    "duration": 17,
    "start_time": "2022-05-08T15:41:51.470Z"
   },
   {
    "duration": 6,
    "start_time": "2022-05-08T15:41:51.491Z"
   },
   {
    "duration": 21,
    "start_time": "2022-05-08T15:41:51.499Z"
   },
   {
    "duration": 15,
    "start_time": "2022-05-08T15:41:51.522Z"
   },
   {
    "duration": 24,
    "start_time": "2022-05-08T15:41:51.539Z"
   },
   {
    "duration": 26,
    "start_time": "2022-05-08T15:41:51.565Z"
   },
   {
    "duration": 28,
    "start_time": "2022-05-08T15:41:51.594Z"
   },
   {
    "duration": 7,
    "start_time": "2022-05-08T15:41:51.624Z"
   },
   {
    "duration": 18,
    "start_time": "2022-05-08T15:41:51.632Z"
   },
   {
    "duration": 114,
    "start_time": "2022-05-08T15:41:51.652Z"
   },
   {
    "duration": 0,
    "start_time": "2022-05-08T15:41:51.769Z"
   },
   {
    "duration": 0,
    "start_time": "2022-05-08T15:41:51.771Z"
   },
   {
    "duration": 0,
    "start_time": "2022-05-08T15:41:51.772Z"
   },
   {
    "duration": 0,
    "start_time": "2022-05-08T15:41:51.774Z"
   },
   {
    "duration": 0,
    "start_time": "2022-05-08T15:41:51.775Z"
   },
   {
    "duration": 0,
    "start_time": "2022-05-08T15:41:51.777Z"
   },
   {
    "duration": 0,
    "start_time": "2022-05-08T15:41:51.778Z"
   },
   {
    "duration": 0,
    "start_time": "2022-05-08T15:41:51.780Z"
   },
   {
    "duration": 0,
    "start_time": "2022-05-08T15:41:51.781Z"
   },
   {
    "duration": 0,
    "start_time": "2022-05-08T15:41:51.782Z"
   },
   {
    "duration": 0,
    "start_time": "2022-05-08T15:41:51.783Z"
   },
   {
    "duration": 0,
    "start_time": "2022-05-08T15:41:51.784Z"
   },
   {
    "duration": 0,
    "start_time": "2022-05-08T15:41:51.785Z"
   },
   {
    "duration": 0,
    "start_time": "2022-05-08T15:41:51.787Z"
   },
   {
    "duration": 0,
    "start_time": "2022-05-08T15:41:51.788Z"
   },
   {
    "duration": 0,
    "start_time": "2022-05-08T15:41:51.789Z"
   },
   {
    "duration": 0,
    "start_time": "2022-05-08T15:41:51.790Z"
   },
   {
    "duration": 0,
    "start_time": "2022-05-08T15:41:51.791Z"
   },
   {
    "duration": 0,
    "start_time": "2022-05-08T15:41:51.792Z"
   },
   {
    "duration": 0,
    "start_time": "2022-05-08T15:41:51.793Z"
   },
   {
    "duration": 0,
    "start_time": "2022-05-08T15:41:51.794Z"
   },
   {
    "duration": 0,
    "start_time": "2022-05-08T15:41:51.795Z"
   },
   {
    "duration": 0,
    "start_time": "2022-05-08T15:41:51.796Z"
   },
   {
    "duration": 0,
    "start_time": "2022-05-08T15:41:51.796Z"
   },
   {
    "duration": 0,
    "start_time": "2022-05-08T15:41:51.798Z"
   },
   {
    "duration": 0,
    "start_time": "2022-05-08T15:41:51.799Z"
   },
   {
    "duration": 0,
    "start_time": "2022-05-08T15:41:51.799Z"
   },
   {
    "duration": 0,
    "start_time": "2022-05-08T15:41:51.800Z"
   },
   {
    "duration": 0,
    "start_time": "2022-05-08T15:41:51.855Z"
   },
   {
    "duration": 0,
    "start_time": "2022-05-08T15:41:51.856Z"
   },
   {
    "duration": 0,
    "start_time": "2022-05-08T15:41:51.858Z"
   },
   {
    "duration": 0,
    "start_time": "2022-05-08T15:41:51.859Z"
   },
   {
    "duration": 0,
    "start_time": "2022-05-08T15:41:51.860Z"
   },
   {
    "duration": 0,
    "start_time": "2022-05-08T15:41:51.861Z"
   },
   {
    "duration": 0,
    "start_time": "2022-05-08T15:41:51.862Z"
   },
   {
    "duration": 0,
    "start_time": "2022-05-08T15:41:51.863Z"
   },
   {
    "duration": 0,
    "start_time": "2022-05-08T15:41:51.864Z"
   },
   {
    "duration": 0,
    "start_time": "2022-05-08T15:41:51.865Z"
   },
   {
    "duration": 0,
    "start_time": "2022-05-08T15:41:51.866Z"
   },
   {
    "duration": 0,
    "start_time": "2022-05-08T15:41:51.868Z"
   },
   {
    "duration": 0,
    "start_time": "2022-05-08T15:41:51.869Z"
   },
   {
    "duration": 0,
    "start_time": "2022-05-08T15:41:51.870Z"
   },
   {
    "duration": 0,
    "start_time": "2022-05-08T15:41:51.871Z"
   },
   {
    "duration": 0,
    "start_time": "2022-05-08T15:41:51.872Z"
   },
   {
    "duration": 0,
    "start_time": "2022-05-08T15:41:51.873Z"
   },
   {
    "duration": 0,
    "start_time": "2022-05-08T15:41:51.874Z"
   },
   {
    "duration": 0,
    "start_time": "2022-05-08T15:41:51.875Z"
   },
   {
    "duration": 0,
    "start_time": "2022-05-08T15:41:51.877Z"
   },
   {
    "duration": 0,
    "start_time": "2022-05-08T15:41:51.878Z"
   },
   {
    "duration": 0,
    "start_time": "2022-05-08T15:41:51.879Z"
   },
   {
    "duration": 0,
    "start_time": "2022-05-08T15:41:51.881Z"
   },
   {
    "duration": 0,
    "start_time": "2022-05-08T15:41:51.882Z"
   },
   {
    "duration": 0,
    "start_time": "2022-05-08T15:41:51.884Z"
   },
   {
    "duration": 0,
    "start_time": "2022-05-08T15:41:51.885Z"
   },
   {
    "duration": 0,
    "start_time": "2022-05-08T15:41:51.886Z"
   },
   {
    "duration": 0,
    "start_time": "2022-05-08T15:41:51.888Z"
   },
   {
    "duration": 0,
    "start_time": "2022-05-08T15:41:51.889Z"
   },
   {
    "duration": 0,
    "start_time": "2022-05-08T15:41:51.954Z"
   },
   {
    "duration": 0,
    "start_time": "2022-05-08T15:41:51.956Z"
   },
   {
    "duration": 0,
    "start_time": "2022-05-08T15:41:51.957Z"
   },
   {
    "duration": 0,
    "start_time": "2022-05-08T15:41:51.959Z"
   },
   {
    "duration": 0,
    "start_time": "2022-05-08T15:41:51.960Z"
   },
   {
    "duration": 0,
    "start_time": "2022-05-08T15:41:51.962Z"
   },
   {
    "duration": 0,
    "start_time": "2022-05-08T15:41:51.963Z"
   },
   {
    "duration": 0,
    "start_time": "2022-05-08T15:41:51.965Z"
   },
   {
    "duration": 0,
    "start_time": "2022-05-08T15:41:51.968Z"
   },
   {
    "duration": 1342,
    "start_time": "2022-05-08T15:42:29.707Z"
   },
   {
    "duration": 27,
    "start_time": "2022-05-08T15:42:31.051Z"
   },
   {
    "duration": 26,
    "start_time": "2022-05-08T15:42:31.079Z"
   },
   {
    "duration": 41,
    "start_time": "2022-05-08T15:42:31.107Z"
   },
   {
    "duration": 10,
    "start_time": "2022-05-08T15:42:31.150Z"
   },
   {
    "duration": 69,
    "start_time": "2022-05-08T15:42:31.162Z"
   },
   {
    "duration": 5,
    "start_time": "2022-05-08T15:42:31.233Z"
   },
   {
    "duration": 37,
    "start_time": "2022-05-08T15:42:31.239Z"
   },
   {
    "duration": 19,
    "start_time": "2022-05-08T15:42:31.278Z"
   },
   {
    "duration": 49,
    "start_time": "2022-05-08T15:42:31.299Z"
   },
   {
    "duration": 12,
    "start_time": "2022-05-08T15:42:31.350Z"
   },
   {
    "duration": 26,
    "start_time": "2022-05-08T15:42:31.364Z"
   },
   {
    "duration": 26,
    "start_time": "2022-05-08T15:42:31.392Z"
   },
   {
    "duration": 30,
    "start_time": "2022-05-08T15:42:31.420Z"
   },
   {
    "duration": 13,
    "start_time": "2022-05-08T15:42:31.452Z"
   },
   {
    "duration": 9,
    "start_time": "2022-05-08T15:42:31.467Z"
   },
   {
    "duration": 16,
    "start_time": "2022-05-08T15:42:31.477Z"
   },
   {
    "duration": 24,
    "start_time": "2022-05-08T15:42:31.495Z"
   },
   {
    "duration": 20,
    "start_time": "2022-05-08T15:42:31.521Z"
   },
   {
    "duration": 11,
    "start_time": "2022-05-08T15:42:31.543Z"
   },
   {
    "duration": 40,
    "start_time": "2022-05-08T15:42:31.556Z"
   },
   {
    "duration": 37,
    "start_time": "2022-05-08T15:42:31.598Z"
   },
   {
    "duration": 20,
    "start_time": "2022-05-08T15:42:31.637Z"
   },
   {
    "duration": 8,
    "start_time": "2022-05-08T15:42:31.660Z"
   },
   {
    "duration": 15,
    "start_time": "2022-05-08T15:42:31.670Z"
   },
   {
    "duration": 10,
    "start_time": "2022-05-08T15:42:31.686Z"
   },
   {
    "duration": 22,
    "start_time": "2022-05-08T15:42:31.698Z"
   },
   {
    "duration": 7,
    "start_time": "2022-05-08T15:42:31.724Z"
   },
   {
    "duration": 22,
    "start_time": "2022-05-08T15:42:31.732Z"
   },
   {
    "duration": 13,
    "start_time": "2022-05-08T15:42:31.756Z"
   },
   {
    "duration": 12,
    "start_time": "2022-05-08T15:42:31.771Z"
   },
   {
    "duration": 19,
    "start_time": "2022-05-08T15:42:31.785Z"
   },
   {
    "duration": 15,
    "start_time": "2022-05-08T15:42:31.805Z"
   },
   {
    "duration": 5,
    "start_time": "2022-05-08T15:42:31.822Z"
   },
   {
    "duration": 27,
    "start_time": "2022-05-08T15:42:31.829Z"
   },
   {
    "duration": 8,
    "start_time": "2022-05-08T15:42:31.858Z"
   },
   {
    "duration": 14,
    "start_time": "2022-05-08T15:42:31.868Z"
   },
   {
    "duration": 30,
    "start_time": "2022-05-08T15:42:31.884Z"
   },
   {
    "duration": 24,
    "start_time": "2022-05-08T15:42:31.915Z"
   },
   {
    "duration": 19,
    "start_time": "2022-05-08T15:42:31.941Z"
   },
   {
    "duration": 8,
    "start_time": "2022-05-08T15:42:31.962Z"
   },
   {
    "duration": 17,
    "start_time": "2022-05-08T15:42:31.972Z"
   },
   {
    "duration": 21,
    "start_time": "2022-05-08T15:42:31.991Z"
   },
   {
    "duration": 7,
    "start_time": "2022-05-08T15:42:32.013Z"
   },
   {
    "duration": 18,
    "start_time": "2022-05-08T15:42:32.021Z"
   },
   {
    "duration": 320,
    "start_time": "2022-05-08T15:42:32.040Z"
   },
   {
    "duration": 5,
    "start_time": "2022-05-08T15:42:32.362Z"
   },
   {
    "duration": 26,
    "start_time": "2022-05-08T15:42:32.368Z"
   },
   {
    "duration": 8,
    "start_time": "2022-05-08T15:42:32.396Z"
   },
   {
    "duration": 176,
    "start_time": "2022-05-08T15:42:32.406Z"
   },
   {
    "duration": 104,
    "start_time": "2022-05-08T15:42:32.584Z"
   },
   {
    "duration": 89,
    "start_time": "2022-05-08T15:42:32.690Z"
   },
   {
    "duration": 13,
    "start_time": "2022-05-08T15:42:32.781Z"
   },
   {
    "duration": 177,
    "start_time": "2022-05-08T15:42:32.796Z"
   },
   {
    "duration": 10,
    "start_time": "2022-05-08T15:42:32.974Z"
   },
   {
    "duration": 9,
    "start_time": "2022-05-08T15:42:32.985Z"
   },
   {
    "duration": 261,
    "start_time": "2022-05-08T15:42:32.996Z"
   },
   {
    "duration": 121,
    "start_time": "2022-05-08T15:42:33.259Z"
   },
   {
    "duration": 98,
    "start_time": "2022-05-08T15:42:33.383Z"
   },
   {
    "duration": 21,
    "start_time": "2022-05-08T15:42:33.483Z"
   },
   {
    "duration": 13,
    "start_time": "2022-05-08T15:42:33.506Z"
   },
   {
    "duration": 169,
    "start_time": "2022-05-08T15:42:33.520Z"
   },
   {
    "duration": 9,
    "start_time": "2022-05-08T15:42:33.691Z"
   },
   {
    "duration": 12,
    "start_time": "2022-05-08T15:42:33.701Z"
   },
   {
    "duration": 149,
    "start_time": "2022-05-08T15:42:33.714Z"
   },
   {
    "duration": 117,
    "start_time": "2022-05-08T15:42:33.864Z"
   },
   {
    "duration": 11,
    "start_time": "2022-05-08T15:42:33.983Z"
   },
   {
    "duration": 136,
    "start_time": "2022-05-08T15:42:33.995Z"
   },
   {
    "duration": 9,
    "start_time": "2022-05-08T15:42:34.132Z"
   },
   {
    "duration": 19,
    "start_time": "2022-05-08T15:42:34.142Z"
   },
   {
    "duration": 174,
    "start_time": "2022-05-08T15:42:34.162Z"
   },
   {
    "duration": 112,
    "start_time": "2022-05-08T15:42:34.337Z"
   },
   {
    "duration": 190,
    "start_time": "2022-05-08T15:42:34.455Z"
   },
   {
    "duration": 17,
    "start_time": "2022-05-08T15:42:34.646Z"
   },
   {
    "duration": 133,
    "start_time": "2022-05-08T15:42:34.664Z"
   },
   {
    "duration": 9,
    "start_time": "2022-05-08T15:42:34.799Z"
   },
   {
    "duration": 9,
    "start_time": "2022-05-08T15:42:34.809Z"
   },
   {
    "duration": 195,
    "start_time": "2022-05-08T15:42:34.820Z"
   },
   {
    "duration": 126,
    "start_time": "2022-05-08T15:42:35.017Z"
   },
   {
    "duration": 17,
    "start_time": "2022-05-08T15:42:35.145Z"
   },
   {
    "duration": 157,
    "start_time": "2022-05-08T15:42:35.164Z"
   },
   {
    "duration": 8,
    "start_time": "2022-05-08T15:42:35.327Z"
   },
   {
    "duration": 25,
    "start_time": "2022-05-08T15:42:35.337Z"
   },
   {
    "duration": 3,
    "start_time": "2022-05-08T15:42:35.363Z"
   },
   {
    "duration": 180,
    "start_time": "2022-05-08T15:42:35.368Z"
   },
   {
    "duration": 844,
    "start_time": "2022-05-08T15:42:35.554Z"
   },
   {
    "duration": 172,
    "start_time": "2022-05-08T15:42:36.400Z"
   },
   {
    "duration": 202,
    "start_time": "2022-05-08T15:42:36.574Z"
   },
   {
    "duration": 464,
    "start_time": "2022-05-08T15:42:36.778Z"
   },
   {
    "duration": 447,
    "start_time": "2022-05-08T15:42:37.243Z"
   },
   {
    "duration": 22,
    "start_time": "2022-05-08T15:42:37.692Z"
   },
   {
    "duration": 12,
    "start_time": "2022-05-08T15:42:37.715Z"
   },
   {
    "duration": 153,
    "start_time": "2022-05-08T15:42:37.728Z"
   },
   {
    "duration": 3,
    "start_time": "2022-05-08T15:42:37.883Z"
   },
   {
    "duration": 8,
    "start_time": "2022-05-08T15:42:37.888Z"
   },
   {
    "duration": 243,
    "start_time": "2022-05-08T15:42:37.898Z"
   },
   {
    "duration": 213,
    "start_time": "2022-05-08T15:42:38.143Z"
   },
   {
    "duration": 214,
    "start_time": "2022-05-08T15:42:38.358Z"
   },
   {
    "duration": 235,
    "start_time": "2022-05-08T15:42:38.574Z"
   },
   {
    "duration": 732,
    "start_time": "2022-05-08T15:42:38.811Z"
   },
   {
    "duration": 451,
    "start_time": "2022-05-08T15:42:39.546Z"
   },
   {
    "duration": 318,
    "start_time": "2022-05-08T15:42:39.999Z"
   },
   {
    "duration": 5,
    "start_time": "2022-05-08T15:42:56.200Z"
   },
   {
    "duration": 4,
    "start_time": "2022-05-08T15:43:32.000Z"
   },
   {
    "duration": 5,
    "start_time": "2022-05-08T15:43:37.302Z"
   },
   {
    "duration": 5,
    "start_time": "2022-05-08T15:44:05.745Z"
   },
   {
    "duration": 5,
    "start_time": "2022-05-08T15:44:25.817Z"
   },
   {
    "duration": 6,
    "start_time": "2022-05-08T15:44:59.468Z"
   },
   {
    "duration": 613,
    "start_time": "2022-05-08T15:45:32.811Z"
   },
   {
    "duration": 6,
    "start_time": "2022-05-08T15:47:14.650Z"
   },
   {
    "duration": 6,
    "start_time": "2022-05-08T15:47:15.488Z"
   },
   {
    "duration": 6,
    "start_time": "2022-05-08T15:47:16.557Z"
   },
   {
    "duration": 2594,
    "start_time": "2022-05-08T15:52:53.214Z"
   },
   {
    "duration": 289,
    "start_time": "2022-05-08T15:53:07.092Z"
   },
   {
    "duration": 259,
    "start_time": "2022-05-08T16:12:32.069Z"
   },
   {
    "duration": 273,
    "start_time": "2022-05-08T16:13:33.393Z"
   },
   {
    "duration": 6,
    "start_time": "2022-05-08T17:48:55.532Z"
   },
   {
    "duration": 364,
    "start_time": "2022-05-08T17:57:46.964Z"
   },
   {
    "duration": 173,
    "start_time": "2022-05-08T18:09:37.163Z"
   },
   {
    "duration": 185,
    "start_time": "2022-05-08T18:09:42.518Z"
   },
   {
    "duration": 220,
    "start_time": "2022-05-08T18:09:47.738Z"
   },
   {
    "duration": 179,
    "start_time": "2022-05-08T18:10:01.094Z"
   },
   {
    "duration": 249,
    "start_time": "2022-05-08T18:10:57.383Z"
   },
   {
    "duration": 231,
    "start_time": "2022-05-08T18:11:13.084Z"
   },
   {
    "duration": 10,
    "start_time": "2022-05-08T18:35:09.389Z"
   },
   {
    "duration": 186,
    "start_time": "2022-05-08T18:35:11.763Z"
   },
   {
    "duration": 123,
    "start_time": "2022-05-08T18:35:14.296Z"
   },
   {
    "duration": 78,
    "start_time": "2022-05-08T18:37:27.091Z"
   },
   {
    "duration": 191,
    "start_time": "2022-05-08T18:37:53.069Z"
   },
   {
    "duration": 109,
    "start_time": "2022-05-08T18:38:45.004Z"
   },
   {
    "duration": 118,
    "start_time": "2022-05-08T18:39:10.785Z"
   },
   {
    "duration": 115,
    "start_time": "2022-05-08T18:40:00.223Z"
   },
   {
    "duration": 184,
    "start_time": "2022-05-08T18:40:37.498Z"
   },
   {
    "duration": 202,
    "start_time": "2022-05-08T18:40:57.832Z"
   },
   {
    "duration": 200,
    "start_time": "2022-05-08T18:41:05.326Z"
   },
   {
    "duration": 151,
    "start_time": "2022-05-08T18:41:14.619Z"
   },
   {
    "duration": 131,
    "start_time": "2022-05-08T18:41:17.959Z"
   },
   {
    "duration": 114,
    "start_time": "2022-05-08T18:41:22.296Z"
   },
   {
    "duration": 117,
    "start_time": "2022-05-08T18:41:30.795Z"
   },
   {
    "duration": 120,
    "start_time": "2022-05-08T18:41:36.210Z"
   },
   {
    "duration": 131,
    "start_time": "2022-05-08T18:43:22.758Z"
   },
   {
    "duration": 124,
    "start_time": "2022-05-08T18:44:55.633Z"
   },
   {
    "duration": 11,
    "start_time": "2022-05-08T18:45:28.070Z"
   },
   {
    "duration": 269,
    "start_time": "2022-05-08T18:45:28.865Z"
   },
   {
    "duration": 9,
    "start_time": "2022-05-08T18:45:46.577Z"
   },
   {
    "duration": 11,
    "start_time": "2022-05-08T18:47:04.983Z"
   },
   {
    "duration": 8,
    "start_time": "2022-05-08T18:47:07.096Z"
   },
   {
    "duration": 9,
    "start_time": "2022-05-08T18:49:05.399Z"
   },
   {
    "duration": 8,
    "start_time": "2022-05-08T18:49:07.144Z"
   },
   {
    "duration": 104,
    "start_time": "2022-05-08T18:53:17.636Z"
   },
   {
    "duration": 97,
    "start_time": "2022-05-08T18:54:10.867Z"
   },
   {
    "duration": 8,
    "start_time": "2022-05-08T18:54:29.399Z"
   },
   {
    "duration": 168,
    "start_time": "2022-05-08T18:54:32.407Z"
   },
   {
    "duration": 8,
    "start_time": "2022-05-08T18:54:40.250Z"
   },
   {
    "duration": 107,
    "start_time": "2022-05-08T18:54:41.022Z"
   },
   {
    "duration": 79,
    "start_time": "2022-05-08T18:55:07.096Z"
   },
   {
    "duration": 10,
    "start_time": "2022-05-08T18:57:26.017Z"
   },
   {
    "duration": 172,
    "start_time": "2022-05-08T18:57:27.800Z"
   },
   {
    "duration": 117,
    "start_time": "2022-05-08T18:57:29.491Z"
   },
   {
    "duration": 9,
    "start_time": "2022-05-08T18:57:34.328Z"
   },
   {
    "duration": 163,
    "start_time": "2022-05-08T18:57:35.835Z"
   },
   {
    "duration": 8,
    "start_time": "2022-05-08T18:57:38.849Z"
   },
   {
    "duration": 1311,
    "start_time": "2022-05-08T18:59:37.994Z"
   },
   {
    "duration": 27,
    "start_time": "2022-05-08T18:59:39.307Z"
   },
   {
    "duration": 24,
    "start_time": "2022-05-08T18:59:39.336Z"
   },
   {
    "duration": 34,
    "start_time": "2022-05-08T18:59:39.362Z"
   },
   {
    "duration": 9,
    "start_time": "2022-05-08T18:59:39.397Z"
   },
   {
    "duration": 86,
    "start_time": "2022-05-08T18:59:39.407Z"
   },
   {
    "duration": 4,
    "start_time": "2022-05-08T18:59:39.495Z"
   },
   {
    "duration": 8,
    "start_time": "2022-05-08T18:59:39.500Z"
   },
   {
    "duration": 5,
    "start_time": "2022-05-08T18:59:39.510Z"
   },
   {
    "duration": 4,
    "start_time": "2022-05-08T18:59:39.518Z"
   },
   {
    "duration": 4,
    "start_time": "2022-05-08T18:59:39.523Z"
   },
   {
    "duration": 26,
    "start_time": "2022-05-08T18:59:39.528Z"
   },
   {
    "duration": 5,
    "start_time": "2022-05-08T18:59:39.556Z"
   },
   {
    "duration": 7,
    "start_time": "2022-05-08T18:59:39.562Z"
   },
   {
    "duration": 10,
    "start_time": "2022-05-08T18:59:39.570Z"
   },
   {
    "duration": 4,
    "start_time": "2022-05-08T18:59:39.582Z"
   },
   {
    "duration": 6,
    "start_time": "2022-05-08T18:59:39.588Z"
   },
   {
    "duration": 10,
    "start_time": "2022-05-08T18:59:39.596Z"
   },
   {
    "duration": 6,
    "start_time": "2022-05-08T18:59:39.607Z"
   },
   {
    "duration": 42,
    "start_time": "2022-05-08T18:59:39.614Z"
   },
   {
    "duration": 36,
    "start_time": "2022-05-08T18:59:39.658Z"
   },
   {
    "duration": 35,
    "start_time": "2022-05-08T18:59:39.696Z"
   },
   {
    "duration": 23,
    "start_time": "2022-05-08T18:59:39.733Z"
   },
   {
    "duration": 10,
    "start_time": "2022-05-08T18:59:39.758Z"
   },
   {
    "duration": 14,
    "start_time": "2022-05-08T18:59:39.769Z"
   },
   {
    "duration": 6,
    "start_time": "2022-05-08T18:59:39.784Z"
   },
   {
    "duration": 15,
    "start_time": "2022-05-08T18:59:39.792Z"
   },
   {
    "duration": 6,
    "start_time": "2022-05-08T18:59:39.812Z"
   },
   {
    "duration": 7,
    "start_time": "2022-05-08T18:59:39.819Z"
   },
   {
    "duration": 31,
    "start_time": "2022-05-08T18:59:39.827Z"
   },
   {
    "duration": 8,
    "start_time": "2022-05-08T18:59:39.860Z"
   },
   {
    "duration": 4,
    "start_time": "2022-05-08T18:59:39.870Z"
   },
   {
    "duration": 10,
    "start_time": "2022-05-08T18:59:39.875Z"
   },
   {
    "duration": 8,
    "start_time": "2022-05-08T18:59:39.886Z"
   },
   {
    "duration": 18,
    "start_time": "2022-05-08T18:59:39.895Z"
   },
   {
    "duration": 8,
    "start_time": "2022-05-08T18:59:39.914Z"
   },
   {
    "duration": 36,
    "start_time": "2022-05-08T18:59:39.923Z"
   },
   {
    "duration": 21,
    "start_time": "2022-05-08T18:59:39.961Z"
   },
   {
    "duration": 23,
    "start_time": "2022-05-08T18:59:39.983Z"
   },
   {
    "duration": 7,
    "start_time": "2022-05-08T18:59:40.008Z"
   },
   {
    "duration": 7,
    "start_time": "2022-05-08T18:59:40.016Z"
   },
   {
    "duration": 36,
    "start_time": "2022-05-08T18:59:40.025Z"
   },
   {
    "duration": 6,
    "start_time": "2022-05-08T18:59:40.062Z"
   },
   {
    "duration": 7,
    "start_time": "2022-05-08T18:59:40.070Z"
   },
   {
    "duration": 17,
    "start_time": "2022-05-08T18:59:40.078Z"
   },
   {
    "duration": 330,
    "start_time": "2022-05-08T18:59:40.097Z"
   },
   {
    "duration": 5,
    "start_time": "2022-05-08T18:59:40.429Z"
   },
   {
    "duration": 34,
    "start_time": "2022-05-08T18:59:40.435Z"
   },
   {
    "duration": 9,
    "start_time": "2022-05-08T18:59:40.470Z"
   },
   {
    "duration": 164,
    "start_time": "2022-05-08T18:59:40.481Z"
   },
   {
    "duration": 114,
    "start_time": "2022-05-08T18:59:40.647Z"
   },
   {
    "duration": 76,
    "start_time": "2022-05-08T18:59:40.763Z"
   },
   {
    "duration": 26,
    "start_time": "2022-05-08T18:59:40.841Z"
   },
   {
    "duration": 179,
    "start_time": "2022-05-08T18:59:40.869Z"
   },
   {
    "duration": 9,
    "start_time": "2022-05-08T18:59:41.054Z"
   },
   {
    "duration": 8,
    "start_time": "2022-05-08T18:59:41.065Z"
   },
   {
    "duration": 391,
    "start_time": "2022-05-08T18:59:41.076Z"
   },
   {
    "duration": 134,
    "start_time": "2022-05-08T18:59:41.469Z"
   },
   {
    "duration": 92,
    "start_time": "2022-05-08T18:59:41.604Z"
   },
   {
    "duration": 20,
    "start_time": "2022-05-08T18:59:41.698Z"
   },
   {
    "duration": 12,
    "start_time": "2022-05-08T18:59:41.720Z"
   },
   {
    "duration": 176,
    "start_time": "2022-05-08T18:59:41.733Z"
   },
   {
    "duration": 10,
    "start_time": "2022-05-08T18:59:41.911Z"
   },
   {
    "duration": 9,
    "start_time": "2022-05-08T18:59:41.923Z"
   },
   {
    "duration": 163,
    "start_time": "2022-05-08T18:59:41.934Z"
   },
   {
    "duration": 112,
    "start_time": "2022-05-08T18:59:42.099Z"
   },
   {
    "duration": 11,
    "start_time": "2022-05-08T18:59:42.212Z"
   },
   {
    "duration": 135,
    "start_time": "2022-05-08T18:59:42.224Z"
   },
   {
    "duration": 8,
    "start_time": "2022-05-08T18:59:42.361Z"
   },
   {
    "duration": 9,
    "start_time": "2022-05-08T18:59:42.370Z"
   },
   {
    "duration": 182,
    "start_time": "2022-05-08T18:59:42.381Z"
   },
   {
    "duration": 116,
    "start_time": "2022-05-08T18:59:42.565Z"
   },
   {
    "duration": 185,
    "start_time": "2022-05-08T18:59:42.682Z"
   },
   {
    "duration": 10,
    "start_time": "2022-05-08T18:59:42.869Z"
   },
   {
    "duration": 128,
    "start_time": "2022-05-08T18:59:42.881Z"
   },
   {
    "duration": 10,
    "start_time": "2022-05-08T18:59:43.010Z"
   },
   {
    "duration": 19,
    "start_time": "2022-05-08T18:59:43.021Z"
   },
   {
    "duration": 192,
    "start_time": "2022-05-08T18:59:43.042Z"
   },
   {
    "duration": 113,
    "start_time": "2022-05-08T18:59:43.236Z"
   },
   {
    "duration": 13,
    "start_time": "2022-05-08T18:59:43.351Z"
   },
   {
    "duration": 171,
    "start_time": "2022-05-08T18:59:43.365Z"
   },
   {
    "duration": 15,
    "start_time": "2022-05-08T18:59:43.542Z"
   },
   {
    "duration": 13,
    "start_time": "2022-05-08T18:59:43.559Z"
   },
   {
    "duration": 6,
    "start_time": "2022-05-08T18:59:43.573Z"
   },
   {
    "duration": 197,
    "start_time": "2022-05-08T18:59:43.581Z"
   },
   {
    "duration": 5,
    "start_time": "2022-05-08T18:59:43.780Z"
   },
   {
    "duration": 928,
    "start_time": "2022-05-08T18:59:43.787Z"
   },
   {
    "duration": 6,
    "start_time": "2022-05-08T18:59:44.717Z"
   },
   {
    "duration": 184,
    "start_time": "2022-05-08T18:59:44.724Z"
   },
   {
    "duration": 6,
    "start_time": "2022-05-08T18:59:44.910Z"
   },
   {
    "duration": 212,
    "start_time": "2022-05-08T18:59:44.918Z"
   },
   {
    "duration": 468,
    "start_time": "2022-05-08T18:59:45.131Z"
   },
   {
    "duration": 483,
    "start_time": "2022-05-08T18:59:45.601Z"
   },
   {
    "duration": 22,
    "start_time": "2022-05-08T18:59:46.086Z"
   },
   {
    "duration": 9,
    "start_time": "2022-05-08T18:59:46.110Z"
   },
   {
    "duration": 156,
    "start_time": "2022-05-08T18:59:46.121Z"
   },
   {
    "duration": 4,
    "start_time": "2022-05-08T18:59:46.279Z"
   },
   {
    "duration": 7,
    "start_time": "2022-05-08T18:59:46.284Z"
   },
   {
    "duration": 229,
    "start_time": "2022-05-08T18:59:46.292Z"
   },
   {
    "duration": 214,
    "start_time": "2022-05-08T18:59:46.523Z"
   },
   {
    "duration": 216,
    "start_time": "2022-05-08T18:59:46.739Z"
   },
   {
    "duration": 323,
    "start_time": "2022-05-08T18:59:46.957Z"
   },
   {
    "duration": 274,
    "start_time": "2022-05-08T18:59:47.281Z"
   },
   {
    "duration": 598,
    "start_time": "2022-05-08T18:59:47.557Z"
   },
   {
    "duration": 432,
    "start_time": "2022-05-08T18:59:48.157Z"
   },
   {
    "duration": 282,
    "start_time": "2022-05-08T18:59:48.590Z"
   },
   {
    "duration": 1302,
    "start_time": "2022-05-09T05:36:21.700Z"
   },
   {
    "duration": 25,
    "start_time": "2022-05-09T05:36:23.004Z"
   },
   {
    "duration": 17,
    "start_time": "2022-05-09T05:36:23.031Z"
   },
   {
    "duration": 31,
    "start_time": "2022-05-09T05:36:23.050Z"
   },
   {
    "duration": 9,
    "start_time": "2022-05-09T05:36:23.082Z"
   },
   {
    "duration": 79,
    "start_time": "2022-05-09T05:36:23.092Z"
   },
   {
    "duration": 4,
    "start_time": "2022-05-09T05:36:23.172Z"
   },
   {
    "duration": 5,
    "start_time": "2022-05-09T05:36:23.177Z"
   },
   {
    "duration": 5,
    "start_time": "2022-05-09T05:36:23.183Z"
   },
   {
    "duration": 5,
    "start_time": "2022-05-09T05:36:23.190Z"
   },
   {
    "duration": 7,
    "start_time": "2022-05-09T05:36:23.196Z"
   },
   {
    "duration": 5,
    "start_time": "2022-05-09T05:36:23.204Z"
   },
   {
    "duration": 5,
    "start_time": "2022-05-09T05:36:23.210Z"
   },
   {
    "duration": 32,
    "start_time": "2022-05-09T05:36:23.216Z"
   },
   {
    "duration": 5,
    "start_time": "2022-05-09T05:36:23.249Z"
   },
   {
    "duration": 4,
    "start_time": "2022-05-09T05:36:23.255Z"
   },
   {
    "duration": 5,
    "start_time": "2022-05-09T05:36:23.261Z"
   },
   {
    "duration": 10,
    "start_time": "2022-05-09T05:36:23.267Z"
   },
   {
    "duration": 5,
    "start_time": "2022-05-09T05:36:23.278Z"
   },
   {
    "duration": 6,
    "start_time": "2022-05-09T05:36:23.284Z"
   },
   {
    "duration": 62,
    "start_time": "2022-05-09T05:36:23.292Z"
   },
   {
    "duration": 31,
    "start_time": "2022-05-09T05:36:23.355Z"
   },
   {
    "duration": 4,
    "start_time": "2022-05-09T05:36:23.387Z"
   },
   {
    "duration": 6,
    "start_time": "2022-05-09T05:36:23.392Z"
   },
   {
    "duration": 9,
    "start_time": "2022-05-09T05:36:23.399Z"
   },
   {
    "duration": 6,
    "start_time": "2022-05-09T05:36:23.409Z"
   },
   {
    "duration": 43,
    "start_time": "2022-05-09T05:36:23.416Z"
   },
   {
    "duration": 6,
    "start_time": "2022-05-09T05:36:23.464Z"
   },
   {
    "duration": 6,
    "start_time": "2022-05-09T05:36:23.471Z"
   },
   {
    "duration": 6,
    "start_time": "2022-05-09T05:36:23.479Z"
   },
   {
    "duration": 9,
    "start_time": "2022-05-09T05:36:23.486Z"
   },
   {
    "duration": 4,
    "start_time": "2022-05-09T05:36:23.496Z"
   },
   {
    "duration": 7,
    "start_time": "2022-05-09T05:36:23.502Z"
   },
   {
    "duration": 5,
    "start_time": "2022-05-09T05:36:23.547Z"
   },
   {
    "duration": 14,
    "start_time": "2022-05-09T05:36:23.554Z"
   },
   {
    "duration": 8,
    "start_time": "2022-05-09T05:36:23.570Z"
   },
   {
    "duration": 8,
    "start_time": "2022-05-09T05:36:23.579Z"
   },
   {
    "duration": 13,
    "start_time": "2022-05-09T05:36:23.589Z"
   },
   {
    "duration": 57,
    "start_time": "2022-05-09T05:36:23.604Z"
   },
   {
    "duration": 6,
    "start_time": "2022-05-09T05:36:23.663Z"
   },
   {
    "duration": 8,
    "start_time": "2022-05-09T05:36:23.670Z"
   },
   {
    "duration": 11,
    "start_time": "2022-05-09T05:36:23.679Z"
   },
   {
    "duration": 5,
    "start_time": "2022-05-09T05:36:23.691Z"
   },
   {
    "duration": 4,
    "start_time": "2022-05-09T05:36:23.698Z"
   },
   {
    "duration": 14,
    "start_time": "2022-05-09T05:36:23.704Z"
   },
   {
    "duration": 315,
    "start_time": "2022-05-09T05:36:23.719Z"
   },
   {
    "duration": 5,
    "start_time": "2022-05-09T05:36:24.035Z"
   },
   {
    "duration": 21,
    "start_time": "2022-05-09T05:36:24.047Z"
   },
   {
    "duration": 8,
    "start_time": "2022-05-09T05:36:24.070Z"
   },
   {
    "duration": 162,
    "start_time": "2022-05-09T05:36:24.080Z"
   },
   {
    "duration": 102,
    "start_time": "2022-05-09T05:36:24.247Z"
   },
   {
    "duration": 69,
    "start_time": "2022-05-09T05:36:24.351Z"
   },
   {
    "duration": 27,
    "start_time": "2022-05-09T05:36:24.421Z"
   },
   {
    "duration": 156,
    "start_time": "2022-05-09T05:36:24.449Z"
   },
   {
    "duration": 8,
    "start_time": "2022-05-09T05:36:24.607Z"
   },
   {
    "duration": 8,
    "start_time": "2022-05-09T05:36:24.616Z"
   },
   {
    "duration": 230,
    "start_time": "2022-05-09T05:36:24.625Z"
   },
   {
    "duration": 115,
    "start_time": "2022-05-09T05:36:24.857Z"
   },
   {
    "duration": 87,
    "start_time": "2022-05-09T05:36:24.973Z"
   },
   {
    "duration": 19,
    "start_time": "2022-05-09T05:36:25.061Z"
   },
   {
    "duration": 11,
    "start_time": "2022-05-09T05:36:25.082Z"
   },
   {
    "duration": 168,
    "start_time": "2022-05-09T05:36:25.095Z"
   },
   {
    "duration": 8,
    "start_time": "2022-05-09T05:36:25.265Z"
   },
   {
    "duration": 7,
    "start_time": "2022-05-09T05:36:25.274Z"
   },
   {
    "duration": 138,
    "start_time": "2022-05-09T05:36:25.283Z"
   },
   {
    "duration": 110,
    "start_time": "2022-05-09T05:36:25.423Z"
   },
   {
    "duration": 12,
    "start_time": "2022-05-09T05:36:25.535Z"
   },
   {
    "duration": 123,
    "start_time": "2022-05-09T05:36:25.549Z"
   },
   {
    "duration": 7,
    "start_time": "2022-05-09T05:36:25.674Z"
   },
   {
    "duration": 8,
    "start_time": "2022-05-09T05:36:25.683Z"
   },
   {
    "duration": 167,
    "start_time": "2022-05-09T05:36:25.693Z"
   },
   {
    "duration": 104,
    "start_time": "2022-05-09T05:36:25.862Z"
   },
   {
    "duration": 169,
    "start_time": "2022-05-09T05:36:25.967Z"
   },
   {
    "duration": 17,
    "start_time": "2022-05-09T05:36:26.138Z"
   },
   {
    "duration": 122,
    "start_time": "2022-05-09T05:36:26.156Z"
   },
   {
    "duration": 8,
    "start_time": "2022-05-09T05:36:26.280Z"
   },
   {
    "duration": 8,
    "start_time": "2022-05-09T05:36:26.289Z"
   },
   {
    "duration": 181,
    "start_time": "2022-05-09T05:36:26.298Z"
   },
   {
    "duration": 115,
    "start_time": "2022-05-09T05:36:26.480Z"
   },
   {
    "duration": 9,
    "start_time": "2022-05-09T05:36:26.596Z"
   },
   {
    "duration": 157,
    "start_time": "2022-05-09T05:36:26.607Z"
   },
   {
    "duration": 6,
    "start_time": "2022-05-09T05:36:26.769Z"
   },
   {
    "duration": 15,
    "start_time": "2022-05-09T05:36:26.777Z"
   },
   {
    "duration": 5,
    "start_time": "2022-05-09T05:36:26.794Z"
   },
   {
    "duration": 177,
    "start_time": "2022-05-09T05:36:26.800Z"
   },
   {
    "duration": 5,
    "start_time": "2022-05-09T05:36:26.979Z"
   },
   {
    "duration": 931,
    "start_time": "2022-05-09T05:36:26.985Z"
   },
   {
    "duration": 5,
    "start_time": "2022-05-09T05:36:27.918Z"
   },
   {
    "duration": 161,
    "start_time": "2022-05-09T05:36:27.925Z"
   },
   {
    "duration": 6,
    "start_time": "2022-05-09T05:36:28.087Z"
   },
   {
    "duration": 186,
    "start_time": "2022-05-09T05:36:28.095Z"
   },
   {
    "duration": 395,
    "start_time": "2022-05-09T05:36:28.283Z"
   },
   {
    "duration": 421,
    "start_time": "2022-05-09T05:36:28.680Z"
   },
   {
    "duration": 22,
    "start_time": "2022-05-09T05:36:29.103Z"
   },
   {
    "duration": 25,
    "start_time": "2022-05-09T05:36:29.127Z"
   },
   {
    "duration": 143,
    "start_time": "2022-05-09T05:36:29.154Z"
   },
   {
    "duration": 4,
    "start_time": "2022-05-09T05:36:29.299Z"
   },
   {
    "duration": 7,
    "start_time": "2022-05-09T05:36:29.304Z"
   },
   {
    "duration": 223,
    "start_time": "2022-05-09T05:36:29.312Z"
   },
   {
    "duration": 192,
    "start_time": "2022-05-09T05:36:29.537Z"
   },
   {
    "duration": 203,
    "start_time": "2022-05-09T05:36:29.731Z"
   },
   {
    "duration": 288,
    "start_time": "2022-05-09T05:36:29.936Z"
   },
   {
    "duration": 269,
    "start_time": "2022-05-09T05:36:30.226Z"
   },
   {
    "duration": 559,
    "start_time": "2022-05-09T05:36:30.497Z"
   },
   {
    "duration": 409,
    "start_time": "2022-05-09T05:36:31.058Z"
   },
   {
    "duration": 249,
    "start_time": "2022-05-09T05:36:31.468Z"
   }
  ],
  "kernelspec": {
   "display_name": "Python 3 (ipykernel)",
   "language": "python",
   "name": "python3"
  },
  "language_info": {
   "codemirror_mode": {
    "name": "ipython",
    "version": 3
   },
   "file_extension": ".py",
   "mimetype": "text/x-python",
   "name": "python",
   "nbconvert_exporter": "python",
   "pygments_lexer": "ipython3",
   "version": "3.9.12"
  },
  "toc": {
   "base_numbering": 1,
   "nav_menu": {},
   "number_sections": true,
   "sideBar": true,
   "skip_h1_title": true,
   "title_cell": "Table of Contents",
   "title_sidebar": "Contents",
   "toc_cell": true,
   "toc_position": {
    "height": "calc(100% - 180px)",
    "left": "10px",
    "top": "150px",
    "width": "338px"
   },
   "toc_section_display": true,
   "toc_window_display": true
  }
 },
 "nbformat": 4,
 "nbformat_minor": 4
}
