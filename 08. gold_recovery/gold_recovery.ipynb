{
 "cells": [
  {
   "cell_type": "markdown",
   "metadata": {
    "toc": true
   },
   "source": [
    "<h1>Table of Contents<span class=\"tocSkip\"></span></h1>\n",
    "<div class=\"toc\"><ul class=\"toc-item\"><li><span><a href=\"#Data-Preparation\" data-toc-modified-id=\"Data-Preparation-1\"><span class=\"toc-item-num\">1&nbsp;&nbsp;</span>Data Preparation</a></span><ul class=\"toc-item\"><li><span><a href=\"#Data-import-and-review\" data-toc-modified-id=\"Data-import-and-review-1.1\"><span class=\"toc-item-num\">1.1&nbsp;&nbsp;</span>Data import and review</a></span></li><li><span><a href=\"#Verification-of-recovery-coefficient-calculations\" data-toc-modified-id=\"Verification-of-recovery-coefficient-calculations-1.2\"><span class=\"toc-item-num\">1.2&nbsp;&nbsp;</span>Verification of recovery coefficient calculations</a></span></li><li><span><a href=\"#Feature-Analysis\" data-toc-modified-id=\"Feature-Analysis-1.3\"><span class=\"toc-item-num\">1.3&nbsp;&nbsp;</span>Feature Analysis</a></span></li><li><span><a href=\"#Data-preprocessing\" data-toc-modified-id=\"Data-preprocessing-1.4\"><span class=\"toc-item-num\">1.4&nbsp;&nbsp;</span>Data preprocessing</a></span></li><li><span><a href=\"#Conclusion\" data-toc-modified-id=\"Conclusion-1.5\"><span class=\"toc-item-num\">1.5&nbsp;&nbsp;</span>Conclusion</a></span></li></ul></li><li><span><a href=\"#Data-analysis\" data-toc-modified-id=\"Data-analysis-2\"><span class=\"toc-item-num\">2&nbsp;&nbsp;</span>Data analysis</a></span><ul class=\"toc-item\"><li><span><a href=\"#Concentration-of-metals-(Au,-Ag,-Pb)-at-various-purification-stages\" data-toc-modified-id=\"Concentration-of-metals-(Au,-Ag,-Pb)-at-various-purification-stages-2.1\"><span class=\"toc-item-num\">2.1&nbsp;&nbsp;</span>Concentration of metals (Au, Ag, Pb) at various purification stages</a></span></li><li><span><a href=\"#Raw-material-granules-size-distributions-in-training-and-test-samples\" data-toc-modified-id=\"Raw-material-granules-size-distributions-in-training-and-test-samples-2.2\"><span class=\"toc-item-num\">2.2&nbsp;&nbsp;</span>Raw material granules size distributions in training and test samples</a></span></li><li><span><a href=\"#The-total-concentration-of-all-substances-at-different-stages\" data-toc-modified-id=\"The-total-concentration-of-all-substances-at-different-stages-2.3\"><span class=\"toc-item-num\">2.3&nbsp;&nbsp;</span>The total concentration of all substances at different stages</a></span></li></ul></li><li><span><a href=\"#Model\" data-toc-modified-id=\"Model-3\"><span class=\"toc-item-num\">3&nbsp;&nbsp;</span>Model</a></span><ul class=\"toc-item\"><li><span><a href=\"#Preparation-of-training-and-test-sets\" data-toc-modified-id=\"Preparation-of-training-and-test-sets-3.1\"><span class=\"toc-item-num\">3.1&nbsp;&nbsp;</span>Preparation of training and test sets</a></span></li><li><span><a href=\"#Function-to-calculate-the-final-sMAPE\" data-toc-modified-id=\"Function-to-calculate-the-final-sMAPE-3.2\"><span class=\"toc-item-num\">3.2&nbsp;&nbsp;</span>Function to calculate the final sMAPE</a></span></li><li><span><a href=\"#Training-models-and-quality-check-using-cross-validation\" data-toc-modified-id=\"Training-models-and-quality-check-using-cross-validation-3.3\"><span class=\"toc-item-num\">3.3&nbsp;&nbsp;</span>Training models and quality check using cross-validation</a></span></li><li><span><a href=\"#Testing-the-best-model-on-test-data\" data-toc-modified-id=\"Testing-the-best-model-on-test-data-3.4\"><span class=\"toc-item-num\">3.4&nbsp;&nbsp;</span>Testing the best model on test data</a></span></li></ul></li><li><span><a href=\"#Conclusion\" data-toc-modified-id=\"Conclusion-4\"><span class=\"toc-item-num\">4&nbsp;&nbsp;</span>Conclusion</a></span></li></ul></div>"
   ]
  },
  {
   "cell_type": "markdown",
   "metadata": {},
   "source": [
    "# Gold recovery"
   ]
  },
  {
   "cell_type": "markdown",
   "metadata": {},
   "source": [
    "We need to make an ML model for \"ABC\". The company develops solutions for the efficient operation of industrial enterprises.\n",
    "\n",
    "The model should predict the recovery coefficient of gold from gold ore. Use data with mining and cleaning parameters.\n",
    "\n",
    "The model will help optimize production and avoid launching an enterprise with unprofitable characteristics.\n",
    "\n",
    "We need to do the following:\n",
    "\n",
    "1. Preprocess the data;\n",
    "2. Conduct exploratory data analysis;\n",
    "3. Build and train the model."
   ]
  },
  {
   "cell_type": "markdown",
   "metadata": {},
   "source": [
    "## Data Preparation"
   ]
  },
  {
   "cell_type": "markdown",
   "metadata": {},
   "source": [
    "### Data import and review"
   ]
  },
  {
   "cell_type": "markdown",
   "metadata": {},
   "source": [
    "**Import of libraries and data**"
   ]
  },
  {
   "cell_type": "code",
   "execution_count": 1,
   "metadata": {},
   "outputs": [],
   "source": [
    "import matplotlib.pyplot as plt\n",
    "import numpy as np\n",
    "import pandas as pd\n",
    "from scipy import stats as st\n",
    "import seaborn as sns\n",
    "import warnings\n",
    "\n",
    "from sklearn.metrics import mean_absolute_error, make_scorer\n",
    "from sklearn.model_selection import GridSearchCV, cross_val_score\n",
    "from sklearn.preprocessing import StandardScaler \n",
    "from sklearn.utils import shuffle\n",
    "\n",
    "from sklearn.dummy import DummyRegressor\n",
    "from sklearn.ensemble import RandomForestRegressor \n",
    "from sklearn.linear_model import LinearRegression\n",
    "from sklearn.tree import DecisionTreeRegressor"
   ]
  },
  {
   "cell_type": "code",
   "execution_count": 2,
   "metadata": {},
   "outputs": [],
   "source": [
    "warnings.filterwarnings(\"ignore\")"
   ]
  },
  {
   "cell_type": "code",
   "execution_count": 3,
   "metadata": {},
   "outputs": [],
   "source": [
    "try:\n",
    "    train = pd.read_csv('gold_recovery_train_new.csv')\n",
    "    test = pd.read_csv('gold_recovery_test_new.csv')\n",
    "    full = pd.read_csv('gold_recovery_full_new.csv')\n",
    "except: \n",
    "    print('Something is wrong')"
   ]
  },
  {
   "cell_type": "markdown",
   "metadata": {},
   "source": [
    "**Data Review**"
   ]
  },
  {
   "cell_type": "code",
   "execution_count": 4,
   "metadata": {
    "scrolled": false
   },
   "outputs": [
    {
     "name": "stdout",
     "output_type": "stream",
     "text": [
      "<class 'pandas.core.frame.DataFrame'>\n",
      "RangeIndex: 14149 entries, 0 to 14148\n",
      "Data columns (total 87 columns):\n",
      " #   Column                                              Non-Null Count  Dtype  \n",
      "---  ------                                              --------------  -----  \n",
      " 0   date                                                14149 non-null  object \n",
      " 1   final.output.concentrate_ag                         14148 non-null  float64\n",
      " 2   final.output.concentrate_pb                         14148 non-null  float64\n",
      " 3   final.output.concentrate_sol                        13938 non-null  float64\n",
      " 4   final.output.concentrate_au                         14149 non-null  float64\n",
      " 5   final.output.recovery                               14149 non-null  float64\n",
      " 6   final.output.tail_ag                                14149 non-null  float64\n",
      " 7   final.output.tail_pb                                14049 non-null  float64\n",
      " 8   final.output.tail_sol                               14144 non-null  float64\n",
      " 9   final.output.tail_au                                14149 non-null  float64\n",
      " 10  primary_cleaner.input.sulfate                       14129 non-null  float64\n",
      " 11  primary_cleaner.input.depressant                    14117 non-null  float64\n",
      " 12  primary_cleaner.input.feed_size                     14149 non-null  float64\n",
      " 13  primary_cleaner.input.xanthate                      14049 non-null  float64\n",
      " 14  primary_cleaner.output.concentrate_ag               14149 non-null  float64\n",
      " 15  primary_cleaner.output.concentrate_pb               14063 non-null  float64\n",
      " 16  primary_cleaner.output.concentrate_sol              13863 non-null  float64\n",
      " 17  primary_cleaner.output.concentrate_au               14149 non-null  float64\n",
      " 18  primary_cleaner.output.tail_ag                      14148 non-null  float64\n",
      " 19  primary_cleaner.output.tail_pb                      14134 non-null  float64\n",
      " 20  primary_cleaner.output.tail_sol                     14103 non-null  float64\n",
      " 21  primary_cleaner.output.tail_au                      14149 non-null  float64\n",
      " 22  primary_cleaner.state.floatbank8_a_air              14145 non-null  float64\n",
      " 23  primary_cleaner.state.floatbank8_a_level            14148 non-null  float64\n",
      " 24  primary_cleaner.state.floatbank8_b_air              14145 non-null  float64\n",
      " 25  primary_cleaner.state.floatbank8_b_level            14148 non-null  float64\n",
      " 26  primary_cleaner.state.floatbank8_c_air              14147 non-null  float64\n",
      " 27  primary_cleaner.state.floatbank8_c_level            14148 non-null  float64\n",
      " 28  primary_cleaner.state.floatbank8_d_air              14146 non-null  float64\n",
      " 29  primary_cleaner.state.floatbank8_d_level            14148 non-null  float64\n",
      " 30  rougher.calculation.sulfate_to_au_concentrate       14148 non-null  float64\n",
      " 31  rougher.calculation.floatbank10_sulfate_to_au_feed  14148 non-null  float64\n",
      " 32  rougher.calculation.floatbank11_sulfate_to_au_feed  14148 non-null  float64\n",
      " 33  rougher.calculation.au_pb_ratio                     14149 non-null  float64\n",
      " 34  rougher.input.feed_ag                               14149 non-null  float64\n",
      " 35  rougher.input.feed_pb                               14049 non-null  float64\n",
      " 36  rougher.input.feed_rate                             14141 non-null  float64\n",
      " 37  rougher.input.feed_size                             14005 non-null  float64\n",
      " 38  rougher.input.feed_sol                              14071 non-null  float64\n",
      " 39  rougher.input.feed_au                               14149 non-null  float64\n",
      " 40  rougher.input.floatbank10_sulfate                   14120 non-null  float64\n",
      " 41  rougher.input.floatbank10_xanthate                  14141 non-null  float64\n",
      " 42  rougher.input.floatbank11_sulfate                   14113 non-null  float64\n",
      " 43  rougher.input.floatbank11_xanthate                  13721 non-null  float64\n",
      " 44  rougher.output.concentrate_ag                       14149 non-null  float64\n",
      " 45  rougher.output.concentrate_pb                       14149 non-null  float64\n",
      " 46  rougher.output.concentrate_sol                      14127 non-null  float64\n",
      " 47  rougher.output.concentrate_au                       14149 non-null  float64\n",
      " 48  rougher.output.recovery                             14149 non-null  float64\n",
      " 49  rougher.output.tail_ag                              14148 non-null  float64\n",
      " 50  rougher.output.tail_pb                              14149 non-null  float64\n",
      " 51  rougher.output.tail_sol                             14149 non-null  float64\n",
      " 52  rougher.output.tail_au                              14149 non-null  float64\n",
      " 53  rougher.state.floatbank10_a_air                     14148 non-null  float64\n",
      " 54  rougher.state.floatbank10_a_level                   14148 non-null  float64\n",
      " 55  rougher.state.floatbank10_b_air                     14148 non-null  float64\n",
      " 56  rougher.state.floatbank10_b_level                   14148 non-null  float64\n",
      " 57  rougher.state.floatbank10_c_air                     14148 non-null  float64\n",
      " 58  rougher.state.floatbank10_c_level                   14148 non-null  float64\n",
      " 59  rougher.state.floatbank10_d_air                     14149 non-null  float64\n",
      " 60  rougher.state.floatbank10_d_level                   14149 non-null  float64\n",
      " 61  rougher.state.floatbank10_e_air                     13713 non-null  float64\n",
      " 62  rougher.state.floatbank10_e_level                   14149 non-null  float64\n",
      " 63  rougher.state.floatbank10_f_air                     14149 non-null  float64\n",
      " 64  rougher.state.floatbank10_f_level                   14149 non-null  float64\n",
      " 65  secondary_cleaner.output.tail_ag                    14147 non-null  float64\n",
      " 66  secondary_cleaner.output.tail_pb                    14139 non-null  float64\n",
      " 67  secondary_cleaner.output.tail_sol                   12544 non-null  float64\n",
      " 68  secondary_cleaner.output.tail_au                    14149 non-null  float64\n",
      " 69  secondary_cleaner.state.floatbank2_a_air            13932 non-null  float64\n",
      " 70  secondary_cleaner.state.floatbank2_a_level          14148 non-null  float64\n",
      " 71  secondary_cleaner.state.floatbank2_b_air            14128 non-null  float64\n",
      " 72  secondary_cleaner.state.floatbank2_b_level          14148 non-null  float64\n",
      " 73  secondary_cleaner.state.floatbank3_a_air            14145 non-null  float64\n",
      " 74  secondary_cleaner.state.floatbank3_a_level          14148 non-null  float64\n",
      " 75  secondary_cleaner.state.floatbank3_b_air            14148 non-null  float64\n",
      " 76  secondary_cleaner.state.floatbank3_b_level          14148 non-null  float64\n",
      " 77  secondary_cleaner.state.floatbank4_a_air            14143 non-null  float64\n",
      " 78  secondary_cleaner.state.floatbank4_a_level          14148 non-null  float64\n",
      " 79  secondary_cleaner.state.floatbank4_b_air            14148 non-null  float64\n",
      " 80  secondary_cleaner.state.floatbank4_b_level          14148 non-null  float64\n",
      " 81  secondary_cleaner.state.floatbank5_a_air            14148 non-null  float64\n",
      " 82  secondary_cleaner.state.floatbank5_a_level          14148 non-null  float64\n",
      " 83  secondary_cleaner.state.floatbank5_b_air            14148 non-null  float64\n",
      " 84  secondary_cleaner.state.floatbank5_b_level          14148 non-null  float64\n",
      " 85  secondary_cleaner.state.floatbank6_a_air            14147 non-null  float64\n",
      " 86  secondary_cleaner.state.floatbank6_a_level          14148 non-null  float64\n",
      "dtypes: float64(86), object(1)\n",
      "memory usage: 9.4+ MB\n"
     ]
    }
   ],
   "source": [
    "train.info()"
   ]
  },
  {
   "cell_type": "code",
   "execution_count": 5,
   "metadata": {},
   "outputs": [
    {
     "data": {
      "text/html": [
       "<div>\n",
       "<style scoped>\n",
       "    .dataframe tbody tr th:only-of-type {\n",
       "        vertical-align: middle;\n",
       "    }\n",
       "\n",
       "    .dataframe tbody tr th {\n",
       "        vertical-align: top;\n",
       "    }\n",
       "\n",
       "    .dataframe thead th {\n",
       "        text-align: right;\n",
       "    }\n",
       "</style>\n",
       "<table border=\"1\" class=\"dataframe\">\n",
       "  <thead>\n",
       "    <tr style=\"text-align: right;\">\n",
       "      <th></th>\n",
       "      <th>count</th>\n",
       "      <th>mean</th>\n",
       "      <th>std</th>\n",
       "      <th>min</th>\n",
       "      <th>25%</th>\n",
       "      <th>50%</th>\n",
       "      <th>75%</th>\n",
       "      <th>max</th>\n",
       "    </tr>\n",
       "  </thead>\n",
       "  <tbody>\n",
       "    <tr>\n",
       "      <th>final.output.concentrate_ag</th>\n",
       "      <td>14148.0</td>\n",
       "      <td>5.14203</td>\n",
       "      <td>1.36959</td>\n",
       "      <td>0.00000</td>\n",
       "      <td>4.21162</td>\n",
       "      <td>4.99465</td>\n",
       "      <td>5.85954</td>\n",
       "      <td>16.00195</td>\n",
       "    </tr>\n",
       "    <tr>\n",
       "      <th>final.output.concentrate_pb</th>\n",
       "      <td>14148.0</td>\n",
       "      <td>10.13296</td>\n",
       "      <td>1.65493</td>\n",
       "      <td>0.00000</td>\n",
       "      <td>9.29735</td>\n",
       "      <td>10.29714</td>\n",
       "      <td>11.17060</td>\n",
       "      <td>17.03190</td>\n",
       "    </tr>\n",
       "    <tr>\n",
       "      <th>final.output.concentrate_sol</th>\n",
       "      <td>13938.0</td>\n",
       "      <td>9.20285</td>\n",
       "      <td>2.79052</td>\n",
       "      <td>0.00000</td>\n",
       "      <td>7.48465</td>\n",
       "      <td>8.84546</td>\n",
       "      <td>10.48751</td>\n",
       "      <td>18.12485</td>\n",
       "    </tr>\n",
       "    <tr>\n",
       "      <th>final.output.concentrate_au</th>\n",
       "      <td>14149.0</td>\n",
       "      <td>44.00379</td>\n",
       "      <td>4.90526</td>\n",
       "      <td>0.00000</td>\n",
       "      <td>43.27611</td>\n",
       "      <td>44.87244</td>\n",
       "      <td>46.16642</td>\n",
       "      <td>52.75664</td>\n",
       "    </tr>\n",
       "    <tr>\n",
       "      <th>final.output.recovery</th>\n",
       "      <td>14149.0</td>\n",
       "      <td>66.51883</td>\n",
       "      <td>10.29540</td>\n",
       "      <td>0.00000</td>\n",
       "      <td>62.54582</td>\n",
       "      <td>67.43278</td>\n",
       "      <td>72.34643</td>\n",
       "      <td>100.00000</td>\n",
       "    </tr>\n",
       "    <tr>\n",
       "      <th>...</th>\n",
       "      <td>...</td>\n",
       "      <td>...</td>\n",
       "      <td>...</td>\n",
       "      <td>...</td>\n",
       "      <td>...</td>\n",
       "      <td>...</td>\n",
       "      <td>...</td>\n",
       "      <td>...</td>\n",
       "    </tr>\n",
       "    <tr>\n",
       "      <th>secondary_cleaner.state.floatbank5_a_level</th>\n",
       "      <td>14148.0</td>\n",
       "      <td>-483.95602</td>\n",
       "      <td>37.89279</td>\n",
       "      <td>-797.14247</td>\n",
       "      <td>-500.36318</td>\n",
       "      <td>-499.70245</td>\n",
       "      <td>-487.71211</td>\n",
       "      <td>-275.07313</td>\n",
       "    </tr>\n",
       "    <tr>\n",
       "      <th>secondary_cleaner.state.floatbank5_b_air</th>\n",
       "      <td>14148.0</td>\n",
       "      <td>13.06459</td>\n",
       "      <td>5.76562</td>\n",
       "      <td>0.64621</td>\n",
       "      <td>8.99440</td>\n",
       "      <td>11.99755</td>\n",
       "      <td>17.98290</td>\n",
       "      <td>27.92600</td>\n",
       "    </tr>\n",
       "    <tr>\n",
       "      <th>secondary_cleaner.state.floatbank5_b_level</th>\n",
       "      <td>14148.0</td>\n",
       "      <td>-483.96656</td>\n",
       "      <td>39.20791</td>\n",
       "      <td>-800.00618</td>\n",
       "      <td>-500.10599</td>\n",
       "      <td>-499.91456</td>\n",
       "      <td>-453.18694</td>\n",
       "      <td>-157.39607</td>\n",
       "    </tr>\n",
       "    <tr>\n",
       "      <th>secondary_cleaner.state.floatbank6_a_air</th>\n",
       "      <td>14147.0</td>\n",
       "      <td>19.57754</td>\n",
       "      <td>5.76442</td>\n",
       "      <td>0.19532</td>\n",
       "      <td>14.98930</td>\n",
       "      <td>19.98418</td>\n",
       "      <td>24.99162</td>\n",
       "      <td>32.18891</td>\n",
       "    </tr>\n",
       "    <tr>\n",
       "      <th>secondary_cleaner.state.floatbank6_a_level</th>\n",
       "      <td>14148.0</td>\n",
       "      <td>-506.79848</td>\n",
       "      <td>37.07925</td>\n",
       "      <td>-809.39867</td>\n",
       "      <td>-500.74510</td>\n",
       "      <td>-500.06143</td>\n",
       "      <td>-499.53647</td>\n",
       "      <td>-104.42746</td>\n",
       "    </tr>\n",
       "  </tbody>\n",
       "</table>\n",
       "<p>86 rows × 8 columns</p>\n",
       "</div>"
      ],
      "text/plain": [
       "                                              count       mean       std  \\\n",
       "final.output.concentrate_ag                 14148.0    5.14203   1.36959   \n",
       "final.output.concentrate_pb                 14148.0   10.13296   1.65493   \n",
       "final.output.concentrate_sol                13938.0    9.20285   2.79052   \n",
       "final.output.concentrate_au                 14149.0   44.00379   4.90526   \n",
       "final.output.recovery                       14149.0   66.51883  10.29540   \n",
       "...                                             ...        ...       ...   \n",
       "secondary_cleaner.state.floatbank5_a_level  14148.0 -483.95602  37.89279   \n",
       "secondary_cleaner.state.floatbank5_b_air    14148.0   13.06459   5.76562   \n",
       "secondary_cleaner.state.floatbank5_b_level  14148.0 -483.96656  39.20791   \n",
       "secondary_cleaner.state.floatbank6_a_air    14147.0   19.57754   5.76442   \n",
       "secondary_cleaner.state.floatbank6_a_level  14148.0 -506.79848  37.07925   \n",
       "\n",
       "                                                  min        25%        50%  \\\n",
       "final.output.concentrate_ag                   0.00000    4.21162    4.99465   \n",
       "final.output.concentrate_pb                   0.00000    9.29735   10.29714   \n",
       "final.output.concentrate_sol                  0.00000    7.48465    8.84546   \n",
       "final.output.concentrate_au                   0.00000   43.27611   44.87244   \n",
       "final.output.recovery                         0.00000   62.54582   67.43278   \n",
       "...                                               ...        ...        ...   \n",
       "secondary_cleaner.state.floatbank5_a_level -797.14247 -500.36318 -499.70245   \n",
       "secondary_cleaner.state.floatbank5_b_air      0.64621    8.99440   11.99755   \n",
       "secondary_cleaner.state.floatbank5_b_level -800.00618 -500.10599 -499.91456   \n",
       "secondary_cleaner.state.floatbank6_a_air      0.19532   14.98930   19.98418   \n",
       "secondary_cleaner.state.floatbank6_a_level -809.39867 -500.74510 -500.06143   \n",
       "\n",
       "                                                  75%        max  \n",
       "final.output.concentrate_ag                   5.85954   16.00195  \n",
       "final.output.concentrate_pb                  11.17060   17.03190  \n",
       "final.output.concentrate_sol                 10.48751   18.12485  \n",
       "final.output.concentrate_au                  46.16642   52.75664  \n",
       "final.output.recovery                        72.34643  100.00000  \n",
       "...                                               ...        ...  \n",
       "secondary_cleaner.state.floatbank5_a_level -487.71211 -275.07313  \n",
       "secondary_cleaner.state.floatbank5_b_air     17.98290   27.92600  \n",
       "secondary_cleaner.state.floatbank5_b_level -453.18694 -157.39607  \n",
       "secondary_cleaner.state.floatbank6_a_air     24.99162   32.18891  \n",
       "secondary_cleaner.state.floatbank6_a_level -499.53647 -104.42746  \n",
       "\n",
       "[86 rows x 8 columns]"
      ]
     },
     "execution_count": 5,
     "metadata": {},
     "output_type": "execute_result"
    }
   ],
   "source": [
    "train.describe().T.round(5)"
   ]
  },
  {
   "cell_type": "code",
   "execution_count": 6,
   "metadata": {},
   "outputs": [
    {
     "data": {
      "text/plain": [
       "secondary_cleaner.output.tail_sol           1605\n",
       "rougher.state.floatbank10_e_air              436\n",
       "rougher.input.floatbank11_xanthate           428\n",
       "primary_cleaner.output.concentrate_sol       286\n",
       "secondary_cleaner.state.floatbank2_a_air     217\n",
       "                                            ... \n",
       "rougher.output.concentrate_pb                  0\n",
       "rougher.output.concentrate_au                  0\n",
       "rougher.output.recovery                        0\n",
       "rougher.output.tail_pb                         0\n",
       "date                                           0\n",
       "Length: 87, dtype: int64"
      ]
     },
     "execution_count": 6,
     "metadata": {},
     "output_type": "execute_result"
    }
   ],
   "source": [
    "train.isna().sum().sort_values(ascending=False)"
   ]
  },
  {
   "cell_type": "code",
   "execution_count": 7,
   "metadata": {
    "scrolled": false
   },
   "outputs": [
    {
     "name": "stdout",
     "output_type": "stream",
     "text": [
      "<class 'pandas.core.frame.DataFrame'>\n",
      "RangeIndex: 5290 entries, 0 to 5289\n",
      "Data columns (total 53 columns):\n",
      " #   Column                                      Non-Null Count  Dtype  \n",
      "---  ------                                      --------------  -----  \n",
      " 0   date                                        5290 non-null   object \n",
      " 1   primary_cleaner.input.sulfate               5286 non-null   float64\n",
      " 2   primary_cleaner.input.depressant            5285 non-null   float64\n",
      " 3   primary_cleaner.input.feed_size             5290 non-null   float64\n",
      " 4   primary_cleaner.input.xanthate              5286 non-null   float64\n",
      " 5   primary_cleaner.state.floatbank8_a_air      5290 non-null   float64\n",
      " 6   primary_cleaner.state.floatbank8_a_level    5290 non-null   float64\n",
      " 7   primary_cleaner.state.floatbank8_b_air      5290 non-null   float64\n",
      " 8   primary_cleaner.state.floatbank8_b_level    5290 non-null   float64\n",
      " 9   primary_cleaner.state.floatbank8_c_air      5290 non-null   float64\n",
      " 10  primary_cleaner.state.floatbank8_c_level    5290 non-null   float64\n",
      " 11  primary_cleaner.state.floatbank8_d_air      5290 non-null   float64\n",
      " 12  primary_cleaner.state.floatbank8_d_level    5290 non-null   float64\n",
      " 13  rougher.input.feed_ag                       5290 non-null   float64\n",
      " 14  rougher.input.feed_pb                       5290 non-null   float64\n",
      " 15  rougher.input.feed_rate                     5287 non-null   float64\n",
      " 16  rougher.input.feed_size                     5289 non-null   float64\n",
      " 17  rougher.input.feed_sol                      5269 non-null   float64\n",
      " 18  rougher.input.feed_au                       5290 non-null   float64\n",
      " 19  rougher.input.floatbank10_sulfate           5285 non-null   float64\n",
      " 20  rougher.input.floatbank10_xanthate          5290 non-null   float64\n",
      " 21  rougher.input.floatbank11_sulfate           5282 non-null   float64\n",
      " 22  rougher.input.floatbank11_xanthate          5265 non-null   float64\n",
      " 23  rougher.state.floatbank10_a_air             5290 non-null   float64\n",
      " 24  rougher.state.floatbank10_a_level           5290 non-null   float64\n",
      " 25  rougher.state.floatbank10_b_air             5290 non-null   float64\n",
      " 26  rougher.state.floatbank10_b_level           5290 non-null   float64\n",
      " 27  rougher.state.floatbank10_c_air             5290 non-null   float64\n",
      " 28  rougher.state.floatbank10_c_level           5290 non-null   float64\n",
      " 29  rougher.state.floatbank10_d_air             5290 non-null   float64\n",
      " 30  rougher.state.floatbank10_d_level           5290 non-null   float64\n",
      " 31  rougher.state.floatbank10_e_air             5290 non-null   float64\n",
      " 32  rougher.state.floatbank10_e_level           5290 non-null   float64\n",
      " 33  rougher.state.floatbank10_f_air             5290 non-null   float64\n",
      " 34  rougher.state.floatbank10_f_level           5290 non-null   float64\n",
      " 35  secondary_cleaner.state.floatbank2_a_air    5287 non-null   float64\n",
      " 36  secondary_cleaner.state.floatbank2_a_level  5290 non-null   float64\n",
      " 37  secondary_cleaner.state.floatbank2_b_air    5288 non-null   float64\n",
      " 38  secondary_cleaner.state.floatbank2_b_level  5290 non-null   float64\n",
      " 39  secondary_cleaner.state.floatbank3_a_air    5281 non-null   float64\n",
      " 40  secondary_cleaner.state.floatbank3_a_level  5290 non-null   float64\n",
      " 41  secondary_cleaner.state.floatbank3_b_air    5290 non-null   float64\n",
      " 42  secondary_cleaner.state.floatbank3_b_level  5290 non-null   float64\n",
      " 43  secondary_cleaner.state.floatbank4_a_air    5290 non-null   float64\n",
      " 44  secondary_cleaner.state.floatbank4_a_level  5290 non-null   float64\n",
      " 45  secondary_cleaner.state.floatbank4_b_air    5290 non-null   float64\n",
      " 46  secondary_cleaner.state.floatbank4_b_level  5290 non-null   float64\n",
      " 47  secondary_cleaner.state.floatbank5_a_air    5290 non-null   float64\n",
      " 48  secondary_cleaner.state.floatbank5_a_level  5290 non-null   float64\n",
      " 49  secondary_cleaner.state.floatbank5_b_air    5290 non-null   float64\n",
      " 50  secondary_cleaner.state.floatbank5_b_level  5290 non-null   float64\n",
      " 51  secondary_cleaner.state.floatbank6_a_air    5290 non-null   float64\n",
      " 52  secondary_cleaner.state.floatbank6_a_level  5290 non-null   float64\n",
      "dtypes: float64(52), object(1)\n",
      "memory usage: 2.1+ MB\n"
     ]
    }
   ],
   "source": [
    "test.info()"
   ]
  },
  {
   "cell_type": "code",
   "execution_count": 8,
   "metadata": {},
   "outputs": [
    {
     "data": {
      "text/html": [
       "<div>\n",
       "<style scoped>\n",
       "    .dataframe tbody tr th:only-of-type {\n",
       "        vertical-align: middle;\n",
       "    }\n",
       "\n",
       "    .dataframe tbody tr th {\n",
       "        vertical-align: top;\n",
       "    }\n",
       "\n",
       "    .dataframe thead th {\n",
       "        text-align: right;\n",
       "    }\n",
       "</style>\n",
       "<table border=\"1\" class=\"dataframe\">\n",
       "  <thead>\n",
       "    <tr style=\"text-align: right;\">\n",
       "      <th></th>\n",
       "      <th>count</th>\n",
       "      <th>mean</th>\n",
       "      <th>std</th>\n",
       "      <th>min</th>\n",
       "      <th>25%</th>\n",
       "      <th>50%</th>\n",
       "      <th>75%</th>\n",
       "      <th>max</th>\n",
       "    </tr>\n",
       "  </thead>\n",
       "  <tbody>\n",
       "    <tr>\n",
       "      <th>primary_cleaner.input.sulfate</th>\n",
       "      <td>5286.0</td>\n",
       "      <td>174.83965</td>\n",
       "      <td>43.02708</td>\n",
       "      <td>2.56616</td>\n",
       "      <td>147.12140</td>\n",
       "      <td>177.82849</td>\n",
       "      <td>208.12544</td>\n",
       "      <td>265.98312</td>\n",
       "    </tr>\n",
       "    <tr>\n",
       "      <th>primary_cleaner.input.depressant</th>\n",
       "      <td>5285.0</td>\n",
       "      <td>8.68360</td>\n",
       "      <td>3.07205</td>\n",
       "      <td>0.00384</td>\n",
       "      <td>6.48955</td>\n",
       "      <td>8.05221</td>\n",
       "      <td>10.02776</td>\n",
       "      <td>40.00000</td>\n",
       "    </tr>\n",
       "    <tr>\n",
       "      <th>primary_cleaner.input.feed_size</th>\n",
       "      <td>5290.0</td>\n",
       "      <td>7.26634</td>\n",
       "      <td>0.61022</td>\n",
       "      <td>5.65000</td>\n",
       "      <td>6.89000</td>\n",
       "      <td>7.25000</td>\n",
       "      <td>7.60000</td>\n",
       "      <td>15.50000</td>\n",
       "    </tr>\n",
       "    <tr>\n",
       "      <th>primary_cleaner.input.xanthate</th>\n",
       "      <td>5286.0</td>\n",
       "      <td>1.38380</td>\n",
       "      <td>0.64347</td>\n",
       "      <td>0.00498</td>\n",
       "      <td>0.90762</td>\n",
       "      <td>1.19761</td>\n",
       "      <td>1.79782</td>\n",
       "      <td>4.10245</td>\n",
       "    </tr>\n",
       "    <tr>\n",
       "      <th>primary_cleaner.state.floatbank8_a_air</th>\n",
       "      <td>5290.0</td>\n",
       "      <td>1539.49433</td>\n",
       "      <td>116.79788</td>\n",
       "      <td>0.00000</td>\n",
       "      <td>1498.93580</td>\n",
       "      <td>1585.12912</td>\n",
       "      <td>1602.07653</td>\n",
       "      <td>2103.10358</td>\n",
       "    </tr>\n",
       "    <tr>\n",
       "      <th>primary_cleaner.state.floatbank8_a_level</th>\n",
       "      <td>5290.0</td>\n",
       "      <td>-497.66588</td>\n",
       "      <td>19.95243</td>\n",
       "      <td>-795.31634</td>\n",
       "      <td>-500.35730</td>\n",
       "      <td>-499.96916</td>\n",
       "      <td>-499.56895</td>\n",
       "      <td>-57.19540</td>\n",
       "    </tr>\n",
       "    <tr>\n",
       "      <th>primary_cleaner.state.floatbank8_b_air</th>\n",
       "      <td>5290.0</td>\n",
       "      <td>1545.17423</td>\n",
       "      <td>122.22459</td>\n",
       "      <td>0.00000</td>\n",
       "      <td>1498.97099</td>\n",
       "      <td>1595.62180</td>\n",
       "      <td>1602.32355</td>\n",
       "      <td>1813.08367</td>\n",
       "    </tr>\n",
       "    <tr>\n",
       "      <th>primary_cleaner.state.floatbank8_b_level</th>\n",
       "      <td>5290.0</td>\n",
       "      <td>-500.27310</td>\n",
       "      <td>32.96831</td>\n",
       "      <td>-799.99702</td>\n",
       "      <td>-500.70300</td>\n",
       "      <td>-500.02851</td>\n",
       "      <td>-499.29326</td>\n",
       "      <td>-142.52723</td>\n",
       "    </tr>\n",
       "    <tr>\n",
       "      <th>primary_cleaner.state.floatbank8_c_air</th>\n",
       "      <td>5290.0</td>\n",
       "      <td>1527.27236</td>\n",
       "      <td>122.53803</td>\n",
       "      <td>0.00000</td>\n",
       "      <td>1473.22986</td>\n",
       "      <td>1549.59468</td>\n",
       "      <td>1601.14378</td>\n",
       "      <td>1715.05377</td>\n",
       "    </tr>\n",
       "    <tr>\n",
       "      <th>primary_cleaner.state.floatbank8_c_level</th>\n",
       "      <td>5290.0</td>\n",
       "      <td>-498.33068</td>\n",
       "      <td>21.96488</td>\n",
       "      <td>-799.96057</td>\n",
       "      <td>-501.01812</td>\n",
       "      <td>-500.01771</td>\n",
       "      <td>-498.99413</td>\n",
       "      <td>-150.93703</td>\n",
       "    </tr>\n",
       "    <tr>\n",
       "      <th>primary_cleaner.state.floatbank8_d_air</th>\n",
       "      <td>5290.0</td>\n",
       "      <td>1544.84433</td>\n",
       "      <td>124.77308</td>\n",
       "      <td>0.00000</td>\n",
       "      <td>1499.48140</td>\n",
       "      <td>1594.57911</td>\n",
       "      <td>1600.96477</td>\n",
       "      <td>1913.25656</td>\n",
       "    </tr>\n",
       "    <tr>\n",
       "      <th>primary_cleaner.state.floatbank8_d_level</th>\n",
       "      <td>5290.0</td>\n",
       "      <td>-500.19953</td>\n",
       "      <td>31.04526</td>\n",
       "      <td>-799.79425</td>\n",
       "      <td>-500.45247</td>\n",
       "      <td>-500.02331</td>\n",
       "      <td>-499.60704</td>\n",
       "      <td>-158.95057</td>\n",
       "    </tr>\n",
       "    <tr>\n",
       "      <th>rougher.input.feed_ag</th>\n",
       "      <td>5290.0</td>\n",
       "      <td>9.37194</td>\n",
       "      <td>1.92626</td>\n",
       "      <td>0.56844</td>\n",
       "      <td>8.11243</td>\n",
       "      <td>9.76265</td>\n",
       "      <td>10.65230</td>\n",
       "      <td>14.40613</td>\n",
       "    </tr>\n",
       "    <tr>\n",
       "      <th>rougher.input.feed_pb</th>\n",
       "      <td>5290.0</td>\n",
       "      <td>3.79808</td>\n",
       "      <td>0.95486</td>\n",
       "      <td>0.27368</td>\n",
       "      <td>3.24025</td>\n",
       "      <td>3.74072</td>\n",
       "      <td>4.28263</td>\n",
       "      <td>6.90568</td>\n",
       "    </tr>\n",
       "    <tr>\n",
       "      <th>rougher.input.feed_rate</th>\n",
       "      <td>5287.0</td>\n",
       "      <td>489.80062</td>\n",
       "      <td>108.03633</td>\n",
       "      <td>0.00299</td>\n",
       "      <td>407.02088</td>\n",
       "      <td>499.05144</td>\n",
       "      <td>575.30721</td>\n",
       "      <td>707.36402</td>\n",
       "    </tr>\n",
       "    <tr>\n",
       "      <th>rougher.input.feed_size</th>\n",
       "      <td>5289.0</td>\n",
       "      <td>55.95110</td>\n",
       "      <td>19.08176</td>\n",
       "      <td>0.04637</td>\n",
       "      <td>43.90635</td>\n",
       "      <td>50.84103</td>\n",
       "      <td>62.43105</td>\n",
       "      <td>392.49404</td>\n",
       "    </tr>\n",
       "    <tr>\n",
       "      <th>rougher.input.feed_sol</th>\n",
       "      <td>5269.0</td>\n",
       "      <td>37.71665</td>\n",
       "      <td>5.49142</td>\n",
       "      <td>1.39349</td>\n",
       "      <td>34.50558</td>\n",
       "      <td>37.98028</td>\n",
       "      <td>41.63539</td>\n",
       "      <td>53.47774</td>\n",
       "    </tr>\n",
       "    <tr>\n",
       "      <th>rougher.input.feed_au</th>\n",
       "      <td>5290.0</td>\n",
       "      <td>9.33468</td>\n",
       "      <td>1.61952</td>\n",
       "      <td>0.56863</td>\n",
       "      <td>8.20781</td>\n",
       "      <td>9.59377</td>\n",
       "      <td>10.46354</td>\n",
       "      <td>13.73133</td>\n",
       "    </tr>\n",
       "    <tr>\n",
       "      <th>rougher.input.floatbank10_sulfate</th>\n",
       "      <td>5285.0</td>\n",
       "      <td>13.85576</td>\n",
       "      <td>3.35085</td>\n",
       "      <td>0.00115</td>\n",
       "      <td>11.99501</td>\n",
       "      <td>14.00313</td>\n",
       "      <td>16.97428</td>\n",
       "      <td>24.28064</td>\n",
       "    </tr>\n",
       "    <tr>\n",
       "      <th>rougher.input.floatbank10_xanthate</th>\n",
       "      <td>5290.0</td>\n",
       "      <td>6.46774</td>\n",
       "      <td>1.06511</td>\n",
       "      <td>0.00057</td>\n",
       "      <td>5.99878</td>\n",
       "      <td>6.49818</td>\n",
       "      <td>7.08546</td>\n",
       "      <td>8.91047</td>\n",
       "    </tr>\n",
       "    <tr>\n",
       "      <th>rougher.input.floatbank11_sulfate</th>\n",
       "      <td>5282.0</td>\n",
       "      <td>13.92233</td>\n",
       "      <td>3.22377</td>\n",
       "      <td>0.00008</td>\n",
       "      <td>11.99720</td>\n",
       "      <td>14.00437</td>\n",
       "      <td>16.95967</td>\n",
       "      <td>24.28097</td>\n",
       "    </tr>\n",
       "    <tr>\n",
       "      <th>rougher.input.floatbank11_xanthate</th>\n",
       "      <td>5265.0</td>\n",
       "      <td>6.51210</td>\n",
       "      <td>0.88699</td>\n",
       "      <td>0.00699</td>\n",
       "      <td>5.99916</td>\n",
       "      <td>6.49874</td>\n",
       "      <td>7.09181</td>\n",
       "      <td>8.62134</td>\n",
       "    </tr>\n",
       "    <tr>\n",
       "      <th>rougher.state.floatbank10_a_air</th>\n",
       "      <td>5290.0</td>\n",
       "      <td>1053.40017</td>\n",
       "      <td>121.13931</td>\n",
       "      <td>-0.04207</td>\n",
       "      <td>999.20534</td>\n",
       "      <td>1000.47206</td>\n",
       "      <td>1006.25430</td>\n",
       "      <td>1423.27469</td>\n",
       "    </tr>\n",
       "    <tr>\n",
       "      <th>rougher.state.floatbank10_a_level</th>\n",
       "      <td>5290.0</td>\n",
       "      <td>-395.73253</td>\n",
       "      <td>91.08551</td>\n",
       "      <td>-657.94976</td>\n",
       "      <td>-499.92057</td>\n",
       "      <td>-399.69336</td>\n",
       "      <td>-300.06006</td>\n",
       "      <td>-273.77610</td>\n",
       "    </tr>\n",
       "    <tr>\n",
       "      <th>rougher.state.floatbank10_b_air</th>\n",
       "      <td>5290.0</td>\n",
       "      <td>1318.92688</td>\n",
       "      <td>156.45037</td>\n",
       "      <td>-0.72181</td>\n",
       "      <td>1200.87188</td>\n",
       "      <td>1302.25500</td>\n",
       "      <td>1433.95565</td>\n",
       "      <td>1706.64042</td>\n",
       "    </tr>\n",
       "    <tr>\n",
       "      <th>rougher.state.floatbank10_b_level</th>\n",
       "      <td>5290.0</td>\n",
       "      <td>-475.24143</td>\n",
       "      <td>45.64947</td>\n",
       "      <td>-650.24528</td>\n",
       "      <td>-500.25611</td>\n",
       "      <td>-499.83780</td>\n",
       "      <td>-450.74962</td>\n",
       "      <td>-298.20005</td>\n",
       "    </tr>\n",
       "    <tr>\n",
       "      <th>rougher.state.floatbank10_c_air</th>\n",
       "      <td>5290.0</td>\n",
       "      <td>1301.59548</td>\n",
       "      <td>171.26967</td>\n",
       "      <td>-0.05664</td>\n",
       "      <td>1199.65137</td>\n",
       "      <td>1300.20227</td>\n",
       "      <td>1406.59496</td>\n",
       "      <td>1731.01779</td>\n",
       "    </tr>\n",
       "    <tr>\n",
       "      <th>rougher.state.floatbank10_c_level</th>\n",
       "      <td>5290.0</td>\n",
       "      <td>-474.83667</td>\n",
       "      <td>45.85987</td>\n",
       "      <td>-647.54444</td>\n",
       "      <td>-500.23383</td>\n",
       "      <td>-499.77722</td>\n",
       "      <td>-451.15319</td>\n",
       "      <td>-298.03685</td>\n",
       "    </tr>\n",
       "    <tr>\n",
       "      <th>rougher.state.floatbank10_d_air</th>\n",
       "      <td>5290.0</td>\n",
       "      <td>1214.84796</td>\n",
       "      <td>185.76332</td>\n",
       "      <td>-0.99222</td>\n",
       "      <td>1093.36807</td>\n",
       "      <td>1207.01409</td>\n",
       "      <td>1391.49727</td>\n",
       "      <td>1775.21858</td>\n",
       "    </tr>\n",
       "    <tr>\n",
       "      <th>rougher.state.floatbank10_d_level</th>\n",
       "      <td>5290.0</td>\n",
       "      <td>-475.68227</td>\n",
       "      <td>47.84497</td>\n",
       "      <td>-648.39067</td>\n",
       "      <td>-500.44061</td>\n",
       "      <td>-499.69192</td>\n",
       "      <td>-452.48346</td>\n",
       "      <td>-76.39733</td>\n",
       "    </tr>\n",
       "    <tr>\n",
       "      <th>rougher.state.floatbank10_e_air</th>\n",
       "      <td>5290.0</td>\n",
       "      <td>1056.64899</td>\n",
       "      <td>131.54284</td>\n",
       "      <td>-1.98230</td>\n",
       "      <td>999.36140</td>\n",
       "      <td>1047.49545</td>\n",
       "      <td>1101.36532</td>\n",
       "      <td>1467.18484</td>\n",
       "    </tr>\n",
       "    <tr>\n",
       "      <th>rougher.state.floatbank10_e_level</th>\n",
       "      <td>5290.0</td>\n",
       "      <td>-469.02969</td>\n",
       "      <td>59.32599</td>\n",
       "      <td>-649.26754</td>\n",
       "      <td>-500.19064</td>\n",
       "      <td>-499.76580</td>\n",
       "      <td>-450.95751</td>\n",
       "      <td>-139.75302</td>\n",
       "    </tr>\n",
       "    <tr>\n",
       "      <th>rougher.state.floatbank10_f_air</th>\n",
       "      <td>5290.0</td>\n",
       "      <td>997.94972</td>\n",
       "      <td>128.21887</td>\n",
       "      <td>-2.59339</td>\n",
       "      <td>901.02499</td>\n",
       "      <td>999.44188</td>\n",
       "      <td>1050.43300</td>\n",
       "      <td>1476.58811</td>\n",
       "    </tr>\n",
       "    <tr>\n",
       "      <th>rougher.state.floatbank10_f_level</th>\n",
       "      <td>5290.0</td>\n",
       "      <td>-470.48246</td>\n",
       "      <td>60.75932</td>\n",
       "      <td>-649.94928</td>\n",
       "      <td>-500.62478</td>\n",
       "      <td>-499.68099</td>\n",
       "      <td>-451.98646</td>\n",
       "      <td>-249.80104</td>\n",
       "    </tr>\n",
       "    <tr>\n",
       "      <th>secondary_cleaner.state.floatbank2_a_air</th>\n",
       "      <td>5287.0</td>\n",
       "      <td>26.31263</td>\n",
       "      <td>3.42985</td>\n",
       "      <td>0.20533</td>\n",
       "      <td>24.94233</td>\n",
       "      <td>26.91057</td>\n",
       "      <td>28.09188</td>\n",
       "      <td>32.13873</td>\n",
       "    </tr>\n",
       "    <tr>\n",
       "      <th>secondary_cleaner.state.floatbank2_a_level</th>\n",
       "      <td>5290.0</td>\n",
       "      <td>-502.75090</td>\n",
       "      <td>28.75651</td>\n",
       "      <td>-784.09109</td>\n",
       "      <td>-500.20652</td>\n",
       "      <td>-500.00390</td>\n",
       "      <td>-499.79164</td>\n",
       "      <td>-300.34367</td>\n",
       "    </tr>\n",
       "    <tr>\n",
       "      <th>secondary_cleaner.state.floatbank2_b_air</th>\n",
       "      <td>5288.0</td>\n",
       "      <td>21.94912</td>\n",
       "      <td>4.35496</td>\n",
       "      <td>0.00606</td>\n",
       "      <td>20.00231</td>\n",
       "      <td>22.94260</td>\n",
       "      <td>24.98501</td>\n",
       "      <td>28.16586</td>\n",
       "    </tr>\n",
       "    <tr>\n",
       "      <th>secondary_cleaner.state.floatbank2_b_level</th>\n",
       "      <td>5290.0</td>\n",
       "      <td>-501.98710</td>\n",
       "      <td>34.58272</td>\n",
       "      <td>-797.78399</td>\n",
       "      <td>-500.21803</td>\n",
       "      <td>-500.01906</td>\n",
       "      <td>-499.83153</td>\n",
       "      <td>-211.99927</td>\n",
       "    </tr>\n",
       "    <tr>\n",
       "      <th>secondary_cleaner.state.floatbank3_a_air</th>\n",
       "      <td>5281.0</td>\n",
       "      <td>25.40293</td>\n",
       "      <td>6.52646</td>\n",
       "      <td>0.00000</td>\n",
       "      <td>22.98229</td>\n",
       "      <td>25.01010</td>\n",
       "      <td>30.00206</td>\n",
       "      <td>40.04200</td>\n",
       "    </tr>\n",
       "    <tr>\n",
       "      <th>secondary_cleaner.state.floatbank3_a_level</th>\n",
       "      <td>5290.0</td>\n",
       "      <td>-507.49031</td>\n",
       "      <td>47.62091</td>\n",
       "      <td>-799.75580</td>\n",
       "      <td>-500.29795</td>\n",
       "      <td>-500.03458</td>\n",
       "      <td>-499.78016</td>\n",
       "      <td>-313.86643</td>\n",
       "    </tr>\n",
       "    <tr>\n",
       "      <th>secondary_cleaner.state.floatbank3_b_air</th>\n",
       "      <td>5290.0</td>\n",
       "      <td>20.98211</td>\n",
       "      <td>6.73618</td>\n",
       "      <td>0.00000</td>\n",
       "      <td>17.96786</td>\n",
       "      <td>21.00316</td>\n",
       "      <td>26.97698</td>\n",
       "      <td>32.03936</td>\n",
       "    </tr>\n",
       "    <tr>\n",
       "      <th>secondary_cleaner.state.floatbank3_b_level</th>\n",
       "      <td>5290.0</td>\n",
       "      <td>-506.62792</td>\n",
       "      <td>44.52867</td>\n",
       "      <td>-809.33301</td>\n",
       "      <td>-500.14513</td>\n",
       "      <td>-500.01382</td>\n",
       "      <td>-499.89061</td>\n",
       "      <td>-202.27737</td>\n",
       "    </tr>\n",
       "    <tr>\n",
       "      <th>secondary_cleaner.state.floatbank4_a_air</th>\n",
       "      <td>5290.0</td>\n",
       "      <td>16.32007</td>\n",
       "      <td>3.49358</td>\n",
       "      <td>0.00000</td>\n",
       "      <td>14.03618</td>\n",
       "      <td>17.00847</td>\n",
       "      <td>18.03862</td>\n",
       "      <td>30.05180</td>\n",
       "    </tr>\n",
       "    <tr>\n",
       "      <th>secondary_cleaner.state.floatbank4_a_level</th>\n",
       "      <td>5290.0</td>\n",
       "      <td>-505.14457</td>\n",
       "      <td>31.42734</td>\n",
       "      <td>-799.79852</td>\n",
       "      <td>-500.86826</td>\n",
       "      <td>-500.11573</td>\n",
       "      <td>-499.40422</td>\n",
       "      <td>-401.56521</td>\n",
       "    </tr>\n",
       "    <tr>\n",
       "      <th>secondary_cleaner.state.floatbank4_b_air</th>\n",
       "      <td>5290.0</td>\n",
       "      <td>13.73544</td>\n",
       "      <td>3.43048</td>\n",
       "      <td>0.00000</td>\n",
       "      <td>12.02862</td>\n",
       "      <td>14.96486</td>\n",
       "      <td>15.96213</td>\n",
       "      <td>31.26971</td>\n",
       "    </tr>\n",
       "    <tr>\n",
       "      <th>secondary_cleaner.state.floatbank4_b_level</th>\n",
       "      <td>5290.0</td>\n",
       "      <td>-463.34986</td>\n",
       "      <td>86.18911</td>\n",
       "      <td>-800.83691</td>\n",
       "      <td>-500.32303</td>\n",
       "      <td>-499.57651</td>\n",
       "      <td>-400.93380</td>\n",
       "      <td>-6.50699</td>\n",
       "    </tr>\n",
       "    <tr>\n",
       "      <th>secondary_cleaner.state.floatbank5_a_air</th>\n",
       "      <td>5290.0</td>\n",
       "      <td>12.80419</td>\n",
       "      <td>3.02659</td>\n",
       "      <td>0.06923</td>\n",
       "      <td>10.91484</td>\n",
       "      <td>12.95418</td>\n",
       "      <td>15.09753</td>\n",
       "      <td>25.25885</td>\n",
       "    </tr>\n",
       "    <tr>\n",
       "      <th>secondary_cleaner.state.floatbank5_a_level</th>\n",
       "      <td>5290.0</td>\n",
       "      <td>-501.32912</td>\n",
       "      <td>17.95150</td>\n",
       "      <td>-797.32399</td>\n",
       "      <td>-500.72684</td>\n",
       "      <td>-499.99033</td>\n",
       "      <td>-499.28319</td>\n",
       "      <td>-244.48357</td>\n",
       "    </tr>\n",
       "    <tr>\n",
       "      <th>secondary_cleaner.state.floatbank5_b_air</th>\n",
       "      <td>5290.0</td>\n",
       "      <td>9.88114</td>\n",
       "      <td>2.86820</td>\n",
       "      <td>0.52808</td>\n",
       "      <td>8.03672</td>\n",
       "      <td>10.00430</td>\n",
       "      <td>11.99747</td>\n",
       "      <td>14.08687</td>\n",
       "    </tr>\n",
       "    <tr>\n",
       "      <th>secondary_cleaner.state.floatbank5_b_level</th>\n",
       "      <td>5290.0</td>\n",
       "      <td>-495.66340</td>\n",
       "      <td>34.53501</td>\n",
       "      <td>-800.22034</td>\n",
       "      <td>-500.19467</td>\n",
       "      <td>-499.99054</td>\n",
       "      <td>-499.71991</td>\n",
       "      <td>-137.74000</td>\n",
       "    </tr>\n",
       "    <tr>\n",
       "      <th>secondary_cleaner.state.floatbank6_a_air</th>\n",
       "      <td>5290.0</td>\n",
       "      <td>17.30493</td>\n",
       "      <td>4.53654</td>\n",
       "      <td>-0.07943</td>\n",
       "      <td>13.99732</td>\n",
       "      <td>16.01493</td>\n",
       "      <td>21.02001</td>\n",
       "      <td>26.70589</td>\n",
       "    </tr>\n",
       "    <tr>\n",
       "      <th>secondary_cleaner.state.floatbank6_a_level</th>\n",
       "      <td>5290.0</td>\n",
       "      <td>-501.79319</td>\n",
       "      <td>39.04422</td>\n",
       "      <td>-809.74146</td>\n",
       "      <td>-500.69098</td>\n",
       "      <td>-500.00713</td>\n",
       "      <td>-499.37302</td>\n",
       "      <td>-123.30749</td>\n",
       "    </tr>\n",
       "  </tbody>\n",
       "</table>\n",
       "</div>"
      ],
      "text/plain": [
       "                                             count        mean        std  \\\n",
       "primary_cleaner.input.sulfate               5286.0   174.83965   43.02708   \n",
       "primary_cleaner.input.depressant            5285.0     8.68360    3.07205   \n",
       "primary_cleaner.input.feed_size             5290.0     7.26634    0.61022   \n",
       "primary_cleaner.input.xanthate              5286.0     1.38380    0.64347   \n",
       "primary_cleaner.state.floatbank8_a_air      5290.0  1539.49433  116.79788   \n",
       "primary_cleaner.state.floatbank8_a_level    5290.0  -497.66588   19.95243   \n",
       "primary_cleaner.state.floatbank8_b_air      5290.0  1545.17423  122.22459   \n",
       "primary_cleaner.state.floatbank8_b_level    5290.0  -500.27310   32.96831   \n",
       "primary_cleaner.state.floatbank8_c_air      5290.0  1527.27236  122.53803   \n",
       "primary_cleaner.state.floatbank8_c_level    5290.0  -498.33068   21.96488   \n",
       "primary_cleaner.state.floatbank8_d_air      5290.0  1544.84433  124.77308   \n",
       "primary_cleaner.state.floatbank8_d_level    5290.0  -500.19953   31.04526   \n",
       "rougher.input.feed_ag                       5290.0     9.37194    1.92626   \n",
       "rougher.input.feed_pb                       5290.0     3.79808    0.95486   \n",
       "rougher.input.feed_rate                     5287.0   489.80062  108.03633   \n",
       "rougher.input.feed_size                     5289.0    55.95110   19.08176   \n",
       "rougher.input.feed_sol                      5269.0    37.71665    5.49142   \n",
       "rougher.input.feed_au                       5290.0     9.33468    1.61952   \n",
       "rougher.input.floatbank10_sulfate           5285.0    13.85576    3.35085   \n",
       "rougher.input.floatbank10_xanthate          5290.0     6.46774    1.06511   \n",
       "rougher.input.floatbank11_sulfate           5282.0    13.92233    3.22377   \n",
       "rougher.input.floatbank11_xanthate          5265.0     6.51210    0.88699   \n",
       "rougher.state.floatbank10_a_air             5290.0  1053.40017  121.13931   \n",
       "rougher.state.floatbank10_a_level           5290.0  -395.73253   91.08551   \n",
       "rougher.state.floatbank10_b_air             5290.0  1318.92688  156.45037   \n",
       "rougher.state.floatbank10_b_level           5290.0  -475.24143   45.64947   \n",
       "rougher.state.floatbank10_c_air             5290.0  1301.59548  171.26967   \n",
       "rougher.state.floatbank10_c_level           5290.0  -474.83667   45.85987   \n",
       "rougher.state.floatbank10_d_air             5290.0  1214.84796  185.76332   \n",
       "rougher.state.floatbank10_d_level           5290.0  -475.68227   47.84497   \n",
       "rougher.state.floatbank10_e_air             5290.0  1056.64899  131.54284   \n",
       "rougher.state.floatbank10_e_level           5290.0  -469.02969   59.32599   \n",
       "rougher.state.floatbank10_f_air             5290.0   997.94972  128.21887   \n",
       "rougher.state.floatbank10_f_level           5290.0  -470.48246   60.75932   \n",
       "secondary_cleaner.state.floatbank2_a_air    5287.0    26.31263    3.42985   \n",
       "secondary_cleaner.state.floatbank2_a_level  5290.0  -502.75090   28.75651   \n",
       "secondary_cleaner.state.floatbank2_b_air    5288.0    21.94912    4.35496   \n",
       "secondary_cleaner.state.floatbank2_b_level  5290.0  -501.98710   34.58272   \n",
       "secondary_cleaner.state.floatbank3_a_air    5281.0    25.40293    6.52646   \n",
       "secondary_cleaner.state.floatbank3_a_level  5290.0  -507.49031   47.62091   \n",
       "secondary_cleaner.state.floatbank3_b_air    5290.0    20.98211    6.73618   \n",
       "secondary_cleaner.state.floatbank3_b_level  5290.0  -506.62792   44.52867   \n",
       "secondary_cleaner.state.floatbank4_a_air    5290.0    16.32007    3.49358   \n",
       "secondary_cleaner.state.floatbank4_a_level  5290.0  -505.14457   31.42734   \n",
       "secondary_cleaner.state.floatbank4_b_air    5290.0    13.73544    3.43048   \n",
       "secondary_cleaner.state.floatbank4_b_level  5290.0  -463.34986   86.18911   \n",
       "secondary_cleaner.state.floatbank5_a_air    5290.0    12.80419    3.02659   \n",
       "secondary_cleaner.state.floatbank5_a_level  5290.0  -501.32912   17.95150   \n",
       "secondary_cleaner.state.floatbank5_b_air    5290.0     9.88114    2.86820   \n",
       "secondary_cleaner.state.floatbank5_b_level  5290.0  -495.66340   34.53501   \n",
       "secondary_cleaner.state.floatbank6_a_air    5290.0    17.30493    4.53654   \n",
       "secondary_cleaner.state.floatbank6_a_level  5290.0  -501.79319   39.04422   \n",
       "\n",
       "                                                  min         25%         50%  \\\n",
       "primary_cleaner.input.sulfate                 2.56616   147.12140   177.82849   \n",
       "primary_cleaner.input.depressant              0.00384     6.48955     8.05221   \n",
       "primary_cleaner.input.feed_size               5.65000     6.89000     7.25000   \n",
       "primary_cleaner.input.xanthate                0.00498     0.90762     1.19761   \n",
       "primary_cleaner.state.floatbank8_a_air        0.00000  1498.93580  1585.12912   \n",
       "primary_cleaner.state.floatbank8_a_level   -795.31634  -500.35730  -499.96916   \n",
       "primary_cleaner.state.floatbank8_b_air        0.00000  1498.97099  1595.62180   \n",
       "primary_cleaner.state.floatbank8_b_level   -799.99702  -500.70300  -500.02851   \n",
       "primary_cleaner.state.floatbank8_c_air        0.00000  1473.22986  1549.59468   \n",
       "primary_cleaner.state.floatbank8_c_level   -799.96057  -501.01812  -500.01771   \n",
       "primary_cleaner.state.floatbank8_d_air        0.00000  1499.48140  1594.57911   \n",
       "primary_cleaner.state.floatbank8_d_level   -799.79425  -500.45247  -500.02331   \n",
       "rougher.input.feed_ag                         0.56844     8.11243     9.76265   \n",
       "rougher.input.feed_pb                         0.27368     3.24025     3.74072   \n",
       "rougher.input.feed_rate                       0.00299   407.02088   499.05144   \n",
       "rougher.input.feed_size                       0.04637    43.90635    50.84103   \n",
       "rougher.input.feed_sol                        1.39349    34.50558    37.98028   \n",
       "rougher.input.feed_au                         0.56863     8.20781     9.59377   \n",
       "rougher.input.floatbank10_sulfate             0.00115    11.99501    14.00313   \n",
       "rougher.input.floatbank10_xanthate            0.00057     5.99878     6.49818   \n",
       "rougher.input.floatbank11_sulfate             0.00008    11.99720    14.00437   \n",
       "rougher.input.floatbank11_xanthate            0.00699     5.99916     6.49874   \n",
       "rougher.state.floatbank10_a_air              -0.04207   999.20534  1000.47206   \n",
       "rougher.state.floatbank10_a_level          -657.94976  -499.92057  -399.69336   \n",
       "rougher.state.floatbank10_b_air              -0.72181  1200.87188  1302.25500   \n",
       "rougher.state.floatbank10_b_level          -650.24528  -500.25611  -499.83780   \n",
       "rougher.state.floatbank10_c_air              -0.05664  1199.65137  1300.20227   \n",
       "rougher.state.floatbank10_c_level          -647.54444  -500.23383  -499.77722   \n",
       "rougher.state.floatbank10_d_air              -0.99222  1093.36807  1207.01409   \n",
       "rougher.state.floatbank10_d_level          -648.39067  -500.44061  -499.69192   \n",
       "rougher.state.floatbank10_e_air              -1.98230   999.36140  1047.49545   \n",
       "rougher.state.floatbank10_e_level          -649.26754  -500.19064  -499.76580   \n",
       "rougher.state.floatbank10_f_air              -2.59339   901.02499   999.44188   \n",
       "rougher.state.floatbank10_f_level          -649.94928  -500.62478  -499.68099   \n",
       "secondary_cleaner.state.floatbank2_a_air      0.20533    24.94233    26.91057   \n",
       "secondary_cleaner.state.floatbank2_a_level -784.09109  -500.20652  -500.00390   \n",
       "secondary_cleaner.state.floatbank2_b_air      0.00606    20.00231    22.94260   \n",
       "secondary_cleaner.state.floatbank2_b_level -797.78399  -500.21803  -500.01906   \n",
       "secondary_cleaner.state.floatbank3_a_air      0.00000    22.98229    25.01010   \n",
       "secondary_cleaner.state.floatbank3_a_level -799.75580  -500.29795  -500.03458   \n",
       "secondary_cleaner.state.floatbank3_b_air      0.00000    17.96786    21.00316   \n",
       "secondary_cleaner.state.floatbank3_b_level -809.33301  -500.14513  -500.01382   \n",
       "secondary_cleaner.state.floatbank4_a_air      0.00000    14.03618    17.00847   \n",
       "secondary_cleaner.state.floatbank4_a_level -799.79852  -500.86826  -500.11573   \n",
       "secondary_cleaner.state.floatbank4_b_air      0.00000    12.02862    14.96486   \n",
       "secondary_cleaner.state.floatbank4_b_level -800.83691  -500.32303  -499.57651   \n",
       "secondary_cleaner.state.floatbank5_a_air      0.06923    10.91484    12.95418   \n",
       "secondary_cleaner.state.floatbank5_a_level -797.32399  -500.72684  -499.99033   \n",
       "secondary_cleaner.state.floatbank5_b_air      0.52808     8.03672    10.00430   \n",
       "secondary_cleaner.state.floatbank5_b_level -800.22034  -500.19467  -499.99054   \n",
       "secondary_cleaner.state.floatbank6_a_air     -0.07943    13.99732    16.01493   \n",
       "secondary_cleaner.state.floatbank6_a_level -809.74146  -500.69098  -500.00713   \n",
       "\n",
       "                                                   75%         max  \n",
       "primary_cleaner.input.sulfate                208.12544   265.98312  \n",
       "primary_cleaner.input.depressant              10.02776    40.00000  \n",
       "primary_cleaner.input.feed_size                7.60000    15.50000  \n",
       "primary_cleaner.input.xanthate                 1.79782     4.10245  \n",
       "primary_cleaner.state.floatbank8_a_air      1602.07653  2103.10358  \n",
       "primary_cleaner.state.floatbank8_a_level    -499.56895   -57.19540  \n",
       "primary_cleaner.state.floatbank8_b_air      1602.32355  1813.08367  \n",
       "primary_cleaner.state.floatbank8_b_level    -499.29326  -142.52723  \n",
       "primary_cleaner.state.floatbank8_c_air      1601.14378  1715.05377  \n",
       "primary_cleaner.state.floatbank8_c_level    -498.99413  -150.93703  \n",
       "primary_cleaner.state.floatbank8_d_air      1600.96477  1913.25656  \n",
       "primary_cleaner.state.floatbank8_d_level    -499.60704  -158.95057  \n",
       "rougher.input.feed_ag                         10.65230    14.40613  \n",
       "rougher.input.feed_pb                          4.28263     6.90568  \n",
       "rougher.input.feed_rate                      575.30721   707.36402  \n",
       "rougher.input.feed_size                       62.43105   392.49404  \n",
       "rougher.input.feed_sol                        41.63539    53.47774  \n",
       "rougher.input.feed_au                         10.46354    13.73133  \n",
       "rougher.input.floatbank10_sulfate             16.97428    24.28064  \n",
       "rougher.input.floatbank10_xanthate             7.08546     8.91047  \n",
       "rougher.input.floatbank11_sulfate             16.95967    24.28097  \n",
       "rougher.input.floatbank11_xanthate             7.09181     8.62134  \n",
       "rougher.state.floatbank10_a_air             1006.25430  1423.27469  \n",
       "rougher.state.floatbank10_a_level           -300.06006  -273.77610  \n",
       "rougher.state.floatbank10_b_air             1433.95565  1706.64042  \n",
       "rougher.state.floatbank10_b_level           -450.74962  -298.20005  \n",
       "rougher.state.floatbank10_c_air             1406.59496  1731.01779  \n",
       "rougher.state.floatbank10_c_level           -451.15319  -298.03685  \n",
       "rougher.state.floatbank10_d_air             1391.49727  1775.21858  \n",
       "rougher.state.floatbank10_d_level           -452.48346   -76.39733  \n",
       "rougher.state.floatbank10_e_air             1101.36532  1467.18484  \n",
       "rougher.state.floatbank10_e_level           -450.95751  -139.75302  \n",
       "rougher.state.floatbank10_f_air             1050.43300  1476.58811  \n",
       "rougher.state.floatbank10_f_level           -451.98646  -249.80104  \n",
       "secondary_cleaner.state.floatbank2_a_air      28.09188    32.13873  \n",
       "secondary_cleaner.state.floatbank2_a_level  -499.79164  -300.34367  \n",
       "secondary_cleaner.state.floatbank2_b_air      24.98501    28.16586  \n",
       "secondary_cleaner.state.floatbank2_b_level  -499.83153  -211.99927  \n",
       "secondary_cleaner.state.floatbank3_a_air      30.00206    40.04200  \n",
       "secondary_cleaner.state.floatbank3_a_level  -499.78016  -313.86643  \n",
       "secondary_cleaner.state.floatbank3_b_air      26.97698    32.03936  \n",
       "secondary_cleaner.state.floatbank3_b_level  -499.89061  -202.27737  \n",
       "secondary_cleaner.state.floatbank4_a_air      18.03862    30.05180  \n",
       "secondary_cleaner.state.floatbank4_a_level  -499.40422  -401.56521  \n",
       "secondary_cleaner.state.floatbank4_b_air      15.96213    31.26971  \n",
       "secondary_cleaner.state.floatbank4_b_level  -400.93380    -6.50699  \n",
       "secondary_cleaner.state.floatbank5_a_air      15.09753    25.25885  \n",
       "secondary_cleaner.state.floatbank5_a_level  -499.28319  -244.48357  \n",
       "secondary_cleaner.state.floatbank5_b_air      11.99747    14.08687  \n",
       "secondary_cleaner.state.floatbank5_b_level  -499.71991  -137.74000  \n",
       "secondary_cleaner.state.floatbank6_a_air      21.02001    26.70589  \n",
       "secondary_cleaner.state.floatbank6_a_level  -499.37302  -123.30749  "
      ]
     },
     "execution_count": 8,
     "metadata": {},
     "output_type": "execute_result"
    }
   ],
   "source": [
    "test.describe().T.round(5)"
   ]
  },
  {
   "cell_type": "code",
   "execution_count": 9,
   "metadata": {},
   "outputs": [
    {
     "data": {
      "text/plain": [
       "rougher.input.floatbank11_xanthate            25\n",
       "rougher.input.feed_sol                        21\n",
       "secondary_cleaner.state.floatbank3_a_air       9\n",
       "rougher.input.floatbank11_sulfate              8\n",
       "primary_cleaner.input.depressant               5\n",
       "rougher.input.floatbank10_sulfate              5\n",
       "primary_cleaner.input.xanthate                 4\n",
       "primary_cleaner.input.sulfate                  4\n",
       "rougher.input.feed_rate                        3\n",
       "secondary_cleaner.state.floatbank2_a_air       3\n",
       "secondary_cleaner.state.floatbank2_b_air       2\n",
       "rougher.input.feed_size                        1\n",
       "secondary_cleaner.state.floatbank2_b_level     0\n",
       "rougher.state.floatbank10_f_level              0\n",
       "rougher.state.floatbank10_f_air                0\n",
       "secondary_cleaner.state.floatbank3_a_level     0\n",
       "secondary_cleaner.state.floatbank2_a_level     0\n",
       "date                                           0\n",
       "rougher.state.floatbank10_e_air                0\n",
       "secondary_cleaner.state.floatbank3_b_air       0\n",
       "secondary_cleaner.state.floatbank3_b_level     0\n",
       "secondary_cleaner.state.floatbank4_a_air       0\n",
       "secondary_cleaner.state.floatbank4_a_level     0\n",
       "secondary_cleaner.state.floatbank4_b_air       0\n",
       "secondary_cleaner.state.floatbank4_b_level     0\n",
       "secondary_cleaner.state.floatbank5_a_air       0\n",
       "secondary_cleaner.state.floatbank5_a_level     0\n",
       "secondary_cleaner.state.floatbank5_b_air       0\n",
       "secondary_cleaner.state.floatbank5_b_level     0\n",
       "secondary_cleaner.state.floatbank6_a_air       0\n",
       "rougher.state.floatbank10_e_level              0\n",
       "rougher.state.floatbank10_b_level              0\n",
       "rougher.state.floatbank10_d_level              0\n",
       "primary_cleaner.state.floatbank8_d_level       0\n",
       "primary_cleaner.input.feed_size                0\n",
       "primary_cleaner.state.floatbank8_a_air         0\n",
       "primary_cleaner.state.floatbank8_a_level       0\n",
       "primary_cleaner.state.floatbank8_b_air         0\n",
       "primary_cleaner.state.floatbank8_b_level       0\n",
       "primary_cleaner.state.floatbank8_c_air         0\n",
       "primary_cleaner.state.floatbank8_c_level       0\n",
       "primary_cleaner.state.floatbank8_d_air         0\n",
       "rougher.input.feed_ag                          0\n",
       "rougher.state.floatbank10_d_air                0\n",
       "rougher.input.feed_pb                          0\n",
       "rougher.input.feed_au                          0\n",
       "rougher.input.floatbank10_xanthate             0\n",
       "rougher.state.floatbank10_a_air                0\n",
       "rougher.state.floatbank10_a_level              0\n",
       "rougher.state.floatbank10_b_air                0\n",
       "rougher.state.floatbank10_c_air                0\n",
       "rougher.state.floatbank10_c_level              0\n",
       "secondary_cleaner.state.floatbank6_a_level     0\n",
       "dtype: int64"
      ]
     },
     "execution_count": 9,
     "metadata": {},
     "output_type": "execute_result"
    }
   ],
   "source": [
    "test.isna().sum().sort_values(ascending=False)"
   ]
  },
  {
   "cell_type": "code",
   "execution_count": 10,
   "metadata": {
    "scrolled": false
   },
   "outputs": [
    {
     "name": "stdout",
     "output_type": "stream",
     "text": [
      "<class 'pandas.core.frame.DataFrame'>\n",
      "RangeIndex: 19439 entries, 0 to 19438\n",
      "Data columns (total 87 columns):\n",
      " #   Column                                              Non-Null Count  Dtype  \n",
      "---  ------                                              --------------  -----  \n",
      " 0   date                                                19439 non-null  object \n",
      " 1   final.output.concentrate_ag                         19438 non-null  float64\n",
      " 2   final.output.concentrate_pb                         19438 non-null  float64\n",
      " 3   final.output.concentrate_sol                        19228 non-null  float64\n",
      " 4   final.output.concentrate_au                         19439 non-null  float64\n",
      " 5   final.output.recovery                               19439 non-null  float64\n",
      " 6   final.output.tail_ag                                19438 non-null  float64\n",
      " 7   final.output.tail_pb                                19338 non-null  float64\n",
      " 8   final.output.tail_sol                               19433 non-null  float64\n",
      " 9   final.output.tail_au                                19439 non-null  float64\n",
      " 10  primary_cleaner.input.sulfate                       19415 non-null  float64\n",
      " 11  primary_cleaner.input.depressant                    19402 non-null  float64\n",
      " 12  primary_cleaner.input.feed_size                     19439 non-null  float64\n",
      " 13  primary_cleaner.input.xanthate                      19335 non-null  float64\n",
      " 14  primary_cleaner.output.concentrate_ag               19439 non-null  float64\n",
      " 15  primary_cleaner.output.concentrate_pb               19323 non-null  float64\n",
      " 16  primary_cleaner.output.concentrate_sol              19069 non-null  float64\n",
      " 17  primary_cleaner.output.concentrate_au               19439 non-null  float64\n",
      " 18  primary_cleaner.output.tail_ag                      19435 non-null  float64\n",
      " 19  primary_cleaner.output.tail_pb                      19418 non-null  float64\n",
      " 20  primary_cleaner.output.tail_sol                     19377 non-null  float64\n",
      " 21  primary_cleaner.output.tail_au                      19439 non-null  float64\n",
      " 22  primary_cleaner.state.floatbank8_a_air              19435 non-null  float64\n",
      " 23  primary_cleaner.state.floatbank8_a_level            19438 non-null  float64\n",
      " 24  primary_cleaner.state.floatbank8_b_air              19435 non-null  float64\n",
      " 25  primary_cleaner.state.floatbank8_b_level            19438 non-null  float64\n",
      " 26  primary_cleaner.state.floatbank8_c_air              19437 non-null  float64\n",
      " 27  primary_cleaner.state.floatbank8_c_level            19438 non-null  float64\n",
      " 28  primary_cleaner.state.floatbank8_d_air              19436 non-null  float64\n",
      " 29  primary_cleaner.state.floatbank8_d_level            19438 non-null  float64\n",
      " 30  rougher.calculation.sulfate_to_au_concentrate       19437 non-null  float64\n",
      " 31  rougher.calculation.floatbank10_sulfate_to_au_feed  19437 non-null  float64\n",
      " 32  rougher.calculation.floatbank11_sulfate_to_au_feed  19437 non-null  float64\n",
      " 33  rougher.calculation.au_pb_ratio                     19439 non-null  float64\n",
      " 34  rougher.input.feed_ag                               19439 non-null  float64\n",
      " 35  rougher.input.feed_pb                               19339 non-null  float64\n",
      " 36  rougher.input.feed_rate                             19428 non-null  float64\n",
      " 37  rougher.input.feed_size                             19294 non-null  float64\n",
      " 38  rougher.input.feed_sol                              19340 non-null  float64\n",
      " 39  rougher.input.feed_au                               19439 non-null  float64\n",
      " 40  rougher.input.floatbank10_sulfate                   19405 non-null  float64\n",
      " 41  rougher.input.floatbank10_xanthate                  19431 non-null  float64\n",
      " 42  rougher.input.floatbank11_sulfate                   19395 non-null  float64\n",
      " 43  rougher.input.floatbank11_xanthate                  18986 non-null  float64\n",
      " 44  rougher.output.concentrate_ag                       19439 non-null  float64\n",
      " 45  rougher.output.concentrate_pb                       19439 non-null  float64\n",
      " 46  rougher.output.concentrate_sol                      19416 non-null  float64\n",
      " 47  rougher.output.concentrate_au                       19439 non-null  float64\n",
      " 48  rougher.output.recovery                             19439 non-null  float64\n",
      " 49  rougher.output.tail_ag                              19438 non-null  float64\n",
      " 50  rougher.output.tail_pb                              19439 non-null  float64\n",
      " 51  rougher.output.tail_sol                             19439 non-null  float64\n",
      " 52  rougher.output.tail_au                              19439 non-null  float64\n",
      " 53  rougher.state.floatbank10_a_air                     19438 non-null  float64\n",
      " 54  rougher.state.floatbank10_a_level                   19438 non-null  float64\n",
      " 55  rougher.state.floatbank10_b_air                     19438 non-null  float64\n",
      " 56  rougher.state.floatbank10_b_level                   19438 non-null  float64\n",
      " 57  rougher.state.floatbank10_c_air                     19438 non-null  float64\n",
      " 58  rougher.state.floatbank10_c_level                   19438 non-null  float64\n",
      " 59  rougher.state.floatbank10_d_air                     19439 non-null  float64\n",
      " 60  rougher.state.floatbank10_d_level                   19439 non-null  float64\n",
      " 61  rougher.state.floatbank10_e_air                     19003 non-null  float64\n",
      " 62  rougher.state.floatbank10_e_level                   19439 non-null  float64\n",
      " 63  rougher.state.floatbank10_f_air                     19439 non-null  float64\n",
      " 64  rougher.state.floatbank10_f_level                   19439 non-null  float64\n",
      " 65  secondary_cleaner.output.tail_ag                    19437 non-null  float64\n",
      " 66  secondary_cleaner.output.tail_pb                    19427 non-null  float64\n",
      " 67  secondary_cleaner.output.tail_sol                   17691 non-null  float64\n",
      " 68  secondary_cleaner.output.tail_au                    19439 non-null  float64\n",
      " 69  secondary_cleaner.state.floatbank2_a_air            19219 non-null  float64\n",
      " 70  secondary_cleaner.state.floatbank2_a_level          19438 non-null  float64\n",
      " 71  secondary_cleaner.state.floatbank2_b_air            19416 non-null  float64\n",
      " 72  secondary_cleaner.state.floatbank2_b_level          19438 non-null  float64\n",
      " 73  secondary_cleaner.state.floatbank3_a_air            19426 non-null  float64\n",
      " 74  secondary_cleaner.state.floatbank3_a_level          19438 non-null  float64\n",
      " 75  secondary_cleaner.state.floatbank3_b_air            19438 non-null  float64\n",
      " 76  secondary_cleaner.state.floatbank3_b_level          19438 non-null  float64\n",
      " 77  secondary_cleaner.state.floatbank4_a_air            19433 non-null  float64\n",
      " 78  secondary_cleaner.state.floatbank4_a_level          19438 non-null  float64\n",
      " 79  secondary_cleaner.state.floatbank4_b_air            19438 non-null  float64\n",
      " 80  secondary_cleaner.state.floatbank4_b_level          19438 non-null  float64\n",
      " 81  secondary_cleaner.state.floatbank5_a_air            19438 non-null  float64\n",
      " 82  secondary_cleaner.state.floatbank5_a_level          19438 non-null  float64\n",
      " 83  secondary_cleaner.state.floatbank5_b_air            19438 non-null  float64\n",
      " 84  secondary_cleaner.state.floatbank5_b_level          19438 non-null  float64\n",
      " 85  secondary_cleaner.state.floatbank6_a_air            19437 non-null  float64\n",
      " 86  secondary_cleaner.state.floatbank6_a_level          19438 non-null  float64\n",
      "dtypes: float64(86), object(1)\n",
      "memory usage: 12.9+ MB\n"
     ]
    }
   ],
   "source": [
    "full.info()"
   ]
  },
  {
   "cell_type": "code",
   "execution_count": 11,
   "metadata": {},
   "outputs": [
    {
     "data": {
      "text/html": [
       "<div>\n",
       "<style scoped>\n",
       "    .dataframe tbody tr th:only-of-type {\n",
       "        vertical-align: middle;\n",
       "    }\n",
       "\n",
       "    .dataframe tbody tr th {\n",
       "        vertical-align: top;\n",
       "    }\n",
       "\n",
       "    .dataframe thead th {\n",
       "        text-align: right;\n",
       "    }\n",
       "</style>\n",
       "<table border=\"1\" class=\"dataframe\">\n",
       "  <thead>\n",
       "    <tr style=\"text-align: right;\">\n",
       "      <th></th>\n",
       "      <th>count</th>\n",
       "      <th>mean</th>\n",
       "      <th>std</th>\n",
       "      <th>min</th>\n",
       "      <th>25%</th>\n",
       "      <th>50%</th>\n",
       "      <th>75%</th>\n",
       "      <th>max</th>\n",
       "    </tr>\n",
       "  </thead>\n",
       "  <tbody>\n",
       "    <tr>\n",
       "      <th>final.output.concentrate_ag</th>\n",
       "      <td>19438.0</td>\n",
       "      <td>5.16847</td>\n",
       "      <td>1.37235</td>\n",
       "      <td>0.00000</td>\n",
       "      <td>4.25124</td>\n",
       "      <td>5.06609</td>\n",
       "      <td>5.89553</td>\n",
       "      <td>16.00195</td>\n",
       "    </tr>\n",
       "    <tr>\n",
       "      <th>final.output.concentrate_pb</th>\n",
       "      <td>19438.0</td>\n",
       "      <td>9.97889</td>\n",
       "      <td>1.66924</td>\n",
       "      <td>0.00000</td>\n",
       "      <td>9.13726</td>\n",
       "      <td>10.10243</td>\n",
       "      <td>11.03577</td>\n",
       "      <td>17.03190</td>\n",
       "    </tr>\n",
       "    <tr>\n",
       "      <th>final.output.concentrate_sol</th>\n",
       "      <td>19228.0</td>\n",
       "      <td>9.50122</td>\n",
       "      <td>2.78754</td>\n",
       "      <td>0.00000</td>\n",
       "      <td>7.72282</td>\n",
       "      <td>9.21896</td>\n",
       "      <td>10.94781</td>\n",
       "      <td>19.61572</td>\n",
       "    </tr>\n",
       "    <tr>\n",
       "      <th>final.output.concentrate_au</th>\n",
       "      <td>19439.0</td>\n",
       "      <td>44.07651</td>\n",
       "      <td>5.12978</td>\n",
       "      <td>0.00000</td>\n",
       "      <td>43.40221</td>\n",
       "      <td>45.01124</td>\n",
       "      <td>46.27531</td>\n",
       "      <td>52.75664</td>\n",
       "    </tr>\n",
       "    <tr>\n",
       "      <th>final.output.recovery</th>\n",
       "      <td>19439.0</td>\n",
       "      <td>67.05021</td>\n",
       "      <td>10.12584</td>\n",
       "      <td>0.00000</td>\n",
       "      <td>63.29971</td>\n",
       "      <td>68.17274</td>\n",
       "      <td>72.68664</td>\n",
       "      <td>100.00000</td>\n",
       "    </tr>\n",
       "    <tr>\n",
       "      <th>...</th>\n",
       "      <td>...</td>\n",
       "      <td>...</td>\n",
       "      <td>...</td>\n",
       "      <td>...</td>\n",
       "      <td>...</td>\n",
       "      <td>...</td>\n",
       "      <td>...</td>\n",
       "      <td>...</td>\n",
       "    </tr>\n",
       "    <tr>\n",
       "      <th>secondary_cleaner.state.floatbank5_a_level</th>\n",
       "      <td>19438.0</td>\n",
       "      <td>-488.68407</td>\n",
       "      <td>34.53340</td>\n",
       "      <td>-797.32399</td>\n",
       "      <td>-500.45847</td>\n",
       "      <td>-499.80260</td>\n",
       "      <td>-498.38419</td>\n",
       "      <td>-244.48357</td>\n",
       "    </tr>\n",
       "    <tr>\n",
       "      <th>secondary_cleaner.state.floatbank5_b_air</th>\n",
       "      <td>19438.0</td>\n",
       "      <td>12.19822</td>\n",
       "      <td>5.33302</td>\n",
       "      <td>0.52808</td>\n",
       "      <td>8.97111</td>\n",
       "      <td>11.01943</td>\n",
       "      <td>14.01909</td>\n",
       "      <td>27.92600</td>\n",
       "    </tr>\n",
       "    <tr>\n",
       "      <th>secondary_cleaner.state.floatbank5_b_level</th>\n",
       "      <td>19438.0</td>\n",
       "      <td>-487.14983</td>\n",
       "      <td>38.34731</td>\n",
       "      <td>-800.22034</td>\n",
       "      <td>-500.12946</td>\n",
       "      <td>-499.93532</td>\n",
       "      <td>-499.43671</td>\n",
       "      <td>-137.74000</td>\n",
       "    </tr>\n",
       "    <tr>\n",
       "      <th>secondary_cleaner.state.floatbank6_a_air</th>\n",
       "      <td>19437.0</td>\n",
       "      <td>18.95902</td>\n",
       "      <td>5.55050</td>\n",
       "      <td>-0.07943</td>\n",
       "      <td>14.98304</td>\n",
       "      <td>19.96054</td>\n",
       "      <td>24.00317</td>\n",
       "      <td>32.18891</td>\n",
       "    </tr>\n",
       "    <tr>\n",
       "      <th>secondary_cleaner.state.floatbank6_a_level</th>\n",
       "      <td>19438.0</td>\n",
       "      <td>-505.43630</td>\n",
       "      <td>37.68906</td>\n",
       "      <td>-809.74146</td>\n",
       "      <td>-500.72807</td>\n",
       "      <td>-500.04840</td>\n",
       "      <td>-499.49538</td>\n",
       "      <td>-104.42746</td>\n",
       "    </tr>\n",
       "  </tbody>\n",
       "</table>\n",
       "<p>86 rows × 8 columns</p>\n",
       "</div>"
      ],
      "text/plain": [
       "                                              count       mean       std  \\\n",
       "final.output.concentrate_ag                 19438.0    5.16847   1.37235   \n",
       "final.output.concentrate_pb                 19438.0    9.97889   1.66924   \n",
       "final.output.concentrate_sol                19228.0    9.50122   2.78754   \n",
       "final.output.concentrate_au                 19439.0   44.07651   5.12978   \n",
       "final.output.recovery                       19439.0   67.05021  10.12584   \n",
       "...                                             ...        ...       ...   \n",
       "secondary_cleaner.state.floatbank5_a_level  19438.0 -488.68407  34.53340   \n",
       "secondary_cleaner.state.floatbank5_b_air    19438.0   12.19822   5.33302   \n",
       "secondary_cleaner.state.floatbank5_b_level  19438.0 -487.14983  38.34731   \n",
       "secondary_cleaner.state.floatbank6_a_air    19437.0   18.95902   5.55050   \n",
       "secondary_cleaner.state.floatbank6_a_level  19438.0 -505.43630  37.68906   \n",
       "\n",
       "                                                  min        25%        50%  \\\n",
       "final.output.concentrate_ag                   0.00000    4.25124    5.06609   \n",
       "final.output.concentrate_pb                   0.00000    9.13726   10.10243   \n",
       "final.output.concentrate_sol                  0.00000    7.72282    9.21896   \n",
       "final.output.concentrate_au                   0.00000   43.40221   45.01124   \n",
       "final.output.recovery                         0.00000   63.29971   68.17274   \n",
       "...                                               ...        ...        ...   \n",
       "secondary_cleaner.state.floatbank5_a_level -797.32399 -500.45847 -499.80260   \n",
       "secondary_cleaner.state.floatbank5_b_air      0.52808    8.97111   11.01943   \n",
       "secondary_cleaner.state.floatbank5_b_level -800.22034 -500.12946 -499.93532   \n",
       "secondary_cleaner.state.floatbank6_a_air     -0.07943   14.98304   19.96054   \n",
       "secondary_cleaner.state.floatbank6_a_level -809.74146 -500.72807 -500.04840   \n",
       "\n",
       "                                                  75%        max  \n",
       "final.output.concentrate_ag                   5.89553   16.00195  \n",
       "final.output.concentrate_pb                  11.03577   17.03190  \n",
       "final.output.concentrate_sol                 10.94781   19.61572  \n",
       "final.output.concentrate_au                  46.27531   52.75664  \n",
       "final.output.recovery                        72.68664  100.00000  \n",
       "...                                               ...        ...  \n",
       "secondary_cleaner.state.floatbank5_a_level -498.38419 -244.48357  \n",
       "secondary_cleaner.state.floatbank5_b_air     14.01909   27.92600  \n",
       "secondary_cleaner.state.floatbank5_b_level -499.43671 -137.74000  \n",
       "secondary_cleaner.state.floatbank6_a_air     24.00317   32.18891  \n",
       "secondary_cleaner.state.floatbank6_a_level -499.49538 -104.42746  \n",
       "\n",
       "[86 rows x 8 columns]"
      ]
     },
     "execution_count": 11,
     "metadata": {},
     "output_type": "execute_result"
    }
   ],
   "source": [
    "full.describe().T.round(5)"
   ]
  },
  {
   "cell_type": "code",
   "execution_count": 12,
   "metadata": {},
   "outputs": [
    {
     "data": {
      "text/plain": [
       "secondary_cleaner.output.tail_sol           1748\n",
       "rougher.input.floatbank11_xanthate           453\n",
       "rougher.state.floatbank10_e_air              436\n",
       "primary_cleaner.output.concentrate_sol       370\n",
       "secondary_cleaner.state.floatbank2_a_air     220\n",
       "                                            ... \n",
       "rougher.state.floatbank10_d_level              0\n",
       "rougher.state.floatbank10_d_air                0\n",
       "rougher.output.tail_pb                         0\n",
       "rougher.output.tail_sol                        0\n",
       "date                                           0\n",
       "Length: 87, dtype: int64"
      ]
     },
     "execution_count": 12,
     "metadata": {},
     "output_type": "execute_result"
    }
   ],
   "source": [
    "full.isna().sum().sort_values(ascending=False)"
   ]
  },
  {
   "cell_type": "markdown",
   "metadata": {},
   "source": [
    "So, we have three tables with data: `training sample`, `test sample` and `full data`.\n",
    "\n",
    "According to the data documentation:\n",
    "\n",
    "**Technological process**\n",
    "\n",
    "* Rougher feed - feedstock\n",
    "* Rougher additions (or reagent additions) - flotation reagents: Xanthate, Sulphate, Depressant\n",
    "         Xanthate * - xanthate (promoter, or flotation activator);\n",
    "         Sulphate - sulfate (in this production, sodium sulfide);\n",
    "         Depressant - depressant (sodium silicate).\n",
    "* Rougher process (English \"rough process\") - flotation\n",
    "* Rougher tails - dump tails\n",
    "* Float banks - flotation unit\n",
    "* Cleaner process - cleaning\n",
    "* Rougher Au - rough gold concentrate\n",
    "* Final Au - final gold concentrate\n",
    "\n",
    "**Stage Parameters**\n",
    "\n",
    "* air amount - air volume\n",
    "* fluid levels - fluid level\n",
    "* feed size - feed granule size\n",
    "* feed rate - feed rate\n",
    "\n",
    "**Feature name**\n",
    "\n",
    "The name of the features should be:\n",
    "**[stage].[parameter_type].[parameter_name]**\n",
    "\n",
    "Example: **rougher.input.feed_ag**\n",
    "\n",
    "**Possible values for block [stage]:**\n",
    "\n",
    "* rougher - flotation\n",
    "* primary_cleaner - primary cleaning\n",
    "* secondary_cleaner - secondary cleaning\n",
    "* final - final characteristics\n",
    "\n",
    "**Possible values for block [parameter_type]:**\n",
    "\n",
    "* input - raw material parameters\n",
    "* output - product parameters\n",
    "* state - parameters characterizing the current state of the stage\n",
    "* calculation - calculated characteristics\n",
    "    \n",
    "    \n",
    "There are missing values in the features that has to be filled. Missing values were not found among the values of the target variable."
   ]
  },
  {
   "cell_type": "markdown",
   "metadata": {},
   "source": [
    "### Verification of recovery coefficient calculations"
   ]
  },
  {
   "cell_type": "markdown",
   "metadata": {},
   "source": [
    "Let's check whether the recovery efficiency at the flotation stage is calculated correctly. To do this, we will write a function."
   ]
  },
  {
   "cell_type": "code",
   "execution_count": 13,
   "metadata": {},
   "outputs": [],
   "source": [
    "def recovery_calculation(C, F, T):\n",
    "    return ((C*(F-T)) / (F*(C-T))) * 100"
   ]
  },
  {
   "cell_type": "markdown",
   "metadata": {},
   "source": [
    "From the training data, we select the columns required for calculations and the target variable for verification."
   ]
  },
  {
   "cell_type": "code",
   "execution_count": 14,
   "metadata": {},
   "outputs": [],
   "source": [
    "train_rec_calc = train[\n",
    "    ['rougher.output.concentrate_au', \n",
    "     'rougher.input.feed_au', \n",
    "     'rougher.output.tail_au', \n",
    "     'rougher.output.recovery']].copy()"
   ]
  },
  {
   "cell_type": "markdown",
   "metadata": {},
   "source": [
    "Let's calculate the recovery efficiency using the function."
   ]
  },
  {
   "cell_type": "code",
   "execution_count": 15,
   "metadata": {},
   "outputs": [
    {
     "data": {
      "text/html": [
       "<div>\n",
       "<style scoped>\n",
       "    .dataframe tbody tr th:only-of-type {\n",
       "        vertical-align: middle;\n",
       "    }\n",
       "\n",
       "    .dataframe tbody tr th {\n",
       "        vertical-align: top;\n",
       "    }\n",
       "\n",
       "    .dataframe thead th {\n",
       "        text-align: right;\n",
       "    }\n",
       "</style>\n",
       "<table border=\"1\" class=\"dataframe\">\n",
       "  <thead>\n",
       "    <tr style=\"text-align: right;\">\n",
       "      <th></th>\n",
       "      <th>rougher.output.concentrate_au</th>\n",
       "      <th>rougher.input.feed_au</th>\n",
       "      <th>rougher.output.tail_au</th>\n",
       "      <th>rougher.output.recovery</th>\n",
       "      <th>recovery_calculated</th>\n",
       "    </tr>\n",
       "  </thead>\n",
       "  <tbody>\n",
       "    <tr>\n",
       "      <th>0</th>\n",
       "      <td>19.793808</td>\n",
       "      <td>6.486150</td>\n",
       "      <td>1.170244</td>\n",
       "      <td>87.107763</td>\n",
       "      <td>87.107763</td>\n",
       "    </tr>\n",
       "    <tr>\n",
       "      <th>1</th>\n",
       "      <td>20.050975</td>\n",
       "      <td>6.478583</td>\n",
       "      <td>1.184827</td>\n",
       "      <td>86.843261</td>\n",
       "      <td>86.843261</td>\n",
       "    </tr>\n",
       "    <tr>\n",
       "      <th>2</th>\n",
       "      <td>19.737170</td>\n",
       "      <td>6.362222</td>\n",
       "      <td>1.162562</td>\n",
       "      <td>86.842308</td>\n",
       "      <td>86.842308</td>\n",
       "    </tr>\n",
       "    <tr>\n",
       "      <th>3</th>\n",
       "      <td>19.320810</td>\n",
       "      <td>6.118189</td>\n",
       "      <td>1.079755</td>\n",
       "      <td>87.226430</td>\n",
       "      <td>87.226430</td>\n",
       "    </tr>\n",
       "    <tr>\n",
       "      <th>4</th>\n",
       "      <td>19.216101</td>\n",
       "      <td>5.663707</td>\n",
       "      <td>1.012642</td>\n",
       "      <td>86.688794</td>\n",
       "      <td>86.688794</td>\n",
       "    </tr>\n",
       "    <tr>\n",
       "      <th>...</th>\n",
       "      <td>...</td>\n",
       "      <td>...</td>\n",
       "      <td>...</td>\n",
       "      <td>...</td>\n",
       "      <td>...</td>\n",
       "    </tr>\n",
       "    <tr>\n",
       "      <th>14144</th>\n",
       "      <td>18.603550</td>\n",
       "      <td>5.335862</td>\n",
       "      <td>0.748633</td>\n",
       "      <td>89.574376</td>\n",
       "      <td>89.574376</td>\n",
       "    </tr>\n",
       "    <tr>\n",
       "      <th>14145</th>\n",
       "      <td>18.441436</td>\n",
       "      <td>4.838619</td>\n",
       "      <td>0.771582</td>\n",
       "      <td>87.724007</td>\n",
       "      <td>87.724007</td>\n",
       "    </tr>\n",
       "    <tr>\n",
       "      <th>14146</th>\n",
       "      <td>15.111231</td>\n",
       "      <td>4.525061</td>\n",
       "      <td>0.685059</td>\n",
       "      <td>88.890579</td>\n",
       "      <td>88.890579</td>\n",
       "    </tr>\n",
       "    <tr>\n",
       "      <th>14147</th>\n",
       "      <td>17.834772</td>\n",
       "      <td>4.362781</td>\n",
       "      <td>0.567130</td>\n",
       "      <td>89.858126</td>\n",
       "      <td>89.858126</td>\n",
       "    </tr>\n",
       "    <tr>\n",
       "      <th>14148</th>\n",
       "      <td>17.804134</td>\n",
       "      <td>4.365491</td>\n",
       "      <td>0.586439</td>\n",
       "      <td>89.514960</td>\n",
       "      <td>89.514960</td>\n",
       "    </tr>\n",
       "  </tbody>\n",
       "</table>\n",
       "<p>14149 rows × 5 columns</p>\n",
       "</div>"
      ],
      "text/plain": [
       "       rougher.output.concentrate_au  rougher.input.feed_au  \\\n",
       "0                          19.793808               6.486150   \n",
       "1                          20.050975               6.478583   \n",
       "2                          19.737170               6.362222   \n",
       "3                          19.320810               6.118189   \n",
       "4                          19.216101               5.663707   \n",
       "...                              ...                    ...   \n",
       "14144                      18.603550               5.335862   \n",
       "14145                      18.441436               4.838619   \n",
       "14146                      15.111231               4.525061   \n",
       "14147                      17.834772               4.362781   \n",
       "14148                      17.804134               4.365491   \n",
       "\n",
       "       rougher.output.tail_au  rougher.output.recovery  recovery_calculated  \n",
       "0                    1.170244                87.107763            87.107763  \n",
       "1                    1.184827                86.843261            86.843261  \n",
       "2                    1.162562                86.842308            86.842308  \n",
       "3                    1.079755                87.226430            87.226430  \n",
       "4                    1.012642                86.688794            86.688794  \n",
       "...                       ...                      ...                  ...  \n",
       "14144                0.748633                89.574376            89.574376  \n",
       "14145                0.771582                87.724007            87.724007  \n",
       "14146                0.685059                88.890579            88.890579  \n",
       "14147                0.567130                89.858126            89.858126  \n",
       "14148                0.586439                89.514960            89.514960  \n",
       "\n",
       "[14149 rows x 5 columns]"
      ]
     },
     "execution_count": 15,
     "metadata": {},
     "output_type": "execute_result"
    }
   ],
   "source": [
    "train_rec_calc['recovery_calculated'] = recovery_calculation(\n",
    "    train['rougher.output.concentrate_au'], \n",
    "    train['rougher.input.feed_au'], \n",
    "    train['rougher.output.tail_au']\n",
    ")\n",
    "\n",
    "train_rec_calc"
   ]
  },
  {
   "cell_type": "markdown",
   "metadata": {},
   "source": [
    "Let's check the mean absolute error (MAE) between the calculated efficiency and the target variable."
   ]
  },
  {
   "cell_type": "code",
   "execution_count": 16,
   "metadata": {},
   "outputs": [
    {
     "name": "stdout",
     "output_type": "stream",
     "text": [
      "Mean Absolute Error: 0.00000000000000974\n"
     ]
    }
   ],
   "source": [
    "MAE = mean_absolute_error(train_rec_calc['recovery_calculated'], train_rec_calc['rougher.output.recovery'])\n",
    "print('Mean Absolute Error: {:.17f}'.format(MAE))"
   ]
  },
  {
   "cell_type": "markdown",
   "metadata": {},
   "source": [
    "The mean absolute error is almost equal to 0, which means the metric is calculated correctly."
   ]
  },
  {
   "cell_type": "markdown",
   "metadata": {},
   "source": [
    "### Feature Analysis"
   ]
  },
  {
   "cell_type": "markdown",
   "metadata": {},
   "source": [
    "Let's check which features are missing in the test sample."
   ]
  },
  {
   "cell_type": "code",
   "execution_count": 17,
   "metadata": {},
   "outputs": [
    {
     "data": {
      "text/plain": [
       "{'final.output.concentrate_ag',\n",
       " 'final.output.concentrate_au',\n",
       " 'final.output.concentrate_pb',\n",
       " 'final.output.concentrate_sol',\n",
       " 'final.output.recovery',\n",
       " 'final.output.tail_ag',\n",
       " 'final.output.tail_au',\n",
       " 'final.output.tail_pb',\n",
       " 'final.output.tail_sol',\n",
       " 'primary_cleaner.output.concentrate_ag',\n",
       " 'primary_cleaner.output.concentrate_au',\n",
       " 'primary_cleaner.output.concentrate_pb',\n",
       " 'primary_cleaner.output.concentrate_sol',\n",
       " 'primary_cleaner.output.tail_ag',\n",
       " 'primary_cleaner.output.tail_au',\n",
       " 'primary_cleaner.output.tail_pb',\n",
       " 'primary_cleaner.output.tail_sol',\n",
       " 'rougher.calculation.au_pb_ratio',\n",
       " 'rougher.calculation.floatbank10_sulfate_to_au_feed',\n",
       " 'rougher.calculation.floatbank11_sulfate_to_au_feed',\n",
       " 'rougher.calculation.sulfate_to_au_concentrate',\n",
       " 'rougher.output.concentrate_ag',\n",
       " 'rougher.output.concentrate_au',\n",
       " 'rougher.output.concentrate_pb',\n",
       " 'rougher.output.concentrate_sol',\n",
       " 'rougher.output.recovery',\n",
       " 'rougher.output.tail_ag',\n",
       " 'rougher.output.tail_au',\n",
       " 'rougher.output.tail_pb',\n",
       " 'rougher.output.tail_sol',\n",
       " 'secondary_cleaner.output.tail_ag',\n",
       " 'secondary_cleaner.output.tail_au',\n",
       " 'secondary_cleaner.output.tail_pb',\n",
       " 'secondary_cleaner.output.tail_sol'}"
      ]
     },
     "execution_count": 17,
     "metadata": {},
     "output_type": "execute_result"
    }
   ],
   "source": [
    "set(train.columns) - set(test.columns)"
   ]
  },
  {
   "cell_type": "markdown",
   "metadata": {},
   "source": [
    "We can see that there are no features from the `output` blocks - product parameters (substance concentrations and tails) at the stages of flotation and purification, and `calculation` - calculated characteristics. There are also no targets:\n",
    "\n",
    "`rougher.output.recovery` - rough concentrate recovery efficiency   \n",
    "`final.output.recovery` — final concentrate recovery efficiency\n",
    "\n",
    "We can assume that these characteristics are calculated at the output and are available after the production stage."
   ]
  },
  {
   "cell_type": "markdown",
   "metadata": {},
   "source": [
    "### Data preprocessing"
   ]
  },
  {
   "cell_type": "markdown",
   "metadata": {},
   "source": [
    "First, let's add the target variables `rougher.output.recovery` and `final.output.recovery` to the test data from the full dataset, using the date as an index, in order to select the correct rows."
   ]
  },
  {
   "cell_type": "code",
   "execution_count": 18,
   "metadata": {},
   "outputs": [],
   "source": [
    "test = test.set_index('date')\n",
    "full = full.set_index('date')\n",
    "\n",
    "test[['rougher.output.recovery', 'final.output.recovery']] = full.loc[\n",
    "    test.index, \n",
    "    ['rougher.output.recovery', 'final.output.recovery']\n",
    "]\n",
    "\n",
    "test = test.reset_index()\n",
    "full = full.reset_index()"
   ]
  },
  {
   "cell_type": "code",
   "execution_count": 19,
   "metadata": {},
   "outputs": [
    {
     "data": {
      "text/html": [
       "<div>\n",
       "<style scoped>\n",
       "    .dataframe tbody tr th:only-of-type {\n",
       "        vertical-align: middle;\n",
       "    }\n",
       "\n",
       "    .dataframe tbody tr th {\n",
       "        vertical-align: top;\n",
       "    }\n",
       "\n",
       "    .dataframe thead th {\n",
       "        text-align: right;\n",
       "    }\n",
       "</style>\n",
       "<table border=\"1\" class=\"dataframe\">\n",
       "  <thead>\n",
       "    <tr style=\"text-align: right;\">\n",
       "      <th></th>\n",
       "      <th>date</th>\n",
       "      <th>primary_cleaner.input.sulfate</th>\n",
       "      <th>primary_cleaner.input.depressant</th>\n",
       "      <th>primary_cleaner.input.feed_size</th>\n",
       "      <th>primary_cleaner.input.xanthate</th>\n",
       "      <th>primary_cleaner.state.floatbank8_a_air</th>\n",
       "      <th>primary_cleaner.state.floatbank8_a_level</th>\n",
       "      <th>primary_cleaner.state.floatbank8_b_air</th>\n",
       "      <th>primary_cleaner.state.floatbank8_b_level</th>\n",
       "      <th>primary_cleaner.state.floatbank8_c_air</th>\n",
       "      <th>...</th>\n",
       "      <th>secondary_cleaner.state.floatbank4_b_air</th>\n",
       "      <th>secondary_cleaner.state.floatbank4_b_level</th>\n",
       "      <th>secondary_cleaner.state.floatbank5_a_air</th>\n",
       "      <th>secondary_cleaner.state.floatbank5_a_level</th>\n",
       "      <th>secondary_cleaner.state.floatbank5_b_air</th>\n",
       "      <th>secondary_cleaner.state.floatbank5_b_level</th>\n",
       "      <th>secondary_cleaner.state.floatbank6_a_air</th>\n",
       "      <th>secondary_cleaner.state.floatbank6_a_level</th>\n",
       "      <th>rougher.output.recovery</th>\n",
       "      <th>final.output.recovery</th>\n",
       "    </tr>\n",
       "  </thead>\n",
       "  <tbody>\n",
       "    <tr>\n",
       "      <th>0</th>\n",
       "      <td>2016-09-01 00:59:59</td>\n",
       "      <td>210.800909</td>\n",
       "      <td>14.993118</td>\n",
       "      <td>8.080000</td>\n",
       "      <td>1.005021</td>\n",
       "      <td>1398.981301</td>\n",
       "      <td>-500.225577</td>\n",
       "      <td>1399.144926</td>\n",
       "      <td>-499.919735</td>\n",
       "      <td>1400.102998</td>\n",
       "      <td>...</td>\n",
       "      <td>8.016656</td>\n",
       "      <td>-501.289139</td>\n",
       "      <td>7.946562</td>\n",
       "      <td>-432.317850</td>\n",
       "      <td>4.872511</td>\n",
       "      <td>-500.037437</td>\n",
       "      <td>26.705889</td>\n",
       "      <td>-499.709414</td>\n",
       "      <td>89.993421</td>\n",
       "      <td>70.273583</td>\n",
       "    </tr>\n",
       "    <tr>\n",
       "      <th>1</th>\n",
       "      <td>2016-09-01 01:59:59</td>\n",
       "      <td>215.392455</td>\n",
       "      <td>14.987471</td>\n",
       "      <td>8.080000</td>\n",
       "      <td>0.990469</td>\n",
       "      <td>1398.777912</td>\n",
       "      <td>-500.057435</td>\n",
       "      <td>1398.055362</td>\n",
       "      <td>-499.778182</td>\n",
       "      <td>1396.151033</td>\n",
       "      <td>...</td>\n",
       "      <td>8.130979</td>\n",
       "      <td>-499.634209</td>\n",
       "      <td>7.958270</td>\n",
       "      <td>-525.839648</td>\n",
       "      <td>4.878850</td>\n",
       "      <td>-500.162375</td>\n",
       "      <td>25.019940</td>\n",
       "      <td>-499.819438</td>\n",
       "      <td>88.089657</td>\n",
       "      <td>68.910432</td>\n",
       "    </tr>\n",
       "    <tr>\n",
       "      <th>2</th>\n",
       "      <td>2016-09-01 02:59:59</td>\n",
       "      <td>215.259946</td>\n",
       "      <td>12.884934</td>\n",
       "      <td>7.786667</td>\n",
       "      <td>0.996043</td>\n",
       "      <td>1398.493666</td>\n",
       "      <td>-500.868360</td>\n",
       "      <td>1398.860436</td>\n",
       "      <td>-499.764529</td>\n",
       "      <td>1398.075709</td>\n",
       "      <td>...</td>\n",
       "      <td>8.096893</td>\n",
       "      <td>-500.827423</td>\n",
       "      <td>8.071056</td>\n",
       "      <td>-500.801673</td>\n",
       "      <td>4.905125</td>\n",
       "      <td>-499.828510</td>\n",
       "      <td>24.994862</td>\n",
       "      <td>-500.622559</td>\n",
       "      <td>88.412756</td>\n",
       "      <td>68.143213</td>\n",
       "    </tr>\n",
       "    <tr>\n",
       "      <th>3</th>\n",
       "      <td>2016-09-01 03:59:59</td>\n",
       "      <td>215.336236</td>\n",
       "      <td>12.006805</td>\n",
       "      <td>7.640000</td>\n",
       "      <td>0.863514</td>\n",
       "      <td>1399.618111</td>\n",
       "      <td>-498.863574</td>\n",
       "      <td>1397.440120</td>\n",
       "      <td>-499.211024</td>\n",
       "      <td>1400.129303</td>\n",
       "      <td>...</td>\n",
       "      <td>8.074946</td>\n",
       "      <td>-499.474407</td>\n",
       "      <td>7.897085</td>\n",
       "      <td>-500.868509</td>\n",
       "      <td>4.931400</td>\n",
       "      <td>-499.963623</td>\n",
       "      <td>24.948919</td>\n",
       "      <td>-498.709987</td>\n",
       "      <td>87.360133</td>\n",
       "      <td>67.776393</td>\n",
       "    </tr>\n",
       "    <tr>\n",
       "      <th>4</th>\n",
       "      <td>2016-09-01 04:59:59</td>\n",
       "      <td>199.099327</td>\n",
       "      <td>10.682530</td>\n",
       "      <td>7.530000</td>\n",
       "      <td>0.805575</td>\n",
       "      <td>1401.268123</td>\n",
       "      <td>-500.808305</td>\n",
       "      <td>1398.128818</td>\n",
       "      <td>-499.504543</td>\n",
       "      <td>1402.172226</td>\n",
       "      <td>...</td>\n",
       "      <td>8.054678</td>\n",
       "      <td>-500.397500</td>\n",
       "      <td>8.107890</td>\n",
       "      <td>-509.526725</td>\n",
       "      <td>4.957674</td>\n",
       "      <td>-500.360026</td>\n",
       "      <td>25.003331</td>\n",
       "      <td>-500.856333</td>\n",
       "      <td>83.236367</td>\n",
       "      <td>61.467078</td>\n",
       "    </tr>\n",
       "  </tbody>\n",
       "</table>\n",
       "<p>5 rows × 55 columns</p>\n",
       "</div>"
      ],
      "text/plain": [
       "                  date  primary_cleaner.input.sulfate  \\\n",
       "0  2016-09-01 00:59:59                     210.800909   \n",
       "1  2016-09-01 01:59:59                     215.392455   \n",
       "2  2016-09-01 02:59:59                     215.259946   \n",
       "3  2016-09-01 03:59:59                     215.336236   \n",
       "4  2016-09-01 04:59:59                     199.099327   \n",
       "\n",
       "   primary_cleaner.input.depressant  primary_cleaner.input.feed_size  \\\n",
       "0                         14.993118                         8.080000   \n",
       "1                         14.987471                         8.080000   \n",
       "2                         12.884934                         7.786667   \n",
       "3                         12.006805                         7.640000   \n",
       "4                         10.682530                         7.530000   \n",
       "\n",
       "   primary_cleaner.input.xanthate  primary_cleaner.state.floatbank8_a_air  \\\n",
       "0                        1.005021                             1398.981301   \n",
       "1                        0.990469                             1398.777912   \n",
       "2                        0.996043                             1398.493666   \n",
       "3                        0.863514                             1399.618111   \n",
       "4                        0.805575                             1401.268123   \n",
       "\n",
       "   primary_cleaner.state.floatbank8_a_level  \\\n",
       "0                               -500.225577   \n",
       "1                               -500.057435   \n",
       "2                               -500.868360   \n",
       "3                               -498.863574   \n",
       "4                               -500.808305   \n",
       "\n",
       "   primary_cleaner.state.floatbank8_b_air  \\\n",
       "0                             1399.144926   \n",
       "1                             1398.055362   \n",
       "2                             1398.860436   \n",
       "3                             1397.440120   \n",
       "4                             1398.128818   \n",
       "\n",
       "   primary_cleaner.state.floatbank8_b_level  \\\n",
       "0                               -499.919735   \n",
       "1                               -499.778182   \n",
       "2                               -499.764529   \n",
       "3                               -499.211024   \n",
       "4                               -499.504543   \n",
       "\n",
       "   primary_cleaner.state.floatbank8_c_air  ...  \\\n",
       "0                             1400.102998  ...   \n",
       "1                             1396.151033  ...   \n",
       "2                             1398.075709  ...   \n",
       "3                             1400.129303  ...   \n",
       "4                             1402.172226  ...   \n",
       "\n",
       "   secondary_cleaner.state.floatbank4_b_air  \\\n",
       "0                                  8.016656   \n",
       "1                                  8.130979   \n",
       "2                                  8.096893   \n",
       "3                                  8.074946   \n",
       "4                                  8.054678   \n",
       "\n",
       "   secondary_cleaner.state.floatbank4_b_level  \\\n",
       "0                                 -501.289139   \n",
       "1                                 -499.634209   \n",
       "2                                 -500.827423   \n",
       "3                                 -499.474407   \n",
       "4                                 -500.397500   \n",
       "\n",
       "   secondary_cleaner.state.floatbank5_a_air  \\\n",
       "0                                  7.946562   \n",
       "1                                  7.958270   \n",
       "2                                  8.071056   \n",
       "3                                  7.897085   \n",
       "4                                  8.107890   \n",
       "\n",
       "   secondary_cleaner.state.floatbank5_a_level  \\\n",
       "0                                 -432.317850   \n",
       "1                                 -525.839648   \n",
       "2                                 -500.801673   \n",
       "3                                 -500.868509   \n",
       "4                                 -509.526725   \n",
       "\n",
       "   secondary_cleaner.state.floatbank5_b_air  \\\n",
       "0                                  4.872511   \n",
       "1                                  4.878850   \n",
       "2                                  4.905125   \n",
       "3                                  4.931400   \n",
       "4                                  4.957674   \n",
       "\n",
       "   secondary_cleaner.state.floatbank5_b_level  \\\n",
       "0                                 -500.037437   \n",
       "1                                 -500.162375   \n",
       "2                                 -499.828510   \n",
       "3                                 -499.963623   \n",
       "4                                 -500.360026   \n",
       "\n",
       "   secondary_cleaner.state.floatbank6_a_air  \\\n",
       "0                                 26.705889   \n",
       "1                                 25.019940   \n",
       "2                                 24.994862   \n",
       "3                                 24.948919   \n",
       "4                                 25.003331   \n",
       "\n",
       "   secondary_cleaner.state.floatbank6_a_level  rougher.output.recovery  \\\n",
       "0                                 -499.709414                89.993421   \n",
       "1                                 -499.819438                88.089657   \n",
       "2                                 -500.622559                88.412756   \n",
       "3                                 -498.709987                87.360133   \n",
       "4                                 -500.856333                83.236367   \n",
       "\n",
       "   final.output.recovery  \n",
       "0              70.273583  \n",
       "1              68.910432  \n",
       "2              68.143213  \n",
       "3              67.776393  \n",
       "4              61.467078  \n",
       "\n",
       "[5 rows x 55 columns]"
      ]
     },
     "execution_count": 19,
     "metadata": {},
     "output_type": "execute_result"
    }
   ],
   "source": [
    "test.head(5)"
   ]
  },
  {
   "cell_type": "markdown",
   "metadata": {},
   "source": [
    "We added target variables to test data, so we can move on."
   ]
  },
  {
   "cell_type": "markdown",
   "metadata": {},
   "source": [
    "Let's leave in the training sample only those columns that are in the test data."
   ]
  },
  {
   "cell_type": "code",
   "execution_count": 20,
   "metadata": {},
   "outputs": [],
   "source": [
    "train = train[test.columns]"
   ]
  },
  {
   "cell_type": "code",
   "execution_count": 21,
   "metadata": {},
   "outputs": [
    {
     "data": {
      "text/html": [
       "<div>\n",
       "<style scoped>\n",
       "    .dataframe tbody tr th:only-of-type {\n",
       "        vertical-align: middle;\n",
       "    }\n",
       "\n",
       "    .dataframe tbody tr th {\n",
       "        vertical-align: top;\n",
       "    }\n",
       "\n",
       "    .dataframe thead th {\n",
       "        text-align: right;\n",
       "    }\n",
       "</style>\n",
       "<table border=\"1\" class=\"dataframe\">\n",
       "  <thead>\n",
       "    <tr style=\"text-align: right;\">\n",
       "      <th></th>\n",
       "      <th>date</th>\n",
       "      <th>primary_cleaner.input.sulfate</th>\n",
       "      <th>primary_cleaner.input.depressant</th>\n",
       "      <th>primary_cleaner.input.feed_size</th>\n",
       "      <th>primary_cleaner.input.xanthate</th>\n",
       "      <th>primary_cleaner.state.floatbank8_a_air</th>\n",
       "      <th>primary_cleaner.state.floatbank8_a_level</th>\n",
       "      <th>primary_cleaner.state.floatbank8_b_air</th>\n",
       "      <th>primary_cleaner.state.floatbank8_b_level</th>\n",
       "      <th>primary_cleaner.state.floatbank8_c_air</th>\n",
       "      <th>...</th>\n",
       "      <th>secondary_cleaner.state.floatbank4_b_air</th>\n",
       "      <th>secondary_cleaner.state.floatbank4_b_level</th>\n",
       "      <th>secondary_cleaner.state.floatbank5_a_air</th>\n",
       "      <th>secondary_cleaner.state.floatbank5_a_level</th>\n",
       "      <th>secondary_cleaner.state.floatbank5_b_air</th>\n",
       "      <th>secondary_cleaner.state.floatbank5_b_level</th>\n",
       "      <th>secondary_cleaner.state.floatbank6_a_air</th>\n",
       "      <th>secondary_cleaner.state.floatbank6_a_level</th>\n",
       "      <th>rougher.output.recovery</th>\n",
       "      <th>final.output.recovery</th>\n",
       "    </tr>\n",
       "  </thead>\n",
       "  <tbody>\n",
       "    <tr>\n",
       "      <th>0</th>\n",
       "      <td>2016-01-15 00:00:00</td>\n",
       "      <td>127.092003</td>\n",
       "      <td>10.128295</td>\n",
       "      <td>7.25</td>\n",
       "      <td>0.988759</td>\n",
       "      <td>1549.775757</td>\n",
       "      <td>-498.912140</td>\n",
       "      <td>1551.434204</td>\n",
       "      <td>-516.403442</td>\n",
       "      <td>1549.873901</td>\n",
       "      <td>...</td>\n",
       "      <td>12.099931</td>\n",
       "      <td>-504.715942</td>\n",
       "      <td>9.925633</td>\n",
       "      <td>-498.310211</td>\n",
       "      <td>8.079666</td>\n",
       "      <td>-500.470978</td>\n",
       "      <td>14.151341</td>\n",
       "      <td>-605.841980</td>\n",
       "      <td>87.107763</td>\n",
       "      <td>70.541216</td>\n",
       "    </tr>\n",
       "    <tr>\n",
       "      <th>1</th>\n",
       "      <td>2016-01-15 01:00:00</td>\n",
       "      <td>125.629232</td>\n",
       "      <td>10.296251</td>\n",
       "      <td>7.25</td>\n",
       "      <td>1.002663</td>\n",
       "      <td>1576.166671</td>\n",
       "      <td>-500.904965</td>\n",
       "      <td>1575.950626</td>\n",
       "      <td>-499.865889</td>\n",
       "      <td>1575.994189</td>\n",
       "      <td>...</td>\n",
       "      <td>11.950531</td>\n",
       "      <td>-501.331529</td>\n",
       "      <td>10.039245</td>\n",
       "      <td>-500.169983</td>\n",
       "      <td>7.984757</td>\n",
       "      <td>-500.582168</td>\n",
       "      <td>13.998353</td>\n",
       "      <td>-599.787184</td>\n",
       "      <td>86.843261</td>\n",
       "      <td>69.266198</td>\n",
       "    </tr>\n",
       "    <tr>\n",
       "      <th>2</th>\n",
       "      <td>2016-01-15 02:00:00</td>\n",
       "      <td>123.819808</td>\n",
       "      <td>11.316280</td>\n",
       "      <td>7.25</td>\n",
       "      <td>0.991265</td>\n",
       "      <td>1601.556163</td>\n",
       "      <td>-499.997791</td>\n",
       "      <td>1600.386685</td>\n",
       "      <td>-500.607762</td>\n",
       "      <td>1602.003542</td>\n",
       "      <td>...</td>\n",
       "      <td>11.912783</td>\n",
       "      <td>-501.133383</td>\n",
       "      <td>10.070913</td>\n",
       "      <td>-500.129135</td>\n",
       "      <td>8.013877</td>\n",
       "      <td>-500.517572</td>\n",
       "      <td>14.028663</td>\n",
       "      <td>-601.427363</td>\n",
       "      <td>86.842308</td>\n",
       "      <td>68.116445</td>\n",
       "    </tr>\n",
       "    <tr>\n",
       "      <th>3</th>\n",
       "      <td>2016-01-15 03:00:00</td>\n",
       "      <td>122.270188</td>\n",
       "      <td>11.322140</td>\n",
       "      <td>7.25</td>\n",
       "      <td>0.996739</td>\n",
       "      <td>1599.968720</td>\n",
       "      <td>-500.951778</td>\n",
       "      <td>1600.659236</td>\n",
       "      <td>-499.677094</td>\n",
       "      <td>1600.304144</td>\n",
       "      <td>...</td>\n",
       "      <td>11.999550</td>\n",
       "      <td>-501.193686</td>\n",
       "      <td>9.970366</td>\n",
       "      <td>-499.201640</td>\n",
       "      <td>7.977324</td>\n",
       "      <td>-500.255908</td>\n",
       "      <td>14.005551</td>\n",
       "      <td>-599.996129</td>\n",
       "      <td>87.226430</td>\n",
       "      <td>68.347543</td>\n",
       "    </tr>\n",
       "    <tr>\n",
       "      <th>4</th>\n",
       "      <td>2016-01-15 04:00:00</td>\n",
       "      <td>117.988169</td>\n",
       "      <td>11.913613</td>\n",
       "      <td>7.25</td>\n",
       "      <td>1.009869</td>\n",
       "      <td>1601.339707</td>\n",
       "      <td>-498.975456</td>\n",
       "      <td>1601.437854</td>\n",
       "      <td>-500.323246</td>\n",
       "      <td>1599.581894</td>\n",
       "      <td>...</td>\n",
       "      <td>11.953070</td>\n",
       "      <td>-501.053894</td>\n",
       "      <td>9.925709</td>\n",
       "      <td>-501.686727</td>\n",
       "      <td>7.894242</td>\n",
       "      <td>-500.356035</td>\n",
       "      <td>13.996647</td>\n",
       "      <td>-601.496691</td>\n",
       "      <td>86.688794</td>\n",
       "      <td>66.927016</td>\n",
       "    </tr>\n",
       "  </tbody>\n",
       "</table>\n",
       "<p>5 rows × 55 columns</p>\n",
       "</div>"
      ],
      "text/plain": [
       "                  date  primary_cleaner.input.sulfate  \\\n",
       "0  2016-01-15 00:00:00                     127.092003   \n",
       "1  2016-01-15 01:00:00                     125.629232   \n",
       "2  2016-01-15 02:00:00                     123.819808   \n",
       "3  2016-01-15 03:00:00                     122.270188   \n",
       "4  2016-01-15 04:00:00                     117.988169   \n",
       "\n",
       "   primary_cleaner.input.depressant  primary_cleaner.input.feed_size  \\\n",
       "0                         10.128295                             7.25   \n",
       "1                         10.296251                             7.25   \n",
       "2                         11.316280                             7.25   \n",
       "3                         11.322140                             7.25   \n",
       "4                         11.913613                             7.25   \n",
       "\n",
       "   primary_cleaner.input.xanthate  primary_cleaner.state.floatbank8_a_air  \\\n",
       "0                        0.988759                             1549.775757   \n",
       "1                        1.002663                             1576.166671   \n",
       "2                        0.991265                             1601.556163   \n",
       "3                        0.996739                             1599.968720   \n",
       "4                        1.009869                             1601.339707   \n",
       "\n",
       "   primary_cleaner.state.floatbank8_a_level  \\\n",
       "0                               -498.912140   \n",
       "1                               -500.904965   \n",
       "2                               -499.997791   \n",
       "3                               -500.951778   \n",
       "4                               -498.975456   \n",
       "\n",
       "   primary_cleaner.state.floatbank8_b_air  \\\n",
       "0                             1551.434204   \n",
       "1                             1575.950626   \n",
       "2                             1600.386685   \n",
       "3                             1600.659236   \n",
       "4                             1601.437854   \n",
       "\n",
       "   primary_cleaner.state.floatbank8_b_level  \\\n",
       "0                               -516.403442   \n",
       "1                               -499.865889   \n",
       "2                               -500.607762   \n",
       "3                               -499.677094   \n",
       "4                               -500.323246   \n",
       "\n",
       "   primary_cleaner.state.floatbank8_c_air  ...  \\\n",
       "0                             1549.873901  ...   \n",
       "1                             1575.994189  ...   \n",
       "2                             1602.003542  ...   \n",
       "3                             1600.304144  ...   \n",
       "4                             1599.581894  ...   \n",
       "\n",
       "   secondary_cleaner.state.floatbank4_b_air  \\\n",
       "0                                 12.099931   \n",
       "1                                 11.950531   \n",
       "2                                 11.912783   \n",
       "3                                 11.999550   \n",
       "4                                 11.953070   \n",
       "\n",
       "   secondary_cleaner.state.floatbank4_b_level  \\\n",
       "0                                 -504.715942   \n",
       "1                                 -501.331529   \n",
       "2                                 -501.133383   \n",
       "3                                 -501.193686   \n",
       "4                                 -501.053894   \n",
       "\n",
       "   secondary_cleaner.state.floatbank5_a_air  \\\n",
       "0                                  9.925633   \n",
       "1                                 10.039245   \n",
       "2                                 10.070913   \n",
       "3                                  9.970366   \n",
       "4                                  9.925709   \n",
       "\n",
       "   secondary_cleaner.state.floatbank5_a_level  \\\n",
       "0                                 -498.310211   \n",
       "1                                 -500.169983   \n",
       "2                                 -500.129135   \n",
       "3                                 -499.201640   \n",
       "4                                 -501.686727   \n",
       "\n",
       "   secondary_cleaner.state.floatbank5_b_air  \\\n",
       "0                                  8.079666   \n",
       "1                                  7.984757   \n",
       "2                                  8.013877   \n",
       "3                                  7.977324   \n",
       "4                                  7.894242   \n",
       "\n",
       "   secondary_cleaner.state.floatbank5_b_level  \\\n",
       "0                                 -500.470978   \n",
       "1                                 -500.582168   \n",
       "2                                 -500.517572   \n",
       "3                                 -500.255908   \n",
       "4                                 -500.356035   \n",
       "\n",
       "   secondary_cleaner.state.floatbank6_a_air  \\\n",
       "0                                 14.151341   \n",
       "1                                 13.998353   \n",
       "2                                 14.028663   \n",
       "3                                 14.005551   \n",
       "4                                 13.996647   \n",
       "\n",
       "   secondary_cleaner.state.floatbank6_a_level  rougher.output.recovery  \\\n",
       "0                                 -605.841980                87.107763   \n",
       "1                                 -599.787184                86.843261   \n",
       "2                                 -601.427363                86.842308   \n",
       "3                                 -599.996129                87.226430   \n",
       "4                                 -601.496691                86.688794   \n",
       "\n",
       "   final.output.recovery  \n",
       "0              70.541216  \n",
       "1              69.266198  \n",
       "2              68.116445  \n",
       "3              68.347543  \n",
       "4              66.927016  \n",
       "\n",
       "[5 rows x 55 columns]"
      ]
     },
     "execution_count": 21,
     "metadata": {},
     "output_type": "execute_result"
    }
   ],
   "source": [
    "train.head(5)"
   ]
  },
  {
   "cell_type": "markdown",
   "metadata": {},
   "source": [
    "Now the training set has the same columns as the test set. We can start filling in the missing values. Since the parameters adjacent in time are often similar, and there are no missing values in the target variables, we will fill in the missing values using the `ffill` method. "
   ]
  },
  {
   "cell_type": "code",
   "execution_count": 22,
   "metadata": {},
   "outputs": [],
   "source": [
    "train = train.fillna(method='ffill')\n",
    "test = test.fillna(method='ffill')"
   ]
  },
  {
   "cell_type": "code",
   "execution_count": 23,
   "metadata": {},
   "outputs": [
    {
     "data": {
      "text/plain": [
       "date                                          0\n",
       "primary_cleaner.input.sulfate                 0\n",
       "primary_cleaner.input.depressant              0\n",
       "primary_cleaner.input.feed_size               0\n",
       "primary_cleaner.input.xanthate                0\n",
       "primary_cleaner.state.floatbank8_a_air        0\n",
       "primary_cleaner.state.floatbank8_a_level      0\n",
       "primary_cleaner.state.floatbank8_b_air        0\n",
       "primary_cleaner.state.floatbank8_b_level      0\n",
       "primary_cleaner.state.floatbank8_c_air        0\n",
       "primary_cleaner.state.floatbank8_c_level      0\n",
       "primary_cleaner.state.floatbank8_d_air        0\n",
       "primary_cleaner.state.floatbank8_d_level      0\n",
       "rougher.input.feed_ag                         0\n",
       "rougher.input.feed_pb                         0\n",
       "rougher.input.feed_rate                       0\n",
       "rougher.input.feed_size                       0\n",
       "rougher.input.feed_sol                        0\n",
       "rougher.input.feed_au                         0\n",
       "rougher.input.floatbank10_sulfate             0\n",
       "rougher.input.floatbank10_xanthate            0\n",
       "rougher.input.floatbank11_sulfate             0\n",
       "rougher.input.floatbank11_xanthate            0\n",
       "rougher.state.floatbank10_a_air               0\n",
       "rougher.state.floatbank10_a_level             0\n",
       "rougher.state.floatbank10_b_air               0\n",
       "rougher.state.floatbank10_b_level             0\n",
       "rougher.state.floatbank10_c_air               0\n",
       "rougher.state.floatbank10_c_level             0\n",
       "rougher.state.floatbank10_d_air               0\n",
       "rougher.state.floatbank10_d_level             0\n",
       "rougher.state.floatbank10_e_air               0\n",
       "rougher.state.floatbank10_e_level             0\n",
       "rougher.state.floatbank10_f_air               0\n",
       "rougher.state.floatbank10_f_level             0\n",
       "secondary_cleaner.state.floatbank2_a_air      0\n",
       "secondary_cleaner.state.floatbank2_a_level    0\n",
       "secondary_cleaner.state.floatbank2_b_air      0\n",
       "secondary_cleaner.state.floatbank2_b_level    0\n",
       "secondary_cleaner.state.floatbank3_a_air      0\n",
       "secondary_cleaner.state.floatbank3_a_level    0\n",
       "secondary_cleaner.state.floatbank3_b_air      0\n",
       "secondary_cleaner.state.floatbank3_b_level    0\n",
       "secondary_cleaner.state.floatbank4_a_air      0\n",
       "secondary_cleaner.state.floatbank4_a_level    0\n",
       "secondary_cleaner.state.floatbank4_b_air      0\n",
       "secondary_cleaner.state.floatbank4_b_level    0\n",
       "secondary_cleaner.state.floatbank5_a_air      0\n",
       "secondary_cleaner.state.floatbank5_a_level    0\n",
       "secondary_cleaner.state.floatbank5_b_air      0\n",
       "secondary_cleaner.state.floatbank5_b_level    0\n",
       "secondary_cleaner.state.floatbank6_a_air      0\n",
       "secondary_cleaner.state.floatbank6_a_level    0\n",
       "rougher.output.recovery                       0\n",
       "final.output.recovery                         0\n",
       "dtype: int64"
      ]
     },
     "execution_count": 23,
     "metadata": {},
     "output_type": "execute_result"
    }
   ],
   "source": [
    "train.isna().sum()"
   ]
  },
  {
   "cell_type": "code",
   "execution_count": 24,
   "metadata": {},
   "outputs": [
    {
     "data": {
      "text/plain": [
       "date                                          0\n",
       "primary_cleaner.input.sulfate                 0\n",
       "primary_cleaner.input.depressant              0\n",
       "primary_cleaner.input.feed_size               0\n",
       "primary_cleaner.input.xanthate                0\n",
       "primary_cleaner.state.floatbank8_a_air        0\n",
       "primary_cleaner.state.floatbank8_a_level      0\n",
       "primary_cleaner.state.floatbank8_b_air        0\n",
       "primary_cleaner.state.floatbank8_b_level      0\n",
       "primary_cleaner.state.floatbank8_c_air        0\n",
       "primary_cleaner.state.floatbank8_c_level      0\n",
       "primary_cleaner.state.floatbank8_d_air        0\n",
       "primary_cleaner.state.floatbank8_d_level      0\n",
       "rougher.input.feed_ag                         0\n",
       "rougher.input.feed_pb                         0\n",
       "rougher.input.feed_rate                       0\n",
       "rougher.input.feed_size                       0\n",
       "rougher.input.feed_sol                        0\n",
       "rougher.input.feed_au                         0\n",
       "rougher.input.floatbank10_sulfate             0\n",
       "rougher.input.floatbank10_xanthate            0\n",
       "rougher.input.floatbank11_sulfate             0\n",
       "rougher.input.floatbank11_xanthate            0\n",
       "rougher.state.floatbank10_a_air               0\n",
       "rougher.state.floatbank10_a_level             0\n",
       "rougher.state.floatbank10_b_air               0\n",
       "rougher.state.floatbank10_b_level             0\n",
       "rougher.state.floatbank10_c_air               0\n",
       "rougher.state.floatbank10_c_level             0\n",
       "rougher.state.floatbank10_d_air               0\n",
       "rougher.state.floatbank10_d_level             0\n",
       "rougher.state.floatbank10_e_air               0\n",
       "rougher.state.floatbank10_e_level             0\n",
       "rougher.state.floatbank10_f_air               0\n",
       "rougher.state.floatbank10_f_level             0\n",
       "secondary_cleaner.state.floatbank2_a_air      0\n",
       "secondary_cleaner.state.floatbank2_a_level    0\n",
       "secondary_cleaner.state.floatbank2_b_air      0\n",
       "secondary_cleaner.state.floatbank2_b_level    0\n",
       "secondary_cleaner.state.floatbank3_a_air      0\n",
       "secondary_cleaner.state.floatbank3_a_level    0\n",
       "secondary_cleaner.state.floatbank3_b_air      0\n",
       "secondary_cleaner.state.floatbank3_b_level    0\n",
       "secondary_cleaner.state.floatbank4_a_air      0\n",
       "secondary_cleaner.state.floatbank4_a_level    0\n",
       "secondary_cleaner.state.floatbank4_b_air      0\n",
       "secondary_cleaner.state.floatbank4_b_level    0\n",
       "secondary_cleaner.state.floatbank5_a_air      0\n",
       "secondary_cleaner.state.floatbank5_a_level    0\n",
       "secondary_cleaner.state.floatbank5_b_air      0\n",
       "secondary_cleaner.state.floatbank5_b_level    0\n",
       "secondary_cleaner.state.floatbank6_a_air      0\n",
       "secondary_cleaner.state.floatbank6_a_level    0\n",
       "rougher.output.recovery                       0\n",
       "final.output.recovery                         0\n",
       "dtype: int64"
      ]
     },
     "execution_count": 24,
     "metadata": {},
     "output_type": "execute_result"
    }
   ],
   "source": [
    "test.isna().sum()"
   ]
  },
  {
   "cell_type": "markdown",
   "metadata": {},
   "source": [
    "Missing values are filled. Now let's check the data for duplicates."
   ]
  },
  {
   "cell_type": "code",
   "execution_count": 25,
   "metadata": {},
   "outputs": [
    {
     "data": {
      "text/plain": [
       "0"
      ]
     },
     "execution_count": 25,
     "metadata": {},
     "output_type": "execute_result"
    }
   ],
   "source": [
    "train.duplicated().sum()"
   ]
  },
  {
   "cell_type": "code",
   "execution_count": 26,
   "metadata": {
    "scrolled": true
   },
   "outputs": [
    {
     "data": {
      "text/plain": [
       "0"
      ]
     },
     "execution_count": 26,
     "metadata": {},
     "output_type": "execute_result"
    }
   ],
   "source": [
    "test.duplicated().sum()"
   ]
  },
  {
   "cell_type": "markdown",
   "metadata": {},
   "source": [
    "We see that there are no duplicates in the data."
   ]
  },
  {
   "cell_type": "markdown",
   "metadata": {},
   "source": [
    "### Conclusion"
   ]
  },
  {
   "cell_type": "markdown",
   "metadata": {},
   "source": [
    "The data consists of three tables: a table with a training sample, a table with a test sample, and a table with full data. The number of columns in the test data (53) is less than in the training data (87). Each row in the data set is the parameters and concentrations of substances at different stages of processing and recovery of the ore.\n",
    "\n",
    "During the data review, we did the following:\n",
    "\n",
    "* checked the formula for calculating the recovery efficiency\n",
    "    \n",
    "* brought the number of columns in the training sample in line with the test one. Added target variable to the test set\n",
    "    \n",
    "* filled in the missing values in features using the `ffill` method\n",
    "    \n",
    "* determined that there are no duplicate values in the data"
   ]
  },
  {
   "cell_type": "markdown",
   "metadata": {},
   "source": [
    "## Data analysis"
   ]
  },
  {
   "cell_type": "markdown",
   "metadata": {},
   "source": [
    "###  Concentration of metals (Au, Ag, Pb) at various purification stages"
   ]
  },
  {
   "cell_type": "markdown",
   "metadata": {},
   "source": [
    "Let's create graphs and see how the concentration of metals changes at various stages of purification."
   ]
  },
  {
   "cell_type": "code",
   "execution_count": 27,
   "metadata": {},
   "outputs": [],
   "source": [
    "metal_dict = {'au': 'gold (Au)', 'ag': 'silver (Ag)', 'pb': 'lead (Pb)'}\n",
    "\n",
    "def graphs(metal):\n",
    "    plt.figure(figsize=(14, 8))\n",
    "    sns.kdeplot(data=full[['rougher.input.feed_'+metal, \n",
    "                           'rougher.output.concentrate_'+metal, \n",
    "                           'primary_cleaner.output.concentrate_'+metal, \n",
    "                           'final.output.concentrate_'+metal]])\n",
    "    plt.title(f'Change in {metal_dict[metal]} concentration at various purification stages')\n",
    "    plt.show()\n",
    "\n",
    "    \n",
    "    plt.figure(figsize=(15, 8))\n",
    "    sns.boxplot(data=full[['rougher.input.feed_'+metal, \n",
    "                           'rougher.output.concentrate_'+metal, \n",
    "                           'primary_cleaner.output.concentrate_'+metal, \n",
    "                           'final.output.concentrate_'+metal]], \n",
    "                linewidth=0.9)\n",
    "    plt.title(f'Change in {metal_dict[metal]} concentration at various purification stages')\n",
    "    plt.show()"
   ]
  },
  {
   "cell_type": "markdown",
   "metadata": {},
   "source": [
    "**Change in gold concentration (Au)**"
   ]
  },
  {
   "cell_type": "code",
   "execution_count": 28,
   "metadata": {},
   "outputs": [
    {
     "data": {
      "image/png": "[encoded data removed]",
      "text/plain": [
       "<Figure size 1008x576 with 1 Axes>"
      ]
     },
     "metadata": {
      "needs_background": "light"
     },
     "output_type": "display_data"
    },
    {
     "data": {
      "image/png": "[encoded data removed]",
      "text/plain": [
       "<Figure size 1080x576 with 1 Axes>"
      ]
     },
     "metadata": {
      "needs_background": "light"
     },
     "output_type": "display_data"
    }
   ],
   "source": [
    "graphs('au')"
   ]
  },
  {
   "cell_type": "markdown",
   "metadata": {},
   "source": [
    "We can see that the concentration of gold increases at each stage as the ore is refined, reaching a maximum at the final stage. It is also worth noting that there are null values and outliers in the data."
   ]
  },
  {
   "cell_type": "markdown",
   "metadata": {},
   "source": [
    "**Change in silver (Ag) concentration**"
   ]
  },
  {
   "cell_type": "code",
   "execution_count": 29,
   "metadata": {},
   "outputs": [
    {
     "data": {
      "image/png": "[encoded data removed]",
      "text/plain": [
       "<Figure size 1008x576 with 1 Axes>"
      ]
     },
     "metadata": {
      "needs_background": "light"
     },
     "output_type": "display_data"
    },
    {
     "data": {
      "image/png": "[encoded data removed]",
      "text/plain": [
       "<Figure size 1080x576 with 1 Axes>"
      ]
     },
     "metadata": {
      "needs_background": "light"
     },
     "output_type": "display_data"
    }
   ],
   "source": [
    "graphs('ag')"
   ]
  },
  {
   "cell_type": "markdown",
   "metadata": {},
   "source": [
    "We can see that the silver concentration increases at the end of the flotation stage, and then decreases as the ore is cleaned, reaching the minimum at the final stage. As with gold, there are zeros and outliers in the data."
   ]
  },
  {
   "cell_type": "markdown",
   "metadata": {},
   "source": [
    "**Change in lead (Pb) concentration**"
   ]
  },
  {
   "cell_type": "code",
   "execution_count": 30,
   "metadata": {},
   "outputs": [
    {
     "data": {
      "image/png": "[encoded data removed]",
      "text/plain": [
       "<Figure size 1008x576 with 1 Axes>"
      ]
     },
     "metadata": {
      "needs_background": "light"
     },
     "output_type": "display_data"
    },
    {
     "data": {
      "image/png": "[encoded data removed]",
      "text/plain": [
       "<Figure size 1080x576 with 1 Axes>"
      ]
     },
     "metadata": {
      "needs_background": "light"
     },
     "output_type": "display_data"
    }
   ],
   "source": [
    "graphs('pb')"
   ]
  },
  {
   "cell_type": "markdown",
   "metadata": {},
   "source": [
    "We can see that the concentration of lead in the ore increases at the end of the flotation stage and at the cleaning stage and slightly decreases at the final stage. There are also zeros and outliers in the data."
   ]
  },
  {
   "cell_type": "markdown",
   "metadata": {},
   "source": [
    "### Raw material granules size distributions in training and test samples"
   ]
  },
  {
   "cell_type": "code",
   "execution_count": 31,
   "metadata": {},
   "outputs": [
    {
     "data": {
      "image/png": "[encoded data removed]",
      "text/plain": [
       "<Figure size 1008x576 with 1 Axes>"
      ]
     },
     "metadata": {
      "needs_background": "light"
     },
     "output_type": "display_data"
    }
   ],
   "source": [
    "plt.figure(figsize=(14, 8))\n",
    "sns.kdeplot(data=train['rougher.input.feed_size'], label='Train', shade=True)\n",
    "sns.kdeplot(data=test['rougher.input.feed_size'], label='Test', shade=True)\n",
    "plt.legend()\n",
    "plt.show()"
   ]
  },
  {
   "cell_type": "markdown",
   "metadata": {},
   "source": [
    "The size distributions of raw material granules in the training and test samples look similar. Let's do the Levene test to check whether the variances differ for this feature. Let's set the threshold value at the level of 5%."
   ]
  },
  {
   "cell_type": "code",
   "execution_count": 32,
   "metadata": {},
   "outputs": [
    {
     "name": "stdout",
     "output_type": "stream",
     "text": [
      "Do not reject Н0, variances are equal\n",
      "Variances:  [529.2442700162884, 364.0591492476344]\n"
     ]
    }
   ],
   "source": [
    "sample_1 = train['rougher.input.feed_size']\n",
    "sample_2 = test['rougher.input.feed_size']\n",
    "\n",
    "alpha = .05\n",
    "stat, p = st.levene(sample_1, sample_2)\n",
    "result = p\n",
    "\n",
    "if result < alpha:\n",
    "    print('Reject Н0, variances are not equal')\n",
    "else:\n",
    "    print(\"Do not reject Н0, variances are equal\")\n",
    "\n",
    "sample_var = [np.var(x, ddof=1) for x in [sample_1, sample_2]]\n",
    "print('Variances: ', sample_var)"
   ]
  },
  {
   "cell_type": "markdown",
   "metadata": {},
   "source": [
    "Let's also check the size distribution of raw material granules before primary cleaning."
   ]
  },
  {
   "cell_type": "code",
   "execution_count": 33,
   "metadata": {},
   "outputs": [
    {
     "data": {
      "image/png": "[encoded data removed]",
      "text/plain": [
       "<Figure size 1008x576 with 1 Axes>"
      ]
     },
     "metadata": {
      "needs_background": "light"
     },
     "output_type": "display_data"
    }
   ],
   "source": [
    "plt.figure(figsize=(14, 8))\n",
    "sns.kdeplot(data=train['primary_cleaner.input.feed_size'], label='Train', shade=True)\n",
    "sns.kdeplot(data=test['primary_cleaner.input.feed_size'], label='Test', shade=True)\n",
    "plt.legend()\n",
    "plt.show()"
   ]
  },
  {
   "cell_type": "markdown",
   "metadata": {},
   "source": [
    "The granule size distributions in the training and test samples before primary purification look almost the same. Let's also conduct a Levene test to check whether the variances differ for this feature. Let's set the threshold value at the level of 5%."
   ]
  },
  {
   "cell_type": "code",
   "execution_count": 34,
   "metadata": {},
   "outputs": [
    {
     "name": "stdout",
     "output_type": "stream",
     "text": [
      "Do not reject Н0, variances are equal\n",
      "Variances:  [0.3770724642469802, 0.3723669484997233]\n"
     ]
    }
   ],
   "source": [
    "sample_1_primary = train['primary_cleaner.input.feed_size']\n",
    "sample_2_primary = test['primary_cleaner.input.feed_size']\n",
    "\n",
    "alpha = .05\n",
    "stat, p = st.levene(sample_1_primary, sample_2_primary)\n",
    "result = p\n",
    "\n",
    "if result < alpha:\n",
    "    print('Reject Н0, variances are not equal')\n",
    "else:\n",
    "    print(\"Do not reject Н0, variances are equal\")\n",
    "\n",
    "sample_var = [np.var(x, ddof=1) for x in [sample_1_primary, sample_2_primary]]\n",
    "print('Variances: ', sample_var)"
   ]
  },
  {
   "cell_type": "markdown",
   "metadata": {},
   "source": [
    "**Conclusion**"
   ]
  },
  {
   "cell_type": "markdown",
   "metadata": {},
   "source": [
    "The granule size distributions in the training and test samples are similar. Levene's test confirmed that the variances did not differ at a threshold of 5%. Minor deviations should not interfere with model training."
   ]
  },
  {
   "cell_type": "markdown",
   "metadata": {},
   "source": [
    "### The total concentration of all substances at different stages"
   ]
  },
  {
   "cell_type": "markdown",
   "metadata": {},
   "source": [
    "Let's look at the total concentration of all substances at different stages: in raw materials, in roughing and final concentrates."
   ]
  },
  {
   "cell_type": "code",
   "execution_count": 35,
   "metadata": {},
   "outputs": [],
   "source": [
    "sum_concentration = pd.DataFrame()\n",
    "sum_concentration['rougher_input'] = full[['rougher.input.feed_au', 'rougher.input.feed_ag', 'rougher.input.feed_pb']].sum(axis=1)\n",
    "sum_concentration['rougher_output'] = full[['rougher.output.concentrate_au', 'rougher.output.concentrate_ag', 'rougher.output.concentrate_pb']].sum(axis=1)\n",
    "sum_concentration ['primary_cleaner'] = full[['primary_cleaner.output.concentrate_au', 'primary_cleaner.output.concentrate_ag', 'primary_cleaner.output.concentrate_pb']].sum(axis=1)\n",
    "sum_concentration ['final'] = full[['final.output.concentrate_au', 'final.output.concentrate_ag', 'final.output.concentrate_pb']].sum(axis=1)"
   ]
  },
  {
   "cell_type": "code",
   "execution_count": 36,
   "metadata": {},
   "outputs": [
    {
     "data": {
      "text/html": [
       "<div>\n",
       "<style scoped>\n",
       "    .dataframe tbody tr th:only-of-type {\n",
       "        vertical-align: middle;\n",
       "    }\n",
       "\n",
       "    .dataframe tbody tr th {\n",
       "        vertical-align: top;\n",
       "    }\n",
       "\n",
       "    .dataframe thead th {\n",
       "        text-align: right;\n",
       "    }\n",
       "</style>\n",
       "<table border=\"1\" class=\"dataframe\">\n",
       "  <thead>\n",
       "    <tr style=\"text-align: right;\">\n",
       "      <th></th>\n",
       "      <th>rougher_input</th>\n",
       "      <th>rougher_output</th>\n",
       "      <th>primary_cleaner</th>\n",
       "      <th>final</th>\n",
       "    </tr>\n",
       "  </thead>\n",
       "  <tbody>\n",
       "    <tr>\n",
       "      <th>0</th>\n",
       "      <td>14.871440</td>\n",
       "      <td>38.395653</td>\n",
       "      <td>53.111627</td>\n",
       "      <td>58.137072</td>\n",
       "    </tr>\n",
       "    <tr>\n",
       "      <th>1</th>\n",
       "      <td>14.905729</td>\n",
       "      <td>38.945647</td>\n",
       "      <td>53.174338</td>\n",
       "      <td>58.699942</td>\n",
       "    </tr>\n",
       "    <tr>\n",
       "      <th>2</th>\n",
       "      <td>14.638299</td>\n",
       "      <td>38.649756</td>\n",
       "      <td>52.927464</td>\n",
       "      <td>58.927421</td>\n",
       "    </tr>\n",
       "    <tr>\n",
       "      <th>3</th>\n",
       "      <td>14.199305</td>\n",
       "      <td>38.411473</td>\n",
       "      <td>43.979185</td>\n",
       "      <td>58.714815</td>\n",
       "    </tr>\n",
       "    <tr>\n",
       "      <th>4</th>\n",
       "      <td>13.511497</td>\n",
       "      <td>38.867359</td>\n",
       "      <td>52.121146</td>\n",
       "      <td>59.065251</td>\n",
       "    </tr>\n",
       "  </tbody>\n",
       "</table>\n",
       "</div>"
      ],
      "text/plain": [
       "   rougher_input  rougher_output  primary_cleaner      final\n",
       "0      14.871440       38.395653        53.111627  58.137072\n",
       "1      14.905729       38.945647        53.174338  58.699942\n",
       "2      14.638299       38.649756        52.927464  58.927421\n",
       "3      14.199305       38.411473        43.979185  58.714815\n",
       "4      13.511497       38.867359        52.121146  59.065251"
      ]
     },
     "execution_count": 36,
     "metadata": {},
     "output_type": "execute_result"
    }
   ],
   "source": [
    "sum_concentration.head()"
   ]
  },
  {
   "cell_type": "code",
   "execution_count": 37,
   "metadata": {
    "scrolled": true
   },
   "outputs": [
    {
     "data": {
      "text/html": [
       "<div>\n",
       "<style scoped>\n",
       "    .dataframe tbody tr th:only-of-type {\n",
       "        vertical-align: middle;\n",
       "    }\n",
       "\n",
       "    .dataframe tbody tr th {\n",
       "        vertical-align: top;\n",
       "    }\n",
       "\n",
       "    .dataframe thead th {\n",
       "        text-align: right;\n",
       "    }\n",
       "</style>\n",
       "<table border=\"1\" class=\"dataframe\">\n",
       "  <thead>\n",
       "    <tr style=\"text-align: right;\">\n",
       "      <th></th>\n",
       "      <th>rougher_input</th>\n",
       "      <th>rougher_output</th>\n",
       "      <th>primary_cleaner</th>\n",
       "      <th>final</th>\n",
       "    </tr>\n",
       "  </thead>\n",
       "  <tbody>\n",
       "    <tr>\n",
       "      <th>count</th>\n",
       "      <td>19439.000000</td>\n",
       "      <td>19439.000000</td>\n",
       "      <td>19439.000000</td>\n",
       "      <td>19439.000000</td>\n",
       "    </tr>\n",
       "    <tr>\n",
       "      <th>mean</th>\n",
       "      <td>20.640600</td>\n",
       "      <td>39.373032</td>\n",
       "      <td>50.332682</td>\n",
       "      <td>59.223099</td>\n",
       "    </tr>\n",
       "    <tr>\n",
       "      <th>std</th>\n",
       "      <td>4.494362</td>\n",
       "      <td>6.863389</td>\n",
       "      <td>7.671672</td>\n",
       "      <td>6.097603</td>\n",
       "    </tr>\n",
       "    <tr>\n",
       "      <th>min</th>\n",
       "      <td>0.030000</td>\n",
       "      <td>0.000000</td>\n",
       "      <td>0.000000</td>\n",
       "      <td>0.000000</td>\n",
       "    </tr>\n",
       "    <tr>\n",
       "      <th>25%</th>\n",
       "      <td>17.252879</td>\n",
       "      <td>38.394639</td>\n",
       "      <td>50.038524</td>\n",
       "      <td>59.298323</td>\n",
       "    </tr>\n",
       "    <tr>\n",
       "      <th>50%</th>\n",
       "      <td>20.141216</td>\n",
       "      <td>40.312648</td>\n",
       "      <td>51.905758</td>\n",
       "      <td>60.306921</td>\n",
       "    </tr>\n",
       "    <tr>\n",
       "      <th>75%</th>\n",
       "      <td>23.797381</td>\n",
       "      <td>42.365102</td>\n",
       "      <td>53.386172</td>\n",
       "      <td>61.096667</td>\n",
       "    </tr>\n",
       "    <tr>\n",
       "      <th>max</th>\n",
       "      <td>33.498784</td>\n",
       "      <td>55.568687</td>\n",
       "      <td>60.269003</td>\n",
       "      <td>64.968881</td>\n",
       "    </tr>\n",
       "  </tbody>\n",
       "</table>\n",
       "</div>"
      ],
      "text/plain": [
       "       rougher_input  rougher_output  primary_cleaner         final\n",
       "count   19439.000000    19439.000000     19439.000000  19439.000000\n",
       "mean       20.640600       39.373032        50.332682     59.223099\n",
       "std         4.494362        6.863389         7.671672      6.097603\n",
       "min         0.030000        0.000000         0.000000      0.000000\n",
       "25%        17.252879       38.394639        50.038524     59.298323\n",
       "50%        20.141216       40.312648        51.905758     60.306921\n",
       "75%        23.797381       42.365102        53.386172     61.096667\n",
       "max        33.498784       55.568687        60.269003     64.968881"
      ]
     },
     "execution_count": 37,
     "metadata": {},
     "output_type": "execute_result"
    }
   ],
   "source": [
    "sum_concentration.describe()"
   ]
  },
  {
   "cell_type": "code",
   "execution_count": 38,
   "metadata": {},
   "outputs": [
    {
     "data": {
      "image/png": "[encoded data removed]",
      "text/plain": [
       "<Figure size 1008x576 with 1 Axes>"
      ]
     },
     "metadata": {
      "needs_background": "light"
     },
     "output_type": "display_data"
    }
   ],
   "source": [
    "plt.figure(figsize=(14, 8))\n",
    "sns.kdeplot(data=sum_concentration)\n",
    "plt.show()"
   ]
  },
  {
   "cell_type": "code",
   "execution_count": 39,
   "metadata": {},
   "outputs": [
    {
     "data": {
      "image/png": "[encoded data removed]",
      "text/plain": [
       "<Figure size 1080x576 with 1 Axes>"
      ]
     },
     "metadata": {
      "needs_background": "light"
     },
     "output_type": "display_data"
    }
   ],
   "source": [
    "plt.figure(figsize=(15, 8))\n",
    "sns.boxplot(data=sum_concentration, linewidth=0.9)\n",
    "plt.show()"
   ]
  },
  {
   "cell_type": "markdown",
   "metadata": {},
   "source": [
    "**Conclusion**"
   ]
  },
  {
   "cell_type": "markdown",
   "metadata": {},
   "source": [
    "We can see that the total concentration of substances increases at each stage of ore processing. At the same time, there are many outliers and zero values in the data. It looks like a measurement error or the presence of low-quality raw materials and may interfere with our model. Before training the models, it will be necessary to get rid of these anomalies."
   ]
  },
  {
   "cell_type": "markdown",
   "metadata": {},
   "source": [
    "## Model"
   ]
  },
  {
   "cell_type": "markdown",
   "metadata": {},
   "source": [
    "### Preparation of training and test sets"
   ]
  },
  {
   "cell_type": "markdown",
   "metadata": {},
   "source": [
    "First, let's get rid of the rows with zero values of the target variable in the training and test sets."
   ]
  },
  {
   "cell_type": "code",
   "execution_count": 40,
   "metadata": {},
   "outputs": [],
   "source": [
    "train_clean = train.loc[(train['rougher.output.recovery'] !=0)&(train['final.output.recovery'] !=0)]\n",
    "test_clean = test.loc[(test['rougher.output.recovery'] !=0)&(test['final.output.recovery'] !=0)]"
   ]
  },
  {
   "cell_type": "markdown",
   "metadata": {},
   "source": [
    "Let's divide the training and test data into features and target variables."
   ]
  },
  {
   "cell_type": "code",
   "execution_count": 41,
   "metadata": {},
   "outputs": [],
   "source": [
    "x_train = train_clean.drop(['date','rougher.output.recovery', 'final.output.recovery'], axis=1)\n",
    "y_train = train_clean[['rougher.output.recovery', 'final.output.recovery']]\n",
    "\n",
    "x_test = test_clean.drop(['date','rougher.output.recovery', 'final.output.recovery'], axis=1)\n",
    "y_test = test_clean[['rougher.output.recovery', 'final.output.recovery']]"
   ]
  },
  {
   "cell_type": "code",
   "execution_count": 42,
   "metadata": {},
   "outputs": [
    {
     "name": "stdout",
     "output_type": "stream",
     "text": [
      "Features size of training set: (13795, 52)\n",
      "Target size of training set: (13795, 2)\n",
      "Features size of validation set: (5154, 52)\n",
      "Target size of validation set: (5154, 2)\n"
     ]
    }
   ],
   "source": [
    "print('Features size of training set:', x_train.shape)\n",
    "print('Target size of training set:', y_train.shape)\n",
    "print('Features size of validation set:', x_test.shape)\n",
    "print('Target size of validation set:', y_test.shape)"
   ]
  },
  {
   "cell_type": "markdown",
   "metadata": {},
   "source": [
    "Let's scale features using the StandardScaler method in order to avoid prioritizing features with large values and a spread over the rest. We fit StandardScaler on the training data and then apply it to the test data."
   ]
  },
  {
   "cell_type": "code",
   "execution_count": 43,
   "metadata": {},
   "outputs": [],
   "source": [
    "cols = x_train.columns\n",
    "scaler = StandardScaler()\n",
    "scaler.fit(x_train[cols])\n",
    "pd.options.mode.chained_assignment = None\n",
    "x_train[cols] = scaler.transform(x_train[cols])"
   ]
  },
  {
   "cell_type": "code",
   "execution_count": 44,
   "metadata": {},
   "outputs": [
    {
     "data": {
      "text/html": [
       "<div>\n",
       "<style scoped>\n",
       "    .dataframe tbody tr th:only-of-type {\n",
       "        vertical-align: middle;\n",
       "    }\n",
       "\n",
       "    .dataframe tbody tr th {\n",
       "        vertical-align: top;\n",
       "    }\n",
       "\n",
       "    .dataframe thead th {\n",
       "        text-align: right;\n",
       "    }\n",
       "</style>\n",
       "<table border=\"1\" class=\"dataframe\">\n",
       "  <thead>\n",
       "    <tr style=\"text-align: right;\">\n",
       "      <th></th>\n",
       "      <th>primary_cleaner.input.sulfate</th>\n",
       "      <th>primary_cleaner.input.depressant</th>\n",
       "      <th>primary_cleaner.input.feed_size</th>\n",
       "      <th>primary_cleaner.input.xanthate</th>\n",
       "      <th>primary_cleaner.state.floatbank8_a_air</th>\n",
       "      <th>primary_cleaner.state.floatbank8_a_level</th>\n",
       "      <th>primary_cleaner.state.floatbank8_b_air</th>\n",
       "      <th>primary_cleaner.state.floatbank8_b_level</th>\n",
       "      <th>primary_cleaner.state.floatbank8_c_air</th>\n",
       "      <th>primary_cleaner.state.floatbank8_c_level</th>\n",
       "      <th>...</th>\n",
       "      <th>secondary_cleaner.state.floatbank4_a_air</th>\n",
       "      <th>secondary_cleaner.state.floatbank4_a_level</th>\n",
       "      <th>secondary_cleaner.state.floatbank4_b_air</th>\n",
       "      <th>secondary_cleaner.state.floatbank4_b_level</th>\n",
       "      <th>secondary_cleaner.state.floatbank5_a_air</th>\n",
       "      <th>secondary_cleaner.state.floatbank5_a_level</th>\n",
       "      <th>secondary_cleaner.state.floatbank5_b_air</th>\n",
       "      <th>secondary_cleaner.state.floatbank5_b_level</th>\n",
       "      <th>secondary_cleaner.state.floatbank6_a_air</th>\n",
       "      <th>secondary_cleaner.state.floatbank6_a_level</th>\n",
       "    </tr>\n",
       "  </thead>\n",
       "  <tbody>\n",
       "    <tr>\n",
       "      <th>0</th>\n",
       "      <td>-0.167946</td>\n",
       "      <td>0.378919</td>\n",
       "      <td>-0.119465</td>\n",
       "      <td>0.280525</td>\n",
       "      <td>-0.447762</td>\n",
       "      <td>-0.287875</td>\n",
       "      <td>-0.430472</td>\n",
       "      <td>-0.810633</td>\n",
       "      <td>-0.435251</td>\n",
       "      <td>-0.260750</td>\n",
       "      <td>...</td>\n",
       "      <td>-1.055447</td>\n",
       "      <td>-0.473230</td>\n",
       "      <td>-0.649344</td>\n",
       "      <td>-0.754028</td>\n",
       "      <td>-1.184765</td>\n",
       "      <td>-0.379743</td>\n",
       "      <td>-0.870199</td>\n",
       "      <td>-0.428883</td>\n",
       "      <td>-0.961635</td>\n",
       "      <td>-2.670289</td>\n",
       "    </tr>\n",
       "    <tr>\n",
       "      <th>1</th>\n",
       "      <td>-0.205154</td>\n",
       "      <td>0.428690</td>\n",
       "      <td>-0.119465</td>\n",
       "      <td>0.317483</td>\n",
       "      <td>-0.243316</td>\n",
       "      <td>-0.343244</td>\n",
       "      <td>-0.244498</td>\n",
       "      <td>-0.322201</td>\n",
       "      <td>-0.241536</td>\n",
       "      <td>-0.278895</td>\n",
       "      <td>...</td>\n",
       "      <td>-1.059760</td>\n",
       "      <td>-0.532711</td>\n",
       "      <td>-0.677695</td>\n",
       "      <td>-0.696222</td>\n",
       "      <td>-1.165269</td>\n",
       "      <td>-0.428484</td>\n",
       "      <td>-0.886619</td>\n",
       "      <td>-0.431739</td>\n",
       "      <td>-0.988347</td>\n",
       "      <td>-2.507041</td>\n",
       "    </tr>\n",
       "    <tr>\n",
       "      <th>2</th>\n",
       "      <td>-0.251178</td>\n",
       "      <td>0.730962</td>\n",
       "      <td>-0.119465</td>\n",
       "      <td>0.287187</td>\n",
       "      <td>-0.046628</td>\n",
       "      <td>-0.318039</td>\n",
       "      <td>-0.059133</td>\n",
       "      <td>-0.344112</td>\n",
       "      <td>-0.048642</td>\n",
       "      <td>-0.322404</td>\n",
       "      <td>...</td>\n",
       "      <td>-1.055766</td>\n",
       "      <td>-0.473879</td>\n",
       "      <td>-0.684858</td>\n",
       "      <td>-0.692838</td>\n",
       "      <td>-1.159835</td>\n",
       "      <td>-0.427413</td>\n",
       "      <td>-0.881581</td>\n",
       "      <td>-0.430080</td>\n",
       "      <td>-0.983055</td>\n",
       "      <td>-2.551263</td>\n",
       "    </tr>\n",
       "    <tr>\n",
       "      <th>3</th>\n",
       "      <td>-0.290595</td>\n",
       "      <td>0.732699</td>\n",
       "      <td>-0.119465</td>\n",
       "      <td>0.301735</td>\n",
       "      <td>-0.058926</td>\n",
       "      <td>-0.344545</td>\n",
       "      <td>-0.057066</td>\n",
       "      <td>-0.316625</td>\n",
       "      <td>-0.061246</td>\n",
       "      <td>-0.318429</td>\n",
       "      <td>...</td>\n",
       "      <td>-1.051990</td>\n",
       "      <td>-0.441062</td>\n",
       "      <td>-0.668393</td>\n",
       "      <td>-0.693868</td>\n",
       "      <td>-1.177089</td>\n",
       "      <td>-0.403105</td>\n",
       "      <td>-0.887905</td>\n",
       "      <td>-0.423359</td>\n",
       "      <td>-0.987090</td>\n",
       "      <td>-2.512675</td>\n",
       "    </tr>\n",
       "    <tr>\n",
       "      <th>4</th>\n",
       "      <td>-0.399512</td>\n",
       "      <td>0.907974</td>\n",
       "      <td>-0.119465</td>\n",
       "      <td>0.336637</td>\n",
       "      <td>-0.048305</td>\n",
       "      <td>-0.289634</td>\n",
       "      <td>-0.051159</td>\n",
       "      <td>-0.335708</td>\n",
       "      <td>-0.066602</td>\n",
       "      <td>-0.322910</td>\n",
       "      <td>...</td>\n",
       "      <td>-1.053609</td>\n",
       "      <td>-0.420967</td>\n",
       "      <td>-0.677213</td>\n",
       "      <td>-0.691480</td>\n",
       "      <td>-1.184752</td>\n",
       "      <td>-0.468235</td>\n",
       "      <td>-0.902279</td>\n",
       "      <td>-0.425931</td>\n",
       "      <td>-0.988645</td>\n",
       "      <td>-2.553132</td>\n",
       "    </tr>\n",
       "  </tbody>\n",
       "</table>\n",
       "<p>5 rows × 52 columns</p>\n",
       "</div>"
      ],
      "text/plain": [
       "   primary_cleaner.input.sulfate  primary_cleaner.input.depressant  \\\n",
       "0                      -0.167946                          0.378919   \n",
       "1                      -0.205154                          0.428690   \n",
       "2                      -0.251178                          0.730962   \n",
       "3                      -0.290595                          0.732699   \n",
       "4                      -0.399512                          0.907974   \n",
       "\n",
       "   primary_cleaner.input.feed_size  primary_cleaner.input.xanthate  \\\n",
       "0                        -0.119465                        0.280525   \n",
       "1                        -0.119465                        0.317483   \n",
       "2                        -0.119465                        0.287187   \n",
       "3                        -0.119465                        0.301735   \n",
       "4                        -0.119465                        0.336637   \n",
       "\n",
       "   primary_cleaner.state.floatbank8_a_air  \\\n",
       "0                               -0.447762   \n",
       "1                               -0.243316   \n",
       "2                               -0.046628   \n",
       "3                               -0.058926   \n",
       "4                               -0.048305   \n",
       "\n",
       "   primary_cleaner.state.floatbank8_a_level  \\\n",
       "0                                 -0.287875   \n",
       "1                                 -0.343244   \n",
       "2                                 -0.318039   \n",
       "3                                 -0.344545   \n",
       "4                                 -0.289634   \n",
       "\n",
       "   primary_cleaner.state.floatbank8_b_air  \\\n",
       "0                               -0.430472   \n",
       "1                               -0.244498   \n",
       "2                               -0.059133   \n",
       "3                               -0.057066   \n",
       "4                               -0.051159   \n",
       "\n",
       "   primary_cleaner.state.floatbank8_b_level  \\\n",
       "0                                 -0.810633   \n",
       "1                                 -0.322201   \n",
       "2                                 -0.344112   \n",
       "3                                 -0.316625   \n",
       "4                                 -0.335708   \n",
       "\n",
       "   primary_cleaner.state.floatbank8_c_air  \\\n",
       "0                               -0.435251   \n",
       "1                               -0.241536   \n",
       "2                               -0.048642   \n",
       "3                               -0.061246   \n",
       "4                               -0.066602   \n",
       "\n",
       "   primary_cleaner.state.floatbank8_c_level  ...  \\\n",
       "0                                 -0.260750  ...   \n",
       "1                                 -0.278895  ...   \n",
       "2                                 -0.322404  ...   \n",
       "3                                 -0.318429  ...   \n",
       "4                                 -0.322910  ...   \n",
       "\n",
       "   secondary_cleaner.state.floatbank4_a_air  \\\n",
       "0                                 -1.055447   \n",
       "1                                 -1.059760   \n",
       "2                                 -1.055766   \n",
       "3                                 -1.051990   \n",
       "4                                 -1.053609   \n",
       "\n",
       "   secondary_cleaner.state.floatbank4_a_level  \\\n",
       "0                                   -0.473230   \n",
       "1                                   -0.532711   \n",
       "2                                   -0.473879   \n",
       "3                                   -0.441062   \n",
       "4                                   -0.420967   \n",
       "\n",
       "   secondary_cleaner.state.floatbank4_b_air  \\\n",
       "0                                 -0.649344   \n",
       "1                                 -0.677695   \n",
       "2                                 -0.684858   \n",
       "3                                 -0.668393   \n",
       "4                                 -0.677213   \n",
       "\n",
       "   secondary_cleaner.state.floatbank4_b_level  \\\n",
       "0                                   -0.754028   \n",
       "1                                   -0.696222   \n",
       "2                                   -0.692838   \n",
       "3                                   -0.693868   \n",
       "4                                   -0.691480   \n",
       "\n",
       "   secondary_cleaner.state.floatbank5_a_air  \\\n",
       "0                                 -1.184765   \n",
       "1                                 -1.165269   \n",
       "2                                 -1.159835   \n",
       "3                                 -1.177089   \n",
       "4                                 -1.184752   \n",
       "\n",
       "   secondary_cleaner.state.floatbank5_a_level  \\\n",
       "0                                   -0.379743   \n",
       "1                                   -0.428484   \n",
       "2                                   -0.427413   \n",
       "3                                   -0.403105   \n",
       "4                                   -0.468235   \n",
       "\n",
       "   secondary_cleaner.state.floatbank5_b_air  \\\n",
       "0                                 -0.870199   \n",
       "1                                 -0.886619   \n",
       "2                                 -0.881581   \n",
       "3                                 -0.887905   \n",
       "4                                 -0.902279   \n",
       "\n",
       "   secondary_cleaner.state.floatbank5_b_level  \\\n",
       "0                                   -0.428883   \n",
       "1                                   -0.431739   \n",
       "2                                   -0.430080   \n",
       "3                                   -0.423359   \n",
       "4                                   -0.425931   \n",
       "\n",
       "   secondary_cleaner.state.floatbank6_a_air  \\\n",
       "0                                 -0.961635   \n",
       "1                                 -0.988347   \n",
       "2                                 -0.983055   \n",
       "3                                 -0.987090   \n",
       "4                                 -0.988645   \n",
       "\n",
       "   secondary_cleaner.state.floatbank6_a_level  \n",
       "0                                   -2.670289  \n",
       "1                                   -2.507041  \n",
       "2                                   -2.551263  \n",
       "3                                   -2.512675  \n",
       "4                                   -2.553132  \n",
       "\n",
       "[5 rows x 52 columns]"
      ]
     },
     "execution_count": 44,
     "metadata": {},
     "output_type": "execute_result"
    }
   ],
   "source": [
    "x_train.head()"
   ]
  },
  {
   "cell_type": "code",
   "execution_count": 45,
   "metadata": {},
   "outputs": [],
   "source": [
    "x_test[cols] = scaler.transform(x_test[cols])"
   ]
  },
  {
   "cell_type": "code",
   "execution_count": 46,
   "metadata": {},
   "outputs": [
    {
     "data": {
      "text/html": [
       "<div>\n",
       "<style scoped>\n",
       "    .dataframe tbody tr th:only-of-type {\n",
       "        vertical-align: middle;\n",
       "    }\n",
       "\n",
       "    .dataframe tbody tr th {\n",
       "        vertical-align: top;\n",
       "    }\n",
       "\n",
       "    .dataframe thead th {\n",
       "        text-align: right;\n",
       "    }\n",
       "</style>\n",
       "<table border=\"1\" class=\"dataframe\">\n",
       "  <thead>\n",
       "    <tr style=\"text-align: right;\">\n",
       "      <th></th>\n",
       "      <th>primary_cleaner.input.sulfate</th>\n",
       "      <th>primary_cleaner.input.depressant</th>\n",
       "      <th>primary_cleaner.input.feed_size</th>\n",
       "      <th>primary_cleaner.input.xanthate</th>\n",
       "      <th>primary_cleaner.state.floatbank8_a_air</th>\n",
       "      <th>primary_cleaner.state.floatbank8_a_level</th>\n",
       "      <th>primary_cleaner.state.floatbank8_b_air</th>\n",
       "      <th>primary_cleaner.state.floatbank8_b_level</th>\n",
       "      <th>primary_cleaner.state.floatbank8_c_air</th>\n",
       "      <th>primary_cleaner.state.floatbank8_c_level</th>\n",
       "      <th>...</th>\n",
       "      <th>secondary_cleaner.state.floatbank4_a_air</th>\n",
       "      <th>secondary_cleaner.state.floatbank4_a_level</th>\n",
       "      <th>secondary_cleaner.state.floatbank4_b_air</th>\n",
       "      <th>secondary_cleaner.state.floatbank4_b_level</th>\n",
       "      <th>secondary_cleaner.state.floatbank5_a_air</th>\n",
       "      <th>secondary_cleaner.state.floatbank5_a_level</th>\n",
       "      <th>secondary_cleaner.state.floatbank5_b_air</th>\n",
       "      <th>secondary_cleaner.state.floatbank5_b_level</th>\n",
       "      <th>secondary_cleaner.state.floatbank6_a_air</th>\n",
       "      <th>secondary_cleaner.state.floatbank6_a_level</th>\n",
       "    </tr>\n",
       "  </thead>\n",
       "  <tbody>\n",
       "    <tr>\n",
       "      <th>0</th>\n",
       "      <td>1.961281</td>\n",
       "      <td>1.820545</td>\n",
       "      <td>1.227753</td>\n",
       "      <td>0.323751</td>\n",
       "      <td>-1.615943</td>\n",
       "      <td>-0.324368</td>\n",
       "      <td>-1.585693</td>\n",
       "      <td>-0.323791</td>\n",
       "      <td>-1.545997</td>\n",
       "      <td>-0.317768</td>\n",
       "      <td>...</td>\n",
       "      <td>-1.405630</td>\n",
       "      <td>-0.380669</td>\n",
       "      <td>-1.424210</td>\n",
       "      <td>-0.695498</td>\n",
       "      <td>-1.524368</td>\n",
       "      <td>1.349791</td>\n",
       "      <td>-1.425066</td>\n",
       "      <td>-0.417749</td>\n",
       "      <td>1.230368</td>\n",
       "      <td>0.191218</td>\n",
       "    </tr>\n",
       "    <tr>\n",
       "      <th>1</th>\n",
       "      <td>2.078072</td>\n",
       "      <td>1.818871</td>\n",
       "      <td>1.227753</td>\n",
       "      <td>0.285071</td>\n",
       "      <td>-1.617518</td>\n",
       "      <td>-0.319696</td>\n",
       "      <td>-1.593958</td>\n",
       "      <td>-0.319610</td>\n",
       "      <td>-1.575306</td>\n",
       "      <td>-0.276799</td>\n",
       "      <td>...</td>\n",
       "      <td>-1.399553</td>\n",
       "      <td>-0.398422</td>\n",
       "      <td>-1.402516</td>\n",
       "      <td>-0.667232</td>\n",
       "      <td>-1.522359</td>\n",
       "      <td>-1.101237</td>\n",
       "      <td>-1.423970</td>\n",
       "      <td>-0.420957</td>\n",
       "      <td>0.936004</td>\n",
       "      <td>0.188252</td>\n",
       "    </tr>\n",
       "    <tr>\n",
       "      <th>2</th>\n",
       "      <td>2.074702</td>\n",
       "      <td>1.195812</td>\n",
       "      <td>0.751628</td>\n",
       "      <td>0.299886</td>\n",
       "      <td>-1.619720</td>\n",
       "      <td>-0.342227</td>\n",
       "      <td>-1.587851</td>\n",
       "      <td>-0.319207</td>\n",
       "      <td>-1.561032</td>\n",
       "      <td>-0.358259</td>\n",
       "      <td>...</td>\n",
       "      <td>-1.416379</td>\n",
       "      <td>-0.399837</td>\n",
       "      <td>-1.408984</td>\n",
       "      <td>-0.687612</td>\n",
       "      <td>-1.503005</td>\n",
       "      <td>-0.445039</td>\n",
       "      <td>-1.419424</td>\n",
       "      <td>-0.412383</td>\n",
       "      <td>0.931626</td>\n",
       "      <td>0.166598</td>\n",
       "    </tr>\n",
       "    <tr>\n",
       "      <th>3</th>\n",
       "      <td>2.076642</td>\n",
       "      <td>0.935590</td>\n",
       "      <td>0.513565</td>\n",
       "      <td>-0.052387</td>\n",
       "      <td>-1.611010</td>\n",
       "      <td>-0.286526</td>\n",
       "      <td>-1.598625</td>\n",
       "      <td>-0.302859</td>\n",
       "      <td>-1.545802</td>\n",
       "      <td>-0.252056</td>\n",
       "      <td>...</td>\n",
       "      <td>-1.403954</td>\n",
       "      <td>-0.391619</td>\n",
       "      <td>-1.413149</td>\n",
       "      <td>-0.664503</td>\n",
       "      <td>-1.532858</td>\n",
       "      <td>-0.446791</td>\n",
       "      <td>-1.414878</td>\n",
       "      <td>-0.415853</td>\n",
       "      <td>0.923604</td>\n",
       "      <td>0.218164</td>\n",
       "    </tr>\n",
       "    <tr>\n",
       "      <th>4</th>\n",
       "      <td>1.663639</td>\n",
       "      <td>0.543159</td>\n",
       "      <td>0.335018</td>\n",
       "      <td>-0.206394</td>\n",
       "      <td>-1.598227</td>\n",
       "      <td>-0.340558</td>\n",
       "      <td>-1.593400</td>\n",
       "      <td>-0.311528</td>\n",
       "      <td>-1.530651</td>\n",
       "      <td>-0.320740</td>\n",
       "      <td>...</td>\n",
       "      <td>-1.405311</td>\n",
       "      <td>-0.439665</td>\n",
       "      <td>-1.416995</td>\n",
       "      <td>-0.680269</td>\n",
       "      <td>-1.496684</td>\n",
       "      <td>-0.673706</td>\n",
       "      <td>-1.410332</td>\n",
       "      <td>-0.426033</td>\n",
       "      <td>0.933105</td>\n",
       "      <td>0.160295</td>\n",
       "    </tr>\n",
       "  </tbody>\n",
       "</table>\n",
       "<p>5 rows × 52 columns</p>\n",
       "</div>"
      ],
      "text/plain": [
       "   primary_cleaner.input.sulfate  primary_cleaner.input.depressant  \\\n",
       "0                       1.961281                          1.820545   \n",
       "1                       2.078072                          1.818871   \n",
       "2                       2.074702                          1.195812   \n",
       "3                       2.076642                          0.935590   \n",
       "4                       1.663639                          0.543159   \n",
       "\n",
       "   primary_cleaner.input.feed_size  primary_cleaner.input.xanthate  \\\n",
       "0                         1.227753                        0.323751   \n",
       "1                         1.227753                        0.285071   \n",
       "2                         0.751628                        0.299886   \n",
       "3                         0.513565                       -0.052387   \n",
       "4                         0.335018                       -0.206394   \n",
       "\n",
       "   primary_cleaner.state.floatbank8_a_air  \\\n",
       "0                               -1.615943   \n",
       "1                               -1.617518   \n",
       "2                               -1.619720   \n",
       "3                               -1.611010   \n",
       "4                               -1.598227   \n",
       "\n",
       "   primary_cleaner.state.floatbank8_a_level  \\\n",
       "0                                 -0.324368   \n",
       "1                                 -0.319696   \n",
       "2                                 -0.342227   \n",
       "3                                 -0.286526   \n",
       "4                                 -0.340558   \n",
       "\n",
       "   primary_cleaner.state.floatbank8_b_air  \\\n",
       "0                               -1.585693   \n",
       "1                               -1.593958   \n",
       "2                               -1.587851   \n",
       "3                               -1.598625   \n",
       "4                               -1.593400   \n",
       "\n",
       "   primary_cleaner.state.floatbank8_b_level  \\\n",
       "0                                 -0.323791   \n",
       "1                                 -0.319610   \n",
       "2                                 -0.319207   \n",
       "3                                 -0.302859   \n",
       "4                                 -0.311528   \n",
       "\n",
       "   primary_cleaner.state.floatbank8_c_air  \\\n",
       "0                               -1.545997   \n",
       "1                               -1.575306   \n",
       "2                               -1.561032   \n",
       "3                               -1.545802   \n",
       "4                               -1.530651   \n",
       "\n",
       "   primary_cleaner.state.floatbank8_c_level  ...  \\\n",
       "0                                 -0.317768  ...   \n",
       "1                                 -0.276799  ...   \n",
       "2                                 -0.358259  ...   \n",
       "3                                 -0.252056  ...   \n",
       "4                                 -0.320740  ...   \n",
       "\n",
       "   secondary_cleaner.state.floatbank4_a_air  \\\n",
       "0                                 -1.405630   \n",
       "1                                 -1.399553   \n",
       "2                                 -1.416379   \n",
       "3                                 -1.403954   \n",
       "4                                 -1.405311   \n",
       "\n",
       "   secondary_cleaner.state.floatbank4_a_level  \\\n",
       "0                                   -0.380669   \n",
       "1                                   -0.398422   \n",
       "2                                   -0.399837   \n",
       "3                                   -0.391619   \n",
       "4                                   -0.439665   \n",
       "\n",
       "   secondary_cleaner.state.floatbank4_b_air  \\\n",
       "0                                 -1.424210   \n",
       "1                                 -1.402516   \n",
       "2                                 -1.408984   \n",
       "3                                 -1.413149   \n",
       "4                                 -1.416995   \n",
       "\n",
       "   secondary_cleaner.state.floatbank4_b_level  \\\n",
       "0                                   -0.695498   \n",
       "1                                   -0.667232   \n",
       "2                                   -0.687612   \n",
       "3                                   -0.664503   \n",
       "4                                   -0.680269   \n",
       "\n",
       "   secondary_cleaner.state.floatbank5_a_air  \\\n",
       "0                                 -1.524368   \n",
       "1                                 -1.522359   \n",
       "2                                 -1.503005   \n",
       "3                                 -1.532858   \n",
       "4                                 -1.496684   \n",
       "\n",
       "   secondary_cleaner.state.floatbank5_a_level  \\\n",
       "0                                    1.349791   \n",
       "1                                   -1.101237   \n",
       "2                                   -0.445039   \n",
       "3                                   -0.446791   \n",
       "4                                   -0.673706   \n",
       "\n",
       "   secondary_cleaner.state.floatbank5_b_air  \\\n",
       "0                                 -1.425066   \n",
       "1                                 -1.423970   \n",
       "2                                 -1.419424   \n",
       "3                                 -1.414878   \n",
       "4                                 -1.410332   \n",
       "\n",
       "   secondary_cleaner.state.floatbank5_b_level  \\\n",
       "0                                   -0.417749   \n",
       "1                                   -0.420957   \n",
       "2                                   -0.412383   \n",
       "3                                   -0.415853   \n",
       "4                                   -0.426033   \n",
       "\n",
       "   secondary_cleaner.state.floatbank6_a_air  \\\n",
       "0                                  1.230368   \n",
       "1                                  0.936004   \n",
       "2                                  0.931626   \n",
       "3                                  0.923604   \n",
       "4                                  0.933105   \n",
       "\n",
       "   secondary_cleaner.state.floatbank6_a_level  \n",
       "0                                    0.191218  \n",
       "1                                    0.188252  \n",
       "2                                    0.166598  \n",
       "3                                    0.218164  \n",
       "4                                    0.160295  \n",
       "\n",
       "[5 rows x 52 columns]"
      ]
     },
     "execution_count": 46,
     "metadata": {},
     "output_type": "execute_result"
    }
   ],
   "source": [
    "x_test.head()"
   ]
  },
  {
   "cell_type": "markdown",
   "metadata": {},
   "source": [
    "**Conclusion**"
   ]
  },
  {
   "cell_type": "markdown",
   "metadata": {},
   "source": [
    "We divided the training and test data into features and target variables:\n",
    "\n",
    "     x_train, x_test - features of training and test sets\n",
    "     y_train, y_test - target variables of the training and test sets\n",
    "    \n",
    "The features were scaled by the StandardScaler method."
   ]
  },
  {
   "cell_type": "markdown",
   "metadata": {},
   "source": [
    "### Function to calculate the final sMAPE"
   ]
  },
  {
   "cell_type": "markdown",
   "metadata": {},
   "source": [
    "To solve the problem, let's introduce a new quality metric - `sMAPE` (Symmetric Mean Absolute Percentage Error). Let's write a function to calculate it, as well as a function to calculate the final `sMAPE`."
   ]
  },
  {
   "cell_type": "code",
   "execution_count": 47,
   "metadata": {},
   "outputs": [],
   "source": [
    "def smape(y, y_hat):\n",
    "    return (1/len(y) * np.sum(np.abs(y-y_hat) / ((np.abs(y) + np.abs(y_hat)) / 2))) * 100\n",
    "\n",
    "def smape_final(y, y_hat):\n",
    "    y_rougher = y['rougher.output.recovery']\n",
    "    y_final = y['final.output.recovery']\n",
    "    \n",
    "    y_hat_rougher = y_hat[:, 0]\n",
    "    y_hat_final = y_hat[:, 1]\n",
    "    return 0.25 * smape(y_rougher, y_hat_rougher) + 0.75 * smape(y_final, y_hat_final)"
   ]
  },
  {
   "cell_type": "markdown",
   "metadata": {},
   "source": [
    "Let's also create a scorer based on our function to use it for cross-validation."
   ]
  },
  {
   "cell_type": "code",
   "execution_count": 48,
   "metadata": {},
   "outputs": [],
   "source": [
    "smape_scoring = make_scorer(smape_final, greater_is_better=False)"
   ]
  },
  {
   "cell_type": "markdown",
   "metadata": {},
   "source": [
    "### Training models and quality check using cross-validation"
   ]
  },
  {
   "cell_type": "markdown",
   "metadata": {},
   "source": [
    "We will train `linear regression`, `decision tree` and `random forest` models and evaluate their quality using cross-validation. We will select hyperparameters using the GridSearchCV tool. We will evaluate the quality of the model using the sMAPE metric."
   ]
  },
  {
   "cell_type": "markdown",
   "metadata": {},
   "source": [
    "**Linear Regression**"
   ]
  },
  {
   "cell_type": "markdown",
   "metadata": {},
   "source": [
    "Let's tune the hyperparameters for the linear regression model and check the result."
   ]
  },
  {
   "cell_type": "code",
   "execution_count": 49,
   "metadata": {},
   "outputs": [
    {
     "name": "stdout",
     "output_type": "stream",
     "text": [
      "The best sMAPE for the Linear Regression: 10.059602069093598\n"
     ]
    }
   ],
   "source": [
    "reg_params = {'fit_intercept':[True,False], 'copy_X':[True, False]}\n",
    "model_reg = LinearRegression()\n",
    "\n",
    "grid_reg = GridSearchCV(model_reg, reg_params, cv=5, scoring=smape_scoring)\n",
    "grid_reg.fit(x_train, y_train)\n",
    "print('The best sMAPE for the Linear Regression:', np.abs(grid_reg.best_score_))"
   ]
  },
  {
   "cell_type": "markdown",
   "metadata": {},
   "source": [
    "**Decision Tree**"
   ]
  },
  {
   "cell_type": "markdown",
   "metadata": {},
   "source": [
    "Let's tune the hyperparameters for the decision tree model and check the result."
   ]
  },
  {
   "cell_type": "code",
   "execution_count": 50,
   "metadata": {},
   "outputs": [
    {
     "name": "stdout",
     "output_type": "stream",
     "text": [
      "The best sMAPE for the Decision Tree: 8.987481089659127\n"
     ]
    }
   ],
   "source": [
    "tree_params = {'max_depth': range (1,15, 1)}\n",
    "tree = DecisionTreeRegressor(random_state=12345)\n",
    "\n",
    "grid_tree = GridSearchCV(tree, tree_params, cv=5, scoring=smape_scoring)\n",
    "grid_tree.fit(x_train, y_train)\n",
    "print('The best sMAPE for the Decision Tree:', np.abs(grid_tree.best_score_))"
   ]
  },
  {
   "cell_type": "markdown",
   "metadata": {},
   "source": [
    "**Random Forest**"
   ]
  },
  {
   "cell_type": "markdown",
   "metadata": {},
   "source": [
    "Let's tune the hyperparameters for the random forest model and check the result."
   ]
  },
  {
   "cell_type": "code",
   "execution_count": 51,
   "metadata": {},
   "outputs": [
    {
     "name": "stdout",
     "output_type": "stream",
     "text": [
      "The best sMAPE for the Random Forest: 8.404837148894527\n"
     ]
    }
   ],
   "source": [
    "random_forest_params = {'n_estimators': [10, 20, 30], \n",
    "                        'max_features': ['auto', 'sqrt', 'log2'], \n",
    "                        'max_depth' : [4,5,6,7,8]}\n",
    "random_forest = RandomForestRegressor(random_state=12345)\n",
    "\n",
    "grid_forest = GridSearchCV(random_forest, random_forest_params, cv=5, scoring=smape_scoring)\n",
    "grid_forest.fit(x_train, y_train)\n",
    "print('The best sMAPE for the Random Forest:', np.abs(grid_forest.best_score_))"
   ]
  },
  {
   "cell_type": "markdown",
   "metadata": {},
   "source": [
    "**Conclusion**"
   ]
  },
  {
   "cell_type": "markdown",
   "metadata": {},
   "source": [
    "Random Forest model have the lowest sMAPE. We will use it to test on test data."
   ]
  },
  {
   "cell_type": "markdown",
   "metadata": {},
   "source": [
    "### Testing the best model on test data"
   ]
  },
  {
   "cell_type": "markdown",
   "metadata": {},
   "source": [
    "**Random Forest**"
   ]
  },
  {
   "cell_type": "markdown",
   "metadata": {},
   "source": [
    "Let's check how the model works with test data."
   ]
  },
  {
   "cell_type": "code",
   "execution_count": 52,
   "metadata": {
    "scrolled": false
   },
   "outputs": [
    {
     "name": "stdout",
     "output_type": "stream",
     "text": [
      "Final sMAPE for the best model: 6.7506290462969165\n"
     ]
    }
   ],
   "source": [
    "predictions_test_forest = grid_forest.predict(x_test)\n",
    "smape_score = smape_final(y_test, predictions_test_forest)\n",
    "print('Final sMAPE for the best model:', smape_score)"
   ]
  },
  {
   "cell_type": "markdown",
   "metadata": {},
   "source": [
    "**Sanity Check**"
   ]
  },
  {
   "cell_type": "markdown",
   "metadata": {},
   "source": [
    "We check the model for adequacy by comparing the sMAPE of the trained model with the sMAPE of the constant model (median). To do this, we use the DummyRegressor tool from the sklearn library."
   ]
  },
  {
   "cell_type": "code",
   "execution_count": 53,
   "metadata": {},
   "outputs": [],
   "source": [
    "dummy = DummyRegressor(strategy = 'median')\n",
    "dummy.fit(x_train, y_train)\n",
    "dummy_predictions = dummy.predict(x_test)"
   ]
  },
  {
   "cell_type": "code",
   "execution_count": 54,
   "metadata": {},
   "outputs": [
    {
     "data": {
      "text/plain": [
       "7.363660673394497"
      ]
     },
     "execution_count": 54,
     "metadata": {},
     "output_type": "execute_result"
    }
   ],
   "source": [
    "smape_final(y_test, dummy_predictions)"
   ]
  },
  {
   "cell_type": "markdown",
   "metadata": {},
   "source": [
    "The trained model passed the sanity check, as its sMAPE is lower than that of the constant model."
   ]
  },
  {
   "cell_type": "markdown",
   "metadata": {},
   "source": [
    "## Conclusion"
   ]
  },
  {
   "cell_type": "markdown",
   "metadata": {},
   "source": [
    "In the course of the project, we reviewed the data, checked the accuracy of the recovery calculations and analyzed the features that were missing in the test sample. We added target variables to the test data, and also left in the training sample only those features that were in the test data. We filled in the missing values of the features by propagating last valid observation forward to next valid, and also checked the data for duplicates.\n",
    "\n",
    "\n",
    "After that, the complete data was analyzed and the concentrations of `Au`, `Ag` and `Pb` elements were studied at each stage of ore processing. We studied the distribution of granule sizes in training and test samples. We also calculated and studied the total concentrations of elements at different stages of ore processing.\n",
    "\n",
    "We prepared the features and target variables of the training and test sets and scaled the features using the StandardScaler. We wrote a function for calculating the sMAPE metric. Trained `Linear Regression`, `Decision Tree`, and `Random Forest` models and tuned hyperparameters using GridSearchCV. We assessed the quality of the models using cross-validation and chose the best model. We checked the model on test data and did a sanity check.\n",
    "\n",
    "Random Forest model showed the best **sMAPE** - 6.75 on the test data. Thus, this model is recommended for further study and prediction of the gold recovery coefficient.\n",
    "\n",
    "During the study, we also found anomalies in the data - zero values, which is most likely an error in collecting or loading data."
   ]
  }
 ],
 "metadata": {
  "ExecuteTimeLog": [
   {
    "duration": 3326,
    "start_time": "2022-07-15T22:17:11.422Z"
   },
   {
    "duration": 16,
    "start_time": "2022-07-15T22:17:22.958Z"
   },
   {
    "duration": 13,
    "start_time": "2022-07-15T22:17:52.876Z"
   },
   {
    "duration": 16,
    "start_time": "2022-07-15T22:18:06.359Z"
   },
   {
    "duration": 10,
    "start_time": "2022-07-15T22:18:45.401Z"
   },
   {
    "duration": 8,
    "start_time": "2022-07-15T22:19:11.382Z"
   },
   {
    "duration": 8,
    "start_time": "2022-07-15T22:19:18.980Z"
   },
   {
    "duration": 10,
    "start_time": "2022-07-15T22:19:24.945Z"
   },
   {
    "duration": 13,
    "start_time": "2022-07-15T22:19:38.122Z"
   },
   {
    "duration": 11,
    "start_time": "2022-07-15T22:19:50.070Z"
   },
   {
    "duration": 4,
    "start_time": "2022-07-15T22:20:01.729Z"
   },
   {
    "duration": 8,
    "start_time": "2022-07-15T22:20:03.981Z"
   },
   {
    "duration": 6,
    "start_time": "2022-07-15T22:20:09.574Z"
   },
   {
    "duration": 10,
    "start_time": "2022-07-15T22:20:12.514Z"
   },
   {
    "duration": 9,
    "start_time": "2022-07-15T22:20:17.401Z"
   },
   {
    "duration": 3716,
    "start_time": "2022-07-17T10:41:31.710Z"
   },
   {
    "duration": 20,
    "start_time": "2022-07-17T10:41:43.010Z"
   },
   {
    "duration": 40,
    "start_time": "2022-07-17T10:46:28.181Z"
   },
   {
    "duration": 12,
    "start_time": "2022-07-17T10:47:33.290Z"
   },
   {
    "duration": 41,
    "start_time": "2022-07-17T10:47:55.422Z"
   },
   {
    "duration": 12,
    "start_time": "2022-07-17T10:48:05.876Z"
   },
   {
    "duration": 10,
    "start_time": "2022-07-17T10:48:11.707Z"
   },
   {
    "duration": 1435,
    "start_time": "2022-07-17T11:07:44.902Z"
   },
   {
    "duration": 25,
    "start_time": "2022-07-17T11:08:01.117Z"
   },
   {
    "duration": 1639,
    "start_time": "2022-07-17T11:08:17.402Z"
   },
   {
    "duration": 9,
    "start_time": "2022-07-17T11:08:43.092Z"
   },
   {
    "duration": 9,
    "start_time": "2022-07-17T11:08:55.908Z"
   },
   {
    "duration": 33,
    "start_time": "2022-07-17T11:09:09.006Z"
   },
   {
    "duration": 1908,
    "start_time": "2022-07-17T11:37:20.272Z"
   },
   {
    "duration": 19,
    "start_time": "2022-07-17T11:38:46.602Z"
   },
   {
    "duration": 7,
    "start_time": "2022-07-17T11:38:48.329Z"
   },
   {
    "duration": 7,
    "start_time": "2022-07-17T11:41:00.787Z"
   },
   {
    "duration": 6,
    "start_time": "2022-07-17T11:41:01.287Z"
   },
   {
    "duration": 7,
    "start_time": "2022-07-17T11:45:35.392Z"
   },
   {
    "duration": 6,
    "start_time": "2022-07-17T11:45:41.335Z"
   },
   {
    "duration": 6,
    "start_time": "2022-07-17T11:45:48.999Z"
   },
   {
    "duration": 6,
    "start_time": "2022-07-17T11:45:49.833Z"
   },
   {
    "duration": 9,
    "start_time": "2022-07-17T11:45:52.164Z"
   },
   {
    "duration": 8,
    "start_time": "2022-07-17T11:45:53.259Z"
   },
   {
    "duration": 7,
    "start_time": "2022-07-17T11:46:22.571Z"
   },
   {
    "duration": 7,
    "start_time": "2022-07-17T11:46:23.657Z"
   },
   {
    "duration": 7,
    "start_time": "2022-07-17T11:46:30.556Z"
   },
   {
    "duration": 7,
    "start_time": "2022-07-17T11:46:31.249Z"
   },
   {
    "duration": 14,
    "start_time": "2022-07-17T11:46:42.606Z"
   },
   {
    "duration": 7,
    "start_time": "2022-07-17T11:46:49.455Z"
   },
   {
    "duration": 5,
    "start_time": "2022-07-17T11:46:57.477Z"
   },
   {
    "duration": 8,
    "start_time": "2022-07-17T11:47:05.132Z"
   },
   {
    "duration": 7,
    "start_time": "2022-07-17T11:47:36.960Z"
   },
   {
    "duration": 8,
    "start_time": "2022-07-17T11:47:38.677Z"
   },
   {
    "duration": 6,
    "start_time": "2022-07-17T11:47:49.942Z"
   },
   {
    "duration": 6,
    "start_time": "2022-07-17T11:47:51.293Z"
   },
   {
    "duration": 8,
    "start_time": "2022-07-17T11:48:15.533Z"
   },
   {
    "duration": 6,
    "start_time": "2022-07-17T11:48:17.432Z"
   },
   {
    "duration": 6,
    "start_time": "2022-07-17T11:49:03.155Z"
   },
   {
    "duration": 7,
    "start_time": "2022-07-17T11:50:02.445Z"
   },
   {
    "duration": 8,
    "start_time": "2022-07-17T11:50:03.223Z"
   },
   {
    "duration": 7,
    "start_time": "2022-07-17T11:50:17.068Z"
   },
   {
    "duration": 6,
    "start_time": "2022-07-17T11:50:18.344Z"
   },
   {
    "duration": 35,
    "start_time": "2022-07-17T11:51:32.498Z"
   },
   {
    "duration": 6,
    "start_time": "2022-07-17T12:00:49.006Z"
   },
   {
    "duration": 23,
    "start_time": "2022-07-17T12:00:49.750Z"
   },
   {
    "duration": 7,
    "start_time": "2022-07-17T12:01:14.753Z"
   },
   {
    "duration": 6,
    "start_time": "2022-07-17T12:01:15.491Z"
   },
   {
    "duration": 7,
    "start_time": "2022-07-17T12:01:36.770Z"
   },
   {
    "duration": 7,
    "start_time": "2022-07-17T12:01:37.294Z"
   },
   {
    "duration": 2045,
    "start_time": "2022-07-17T12:02:29.589Z"
   },
   {
    "duration": 6,
    "start_time": "2022-07-17T12:02:56.357Z"
   },
   {
    "duration": 6,
    "start_time": "2022-07-17T12:02:57.121Z"
   },
   {
    "duration": 48,
    "start_time": "2022-07-17T15:53:43.829Z"
   },
   {
    "duration": 3418,
    "start_time": "2022-07-17T15:53:51.129Z"
   },
   {
    "duration": 6,
    "start_time": "2022-07-17T15:54:01.977Z"
   },
   {
    "duration": 68,
    "start_time": "2022-07-17T15:54:05.838Z"
   },
   {
    "duration": 9,
    "start_time": "2022-07-17T15:54:28.738Z"
   },
   {
    "duration": 11,
    "start_time": "2022-07-17T15:54:36.297Z"
   },
   {
    "duration": 10,
    "start_time": "2022-07-17T15:54:48.834Z"
   },
   {
    "duration": 6,
    "start_time": "2022-07-17T15:54:56.068Z"
   },
   {
    "duration": 13,
    "start_time": "2022-07-17T15:55:18.801Z"
   },
   {
    "duration": 4,
    "start_time": "2022-07-17T15:57:48.387Z"
   },
   {
    "duration": 3,
    "start_time": "2022-07-17T15:57:55.397Z"
   },
   {
    "duration": 32,
    "start_time": "2022-07-17T15:58:27.636Z"
   },
   {
    "duration": 32,
    "start_time": "2022-07-17T15:58:44.627Z"
   },
   {
    "duration": 1184,
    "start_time": "2022-07-17T15:58:56.103Z"
   },
   {
    "duration": 5,
    "start_time": "2022-07-17T15:59:08.912Z"
   },
   {
    "duration": 4262,
    "start_time": "2022-07-18T15:06:44.025Z"
   },
   {
    "duration": 18,
    "start_time": "2022-07-18T15:06:50.385Z"
   },
   {
    "duration": 13,
    "start_time": "2022-07-18T15:06:53.019Z"
   },
   {
    "duration": 21,
    "start_time": "2022-07-18T15:06:55.382Z"
   },
   {
    "duration": 22,
    "start_time": "2022-07-18T15:06:59.197Z"
   },
   {
    "duration": 10,
    "start_time": "2022-07-18T15:07:01.801Z"
   },
   {
    "duration": 13,
    "start_time": "2022-07-18T15:07:04.574Z"
   },
   {
    "duration": 8,
    "start_time": "2022-07-18T15:07:05.828Z"
   },
   {
    "duration": 3,
    "start_time": "2022-07-18T15:07:11.571Z"
   },
   {
    "duration": 5,
    "start_time": "2022-07-18T15:07:13.150Z"
   },
   {
    "duration": 6,
    "start_time": "2022-07-18T15:07:17.150Z"
   },
   {
    "duration": 5,
    "start_time": "2022-07-18T15:07:20.378Z"
   },
   {
    "duration": 6,
    "start_time": "2022-07-18T15:07:23.692Z"
   },
   {
    "duration": 5,
    "start_time": "2022-07-18T15:07:28.668Z"
   },
   {
    "duration": 26,
    "start_time": "2022-07-18T15:07:33.390Z"
   },
   {
    "duration": 7,
    "start_time": "2022-07-18T15:08:11.992Z"
   },
   {
    "duration": 4,
    "start_time": "2022-07-18T15:08:12.748Z"
   },
   {
    "duration": 5,
    "start_time": "2022-07-18T15:14:46.562Z"
   },
   {
    "duration": 5,
    "start_time": "2022-07-18T15:14:53.576Z"
   },
   {
    "duration": 6,
    "start_time": "2022-07-18T15:15:22.798Z"
   },
   {
    "duration": 16,
    "start_time": "2022-07-18T15:15:45.289Z"
   },
   {
    "duration": 98,
    "start_time": "2022-07-18T15:15:55.744Z"
   },
   {
    "duration": 9,
    "start_time": "2022-07-18T15:16:03.273Z"
   },
   {
    "duration": 9,
    "start_time": "2022-07-18T15:16:13.212Z"
   },
   {
    "duration": 15,
    "start_time": "2022-07-18T15:20:38.973Z"
   },
   {
    "duration": 10,
    "start_time": "2022-07-18T15:20:43.797Z"
   },
   {
    "duration": 6,
    "start_time": "2022-07-18T15:22:25.288Z"
   },
   {
    "duration": 10,
    "start_time": "2022-07-18T15:22:42.149Z"
   },
   {
    "duration": 5,
    "start_time": "2022-07-18T15:25:40.489Z"
   },
   {
    "duration": 5,
    "start_time": "2022-07-18T15:25:50.129Z"
   },
   {
    "duration": 10,
    "start_time": "2022-07-18T15:27:57.532Z"
   },
   {
    "duration": 3,
    "start_time": "2022-07-18T15:28:40.022Z"
   },
   {
    "duration": 4,
    "start_time": "2022-07-18T15:28:40.865Z"
   },
   {
    "duration": 9,
    "start_time": "2022-07-18T15:29:14.888Z"
   },
   {
    "duration": 5,
    "start_time": "2022-07-18T15:29:24.768Z"
   },
   {
    "duration": 8,
    "start_time": "2022-07-18T16:49:13.068Z"
   },
   {
    "duration": 17857,
    "start_time": "2022-07-18T16:50:23.625Z"
   },
   {
    "duration": 907,
    "start_time": "2022-07-18T16:51:09.933Z"
   },
   {
    "duration": 54,
    "start_time": "2022-07-18T17:00:33.054Z"
   },
   {
    "duration": 3400,
    "start_time": "2022-07-18T17:00:38.920Z"
   },
   {
    "duration": 5001,
    "start_time": "2022-07-18T17:00:47.758Z"
   },
   {
    "duration": 513,
    "start_time": "2022-07-18T17:01:00.551Z"
   },
   {
    "duration": 25107,
    "start_time": "2022-07-18T17:01:02.087Z"
   },
   {
    "duration": 58,
    "start_time": "2022-07-18T17:02:52.384Z"
   },
   {
    "duration": 54,
    "start_time": "2022-07-18T17:03:06.753Z"
   },
   {
    "duration": 48,
    "start_time": "2022-07-18T17:03:11.145Z"
   },
   {
    "duration": 50,
    "start_time": "2022-07-18T17:03:19.430Z"
   },
   {
    "duration": 804,
    "start_time": "2022-07-18T17:03:29.878Z"
   },
   {
    "duration": 949,
    "start_time": "2022-07-18T19:55:03.192Z"
   },
   {
    "duration": 181,
    "start_time": "2022-07-18T19:55:39.281Z"
   },
   {
    "duration": 19,
    "start_time": "2022-07-18T19:56:14.762Z"
   },
   {
    "duration": 934,
    "start_time": "2022-07-18T19:56:24.452Z"
   },
   {
    "duration": 170,
    "start_time": "2022-07-18T19:56:59.062Z"
   },
   {
    "duration": 174,
    "start_time": "2022-07-18T19:57:14.981Z"
   },
   {
    "duration": 106,
    "start_time": "2022-07-18T19:57:21.769Z"
   },
   {
    "duration": 108,
    "start_time": "2022-07-18T19:57:35.999Z"
   },
   {
    "duration": 19,
    "start_time": "2022-07-18T19:57:46.307Z"
   },
   {
    "duration": 157,
    "start_time": "2022-07-18T19:58:19.987Z"
   },
   {
    "duration": 108,
    "start_time": "2022-07-18T19:58:36.371Z"
   },
   {
    "duration": 102,
    "start_time": "2022-07-18T19:58:42.568Z"
   },
   {
    "duration": 106,
    "start_time": "2022-07-18T19:58:46.381Z"
   },
   {
    "duration": 106,
    "start_time": "2022-07-18T19:58:52.160Z"
   },
   {
    "duration": 108,
    "start_time": "2022-07-18T19:58:59.977Z"
   },
   {
    "duration": 127,
    "start_time": "2022-07-18T19:59:06.505Z"
   },
   {
    "duration": 122,
    "start_time": "2022-07-18T19:59:15.025Z"
   },
   {
    "duration": 151,
    "start_time": "2022-07-18T19:59:18.830Z"
   },
   {
    "duration": 135,
    "start_time": "2022-07-18T19:59:24.083Z"
   },
   {
    "duration": 127,
    "start_time": "2022-07-18T19:59:39.590Z"
   },
   {
    "duration": 110,
    "start_time": "2022-07-18T19:59:48.422Z"
   },
   {
    "duration": 122,
    "start_time": "2022-07-18T19:59:58.843Z"
   },
   {
    "duration": 458,
    "start_time": "2022-07-18T20:01:06.946Z"
   },
   {
    "duration": 987,
    "start_time": "2022-07-18T20:01:37.932Z"
   },
   {
    "duration": 432,
    "start_time": "2022-07-18T20:02:00.150Z"
   },
   {
    "duration": 421,
    "start_time": "2022-07-18T20:02:06.170Z"
   },
   {
    "duration": 404,
    "start_time": "2022-07-18T20:02:11.381Z"
   },
   {
    "duration": 471,
    "start_time": "2022-07-18T20:02:25.713Z"
   },
   {
    "duration": 401,
    "start_time": "2022-07-18T20:02:34.033Z"
   },
   {
    "duration": 370,
    "start_time": "2022-07-18T20:02:37.927Z"
   },
   {
    "duration": 934,
    "start_time": "2022-07-18T20:02:52.156Z"
   },
   {
    "duration": 13,
    "start_time": "2022-07-18T20:03:32.376Z"
   },
   {
    "duration": 17,
    "start_time": "2022-07-18T20:03:38.837Z"
   },
   {
    "duration": 11,
    "start_time": "2022-07-18T20:03:42.682Z"
   },
   {
    "duration": 737,
    "start_time": "2022-07-18T20:03:48.377Z"
   },
   {
    "duration": 730,
    "start_time": "2022-07-18T20:03:51.832Z"
   },
   {
    "duration": 955,
    "start_time": "2022-07-18T20:04:03.110Z"
   },
   {
    "duration": 917,
    "start_time": "2022-07-18T20:05:29.430Z"
   },
   {
    "duration": 1034,
    "start_time": "2022-07-18T20:05:38.507Z"
   },
   {
    "duration": 951,
    "start_time": "2022-07-18T20:05:45.412Z"
   },
   {
    "duration": 16,
    "start_time": "2022-07-18T20:05:52.282Z"
   },
   {
    "duration": 1067,
    "start_time": "2022-07-18T20:06:06.462Z"
   },
   {
    "duration": 1010,
    "start_time": "2022-07-18T20:06:37.118Z"
   },
   {
    "duration": 971,
    "start_time": "2022-07-18T20:06:42.722Z"
   },
   {
    "duration": 799,
    "start_time": "2022-07-18T20:07:38.725Z"
   },
   {
    "duration": 12,
    "start_time": "2022-07-18T20:07:50.194Z"
   },
   {
    "duration": 1010,
    "start_time": "2022-07-18T20:08:49.065Z"
   },
   {
    "duration": 770,
    "start_time": "2022-07-18T20:08:58.875Z"
   },
   {
    "duration": 1180,
    "start_time": "2022-07-18T20:10:21.537Z"
   },
   {
    "duration": 821,
    "start_time": "2022-07-18T20:10:34.199Z"
   },
   {
    "duration": 975,
    "start_time": "2022-07-18T20:20:08.671Z"
   },
   {
    "duration": 992,
    "start_time": "2022-07-18T20:20:15.642Z"
   },
   {
    "duration": 779,
    "start_time": "2022-07-18T20:20:29.889Z"
   },
   {
    "duration": 1271,
    "start_time": "2022-07-18T20:21:04.715Z"
   },
   {
    "duration": 1067,
    "start_time": "2022-07-18T20:21:10.436Z"
   },
   {
    "duration": 1000,
    "start_time": "2022-07-18T20:23:35.744Z"
   },
   {
    "duration": 1018,
    "start_time": "2022-07-18T20:23:50.473Z"
   },
   {
    "duration": 773,
    "start_time": "2022-07-18T20:23:58.267Z"
   },
   {
    "duration": 1034,
    "start_time": "2022-07-18T20:24:06.315Z"
   },
   {
    "duration": 109,
    "start_time": "2022-07-18T20:24:15.161Z"
   },
   {
    "duration": 767,
    "start_time": "2022-07-18T20:24:19.489Z"
   },
   {
    "duration": 824,
    "start_time": "2022-07-18T20:24:24.562Z"
   },
   {
    "duration": 1110,
    "start_time": "2022-07-18T20:25:10.526Z"
   },
   {
    "duration": 318,
    "start_time": "2022-07-18T20:25:47.367Z"
   },
   {
    "duration": 607,
    "start_time": "2022-07-18T20:25:53.851Z"
   },
   {
    "duration": 584,
    "start_time": "2022-07-18T20:26:03.221Z"
   },
   {
    "duration": 1152,
    "start_time": "2022-07-18T20:26:09.558Z"
   },
   {
    "duration": 592,
    "start_time": "2022-07-18T20:26:19.264Z"
   },
   {
    "duration": 589,
    "start_time": "2022-07-18T20:26:29.285Z"
   },
   {
    "duration": 4,
    "start_time": "2022-07-18T21:39:51.753Z"
   },
   {
    "duration": 4,
    "start_time": "2022-07-18T21:39:56.197Z"
   },
   {
    "duration": 5,
    "start_time": "2022-07-18T21:40:04.351Z"
   },
   {
    "duration": 6,
    "start_time": "2022-07-18T21:41:04.853Z"
   },
   {
    "duration": 5,
    "start_time": "2022-07-18T21:41:58.842Z"
   },
   {
    "duration": 5,
    "start_time": "2022-07-18T21:42:09.081Z"
   },
   {
    "duration": 5,
    "start_time": "2022-07-18T21:42:27.083Z"
   },
   {
    "duration": 21,
    "start_time": "2022-07-18T21:42:40.987Z"
   },
   {
    "duration": 25,
    "start_time": "2022-07-18T21:42:50.734Z"
   },
   {
    "duration": 795,
    "start_time": "2022-07-18T21:44:50.110Z"
   },
   {
    "duration": 6,
    "start_time": "2022-07-18T21:44:57.483Z"
   },
   {
    "duration": 6,
    "start_time": "2022-07-18T21:46:05.642Z"
   },
   {
    "duration": 5,
    "start_time": "2022-07-18T21:46:18.207Z"
   },
   {
    "duration": 4808,
    "start_time": "2022-07-19T06:51:35.036Z"
   },
   {
    "duration": 19,
    "start_time": "2022-07-19T06:51:41.764Z"
   },
   {
    "duration": 15,
    "start_time": "2022-07-19T06:51:44.739Z"
   },
   {
    "duration": 19,
    "start_time": "2022-07-19T06:51:58.415Z"
   },
   {
    "duration": 29,
    "start_time": "2022-07-19T06:52:21.919Z"
   },
   {
    "duration": 11,
    "start_time": "2022-07-19T06:52:33.948Z"
   },
   {
    "duration": 12,
    "start_time": "2022-07-19T06:52:55.716Z"
   },
   {
    "duration": 4,
    "start_time": "2022-07-19T06:53:01.329Z"
   },
   {
    "duration": 7,
    "start_time": "2022-07-19T06:53:02.178Z"
   },
   {
    "duration": 32,
    "start_time": "2022-07-19T06:53:24.290Z"
   },
   {
    "duration": 137,
    "start_time": "2022-07-19T06:53:53.409Z"
   },
   {
    "duration": 6,
    "start_time": "2022-07-19T07:09:13.235Z"
   },
   {
    "duration": 5,
    "start_time": "2022-07-19T07:13:30.656Z"
   },
   {
    "duration": 19,
    "start_time": "2022-07-19T07:13:43.996Z"
   },
   {
    "duration": 5,
    "start_time": "2022-07-19T07:13:58.972Z"
   },
   {
    "duration": 5,
    "start_time": "2022-07-19T07:14:05.760Z"
   },
   {
    "duration": 38,
    "start_time": "2022-07-19T07:15:45.409Z"
   },
   {
    "duration": 5,
    "start_time": "2022-07-19T07:15:57.899Z"
   },
   {
    "duration": 11,
    "start_time": "2022-07-19T07:16:18.349Z"
   },
   {
    "duration": 8,
    "start_time": "2022-07-19T07:17:05.606Z"
   },
   {
    "duration": 6,
    "start_time": "2022-07-19T07:17:10.820Z"
   },
   {
    "duration": 25,
    "start_time": "2022-07-19T07:17:26.253Z"
   },
   {
    "duration": 7,
    "start_time": "2022-07-19T07:17:48.833Z"
   },
   {
    "duration": 31,
    "start_time": "2022-07-19T07:17:51.116Z"
   },
   {
    "duration": 52,
    "start_time": "2022-07-19T07:18:10.191Z"
   },
   {
    "duration": 30,
    "start_time": "2022-07-19T07:18:33.538Z"
   },
   {
    "duration": 39,
    "start_time": "2022-07-19T07:18:54.855Z"
   },
   {
    "duration": 1557,
    "start_time": "2022-07-19T07:19:40.997Z"
   },
   {
    "duration": 31,
    "start_time": "2022-07-19T07:20:02.122Z"
   },
   {
    "duration": 12,
    "start_time": "2022-07-19T07:20:20.298Z"
   },
   {
    "duration": 1922,
    "start_time": "2022-07-19T07:20:32.738Z"
   },
   {
    "duration": 2603,
    "start_time": "2022-07-19T07:20:37.468Z"
   },
   {
    "duration": 9,
    "start_time": "2022-07-19T07:21:03.931Z"
   },
   {
    "duration": 16,
    "start_time": "2022-07-19T07:21:10.205Z"
   },
   {
    "duration": 18,
    "start_time": "2022-07-19T07:21:27.279Z"
   },
   {
    "duration": 22,
    "start_time": "2022-07-19T07:21:36.884Z"
   },
   {
    "duration": 22,
    "start_time": "2022-07-19T07:22:28.843Z"
   },
   {
    "duration": 9,
    "start_time": "2022-07-19T07:23:31.928Z"
   },
   {
    "duration": 35,
    "start_time": "2022-07-19T07:23:38.648Z"
   },
   {
    "duration": 6,
    "start_time": "2022-07-19T07:23:54.026Z"
   },
   {
    "duration": 26,
    "start_time": "2022-07-19T07:24:38.093Z"
   },
   {
    "duration": 13,
    "start_time": "2022-07-19T07:25:17.716Z"
   },
   {
    "duration": 16,
    "start_time": "2022-07-19T07:25:51.416Z"
   },
   {
    "duration": 17,
    "start_time": "2022-07-19T07:26:08.804Z"
   },
   {
    "duration": 23,
    "start_time": "2022-07-19T07:26:13.989Z"
   },
   {
    "duration": 12,
    "start_time": "2022-07-19T07:26:36.049Z"
   },
   {
    "duration": 11,
    "start_time": "2022-07-19T07:27:54.882Z"
   },
   {
    "duration": 12,
    "start_time": "2022-07-19T07:28:08.055Z"
   },
   {
    "duration": 13,
    "start_time": "2022-07-19T07:28:16.818Z"
   },
   {
    "duration": 14,
    "start_time": "2022-07-19T07:28:32.455Z"
   },
   {
    "duration": 13,
    "start_time": "2022-07-19T07:28:52.114Z"
   },
   {
    "duration": 12,
    "start_time": "2022-07-19T07:29:33.618Z"
   },
   {
    "duration": 93,
    "start_time": "2022-07-19T07:31:09.932Z"
   },
   {
    "duration": 13,
    "start_time": "2022-07-19T07:31:17.076Z"
   },
   {
    "duration": 25,
    "start_time": "2022-07-19T07:38:56.714Z"
   },
   {
    "duration": 14,
    "start_time": "2022-07-19T07:45:34.857Z"
   },
   {
    "duration": 1256,
    "start_time": "2022-07-19T07:50:37.257Z"
   },
   {
    "duration": 1162,
    "start_time": "2022-07-19T07:50:54.165Z"
   },
   {
    "duration": 75,
    "start_time": "2022-07-19T07:51:03.198Z"
   },
   {
    "duration": 9,
    "start_time": "2022-07-19T07:51:40.261Z"
   },
   {
    "duration": 28,
    "start_time": "2022-07-19T07:51:43.989Z"
   },
   {
    "duration": 1460,
    "start_time": "2022-07-19T07:53:01.523Z"
   },
   {
    "duration": 54,
    "start_time": "2022-07-19T07:53:23.917Z"
   },
   {
    "duration": 1649,
    "start_time": "2022-07-19T07:54:35.857Z"
   },
   {
    "duration": 25,
    "start_time": "2022-07-19T07:54:48.990Z"
   },
   {
    "duration": 18,
    "start_time": "2022-07-19T07:54:54.527Z"
   },
   {
    "duration": 7,
    "start_time": "2022-07-19T07:56:26.684Z"
   },
   {
    "duration": 8,
    "start_time": "2022-07-19T07:57:08.750Z"
   },
   {
    "duration": 8,
    "start_time": "2022-07-19T07:57:10.470Z"
   },
   {
    "duration": 7,
    "start_time": "2022-07-19T07:57:26.367Z"
   },
   {
    "duration": 9,
    "start_time": "2022-07-19T07:57:32.850Z"
   },
   {
    "duration": 15,
    "start_time": "2022-07-19T07:57:38.238Z"
   },
   {
    "duration": 1474,
    "start_time": "2022-07-19T07:57:52.411Z"
   },
   {
    "duration": 17,
    "start_time": "2022-07-19T07:58:13.603Z"
   },
   {
    "duration": 14,
    "start_time": "2022-07-19T07:58:53.265Z"
   },
   {
    "duration": 3606,
    "start_time": "2022-07-19T20:08:40.928Z"
   },
   {
    "duration": 12,
    "start_time": "2022-07-19T20:08:50.213Z"
   },
   {
    "duration": 8,
    "start_time": "2022-07-19T20:08:57.092Z"
   },
   {
    "duration": 5,
    "start_time": "2022-07-19T20:09:25.780Z"
   },
   {
    "duration": 4,
    "start_time": "2022-07-19T20:09:31.089Z"
   },
   {
    "duration": 1709,
    "start_time": "2022-07-19T20:09:47.319Z"
   },
   {
    "duration": 4,
    "start_time": "2022-07-19T20:10:03.347Z"
   },
   {
    "duration": 5,
    "start_time": "2022-07-19T20:10:07.786Z"
   },
   {
    "duration": 9,
    "start_time": "2022-07-19T20:10:37.618Z"
   },
   {
    "duration": 28,
    "start_time": "2022-07-19T20:10:53.153Z"
   },
   {
    "duration": 31,
    "start_time": "2022-07-19T20:11:15.458Z"
   },
   {
    "duration": 25,
    "start_time": "2022-07-19T20:11:44.752Z"
   },
   {
    "duration": 21,
    "start_time": "2022-07-19T20:12:02.367Z"
   },
   {
    "duration": 30,
    "start_time": "2022-07-19T20:12:25.385Z"
   },
   {
    "duration": 13,
    "start_time": "2022-07-19T20:12:37.573Z"
   },
   {
    "duration": 21,
    "start_time": "2022-07-19T20:12:43.137Z"
   },
   {
    "duration": 20,
    "start_time": "2022-07-19T20:12:56.713Z"
   },
   {
    "duration": 11,
    "start_time": "2022-07-19T20:13:09.184Z"
   },
   {
    "duration": 4,
    "start_time": "2022-07-19T20:13:52.657Z"
   },
   {
    "duration": 93,
    "start_time": "2022-07-19T20:13:57.532Z"
   },
   {
    "duration": 12,
    "start_time": "2022-07-19T20:14:15.999Z"
   },
   {
    "duration": 8,
    "start_time": "2022-07-19T20:14:39.927Z"
   },
   {
    "duration": 4463,
    "start_time": "2022-07-20T06:59:52.413Z"
   },
   {
    "duration": 11,
    "start_time": "2022-07-20T07:00:57.287Z"
   },
   {
    "duration": 10,
    "start_time": "2022-07-20T07:01:05.674Z"
   },
   {
    "duration": 8,
    "start_time": "2022-07-20T07:01:13.616Z"
   },
   {
    "duration": 9,
    "start_time": "2022-07-20T07:01:20.703Z"
   },
   {
    "duration": 8,
    "start_time": "2022-07-20T07:01:43.280Z"
   },
   {
    "duration": 4,
    "start_time": "2022-07-20T07:02:16.401Z"
   },
   {
    "duration": 11,
    "start_time": "2022-07-20T07:02:17.022Z"
   },
   {
    "duration": 8,
    "start_time": "2022-07-20T07:02:20.958Z"
   },
   {
    "duration": 5,
    "start_time": "2022-07-20T07:02:23.488Z"
   },
   {
    "duration": 31,
    "start_time": "2022-07-20T07:02:54.009Z"
   },
   {
    "duration": 6,
    "start_time": "2022-07-20T07:03:30.351Z"
   },
   {
    "duration": 5,
    "start_time": "2022-07-20T07:03:37.388Z"
   },
   {
    "duration": 28,
    "start_time": "2022-07-20T07:03:41.721Z"
   },
   {
    "duration": 28,
    "start_time": "2022-07-20T07:04:08.297Z"
   },
   {
    "duration": 5,
    "start_time": "2022-07-20T07:05:37.356Z"
   },
   {
    "duration": 14,
    "start_time": "2022-07-20T07:05:38.951Z"
   },
   {
    "duration": 5,
    "start_time": "2022-07-20T07:05:55.059Z"
   },
   {
    "duration": 944,
    "start_time": "2022-07-20T07:13:57.181Z"
   },
   {
    "duration": 5,
    "start_time": "2022-07-20T07:14:03.399Z"
   },
   {
    "duration": 14,
    "start_time": "2022-07-20T07:14:08.981Z"
   },
   {
    "duration": 5,
    "start_time": "2022-07-20T07:14:21.370Z"
   },
   {
    "duration": 3,
    "start_time": "2022-07-20T07:14:54.366Z"
   },
   {
    "duration": 931,
    "start_time": "2022-07-20T07:14:55.587Z"
   },
   {
    "duration": 10,
    "start_time": "2022-07-20T07:15:01.211Z"
   },
   {
    "duration": 9,
    "start_time": "2022-07-20T07:16:50.702Z"
   },
   {
    "duration": 3,
    "start_time": "2022-07-20T07:16:55.509Z"
   },
   {
    "duration": 6,
    "start_time": "2022-07-20T07:16:56.526Z"
   },
   {
    "duration": 15,
    "start_time": "2022-07-20T07:17:21.274Z"
   },
   {
    "duration": 16,
    "start_time": "2022-07-20T07:18:04.825Z"
   },
   {
    "duration": 4,
    "start_time": "2022-07-20T07:18:51.379Z"
   },
   {
    "duration": 15,
    "start_time": "2022-07-20T07:18:52.219Z"
   },
   {
    "duration": 5,
    "start_time": "2022-07-20T07:19:41.404Z"
   },
   {
    "duration": 5,
    "start_time": "2022-07-20T07:20:53.255Z"
   },
   {
    "duration": 14,
    "start_time": "2022-07-20T07:20:54.062Z"
   },
   {
    "duration": 5,
    "start_time": "2022-07-20T07:21:14.309Z"
   },
   {
    "duration": 10,
    "start_time": "2022-07-20T07:21:56.746Z"
   },
   {
    "duration": 4,
    "start_time": "2022-07-20T07:22:07.792Z"
   },
   {
    "duration": 17,
    "start_time": "2022-07-20T07:29:09.006Z"
   },
   {
    "duration": 10,
    "start_time": "2022-07-20T07:30:54.657Z"
   },
   {
    "duration": 17,
    "start_time": "2022-07-20T07:30:56.236Z"
   },
   {
    "duration": 18,
    "start_time": "2022-07-20T07:31:11.694Z"
   },
   {
    "duration": 15,
    "start_time": "2022-07-20T07:31:38.829Z"
   },
   {
    "duration": 18,
    "start_time": "2022-07-20T07:31:39.395Z"
   },
   {
    "duration": 13,
    "start_time": "2022-07-20T07:31:51.791Z"
   },
   {
    "duration": 19,
    "start_time": "2022-07-20T07:32:04.498Z"
   },
   {
    "duration": 8,
    "start_time": "2022-07-20T07:32:14.717Z"
   },
   {
    "duration": 4,
    "start_time": "2022-07-20T07:32:30.649Z"
   },
   {
    "duration": 11,
    "start_time": "2022-07-20T07:32:31.128Z"
   },
   {
    "duration": 13,
    "start_time": "2022-07-20T07:35:06.976Z"
   },
   {
    "duration": 9,
    "start_time": "2022-07-20T07:39:17.377Z"
   },
   {
    "duration": 662,
    "start_time": "2022-07-20T07:39:23.324Z"
   },
   {
    "duration": 10,
    "start_time": "2022-07-20T07:39:42.353Z"
   },
   {
    "duration": 8,
    "start_time": "2022-07-20T07:40:57.994Z"
   },
   {
    "duration": 9,
    "start_time": "2022-07-20T07:41:18.113Z"
   },
   {
    "duration": 9,
    "start_time": "2022-07-20T07:41:26.914Z"
   },
   {
    "duration": 10,
    "start_time": "2022-07-20T07:41:35.023Z"
   },
   {
    "duration": 4996,
    "start_time": "2022-07-21T09:51:13.883Z"
   },
   {
    "duration": 24,
    "start_time": "2022-07-21T09:51:27.587Z"
   },
   {
    "duration": 10,
    "start_time": "2022-07-21T09:51:33.758Z"
   },
   {
    "duration": 13,
    "start_time": "2022-07-21T09:51:46.430Z"
   },
   {
    "duration": 7,
    "start_time": "2022-07-21T09:52:01.768Z"
   },
   {
    "duration": 7,
    "start_time": "2022-07-21T09:52:46.307Z"
   },
   {
    "duration": 27,
    "start_time": "2022-07-21T09:53:04.783Z"
   },
   {
    "duration": 1474,
    "start_time": "2022-07-21T09:55:04.810Z"
   },
   {
    "duration": 18,
    "start_time": "2022-07-21T09:55:17.611Z"
   },
   {
    "duration": 14,
    "start_time": "2022-07-21T09:56:08.970Z"
   },
   {
    "duration": 22,
    "start_time": "2022-07-21T09:57:27.768Z"
   },
   {
    "duration": 6,
    "start_time": "2022-07-21T09:58:42.097Z"
   },
   {
    "duration": 7,
    "start_time": "2022-07-21T09:59:49.977Z"
   },
   {
    "duration": 7,
    "start_time": "2022-07-21T10:01:32.877Z"
   },
   {
    "duration": 32,
    "start_time": "2022-07-21T10:01:40.463Z"
   },
   {
    "duration": 12,
    "start_time": "2022-07-21T10:02:47.026Z"
   },
   {
    "duration": 42,
    "start_time": "2022-07-21T10:03:23.506Z"
   },
   {
    "duration": 9,
    "start_time": "2022-07-21T10:03:25.393Z"
   },
   {
    "duration": 31,
    "start_time": "2022-07-21T10:07:25.161Z"
   },
   {
    "duration": 28,
    "start_time": "2022-07-21T10:07:44.715Z"
   },
   {
    "duration": 28,
    "start_time": "2022-07-21T10:08:17.425Z"
   },
   {
    "duration": 28,
    "start_time": "2022-07-21T10:08:30.013Z"
   },
   {
    "duration": 1176,
    "start_time": "2022-07-21T10:09:34.296Z"
   },
   {
    "duration": 23,
    "start_time": "2022-07-21T10:10:16.892Z"
   },
   {
    "duration": 37,
    "start_time": "2022-07-21T10:10:38.296Z"
   },
   {
    "duration": 1404,
    "start_time": "2022-07-21T10:12:26.520Z"
   },
   {
    "duration": 22,
    "start_time": "2022-07-21T10:12:43.694Z"
   },
   {
    "duration": 26,
    "start_time": "2022-07-21T10:12:45.241Z"
   },
   {
    "duration": 17,
    "start_time": "2022-07-21T10:13:17.138Z"
   },
   {
    "duration": 28,
    "start_time": "2022-07-21T10:13:18.093Z"
   },
   {
    "duration": 8,
    "start_time": "2022-07-21T10:18:08.979Z"
   },
   {
    "duration": 20,
    "start_time": "2022-07-21T10:22:59.418Z"
   },
   {
    "duration": 29,
    "start_time": "2022-07-21T10:23:00.289Z"
   },
   {
    "duration": 12,
    "start_time": "2022-07-21T10:23:44.408Z"
   },
   {
    "duration": 27,
    "start_time": "2022-07-21T10:23:45.110Z"
   },
   {
    "duration": 20,
    "start_time": "2022-07-21T10:25:37.093Z"
   },
   {
    "duration": 4,
    "start_time": "2022-07-21T10:26:48.701Z"
   },
   {
    "duration": 9,
    "start_time": "2022-07-21T10:26:53.733Z"
   },
   {
    "duration": 11,
    "start_time": "2022-07-21T10:27:01.060Z"
   },
   {
    "duration": 674,
    "start_time": "2022-07-21T10:27:12.877Z"
   },
   {
    "duration": 33,
    "start_time": "2022-07-21T10:27:21.854Z"
   },
   {
    "duration": 9,
    "start_time": "2022-07-21T10:27:28.493Z"
   },
   {
    "duration": 22,
    "start_time": "2022-07-21T10:27:32.121Z"
   },
   {
    "duration": 5,
    "start_time": "2022-07-21T10:27:33.471Z"
   },
   {
    "duration": 9,
    "start_time": "2022-07-21T10:27:34.921Z"
   },
   {
    "duration": 5,
    "start_time": "2022-07-21T10:28:01.744Z"
   },
   {
    "duration": 29,
    "start_time": "2022-07-21T10:28:08.573Z"
   },
   {
    "duration": 4,
    "start_time": "2022-07-21T10:28:34.787Z"
   },
   {
    "duration": 24,
    "start_time": "2022-07-21T10:28:36.766Z"
   },
   {
    "duration": 12,
    "start_time": "2022-07-21T10:28:59.081Z"
   },
   {
    "duration": 12,
    "start_time": "2022-07-21T10:29:06.362Z"
   },
   {
    "duration": 31,
    "start_time": "2022-07-21T10:29:37.680Z"
   },
   {
    "duration": 38,
    "start_time": "2022-07-21T10:30:07.273Z"
   },
   {
    "duration": 4,
    "start_time": "2022-07-21T10:31:16.204Z"
   },
   {
    "duration": 26,
    "start_time": "2022-07-21T10:31:18.544Z"
   },
   {
    "duration": 12,
    "start_time": "2022-07-21T10:31:29.351Z"
   },
   {
    "duration": 8,
    "start_time": "2022-07-21T10:31:32.739Z"
   },
   {
    "duration": 4,
    "start_time": "2022-07-21T10:31:50.494Z"
   },
   {
    "duration": 4,
    "start_time": "2022-07-21T10:32:05.615Z"
   },
   {
    "duration": 50,
    "start_time": "2022-07-21T10:32:08.368Z"
   },
   {
    "duration": 17,
    "start_time": "2022-07-21T10:32:18.242Z"
   },
   {
    "duration": 4,
    "start_time": "2022-07-21T10:32:21.941Z"
   },
   {
    "duration": 3,
    "start_time": "2022-07-21T10:32:50.206Z"
   },
   {
    "duration": 5,
    "start_time": "2022-07-21T10:32:50.766Z"
   },
   {
    "duration": 4,
    "start_time": "2022-07-21T10:32:51.240Z"
   },
   {
    "duration": 4,
    "start_time": "2022-07-21T10:33:04.654Z"
   },
   {
    "duration": 4,
    "start_time": "2022-07-21T10:33:05.124Z"
   },
   {
    "duration": 7,
    "start_time": "2022-07-21T10:33:06.258Z"
   },
   {
    "duration": 271,
    "start_time": "2022-07-21T10:41:49.310Z"
   },
   {
    "duration": 43,
    "start_time": "2022-07-21T10:41:55.942Z"
   },
   {
    "duration": 43,
    "start_time": "2022-07-21T10:42:47.467Z"
   },
   {
    "duration": 52,
    "start_time": "2022-07-21T10:43:10.083Z"
   },
   {
    "duration": 249,
    "start_time": "2022-07-21T10:43:22.043Z"
   },
   {
    "duration": 253,
    "start_time": "2022-07-21T10:43:28.561Z"
   },
   {
    "duration": 291,
    "start_time": "2022-07-21T10:43:32.760Z"
   },
   {
    "duration": 27,
    "start_time": "2022-07-21T10:43:37.189Z"
   },
   {
    "duration": 245,
    "start_time": "2022-07-21T10:43:49.449Z"
   },
   {
    "duration": 21,
    "start_time": "2022-07-21T11:44:26.951Z"
   },
   {
    "duration": 27,
    "start_time": "2022-07-21T11:45:26.945Z"
   },
   {
    "duration": 38,
    "start_time": "2022-07-21T11:45:47.108Z"
   },
   {
    "duration": 33,
    "start_time": "2022-07-21T11:46:32.702Z"
   },
   {
    "duration": 35,
    "start_time": "2022-07-21T11:46:52.899Z"
   },
   {
    "duration": 18,
    "start_time": "2022-07-21T11:48:29.550Z"
   },
   {
    "duration": 24,
    "start_time": "2022-07-21T11:48:34.244Z"
   },
   {
    "duration": 26,
    "start_time": "2022-07-21T11:48:43.555Z"
   },
   {
    "duration": 6,
    "start_time": "2022-07-21T11:49:26.572Z"
   },
   {
    "duration": 7,
    "start_time": "2022-07-21T11:49:30.212Z"
   },
   {
    "duration": 38,
    "start_time": "2022-07-21T11:49:35.672Z"
   },
   {
    "duration": 12,
    "start_time": "2022-07-21T11:49:52.561Z"
   },
   {
    "duration": 12,
    "start_time": "2022-07-21T11:50:12.305Z"
   },
   {
    "duration": 13,
    "start_time": "2022-07-21T11:50:30.356Z"
   },
   {
    "duration": 18,
    "start_time": "2022-07-21T11:50:54.641Z"
   },
   {
    "duration": 26,
    "start_time": "2022-07-21T11:51:12.315Z"
   },
   {
    "duration": 28,
    "start_time": "2022-07-21T11:51:22.647Z"
   },
   {
    "duration": 13,
    "start_time": "2022-07-21T11:51:49.944Z"
   },
   {
    "duration": 13,
    "start_time": "2022-07-21T11:51:53.663Z"
   },
   {
    "duration": 14,
    "start_time": "2022-07-21T11:52:35.003Z"
   },
   {
    "duration": 23,
    "start_time": "2022-07-21T11:52:48.944Z"
   },
   {
    "duration": 28,
    "start_time": "2022-07-21T11:54:41.476Z"
   },
   {
    "duration": 27,
    "start_time": "2022-07-21T11:55:13.467Z"
   },
   {
    "duration": 24,
    "start_time": "2022-07-21T11:55:19.094Z"
   },
   {
    "duration": 44,
    "start_time": "2022-07-21T11:57:28.967Z"
   },
   {
    "duration": 90,
    "start_time": "2022-07-21T11:57:37.446Z"
   },
   {
    "duration": 52,
    "start_time": "2022-07-21T11:57:43.973Z"
   },
   {
    "duration": 10,
    "start_time": "2022-07-21T11:58:06.755Z"
   },
   {
    "duration": 11,
    "start_time": "2022-07-21T11:58:28.961Z"
   },
   {
    "duration": 203,
    "start_time": "2022-07-21T12:00:35.860Z"
   },
   {
    "duration": 192,
    "start_time": "2022-07-21T12:00:52.918Z"
   },
   {
    "duration": 5,
    "start_time": "2022-07-21T12:01:33.431Z"
   },
   {
    "duration": 171,
    "start_time": "2022-07-21T12:01:41.910Z"
   },
   {
    "duration": 162,
    "start_time": "2022-07-21T12:04:40.599Z"
   },
   {
    "duration": 161,
    "start_time": "2022-07-21T12:04:56.548Z"
   },
   {
    "duration": 157,
    "start_time": "2022-07-21T12:05:49.947Z"
   },
   {
    "duration": 180,
    "start_time": "2022-07-21T12:06:05.483Z"
   },
   {
    "duration": 157,
    "start_time": "2022-07-21T12:06:22.100Z"
   },
   {
    "duration": 166,
    "start_time": "2022-07-21T12:09:32.695Z"
   },
   {
    "duration": 155,
    "start_time": "2022-07-21T12:09:42.369Z"
   },
   {
    "duration": 167,
    "start_time": "2022-07-21T12:09:54.981Z"
   },
   {
    "duration": 23,
    "start_time": "2022-07-21T12:11:29.620Z"
   },
   {
    "duration": 26,
    "start_time": "2022-07-21T12:11:39.245Z"
   },
   {
    "duration": 11,
    "start_time": "2022-07-21T12:12:03.067Z"
   },
   {
    "duration": 31,
    "start_time": "2022-07-21T12:12:05.918Z"
   },
   {
    "duration": 29,
    "start_time": "2022-07-21T12:12:25.541Z"
   },
   {
    "duration": 7,
    "start_time": "2022-07-21T12:13:39.787Z"
   },
   {
    "duration": 26,
    "start_time": "2022-07-21T12:13:55.819Z"
   },
   {
    "duration": 24,
    "start_time": "2022-07-21T12:20:55.744Z"
   },
   {
    "duration": 9,
    "start_time": "2022-07-21T12:21:01.578Z"
   },
   {
    "duration": 4,
    "start_time": "2022-07-21T12:23:12.677Z"
   },
   {
    "duration": 8,
    "start_time": "2022-07-21T12:23:15.521Z"
   },
   {
    "duration": 2,
    "start_time": "2022-07-21T12:23:38.952Z"
   },
   {
    "duration": 2,
    "start_time": "2022-07-21T12:23:55.253Z"
   },
   {
    "duration": 10,
    "start_time": "2022-07-21T12:25:05.173Z"
   },
   {
    "duration": 3,
    "start_time": "2022-07-21T12:26:00.040Z"
   },
   {
    "duration": 102,
    "start_time": "2022-07-21T12:26:02.081Z"
   },
   {
    "duration": 6,
    "start_time": "2022-07-21T12:26:34.727Z"
   },
   {
    "duration": 6,
    "start_time": "2022-07-21T12:26:38.144Z"
   },
   {
    "duration": 27,
    "start_time": "2022-07-21T12:27:00.586Z"
   },
   {
    "duration": 9,
    "start_time": "2022-07-21T12:27:14.532Z"
   },
   {
    "duration": 836,
    "start_time": "2022-07-21T12:27:24.256Z"
   },
   {
    "duration": 3,
    "start_time": "2022-07-21T12:34:02.757Z"
   },
   {
    "duration": 25689,
    "start_time": "2022-07-21T12:34:06.662Z"
   },
   {
    "duration": 321,
    "start_time": "2022-07-21T12:35:49.316Z"
   },
   {
    "duration": 130,
    "start_time": "2022-07-21T13:48:21.698Z"
   },
   {
    "duration": 2,
    "start_time": "2022-07-21T13:50:45.248Z"
   },
   {
    "duration": 1712,
    "start_time": "2022-07-21T13:51:50.212Z"
   },
   {
    "duration": 10910,
    "start_time": "2022-07-21T16:08:56.920Z"
   },
   {
    "duration": 330,
    "start_time": "2022-07-21T16:11:27.105Z"
   },
   {
    "duration": 24,
    "start_time": "2022-07-21T16:11:59.041Z"
   },
   {
    "duration": 4,
    "start_time": "2022-07-21T16:12:18.394Z"
   },
   {
    "duration": 651,
    "start_time": "2022-07-21T16:12:19.690Z"
   },
   {
    "duration": 1263,
    "start_time": "2022-07-21T16:12:45.564Z"
   },
   {
    "duration": 1635,
    "start_time": "2022-07-21T16:13:48.698Z"
   },
   {
    "duration": 9,
    "start_time": "2022-07-21T16:14:09.181Z"
   },
   {
    "duration": 6,
    "start_time": "2022-07-21T16:14:18.194Z"
   },
   {
    "duration": 1253,
    "start_time": "2022-07-21T16:14:38.389Z"
   },
   {
    "duration": 1306,
    "start_time": "2022-07-21T16:15:43.221Z"
   },
   {
    "duration": 1193,
    "start_time": "2022-07-21T16:16:06.144Z"
   },
   {
    "duration": 3,
    "start_time": "2022-07-21T16:22:54.699Z"
   },
   {
    "duration": 3,
    "start_time": "2022-07-21T16:22:56.127Z"
   },
   {
    "duration": 3,
    "start_time": "2022-07-21T16:22:57.187Z"
   },
   {
    "duration": 8,
    "start_time": "2022-07-21T17:17:52.703Z"
   },
   {
    "duration": 5165,
    "start_time": "2022-07-22T08:26:12.284Z"
   },
   {
    "duration": 24,
    "start_time": "2022-07-22T08:26:58.272Z"
   },
   {
    "duration": 18,
    "start_time": "2022-07-22T08:27:01.155Z"
   },
   {
    "duration": 22,
    "start_time": "2022-07-22T08:27:02.990Z"
   },
   {
    "duration": 39,
    "start_time": "2022-07-22T08:27:06.519Z"
   },
   {
    "duration": 9,
    "start_time": "2022-07-22T08:27:16.128Z"
   },
   {
    "duration": 13,
    "start_time": "2022-07-22T08:27:29.461Z"
   },
   {
    "duration": 10,
    "start_time": "2022-07-22T08:27:42.433Z"
   },
   {
    "duration": 8,
    "start_time": "2022-07-22T08:27:43.800Z"
   },
   {
    "duration": 7,
    "start_time": "2022-07-22T08:28:12.070Z"
   },
   {
    "duration": 6,
    "start_time": "2022-07-22T08:35:27.043Z"
   },
   {
    "duration": 4475,
    "start_time": "2022-07-22T12:47:21.367Z"
   },
   {
    "duration": 18,
    "start_time": "2022-07-22T12:47:26.655Z"
   },
   {
    "duration": 13,
    "start_time": "2022-07-22T12:47:27.953Z"
   },
   {
    "duration": 16,
    "start_time": "2022-07-22T12:47:30.046Z"
   },
   {
    "duration": 23,
    "start_time": "2022-07-22T12:47:31.791Z"
   },
   {
    "duration": 9,
    "start_time": "2022-07-22T12:47:33.151Z"
   },
   {
    "duration": 10,
    "start_time": "2022-07-22T12:47:34.380Z"
   },
   {
    "duration": 3,
    "start_time": "2022-07-22T12:47:36.041Z"
   },
   {
    "duration": 4,
    "start_time": "2022-07-22T12:47:37.191Z"
   },
   {
    "duration": 15,
    "start_time": "2022-07-22T12:47:38.065Z"
   },
   {
    "duration": 4,
    "start_time": "2022-07-22T12:47:41.283Z"
   },
   {
    "duration": 4,
    "start_time": "2022-07-22T12:47:43.642Z"
   },
   {
    "duration": 29,
    "start_time": "2022-07-22T12:47:48.003Z"
   },
   {
    "duration": 21,
    "start_time": "2022-07-22T12:47:49.066Z"
   },
   {
    "duration": 7,
    "start_time": "2022-07-22T12:47:55.438Z"
   },
   {
    "duration": 23,
    "start_time": "2022-07-22T12:47:56.272Z"
   },
   {
    "duration": 13,
    "start_time": "2022-07-22T12:48:02.145Z"
   },
   {
    "duration": 8,
    "start_time": "2022-07-22T12:48:05.109Z"
   },
   {
    "duration": 7,
    "start_time": "2022-07-22T12:48:07.747Z"
   },
   {
    "duration": 82,
    "start_time": "2022-07-22T12:48:10.395Z"
   },
   {
    "duration": 24,
    "start_time": "2022-07-22T12:48:11.398Z"
   },
   {
    "duration": 120,
    "start_time": "2022-07-22T12:48:29.850Z"
   },
   {
    "duration": 28,
    "start_time": "2022-07-22T12:48:53.242Z"
   },
   {
    "duration": 860,
    "start_time": "2022-07-22T12:49:02.574Z"
   },
   {
    "duration": 150,
    "start_time": "2022-07-22T12:49:58.740Z"
   },
   {
    "duration": 122,
    "start_time": "2022-07-22T12:50:03.644Z"
   },
   {
    "duration": 824,
    "start_time": "2022-07-22T12:54:24.877Z"
   },
   {
    "duration": 257,
    "start_time": "2022-07-22T12:54:38.868Z"
   },
   {
    "duration": 873,
    "start_time": "2022-07-22T12:54:48.302Z"
   },
   {
    "duration": 138,
    "start_time": "2022-07-22T12:55:02.492Z"
   },
   {
    "duration": 10,
    "start_time": "2022-07-22T12:57:18.541Z"
   },
   {
    "duration": 515,
    "start_time": "2022-07-22T12:57:24.523Z"
   },
   {
    "duration": 358,
    "start_time": "2022-07-22T12:57:40.284Z"
   },
   {
    "duration": 5,
    "start_time": "2022-07-22T12:59:46.751Z"
   },
   {
    "duration": 5,
    "start_time": "2022-07-22T12:59:57.446Z"
   },
   {
    "duration": 1069,
    "start_time": "2022-07-22T13:01:47.308Z"
   },
   {
    "duration": 435,
    "start_time": "2022-07-22T13:12:13.569Z"
   },
   {
    "duration": 432,
    "start_time": "2022-07-22T13:12:41.454Z"
   },
   {
    "duration": 424,
    "start_time": "2022-07-22T13:12:54.684Z"
   },
   {
    "duration": 530,
    "start_time": "2022-07-22T13:13:21.189Z"
   },
   {
    "duration": 482,
    "start_time": "2022-07-22T13:13:52.909Z"
   },
   {
    "duration": 350,
    "start_time": "2022-07-22T13:14:03.170Z"
   },
   {
    "duration": 402,
    "start_time": "2022-07-22T13:14:31.854Z"
   },
   {
    "duration": 520,
    "start_time": "2022-07-22T13:14:40.160Z"
   },
   {
    "duration": 12,
    "start_time": "2022-07-22T13:15:16.561Z"
   },
   {
    "duration": 3,
    "start_time": "2022-07-22T13:16:01.158Z"
   },
   {
    "duration": 10,
    "start_time": "2022-07-22T13:16:03.717Z"
   },
   {
    "duration": 1013,
    "start_time": "2022-07-22T13:21:11.624Z"
   },
   {
    "duration": 1457,
    "start_time": "2022-07-22T13:21:40.221Z"
   },
   {
    "duration": 15,
    "start_time": "2022-07-22T13:21:55.518Z"
   },
   {
    "duration": 13,
    "start_time": "2022-07-22T13:26:24.017Z"
   },
   {
    "duration": 13,
    "start_time": "2022-07-22T13:26:34.914Z"
   },
   {
    "duration": 19,
    "start_time": "2022-07-22T13:26:40.390Z"
   },
   {
    "duration": 15,
    "start_time": "2022-07-22T13:26:56.672Z"
   },
   {
    "duration": 376,
    "start_time": "2022-07-22T13:27:51.415Z"
   },
   {
    "duration": 31,
    "start_time": "2022-07-22T13:28:02.495Z"
   },
   {
    "duration": 17,
    "start_time": "2022-07-22T13:28:59.192Z"
   },
   {
    "duration": 11,
    "start_time": "2022-07-22T13:29:24.810Z"
   },
   {
    "duration": 12,
    "start_time": "2022-07-22T13:29:25.920Z"
   },
   {
    "duration": 355,
    "start_time": "2022-07-22T13:30:22.701Z"
   },
   {
    "duration": 20,
    "start_time": "2022-07-22T13:30:23.557Z"
   },
   {
    "duration": 12,
    "start_time": "2022-07-22T13:32:04.455Z"
   },
   {
    "duration": 13,
    "start_time": "2022-07-22T13:32:05.665Z"
   },
   {
    "duration": 13,
    "start_time": "2022-07-22T13:32:37.019Z"
   },
   {
    "duration": 26,
    "start_time": "2022-07-22T13:33:56.312Z"
   },
   {
    "duration": 1117,
    "start_time": "2022-07-22T13:34:32.618Z"
   },
   {
    "duration": 154,
    "start_time": "2022-07-22T13:36:09.277Z"
   },
   {
    "duration": 174,
    "start_time": "2022-07-22T13:36:35.451Z"
   },
   {
    "duration": 1151,
    "start_time": "2022-07-22T13:36:42.818Z"
   },
   {
    "duration": 1042,
    "start_time": "2022-07-22T13:44:16.569Z"
   },
   {
    "duration": 10,
    "start_time": "2022-07-22T13:55:37.629Z"
   },
   {
    "duration": 10,
    "start_time": "2022-07-22T13:55:40.674Z"
   },
   {
    "duration": 31,
    "start_time": "2022-07-22T13:55:41.673Z"
   },
   {
    "duration": 5,
    "start_time": "2022-07-22T13:55:47.761Z"
   },
   {
    "duration": 32,
    "start_time": "2022-07-22T13:55:56.013Z"
   },
   {
    "duration": 9,
    "start_time": "2022-07-22T13:55:58.413Z"
   },
   {
    "duration": 49,
    "start_time": "2022-07-22T13:55:59.120Z"
   },
   {
    "duration": 23,
    "start_time": "2022-07-22T13:56:40.062Z"
   },
   {
    "duration": 16,
    "start_time": "2022-07-22T13:56:41.121Z"
   },
   {
    "duration": 4,
    "start_time": "2022-07-22T13:56:42.362Z"
   },
   {
    "duration": 11,
    "start_time": "2022-07-22T13:57:11.508Z"
   },
   {
    "duration": 26,
    "start_time": "2022-07-22T13:57:12.366Z"
   },
   {
    "duration": 7,
    "start_time": "2022-07-22T13:57:13.389Z"
   },
   {
    "duration": 39,
    "start_time": "2022-07-22T13:58:07.013Z"
   },
   {
    "duration": 33,
    "start_time": "2022-07-22T13:58:17.502Z"
   },
   {
    "duration": 21,
    "start_time": "2022-07-22T13:58:32.657Z"
   },
   {
    "duration": 40,
    "start_time": "2022-07-22T13:59:37.667Z"
   },
   {
    "duration": 12,
    "start_time": "2022-07-22T13:59:40.661Z"
   },
   {
    "duration": 34,
    "start_time": "2022-07-22T13:59:41.360Z"
   },
   {
    "duration": 31,
    "start_time": "2022-07-22T13:59:48.363Z"
   },
   {
    "duration": 4,
    "start_time": "2022-07-22T14:06:21.756Z"
   },
   {
    "duration": 2,
    "start_time": "2022-07-22T14:06:22.688Z"
   },
   {
    "duration": 7859,
    "start_time": "2022-07-22T14:06:24.478Z"
   },
   {
    "duration": 2273,
    "start_time": "2022-07-22T14:06:33.561Z"
   },
   {
    "duration": 30462,
    "start_time": "2022-07-22T14:06:44.967Z"
   },
   {
    "duration": 3967,
    "start_time": "2022-07-22T14:07:17.185Z"
   },
   {
    "duration": 0,
    "start_time": "2022-07-22T14:10:55.764Z"
   },
   {
    "duration": 51040,
    "start_time": "2022-07-22T14:10:56.854Z"
   },
   {
    "duration": 38370,
    "start_time": "2022-07-22T14:11:53.242Z"
   },
   {
    "duration": 38093,
    "start_time": "2022-07-22T14:12:41.778Z"
   },
   {
    "duration": 4,
    "start_time": "2022-07-22T14:13:33.557Z"
   },
   {
    "duration": 119044,
    "start_time": "2022-07-22T14:13:46.465Z"
   },
   {
    "duration": 4,
    "start_time": "2022-07-22T14:15:55.451Z"
   },
   {
    "duration": 12,
    "start_time": "2022-07-22T14:16:10.174Z"
   },
   {
    "duration": 192512,
    "start_time": "2022-07-22T14:16:21.151Z"
   },
   {
    "duration": 4,
    "start_time": "2022-07-22T14:19:41.252Z"
   },
   {
    "duration": 30765,
    "start_time": "2022-07-22T14:19:53.702Z"
   },
   {
    "duration": 12,
    "start_time": "2022-07-22T14:24:19.864Z"
   },
   {
    "duration": 38200,
    "start_time": "2022-07-22T14:24:42.381Z"
   },
   {
    "duration": 20,
    "start_time": "2022-07-22T14:25:50.409Z"
   },
   {
    "duration": 19,
    "start_time": "2022-07-22T14:26:43.982Z"
   },
   {
    "duration": 8,
    "start_time": "2022-07-22T14:36:36.180Z"
   },
   {
    "duration": 3,
    "start_time": "2022-07-22T14:36:53.140Z"
   },
   {
    "duration": 3,
    "start_time": "2022-07-22T14:36:53.939Z"
   },
   {
    "duration": 5,
    "start_time": "2022-07-22T14:36:54.876Z"
   },
   {
    "duration": 3,
    "start_time": "2022-07-22T14:36:55.767Z"
   },
   {
    "duration": 6,
    "start_time": "2022-07-22T14:36:56.364Z"
   },
   {
    "duration": 3,
    "start_time": "2022-07-22T14:38:05.258Z"
   },
   {
    "duration": 8667,
    "start_time": "2022-07-22T14:38:06.762Z"
   },
   {
    "duration": 1975,
    "start_time": "2022-07-22T14:38:16.555Z"
   },
   {
    "duration": 30908,
    "start_time": "2022-07-22T14:38:20.753Z"
   },
   {
    "duration": 2016,
    "start_time": "2022-07-22T14:38:53.876Z"
   },
   {
    "duration": 213205,
    "start_time": "2022-07-22T14:39:00.022Z"
   },
   {
    "duration": 117809,
    "start_time": "2022-07-22T14:42:38.759Z"
   },
   {
    "duration": 14,
    "start_time": "2022-07-22T14:45:32.328Z"
   },
   {
    "duration": 12,
    "start_time": "2022-07-22T14:47:51.236Z"
   },
   {
    "duration": 14,
    "start_time": "2022-07-22T14:48:04.906Z"
   },
   {
    "duration": 11,
    "start_time": "2022-07-22T14:48:52.000Z"
   },
   {
    "duration": 11,
    "start_time": "2022-07-22T14:49:05.278Z"
   },
   {
    "duration": 3,
    "start_time": "2022-07-22T14:50:04.212Z"
   },
   {
    "duration": 22,
    "start_time": "2022-07-22T14:50:29.564Z"
   },
   {
    "duration": 9,
    "start_time": "2022-07-22T14:51:27.606Z"
   },
   {
    "duration": 19,
    "start_time": "2022-07-22T14:51:30.668Z"
   },
   {
    "duration": 19,
    "start_time": "2022-07-22T14:51:55.797Z"
   },
   {
    "duration": 25,
    "start_time": "2022-07-22T14:52:13.698Z"
   },
   {
    "duration": 10,
    "start_time": "2022-07-22T14:52:19.890Z"
   },
   {
    "duration": 10,
    "start_time": "2022-07-22T14:53:44.307Z"
   },
   {
    "duration": 32,
    "start_time": "2022-07-22T14:54:02.538Z"
   },
   {
    "duration": 11,
    "start_time": "2022-07-22T14:54:28.788Z"
   },
   {
    "duration": 12,
    "start_time": "2022-07-22T14:54:37.780Z"
   },
   {
    "duration": 14,
    "start_time": "2022-07-22T14:54:45.353Z"
   },
   {
    "duration": 40,
    "start_time": "2022-07-22T14:57:22.368Z"
   },
   {
    "duration": 32,
    "start_time": "2022-07-22T14:57:50.946Z"
   },
   {
    "duration": 40,
    "start_time": "2022-07-22T14:58:04.814Z"
   },
   {
    "duration": 31,
    "start_time": "2022-07-22T14:58:09.682Z"
   },
   {
    "duration": 11,
    "start_time": "2022-07-22T15:00:04.769Z"
   },
   {
    "duration": 19,
    "start_time": "2022-07-22T15:00:39.270Z"
   },
   {
    "duration": 4,
    "start_time": "2022-07-22T15:06:51.672Z"
   },
   {
    "duration": 5,
    "start_time": "2022-07-22T15:06:52.424Z"
   },
   {
    "duration": 3,
    "start_time": "2022-07-22T15:06:52.907Z"
   },
   {
    "duration": 9,
    "start_time": "2022-07-22T15:06:53.386Z"
   },
   {
    "duration": 3,
    "start_time": "2022-07-22T15:07:14.307Z"
   },
   {
    "duration": 5,
    "start_time": "2022-07-22T15:07:14.660Z"
   },
   {
    "duration": 4,
    "start_time": "2022-07-22T15:07:15.073Z"
   },
   {
    "duration": 8,
    "start_time": "2022-07-22T15:07:15.476Z"
   },
   {
    "duration": 15,
    "start_time": "2022-07-22T15:07:28.506Z"
   },
   {
    "duration": 35,
    "start_time": "2022-07-22T15:07:30.494Z"
   },
   {
    "duration": 20,
    "start_time": "2022-07-22T15:07:31.302Z"
   },
   {
    "duration": 8,
    "start_time": "2022-07-22T15:07:33.005Z"
   },
   {
    "duration": 21,
    "start_time": "2022-07-22T15:07:33.762Z"
   },
   {
    "duration": 5850,
    "start_time": "2022-07-22T15:07:38.373Z"
   },
   {
    "duration": 1600,
    "start_time": "2022-07-22T15:07:45.130Z"
   },
   {
    "duration": 27088,
    "start_time": "2022-07-22T15:07:51.443Z"
   },
   {
    "duration": 437,
    "start_time": "2022-07-22T15:08:21.538Z"
   },
   {
    "duration": 175036,
    "start_time": "2022-07-22T15:08:24.845Z"
   },
   {
    "duration": 96331,
    "start_time": "2022-07-22T16:35:42.464Z"
   },
   {
    "duration": 9,
    "start_time": "2022-07-22T16:37:40.462Z"
   },
   {
    "duration": 3,
    "start_time": "2022-07-22T16:37:49.198Z"
   },
   {
    "duration": 6,
    "start_time": "2022-07-22T16:37:49.783Z"
   },
   {
    "duration": 3,
    "start_time": "2022-07-22T16:37:50.295Z"
   },
   {
    "duration": 6,
    "start_time": "2022-07-22T16:37:50.954Z"
   },
   {
    "duration": 9,
    "start_time": "2022-07-22T16:48:29.944Z"
   },
   {
    "duration": 7,
    "start_time": "2022-07-22T16:48:39.433Z"
   },
   {
    "duration": 7,
    "start_time": "2022-07-22T16:48:54.201Z"
   },
   {
    "duration": 7,
    "start_time": "2022-07-22T16:49:43.851Z"
   },
   {
    "duration": 10,
    "start_time": "2022-07-22T16:51:30.947Z"
   },
   {
    "duration": 9,
    "start_time": "2022-07-22T16:51:36.138Z"
   },
   {
    "duration": 9,
    "start_time": "2022-07-22T16:51:47.396Z"
   },
   {
    "duration": 8,
    "start_time": "2022-07-22T16:51:53.888Z"
   },
   {
    "duration": 9,
    "start_time": "2022-07-22T16:51:57.921Z"
   },
   {
    "duration": 4,
    "start_time": "2022-07-22T16:52:21.462Z"
   },
   {
    "duration": 1223,
    "start_time": "2022-07-22T17:08:27.155Z"
   },
   {
    "duration": 959,
    "start_time": "2022-07-22T17:11:35.900Z"
   },
   {
    "duration": 882,
    "start_time": "2022-07-22T17:11:44.461Z"
   },
   {
    "duration": 846,
    "start_time": "2022-07-22T17:11:50.899Z"
   },
   {
    "duration": 897,
    "start_time": "2022-07-22T17:11:57.246Z"
   },
   {
    "duration": 1027,
    "start_time": "2022-07-22T17:12:04.223Z"
   },
   {
    "duration": 985,
    "start_time": "2022-07-22T17:12:08.795Z"
   },
   {
    "duration": 160,
    "start_time": "2022-07-22T17:12:21.787Z"
   },
   {
    "duration": 152,
    "start_time": "2022-07-22T17:12:26.643Z"
   },
   {
    "duration": 168,
    "start_time": "2022-07-22T17:12:36.431Z"
   },
   {
    "duration": 149,
    "start_time": "2022-07-22T17:12:42.590Z"
   },
   {
    "duration": 168,
    "start_time": "2022-07-22T17:12:52.585Z"
   },
   {
    "duration": 151,
    "start_time": "2022-07-22T17:13:03.014Z"
   },
   {
    "duration": 151,
    "start_time": "2022-07-22T17:13:08.208Z"
   },
   {
    "duration": 163,
    "start_time": "2022-07-22T17:13:11.969Z"
   },
   {
    "duration": 932,
    "start_time": "2022-07-22T17:13:29.090Z"
   },
   {
    "duration": 150,
    "start_time": "2022-07-22T17:13:50.580Z"
   },
   {
    "duration": 851,
    "start_time": "2022-07-22T17:14:04.805Z"
   },
   {
    "duration": 178,
    "start_time": "2022-07-22T17:14:16.426Z"
   },
   {
    "duration": 197,
    "start_time": "2022-07-22T17:14:29.021Z"
   },
   {
    "duration": 1072,
    "start_time": "2022-07-22T17:21:27.179Z"
   },
   {
    "duration": 1128,
    "start_time": "2022-07-22T17:21:43.241Z"
   },
   {
    "duration": 193,
    "start_time": "2022-07-22T17:21:57.350Z"
   },
   {
    "duration": 892,
    "start_time": "2022-07-22T17:22:14.143Z"
   },
   {
    "duration": 159,
    "start_time": "2022-07-22T17:22:24.725Z"
   },
   {
    "duration": 7,
    "start_time": "2022-07-22T17:58:48.620Z"
   },
   {
    "duration": 9,
    "start_time": "2022-07-22T17:58:49.360Z"
   },
   {
    "duration": 10,
    "start_time": "2022-07-22T18:46:18.082Z"
   },
   {
    "duration": 1327,
    "start_time": "2022-07-22T18:46:36.457Z"
   },
   {
    "duration": 288,
    "start_time": "2022-07-22T18:46:39.075Z"
   },
   {
    "duration": 36,
    "start_time": "2022-07-22T18:46:41.995Z"
   },
   {
    "duration": 12,
    "start_time": "2022-07-22T18:46:44.805Z"
   },
   {
    "duration": 17,
    "start_time": "2022-07-22T18:47:28.319Z"
   },
   {
    "duration": 37,
    "start_time": "2022-07-22T18:47:42.513Z"
   },
   {
    "duration": 9,
    "start_time": "2022-07-22T18:47:50.251Z"
   },
   {
    "duration": 33,
    "start_time": "2022-07-22T18:47:57.901Z"
   },
   {
    "duration": 29,
    "start_time": "2022-07-22T18:48:08.413Z"
   },
   {
    "duration": 13,
    "start_time": "2022-07-22T18:48:18.751Z"
   },
   {
    "duration": 442,
    "start_time": "2022-07-22T19:12:07.825Z"
   },
   {
    "duration": 1114,
    "start_time": "2022-07-22T19:12:20.284Z"
   },
   {
    "duration": 215,
    "start_time": "2022-07-22T19:12:25.587Z"
   },
   {
    "duration": 2349,
    "start_time": "2022-07-22T19:13:05.685Z"
   },
   {
    "duration": 23,
    "start_time": "2022-07-22T19:13:08.037Z"
   },
   {
    "duration": 25,
    "start_time": "2022-07-22T19:13:08.061Z"
   },
   {
    "duration": 40,
    "start_time": "2022-07-22T19:13:08.089Z"
   },
   {
    "duration": 20,
    "start_time": "2022-07-22T19:13:08.131Z"
   },
   {
    "duration": 22,
    "start_time": "2022-07-22T19:13:08.153Z"
   },
   {
    "duration": 11,
    "start_time": "2022-07-22T19:13:08.177Z"
   },
   {
    "duration": 44,
    "start_time": "2022-07-22T19:13:08.190Z"
   },
   {
    "duration": 31,
    "start_time": "2022-07-22T19:13:08.237Z"
   },
   {
    "duration": 10,
    "start_time": "2022-07-22T19:13:08.272Z"
   },
   {
    "duration": 3,
    "start_time": "2022-07-22T19:13:08.285Z"
   },
   {
    "duration": 37,
    "start_time": "2022-07-22T19:13:08.290Z"
   },
   {
    "duration": 30,
    "start_time": "2022-07-22T19:13:08.329Z"
   },
   {
    "duration": 4,
    "start_time": "2022-07-22T19:13:08.361Z"
   },
   {
    "duration": 7,
    "start_time": "2022-07-22T19:13:08.367Z"
   },
   {
    "duration": 34,
    "start_time": "2022-07-22T19:13:08.375Z"
   },
   {
    "duration": 41,
    "start_time": "2022-07-22T19:13:08.411Z"
   },
   {
    "duration": 7,
    "start_time": "2022-07-22T19:13:08.454Z"
   },
   {
    "duration": 40,
    "start_time": "2022-07-22T19:13:08.463Z"
   },
   {
    "duration": 25,
    "start_time": "2022-07-22T19:13:08.505Z"
   },
   {
    "duration": 12,
    "start_time": "2022-07-22T19:13:08.532Z"
   },
   {
    "duration": 12,
    "start_time": "2022-07-22T19:13:08.547Z"
   },
   {
    "duration": 94,
    "start_time": "2022-07-22T19:13:08.561Z"
   },
   {
    "duration": 27,
    "start_time": "2022-07-22T19:13:08.657Z"
   },
   {
    "duration": 977,
    "start_time": "2022-07-22T19:13:08.685Z"
   },
   {
    "duration": 221,
    "start_time": "2022-07-22T19:13:09.664Z"
   },
   {
    "duration": 900,
    "start_time": "2022-07-22T19:13:09.887Z"
   },
   {
    "duration": 218,
    "start_time": "2022-07-22T19:13:10.792Z"
   },
   {
    "duration": 1120,
    "start_time": "2022-07-22T19:13:11.012Z"
   },
   {
    "duration": 228,
    "start_time": "2022-07-22T19:13:12.134Z"
   },
   {
    "duration": 524,
    "start_time": "2022-07-22T19:13:12.364Z"
   },
   {
    "duration": 8,
    "start_time": "2022-07-22T19:13:12.889Z"
   },
   {
    "duration": 25,
    "start_time": "2022-07-22T19:13:12.898Z"
   },
   {
    "duration": 26,
    "start_time": "2022-07-22T19:13:12.926Z"
   },
   {
    "duration": 24,
    "start_time": "2022-07-22T19:13:12.954Z"
   },
   {
    "duration": 911,
    "start_time": "2022-07-22T19:13:12.980Z"
   },
   {
    "duration": 193,
    "start_time": "2022-07-22T19:13:13.892Z"
   },
   {
    "duration": 12,
    "start_time": "2022-07-22T19:13:14.087Z"
   },
   {
    "duration": 23,
    "start_time": "2022-07-22T19:13:14.101Z"
   },
   {
    "duration": 36,
    "start_time": "2022-07-22T19:13:14.126Z"
   },
   {
    "duration": 22,
    "start_time": "2022-07-22T19:13:14.164Z"
   },
   {
    "duration": 10,
    "start_time": "2022-07-22T19:13:14.187Z"
   },
   {
    "duration": 29,
    "start_time": "2022-07-22T19:13:14.224Z"
   },
   {
    "duration": 6,
    "start_time": "2022-07-22T19:13:14.255Z"
   },
   {
    "duration": 5,
    "start_time": "2022-07-22T19:13:14.262Z"
   },
   {
    "duration": 10265,
    "start_time": "2022-07-22T19:13:14.269Z"
   },
   {
    "duration": 2886,
    "start_time": "2022-07-22T19:13:24.537Z"
   },
   {
    "duration": 29685,
    "start_time": "2022-07-22T19:13:27.426Z"
   },
   {
    "duration": 475,
    "start_time": "2022-07-22T19:13:57.113Z"
   },
   {
    "duration": 181110,
    "start_time": "2022-07-22T19:13:57.590Z"
   },
   {
    "duration": 99782,
    "start_time": "2022-07-22T19:16:58.701Z"
   },
   {
    "duration": 9,
    "start_time": "2022-07-22T19:18:38.485Z"
   },
   {
    "duration": 6,
    "start_time": "2022-07-22T19:18:38.495Z"
   },
   {
    "duration": 34,
    "start_time": "2022-07-22T19:18:38.502Z"
   },
   {
    "duration": 53,
    "start_time": "2022-07-22T19:20:16.899Z"
   },
   {
    "duration": 147,
    "start_time": "2022-07-22T19:20:23.544Z"
   },
   {
    "duration": 6,
    "start_time": "2022-07-22T19:20:28.344Z"
   },
   {
    "duration": 5,
    "start_time": "2022-07-22T19:21:13.845Z"
   },
   {
    "duration": 4897,
    "start_time": "2022-07-22T19:22:44.035Z"
   },
   {
    "duration": 442,
    "start_time": "2022-07-22T19:23:20.750Z"
   },
   {
    "duration": 98502,
    "start_time": "2022-07-22T19:23:23.339Z"
   },
   {
    "duration": 2285,
    "start_time": "2022-07-22T19:25:09.784Z"
   },
   {
    "duration": 19,
    "start_time": "2022-07-22T19:25:12.071Z"
   },
   {
    "duration": 37,
    "start_time": "2022-07-22T19:25:12.091Z"
   },
   {
    "duration": 14,
    "start_time": "2022-07-22T19:25:12.130Z"
   },
   {
    "duration": 13,
    "start_time": "2022-07-22T19:25:12.149Z"
   },
   {
    "duration": 25,
    "start_time": "2022-07-22T19:25:12.164Z"
   },
   {
    "duration": 12,
    "start_time": "2022-07-22T19:25:12.228Z"
   },
   {
    "duration": 19,
    "start_time": "2022-07-22T19:25:12.242Z"
   },
   {
    "duration": 20,
    "start_time": "2022-07-22T19:25:12.263Z"
   },
   {
    "duration": 38,
    "start_time": "2022-07-22T19:25:12.284Z"
   },
   {
    "duration": 4,
    "start_time": "2022-07-22T19:25:12.325Z"
   },
   {
    "duration": 16,
    "start_time": "2022-07-22T19:25:12.330Z"
   },
   {
    "duration": 17,
    "start_time": "2022-07-22T19:25:12.349Z"
   },
   {
    "duration": 4,
    "start_time": "2022-07-22T19:25:12.369Z"
   },
   {
    "duration": 5,
    "start_time": "2022-07-22T19:25:12.375Z"
   },
   {
    "duration": 55,
    "start_time": "2022-07-22T19:25:12.382Z"
   },
   {
    "duration": 24,
    "start_time": "2022-07-22T19:25:12.439Z"
   },
   {
    "duration": 7,
    "start_time": "2022-07-22T19:25:12.464Z"
   },
   {
    "duration": 21,
    "start_time": "2022-07-22T19:25:12.473Z"
   },
   {
    "duration": 34,
    "start_time": "2022-07-22T19:25:12.496Z"
   },
   {
    "duration": 10,
    "start_time": "2022-07-22T19:25:12.531Z"
   },
   {
    "duration": 15,
    "start_time": "2022-07-22T19:25:12.542Z"
   },
   {
    "duration": 96,
    "start_time": "2022-07-22T19:25:12.559Z"
   },
   {
    "duration": 24,
    "start_time": "2022-07-22T19:25:12.656Z"
   },
   {
    "duration": 878,
    "start_time": "2022-07-22T19:25:12.681Z"
   },
   {
    "duration": 190,
    "start_time": "2022-07-22T19:25:13.561Z"
   },
   {
    "duration": 889,
    "start_time": "2022-07-22T19:25:13.753Z"
   },
   {
    "duration": 182,
    "start_time": "2022-07-22T19:25:14.644Z"
   },
   {
    "duration": 1038,
    "start_time": "2022-07-22T19:25:14.828Z"
   },
   {
    "duration": 176,
    "start_time": "2022-07-22T19:25:15.867Z"
   },
   {
    "duration": 486,
    "start_time": "2022-07-22T19:25:16.045Z"
   },
   {
    "duration": 10,
    "start_time": "2022-07-22T19:25:16.533Z"
   },
   {
    "duration": 19,
    "start_time": "2022-07-22T19:25:16.545Z"
   },
   {
    "duration": 9,
    "start_time": "2022-07-22T19:25:16.565Z"
   },
   {
    "duration": 20,
    "start_time": "2022-07-22T19:25:16.576Z"
   },
   {
    "duration": 986,
    "start_time": "2022-07-22T19:25:16.597Z"
   },
   {
    "duration": 157,
    "start_time": "2022-07-22T19:25:17.585Z"
   },
   {
    "duration": 11,
    "start_time": "2022-07-22T19:25:17.744Z"
   },
   {
    "duration": 10,
    "start_time": "2022-07-22T19:25:17.757Z"
   },
   {
    "duration": 7,
    "start_time": "2022-07-22T19:25:17.769Z"
   },
   {
    "duration": 52,
    "start_time": "2022-07-22T19:25:17.779Z"
   },
   {
    "duration": 22,
    "start_time": "2022-07-22T19:25:17.833Z"
   },
   {
    "duration": 9,
    "start_time": "2022-07-22T19:25:17.857Z"
   },
   {
    "duration": 20,
    "start_time": "2022-07-22T19:25:17.867Z"
   },
   {
    "duration": 5,
    "start_time": "2022-07-22T19:25:17.888Z"
   },
   {
    "duration": 7,
    "start_time": "2022-07-22T19:25:17.895Z"
   },
   {
    "duration": 8399,
    "start_time": "2022-07-22T19:25:17.924Z"
   },
   {
    "duration": 2606,
    "start_time": "2022-07-22T19:25:26.330Z"
   },
   {
    "duration": 28166,
    "start_time": "2022-07-22T19:25:28.939Z"
   },
   {
    "duration": 442,
    "start_time": "2022-07-22T19:25:57.107Z"
   },
   {
    "duration": 176996,
    "start_time": "2022-07-22T19:25:57.551Z"
   },
   {
    "duration": 97935,
    "start_time": "2022-07-22T19:28:54.549Z"
   },
   {
    "duration": 8,
    "start_time": "2022-07-22T19:30:32.485Z"
   },
   {
    "duration": 6,
    "start_time": "2022-07-22T19:30:32.495Z"
   },
   {
    "duration": 27,
    "start_time": "2022-07-22T19:30:32.502Z"
   },
   {
    "duration": 4575,
    "start_time": "2022-07-22T23:10:06.900Z"
   },
   {
    "duration": 131,
    "start_time": "2022-07-22T23:12:11.685Z"
   },
   {
    "duration": 21,
    "start_time": "2022-07-22T23:12:35.314Z"
   },
   {
    "duration": 23,
    "start_time": "2022-07-22T23:12:37.694Z"
   },
   {
    "duration": 13,
    "start_time": "2022-07-22T23:12:46.886Z"
   },
   {
    "duration": 12,
    "start_time": "2022-07-22T23:13:05.247Z"
   },
   {
    "duration": 24,
    "start_time": "2022-07-22T23:13:15.615Z"
   },
   {
    "duration": 14,
    "start_time": "2022-07-22T23:13:33.176Z"
   },
   {
    "duration": 20,
    "start_time": "2022-07-22T23:14:29.882Z"
   },
   {
    "duration": 14,
    "start_time": "2022-07-22T23:14:34.127Z"
   },
   {
    "duration": 20,
    "start_time": "2022-07-22T23:14:47.225Z"
   },
   {
    "duration": 11,
    "start_time": "2022-07-22T23:14:49.077Z"
   },
   {
    "duration": 3,
    "start_time": "2022-07-22T23:15:23.102Z"
   },
   {
    "duration": 13,
    "start_time": "2022-07-22T23:15:59.699Z"
   },
   {
    "duration": 13,
    "start_time": "2022-07-22T23:16:20.035Z"
   },
   {
    "duration": 11,
    "start_time": "2022-07-23T11:53:26.503Z"
   },
   {
    "duration": 4757,
    "start_time": "2022-07-23T11:53:35.641Z"
   },
   {
    "duration": 17,
    "start_time": "2022-07-23T11:53:42.236Z"
   },
   {
    "duration": 234,
    "start_time": "2022-07-23T11:53:44.862Z"
   },
   {
    "duration": 2,
    "start_time": "2022-07-23T11:53:53.717Z"
   },
   {
    "duration": 3,
    "start_time": "2022-07-23T11:53:54.556Z"
   },
   {
    "duration": 15,
    "start_time": "2022-07-23T11:53:55.841Z"
   },
   {
    "duration": 5,
    "start_time": "2022-07-23T11:53:57.888Z"
   },
   {
    "duration": 5,
    "start_time": "2022-07-23T11:53:59.680Z"
   },
   {
    "duration": 30,
    "start_time": "2022-07-23T11:54:01.947Z"
   },
   {
    "duration": 26,
    "start_time": "2022-07-23T11:54:03.974Z"
   },
   {
    "duration": 7,
    "start_time": "2022-07-23T11:54:08.743Z"
   },
   {
    "duration": 20,
    "start_time": "2022-07-23T11:54:09.372Z"
   },
   {
    "duration": 12,
    "start_time": "2022-07-23T11:54:11.256Z"
   },
   {
    "duration": 8,
    "start_time": "2022-07-23T11:54:12.903Z"
   },
   {
    "duration": 7,
    "start_time": "2022-07-23T11:54:15.437Z"
   },
   {
    "duration": 79,
    "start_time": "2022-07-23T11:54:17.243Z"
   },
   {
    "duration": 25,
    "start_time": "2022-07-23T11:54:17.864Z"
   },
   {
    "duration": 5,
    "start_time": "2022-07-23T11:54:20.590Z"
   },
   {
    "duration": 1418,
    "start_time": "2022-07-23T11:54:46.805Z"
   },
   {
    "duration": 1353,
    "start_time": "2022-07-23T11:55:30.086Z"
   },
   {
    "duration": 1377,
    "start_time": "2022-07-23T11:55:48.984Z"
   },
   {
    "duration": 457,
    "start_time": "2022-07-23T11:59:26.314Z"
   },
   {
    "duration": 7,
    "start_time": "2022-07-23T11:59:28.987Z"
   },
   {
    "duration": 111,
    "start_time": "2022-07-23T13:07:36.096Z"
   },
   {
    "duration": 13,
    "start_time": "2022-07-23T13:07:39.634Z"
   },
   {
    "duration": 10,
    "start_time": "2022-07-23T13:07:40.367Z"
   },
   {
    "duration": 21,
    "start_time": "2022-07-23T13:07:41.505Z"
   },
   {
    "duration": 1271,
    "start_time": "2022-07-23T13:07:42.613Z"
   },
   {
    "duration": 155,
    "start_time": "2022-07-23T13:07:46.997Z"
   },
   {
    "duration": 165,
    "start_time": "2022-07-23T13:07:52.529Z"
   },
   {
    "duration": 9,
    "start_time": "2022-07-23T13:31:58.530Z"
   },
   {
    "duration": 10,
    "start_time": "2022-07-23T13:32:02.095Z"
   },
   {
    "duration": 11,
    "start_time": "2022-07-23T13:32:03.430Z"
   },
   {
    "duration": 4,
    "start_time": "2022-07-23T13:32:04.599Z"
   },
   {
    "duration": 24,
    "start_time": "2022-07-23T13:32:06.114Z"
   },
   {
    "duration": 29,
    "start_time": "2022-07-23T13:32:06.946Z"
   },
   {
    "duration": 8,
    "start_time": "2022-07-23T13:32:08.283Z"
   },
   {
    "duration": 19,
    "start_time": "2022-07-23T13:32:09.131Z"
   },
   {
    "duration": 5,
    "start_time": "2022-07-23T13:32:12.882Z"
   },
   {
    "duration": 3,
    "start_time": "2022-07-23T13:32:14.189Z"
   },
   {
    "duration": 6259,
    "start_time": "2022-07-23T13:32:18.015Z"
   },
   {
    "duration": 13420,
    "start_time": "2022-07-23T13:35:38.516Z"
   },
   {
    "duration": 3643,
    "start_time": "2022-07-23T13:36:48.843Z"
   },
   {
    "duration": 27273,
    "start_time": "2022-07-23T13:37:06.455Z"
   },
   {
    "duration": 6027,
    "start_time": "2022-07-23T13:45:25.549Z"
   },
   {
    "duration": 1823,
    "start_time": "2022-07-23T13:46:18.572Z"
   },
   {
    "duration": 47,
    "start_time": "2022-07-23T13:46:21.817Z"
   },
   {
    "duration": 303689,
    "start_time": "2022-07-23T13:46:50.197Z"
   },
   {
    "duration": 381018,
    "start_time": "2022-07-23T13:52:11.630Z"
   },
   {
    "duration": 15,
    "start_time": "2022-07-23T14:10:37.845Z"
   },
   {
    "duration": 13,
    "start_time": "2022-07-23T14:10:45.738Z"
   },
   {
    "duration": 10,
    "start_time": "2022-07-23T14:11:05.608Z"
   },
   {
    "duration": 2945,
    "start_time": "2022-07-23T14:12:08.163Z"
   },
   {
    "duration": 11,
    "start_time": "2022-07-23T14:12:33.339Z"
   },
   {
    "duration": 11,
    "start_time": "2022-07-23T14:14:55.442Z"
   },
   {
    "duration": 5,
    "start_time": "2022-07-23T14:16:01.097Z"
   },
   {
    "duration": 7,
    "start_time": "2022-07-23T14:16:02.079Z"
   },
   {
    "duration": 5911,
    "start_time": "2022-07-23T17:28:34.337Z"
   },
   {
    "duration": 36,
    "start_time": "2022-07-23T17:28:41.131Z"
   },
   {
    "duration": 367,
    "start_time": "2022-07-23T17:28:42.460Z"
   },
   {
    "duration": 13,
    "start_time": "2022-07-23T17:28:45.575Z"
   },
   {
    "duration": 18,
    "start_time": "2022-07-23T17:28:46.385Z"
   },
   {
    "duration": 220,
    "start_time": "2022-07-23T17:28:47.165Z"
   },
   {
    "duration": 12,
    "start_time": "2022-07-23T17:28:48.126Z"
   },
   {
    "duration": 25,
    "start_time": "2022-07-23T17:28:48.965Z"
   },
   {
    "duration": 375,
    "start_time": "2022-07-23T17:28:50.155Z"
   },
   {
    "duration": 21,
    "start_time": "2022-07-23T17:29:01.048Z"
   },
   {
    "duration": 321,
    "start_time": "2022-07-23T17:29:29.432Z"
   },
   {
    "duration": 355,
    "start_time": "2022-07-23T17:29:36.383Z"
   },
   {
    "duration": 3,
    "start_time": "2022-07-23T17:35:51.791Z"
   },
   {
    "duration": 338,
    "start_time": "2022-07-23T17:35:53.105Z"
   },
   {
    "duration": 938,
    "start_time": "2022-07-23T17:36:10.353Z"
   },
   {
    "duration": 18,
    "start_time": "2022-07-23T17:36:13.287Z"
   },
   {
    "duration": 346,
    "start_time": "2022-07-23T17:36:13.677Z"
   },
   {
    "duration": 13,
    "start_time": "2022-07-23T17:36:14.025Z"
   },
   {
    "duration": 21,
    "start_time": "2022-07-23T17:36:14.440Z"
   },
   {
    "duration": 163,
    "start_time": "2022-07-23T17:36:15.852Z"
   },
   {
    "duration": 8,
    "start_time": "2022-07-23T17:36:16.585Z"
   },
   {
    "duration": 407,
    "start_time": "2022-07-23T17:36:31.836Z"
   },
   {
    "duration": 3030,
    "start_time": "2022-07-23T17:36:51.171Z"
   },
   {
    "duration": 28,
    "start_time": "2022-07-23T17:36:54.204Z"
   },
   {
    "duration": 306,
    "start_time": "2022-07-23T17:36:54.337Z"
   },
   {
    "duration": 12,
    "start_time": "2022-07-23T17:36:54.645Z"
   },
   {
    "duration": 22,
    "start_time": "2022-07-23T17:36:55.457Z"
   },
   {
    "duration": 209,
    "start_time": "2022-07-23T17:36:56.280Z"
   },
   {
    "duration": 12,
    "start_time": "2022-07-23T17:37:06.132Z"
   },
   {
    "duration": 26,
    "start_time": "2022-07-23T17:37:06.952Z"
   },
   {
    "duration": 352,
    "start_time": "2022-07-23T17:37:08.094Z"
   },
   {
    "duration": 7,
    "start_time": "2022-07-23T17:40:03.136Z"
   }
  ],
  "kernelspec": {
   "display_name": "Python 3 (ipykernel)",
   "language": "python",
   "name": "python3"
  },
  "language_info": {
   "codemirror_mode": {
    "name": "ipython",
    "version": 3
   },
   "file_extension": ".py",
   "mimetype": "text/x-python",
   "name": "python",
   "nbconvert_exporter": "python",
   "pygments_lexer": "ipython3",
   "version": "3.9.12"
  },
  "toc": {
   "base_numbering": 1,
   "nav_menu": {},
   "number_sections": true,
   "sideBar": true,
   "skip_h1_title": true,
   "title_cell": "Table of Contents",
   "title_sidebar": "Contents",
   "toc_cell": true,
   "toc_position": {
    "height": "calc(100% - 180px)",
    "left": "10px",
    "top": "150px",
    "width": "287.567px"
   },
   "toc_section_display": true,
   "toc_window_display": true
  }
 },
 "nbformat": 4,
 "nbformat_minor": 2
}
