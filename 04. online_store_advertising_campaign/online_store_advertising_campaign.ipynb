{
 "cells": [
  {
   "cell_type": "markdown",
   "metadata": {
    "toc": true
   },
   "source": [
    "<h1>Table of Contents<span class=\"tocSkip\"></span></h1>\n",
    "<div class=\"toc\"><ul class=\"toc-item\"><li><span><a href=\"#Data-Review\" data-toc-modified-id=\"Data-Review-1\"><span class=\"toc-item-num\">1&nbsp;&nbsp;</span>Data Review</a></span><ul class=\"toc-item\"><li><span><a href=\"#Conclusion\" data-toc-modified-id=\"Conclusion-1.1\"><span class=\"toc-item-num\">1.1&nbsp;&nbsp;</span>Conclusion</a></span></li></ul></li><li><span><a href=\"#Data-Cleaning\" data-toc-modified-id=\"Data-Cleaning-2\"><span class=\"toc-item-num\">2&nbsp;&nbsp;</span>Data Cleaning</a></span><ul class=\"toc-item\"><li><span><a href=\"#Conclusion\" data-toc-modified-id=\"Conclusion-2.1\"><span class=\"toc-item-num\">2.1&nbsp;&nbsp;</span>Conclusion</a></span></li></ul></li><li><span><a href=\"#Exploratory-Data-Analysis\" data-toc-modified-id=\"Exploratory-Data-Analysis-3\"><span class=\"toc-item-num\">3&nbsp;&nbsp;</span>Exploratory Data Analysis</a></span><ul class=\"toc-item\"><li><span><a href=\"#Analysis-of-the-number-of-released-games-by-year\" data-toc-modified-id=\"Analysis-of-the-number-of-released-games-by-year-3.1\"><span class=\"toc-item-num\">3.1&nbsp;&nbsp;</span>Analysis of the number of released games by year</a></span></li><li><span><a href=\"#Sales-analysis-by-platform\" data-toc-modified-id=\"Sales-analysis-by-platform-3.2\"><span class=\"toc-item-num\">3.2&nbsp;&nbsp;</span>Sales analysis by platform</a></span></li><li><span><a href=\"#Correct-timeframe\" data-toc-modified-id=\"Correct-timeframe-3.3\"><span class=\"toc-item-num\">3.3&nbsp;&nbsp;</span>Correct timeframe</a></span></li><li><span><a href=\"#Potentially-profitable-platforms\" data-toc-modified-id=\"Potentially-profitable-platforms-3.4\"><span class=\"toc-item-num\">3.4&nbsp;&nbsp;</span>Potentially profitable platforms</a></span></li><li><span><a href=\"#Analysis-of-global-game-sales-by-platform\" data-toc-modified-id=\"Analysis-of-global-game-sales-by-platform-3.5\"><span class=\"toc-item-num\">3.5&nbsp;&nbsp;</span>Analysis of global game sales by platform</a></span></li><li><span><a href=\"#The-impact-of-user-reviews-and-critics-on-sales\" data-toc-modified-id=\"The-impact-of-user-reviews-and-critics-on-sales-3.6\"><span class=\"toc-item-num\">3.6&nbsp;&nbsp;</span>The impact of user reviews and critics on sales</a></span></li><li><span><a href=\"#Analysis-of-the-distribution-of-games-by-genre\" data-toc-modified-id=\"Analysis-of-the-distribution-of-games-by-genre-3.7\"><span class=\"toc-item-num\">3.7&nbsp;&nbsp;</span>Analysis of the distribution of games by genre</a></span></li></ul></li><li><span><a href=\"#User-profile-of-each-region\" data-toc-modified-id=\"User-profile-of-each-region-4\"><span class=\"toc-item-num\">4&nbsp;&nbsp;</span>User profile of each region</a></span><ul class=\"toc-item\"><li><span><a href=\"#Most-popular-platforms-(top-5)\" data-toc-modified-id=\"Most-popular-platforms-(top-5)-4.1\"><span class=\"toc-item-num\">4.1&nbsp;&nbsp;</span>Most popular platforms (top 5)</a></span></li><li><span><a href=\"#Most-popular-genres-(top-5)\" data-toc-modified-id=\"Most-popular-genres-(top-5)-4.2\"><span class=\"toc-item-num\">4.2&nbsp;&nbsp;</span>Most popular genres (top 5)</a></span></li><li><span><a href=\"#The-impact-of-the-ESRB-rating-on-sales-in-a-particular-region\" data-toc-modified-id=\"The-impact-of-the-ESRB-rating-on-sales-in-a-particular-region-4.3\"><span class=\"toc-item-num\">4.3&nbsp;&nbsp;</span>The impact of the ESRB rating on sales in a particular region</a></span></li></ul></li><li><span><a href=\"#Hypothesis-testing\" data-toc-modified-id=\"Hypothesis-testing-5\"><span class=\"toc-item-num\">5&nbsp;&nbsp;</span>Hypothesis testing</a></span><ul class=\"toc-item\"><li><span><a href=\"#Hypothesis-1\" data-toc-modified-id=\"Hypothesis-1-5.1\"><span class=\"toc-item-num\">5.1&nbsp;&nbsp;</span>Hypothesis 1</a></span></li><li><span><a href=\"#Conclusion-1\" data-toc-modified-id=\"Conclusion-1-5.2\"><span class=\"toc-item-num\">5.2&nbsp;&nbsp;</span>Conclusion 1</a></span></li><li><span><a href=\"#Hypothesis-2\" data-toc-modified-id=\"Hypothesis-2-5.3\"><span class=\"toc-item-num\">5.3&nbsp;&nbsp;</span>Hypothesis 2</a></span></li><li><span><a href=\"#Conclusion-2\" data-toc-modified-id=\"Conclusion-2-5.4\"><span class=\"toc-item-num\">5.4&nbsp;&nbsp;</span>Conclusion 2</a></span></li></ul></li><li><span><a href=\"#Conclusion\" data-toc-modified-id=\"Conclusion-6\"><span class=\"toc-item-num\">6&nbsp;&nbsp;</span>Conclusion</a></span></li></ul></div>"
   ]
  },
  {
   "cell_type": "markdown",
   "metadata": {},
   "source": [
    "You work in the `Strimchik` online store, which sells computer games all over the world. Historical sales data, user and expert ratings, genres and platforms (such as Xbox or PlayStation) are available from public sources. You need to identify the patterns that determine the success of the game. This will allow you to bid on a potentially popular product and plan advertising campaigns.\n",
    "\n",
    "Here is the data up to 2016. Let's say it's December 2016 and you're planning a campaign for 2017. It is necessary to work out the principle of working with data. It doesn't matter if you're forecasting 2017 sales based on 2016 data or 2027 sales based on 2026 data.\n",
    "\n",
    "The abbreviation ESRB (Entertainment Software Rating Board) comes across in the data set - this is an association that determines the age rating of computer games. The ESRB evaluates game content and assigns it to an appropriate age rating, such as Mature, Toddler, or Teen.  \n",
    "\n",
    "**The purpose of the project:** To identify the patterns that determine the success of the game and determine the factors for planning advertising campaigns.\n",
    "\n",
    "The project will take place in five stages:\n",
    "\n",
    "    Data review.\n",
    "    Data preprocessing.\n",
    "    Exploratory Data Analysis.\n",
    "    Determine user profiles of different regions.\n",
    "    Hypothesis testing."
   ]
  },
  {
   "cell_type": "markdown",
   "metadata": {},
   "source": [
    "## Data Review"
   ]
  },
  {
   "cell_type": "code",
   "execution_count": 1,
   "metadata": {},
   "outputs": [],
   "source": [
    "import pandas as pd\n",
    "from scipy import stats as st\n",
    "import numpy as np\n",
    "import matplotlib.pyplot as plt\n",
    "import seaborn as sns\n",
    "\n",
    "try:\n",
    "    df = pd.read_csv('games.csv')\n",
    "except:\n",
    "    print('Something is wrong')"
   ]
  },
  {
   "cell_type": "code",
   "execution_count": 2,
   "metadata": {},
   "outputs": [
    {
     "data": {
      "text/html": [
       "<div>\n",
       "<style scoped>\n",
       "    .dataframe tbody tr th:only-of-type {\n",
       "        vertical-align: middle;\n",
       "    }\n",
       "\n",
       "    .dataframe tbody tr th {\n",
       "        vertical-align: top;\n",
       "    }\n",
       "\n",
       "    .dataframe thead th {\n",
       "        text-align: right;\n",
       "    }\n",
       "</style>\n",
       "<table border=\"1\" class=\"dataframe\">\n",
       "  <thead>\n",
       "    <tr style=\"text-align: right;\">\n",
       "      <th></th>\n",
       "      <th>Name</th>\n",
       "      <th>Platform</th>\n",
       "      <th>Year_of_Release</th>\n",
       "      <th>Genre</th>\n",
       "      <th>NA_sales</th>\n",
       "      <th>EU_sales</th>\n",
       "      <th>JP_sales</th>\n",
       "      <th>Other_sales</th>\n",
       "      <th>Critic_Score</th>\n",
       "      <th>User_Score</th>\n",
       "      <th>Rating</th>\n",
       "    </tr>\n",
       "  </thead>\n",
       "  <tbody>\n",
       "    <tr>\n",
       "      <th>0</th>\n",
       "      <td>Wii Sports</td>\n",
       "      <td>Wii</td>\n",
       "      <td>2006.0</td>\n",
       "      <td>Sports</td>\n",
       "      <td>41.36</td>\n",
       "      <td>28.96</td>\n",
       "      <td>3.77</td>\n",
       "      <td>8.45</td>\n",
       "      <td>76.0</td>\n",
       "      <td>8</td>\n",
       "      <td>E</td>\n",
       "    </tr>\n",
       "    <tr>\n",
       "      <th>1</th>\n",
       "      <td>Super Mario Bros.</td>\n",
       "      <td>NES</td>\n",
       "      <td>1985.0</td>\n",
       "      <td>Platform</td>\n",
       "      <td>29.08</td>\n",
       "      <td>3.58</td>\n",
       "      <td>6.81</td>\n",
       "      <td>0.77</td>\n",
       "      <td>NaN</td>\n",
       "      <td>NaN</td>\n",
       "      <td>NaN</td>\n",
       "    </tr>\n",
       "    <tr>\n",
       "      <th>2</th>\n",
       "      <td>Mario Kart Wii</td>\n",
       "      <td>Wii</td>\n",
       "      <td>2008.0</td>\n",
       "      <td>Racing</td>\n",
       "      <td>15.68</td>\n",
       "      <td>12.76</td>\n",
       "      <td>3.79</td>\n",
       "      <td>3.29</td>\n",
       "      <td>82.0</td>\n",
       "      <td>8.3</td>\n",
       "      <td>E</td>\n",
       "    </tr>\n",
       "    <tr>\n",
       "      <th>3</th>\n",
       "      <td>Wii Sports Resort</td>\n",
       "      <td>Wii</td>\n",
       "      <td>2009.0</td>\n",
       "      <td>Sports</td>\n",
       "      <td>15.61</td>\n",
       "      <td>10.93</td>\n",
       "      <td>3.28</td>\n",
       "      <td>2.95</td>\n",
       "      <td>80.0</td>\n",
       "      <td>8</td>\n",
       "      <td>E</td>\n",
       "    </tr>\n",
       "    <tr>\n",
       "      <th>4</th>\n",
       "      <td>Pokemon Red/Pokemon Blue</td>\n",
       "      <td>GB</td>\n",
       "      <td>1996.0</td>\n",
       "      <td>Role-Playing</td>\n",
       "      <td>11.27</td>\n",
       "      <td>8.89</td>\n",
       "      <td>10.22</td>\n",
       "      <td>1.00</td>\n",
       "      <td>NaN</td>\n",
       "      <td>NaN</td>\n",
       "      <td>NaN</td>\n",
       "    </tr>\n",
       "  </tbody>\n",
       "</table>\n",
       "</div>"
      ],
      "text/plain": [
       "                       Name Platform  Year_of_Release         Genre  NA_sales  \\\n",
       "0                Wii Sports      Wii           2006.0        Sports     41.36   \n",
       "1         Super Mario Bros.      NES           1985.0      Platform     29.08   \n",
       "2            Mario Kart Wii      Wii           2008.0        Racing     15.68   \n",
       "3         Wii Sports Resort      Wii           2009.0        Sports     15.61   \n",
       "4  Pokemon Red/Pokemon Blue       GB           1996.0  Role-Playing     11.27   \n",
       "\n",
       "   EU_sales  JP_sales  Other_sales  Critic_Score User_Score Rating  \n",
       "0     28.96      3.77         8.45          76.0          8      E  \n",
       "1      3.58      6.81         0.77           NaN        NaN    NaN  \n",
       "2     12.76      3.79         3.29          82.0        8.3      E  \n",
       "3     10.93      3.28         2.95          80.0          8      E  \n",
       "4      8.89     10.22         1.00           NaN        NaN    NaN  "
      ]
     },
     "execution_count": 2,
     "metadata": {},
     "output_type": "execute_result"
    }
   ],
   "source": [
    "df.head(5)"
   ]
  },
  {
   "cell_type": "code",
   "execution_count": 3,
   "metadata": {},
   "outputs": [
    {
     "name": "stdout",
     "output_type": "stream",
     "text": [
      "<class 'pandas.core.frame.DataFrame'>\n",
      "RangeIndex: 16715 entries, 0 to 16714\n",
      "Data columns (total 11 columns):\n",
      " #   Column           Non-Null Count  Dtype  \n",
      "---  ------           --------------  -----  \n",
      " 0   Name             16713 non-null  object \n",
      " 1   Platform         16715 non-null  object \n",
      " 2   Year_of_Release  16446 non-null  float64\n",
      " 3   Genre            16713 non-null  object \n",
      " 4   NA_sales         16715 non-null  float64\n",
      " 5   EU_sales         16715 non-null  float64\n",
      " 6   JP_sales         16715 non-null  float64\n",
      " 7   Other_sales      16715 non-null  float64\n",
      " 8   Critic_Score     8137 non-null   float64\n",
      " 9   User_Score       10014 non-null  object \n",
      " 10  Rating           9949 non-null   object \n",
      "dtypes: float64(6), object(5)\n",
      "memory usage: 1.4+ MB\n"
     ]
    }
   ],
   "source": [
    "df.info()"
   ]
  },
  {
   "cell_type": "markdown",
   "metadata": {},
   "source": [
    "So, we have five tables with data.\n",
    "\n",
    "According to the data documentation:\n",
    "\n",
    "* `Name` - the name of the game\n",
    "* `Platform` — platform\n",
    "* `Year_of_Release` - the year of release\n",
    "* `Genre` - the game genre\n",
    "* `NA_sales` - sales in North America (millions of copies sold)\n",
    "* `EU_sales` - sales in Europe (millions of copies sold)\n",
    "* `JP_sales` - sales in Japan (millions of copies sold)\n",
    "* `Other_sales` - sales in other countries (millions of copies sold)\n",
    "* `Critic_Score` - score of critics (maximum 100)\n",
    "* `User_Score` - user score (maximum 10)\n",
    "* `Rating` — rating from the ESRB (Entertainment Software Rating Board). This association determines the rating of computer games and assigns them an appropriate age category."
   ]
  },
  {
   "cell_type": "markdown",
   "metadata": {},
   "source": [
    "### Conclusion"
   ]
  },
  {
   "cell_type": "markdown",
   "metadata": {},
   "source": [
    "Each row in the `games` table contains game titles, sales data, user and expert ratings, genres, and platforms.\n",
    "\n",
    "Preliminarily, we can suggest that there is enough data for the analysis and testing of hypotheses. We noted that there are errors in the data and the data types in some tables don't have a necessary format.\n",
    "\n",
    "To move forward, you need to fix problems in the data."
   ]
  },
  {
   "cell_type": "markdown",
   "metadata": {},
   "source": [
    "## Data Cleaning"
   ]
  },
  {
   "cell_type": "markdown",
   "metadata": {},
   "source": [
    "To begin with, let's bring the names of the columns to lowercase for convenience."
   ]
  },
  {
   "cell_type": "code",
   "execution_count": 4,
   "metadata": {},
   "outputs": [],
   "source": [
    "df.columns = df.columns.str.lower()"
   ]
  },
  {
   "cell_type": "code",
   "execution_count": 5,
   "metadata": {},
   "outputs": [
    {
     "data": {
      "text/html": [
       "<div>\n",
       "<style scoped>\n",
       "    .dataframe tbody tr th:only-of-type {\n",
       "        vertical-align: middle;\n",
       "    }\n",
       "\n",
       "    .dataframe tbody tr th {\n",
       "        vertical-align: top;\n",
       "    }\n",
       "\n",
       "    .dataframe thead th {\n",
       "        text-align: right;\n",
       "    }\n",
       "</style>\n",
       "<table border=\"1\" class=\"dataframe\">\n",
       "  <thead>\n",
       "    <tr style=\"text-align: right;\">\n",
       "      <th></th>\n",
       "      <th>name</th>\n",
       "      <th>platform</th>\n",
       "      <th>year_of_release</th>\n",
       "      <th>genre</th>\n",
       "      <th>na_sales</th>\n",
       "      <th>eu_sales</th>\n",
       "      <th>jp_sales</th>\n",
       "      <th>other_sales</th>\n",
       "      <th>critic_score</th>\n",
       "      <th>user_score</th>\n",
       "      <th>rating</th>\n",
       "    </tr>\n",
       "  </thead>\n",
       "  <tbody>\n",
       "    <tr>\n",
       "      <th>0</th>\n",
       "      <td>Wii Sports</td>\n",
       "      <td>Wii</td>\n",
       "      <td>2006.0</td>\n",
       "      <td>Sports</td>\n",
       "      <td>41.36</td>\n",
       "      <td>28.96</td>\n",
       "      <td>3.77</td>\n",
       "      <td>8.45</td>\n",
       "      <td>76.0</td>\n",
       "      <td>8</td>\n",
       "      <td>E</td>\n",
       "    </tr>\n",
       "    <tr>\n",
       "      <th>1</th>\n",
       "      <td>Super Mario Bros.</td>\n",
       "      <td>NES</td>\n",
       "      <td>1985.0</td>\n",
       "      <td>Platform</td>\n",
       "      <td>29.08</td>\n",
       "      <td>3.58</td>\n",
       "      <td>6.81</td>\n",
       "      <td>0.77</td>\n",
       "      <td>NaN</td>\n",
       "      <td>NaN</td>\n",
       "      <td>NaN</td>\n",
       "    </tr>\n",
       "    <tr>\n",
       "      <th>2</th>\n",
       "      <td>Mario Kart Wii</td>\n",
       "      <td>Wii</td>\n",
       "      <td>2008.0</td>\n",
       "      <td>Racing</td>\n",
       "      <td>15.68</td>\n",
       "      <td>12.76</td>\n",
       "      <td>3.79</td>\n",
       "      <td>3.29</td>\n",
       "      <td>82.0</td>\n",
       "      <td>8.3</td>\n",
       "      <td>E</td>\n",
       "    </tr>\n",
       "    <tr>\n",
       "      <th>3</th>\n",
       "      <td>Wii Sports Resort</td>\n",
       "      <td>Wii</td>\n",
       "      <td>2009.0</td>\n",
       "      <td>Sports</td>\n",
       "      <td>15.61</td>\n",
       "      <td>10.93</td>\n",
       "      <td>3.28</td>\n",
       "      <td>2.95</td>\n",
       "      <td>80.0</td>\n",
       "      <td>8</td>\n",
       "      <td>E</td>\n",
       "    </tr>\n",
       "    <tr>\n",
       "      <th>4</th>\n",
       "      <td>Pokemon Red/Pokemon Blue</td>\n",
       "      <td>GB</td>\n",
       "      <td>1996.0</td>\n",
       "      <td>Role-Playing</td>\n",
       "      <td>11.27</td>\n",
       "      <td>8.89</td>\n",
       "      <td>10.22</td>\n",
       "      <td>1.00</td>\n",
       "      <td>NaN</td>\n",
       "      <td>NaN</td>\n",
       "      <td>NaN</td>\n",
       "    </tr>\n",
       "  </tbody>\n",
       "</table>\n",
       "</div>"
      ],
      "text/plain": [
       "                       name platform  year_of_release         genre  na_sales  \\\n",
       "0                Wii Sports      Wii           2006.0        Sports     41.36   \n",
       "1         Super Mario Bros.      NES           1985.0      Platform     29.08   \n",
       "2            Mario Kart Wii      Wii           2008.0        Racing     15.68   \n",
       "3         Wii Sports Resort      Wii           2009.0        Sports     15.61   \n",
       "4  Pokemon Red/Pokemon Blue       GB           1996.0  Role-Playing     11.27   \n",
       "\n",
       "   eu_sales  jp_sales  other_sales  critic_score user_score rating  \n",
       "0     28.96      3.77         8.45          76.0          8      E  \n",
       "1      3.58      6.81         0.77           NaN        NaN    NaN  \n",
       "2     12.76      3.79         3.29          82.0        8.3      E  \n",
       "3     10.93      3.28         2.95          80.0          8      E  \n",
       "4      8.89     10.22         1.00           NaN        NaN    NaN  "
      ]
     },
     "execution_count": 5,
     "metadata": {},
     "output_type": "execute_result"
    }
   ],
   "source": [
    "df.head(5)"
   ]
  },
  {
   "cell_type": "code",
   "execution_count": 6,
   "metadata": {},
   "outputs": [
    {
     "data": {
      "text/plain": [
       "name                  2\n",
       "platform              0\n",
       "year_of_release     269\n",
       "genre                 2\n",
       "na_sales              0\n",
       "eu_sales              0\n",
       "jp_sales              0\n",
       "other_sales           0\n",
       "critic_score       8578\n",
       "user_score         6701\n",
       "rating             6766\n",
       "dtype: int64"
      ]
     },
     "execution_count": 6,
     "metadata": {},
     "output_type": "execute_result"
    }
   ],
   "source": [
    "df.isna().sum()"
   ]
  },
  {
   "cell_type": "markdown",
   "metadata": {},
   "source": [
    "The `year_of_release`, `name`, and `genre` columns contain missing values that may have resulted from mistyping or technical errors. Since there are only 269 rows with missing values out of 16715 (or 1.6%) and there is no reliable way to restore them, we will have to remove them for further analysis."
   ]
  },
  {
   "cell_type": "code",
   "execution_count": 7,
   "metadata": {},
   "outputs": [],
   "source": [
    "df = df.dropna(subset=['year_of_release', 'name', 'genre'])"
   ]
  },
  {
   "cell_type": "code",
   "execution_count": 8,
   "metadata": {
    "scrolled": false
   },
   "outputs": [
    {
     "data": {
      "text/plain": [
       "name                  0\n",
       "platform              0\n",
       "year_of_release       0\n",
       "genre                 0\n",
       "na_sales              0\n",
       "eu_sales              0\n",
       "jp_sales              0\n",
       "other_sales           0\n",
       "critic_score       8461\n",
       "user_score         6605\n",
       "rating             6676\n",
       "dtype: int64"
      ]
     },
     "execution_count": 8,
     "metadata": {},
     "output_type": "execute_result"
    }
   ],
   "source": [
    "df.isna().sum()"
   ]
  },
  {
   "cell_type": "markdown",
   "metadata": {},
   "source": [
    "Next, check for missing values in the `user_score` column. Let's see what unique values are in this column."
   ]
  },
  {
   "cell_type": "code",
   "execution_count": 9,
   "metadata": {
    "scrolled": true
   },
   "outputs": [
    {
     "data": {
      "text/plain": [
       "array(['8', nan, '8.3', '8.5', '6.6', '8.4', '8.6', '7.7', '6.3', '7.4',\n",
       "       '8.2', '9', '7.9', '8.1', '8.7', '7.1', '3.4', '5.3', '4.8', '3.2',\n",
       "       '8.9', '6.4', '7.8', '7.5', '2.6', '7.2', '9.2', '7', '7.3', '4.3',\n",
       "       '7.6', '5.7', '5', '9.1', '6.5', 'tbd', '8.8', '6.9', '9.4', '6.8',\n",
       "       '6.1', '6.7', '5.4', '4', '4.9', '4.5', '9.3', '6.2', '4.2', '6',\n",
       "       '3.7', '4.1', '5.8', '5.6', '5.5', '4.4', '4.6', '5.9', '3.9',\n",
       "       '3.1', '2.9', '5.2', '3.3', '4.7', '5.1', '3.5', '2.5', '1.9', '3',\n",
       "       '2.7', '2.2', '2', '9.5', '2.1', '3.6', '2.8', '1.8', '3.8', '0',\n",
       "       '1.6', '9.6', '2.4', '1.7', '1.1', '0.3', '1.5', '0.7', '1.2',\n",
       "       '2.3', '0.5', '1.3', '0.2', '0.6', '1.4', '0.9', '1', '9.7'],\n",
       "      dtype=object)"
      ]
     },
     "execution_count": 9,
     "metadata": {},
     "output_type": "execute_result"
    }
   ],
   "source": [
    "df['user_score'].unique()"
   ]
  },
  {
   "cell_type": "markdown",
   "metadata": {},
   "source": [
    "We may notice that in addition to values in the range from 0 to 10 and missing values, the column also contains cells with the abbreviation `tbd`, which usually means `To Be Determined`. Typically, this value occurs when the game does not have enough ratings to determine the average user rating. Let's inspect them and check how many rows with `tbd` we have."
   ]
  },
  {
   "cell_type": "code",
   "execution_count": 10,
   "metadata": {},
   "outputs": [
    {
     "data": {
      "text/html": [
       "<div>\n",
       "<style scoped>\n",
       "    .dataframe tbody tr th:only-of-type {\n",
       "        vertical-align: middle;\n",
       "    }\n",
       "\n",
       "    .dataframe tbody tr th {\n",
       "        vertical-align: top;\n",
       "    }\n",
       "\n",
       "    .dataframe thead th {\n",
       "        text-align: right;\n",
       "    }\n",
       "</style>\n",
       "<table border=\"1\" class=\"dataframe\">\n",
       "  <thead>\n",
       "    <tr style=\"text-align: right;\">\n",
       "      <th></th>\n",
       "      <th>name</th>\n",
       "      <th>platform</th>\n",
       "      <th>year_of_release</th>\n",
       "      <th>genre</th>\n",
       "      <th>na_sales</th>\n",
       "      <th>eu_sales</th>\n",
       "      <th>jp_sales</th>\n",
       "      <th>other_sales</th>\n",
       "      <th>critic_score</th>\n",
       "      <th>user_score</th>\n",
       "      <th>rating</th>\n",
       "    </tr>\n",
       "  </thead>\n",
       "  <tbody>\n",
       "    <tr>\n",
       "      <th>119</th>\n",
       "      <td>Zumba Fitness</td>\n",
       "      <td>Wii</td>\n",
       "      <td>2010.0</td>\n",
       "      <td>Sports</td>\n",
       "      <td>3.45</td>\n",
       "      <td>2.59</td>\n",
       "      <td>0.0</td>\n",
       "      <td>0.66</td>\n",
       "      <td>NaN</td>\n",
       "      <td>tbd</td>\n",
       "      <td>E</td>\n",
       "    </tr>\n",
       "    <tr>\n",
       "      <th>301</th>\n",
       "      <td>Namco Museum: 50th Anniversary</td>\n",
       "      <td>PS2</td>\n",
       "      <td>2005.0</td>\n",
       "      <td>Misc</td>\n",
       "      <td>2.08</td>\n",
       "      <td>1.35</td>\n",
       "      <td>0.0</td>\n",
       "      <td>0.54</td>\n",
       "      <td>61.0</td>\n",
       "      <td>tbd</td>\n",
       "      <td>E10+</td>\n",
       "    </tr>\n",
       "    <tr>\n",
       "      <th>520</th>\n",
       "      <td>Zumba Fitness 2</td>\n",
       "      <td>Wii</td>\n",
       "      <td>2011.0</td>\n",
       "      <td>Sports</td>\n",
       "      <td>1.51</td>\n",
       "      <td>1.03</td>\n",
       "      <td>0.0</td>\n",
       "      <td>0.27</td>\n",
       "      <td>NaN</td>\n",
       "      <td>tbd</td>\n",
       "      <td>T</td>\n",
       "    </tr>\n",
       "    <tr>\n",
       "      <th>645</th>\n",
       "      <td>uDraw Studio</td>\n",
       "      <td>Wii</td>\n",
       "      <td>2010.0</td>\n",
       "      <td>Misc</td>\n",
       "      <td>1.65</td>\n",
       "      <td>0.57</td>\n",
       "      <td>0.0</td>\n",
       "      <td>0.20</td>\n",
       "      <td>71.0</td>\n",
       "      <td>tbd</td>\n",
       "      <td>E</td>\n",
       "    </tr>\n",
       "    <tr>\n",
       "      <th>718</th>\n",
       "      <td>Just Dance Kids</td>\n",
       "      <td>Wii</td>\n",
       "      <td>2010.0</td>\n",
       "      <td>Misc</td>\n",
       "      <td>1.52</td>\n",
       "      <td>0.54</td>\n",
       "      <td>0.0</td>\n",
       "      <td>0.18</td>\n",
       "      <td>NaN</td>\n",
       "      <td>tbd</td>\n",
       "      <td>E</td>\n",
       "    </tr>\n",
       "    <tr>\n",
       "      <th>...</th>\n",
       "      <td>...</td>\n",
       "      <td>...</td>\n",
       "      <td>...</td>\n",
       "      <td>...</td>\n",
       "      <td>...</td>\n",
       "      <td>...</td>\n",
       "      <td>...</td>\n",
       "      <td>...</td>\n",
       "      <td>...</td>\n",
       "      <td>...</td>\n",
       "      <td>...</td>\n",
       "    </tr>\n",
       "    <tr>\n",
       "      <th>16695</th>\n",
       "      <td>Planet Monsters</td>\n",
       "      <td>GBA</td>\n",
       "      <td>2001.0</td>\n",
       "      <td>Action</td>\n",
       "      <td>0.01</td>\n",
       "      <td>0.00</td>\n",
       "      <td>0.0</td>\n",
       "      <td>0.00</td>\n",
       "      <td>67.0</td>\n",
       "      <td>tbd</td>\n",
       "      <td>E</td>\n",
       "    </tr>\n",
       "    <tr>\n",
       "      <th>16697</th>\n",
       "      <td>Bust-A-Move 3000</td>\n",
       "      <td>GC</td>\n",
       "      <td>2003.0</td>\n",
       "      <td>Puzzle</td>\n",
       "      <td>0.01</td>\n",
       "      <td>0.00</td>\n",
       "      <td>0.0</td>\n",
       "      <td>0.00</td>\n",
       "      <td>53.0</td>\n",
       "      <td>tbd</td>\n",
       "      <td>E</td>\n",
       "    </tr>\n",
       "    <tr>\n",
       "      <th>16698</th>\n",
       "      <td>Mega Brain Boost</td>\n",
       "      <td>DS</td>\n",
       "      <td>2008.0</td>\n",
       "      <td>Puzzle</td>\n",
       "      <td>0.01</td>\n",
       "      <td>0.00</td>\n",
       "      <td>0.0</td>\n",
       "      <td>0.00</td>\n",
       "      <td>48.0</td>\n",
       "      <td>tbd</td>\n",
       "      <td>E</td>\n",
       "    </tr>\n",
       "    <tr>\n",
       "      <th>16704</th>\n",
       "      <td>Plushees</td>\n",
       "      <td>DS</td>\n",
       "      <td>2008.0</td>\n",
       "      <td>Simulation</td>\n",
       "      <td>0.01</td>\n",
       "      <td>0.00</td>\n",
       "      <td>0.0</td>\n",
       "      <td>0.00</td>\n",
       "      <td>NaN</td>\n",
       "      <td>tbd</td>\n",
       "      <td>E</td>\n",
       "    </tr>\n",
       "    <tr>\n",
       "      <th>16706</th>\n",
       "      <td>Men in Black II: Alien Escape</td>\n",
       "      <td>GC</td>\n",
       "      <td>2003.0</td>\n",
       "      <td>Shooter</td>\n",
       "      <td>0.01</td>\n",
       "      <td>0.00</td>\n",
       "      <td>0.0</td>\n",
       "      <td>0.00</td>\n",
       "      <td>NaN</td>\n",
       "      <td>tbd</td>\n",
       "      <td>T</td>\n",
       "    </tr>\n",
       "  </tbody>\n",
       "</table>\n",
       "<p>2376 rows × 11 columns</p>\n",
       "</div>"
      ],
      "text/plain": [
       "                                 name platform  year_of_release       genre  \\\n",
       "119                     Zumba Fitness      Wii           2010.0      Sports   \n",
       "301    Namco Museum: 50th Anniversary      PS2           2005.0        Misc   \n",
       "520                   Zumba Fitness 2      Wii           2011.0      Sports   \n",
       "645                      uDraw Studio      Wii           2010.0        Misc   \n",
       "718                   Just Dance Kids      Wii           2010.0        Misc   \n",
       "...                               ...      ...              ...         ...   \n",
       "16695                 Planet Monsters      GBA           2001.0      Action   \n",
       "16697                Bust-A-Move 3000       GC           2003.0      Puzzle   \n",
       "16698                Mega Brain Boost       DS           2008.0      Puzzle   \n",
       "16704                        Plushees       DS           2008.0  Simulation   \n",
       "16706   Men in Black II: Alien Escape       GC           2003.0     Shooter   \n",
       "\n",
       "       na_sales  eu_sales  jp_sales  other_sales  critic_score user_score  \\\n",
       "119        3.45      2.59       0.0         0.66           NaN        tbd   \n",
       "301        2.08      1.35       0.0         0.54          61.0        tbd   \n",
       "520        1.51      1.03       0.0         0.27           NaN        tbd   \n",
       "645        1.65      0.57       0.0         0.20          71.0        tbd   \n",
       "718        1.52      0.54       0.0         0.18           NaN        tbd   \n",
       "...         ...       ...       ...          ...           ...        ...   \n",
       "16695      0.01      0.00       0.0         0.00          67.0        tbd   \n",
       "16697      0.01      0.00       0.0         0.00          53.0        tbd   \n",
       "16698      0.01      0.00       0.0         0.00          48.0        tbd   \n",
       "16704      0.01      0.00       0.0         0.00           NaN        tbd   \n",
       "16706      0.01      0.00       0.0         0.00           NaN        tbd   \n",
       "\n",
       "      rating  \n",
       "119        E  \n",
       "301     E10+  \n",
       "520        T  \n",
       "645        E  \n",
       "718        E  \n",
       "...      ...  \n",
       "16695      E  \n",
       "16697      E  \n",
       "16698      E  \n",
       "16704      E  \n",
       "16706      T  \n",
       "\n",
       "[2376 rows x 11 columns]"
      ]
     },
     "execution_count": 10,
     "metadata": {},
     "output_type": "execute_result"
    }
   ],
   "source": [
    "df.loc[df['user_score'] == 'tbd']"
   ]
  },
  {
   "cell_type": "markdown",
   "metadata": {},
   "source": [
    "There are 2376 rows in the data with the value `tbd` in the user rating column. Since this is a fairly large part of the sample, and also taking into account that the data in the remaining columns are present and will be required for further analysis, we will replace the values in these rows with empty ones."
   ]
  },
  {
   "cell_type": "code",
   "execution_count": 11,
   "metadata": {},
   "outputs": [],
   "source": [
    "df['user_score'] = df['user_score'].replace('tbd', np.nan)"
   ]
  },
  {
   "cell_type": "code",
   "execution_count": 12,
   "metadata": {
    "scrolled": true
   },
   "outputs": [
    {
     "data": {
      "text/plain": [
       "name               0.0\n",
       "platform           0.0\n",
       "year_of_release    0.0\n",
       "genre              0.0\n",
       "na_sales           0.0\n",
       "eu_sales           0.0\n",
       "jp_sales           0.0\n",
       "other_sales        0.0\n",
       "critic_score       0.0\n",
       "user_score         0.0\n",
       "rating             0.0\n",
       "dtype: float64"
      ]
     },
     "execution_count": 12,
     "metadata": {},
     "output_type": "execute_result"
    }
   ],
   "source": [
    "df.loc[df['user_score'] == 'tbd'].sum()"
   ]
  },
  {
   "cell_type": "markdown",
   "metadata": {},
   "source": [
    "Let's calculate the total sales in all regions and add them to the `total_sales` column."
   ]
  },
  {
   "cell_type": "code",
   "execution_count": 13,
   "metadata": {},
   "outputs": [],
   "source": [
    "df['total_sales'] = df[['na_sales','eu_sales','jp_sales', 'other_sales']].sum(axis = 1)"
   ]
  },
  {
   "cell_type": "code",
   "execution_count": 14,
   "metadata": {
    "scrolled": false
   },
   "outputs": [
    {
     "data": {
      "text/html": [
       "<div>\n",
       "<style scoped>\n",
       "    .dataframe tbody tr th:only-of-type {\n",
       "        vertical-align: middle;\n",
       "    }\n",
       "\n",
       "    .dataframe tbody tr th {\n",
       "        vertical-align: top;\n",
       "    }\n",
       "\n",
       "    .dataframe thead th {\n",
       "        text-align: right;\n",
       "    }\n",
       "</style>\n",
       "<table border=\"1\" class=\"dataframe\">\n",
       "  <thead>\n",
       "    <tr style=\"text-align: right;\">\n",
       "      <th></th>\n",
       "      <th>name</th>\n",
       "      <th>platform</th>\n",
       "      <th>year_of_release</th>\n",
       "      <th>genre</th>\n",
       "      <th>na_sales</th>\n",
       "      <th>eu_sales</th>\n",
       "      <th>jp_sales</th>\n",
       "      <th>other_sales</th>\n",
       "      <th>critic_score</th>\n",
       "      <th>user_score</th>\n",
       "      <th>rating</th>\n",
       "      <th>total_sales</th>\n",
       "    </tr>\n",
       "  </thead>\n",
       "  <tbody>\n",
       "    <tr>\n",
       "      <th>0</th>\n",
       "      <td>Wii Sports</td>\n",
       "      <td>Wii</td>\n",
       "      <td>2006.0</td>\n",
       "      <td>Sports</td>\n",
       "      <td>41.36</td>\n",
       "      <td>28.96</td>\n",
       "      <td>3.77</td>\n",
       "      <td>8.45</td>\n",
       "      <td>76.0</td>\n",
       "      <td>8</td>\n",
       "      <td>E</td>\n",
       "      <td>82.54</td>\n",
       "    </tr>\n",
       "    <tr>\n",
       "      <th>1</th>\n",
       "      <td>Super Mario Bros.</td>\n",
       "      <td>NES</td>\n",
       "      <td>1985.0</td>\n",
       "      <td>Platform</td>\n",
       "      <td>29.08</td>\n",
       "      <td>3.58</td>\n",
       "      <td>6.81</td>\n",
       "      <td>0.77</td>\n",
       "      <td>NaN</td>\n",
       "      <td>NaN</td>\n",
       "      <td>NaN</td>\n",
       "      <td>40.24</td>\n",
       "    </tr>\n",
       "    <tr>\n",
       "      <th>2</th>\n",
       "      <td>Mario Kart Wii</td>\n",
       "      <td>Wii</td>\n",
       "      <td>2008.0</td>\n",
       "      <td>Racing</td>\n",
       "      <td>15.68</td>\n",
       "      <td>12.76</td>\n",
       "      <td>3.79</td>\n",
       "      <td>3.29</td>\n",
       "      <td>82.0</td>\n",
       "      <td>8.3</td>\n",
       "      <td>E</td>\n",
       "      <td>35.52</td>\n",
       "    </tr>\n",
       "    <tr>\n",
       "      <th>3</th>\n",
       "      <td>Wii Sports Resort</td>\n",
       "      <td>Wii</td>\n",
       "      <td>2009.0</td>\n",
       "      <td>Sports</td>\n",
       "      <td>15.61</td>\n",
       "      <td>10.93</td>\n",
       "      <td>3.28</td>\n",
       "      <td>2.95</td>\n",
       "      <td>80.0</td>\n",
       "      <td>8</td>\n",
       "      <td>E</td>\n",
       "      <td>32.77</td>\n",
       "    </tr>\n",
       "    <tr>\n",
       "      <th>4</th>\n",
       "      <td>Pokemon Red/Pokemon Blue</td>\n",
       "      <td>GB</td>\n",
       "      <td>1996.0</td>\n",
       "      <td>Role-Playing</td>\n",
       "      <td>11.27</td>\n",
       "      <td>8.89</td>\n",
       "      <td>10.22</td>\n",
       "      <td>1.00</td>\n",
       "      <td>NaN</td>\n",
       "      <td>NaN</td>\n",
       "      <td>NaN</td>\n",
       "      <td>31.38</td>\n",
       "    </tr>\n",
       "  </tbody>\n",
       "</table>\n",
       "</div>"
      ],
      "text/plain": [
       "                       name platform  year_of_release         genre  na_sales  \\\n",
       "0                Wii Sports      Wii           2006.0        Sports     41.36   \n",
       "1         Super Mario Bros.      NES           1985.0      Platform     29.08   \n",
       "2            Mario Kart Wii      Wii           2008.0        Racing     15.68   \n",
       "3         Wii Sports Resort      Wii           2009.0        Sports     15.61   \n",
       "4  Pokemon Red/Pokemon Blue       GB           1996.0  Role-Playing     11.27   \n",
       "\n",
       "   eu_sales  jp_sales  other_sales  critic_score user_score rating  \\\n",
       "0     28.96      3.77         8.45          76.0          8      E   \n",
       "1      3.58      6.81         0.77           NaN        NaN    NaN   \n",
       "2     12.76      3.79         3.29          82.0        8.3      E   \n",
       "3     10.93      3.28         2.95          80.0          8      E   \n",
       "4      8.89     10.22         1.00           NaN        NaN    NaN   \n",
       "\n",
       "   total_sales  \n",
       "0        82.54  \n",
       "1        40.24  \n",
       "2        35.52  \n",
       "3        32.77  \n",
       "4        31.38  "
      ]
     },
     "execution_count": 14,
     "metadata": {},
     "output_type": "execute_result"
    }
   ],
   "source": [
    "df.head(5)"
   ]
  },
  {
   "cell_type": "markdown",
   "metadata": {},
   "source": [
    "Also replace the 'K-A' values in the `rating` column with 'E', since the 'K-A' category was changed to 'E' in 1998 and is no longer used."
   ]
  },
  {
   "cell_type": "code",
   "execution_count": 15,
   "metadata": {},
   "outputs": [],
   "source": [
    "df['rating'] = df['rating'].str.replace('K-A', 'E', regex=True)"
   ]
  },
  {
   "cell_type": "markdown",
   "metadata": {},
   "source": [
    "There are many missing values in the `critic_score`, `user_score`, and `rating` columns. We will replace them with `-1` and will take this into account later on. "
   ]
  },
  {
   "cell_type": "code",
   "execution_count": 16,
   "metadata": {},
   "outputs": [],
   "source": [
    "df[['critic_score', 'user_score', 'rating']] = df[['critic_score', 'user_score', 'rating']].fillna(-1)"
   ]
  },
  {
   "cell_type": "code",
   "execution_count": 17,
   "metadata": {
    "scrolled": true
   },
   "outputs": [
    {
     "name": "stdout",
     "output_type": "stream",
     "text": [
      "<class 'pandas.core.frame.DataFrame'>\n",
      "Int64Index: 16444 entries, 0 to 16714\n",
      "Data columns (total 12 columns):\n",
      " #   Column           Non-Null Count  Dtype  \n",
      "---  ------           --------------  -----  \n",
      " 0   name             16444 non-null  object \n",
      " 1   platform         16444 non-null  object \n",
      " 2   year_of_release  16444 non-null  float64\n",
      " 3   genre            16444 non-null  object \n",
      " 4   na_sales         16444 non-null  float64\n",
      " 5   eu_sales         16444 non-null  float64\n",
      " 6   jp_sales         16444 non-null  float64\n",
      " 7   other_sales      16444 non-null  float64\n",
      " 8   critic_score     16444 non-null  float64\n",
      " 9   user_score       16444 non-null  object \n",
      " 10  rating           16444 non-null  object \n",
      " 11  total_sales      16444 non-null  float64\n",
      "dtypes: float64(7), object(5)\n",
      "memory usage: 1.6+ MB\n"
     ]
    }
   ],
   "source": [
    "df.info()"
   ]
  },
  {
   "cell_type": "markdown",
   "metadata": {},
   "source": [
    "Let's change the data type in the `year_of_release` and `user_score` columns."
   ]
  },
  {
   "cell_type": "code",
   "execution_count": 18,
   "metadata": {},
   "outputs": [],
   "source": [
    "df['year_of_release'] = df['year_of_release'].astype('int')\n",
    "df['user_score'] = df['user_score'].astype('float')"
   ]
  },
  {
   "cell_type": "code",
   "execution_count": 19,
   "metadata": {
    "scrolled": true
   },
   "outputs": [
    {
     "name": "stdout",
     "output_type": "stream",
     "text": [
      "<class 'pandas.core.frame.DataFrame'>\n",
      "Int64Index: 16444 entries, 0 to 16714\n",
      "Data columns (total 12 columns):\n",
      " #   Column           Non-Null Count  Dtype  \n",
      "---  ------           --------------  -----  \n",
      " 0   name             16444 non-null  object \n",
      " 1   platform         16444 non-null  object \n",
      " 2   year_of_release  16444 non-null  int32  \n",
      " 3   genre            16444 non-null  object \n",
      " 4   na_sales         16444 non-null  float64\n",
      " 5   eu_sales         16444 non-null  float64\n",
      " 6   jp_sales         16444 non-null  float64\n",
      " 7   other_sales      16444 non-null  float64\n",
      " 8   critic_score     16444 non-null  float64\n",
      " 9   user_score       16444 non-null  float64\n",
      " 10  rating           16444 non-null  object \n",
      " 11  total_sales      16444 non-null  float64\n",
      "dtypes: float64(7), int32(1), object(4)\n",
      "memory usage: 1.6+ MB\n"
     ]
    }
   ],
   "source": [
    "df.info()"
   ]
  },
  {
   "cell_type": "markdown",
   "metadata": {},
   "source": [
    "Check data for duplicates"
   ]
  },
  {
   "cell_type": "code",
   "execution_count": 20,
   "metadata": {},
   "outputs": [
    {
     "data": {
      "text/plain": [
       "0"
      ]
     },
     "execution_count": 20,
     "metadata": {},
     "output_type": "execute_result"
    }
   ],
   "source": [
    "df.duplicated().sum()"
   ]
  },
  {
   "cell_type": "markdown",
   "metadata": {},
   "source": [
    "We see that there are no duplicates in the data, therefore we can continue. "
   ]
  },
  {
   "cell_type": "markdown",
   "metadata": {},
   "source": [
    "### Conclusion"
   ]
  },
  {
   "cell_type": "markdown",
   "metadata": {},
   "source": [
    "We found the following issues in the data:\n",
    "\n",
    "     Heading style errors\n",
    "     Missing values\n",
    "     Wrong data types\n",
    "\n",
    "We've changed the titles to lowercase to make it easier to work with the table, than we've removed missing values (1.6%) in the `year_of_release` columna and replaced missing values in the `critic_score`, `user_score` and `rating` columns with `-1`. Also,  we've changed the data types in the `year_of_release` and `user_score` columns to the appropriate ones. "
   ]
  },
  {
   "cell_type": "markdown",
   "metadata": {},
   "source": [
    "## Exploratory Data Analysis"
   ]
  },
  {
   "cell_type": "markdown",
   "metadata": {},
   "source": [
    "### Analysis of the number of released games by year"
   ]
  },
  {
   "cell_type": "code",
   "execution_count": 21,
   "metadata": {},
   "outputs": [
    {
     "data": {
      "text/plain": [
       "year_of_release\n",
       "1980       9\n",
       "1981      46\n",
       "1982      36\n",
       "1983      17\n",
       "1984      14\n",
       "1985      14\n",
       "1986      21\n",
       "1987      16\n",
       "1988      15\n",
       "1989      17\n",
       "1990      16\n",
       "1991      41\n",
       "1992      43\n",
       "1993      60\n",
       "1994     121\n",
       "1995     219\n",
       "1996     263\n",
       "1997     289\n",
       "1998     379\n",
       "1999     338\n",
       "2000     350\n",
       "2001     482\n",
       "2002     829\n",
       "2003     775\n",
       "2004     762\n",
       "2005     939\n",
       "2006    1006\n",
       "2007    1197\n",
       "2008    1427\n",
       "2009    1426\n",
       "2010    1255\n",
       "2011    1136\n",
       "2012     653\n",
       "2013     544\n",
       "2014     581\n",
       "2015     606\n",
       "2016     502\n",
       "Name: name, dtype: int64"
      ]
     },
     "execution_count": 21,
     "metadata": {},
     "output_type": "execute_result"
    }
   ],
   "source": [
    "df.groupby(by='year_of_release')['name'].agg('count')"
   ]
  },
  {
   "cell_type": "code",
   "execution_count": 22,
   "metadata": {
    "scrolled": false
   },
   "outputs": [
    {
     "data": {
      "image/png": "[encoded data removed]",
      "text/plain": [
       "<Figure size 1440x576 with 1 Axes>"
      ]
     },
     "metadata": {
      "needs_background": "light"
     },
     "output_type": "display_data"
    }
   ],
   "source": [
    "ax = plt.subplots(figsize=(20, 8))\n",
    "ax = sns.barplot(\n",
    "    x='year_of_release', \n",
    "    y='name', \n",
    "    data=df.groupby(by='year_of_release')['name'].agg('count').reset_index()\n",
    ")\n",
    "ax.set(xlabel='Year')\n",
    "ax.set(ylabel='Number of games')\n",
    "ax.set(title='Released games by year')\n",
    "plt.show()"
   ]
  },
  {
   "cell_type": "markdown",
   "metadata": {},
   "source": [
    "We can see from the data that the growth in the release of games began in 1994 and continued until 2008, but with slight declines in 1999 and 2003-2004. The market peaked in 2008-2009, as during the economic crisis, games became one of the few 'cheap' entertainments. After the crisis, there was a sharp decline in the next four years. Perhaps this is due to the release of the iPhone and Android-based smartphones, that interested game developers. Growth in the release of games after 2013 is most likely associated with the release of a new generation of consoles. It can also be noted that the lack of explosive growth in the number of released games after the crisis may be due to the revision of the business model by many companies when studios began to focus not on the number of released games, but on increasing their life cycle through updates and the introduction of in-game stores. Open-world games have also become very popular.\n",
    "\n",
    "Because of the dynamic nature of the gaming industry, it will be appropriate to use fresh data (starting from 2013) when new generations of consoles were introduced. "
   ]
  },
  {
   "cell_type": "markdown",
   "metadata": {},
   "source": [
    "### Sales analysis by platform"
   ]
  },
  {
   "cell_type": "code",
   "execution_count": 23,
   "metadata": {
    "scrolled": false
   },
   "outputs": [
    {
     "data": {
      "text/html": [
       "<div>\n",
       "<style scoped>\n",
       "    .dataframe tbody tr th:only-of-type {\n",
       "        vertical-align: middle;\n",
       "    }\n",
       "\n",
       "    .dataframe tbody tr th {\n",
       "        vertical-align: top;\n",
       "    }\n",
       "\n",
       "    .dataframe thead th {\n",
       "        text-align: right;\n",
       "    }\n",
       "</style>\n",
       "<table border=\"1\" class=\"dataframe\">\n",
       "  <thead>\n",
       "    <tr style=\"text-align: right;\">\n",
       "      <th></th>\n",
       "      <th>platform</th>\n",
       "      <th>total_sales</th>\n",
       "    </tr>\n",
       "  </thead>\n",
       "  <tbody>\n",
       "    <tr>\n",
       "      <th>0</th>\n",
       "      <td>PS2</td>\n",
       "      <td>1233.56</td>\n",
       "    </tr>\n",
       "    <tr>\n",
       "      <th>1</th>\n",
       "      <td>X360</td>\n",
       "      <td>961.24</td>\n",
       "    </tr>\n",
       "    <tr>\n",
       "      <th>2</th>\n",
       "      <td>PS3</td>\n",
       "      <td>931.34</td>\n",
       "    </tr>\n",
       "    <tr>\n",
       "      <th>3</th>\n",
       "      <td>Wii</td>\n",
       "      <td>891.18</td>\n",
       "    </tr>\n",
       "    <tr>\n",
       "      <th>4</th>\n",
       "      <td>DS</td>\n",
       "      <td>802.78</td>\n",
       "    </tr>\n",
       "    <tr>\n",
       "      <th>5</th>\n",
       "      <td>PS</td>\n",
       "      <td>727.58</td>\n",
       "    </tr>\n",
       "    <tr>\n",
       "      <th>6</th>\n",
       "      <td>PS4</td>\n",
       "      <td>314.14</td>\n",
       "    </tr>\n",
       "    <tr>\n",
       "      <th>7</th>\n",
       "      <td>GBA</td>\n",
       "      <td>312.88</td>\n",
       "    </tr>\n",
       "    <tr>\n",
       "      <th>8</th>\n",
       "      <td>PSP</td>\n",
       "      <td>289.53</td>\n",
       "    </tr>\n",
       "    <tr>\n",
       "      <th>9</th>\n",
       "      <td>3DS</td>\n",
       "      <td>257.81</td>\n",
       "    </tr>\n",
       "  </tbody>\n",
       "</table>\n",
       "</div>"
      ],
      "text/plain": [
       "  platform  total_sales\n",
       "0      PS2      1233.56\n",
       "1     X360       961.24\n",
       "2      PS3       931.34\n",
       "3      Wii       891.18\n",
       "4       DS       802.78\n",
       "5       PS       727.58\n",
       "6      PS4       314.14\n",
       "7      GBA       312.88\n",
       "8      PSP       289.53\n",
       "9      3DS       257.81"
      ]
     },
     "execution_count": 23,
     "metadata": {},
     "output_type": "execute_result"
    }
   ],
   "source": [
    "df.groupby(by='platform')['total_sales'].agg('sum').nlargest(10).reset_index()"
   ]
  },
  {
   "cell_type": "markdown",
   "metadata": {},
   "source": [
    "Let's select the top 6 platforms by total sales and study the distribution by year."
   ]
  },
  {
   "cell_type": "code",
   "execution_count": 24,
   "metadata": {},
   "outputs": [],
   "source": [
    "top_6_df = df.loc[df['platform'].isin(['PS2', 'X360', 'PS3', 'Wii', 'DS', 'PS'])]\n",
    "top_6_grouped = top_6_df.groupby(by=['year_of_release', 'platform'])['total_sales'].agg('sum').reset_index()"
   ]
  },
  {
   "cell_type": "code",
   "execution_count": 25,
   "metadata": {},
   "outputs": [
    {
     "data": {
      "image/png": "[encoded data removed]",
      "text/plain": [
       "<Figure size 1440x864 with 6 Axes>"
      ]
     },
     "metadata": {
      "needs_background": "light"
     },
     "output_type": "display_data"
    }
   ],
   "source": [
    "f, axes = plt.subplots(2, 3, figsize=(20, 12))\n",
    "sns.barplot(ax=axes[0][0], x=\"year_of_release\", y=\"total_sales\", data=top_6_grouped.query('platform == \"PS2\"'))\n",
    "axes[0][0].set_title('PS2')\n",
    "\n",
    "sns.barplot(ax=axes[0][1], x=\"year_of_release\", y=\"total_sales\", data=top_6_grouped.query('platform == \"X360\"'))\n",
    "axes[0][1].set_title('X360')\n",
    "\n",
    "sns.barplot(ax=axes[0][2], x=\"year_of_release\", y=\"total_sales\", data=top_6_grouped.query('platform == \"PS3\"'))\n",
    "axes[0][2].set_title('PS3')\n",
    "\n",
    "sns.barplot(ax=axes[1][0], x=\"year_of_release\", y=\"total_sales\", data=top_6_grouped.query('platform == \"Wii\"'))\n",
    "axes[1][0].set_title('Wii')\n",
    "\n",
    "sns.barplot(ax=axes[1][1], x=\"year_of_release\", y=\"total_sales\", data=top_6_grouped.query('platform == \"DS\"'))\n",
    "axes[1][1].set_title('DS')\n",
    "\n",
    "sns.barplot(ax=axes[1][2], x=\"year_of_release\", y=\"total_sales\", data=top_6_grouped.query('platform == \"PS\"'))\n",
    "axes[1][2].set_title('PS')\n",
    "\n",
    "plt.show()"
   ]
  },
  {
   "cell_type": "markdown",
   "metadata": {},
   "source": [
    "Let's find an average platform lifetime."
   ]
  },
  {
   "cell_type": "code",
   "execution_count": 26,
   "metadata": {},
   "outputs": [],
   "source": [
    "temp_data = df.groupby(by='platform')['year_of_release'].agg(['min', 'max']).reset_index()"
   ]
  },
  {
   "cell_type": "code",
   "execution_count": 27,
   "metadata": {},
   "outputs": [
    {
     "name": "stdout",
     "output_type": "stream",
     "text": [
      "Average platform's lifetime: 8 years.\n"
     ]
    }
   ],
   "source": [
    "temp_data['range'] = temp_data['max'] - temp_data['min']\n",
    "print(f\"Average platform's lifetime: {round(temp_data['range'].mean())} years.\")"
   ]
  },
  {
   "cell_type": "markdown",
   "metadata": {},
   "source": [
    "### Correct timeframe "
   ]
  },
  {
   "cell_type": "markdown",
   "metadata": {},
   "source": [
    "Let's separate the data for 2013-2016 into a separate dataset, since we found out earlier that this period is the most relevant for further analysis."
   ]
  },
  {
   "cell_type": "code",
   "execution_count": 28,
   "metadata": {
    "scrolled": false
   },
   "outputs": [
    {
     "data": {
      "text/html": [
       "<div>\n",
       "<style scoped>\n",
       "    .dataframe tbody tr th:only-of-type {\n",
       "        vertical-align: middle;\n",
       "    }\n",
       "\n",
       "    .dataframe tbody tr th {\n",
       "        vertical-align: top;\n",
       "    }\n",
       "\n",
       "    .dataframe thead th {\n",
       "        text-align: right;\n",
       "    }\n",
       "</style>\n",
       "<table border=\"1\" class=\"dataframe\">\n",
       "  <thead>\n",
       "    <tr style=\"text-align: right;\">\n",
       "      <th></th>\n",
       "      <th>name</th>\n",
       "      <th>platform</th>\n",
       "      <th>year_of_release</th>\n",
       "      <th>genre</th>\n",
       "      <th>na_sales</th>\n",
       "      <th>eu_sales</th>\n",
       "      <th>jp_sales</th>\n",
       "      <th>other_sales</th>\n",
       "      <th>critic_score</th>\n",
       "      <th>user_score</th>\n",
       "      <th>rating</th>\n",
       "      <th>total_sales</th>\n",
       "    </tr>\n",
       "  </thead>\n",
       "  <tbody>\n",
       "    <tr>\n",
       "      <th>16</th>\n",
       "      <td>Grand Theft Auto V</td>\n",
       "      <td>PS3</td>\n",
       "      <td>2013</td>\n",
       "      <td>Action</td>\n",
       "      <td>7.02</td>\n",
       "      <td>9.09</td>\n",
       "      <td>0.98</td>\n",
       "      <td>3.96</td>\n",
       "      <td>97.0</td>\n",
       "      <td>8.2</td>\n",
       "      <td>M</td>\n",
       "      <td>21.05</td>\n",
       "    </tr>\n",
       "    <tr>\n",
       "      <th>23</th>\n",
       "      <td>Grand Theft Auto V</td>\n",
       "      <td>X360</td>\n",
       "      <td>2013</td>\n",
       "      <td>Action</td>\n",
       "      <td>9.66</td>\n",
       "      <td>5.14</td>\n",
       "      <td>0.06</td>\n",
       "      <td>1.41</td>\n",
       "      <td>97.0</td>\n",
       "      <td>8.1</td>\n",
       "      <td>M</td>\n",
       "      <td>16.27</td>\n",
       "    </tr>\n",
       "    <tr>\n",
       "      <th>31</th>\n",
       "      <td>Call of Duty: Black Ops 3</td>\n",
       "      <td>PS4</td>\n",
       "      <td>2015</td>\n",
       "      <td>Shooter</td>\n",
       "      <td>6.03</td>\n",
       "      <td>5.86</td>\n",
       "      <td>0.36</td>\n",
       "      <td>2.38</td>\n",
       "      <td>-1.0</td>\n",
       "      <td>-1.0</td>\n",
       "      <td>-1</td>\n",
       "      <td>14.63</td>\n",
       "    </tr>\n",
       "    <tr>\n",
       "      <th>33</th>\n",
       "      <td>Pokemon X/Pokemon Y</td>\n",
       "      <td>3DS</td>\n",
       "      <td>2013</td>\n",
       "      <td>Role-Playing</td>\n",
       "      <td>5.28</td>\n",
       "      <td>4.19</td>\n",
       "      <td>4.35</td>\n",
       "      <td>0.78</td>\n",
       "      <td>-1.0</td>\n",
       "      <td>-1.0</td>\n",
       "      <td>-1</td>\n",
       "      <td>14.60</td>\n",
       "    </tr>\n",
       "    <tr>\n",
       "      <th>42</th>\n",
       "      <td>Grand Theft Auto V</td>\n",
       "      <td>PS4</td>\n",
       "      <td>2014</td>\n",
       "      <td>Action</td>\n",
       "      <td>3.96</td>\n",
       "      <td>6.31</td>\n",
       "      <td>0.38</td>\n",
       "      <td>1.97</td>\n",
       "      <td>97.0</td>\n",
       "      <td>8.3</td>\n",
       "      <td>M</td>\n",
       "      <td>12.62</td>\n",
       "    </tr>\n",
       "    <tr>\n",
       "      <th>...</th>\n",
       "      <td>...</td>\n",
       "      <td>...</td>\n",
       "      <td>...</td>\n",
       "      <td>...</td>\n",
       "      <td>...</td>\n",
       "      <td>...</td>\n",
       "      <td>...</td>\n",
       "      <td>...</td>\n",
       "      <td>...</td>\n",
       "      <td>...</td>\n",
       "      <td>...</td>\n",
       "      <td>...</td>\n",
       "    </tr>\n",
       "    <tr>\n",
       "      <th>16703</th>\n",
       "      <td>Strawberry Nauts</td>\n",
       "      <td>PSV</td>\n",
       "      <td>2016</td>\n",
       "      <td>Adventure</td>\n",
       "      <td>0.00</td>\n",
       "      <td>0.00</td>\n",
       "      <td>0.01</td>\n",
       "      <td>0.00</td>\n",
       "      <td>-1.0</td>\n",
       "      <td>-1.0</td>\n",
       "      <td>-1</td>\n",
       "      <td>0.01</td>\n",
       "    </tr>\n",
       "    <tr>\n",
       "      <th>16707</th>\n",
       "      <td>Aiyoku no Eustia</td>\n",
       "      <td>PSV</td>\n",
       "      <td>2014</td>\n",
       "      <td>Misc</td>\n",
       "      <td>0.00</td>\n",
       "      <td>0.00</td>\n",
       "      <td>0.01</td>\n",
       "      <td>0.00</td>\n",
       "      <td>-1.0</td>\n",
       "      <td>-1.0</td>\n",
       "      <td>-1</td>\n",
       "      <td>0.01</td>\n",
       "    </tr>\n",
       "    <tr>\n",
       "      <th>16710</th>\n",
       "      <td>Samurai Warriors: Sanada Maru</td>\n",
       "      <td>PS3</td>\n",
       "      <td>2016</td>\n",
       "      <td>Action</td>\n",
       "      <td>0.00</td>\n",
       "      <td>0.00</td>\n",
       "      <td>0.01</td>\n",
       "      <td>0.00</td>\n",
       "      <td>-1.0</td>\n",
       "      <td>-1.0</td>\n",
       "      <td>-1</td>\n",
       "      <td>0.01</td>\n",
       "    </tr>\n",
       "    <tr>\n",
       "      <th>16712</th>\n",
       "      <td>Haitaka no Psychedelica</td>\n",
       "      <td>PSV</td>\n",
       "      <td>2016</td>\n",
       "      <td>Adventure</td>\n",
       "      <td>0.00</td>\n",
       "      <td>0.00</td>\n",
       "      <td>0.01</td>\n",
       "      <td>0.00</td>\n",
       "      <td>-1.0</td>\n",
       "      <td>-1.0</td>\n",
       "      <td>-1</td>\n",
       "      <td>0.01</td>\n",
       "    </tr>\n",
       "    <tr>\n",
       "      <th>16714</th>\n",
       "      <td>Winning Post 8 2016</td>\n",
       "      <td>PSV</td>\n",
       "      <td>2016</td>\n",
       "      <td>Simulation</td>\n",
       "      <td>0.00</td>\n",
       "      <td>0.00</td>\n",
       "      <td>0.01</td>\n",
       "      <td>0.00</td>\n",
       "      <td>-1.0</td>\n",
       "      <td>-1.0</td>\n",
       "      <td>-1</td>\n",
       "      <td>0.01</td>\n",
       "    </tr>\n",
       "  </tbody>\n",
       "</table>\n",
       "<p>2233 rows × 12 columns</p>\n",
       "</div>"
      ],
      "text/plain": [
       "                                name platform  year_of_release         genre  \\\n",
       "16                Grand Theft Auto V      PS3             2013        Action   \n",
       "23                Grand Theft Auto V     X360             2013        Action   \n",
       "31         Call of Duty: Black Ops 3      PS4             2015       Shooter   \n",
       "33               Pokemon X/Pokemon Y      3DS             2013  Role-Playing   \n",
       "42                Grand Theft Auto V      PS4             2014        Action   \n",
       "...                              ...      ...              ...           ...   \n",
       "16703               Strawberry Nauts      PSV             2016     Adventure   \n",
       "16707               Aiyoku no Eustia      PSV             2014          Misc   \n",
       "16710  Samurai Warriors: Sanada Maru      PS3             2016        Action   \n",
       "16712        Haitaka no Psychedelica      PSV             2016     Adventure   \n",
       "16714            Winning Post 8 2016      PSV             2016    Simulation   \n",
       "\n",
       "       na_sales  eu_sales  jp_sales  other_sales  critic_score  user_score  \\\n",
       "16         7.02      9.09      0.98         3.96          97.0         8.2   \n",
       "23         9.66      5.14      0.06         1.41          97.0         8.1   \n",
       "31         6.03      5.86      0.36         2.38          -1.0        -1.0   \n",
       "33         5.28      4.19      4.35         0.78          -1.0        -1.0   \n",
       "42         3.96      6.31      0.38         1.97          97.0         8.3   \n",
       "...         ...       ...       ...          ...           ...         ...   \n",
       "16703      0.00      0.00      0.01         0.00          -1.0        -1.0   \n",
       "16707      0.00      0.00      0.01         0.00          -1.0        -1.0   \n",
       "16710      0.00      0.00      0.01         0.00          -1.0        -1.0   \n",
       "16712      0.00      0.00      0.01         0.00          -1.0        -1.0   \n",
       "16714      0.00      0.00      0.01         0.00          -1.0        -1.0   \n",
       "\n",
       "      rating  total_sales  \n",
       "16         M        21.05  \n",
       "23         M        16.27  \n",
       "31        -1        14.63  \n",
       "33        -1        14.60  \n",
       "42         M        12.62  \n",
       "...      ...          ...  \n",
       "16703     -1         0.01  \n",
       "16707     -1         0.01  \n",
       "16710     -1         0.01  \n",
       "16712     -1         0.01  \n",
       "16714     -1         0.01  \n",
       "\n",
       "[2233 rows x 12 columns]"
      ]
     },
     "execution_count": 28,
     "metadata": {},
     "output_type": "execute_result"
    }
   ],
   "source": [
    "df_new = df.loc[df['year_of_release'] > 2012]\n",
    "df_new"
   ]
  },
  {
   "cell_type": "markdown",
   "metadata": {},
   "source": [
    "### Potentially profitable platforms"
   ]
  },
  {
   "cell_type": "markdown",
   "metadata": {},
   "source": [
    "Let's see which platforms are leading in sales and highlight the potentially profitable ones."
   ]
  },
  {
   "cell_type": "code",
   "execution_count": 29,
   "metadata": {},
   "outputs": [
    {
     "data": {
      "text/plain": [
       "platform\n",
       "PS4     314.14\n",
       "PS3     181.43\n",
       "XOne    159.32\n",
       "3DS     143.25\n",
       "X360    136.80\n",
       "WiiU     64.63\n",
       "PC       39.43\n",
       "PSV      32.99\n",
       "Wii      13.66\n",
       "PSP       3.50\n",
       "DS        1.54\n",
       "Name: total_sales, dtype: float64"
      ]
     },
     "execution_count": 29,
     "metadata": {},
     "output_type": "execute_result"
    }
   ],
   "source": [
    "df_new.groupby(by='platform')['total_sales'].agg('sum').sort_values(ascending=False)"
   ]
  },
  {
   "cell_type": "code",
   "execution_count": 30,
   "metadata": {},
   "outputs": [
    {
     "data": {
      "image/png": "[encoded data removed]",
      "text/plain": [
       "<Figure size 1008x432 with 1 Axes>"
      ]
     },
     "metadata": {
      "needs_background": "light"
     },
     "output_type": "display_data"
    }
   ],
   "source": [
    "df_new.pivot_table(\n",
    "    index='year_of_release',\n",
    "    columns='platform', \n",
    "    values='total_sales', \n",
    "    aggfunc='sum').plot(grid=True, figsize=(14, 6), style=('o-')).set_xticks(range(2013,2018))\n",
    "plt.xlabel('Year')\n",
    "plt.ylabel('Sales, mil. copies')\n",
    "plt.title('Sales for the period from 2013 to 2016')\n",
    "plt.show()"
   ]
  },
  {
   "cell_type": "markdown",
   "metadata": {},
   "source": [
    "Top five platforms with the highest sales: PS4, PS3, XOne, 3DS, and X360. At the same time, the graph shows that after the release of PS4 and XOne in 2013, their sales skyrocketed, while sales of their predecessors (X360 and PS3) began to plummet. Sales of 3DS have been steadily declining since 2013. It is also worth noting that the data for 2016 is incomplete and the figures for 2016 could even out. "
   ]
  },
  {
   "cell_type": "markdown",
   "metadata": {},
   "source": [
    "### Analysis of global game sales by platform"
   ]
  },
  {
   "cell_type": "markdown",
   "metadata": {},
   "source": [
    "Let's create a boxplot to display the distribution of global game sales by platform."
   ]
  },
  {
   "cell_type": "code",
   "execution_count": 31,
   "metadata": {},
   "outputs": [
    {
     "data": {
      "image/png": "[encoded data removed]",
      "text/plain": [
       "<Figure size 864x576 with 1 Axes>"
      ]
     },
     "metadata": {
      "needs_background": "light"
     },
     "output_type": "display_data"
    }
   ],
   "source": [
    "plt.figure(figsize = (12,8))\n",
    "ax = sns.boxplot(x='platform', y='total_sales', data=df_new)\n",
    "plt.show()"
   ]
  },
  {
   "cell_type": "code",
   "execution_count": 32,
   "metadata": {
    "scrolled": false
   },
   "outputs": [
    {
     "data": {
      "image/png": "[encoded data removed]",
      "text/plain": [
       "<Figure size 864x576 with 1 Axes>"
      ]
     },
     "metadata": {
      "needs_background": "light"
     },
     "output_type": "display_data"
    }
   ],
   "source": [
    "plt.figure(figsize = (12,8))\n",
    "plt.ylim(0,2)\n",
    "ax = sns.boxplot(x='platform', y='total_sales', data=df_new)\n",
    "plt.show()"
   ]
  },
  {
   "cell_type": "code",
   "execution_count": 33,
   "metadata": {
    "scrolled": true
   },
   "outputs": [
    {
     "data": {
      "text/html": [
       "<div>\n",
       "<style scoped>\n",
       "    .dataframe tbody tr th:only-of-type {\n",
       "        vertical-align: middle;\n",
       "    }\n",
       "\n",
       "    .dataframe tbody tr th {\n",
       "        vertical-align: top;\n",
       "    }\n",
       "\n",
       "    .dataframe thead th {\n",
       "        text-align: right;\n",
       "    }\n",
       "</style>\n",
       "<table border=\"1\" class=\"dataframe\">\n",
       "  <thead>\n",
       "    <tr style=\"text-align: right;\">\n",
       "      <th></th>\n",
       "      <th>platform</th>\n",
       "      <th>total_sales</th>\n",
       "    </tr>\n",
       "  </thead>\n",
       "  <tbody>\n",
       "    <tr>\n",
       "      <th>0</th>\n",
       "      <td>PS4</td>\n",
       "      <td>314.14</td>\n",
       "    </tr>\n",
       "    <tr>\n",
       "      <th>1</th>\n",
       "      <td>PS3</td>\n",
       "      <td>181.43</td>\n",
       "    </tr>\n",
       "    <tr>\n",
       "      <th>2</th>\n",
       "      <td>XOne</td>\n",
       "      <td>159.32</td>\n",
       "    </tr>\n",
       "    <tr>\n",
       "      <th>3</th>\n",
       "      <td>3DS</td>\n",
       "      <td>143.25</td>\n",
       "    </tr>\n",
       "    <tr>\n",
       "      <th>4</th>\n",
       "      <td>X360</td>\n",
       "      <td>136.80</td>\n",
       "    </tr>\n",
       "  </tbody>\n",
       "</table>\n",
       "</div>"
      ],
      "text/plain": [
       "  platform  total_sales\n",
       "0      PS4       314.14\n",
       "1      PS3       181.43\n",
       "2     XOne       159.32\n",
       "3      3DS       143.25\n",
       "4     X360       136.80"
      ]
     },
     "execution_count": 33,
     "metadata": {},
     "output_type": "execute_result"
    }
   ],
   "source": [
    "df_new.groupby(by='platform')['total_sales'].agg('sum').nlargest(5).reset_index()"
   ]
  },
  {
   "cell_type": "code",
   "execution_count": 34,
   "metadata": {},
   "outputs": [
    {
     "data": {
      "text/html": [
       "<div>\n",
       "<style scoped>\n",
       "    .dataframe tbody tr th:only-of-type {\n",
       "        vertical-align: middle;\n",
       "    }\n",
       "\n",
       "    .dataframe tbody tr th {\n",
       "        vertical-align: top;\n",
       "    }\n",
       "\n",
       "    .dataframe thead th {\n",
       "        text-align: right;\n",
       "    }\n",
       "</style>\n",
       "<table border=\"1\" class=\"dataframe\">\n",
       "  <thead>\n",
       "    <tr style=\"text-align: right;\">\n",
       "      <th></th>\n",
       "      <th>platform</th>\n",
       "      <th>total_sales</th>\n",
       "    </tr>\n",
       "  </thead>\n",
       "  <tbody>\n",
       "    <tr>\n",
       "      <th>0</th>\n",
       "      <td>X360</td>\n",
       "      <td>0.265</td>\n",
       "    </tr>\n",
       "    <tr>\n",
       "      <th>1</th>\n",
       "      <td>XOne</td>\n",
       "      <td>0.220</td>\n",
       "    </tr>\n",
       "    <tr>\n",
       "      <th>2</th>\n",
       "      <td>PS4</td>\n",
       "      <td>0.200</td>\n",
       "    </tr>\n",
       "    <tr>\n",
       "      <th>3</th>\n",
       "      <td>WiiU</td>\n",
       "      <td>0.200</td>\n",
       "    </tr>\n",
       "    <tr>\n",
       "      <th>4</th>\n",
       "      <td>Wii</td>\n",
       "      <td>0.180</td>\n",
       "    </tr>\n",
       "  </tbody>\n",
       "</table>\n",
       "</div>"
      ],
      "text/plain": [
       "  platform  total_sales\n",
       "0     X360        0.265\n",
       "1     XOne        0.220\n",
       "2      PS4        0.200\n",
       "3     WiiU        0.200\n",
       "4      Wii        0.180"
      ]
     },
     "execution_count": 34,
     "metadata": {},
     "output_type": "execute_result"
    }
   ],
   "source": [
    "df_new.groupby(by='platform')['total_sales'].agg('median').nlargest(5).reset_index()"
   ]
  },
  {
   "cell_type": "markdown",
   "metadata": {},
   "source": [
    "The PS4, PS3 3, and XOne have the highest sales since they have many bestsellers that brought abnormally large profits. At the same time, the most profitable platforms by median sales are X360, XOne, PS4 and WiiU, and Wii."
   ]
  },
  {
   "cell_type": "markdown",
   "metadata": {},
   "source": [
    "### The impact of user reviews and critics on sales"
   ]
  },
  {
   "cell_type": "markdown",
   "metadata": {},
   "source": [
    "Let's see how user and critic reviews affect sales within four popular platforms: PS3, PS4, XOne, and 3DS, and build a correlation matrix. "
   ]
  },
  {
   "cell_type": "code",
   "execution_count": 35,
   "metadata": {},
   "outputs": [],
   "source": [
    "ps_3 = df_new.loc[(df_new['platform'] == 'PS3') & (df_new['user_score'] != -1) & (df_new['critic_score'] != -1)]"
   ]
  },
  {
   "cell_type": "code",
   "execution_count": 36,
   "metadata": {},
   "outputs": [
    {
     "data": {
      "text/plain": [
       "<Figure size 864x864 with 0 Axes>"
      ]
     },
     "metadata": {},
     "output_type": "display_data"
    },
    {
     "data": {
      "image/png": "[encoded data removed]",
      "text/plain": [
       "<Figure size 540x540 with 12 Axes>"
      ]
     },
     "metadata": {
      "needs_background": "light"
     },
     "output_type": "display_data"
    }
   ],
   "source": [
    "plt.figure(figsize = (12,12))\n",
    "g = sns.PairGrid(ps_3[['user_score', 'critic_score', 'total_sales']])\n",
    "g.map_diag(sns.histplot)\n",
    "g.map_offdiag(sns.scatterplot)\n",
    "plt.show()"
   ]
  },
  {
   "cell_type": "code",
   "execution_count": 37,
   "metadata": {
    "scrolled": true
   },
   "outputs": [
    {
     "data": {
      "image/png": "[encoded data removed]",
      "text/plain": [
       "<Figure size 432x288 with 2 Axes>"
      ]
     },
     "metadata": {
      "needs_background": "light"
     },
     "output_type": "display_data"
    }
   ],
   "source": [
    "sns.heatmap(ps_3[['critic_score', 'user_score', 'total_sales']].corr(), annot=True, vmin=0, vmax=1)\n",
    "plt.show()"
   ]
  },
  {
   "cell_type": "markdown",
   "metadata": {},
   "source": [
    "We can see from the graphs that for PS3 there is no relationship between sales and user ratings. At the same time, we can see that sales get higher when critics score over 70.\n",
    "\n",
    "The correlation coefficient between sales and critics' rating is 0.33, which indicates a weak positive correlation between the factors. The correlation between user ratings and sales is 0.023, which indicates the absence of a linear relationship between the variables."
   ]
  },
  {
   "cell_type": "code",
   "execution_count": 38,
   "metadata": {},
   "outputs": [],
   "source": [
    "ps_4 = df_new.loc[(df_new['platform'] == 'PS4') & (df_new['user_score'] != -1) & (df_new['critic_score'] != -1)]"
   ]
  },
  {
   "cell_type": "code",
   "execution_count": 39,
   "metadata": {},
   "outputs": [
    {
     "data": {
      "text/plain": [
       "<Figure size 864x864 with 0 Axes>"
      ]
     },
     "metadata": {},
     "output_type": "display_data"
    },
    {
     "data": {
      "image/png": "[encoded data removed]",
      "text/plain": [
       "<Figure size 540x540 with 12 Axes>"
      ]
     },
     "metadata": {
      "needs_background": "light"
     },
     "output_type": "display_data"
    }
   ],
   "source": [
    "plt.figure(figsize = (12,12))\n",
    "g = sns.PairGrid(ps_4[['user_score', 'critic_score', 'total_sales']])\n",
    "g.map_diag(sns.histplot)\n",
    "g.map_offdiag(sns.scatterplot)\n",
    "plt.show()"
   ]
  },
  {
   "cell_type": "code",
   "execution_count": 40,
   "metadata": {
    "scrolled": true
   },
   "outputs": [
    {
     "data": {
      "image/png": "[encoded data removed]",
      "text/plain": [
       "<Figure size 432x288 with 2 Axes>"
      ]
     },
     "metadata": {
      "needs_background": "light"
     },
     "output_type": "display_data"
    }
   ],
   "source": [
    "sns.heatmap(ps_4[['critic_score', 'user_score', 'total_sales']].corr(), annot=True, vmin=0, vmax=1)\n",
    "plt.show()"
   ]
  },
  {
   "cell_type": "markdown",
   "metadata": {},
   "source": [
    "We can see from the graphs that for PS4 there is also no relationship between sales and user ratings. At the same time, we can also notice that sales get higher with critic scores over 70.\n",
    "\n",
    "The correlation coefficient between sales and critics' rating is 0.41, which indicates a weak positive correlation between the factors. The correlation between user ratings and sales is -0.034, which indicates the absence of a linear relationship between the parameters."
   ]
  },
  {
   "cell_type": "code",
   "execution_count": 41,
   "metadata": {},
   "outputs": [],
   "source": [
    "xone = df_new.loc[(df_new['platform'] == 'XOne') & (df_new['user_score'] != -1) & (df_new['critic_score'] != -1)]"
   ]
  },
  {
   "cell_type": "code",
   "execution_count": 42,
   "metadata": {},
   "outputs": [
    {
     "data": {
      "text/plain": [
       "<Figure size 864x864 with 0 Axes>"
      ]
     },
     "metadata": {},
     "output_type": "display_data"
    },
    {
     "data": {
      "image/png": "[encoded data removed]",
      "text/plain": [
       "<Figure size 540x540 with 12 Axes>"
      ]
     },
     "metadata": {
      "needs_background": "light"
     },
     "output_type": "display_data"
    }
   ],
   "source": [
    "plt.figure(figsize = (12,12))\n",
    "g = sns.PairGrid(xone[['user_score', 'critic_score', 'total_sales']])\n",
    "g.map_diag(sns.histplot)\n",
    "g.map_offdiag(sns.scatterplot)\n",
    "plt.show()"
   ]
  },
  {
   "cell_type": "code",
   "execution_count": 43,
   "metadata": {
    "scrolled": true
   },
   "outputs": [
    {
     "data": {
      "image/png": "[encoded data removed]",
      "text/plain": [
       "<Figure size 432x288 with 2 Axes>"
      ]
     },
     "metadata": {
      "needs_background": "light"
     },
     "output_type": "display_data"
    }
   ],
   "source": [
    "sns.heatmap(xone[['critic_score', 'user_score', 'total_sales']].corr(), annot=True, vmin=0, vmax=1)\n",
    "plt.show()"
   ]
  },
  {
   "cell_type": "markdown",
   "metadata": {},
   "source": [
    "We can see from the graphs that for XOne, as well as for previous platforms, there is no relationship between sales and user ratings. At the same time, sales go up when critics score over 70.\n",
    "\n",
    "The correlation coefficient between sales and critics' rating is 0.41, which indicates a weak positive correlation between the factors. The correlation between user ratings and sales is -0.094, which indicates a very weak negative correlation or the absence of a linear relationship between the parameters."
   ]
  },
  {
   "cell_type": "code",
   "execution_count": 44,
   "metadata": {},
   "outputs": [],
   "source": [
    "ds3 = df_new.loc[(df_new['platform'] == '3DS') & (df_new['user_score'] != -1) & (df_new['critic_score'] != -1)]"
   ]
  },
  {
   "cell_type": "code",
   "execution_count": 45,
   "metadata": {},
   "outputs": [
    {
     "data": {
      "text/plain": [
       "<Figure size 864x864 with 0 Axes>"
      ]
     },
     "metadata": {},
     "output_type": "display_data"
    },
    {
     "data": {
      "image/png": "[encoded data removed]",
      "text/plain": [
       "<Figure size 540x540 with 12 Axes>"
      ]
     },
     "metadata": {
      "needs_background": "light"
     },
     "output_type": "display_data"
    }
   ],
   "source": [
    "plt.figure(figsize = (12,12))\n",
    "g = sns.PairGrid(ds3[['user_score', 'critic_score', 'total_sales']])\n",
    "g.map_diag(sns.histplot)\n",
    "g.map_offdiag(sns.scatterplot)\n",
    "plt.show()"
   ]
  },
  {
   "cell_type": "code",
   "execution_count": 46,
   "metadata": {
    "scrolled": false
   },
   "outputs": [
    {
     "data": {
      "image/png": "[encoded data removed]",
      "text/plain": [
       "<Figure size 432x288 with 2 Axes>"
      ]
     },
     "metadata": {
      "needs_background": "light"
     },
     "output_type": "display_data"
    }
   ],
   "source": [
    "sns.heatmap(ds3[['critic_score', 'user_score', 'total_sales']].corr(), annot=True, vmin=0, vmax=1)\n",
    "plt.show()"
   ]
  },
  {
   "cell_type": "markdown",
   "metadata": {},
   "source": [
    "For the 3DS platform, we can see that the graphs of the relationship between critic ratings/user ratings and sales are very similar.\n",
    "\n",
    "The correlation coefficient between sales and critics' rating is 0.34, which indicates a weak positive correlation between the factors. There is also a very weak positive correlation between user ratings and sales (0.27).\n",
    "\n",
    "We can also note that, unlike previous platforms, 3DS has stronger linear relationship between user ratings and sales. "
   ]
  },
  {
   "cell_type": "markdown",
   "metadata": {},
   "source": [
    "### Analysis of the distribution of games by genre"
   ]
  },
  {
   "cell_type": "markdown",
   "metadata": {},
   "source": [
    "Let's look at the distribution of games by genre."
   ]
  },
  {
   "cell_type": "code",
   "execution_count": 47,
   "metadata": {},
   "outputs": [
    {
     "data": {
      "text/plain": [
       "genre\n",
       "Action          766\n",
       "Role-Playing    292\n",
       "Adventure       245\n",
       "Sports          214\n",
       "Shooter         187\n",
       "Misc            155\n",
       "Racing           85\n",
       "Fighting         80\n",
       "Platform         74\n",
       "Simulation       62\n",
       "Strategy         56\n",
       "Puzzle           17\n",
       "Name: name, dtype: int64"
      ]
     },
     "execution_count": 47,
     "metadata": {},
     "output_type": "execute_result"
    }
   ],
   "source": [
    "df_new.groupby(by='genre')['name'].agg('count').sort_values(ascending=False)"
   ]
  },
  {
   "cell_type": "markdown",
   "metadata": {},
   "source": [
    "Action games were the most released with 766 games, while Puzzle games were the least released with 17. Other genres in the top five include: Role-Playing(292), Adventure(245), Sports(214) and Shooter(187)."
   ]
  },
  {
   "cell_type": "markdown",
   "metadata": {},
   "source": [
    "Let's look at the total sales by genre."
   ]
  },
  {
   "cell_type": "code",
   "execution_count": 48,
   "metadata": {},
   "outputs": [
    {
     "data": {
      "image/png": "[encoded data removed]",
      "text/plain": [
       "<Figure size 1080x576 with 1 Axes>"
      ]
     },
     "metadata": {
      "needs_background": "light"
     },
     "output_type": "display_data"
    }
   ],
   "source": [
    "plt.figure(figsize=(15,8))\n",
    "plt.grid(True)\n",
    "ax = sns.barplot(\n",
    "    x='genre',\n",
    "    y='total_sales',\n",
    "    data=df_new.groupby(by='genre')['total_sales'].agg('sum').sort_values(ascending=False).reset_index()\n",
    ")\n",
    "ax.set(xlabel='Genre')\n",
    "ax.set(ylabel='Sales')\n",
    "plt.show()"
   ]
  },
  {
   "cell_type": "markdown",
   "metadata": {},
   "source": [
    "Also look at the average sales by genre."
   ]
  },
  {
   "cell_type": "code",
   "execution_count": 49,
   "metadata": {
    "scrolled": false
   },
   "outputs": [
    {
     "data": {
      "image/png": "[encoded data removed]",
      "text/plain": [
       "<Figure size 1080x576 with 1 Axes>"
      ]
     },
     "metadata": {
      "needs_background": "light"
     },
     "output_type": "display_data"
    }
   ],
   "source": [
    "plt.figure(figsize=(15,8))\n",
    "plt.grid(True)\n",
    "ax = sns.barplot(\n",
    "    x='genre',\n",
    "    y='total_sales',\n",
    "    data=df_new.groupby(by='genre')['total_sales'].agg('mean').sort_values(ascending=False).reset_index()\n",
    ")\n",
    "ax.set(xlabel='Genre')\n",
    "ax.set(ylabel='Sales')\n",
    "plt.show()"
   ]
  },
  {
   "cell_type": "markdown",
   "metadata": {},
   "source": [
    "The Action genre has the highest sales. At the same time, games in this genre were released the most. In second place in terms of sales is the Shooter genre, although it closes the top five genres in terms of the number of games. They are followed by Role-Playing, Sports and Misc.\n",
    "\n",
    "If we look at the average sales by genre, Shooter genre is on the first place with an average sales of 1.25. It is followed by the Sports(0.7), Platform(0.58), Role-Playing(0.5) and Racing(0.47) genres. Thus, although Action genre has more games, the average profit is lower."
   ]
  },
  {
   "cell_type": "markdown",
   "metadata": {},
   "source": [
    "## User profile of each region"
   ]
  },
  {
   "cell_type": "markdown",
   "metadata": {},
   "source": [
    "### Most popular platforms (top 5)"
   ]
  },
  {
   "cell_type": "code",
   "execution_count": 50,
   "metadata": {
    "scrolled": true
   },
   "outputs": [
    {
     "data": {
      "text/plain": [
       "platform\n",
       "PS4     108.74\n",
       "XOne     93.12\n",
       "X360     81.66\n",
       "PS3      63.50\n",
       "3DS      38.20\n",
       "Name: na_sales, dtype: float64"
      ]
     },
     "execution_count": 50,
     "metadata": {},
     "output_type": "execute_result"
    }
   ],
   "source": [
    "df_new.groupby('platform')['na_sales'].agg('sum').nlargest(5)"
   ]
  },
  {
   "cell_type": "code",
   "execution_count": 51,
   "metadata": {
    "scrolled": true
   },
   "outputs": [
    {
     "data": {
      "text/plain": [
       "platform\n",
       "PS4     141.09\n",
       "PS3      67.81\n",
       "XOne     51.59\n",
       "X360     42.52\n",
       "3DS      30.96\n",
       "Name: eu_sales, dtype: float64"
      ]
     },
     "execution_count": 51,
     "metadata": {},
     "output_type": "execute_result"
    }
   ],
   "source": [
    "df_new.groupby('platform')['eu_sales'].agg('sum').nlargest(5)"
   ]
  },
  {
   "cell_type": "code",
   "execution_count": 52,
   "metadata": {},
   "outputs": [
    {
     "data": {
      "text/plain": [
       "platform\n",
       "3DS     67.81\n",
       "PS3     23.35\n",
       "PSV     18.59\n",
       "PS4     15.96\n",
       "WiiU    10.88\n",
       "Name: jp_sales, dtype: float64"
      ]
     },
     "execution_count": 52,
     "metadata": {},
     "output_type": "execute_result"
    }
   ],
   "source": [
    "df_new.groupby('platform')['jp_sales'].agg('sum').nlargest(5)"
   ]
  },
  {
   "cell_type": "code",
   "execution_count": 53,
   "metadata": {
    "scrolled": true
   },
   "outputs": [
    {
     "data": {
      "image/png": "[encoded data removed]",
      "text/plain": [
       "<Figure size 1152x288 with 3 Axes>"
      ]
     },
     "metadata": {
      "needs_background": "light"
     },
     "output_type": "display_data"
    }
   ],
   "source": [
    "regions = ['na_sales', 'eu_sales', 'jp_sales']\n",
    "names = ['North America', 'Europe', 'Japan']\n",
    "\n",
    "fig, axes = plt.subplots(1, 3, figsize=(16, 4))\n",
    "\n",
    "for i, cur_ax in enumerate(axes.flat):\n",
    "    reg = regions[i]\n",
    "    name = names[i]\n",
    "    sns.barplot(\n",
    "        ax = cur_ax, \n",
    "        x='platform', \n",
    "        y=reg, \n",
    "        data=df_new.groupby(by='platform')[reg].agg('sum').nlargest(5).reset_index())\n",
    "\n",
    "    cur_ax.set(ylim=(0,200))\n",
    "    cur_ax.set(xlabel='Platform')\n",
    "    cur_ax.set(ylabel='Sales')\n",
    "    cur_ax.set_title(f'Popular platforms in {name}')\n",
    "\n",
    "    \n",
    "plt.show()"
   ]
  },
  {
   "cell_type": "markdown",
   "metadata": {},
   "source": [
    "In North America, the PS4 leads in sales. It is followed by XOne, X360, PS3, and 3DS.  \n",
    "In Europe, PS4 also leads the pack, followed by PS3, XOne, X360, and 3DS.  \n",
    "In Japan, the 3DS is the top seller, followed by the PS3, PSV, PS4, and WiiU.  \n",
    "\n",
    "Thus, it can be noted that consoles are more popular in North America and Europe, while portable platforms are preferred in Japan."
   ]
  },
  {
   "cell_type": "markdown",
   "metadata": {},
   "source": [
    "### Most popular genres (top 5)"
   ]
  },
  {
   "cell_type": "code",
   "execution_count": 54,
   "metadata": {
    "scrolled": true
   },
   "outputs": [
    {
     "data": {
      "text/plain": [
       "genre\n",
       "Action          126.05\n",
       "Shooter         109.74\n",
       "Sports           65.27\n",
       "Role-Playing     46.40\n",
       "Misc             27.49\n",
       "Name: na_sales, dtype: float64"
      ]
     },
     "execution_count": 54,
     "metadata": {},
     "output_type": "execute_result"
    }
   ],
   "source": [
    "df_new.groupby('genre')['na_sales'].agg('sum').nlargest(5)"
   ]
  },
  {
   "cell_type": "code",
   "execution_count": 55,
   "metadata": {
    "scrolled": true
   },
   "outputs": [
    {
     "data": {
      "text/plain": [
       "genre\n",
       "Action          118.13\n",
       "Shooter          87.86\n",
       "Sports           60.52\n",
       "Role-Playing     36.97\n",
       "Racing           20.19\n",
       "Name: eu_sales, dtype: float64"
      ]
     },
     "execution_count": 55,
     "metadata": {},
     "output_type": "execute_result"
    }
   ],
   "source": [
    "df_new.groupby('genre')['eu_sales'].agg('sum').nlargest(5)"
   ]
  },
  {
   "cell_type": "code",
   "execution_count": 56,
   "metadata": {
    "scrolled": true
   },
   "outputs": [
    {
     "data": {
      "text/plain": [
       "genre\n",
       "Role-Playing    51.04\n",
       "Action          40.49\n",
       "Misc             9.20\n",
       "Fighting         7.65\n",
       "Shooter          6.61\n",
       "Name: jp_sales, dtype: float64"
      ]
     },
     "execution_count": 56,
     "metadata": {},
     "output_type": "execute_result"
    }
   ],
   "source": [
    "df_new.groupby('genre')['jp_sales'].agg('sum').nlargest(5)"
   ]
  },
  {
   "cell_type": "code",
   "execution_count": 57,
   "metadata": {
    "scrolled": true
   },
   "outputs": [
    {
     "data": {
      "image/png": "[encoded data removed]",
      "text/plain": [
       "<Figure size 1152x288 with 3 Axes>"
      ]
     },
     "metadata": {
      "needs_background": "light"
     },
     "output_type": "display_data"
    }
   ],
   "source": [
    "fig, axes = plt.subplots(1, 3, figsize=(16, 4))\n",
    "\n",
    "for i, cur_ax in enumerate(axes.flat):\n",
    "    reg = regions[i]\n",
    "    name = names[i]\n",
    "    sns.barplot(\n",
    "        ax = cur_ax, \n",
    "        x='genre', \n",
    "        y=reg, \n",
    "        data=df_new.groupby(by='genre')[reg].agg('sum').nlargest(5).reset_index())\n",
    "    \n",
    "    cur_ax.set(ylim=(0,150))\n",
    "    cur_ax.set(xlabel='Genre')\n",
    "    cur_ax.set(ylabel='Sales')\n",
    "    cur_ax.set_title(f'Popular genres in {name}')\n",
    "\n",
    "    \n",
    "plt.show()"
   ]
  },
  {
   "cell_type": "markdown",
   "metadata": {},
   "source": [
    "In North America and Europe, the top 5 genres look pretty much the same. The leader is the Action genre; followed by Shooter, Sports, and Role-Playing, as well as Misc for North America and Racing for Europe.\n",
    "\n",
    "\n",
    "Meanwhile, in Japan, the top 5 genres look different. Role-Playing comes first, followed by Action, Misc, Fighting, and Shooter. "
   ]
  },
  {
   "cell_type": "markdown",
   "metadata": {},
   "source": [
    "### The impact of the ESRB rating on sales in a particular region"
   ]
  },
  {
   "cell_type": "markdown",
   "metadata": {},
   "source": [
    "ESRB Ratings:\n",
    "\n",
    "     \"EC\" (\"Early childhood\") - \"For young children\"\n",
    "     \"E\" (\"Everyone\") - \"For everyone\"\n",
    "     \"E10+\" (\"Everyone 10 and older\") - \"For everyone from 10 years and older\"\n",
    "     \"T\" (\"Teen\") - \"Teens\" - from 13 years old\n",
    "     \"M\" (\"Mature\") - \"For adults\"\n",
    "     \"AO\" (\"Adults Only 18+\") - \"Adults Only\"\n",
    "     \"RP\" (\"Rating Pending\") - \"Rating is pending\"\n",
    "\n"
   ]
  },
  {
   "cell_type": "code",
   "execution_count": 58,
   "metadata": {},
   "outputs": [
    {
     "data": {
      "text/plain": [
       "rating\n",
       "M       165.21\n",
       "-1       89.42\n",
       "E        79.05\n",
       "E10+     54.24\n",
       "T        49.79\n",
       "Name: na_sales, dtype: float64"
      ]
     },
     "execution_count": 58,
     "metadata": {},
     "output_type": "execute_result"
    }
   ],
   "source": [
    "df_new.groupby(by='rating')['na_sales'].agg('sum').sort_values(ascending=False)"
   ]
  },
  {
   "cell_type": "code",
   "execution_count": 59,
   "metadata": {},
   "outputs": [
    {
     "data": {
      "text/plain": [
       "rating\n",
       "M       145.32\n",
       "E        83.36\n",
       "-1       78.91\n",
       "E10+     42.69\n",
       "T        41.95\n",
       "Name: eu_sales, dtype: float64"
      ]
     },
     "execution_count": 59,
     "metadata": {},
     "output_type": "execute_result"
    }
   ],
   "source": [
    "df_new.groupby(by='rating')['eu_sales'].agg('sum').sort_values(ascending=False)"
   ]
  },
  {
   "cell_type": "code",
   "execution_count": 60,
   "metadata": {
    "scrolled": true
   },
   "outputs": [
    {
     "data": {
      "text/plain": [
       "rating\n",
       "-1      85.05\n",
       "T       20.59\n",
       "E       15.14\n",
       "M       14.11\n",
       "E10+     5.89\n",
       "Name: jp_sales, dtype: float64"
      ]
     },
     "execution_count": 60,
     "metadata": {},
     "output_type": "execute_result"
    }
   ],
   "source": [
    "df_new.groupby(by='rating')['jp_sales'].agg('sum').sort_values(ascending=False)"
   ]
  },
  {
   "cell_type": "code",
   "execution_count": 61,
   "metadata": {
    "scrolled": true
   },
   "outputs": [
    {
     "data": {
      "image/png": "[encoded data removed]",
      "text/plain": [
       "<Figure size 1152x288 with 3 Axes>"
      ]
     },
     "metadata": {
      "needs_background": "light"
     },
     "output_type": "display_data"
    }
   ],
   "source": [
    "fig, axes = plt.subplots(1, 3, figsize=(16, 4))\n",
    "\n",
    "for i, cur_ax in enumerate(axes.flat):\n",
    "    reg = regions[i]\n",
    "    name = names[i]\n",
    "    sns.barplot(\n",
    "        ax = cur_ax, \n",
    "        x='rating', \n",
    "        y=reg, \n",
    "        data=df_new.groupby(by='rating')[reg].agg('sum').nlargest(5).reset_index())\n",
    "    \n",
    "    cur_ax.set(ylim=(0,200))\n",
    "    cur_ax.set(xlabel='Rating')\n",
    "    cur_ax.set(ylabel='Sales')\n",
    "    cur_ax.set_title(f'Ratings in {name}')\n",
    "\n",
    "    \n",
    "plt.show()"
   ]
  },
  {
   "cell_type": "markdown",
   "metadata": {},
   "source": [
    "In North America and Europe, sales shares and ratings are the same. `M-rated` games sell the most, followed by `unrated`, `E`, `E10+`, and `T` games.\n",
    "\n",
    "Everything is different in Japan - unranked games are in the first place, followed by T, E, M, and E10+.\n",
    "\n",
    "It should be noted that the ESRB is an American company, and other regions may have their ratings. The graph shows that it is unrated games that make up the majority of sales in Japan. "
   ]
  },
  {
   "cell_type": "markdown",
   "metadata": {},
   "source": [
    "## Hypothesis testing"
   ]
  },
  {
   "cell_type": "markdown",
   "metadata": {},
   "source": [
    "### Hypothesis 1"
   ]
  },
  {
   "cell_type": "markdown",
   "metadata": {},
   "source": [
    "Let's test the hypothesis that the average user ratings of the Xbox One and PC platforms are the same. To test the hypothesis, we use T-test for the means of two independent samples."
   ]
  },
  {
   "cell_type": "markdown",
   "metadata": {},
   "source": [
    "Let's formulate hypotheses:\n",
    "\n",
    "**H0:** The average user ratings of the Xbox One and PC platforms are the same  \n",
    "**H1:** The average user ratings of the Xbox One and PC platforms are different\n",
    "\n",
    "We will set the alpha to 5%"
   ]
  },
  {
   "cell_type": "code",
   "execution_count": 62,
   "metadata": {},
   "outputs": [],
   "source": [
    "x_box_one = df_new.loc[(df['platform'] == 'XOne') & (df['user_score'] != -1)]\n",
    "pc = df_new.loc[(df['platform'] == 'PC') & (df['user_score'] != -1)]"
   ]
  },
  {
   "cell_type": "code",
   "execution_count": 63,
   "metadata": {
    "scrolled": true
   },
   "outputs": [
    {
     "name": "stdout",
     "output_type": "stream",
     "text": [
      "p-value: 0.14012658403611647\n",
      "Do not reject Null hypothesis\n",
      "\n",
      "Mean user ratings for Xbox One - 6.52\n",
      "Mean user ratings for PC - 6.27\n"
     ]
    }
   ],
   "source": [
    "alpha = .05\n",
    "\n",
    "results = st.ttest_ind(\n",
    "    x_box_one['user_score'], \n",
    "    pc['user_score'])\n",
    "\n",
    "print('p-value:', results.pvalue)\n",
    "\n",
    "if (results.pvalue < alpha):\n",
    "    print(\"Reject Null hypothesis\\n\")\n",
    "else:\n",
    "    print(\"Do not reject Null hypothesis\\n\")\n",
    "    \n",
    "print('Mean user ratings for Xbox One -', round(x_box_one['user_score'].mean(), 2))\n",
    "print('Mean user ratings for PC -', round(pc['user_score'].mean(), 2))"
   ]
  },
  {
   "cell_type": "markdown",
   "metadata": {},
   "source": [
    "### Conclusion 1"
   ]
  },
  {
   "cell_type": "markdown",
   "metadata": {},
   "source": [
    "Thus, at a statistical significance level of 5%, we got a p-value of 0.14, which gives us no reason to reject the null hypothesis. Also, we can see that the average user ratings of the Xbox One and PC platforms are very close."
   ]
  },
  {
   "cell_type": "markdown",
   "metadata": {},
   "source": [
    "### Hypothesis 2"
   ]
  },
  {
   "cell_type": "markdown",
   "metadata": {},
   "source": [
    "Let's test the hypothesis that the average user ratings of the Action and Sports genres are different. To test the hypothesis, we use T-test for the means of two independent samples."
   ]
  },
  {
   "cell_type": "markdown",
   "metadata": {},
   "source": [
    "Let's formulate hypotheses:\n",
    "\n",
    "**H0:** Average user ratings for Action and Sports are the same  \n",
    "**H1:** The average user ratings of the Action and Sports genres are different\n",
    "\n",
    "We will set the alpha to 5%"
   ]
  },
  {
   "cell_type": "code",
   "execution_count": 64,
   "metadata": {},
   "outputs": [],
   "source": [
    "action = df_new.loc[(df['genre'] == 'Action') & (df['user_score'] != -1)]\n",
    "sports = df_new.loc[(df['genre'] == 'Sports') & (df['user_score'] != -1)]"
   ]
  },
  {
   "cell_type": "code",
   "execution_count": 65,
   "metadata": {},
   "outputs": [
    {
     "name": "stdout",
     "output_type": "stream",
     "text": [
      "p-value: 1.0517832389140023e-27\n",
      "Reject Null hypothesis\n",
      "\n",
      "Mean user ratings of Action games - 6.84\n",
      "Mean user ratings of Sports games - 5.24\n"
     ]
    }
   ],
   "source": [
    "alpha = .05\n",
    "\n",
    "results = st.ttest_ind(\n",
    "    action['user_score'], \n",
    "    sports['user_score'])\n",
    "\n",
    "print('p-value:', results.pvalue)\n",
    "\n",
    "if (results.pvalue < alpha):\n",
    "    print(\"Reject Null hypothesis\\n\")\n",
    "else:\n",
    "    print(\"Do not reject Null hypothesis\\n\")\n",
    "    \n",
    "print('Mean user ratings of Action games -', round(action['user_score'].mean(), 2))\n",
    "print('Mean user ratings of Sports games -', round(sports['user_score'].mean(), 2))"
   ]
  },
  {
   "cell_type": "markdown",
   "metadata": {},
   "source": [
    "### Conclusion 2"
   ]
  },
  {
   "cell_type": "markdown",
   "metadata": {},
   "source": [
    "Thus, we reject the null hypothesis, since the probability of accidentally getting the difference between the average rating of two genres is less than the chosen level of significance. Also, we can see that the average user ratings of the Action genre are higher than those of the Sports genre. "
   ]
  },
  {
   "cell_type": "markdown",
   "metadata": {},
   "source": [
    "## Conclusion"
   ]
  },
  {
   "cell_type": "markdown",
   "metadata": {},
   "source": [
    "During the project, we discovered errors and incorrect data types. We changed column names to lower case, removed missing values in columns: `year_of_release`, `name` and `genre`. We also replaced 'tbd'(To Be Determined) values in `user_score` with `Nan`'s. Then we replaced missing values in the `user_score`, `critic_score`, and `rating` columns with `-1`. We calculated the `total sales` in all regions and added them to the `total_sales` column. Then we changed the data type in the `year_of_release` and `user_score` columns. Also, we changed the 'K-A' values in the `rating` column to 'E'. \n",
    "\n",
    "During the analysis of the data, the following results were obtained:\n",
    "\n",
    "* Most games released in **2008-2009**. Correct period for 2017 sales forecast: **2013 to 2016**\n",
    "* Potential platform lifetime - **8 years**\n",
    "* Potentially profitable platforms: **PS4, PS3, XOne, 3DS and X360**\n",
    "* Top-sellers are **PS4, PS3 and XOne**. The most profitable platforms by median are **X360, XOne, PS4 and WiiU and Wii**\n",
    "* Reviews from critics have a greater impact on sales than user reviews\n",
    "* Most Popular game genre: **Action**\n",
    "* Most profitable game genre: **Shooter**\n",
    "    \n",
    "Compiled a portrait of users in North America, Europe, and Japan:\n",
    "    \n",
    "        In North America and Europe, users are very similar:\n",
    "\n",
    "* **PS4** platform leads. It is followed by: **XOne, X360, PS3 and 3DS** with little difference in sales \n",
    "* The most popular genres are **Action, Shooter, Sports, Role-Playing**, as well as **Misc** for North America and **Racing** for Europe\n",
    "* **M(17+)** games have the highest sales, followed by `unrated` games, **E(for everyone)**, **E10+(from 10 years old)** and **T( from 13 years old)**\n",
    "  \n",
    "        In Japan, the user profile is different:\n",
    "\n",
    "* **3DS** is #1 in sales, followed by **PS3, PSV, PS4 and WiiU**\n",
    "* The most popular genres are: **Role-Playing** followed by **Action, Misc, Fighting and Shooter**\n",
    "* `Unrated` games have the highest sales, followed by **T(Teen)**, **E(All)**, **M(17+), and E10+(10+)**\n",
    "\n",
    "It can be noted that consoles are more popular in North America and Europe, while portable platforms are preferred in Japan. It's also worth noting that since the ESRB is an American company, their ratings aren't that important in Japan, where unrated games are the main sales force.\n",
    "\n",
    "\n",
    "Also, during the project, we tested two hypotheses and found:\n",
    "\n",
    "* Average user ratings for Xbox One and PC platforms are the same. The null hypothesis of equal ratings was confirmed.\n",
    "    \n",
    "* Average user ratings for the Action and Sports genres are different. The null hypothesis of equal ratings was not confirmed.\n",
    "    \n",
    "Thus, we can point out the following factors for planning advertising campaigns:\n",
    "\n",
    "* It is worth paying attention to the life cycle of the platform (8 years), as well as the sales region. For 2017, we are talking about `PS4` and `Xbox One` for North America and Europe and `3DS` for the Japanese market\n",
    "* Recommended genres for North America and Europe - `Action` and `Shooter`, for Japan - `Role-Playing`\n",
    "* The recommended rating for all regions is `E`(for all). For Europe and North America - `M(17+)`. For Japan, the ESRB rating does not affect sales, as they have their own CERO rating system."
   ]
  }
 ],
 "metadata": {
  "ExecuteTimeLog": [
   {
    "duration": 59,
    "start_time": "2022-05-25T09:12:33.050Z"
   },
   {
    "duration": 1199,
    "start_time": "2022-05-25T09:14:59.175Z"
   },
   {
    "duration": 470,
    "start_time": "2022-05-25T09:15:15.675Z"
   },
   {
    "duration": 16,
    "start_time": "2022-05-25T09:15:17.072Z"
   },
   {
    "duration": 14,
    "start_time": "2022-05-25T09:15:19.938Z"
   },
   {
    "duration": 2,
    "start_time": "2022-05-25T09:15:24.417Z"
   },
   {
    "duration": 13,
    "start_time": "2022-05-25T09:15:24.984Z"
   },
   {
    "duration": 8,
    "start_time": "2022-05-25T10:08:15.255Z"
   },
   {
    "duration": 125,
    "start_time": "2022-05-25T10:08:19.731Z"
   },
   {
    "duration": 62,
    "start_time": "2022-05-25T10:12:21.400Z"
   },
   {
    "duration": 50,
    "start_time": "2022-05-25T10:12:26.082Z"
   },
   {
    "duration": 13,
    "start_time": "2022-05-25T10:12:27.640Z"
   },
   {
    "duration": 13,
    "start_time": "2022-05-25T10:12:28.841Z"
   },
   {
    "duration": 3,
    "start_time": "2022-05-25T10:12:31.077Z"
   },
   {
    "duration": 15,
    "start_time": "2022-05-25T10:12:31.691Z"
   },
   {
    "duration": 20,
    "start_time": "2022-05-25T10:12:35.693Z"
   },
   {
    "duration": 4,
    "start_time": "2022-05-25T10:12:37.687Z"
   },
   {
    "duration": 8,
    "start_time": "2022-05-25T10:12:38.404Z"
   },
   {
    "duration": 5,
    "start_time": "2022-05-25T10:12:40.433Z"
   },
   {
    "duration": 13,
    "start_time": "2022-05-25T10:12:41.191Z"
   },
   {
    "duration": 7,
    "start_time": "2022-05-25T10:12:45.718Z"
   },
   {
    "duration": 11,
    "start_time": "2022-05-25T10:12:50.040Z"
   },
   {
    "duration": 14,
    "start_time": "2022-05-25T10:14:07.034Z"
   },
   {
    "duration": 9,
    "start_time": "2022-05-25T10:14:21.431Z"
   },
   {
    "duration": 272,
    "start_time": "2022-05-25T10:15:57.072Z"
   },
   {
    "duration": 184,
    "start_time": "2022-05-25T10:16:13.940Z"
   },
   {
    "duration": 10,
    "start_time": "2022-05-25T10:16:30.921Z"
   },
   {
    "duration": 10,
    "start_time": "2022-05-25T10:16:46.641Z"
   },
   {
    "duration": 11,
    "start_time": "2022-05-25T10:17:05.015Z"
   },
   {
    "duration": 11,
    "start_time": "2022-05-25T10:17:19.218Z"
   },
   {
    "duration": 10,
    "start_time": "2022-05-25T10:17:39.993Z"
   },
   {
    "duration": 11,
    "start_time": "2022-05-25T10:17:49.266Z"
   },
   {
    "duration": 10,
    "start_time": "2022-05-25T10:17:59.555Z"
   },
   {
    "duration": 10,
    "start_time": "2022-05-25T10:19:41.931Z"
   },
   {
    "duration": 10,
    "start_time": "2022-05-25T10:19:57.389Z"
   },
   {
    "duration": 11,
    "start_time": "2022-05-25T10:20:20.693Z"
   },
   {
    "duration": 10,
    "start_time": "2022-05-25T10:20:49.848Z"
   },
   {
    "duration": 10,
    "start_time": "2022-05-25T10:24:33.566Z"
   },
   {
    "duration": 18,
    "start_time": "2022-05-25T10:25:05.843Z"
   },
   {
    "duration": 6,
    "start_time": "2022-05-25T10:25:32.230Z"
   },
   {
    "duration": 5,
    "start_time": "2022-05-25T10:25:36.796Z"
   },
   {
    "duration": 4,
    "start_time": "2022-05-25T10:26:33.727Z"
   },
   {
    "duration": 4,
    "start_time": "2022-05-25T10:26:37.119Z"
   },
   {
    "duration": 11,
    "start_time": "2022-05-25T10:26:46.822Z"
   },
   {
    "duration": 8,
    "start_time": "2022-05-25T10:26:56.272Z"
   },
   {
    "duration": 788,
    "start_time": "2022-05-25T10:27:10.362Z"
   },
   {
    "duration": 8,
    "start_time": "2022-05-25T10:27:43.261Z"
   },
   {
    "duration": 20,
    "start_time": "2022-05-25T10:27:55.369Z"
   },
   {
    "duration": 20,
    "start_time": "2022-05-25T10:28:46.272Z"
   },
   {
    "duration": 4,
    "start_time": "2022-05-25T10:28:56.494Z"
   },
   {
    "duration": 21,
    "start_time": "2022-05-25T10:29:00.503Z"
   },
   {
    "duration": 4,
    "start_time": "2022-05-25T10:29:11.820Z"
   },
   {
    "duration": 20,
    "start_time": "2022-05-25T10:29:12.960Z"
   },
   {
    "duration": 9,
    "start_time": "2022-05-25T10:30:21.579Z"
   },
   {
    "duration": 4,
    "start_time": "2022-05-25T10:30:36.397Z"
   },
   {
    "duration": 19,
    "start_time": "2022-05-25T10:30:36.899Z"
   },
   {
    "duration": 12,
    "start_time": "2022-05-25T10:30:38.622Z"
   },
   {
    "duration": 11,
    "start_time": "2022-05-25T10:30:49.683Z"
   },
   {
    "duration": 8,
    "start_time": "2022-05-25T10:31:31.808Z"
   },
   {
    "duration": 7,
    "start_time": "2022-05-25T10:31:49.272Z"
   },
   {
    "duration": 6,
    "start_time": "2022-05-25T10:31:59.546Z"
   },
   {
    "duration": 222,
    "start_time": "2022-05-25T10:35:22.418Z"
   },
   {
    "duration": 111,
    "start_time": "2022-05-25T10:35:44.081Z"
   },
   {
    "duration": 235,
    "start_time": "2022-05-25T10:35:52.424Z"
   },
   {
    "duration": 103,
    "start_time": "2022-05-25T10:38:54.315Z"
   },
   {
    "duration": 252,
    "start_time": "2022-05-25T10:39:53.892Z"
   },
   {
    "duration": 221,
    "start_time": "2022-05-25T10:39:58.813Z"
   },
   {
    "duration": 295,
    "start_time": "2022-05-25T10:40:03.038Z"
   },
   {
    "duration": 203,
    "start_time": "2022-05-25T10:40:08.877Z"
   },
   {
    "duration": 233,
    "start_time": "2022-05-25T10:40:40.363Z"
   },
   {
    "duration": 231,
    "start_time": "2022-05-25T10:40:44.302Z"
   },
   {
    "duration": 261,
    "start_time": "2022-05-25T10:40:48.851Z"
   },
   {
    "duration": 363,
    "start_time": "2022-05-25T10:40:53.155Z"
   },
   {
    "duration": 350,
    "start_time": "2022-05-25T10:41:06.262Z"
   },
   {
    "duration": 301,
    "start_time": "2022-05-25T10:41:09.993Z"
   },
   {
    "duration": 20,
    "start_time": "2022-05-25T10:45:07.958Z"
   },
   {
    "duration": 213,
    "start_time": "2022-05-25T10:45:12.806Z"
   },
   {
    "duration": 218,
    "start_time": "2022-05-25T10:45:28.149Z"
   },
   {
    "duration": 256,
    "start_time": "2022-05-25T10:45:36.938Z"
   },
   {
    "duration": 16,
    "start_time": "2022-05-25T10:46:02.862Z"
   },
   {
    "duration": 286,
    "start_time": "2022-05-25T10:46:24.326Z"
   },
   {
    "duration": 325,
    "start_time": "2022-05-25T10:47:53.319Z"
   },
   {
    "duration": 229,
    "start_time": "2022-05-25T10:48:52.986Z"
   },
   {
    "duration": 320,
    "start_time": "2022-05-25T10:49:00.795Z"
   },
   {
    "duration": 259,
    "start_time": "2022-05-25T10:51:11.108Z"
   },
   {
    "duration": 389,
    "start_time": "2022-05-25T10:51:35.090Z"
   },
   {
    "duration": 1347,
    "start_time": "2022-05-26T18:32:29.072Z"
   },
   {
    "duration": 17,
    "start_time": "2022-05-26T18:32:32.257Z"
   },
   {
    "duration": 16,
    "start_time": "2022-05-26T18:32:33.529Z"
   },
   {
    "duration": 3,
    "start_time": "2022-05-26T18:32:35.961Z"
   },
   {
    "duration": 14,
    "start_time": "2022-05-26T18:32:36.574Z"
   },
   {
    "duration": 4,
    "start_time": "2022-05-26T18:32:38.265Z"
   },
   {
    "duration": 4,
    "start_time": "2022-05-26T18:32:39.183Z"
   },
   {
    "duration": 20,
    "start_time": "2022-05-26T18:32:41.218Z"
   },
   {
    "duration": 5,
    "start_time": "2022-05-26T18:32:43.006Z"
   },
   {
    "duration": 9,
    "start_time": "2022-05-26T18:32:44.442Z"
   },
   {
    "duration": 11,
    "start_time": "2022-05-26T18:32:46.792Z"
   },
   {
    "duration": 20,
    "start_time": "2022-05-26T18:32:47.388Z"
   },
   {
    "duration": 12,
    "start_time": "2022-05-26T18:32:50.096Z"
   },
   {
    "duration": 12,
    "start_time": "2022-05-26T18:32:54.875Z"
   },
   {
    "duration": 8,
    "start_time": "2022-05-26T18:33:26.221Z"
   },
   {
    "duration": 9,
    "start_time": "2022-05-26T18:33:39.412Z"
   },
   {
    "duration": 8,
    "start_time": "2022-05-26T18:33:52.417Z"
   },
   {
    "duration": 46,
    "start_time": "2022-05-26T18:34:08.779Z"
   },
   {
    "duration": 8,
    "start_time": "2022-05-26T18:34:14.015Z"
   },
   {
    "duration": 52,
    "start_time": "2022-05-26T18:40:46.006Z"
   },
   {
    "duration": 13,
    "start_time": "2022-05-26T18:40:47.609Z"
   },
   {
    "duration": 13,
    "start_time": "2022-05-26T18:40:48.674Z"
   },
   {
    "duration": 2,
    "start_time": "2022-05-26T18:40:51.524Z"
   },
   {
    "duration": 13,
    "start_time": "2022-05-26T18:40:52.006Z"
   },
   {
    "duration": 4,
    "start_time": "2022-05-26T18:40:53.063Z"
   },
   {
    "duration": 4,
    "start_time": "2022-05-26T18:40:53.546Z"
   },
   {
    "duration": 20,
    "start_time": "2022-05-26T18:40:54.119Z"
   },
   {
    "duration": 4,
    "start_time": "2022-05-26T18:40:55.563Z"
   },
   {
    "duration": 9,
    "start_time": "2022-05-26T18:40:55.950Z"
   },
   {
    "duration": 5,
    "start_time": "2022-05-26T18:40:57.038Z"
   },
   {
    "duration": 13,
    "start_time": "2022-05-26T18:40:57.761Z"
   },
   {
    "duration": 8,
    "start_time": "2022-05-26T18:41:00.155Z"
   },
   {
    "duration": 11,
    "start_time": "2022-05-26T18:41:01.641Z"
   },
   {
    "duration": 9,
    "start_time": "2022-05-26T18:41:02.920Z"
   },
   {
    "duration": 6,
    "start_time": "2022-05-26T18:41:04.483Z"
   },
   {
    "duration": 21,
    "start_time": "2022-05-26T18:41:05.013Z"
   },
   {
    "duration": 10,
    "start_time": "2022-05-26T18:41:06.994Z"
   },
   {
    "duration": 263,
    "start_time": "2022-05-26T18:41:15.583Z"
   },
   {
    "duration": 8,
    "start_time": "2022-05-26T18:41:50.375Z"
   },
   {
    "duration": 10,
    "start_time": "2022-05-26T18:42:10.324Z"
   },
   {
    "duration": 5,
    "start_time": "2022-05-26T18:42:27.958Z"
   },
   {
    "duration": 197,
    "start_time": "2022-05-26T18:42:43.176Z"
   },
   {
    "duration": 11,
    "start_time": "2022-05-26T18:43:01.440Z"
   },
   {
    "duration": 12,
    "start_time": "2022-05-26T18:44:28.407Z"
   },
   {
    "duration": 52,
    "start_time": "2022-05-26T18:44:35.058Z"
   },
   {
    "duration": 215,
    "start_time": "2022-05-26T18:44:38.949Z"
   },
   {
    "duration": 9,
    "start_time": "2022-05-26T18:45:43.415Z"
   },
   {
    "duration": 4,
    "start_time": "2022-05-26T18:45:54.560Z"
   },
   {
    "duration": 5,
    "start_time": "2022-05-26T18:46:03.531Z"
   },
   {
    "duration": 227,
    "start_time": "2022-05-26T18:46:07.216Z"
   },
   {
    "duration": 195,
    "start_time": "2022-05-26T18:46:45.259Z"
   },
   {
    "duration": 206,
    "start_time": "2022-05-26T18:46:54.407Z"
   },
   {
    "duration": 208,
    "start_time": "2022-05-26T18:47:01.869Z"
   },
   {
    "duration": 31,
    "start_time": "2022-05-26T18:47:23.080Z"
   },
   {
    "duration": 212,
    "start_time": "2022-05-26T18:47:55.248Z"
   },
   {
    "duration": 29,
    "start_time": "2022-05-26T18:48:20.225Z"
   },
   {
    "duration": 33,
    "start_time": "2022-05-26T18:48:53.922Z"
   },
   {
    "duration": 25,
    "start_time": "2022-05-26T18:48:59.213Z"
   },
   {
    "duration": 13,
    "start_time": "2022-05-26T18:49:27.738Z"
   },
   {
    "duration": 13,
    "start_time": "2022-05-26T18:50:41.407Z"
   },
   {
    "duration": 10,
    "start_time": "2022-05-26T18:50:54.549Z"
   },
   {
    "duration": 11,
    "start_time": "2022-05-26T18:50:59.864Z"
   },
   {
    "duration": 456,
    "start_time": "2022-05-26T18:51:11.956Z"
   },
   {
    "duration": 35,
    "start_time": "2022-05-26T18:57:31.207Z"
   },
   {
    "duration": 591,
    "start_time": "2022-05-26T18:57:44.382Z"
   },
   {
    "duration": 136,
    "start_time": "2022-05-26T18:58:17.884Z"
   },
   {
    "duration": 599,
    "start_time": "2022-05-26T18:58:25.911Z"
   },
   {
    "duration": 642,
    "start_time": "2022-05-26T18:58:36.658Z"
   },
   {
    "duration": 600,
    "start_time": "2022-05-26T18:58:44.171Z"
   },
   {
    "duration": 568,
    "start_time": "2022-05-26T18:58:57.836Z"
   },
   {
    "duration": 584,
    "start_time": "2022-05-26T18:59:02.692Z"
   },
   {
    "duration": 25,
    "start_time": "2022-05-26T19:00:11.995Z"
   },
   {
    "duration": 619,
    "start_time": "2022-05-26T19:01:38.822Z"
   },
   {
    "duration": 474,
    "start_time": "2022-05-26T19:02:05.187Z"
   },
   {
    "duration": 12,
    "start_time": "2022-05-26T19:02:18.150Z"
   },
   {
    "duration": 121,
    "start_time": "2022-05-26T19:02:47.643Z"
   },
   {
    "duration": 6,
    "start_time": "2022-05-26T19:02:58.770Z"
   },
   {
    "duration": 6,
    "start_time": "2022-05-26T19:03:09.793Z"
   },
   {
    "duration": 12,
    "start_time": "2022-05-26T19:03:11.847Z"
   },
   {
    "duration": 453,
    "start_time": "2022-05-26T19:03:22.343Z"
   },
   {
    "duration": 5,
    "start_time": "2022-05-26T19:04:29.583Z"
   },
   {
    "duration": 14,
    "start_time": "2022-05-26T19:04:54.490Z"
   },
   {
    "duration": 6,
    "start_time": "2022-05-26T19:05:01.178Z"
   },
   {
    "duration": 15,
    "start_time": "2022-05-26T19:05:34.804Z"
   },
   {
    "duration": 21,
    "start_time": "2022-05-26T19:06:38.510Z"
   },
   {
    "duration": 662,
    "start_time": "2022-05-26T19:07:07.569Z"
   },
   {
    "duration": 681,
    "start_time": "2022-05-26T19:07:35.470Z"
   },
   {
    "duration": 650,
    "start_time": "2022-05-26T19:09:29.644Z"
   },
   {
    "duration": 639,
    "start_time": "2022-05-26T19:09:42.997Z"
   },
   {
    "duration": 813,
    "start_time": "2022-05-26T19:10:53.664Z"
   },
   {
    "duration": 2,
    "start_time": "2022-05-26T19:11:22.315Z"
   },
   {
    "duration": 3,
    "start_time": "2022-05-26T19:11:51.788Z"
   },
   {
    "duration": 618,
    "start_time": "2022-05-26T19:12:14.035Z"
   },
   {
    "duration": 21,
    "start_time": "2022-05-26T19:12:26.152Z"
   },
   {
    "duration": 3,
    "start_time": "2022-05-26T19:12:32.888Z"
   },
   {
    "duration": 4,
    "start_time": "2022-05-26T19:12:35.822Z"
   },
   {
    "duration": 27,
    "start_time": "2022-05-26T19:12:36.840Z"
   },
   {
    "duration": 21,
    "start_time": "2022-05-26T19:12:52.761Z"
   },
   {
    "duration": 6,
    "start_time": "2022-05-26T19:13:04.309Z"
   },
   {
    "duration": 34,
    "start_time": "2022-05-26T19:13:05.991Z"
   },
   {
    "duration": 5,
    "start_time": "2022-05-26T19:13:19.942Z"
   },
   {
    "duration": 211,
    "start_time": "2022-05-26T19:13:20.508Z"
   },
   {
    "duration": 4,
    "start_time": "2022-05-26T19:13:26.348Z"
   },
   {
    "duration": 23,
    "start_time": "2022-05-26T19:13:32.462Z"
   },
   {
    "duration": 3,
    "start_time": "2022-05-26T19:13:40.235Z"
   },
   {
    "duration": 4,
    "start_time": "2022-05-26T19:13:41.772Z"
   },
   {
    "duration": 22,
    "start_time": "2022-05-26T19:13:43.371Z"
   },
   {
    "duration": 604,
    "start_time": "2022-05-26T19:13:58.433Z"
   },
   {
    "duration": 7,
    "start_time": "2022-05-26T19:15:51.323Z"
   },
   {
    "duration": 8,
    "start_time": "2022-05-26T19:16:01.748Z"
   },
   {
    "duration": 7,
    "start_time": "2022-05-26T19:16:11.253Z"
   },
   {
    "duration": 7,
    "start_time": "2022-05-26T19:16:58.066Z"
   },
   {
    "duration": 6,
    "start_time": "2022-05-26T19:17:21.687Z"
   },
   {
    "duration": 101,
    "start_time": "2022-05-26T19:17:22.331Z"
   },
   {
    "duration": 122,
    "start_time": "2022-05-26T19:17:36.208Z"
   },
   {
    "duration": 7,
    "start_time": "2022-05-26T19:17:55.045Z"
   },
   {
    "duration": 9,
    "start_time": "2022-05-26T19:18:07.308Z"
   },
   {
    "duration": 17,
    "start_time": "2022-05-26T19:18:14.290Z"
   },
   {
    "duration": 12,
    "start_time": "2022-05-26T19:18:23.796Z"
   },
   {
    "duration": 12,
    "start_time": "2022-05-26T19:18:30.902Z"
   },
   {
    "duration": 22,
    "start_time": "2022-05-26T19:20:22.106Z"
   },
   {
    "duration": 5,
    "start_time": "2022-05-26T19:20:42.108Z"
   },
   {
    "duration": 15,
    "start_time": "2022-05-26T19:21:04.543Z"
   },
   {
    "duration": 9,
    "start_time": "2022-05-26T19:21:42.020Z"
   },
   {
    "duration": 7,
    "start_time": "2022-05-26T19:21:48.871Z"
   },
   {
    "duration": 10,
    "start_time": "2022-05-26T19:21:55.448Z"
   },
   {
    "duration": 8,
    "start_time": "2022-05-26T19:22:09.918Z"
   },
   {
    "duration": 148,
    "start_time": "2022-05-26T19:22:19.134Z"
   },
   {
    "duration": 8,
    "start_time": "2022-05-26T19:22:24.288Z"
   },
   {
    "duration": 5,
    "start_time": "2022-05-26T19:25:23.467Z"
   },
   {
    "duration": 10,
    "start_time": "2022-05-26T19:30:07.589Z"
   },
   {
    "duration": 14,
    "start_time": "2022-05-26T19:30:29.664Z"
   },
   {
    "duration": 10,
    "start_time": "2022-05-26T19:31:40.850Z"
   },
   {
    "duration": 52,
    "start_time": "2022-05-26T19:31:42.146Z"
   },
   {
    "duration": 8,
    "start_time": "2022-05-26T19:31:54.084Z"
   },
   {
    "duration": 59,
    "start_time": "2022-05-26T19:31:56.630Z"
   },
   {
    "duration": 5,
    "start_time": "2022-05-26T19:33:03.577Z"
   },
   {
    "duration": 10,
    "start_time": "2022-05-26T19:33:13.079Z"
   },
   {
    "duration": 8,
    "start_time": "2022-05-26T19:33:22.528Z"
   },
   {
    "duration": 30,
    "start_time": "2022-05-26T19:33:43.932Z"
   },
   {
    "duration": 13,
    "start_time": "2022-05-26T19:34:35.822Z"
   },
   {
    "duration": 7411,
    "start_time": "2022-05-26T19:35:11.152Z"
   },
   {
    "duration": 6,
    "start_time": "2022-05-26T19:35:28.589Z"
   },
   {
    "duration": 5,
    "start_time": "2022-05-26T19:35:42.727Z"
   },
   {
    "duration": 137,
    "start_time": "2022-05-26T19:35:52.847Z"
   },
   {
    "duration": 115,
    "start_time": "2022-05-26T19:36:09.112Z"
   },
   {
    "duration": 3,
    "start_time": "2022-05-26T19:40:27.074Z"
   },
   {
    "duration": 8,
    "start_time": "2022-05-26T19:40:43.411Z"
   },
   {
    "duration": 7,
    "start_time": "2022-05-26T19:40:44.450Z"
   },
   {
    "duration": 8,
    "start_time": "2022-05-26T19:42:15.474Z"
   },
   {
    "duration": 8,
    "start_time": "2022-05-26T19:43:48.241Z"
   },
   {
    "duration": 8,
    "start_time": "2022-05-26T19:43:49.543Z"
   },
   {
    "duration": 9,
    "start_time": "2022-05-26T19:44:11.574Z"
   },
   {
    "duration": 22,
    "start_time": "2022-05-26T19:44:16.634Z"
   },
   {
    "duration": 7,
    "start_time": "2022-05-26T19:45:10.113Z"
   },
   {
    "duration": 21,
    "start_time": "2022-05-26T19:45:11.732Z"
   },
   {
    "duration": 7,
    "start_time": "2022-05-26T19:45:15.261Z"
   },
   {
    "duration": 6,
    "start_time": "2022-05-26T19:45:31.609Z"
   },
   {
    "duration": 7,
    "start_time": "2022-05-26T19:45:32.122Z"
   },
   {
    "duration": 10,
    "start_time": "2022-05-26T19:46:55.369Z"
   },
   {
    "duration": 21,
    "start_time": "2022-05-26T19:46:59.742Z"
   },
   {
    "duration": 8,
    "start_time": "2022-05-26T19:47:19.276Z"
   },
   {
    "duration": 7,
    "start_time": "2022-05-26T19:47:19.978Z"
   },
   {
    "duration": 42,
    "start_time": "2022-05-26T19:47:43.480Z"
   },
   {
    "duration": 5,
    "start_time": "2022-05-26T19:47:48.329Z"
   },
   {
    "duration": 11,
    "start_time": "2022-05-26T19:48:07.422Z"
   },
   {
    "duration": 7,
    "start_time": "2022-05-26T19:48:08.373Z"
   },
   {
    "duration": 1458,
    "start_time": "2022-05-29T17:15:47.147Z"
   },
   {
    "duration": 18,
    "start_time": "2022-05-29T17:15:50.086Z"
   },
   {
    "duration": 15,
    "start_time": "2022-05-29T17:15:52.200Z"
   },
   {
    "duration": 5,
    "start_time": "2022-05-29T17:15:55.238Z"
   },
   {
    "duration": 14,
    "start_time": "2022-05-29T17:15:56.709Z"
   },
   {
    "duration": 4,
    "start_time": "2022-05-29T17:16:00.166Z"
   },
   {
    "duration": 6,
    "start_time": "2022-05-29T17:16:07.166Z"
   },
   {
    "duration": 53,
    "start_time": "2022-05-29T17:16:22.404Z"
   },
   {
    "duration": 21,
    "start_time": "2022-05-29T17:16:23.584Z"
   },
   {
    "duration": 13,
    "start_time": "2022-05-29T17:16:24.736Z"
   },
   {
    "duration": 3,
    "start_time": "2022-05-29T17:16:31.472Z"
   },
   {
    "duration": 14,
    "start_time": "2022-05-29T17:16:32.136Z"
   },
   {
    "duration": 8,
    "start_time": "2022-05-29T17:16:43.604Z"
   },
   {
    "duration": 6,
    "start_time": "2022-05-29T17:17:22.834Z"
   },
   {
    "duration": 13,
    "start_time": "2022-05-29T17:17:25.076Z"
   },
   {
    "duration": 117,
    "start_time": "2022-05-29T17:19:19.574Z"
   },
   {
    "duration": 5,
    "start_time": "2022-05-29T17:19:30.084Z"
   },
   {
    "duration": 9,
    "start_time": "2022-05-29T17:19:31.336Z"
   },
   {
    "duration": 59,
    "start_time": "2022-05-29T17:19:40.423Z"
   },
   {
    "duration": 14,
    "start_time": "2022-05-29T17:19:41.241Z"
   },
   {
    "duration": 16,
    "start_time": "2022-05-29T17:19:42.605Z"
   },
   {
    "duration": 3,
    "start_time": "2022-05-29T17:19:44.921Z"
   },
   {
    "duration": 13,
    "start_time": "2022-05-29T17:19:45.803Z"
   },
   {
    "duration": 8,
    "start_time": "2022-05-29T17:19:47.229Z"
   },
   {
    "duration": 4,
    "start_time": "2022-05-29T17:19:53.844Z"
   },
   {
    "duration": 9,
    "start_time": "2022-05-29T17:19:54.903Z"
   },
   {
    "duration": 4,
    "start_time": "2022-05-29T17:20:03.518Z"
   },
   {
    "duration": 8,
    "start_time": "2022-05-29T17:20:04.369Z"
   },
   {
    "duration": 9,
    "start_time": "2022-05-29T17:20:05.546Z"
   },
   {
    "duration": 16,
    "start_time": "2022-05-29T17:20:29.005Z"
   },
   {
    "duration": 21,
    "start_time": "2022-05-29T17:20:54.984Z"
   },
   {
    "duration": 13,
    "start_time": "2022-05-29T17:22:19.568Z"
   },
   {
    "duration": 8,
    "start_time": "2022-05-29T17:22:28.055Z"
   },
   {
    "duration": 14,
    "start_time": "2022-05-29T17:23:00.005Z"
   },
   {
    "duration": 122,
    "start_time": "2022-05-29T17:23:16.504Z"
   },
   {
    "duration": 10,
    "start_time": "2022-05-29T17:23:18.146Z"
   },
   {
    "duration": 21,
    "start_time": "2022-05-29T17:23:20.726Z"
   },
   {
    "duration": 10,
    "start_time": "2022-05-29T17:23:21.507Z"
   },
   {
    "duration": 55,
    "start_time": "2022-05-29T17:23:29.187Z"
   },
   {
    "duration": 15,
    "start_time": "2022-05-29T17:23:30.484Z"
   },
   {
    "duration": 14,
    "start_time": "2022-05-29T17:23:31.254Z"
   },
   {
    "duration": 4,
    "start_time": "2022-05-29T17:23:39.276Z"
   },
   {
    "duration": 14,
    "start_time": "2022-05-29T17:23:39.846Z"
   },
   {
    "duration": 10,
    "start_time": "2022-05-29T17:23:42.352Z"
   },
   {
    "duration": 20,
    "start_time": "2022-05-29T17:25:17.979Z"
   },
   {
    "duration": 11,
    "start_time": "2022-05-29T17:25:19.166Z"
   },
   {
    "duration": 51,
    "start_time": "2022-05-29T17:25:27.674Z"
   },
   {
    "duration": 14,
    "start_time": "2022-05-29T17:25:30.414Z"
   },
   {
    "duration": 14,
    "start_time": "2022-05-29T17:25:31.574Z"
   },
   {
    "duration": 4,
    "start_time": "2022-05-29T17:25:33.499Z"
   },
   {
    "duration": 13,
    "start_time": "2022-05-29T17:25:33.983Z"
   },
   {
    "duration": 9,
    "start_time": "2022-05-29T17:25:35.142Z"
   },
   {
    "duration": 5,
    "start_time": "2022-05-29T17:25:45.967Z"
   },
   {
    "duration": 9,
    "start_time": "2022-05-29T17:25:47.439Z"
   },
   {
    "duration": 9,
    "start_time": "2022-05-29T17:25:50.266Z"
   },
   {
    "duration": 4,
    "start_time": "2022-05-29T17:26:01.886Z"
   },
   {
    "duration": 4,
    "start_time": "2022-05-29T17:26:02.813Z"
   },
   {
    "duration": 5,
    "start_time": "2022-05-29T17:26:04.364Z"
   },
   {
    "duration": 449,
    "start_time": "2022-05-29T17:26:07.223Z"
   },
   {
    "duration": 5,
    "start_time": "2022-05-29T17:26:07.879Z"
   },
   {
    "duration": 51,
    "start_time": "2022-05-29T17:26:10.683Z"
   },
   {
    "duration": 13,
    "start_time": "2022-05-29T17:26:11.337Z"
   },
   {
    "duration": 18,
    "start_time": "2022-05-29T17:26:12.718Z"
   },
   {
    "duration": 4,
    "start_time": "2022-05-29T17:26:14.911Z"
   },
   {
    "duration": 16,
    "start_time": "2022-05-29T17:26:15.266Z"
   },
   {
    "duration": 10,
    "start_time": "2022-05-29T17:26:17.078Z"
   },
   {
    "duration": 6,
    "start_time": "2022-05-29T17:28:46.936Z"
   },
   {
    "duration": 10,
    "start_time": "2022-05-29T17:28:47.985Z"
   },
   {
    "duration": 9,
    "start_time": "2022-05-29T17:29:13.170Z"
   },
   {
    "duration": 9,
    "start_time": "2022-05-29T17:29:14.111Z"
   },
   {
    "duration": 4,
    "start_time": "2022-05-29T17:29:18.472Z"
   },
   {
    "duration": 4,
    "start_time": "2022-05-29T17:29:19.786Z"
   },
   {
    "duration": 4,
    "start_time": "2022-05-29T17:29:23.884Z"
   },
   {
    "duration": 31,
    "start_time": "2022-05-29T17:29:25.937Z"
   },
   {
    "duration": 5,
    "start_time": "2022-05-29T17:29:31.100Z"
   },
   {
    "duration": 9,
    "start_time": "2022-05-29T17:29:33.815Z"
   },
   {
    "duration": 6,
    "start_time": "2022-05-29T17:29:35.676Z"
   },
   {
    "duration": 14,
    "start_time": "2022-05-29T17:29:36.300Z"
   },
   {
    "duration": 4,
    "start_time": "2022-05-29T17:29:44.276Z"
   },
   {
    "duration": 9,
    "start_time": "2022-05-29T17:30:01.320Z"
   },
   {
    "duration": 10,
    "start_time": "2022-05-29T17:30:07.723Z"
   },
   {
    "duration": 10,
    "start_time": "2022-05-29T17:30:11.000Z"
   },
   {
    "duration": 5,
    "start_time": "2022-05-29T17:30:13.799Z"
   },
   {
    "duration": 25,
    "start_time": "2022-05-29T17:30:15.096Z"
   },
   {
    "duration": 7,
    "start_time": "2022-05-29T17:30:23.542Z"
   },
   {
    "duration": 348,
    "start_time": "2022-05-29T17:30:42.572Z"
   },
   {
    "duration": 203,
    "start_time": "2022-05-29T17:30:48.699Z"
   },
   {
    "duration": 262,
    "start_time": "2022-05-29T17:30:56.697Z"
   },
   {
    "duration": 234,
    "start_time": "2022-05-29T17:31:06.282Z"
   },
   {
    "duration": 249,
    "start_time": "2022-05-29T17:31:18.498Z"
   },
   {
    "duration": 245,
    "start_time": "2022-05-29T17:31:26.243Z"
   },
   {
    "duration": 12,
    "start_time": "2022-05-29T17:32:12.401Z"
   },
   {
    "duration": 4,
    "start_time": "2022-05-29T17:32:43.641Z"
   },
   {
    "duration": 301,
    "start_time": "2022-05-29T17:32:45.167Z"
   },
   {
    "duration": 162,
    "start_time": "2022-05-29T17:33:07.613Z"
   },
   {
    "duration": 3,
    "start_time": "2022-05-29T17:33:14.705Z"
   },
   {
    "duration": 22,
    "start_time": "2022-05-29T17:33:31.155Z"
   },
   {
    "duration": 711,
    "start_time": "2022-05-29T17:33:33.589Z"
   },
   {
    "duration": 7,
    "start_time": "2022-05-29T17:34:34.603Z"
   },
   {
    "duration": 9,
    "start_time": "2022-05-29T17:35:05.940Z"
   },
   {
    "duration": 6,
    "start_time": "2022-05-29T17:35:20.568Z"
   },
   {
    "duration": 139,
    "start_time": "2022-05-29T17:35:22.495Z"
   },
   {
    "duration": 120,
    "start_time": "2022-05-29T17:35:24.910Z"
   },
   {
    "duration": 9,
    "start_time": "2022-05-29T17:35:46.575Z"
   },
   {
    "duration": 8,
    "start_time": "2022-05-29T17:35:57.410Z"
   },
   {
    "duration": 8,
    "start_time": "2022-05-29T17:35:58.700Z"
   },
   {
    "duration": 9,
    "start_time": "2022-05-29T17:35:59.865Z"
   },
   {
    "duration": 7,
    "start_time": "2022-05-29T17:36:12.830Z"
   },
   {
    "duration": 7,
    "start_time": "2022-05-29T17:36:13.702Z"
   },
   {
    "duration": 8,
    "start_time": "2022-05-29T17:36:14.804Z"
   },
   {
    "duration": 9,
    "start_time": "2022-05-29T17:36:36.400Z"
   },
   {
    "duration": 9,
    "start_time": "2022-05-29T17:37:09.536Z"
   },
   {
    "duration": 8,
    "start_time": "2022-05-29T17:37:17.123Z"
   },
   {
    "duration": 8,
    "start_time": "2022-05-29T17:37:17.996Z"
   },
   {
    "duration": 8,
    "start_time": "2022-05-29T17:38:31.569Z"
   },
   {
    "duration": 7,
    "start_time": "2022-05-29T17:38:32.429Z"
   },
   {
    "duration": 8,
    "start_time": "2022-05-29T17:38:44.458Z"
   },
   {
    "duration": 7,
    "start_time": "2022-05-29T17:38:45.235Z"
   },
   {
    "duration": 5,
    "start_time": "2022-05-29T17:52:04.572Z"
   },
   {
    "duration": 8,
    "start_time": "2022-05-29T18:00:18.089Z"
   },
   {
    "duration": 2701,
    "start_time": "2022-05-29T18:03:39.623Z"
   },
   {
    "duration": 27,
    "start_time": "2022-05-29T18:04:09.528Z"
   },
   {
    "duration": 2955,
    "start_time": "2022-05-29T18:04:16.972Z"
   },
   {
    "duration": 23,
    "start_time": "2022-05-29T18:04:30.689Z"
   },
   {
    "duration": 2892,
    "start_time": "2022-05-29T18:04:35.811Z"
   },
   {
    "duration": 19,
    "start_time": "2022-05-29T18:07:21.890Z"
   },
   {
    "duration": 11,
    "start_time": "2022-05-29T18:07:34.170Z"
   },
   {
    "duration": 10,
    "start_time": "2022-05-29T18:07:57.391Z"
   },
   {
    "duration": 16,
    "start_time": "2022-05-29T18:08:01.946Z"
   },
   {
    "duration": 18,
    "start_time": "2022-05-29T18:08:13.559Z"
   },
   {
    "duration": 8,
    "start_time": "2022-05-29T18:08:34.813Z"
   },
   {
    "duration": 5,
    "start_time": "2022-05-29T18:08:58.147Z"
   },
   {
    "duration": 4,
    "start_time": "2022-05-29T18:09:21.226Z"
   },
   {
    "duration": 15,
    "start_time": "2022-05-29T18:09:24.624Z"
   },
   {
    "duration": 7,
    "start_time": "2022-05-29T18:09:53.682Z"
   },
   {
    "duration": 360,
    "start_time": "2022-05-29T18:10:48.021Z"
   },
   {
    "duration": 6,
    "start_time": "2022-05-29T18:10:57.995Z"
   },
   {
    "duration": 8,
    "start_time": "2022-05-29T18:11:02.669Z"
   },
   {
    "duration": 2683,
    "start_time": "2022-05-29T18:11:34.482Z"
   },
   {
    "duration": 9,
    "start_time": "2022-05-29T18:36:53.999Z"
   },
   {
    "duration": 187,
    "start_time": "2022-05-29T18:37:04.613Z"
   },
   {
    "duration": 263,
    "start_time": "2022-05-29T18:37:42.011Z"
   },
   {
    "duration": 305,
    "start_time": "2022-05-29T18:38:02.911Z"
   },
   {
    "duration": 32,
    "start_time": "2022-05-29T18:38:37.784Z"
   },
   {
    "duration": 321,
    "start_time": "2022-05-29T18:39:02.244Z"
   },
   {
    "duration": 308,
    "start_time": "2022-05-29T18:39:11.872Z"
   },
   {
    "duration": 333,
    "start_time": "2022-05-29T18:39:23.819Z"
   },
   {
    "duration": 296,
    "start_time": "2022-05-29T18:40:25.368Z"
   },
   {
    "duration": 400,
    "start_time": "2022-05-29T18:40:52.537Z"
   },
   {
    "duration": 308,
    "start_time": "2022-05-29T18:40:59.735Z"
   },
   {
    "duration": 592,
    "start_time": "2022-05-29T18:41:06.146Z"
   },
   {
    "duration": 268,
    "start_time": "2022-05-29T18:41:19.239Z"
   },
   {
    "duration": 248,
    "start_time": "2022-05-29T18:43:17.527Z"
   },
   {
    "duration": 280,
    "start_time": "2022-05-29T18:43:42.747Z"
   },
   {
    "duration": 256,
    "start_time": "2022-05-29T18:44:15.193Z"
   },
   {
    "duration": 10,
    "start_time": "2022-05-29T18:45:27.212Z"
   },
   {
    "duration": 13,
    "start_time": "2022-05-29T18:45:46.331Z"
   },
   {
    "duration": 15,
    "start_time": "2022-05-29T18:46:18.280Z"
   },
   {
    "duration": 5,
    "start_time": "2022-05-29T18:46:53.166Z"
   },
   {
    "duration": 11,
    "start_time": "2022-05-29T18:47:31.750Z"
   },
   {
    "duration": 9,
    "start_time": "2022-05-29T18:47:56.154Z"
   },
   {
    "duration": 123,
    "start_time": "2022-05-29T18:48:20.641Z"
   },
   {
    "duration": 10,
    "start_time": "2022-05-29T18:48:54.168Z"
   },
   {
    "duration": 9,
    "start_time": "2022-05-29T18:49:26.009Z"
   },
   {
    "duration": 126,
    "start_time": "2022-05-29T18:49:30.523Z"
   },
   {
    "duration": 229,
    "start_time": "2022-05-29T18:50:07.450Z"
   },
   {
    "duration": 14,
    "start_time": "2022-05-29T18:53:01.411Z"
   },
   {
    "duration": 682,
    "start_time": "2022-05-29T18:53:40.635Z"
   },
   {
    "duration": 285,
    "start_time": "2022-05-29T18:54:52.432Z"
   },
   {
    "duration": 147,
    "start_time": "2022-05-29T18:59:06.261Z"
   },
   {
    "duration": 16,
    "start_time": "2022-05-29T18:59:17.020Z"
   },
   {
    "duration": 9,
    "start_time": "2022-05-29T18:59:21.817Z"
   },
   {
    "duration": 200,
    "start_time": "2022-05-29T18:59:32.572Z"
   },
   {
    "duration": 188,
    "start_time": "2022-05-29T18:59:48.736Z"
   },
   {
    "duration": 107,
    "start_time": "2022-05-29T19:00:46.168Z"
   },
   {
    "duration": 10,
    "start_time": "2022-05-29T19:00:57.999Z"
   },
   {
    "duration": 17,
    "start_time": "2022-05-29T19:01:12.442Z"
   },
   {
    "duration": 9,
    "start_time": "2022-05-29T19:01:30.005Z"
   },
   {
    "duration": 13,
    "start_time": "2022-05-29T19:01:35.015Z"
   },
   {
    "duration": 176,
    "start_time": "2022-05-29T19:01:46.789Z"
   },
   {
    "duration": 170,
    "start_time": "2022-05-29T19:02:08.256Z"
   },
   {
    "duration": 206,
    "start_time": "2022-05-29T19:02:19.853Z"
   },
   {
    "duration": 229,
    "start_time": "2022-05-29T19:02:42.424Z"
   },
   {
    "duration": 194,
    "start_time": "2022-05-29T19:02:52.195Z"
   },
   {
    "duration": 171,
    "start_time": "2022-05-29T19:03:07.197Z"
   },
   {
    "duration": 182,
    "start_time": "2022-05-29T19:03:24.327Z"
   },
   {
    "duration": 195,
    "start_time": "2022-05-29T19:03:36.028Z"
   },
   {
    "duration": 207,
    "start_time": "2022-05-29T19:07:53.264Z"
   },
   {
    "duration": 4,
    "start_time": "2022-05-29T19:10:25.788Z"
   },
   {
    "duration": 13,
    "start_time": "2022-05-29T19:10:56.358Z"
   },
   {
    "duration": 9,
    "start_time": "2022-05-29T19:14:40.812Z"
   },
   {
    "duration": 9,
    "start_time": "2022-05-29T19:15:14.192Z"
   },
   {
    "duration": 15,
    "start_time": "2022-05-29T19:22:48.962Z"
   },
   {
    "duration": 13,
    "start_time": "2022-05-29T19:22:55.684Z"
   },
   {
    "duration": 14,
    "start_time": "2022-05-29T19:23:03.473Z"
   },
   {
    "duration": 11,
    "start_time": "2022-05-29T19:23:10.770Z"
   },
   {
    "duration": 22,
    "start_time": "2022-05-29T19:23:17.219Z"
   },
   {
    "duration": 781,
    "start_time": "2022-05-29T19:30:20.168Z"
   },
   {
    "duration": 768,
    "start_time": "2022-05-29T19:30:54.912Z"
   },
   {
    "duration": 483,
    "start_time": "2022-05-29T19:31:42.889Z"
   },
   {
    "duration": 280,
    "start_time": "2022-05-29T19:32:00.524Z"
   },
   {
    "duration": 251,
    "start_time": "2022-05-29T19:32:16.540Z"
   },
   {
    "duration": 831,
    "start_time": "2022-05-29T19:33:02.237Z"
   },
   {
    "duration": 359,
    "start_time": "2022-05-29T19:33:08.264Z"
   },
   {
    "duration": 384,
    "start_time": "2022-05-29T19:33:50.391Z"
   },
   {
    "duration": 383,
    "start_time": "2022-05-29T19:33:58.611Z"
   },
   {
    "duration": 345,
    "start_time": "2022-05-29T19:34:19.512Z"
   },
   {
    "duration": 359,
    "start_time": "2022-05-29T19:34:27.170Z"
   },
   {
    "duration": 37,
    "start_time": "2022-05-29T19:34:51.702Z"
   },
   {
    "duration": 337,
    "start_time": "2022-05-29T19:34:56.747Z"
   },
   {
    "duration": 369,
    "start_time": "2022-05-29T19:35:01.323Z"
   },
   {
    "duration": 374,
    "start_time": "2022-05-29T19:35:27.188Z"
   },
   {
    "duration": 332,
    "start_time": "2022-05-29T19:35:40.895Z"
   },
   {
    "duration": 329,
    "start_time": "2022-05-29T19:35:51.565Z"
   },
   {
    "duration": 424,
    "start_time": "2022-05-29T19:37:09.765Z"
   },
   {
    "duration": 352,
    "start_time": "2022-05-29T19:37:26.951Z"
   },
   {
    "duration": 326,
    "start_time": "2022-05-29T19:37:41.046Z"
   },
   {
    "duration": 355,
    "start_time": "2022-05-29T19:39:05.256Z"
   },
   {
    "duration": 390,
    "start_time": "2022-05-29T19:39:39.005Z"
   },
   {
    "duration": 306,
    "start_time": "2022-05-29T19:40:41.198Z"
   },
   {
    "duration": 1005,
    "start_time": "2022-05-29T19:40:57.849Z"
   },
   {
    "duration": 382,
    "start_time": "2022-05-29T19:41:04.540Z"
   },
   {
    "duration": 385,
    "start_time": "2022-05-29T19:41:08.138Z"
   },
   {
    "duration": 402,
    "start_time": "2022-05-29T19:41:17.940Z"
   },
   {
    "duration": 409,
    "start_time": "2022-05-29T19:42:12.000Z"
   },
   {
    "duration": 374,
    "start_time": "2022-05-29T19:42:23.622Z"
   },
   {
    "duration": 407,
    "start_time": "2022-05-29T19:42:35.455Z"
   },
   {
    "duration": 5,
    "start_time": "2022-05-29T19:43:35.692Z"
   },
   {
    "duration": 353,
    "start_time": "2022-05-29T19:44:50.568Z"
   },
   {
    "duration": 368,
    "start_time": "2022-05-29T19:44:56.862Z"
   },
   {
    "duration": 367,
    "start_time": "2022-05-29T19:45:03.606Z"
   },
   {
    "duration": 374,
    "start_time": "2022-05-29T19:45:07.250Z"
   },
   {
    "duration": 380,
    "start_time": "2022-05-29T19:45:20.952Z"
   },
   {
    "duration": 339,
    "start_time": "2022-05-29T19:45:27.411Z"
   },
   {
    "duration": 373,
    "start_time": "2022-05-29T19:45:33.417Z"
   },
   {
    "duration": 335,
    "start_time": "2022-05-29T19:45:43.859Z"
   },
   {
    "duration": 806,
    "start_time": "2022-05-29T19:45:53.798Z"
   },
   {
    "duration": 409,
    "start_time": "2022-05-29T19:45:58.602Z"
   },
   {
    "duration": 347,
    "start_time": "2022-05-29T19:46:05.472Z"
   },
   {
    "duration": 274,
    "start_time": "2022-05-29T19:47:42.007Z"
   },
   {
    "duration": 8,
    "start_time": "2022-05-29T19:49:10.902Z"
   },
   {
    "duration": 9,
    "start_time": "2022-05-29T19:49:11.508Z"
   },
   {
    "duration": 7,
    "start_time": "2022-05-29T19:49:19.492Z"
   },
   {
    "duration": 6,
    "start_time": "2022-05-29T19:49:23.393Z"
   },
   {
    "duration": 416,
    "start_time": "2022-05-29T19:50:52.234Z"
   },
   {
    "duration": 341,
    "start_time": "2022-05-29T19:51:12.798Z"
   },
   {
    "duration": 25,
    "start_time": "2022-05-29T19:51:29.030Z"
   },
   {
    "duration": 34,
    "start_time": "2022-05-29T19:51:35.374Z"
   },
   {
    "duration": 375,
    "start_time": "2022-05-29T19:52:18.451Z"
   },
   {
    "duration": 385,
    "start_time": "2022-05-29T19:52:44.712Z"
   },
   {
    "duration": 383,
    "start_time": "2022-05-29T19:52:49.462Z"
   },
   {
    "duration": 386,
    "start_time": "2022-05-29T19:53:04.676Z"
   },
   {
    "duration": 425,
    "start_time": "2022-05-29T19:54:27.698Z"
   },
   {
    "duration": 326,
    "start_time": "2022-05-29T19:54:38.999Z"
   },
   {
    "duration": 391,
    "start_time": "2022-05-29T19:56:20.791Z"
   },
   {
    "duration": 438,
    "start_time": "2022-05-29T19:57:01.371Z"
   },
   {
    "duration": 18,
    "start_time": "2022-05-29T19:58:01.432Z"
   },
   {
    "duration": 174,
    "start_time": "2022-05-29T19:58:17.406Z"
   },
   {
    "duration": 164,
    "start_time": "2022-05-29T19:58:34.392Z"
   },
   {
    "duration": 174,
    "start_time": "2022-05-29T19:58:44.577Z"
   },
   {
    "duration": 190,
    "start_time": "2022-05-29T19:58:51.656Z"
   },
   {
    "duration": 187,
    "start_time": "2022-05-29T19:59:18.394Z"
   },
   {
    "duration": 181,
    "start_time": "2022-05-29T19:59:29.402Z"
   },
   {
    "duration": 189,
    "start_time": "2022-05-29T20:00:02.352Z"
   },
   {
    "duration": 204,
    "start_time": "2022-05-29T20:00:09.157Z"
   },
   {
    "duration": 210,
    "start_time": "2022-05-29T20:00:17.792Z"
   },
   {
    "duration": 186,
    "start_time": "2022-05-29T20:00:24.339Z"
   },
   {
    "duration": 185,
    "start_time": "2022-05-29T20:00:31.496Z"
   },
   {
    "duration": 190,
    "start_time": "2022-05-29T20:01:01.613Z"
   },
   {
    "duration": 204,
    "start_time": "2022-05-29T20:01:12.399Z"
   },
   {
    "duration": 176,
    "start_time": "2022-05-29T20:01:36.655Z"
   },
   {
    "duration": 13,
    "start_time": "2022-05-29T20:04:20.052Z"
   },
   {
    "duration": 6,
    "start_time": "2022-05-29T20:04:34.474Z"
   },
   {
    "duration": 138,
    "start_time": "2022-05-29T20:07:15.060Z"
   },
   {
    "duration": 170,
    "start_time": "2022-05-29T20:07:31.120Z"
   },
   {
    "duration": 176,
    "start_time": "2022-05-29T20:07:41.167Z"
   },
   {
    "duration": 568,
    "start_time": "2022-05-29T20:07:45.427Z"
   },
   {
    "duration": 153,
    "start_time": "2022-05-29T20:07:56.893Z"
   },
   {
    "duration": 135,
    "start_time": "2022-05-29T20:10:59.635Z"
   },
   {
    "duration": 6,
    "start_time": "2022-05-29T20:11:20.789Z"
   },
   {
    "duration": 8,
    "start_time": "2022-05-29T20:11:42.964Z"
   },
   {
    "duration": 8,
    "start_time": "2022-05-29T20:12:04.309Z"
   },
   {
    "duration": 493,
    "start_time": "2022-05-29T20:16:17.708Z"
   },
   {
    "duration": 21,
    "start_time": "2022-05-29T20:33:27.600Z"
   },
   {
    "duration": 11,
    "start_time": "2022-05-29T20:36:03.738Z"
   },
   {
    "duration": 499,
    "start_time": "2022-05-29T20:36:04.545Z"
   },
   {
    "duration": 17,
    "start_time": "2022-05-29T20:36:14.842Z"
   },
   {
    "duration": 21,
    "start_time": "2022-05-29T20:36:38.750Z"
   },
   {
    "duration": 5,
    "start_time": "2022-05-29T20:37:09.653Z"
   },
   {
    "duration": 16,
    "start_time": "2022-05-29T20:37:11.477Z"
   },
   {
    "duration": 17,
    "start_time": "2022-05-29T20:37:28.022Z"
   },
   {
    "duration": 23,
    "start_time": "2022-05-29T20:37:44.496Z"
   },
   {
    "duration": 7,
    "start_time": "2022-05-29T20:38:21.064Z"
   },
   {
    "duration": 7,
    "start_time": "2022-05-29T20:38:22.091Z"
   },
   {
    "duration": 7,
    "start_time": "2022-05-29T20:40:16.893Z"
   },
   {
    "duration": 8,
    "start_time": "2022-05-29T20:40:17.461Z"
   },
   {
    "duration": 32,
    "start_time": "2022-05-29T20:41:22.520Z"
   },
   {
    "duration": 23,
    "start_time": "2022-05-29T20:41:31.710Z"
   },
   {
    "duration": 2444,
    "start_time": "2022-05-31T08:53:34.972Z"
   },
   {
    "duration": 32,
    "start_time": "2022-05-31T08:53:38.708Z"
   },
   {
    "duration": 16,
    "start_time": "2022-05-31T08:53:40.586Z"
   },
   {
    "duration": 7,
    "start_time": "2022-05-31T08:53:43.122Z"
   },
   {
    "duration": 30,
    "start_time": "2022-05-31T08:53:43.940Z"
   },
   {
    "duration": 20,
    "start_time": "2022-05-31T08:53:45.625Z"
   },
   {
    "duration": 13,
    "start_time": "2022-05-31T08:53:53.715Z"
   },
   {
    "duration": 25,
    "start_time": "2022-05-31T08:53:55.465Z"
   },
   {
    "duration": 7,
    "start_time": "2022-05-31T08:53:57.020Z"
   },
   {
    "duration": 13,
    "start_time": "2022-05-31T08:53:59.070Z"
   },
   {
    "duration": 5,
    "start_time": "2022-05-31T08:54:02.121Z"
   },
   {
    "duration": 36,
    "start_time": "2022-05-31T08:54:03.028Z"
   },
   {
    "duration": 15,
    "start_time": "2022-05-31T08:54:07.124Z"
   },
   {
    "duration": 16,
    "start_time": "2022-05-31T09:02:45.532Z"
   },
   {
    "duration": 151,
    "start_time": "2022-05-31T09:03:58.350Z"
   },
   {
    "duration": 7,
    "start_time": "2022-05-31T09:04:02.312Z"
   },
   {
    "duration": 9,
    "start_time": "2022-05-31T09:22:07.079Z"
   },
   {
    "duration": 11,
    "start_time": "2022-05-31T09:22:09.357Z"
   },
   {
    "duration": 9,
    "start_time": "2022-05-31T09:22:09.940Z"
   },
   {
    "duration": 6,
    "start_time": "2022-05-31T09:22:44.551Z"
   },
   {
    "duration": 62,
    "start_time": "2022-05-31T09:23:09.938Z"
   },
   {
    "duration": 10,
    "start_time": "2022-05-31T09:23:28.919Z"
   },
   {
    "duration": 33,
    "start_time": "2022-05-31T11:08:10.319Z"
   },
   {
    "duration": 11,
    "start_time": "2022-05-31T12:39:31.805Z"
   },
   {
    "duration": 9,
    "start_time": "2022-05-31T12:39:50.986Z"
   },
   {
    "duration": 43,
    "start_time": "2022-05-31T12:39:52.048Z"
   },
   {
    "duration": 14,
    "start_time": "2022-05-31T12:40:09.025Z"
   },
   {
    "duration": 982,
    "start_time": "2022-05-31T12:40:20.615Z"
   },
   {
    "duration": 370,
    "start_time": "2022-05-31T12:40:29.034Z"
   },
   {
    "duration": 323,
    "start_time": "2022-05-31T12:40:35.240Z"
   },
   {
    "duration": 5,
    "start_time": "2022-05-31T12:40:40.588Z"
   },
   {
    "duration": 13,
    "start_time": "2022-05-31T12:40:44.789Z"
   },
   {
    "duration": 20,
    "start_time": "2022-05-31T12:40:47.578Z"
   },
   {
    "duration": 42,
    "start_time": "2022-05-31T12:40:51.603Z"
   },
   {
    "duration": 420,
    "start_time": "2022-05-31T12:41:02.092Z"
   },
   {
    "duration": 273,
    "start_time": "2022-05-31T12:41:19.418Z"
   },
   {
    "duration": 212,
    "start_time": "2022-05-31T12:41:21.353Z"
   },
   {
    "duration": 7,
    "start_time": "2022-05-31T12:41:23.813Z"
   },
   {
    "duration": 31,
    "start_time": "2022-05-31T12:57:47.158Z"
   },
   {
    "duration": 7,
    "start_time": "2022-05-31T12:57:54.986Z"
   },
   {
    "duration": 392,
    "start_time": "2022-05-31T13:03:04.578Z"
   },
   {
    "duration": 375,
    "start_time": "2022-05-31T13:03:34.417Z"
   },
   {
    "duration": 333,
    "start_time": "2022-05-31T13:27:32.965Z"
   },
   {
    "duration": 172,
    "start_time": "2022-05-31T13:28:10.967Z"
   },
   {
    "duration": 250,
    "start_time": "2022-05-31T13:29:41.320Z"
   },
   {
    "duration": 214,
    "start_time": "2022-05-31T13:30:28.400Z"
   },
   {
    "duration": 20,
    "start_time": "2022-05-31T13:31:39.186Z"
   },
   {
    "duration": 187,
    "start_time": "2022-05-31T13:31:44.490Z"
   },
   {
    "duration": 185,
    "start_time": "2022-05-31T13:32:07.193Z"
   },
   {
    "duration": 203,
    "start_time": "2022-05-31T13:32:48.785Z"
   },
   {
    "duration": 310,
    "start_time": "2022-05-31T13:33:05.215Z"
   },
   {
    "duration": 10,
    "start_time": "2022-05-31T13:33:43.811Z"
   },
   {
    "duration": 181,
    "start_time": "2022-05-31T13:34:08.400Z"
   },
   {
    "duration": 181,
    "start_time": "2022-05-31T13:34:20.497Z"
   },
   {
    "duration": 51,
    "start_time": "2022-05-31T13:34:31.444Z"
   },
   {
    "duration": 197,
    "start_time": "2022-05-31T13:35:35.897Z"
   },
   {
    "duration": 252,
    "start_time": "2022-05-31T13:35:51.674Z"
   },
   {
    "duration": 266,
    "start_time": "2022-05-31T13:37:57.183Z"
   },
   {
    "duration": 295,
    "start_time": "2022-05-31T13:38:07.142Z"
   },
   {
    "duration": 1539,
    "start_time": "2022-05-31T20:42:44.708Z"
   },
   {
    "duration": 18,
    "start_time": "2022-05-31T20:42:49.392Z"
   },
   {
    "duration": 14,
    "start_time": "2022-05-31T20:42:50.531Z"
   },
   {
    "duration": 4,
    "start_time": "2022-05-31T20:42:52.987Z"
   },
   {
    "duration": 15,
    "start_time": "2022-05-31T20:42:53.568Z"
   },
   {
    "duration": 12,
    "start_time": "2022-05-31T20:42:57.564Z"
   },
   {
    "duration": 16,
    "start_time": "2022-05-31T20:43:01.963Z"
   },
   {
    "duration": 9,
    "start_time": "2022-05-31T20:43:02.675Z"
   },
   {
    "duration": 7,
    "start_time": "2022-05-31T20:43:04.247Z"
   },
   {
    "duration": 29,
    "start_time": "2022-05-31T20:43:06.514Z"
   },
   {
    "duration": 9,
    "start_time": "2022-05-31T20:43:10.249Z"
   },
   {
    "duration": 9,
    "start_time": "2022-05-31T20:43:11.287Z"
   },
   {
    "duration": 5,
    "start_time": "2022-05-31T20:43:13.301Z"
   },
   {
    "duration": 14,
    "start_time": "2022-05-31T20:43:14.685Z"
   },
   {
    "duration": 10,
    "start_time": "2022-05-31T20:43:16.079Z"
   },
   {
    "duration": 8,
    "start_time": "2022-05-31T20:43:31.818Z"
   },
   {
    "duration": 2997,
    "start_time": "2022-05-31T20:43:34.083Z"
   },
   {
    "duration": 19,
    "start_time": "2022-05-31T20:43:39.547Z"
   },
   {
    "duration": 8,
    "start_time": "2022-05-31T20:43:40.650Z"
   },
   {
    "duration": 11,
    "start_time": "2022-05-31T20:43:44.811Z"
   },
   {
    "duration": 8,
    "start_time": "2022-05-31T20:43:46.579Z"
   },
   {
    "duration": 5,
    "start_time": "2022-05-31T20:43:49.397Z"
   },
   {
    "duration": 36,
    "start_time": "2022-05-31T20:43:52.334Z"
   },
   {
    "duration": 7,
    "start_time": "2022-05-31T20:44:30.716Z"
   },
   {
    "duration": 287,
    "start_time": "2022-05-31T20:44:33.600Z"
   },
   {
    "duration": 280,
    "start_time": "2022-05-31T20:45:02.500Z"
   },
   {
    "duration": 272,
    "start_time": "2022-05-31T20:45:16.005Z"
   },
   {
    "duration": 424,
    "start_time": "2022-05-31T20:45:27.812Z"
   },
   {
    "duration": 254,
    "start_time": "2022-05-31T20:45:41.603Z"
   },
   {
    "duration": 328,
    "start_time": "2022-05-31T20:46:08.801Z"
   },
   {
    "duration": 249,
    "start_time": "2022-05-31T20:48:20.321Z"
   },
   {
    "duration": 293,
    "start_time": "2022-05-31T20:48:31.846Z"
   },
   {
    "duration": 260,
    "start_time": "2022-05-31T20:49:47.510Z"
   },
   {
    "duration": 5,
    "start_time": "2022-05-31T20:49:53.034Z"
   },
   {
    "duration": 11,
    "start_time": "2022-05-31T20:49:54.440Z"
   },
   {
    "duration": 8,
    "start_time": "2022-05-31T20:52:02.285Z"
   },
   {
    "duration": 7,
    "start_time": "2022-05-31T20:52:14.249Z"
   },
   {
    "duration": 152,
    "start_time": "2022-05-31T20:52:40.159Z"
   },
   {
    "duration": 178,
    "start_time": "2022-05-31T20:52:43.757Z"
   },
   {
    "duration": 1383,
    "start_time": "2022-06-01T19:26:35.068Z"
   },
   {
    "duration": 28,
    "start_time": "2022-06-01T19:26:37.996Z"
   },
   {
    "duration": 16,
    "start_time": "2022-06-01T19:26:39.061Z"
   },
   {
    "duration": 4,
    "start_time": "2022-06-01T19:26:42.649Z"
   },
   {
    "duration": 16,
    "start_time": "2022-06-01T19:26:44.003Z"
   },
   {
    "duration": 12,
    "start_time": "2022-06-01T19:26:45.627Z"
   },
   {
    "duration": 10,
    "start_time": "2022-06-01T19:26:47.301Z"
   },
   {
    "duration": 11,
    "start_time": "2022-06-01T19:26:47.996Z"
   },
   {
    "duration": 14,
    "start_time": "2022-06-01T19:27:07.335Z"
   },
   {
    "duration": 5,
    "start_time": "2022-06-01T19:27:09.197Z"
   },
   {
    "duration": 20,
    "start_time": "2022-06-01T19:27:11.097Z"
   },
   {
    "duration": 5,
    "start_time": "2022-06-01T19:27:12.839Z"
   },
   {
    "duration": 8,
    "start_time": "2022-06-01T19:27:14.421Z"
   },
   {
    "duration": 5,
    "start_time": "2022-06-01T19:27:18.421Z"
   },
   {
    "duration": 19,
    "start_time": "2022-06-01T19:27:21.016Z"
   },
   {
    "duration": 6,
    "start_time": "2022-06-01T19:27:22.719Z"
   },
   {
    "duration": 538,
    "start_time": "2022-06-01T19:31:29.469Z"
   },
   {
    "duration": 246,
    "start_time": "2022-06-01T19:31:48.399Z"
   },
   {
    "duration": 174,
    "start_time": "2022-06-01T19:32:41.710Z"
   },
   {
    "duration": 192,
    "start_time": "2022-06-01T19:33:07.844Z"
   },
   {
    "duration": 2722,
    "start_time": "2022-06-01T19:34:02.981Z"
   },
   {
    "duration": 2957,
    "start_time": "2022-06-01T19:34:14.678Z"
   },
   {
    "duration": 1155,
    "start_time": "2022-06-01T19:37:26.515Z"
   },
   {
    "duration": 1103,
    "start_time": "2022-06-01T19:37:53.515Z"
   },
   {
    "duration": 1116,
    "start_time": "2022-06-01T19:38:17.207Z"
   },
   {
    "duration": 1423,
    "start_time": "2022-06-01T19:38:37.964Z"
   },
   {
    "duration": 19,
    "start_time": "2022-06-01T19:40:14.719Z"
   },
   {
    "duration": 134,
    "start_time": "2022-06-01T19:40:59.075Z"
   },
   {
    "duration": 29,
    "start_time": "2022-06-01T19:41:15.812Z"
   },
   {
    "duration": 10,
    "start_time": "2022-06-01T19:41:28.363Z"
   },
   {
    "duration": 10,
    "start_time": "2022-06-01T19:42:02.109Z"
   },
   {
    "duration": 8,
    "start_time": "2022-06-01T19:42:11.073Z"
   },
   {
    "duration": 18,
    "start_time": "2022-06-01T19:42:15.113Z"
   },
   {
    "duration": 9,
    "start_time": "2022-06-01T19:42:23.615Z"
   },
   {
    "duration": 10,
    "start_time": "2022-06-01T19:42:40.575Z"
   },
   {
    "duration": 14,
    "start_time": "2022-06-01T19:42:59.615Z"
   },
   {
    "duration": 1140,
    "start_time": "2022-06-01T19:43:08.163Z"
   },
   {
    "duration": 20,
    "start_time": "2022-06-01T20:00:26.675Z"
   },
   {
    "duration": 53,
    "start_time": "2022-06-01T20:33:51.250Z"
   },
   {
    "duration": 17,
    "start_time": "2022-06-01T20:33:57.603Z"
   },
   {
    "duration": 20,
    "start_time": "2022-06-01T20:34:03.303Z"
   },
   {
    "duration": 10,
    "start_time": "2022-06-01T20:34:21.547Z"
   },
   {
    "duration": 10,
    "start_time": "2022-06-01T20:34:40.219Z"
   },
   {
    "duration": 8,
    "start_time": "2022-06-01T20:35:51.216Z"
   },
   {
    "duration": 7,
    "start_time": "2022-06-01T20:35:59.514Z"
   },
   {
    "duration": 23,
    "start_time": "2022-06-01T20:36:18.209Z"
   },
   {
    "duration": 21,
    "start_time": "2022-06-01T20:36:41.118Z"
   },
   {
    "duration": 9,
    "start_time": "2022-06-01T20:38:29.703Z"
   },
   {
    "duration": 5,
    "start_time": "2022-06-01T20:38:34.807Z"
   },
   {
    "duration": 6,
    "start_time": "2022-06-01T20:38:36.205Z"
   },
   {
    "duration": 9,
    "start_time": "2022-06-01T20:39:49.326Z"
   },
   {
    "duration": 1313,
    "start_time": "2022-06-02T06:32:24.561Z"
   },
   {
    "duration": 19,
    "start_time": "2022-06-02T06:32:33.886Z"
   },
   {
    "duration": 13,
    "start_time": "2022-06-02T06:32:35.186Z"
   },
   {
    "duration": 3,
    "start_time": "2022-06-02T06:32:38.469Z"
   },
   {
    "duration": 14,
    "start_time": "2022-06-02T06:32:39.232Z"
   },
   {
    "duration": 10,
    "start_time": "2022-06-02T06:32:40.758Z"
   },
   {
    "duration": 10,
    "start_time": "2022-06-02T06:32:42.115Z"
   },
   {
    "duration": 8,
    "start_time": "2022-06-02T06:32:42.852Z"
   },
   {
    "duration": 5,
    "start_time": "2022-06-02T06:32:44.693Z"
   },
   {
    "duration": 21,
    "start_time": "2022-06-02T06:32:46.547Z"
   },
   {
    "duration": 4,
    "start_time": "2022-06-02T06:32:48.291Z"
   },
   {
    "duration": 9,
    "start_time": "2022-06-02T06:32:48.917Z"
   },
   {
    "duration": 6,
    "start_time": "2022-06-02T06:32:50.685Z"
   },
   {
    "duration": 14,
    "start_time": "2022-06-02T06:32:51.295Z"
   },
   {
    "duration": 6,
    "start_time": "2022-06-02T06:32:53.002Z"
   },
   {
    "duration": 7,
    "start_time": "2022-06-02T06:33:42.163Z"
   },
   {
    "duration": 340,
    "start_time": "2022-06-02T06:35:36.630Z"
   },
   {
    "duration": 256,
    "start_time": "2022-06-02T06:35:56.362Z"
   },
   {
    "duration": 177,
    "start_time": "2022-06-02T06:36:02.369Z"
   },
   {
    "duration": 235,
    "start_time": "2022-06-02T06:48:32.421Z"
   },
   {
    "duration": 150,
    "start_time": "2022-06-02T06:48:47.326Z"
   },
   {
    "duration": 151,
    "start_time": "2022-06-02T06:49:13.559Z"
   },
   {
    "duration": 367,
    "start_time": "2022-06-02T06:49:25.705Z"
   },
   {
    "duration": 368,
    "start_time": "2022-06-02T06:49:35.640Z"
   },
   {
    "duration": 349,
    "start_time": "2022-06-02T06:49:49.037Z"
   },
   {
    "duration": 516,
    "start_time": "2022-06-02T06:49:56.192Z"
   },
   {
    "duration": 361,
    "start_time": "2022-06-02T06:50:18.172Z"
   },
   {
    "duration": 362,
    "start_time": "2022-06-02T06:53:41.558Z"
   },
   {
    "duration": 360,
    "start_time": "2022-06-02T06:54:00.106Z"
   },
   {
    "duration": 7,
    "start_time": "2022-06-02T08:29:36.716Z"
   },
   {
    "duration": 796,
    "start_time": "2022-06-02T08:30:14.919Z"
   },
   {
    "duration": 709,
    "start_time": "2022-06-02T08:30:23.046Z"
   },
   {
    "duration": 74,
    "start_time": "2022-06-02T08:30:37.800Z"
   },
   {
    "duration": 10,
    "start_time": "2022-06-02T08:30:43.782Z"
   },
   {
    "duration": 14,
    "start_time": "2022-06-02T08:31:10.640Z"
   },
   {
    "duration": 23,
    "start_time": "2022-06-02T08:31:17.273Z"
   },
   {
    "duration": 12,
    "start_time": "2022-06-02T08:31:24.442Z"
   },
   {
    "duration": 11,
    "start_time": "2022-06-02T08:31:34.146Z"
   },
   {
    "duration": 6,
    "start_time": "2022-06-02T08:32:49.543Z"
   },
   {
    "duration": 11,
    "start_time": "2022-06-02T08:32:50.176Z"
   },
   {
    "duration": 15,
    "start_time": "2022-06-02T08:34:41.251Z"
   },
   {
    "duration": 507,
    "start_time": "2022-06-02T08:37:59.394Z"
   },
   {
    "duration": 119,
    "start_time": "2022-06-02T08:38:32.955Z"
   },
   {
    "duration": 611,
    "start_time": "2022-06-02T08:38:39.255Z"
   },
   {
    "duration": 6,
    "start_time": "2022-06-02T08:39:18.748Z"
   },
   {
    "duration": 1245,
    "start_time": "2022-06-02T08:43:31.887Z"
   },
   {
    "duration": 1390,
    "start_time": "2022-06-02T08:43:46.432Z"
   },
   {
    "duration": 842,
    "start_time": "2022-06-02T08:46:16.061Z"
   },
   {
    "duration": 676,
    "start_time": "2022-06-02T08:46:54.725Z"
   },
   {
    "duration": 6,
    "start_time": "2022-06-02T08:48:18.746Z"
   },
   {
    "duration": 395,
    "start_time": "2022-06-02T08:48:29.407Z"
   },
   {
    "duration": 354,
    "start_time": "2022-06-02T08:48:47.042Z"
   },
   {
    "duration": 726,
    "start_time": "2022-06-02T08:49:22.681Z"
   },
   {
    "duration": 356,
    "start_time": "2022-06-02T08:49:33.471Z"
   },
   {
    "duration": 562,
    "start_time": "2022-06-02T08:52:07.120Z"
   },
   {
    "duration": 192,
    "start_time": "2022-06-02T08:52:40.668Z"
   },
   {
    "duration": 213,
    "start_time": "2022-06-02T08:53:03.095Z"
   },
   {
    "duration": 203,
    "start_time": "2022-06-02T08:53:23.221Z"
   },
   {
    "duration": 218,
    "start_time": "2022-06-02T08:53:34.729Z"
   },
   {
    "duration": 191,
    "start_time": "2022-06-02T08:53:55.433Z"
   },
   {
    "duration": 649,
    "start_time": "2022-06-02T08:57:02.349Z"
   },
   {
    "duration": 2629,
    "start_time": "2022-06-02T08:57:21.016Z"
   },
   {
    "duration": 2445,
    "start_time": "2022-06-02T08:57:47.659Z"
   },
   {
    "duration": 2743,
    "start_time": "2022-06-02T08:58:14.776Z"
   },
   {
    "duration": 3411,
    "start_time": "2022-06-02T08:58:34.181Z"
   },
   {
    "duration": 1727,
    "start_time": "2022-06-02T08:58:56.604Z"
   },
   {
    "duration": 569,
    "start_time": "2022-06-02T08:59:35.847Z"
   },
   {
    "duration": 1552,
    "start_time": "2022-06-02T08:59:50.297Z"
   },
   {
    "duration": 39198,
    "start_time": "2022-06-02T09:02:30.890Z"
   },
   {
    "duration": 546,
    "start_time": "2022-06-02T09:03:32.078Z"
   },
   {
    "duration": 46716,
    "start_time": "2022-06-02T09:03:37.103Z"
   },
   {
    "duration": 16,
    "start_time": "2022-06-02T09:09:06.948Z"
   },
   {
    "duration": 1835,
    "start_time": "2022-06-02T09:09:28.131Z"
   },
   {
    "duration": 1875,
    "start_time": "2022-06-02T09:10:09.376Z"
   },
   {
    "duration": 6,
    "start_time": "2022-06-02T09:14:43.501Z"
   },
   {
    "duration": 7,
    "start_time": "2022-06-02T09:15:01.078Z"
   },
   {
    "duration": 442,
    "start_time": "2022-06-02T09:16:58.199Z"
   },
   {
    "duration": 580,
    "start_time": "2022-06-02T09:17:12.336Z"
   },
   {
    "duration": 709,
    "start_time": "2022-06-02T09:17:33.758Z"
   },
   {
    "duration": 730,
    "start_time": "2022-06-02T09:17:43.349Z"
   },
   {
    "duration": 728,
    "start_time": "2022-06-02T09:18:22.532Z"
   },
   {
    "duration": 720,
    "start_time": "2022-06-02T09:19:08.358Z"
   },
   {
    "duration": 724,
    "start_time": "2022-06-02T09:19:19.310Z"
   },
   {
    "duration": 6,
    "start_time": "2022-06-02T09:21:03.823Z"
   },
   {
    "duration": 7,
    "start_time": "2022-06-02T09:21:04.750Z"
   },
   {
    "duration": 593,
    "start_time": "2022-06-02T09:21:10.041Z"
   },
   {
    "duration": 857,
    "start_time": "2022-06-02T09:21:47.829Z"
   },
   {
    "duration": 778,
    "start_time": "2022-06-02T09:21:56.027Z"
   },
   {
    "duration": 832,
    "start_time": "2022-06-02T09:26:26.980Z"
   },
   {
    "duration": 853,
    "start_time": "2022-06-02T09:26:42.483Z"
   },
   {
    "duration": 1724,
    "start_time": "2022-06-02T09:27:13.495Z"
   },
   {
    "duration": 788,
    "start_time": "2022-06-02T09:27:31.004Z"
   },
   {
    "duration": 748,
    "start_time": "2022-06-02T09:27:42.180Z"
   },
   {
    "duration": 774,
    "start_time": "2022-06-02T09:27:52.068Z"
   },
   {
    "duration": 753,
    "start_time": "2022-06-02T09:28:03.642Z"
   },
   {
    "duration": 797,
    "start_time": "2022-06-02T09:28:08.880Z"
   },
   {
    "duration": 996,
    "start_time": "2022-06-02T09:28:43.845Z"
   },
   {
    "duration": 1071,
    "start_time": "2022-06-02T09:28:53.857Z"
   },
   {
    "duration": 1334,
    "start_time": "2022-06-02T09:31:25.209Z"
   },
   {
    "duration": 1328,
    "start_time": "2022-06-02T09:31:45.746Z"
   },
   {
    "duration": 700,
    "start_time": "2022-06-02T09:35:28.962Z"
   },
   {
    "duration": 10,
    "start_time": "2022-06-02T09:35:32.596Z"
   },
   {
    "duration": 1249,
    "start_time": "2022-06-02T09:35:33.259Z"
   },
   {
    "duration": 8,
    "start_time": "2022-06-02T09:36:00.515Z"
   },
   {
    "duration": 7,
    "start_time": "2022-06-02T09:36:01.258Z"
   },
   {
    "duration": 4,
    "start_time": "2022-06-02T09:36:38.775Z"
   },
   {
    "duration": 23,
    "start_time": "2022-06-02T09:36:39.833Z"
   },
   {
    "duration": 8,
    "start_time": "2022-06-02T09:36:59.518Z"
   },
   {
    "duration": 293,
    "start_time": "2022-06-02T09:37:11.897Z"
   },
   {
    "duration": 317,
    "start_time": "2022-06-02T09:38:23.182Z"
   },
   {
    "duration": 280,
    "start_time": "2022-06-02T09:38:30.641Z"
   },
   {
    "duration": 923,
    "start_time": "2022-06-02T09:40:04.597Z"
   },
   {
    "duration": 311,
    "start_time": "2022-06-02T09:41:24.767Z"
   },
   {
    "duration": 18,
    "start_time": "2022-06-02T09:41:27.726Z"
   },
   {
    "duration": 13,
    "start_time": "2022-06-02T09:41:40.915Z"
   },
   {
    "duration": 279,
    "start_time": "2022-06-02T09:42:20.976Z"
   },
   {
    "duration": 13,
    "start_time": "2022-06-02T09:42:29.567Z"
   },
   {
    "duration": 272,
    "start_time": "2022-06-02T09:42:45.709Z"
   },
   {
    "duration": 11,
    "start_time": "2022-06-02T09:42:54.011Z"
   },
   {
    "duration": 48,
    "start_time": "2022-06-02T09:43:42.647Z"
   },
   {
    "duration": 1198,
    "start_time": "2022-06-02T09:43:54.806Z"
   },
   {
    "duration": 18,
    "start_time": "2022-06-02T09:43:57.043Z"
   },
   {
    "duration": 15,
    "start_time": "2022-06-02T09:43:58.100Z"
   },
   {
    "duration": 4,
    "start_time": "2022-06-02T09:44:00.673Z"
   },
   {
    "duration": 14,
    "start_time": "2022-06-02T09:44:01.297Z"
   },
   {
    "duration": 9,
    "start_time": "2022-06-02T09:44:02.383Z"
   },
   {
    "duration": 11,
    "start_time": "2022-06-02T09:44:03.745Z"
   },
   {
    "duration": 10,
    "start_time": "2022-06-02T09:44:04.243Z"
   },
   {
    "duration": 6,
    "start_time": "2022-06-02T09:44:05.541Z"
   },
   {
    "duration": 21,
    "start_time": "2022-06-02T09:44:06.779Z"
   },
   {
    "duration": 5,
    "start_time": "2022-06-02T09:44:08.175Z"
   },
   {
    "duration": 9,
    "start_time": "2022-06-02T09:44:08.583Z"
   },
   {
    "duration": 5,
    "start_time": "2022-06-02T09:44:09.847Z"
   },
   {
    "duration": 17,
    "start_time": "2022-06-02T09:44:10.255Z"
   },
   {
    "duration": 7,
    "start_time": "2022-06-02T09:44:11.570Z"
   },
   {
    "duration": 9,
    "start_time": "2022-06-02T09:44:14.894Z"
   },
   {
    "duration": 483,
    "start_time": "2022-06-02T09:44:17.040Z"
   },
   {
    "duration": 11,
    "start_time": "2022-06-02T09:44:21.061Z"
   },
   {
    "duration": 10,
    "start_time": "2022-06-02T09:44:22.482Z"
   },
   {
    "duration": 1057,
    "start_time": "2022-06-02T09:44:23.197Z"
   },
   {
    "duration": 1073,
    "start_time": "2022-06-02T09:44:40.582Z"
   },
   {
    "duration": 7,
    "start_time": "2022-06-02T09:45:30.755Z"
   },
   {
    "duration": 5,
    "start_time": "2022-06-02T09:45:31.469Z"
   },
   {
    "duration": 5,
    "start_time": "2022-06-02T09:45:33.921Z"
   },
   {
    "duration": 21,
    "start_time": "2022-06-02T09:45:34.676Z"
   },
   {
    "duration": 8,
    "start_time": "2022-06-02T09:45:37.742Z"
   },
   {
    "duration": 398,
    "start_time": "2022-06-02T09:45:38.905Z"
   },
   {
    "duration": 1095,
    "start_time": "2022-06-02T09:45:50.921Z"
   },
   {
    "duration": 32,
    "start_time": "2022-06-02T09:46:11.281Z"
   },
   {
    "duration": 34,
    "start_time": "2022-06-02T09:46:13.849Z"
   },
   {
    "duration": 41,
    "start_time": "2022-06-02T09:46:26.429Z"
   },
   {
    "duration": 1208,
    "start_time": "2022-06-02T09:46:34.812Z"
   },
   {
    "duration": 1078,
    "start_time": "2022-06-02T09:46:53.841Z"
   },
   {
    "duration": 1055,
    "start_time": "2022-06-02T09:47:14.959Z"
   },
   {
    "duration": 7,
    "start_time": "2022-06-02T09:47:35.774Z"
   },
   {
    "duration": 6,
    "start_time": "2022-06-02T09:47:36.308Z"
   },
   {
    "duration": 6,
    "start_time": "2022-06-02T09:47:38.045Z"
   },
   {
    "duration": 24,
    "start_time": "2022-06-02T09:47:38.450Z"
   },
   {
    "duration": 10,
    "start_time": "2022-06-02T09:47:40.143Z"
   },
   {
    "duration": 385,
    "start_time": "2022-06-02T09:47:41.072Z"
   },
   {
    "duration": 243,
    "start_time": "2022-06-02T09:47:59.362Z"
   },
   {
    "duration": 247,
    "start_time": "2022-06-02T09:48:02.776Z"
   },
   {
    "duration": 290,
    "start_time": "2022-06-02T09:48:29.491Z"
   },
   {
    "duration": 5,
    "start_time": "2022-06-02T09:48:38.727Z"
   },
   {
    "duration": 160,
    "start_time": "2022-06-02T09:49:23.228Z"
   },
   {
    "duration": 142,
    "start_time": "2022-06-02T09:49:56.719Z"
   },
   {
    "duration": 153,
    "start_time": "2022-06-02T09:50:12.776Z"
   },
   {
    "duration": 141,
    "start_time": "2022-06-02T09:50:20.514Z"
   },
   {
    "duration": 145,
    "start_time": "2022-06-02T09:50:53.716Z"
   },
   {
    "duration": 139,
    "start_time": "2022-06-02T09:51:09.394Z"
   },
   {
    "duration": 248,
    "start_time": "2022-06-02T09:51:18.279Z"
   },
   {
    "duration": 21,
    "start_time": "2022-06-02T09:51:51.185Z"
   },
   {
    "duration": 268,
    "start_time": "2022-06-02T09:52:04.162Z"
   },
   {
    "duration": 8,
    "start_time": "2022-06-02T09:52:18.080Z"
   },
   {
    "duration": 185,
    "start_time": "2022-06-02T09:53:12.627Z"
   },
   {
    "duration": 198,
    "start_time": "2022-06-02T09:53:18.100Z"
   },
   {
    "duration": 198,
    "start_time": "2022-06-02T09:54:20.023Z"
   },
   {
    "duration": 178,
    "start_time": "2022-06-02T09:54:41.987Z"
   },
   {
    "duration": 185,
    "start_time": "2022-06-02T09:54:56.987Z"
   },
   {
    "duration": 208,
    "start_time": "2022-06-02T09:55:50.130Z"
   },
   {
    "duration": 356,
    "start_time": "2022-06-02T09:56:20.532Z"
   },
   {
    "duration": 473,
    "start_time": "2022-06-02T09:56:31.816Z"
   },
   {
    "duration": 306,
    "start_time": "2022-06-02T09:56:40.488Z"
   },
   {
    "duration": 309,
    "start_time": "2022-06-02T09:56:48.246Z"
   },
   {
    "duration": 329,
    "start_time": "2022-06-02T09:56:52.208Z"
   },
   {
    "duration": 357,
    "start_time": "2022-06-02T09:57:02.562Z"
   },
   {
    "duration": 322,
    "start_time": "2022-06-02T09:57:23.085Z"
   },
   {
    "duration": 8,
    "start_time": "2022-06-02T10:08:27.557Z"
   },
   {
    "duration": 4,
    "start_time": "2022-06-02T10:08:36.847Z"
   },
   {
    "duration": 21,
    "start_time": "2022-06-02T10:08:37.384Z"
   },
   {
    "duration": 7,
    "start_time": "2022-06-02T10:08:39.238Z"
   },
   {
    "duration": 370,
    "start_time": "2022-06-02T10:08:40.559Z"
   },
   {
    "duration": 238,
    "start_time": "2022-06-02T10:08:42.991Z"
   },
   {
    "duration": 107,
    "start_time": "2022-06-02T10:08:44.921Z"
   },
   {
    "duration": 12,
    "start_time": "2022-06-02T10:09:04.103Z"
   },
   {
    "duration": 156,
    "start_time": "2022-06-02T10:09:06.406Z"
   },
   {
    "duration": 136,
    "start_time": "2022-06-02T10:09:08.240Z"
   },
   {
    "duration": 128,
    "start_time": "2022-06-02T10:09:09.969Z"
   },
   {
    "duration": 135,
    "start_time": "2022-06-02T10:09:11.366Z"
   },
   {
    "duration": 23,
    "start_time": "2022-06-02T10:09:12.771Z"
   },
   {
    "duration": 240,
    "start_time": "2022-06-02T10:09:14.256Z"
   },
   {
    "duration": 7,
    "start_time": "2022-06-02T10:09:16.749Z"
   },
   {
    "duration": 221,
    "start_time": "2022-06-02T10:09:18.348Z"
   },
   {
    "duration": 198,
    "start_time": "2022-06-02T10:09:20.339Z"
   },
   {
    "duration": 8,
    "start_time": "2022-06-02T10:09:22.738Z"
   },
   {
    "duration": 8,
    "start_time": "2022-06-02T10:09:35.954Z"
   },
   {
    "duration": 7,
    "start_time": "2022-06-02T10:09:37.291Z"
   },
   {
    "duration": 7,
    "start_time": "2022-06-02T10:09:39.501Z"
   },
   {
    "duration": 417,
    "start_time": "2022-06-02T10:10:02.738Z"
   },
   {
    "duration": 333,
    "start_time": "2022-06-02T10:10:24.132Z"
   },
   {
    "duration": 7,
    "start_time": "2022-06-02T10:10:58.154Z"
   },
   {
    "duration": 7,
    "start_time": "2022-06-02T10:10:59.695Z"
   },
   {
    "duration": 7,
    "start_time": "2022-06-02T10:11:01.056Z"
   },
   {
    "duration": 355,
    "start_time": "2022-06-02T10:11:12.818Z"
   },
   {
    "duration": 344,
    "start_time": "2022-06-02T10:11:24.992Z"
   },
   {
    "duration": 332,
    "start_time": "2022-06-02T10:11:41.522Z"
   },
   {
    "duration": 6,
    "start_time": "2022-06-02T10:11:56.993Z"
   },
   {
    "duration": 7,
    "start_time": "2022-06-02T10:11:58.313Z"
   },
   {
    "duration": 7,
    "start_time": "2022-06-02T10:12:00.586Z"
   },
   {
    "duration": 297,
    "start_time": "2022-06-02T10:12:12.910Z"
   },
   {
    "duration": 426,
    "start_time": "2022-06-02T10:12:44.467Z"
   },
   {
    "duration": 939,
    "start_time": "2022-06-02T10:13:21.855Z"
   },
   {
    "duration": 8,
    "start_time": "2022-06-02T10:13:28.516Z"
   },
   {
    "duration": 8,
    "start_time": "2022-06-02T10:13:29.780Z"
   },
   {
    "duration": 10,
    "start_time": "2022-06-02T10:13:42.053Z"
   },
   {
    "duration": 7,
    "start_time": "2022-06-02T10:13:42.758Z"
   },
   {
    "duration": 56,
    "start_time": "2022-06-02T10:14:40.484Z"
   },
   {
    "duration": 19,
    "start_time": "2022-06-02T10:14:55.141Z"
   },
   {
    "duration": 141,
    "start_time": "2022-06-02T10:19:36.078Z"
   },
   {
    "duration": 12,
    "start_time": "2022-06-02T10:19:41.591Z"
   },
   {
    "duration": 42,
    "start_time": "2022-06-02T10:20:41.627Z"
   },
   {
    "duration": 13,
    "start_time": "2022-06-02T10:20:57.432Z"
   },
   {
    "duration": 12,
    "start_time": "2022-06-02T10:21:02.804Z"
   },
   {
    "duration": 241,
    "start_time": "2022-06-02T10:23:48.360Z"
   },
   {
    "duration": 242,
    "start_time": "2022-06-02T10:23:58.227Z"
   },
   {
    "duration": 246,
    "start_time": "2022-06-02T10:24:10.299Z"
   },
   {
    "duration": 318,
    "start_time": "2022-06-02T10:24:15.422Z"
   },
   {
    "duration": 256,
    "start_time": "2022-06-02T10:24:39.405Z"
   },
   {
    "duration": 357,
    "start_time": "2022-06-02T10:24:44.514Z"
   },
   {
    "duration": 308,
    "start_time": "2022-06-02T10:24:52.870Z"
   },
   {
    "duration": 561,
    "start_time": "2022-06-02T10:30:30.358Z"
   },
   {
    "duration": 607,
    "start_time": "2022-06-02T10:31:28.982Z"
   },
   {
    "duration": 548,
    "start_time": "2022-06-02T10:31:44.730Z"
   },
   {
    "duration": 587,
    "start_time": "2022-06-02T10:31:47.942Z"
   },
   {
    "duration": 556,
    "start_time": "2022-06-02T10:31:56.080Z"
   },
   {
    "duration": 397,
    "start_time": "2022-06-02T10:32:01.283Z"
   },
   {
    "duration": 374,
    "start_time": "2022-06-02T10:32:49.526Z"
   },
   {
    "duration": 391,
    "start_time": "2022-06-02T10:32:54.638Z"
   },
   {
    "duration": 885,
    "start_time": "2022-06-02T10:33:31.259Z"
   },
   {
    "duration": 969,
    "start_time": "2022-06-02T10:33:40.700Z"
   },
   {
    "duration": 707,
    "start_time": "2022-06-02T10:33:53.413Z"
   },
   {
    "duration": 492,
    "start_time": "2022-06-02T10:34:29.553Z"
   },
   {
    "duration": 262,
    "start_time": "2022-06-02T10:36:28.381Z"
   },
   {
    "duration": 463,
    "start_time": "2022-06-02T10:36:46.506Z"
   },
   {
    "duration": 560,
    "start_time": "2022-06-02T10:36:59.131Z"
   },
   {
    "duration": 276,
    "start_time": "2022-06-02T10:37:09.884Z"
   },
   {
    "duration": 425,
    "start_time": "2022-06-02T10:37:21.121Z"
   },
   {
    "duration": 302,
    "start_time": "2022-06-02T10:38:11.357Z"
   },
   {
    "duration": 305,
    "start_time": "2022-06-02T10:39:03.052Z"
   },
   {
    "duration": 256,
    "start_time": "2022-06-02T10:40:39.568Z"
   },
   {
    "duration": 563,
    "start_time": "2022-06-02T10:41:13.846Z"
   },
   {
    "duration": 339,
    "start_time": "2022-06-02T10:41:44.719Z"
   },
   {
    "duration": 328,
    "start_time": "2022-06-02T10:44:35.667Z"
   },
   {
    "duration": 319,
    "start_time": "2022-06-02T10:44:44.068Z"
   },
   {
    "duration": 301,
    "start_time": "2022-06-02T10:44:51.909Z"
   },
   {
    "duration": 364,
    "start_time": "2022-06-02T10:45:05.167Z"
   },
   {
    "duration": 482,
    "start_time": "2022-06-02T10:46:15.040Z"
   },
   {
    "duration": 337,
    "start_time": "2022-06-02T10:46:52.262Z"
   },
   {
    "duration": 251,
    "start_time": "2022-06-02T10:54:59.031Z"
   },
   {
    "duration": 349,
    "start_time": "2022-06-02T10:55:16.498Z"
   },
   {
    "duration": 367,
    "start_time": "2022-06-02T10:55:36.063Z"
   },
   {
    "duration": 422,
    "start_time": "2022-06-02T10:56:19.315Z"
   },
   {
    "duration": 42,
    "start_time": "2022-06-02T10:56:36.232Z"
   },
   {
    "duration": 297,
    "start_time": "2022-06-02T10:57:11.479Z"
   },
   {
    "duration": 331,
    "start_time": "2022-06-02T10:57:15.078Z"
   },
   {
    "duration": 315,
    "start_time": "2022-06-02T10:57:25.563Z"
   },
   {
    "duration": 32,
    "start_time": "2022-06-02T11:20:36.094Z"
   },
   {
    "duration": 24,
    "start_time": "2022-06-02T11:21:05.666Z"
   },
   {
    "duration": 2376,
    "start_time": "2022-06-02T16:50:16.245Z"
   },
   {
    "duration": 19,
    "start_time": "2022-06-02T16:50:19.645Z"
   },
   {
    "duration": 15,
    "start_time": "2022-06-02T16:50:20.580Z"
   },
   {
    "duration": 4,
    "start_time": "2022-06-02T16:50:23.168Z"
   },
   {
    "duration": 18,
    "start_time": "2022-06-02T16:50:23.852Z"
   },
   {
    "duration": 10,
    "start_time": "2022-06-02T16:50:25.437Z"
   },
   {
    "duration": 12,
    "start_time": "2022-06-02T16:50:26.685Z"
   },
   {
    "duration": 8,
    "start_time": "2022-06-02T16:50:27.094Z"
   },
   {
    "duration": 7,
    "start_time": "2022-06-02T16:50:28.904Z"
   },
   {
    "duration": 28,
    "start_time": "2022-06-02T16:50:30.116Z"
   },
   {
    "duration": 5,
    "start_time": "2022-06-02T16:50:32.040Z"
   },
   {
    "duration": 12,
    "start_time": "2022-06-02T16:50:32.439Z"
   },
   {
    "duration": 6,
    "start_time": "2022-06-02T16:50:33.688Z"
   },
   {
    "duration": 29,
    "start_time": "2022-06-02T16:50:34.041Z"
   },
   {
    "duration": 9,
    "start_time": "2022-06-02T16:50:35.476Z"
   },
   {
    "duration": 13,
    "start_time": "2022-06-02T16:50:36.865Z"
   },
   {
    "duration": 8,
    "start_time": "2022-06-02T16:50:43.376Z"
   },
   {
    "duration": 517,
    "start_time": "2022-06-02T16:50:45.282Z"
   },
   {
    "duration": 16,
    "start_time": "2022-06-02T16:50:48.201Z"
   },
   {
    "duration": 11,
    "start_time": "2022-06-02T16:50:49.648Z"
   },
   {
    "duration": 1049,
    "start_time": "2022-06-02T16:50:50.262Z"
   },
   {
    "duration": 8,
    "start_time": "2022-06-02T16:50:55.092Z"
   },
   {
    "duration": 5,
    "start_time": "2022-06-02T16:50:55.543Z"
   },
   {
    "duration": 4,
    "start_time": "2022-06-02T16:50:57.998Z"
   },
   {
    "duration": 20,
    "start_time": "2022-06-02T16:50:59.046Z"
   },
   {
    "duration": 8,
    "start_time": "2022-06-02T16:51:01.736Z"
   },
   {
    "duration": 292,
    "start_time": "2022-06-02T16:51:03.156Z"
   },
   {
    "duration": 238,
    "start_time": "2022-06-02T16:51:07.123Z"
   },
   {
    "duration": 372,
    "start_time": "2022-06-02T16:51:09.428Z"
   },
   {
    "duration": 12,
    "start_time": "2022-06-02T16:51:13.305Z"
   },
   {
    "duration": 142,
    "start_time": "2022-06-02T16:51:21.764Z"
   },
   {
    "duration": 142,
    "start_time": "2022-06-02T16:51:23.243Z"
   },
   {
    "duration": 166,
    "start_time": "2022-06-02T16:51:25.125Z"
   },
   {
    "duration": 131,
    "start_time": "2022-06-02T16:51:26.528Z"
   },
   {
    "duration": 22,
    "start_time": "2022-06-02T16:51:28.049Z"
   },
   {
    "duration": 297,
    "start_time": "2022-06-02T16:51:29.476Z"
   },
   {
    "duration": 9,
    "start_time": "2022-06-02T16:51:33.862Z"
   },
   {
    "duration": 203,
    "start_time": "2022-06-02T16:51:44.517Z"
   },
   {
    "duration": 232,
    "start_time": "2022-06-02T16:51:48.822Z"
   },
   {
    "duration": 6,
    "start_time": "2022-06-02T16:53:22.922Z"
   },
   {
    "duration": 342,
    "start_time": "2022-06-02T17:55:40.803Z"
   },
   {
    "duration": 478,
    "start_time": "2022-06-02T17:56:02.519Z"
   },
   {
    "duration": 409,
    "start_time": "2022-06-02T17:56:08.904Z"
   },
   {
    "duration": 36,
    "start_time": "2022-06-02T17:56:25.664Z"
   },
   {
    "duration": 360,
    "start_time": "2022-06-02T17:56:37.069Z"
   },
   {
    "duration": 329,
    "start_time": "2022-06-02T17:56:56.390Z"
   },
   {
    "duration": 53,
    "start_time": "2022-06-02T17:57:17.558Z"
   },
   {
    "duration": 388,
    "start_time": "2022-06-02T17:57:22.609Z"
   },
   {
    "duration": 333,
    "start_time": "2022-06-02T17:57:42.183Z"
   },
   {
    "duration": 8443,
    "start_time": "2022-06-02T18:01:24.033Z"
   },
   {
    "duration": 15,
    "start_time": "2022-06-02T18:02:20.921Z"
   },
   {
    "duration": 504,
    "start_time": "2022-06-02T18:02:27.142Z"
   },
   {
    "duration": 4156,
    "start_time": "2022-06-02T18:03:38.351Z"
   },
   {
    "duration": 5069,
    "start_time": "2022-06-02T18:04:03.438Z"
   },
   {
    "duration": 3424,
    "start_time": "2022-06-02T18:04:11.949Z"
   },
   {
    "duration": 9572,
    "start_time": "2022-06-02T18:04:17.895Z"
   },
   {
    "duration": 4,
    "start_time": "2022-06-02T18:05:05.746Z"
   },
   {
    "duration": 431,
    "start_time": "2022-06-02T18:05:31.213Z"
   },
   {
    "duration": 12,
    "start_time": "2022-06-02T18:09:53.933Z"
   },
   {
    "duration": 1421,
    "start_time": "2022-06-02T18:10:00.167Z"
   },
   {
    "duration": 1606,
    "start_time": "2022-06-02T18:10:55.380Z"
   },
   {
    "duration": 1864,
    "start_time": "2022-06-02T18:11:56.244Z"
   },
   {
    "duration": 8,
    "start_time": "2022-06-02T18:21:23.070Z"
   },
   {
    "duration": 11,
    "start_time": "2022-06-02T18:21:24.050Z"
   },
   {
    "duration": 24,
    "start_time": "2022-06-02T18:46:16.521Z"
   },
   {
    "duration": 2245,
    "start_time": "2022-06-02T18:46:21.242Z"
   },
   {
    "duration": 1224,
    "start_time": "2022-06-02T18:46:38.568Z"
   },
   {
    "duration": 22,
    "start_time": "2022-06-02T19:08:02.742Z"
   },
   {
    "duration": 12,
    "start_time": "2022-06-02T19:08:22.465Z"
   },
   {
    "duration": 11,
    "start_time": "2022-06-02T19:08:37.894Z"
   },
   {
    "duration": 4,
    "start_time": "2022-06-02T19:17:41.900Z"
   },
   {
    "duration": 1540,
    "start_time": "2022-06-02T19:17:42.610Z"
   },
   {
    "duration": 1576,
    "start_time": "2022-06-02T19:17:48.818Z"
   },
   {
    "duration": 2143,
    "start_time": "2022-06-02T19:18:00.869Z"
   },
   {
    "duration": 302,
    "start_time": "2022-06-02T19:19:19.643Z"
   },
   {
    "duration": 1864,
    "start_time": "2022-06-02T19:19:40.957Z"
   },
   {
    "duration": 272,
    "start_time": "2022-06-02T19:20:08.257Z"
   },
   {
    "duration": 350,
    "start_time": "2022-06-02T19:21:23.625Z"
   },
   {
    "duration": 298,
    "start_time": "2022-06-02T19:21:40.099Z"
   },
   {
    "duration": 10,
    "start_time": "2022-06-02T19:44:48.510Z"
   },
   {
    "duration": 10,
    "start_time": "2022-06-02T19:44:51.297Z"
   },
   {
    "duration": 9,
    "start_time": "2022-06-02T19:44:52.000Z"
   },
   {
    "duration": 8,
    "start_time": "2022-06-02T19:45:11.300Z"
   },
   {
    "duration": 5,
    "start_time": "2022-06-02T19:45:56.209Z"
   },
   {
    "duration": 4,
    "start_time": "2022-06-02T19:46:02.305Z"
   },
   {
    "duration": 6,
    "start_time": "2022-06-02T19:46:10.991Z"
   },
   {
    "duration": 11,
    "start_time": "2022-06-02T19:48:17.795Z"
   },
   {
    "duration": 7,
    "start_time": "2022-06-02T19:48:18.996Z"
   },
   {
    "duration": 1228,
    "start_time": "2022-06-02T21:12:35.333Z"
   },
   {
    "duration": 18,
    "start_time": "2022-06-02T21:12:36.563Z"
   },
   {
    "duration": 13,
    "start_time": "2022-06-02T21:12:36.582Z"
   },
   {
    "duration": 3,
    "start_time": "2022-06-02T21:12:36.596Z"
   },
   {
    "duration": 16,
    "start_time": "2022-06-02T21:12:36.602Z"
   },
   {
    "duration": 12,
    "start_time": "2022-06-02T21:12:36.619Z"
   },
   {
    "duration": 23,
    "start_time": "2022-06-02T21:12:36.633Z"
   },
   {
    "duration": 8,
    "start_time": "2022-06-02T21:12:36.658Z"
   },
   {
    "duration": 16,
    "start_time": "2022-06-02T21:12:36.668Z"
   },
   {
    "duration": 25,
    "start_time": "2022-06-02T21:12:36.687Z"
   },
   {
    "duration": 5,
    "start_time": "2022-06-02T21:12:36.714Z"
   },
   {
    "duration": 11,
    "start_time": "2022-06-02T21:12:36.721Z"
   },
   {
    "duration": 5,
    "start_time": "2022-06-02T21:12:36.751Z"
   },
   {
    "duration": 16,
    "start_time": "2022-06-02T21:12:36.760Z"
   },
   {
    "duration": 7,
    "start_time": "2022-06-02T21:12:36.778Z"
   },
   {
    "duration": 8,
    "start_time": "2022-06-02T21:12:36.787Z"
   },
   {
    "duration": 9,
    "start_time": "2022-06-02T21:12:36.797Z"
   },
   {
    "duration": 468,
    "start_time": "2022-06-02T21:12:36.807Z"
   },
   {
    "duration": 11,
    "start_time": "2022-06-02T21:12:37.276Z"
   },
   {
    "duration": 10,
    "start_time": "2022-06-02T21:12:37.288Z"
   },
   {
    "duration": 1061,
    "start_time": "2022-06-02T21:12:37.299Z"
   },
   {
    "duration": 8,
    "start_time": "2022-06-02T21:12:38.362Z"
   },
   {
    "duration": 4,
    "start_time": "2022-06-02T21:12:38.371Z"
   },
   {
    "duration": 11,
    "start_time": "2022-06-02T21:12:38.376Z"
   },
   {
    "duration": 22,
    "start_time": "2022-06-02T21:12:38.388Z"
   },
   {
    "duration": 10,
    "start_time": "2022-06-02T21:12:38.412Z"
   },
   {
    "duration": 329,
    "start_time": "2022-06-02T21:12:38.423Z"
   },
   {
    "duration": 243,
    "start_time": "2022-06-02T21:12:38.753Z"
   },
   {
    "duration": 368,
    "start_time": "2022-06-02T21:12:38.997Z"
   },
   {
    "duration": 10,
    "start_time": "2022-06-02T21:12:39.367Z"
   },
   {
    "duration": 12,
    "start_time": "2022-06-02T21:12:39.378Z"
   },
   {
    "duration": 3,
    "start_time": "2022-06-02T21:12:39.392Z"
   },
   {
    "duration": 1350,
    "start_time": "2022-06-02T21:12:39.397Z"
   },
   {
    "duration": 268,
    "start_time": "2022-06-02T21:12:40.754Z"
   },
   {
    "duration": 1760,
    "start_time": "2022-06-02T21:12:41.023Z"
   },
   {
    "duration": 250,
    "start_time": "2022-06-02T21:12:42.784Z"
   },
   {
    "duration": 20,
    "start_time": "2022-06-02T21:12:43.036Z"
   },
   {
    "duration": 223,
    "start_time": "2022-06-02T21:12:43.058Z"
   },
   {
    "duration": 227,
    "start_time": "2022-06-02T21:12:43.283Z"
   },
   {
    "duration": 7,
    "start_time": "2022-06-02T21:12:43.511Z"
   },
   {
    "duration": 11,
    "start_time": "2022-06-02T21:12:43.522Z"
   },
   {
    "duration": 17,
    "start_time": "2022-06-02T21:12:43.535Z"
   },
   {
    "duration": 469,
    "start_time": "2022-06-02T21:12:43.554Z"
   },
   {
    "duration": 7,
    "start_time": "2022-06-02T21:12:44.024Z"
   },
   {
    "duration": 7,
    "start_time": "2022-06-02T21:12:44.033Z"
   },
   {
    "duration": 7,
    "start_time": "2022-06-02T21:12:44.052Z"
   },
   {
    "duration": 336,
    "start_time": "2022-06-02T21:12:44.060Z"
   },
   {
    "duration": 7,
    "start_time": "2022-06-02T21:12:44.397Z"
   },
   {
    "duration": 9,
    "start_time": "2022-06-02T21:12:44.405Z"
   },
   {
    "duration": 8,
    "start_time": "2022-06-02T21:12:44.416Z"
   },
   {
    "duration": 327,
    "start_time": "2022-06-02T21:12:44.426Z"
   },
   {
    "duration": 9,
    "start_time": "2022-06-02T21:12:44.755Z"
   },
   {
    "duration": 11,
    "start_time": "2022-06-02T21:12:44.766Z"
   },
   {
    "duration": 25,
    "start_time": "2022-06-02T21:12:44.779Z"
   },
   {
    "duration": 7,
    "start_time": "2022-06-02T21:12:44.806Z"
   },
   {
    "duration": 11,
    "start_time": "2022-06-02T21:14:18.958Z"
   },
   {
    "duration": 22,
    "start_time": "2022-06-02T21:14:39.691Z"
   },
   {
    "duration": 21,
    "start_time": "2022-06-02T21:14:42.848Z"
   },
   {
    "duration": 317,
    "start_time": "2022-06-02T21:16:32.124Z"
   },
   {
    "duration": 346,
    "start_time": "2022-06-02T21:16:52.974Z"
   },
   {
    "duration": 324,
    "start_time": "2022-06-02T21:17:29.084Z"
   },
   {
    "duration": 310,
    "start_time": "2022-06-02T21:17:49.648Z"
   },
   {
    "duration": 1376,
    "start_time": "2022-06-03T11:30:35.777Z"
   },
   {
    "duration": 19,
    "start_time": "2022-06-03T11:30:37.154Z"
   },
   {
    "duration": 24,
    "start_time": "2022-06-03T11:30:37.174Z"
   },
   {
    "duration": 38,
    "start_time": "2022-06-03T11:30:37.201Z"
   },
   {
    "duration": 32,
    "start_time": "2022-06-03T11:30:37.240Z"
   },
   {
    "duration": 55,
    "start_time": "2022-06-03T11:30:37.274Z"
   },
   {
    "duration": 26,
    "start_time": "2022-06-03T11:30:37.331Z"
   },
   {
    "duration": 48,
    "start_time": "2022-06-03T11:30:37.359Z"
   },
   {
    "duration": 46,
    "start_time": "2022-06-03T11:30:37.409Z"
   },
   {
    "duration": 33,
    "start_time": "2022-06-03T11:30:37.458Z"
   },
   {
    "duration": 63,
    "start_time": "2022-06-03T11:30:37.492Z"
   },
   {
    "duration": 45,
    "start_time": "2022-06-03T11:30:37.557Z"
   },
   {
    "duration": 38,
    "start_time": "2022-06-03T11:30:37.604Z"
   },
   {
    "duration": 30,
    "start_time": "2022-06-03T11:30:37.644Z"
   },
   {
    "duration": 44,
    "start_time": "2022-06-03T11:30:37.675Z"
   },
   {
    "duration": 20,
    "start_time": "2022-06-03T11:30:37.721Z"
   },
   {
    "duration": 21,
    "start_time": "2022-06-03T11:30:37.743Z"
   },
   {
    "duration": 522,
    "start_time": "2022-06-03T11:30:37.766Z"
   },
   {
    "duration": 21,
    "start_time": "2022-06-03T11:30:38.290Z"
   },
   {
    "duration": 41,
    "start_time": "2022-06-03T11:30:38.313Z"
   },
   {
    "duration": 1253,
    "start_time": "2022-06-03T11:30:38.356Z"
   },
   {
    "duration": 11,
    "start_time": "2022-06-03T11:30:39.612Z"
   },
   {
    "duration": 19,
    "start_time": "2022-06-03T11:30:39.625Z"
   },
   {
    "duration": 30,
    "start_time": "2022-06-03T11:30:39.646Z"
   },
   {
    "duration": 23,
    "start_time": "2022-06-03T11:30:39.678Z"
   },
   {
    "duration": 312,
    "start_time": "2022-06-03T11:30:39.703Z"
   },
   {
    "duration": 304,
    "start_time": "2022-06-03T11:30:40.017Z"
   },
   {
    "duration": 413,
    "start_time": "2022-06-03T11:30:40.326Z"
   },
   {
    "duration": 11,
    "start_time": "2022-06-03T11:30:40.741Z"
   },
   {
    "duration": 22,
    "start_time": "2022-06-03T11:30:40.753Z"
   },
   {
    "duration": 20,
    "start_time": "2022-06-03T11:30:40.776Z"
   },
   {
    "duration": 1539,
    "start_time": "2022-06-03T11:30:40.798Z"
   },
   {
    "duration": 296,
    "start_time": "2022-06-03T11:30:42.339Z"
   },
   {
    "duration": 1905,
    "start_time": "2022-06-03T11:30:42.637Z"
   },
   {
    "duration": 315,
    "start_time": "2022-06-03T11:30:44.544Z"
   },
   {
    "duration": 7,
    "start_time": "2022-06-03T11:30:44.861Z"
   },
   {
    "duration": 245,
    "start_time": "2022-06-03T11:30:44.869Z"
   },
   {
    "duration": 233,
    "start_time": "2022-06-03T11:30:45.117Z"
   },
   {
    "duration": 8,
    "start_time": "2022-06-03T11:30:45.351Z"
   },
   {
    "duration": 22,
    "start_time": "2022-06-03T11:30:45.360Z"
   },
   {
    "duration": 50,
    "start_time": "2022-06-03T11:30:45.384Z"
   },
   {
    "duration": 577,
    "start_time": "2022-06-03T11:30:45.436Z"
   },
   {
    "duration": 8,
    "start_time": "2022-06-03T11:30:46.022Z"
   },
   {
    "duration": 32,
    "start_time": "2022-06-03T11:30:46.032Z"
   },
   {
    "duration": 14,
    "start_time": "2022-06-03T11:30:46.066Z"
   },
   {
    "duration": 383,
    "start_time": "2022-06-03T11:30:46.082Z"
   },
   {
    "duration": 7,
    "start_time": "2022-06-03T11:30:46.467Z"
   },
   {
    "duration": 21,
    "start_time": "2022-06-03T11:30:46.476Z"
   },
   {
    "duration": 34,
    "start_time": "2022-06-03T11:30:46.499Z"
   },
   {
    "duration": 334,
    "start_time": "2022-06-03T11:30:46.535Z"
   },
   {
    "duration": 9,
    "start_time": "2022-06-03T11:30:46.870Z"
   },
   {
    "duration": 17,
    "start_time": "2022-06-03T11:30:46.880Z"
   },
   {
    "duration": 40,
    "start_time": "2022-06-03T11:30:46.898Z"
   },
   {
    "duration": 18,
    "start_time": "2022-06-03T11:30:46.940Z"
   },
   {
    "duration": 19,
    "start_time": "2022-06-03T11:47:48.308Z"
   },
   {
    "duration": 65,
    "start_time": "2022-06-03T19:04:06.035Z"
   },
   {
    "duration": 1692,
    "start_time": "2022-06-03T19:04:14.485Z"
   },
   {
    "duration": 30,
    "start_time": "2022-06-03T19:04:17.225Z"
   },
   {
    "duration": 17,
    "start_time": "2022-06-03T19:04:18.325Z"
   },
   {
    "duration": 4,
    "start_time": "2022-06-03T19:04:20.935Z"
   },
   {
    "duration": 26,
    "start_time": "2022-06-03T19:04:21.556Z"
   },
   {
    "duration": 12,
    "start_time": "2022-06-03T19:04:22.906Z"
   },
   {
    "duration": 17,
    "start_time": "2022-06-03T19:04:24.886Z"
   },
   {
    "duration": 11,
    "start_time": "2022-06-03T19:04:25.418Z"
   },
   {
    "duration": 7,
    "start_time": "2022-06-03T19:04:26.905Z"
   },
   {
    "duration": 30,
    "start_time": "2022-06-03T19:04:28.420Z"
   },
   {
    "duration": 7,
    "start_time": "2022-06-03T19:04:29.949Z"
   },
   {
    "duration": 10,
    "start_time": "2022-06-03T19:04:30.435Z"
   },
   {
    "duration": 7,
    "start_time": "2022-06-03T19:04:32.306Z"
   },
   {
    "duration": 24,
    "start_time": "2022-06-03T19:04:32.714Z"
   },
   {
    "duration": 7,
    "start_time": "2022-06-03T19:04:34.885Z"
   },
   {
    "duration": 16,
    "start_time": "2022-06-03T19:04:36.031Z"
   },
   {
    "duration": 22,
    "start_time": "2022-06-03T19:04:37.268Z"
   },
   {
    "duration": 19,
    "start_time": "2022-06-03T19:04:38.716Z"
   },
   {
    "duration": 15,
    "start_time": "2022-06-03T19:04:43.846Z"
   },
   {
    "duration": 6,
    "start_time": "2022-06-03T19:05:18.406Z"
   },
   {
    "duration": 10,
    "start_time": "2022-06-03T19:05:34.590Z"
   },
   {
    "duration": 9,
    "start_time": "2022-06-03T19:06:00.006Z"
   },
   {
    "duration": 5,
    "start_time": "2022-06-03T19:09:08.806Z"
   },
   {
    "duration": 21,
    "start_time": "2022-06-03T19:09:19.772Z"
   },
   {
    "duration": 22,
    "start_time": "2022-06-03T19:13:59.019Z"
   },
   {
    "duration": 15,
    "start_time": "2022-06-03T19:17:36.596Z"
   },
   {
    "duration": 750,
    "start_time": "2022-06-03T19:17:38.727Z"
   },
   {
    "duration": 17,
    "start_time": "2022-06-03T19:17:42.538Z"
   },
   {
    "duration": 18,
    "start_time": "2022-06-03T19:17:44.441Z"
   },
   {
    "duration": 1355,
    "start_time": "2022-06-03T19:17:45.183Z"
   },
   {
    "duration": 10,
    "start_time": "2022-06-03T19:17:48.393Z"
   },
   {
    "duration": 6,
    "start_time": "2022-06-03T19:17:48.957Z"
   },
   {
    "duration": 29,
    "start_time": "2022-06-03T19:17:51.617Z"
   },
   {
    "duration": 12,
    "start_time": "2022-06-03T19:17:55.547Z"
   },
   {
    "duration": 341,
    "start_time": "2022-06-03T19:17:56.828Z"
   },
   {
    "duration": 286,
    "start_time": "2022-06-03T19:17:59.753Z"
   },
   {
    "duration": 427,
    "start_time": "2022-06-03T19:18:01.757Z"
   },
   {
    "duration": 12,
    "start_time": "2022-06-03T19:18:09.917Z"
   },
   {
    "duration": 16,
    "start_time": "2022-06-03T19:18:10.814Z"
   },
   {
    "duration": 7,
    "start_time": "2022-06-03T19:18:12.674Z"
   },
   {
    "duration": 1540,
    "start_time": "2022-06-03T19:18:13.594Z"
   },
   {
    "duration": 308,
    "start_time": "2022-06-03T19:18:17.064Z"
   },
   {
    "duration": 1898,
    "start_time": "2022-06-03T19:18:19.556Z"
   },
   {
    "duration": 361,
    "start_time": "2022-06-03T19:18:23.132Z"
   },
   {
    "duration": 7,
    "start_time": "2022-06-03T19:18:25.707Z"
   },
   {
    "duration": 228,
    "start_time": "2022-06-03T19:18:27.081Z"
   },
   {
    "duration": 280,
    "start_time": "2022-06-03T19:18:29.100Z"
   },
   {
    "duration": 8,
    "start_time": "2022-06-03T19:18:33.521Z"
   },
   {
    "duration": 8,
    "start_time": "2022-06-03T19:18:34.656Z"
   },
   {
    "duration": 9,
    "start_time": "2022-06-03T19:18:35.750Z"
   },
   {
    "duration": 452,
    "start_time": "2022-06-03T19:18:38.962Z"
   },
   {
    "duration": 8,
    "start_time": "2022-06-03T19:18:42.194Z"
   },
   {
    "duration": 8,
    "start_time": "2022-06-03T19:18:44.127Z"
   },
   {
    "duration": 8,
    "start_time": "2022-06-03T19:18:44.893Z"
   },
   {
    "duration": 567,
    "start_time": "2022-06-03T19:18:46.457Z"
   },
   {
    "duration": 8,
    "start_time": "2022-06-03T19:18:52.608Z"
   },
   {
    "duration": 9,
    "start_time": "2022-06-03T19:19:53.098Z"
   },
   {
    "duration": 12,
    "start_time": "2022-06-03T19:20:19.686Z"
   },
   {
    "duration": 9,
    "start_time": "2022-06-03T19:20:38.106Z"
   },
   {
    "duration": 341,
    "start_time": "2022-06-03T19:20:59.342Z"
   },
   {
    "duration": 443,
    "start_time": "2022-06-03T19:21:15.499Z"
   },
   {
    "duration": 10,
    "start_time": "2022-06-03T19:21:47.747Z"
   },
   {
    "duration": 11,
    "start_time": "2022-06-03T19:21:59.526Z"
   },
   {
    "duration": 8,
    "start_time": "2022-06-03T19:22:00.436Z"
   },
   {
    "duration": 6,
    "start_time": "2022-06-03T19:38:03.253Z"
   },
   {
    "duration": 30,
    "start_time": "2022-06-03T19:38:04.906Z"
   },
   {
    "duration": 109,
    "start_time": "2022-06-03T19:38:37.516Z"
   },
   {
    "duration": 49,
    "start_time": "2022-06-03T19:38:50.665Z"
   },
   {
    "duration": 13,
    "start_time": "2022-06-03T19:39:07.496Z"
   },
   {
    "duration": 9,
    "start_time": "2022-06-03T19:39:16.764Z"
   },
   {
    "duration": 9,
    "start_time": "2022-06-03T19:39:25.739Z"
   },
   {
    "duration": 14,
    "start_time": "2022-06-03T19:39:41.363Z"
   },
   {
    "duration": 6,
    "start_time": "2022-06-03T19:39:54.723Z"
   },
   {
    "duration": 14,
    "start_time": "2022-06-03T19:42:41.403Z"
   },
   {
    "duration": 4,
    "start_time": "2022-06-03T19:54:44.684Z"
   },
   {
    "duration": 1725,
    "start_time": "2022-06-03T19:54:58.985Z"
   },
   {
    "duration": 352,
    "start_time": "2022-06-03T19:55:35.712Z"
   },
   {
    "duration": 5309,
    "start_time": "2022-06-03T19:57:04.970Z"
   },
   {
    "duration": 8,
    "start_time": "2022-06-03T19:58:20.130Z"
   },
   {
    "duration": 358,
    "start_time": "2022-06-03T19:58:29.634Z"
   },
   {
    "duration": 25,
    "start_time": "2022-06-03T19:59:30.105Z"
   },
   {
    "duration": 16,
    "start_time": "2022-06-03T19:59:40.711Z"
   },
   {
    "duration": 5,
    "start_time": "2022-06-03T20:00:38.512Z"
   },
   {
    "duration": 279,
    "start_time": "2022-06-03T20:00:44.612Z"
   },
   {
    "duration": 6,
    "start_time": "2022-06-03T20:00:56.460Z"
   },
   {
    "duration": 11,
    "start_time": "2022-06-03T20:02:31.211Z"
   },
   {
    "duration": 9,
    "start_time": "2022-06-03T20:02:32.131Z"
   },
   {
    "duration": 5,
    "start_time": "2022-06-03T20:02:34.191Z"
   },
   {
    "duration": 12,
    "start_time": "2022-06-03T20:02:55.221Z"
   },
   {
    "duration": 8,
    "start_time": "2022-06-03T20:02:56.440Z"
   },
   {
    "duration": 8,
    "start_time": "2022-06-03T20:03:00.279Z"
   },
   {
    "duration": 12,
    "start_time": "2022-06-03T20:03:59.592Z"
   },
   {
    "duration": 9,
    "start_time": "2022-06-03T20:04:00.839Z"
   },
   {
    "duration": 10,
    "start_time": "2022-06-03T20:04:12.892Z"
   },
   {
    "duration": 8,
    "start_time": "2022-06-03T20:19:21.512Z"
   },
   {
    "duration": 2126,
    "start_time": "2022-06-03T20:19:23.161Z"
   },
   {
    "duration": 635,
    "start_time": "2022-06-03T20:19:56.610Z"
   },
   {
    "duration": 376,
    "start_time": "2022-06-03T20:20:10.178Z"
   },
   {
    "duration": 6,
    "start_time": "2022-06-03T20:24:20.805Z"
   },
   {
    "duration": 9,
    "start_time": "2022-06-03T20:24:22.757Z"
   },
   {
    "duration": 8,
    "start_time": "2022-06-03T20:24:23.304Z"
   },
   {
    "duration": 396,
    "start_time": "2022-06-03T20:24:44.438Z"
   },
   {
    "duration": 400,
    "start_time": "2022-06-03T20:24:59.803Z"
   },
   {
    "duration": 393,
    "start_time": "2022-06-03T20:25:13.655Z"
   },
   {
    "duration": 8,
    "start_time": "2022-06-03T20:26:12.385Z"
   },
   {
    "duration": 10,
    "start_time": "2022-06-03T20:26:12.836Z"
   },
   {
    "duration": 361,
    "start_time": "2022-06-03T20:26:24.985Z"
   },
   {
    "duration": 412,
    "start_time": "2022-06-03T20:26:34.180Z"
   },
   {
    "duration": 34,
    "start_time": "2022-06-03T20:27:01.755Z"
   },
   {
    "duration": 36,
    "start_time": "2022-06-03T20:28:09.128Z"
   },
   {
    "duration": 10,
    "start_time": "2022-06-03T20:28:34.402Z"
   },
   {
    "duration": 24,
    "start_time": "2022-06-03T20:28:36.245Z"
   },
   {
    "duration": 5,
    "start_time": "2022-06-03T20:28:46.515Z"
   },
   {
    "duration": 25,
    "start_time": "2022-06-03T20:28:47.455Z"
   },
   {
    "duration": 22,
    "start_time": "2022-06-03T20:28:49.830Z"
   },
   {
    "duration": 38,
    "start_time": "2022-06-03T20:28:58.049Z"
   },
   {
    "duration": 9,
    "start_time": "2022-06-03T20:29:25.784Z"
   },
   {
    "duration": 2210,
    "start_time": "2022-06-03T20:29:27.311Z"
   },
   {
    "duration": 372,
    "start_time": "2022-06-03T20:29:33.534Z"
   },
   {
    "duration": 9,
    "start_time": "2022-06-03T20:30:00.037Z"
   },
   {
    "duration": 401,
    "start_time": "2022-06-03T20:30:00.824Z"
   },
   {
    "duration": 8,
    "start_time": "2022-06-03T20:30:04.901Z"
   },
   {
    "duration": 337,
    "start_time": "2022-06-03T20:30:05.805Z"
   },
   {
    "duration": 8,
    "start_time": "2022-06-03T20:30:12.769Z"
   },
   {
    "duration": 348,
    "start_time": "2022-06-03T20:30:13.401Z"
   },
   {
    "duration": 414,
    "start_time": "2022-06-03T20:30:29.601Z"
   },
   {
    "duration": 8,
    "start_time": "2022-06-03T20:32:42.072Z"
   },
   {
    "duration": 333,
    "start_time": "2022-06-03T20:32:45.423Z"
   },
   {
    "duration": 245,
    "start_time": "2022-06-03T20:40:13.501Z"
   },
   {
    "duration": 243,
    "start_time": "2022-06-03T20:40:26.021Z"
   },
   {
    "duration": 221,
    "start_time": "2022-06-03T20:42:08.574Z"
   },
   {
    "duration": 226,
    "start_time": "2022-06-03T20:42:19.822Z"
   },
   {
    "duration": 227,
    "start_time": "2022-06-03T20:43:02.445Z"
   },
   {
    "duration": 399,
    "start_time": "2022-06-03T20:43:25.331Z"
   },
   {
    "duration": 624,
    "start_time": "2022-06-03T20:45:01.941Z"
   },
   {
    "duration": 1218,
    "start_time": "2022-06-03T20:45:41.712Z"
   },
   {
    "duration": 1376,
    "start_time": "2022-06-03T20:46:10.706Z"
   },
   {
    "duration": 317,
    "start_time": "2022-06-03T20:46:18.931Z"
   },
   {
    "duration": 1208,
    "start_time": "2022-06-03T20:46:49.163Z"
   },
   {
    "duration": 264,
    "start_time": "2022-06-03T20:46:55.372Z"
   },
   {
    "duration": 1319,
    "start_time": "2022-06-03T20:47:09.467Z"
   },
   {
    "duration": 287,
    "start_time": "2022-06-03T20:47:18.371Z"
   },
   {
    "duration": 5,
    "start_time": "2022-06-03T20:47:34.862Z"
   },
   {
    "duration": 330,
    "start_time": "2022-06-03T20:47:38.340Z"
   },
   {
    "duration": 8,
    "start_time": "2022-06-03T21:07:42.376Z"
   },
   {
    "duration": 7,
    "start_time": "2022-06-03T21:07:42.975Z"
   },
   {
    "duration": 9,
    "start_time": "2022-06-03T21:08:16.725Z"
   },
   {
    "duration": 8,
    "start_time": "2022-06-03T21:08:18.715Z"
   },
   {
    "duration": 8,
    "start_time": "2022-06-03T21:08:54.361Z"
   },
   {
    "duration": 6,
    "start_time": "2022-06-03T21:08:55.493Z"
   },
   {
    "duration": 1262,
    "start_time": "2022-06-03T21:33:39.985Z"
   },
   {
    "duration": 18,
    "start_time": "2022-06-03T21:33:41.249Z"
   },
   {
    "duration": 15,
    "start_time": "2022-06-03T21:33:41.269Z"
   },
   {
    "duration": 3,
    "start_time": "2022-06-03T21:33:41.287Z"
   },
   {
    "duration": 16,
    "start_time": "2022-06-03T21:33:41.292Z"
   },
   {
    "duration": 15,
    "start_time": "2022-06-03T21:33:41.310Z"
   },
   {
    "duration": 38,
    "start_time": "2022-06-03T21:33:41.327Z"
   },
   {
    "duration": 9,
    "start_time": "2022-06-03T21:33:41.367Z"
   },
   {
    "duration": 6,
    "start_time": "2022-06-03T21:33:41.377Z"
   },
   {
    "duration": 22,
    "start_time": "2022-06-03T21:33:41.385Z"
   },
   {
    "duration": 6,
    "start_time": "2022-06-03T21:33:41.408Z"
   },
   {
    "duration": 51,
    "start_time": "2022-06-03T21:33:41.415Z"
   },
   {
    "duration": 7,
    "start_time": "2022-06-03T21:33:41.468Z"
   },
   {
    "duration": 14,
    "start_time": "2022-06-03T21:33:41.476Z"
   },
   {
    "duration": 10,
    "start_time": "2022-06-03T21:33:41.492Z"
   },
   {
    "duration": 11,
    "start_time": "2022-06-03T21:33:41.504Z"
   },
   {
    "duration": 13,
    "start_time": "2022-06-03T21:33:41.517Z"
   },
   {
    "duration": 33,
    "start_time": "2022-06-03T21:33:41.532Z"
   },
   {
    "duration": 16,
    "start_time": "2022-06-03T21:33:41.567Z"
   },
   {
    "duration": 15,
    "start_time": "2022-06-03T21:33:41.584Z"
   },
   {
    "duration": 8,
    "start_time": "2022-06-03T21:33:41.601Z"
   },
   {
    "duration": 501,
    "start_time": "2022-06-03T21:33:41.611Z"
   },
   {
    "duration": 18,
    "start_time": "2022-06-03T21:33:42.114Z"
   },
   {
    "duration": 31,
    "start_time": "2022-06-03T21:33:42.134Z"
   },
   {
    "duration": 1143,
    "start_time": "2022-06-03T21:33:42.167Z"
   },
   {
    "duration": 8,
    "start_time": "2022-06-03T21:33:43.311Z"
   },
   {
    "duration": 8,
    "start_time": "2022-06-03T21:33:43.320Z"
   },
   {
    "duration": 44,
    "start_time": "2022-06-03T21:33:43.332Z"
   },
   {
    "duration": 8,
    "start_time": "2022-06-03T21:33:43.378Z"
   },
   {
    "duration": 325,
    "start_time": "2022-06-03T21:33:43.388Z"
   },
   {
    "duration": 249,
    "start_time": "2022-06-03T21:33:43.715Z"
   },
   {
    "duration": 370,
    "start_time": "2022-06-03T21:33:43.966Z"
   },
   {
    "duration": 10,
    "start_time": "2022-06-03T21:33:44.338Z"
   },
   {
    "duration": 21,
    "start_time": "2022-06-03T21:33:44.350Z"
   },
   {
    "duration": 7,
    "start_time": "2022-06-03T21:33:44.373Z"
   },
   {
    "duration": 1286,
    "start_time": "2022-06-03T21:33:44.382Z"
   },
   {
    "duration": 318,
    "start_time": "2022-06-03T21:33:45.669Z"
   },
   {
    "duration": 5,
    "start_time": "2022-06-03T21:33:45.989Z"
   },
   {
    "duration": 1422,
    "start_time": "2022-06-03T21:33:45.995Z"
   },
   {
    "duration": 333,
    "start_time": "2022-06-03T21:33:47.419Z"
   },
   {
    "duration": 13,
    "start_time": "2022-06-03T21:33:47.754Z"
   },
   {
    "duration": 1299,
    "start_time": "2022-06-03T21:33:47.769Z"
   },
   {
    "duration": 311,
    "start_time": "2022-06-03T21:33:49.070Z"
   },
   {
    "duration": 6,
    "start_time": "2022-06-03T21:33:49.383Z"
   },
   {
    "duration": 1297,
    "start_time": "2022-06-03T21:33:49.390Z"
   },
   {
    "duration": 266,
    "start_time": "2022-06-03T21:33:50.690Z"
   },
   {
    "duration": 7,
    "start_time": "2022-06-03T21:33:50.965Z"
   },
   {
    "duration": 222,
    "start_time": "2022-06-03T21:33:50.976Z"
   },
   {
    "duration": 235,
    "start_time": "2022-06-03T21:33:51.200Z"
   },
   {
    "duration": 10,
    "start_time": "2022-06-03T21:33:51.437Z"
   },
   {
    "duration": 18,
    "start_time": "2022-06-03T21:33:51.448Z"
   },
   {
    "duration": 25,
    "start_time": "2022-06-03T21:33:51.468Z"
   },
   {
    "duration": 361,
    "start_time": "2022-06-03T21:33:51.494Z"
   },
   {
    "duration": 15,
    "start_time": "2022-06-03T21:33:51.856Z"
   },
   {
    "duration": 21,
    "start_time": "2022-06-03T21:33:51.873Z"
   },
   {
    "duration": 15,
    "start_time": "2022-06-03T21:33:51.896Z"
   },
   {
    "duration": 375,
    "start_time": "2022-06-03T21:33:51.913Z"
   },
   {
    "duration": 8,
    "start_time": "2022-06-03T21:33:52.289Z"
   },
   {
    "duration": 12,
    "start_time": "2022-06-03T21:33:52.299Z"
   },
   {
    "duration": 14,
    "start_time": "2022-06-03T21:33:52.312Z"
   },
   {
    "duration": 374,
    "start_time": "2022-06-03T21:33:52.328Z"
   },
   {
    "duration": 8,
    "start_time": "2022-06-03T21:33:52.705Z"
   },
   {
    "duration": 8,
    "start_time": "2022-06-03T21:33:52.715Z"
   },
   {
    "duration": 18,
    "start_time": "2022-06-03T21:33:52.725Z"
   },
   {
    "duration": 25,
    "start_time": "2022-06-03T21:33:52.745Z"
   }
  ],
  "kernelspec": {
   "display_name": "Python 3 (ipykernel)",
   "language": "python",
   "name": "python3"
  },
  "language_info": {
   "codemirror_mode": {
    "name": "ipython",
    "version": 3
   },
   "file_extension": ".py",
   "mimetype": "text/x-python",
   "name": "python",
   "nbconvert_exporter": "python",
   "pygments_lexer": "ipython3",
   "version": "3.9.12"
  },
  "toc": {
   "base_numbering": 1,
   "nav_menu": {},
   "number_sections": true,
   "sideBar": true,
   "skip_h1_title": true,
   "title_cell": "Table of Contents",
   "title_sidebar": "Contents",
   "toc_cell": true,
   "toc_position": {
    "height": "calc(100% - 180px)",
    "left": "10px",
    "top": "150px",
    "width": "321px"
   },
   "toc_section_display": true,
   "toc_window_display": true
  }
 },
 "nbformat": 4,
 "nbformat_minor": 2
}
