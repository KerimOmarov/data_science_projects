{
 "cells": [
  {
   "cell_type": "markdown",
   "metadata": {
    "toc": true
   },
   "source": [
    "<h1>Table of Contents<span class=\"tocSkip\"></span></h1>\n",
    "<div class=\"toc\"><ul class=\"toc-item\"><li><span><a href=\"#Data-Review-and-Preparation\" data-toc-modified-id=\"Data-Review-and-Preparation-1\"><span class=\"toc-item-num\">1&nbsp;&nbsp;</span>Data Review and Preparation</a></span><ul class=\"toc-item\"><li><span><a href=\"#Conclusion\" data-toc-modified-id=\"Conclusion-1.1\"><span class=\"toc-item-num\">1.1&nbsp;&nbsp;</span>Conclusion</a></span></li></ul></li><li><span><a href=\"#Model-Training\" data-toc-modified-id=\"Model-Training-2\"><span class=\"toc-item-num\">2&nbsp;&nbsp;</span>Model Training</a></span><ul class=\"toc-item\"><li><span><a href=\"#Logistic-Regression\" data-toc-modified-id=\"Logistic-Regression-2.1\"><span class=\"toc-item-num\">2.1&nbsp;&nbsp;</span>Logistic Regression</a></span></li><li><span><a href=\"#Soft-Voting-(Logistic-Regression,-Random-Forest,-SGD)\" data-toc-modified-id=\"Soft-Voting-(Logistic-Regression,-Random-Forest,-SGD)-2.2\"><span class=\"toc-item-num\">2.2&nbsp;&nbsp;</span>Soft Voting (Logistic Regression, Random Forest, SGD)</a></span></li><li><span><a href=\"#LightGBM\" data-toc-modified-id=\"LightGBM-2.3\"><span class=\"toc-item-num\">2.3&nbsp;&nbsp;</span>LightGBM</a></span></li><li><span><a href=\"#Linear-SVC\" data-toc-modified-id=\"Linear-SVC-2.4\"><span class=\"toc-item-num\">2.4&nbsp;&nbsp;</span>Linear SVC</a></span></li><li><span><a href=\"#Stacking-(Logistic-Regression,-Random-Forest,-SGD-+-Gradient-Boosting-(final))\" data-toc-modified-id=\"Stacking-(Logistic-Regression,-Random-Forest,-SGD-+-Gradient-Boosting-(final))-2.5\"><span class=\"toc-item-num\">2.5&nbsp;&nbsp;</span>Stacking (Logistic Regression, Random Forest, SGD + Gradient Boosting (final))</a></span></li></ul></li><li><span><a href=\"#Model-Testing\" data-toc-modified-id=\"Model-Testing-3\"><span class=\"toc-item-num\">3&nbsp;&nbsp;</span>Model Testing</a></span><ul class=\"toc-item\"><li><span><a href=\"#Model-Comparison\" data-toc-modified-id=\"Model-Comparison-3.1\"><span class=\"toc-item-num\">3.1&nbsp;&nbsp;</span>Model Comparison</a></span></li></ul></li><li><span><a href=\"#Sanity-Check\" data-toc-modified-id=\"Sanity-Check-4\"><span class=\"toc-item-num\">4&nbsp;&nbsp;</span>Sanity Check</a></span></li><li><span><a href=\"#Conclusion\" data-toc-modified-id=\"Conclusion-5\"><span class=\"toc-item-num\">5&nbsp;&nbsp;</span>Conclusion</a></span></li></ul></div>"
   ]
  },
  {
   "cell_type": "markdown",
   "metadata": {},
   "source": [
    "# \"Wikishop\" Project"
   ]
  },
  {
   "cell_type": "markdown",
   "metadata": {},
   "source": [
    "Online store \"Wikishop\" launches a new service. Now users can edit and add product descriptions, just like in wiki communities. That is, clients propose their edits and comment on the changes of others. The store needs a tool that will look for toxic comments and submit them for moderation.\n",
    "\n",
    "We need to train the model to classify comments into positive and negative. At our disposal is a dataset with comments that have been labeled by human raters whether they are toxic or not.\n",
    "\n",
    "We neef to build a model with a quality metric *F1* of at least 0.75.\n",
    "\n",
    "**Data Description**\n",
    "\n",
    "The data is in the `toxic_comments.csv` file. The *text* column contains the text of the comment, and *toxic* is the target variable.\n",
    "\n",
    "**Purpose of the project:** To build a model for a classification problem that will identify toxic comments.\n",
    "\n",
    "**Project steps:**\n",
    "\n",
    "1. Data Review and Preparation.\n",
    "2. Model training.\n",
    "3. Model testing.\n",
    "4. Sanity Check."
   ]
  },
  {
   "cell_type": "markdown",
   "metadata": {},
   "source": [
    "## Data Review and Preparation"
   ]
  },
  {
   "cell_type": "code",
   "execution_count": 1,
   "metadata": {},
   "outputs": [],
   "source": [
    "!pip -q install wordcloud"
   ]
  },
  {
   "cell_type": "code",
   "execution_count": 2,
   "metadata": {},
   "outputs": [],
   "source": [
    "import lightgbm as lgb\n",
    "import matplotlib.pyplot as plt\n",
    "import nltk\n",
    "import numpy as np\n",
    "import pandas as pd\n",
    "import re\n",
    "import warnings\n",
    "\n",
    "from nltk import word_tokenize\n",
    "from nltk.corpus import stopwords, wordnet\n",
    "from nltk.stem import WordNetLemmatizer\n",
    "from sklearn.dummy import DummyClassifier\n",
    "from sklearn.ensemble import RandomForestClassifier, VotingClassifier, StackingClassifier, GradientBoostingClassifier\n",
    "from sklearn.feature_extraction.text import TfidfVectorizer, CountVectorizer, TfidfTransformer\n",
    "from sklearn.linear_model import LogisticRegression, SGDClassifier\n",
    "from sklearn.metrics import f1_score\n",
    "from sklearn.model_selection import train_test_split, GridSearchCV, cross_val_score\n",
    "from sklearn.pipeline import Pipeline\n",
    "from sklearn.svm import LinearSVC\n",
    "from time import time\n",
    "from tqdm import notebook, tqdm\n",
    "from wordcloud import WordCloud\n",
    "\n",
    "warnings.filterwarnings('ignore')\n",
    "tqdm.pandas() "
   ]
  },
  {
   "cell_type": "code",
   "execution_count": 3,
   "metadata": {},
   "outputs": [
    {
     "name": "stderr",
     "output_type": "stream",
     "text": [
      "[nltk_data] Downloading package stopwords to /home/jovyan/nltk_data...\n",
      "[nltk_data]   Package stopwords is already up-to-date!\n",
      "[nltk_data] Downloading package omw-1.4 to /home/jovyan/nltk_data...\n",
      "[nltk_data]   Package omw-1.4 is already up-to-date!\n",
      "[nltk_data] Downloading package punkt to /home/jovyan/nltk_data...\n",
      "[nltk_data]   Package punkt is already up-to-date!\n",
      "[nltk_data] Downloading package wordnet to /home/jovyan/nltk_data...\n",
      "[nltk_data]   Package wordnet is already up-to-date!\n",
      "[nltk_data] Downloading package averaged_perceptron_tagger to\n",
      "[nltk_data]     /home/jovyan/nltk_data...\n",
      "[nltk_data]   Package averaged_perceptron_tagger is already up-to-\n",
      "[nltk_data]       date!\n"
     ]
    },
    {
     "data": {
      "text/plain": [
       "True"
      ]
     },
     "execution_count": 3,
     "metadata": {},
     "output_type": "execute_result"
    }
   ],
   "source": [
    "nltk.download('stopwords')\n",
    "nltk.download('omw-1.4')\n",
    "nltk.download('punkt')\n",
    "nltk.download('wordnet')\n",
    "nltk.download('averaged_perceptron_tagger')\n",
    "\n",
    "stopwords = set(stopwords.words('english'))"
   ]
  },
  {
   "cell_type": "code",
   "execution_count": 4,
   "metadata": {},
   "outputs": [],
   "source": [
    "try:\n",
    "    df_tweets = pd.read_csv('toxic_comments.csv', index_col=[0])\n",
    "except: \n",
    "    print('Something is wrong')"
   ]
  },
  {
   "cell_type": "code",
   "execution_count": 5,
   "metadata": {},
   "outputs": [
    {
     "name": "stdout",
     "output_type": "stream",
     "text": [
      "<class 'pandas.core.frame.DataFrame'>\n",
      "Int64Index: 159292 entries, 0 to 159450\n",
      "Data columns (total 2 columns):\n",
      " #   Column  Non-Null Count   Dtype \n",
      "---  ------  --------------   ----- \n",
      " 0   text    159292 non-null  object\n",
      " 1   toxic   159292 non-null  int64 \n",
      "dtypes: int64(1), object(1)\n",
      "memory usage: 3.6+ MB\n"
     ]
    }
   ],
   "source": [
    "df_tweets.info()"
   ]
  },
  {
   "cell_type": "code",
   "execution_count": 6,
   "metadata": {
    "scrolled": true
   },
   "outputs": [
    {
     "data": {
      "text/html": [
       "<div>\n",
       "<style scoped>\n",
       "    .dataframe tbody tr th:only-of-type {\n",
       "        vertical-align: middle;\n",
       "    }\n",
       "\n",
       "    .dataframe tbody tr th {\n",
       "        vertical-align: top;\n",
       "    }\n",
       "\n",
       "    .dataframe thead th {\n",
       "        text-align: right;\n",
       "    }\n",
       "</style>\n",
       "<table border=\"1\" class=\"dataframe\">\n",
       "  <thead>\n",
       "    <tr style=\"text-align: right;\">\n",
       "      <th></th>\n",
       "      <th>text</th>\n",
       "      <th>toxic</th>\n",
       "    </tr>\n",
       "  </thead>\n",
       "  <tbody>\n",
       "    <tr>\n",
       "      <th>0</th>\n",
       "      <td>Explanation\\nWhy the edits made under my usern...</td>\n",
       "      <td>0</td>\n",
       "    </tr>\n",
       "    <tr>\n",
       "      <th>1</th>\n",
       "      <td>D'aww! He matches this background colour I'm s...</td>\n",
       "      <td>0</td>\n",
       "    </tr>\n",
       "    <tr>\n",
       "      <th>2</th>\n",
       "      <td>Hey man, I'm really not trying to edit war. It...</td>\n",
       "      <td>0</td>\n",
       "    </tr>\n",
       "    <tr>\n",
       "      <th>3</th>\n",
       "      <td>\"\\nMore\\nI can't make any real suggestions on ...</td>\n",
       "      <td>0</td>\n",
       "    </tr>\n",
       "    <tr>\n",
       "      <th>4</th>\n",
       "      <td>You, sir, are my hero. Any chance you remember...</td>\n",
       "      <td>0</td>\n",
       "    </tr>\n",
       "  </tbody>\n",
       "</table>\n",
       "</div>"
      ],
      "text/plain": [
       "                                                text  toxic\n",
       "0  Explanation\\nWhy the edits made under my usern...      0\n",
       "1  D'aww! He matches this background colour I'm s...      0\n",
       "2  Hey man, I'm really not trying to edit war. It...      0\n",
       "3  \"\\nMore\\nI can't make any real suggestions on ...      0\n",
       "4  You, sir, are my hero. Any chance you remember...      0"
      ]
     },
     "execution_count": 6,
     "metadata": {},
     "output_type": "execute_result"
    }
   ],
   "source": [
    "df_tweets.head(5)"
   ]
  },
  {
   "cell_type": "markdown",
   "metadata": {},
   "source": [
    "Let's write a function for text preprocessing (tokenization, deletion of extra characters, lemmatization) and apply it to our data."
   ]
  },
  {
   "cell_type": "code",
   "execution_count": 7,
   "metadata": {},
   "outputs": [],
   "source": [
    "def get_wordnet_pos(word):\n",
    "    tag = nltk.pos_tag([word])[0][1][0].upper()\n",
    "    tag_dict = {\"J\": wordnet.ADJ,\n",
    "                \"N\": wordnet.NOUN,\n",
    "                \"V\": wordnet.VERB,\n",
    "                \"R\": wordnet.ADV}\n",
    "    return tag_dict.get(tag, wordnet.NOUN)"
   ]
  },
  {
   "cell_type": "code",
   "execution_count": 8,
   "metadata": {},
   "outputs": [],
   "source": [
    "def text_preprocessing(text):\n",
    "    tokenized_text = nltk.word_tokenize(text.lower())\n",
    "    text_only = [WordNetLemmatizer().lemmatize(w, get_wordnet_pos(w)) for w in tokenized_text]\n",
    "    joined = ' '.join(text_only)\n",
    "    final = re.sub(r\"[^a-z0-9!@#\\$%\\^\\&\\*_\\-,\\.' ]\", ' ', joined)\n",
    "    return final"
   ]
  },
  {
   "cell_type": "code",
   "execution_count": 9,
   "metadata": {},
   "outputs": [
    {
     "name": "stderr",
     "output_type": "stream",
     "text": [
      "100%|██████████| 159292/159292 [23:17<00:00, 113.99it/s]\n"
     ]
    }
   ],
   "source": [
    "df_tweets['token_text'] = df_tweets['text'].progress_apply(text_preprocessing)"
   ]
  },
  {
   "cell_type": "code",
   "execution_count": 10,
   "metadata": {},
   "outputs": [
    {
     "data": {
      "text/html": [
       "<div>\n",
       "<style scoped>\n",
       "    .dataframe tbody tr th:only-of-type {\n",
       "        vertical-align: middle;\n",
       "    }\n",
       "\n",
       "    .dataframe tbody tr th {\n",
       "        vertical-align: top;\n",
       "    }\n",
       "\n",
       "    .dataframe thead th {\n",
       "        text-align: right;\n",
       "    }\n",
       "</style>\n",
       "<table border=\"1\" class=\"dataframe\">\n",
       "  <thead>\n",
       "    <tr style=\"text-align: right;\">\n",
       "      <th></th>\n",
       "      <th>text</th>\n",
       "      <th>toxic</th>\n",
       "      <th>token_text</th>\n",
       "    </tr>\n",
       "  </thead>\n",
       "  <tbody>\n",
       "    <tr>\n",
       "      <th>0</th>\n",
       "      <td>Explanation\\nWhy the edits made under my usern...</td>\n",
       "      <td>0</td>\n",
       "      <td>explanation why the edits make under my userna...</td>\n",
       "    </tr>\n",
       "    <tr>\n",
       "      <th>1</th>\n",
       "      <td>D'aww! He matches this background colour I'm s...</td>\n",
       "      <td>0</td>\n",
       "      <td>d'aww ! he match this background colour i 'm s...</td>\n",
       "    </tr>\n",
       "    <tr>\n",
       "      <th>2</th>\n",
       "      <td>Hey man, I'm really not trying to edit war. It...</td>\n",
       "      <td>0</td>\n",
       "      <td>hey man , i 'm really not try to edit war . it...</td>\n",
       "    </tr>\n",
       "    <tr>\n",
       "      <th>3</th>\n",
       "      <td>\"\\nMore\\nI can't make any real suggestions on ...</td>\n",
       "      <td>0</td>\n",
       "      <td>more i ca n't make any real suggestion on i...</td>\n",
       "    </tr>\n",
       "    <tr>\n",
       "      <th>4</th>\n",
       "      <td>You, sir, are my hero. Any chance you remember...</td>\n",
       "      <td>0</td>\n",
       "      <td>you , sir , be my hero . any chance you rememb...</td>\n",
       "    </tr>\n",
       "  </tbody>\n",
       "</table>\n",
       "</div>"
      ],
      "text/plain": [
       "                                                text  toxic  \\\n",
       "0  Explanation\\nWhy the edits made under my usern...      0   \n",
       "1  D'aww! He matches this background colour I'm s...      0   \n",
       "2  Hey man, I'm really not trying to edit war. It...      0   \n",
       "3  \"\\nMore\\nI can't make any real suggestions on ...      0   \n",
       "4  You, sir, are my hero. Any chance you remember...      0   \n",
       "\n",
       "                                          token_text  \n",
       "0  explanation why the edits make under my userna...  \n",
       "1  d'aww ! he match this background colour i 'm s...  \n",
       "2  hey man , i 'm really not try to edit war . it...  \n",
       "3     more i ca n't make any real suggestion on i...  \n",
       "4  you , sir , be my hero . any chance you rememb...  "
      ]
     },
     "execution_count": 10,
     "metadata": {},
     "output_type": "execute_result"
    }
   ],
   "source": [
    "df_tweets.head()"
   ]
  },
  {
   "cell_type": "markdown",
   "metadata": {},
   "source": [
    "Let's build a word cloud to look at frequently occurring words in toxic comments."
   ]
  },
  {
   "cell_type": "code",
   "execution_count": 11,
   "metadata": {},
   "outputs": [],
   "source": [
    "corpus_lemm_toxic = df_tweets.loc[df_tweets['toxic'] == 1]"
   ]
  },
  {
   "cell_type": "code",
   "execution_count": 12,
   "metadata": {
    "scrolled": false
   },
   "outputs": [
    {
     "data": {
      "image/png": "[encoded data removed]",
      "text/plain": [
       "<Figure size 864x864 with 1 Axes>"
      ]
     },
     "metadata": {
      "needs_background": "light"
     },
     "output_type": "display_data"
    }
   ],
   "source": [
    "def show_wordcloud(data):\n",
    "    wordcloud = WordCloud(\n",
    "        background_color='white',\n",
    "        stopwords=stopwords,\n",
    "        max_words=300,\n",
    "        max_font_size=40, \n",
    "        scale=3,\n",
    "        random_state=12345).generate(str(data))\n",
    "\n",
    "    fig = plt.figure(1, figsize=(12, 12))\n",
    "    plt.axis('off')\n",
    "    plt.imshow(wordcloud)\n",
    "    plt.show()\n",
    "\n",
    "show_wordcloud(corpus_lemm_toxic['token_text'])"
   ]
  },
  {
   "cell_type": "markdown",
   "metadata": {},
   "source": [
    "The data has been preprocessed. Let's divide the data into features and a target variable."
   ]
  },
  {
   "cell_type": "code",
   "execution_count": 13,
   "metadata": {},
   "outputs": [],
   "source": [
    "features = df_tweets['token_text']\n",
    "target = df_tweets['toxic']"
   ]
  },
  {
   "cell_type": "code",
   "execution_count": 14,
   "metadata": {},
   "outputs": [
    {
     "name": "stdout",
     "output_type": "stream",
     "text": [
      "Размер признаков выборки: (159292,)\n",
      "Размер целевого признака выборки: (159292,)\n"
     ]
    }
   ],
   "source": [
    "print('Размер признаков выборки:',features.shape)\n",
    "print('Размер целевого признака выборки:',target.shape)"
   ]
  },
  {
   "cell_type": "markdown",
   "metadata": {},
   "source": [
    "Let's split the data into two sets: training and test. We will use the training set to train the model and to tune the hyperparameters, and the test set to test the model."
   ]
  },
  {
   "cell_type": "code",
   "execution_count": 15,
   "metadata": {},
   "outputs": [],
   "source": [
    "X_train, X_test, y_train, y_test = train_test_split(features, \n",
    "                                                    target, \n",
    "                                                    stratify=target, \n",
    "                                                    test_size=0.25, \n",
    "                                                    random_state=12345)"
   ]
  },
  {
   "cell_type": "code",
   "execution_count": 16,
   "metadata": {},
   "outputs": [
    {
     "name": "stdout",
     "output_type": "stream",
     "text": [
      "Размер признаков обучающей выборки: (119469,)\n",
      "Размер целевого признака обучающей выборки: (119469,)\n",
      "Размер признаков тестовой выборки: (39823,)\n",
      "Размер целевого признака тестовой выборки: (39823,)\n"
     ]
    }
   ],
   "source": [
    "print('Размер признаков обучающей выборки:', X_train.shape), \n",
    "print('Размер целевого признака обучающей выборки:', y_train.shape), \n",
    "print('Размер признаков тестовой выборки:', X_test.shape), \n",
    "print('Размер целевого признака тестовой выборки:', y_test.shape)"
   ]
  },
  {
   "cell_type": "markdown",
   "metadata": {},
   "source": [
    "Let's check the class balance."
   ]
  },
  {
   "cell_type": "code",
   "execution_count": 17,
   "metadata": {},
   "outputs": [
    {
     "data": {
      "text/plain": [
       "0    0.898388\n",
       "1    0.101612\n",
       "Name: toxic, dtype: float64"
      ]
     },
     "execution_count": 17,
     "metadata": {},
     "output_type": "execute_result"
    }
   ],
   "source": [
    "df_tweets['toxic'].value_counts(normalize=True)"
   ]
  },
  {
   "cell_type": "markdown",
   "metadata": {},
   "source": [
    "As we can see, the classes are heavily unbalanced. So, when training models, we will use the `class_weight` parameter with the value `balanced`."
   ]
  },
  {
   "cell_type": "markdown",
   "metadata": {},
   "source": [
    "Let's vectorize the text in the training and test sets using TF-IDF."
   ]
  },
  {
   "cell_type": "code",
   "execution_count": 18,
   "metadata": {},
   "outputs": [],
   "source": [
    "tf_idf_vec = TfidfVectorizer(stop_words=stopwords)\n",
    "X_train_idf = tf_idf_vec.fit_transform(X_train)\n",
    "X_test_idf = tf_idf_vec.transform(X_test)"
   ]
  },
  {
   "cell_type": "markdown",
   "metadata": {},
   "source": [
    "Let's create lists for adding the results of the models."
   ]
  },
  {
   "cell_type": "code",
   "execution_count": 19,
   "metadata": {},
   "outputs": [],
   "source": [
    "model_name = []\n",
    "f_score_train = []\n",
    "f_score_test = []"
   ]
  },
  {
   "cell_type": "markdown",
   "metadata": {},
   "source": [
    "### Conclusion"
   ]
  },
  {
   "cell_type": "markdown",
   "metadata": {},
   "source": [
    "We have a table with user comments that have been labeled by human raters whether it is toxic or not. The data consists of 159292 observations and 2 columns: the `text` column contains the comment text, and the `toxic` column contains the target variable.\n",
    "\n",
    "The data was preprocessed (tokenized, cleaned and lemmatized), as well as split into training and test sets and vectorized. We can start training models."
   ]
  },
  {
   "cell_type": "markdown",
   "metadata": {},
   "source": [
    "## Model Training"
   ]
  },
  {
   "cell_type": "markdown",
   "metadata": {},
   "source": [
    "### Logistic Regression"
   ]
  },
  {
   "cell_type": "markdown",
   "metadata": {},
   "source": [
    "Let's create a Pipeline to vectorize the data, fit the hyperparameters, train the Logistic Regression model, and test the F1 value on the training data."
   ]
  },
  {
   "cell_type": "code",
   "execution_count": 20,
   "metadata": {},
   "outputs": [
    {
     "name": "stdout",
     "output_type": "stream",
     "text": [
      "Performing grid search...\n",
      "pipeline: ['vect', 'tfidf', 'clf']\n",
      "parameters:\n",
      "{'vect__max_df': (0.5, 1.0), 'tfidf__use_idf': (True, False), 'clf__C': [1, 100]}\n",
      "done in 651.165s\n",
      "\n",
      "Best parameters set:\n",
      "\tclf__C: 100\n",
      "\ttfidf__use_idf: False\n",
      "\tvect__max_df: 0.5\n",
      "Лучшее значение F1 для логистической регрессии на обучающих данных: 0.746\n"
     ]
    }
   ],
   "source": [
    "pipeline = Pipeline(\n",
    "    [\n",
    "        (\"vect\", CountVectorizer(stop_words=stopwords)),\n",
    "        (\"tfidf\", TfidfTransformer()),\n",
    "        (\"clf\", LogisticRegression(solver='saga', random_state=12345, class_weight='balanced')),\n",
    "    ]\n",
    ")\n",
    "\n",
    "parameters = {\n",
    "    \"vect__max_df\": (0.5, 1.0),\n",
    "    'tfidf__use_idf': (True, False),\n",
    "    \"clf__C\": [1, 100]\n",
    "}\n",
    "\n",
    "grid_log_reg = GridSearchCV(pipeline, parameters, cv=5, scoring='f1')\n",
    "\n",
    "print(\"Performing grid search...\")\n",
    "print(\"pipeline:\", [name for name, _ in pipeline.steps])\n",
    "print(\"parameters:\")\n",
    "print(parameters)\n",
    "t0 = time()\n",
    "grid_log_reg.fit(X_train, y_train)\n",
    "print(\"done in %0.3fs\" % (time() - t0))\n",
    "print()\n",
    "\n",
    "print(\"Best parameters set:\")\n",
    "best_parameters = grid_log_reg.best_estimator_.get_params()\n",
    "for param_name in sorted(parameters.keys()):\n",
    "    print(\"\\t%s: %r\" % (param_name, best_parameters[param_name]))\n",
    "    \n",
    "print(\"Лучшее значение F1 для логистической регрессии на обучающих данных: %0.3f\" % grid_log_reg.best_score_)"
   ]
  },
  {
   "cell_type": "markdown",
   "metadata": {},
   "source": [
    "The F1 value is below the threshold even on the training data. We will not use the model for testing on test data."
   ]
  },
  {
   "cell_type": "markdown",
   "metadata": {},
   "source": [
    "### Soft Voting (Logistic Regression, Random Forest, SGD)"
   ]
  },
  {
   "cell_type": "markdown",
   "metadata": {},
   "source": [
    "Let's create an ensemble of models: `Logistic Regression`, `Random Forest`, `SGD` based on `VotingClassifier` with soft voting. Let's check the value of the F1 metric using cross-validation."
   ]
  },
  {
   "cell_type": "code",
   "execution_count": 21,
   "metadata": {},
   "outputs": [
    {
     "name": "stdout",
     "output_type": "stream",
     "text": [
      "CPU times: user 1h 8min 40s, sys: 8.22 s, total: 1h 8min 48s\n",
      "Wall time: 1h 8min 53s\n"
     ]
    }
   ],
   "source": [
    "%%time\n",
    "lr_clf = LogisticRegression(random_state=12345, \n",
    "                                                solver='saga', class_weight='balanced')\n",
    "rf_clf = RandomForestClassifier(random_state=12345, n_estimators=100,\n",
    "                                                    class_weight='balanced')\n",
    "sgb_clf = SGDClassifier(random_state=12345, max_iter=1000,\n",
    "                                            loss='modified_huber', class_weight='balanced')\n",
    "\n",
    "voting_clf = VotingClassifier(\n",
    "    estimators=[('lr', lr_clf), ('rf', rf_clf), ('sgb', sgb_clf)],\n",
    "    voting='soft')\n",
    "\n",
    "cv_scores = cross_val_score(voting_clf, X_train_idf, y_train, cv=5, scoring='f1')"
   ]
  },
  {
   "cell_type": "code",
   "execution_count": 22,
   "metadata": {},
   "outputs": [
    {
     "name": "stdout",
     "output_type": "stream",
     "text": [
      "Лучшее значение F1 для ансамбля c Soft Voting на кросс-валидации: 0.7809861942886214\n"
     ]
    }
   ],
   "source": [
    "voting_f1_train = cv_scores.mean()\n",
    "print(f'Лучшее значение F1 для ансамбля c Soft Voting на кросс-валидации: {voting_f1_train}')"
   ]
  },
  {
   "cell_type": "markdown",
   "metadata": {},
   "source": [
    "We got a fairly high F1 value in cross-validation. Let's train the model to test on the test data."
   ]
  },
  {
   "cell_type": "code",
   "execution_count": 23,
   "metadata": {},
   "outputs": [
    {
     "data": {
      "text/plain": [
       "VotingClassifier(estimators=[('lr',\n",
       "                              LogisticRegression(class_weight='balanced',\n",
       "                                                 random_state=12345,\n",
       "                                                 solver='saga')),\n",
       "                             ('rf',\n",
       "                              RandomForestClassifier(class_weight='balanced',\n",
       "                                                     random_state=12345)),\n",
       "                             ('sgb',\n",
       "                              SGDClassifier(class_weight='balanced',\n",
       "                                            loss='modified_huber',\n",
       "                                            random_state=12345))],\n",
       "                 voting='soft')"
      ]
     },
     "execution_count": 23,
     "metadata": {},
     "output_type": "execute_result"
    }
   ],
   "source": [
    "voting_clf.fit(X_train_idf, y_train)"
   ]
  },
  {
   "cell_type": "markdown",
   "metadata": {},
   "source": [
    "### LightGBM"
   ]
  },
  {
   "cell_type": "markdown",
   "metadata": {},
   "source": [
    "Let's tune hyperparameters using GridSearchCV, train the model and check the F1 value on the training data."
   ]
  },
  {
   "cell_type": "code",
   "execution_count": 24,
   "metadata": {
    "scrolled": true
   },
   "outputs": [
    {
     "name": "stdout",
     "output_type": "stream",
     "text": [
      "Fitting 5 folds for each of 4 candidates, totalling 20 fits\n",
      "[CV 1/5; 1/4] START learning_rate=0.2, num_iterations=100.......................\n",
      "[CV 1/5; 1/4] END .....learning_rate=0.2, num_iterations=100; total time=15.4min\n",
      "[CV 2/5; 1/4] START learning_rate=0.2, num_iterations=100.......................\n",
      "[CV 2/5; 1/4] END .....learning_rate=0.2, num_iterations=100; total time=15.4min\n",
      "[CV 3/5; 1/4] START learning_rate=0.2, num_iterations=100.......................\n",
      "[CV 3/5; 1/4] END .....learning_rate=0.2, num_iterations=100; total time= 6.7min\n",
      "[CV 4/5; 1/4] START learning_rate=0.2, num_iterations=100.......................\n",
      "[CV 4/5; 1/4] END .....learning_rate=0.2, num_iterations=100; total time= 2.7min\n",
      "[CV 5/5; 1/4] START learning_rate=0.2, num_iterations=100.......................\n",
      "[CV 5/5; 1/4] END .....learning_rate=0.2, num_iterations=100; total time= 2.7min\n",
      "[CV 1/5; 2/4] START learning_rate=0.2, num_iterations=200.......................\n",
      "[CV 1/5; 2/4] END .....learning_rate=0.2, num_iterations=200; total time= 8.8min\n",
      "[CV 2/5; 2/4] START learning_rate=0.2, num_iterations=200.......................\n",
      "[CV 2/5; 2/4] END .....learning_rate=0.2, num_iterations=200; total time= 4.6min\n",
      "[CV 3/5; 2/4] START learning_rate=0.2, num_iterations=200.......................\n",
      "[CV 3/5; 2/4] END .....learning_rate=0.2, num_iterations=200; total time= 4.8min\n",
      "[CV 4/5; 2/4] START learning_rate=0.2, num_iterations=200.......................\n",
      "[CV 4/5; 2/4] END .....learning_rate=0.2, num_iterations=200; total time= 4.5min\n",
      "[CV 5/5; 2/4] START learning_rate=0.2, num_iterations=200.......................\n",
      "[CV 5/5; 2/4] END .....learning_rate=0.2, num_iterations=200; total time= 4.7min\n",
      "[CV 1/5; 3/4] START learning_rate=0.4, num_iterations=100.......................\n",
      "[CV 1/5; 3/4] END .....learning_rate=0.4, num_iterations=100; total time= 2.8min\n",
      "[CV 2/5; 3/4] START learning_rate=0.4, num_iterations=100.......................\n",
      "[CV 2/5; 3/4] END .....learning_rate=0.4, num_iterations=100; total time= 2.4min\n",
      "[CV 3/5; 3/4] START learning_rate=0.4, num_iterations=100.......................\n",
      "[CV 3/5; 3/4] END .....learning_rate=0.4, num_iterations=100; total time= 2.7min\n",
      "[CV 4/5; 3/4] START learning_rate=0.4, num_iterations=100.......................\n",
      "[CV 4/5; 3/4] END .....learning_rate=0.4, num_iterations=100; total time= 2.6min\n",
      "[CV 5/5; 3/4] START learning_rate=0.4, num_iterations=100.......................\n",
      "[CV 5/5; 3/4] END .....learning_rate=0.4, num_iterations=100; total time= 2.5min\n",
      "[CV 1/5; 4/4] START learning_rate=0.4, num_iterations=200.......................\n",
      "[CV 1/5; 4/4] END .....learning_rate=0.4, num_iterations=200; total time= 4.2min\n",
      "[CV 2/5; 4/4] START learning_rate=0.4, num_iterations=200.......................\n",
      "[CV 2/5; 4/4] END .....learning_rate=0.4, num_iterations=200; total time= 4.1min\n",
      "[CV 3/5; 4/4] START learning_rate=0.4, num_iterations=200.......................\n",
      "[CV 3/5; 4/4] END .....learning_rate=0.4, num_iterations=200; total time= 4.4min\n",
      "[CV 4/5; 4/4] START learning_rate=0.4, num_iterations=200.......................\n",
      "[CV 4/5; 4/4] END .....learning_rate=0.4, num_iterations=200; total time= 5.5min\n",
      "[CV 5/5; 4/4] START learning_rate=0.4, num_iterations=200.......................\n",
      "[CV 5/5; 4/4] END .....learning_rate=0.4, num_iterations=200; total time= 3.9min\n",
      "CPU times: user 1h 49min 11s, sys: 26.3 s, total: 1h 49min 37s\n",
      "Wall time: 1h 50min 26s\n"
     ]
    },
    {
     "data": {
      "text/plain": [
       "GridSearchCV(cv=5, estimator=LGBMClassifier(random_state=12345), n_jobs=-1,\n",
       "             param_grid={'learning_rate': [0.2, 0.4],\n",
       "                         'num_iterations': [100, 200]},\n",
       "             scoring='f1', verbose=20)"
      ]
     },
     "execution_count": 24,
     "metadata": {},
     "output_type": "execute_result"
    }
   ],
   "source": [
    "%%time\n",
    "lgb_params = {'learning_rate': [0.2, 0.4], 'num_iterations': [100, 200]}\n",
    "\n",
    "\n",
    "lgb_model = lgb.LGBMClassifier(random_state=12345)\n",
    "grid_lgbm = GridSearchCV(lgb_model, lgb_params, cv=5, scoring='f1', verbose=20, n_jobs=-1) \n",
    "grid_lgbm.fit(X_train_idf, y_train)"
   ]
  },
  {
   "cell_type": "code",
   "execution_count": 25,
   "metadata": {},
   "outputs": [
    {
     "name": "stdout",
     "output_type": "stream",
     "text": [
      "Лучшее значение F1 для модели LightGBM на обучающих данных: 0.7682597617299166\n"
     ]
    }
   ],
   "source": [
    "lgbm_f1_train = grid_lgbm.best_score_\n",
    "print(f'Лучшее значение F1 для модели LightGBM на обучающих данных: {lgbm_f1_train}')"
   ]
  },
  {
   "cell_type": "markdown",
   "metadata": {},
   "source": [
    "### Linear SVC"
   ]
  },
  {
   "cell_type": "markdown",
   "metadata": {},
   "source": [
    "Let's train the Linear SVC model and check the F1 value on the training data."
   ]
  },
  {
   "cell_type": "code",
   "execution_count": 26,
   "metadata": {},
   "outputs": [
    {
     "name": "stdout",
     "output_type": "stream",
     "text": [
      "CPU times: user 1min 57s, sys: 682 ms, total: 1min 58s\n",
      "Wall time: 1min 58s\n"
     ]
    },
    {
     "data": {
      "text/plain": [
       "GridSearchCV(cv=5,\n",
       "             estimator=LinearSVC(class_weight='balanced', random_state=12345),\n",
       "             param_grid={'C': [1, 100], 'tol': [0.0001, 1e-05]}, scoring='f1')"
      ]
     },
     "execution_count": 26,
     "metadata": {},
     "output_type": "execute_result"
    }
   ],
   "source": [
    "%%time\n",
    "lin_svc_params = {'C':[1, 100], 'tol':[1e-4, 1e-5]}\n",
    "\n",
    "lin_svc = LinearSVC(random_state=12345, class_weight='balanced')\n",
    "\n",
    "grid_lin_svc = GridSearchCV(lin_svc, lin_svc_params, cv=5, scoring='f1')\n",
    "grid_lin_svc.fit(X_train_idf, y_train)"
   ]
  },
  {
   "cell_type": "code",
   "execution_count": 27,
   "metadata": {},
   "outputs": [
    {
     "name": "stdout",
     "output_type": "stream",
     "text": [
      "Лучшее значение F1 для модели Linear SVC на обучающих данных: 0.7542701557584539\n"
     ]
    }
   ],
   "source": [
    "svc_f1_train = grid_lin_svc.best_score_\n",
    "print(f'Лучшее значение F1 для модели Linear SVC на обучающих данных: {svc_f1_train}')"
   ]
  },
  {
   "cell_type": "markdown",
   "metadata": {},
   "source": [
    "### Stacking (Logistic Regression, Random Forest, SGD + Gradient Boosting (final))"
   ]
  },
  {
   "cell_type": "markdown",
   "metadata": {},
   "source": [
    "Let's create an ensemble of models using the `Stack` method. We will use the following models: `Logistic Regression`, `Random Forest`, `SGD`. We will use the `GradientBoostingClassifier` as the final classifier. Cross-validation is already built into the `StackingClassifier` by default."
   ]
  },
  {
   "cell_type": "code",
   "execution_count": 28,
   "metadata": {},
   "outputs": [],
   "source": [
    "estimators = [('lr', LogisticRegression(solver=\"saga\", random_state=12345,\n",
    "                            class_weight='balanced')),\n",
    "              ('rf', RandomForestClassifier(n_estimators=100, random_state=12345, \n",
    "                            class_weight='balanced')),\n",
    "              ('sgd', SGDClassifier(max_iter = 1000, random_state=12345, \n",
    "                        loss='modified_huber', class_weight='balanced'))]"
   ]
  },
  {
   "cell_type": "code",
   "execution_count": 29,
   "metadata": {},
   "outputs": [],
   "source": [
    "final_estimator = GradientBoostingClassifier(n_estimators=100, learning_rate=1.0,\n",
    "                                 max_depth=1, random_state=12345)\n",
    "\n",
    "stacking_model = StackingClassifier(estimators=estimators, final_estimator=final_estimator)"
   ]
  },
  {
   "cell_type": "code",
   "execution_count": 30,
   "metadata": {},
   "outputs": [
    {
     "name": "stdout",
     "output_type": "stream",
     "text": [
      "CPU times: user 1h 16min 7s, sys: 10.1 s, total: 1h 16min 17s\n",
      "Wall time: 1h 16min 21s\n"
     ]
    },
    {
     "data": {
      "text/plain": [
       "StackingClassifier(estimators=[('lr',\n",
       "                                LogisticRegression(class_weight='balanced',\n",
       "                                                   random_state=12345,\n",
       "                                                   solver='saga')),\n",
       "                               ('rf',\n",
       "                                RandomForestClassifier(class_weight='balanced',\n",
       "                                                       random_state=12345)),\n",
       "                               ('sgd',\n",
       "                                SGDClassifier(class_weight='balanced',\n",
       "                                              loss='modified_huber',\n",
       "                                              random_state=12345))],\n",
       "                   final_estimator=GradientBoostingClassifier(learning_rate=1.0,\n",
       "                                                              max_depth=1,\n",
       "                                                              random_state=12345))"
      ]
     },
     "execution_count": 30,
     "metadata": {},
     "output_type": "execute_result"
    }
   ],
   "source": [
    "%%time\n",
    "stacking_model.fit(X_train_idf, y_train)"
   ]
  },
  {
   "cell_type": "code",
   "execution_count": 31,
   "metadata": {},
   "outputs": [
    {
     "name": "stdout",
     "output_type": "stream",
     "text": [
      "Лучшее значение F1 для ансамбля cо Stacking на обучающих данных: 0.8605520067494276\n"
     ]
    }
   ],
   "source": [
    "stacking_model_pred_train = stacking_model.predict(X_train_idf)\n",
    "stacking_model_f1_train = f1_score(y_train, stacking_model_pred_train)\n",
    "print(f'Лучшее значение F1 для ансамбля cо Stacking на обучающих данных: {stacking_model_f1_train}')"
   ]
  },
  {
   "cell_type": "markdown",
   "metadata": {},
   "source": [
    "## Model Testing"
   ]
  },
  {
   "cell_type": "markdown",
   "metadata": {},
   "source": [
    "Let's check the models that passed the F1 = 0.75 threshold (with cross-validation) on the test data."
   ]
  },
  {
   "cell_type": "markdown",
   "metadata": {},
   "source": [
    "**Soft Voting (Logistic Regression, Random Forest, SGD)**"
   ]
  },
  {
   "cell_type": "markdown",
   "metadata": {},
   "source": [
    "Let's check the trained model on the test data."
   ]
  },
  {
   "cell_type": "code",
   "execution_count": 32,
   "metadata": {},
   "outputs": [
    {
     "name": "stdout",
     "output_type": "stream",
     "text": [
      "Лучшее значение F1 для ансамбля c Soft Voting на тестовых данных: 0.7886489821098088\n"
     ]
    }
   ],
   "source": [
    "voting_pred = voting_clf.predict(X_test_idf)\n",
    "voting_f1_test = f1_score(y_test, voting_pred)\n",
    "print(f'Лучшее значение F1 для ансамбля c Soft Voting на тестовых данных: {voting_f1_test}')"
   ]
  },
  {
   "cell_type": "code",
   "execution_count": 33,
   "metadata": {},
   "outputs": [],
   "source": [
    "model_name.append('Soft Voting (Logistic Regression, Random Forest, SGD)')\n",
    "f_score_train.append(voting_f1_train)\n",
    "f_score_test.append(voting_f1_test)"
   ]
  },
  {
   "cell_type": "markdown",
   "metadata": {},
   "source": [
    "**LightGBM**"
   ]
  },
  {
   "cell_type": "markdown",
   "metadata": {},
   "source": [
    "Let's check the trained model on the test data."
   ]
  },
  {
   "cell_type": "code",
   "execution_count": 34,
   "metadata": {},
   "outputs": [
    {
     "name": "stdout",
     "output_type": "stream",
     "text": [
      "Лучшее значение F1 для модели LightGBM на тестовых данных: 0.7738637933416217\n"
     ]
    }
   ],
   "source": [
    "lgbm_pred = grid_lgbm.predict(X_test_idf)\n",
    "lgbm_f1_test = f1_score(y_test, lgbm_pred)\n",
    "print(f'Лучшее значение F1 для модели LightGBM на тестовых данных: {lgbm_f1_test}')"
   ]
  },
  {
   "cell_type": "code",
   "execution_count": 35,
   "metadata": {},
   "outputs": [],
   "source": [
    "model_name.append('LightGBM')\n",
    "f_score_train.append(lgbm_f1_train)\n",
    "f_score_test.append(lgbm_f1_test)"
   ]
  },
  {
   "cell_type": "markdown",
   "metadata": {},
   "source": [
    "**Linear SVC**"
   ]
  },
  {
   "cell_type": "markdown",
   "metadata": {},
   "source": [
    "Let's check the trained model on the test data."
   ]
  },
  {
   "cell_type": "code",
   "execution_count": 36,
   "metadata": {},
   "outputs": [
    {
     "name": "stdout",
     "output_type": "stream",
     "text": [
      "Лучшее значение F1 для модели Linear SVC на тестовых данных:0.7540796530868424\n"
     ]
    }
   ],
   "source": [
    "lin_svc_pred = grid_lin_svc.predict(X_test_idf)\n",
    "svc_f1_test = f1_score(y_test, lin_svc_pred)\n",
    "print(f'Лучшее значение F1 для модели Linear SVC на тестовых данных:{svc_f1_test}')"
   ]
  },
  {
   "cell_type": "code",
   "execution_count": 37,
   "metadata": {},
   "outputs": [],
   "source": [
    "model_name.append('Linear SVC')\n",
    "f_score_train.append(svc_f1_train)\n",
    "f_score_test.append(svc_f1_test)"
   ]
  },
  {
   "cell_type": "markdown",
   "metadata": {},
   "source": [
    "**Stacking (Logistic Regression, Random Forest, SGD + Gradient Boosting (final))**"
   ]
  },
  {
   "cell_type": "markdown",
   "metadata": {},
   "source": [
    "Let's check the trained model on the test data."
   ]
  },
  {
   "cell_type": "code",
   "execution_count": 38,
   "metadata": {},
   "outputs": [
    {
     "name": "stdout",
     "output_type": "stream",
     "text": [
      "Лучшее значение F1 для ансамбля cо Stacking на тестовых данных: 0.7815052142228923\n"
     ]
    }
   ],
   "source": [
    "stacking_model_pred = stacking_model.predict(X_test_idf)\n",
    "stacking_model_f1_test = f1_score(y_test, stacking_model_pred)\n",
    "print(f'Лучшее значение F1 для ансамбля cо Stacking на тестовых данных: {stacking_model_f1_test}')"
   ]
  },
  {
   "cell_type": "code",
   "execution_count": 39,
   "metadata": {},
   "outputs": [],
   "source": [
    "model_name.append('Stacking (LogReg, RF, SGD + GBoost(final))')\n",
    "f_score_train.append(stacking_model_f1_train)\n",
    "f_score_test.append(stacking_model_f1_test)"
   ]
  },
  {
   "cell_type": "markdown",
   "metadata": {},
   "source": [
    "### Model Comparison"
   ]
  },
  {
   "cell_type": "markdown",
   "metadata": {},
   "source": [
    "Let's create a table with the results and compare the models."
   ]
  },
  {
   "cell_type": "code",
   "execution_count": 40,
   "metadata": {},
   "outputs": [
    {
     "data": {
      "text/html": [
       "<style  type=\"text/css\" >\n",
       "#T_36a52_row3_col2{\n",
       "            background-color:  lightgreen;\n",
       "        }</style><table id=\"T_36a52_\" ><thead>    <tr>        <th class=\"blank level0\" ></th>        <th class=\"col_heading level0 col0\" >model_name</th>        <th class=\"col_heading level0 col1\" >F1_score_train</th>        <th class=\"col_heading level0 col2\" >F1_score_test</th>    </tr></thead><tbody>\n",
       "                <tr>\n",
       "                        <th id=\"T_36a52_level0_row0\" class=\"row_heading level0 row0\" >0</th>\n",
       "                        <td id=\"T_36a52_row0_col0\" class=\"data row0 col0\" >Linear SVC</td>\n",
       "                        <td id=\"T_36a52_row0_col1\" class=\"data row0 col1\" >0.754270</td>\n",
       "                        <td id=\"T_36a52_row0_col2\" class=\"data row0 col2\" >0.754080</td>\n",
       "            </tr>\n",
       "            <tr>\n",
       "                        <th id=\"T_36a52_level0_row1\" class=\"row_heading level0 row1\" >1</th>\n",
       "                        <td id=\"T_36a52_row1_col0\" class=\"data row1 col0\" >LightGBM</td>\n",
       "                        <td id=\"T_36a52_row1_col1\" class=\"data row1 col1\" >0.768260</td>\n",
       "                        <td id=\"T_36a52_row1_col2\" class=\"data row1 col2\" >0.773864</td>\n",
       "            </tr>\n",
       "            <tr>\n",
       "                        <th id=\"T_36a52_level0_row2\" class=\"row_heading level0 row2\" >2</th>\n",
       "                        <td id=\"T_36a52_row2_col0\" class=\"data row2 col0\" >Stacking (LogReg, RF, SGD + GBoost(final))</td>\n",
       "                        <td id=\"T_36a52_row2_col1\" class=\"data row2 col1\" >0.860552</td>\n",
       "                        <td id=\"T_36a52_row2_col2\" class=\"data row2 col2\" >0.781505</td>\n",
       "            </tr>\n",
       "            <tr>\n",
       "                        <th id=\"T_36a52_level0_row3\" class=\"row_heading level0 row3\" >3</th>\n",
       "                        <td id=\"T_36a52_row3_col0\" class=\"data row3 col0\" >Soft Voting (Logistic Regression, Random Forest, SGD)</td>\n",
       "                        <td id=\"T_36a52_row3_col1\" class=\"data row3 col1\" >0.780986</td>\n",
       "                        <td id=\"T_36a52_row3_col2\" class=\"data row3 col2\" >0.788649</td>\n",
       "            </tr>\n",
       "    </tbody></table>"
      ],
      "text/plain": [
       "<pandas.io.formats.style.Styler at 0x7fb010b81a60>"
      ]
     },
     "execution_count": 40,
     "metadata": {},
     "output_type": "execute_result"
    }
   ],
   "source": [
    "model_comparison = pd.DataFrame(\n",
    "    {\n",
    "    'model_name': model_name, \n",
    "    'F1_score_train' : f_score_train,\n",
    "    'F1_score_test' : f_score_test\n",
    "    }\n",
    ").sort_values(by='F1_score_test').reset_index(drop=True)\n",
    "\n",
    "model_comparison.style.highlight_max(\n",
    "    ['F1_score_test'], \n",
    "    color='lightgreen', \n",
    "    axis=0\n",
    ")"
   ]
  },
  {
   "cell_type": "markdown",
   "metadata": {},
   "source": [
    "The `Soft Voting` (Logistic Regression, Random Forest, SGD) and `Stacking` (LogReg, RF, SGD + GBoost(final)) models showed the best results on test data. The `LightGBM` and `Linear SVC` models performed slightly worse. Also, the `Logistic Regression` model did not reach the testing stage, since it did not overcome the F1(0.75) threshold."
   ]
  },
  {
   "cell_type": "markdown",
   "metadata": {},
   "source": [
    "## Sanity Check"
   ]
  },
  {
   "cell_type": "markdown",
   "metadata": {},
   "source": [
    "Let's check our models for adequacy using a constant model."
   ]
  },
  {
   "cell_type": "code",
   "execution_count": 41,
   "metadata": {},
   "outputs": [],
   "source": [
    "dummy = DummyClassifier(random_state=12345, strategy='constant', constant=1)"
   ]
  },
  {
   "cell_type": "code",
   "execution_count": 42,
   "metadata": {},
   "outputs": [],
   "source": [
    "dummy.fit(X_train, y_train)\n",
    "dummy_pred = dummy.predict(X_test)"
   ]
  },
  {
   "cell_type": "code",
   "execution_count": 43,
   "metadata": {},
   "outputs": [
    {
     "name": "stdout",
     "output_type": "stream",
     "text": [
      "Значение F1 константной модели: 0.18445827349609065\n"
     ]
    }
   ],
   "source": [
    "constant_f1 = f1_score(y_test, dummy_pred)\n",
    "\n",
    "print(f'Значение F1 константной модели: {constant_f1}')"
   ]
  },
  {
   "cell_type": "markdown",
   "metadata": {},
   "source": [
    "All our models passed Sanity Check, as their F1 is higher than that of the constant model."
   ]
  },
  {
   "cell_type": "markdown",
   "metadata": {},
   "source": [
    "## Conclusion"
   ]
  },
  {
   "cell_type": "markdown",
   "metadata": {},
   "source": [
    "In the course of the project, we reviewed the data and pre-processed the text. We tokenized the text, removed unnecessary characters, stop words, and lemmatized it. After that, the data was split into two sets (training and test) in a ratio of 75:25 and the text was vectorized using TF-IDF. Then we trained `Logistic Regression`, `an ensemble of models (Logistic Regression, Random Forest, SGD based on VotingClassifier with soft voting)`, `LightGBM`, `LinearSVC` and `Stack models (Logistic Regression, Random Forest, SGD + Gradient Boosting (final))`, checked the F1 metric using cross-validation, and also checked the quality of models that passed the F1 metric threshold of 0.75 on test data.\n",
    "\n",
    "The ensemble of models (Logistic Regression, Random Forest, SGD based on VotingClassifier with soft voting) showed the best  F1 (0.788649) on test data. It was followed by an ensemble of models built using the Stacking method (Logistic Regression, Random Forest, SGD + Gradient Boosting (final)) with a result of F1 (0.781505) and the LightGBM model with a result of F1 (0.773864).\n",
    "\n",
    "Since the training time is not important for our client, the best model for finding toxic comments can be an ensemble of models: Logistic Regression, Random Forest, SGD based on VotingClassifier with soft voting, or an ensemble of models based on the Stacking method."
   ]
  }
 ],
 "metadata": {
  "ExecuteTimeLog": [
   {
    "duration": 2190,
    "start_time": "2022-09-14T20:37:38.545Z"
   },
   {
    "duration": 504,
    "start_time": "2022-09-14T20:37:40.736Z"
   },
   {
    "duration": 2733,
    "start_time": "2022-09-14T20:37:57.655Z"
   },
   {
    "duration": 54,
    "start_time": "2022-09-14T20:38:04.567Z"
   },
   {
    "duration": 190,
    "start_time": "2022-09-14T20:38:06.963Z"
   },
   {
    "duration": 1653,
    "start_time": "2022-09-14T20:38:08.778Z"
   },
   {
    "duration": 170,
    "start_time": "2022-09-14T20:38:11.276Z"
   },
   {
    "duration": 77,
    "start_time": "2022-09-14T20:38:12.561Z"
   },
   {
    "duration": 5,
    "start_time": "2022-09-14T20:38:14.204Z"
   },
   {
    "duration": 2263,
    "start_time": "2022-09-14T20:38:15.756Z"
   },
   {
    "duration": 5,
    "start_time": "2022-09-14T20:38:35.013Z"
   },
   {
    "duration": 85717,
    "start_time": "2022-09-14T20:38:44.603Z"
   },
   {
    "duration": 4226,
    "start_time": "2022-09-14T20:40:14.862Z"
   },
   {
    "duration": 3,
    "start_time": "2022-09-14T20:40:21.435Z"
   },
   {
    "duration": 49,
    "start_time": "2022-09-14T20:40:58.651Z"
   },
   {
    "duration": 3,
    "start_time": "2022-09-14T20:41:10.158Z"
   },
   {
    "duration": 9,
    "start_time": "2022-09-14T20:41:22.470Z"
   },
   {
    "duration": 3865,
    "start_time": "2022-09-14T20:42:25.208Z"
   },
   {
    "duration": 5067,
    "start_time": "2022-09-14T20:42:35.704Z"
   },
   {
    "duration": 3,
    "start_time": "2022-09-14T20:42:41.366Z"
   },
   {
    "duration": 3,
    "start_time": "2022-09-14T20:43:18.219Z"
   },
   {
    "duration": 10,
    "start_time": "2022-09-14T20:43:22.800Z"
   },
   {
    "duration": 3,
    "start_time": "2022-09-14T20:44:11.536Z"
   },
   {
    "duration": 11,
    "start_time": "2022-09-14T20:44:13.507Z"
   },
   {
    "duration": 94,
    "start_time": "2022-09-14T20:45:54.394Z"
   },
   {
    "duration": 23,
    "start_time": "2022-09-14T20:45:58.821Z"
   },
   {
    "duration": 6,
    "start_time": "2022-09-14T20:46:05.980Z"
   },
   {
    "duration": 34,
    "start_time": "2022-09-14T20:46:13.666Z"
   },
   {
    "duration": 2525,
    "start_time": "2022-09-15T07:38:06.665Z"
   },
   {
    "duration": 521,
    "start_time": "2022-09-15T07:38:11.295Z"
   },
   {
    "duration": 3032,
    "start_time": "2022-09-15T07:38:15.108Z"
   },
   {
    "duration": 82,
    "start_time": "2022-09-15T07:38:19.770Z"
   },
   {
    "duration": 230,
    "start_time": "2022-09-15T07:38:22.469Z"
   },
   {
    "duration": 769,
    "start_time": "2022-09-15T07:38:23.854Z"
   },
   {
    "duration": 185,
    "start_time": "2022-09-15T07:38:25.514Z"
   },
   {
    "duration": 24,
    "start_time": "2022-09-15T07:38:26.610Z"
   },
   {
    "duration": 4,
    "start_time": "2022-09-15T07:38:28.850Z"
   },
   {
    "duration": 3255,
    "start_time": "2022-09-15T07:38:30.339Z"
   },
   {
    "duration": 19,
    "start_time": "2022-09-15T07:39:52.372Z"
   },
   {
    "duration": 3,
    "start_time": "2022-09-15T07:40:00.921Z"
   },
   {
    "duration": 3,
    "start_time": "2022-09-15T07:40:04.375Z"
   },
   {
    "duration": 11,
    "start_time": "2022-09-15T07:40:09.856Z"
   },
   {
    "duration": 11,
    "start_time": "2022-09-15T07:40:13.911Z"
   },
   {
    "duration": 6,
    "start_time": "2022-09-15T07:40:20.488Z"
   },
   {
    "duration": 13,
    "start_time": "2022-09-15T07:40:23.215Z"
   },
   {
    "duration": 3,
    "start_time": "2022-09-15T07:40:54.042Z"
   },
   {
    "duration": 330,
    "start_time": "2022-09-15T07:40:55.491Z"
   },
   {
    "duration": 3,
    "start_time": "2022-09-15T07:41:11.926Z"
   },
   {
    "duration": 1344,
    "start_time": "2022-09-15T07:41:12.824Z"
   },
   {
    "duration": 3,
    "start_time": "2022-09-15T07:41:23.095Z"
   },
   {
    "duration": 2299,
    "start_time": "2022-09-15T07:41:23.961Z"
   },
   {
    "duration": 3,
    "start_time": "2022-09-15T07:41:57.547Z"
   },
   {
    "duration": 84168,
    "start_time": "2022-09-15T07:41:59.149Z"
   },
   {
    "duration": 15,
    "start_time": "2022-09-15T07:43:25.833Z"
   },
   {
    "duration": 7,
    "start_time": "2022-09-15T07:45:02.857Z"
   },
   {
    "duration": 79255,
    "start_time": "2022-09-15T07:45:22.282Z"
   },
   {
    "duration": 10,
    "start_time": "2022-09-15T07:46:44.900Z"
   },
   {
    "duration": 3,
    "start_time": "2022-09-15T07:47:31.633Z"
   },
   {
    "duration": 53,
    "start_time": "2022-09-15T07:47:34.605Z"
   },
   {
    "duration": 2,
    "start_time": "2022-09-15T07:47:37.823Z"
   },
   {
    "duration": 2,
    "start_time": "2022-09-15T07:47:38.581Z"
   },
   {
    "duration": 7,
    "start_time": "2022-09-15T07:47:40.998Z"
   },
   {
    "duration": 6170,
    "start_time": "2022-09-15T07:47:50.736Z"
   },
   {
    "duration": 3,
    "start_time": "2022-09-15T07:47:58.004Z"
   },
   {
    "duration": 22,
    "start_time": "2022-09-15T07:47:58.798Z"
   },
   {
    "duration": 1844,
    "start_time": "2022-09-15T09:00:53.664Z"
   },
   {
    "duration": 2360,
    "start_time": "2022-09-15T09:00:58.852Z"
   },
   {
    "duration": 209,
    "start_time": "2022-09-15T09:01:04.928Z"
   },
   {
    "duration": 159,
    "start_time": "2022-09-15T09:01:06.791Z"
   },
   {
    "duration": 50,
    "start_time": "2022-09-15T09:01:07.938Z"
   },
   {
    "duration": 31,
    "start_time": "2022-09-15T09:01:08.842Z"
   },
   {
    "duration": 25,
    "start_time": "2022-09-15T09:01:10.035Z"
   },
   {
    "duration": 4,
    "start_time": "2022-09-15T09:01:12.310Z"
   },
   {
    "duration": 685,
    "start_time": "2022-09-15T09:01:13.737Z"
   },
   {
    "duration": 6,
    "start_time": "2022-09-15T09:01:34.437Z"
   },
   {
    "duration": 3,
    "start_time": "2022-09-15T09:01:35.598Z"
   },
   {
    "duration": 3,
    "start_time": "2022-09-15T09:01:37.359Z"
   },
   {
    "duration": 88077,
    "start_time": "2022-09-15T09:01:39.454Z"
   },
   {
    "duration": 13,
    "start_time": "2022-09-15T09:03:14.765Z"
   },
   {
    "duration": 3,
    "start_time": "2022-09-15T09:03:41.242Z"
   },
   {
    "duration": 59,
    "start_time": "2022-09-15T09:03:42.547Z"
   },
   {
    "duration": 2,
    "start_time": "2022-09-15T09:03:43.715Z"
   },
   {
    "duration": 3,
    "start_time": "2022-09-15T09:03:44.110Z"
   },
   {
    "duration": 7,
    "start_time": "2022-09-15T09:03:45.463Z"
   },
   {
    "duration": 6439,
    "start_time": "2022-09-15T09:03:47.732Z"
   },
   {
    "duration": 3,
    "start_time": "2022-09-15T09:04:05.360Z"
   },
   {
    "duration": 22,
    "start_time": "2022-09-15T09:04:05.993Z"
   },
   {
    "duration": 3673,
    "start_time": "2022-09-15T09:04:19.574Z"
   },
   {
    "duration": 18,
    "start_time": "2022-09-15T09:04:25.047Z"
   },
   {
    "duration": 2,
    "start_time": "2022-09-15T09:05:03.960Z"
   },
   {
    "duration": 42675,
    "start_time": "2022-09-15T09:05:05.503Z"
   },
   {
    "duration": 14,
    "start_time": "2022-09-15T09:05:52.087Z"
   },
   {
    "duration": 3,
    "start_time": "2022-09-15T09:06:07.511Z"
   },
   {
    "duration": 11422,
    "start_time": "2022-09-15T09:06:08.969Z"
   },
   {
    "duration": 13,
    "start_time": "2022-09-15T09:06:26.902Z"
   },
   {
    "duration": 2,
    "start_time": "2022-09-15T09:11:58.981Z"
   },
   {
    "duration": 1906,
    "start_time": "2022-09-15T11:03:54.146Z"
   },
   {
    "duration": 38,
    "start_time": "2022-09-15T11:05:21.723Z"
   },
   {
    "duration": 2426,
    "start_time": "2022-09-15T11:05:25.944Z"
   },
   {
    "duration": 26026,
    "start_time": "2022-09-15T11:05:29.553Z"
   },
   {
    "duration": 55,
    "start_time": "2022-09-15T11:06:01.437Z"
   },
   {
    "duration": 2092,
    "start_time": "2022-09-15T11:06:15.598Z"
   },
   {
    "duration": 33,
    "start_time": "2022-09-15T11:06:22.731Z"
   },
   {
    "duration": 27,
    "start_time": "2022-09-15T11:06:25.087Z"
   },
   {
    "duration": 5,
    "start_time": "2022-09-15T11:06:47.224Z"
   },
   {
    "duration": 776,
    "start_time": "2022-09-15T11:06:48.006Z"
   },
   {
    "duration": 3,
    "start_time": "2022-09-15T11:07:14.957Z"
   },
   {
    "duration": 83,
    "start_time": "2022-09-15T11:07:16.052Z"
   },
   {
    "duration": 236,
    "start_time": "2022-09-15T11:07:23.862Z"
   },
   {
    "duration": 93179,
    "start_time": "2022-09-15T11:07:26.193Z"
   },
   {
    "duration": 3,
    "start_time": "2022-09-15T11:09:22.529Z"
   },
   {
    "duration": 82,
    "start_time": "2022-09-15T11:09:43.636Z"
   },
   {
    "duration": 8,
    "start_time": "2022-09-15T11:09:51.742Z"
   },
   {
    "duration": 6931,
    "start_time": "2022-09-15T11:10:06.321Z"
   },
   {
    "duration": 3,
    "start_time": "2022-09-15T11:10:22.164Z"
   },
   {
    "duration": 24,
    "start_time": "2022-09-15T11:10:22.743Z"
   },
   {
    "duration": 2,
    "start_time": "2022-09-15T11:12:09.058Z"
   },
   {
    "duration": 2,
    "start_time": "2022-09-15T11:13:42.102Z"
   },
   {
    "duration": 3,
    "start_time": "2022-09-15T11:27:34.216Z"
   },
   {
    "duration": 3,
    "start_time": "2022-09-15T11:29:12.253Z"
   },
   {
    "duration": 10973,
    "start_time": "2022-09-15T11:29:14.281Z"
   },
   {
    "duration": 13,
    "start_time": "2022-09-15T11:29:37.928Z"
   },
   {
    "duration": 18,
    "start_time": "2022-09-15T11:30:30.623Z"
   },
   {
    "duration": 3505,
    "start_time": "2022-09-15T11:30:57.444Z"
   },
   {
    "duration": 16,
    "start_time": "2022-09-15T11:31:03.190Z"
   },
   {
    "duration": 3,
    "start_time": "2022-09-15T11:31:42.737Z"
   },
   {
    "duration": 22,
    "start_time": "2022-09-15T11:34:51.827Z"
   },
   {
    "duration": 3,
    "start_time": "2022-09-15T11:34:54.957Z"
   },
   {
    "duration": 3,
    "start_time": "2022-09-15T11:34:56.052Z"
   },
   {
    "duration": 2,
    "start_time": "2022-09-15T11:35:42.640Z"
   },
   {
    "duration": 41,
    "start_time": "2022-09-15T11:35:52.594Z"
   },
   {
    "duration": 642718,
    "start_time": "2022-09-15T11:38:04.164Z"
   },
   {
    "duration": 4501,
    "start_time": "2022-09-15T11:49:14.835Z"
   },
   {
    "duration": 2,
    "start_time": "2022-09-15T11:49:20.912Z"
   },
   {
    "duration": 10,
    "start_time": "2022-09-15T11:49:23.884Z"
   },
   {
    "duration": 4981925,
    "start_time": "2022-09-15T11:49:34.354Z"
   },
   {
    "duration": 3,
    "start_time": "2022-09-15T13:12:36.281Z"
   },
   {
    "duration": 100,
    "start_time": "2022-09-15T13:12:36.288Z"
   },
   {
    "duration": 5984,
    "start_time": "2022-09-15T13:12:56.594Z"
   },
   {
    "duration": 13,
    "start_time": "2022-09-15T13:13:03.698Z"
   },
   {
    "duration": 2,
    "start_time": "2022-09-15T13:13:06.285Z"
   },
   {
    "duration": 10,
    "start_time": "2022-09-15T13:13:13.876Z"
   },
   {
    "duration": 3,
    "start_time": "2022-09-15T13:14:11.522Z"
   },
   {
    "duration": 7,
    "start_time": "2022-09-15T13:14:12.124Z"
   },
   {
    "duration": 14,
    "start_time": "2022-09-15T13:14:12.772Z"
   },
   {
    "duration": 4,
    "start_time": "2022-09-15T13:26:50.309Z"
   },
   {
    "duration": 2,
    "start_time": "2022-09-15T13:26:51.416Z"
   },
   {
    "duration": 2423,
    "start_time": "2022-09-15T13:47:28.362Z"
   },
   {
    "duration": 2680,
    "start_time": "2022-09-15T13:47:30.788Z"
   },
   {
    "duration": 13,
    "start_time": "2022-09-15T13:47:33.470Z"
   },
   {
    "duration": 15861,
    "start_time": "2022-09-15T13:47:33.484Z"
   },
   {
    "duration": 820,
    "start_time": "2022-09-15T13:47:49.348Z"
   },
   {
    "duration": 40,
    "start_time": "2022-09-15T13:47:50.170Z"
   },
   {
    "duration": 11,
    "start_time": "2022-09-15T13:47:50.211Z"
   },
   {
    "duration": 5,
    "start_time": "2022-09-15T13:47:50.224Z"
   },
   {
    "duration": 87204,
    "start_time": "2022-09-15T13:47:50.232Z"
   },
   {
    "duration": 12,
    "start_time": "2022-09-15T13:49:17.438Z"
   },
   {
    "duration": 45,
    "start_time": "2022-09-15T13:49:17.452Z"
   },
   {
    "duration": 453,
    "start_time": "2022-09-15T13:49:17.498Z"
   },
   {
    "duration": 3,
    "start_time": "2022-09-15T13:49:17.953Z"
   },
   {
    "duration": 9,
    "start_time": "2022-09-15T13:49:17.958Z"
   },
   {
    "duration": 64,
    "start_time": "2022-09-15T13:49:17.969Z"
   },
   {
    "duration": 5,
    "start_time": "2022-09-15T13:49:18.036Z"
   },
   {
    "duration": 9,
    "start_time": "2022-09-15T13:49:18.043Z"
   },
   {
    "duration": 6517,
    "start_time": "2022-09-15T13:49:18.053Z"
   },
   {
    "duration": 2,
    "start_time": "2022-09-15T13:49:24.572Z"
   },
   {
    "duration": 8,
    "start_time": "2022-09-15T13:49:24.577Z"
   },
   {
    "duration": 11270,
    "start_time": "2022-09-15T13:49:24.586Z"
   },
   {
    "duration": 27,
    "start_time": "2022-09-15T13:49:35.858Z"
   },
   {
    "duration": 2,
    "start_time": "2022-09-15T13:49:35.887Z"
   },
   {
    "duration": 1901,
    "start_time": "2022-09-15T13:55:10.871Z"
   },
   {
    "duration": 1508,
    "start_time": "2022-09-15T13:55:12.774Z"
   },
   {
    "duration": 2084,
    "start_time": "2022-09-15T13:55:14.284Z"
   },
   {
    "duration": 814,
    "start_time": "2022-09-15T13:55:16.370Z"
   },
   {
    "duration": 28,
    "start_time": "2022-09-15T13:55:17.185Z"
   },
   {
    "duration": 12,
    "start_time": "2022-09-15T13:55:17.214Z"
   },
   {
    "duration": 4,
    "start_time": "2022-09-15T13:55:17.227Z"
   },
   {
    "duration": 93468,
    "start_time": "2022-09-15T13:55:17.233Z"
   },
   {
    "duration": 12,
    "start_time": "2022-09-15T13:56:50.703Z"
   },
   {
    "duration": 30,
    "start_time": "2022-09-15T13:56:50.718Z"
   },
   {
    "duration": 426,
    "start_time": "2022-09-15T13:56:50.750Z"
   },
   {
    "duration": 4,
    "start_time": "2022-09-15T13:56:51.177Z"
   },
   {
    "duration": 7,
    "start_time": "2022-09-15T13:56:51.182Z"
   },
   {
    "duration": 60,
    "start_time": "2022-09-15T13:56:51.191Z"
   },
   {
    "duration": 6,
    "start_time": "2022-09-15T13:56:51.253Z"
   },
   {
    "duration": 7,
    "start_time": "2022-09-15T13:56:51.277Z"
   },
   {
    "duration": 6514,
    "start_time": "2022-09-15T13:56:51.286Z"
   },
   {
    "duration": 3,
    "start_time": "2022-09-15T13:56:57.802Z"
   },
   {
    "duration": 6,
    "start_time": "2022-09-15T13:56:57.806Z"
   },
   {
    "duration": 12262,
    "start_time": "2022-09-15T13:56:57.814Z"
   },
   {
    "duration": 17,
    "start_time": "2022-09-15T13:57:10.077Z"
   },
   {
    "duration": 5,
    "start_time": "2022-09-15T13:57:10.096Z"
   },
   {
    "duration": 641943,
    "start_time": "2022-09-15T13:57:10.102Z"
   },
   {
    "duration": 4182,
    "start_time": "2022-09-15T14:07:52.046Z"
   },
   {
    "duration": 2,
    "start_time": "2022-09-15T14:07:56.230Z"
   },
   {
    "duration": 6903064,
    "start_time": "2022-09-15T14:07:56.234Z"
   },
   {
    "duration": 5928,
    "start_time": "2022-09-15T16:02:59.300Z"
   },
   {
    "duration": 52,
    "start_time": "2022-09-15T16:03:05.231Z"
   },
   {
    "duration": 3,
    "start_time": "2022-09-15T16:03:05.285Z"
   },
   {
    "duration": 3476,
    "start_time": "2022-09-15T16:03:05.290Z"
   },
   {
    "duration": 23,
    "start_time": "2022-09-15T16:03:08.768Z"
   },
   {
    "duration": 3,
    "start_time": "2022-09-15T16:03:08.792Z"
   },
   {
    "duration": 12,
    "start_time": "2022-09-15T16:03:08.797Z"
   },
   {
    "duration": 4,
    "start_time": "2022-09-15T16:03:08.810Z"
   },
   {
    "duration": 4073517,
    "start_time": "2022-09-15T16:03:08.815Z"
   },
   {
    "duration": 4212,
    "start_time": "2022-09-15T17:11:02.334Z"
   },
   {
    "duration": 14,
    "start_time": "2022-09-15T17:11:06.547Z"
   },
   {
    "duration": 3,
    "start_time": "2022-09-15T17:11:06.562Z"
   },
   {
    "duration": 52,
    "start_time": "2022-09-15T17:11:06.566Z"
   },
   {
    "duration": 3,
    "start_time": "2022-09-15T17:11:06.620Z"
   },
   {
    "duration": 14,
    "start_time": "2022-09-15T17:11:06.624Z"
   },
   {
    "duration": 14,
    "start_time": "2022-09-15T17:11:06.639Z"
   },
   {
    "duration": 4051,
    "start_time": "2022-09-15T18:50:05.061Z"
   },
   {
    "duration": 4974,
    "start_time": "2022-09-15T18:50:09.115Z"
   },
   {
    "duration": 7883,
    "start_time": "2022-09-15T18:50:14.091Z"
   },
   {
    "duration": 5353,
    "start_time": "2022-09-15T18:50:21.976Z"
   },
   {
    "duration": 34,
    "start_time": "2022-09-15T18:50:27.332Z"
   },
   {
    "duration": 8,
    "start_time": "2022-09-15T18:50:27.368Z"
   },
   {
    "duration": 4,
    "start_time": "2022-09-15T18:50:27.378Z"
   },
   {
    "duration": 3683,
    "start_time": "2022-09-15T18:50:27.384Z"
   },
   {
    "duration": 7,
    "start_time": "2022-09-15T20:06:09.676Z"
   },
   {
    "duration": 2156,
    "start_time": "2022-09-15T20:06:12.807Z"
   },
   {
    "duration": 675,
    "start_time": "2022-09-15T20:06:15.860Z"
   },
   {
    "duration": 28,
    "start_time": "2022-09-15T20:06:17.135Z"
   },
   {
    "duration": 7,
    "start_time": "2022-09-15T20:06:18.433Z"
   },
   {
    "duration": 3,
    "start_time": "2022-09-15T20:06:20.575Z"
   },
   {
    "duration": 104,
    "start_time": "2022-09-15T20:06:25.299Z"
   },
   {
    "duration": 103,
    "start_time": "2022-09-15T20:06:34.772Z"
   },
   {
    "duration": 3,
    "start_time": "2022-09-15T20:07:03.907Z"
   },
   {
    "duration": 443,
    "start_time": "2022-09-15T20:07:27.157Z"
   },
   {
    "duration": 3,
    "start_time": "2022-09-15T20:08:31.419Z"
   },
   {
    "duration": 351,
    "start_time": "2022-09-15T20:08:32.762Z"
   },
   {
    "duration": 322,
    "start_time": "2022-09-15T20:09:06.289Z"
   },
   {
    "duration": 2538,
    "start_time": "2022-09-15T20:09:08.847Z"
   },
   {
    "duration": 1688,
    "start_time": "2022-09-15T20:10:11.411Z"
   },
   {
    "duration": 3,
    "start_time": "2022-09-15T20:11:12.537Z"
   },
   {
    "duration": 1557,
    "start_time": "2022-09-15T20:11:15.177Z"
   },
   {
    "duration": 25510,
    "start_time": "2022-09-15T20:11:39.330Z"
   },
   {
    "duration": 1552,
    "start_time": "2022-09-15T20:12:17.286Z"
   },
   {
    "duration": 2668,
    "start_time": "2022-09-16T12:40:14.810Z"
   },
   {
    "duration": 1801,
    "start_time": "2022-09-16T12:40:17.841Z"
   },
   {
    "duration": 2052,
    "start_time": "2022-09-16T12:40:21.606Z"
   },
   {
    "duration": 2210,
    "start_time": "2022-09-16T12:40:25.330Z"
   },
   {
    "duration": 31,
    "start_time": "2022-09-16T12:40:28.285Z"
   },
   {
    "duration": 8,
    "start_time": "2022-09-16T12:40:29.766Z"
   },
   {
    "duration": 3,
    "start_time": "2022-09-16T12:40:31.444Z"
   },
   {
    "duration": 3,
    "start_time": "2022-09-16T12:40:32.786Z"
   },
   {
    "duration": 265,
    "start_time": "2022-09-16T12:40:37.736Z"
   },
   {
    "duration": 501,
    "start_time": "2022-09-16T12:40:39.625Z"
   },
   {
    "duration": 410,
    "start_time": "2022-09-16T12:40:49.441Z"
   },
   {
    "duration": 3,
    "start_time": "2022-09-16T12:41:54.334Z"
   },
   {
    "duration": 2377895,
    "start_time": "2022-09-16T12:41:57.030Z"
   },
   {
    "duration": 3,
    "start_time": "2022-09-16T13:35:33.520Z"
   },
   {
    "duration": 1289788,
    "start_time": "2022-09-16T13:35:36.447Z"
   },
   {
    "duration": 8,
    "start_time": "2022-09-16T13:57:18.229Z"
   },
   {
    "duration": 25,
    "start_time": "2022-09-16T13:57:40.924Z"
   },
   {
    "duration": 402,
    "start_time": "2022-09-16T13:57:41.646Z"
   },
   {
    "duration": 3,
    "start_time": "2022-09-16T13:57:53.610Z"
   },
   {
    "duration": 4,
    "start_time": "2022-09-16T13:57:54.251Z"
   },
   {
    "duration": 59,
    "start_time": "2022-09-16T13:57:55.737Z"
   },
   {
    "duration": 5,
    "start_time": "2022-09-16T13:57:56.777Z"
   },
   {
    "duration": 6,
    "start_time": "2022-09-16T13:57:59.402Z"
   },
   {
    "duration": 2,
    "start_time": "2022-09-16T13:58:05.096Z"
   },
   {
    "duration": 15,
    "start_time": "2022-09-16T14:02:41.759Z"
   },
   {
    "duration": 4,
    "start_time": "2022-09-16T14:03:08.333Z"
   },
   {
    "duration": 13,
    "start_time": "2022-09-16T14:03:09.698Z"
   },
   {
    "duration": 2,
    "start_time": "2022-09-16T14:03:23.654Z"
   },
   {
    "duration": 13,
    "start_time": "2022-09-16T14:03:24.499Z"
   },
   {
    "duration": 15,
    "start_time": "2022-09-16T14:04:14.206Z"
   },
   {
    "duration": 18,
    "start_time": "2022-09-16T14:04:48.167Z"
   },
   {
    "duration": 3,
    "start_time": "2022-09-16T14:05:03.341Z"
   },
   {
    "duration": 591659,
    "start_time": "2022-09-16T14:05:03.967Z"
   },
   {
    "duration": 944437,
    "start_time": "2022-09-16T14:16:02.314Z"
   },
   {
    "duration": 7075,
    "start_time": "2022-09-16T14:32:19.073Z"
   },
   {
    "duration": 17,
    "start_time": "2022-09-16T14:33:40.448Z"
   },
   {
    "duration": 17,
    "start_time": "2022-09-16T14:34:25.813Z"
   },
   {
    "duration": 20,
    "start_time": "2022-09-16T14:35:11.681Z"
   },
   {
    "duration": 4,
    "start_time": "2022-09-16T14:35:52.213Z"
   },
   {
    "duration": 16,
    "start_time": "2022-09-16T14:36:05.451Z"
   },
   {
    "duration": 189050,
    "start_time": "2022-09-16T14:37:10.428Z"
   },
   {
    "duration": 3,
    "start_time": "2022-09-16T14:40:40.987Z"
   },
   {
    "duration": 22,
    "start_time": "2022-09-16T14:42:11.758Z"
   },
   {
    "duration": 3,
    "start_time": "2022-09-16T14:43:41.643Z"
   },
   {
    "duration": 9,
    "start_time": "2022-09-16T14:43:51.542Z"
   },
   {
    "duration": 2,
    "start_time": "2022-09-16T14:44:00.169Z"
   },
   {
    "duration": 9,
    "start_time": "2022-09-16T14:44:04.777Z"
   },
   {
    "duration": 15,
    "start_time": "2022-09-16T14:44:52.792Z"
   },
   {
    "duration": 10,
    "start_time": "2022-09-16T14:45:06.214Z"
   },
   {
    "duration": 5,
    "start_time": "2022-09-16T14:45:15.616Z"
   },
   {
    "duration": 4,
    "start_time": "2022-09-16T14:45:19.552Z"
   },
   {
    "duration": 5,
    "start_time": "2022-09-16T14:45:23.149Z"
   },
   {
    "duration": 3,
    "start_time": "2022-09-16T14:45:28.922Z"
   },
   {
    "duration": 2,
    "start_time": "2022-09-16T14:45:35.964Z"
   },
   {
    "duration": 2,
    "start_time": "2022-09-16T14:45:43.564Z"
   },
   {
    "duration": 13,
    "start_time": "2022-09-16T14:45:46.787Z"
   },
   {
    "duration": 4,
    "start_time": "2022-09-16T14:45:51.358Z"
   },
   {
    "duration": 3,
    "start_time": "2022-09-16T14:45:58.975Z"
   },
   {
    "duration": 3,
    "start_time": "2022-09-16T14:46:04.248Z"
   },
   {
    "duration": 3,
    "start_time": "2022-09-16T14:46:11.988Z"
   },
   {
    "duration": 53,
    "start_time": "2022-09-16T14:46:15.779Z"
   },
   {
    "duration": 2,
    "start_time": "2022-09-16T14:47:12.032Z"
   },
   {
    "duration": 4,
    "start_time": "2022-09-16T14:52:04.420Z"
   },
   {
    "duration": 4,
    "start_time": "2022-09-16T14:52:05.242Z"
   },
   {
    "duration": 4147467,
    "start_time": "2022-09-16T14:52:06.380Z"
   },
   {
    "duration": 11,
    "start_time": "2022-09-16T16:01:33.365Z"
   },
   {
    "duration": 10,
    "start_time": "2022-09-16T16:01:39.128Z"
   },
   {
    "duration": 9,
    "start_time": "2022-09-16T16:01:41.889Z"
   },
   {
    "duration": 10,
    "start_time": "2022-09-16T16:01:54.018Z"
   },
   {
    "duration": 4,
    "start_time": "2022-09-16T16:02:20.108Z"
   },
   {
    "duration": 10,
    "start_time": "2022-09-16T16:02:51.769Z"
   },
   {
    "duration": 11687,
    "start_time": "2022-09-16T16:04:48.959Z"
   },
   {
    "duration": 31,
    "start_time": "2022-09-16T16:05:26.224Z"
   },
   {
    "duration": 3991,
    "start_time": "2022-09-16T16:05:52.882Z"
   },
   {
    "duration": 3989,
    "start_time": "2022-09-16T16:10:48.395Z"
   },
   {
    "duration": 94429,
    "start_time": "2022-09-16T16:11:00.411Z"
   },
   {
    "duration": 4,
    "start_time": "2022-09-16T16:13:24.961Z"
   },
   {
    "duration": 9572717,
    "start_time": "2022-09-16T16:13:54.271Z"
   },
   {
    "duration": 2235,
    "start_time": "2022-09-16T18:53:33.764Z"
   },
   {
    "duration": 2076,
    "start_time": "2022-09-16T18:53:36.001Z"
   },
   {
    "duration": 2430,
    "start_time": "2022-09-16T18:53:38.079Z"
   },
   {
    "duration": 749,
    "start_time": "2022-09-16T18:53:40.512Z"
   },
   {
    "duration": 30,
    "start_time": "2022-09-16T18:53:41.262Z"
   },
   {
    "duration": 8,
    "start_time": "2022-09-16T18:53:41.294Z"
   },
   {
    "duration": 4,
    "start_time": "2022-09-16T18:53:41.303Z"
   },
   {
    "duration": 8,
    "start_time": "2022-09-16T18:53:41.308Z"
   },
   {
    "duration": 1245203,
    "start_time": "2022-09-16T18:53:41.317Z"
   },
   {
    "duration": 7,
    "start_time": "2022-09-16T19:14:26.523Z"
   },
   {
    "duration": 49,
    "start_time": "2022-09-16T19:14:26.533Z"
   },
   {
    "duration": 416,
    "start_time": "2022-09-16T19:14:26.584Z"
   },
   {
    "duration": 3,
    "start_time": "2022-09-16T19:14:27.002Z"
   },
   {
    "duration": 7,
    "start_time": "2022-09-16T19:14:27.007Z"
   },
   {
    "duration": 66,
    "start_time": "2022-09-16T19:14:27.015Z"
   },
   {
    "duration": 3,
    "start_time": "2022-09-16T19:14:27.083Z"
   },
   {
    "duration": 13,
    "start_time": "2022-09-16T19:14:27.088Z"
   },
   {
    "duration": 6346,
    "start_time": "2022-09-16T19:14:27.103Z"
   },
   {
    "duration": 3,
    "start_time": "2022-09-16T19:14:33.450Z"
   },
   {
    "duration": 524342,
    "start_time": "2022-09-16T19:14:33.455Z"
   },
   {
    "duration": 2806,
    "start_time": "2022-09-17T05:16:42.816Z"
   },
   {
    "duration": 2458,
    "start_time": "2022-09-17T05:16:45.625Z"
   },
   {
    "duration": 2164,
    "start_time": "2022-09-17T05:16:48.084Z"
   },
   {
    "duration": 2224,
    "start_time": "2022-09-17T05:16:50.250Z"
   },
   {
    "duration": 33,
    "start_time": "2022-09-17T05:16:52.475Z"
   },
   {
    "duration": 8,
    "start_time": "2022-09-17T05:16:52.510Z"
   },
   {
    "duration": 5,
    "start_time": "2022-09-17T05:16:52.520Z"
   },
   {
    "duration": 8,
    "start_time": "2022-09-17T05:16:52.526Z"
   },
   {
    "duration": 2991,
    "start_time": "2022-09-17T05:16:52.536Z"
   },
   {
    "duration": 0,
    "start_time": "2022-09-17T05:16:55.530Z"
   },
   {
    "duration": 0,
    "start_time": "2022-09-17T05:16:55.532Z"
   },
   {
    "duration": 0,
    "start_time": "2022-09-17T05:16:55.532Z"
   },
   {
    "duration": 0,
    "start_time": "2022-09-17T05:16:55.534Z"
   },
   {
    "duration": 0,
    "start_time": "2022-09-17T05:16:55.535Z"
   },
   {
    "duration": 0,
    "start_time": "2022-09-17T05:16:55.536Z"
   },
   {
    "duration": 0,
    "start_time": "2022-09-17T05:16:55.537Z"
   },
   {
    "duration": 0,
    "start_time": "2022-09-17T05:16:55.539Z"
   },
   {
    "duration": 0,
    "start_time": "2022-09-17T05:16:55.540Z"
   },
   {
    "duration": 0,
    "start_time": "2022-09-17T05:16:55.541Z"
   },
   {
    "duration": 0,
    "start_time": "2022-09-17T05:16:55.542Z"
   },
   {
    "duration": 0,
    "start_time": "2022-09-17T05:16:55.544Z"
   },
   {
    "duration": 1,
    "start_time": "2022-09-17T05:16:55.544Z"
   },
   {
    "duration": 0,
    "start_time": "2022-09-17T05:16:55.546Z"
   },
   {
    "duration": 0,
    "start_time": "2022-09-17T05:16:55.547Z"
   },
   {
    "duration": 0,
    "start_time": "2022-09-17T05:16:55.548Z"
   },
   {
    "duration": 0,
    "start_time": "2022-09-17T05:16:55.549Z"
   },
   {
    "duration": 0,
    "start_time": "2022-09-17T05:16:55.550Z"
   },
   {
    "duration": 0,
    "start_time": "2022-09-17T05:16:55.551Z"
   },
   {
    "duration": 0,
    "start_time": "2022-09-17T05:16:55.552Z"
   },
   {
    "duration": 0,
    "start_time": "2022-09-17T05:16:55.553Z"
   },
   {
    "duration": 0,
    "start_time": "2022-09-17T05:16:55.554Z"
   },
   {
    "duration": 0,
    "start_time": "2022-09-17T05:16:55.555Z"
   },
   {
    "duration": 0,
    "start_time": "2022-09-17T05:16:55.556Z"
   },
   {
    "duration": 0,
    "start_time": "2022-09-17T05:16:55.557Z"
   },
   {
    "duration": 0,
    "start_time": "2022-09-17T05:16:55.558Z"
   },
   {
    "duration": 0,
    "start_time": "2022-09-17T05:16:55.559Z"
   },
   {
    "duration": 0,
    "start_time": "2022-09-17T05:16:55.560Z"
   },
   {
    "duration": 0,
    "start_time": "2022-09-17T05:16:55.561Z"
   },
   {
    "duration": 0,
    "start_time": "2022-09-17T05:16:55.562Z"
   },
   {
    "duration": 0,
    "start_time": "2022-09-17T05:16:55.563Z"
   },
   {
    "duration": 0,
    "start_time": "2022-09-17T05:16:55.564Z"
   },
   {
    "duration": 0,
    "start_time": "2022-09-17T05:16:55.577Z"
   },
   {
    "duration": 0,
    "start_time": "2022-09-17T05:16:55.578Z"
   },
   {
    "duration": 12013,
    "start_time": "2022-09-17T05:17:30.284Z"
   },
   {
    "duration": 3933,
    "start_time": "2022-09-17T05:17:45.180Z"
   },
   {
    "duration": 1320,
    "start_time": "2022-09-17T05:18:46.039Z"
   },
   {
    "duration": 1917,
    "start_time": "2022-09-17T05:19:08.284Z"
   },
   {
    "duration": 2413,
    "start_time": "2022-09-17T05:19:10.204Z"
   },
   {
    "duration": 359,
    "start_time": "2022-09-17T05:19:12.618Z"
   },
   {
    "duration": 782,
    "start_time": "2022-09-17T05:19:12.979Z"
   },
   {
    "duration": 33,
    "start_time": "2022-09-17T05:19:13.762Z"
   },
   {
    "duration": 9,
    "start_time": "2022-09-17T05:19:13.796Z"
   },
   {
    "duration": 5,
    "start_time": "2022-09-17T05:19:13.807Z"
   },
   {
    "duration": 6,
    "start_time": "2022-09-17T05:19:13.813Z"
   },
   {
    "duration": 1295891,
    "start_time": "2022-09-17T05:19:13.821Z"
   },
   {
    "duration": 7,
    "start_time": "2022-09-17T05:40:49.716Z"
   },
   {
    "duration": 34,
    "start_time": "2022-09-17T05:40:49.725Z"
   },
   {
    "duration": 387,
    "start_time": "2022-09-17T05:40:49.777Z"
   },
   {
    "duration": 3,
    "start_time": "2022-09-17T05:40:50.166Z"
   },
   {
    "duration": 7,
    "start_time": "2022-09-17T05:40:50.171Z"
   },
   {
    "duration": 59,
    "start_time": "2022-09-17T05:40:50.180Z"
   },
   {
    "duration": 4,
    "start_time": "2022-09-17T05:40:50.241Z"
   },
   {
    "duration": 7,
    "start_time": "2022-09-17T05:40:50.247Z"
   },
   {
    "duration": 6424,
    "start_time": "2022-09-17T05:40:50.256Z"
   },
   {
    "duration": 3,
    "start_time": "2022-09-17T05:40:56.681Z"
   },
   {
    "duration": 533042,
    "start_time": "2022-09-17T05:40:56.686Z"
   },
   {
    "duration": 3343494,
    "start_time": "2022-09-17T05:49:49.729Z"
   },
   {
    "duration": 3,
    "start_time": "2022-09-17T06:45:33.225Z"
   },
   {
    "duration": 615371,
    "start_time": "2022-09-17T06:45:33.229Z"
   },
   {
    "duration": 13454797,
    "start_time": "2022-09-17T06:55:48.602Z"
   },
   {
    "duration": 3,
    "start_time": "2022-09-17T10:40:03.400Z"
   },
   {
    "duration": 98940,
    "start_time": "2022-09-17T10:40:03.405Z"
   },
   {
    "duration": 3,
    "start_time": "2022-09-17T10:41:42.347Z"
   },
   {
    "duration": 7,
    "start_time": "2022-09-17T10:41:42.353Z"
   },
   {
    "duration": 8,
    "start_time": "2022-09-17T10:41:42.362Z"
   },
   {
    "duration": 459,
    "start_time": "2022-09-17T12:25:26.003Z"
   },
   {
    "duration": 7022,
    "start_time": "2022-09-17T12:25:32.115Z"
   },
   {
    "duration": 2948,
    "start_time": "2022-09-17T12:25:39.140Z"
   },
   {
    "duration": 1937,
    "start_time": "2022-09-17T12:25:42.089Z"
   },
   {
    "duration": 3439,
    "start_time": "2022-09-17T12:25:44.028Z"
   },
   {
    "duration": 31,
    "start_time": "2022-09-17T12:25:47.469Z"
   },
   {
    "duration": 18,
    "start_time": "2022-09-17T12:25:47.501Z"
   },
   {
    "duration": 9,
    "start_time": "2022-09-17T12:25:47.521Z"
   },
   {
    "duration": 7,
    "start_time": "2022-09-17T12:25:47.532Z"
   },
   {
    "duration": 1426387,
    "start_time": "2022-09-17T12:25:47.541Z"
   },
   {
    "duration": 9,
    "start_time": "2022-09-17T12:49:33.930Z"
   },
   {
    "duration": 35,
    "start_time": "2022-09-17T12:49:33.940Z"
   },
   {
    "duration": 540,
    "start_time": "2022-09-17T12:49:33.996Z"
   },
   {
    "duration": 4,
    "start_time": "2022-09-17T12:49:34.538Z"
   },
   {
    "duration": 9,
    "start_time": "2022-09-17T12:49:34.547Z"
   },
   {
    "duration": 74,
    "start_time": "2022-09-17T12:49:34.561Z"
   },
   {
    "duration": 5,
    "start_time": "2022-09-17T12:49:34.639Z"
   },
   {
    "duration": 10,
    "start_time": "2022-09-17T12:49:34.646Z"
   },
   {
    "duration": 8325,
    "start_time": "2022-09-17T12:49:34.658Z"
   },
   {
    "duration": 11,
    "start_time": "2022-09-17T12:49:42.985Z"
   },
   {
    "duration": 2141,
    "start_time": "2022-09-17T12:54:51.549Z"
   },
   {
    "duration": 1714,
    "start_time": "2022-09-17T12:54:53.692Z"
   },
   {
    "duration": 428,
    "start_time": "2022-09-17T12:54:55.408Z"
   },
   {
    "duration": 826,
    "start_time": "2022-09-17T12:54:55.838Z"
   },
   {
    "duration": 38,
    "start_time": "2022-09-17T12:54:56.666Z"
   },
   {
    "duration": 11,
    "start_time": "2022-09-17T12:54:56.707Z"
   },
   {
    "duration": 8,
    "start_time": "2022-09-17T12:54:56.721Z"
   },
   {
    "duration": 13,
    "start_time": "2022-09-17T12:54:56.730Z"
   },
   {
    "duration": 1397460,
    "start_time": "2022-09-17T12:54:56.746Z"
   },
   {
    "duration": 9,
    "start_time": "2022-09-17T13:18:14.209Z"
   },
   {
    "duration": 33,
    "start_time": "2022-09-17T13:18:14.220Z"
   },
   {
    "duration": 448,
    "start_time": "2022-09-17T13:18:14.255Z"
   },
   {
    "duration": 4,
    "start_time": "2022-09-17T13:18:14.705Z"
   },
   {
    "duration": 12,
    "start_time": "2022-09-17T13:18:14.711Z"
   },
   {
    "duration": 133,
    "start_time": "2022-09-17T13:18:14.725Z"
   },
   {
    "duration": 5,
    "start_time": "2022-09-17T13:18:14.863Z"
   },
   {
    "duration": 25,
    "start_time": "2022-09-17T13:18:14.870Z"
   },
   {
    "duration": 7496,
    "start_time": "2022-09-17T13:18:14.899Z"
   },
   {
    "duration": 3,
    "start_time": "2022-09-17T13:18:22.397Z"
   },
   {
    "duration": 651176,
    "start_time": "2022-09-17T13:18:22.401Z"
   },
   {
    "duration": 4133908,
    "start_time": "2022-09-17T13:29:13.579Z"
   },
   {
    "duration": 20,
    "start_time": "2022-09-17T14:38:07.489Z"
   },
   {
    "duration": 718274,
    "start_time": "2022-09-17T14:38:07.510Z"
   },
   {
    "duration": 6626735,
    "start_time": "2022-09-17T14:50:05.786Z"
   },
   {
    "duration": 4,
    "start_time": "2022-09-17T16:40:32.523Z"
   },
   {
    "duration": 118192,
    "start_time": "2022-09-17T16:40:32.528Z"
   },
   {
    "duration": 3,
    "start_time": "2022-09-17T16:42:30.722Z"
   },
   {
    "duration": 16,
    "start_time": "2022-09-17T16:42:30.729Z"
   },
   {
    "duration": 12,
    "start_time": "2022-09-17T16:42:30.747Z"
   },
   {
    "duration": 4581251,
    "start_time": "2022-09-17T16:42:30.760Z"
   },
   {
    "duration": 12713,
    "start_time": "2022-09-17T17:58:52.013Z"
   },
   {
    "duration": 4403,
    "start_time": "2022-09-17T17:59:04.728Z"
   },
   {
    "duration": 3,
    "start_time": "2022-09-17T17:59:09.133Z"
   },
   {
    "duration": 6398,
    "start_time": "2022-09-17T17:59:09.138Z"
   },
   {
    "duration": 3,
    "start_time": "2022-09-17T17:59:15.538Z"
   },
   {
    "duration": 26,
    "start_time": "2022-09-17T17:59:15.543Z"
   },
   {
    "duration": 24,
    "start_time": "2022-09-17T17:59:15.571Z"
   },
   {
    "duration": 4448,
    "start_time": "2022-09-17T17:59:15.597Z"
   },
   {
    "duration": 3,
    "start_time": "2022-09-17T17:59:20.046Z"
   },
   {
    "duration": 62,
    "start_time": "2022-09-17T17:59:20.051Z"
   },
   {
    "duration": 3,
    "start_time": "2022-09-17T17:59:20.114Z"
   },
   {
    "duration": 18,
    "start_time": "2022-09-17T17:59:20.118Z"
   },
   {
    "duration": 17,
    "start_time": "2022-09-17T17:59:20.137Z"
   }
  ],
  "kernelspec": {
   "display_name": "Python 3 (ipykernel)",
   "language": "python",
   "name": "python3"
  },
  "language_info": {
   "codemirror_mode": {
    "name": "ipython",
    "version": 3
   },
   "file_extension": ".py",
   "mimetype": "text/x-python",
   "name": "python",
   "nbconvert_exporter": "python",
   "pygments_lexer": "ipython3",
   "version": "3.9.12"
  },
  "toc": {
   "base_numbering": 1,
   "nav_menu": {},
   "number_sections": true,
   "sideBar": true,
   "skip_h1_title": true,
   "title_cell": "Table of Contents",
   "title_sidebar": "Contents",
   "toc_cell": true,
   "toc_position": {
    "height": "calc(100% - 180px)",
    "left": "10px",
    "top": "150px",
    "width": "288px"
   },
   "toc_section_display": true,
   "toc_window_display": true
  }
 },
 "nbformat": 4,
 "nbformat_minor": 2
}
