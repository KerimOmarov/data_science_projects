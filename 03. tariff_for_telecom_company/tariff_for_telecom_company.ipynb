{
 "cells": [
  {
   "cell_type": "markdown",
   "metadata": {
    "toc": true
   },
   "source": [
    "<h1>Table of Contents<span class=\"tocSkip\"></span></h1>\n",
    "<div class=\"toc\"><ul class=\"toc-item\"><li><span><a href=\"#Data-Review\" data-toc-modified-id=\"Data-Review-1\"><span class=\"toc-item-num\">1&nbsp;&nbsp;</span>Data Review</a></span><ul class=\"toc-item\"><li><span><a href=\"#Conclusion\" data-toc-modified-id=\"Conclusion-1.1\"><span class=\"toc-item-num\">1.1&nbsp;&nbsp;</span>Conclusion</a></span></li></ul></li><li><span><a href=\"#Data-Cleaning\" data-toc-modified-id=\"Data-Cleaning-2\"><span class=\"toc-item-num\">2&nbsp;&nbsp;</span>Data Cleaning</a></span><ul class=\"toc-item\"><li><span><a href=\"#Error-correction\" data-toc-modified-id=\"Error-correction-2.1\"><span class=\"toc-item-num\">2.1&nbsp;&nbsp;</span>Error correction</a></span></li><li><span><a href=\"#Changing-Data-Types\" data-toc-modified-id=\"Changing-Data-Types-2.2\"><span class=\"toc-item-num\">2.2&nbsp;&nbsp;</span>Changing Data Types</a></span></li></ul></li><li><span><a href=\"#Calculations-and-Data-Grouping\" data-toc-modified-id=\"Calculations-and-Data-Grouping-3\"><span class=\"toc-item-num\">3&nbsp;&nbsp;</span>Calculations and Data Grouping</a></span><ul class=\"toc-item\"><li><span><a href=\"#Calculation-of-the-number-of-calls-and-spent-minutes-by-month\" data-toc-modified-id=\"Calculation-of-the-number-of-calls-and-spent-minutes-by-month-3.1\"><span class=\"toc-item-num\">3.1&nbsp;&nbsp;</span>Calculation of the number of calls and spent minutes by month</a></span></li><li><span><a href=\"#Calculation-of-the-number-of-messages-by-month\" data-toc-modified-id=\"Calculation-of-the-number-of-messages-by-month-3.2\"><span class=\"toc-item-num\">3.2&nbsp;&nbsp;</span>Calculation of the number of messages by month</a></span></li><li><span><a href=\"#Calculation-of-the-amount-of-Internet-traffic-used-by-months\" data-toc-modified-id=\"Calculation-of-the-amount-of-Internet-traffic-used-by-months-3.3\"><span class=\"toc-item-num\">3.3&nbsp;&nbsp;</span>Calculation of the amount of Internet traffic used by months</a></span></li><li><span><a href=\"#Calculation-of-monthly-revenue-per-user\" data-toc-modified-id=\"Calculation-of-monthly-revenue-per-user-3.4\"><span class=\"toc-item-num\">3.4&nbsp;&nbsp;</span>Calculation of monthly revenue per user</a></span></li></ul></li><li><span><a href=\"#Data-Analysis\" data-toc-modified-id=\"Data-Analysis-4\"><span class=\"toc-item-num\">4&nbsp;&nbsp;</span>Data Analysis</a></span><ul class=\"toc-item\"><li><span><a href=\"#Call-minutes-used\" data-toc-modified-id=\"Call-minutes-used-4.1\"><span class=\"toc-item-num\">4.1&nbsp;&nbsp;</span>Call minutes used</a></span></li><li><span><a href=\"#Number-of-messages-sent\" data-toc-modified-id=\"Number-of-messages-sent-4.2\"><span class=\"toc-item-num\">4.2&nbsp;&nbsp;</span>Number of messages sent</a></span></li><li><span><a href=\"#The-amount-of-used-Internet-traffic\" data-toc-modified-id=\"The-amount-of-used-Internet-traffic-4.3\"><span class=\"toc-item-num\">4.3&nbsp;&nbsp;</span>The amount of used Internet traffic</a></span></li><li><span><a href=\"#Comparison-of-revenue-of-Smart-and-Ultra-tariffs\" data-toc-modified-id=\"Comparison-of-revenue-of-Smart-and-Ultra-tariffs-4.4\"><span class=\"toc-item-num\">4.4&nbsp;&nbsp;</span>Comparison of revenue of Smart and Ultra tariffs</a></span></li><li><span><a href=\"#Conclusion\" data-toc-modified-id=\"Conclusion-4.5\"><span class=\"toc-item-num\">4.5&nbsp;&nbsp;</span>Conclusion</a></span></li></ul></li><li><span><a href=\"#Hypothesis-Testing\" data-toc-modified-id=\"Hypothesis-Testing-5\"><span class=\"toc-item-num\">5&nbsp;&nbsp;</span>Hypothesis Testing</a></span><ul class=\"toc-item\"><li><span><a href=\"#Hypothesis-1\" data-toc-modified-id=\"Hypothesis-1-5.1\"><span class=\"toc-item-num\">5.1&nbsp;&nbsp;</span>Hypothesis 1</a></span></li><li><span><a href=\"#Conclusion-1\" data-toc-modified-id=\"Conclusion-1-5.2\"><span class=\"toc-item-num\">5.2&nbsp;&nbsp;</span>Conclusion 1</a></span></li><li><span><a href=\"#Hypothesis-2\" data-toc-modified-id=\"Hypothesis-2-5.3\"><span class=\"toc-item-num\">5.3&nbsp;&nbsp;</span>Hypothesis 2</a></span></li><li><span><a href=\"#Conclusion-2\" data-toc-modified-id=\"Conclusion-2-5.4\"><span class=\"toc-item-num\">5.4&nbsp;&nbsp;</span>Conclusion 2</a></span></li></ul></li><li><span><a href=\"#Conclusion\" data-toc-modified-id=\"Conclusion-6\"><span class=\"toc-item-num\">6&nbsp;&nbsp;</span>Conclusion</a></span></li></ul></div>"
   ]
  },
  {
   "cell_type": "markdown",
   "metadata": {},
   "source": [
    "# Determining the most efficient plan for a telecom company\n",
    "\n",
    "You are an analyst at Megaline, a federal mobile operator. Clients are offered two plans: \"Smart\" and \"Ultra\". To adjust the advertising budget, the commercial department wants to understand which plan brings in more money.\n",
    "You have to make a preliminary analysis of tariffs on a small sample of customers. At your disposal are the data of 500 Megaline users: who they are, where they are from, what tariff they use, and how many calls and messages each sent in 2018. It is necessary to analyze the behavior of customers and draw a conclusion - which plan is better.\n",
    "\n",
    "**Description of plans**\n",
    "\n",
    "Plan \"Smart\"\n",
    "\n",
    "    Monthly fee: 550 rubles\n",
    "    Included 500 minutes of talk, 50 messages, and 15 GB of internet traffic\n",
    "    The cost of services above the tariff package:\n",
    "        minute of conversation: 3 rubles\n",
    "        message: 3 rubles\n",
    "        1 GB of Internet traffic: 200 rubles\n",
    "\n",
    "Plan \"Ultra\"\n",
    "\n",
    "    Monthly fee: 1950 rubles\n",
    "    Included 3000 minutes of calls, 1000 messages, and 30 GB of internet traffic\n",
    "    The cost of services above the tariff package:\n",
    "        minute of conversation: 1 ruble\n",
    "        message: 1 ruble\n",
    "        1 GB of Internet traffic: 150 rubles\n",
    "\n",
    "**The purpose of the project:** To analyze the behavior of customers and draw a conclusion - which plan is better.\n",
    "\n",
    "Research steps:\n",
    "\n",
    "\n",
    "* Data review.\n",
    "* Data preprocessing.\n",
    "* Calculations and grouping of data.\n",
    "* Exploratory data analysis.\n",
    "* Hypothesis testing.\n",
    "\n"
   ]
  },
  {
   "cell_type": "markdown",
   "metadata": {},
   "source": [
    "## Data Review"
   ]
  },
  {
   "cell_type": "code",
   "execution_count": 1,
   "metadata": {},
   "outputs": [],
   "source": [
    "import pandas as pd\n",
    "from scipy import stats as st\n",
    "import numpy as np\n",
    "import matplotlib.pyplot as plt\n",
    "import seaborn as sns\n",
    "\n",
    "try:\n",
    "    calls = pd.read_csv('calls.csv')\n",
    "    internet = pd.read_csv('internet.csv')\n",
    "    messages = pd.read_csv('messages.csv')\n",
    "    tariffs = pd.read_csv('tariffs.csv')\n",
    "    users = pd.read_csv('users.csv')\n",
    "except: \n",
    "    print('Something is wrong')"
   ]
  },
  {
   "cell_type": "code",
   "execution_count": 2,
   "metadata": {
    "scrolled": false
   },
   "outputs": [
    {
     "name": "stdout",
     "output_type": "stream",
     "text": [
      "<class 'pandas.core.frame.DataFrame'>\n",
      "RangeIndex: 202607 entries, 0 to 202606\n",
      "Data columns (total 4 columns):\n",
      " #   Column     Non-Null Count   Dtype  \n",
      "---  ------     --------------   -----  \n",
      " 0   id         202607 non-null  object \n",
      " 1   call_date  202607 non-null  object \n",
      " 2   duration   202607 non-null  float64\n",
      " 3   user_id    202607 non-null  int64  \n",
      "dtypes: float64(1), int64(1), object(2)\n",
      "memory usage: 6.2+ MB\n"
     ]
    },
    {
     "data": {
      "text/html": [
       "<div>\n",
       "<style scoped>\n",
       "    .dataframe tbody tr th:only-of-type {\n",
       "        vertical-align: middle;\n",
       "    }\n",
       "\n",
       "    .dataframe tbody tr th {\n",
       "        vertical-align: top;\n",
       "    }\n",
       "\n",
       "    .dataframe thead th {\n",
       "        text-align: right;\n",
       "    }\n",
       "</style>\n",
       "<table border=\"1\" class=\"dataframe\">\n",
       "  <thead>\n",
       "    <tr style=\"text-align: right;\">\n",
       "      <th></th>\n",
       "      <th>id</th>\n",
       "      <th>call_date</th>\n",
       "      <th>duration</th>\n",
       "      <th>user_id</th>\n",
       "    </tr>\n",
       "  </thead>\n",
       "  <tbody>\n",
       "    <tr>\n",
       "      <th>0</th>\n",
       "      <td>1000_0</td>\n",
       "      <td>2018-07-25</td>\n",
       "      <td>0.00</td>\n",
       "      <td>1000</td>\n",
       "    </tr>\n",
       "    <tr>\n",
       "      <th>1</th>\n",
       "      <td>1000_1</td>\n",
       "      <td>2018-08-17</td>\n",
       "      <td>0.00</td>\n",
       "      <td>1000</td>\n",
       "    </tr>\n",
       "    <tr>\n",
       "      <th>2</th>\n",
       "      <td>1000_2</td>\n",
       "      <td>2018-06-11</td>\n",
       "      <td>2.85</td>\n",
       "      <td>1000</td>\n",
       "    </tr>\n",
       "  </tbody>\n",
       "</table>\n",
       "</div>"
      ],
      "text/plain": [
       "       id   call_date  duration  user_id\n",
       "0  1000_0  2018-07-25      0.00     1000\n",
       "1  1000_1  2018-08-17      0.00     1000\n",
       "2  1000_2  2018-06-11      2.85     1000"
      ]
     },
     "metadata": {},
     "output_type": "display_data"
    },
    {
     "name": "stdout",
     "output_type": "stream",
     "text": [
      "\n",
      "<class 'pandas.core.frame.DataFrame'>\n",
      "RangeIndex: 149396 entries, 0 to 149395\n",
      "Data columns (total 5 columns):\n",
      " #   Column        Non-Null Count   Dtype  \n",
      "---  ------        --------------   -----  \n",
      " 0   Unnamed: 0    149396 non-null  int64  \n",
      " 1   id            149396 non-null  object \n",
      " 2   mb_used       149396 non-null  float64\n",
      " 3   session_date  149396 non-null  object \n",
      " 4   user_id       149396 non-null  int64  \n",
      "dtypes: float64(1), int64(2), object(2)\n",
      "memory usage: 5.7+ MB\n"
     ]
    },
    {
     "data": {
      "text/html": [
       "<div>\n",
       "<style scoped>\n",
       "    .dataframe tbody tr th:only-of-type {\n",
       "        vertical-align: middle;\n",
       "    }\n",
       "\n",
       "    .dataframe tbody tr th {\n",
       "        vertical-align: top;\n",
       "    }\n",
       "\n",
       "    .dataframe thead th {\n",
       "        text-align: right;\n",
       "    }\n",
       "</style>\n",
       "<table border=\"1\" class=\"dataframe\">\n",
       "  <thead>\n",
       "    <tr style=\"text-align: right;\">\n",
       "      <th></th>\n",
       "      <th>Unnamed: 0</th>\n",
       "      <th>id</th>\n",
       "      <th>mb_used</th>\n",
       "      <th>session_date</th>\n",
       "      <th>user_id</th>\n",
       "    </tr>\n",
       "  </thead>\n",
       "  <tbody>\n",
       "    <tr>\n",
       "      <th>0</th>\n",
       "      <td>0</td>\n",
       "      <td>1000_0</td>\n",
       "      <td>112.95</td>\n",
       "      <td>2018-11-25</td>\n",
       "      <td>1000</td>\n",
       "    </tr>\n",
       "    <tr>\n",
       "      <th>1</th>\n",
       "      <td>1</td>\n",
       "      <td>1000_1</td>\n",
       "      <td>1052.81</td>\n",
       "      <td>2018-09-07</td>\n",
       "      <td>1000</td>\n",
       "    </tr>\n",
       "    <tr>\n",
       "      <th>2</th>\n",
       "      <td>2</td>\n",
       "      <td>1000_2</td>\n",
       "      <td>1197.26</td>\n",
       "      <td>2018-06-25</td>\n",
       "      <td>1000</td>\n",
       "    </tr>\n",
       "  </tbody>\n",
       "</table>\n",
       "</div>"
      ],
      "text/plain": [
       "   Unnamed: 0      id  mb_used session_date  user_id\n",
       "0           0  1000_0   112.95   2018-11-25     1000\n",
       "1           1  1000_1  1052.81   2018-09-07     1000\n",
       "2           2  1000_2  1197.26   2018-06-25     1000"
      ]
     },
     "metadata": {},
     "output_type": "display_data"
    },
    {
     "name": "stdout",
     "output_type": "stream",
     "text": [
      "\n",
      "<class 'pandas.core.frame.DataFrame'>\n",
      "RangeIndex: 123036 entries, 0 to 123035\n",
      "Data columns (total 3 columns):\n",
      " #   Column        Non-Null Count   Dtype \n",
      "---  ------        --------------   ----- \n",
      " 0   id            123036 non-null  object\n",
      " 1   message_date  123036 non-null  object\n",
      " 2   user_id       123036 non-null  int64 \n",
      "dtypes: int64(1), object(2)\n",
      "memory usage: 2.8+ MB\n"
     ]
    },
    {
     "data": {
      "text/html": [
       "<div>\n",
       "<style scoped>\n",
       "    .dataframe tbody tr th:only-of-type {\n",
       "        vertical-align: middle;\n",
       "    }\n",
       "\n",
       "    .dataframe tbody tr th {\n",
       "        vertical-align: top;\n",
       "    }\n",
       "\n",
       "    .dataframe thead th {\n",
       "        text-align: right;\n",
       "    }\n",
       "</style>\n",
       "<table border=\"1\" class=\"dataframe\">\n",
       "  <thead>\n",
       "    <tr style=\"text-align: right;\">\n",
       "      <th></th>\n",
       "      <th>id</th>\n",
       "      <th>message_date</th>\n",
       "      <th>user_id</th>\n",
       "    </tr>\n",
       "  </thead>\n",
       "  <tbody>\n",
       "    <tr>\n",
       "      <th>0</th>\n",
       "      <td>1000_0</td>\n",
       "      <td>2018-06-27</td>\n",
       "      <td>1000</td>\n",
       "    </tr>\n",
       "    <tr>\n",
       "      <th>1</th>\n",
       "      <td>1000_1</td>\n",
       "      <td>2018-10-08</td>\n",
       "      <td>1000</td>\n",
       "    </tr>\n",
       "    <tr>\n",
       "      <th>2</th>\n",
       "      <td>1000_2</td>\n",
       "      <td>2018-08-04</td>\n",
       "      <td>1000</td>\n",
       "    </tr>\n",
       "  </tbody>\n",
       "</table>\n",
       "</div>"
      ],
      "text/plain": [
       "       id message_date  user_id\n",
       "0  1000_0   2018-06-27     1000\n",
       "1  1000_1   2018-10-08     1000\n",
       "2  1000_2   2018-08-04     1000"
      ]
     },
     "metadata": {},
     "output_type": "display_data"
    },
    {
     "name": "stdout",
     "output_type": "stream",
     "text": [
      "\n",
      "<class 'pandas.core.frame.DataFrame'>\n",
      "RangeIndex: 2 entries, 0 to 1\n",
      "Data columns (total 8 columns):\n",
      " #   Column                 Non-Null Count  Dtype \n",
      "---  ------                 --------------  ----- \n",
      " 0   messages_included      2 non-null      int64 \n",
      " 1   mb_per_month_included  2 non-null      int64 \n",
      " 2   minutes_included       2 non-null      int64 \n",
      " 3   rub_monthly_fee        2 non-null      int64 \n",
      " 4   rub_per_gb             2 non-null      int64 \n",
      " 5   rub_per_message        2 non-null      int64 \n",
      " 6   rub_per_minute         2 non-null      int64 \n",
      " 7   tariff_name            2 non-null      object\n",
      "dtypes: int64(7), object(1)\n",
      "memory usage: 256.0+ bytes\n"
     ]
    },
    {
     "data": {
      "text/html": [
       "<div>\n",
       "<style scoped>\n",
       "    .dataframe tbody tr th:only-of-type {\n",
       "        vertical-align: middle;\n",
       "    }\n",
       "\n",
       "    .dataframe tbody tr th {\n",
       "        vertical-align: top;\n",
       "    }\n",
       "\n",
       "    .dataframe thead th {\n",
       "        text-align: right;\n",
       "    }\n",
       "</style>\n",
       "<table border=\"1\" class=\"dataframe\">\n",
       "  <thead>\n",
       "    <tr style=\"text-align: right;\">\n",
       "      <th></th>\n",
       "      <th>messages_included</th>\n",
       "      <th>mb_per_month_included</th>\n",
       "      <th>minutes_included</th>\n",
       "      <th>rub_monthly_fee</th>\n",
       "      <th>rub_per_gb</th>\n",
       "      <th>rub_per_message</th>\n",
       "      <th>rub_per_minute</th>\n",
       "      <th>tariff_name</th>\n",
       "    </tr>\n",
       "  </thead>\n",
       "  <tbody>\n",
       "    <tr>\n",
       "      <th>0</th>\n",
       "      <td>50</td>\n",
       "      <td>15360</td>\n",
       "      <td>500</td>\n",
       "      <td>550</td>\n",
       "      <td>200</td>\n",
       "      <td>3</td>\n",
       "      <td>3</td>\n",
       "      <td>smart</td>\n",
       "    </tr>\n",
       "    <tr>\n",
       "      <th>1</th>\n",
       "      <td>1000</td>\n",
       "      <td>30720</td>\n",
       "      <td>3000</td>\n",
       "      <td>1950</td>\n",
       "      <td>150</td>\n",
       "      <td>1</td>\n",
       "      <td>1</td>\n",
       "      <td>ultra</td>\n",
       "    </tr>\n",
       "  </tbody>\n",
       "</table>\n",
       "</div>"
      ],
      "text/plain": [
       "   messages_included  mb_per_month_included  minutes_included  \\\n",
       "0                 50                  15360               500   \n",
       "1               1000                  30720              3000   \n",
       "\n",
       "   rub_monthly_fee  rub_per_gb  rub_per_message  rub_per_minute tariff_name  \n",
       "0              550         200                3               3       smart  \n",
       "1             1950         150                1               1       ultra  "
      ]
     },
     "metadata": {},
     "output_type": "display_data"
    },
    {
     "name": "stdout",
     "output_type": "stream",
     "text": [
      "\n",
      "<class 'pandas.core.frame.DataFrame'>\n",
      "RangeIndex: 500 entries, 0 to 499\n",
      "Data columns (total 8 columns):\n",
      " #   Column      Non-Null Count  Dtype \n",
      "---  ------      --------------  ----- \n",
      " 0   user_id     500 non-null    int64 \n",
      " 1   age         500 non-null    int64 \n",
      " 2   churn_date  38 non-null     object\n",
      " 3   city        500 non-null    object\n",
      " 4   first_name  500 non-null    object\n",
      " 5   last_name   500 non-null    object\n",
      " 6   reg_date    500 non-null    object\n",
      " 7   tariff      500 non-null    object\n",
      "dtypes: int64(2), object(6)\n",
      "memory usage: 31.4+ KB\n"
     ]
    },
    {
     "data": {
      "text/html": [
       "<div>\n",
       "<style scoped>\n",
       "    .dataframe tbody tr th:only-of-type {\n",
       "        vertical-align: middle;\n",
       "    }\n",
       "\n",
       "    .dataframe tbody tr th {\n",
       "        vertical-align: top;\n",
       "    }\n",
       "\n",
       "    .dataframe thead th {\n",
       "        text-align: right;\n",
       "    }\n",
       "</style>\n",
       "<table border=\"1\" class=\"dataframe\">\n",
       "  <thead>\n",
       "    <tr style=\"text-align: right;\">\n",
       "      <th></th>\n",
       "      <th>user_id</th>\n",
       "      <th>age</th>\n",
       "      <th>churn_date</th>\n",
       "      <th>city</th>\n",
       "      <th>first_name</th>\n",
       "      <th>last_name</th>\n",
       "      <th>reg_date</th>\n",
       "      <th>tariff</th>\n",
       "    </tr>\n",
       "  </thead>\n",
       "  <tbody>\n",
       "    <tr>\n",
       "      <th>0</th>\n",
       "      <td>1000</td>\n",
       "      <td>52</td>\n",
       "      <td>NaN</td>\n",
       "      <td>Краснодар</td>\n",
       "      <td>Рафаил</td>\n",
       "      <td>Верещагин</td>\n",
       "      <td>2018-05-25</td>\n",
       "      <td>ultra</td>\n",
       "    </tr>\n",
       "    <tr>\n",
       "      <th>1</th>\n",
       "      <td>1001</td>\n",
       "      <td>41</td>\n",
       "      <td>NaN</td>\n",
       "      <td>Москва</td>\n",
       "      <td>Иван</td>\n",
       "      <td>Ежов</td>\n",
       "      <td>2018-11-01</td>\n",
       "      <td>smart</td>\n",
       "    </tr>\n",
       "    <tr>\n",
       "      <th>2</th>\n",
       "      <td>1002</td>\n",
       "      <td>59</td>\n",
       "      <td>NaN</td>\n",
       "      <td>Стерлитамак</td>\n",
       "      <td>Евгений</td>\n",
       "      <td>Абрамович</td>\n",
       "      <td>2018-06-17</td>\n",
       "      <td>smart</td>\n",
       "    </tr>\n",
       "  </tbody>\n",
       "</table>\n",
       "</div>"
      ],
      "text/plain": [
       "   user_id  age churn_date         city first_name  last_name    reg_date  \\\n",
       "0     1000   52        NaN    Краснодар     Рафаил  Верещагин  2018-05-25   \n",
       "1     1001   41        NaN       Москва       Иван       Ежов  2018-11-01   \n",
       "2     1002   59        NaN  Стерлитамак    Евгений  Абрамович  2018-06-17   \n",
       "\n",
       "  tariff  \n",
       "0  ultra  \n",
       "1  smart  \n",
       "2  smart  "
      ]
     },
     "metadata": {},
     "output_type": "display_data"
    },
    {
     "name": "stdout",
     "output_type": "stream",
     "text": [
      "\n"
     ]
    }
   ],
   "source": [
    "for df in calls, internet, messages, tariffs, users:\n",
    "    df.info()\n",
    "    display(df.head(3))\n",
    "    print()"
   ]
  },
  {
   "cell_type": "markdown",
   "metadata": {},
   "source": [
    "So, we have five tables with data.\n",
    "\n",
    "According to the data documentation:\n",
    "\n",
    "**`users` (information about users):**\n",
    "\n",
    "* `user_id` - unique user ID\n",
    "* `first_name` - user first name\n",
    "* `last_name` — user last name\n",
    "* `age` - user age (years)\n",
    "* `reg_date` — tariff activation date (day, month, year)\n",
    "* `churn_date` - the date when the tariff was discontinued (if the value is omitted, then the tariff was still valid at the time of uploading the data)\n",
    "* `city` — user's city of residence\n",
    "* `tariff` — tariff plan name\n",
    "\n",
    "**`calls` (information about calls):**\n",
    "\n",
    "* `id` — unique call number\n",
    "* `call_date` — call date\n",
    "* `duration` — call duration in minutes\n",
    "* `user_id` - ID of the user who made the call\n",
    "\n",
    "**`Messages` (message information):**\n",
    "\n",
    "* `id` — unique message number\n",
    "* `message_date` — message date\n",
    "* `user_id` - ID of the user who sent the message\n",
    "\n",
    "**`internet` (information about internet sessions):**\n",
    "\n",
    "* `id` — unique session number\n",
    "* `mb_used` - the amount of Internet traffic spent per session (in megabytes)\n",
    "* `session_date` — internet session date\n",
    "* `user_id` - user ID\n",
    "\n",
    "**`Tariffs` (tariff information):**\n",
    "\n",
    "* `tariff_name` — tariff name\n",
    "* `rub_monthly_fee` — monthly subscription fee in rubles\n",
    "* `minutes_included` - the number of minutes of conversation per month included in the plan\n",
    "* `messages_included` - the number of messages per month included in the plan\n",
    "* `mb_per_month_included` - the amount of Internet traffic included in the plan (in megabytes)\n",
    "* `rub_per_minute` - the cost of a minute of conversation in excess of the tariff package (for example, if the tariff includes 100 minutes of conversation per month, then a fee will be charged from 101 minutes)\n",
    "* `rub_per_message` - the cost of sending a message in excess of the tariff package\n",
    "* `rub_per_gb` - the cost of an additional gigabyte of Internet traffic in excess of the tariff package (1 gigabyte = 1024 megabytes)\n",
    "\n",
    "The number of values differs only in the `churn_date` column (date of expiration of the plan) of the `users` table. The absence of data in this column means that users are still using the services of the operator.\n"
   ]
  },
  {
   "cell_type": "markdown",
   "metadata": {},
   "source": [
    "### Conclusion"
   ]
  },
  {
   "cell_type": "markdown",
   "metadata": {},
   "source": [
    "The `users` table contains data about users, such as first name, last name, age, tariff activation date, tariff termination date, user's city of residence, and tariff. The `tariffs` table contains information about the plans. The `calls`, `messages`, and `internet` tables contain information about calls, messages, and Internet sessions of users.\n",
    "\n",
    "Preliminarily, we can suggest that there is enough data to test the hypotheses. Also, we noted that the `internet` table has an extra column `Unnamed: 0`, which duplicates the row indices. Additionally, the data types in some tables don't have a necessary format.\n",
    "\n",
    "To move forward, you need to fix problems in the data."
   ]
  },
  {
   "cell_type": "markdown",
   "metadata": {},
   "source": [
    "## Data Cleaning"
   ]
  },
  {
   "cell_type": "markdown",
   "metadata": {},
   "source": [
    "### Error correction"
   ]
  },
  {
   "cell_type": "markdown",
   "metadata": {},
   "source": [
    "Let's look at the `internet` table. We will display the first 5 values."
   ]
  },
  {
   "cell_type": "code",
   "execution_count": 3,
   "metadata": {},
   "outputs": [
    {
     "data": {
      "text/html": [
       "<div>\n",
       "<style scoped>\n",
       "    .dataframe tbody tr th:only-of-type {\n",
       "        vertical-align: middle;\n",
       "    }\n",
       "\n",
       "    .dataframe tbody tr th {\n",
       "        vertical-align: top;\n",
       "    }\n",
       "\n",
       "    .dataframe thead th {\n",
       "        text-align: right;\n",
       "    }\n",
       "</style>\n",
       "<table border=\"1\" class=\"dataframe\">\n",
       "  <thead>\n",
       "    <tr style=\"text-align: right;\">\n",
       "      <th></th>\n",
       "      <th>Unnamed: 0</th>\n",
       "      <th>id</th>\n",
       "      <th>mb_used</th>\n",
       "      <th>session_date</th>\n",
       "      <th>user_id</th>\n",
       "    </tr>\n",
       "  </thead>\n",
       "  <tbody>\n",
       "    <tr>\n",
       "      <th>0</th>\n",
       "      <td>0</td>\n",
       "      <td>1000_0</td>\n",
       "      <td>112.95</td>\n",
       "      <td>2018-11-25</td>\n",
       "      <td>1000</td>\n",
       "    </tr>\n",
       "    <tr>\n",
       "      <th>1</th>\n",
       "      <td>1</td>\n",
       "      <td>1000_1</td>\n",
       "      <td>1052.81</td>\n",
       "      <td>2018-09-07</td>\n",
       "      <td>1000</td>\n",
       "    </tr>\n",
       "    <tr>\n",
       "      <th>2</th>\n",
       "      <td>2</td>\n",
       "      <td>1000_2</td>\n",
       "      <td>1197.26</td>\n",
       "      <td>2018-06-25</td>\n",
       "      <td>1000</td>\n",
       "    </tr>\n",
       "    <tr>\n",
       "      <th>3</th>\n",
       "      <td>3</td>\n",
       "      <td>1000_3</td>\n",
       "      <td>550.27</td>\n",
       "      <td>2018-08-22</td>\n",
       "      <td>1000</td>\n",
       "    </tr>\n",
       "    <tr>\n",
       "      <th>4</th>\n",
       "      <td>4</td>\n",
       "      <td>1000_4</td>\n",
       "      <td>302.56</td>\n",
       "      <td>2018-09-24</td>\n",
       "      <td>1000</td>\n",
       "    </tr>\n",
       "  </tbody>\n",
       "</table>\n",
       "</div>"
      ],
      "text/plain": [
       "   Unnamed: 0      id  mb_used session_date  user_id\n",
       "0           0  1000_0   112.95   2018-11-25     1000\n",
       "1           1  1000_1  1052.81   2018-09-07     1000\n",
       "2           2  1000_2  1197.26   2018-06-25     1000\n",
       "3           3  1000_3   550.27   2018-08-22     1000\n",
       "4           4  1000_4   302.56   2018-09-24     1000"
      ]
     },
     "execution_count": 3,
     "metadata": {},
     "output_type": "execute_result"
    }
   ],
   "source": [
    "internet.head(5)"
   ]
  },
  {
   "cell_type": "markdown",
   "metadata": {},
   "source": [
    "The table has an `Unnamed: 0` column that duplicates the row indexes. It could have appeared as a result of a technical error when uploading data. Let's get rid of this column."
   ]
  },
  {
   "cell_type": "code",
   "execution_count": 4,
   "metadata": {},
   "outputs": [],
   "source": [
    "internet.drop('Unnamed: 0', axis=1, inplace=True)"
   ]
  },
  {
   "cell_type": "code",
   "execution_count": 5,
   "metadata": {},
   "outputs": [
    {
     "data": {
      "text/html": [
       "<div>\n",
       "<style scoped>\n",
       "    .dataframe tbody tr th:only-of-type {\n",
       "        vertical-align: middle;\n",
       "    }\n",
       "\n",
       "    .dataframe tbody tr th {\n",
       "        vertical-align: top;\n",
       "    }\n",
       "\n",
       "    .dataframe thead th {\n",
       "        text-align: right;\n",
       "    }\n",
       "</style>\n",
       "<table border=\"1\" class=\"dataframe\">\n",
       "  <thead>\n",
       "    <tr style=\"text-align: right;\">\n",
       "      <th></th>\n",
       "      <th>id</th>\n",
       "      <th>mb_used</th>\n",
       "      <th>session_date</th>\n",
       "      <th>user_id</th>\n",
       "    </tr>\n",
       "  </thead>\n",
       "  <tbody>\n",
       "    <tr>\n",
       "      <th>0</th>\n",
       "      <td>1000_0</td>\n",
       "      <td>112.95</td>\n",
       "      <td>2018-11-25</td>\n",
       "      <td>1000</td>\n",
       "    </tr>\n",
       "    <tr>\n",
       "      <th>1</th>\n",
       "      <td>1000_1</td>\n",
       "      <td>1052.81</td>\n",
       "      <td>2018-09-07</td>\n",
       "      <td>1000</td>\n",
       "    </tr>\n",
       "    <tr>\n",
       "      <th>2</th>\n",
       "      <td>1000_2</td>\n",
       "      <td>1197.26</td>\n",
       "      <td>2018-06-25</td>\n",
       "      <td>1000</td>\n",
       "    </tr>\n",
       "    <tr>\n",
       "      <th>3</th>\n",
       "      <td>1000_3</td>\n",
       "      <td>550.27</td>\n",
       "      <td>2018-08-22</td>\n",
       "      <td>1000</td>\n",
       "    </tr>\n",
       "    <tr>\n",
       "      <th>4</th>\n",
       "      <td>1000_4</td>\n",
       "      <td>302.56</td>\n",
       "      <td>2018-09-24</td>\n",
       "      <td>1000</td>\n",
       "    </tr>\n",
       "  </tbody>\n",
       "</table>\n",
       "</div>"
      ],
      "text/plain": [
       "       id  mb_used session_date  user_id\n",
       "0  1000_0   112.95   2018-11-25     1000\n",
       "1  1000_1  1052.81   2018-09-07     1000\n",
       "2  1000_2  1197.26   2018-06-25     1000\n",
       "3  1000_3   550.27   2018-08-22     1000\n",
       "4  1000_4   302.56   2018-09-24     1000"
      ]
     },
     "execution_count": 5,
     "metadata": {},
     "output_type": "execute_result"
    }
   ],
   "source": [
    "internet.head(5)"
   ]
  },
  {
   "cell_type": "markdown",
   "metadata": {},
   "source": [
    "We will also round the duration of calls up, as required by the conditions of the operator."
   ]
  },
  {
   "cell_type": "code",
   "execution_count": 6,
   "metadata": {
    "scrolled": true
   },
   "outputs": [
    {
     "data": {
      "text/html": [
       "<div>\n",
       "<style scoped>\n",
       "    .dataframe tbody tr th:only-of-type {\n",
       "        vertical-align: middle;\n",
       "    }\n",
       "\n",
       "    .dataframe tbody tr th {\n",
       "        vertical-align: top;\n",
       "    }\n",
       "\n",
       "    .dataframe thead th {\n",
       "        text-align: right;\n",
       "    }\n",
       "</style>\n",
       "<table border=\"1\" class=\"dataframe\">\n",
       "  <thead>\n",
       "    <tr style=\"text-align: right;\">\n",
       "      <th></th>\n",
       "      <th>id</th>\n",
       "      <th>call_date</th>\n",
       "      <th>duration</th>\n",
       "      <th>user_id</th>\n",
       "    </tr>\n",
       "  </thead>\n",
       "  <tbody>\n",
       "    <tr>\n",
       "      <th>0</th>\n",
       "      <td>1000_0</td>\n",
       "      <td>2018-07-25</td>\n",
       "      <td>0.00</td>\n",
       "      <td>1000</td>\n",
       "    </tr>\n",
       "    <tr>\n",
       "      <th>1</th>\n",
       "      <td>1000_1</td>\n",
       "      <td>2018-08-17</td>\n",
       "      <td>0.00</td>\n",
       "      <td>1000</td>\n",
       "    </tr>\n",
       "    <tr>\n",
       "      <th>2</th>\n",
       "      <td>1000_2</td>\n",
       "      <td>2018-06-11</td>\n",
       "      <td>2.85</td>\n",
       "      <td>1000</td>\n",
       "    </tr>\n",
       "    <tr>\n",
       "      <th>3</th>\n",
       "      <td>1000_3</td>\n",
       "      <td>2018-09-21</td>\n",
       "      <td>13.80</td>\n",
       "      <td>1000</td>\n",
       "    </tr>\n",
       "    <tr>\n",
       "      <th>4</th>\n",
       "      <td>1000_4</td>\n",
       "      <td>2018-12-15</td>\n",
       "      <td>5.18</td>\n",
       "      <td>1000</td>\n",
       "    </tr>\n",
       "  </tbody>\n",
       "</table>\n",
       "</div>"
      ],
      "text/plain": [
       "       id   call_date  duration  user_id\n",
       "0  1000_0  2018-07-25      0.00     1000\n",
       "1  1000_1  2018-08-17      0.00     1000\n",
       "2  1000_2  2018-06-11      2.85     1000\n",
       "3  1000_3  2018-09-21     13.80     1000\n",
       "4  1000_4  2018-12-15      5.18     1000"
      ]
     },
     "execution_count": 6,
     "metadata": {},
     "output_type": "execute_result"
    }
   ],
   "source": [
    "calls.head(5)"
   ]
  },
  {
   "cell_type": "code",
   "execution_count": 7,
   "metadata": {
    "scrolled": true
   },
   "outputs": [],
   "source": [
    "calls['duration'] = np.ceil(calls['duration'])"
   ]
  },
  {
   "cell_type": "code",
   "execution_count": 8,
   "metadata": {},
   "outputs": [
    {
     "data": {
      "text/html": [
       "<div>\n",
       "<style scoped>\n",
       "    .dataframe tbody tr th:only-of-type {\n",
       "        vertical-align: middle;\n",
       "    }\n",
       "\n",
       "    .dataframe tbody tr th {\n",
       "        vertical-align: top;\n",
       "    }\n",
       "\n",
       "    .dataframe thead th {\n",
       "        text-align: right;\n",
       "    }\n",
       "</style>\n",
       "<table border=\"1\" class=\"dataframe\">\n",
       "  <thead>\n",
       "    <tr style=\"text-align: right;\">\n",
       "      <th></th>\n",
       "      <th>id</th>\n",
       "      <th>call_date</th>\n",
       "      <th>duration</th>\n",
       "      <th>user_id</th>\n",
       "    </tr>\n",
       "  </thead>\n",
       "  <tbody>\n",
       "    <tr>\n",
       "      <th>0</th>\n",
       "      <td>1000_0</td>\n",
       "      <td>2018-07-25</td>\n",
       "      <td>0.0</td>\n",
       "      <td>1000</td>\n",
       "    </tr>\n",
       "    <tr>\n",
       "      <th>1</th>\n",
       "      <td>1000_1</td>\n",
       "      <td>2018-08-17</td>\n",
       "      <td>0.0</td>\n",
       "      <td>1000</td>\n",
       "    </tr>\n",
       "    <tr>\n",
       "      <th>2</th>\n",
       "      <td>1000_2</td>\n",
       "      <td>2018-06-11</td>\n",
       "      <td>3.0</td>\n",
       "      <td>1000</td>\n",
       "    </tr>\n",
       "    <tr>\n",
       "      <th>3</th>\n",
       "      <td>1000_3</td>\n",
       "      <td>2018-09-21</td>\n",
       "      <td>14.0</td>\n",
       "      <td>1000</td>\n",
       "    </tr>\n",
       "    <tr>\n",
       "      <th>4</th>\n",
       "      <td>1000_4</td>\n",
       "      <td>2018-12-15</td>\n",
       "      <td>6.0</td>\n",
       "      <td>1000</td>\n",
       "    </tr>\n",
       "  </tbody>\n",
       "</table>\n",
       "</div>"
      ],
      "text/plain": [
       "       id   call_date  duration  user_id\n",
       "0  1000_0  2018-07-25       0.0     1000\n",
       "1  1000_1  2018-08-17       0.0     1000\n",
       "2  1000_2  2018-06-11       3.0     1000\n",
       "3  1000_3  2018-09-21      14.0     1000\n",
       "4  1000_4  2018-12-15       6.0     1000"
      ]
     },
     "execution_count": 8,
     "metadata": {},
     "output_type": "execute_result"
    }
   ],
   "source": [
    "calls.head(5)"
   ]
  },
  {
   "cell_type": "markdown",
   "metadata": {},
   "source": [
    "### Changing Data Types"
   ]
  },
  {
   "cell_type": "markdown",
   "metadata": {},
   "source": [
    "Let's bring the columns with dates to the datetime type. This will help us use the date and time for further calculations. Let's also add columns with months."
   ]
  },
  {
   "cell_type": "code",
   "execution_count": 9,
   "metadata": {},
   "outputs": [
    {
     "data": {
      "text/html": [
       "<div>\n",
       "<style scoped>\n",
       "    .dataframe tbody tr th:only-of-type {\n",
       "        vertical-align: middle;\n",
       "    }\n",
       "\n",
       "    .dataframe tbody tr th {\n",
       "        vertical-align: top;\n",
       "    }\n",
       "\n",
       "    .dataframe thead th {\n",
       "        text-align: right;\n",
       "    }\n",
       "</style>\n",
       "<table border=\"1\" class=\"dataframe\">\n",
       "  <thead>\n",
       "    <tr style=\"text-align: right;\">\n",
       "      <th></th>\n",
       "      <th>user_id</th>\n",
       "      <th>age</th>\n",
       "      <th>churn_date</th>\n",
       "      <th>city</th>\n",
       "      <th>first_name</th>\n",
       "      <th>last_name</th>\n",
       "      <th>reg_date</th>\n",
       "      <th>tariff</th>\n",
       "    </tr>\n",
       "  </thead>\n",
       "  <tbody>\n",
       "    <tr>\n",
       "      <th>336</th>\n",
       "      <td>1336</td>\n",
       "      <td>27</td>\n",
       "      <td>NaN</td>\n",
       "      <td>Уфа</td>\n",
       "      <td>Авксентий</td>\n",
       "      <td>Алексеичев</td>\n",
       "      <td>2018-12-31</td>\n",
       "      <td>ultra</td>\n",
       "    </tr>\n",
       "    <tr>\n",
       "      <th>396</th>\n",
       "      <td>1396</td>\n",
       "      <td>23</td>\n",
       "      <td>NaN</td>\n",
       "      <td>Пенза</td>\n",
       "      <td>Эльга</td>\n",
       "      <td>Савельева</td>\n",
       "      <td>2018-01-12</td>\n",
       "      <td>ultra</td>\n",
       "    </tr>\n",
       "    <tr>\n",
       "      <th>404</th>\n",
       "      <td>1404</td>\n",
       "      <td>61</td>\n",
       "      <td>NaN</td>\n",
       "      <td>Иркутск</td>\n",
       "      <td>Роберт</td>\n",
       "      <td>Уваров</td>\n",
       "      <td>2018-04-18</td>\n",
       "      <td>smart</td>\n",
       "    </tr>\n",
       "    <tr>\n",
       "      <th>234</th>\n",
       "      <td>1234</td>\n",
       "      <td>54</td>\n",
       "      <td>NaN</td>\n",
       "      <td>Магнитогорск</td>\n",
       "      <td>Роксана</td>\n",
       "      <td>Алексеева</td>\n",
       "      <td>2018-12-19</td>\n",
       "      <td>ultra</td>\n",
       "    </tr>\n",
       "    <tr>\n",
       "      <th>90</th>\n",
       "      <td>1090</td>\n",
       "      <td>54</td>\n",
       "      <td>2018-12-03</td>\n",
       "      <td>Череповец</td>\n",
       "      <td>Екатерина</td>\n",
       "      <td>Астафьева</td>\n",
       "      <td>2018-10-11</td>\n",
       "      <td>ultra</td>\n",
       "    </tr>\n",
       "  </tbody>\n",
       "</table>\n",
       "</div>"
      ],
      "text/plain": [
       "     user_id  age  churn_date          city first_name   last_name  \\\n",
       "336     1336   27         NaN           Уфа  Авксентий  Алексеичев   \n",
       "396     1396   23         NaN         Пенза      Эльга   Савельева   \n",
       "404     1404   61         NaN       Иркутск     Роберт      Уваров   \n",
       "234     1234   54         NaN  Магнитогорск    Роксана   Алексеева   \n",
       "90      1090   54  2018-12-03     Череповец  Екатерина   Астафьева   \n",
       "\n",
       "       reg_date tariff  \n",
       "336  2018-12-31  ultra  \n",
       "396  2018-01-12  ultra  \n",
       "404  2018-04-18  smart  \n",
       "234  2018-12-19  ultra  \n",
       "90   2018-10-11  ultra  "
      ]
     },
     "execution_count": 9,
     "metadata": {},
     "output_type": "execute_result"
    }
   ],
   "source": [
    "users.sample(5)"
   ]
  },
  {
   "cell_type": "code",
   "execution_count": 10,
   "metadata": {},
   "outputs": [],
   "source": [
    "calls['call_date'] = pd.to_datetime(calls['call_date'], format='%Y-%m-%d')\n",
    "internet['session_date'] = pd.to_datetime(internet['session_date'], format='%Y-%m-%d')\n",
    "messages['message_date'] = pd.to_datetime(messages['message_date'], format='%Y-%m-%d')\n",
    "users['reg_date'] = pd.to_datetime(users['reg_date'], format='%Y-%m-%d')\n",
    "users['churn_date'] = pd.to_datetime(users['churn_date'], format='%Y-%m-%d')"
   ]
  },
  {
   "cell_type": "code",
   "execution_count": 11,
   "metadata": {},
   "outputs": [],
   "source": [
    "calls['month'] = calls['call_date'].dt.month\n",
    "internet['month'] = internet['session_date'].dt.month\n",
    "messages['month'] = messages['message_date'].dt.month\n",
    "users['month'] = users['reg_date'].dt.month"
   ]
  },
  {
   "cell_type": "markdown",
   "metadata": {},
   "source": [
    "Let's change the data type to an integer where necessary. "
   ]
  },
  {
   "cell_type": "code",
   "execution_count": 12,
   "metadata": {},
   "outputs": [],
   "source": [
    "calls['id'] = calls['id'].astype('int')\n",
    "messages['id'] = messages['id'].astype('int')\n",
    "internet['id'] = internet['id'].astype('int')\n",
    "internet['mb_used'] = internet['mb_used'].astype('int')"
   ]
  },
  {
   "cell_type": "markdown",
   "metadata": {},
   "source": [
    "All the necessary data has been changed to the required types."
   ]
  },
  {
   "cell_type": "markdown",
   "metadata": {},
   "source": [
    "## Calculations and Data Grouping"
   ]
  },
  {
   "cell_type": "markdown",
   "metadata": {},
   "source": [
    "### Calculation of the number of calls and spent minutes by month"
   ]
  },
  {
   "cell_type": "markdown",
   "metadata": {},
   "source": [
    "Let's calculate the number of calls and minutes spent by month for each client."
   ]
  },
  {
   "cell_type": "code",
   "execution_count": 13,
   "metadata": {},
   "outputs": [
    {
     "data": {
      "text/html": [
       "<div>\n",
       "<style scoped>\n",
       "    .dataframe tbody tr th:only-of-type {\n",
       "        vertical-align: middle;\n",
       "    }\n",
       "\n",
       "    .dataframe tbody tr th {\n",
       "        vertical-align: top;\n",
       "    }\n",
       "\n",
       "    .dataframe thead tr th {\n",
       "        text-align: left;\n",
       "    }\n",
       "\n",
       "    .dataframe thead tr:last-of-type th {\n",
       "        text-align: right;\n",
       "    }\n",
       "</style>\n",
       "<table border=\"1\" class=\"dataframe\">\n",
       "  <thead>\n",
       "    <tr>\n",
       "      <th></th>\n",
       "      <th></th>\n",
       "      <th>count</th>\n",
       "      <th>sum</th>\n",
       "    </tr>\n",
       "    <tr>\n",
       "      <th></th>\n",
       "      <th></th>\n",
       "      <th>duration</th>\n",
       "      <th>duration</th>\n",
       "    </tr>\n",
       "    <tr>\n",
       "      <th>user_id</th>\n",
       "      <th>month</th>\n",
       "      <th></th>\n",
       "      <th></th>\n",
       "    </tr>\n",
       "  </thead>\n",
       "  <tbody>\n",
       "    <tr>\n",
       "      <th rowspan=\"5\" valign=\"top\">1000</th>\n",
       "      <th>5</th>\n",
       "      <td>22</td>\n",
       "      <td>159.0</td>\n",
       "    </tr>\n",
       "    <tr>\n",
       "      <th>6</th>\n",
       "      <td>43</td>\n",
       "      <td>172.0</td>\n",
       "    </tr>\n",
       "    <tr>\n",
       "      <th>7</th>\n",
       "      <td>47</td>\n",
       "      <td>340.0</td>\n",
       "    </tr>\n",
       "    <tr>\n",
       "      <th>8</th>\n",
       "      <td>52</td>\n",
       "      <td>408.0</td>\n",
       "    </tr>\n",
       "    <tr>\n",
       "      <th>9</th>\n",
       "      <td>58</td>\n",
       "      <td>466.0</td>\n",
       "    </tr>\n",
       "    <tr>\n",
       "      <th>...</th>\n",
       "      <th>...</th>\n",
       "      <td>...</td>\n",
       "      <td>...</td>\n",
       "    </tr>\n",
       "    <tr>\n",
       "      <th>1498</th>\n",
       "      <th>10</th>\n",
       "      <td>41</td>\n",
       "      <td>247.0</td>\n",
       "    </tr>\n",
       "    <tr>\n",
       "      <th rowspan=\"4\" valign=\"top\">1499</th>\n",
       "      <th>9</th>\n",
       "      <td>9</td>\n",
       "      <td>70.0</td>\n",
       "    </tr>\n",
       "    <tr>\n",
       "      <th>10</th>\n",
       "      <td>68</td>\n",
       "      <td>449.0</td>\n",
       "    </tr>\n",
       "    <tr>\n",
       "      <th>11</th>\n",
       "      <td>74</td>\n",
       "      <td>612.0</td>\n",
       "    </tr>\n",
       "    <tr>\n",
       "      <th>12</th>\n",
       "      <td>69</td>\n",
       "      <td>492.0</td>\n",
       "    </tr>\n",
       "  </tbody>\n",
       "</table>\n",
       "<p>3174 rows × 2 columns</p>\n",
       "</div>"
      ],
      "text/plain": [
       "                 count      sum\n",
       "              duration duration\n",
       "user_id month                  \n",
       "1000    5           22    159.0\n",
       "        6           43    172.0\n",
       "        7           47    340.0\n",
       "        8           52    408.0\n",
       "        9           58    466.0\n",
       "...                ...      ...\n",
       "1498    10          41    247.0\n",
       "1499    9            9     70.0\n",
       "        10          68    449.0\n",
       "        11          74    612.0\n",
       "        12          69    492.0\n",
       "\n",
       "[3174 rows x 2 columns]"
      ]
     },
     "execution_count": 13,
     "metadata": {},
     "output_type": "execute_result"
    }
   ],
   "source": [
    "calls.pivot_table(index=['user_id', 'month'], values='duration', aggfunc=['count', 'sum'])"
   ]
  },
  {
   "cell_type": "markdown",
   "metadata": {},
   "source": [
    "### Calculation of the number of messages by month"
   ]
  },
  {
   "cell_type": "markdown",
   "metadata": {},
   "source": [
    "Let's calculate the number of messages sent by month for each client."
   ]
  },
  {
   "cell_type": "code",
   "execution_count": 14,
   "metadata": {},
   "outputs": [
    {
     "data": {
      "text/html": [
       "<div>\n",
       "<style scoped>\n",
       "    .dataframe tbody tr th:only-of-type {\n",
       "        vertical-align: middle;\n",
       "    }\n",
       "\n",
       "    .dataframe tbody tr th {\n",
       "        vertical-align: top;\n",
       "    }\n",
       "\n",
       "    .dataframe thead th {\n",
       "        text-align: right;\n",
       "    }\n",
       "</style>\n",
       "<table border=\"1\" class=\"dataframe\">\n",
       "  <thead>\n",
       "    <tr style=\"text-align: right;\">\n",
       "      <th></th>\n",
       "      <th></th>\n",
       "      <th>id</th>\n",
       "    </tr>\n",
       "    <tr>\n",
       "      <th>user_id</th>\n",
       "      <th>month</th>\n",
       "      <th></th>\n",
       "    </tr>\n",
       "  </thead>\n",
       "  <tbody>\n",
       "    <tr>\n",
       "      <th rowspan=\"5\" valign=\"top\">1000</th>\n",
       "      <th>5</th>\n",
       "      <td>22</td>\n",
       "    </tr>\n",
       "    <tr>\n",
       "      <th>6</th>\n",
       "      <td>60</td>\n",
       "    </tr>\n",
       "    <tr>\n",
       "      <th>7</th>\n",
       "      <td>75</td>\n",
       "    </tr>\n",
       "    <tr>\n",
       "      <th>8</th>\n",
       "      <td>81</td>\n",
       "    </tr>\n",
       "    <tr>\n",
       "      <th>9</th>\n",
       "      <td>57</td>\n",
       "    </tr>\n",
       "    <tr>\n",
       "      <th>...</th>\n",
       "      <th>...</th>\n",
       "      <td>...</td>\n",
       "    </tr>\n",
       "    <tr>\n",
       "      <th>1498</th>\n",
       "      <th>10</th>\n",
       "      <td>42</td>\n",
       "    </tr>\n",
       "    <tr>\n",
       "      <th rowspan=\"4\" valign=\"top\">1499</th>\n",
       "      <th>9</th>\n",
       "      <td>11</td>\n",
       "    </tr>\n",
       "    <tr>\n",
       "      <th>10</th>\n",
       "      <td>48</td>\n",
       "    </tr>\n",
       "    <tr>\n",
       "      <th>11</th>\n",
       "      <td>59</td>\n",
       "    </tr>\n",
       "    <tr>\n",
       "      <th>12</th>\n",
       "      <td>66</td>\n",
       "    </tr>\n",
       "  </tbody>\n",
       "</table>\n",
       "<p>2717 rows × 1 columns</p>\n",
       "</div>"
      ],
      "text/plain": [
       "               id\n",
       "user_id month    \n",
       "1000    5      22\n",
       "        6      60\n",
       "        7      75\n",
       "        8      81\n",
       "        9      57\n",
       "...            ..\n",
       "1498    10     42\n",
       "1499    9      11\n",
       "        10     48\n",
       "        11     59\n",
       "        12     66\n",
       "\n",
       "[2717 rows x 1 columns]"
      ]
     },
     "execution_count": 14,
     "metadata": {},
     "output_type": "execute_result"
    }
   ],
   "source": [
    "messages.pivot_table(index=['user_id', 'month'], values='id', aggfunc='count')"
   ]
  },
  {
   "cell_type": "markdown",
   "metadata": {},
   "source": [
    "### Calculation of the amount of Internet traffic used by months"
   ]
  },
  {
   "cell_type": "markdown",
   "metadata": {},
   "source": [
    "Let's calculate the amount of Internet traffic used by month for each client."
   ]
  },
  {
   "cell_type": "code",
   "execution_count": 15,
   "metadata": {},
   "outputs": [
    {
     "data": {
      "text/html": [
       "<div>\n",
       "<style scoped>\n",
       "    .dataframe tbody tr th:only-of-type {\n",
       "        vertical-align: middle;\n",
       "    }\n",
       "\n",
       "    .dataframe tbody tr th {\n",
       "        vertical-align: top;\n",
       "    }\n",
       "\n",
       "    .dataframe thead th {\n",
       "        text-align: right;\n",
       "    }\n",
       "</style>\n",
       "<table border=\"1\" class=\"dataframe\">\n",
       "  <thead>\n",
       "    <tr style=\"text-align: right;\">\n",
       "      <th></th>\n",
       "      <th></th>\n",
       "      <th>mb_used</th>\n",
       "    </tr>\n",
       "    <tr>\n",
       "      <th>user_id</th>\n",
       "      <th>month</th>\n",
       "      <th></th>\n",
       "    </tr>\n",
       "  </thead>\n",
       "  <tbody>\n",
       "    <tr>\n",
       "      <th rowspan=\"5\" valign=\"top\">1000</th>\n",
       "      <th>5</th>\n",
       "      <td>2252</td>\n",
       "    </tr>\n",
       "    <tr>\n",
       "      <th>6</th>\n",
       "      <td>23213</td>\n",
       "    </tr>\n",
       "    <tr>\n",
       "      <th>7</th>\n",
       "      <td>13988</td>\n",
       "    </tr>\n",
       "    <tr>\n",
       "      <th>8</th>\n",
       "      <td>14043</td>\n",
       "    </tr>\n",
       "    <tr>\n",
       "      <th>9</th>\n",
       "      <td>14556</td>\n",
       "    </tr>\n",
       "    <tr>\n",
       "      <th>...</th>\n",
       "      <th>...</th>\n",
       "      <td>...</td>\n",
       "    </tr>\n",
       "    <tr>\n",
       "      <th>1498</th>\n",
       "      <th>10</th>\n",
       "      <td>20555</td>\n",
       "    </tr>\n",
       "    <tr>\n",
       "      <th rowspan=\"4\" valign=\"top\">1499</th>\n",
       "      <th>9</th>\n",
       "      <td>1844</td>\n",
       "    </tr>\n",
       "    <tr>\n",
       "      <th>10</th>\n",
       "      <td>17766</td>\n",
       "    </tr>\n",
       "    <tr>\n",
       "      <th>11</th>\n",
       "      <td>17945</td>\n",
       "    </tr>\n",
       "    <tr>\n",
       "      <th>12</th>\n",
       "      <td>13037</td>\n",
       "    </tr>\n",
       "  </tbody>\n",
       "</table>\n",
       "<p>3203 rows × 1 columns</p>\n",
       "</div>"
      ],
      "text/plain": [
       "               mb_used\n",
       "user_id month         \n",
       "1000    5         2252\n",
       "        6        23213\n",
       "        7        13988\n",
       "        8        14043\n",
       "        9        14556\n",
       "...                ...\n",
       "1498    10       20555\n",
       "1499    9         1844\n",
       "        10       17766\n",
       "        11       17945\n",
       "        12       13037\n",
       "\n",
       "[3203 rows x 1 columns]"
      ]
     },
     "execution_count": 15,
     "metadata": {},
     "output_type": "execute_result"
    }
   ],
   "source": [
    "internet.pivot_table(index=['user_id', 'month'], values='mb_used', aggfunc='sum')"
   ]
  },
  {
   "cell_type": "markdown",
   "metadata": {},
   "source": [
    "### Calculation of monthly revenue per user"
   ]
  },
  {
   "cell_type": "markdown",
   "metadata": {},
   "source": [
    "Let's group the data from the calls, messages, and internet tables by users and months using pivot tables and combine the resulting tables into one. "
   ]
  },
  {
   "cell_type": "code",
   "execution_count": 16,
   "metadata": {},
   "outputs": [],
   "source": [
    "calls_grouped = calls.pivot_table(index=['user_id', 'month'], values='duration', aggfunc='sum')\n",
    "calls_grouped.columns = ['minutes']\n"
   ]
  },
  {
   "cell_type": "code",
   "execution_count": 17,
   "metadata": {},
   "outputs": [],
   "source": [
    "messages_grouped = messages.pivot_table(index=['user_id', 'month'], values='id', aggfunc='count')\n",
    "messages_grouped.columns = ['messages']"
   ]
  },
  {
   "cell_type": "code",
   "execution_count": 18,
   "metadata": {},
   "outputs": [],
   "source": [
    "internet_grouped = internet.pivot_table(index=['user_id', 'month'], values='mb_used', aggfunc='sum')\n",
    "internet_grouped.columns = ['mb_used']"
   ]
  },
  {
   "cell_type": "code",
   "execution_count": 19,
   "metadata": {},
   "outputs": [],
   "source": [
    "grouped_df = calls_grouped.join(\n",
    "    messages_grouped, on=['user_id', 'month'], how='outer').join(\n",
    "    internet_grouped, on=['user_id', 'month'], how='outer')"
   ]
  },
  {
   "cell_type": "markdown",
   "metadata": {},
   "source": [
    "Let's check the resulting table for missing values."
   ]
  },
  {
   "cell_type": "code",
   "execution_count": 20,
   "metadata": {
    "scrolled": true
   },
   "outputs": [
    {
     "data": {
      "text/plain": [
       "minutes      40\n",
       "messages    497\n",
       "mb_used      11\n",
       "dtype: int64"
      ]
     },
     "execution_count": 20,
     "metadata": {},
     "output_type": "execute_result"
    }
   ],
   "source": [
    "grouped_df.isna().sum()"
   ]
  },
  {
   "cell_type": "markdown",
   "metadata": {},
   "source": [
    "The resulting table has missing values in the `minutes`, `messages`, and `mb_used` columns. Let's fill them with 0, since most likely users did not call, did not send messages, or did not use the Internet this month. "
   ]
  },
  {
   "cell_type": "code",
   "execution_count": 21,
   "metadata": {},
   "outputs": [],
   "source": [
    "grouped_df = grouped_df.fillna(0)"
   ]
  },
  {
   "cell_type": "code",
   "execution_count": 22,
   "metadata": {
    "scrolled": true
   },
   "outputs": [
    {
     "data": {
      "text/plain": [
       "minutes     0\n",
       "messages    0\n",
       "mb_used     0\n",
       "dtype: int64"
      ]
     },
     "execution_count": 22,
     "metadata": {},
     "output_type": "execute_result"
    }
   ],
   "source": [
    "grouped_df.isna().sum()"
   ]
  },
  {
   "cell_type": "markdown",
   "metadata": {},
   "source": [
    "After all the NaN values are filled, we can proceed to the calculation of the monthly revenue for each user. To do this, we subtract the free limit from the total number of calls, messages, and Internet traffic; multiply the remainder by the value from the tariff plan; add the subscription fee corresponding to the tariff plan. First, we will write a function and then apply it to the dataset. "
   ]
  },
  {
   "cell_type": "markdown",
   "metadata": {},
   "source": [
    "To begin with, let's add a column with a tariff and a city to a table with grouped data."
   ]
  },
  {
   "cell_type": "code",
   "execution_count": 23,
   "metadata": {},
   "outputs": [],
   "source": [
    "grouped_df = grouped_df.reset_index().merge(users[['user_id', 'city', 'tariff']], on='user_id', how='left')"
   ]
  },
  {
   "cell_type": "markdown",
   "metadata": {},
   "source": [
    "Let's write a function to calculate revenue per user. Also, in the body of the function, we convert Internet traffic from Mb to Gb and round up the amount of traffic per month, as required by the terms of the tariff."
   ]
  },
  {
   "cell_type": "code",
   "execution_count": 24,
   "metadata": {},
   "outputs": [],
   "source": [
    "def revenue_per_user(row):\n",
    "    minutes = row['minutes']\n",
    "    messages = row['messages']\n",
    "    mb_used = row['mb_used']\n",
    "    tariff = row['tariff']\n",
    "    \n",
    "    if tariff == 'smart':\n",
    "        minutes_sum = minutes - tariffs.loc[0, 'minutes_included']\n",
    "        mb_used_sum = mb_used - tariffs.loc[0, 'mb_per_month_included']\n",
    "        messages_sum = messages - tariffs.loc[0, 'messages_included']\n",
    "        \n",
    "        if minutes_sum < 0:\n",
    "            minutes_sum = 0\n",
    "        if mb_used_sum < 0:\n",
    "            mb_used_sum = 0\n",
    "        if messages_sum < 0:\n",
    "            messages_sum = 0\n",
    "            \n",
    "        return (tariffs.loc[0, 'rub_per_minute'] * minutes_sum\n",
    "               + tariffs.loc[0, 'rub_per_gb'] * np.ceil(mb_used_sum / 1024)\n",
    "               + tariffs.loc[0, 'rub_per_message'] * messages_sum\n",
    "               + tariffs.loc[0, 'rub_monthly_fee']\n",
    "               )\n",
    "    else:\n",
    "        minutes_sum = minutes - tariffs.loc[1, 'minutes_included']\n",
    "        mb_used_sum = mb_used - tariffs.loc[1, 'mb_per_month_included']\n",
    "        messages_sum = messages - tariffs.loc[1, 'messages_included']\n",
    "        \n",
    "        if minutes_sum < 0:\n",
    "            minutes_sum = 0\n",
    "        if mb_used_sum < 0:\n",
    "            mb_used_sum = 0\n",
    "        if messages_sum < 0:\n",
    "            messages_sum = 0\n",
    "            \n",
    "        return (tariffs.loc[1, 'rub_per_minute'] * minutes_sum\n",
    "               + tariffs.loc[1, 'rub_per_gb'] * np.ceil(mb_used_sum / 1024)\n",
    "               + tariffs.loc[1, 'rub_per_message'] * messages_sum\n",
    "               + tariffs.loc[1, 'rub_monthly_fee']\n",
    "               )"
   ]
  },
  {
   "cell_type": "code",
   "execution_count": 25,
   "metadata": {},
   "outputs": [
    {
     "data": {
      "text/html": [
       "<div>\n",
       "<style scoped>\n",
       "    .dataframe tbody tr th:only-of-type {\n",
       "        vertical-align: middle;\n",
       "    }\n",
       "\n",
       "    .dataframe tbody tr th {\n",
       "        vertical-align: top;\n",
       "    }\n",
       "\n",
       "    .dataframe thead th {\n",
       "        text-align: right;\n",
       "    }\n",
       "</style>\n",
       "<table border=\"1\" class=\"dataframe\">\n",
       "  <thead>\n",
       "    <tr style=\"text-align: right;\">\n",
       "      <th></th>\n",
       "      <th>user_id</th>\n",
       "      <th>month</th>\n",
       "      <th>minutes</th>\n",
       "      <th>messages</th>\n",
       "      <th>mb_used</th>\n",
       "      <th>city</th>\n",
       "      <th>tariff</th>\n",
       "      <th>revenue</th>\n",
       "    </tr>\n",
       "  </thead>\n",
       "  <tbody>\n",
       "    <tr>\n",
       "      <th>0</th>\n",
       "      <td>1000</td>\n",
       "      <td>5</td>\n",
       "      <td>159.0</td>\n",
       "      <td>22.0</td>\n",
       "      <td>2252.0</td>\n",
       "      <td>Краснодар</td>\n",
       "      <td>ultra</td>\n",
       "      <td>1950.0</td>\n",
       "    </tr>\n",
       "    <tr>\n",
       "      <th>1</th>\n",
       "      <td>1000</td>\n",
       "      <td>6</td>\n",
       "      <td>172.0</td>\n",
       "      <td>60.0</td>\n",
       "      <td>23213.0</td>\n",
       "      <td>Краснодар</td>\n",
       "      <td>ultra</td>\n",
       "      <td>1950.0</td>\n",
       "    </tr>\n",
       "    <tr>\n",
       "      <th>2</th>\n",
       "      <td>1000</td>\n",
       "      <td>7</td>\n",
       "      <td>340.0</td>\n",
       "      <td>75.0</td>\n",
       "      <td>13988.0</td>\n",
       "      <td>Краснодар</td>\n",
       "      <td>ultra</td>\n",
       "      <td>1950.0</td>\n",
       "    </tr>\n",
       "    <tr>\n",
       "      <th>3</th>\n",
       "      <td>1000</td>\n",
       "      <td>8</td>\n",
       "      <td>408.0</td>\n",
       "      <td>81.0</td>\n",
       "      <td>14043.0</td>\n",
       "      <td>Краснодар</td>\n",
       "      <td>ultra</td>\n",
       "      <td>1950.0</td>\n",
       "    </tr>\n",
       "    <tr>\n",
       "      <th>4</th>\n",
       "      <td>1000</td>\n",
       "      <td>9</td>\n",
       "      <td>466.0</td>\n",
       "      <td>57.0</td>\n",
       "      <td>14556.0</td>\n",
       "      <td>Краснодар</td>\n",
       "      <td>ultra</td>\n",
       "      <td>1950.0</td>\n",
       "    </tr>\n",
       "    <tr>\n",
       "      <th>5</th>\n",
       "      <td>1000</td>\n",
       "      <td>10</td>\n",
       "      <td>350.0</td>\n",
       "      <td>73.0</td>\n",
       "      <td>14690.0</td>\n",
       "      <td>Краснодар</td>\n",
       "      <td>ultra</td>\n",
       "      <td>1950.0</td>\n",
       "    </tr>\n",
       "    <tr>\n",
       "      <th>6</th>\n",
       "      <td>1000</td>\n",
       "      <td>11</td>\n",
       "      <td>338.0</td>\n",
       "      <td>58.0</td>\n",
       "      <td>14745.0</td>\n",
       "      <td>Краснодар</td>\n",
       "      <td>ultra</td>\n",
       "      <td>1950.0</td>\n",
       "    </tr>\n",
       "    <tr>\n",
       "      <th>7</th>\n",
       "      <td>1000</td>\n",
       "      <td>12</td>\n",
       "      <td>333.0</td>\n",
       "      <td>70.0</td>\n",
       "      <td>9808.0</td>\n",
       "      <td>Краснодар</td>\n",
       "      <td>ultra</td>\n",
       "      <td>1950.0</td>\n",
       "    </tr>\n",
       "    <tr>\n",
       "      <th>8</th>\n",
       "      <td>1001</td>\n",
       "      <td>11</td>\n",
       "      <td>430.0</td>\n",
       "      <td>0.0</td>\n",
       "      <td>18405.0</td>\n",
       "      <td>Москва</td>\n",
       "      <td>smart</td>\n",
       "      <td>1150.0</td>\n",
       "    </tr>\n",
       "    <tr>\n",
       "      <th>9</th>\n",
       "      <td>1001</td>\n",
       "      <td>12</td>\n",
       "      <td>414.0</td>\n",
       "      <td>0.0</td>\n",
       "      <td>14018.0</td>\n",
       "      <td>Москва</td>\n",
       "      <td>smart</td>\n",
       "      <td>550.0</td>\n",
       "    </tr>\n",
       "  </tbody>\n",
       "</table>\n",
       "</div>"
      ],
      "text/plain": [
       "   user_id  month  minutes  messages  mb_used       city tariff  revenue\n",
       "0     1000      5    159.0      22.0   2252.0  Краснодар  ultra   1950.0\n",
       "1     1000      6    172.0      60.0  23213.0  Краснодар  ultra   1950.0\n",
       "2     1000      7    340.0      75.0  13988.0  Краснодар  ultra   1950.0\n",
       "3     1000      8    408.0      81.0  14043.0  Краснодар  ultra   1950.0\n",
       "4     1000      9    466.0      57.0  14556.0  Краснодар  ultra   1950.0\n",
       "5     1000     10    350.0      73.0  14690.0  Краснодар  ultra   1950.0\n",
       "6     1000     11    338.0      58.0  14745.0  Краснодар  ultra   1950.0\n",
       "7     1000     12    333.0      70.0   9808.0  Краснодар  ultra   1950.0\n",
       "8     1001     11    430.0       0.0  18405.0     Москва  smart   1150.0\n",
       "9     1001     12    414.0       0.0  14018.0     Москва  smart    550.0"
      ]
     },
     "execution_count": 25,
     "metadata": {},
     "output_type": "execute_result"
    }
   ],
   "source": [
    "grouped_df['revenue'] = grouped_df.apply(revenue_per_user, axis=1)\n",
    "grouped_df.head(10)"
   ]
  },
  {
   "cell_type": "markdown",
   "metadata": {},
   "source": [
    "## Data Analysis"
   ]
  },
  {
   "cell_type": "markdown",
   "metadata": {},
   "source": [
    "Let's describe the behavior of the operator's clients based on the sample. Let's see how many minutes of conversation, how many messages and how much Internet traffic is required by users of each tariff per month. We will calculate the mean, variance, and standard deviation, then construct histograms and describe the distributions. "
   ]
  },
  {
   "cell_type": "markdown",
   "metadata": {},
   "source": [
    "Let's divide the sample by tariffs to make it more convenient to work with the data."
   ]
  },
  {
   "cell_type": "code",
   "execution_count": 26,
   "metadata": {},
   "outputs": [],
   "source": [
    "smart = grouped_df.loc[grouped_df['tariff'] == 'smart']\n",
    "ultra = grouped_df.loc[grouped_df['tariff'] == 'ultra']"
   ]
  },
  {
   "cell_type": "markdown",
   "metadata": {},
   "source": [
    "### Call minutes used"
   ]
  },
  {
   "cell_type": "markdown",
   "metadata": {},
   "source": [
    "Let's compare the number of used minutes for Smart and Ultra tariffs. To do this, we calculate the average duration, variance, and standard deviation, and also create histograms."
   ]
  },
  {
   "cell_type": "code",
   "execution_count": 27,
   "metadata": {
    "scrolled": true
   },
   "outputs": [
    {
     "data": {
      "text/html": [
       "<div>\n",
       "<style scoped>\n",
       "    .dataframe tbody tr th:only-of-type {\n",
       "        vertical-align: middle;\n",
       "    }\n",
       "\n",
       "    .dataframe tbody tr th {\n",
       "        vertical-align: top;\n",
       "    }\n",
       "\n",
       "    .dataframe thead tr th {\n",
       "        text-align: left;\n",
       "    }\n",
       "\n",
       "    .dataframe thead tr:last-of-type th {\n",
       "        text-align: right;\n",
       "    }\n",
       "</style>\n",
       "<table border=\"1\" class=\"dataframe\">\n",
       "  <thead>\n",
       "    <tr>\n",
       "      <th></th>\n",
       "      <th>mean</th>\n",
       "      <th>var</th>\n",
       "      <th>std</th>\n",
       "    </tr>\n",
       "    <tr>\n",
       "      <th></th>\n",
       "      <th>minutes</th>\n",
       "      <th>minutes</th>\n",
       "      <th>minutes</th>\n",
       "    </tr>\n",
       "    <tr>\n",
       "      <th>tariff</th>\n",
       "      <th></th>\n",
       "      <th></th>\n",
       "      <th></th>\n",
       "    </tr>\n",
       "  </thead>\n",
       "  <tbody>\n",
       "    <tr>\n",
       "      <th>smart</th>\n",
       "      <td>417.934948</td>\n",
       "      <td>36219.315784</td>\n",
       "      <td>190.31373</td>\n",
       "    </tr>\n",
       "  </tbody>\n",
       "</table>\n",
       "</div>"
      ],
      "text/plain": [
       "              mean           var        std\n",
       "           minutes       minutes    minutes\n",
       "tariff                                     \n",
       "smart   417.934948  36219.315784  190.31373"
      ]
     },
     "execution_count": 27,
     "metadata": {},
     "output_type": "execute_result"
    }
   ],
   "source": [
    "smart.pivot_table(index=['tariff'], values=['minutes'], aggfunc=['mean', 'var', 'std'])"
   ]
  },
  {
   "cell_type": "code",
   "execution_count": 28,
   "metadata": {
    "scrolled": true
   },
   "outputs": [
    {
     "data": {
      "text/html": [
       "<div>\n",
       "<style scoped>\n",
       "    .dataframe tbody tr th:only-of-type {\n",
       "        vertical-align: middle;\n",
       "    }\n",
       "\n",
       "    .dataframe tbody tr th {\n",
       "        vertical-align: top;\n",
       "    }\n",
       "\n",
       "    .dataframe thead tr th {\n",
       "        text-align: left;\n",
       "    }\n",
       "\n",
       "    .dataframe thead tr:last-of-type th {\n",
       "        text-align: right;\n",
       "    }\n",
       "</style>\n",
       "<table border=\"1\" class=\"dataframe\">\n",
       "  <thead>\n",
       "    <tr>\n",
       "      <th></th>\n",
       "      <th>mean</th>\n",
       "      <th>var</th>\n",
       "      <th>std</th>\n",
       "    </tr>\n",
       "    <tr>\n",
       "      <th></th>\n",
       "      <th>minutes</th>\n",
       "      <th>minutes</th>\n",
       "      <th>minutes</th>\n",
       "    </tr>\n",
       "    <tr>\n",
       "      <th>tariff</th>\n",
       "      <th></th>\n",
       "      <th></th>\n",
       "      <th></th>\n",
       "    </tr>\n",
       "  </thead>\n",
       "  <tbody>\n",
       "    <tr>\n",
       "      <th>ultra</th>\n",
       "      <td>526.62335</td>\n",
       "      <td>100873.633397</td>\n",
       "      <td>317.606098</td>\n",
       "    </tr>\n",
       "  </tbody>\n",
       "</table>\n",
       "</div>"
      ],
      "text/plain": [
       "             mean            var         std\n",
       "          minutes        minutes     minutes\n",
       "tariff                                      \n",
       "ultra   526.62335  100873.633397  317.606098"
      ]
     },
     "execution_count": 28,
     "metadata": {},
     "output_type": "execute_result"
    }
   ],
   "source": [
    "ultra.pivot_table(index=['tariff'], values=['minutes'], aggfunc=['mean', 'var', 'std'])"
   ]
  },
  {
   "cell_type": "markdown",
   "metadata": {},
   "source": [
    "Smart tariff users use an average of 418 minutes of calls, while Ultra tariff users use 526 minutes. At the same time, the standard deviation in the Smart tariff is 190 minutes, and in the Ultra tariff it is 318 minutes."
   ]
  },
  {
   "cell_type": "code",
   "execution_count": 29,
   "metadata": {
    "scrolled": false
   },
   "outputs": [
    {
     "data": {
      "image/png": "[encoded data removed]",
      "text/plain": [
       "<Figure size 864x432 with 2 Axes>"
      ]
     },
     "metadata": {
      "needs_background": "light"
     },
     "output_type": "display_data"
    }
   ],
   "source": [
    "f, axs = plt.subplots(1, 2, figsize=(12, 6))\n",
    "axs[0].hist(smart['minutes'], bins=30)\n",
    "axs[0].set_title('Smart')\n",
    "axs[0].axvline(tariffs.loc[tariffs['tariff_name'] == 'smart', 'minutes_included'].loc[0], color='r', linewidth=2)\n",
    "axs[0].grid()\n",
    "\n",
    "axs[1].hist(ultra['minutes'], bins=30)\n",
    "axs[1].set_title('Ultra')\n",
    "axs[1].grid()\n",
    "\n",
    "plt.suptitle(' Call minutes used')\n",
    "plt.show()"
   ]
  },
  {
   "cell_type": "markdown",
   "metadata": {},
   "source": [
    "From the bar graphs, you can see that most Smart plan users use between 350 and 550 minutes. It can also be noted that, although users of the Smart tariff try to meet the limit, a fairly large number exceed it. At the same time, all users of the Ultra tariff from the sample fit into the limit (3000 minutes)."
   ]
  },
  {
   "cell_type": "markdown",
   "metadata": {},
   "source": [
    "### Number of messages sent"
   ]
  },
  {
   "cell_type": "markdown",
   "metadata": {},
   "source": [
    "Let's compare the number of sent messages for Smart and Ultra tariffs. To do this, we calculate the average number, variance and standard deviation, and also create histograms."
   ]
  },
  {
   "cell_type": "code",
   "execution_count": 30,
   "metadata": {
    "scrolled": true
   },
   "outputs": [
    {
     "data": {
      "text/html": [
       "<div>\n",
       "<style scoped>\n",
       "    .dataframe tbody tr th:only-of-type {\n",
       "        vertical-align: middle;\n",
       "    }\n",
       "\n",
       "    .dataframe tbody tr th {\n",
       "        vertical-align: top;\n",
       "    }\n",
       "\n",
       "    .dataframe thead tr th {\n",
       "        text-align: left;\n",
       "    }\n",
       "\n",
       "    .dataframe thead tr:last-of-type th {\n",
       "        text-align: right;\n",
       "    }\n",
       "</style>\n",
       "<table border=\"1\" class=\"dataframe\">\n",
       "  <thead>\n",
       "    <tr>\n",
       "      <th></th>\n",
       "      <th>mean</th>\n",
       "      <th>var</th>\n",
       "      <th>std</th>\n",
       "    </tr>\n",
       "    <tr>\n",
       "      <th></th>\n",
       "      <th>messages</th>\n",
       "      <th>messages</th>\n",
       "      <th>messages</th>\n",
       "    </tr>\n",
       "    <tr>\n",
       "      <th>tariff</th>\n",
       "      <th></th>\n",
       "      <th></th>\n",
       "      <th></th>\n",
       "    </tr>\n",
       "  </thead>\n",
       "  <tbody>\n",
       "    <tr>\n",
       "      <th>smart</th>\n",
       "      <td>33.384029</td>\n",
       "      <td>796.812958</td>\n",
       "      <td>28.227876</td>\n",
       "    </tr>\n",
       "  </tbody>\n",
       "</table>\n",
       "</div>"
      ],
      "text/plain": [
       "             mean         var        std\n",
       "         messages    messages   messages\n",
       "tariff                                  \n",
       "smart   33.384029  796.812958  28.227876"
      ]
     },
     "execution_count": 30,
     "metadata": {},
     "output_type": "execute_result"
    }
   ],
   "source": [
    "smart.pivot_table(index=['tariff'], values=['messages'], aggfunc=['mean', 'var', 'std'])"
   ]
  },
  {
   "cell_type": "code",
   "execution_count": 31,
   "metadata": {
    "scrolled": false
   },
   "outputs": [
    {
     "data": {
      "text/html": [
       "<div>\n",
       "<style scoped>\n",
       "    .dataframe tbody tr th:only-of-type {\n",
       "        vertical-align: middle;\n",
       "    }\n",
       "\n",
       "    .dataframe tbody tr th {\n",
       "        vertical-align: top;\n",
       "    }\n",
       "\n",
       "    .dataframe thead tr th {\n",
       "        text-align: left;\n",
       "    }\n",
       "\n",
       "    .dataframe thead tr:last-of-type th {\n",
       "        text-align: right;\n",
       "    }\n",
       "</style>\n",
       "<table border=\"1\" class=\"dataframe\">\n",
       "  <thead>\n",
       "    <tr>\n",
       "      <th></th>\n",
       "      <th>mean</th>\n",
       "      <th>var</th>\n",
       "      <th>std</th>\n",
       "    </tr>\n",
       "    <tr>\n",
       "      <th></th>\n",
       "      <th>messages</th>\n",
       "      <th>messages</th>\n",
       "      <th>messages</th>\n",
       "    </tr>\n",
       "    <tr>\n",
       "      <th>tariff</th>\n",
       "      <th></th>\n",
       "      <th></th>\n",
       "      <th></th>\n",
       "    </tr>\n",
       "  </thead>\n",
       "  <tbody>\n",
       "    <tr>\n",
       "      <th>ultra</th>\n",
       "      <td>49.363452</td>\n",
       "      <td>2285.266143</td>\n",
       "      <td>47.804457</td>\n",
       "    </tr>\n",
       "  </tbody>\n",
       "</table>\n",
       "</div>"
      ],
      "text/plain": [
       "             mean          var        std\n",
       "         messages     messages   messages\n",
       "tariff                                   \n",
       "ultra   49.363452  2285.266143  47.804457"
      ]
     },
     "execution_count": 31,
     "metadata": {},
     "output_type": "execute_result"
    }
   ],
   "source": [
    "ultra.pivot_table(index=['tariff'], values=['messages'], aggfunc=['mean', 'var', 'std'])"
   ]
  },
  {
   "cell_type": "markdown",
   "metadata": {},
   "source": [
    "`Smart` users send 33 messages on average, while `Ultra` users send 49. At the same time, the standard deviation in the `Smart` tariff is 28, and in the `Ultra`, it is 48. "
   ]
  },
  {
   "cell_type": "code",
   "execution_count": 32,
   "metadata": {},
   "outputs": [
    {
     "data": {
      "image/png": "[encoded data removed]",
      "text/plain": [
       "<Figure size 864x432 with 2 Axes>"
      ]
     },
     "metadata": {
      "needs_background": "light"
     },
     "output_type": "display_data"
    }
   ],
   "source": [
    "f, axs = plt.subplots(1, 2, figsize=(12, 6))\n",
    "axs[0].hist(smart['messages'], bins=20)\n",
    "axs[0].set_title('Smart')\n",
    "axs[0].axvline(tariffs.loc[tariffs['tariff_name'] == 'smart', 'messages_included'].loc[0], color='r', linewidth=2)\n",
    "axs[0].grid()\n",
    "\n",
    "axs[1].hist(ultra['messages'], bins=20)\n",
    "axs[1].set_title('Ultra')\n",
    "axs[1].grid()\n",
    "\n",
    "plt.suptitle('Number of messages sent')\n",
    "plt.show()"
   ]
  },
  {
   "cell_type": "markdown",
   "metadata": {},
   "source": [
    "Histograms are skewed to the right, which means the mean is greater than the median. It can also be noted that although most users of the `Smart` tariff use messages within the limit (50), there are still those who significantly exceed the limit. At the same time, there are no users of the `Ultra` tariff who exceed the limit (1000). We noticed that messages are not very popular and none of the `Ultra` tariff users send more than 225 messages, despite the large limit. "
   ]
  },
  {
   "cell_type": "markdown",
   "metadata": {},
   "source": [
    "### The amount of used Internet traffic"
   ]
  },
  {
   "cell_type": "markdown",
   "metadata": {},
   "source": [
    "Let's compare the amount of used Internet traffic for `Smart` and `Ultra` tariffs. To do this, we calculate the mean, variance, and standard deviation, and also create histograms."
   ]
  },
  {
   "cell_type": "code",
   "execution_count": 33,
   "metadata": {},
   "outputs": [
    {
     "data": {
      "text/html": [
       "<div>\n",
       "<style scoped>\n",
       "    .dataframe tbody tr th:only-of-type {\n",
       "        vertical-align: middle;\n",
       "    }\n",
       "\n",
       "    .dataframe tbody tr th {\n",
       "        vertical-align: top;\n",
       "    }\n",
       "\n",
       "    .dataframe thead tr th {\n",
       "        text-align: left;\n",
       "    }\n",
       "\n",
       "    .dataframe thead tr:last-of-type th {\n",
       "        text-align: right;\n",
       "    }\n",
       "</style>\n",
       "<table border=\"1\" class=\"dataframe\">\n",
       "  <thead>\n",
       "    <tr>\n",
       "      <th></th>\n",
       "      <th>mean</th>\n",
       "      <th>var</th>\n",
       "      <th>std</th>\n",
       "    </tr>\n",
       "    <tr>\n",
       "      <th></th>\n",
       "      <th>mb_used</th>\n",
       "      <th>mb_used</th>\n",
       "      <th>mb_used</th>\n",
       "    </tr>\n",
       "    <tr>\n",
       "      <th>tariff</th>\n",
       "      <th></th>\n",
       "      <th></th>\n",
       "      <th></th>\n",
       "    </tr>\n",
       "  </thead>\n",
       "  <tbody>\n",
       "    <tr>\n",
       "      <th>smart</th>\n",
       "      <td>16187.578735</td>\n",
       "      <td>3.437981e+07</td>\n",
       "      <td>5863.430302</td>\n",
       "    </tr>\n",
       "  </tbody>\n",
       "</table>\n",
       "</div>"
      ],
      "text/plain": [
       "                mean           var          std\n",
       "             mb_used       mb_used      mb_used\n",
       "tariff                                         \n",
       "smart   16187.578735  3.437981e+07  5863.430302"
      ]
     },
     "execution_count": 33,
     "metadata": {},
     "output_type": "execute_result"
    }
   ],
   "source": [
    "smart.pivot_table(index=['tariff'], values=['mb_used'], aggfunc=['mean', 'var', 'std'])"
   ]
  },
  {
   "cell_type": "code",
   "execution_count": 34,
   "metadata": {
    "scrolled": true
   },
   "outputs": [
    {
     "data": {
      "text/html": [
       "<div>\n",
       "<style scoped>\n",
       "    .dataframe tbody tr th:only-of-type {\n",
       "        vertical-align: middle;\n",
       "    }\n",
       "\n",
       "    .dataframe tbody tr th {\n",
       "        vertical-align: top;\n",
       "    }\n",
       "\n",
       "    .dataframe thead tr th {\n",
       "        text-align: left;\n",
       "    }\n",
       "\n",
       "    .dataframe thead tr:last-of-type th {\n",
       "        text-align: right;\n",
       "    }\n",
       "</style>\n",
       "<table border=\"1\" class=\"dataframe\">\n",
       "  <thead>\n",
       "    <tr>\n",
       "      <th></th>\n",
       "      <th>mean</th>\n",
       "      <th>var</th>\n",
       "      <th>std</th>\n",
       "    </tr>\n",
       "    <tr>\n",
       "      <th></th>\n",
       "      <th>mb_used</th>\n",
       "      <th>mb_used</th>\n",
       "      <th>mb_used</th>\n",
       "    </tr>\n",
       "    <tr>\n",
       "      <th>tariff</th>\n",
       "      <th></th>\n",
       "      <th></th>\n",
       "      <th></th>\n",
       "    </tr>\n",
       "  </thead>\n",
       "  <tbody>\n",
       "    <tr>\n",
       "      <th>ultra</th>\n",
       "      <td>19450.643655</td>\n",
       "      <td>1.015661e+08</td>\n",
       "      <td>10077.999744</td>\n",
       "    </tr>\n",
       "  </tbody>\n",
       "</table>\n",
       "</div>"
      ],
      "text/plain": [
       "                mean           var           std\n",
       "             mb_used       mb_used       mb_used\n",
       "tariff                                          \n",
       "ultra   19450.643655  1.015661e+08  10077.999744"
      ]
     },
     "execution_count": 34,
     "metadata": {},
     "output_type": "execute_result"
    }
   ],
   "source": [
    "ultra.pivot_table(index=['tariff'], values=['mb_used'], aggfunc=['mean', 'var', 'std'])"
   ]
  },
  {
   "cell_type": "markdown",
   "metadata": {},
   "source": [
    "`Smart` users use 16.2 GB of traffic on average, while `Ultra` users use 19.5 GB. At the same time, the standard deviation in the `Smart` tariff is 5.9GB, and in the `Ultra`, it is 10.1 GB."
   ]
  },
  {
   "cell_type": "code",
   "execution_count": 35,
   "metadata": {
    "scrolled": false
   },
   "outputs": [
    {
     "data": {
      "image/png": "[encoded data removed]",
      "text/plain": [
       "<Figure size 864x432 with 2 Axes>"
      ]
     },
     "metadata": {
      "needs_background": "light"
     },
     "output_type": "display_data"
    }
   ],
   "source": [
    "f, axs = plt.subplots(1, 2, figsize=(12, 6))\n",
    "axs[0].hist(smart['mb_used'], bins=30)\n",
    "axs[0].set_title('Smart')\n",
    "axs[0].axvline(tariffs.loc[tariffs['tariff_name'] == 'smart', 'mb_per_month_included'].loc[0], color='r', linewidth=2)\n",
    "axs[0].grid()\n",
    "\n",
    "axs[1].hist(ultra['mb_used'], bins=30)\n",
    "axs[1].set_title('Ultra')\n",
    "axs[1].axvline(tariffs.loc[tariffs['tariff_name'] == 'ultra', 'mb_per_month_included'].loc[1], color='r', linewidth=2)\n",
    "axs[1].grid()\n",
    "\n",
    "plt.suptitle('The amount of used Internet traffic')\n",
    "plt.show()"
   ]
  },
  {
   "cell_type": "markdown",
   "metadata": {},
   "source": [
    "Histograms show a normal distribution. On the `Smart` tariff histogram, we can see that less than half of the users are within the 15GB limit. According to the histogram of the `Ultra` tariff, it becomes clear why users choose it. We can see that they use much more traffic than `Smart` users. At the same time, most users of the `Ultra` tariff fit into the 30GB limit. We can also be assume that `Ultra` tariff users use the Internet more actively."
   ]
  },
  {
   "cell_type": "code",
   "execution_count": 36,
   "metadata": {
    "scrolled": true
   },
   "outputs": [
    {
     "data": {
      "text/html": [
       "<div>\n",
       "<style scoped>\n",
       "    .dataframe tbody tr th:only-of-type {\n",
       "        vertical-align: middle;\n",
       "    }\n",
       "\n",
       "    .dataframe tbody tr th {\n",
       "        vertical-align: top;\n",
       "    }\n",
       "\n",
       "    .dataframe thead tr th {\n",
       "        text-align: left;\n",
       "    }\n",
       "\n",
       "    .dataframe thead tr:last-of-type th {\n",
       "        text-align: right;\n",
       "    }\n",
       "</style>\n",
       "<table border=\"1\" class=\"dataframe\">\n",
       "  <thead>\n",
       "    <tr>\n",
       "      <th></th>\n",
       "      <th colspan=\"3\" halign=\"left\">mean</th>\n",
       "      <th colspan=\"3\" halign=\"left\">var</th>\n",
       "      <th colspan=\"3\" halign=\"left\">std</th>\n",
       "    </tr>\n",
       "    <tr>\n",
       "      <th></th>\n",
       "      <th>mb_used</th>\n",
       "      <th>messages</th>\n",
       "      <th>minutes</th>\n",
       "      <th>mb_used</th>\n",
       "      <th>messages</th>\n",
       "      <th>minutes</th>\n",
       "      <th>mb_used</th>\n",
       "      <th>messages</th>\n",
       "      <th>minutes</th>\n",
       "    </tr>\n",
       "    <tr>\n",
       "      <th>tariff</th>\n",
       "      <th></th>\n",
       "      <th></th>\n",
       "      <th></th>\n",
       "      <th></th>\n",
       "      <th></th>\n",
       "      <th></th>\n",
       "      <th></th>\n",
       "      <th></th>\n",
       "      <th></th>\n",
       "    </tr>\n",
       "  </thead>\n",
       "  <tbody>\n",
       "    <tr>\n",
       "      <th>smart</th>\n",
       "      <td>16187.578735</td>\n",
       "      <td>33.384029</td>\n",
       "      <td>417.934948</td>\n",
       "      <td>3.437981e+07</td>\n",
       "      <td>796.812958</td>\n",
       "      <td>36219.315784</td>\n",
       "      <td>5863.430302</td>\n",
       "      <td>28.227876</td>\n",
       "      <td>190.313730</td>\n",
       "    </tr>\n",
       "    <tr>\n",
       "      <th>ultra</th>\n",
       "      <td>19450.643655</td>\n",
       "      <td>49.363452</td>\n",
       "      <td>526.623350</td>\n",
       "      <td>1.015661e+08</td>\n",
       "      <td>2285.266143</td>\n",
       "      <td>100873.633397</td>\n",
       "      <td>10077.999744</td>\n",
       "      <td>47.804457</td>\n",
       "      <td>317.606098</td>\n",
       "    </tr>\n",
       "  </tbody>\n",
       "</table>\n",
       "</div>"
      ],
      "text/plain": [
       "                mean                                  var               \\\n",
       "             mb_used   messages     minutes       mb_used     messages   \n",
       "tariff                                                                   \n",
       "smart   16187.578735  33.384029  417.934948  3.437981e+07   796.812958   \n",
       "ultra   19450.643655  49.363452  526.623350  1.015661e+08  2285.266143   \n",
       "\n",
       "                                std                         \n",
       "              minutes       mb_used   messages     minutes  \n",
       "tariff                                                      \n",
       "smart    36219.315784   5863.430302  28.227876  190.313730  \n",
       "ultra   100873.633397  10077.999744  47.804457  317.606098  "
      ]
     },
     "execution_count": 36,
     "metadata": {},
     "output_type": "execute_result"
    }
   ],
   "source": [
    "grouped_df.pivot_table(index=['tariff'], values=['minutes', 'messages', 'mb_used'], aggfunc=['mean', 'var', 'std'])"
   ]
  },
  {
   "cell_type": "markdown",
   "metadata": {},
   "source": [
    "### Comparison of revenue of Smart and Ultra tariffs"
   ]
  },
  {
   "cell_type": "markdown",
   "metadata": {},
   "source": [
    "Let's make a revenue distribution histogram, as well as a graph of revenue distribution by month. "
   ]
  },
  {
   "cell_type": "code",
   "execution_count": 37,
   "metadata": {},
   "outputs": [
    {
     "data": {
      "image/png": "[encoded data removed]",
      "text/plain": [
       "<Figure size 864x432 with 1 Axes>"
      ]
     },
     "metadata": {
      "needs_background": "light"
     },
     "output_type": "display_data"
    }
   ],
   "source": [
    "plt.figure(figsize=(12,6))\n",
    "plt.title('Revenue of Smart and Ultra')\n",
    "ax = sns.histplot(smart['revenue'], label='Smart')\n",
    "ax = sns.histplot(ultra['revenue'], label='Ultra', color='orange')\n",
    "ax.legend()\n",
    "ax.set(xlabel='Revenue in rub.')\n",
    "plt.show()"
   ]
  },
  {
   "cell_type": "code",
   "execution_count": 38,
   "metadata": {},
   "outputs": [
    {
     "data": {
      "image/png": "[encoded data removed]",
      "text/plain": [
       "<Figure size 864x432 with 2 Axes>"
      ]
     },
     "metadata": {
      "needs_background": "light"
     },
     "output_type": "display_data"
    }
   ],
   "source": [
    "f, axes = plt.subplots(1, 2, figsize=(12, 6))\n",
    "sns.barplot(ax=axes[0], x=\"month\", y=\"revenue\", data=smart)\n",
    "axes[0].set_title('Smart')\n",
    "axes[0].set(xlabel='Month')\n",
    "axes[0].set(ylabel='Revenue')\n",
    "\n",
    "sns.barplot(ax=axes[1], x=\"month\", y=\"revenue\", data=ultra)\n",
    "axes[1].set_title('Ultra')\n",
    "axes[1].set(xlabel='Month')\n",
    "axes[1].set(ylabel='Revenue')\n",
    "\n",
    "plt.suptitle('Revenue of Smart and Ultra by month')\n",
    "plt.show()"
   ]
  },
  {
   "cell_type": "markdown",
   "metadata": {},
   "source": [
    "The graphs show that although many users of the `Smart` tariff do not fit into the limits and pay for additional services, on average users of the `Ultra` tariff bring more money to the company."
   ]
  },
  {
   "cell_type": "markdown",
   "metadata": {},
   "source": [
    "### Conclusion"
   ]
  },
  {
   "cell_type": "markdown",
   "metadata": {},
   "source": [
    "`Smart` tariff users use slightly less minutes  and messages per month than `Ultra` tariff users. Unlike `Smart` users, none of the `Ultra` users reach the limits for calls and messages. At the same time, users of the `Ultra` tariff use the Internet much more actively. We can assume that users of the `Ultra` tariff choose it because of the greater amount of Internet traffic."
   ]
  },
  {
   "cell_type": "markdown",
   "metadata": {},
   "source": [
    "## Hypothesis Testing"
   ]
  },
  {
   "cell_type": "markdown",
   "metadata": {},
   "source": [
    "### Hypothesis 1"
   ]
  },
  {
   "cell_type": "markdown",
   "metadata": {},
   "source": [
    "Let's test the hypothesis that the average revenue from users of the Ultra and Smart tariffs are different. To test the hypothesis, we use T-test for the means of two independent samples.\n",
    "\n",
    "Let's formulate hypotheses:\n",
    "\n",
    "**H0**: revenue of users of Ultra and Smart tariffs does not differ  \n",
    "**H1**: revenue of users of Ultra and Smart tariffs differs\n",
    "\n",
    "We will set the alpha to 5%"
   ]
  },
  {
   "cell_type": "code",
   "execution_count": 39,
   "metadata": {},
   "outputs": [
    {
     "data": {
      "text/plain": [
       "smart    2229\n",
       "ultra     985\n",
       "Name: tariff, dtype: int64"
      ]
     },
     "execution_count": 39,
     "metadata": {},
     "output_type": "execute_result"
    }
   ],
   "source": [
    "grouped_df['tariff'].value_counts()"
   ]
  },
  {
   "cell_type": "code",
   "execution_count": 40,
   "metadata": {},
   "outputs": [
    {
     "data": {
      "text/plain": [
       "666410.6963391479"
      ]
     },
     "execution_count": 40,
     "metadata": {},
     "output_type": "execute_result"
    }
   ],
   "source": [
    "np.var(smart['revenue'])"
   ]
  },
  {
   "cell_type": "code",
   "execution_count": 41,
   "metadata": {},
   "outputs": [
    {
     "data": {
      "text/plain": [
       "140239.8928083661"
      ]
     },
     "execution_count": 41,
     "metadata": {},
     "output_type": "execute_result"
    }
   ],
   "source": [
    "np.var(ultra['revenue'])"
   ]
  },
  {
   "cell_type": "markdown",
   "metadata": {},
   "source": [
    "Since the samples are not equal in size and the variance is very different, we set the `equal_var` parameter to `False` when testing the hypothesis."
   ]
  },
  {
   "cell_type": "code",
   "execution_count": 42,
   "metadata": {
    "scrolled": true
   },
   "outputs": [
    {
     "name": "stdout",
     "output_type": "stream",
     "text": [
      "p-value: 8.40789217310225e-253\n",
      "Reject Null hypothesis\n",
      "\n",
      "Mean monthly revenue per user of `Smart` - 1286.56\n",
      "Mean monthly revenue per user of `Ultra` - 2069.54\n"
     ]
    }
   ],
   "source": [
    "alpha = .05\n",
    "\n",
    "results = st.ttest_ind(\n",
    "    smart['revenue'], \n",
    "    ultra['revenue'], equal_var=False)\n",
    "\n",
    "print('p-value:', results.pvalue)\n",
    "\n",
    "if (results.pvalue < alpha):\n",
    "    print(\"Reject Null hypothesis\\n\")\n",
    "else:\n",
    "    print(\"Do not reject Null hypothesis\\n\")\n",
    "    \n",
    "print('Mean monthly revenue per user of `Smart` -', round(smart['revenue'].mean(), 2))\n",
    "print('Mean monthly revenue per user of `Ultra` -', round(ultra['revenue'].mean(), 2))"
   ]
  },
  {
   "cell_type": "markdown",
   "metadata": {},
   "source": [
    "### Conclusion 1"
   ]
  },
  {
   "cell_type": "markdown",
   "metadata": {},
   "source": [
    "Thus, we reject the null hypothesis, since the probability of accidentally getting the difference between the average revenue of two tariffs is less than the chosen level of significance. Also, we can see that the average monthly revenue from `Ultra` tariff users is much higher than from `Smart` tariff users."
   ]
  },
  {
   "cell_type": "markdown",
   "metadata": {},
   "source": [
    "### Hypothesis 2"
   ]
  },
  {
   "cell_type": "markdown",
   "metadata": {},
   "source": [
    "Let's test the hypothesis that the average revenue from Moscow users differs from the revenue of users from other regions. To test the hypothesis, we use T-test for the means of two independent samples.\n",
    "\n",
    "Let's formulate hypotheses:\n",
    "\n",
    "**H0**: the average revenue of users from Moscow does not differ from the revenue of users from other regions  \n",
    "**H1**: the average revenue of users from Moscow differs from the revenue of users from other regions\n",
    "\n",
    "We will set the alpha to 5%"
   ]
  },
  {
   "cell_type": "code",
   "execution_count": 43,
   "metadata": {
    "scrolled": true
   },
   "outputs": [
    {
     "name": "stdout",
     "output_type": "stream",
     "text": [
      "p-value: 0.5357407978453328\n",
      "Do not reject Null hypothesis\n",
      "\n",
      "Mean monthly revenue per Moscow user 1544.5\n",
      "Mean monthly revenue per other region user 1522.3\n"
     ]
    }
   ],
   "source": [
    "moscow_grouped = grouped_df.loc[grouped_df['city'] == 'Москва']['revenue']\n",
    "regions_grouped = grouped_df.loc[grouped_df['city'] != 'Москва']['revenue']\n",
    "\n",
    "alpha = .05\n",
    "\n",
    "results = st.ttest_ind(\n",
    "    moscow_grouped, \n",
    "    regions_grouped)\n",
    "\n",
    "print('p-value:', results.pvalue)\n",
    "\n",
    "if (results.pvalue < alpha):\n",
    "    print(\"Reject Null hypothesis\\n\")\n",
    "else:\n",
    "    print(\"Do not reject Null hypothesis\\n\")\n",
    "    \n",
    "print('Mean monthly revenue per Moscow user', round(moscow_grouped.mean(), 2))\n",
    "print('Mean monthly revenue per other region user', round(regions_grouped.mean(), 2))"
   ]
  },
  {
   "cell_type": "markdown",
   "metadata": {},
   "source": [
    "### Conclusion 2"
   ]
  },
  {
   "cell_type": "markdown",
   "metadata": {},
   "source": [
    "Thus, we failed to reject the null hypothesis. Also, we can see that the revenue from Moscow users and users from other regions is almost the same."
   ]
  },
  {
   "cell_type": "markdown",
   "metadata": {},
   "source": [
    "## Conclusion"
   ]
  },
  {
   "cell_type": "markdown",
   "metadata": {},
   "source": [
    "During the project, we discovered errors and incorrect data types. We got rid of the `Unnamed: 0` column in the `internet` table which duplicated row indexes. We also rounded up the duration of calls in the `calls` table, as required by the operator's terms. We brought the columns with dates in the tables to the DateTime type, and also added columns with months. Changed the data type in the `id` and `duration` columns in the calls table, `id` in the messages table, and `id` `mb_used` in the internet table to an integer. After that, we grouped the data by `user_id` and `month`, and also carried out calculations of the number of calls and spent minutes, the number of messages, and the amount of Internet traffic used, as well as the monthly revenue from each user.\n",
    "\n",
    "During the analysis of the data, the following results were obtained:\n",
    "\n",
    "* `Smart` tariff users use slightly fewer minutes and messages per month than `Ultra` tariff users.\n",
    "* Unlike `Smart` users, none of the `Ultra` users reach the limits for calls and messages.\n",
    "* Users of the `Ultra` tariff use the Internet much more actively. We can assume that users of the `Ultra` tariff choose it because of the greater amount of Internet traffic.\n",
    "* `Ultra` tariff users pay more on average than `Smart` tariff users.\n",
    "\n",
    "Also during the project, we tested two hypotheses and found the following:\n",
    "\n",
    "1. The average revenue from users of the `Ultra` and `Smart` tariffs differ. The null hypothesis of revenue equality was rejected.\n",
    "\n",
    "2. The average revenue of users from Moscow and users from other regions is almost the same. The null hypothesis of revenue equality was confirmed.\n",
    "\n",
    "\n",
    "In the course of the project, comparing the revenue by tariffs, we concluded that the `Ultra` tariff brings more revenue. It is worth focusing on its promotion in Moscow and other regions."
   ]
  }
 ],
 "metadata": {
  "ExecuteTimeLog": [
   {
    "duration": 1475,
    "start_time": "2022-05-11T17:51:01.888Z"
   },
   {
    "duration": 401,
    "start_time": "2022-05-11T17:51:34.703Z"
   },
   {
    "duration": 28,
    "start_time": "2022-05-11T17:51:42.027Z"
   },
   {
    "duration": 35,
    "start_time": "2022-05-11T17:52:03.473Z"
   },
   {
    "duration": 14,
    "start_time": "2022-05-11T17:52:26.900Z"
   },
   {
    "duration": 13,
    "start_time": "2022-05-11T17:53:38.009Z"
   },
   {
    "duration": 13,
    "start_time": "2022-05-11T17:54:57.882Z"
   },
   {
    "duration": 10,
    "start_time": "2022-05-11T17:55:53.012Z"
   },
   {
    "duration": 301,
    "start_time": "2022-05-11T17:56:37.167Z"
   },
   {
    "duration": 9,
    "start_time": "2022-05-11T17:56:45.516Z"
   },
   {
    "duration": 9,
    "start_time": "2022-05-11T17:56:52.559Z"
   },
   {
    "duration": 8,
    "start_time": "2022-05-11T17:57:02.582Z"
   },
   {
    "duration": 11,
    "start_time": "2022-05-11T17:57:07.575Z"
   },
   {
    "duration": 11,
    "start_time": "2022-05-11T17:57:24.443Z"
   },
   {
    "duration": 15,
    "start_time": "2022-05-11T19:56:05.615Z"
   },
   {
    "duration": 24,
    "start_time": "2022-05-11T19:56:51.826Z"
   },
   {
    "duration": 81,
    "start_time": "2022-05-11T19:58:10.124Z"
   },
   {
    "duration": 79,
    "start_time": "2022-05-11T19:59:22.448Z"
   },
   {
    "duration": 96,
    "start_time": "2022-05-11T19:59:33.942Z"
   },
   {
    "duration": 77,
    "start_time": "2022-05-11T19:59:39.876Z"
   },
   {
    "duration": 1762,
    "start_time": "2022-05-13T11:16:41.925Z"
   },
   {
    "duration": 20,
    "start_time": "2022-05-13T11:16:45.720Z"
   },
   {
    "duration": 55,
    "start_time": "2022-05-13T11:18:27.459Z"
   },
   {
    "duration": 67,
    "start_time": "2022-05-13T11:18:48.443Z"
   },
   {
    "duration": 68,
    "start_time": "2022-05-13T11:19:14.338Z"
   },
   {
    "duration": 1652,
    "start_time": "2022-05-13T20:46:49.294Z"
   },
   {
    "duration": 65,
    "start_time": "2022-05-13T20:46:52.121Z"
   },
   {
    "duration": 430,
    "start_time": "2022-05-13T20:47:59.718Z"
   },
   {
    "duration": 299,
    "start_time": "2022-05-13T20:49:28.961Z"
   },
   {
    "duration": 716,
    "start_time": "2022-05-13T20:50:04.682Z"
   },
   {
    "duration": 209,
    "start_time": "2022-05-13T20:50:22.355Z"
   },
   {
    "duration": 47,
    "start_time": "2022-05-13T20:50:46.033Z"
   },
   {
    "duration": 47,
    "start_time": "2022-05-13T20:50:56.306Z"
   },
   {
    "duration": 14,
    "start_time": "2022-05-13T20:51:31.444Z"
   },
   {
    "duration": 9,
    "start_time": "2022-05-13T20:51:33.323Z"
   },
   {
    "duration": 13,
    "start_time": "2022-05-13T20:51:44.471Z"
   },
   {
    "duration": 21,
    "start_time": "2022-05-13T20:51:48.117Z"
   },
   {
    "duration": 16,
    "start_time": "2022-05-13T21:02:59.114Z"
   },
   {
    "duration": 13,
    "start_time": "2022-05-13T21:18:12.148Z"
   },
   {
    "duration": 11,
    "start_time": "2022-05-13T21:19:01.011Z"
   },
   {
    "duration": 10,
    "start_time": "2022-05-13T21:20:03.203Z"
   },
   {
    "duration": 2030,
    "start_time": "2022-05-13T21:20:12.422Z"
   },
   {
    "duration": 12,
    "start_time": "2022-05-13T21:20:28.534Z"
   },
   {
    "duration": 10,
    "start_time": "2022-05-13T21:20:37.187Z"
   },
   {
    "duration": 8,
    "start_time": "2022-05-13T21:22:30.669Z"
   },
   {
    "duration": 12,
    "start_time": "2022-05-13T21:22:38.045Z"
   },
   {
    "duration": 8,
    "start_time": "2022-05-13T21:23:00.932Z"
   },
   {
    "duration": 8,
    "start_time": "2022-05-13T21:23:07.272Z"
   },
   {
    "duration": 2372,
    "start_time": "2022-05-14T08:28:43.347Z"
   },
   {
    "duration": 91,
    "start_time": "2022-05-14T08:28:47.405Z"
   },
   {
    "duration": 18,
    "start_time": "2022-05-14T08:28:57.004Z"
   },
   {
    "duration": 11,
    "start_time": "2022-05-14T08:28:58.821Z"
   },
   {
    "duration": 12,
    "start_time": "2022-05-14T08:28:59.655Z"
   },
   {
    "duration": 104,
    "start_time": "2022-05-14T08:29:09.050Z"
   },
   {
    "duration": 15,
    "start_time": "2022-05-14T08:29:22.069Z"
   },
   {
    "duration": 106,
    "start_time": "2022-05-14T08:29:24.529Z"
   },
   {
    "duration": 15,
    "start_time": "2022-05-14T08:29:27.350Z"
   },
   {
    "duration": 251,
    "start_time": "2022-05-14T08:29:36.156Z"
   },
   {
    "duration": 75,
    "start_time": "2022-05-14T08:31:42.002Z"
   },
   {
    "duration": 66,
    "start_time": "2022-05-14T08:31:48.232Z"
   },
   {
    "duration": 17,
    "start_time": "2022-05-14T08:31:55.965Z"
   },
   {
    "duration": 47,
    "start_time": "2022-05-14T08:32:00.833Z"
   },
   {
    "duration": 30,
    "start_time": "2022-05-14T08:32:18.984Z"
   },
   {
    "duration": 19,
    "start_time": "2022-05-14T08:35:08.897Z"
   },
   {
    "duration": 11,
    "start_time": "2022-05-14T08:35:16.928Z"
   },
   {
    "duration": 67,
    "start_time": "2022-05-14T08:36:18.015Z"
   },
   {
    "duration": 13,
    "start_time": "2022-05-14T08:37:30.778Z"
   },
   {
    "duration": 9,
    "start_time": "2022-05-14T08:46:02.763Z"
   },
   {
    "duration": 15,
    "start_time": "2022-05-14T08:46:18.171Z"
   },
   {
    "duration": 5,
    "start_time": "2022-05-14T08:48:50.524Z"
   },
   {
    "duration": 13,
    "start_time": "2022-05-14T08:48:53.473Z"
   },
   {
    "duration": 5,
    "start_time": "2022-05-14T08:48:54.693Z"
   },
   {
    "duration": 5,
    "start_time": "2022-05-14T08:48:55.599Z"
   },
   {
    "duration": 13,
    "start_time": "2022-05-14T08:49:01.256Z"
   },
   {
    "duration": 44,
    "start_time": "2022-05-14T08:49:12.942Z"
   },
   {
    "duration": 11,
    "start_time": "2022-05-14T08:50:26.751Z"
   },
   {
    "duration": 40,
    "start_time": "2022-05-14T08:51:00.709Z"
   },
   {
    "duration": 12,
    "start_time": "2022-05-14T08:51:47.624Z"
   },
   {
    "duration": 42,
    "start_time": "2022-05-14T08:53:26.644Z"
   },
   {
    "duration": 28,
    "start_time": "2022-05-14T08:53:52.305Z"
   },
   {
    "duration": 17,
    "start_time": "2022-05-14T08:54:24.693Z"
   },
   {
    "duration": 784,
    "start_time": "2022-05-14T08:54:56.851Z"
   },
   {
    "duration": 799,
    "start_time": "2022-05-14T08:55:06.669Z"
   },
   {
    "duration": 5,
    "start_time": "2022-05-14T08:55:21.763Z"
   },
   {
    "duration": 18,
    "start_time": "2022-05-14T08:55:23.266Z"
   },
   {
    "duration": 17,
    "start_time": "2022-05-14T08:55:25.151Z"
   },
   {
    "duration": 6,
    "start_time": "2022-05-14T08:57:43.439Z"
   },
   {
    "duration": 18,
    "start_time": "2022-05-14T08:57:44.211Z"
   },
   {
    "duration": 5,
    "start_time": "2022-05-14T09:03:38.572Z"
   },
   {
    "duration": 19,
    "start_time": "2022-05-14T09:03:41.492Z"
   },
   {
    "duration": 5,
    "start_time": "2022-05-14T09:03:53.524Z"
   },
   {
    "duration": 21,
    "start_time": "2022-05-14T09:03:54.052Z"
   },
   {
    "duration": 4,
    "start_time": "2022-05-14T09:04:11.979Z"
   },
   {
    "duration": 21,
    "start_time": "2022-05-14T09:04:12.889Z"
   },
   {
    "duration": 7,
    "start_time": "2022-05-14T09:04:14.400Z"
   },
   {
    "duration": 23,
    "start_time": "2022-05-14T09:04:16.844Z"
   },
   {
    "duration": 4,
    "start_time": "2022-05-14T09:04:27.377Z"
   },
   {
    "duration": 5,
    "start_time": "2022-05-14T09:04:28.257Z"
   },
   {
    "duration": 30,
    "start_time": "2022-05-14T09:04:29.318Z"
   },
   {
    "duration": 6,
    "start_time": "2022-05-14T09:04:45.219Z"
   },
   {
    "duration": 21,
    "start_time": "2022-05-14T09:04:46.209Z"
   },
   {
    "duration": 5,
    "start_time": "2022-05-14T09:05:13.626Z"
   },
   {
    "duration": 21,
    "start_time": "2022-05-14T09:05:14.974Z"
   },
   {
    "duration": 11,
    "start_time": "2022-05-14T09:07:27.325Z"
   },
   {
    "duration": 19,
    "start_time": "2022-05-14T09:07:48.919Z"
   },
   {
    "duration": 24,
    "start_time": "2022-05-14T09:07:54.768Z"
   },
   {
    "duration": 3372,
    "start_time": "2022-05-14T09:10:56.867Z"
   },
   {
    "duration": 10,
    "start_time": "2022-05-14T09:11:19.431Z"
   },
   {
    "duration": 30,
    "start_time": "2022-05-14T09:11:23.003Z"
   },
   {
    "duration": 20,
    "start_time": "2022-05-14T09:12:16.115Z"
   },
   {
    "duration": 9,
    "start_time": "2022-05-14T09:12:28.499Z"
   },
   {
    "duration": 20,
    "start_time": "2022-05-14T09:12:29.418Z"
   },
   {
    "duration": 10,
    "start_time": "2022-05-14T09:13:58.735Z"
   },
   {
    "duration": 22,
    "start_time": "2022-05-14T09:13:59.335Z"
   },
   {
    "duration": 14,
    "start_time": "2022-05-14T09:14:50.999Z"
   },
   {
    "duration": 18,
    "start_time": "2022-05-14T09:14:52.181Z"
   },
   {
    "duration": 19,
    "start_time": "2022-05-14T09:15:51.602Z"
   },
   {
    "duration": 12,
    "start_time": "2022-05-14T09:15:59.590Z"
   },
   {
    "duration": 27,
    "start_time": "2022-05-14T09:16:00.525Z"
   },
   {
    "duration": 13,
    "start_time": "2022-05-14T09:16:42.514Z"
   },
   {
    "duration": 17,
    "start_time": "2022-05-14T09:17:29.849Z"
   },
   {
    "duration": 23,
    "start_time": "2022-05-14T09:17:30.571Z"
   },
   {
    "duration": 11,
    "start_time": "2022-05-14T09:17:46.571Z"
   },
   {
    "duration": 10,
    "start_time": "2022-05-14T09:18:01.521Z"
   },
   {
    "duration": 20,
    "start_time": "2022-05-14T09:18:02.787Z"
   },
   {
    "duration": 17,
    "start_time": "2022-05-14T09:18:19.869Z"
   },
   {
    "duration": 11,
    "start_time": "2022-05-14T09:18:33.071Z"
   },
   {
    "duration": 19,
    "start_time": "2022-05-14T09:18:33.815Z"
   },
   {
    "duration": 9,
    "start_time": "2022-05-14T09:18:42.220Z"
   },
   {
    "duration": 20,
    "start_time": "2022-05-14T09:18:42.772Z"
   },
   {
    "duration": 9,
    "start_time": "2022-05-14T09:18:53.943Z"
   },
   {
    "duration": 27,
    "start_time": "2022-05-14T09:18:55.332Z"
   },
   {
    "duration": 16,
    "start_time": "2022-05-14T09:19:44.552Z"
   },
   {
    "duration": 9,
    "start_time": "2022-05-14T09:19:58.828Z"
   },
   {
    "duration": 31,
    "start_time": "2022-05-14T09:19:59.328Z"
   },
   {
    "duration": 78,
    "start_time": "2022-05-14T09:20:14.538Z"
   },
   {
    "duration": 36,
    "start_time": "2022-05-14T09:20:15.964Z"
   },
   {
    "duration": 9,
    "start_time": "2022-05-14T09:20:55.354Z"
   },
   {
    "duration": 30,
    "start_time": "2022-05-14T09:20:56.557Z"
   },
   {
    "duration": 10,
    "start_time": "2022-05-14T09:21:41.037Z"
   },
   {
    "duration": 30,
    "start_time": "2022-05-14T09:21:42.815Z"
   },
   {
    "duration": 16,
    "start_time": "2022-05-14T09:22:26.205Z"
   },
   {
    "duration": 74,
    "start_time": "2022-05-14T09:22:43.093Z"
   },
   {
    "duration": 77,
    "start_time": "2022-05-14T09:22:49.368Z"
   },
   {
    "duration": 33,
    "start_time": "2022-05-14T09:22:50.788Z"
   },
   {
    "duration": 39,
    "start_time": "2022-05-14T09:23:56.943Z"
   },
   {
    "duration": 36,
    "start_time": "2022-05-14T09:23:57.319Z"
   },
   {
    "duration": 37,
    "start_time": "2022-05-14T09:25:22.813Z"
   },
   {
    "duration": 29,
    "start_time": "2022-05-14T09:25:27.097Z"
   },
   {
    "duration": 312,
    "start_time": "2022-05-14T09:25:43.173Z"
   },
   {
    "duration": 19,
    "start_time": "2022-05-14T09:26:04.474Z"
   },
   {
    "duration": 35,
    "start_time": "2022-05-14T09:26:40.581Z"
   },
   {
    "duration": 37,
    "start_time": "2022-05-14T09:26:55.324Z"
   },
   {
    "duration": 23,
    "start_time": "2022-05-14T09:26:56.467Z"
   },
   {
    "duration": 55,
    "start_time": "2022-05-14T09:26:57.797Z"
   },
   {
    "duration": 24,
    "start_time": "2022-05-14T09:26:59.429Z"
   },
   {
    "duration": 1778,
    "start_time": "2022-05-15T06:24:15.327Z"
   },
   {
    "duration": 67,
    "start_time": "2022-05-15T06:24:18.785Z"
   },
   {
    "duration": 94,
    "start_time": "2022-05-15T06:24:45.272Z"
   },
   {
    "duration": 111,
    "start_time": "2022-05-15T06:24:51.832Z"
   },
   {
    "duration": 111,
    "start_time": "2022-05-15T06:24:57.597Z"
   },
   {
    "duration": 72,
    "start_time": "2022-05-15T06:25:04.296Z"
   },
   {
    "duration": 7,
    "start_time": "2022-05-15T06:25:10.891Z"
   },
   {
    "duration": 70,
    "start_time": "2022-05-15T06:25:17.978Z"
   },
   {
    "duration": 50,
    "start_time": "2022-05-15T06:25:24.098Z"
   },
   {
    "duration": 52,
    "start_time": "2022-05-15T06:25:28.327Z"
   },
   {
    "duration": 4,
    "start_time": "2022-05-15T06:25:57.898Z"
   },
   {
    "duration": 8,
    "start_time": "2022-05-15T06:26:01.439Z"
   },
   {
    "duration": 4,
    "start_time": "2022-05-15T06:26:03.357Z"
   },
   {
    "duration": 4,
    "start_time": "2022-05-15T06:26:14.599Z"
   },
   {
    "duration": 4,
    "start_time": "2022-05-15T06:26:29.248Z"
   },
   {
    "duration": 4,
    "start_time": "2022-05-15T06:26:59.314Z"
   },
   {
    "duration": 4,
    "start_time": "2022-05-15T06:27:12.189Z"
   },
   {
    "duration": 38,
    "start_time": "2022-05-15T07:08:28.537Z"
   },
   {
    "duration": 16,
    "start_time": "2022-05-15T07:08:29.306Z"
   },
   {
    "duration": 118,
    "start_time": "2022-05-15T07:09:34.510Z"
   },
   {
    "duration": 32,
    "start_time": "2022-05-15T07:09:45.882Z"
   },
   {
    "duration": 17,
    "start_time": "2022-05-15T07:12:16.356Z"
   },
   {
    "duration": 6,
    "start_time": "2022-05-15T07:13:03.519Z"
   },
   {
    "duration": 14,
    "start_time": "2022-05-15T07:13:13.549Z"
   },
   {
    "duration": 71,
    "start_time": "2022-05-15T11:20:16.334Z"
   },
   {
    "duration": 46,
    "start_time": "2022-05-15T11:20:17.444Z"
   },
   {
    "duration": 28,
    "start_time": "2022-05-15T11:20:23.853Z"
   },
   {
    "duration": 25,
    "start_time": "2022-05-15T11:20:24.468Z"
   },
   {
    "duration": 22,
    "start_time": "2022-05-15T11:20:25.020Z"
   },
   {
    "duration": 11,
    "start_time": "2022-05-15T11:20:37.997Z"
   },
   {
    "duration": 10,
    "start_time": "2022-05-15T11:20:58.737Z"
   },
   {
    "duration": 8,
    "start_time": "2022-05-15T11:21:07.205Z"
   },
   {
    "duration": 9,
    "start_time": "2022-05-15T11:21:36.168Z"
   },
   {
    "duration": 24,
    "start_time": "2022-05-15T11:22:00.498Z"
   },
   {
    "duration": 3,
    "start_time": "2022-05-15T11:22:24.985Z"
   },
   {
    "duration": 11,
    "start_time": "2022-05-15T11:22:38.484Z"
   },
   {
    "duration": 24,
    "start_time": "2022-05-15T11:23:07.169Z"
   },
   {
    "duration": 21,
    "start_time": "2022-05-15T11:23:23.736Z"
   },
   {
    "duration": 12,
    "start_time": "2022-05-15T11:35:00.021Z"
   },
   {
    "duration": 10,
    "start_time": "2022-05-15T11:35:11.657Z"
   },
   {
    "duration": 20,
    "start_time": "2022-05-15T11:35:28.409Z"
   },
   {
    "duration": 109,
    "start_time": "2022-05-15T11:35:36.512Z"
   },
   {
    "duration": 10,
    "start_time": "2022-05-15T11:35:50.937Z"
   },
   {
    "duration": 17,
    "start_time": "2022-05-15T11:51:14.832Z"
   },
   {
    "duration": 21,
    "start_time": "2022-05-15T11:51:24.730Z"
   },
   {
    "duration": 23,
    "start_time": "2022-05-15T11:53:22.744Z"
   },
   {
    "duration": 11,
    "start_time": "2022-05-15T11:53:29.194Z"
   },
   {
    "duration": 14,
    "start_time": "2022-05-15T11:54:15.855Z"
   },
   {
    "duration": 13,
    "start_time": "2022-05-15T11:54:17.725Z"
   },
   {
    "duration": 19,
    "start_time": "2022-05-15T11:54:54.425Z"
   },
   {
    "duration": 13,
    "start_time": "2022-05-15T11:55:00.851Z"
   },
   {
    "duration": 7,
    "start_time": "2022-05-15T11:58:02.626Z"
   },
   {
    "duration": 14,
    "start_time": "2022-05-15T11:58:09.167Z"
   },
   {
    "duration": 13,
    "start_time": "2022-05-15T11:58:45.884Z"
   },
   {
    "duration": 13,
    "start_time": "2022-05-15T11:58:47.880Z"
   },
   {
    "duration": 14,
    "start_time": "2022-05-15T11:59:00.061Z"
   },
   {
    "duration": 15,
    "start_time": "2022-05-15T11:59:02.081Z"
   },
   {
    "duration": 8,
    "start_time": "2022-05-15T12:00:10.807Z"
   },
   {
    "duration": 5,
    "start_time": "2022-05-15T12:00:16.094Z"
   },
   {
    "duration": 6,
    "start_time": "2022-05-15T12:03:41.497Z"
   },
   {
    "duration": 23,
    "start_time": "2022-05-15T12:03:47.563Z"
   },
   {
    "duration": 9,
    "start_time": "2022-05-15T12:04:05.085Z"
   },
   {
    "duration": 6,
    "start_time": "2022-05-15T12:04:30.875Z"
   },
   {
    "duration": 18,
    "start_time": "2022-05-15T12:04:31.893Z"
   },
   {
    "duration": 30,
    "start_time": "2022-05-15T12:09:57.188Z"
   },
   {
    "duration": 3,
    "start_time": "2022-05-15T12:09:57.978Z"
   },
   {
    "duration": 30,
    "start_time": "2022-05-15T12:09:58.779Z"
   },
   {
    "duration": 21,
    "start_time": "2022-05-15T12:09:59.788Z"
   },
   {
    "duration": 32,
    "start_time": "2022-05-15T12:10:08.325Z"
   },
   {
    "duration": 16,
    "start_time": "2022-05-15T12:10:09.008Z"
   },
   {
    "duration": 7,
    "start_time": "2022-05-15T12:15:05.963Z"
   },
   {
    "duration": 17,
    "start_time": "2022-05-16T09:14:07.319Z"
   },
   {
    "duration": 2237,
    "start_time": "2022-05-16T09:14:13.017Z"
   },
   {
    "duration": 98,
    "start_time": "2022-05-16T09:14:16.957Z"
   },
   {
    "duration": 13,
    "start_time": "2022-05-16T09:14:21.542Z"
   },
   {
    "duration": 18,
    "start_time": "2022-05-16T09:14:22.408Z"
   },
   {
    "duration": 11,
    "start_time": "2022-05-16T09:14:30.229Z"
   },
   {
    "duration": 8,
    "start_time": "2022-05-16T09:14:32.334Z"
   },
   {
    "duration": 17,
    "start_time": "2022-05-16T09:14:33.082Z"
   },
   {
    "duration": 106,
    "start_time": "2022-05-16T09:14:38.237Z"
   },
   {
    "duration": 16,
    "start_time": "2022-05-16T09:14:44.961Z"
   },
   {
    "duration": 107,
    "start_time": "2022-05-16T09:14:53.177Z"
   },
   {
    "duration": 69,
    "start_time": "2022-05-16T09:14:54.638Z"
   },
   {
    "duration": 5,
    "start_time": "2022-05-16T09:14:59.248Z"
   },
   {
    "duration": 12,
    "start_time": "2022-05-16T09:15:02.506Z"
   },
   {
    "duration": 54,
    "start_time": "2022-05-16T09:15:04.853Z"
   },
   {
    "duration": 11,
    "start_time": "2022-05-16T09:15:06.339Z"
   },
   {
    "duration": 47,
    "start_time": "2022-05-16T09:15:07.650Z"
   },
   {
    "duration": 45,
    "start_time": "2022-05-16T09:15:11.475Z"
   },
   {
    "duration": 32,
    "start_time": "2022-05-16T09:15:13.103Z"
   },
   {
    "duration": 12,
    "start_time": "2022-05-16T09:15:15.276Z"
   },
   {
    "duration": 33,
    "start_time": "2022-05-16T09:15:24.859Z"
   },
   {
    "duration": 33,
    "start_time": "2022-05-16T09:15:26.315Z"
   },
   {
    "duration": 33,
    "start_time": "2022-05-16T09:15:27.113Z"
   },
   {
    "duration": 33,
    "start_time": "2022-05-16T09:15:28.186Z"
   },
   {
    "duration": 20,
    "start_time": "2022-05-16T09:15:29.402Z"
   },
   {
    "duration": 11,
    "start_time": "2022-05-16T09:15:43.398Z"
   },
   {
    "duration": 9,
    "start_time": "2022-05-16T09:15:45.849Z"
   },
   {
    "duration": 144,
    "start_time": "2022-05-16T09:15:48.190Z"
   },
   {
    "duration": 11,
    "start_time": "2022-05-16T09:15:58.643Z"
   },
   {
    "duration": 1627,
    "start_time": "2022-05-16T09:16:06.042Z"
   },
   {
    "duration": 10,
    "start_time": "2022-05-16T09:16:53.927Z"
   },
   {
    "duration": 1911,
    "start_time": "2022-05-16T09:16:56.188Z"
   },
   {
    "duration": 10,
    "start_time": "2022-05-16T09:17:42.903Z"
   },
   {
    "duration": 1778,
    "start_time": "2022-05-16T09:17:44.663Z"
   },
   {
    "duration": 22,
    "start_time": "2022-05-16T09:21:03.010Z"
   },
   {
    "duration": 33,
    "start_time": "2022-05-16T09:21:30.213Z"
   },
   {
    "duration": 18,
    "start_time": "2022-05-16T09:21:40.867Z"
   },
   {
    "duration": 1571,
    "start_time": "2022-05-16T09:22:05.222Z"
   },
   {
    "duration": 12,
    "start_time": "2022-05-16T09:22:15.786Z"
   },
   {
    "duration": 21,
    "start_time": "2022-05-16T09:22:22.491Z"
   },
   {
    "duration": 30,
    "start_time": "2022-05-16T09:23:18.634Z"
   },
   {
    "duration": 21,
    "start_time": "2022-05-16T09:23:19.881Z"
   },
   {
    "duration": 21,
    "start_time": "2022-05-16T09:23:22.813Z"
   },
   {
    "duration": 8,
    "start_time": "2022-05-16T09:23:46.744Z"
   },
   {
    "duration": 22,
    "start_time": "2022-05-16T09:23:47.574Z"
   },
   {
    "duration": 21,
    "start_time": "2022-05-16T09:24:10.254Z"
   },
   {
    "duration": 21,
    "start_time": "2022-05-16T09:24:18.184Z"
   },
   {
    "duration": 29,
    "start_time": "2022-05-16T09:24:19.752Z"
   },
   {
    "duration": 21,
    "start_time": "2022-05-16T09:24:20.430Z"
   },
   {
    "duration": 8,
    "start_time": "2022-05-16T09:24:23.232Z"
   },
   {
    "duration": 24,
    "start_time": "2022-05-16T09:24:24.761Z"
   },
   {
    "duration": 29,
    "start_time": "2022-05-16T09:25:11.810Z"
   },
   {
    "duration": 21,
    "start_time": "2022-05-16T09:25:12.213Z"
   },
   {
    "duration": 1813,
    "start_time": "2022-05-16T09:26:00.296Z"
   },
   {
    "duration": 23,
    "start_time": "2022-05-16T09:26:03.518Z"
   },
   {
    "duration": 18,
    "start_time": "2022-05-16T09:27:05.504Z"
   },
   {
    "duration": 23,
    "start_time": "2022-05-16T09:27:19.965Z"
   },
   {
    "duration": 9,
    "start_time": "2022-05-16T09:27:33.638Z"
   },
   {
    "duration": 535,
    "start_time": "2022-05-16T09:27:39.987Z"
   },
   {
    "duration": 24,
    "start_time": "2022-05-16T09:29:57.963Z"
   },
   {
    "duration": 7,
    "start_time": "2022-05-16T09:30:09.271Z"
   },
   {
    "duration": 4,
    "start_time": "2022-05-16T09:32:55.721Z"
   },
   {
    "duration": 7,
    "start_time": "2022-05-16T09:33:07.050Z"
   },
   {
    "duration": 2793,
    "start_time": "2022-05-22T17:49:20.961Z"
   },
   {
    "duration": 38,
    "start_time": "2022-05-22T17:49:28.062Z"
   },
   {
    "duration": 418,
    "start_time": "2022-05-22T17:49:33.904Z"
   },
   {
    "duration": 5,
    "start_time": "2022-05-22T17:50:46.207Z"
   },
   {
    "duration": 14,
    "start_time": "2022-05-22T17:50:48.291Z"
   },
   {
    "duration": 27,
    "start_time": "2022-05-22T17:51:42.646Z"
   },
   {
    "duration": 50,
    "start_time": "2022-05-22T17:51:52.511Z"
   },
   {
    "duration": 2842,
    "start_time": "2022-05-23T19:49:28.204Z"
   },
   {
    "duration": 107,
    "start_time": "2022-05-23T19:49:33.523Z"
   },
   {
    "duration": 11,
    "start_time": "2022-05-23T19:49:44.784Z"
   },
   {
    "duration": 8,
    "start_time": "2022-05-23T19:49:46.181Z"
   },
   {
    "duration": 9,
    "start_time": "2022-05-23T19:49:47.490Z"
   },
   {
    "duration": 10,
    "start_time": "2022-05-23T19:49:48.860Z"
   },
   {
    "duration": 5,
    "start_time": "2022-05-23T19:49:50.334Z"
   },
   {
    "duration": 8,
    "start_time": "2022-05-23T19:49:51.868Z"
   },
   {
    "duration": 13,
    "start_time": "2022-05-23T19:49:53.709Z"
   },
   {
    "duration": 73,
    "start_time": "2022-05-23T19:49:54.909Z"
   },
   {
    "duration": 49,
    "start_time": "2022-05-23T19:49:57.291Z"
   },
   {
    "duration": 50,
    "start_time": "2022-05-23T19:49:59.760Z"
   },
   {
    "duration": 69,
    "start_time": "2022-05-23T19:50:03.797Z"
   },
   {
    "duration": 23,
    "start_time": "2022-05-23T19:50:06.420Z"
   },
   {
    "duration": 26,
    "start_time": "2022-05-23T19:50:10.981Z"
   },
   {
    "duration": 17,
    "start_time": "2022-05-23T19:50:13.386Z"
   },
   {
    "duration": 13,
    "start_time": "2022-05-23T19:50:14.287Z"
   },
   {
    "duration": 15,
    "start_time": "2022-05-23T19:50:15.176Z"
   },
   {
    "duration": 11,
    "start_time": "2022-05-23T19:50:25.199Z"
   },
   {
    "duration": 6,
    "start_time": "2022-05-23T19:50:28.814Z"
   },
   {
    "duration": 3,
    "start_time": "2022-05-23T19:51:27.010Z"
   },
   {
    "duration": 7,
    "start_time": "2022-05-23T19:51:27.992Z"
   },
   {
    "duration": 18,
    "start_time": "2022-05-23T19:52:44.393Z"
   },
   {
    "duration": 8,
    "start_time": "2022-05-23T19:53:18.764Z"
   },
   {
    "duration": 7,
    "start_time": "2022-05-23T19:53:25.587Z"
   },
   {
    "duration": 230,
    "start_time": "2022-05-23T19:53:28.778Z"
   },
   {
    "duration": 6,
    "start_time": "2022-05-23T19:53:43.960Z"
   },
   {
    "duration": 25,
    "start_time": "2022-05-23T19:53:46.264Z"
   },
   {
    "duration": 31,
    "start_time": "2022-05-23T19:53:49.063Z"
   },
   {
    "duration": 601,
    "start_time": "2022-05-23T19:53:54.464Z"
   },
   {
    "duration": 21,
    "start_time": "2022-05-23T19:54:04.185Z"
   },
   {
    "duration": 23,
    "start_time": "2022-05-23T19:54:11.369Z"
   },
   {
    "duration": 363,
    "start_time": "2022-05-23T19:54:14.865Z"
   },
   {
    "duration": 21,
    "start_time": "2022-05-23T19:54:19.568Z"
   },
   {
    "duration": 21,
    "start_time": "2022-05-23T19:54:22.635Z"
   },
   {
    "duration": 405,
    "start_time": "2022-05-23T19:54:25.726Z"
   },
   {
    "duration": 27,
    "start_time": "2022-05-23T19:54:44.459Z"
   },
   {
    "duration": 5,
    "start_time": "2022-05-23T19:55:06.863Z"
   },
   {
    "duration": 5,
    "start_time": "2022-05-23T19:55:09.255Z"
   },
   {
    "duration": 5,
    "start_time": "2022-05-23T19:55:11.092Z"
   },
   {
    "duration": 7,
    "start_time": "2022-05-23T19:55:15.258Z"
   },
   {
    "duration": 8,
    "start_time": "2022-05-23T19:55:29.033Z"
   },
   {
    "duration": 106,
    "start_time": "2022-05-23T19:55:31.675Z"
   },
   {
    "duration": 7,
    "start_time": "2022-05-23T19:58:16.173Z"
   },
   {
    "duration": 460,
    "start_time": "2022-05-23T20:02:23.154Z"
   },
   {
    "duration": 21,
    "start_time": "2022-05-23T20:03:13.391Z"
   },
   {
    "duration": 13,
    "start_time": "2022-05-23T20:04:40.668Z"
   },
   {
    "duration": 16,
    "start_time": "2022-05-23T20:04:53.255Z"
   },
   {
    "duration": 10,
    "start_time": "2022-05-23T20:05:02.724Z"
   },
   {
    "duration": 19,
    "start_time": "2022-05-23T20:05:20.817Z"
   },
   {
    "duration": 7,
    "start_time": "2022-05-23T20:05:48.723Z"
   },
   {
    "duration": 9,
    "start_time": "2022-05-23T20:06:14.656Z"
   },
   {
    "duration": 129,
    "start_time": "2022-05-23T20:06:32.916Z"
   },
   {
    "duration": 159,
    "start_time": "2022-05-23T20:06:39.990Z"
   },
   {
    "duration": 129,
    "start_time": "2022-05-23T20:06:57.094Z"
   },
   {
    "duration": 157,
    "start_time": "2022-05-23T20:07:47.025Z"
   },
   {
    "duration": 13,
    "start_time": "2022-05-23T20:08:31.784Z"
   },
   {
    "duration": 17,
    "start_time": "2022-05-23T20:08:35.875Z"
   },
   {
    "duration": 13,
    "start_time": "2022-05-23T20:09:14.554Z"
   },
   {
    "duration": 15,
    "start_time": "2022-05-23T20:09:32.577Z"
   },
   {
    "duration": 14,
    "start_time": "2022-05-23T20:10:09.970Z"
   },
   {
    "duration": 567,
    "start_time": "2022-05-23T20:12:36.380Z"
   },
   {
    "duration": 92,
    "start_time": "2022-05-23T20:12:58.801Z"
   },
   {
    "duration": 722,
    "start_time": "2022-05-23T20:13:01.277Z"
   },
   {
    "duration": 7,
    "start_time": "2022-05-23T20:13:15.496Z"
   },
   {
    "duration": 423,
    "start_time": "2022-05-23T20:13:24.570Z"
   },
   {
    "duration": 123,
    "start_time": "2022-05-23T20:13:27.017Z"
   },
   {
    "duration": 9,
    "start_time": "2022-05-23T20:13:30.778Z"
   },
   {
    "duration": 6,
    "start_time": "2022-05-23T20:13:31.759Z"
   },
   {
    "duration": 11,
    "start_time": "2022-05-23T20:13:32.302Z"
   },
   {
    "duration": 11,
    "start_time": "2022-05-23T20:13:33.508Z"
   },
   {
    "duration": 10,
    "start_time": "2022-05-23T20:13:34.798Z"
   },
   {
    "duration": 10,
    "start_time": "2022-05-23T20:13:36.210Z"
   },
   {
    "duration": 63,
    "start_time": "2022-05-23T20:13:37.600Z"
   },
   {
    "duration": 47,
    "start_time": "2022-05-23T20:13:38.478Z"
   },
   {
    "duration": 61,
    "start_time": "2022-05-23T20:13:39.868Z"
   },
   {
    "duration": 61,
    "start_time": "2022-05-23T20:13:41.835Z"
   },
   {
    "duration": 29,
    "start_time": "2022-05-23T20:13:43.361Z"
   },
   {
    "duration": 26,
    "start_time": "2022-05-23T20:13:44.798Z"
   },
   {
    "duration": 20,
    "start_time": "2022-05-23T20:13:46.402Z"
   },
   {
    "duration": 15,
    "start_time": "2022-05-23T20:13:47.551Z"
   },
   {
    "duration": 24,
    "start_time": "2022-05-23T20:13:48.278Z"
   },
   {
    "duration": 13,
    "start_time": "2022-05-23T20:13:48.993Z"
   },
   {
    "duration": 7,
    "start_time": "2022-05-23T20:13:50.737Z"
   },
   {
    "duration": 4,
    "start_time": "2022-05-23T20:13:52.295Z"
   },
   {
    "duration": 6,
    "start_time": "2022-05-23T20:13:52.873Z"
   },
   {
    "duration": 8,
    "start_time": "2022-05-23T20:13:54.939Z"
   },
   {
    "duration": 8,
    "start_time": "2022-05-23T20:13:57.314Z"
   },
   {
    "duration": 269,
    "start_time": "2022-05-23T20:13:59.180Z"
   },
   {
    "duration": 8,
    "start_time": "2022-05-23T20:14:12.698Z"
   },
   {
    "duration": 29,
    "start_time": "2022-05-23T20:14:15.003Z"
   },
   {
    "duration": 28,
    "start_time": "2022-05-23T20:14:15.978Z"
   },
   {
    "duration": 452,
    "start_time": "2022-05-23T20:14:17.125Z"
   },
   {
    "duration": 26,
    "start_time": "2022-05-23T20:14:19.421Z"
   },
   {
    "duration": 26,
    "start_time": "2022-05-23T20:14:20.681Z"
   },
   {
    "duration": 366,
    "start_time": "2022-05-23T20:14:22.277Z"
   },
   {
    "duration": 24,
    "start_time": "2022-05-23T20:14:26.034Z"
   },
   {
    "duration": 25,
    "start_time": "2022-05-23T20:14:27.705Z"
   },
   {
    "duration": 444,
    "start_time": "2022-05-23T20:14:29.112Z"
   },
   {
    "duration": 42,
    "start_time": "2022-05-23T20:14:31.337Z"
   },
   {
    "duration": 5,
    "start_time": "2022-05-23T20:14:42.160Z"
   },
   {
    "duration": 4,
    "start_time": "2022-05-23T20:14:44.291Z"
   },
   {
    "duration": 5,
    "start_time": "2022-05-23T20:14:45.635Z"
   },
   {
    "duration": 5,
    "start_time": "2022-05-23T20:14:47.105Z"
   },
   {
    "duration": 8,
    "start_time": "2022-05-23T20:14:52.652Z"
   },
   {
    "duration": 11,
    "start_time": "2022-05-23T20:14:55.964Z"
   },
   {
    "duration": 23,
    "start_time": "2022-05-23T20:15:28.922Z"
   },
   {
    "duration": 27,
    "start_time": "2022-05-23T20:15:50.325Z"
   },
   {
    "duration": 6,
    "start_time": "2022-05-23T20:15:52.731Z"
   },
   {
    "duration": 26,
    "start_time": "2022-05-23T20:15:54.298Z"
   },
   {
    "duration": 22,
    "start_time": "2022-05-23T20:15:56.913Z"
   },
   {
    "duration": 5,
    "start_time": "2022-05-23T20:22:18.800Z"
   },
   {
    "duration": 10,
    "start_time": "2022-05-23T20:23:07.473Z"
   },
   {
    "duration": 367,
    "start_time": "2022-05-23T20:37:29.568Z"
   },
   {
    "duration": 408,
    "start_time": "2022-05-23T20:37:48.921Z"
   },
   {
    "duration": 19,
    "start_time": "2022-05-23T20:38:21.709Z"
   },
   {
    "duration": 6,
    "start_time": "2022-05-23T20:39:03.088Z"
   },
   {
    "duration": 10,
    "start_time": "2022-05-23T20:39:24.599Z"
   },
   {
    "duration": 15,
    "start_time": "2022-05-23T20:39:37.032Z"
   },
   {
    "duration": 4,
    "start_time": "2022-05-23T20:40:02.561Z"
   },
   {
    "duration": 4,
    "start_time": "2022-05-23T20:41:23.824Z"
   },
   {
    "duration": 5,
    "start_time": "2022-05-23T20:41:30.268Z"
   },
   {
    "duration": 5,
    "start_time": "2022-05-23T20:41:44.439Z"
   },
   {
    "duration": 5,
    "start_time": "2022-05-23T20:42:15.410Z"
   },
   {
    "duration": 7,
    "start_time": "2022-05-23T20:42:26.494Z"
   },
   {
    "duration": 15,
    "start_time": "2022-05-23T20:51:34.565Z"
   },
   {
    "duration": 9,
    "start_time": "2022-05-23T20:53:34.787Z"
   },
   {
    "duration": 428,
    "start_time": "2022-05-23T20:53:41.829Z"
   },
   {
    "duration": 12,
    "start_time": "2022-05-23T20:54:15.724Z"
   },
   {
    "duration": 16,
    "start_time": "2022-05-23T20:56:31.862Z"
   },
   {
    "duration": 8,
    "start_time": "2022-05-23T20:56:57.830Z"
   },
   {
    "duration": 14,
    "start_time": "2022-05-23T20:57:08.249Z"
   },
   {
    "duration": 411,
    "start_time": "2022-05-23T20:57:33.687Z"
   },
   {
    "duration": 12,
    "start_time": "2022-05-23T20:57:53.552Z"
   },
   {
    "duration": 10,
    "start_time": "2022-05-23T20:58:26.112Z"
   },
   {
    "duration": 9,
    "start_time": "2022-05-23T20:59:35.573Z"
   },
   {
    "duration": 2561,
    "start_time": "2022-05-24T09:51:20.559Z"
   },
   {
    "duration": 102,
    "start_time": "2022-05-24T09:51:23.122Z"
   },
   {
    "duration": 7,
    "start_time": "2022-05-24T09:51:23.226Z"
   },
   {
    "duration": 35,
    "start_time": "2022-05-24T09:51:23.234Z"
   },
   {
    "duration": 17,
    "start_time": "2022-05-24T09:51:23.271Z"
   },
   {
    "duration": 10,
    "start_time": "2022-05-24T09:51:23.289Z"
   },
   {
    "duration": 7,
    "start_time": "2022-05-24T09:51:23.300Z"
   },
   {
    "duration": 7,
    "start_time": "2022-05-24T09:51:23.309Z"
   },
   {
    "duration": 17,
    "start_time": "2022-05-24T09:51:23.317Z"
   },
   {
    "duration": 79,
    "start_time": "2022-05-24T09:51:23.360Z"
   },
   {
    "duration": 62,
    "start_time": "2022-05-24T09:51:23.440Z"
   },
   {
    "duration": 66,
    "start_time": "2022-05-24T09:51:23.503Z"
   },
   {
    "duration": 60,
    "start_time": "2022-05-24T09:51:23.571Z"
   },
   {
    "duration": 38,
    "start_time": "2022-05-24T09:51:23.635Z"
   },
   {
    "duration": 28,
    "start_time": "2022-05-24T09:51:23.675Z"
   },
   {
    "duration": 15,
    "start_time": "2022-05-24T09:51:23.704Z"
   },
   {
    "duration": 11,
    "start_time": "2022-05-24T09:51:23.721Z"
   },
   {
    "duration": 47,
    "start_time": "2022-05-24T09:51:23.734Z"
   },
   {
    "duration": 12,
    "start_time": "2022-05-24T09:51:23.784Z"
   },
   {
    "duration": 5,
    "start_time": "2022-05-24T09:51:23.797Z"
   },
   {
    "duration": 4,
    "start_time": "2022-05-24T09:51:23.803Z"
   },
   {
    "duration": 8,
    "start_time": "2022-05-24T09:51:23.808Z"
   },
   {
    "duration": 9,
    "start_time": "2022-05-24T09:51:23.817Z"
   },
   {
    "duration": 39,
    "start_time": "2022-05-24T09:51:23.828Z"
   },
   {
    "duration": 241,
    "start_time": "2022-05-24T09:51:23.871Z"
   },
   {
    "duration": 6,
    "start_time": "2022-05-24T09:51:24.113Z"
   },
   {
    "duration": 22,
    "start_time": "2022-05-24T09:51:24.120Z"
   },
   {
    "duration": 31,
    "start_time": "2022-05-24T09:51:24.145Z"
   },
   {
    "duration": 554,
    "start_time": "2022-05-24T09:51:24.178Z"
   },
   {
    "duration": 39,
    "start_time": "2022-05-24T09:51:24.734Z"
   },
   {
    "duration": 29,
    "start_time": "2022-05-24T09:51:24.774Z"
   },
   {
    "duration": 456,
    "start_time": "2022-05-24T09:51:24.805Z"
   },
   {
    "duration": 30,
    "start_time": "2022-05-24T09:51:25.265Z"
   },
   {
    "duration": 22,
    "start_time": "2022-05-24T09:51:25.296Z"
   },
   {
    "duration": 508,
    "start_time": "2022-05-24T09:51:25.320Z"
   },
   {
    "duration": 49,
    "start_time": "2022-05-24T09:51:25.829Z"
   },
   {
    "duration": 17,
    "start_time": "2022-05-24T09:51:25.880Z"
   },
   {
    "duration": 9,
    "start_time": "2022-05-24T09:51:25.898Z"
   },
   {
    "duration": 10,
    "start_time": "2022-05-24T09:51:25.908Z"
   },
   {
    "duration": 6,
    "start_time": "2022-05-24T09:51:25.920Z"
   },
   {
    "duration": 10,
    "start_time": "2022-05-24T09:51:25.927Z"
   },
   {
    "duration": 14,
    "start_time": "2022-05-24T09:51:50.007Z"
   },
   {
    "duration": 305,
    "start_time": "2022-05-24T11:44:22.445Z"
   },
   {
    "duration": 215,
    "start_time": "2022-05-24T11:44:36.223Z"
   },
   {
    "duration": 384,
    "start_time": "2022-05-24T11:45:52.744Z"
   },
   {
    "duration": 477,
    "start_time": "2022-05-24T11:46:00.516Z"
   },
   {
    "duration": 393,
    "start_time": "2022-05-24T11:46:05.178Z"
   },
   {
    "duration": 266,
    "start_time": "2022-05-24T11:46:28.042Z"
   },
   {
    "duration": 329,
    "start_time": "2022-05-24T11:47:05.191Z"
   },
   {
    "duration": 215,
    "start_time": "2022-05-24T11:47:13.399Z"
   },
   {
    "duration": 243,
    "start_time": "2022-05-24T11:47:25.254Z"
   },
   {
    "duration": 328,
    "start_time": "2022-05-24T11:47:42.342Z"
   },
   {
    "duration": 258,
    "start_time": "2022-05-24T11:47:51.348Z"
   },
   {
    "duration": 289,
    "start_time": "2022-05-24T11:53:35.544Z"
   },
   {
    "duration": 246,
    "start_time": "2022-05-24T11:53:53.650Z"
   },
   {
    "duration": 244,
    "start_time": "2022-05-24T11:54:02.265Z"
   },
   {
    "duration": 191,
    "start_time": "2022-05-24T11:56:38.093Z"
   },
   {
    "duration": 179,
    "start_time": "2022-05-24T11:57:06.774Z"
   },
   {
    "duration": 274,
    "start_time": "2022-05-24T11:57:25.674Z"
   },
   {
    "duration": 200,
    "start_time": "2022-05-24T11:58:30.052Z"
   },
   {
    "duration": 234,
    "start_time": "2022-05-24T11:58:52.550Z"
   },
   {
    "duration": 220,
    "start_time": "2022-05-24T12:00:14.280Z"
   },
   {
    "duration": 197,
    "start_time": "2022-05-24T12:00:24.940Z"
   },
   {
    "duration": 224,
    "start_time": "2022-05-24T12:00:45.556Z"
   },
   {
    "duration": 243,
    "start_time": "2022-05-24T12:01:12.483Z"
   },
   {
    "duration": 6,
    "start_time": "2022-05-24T12:03:14.463Z"
   },
   {
    "duration": 5,
    "start_time": "2022-05-24T12:03:23.752Z"
   },
   {
    "duration": 7,
    "start_time": "2022-05-24T12:03:29.428Z"
   },
   {
    "duration": 126,
    "start_time": "2022-05-24T12:03:37.280Z"
   },
   {
    "duration": 130,
    "start_time": "2022-05-24T12:04:35.520Z"
   },
   {
    "duration": 56,
    "start_time": "2022-05-24T16:41:43.563Z"
   },
   {
    "duration": 2644,
    "start_time": "2022-05-24T16:41:50.656Z"
   },
   {
    "duration": 113,
    "start_time": "2022-05-24T16:41:56.650Z"
   },
   {
    "duration": 19,
    "start_time": "2022-05-24T16:42:01.011Z"
   },
   {
    "duration": 9,
    "start_time": "2022-05-24T16:42:04.595Z"
   },
   {
    "duration": 9,
    "start_time": "2022-05-24T16:42:05.056Z"
   },
   {
    "duration": 14,
    "start_time": "2022-05-24T16:42:06.549Z"
   },
   {
    "duration": 6,
    "start_time": "2022-05-24T16:42:07.871Z"
   },
   {
    "duration": 13,
    "start_time": "2022-05-24T16:42:09.507Z"
   },
   {
    "duration": 10,
    "start_time": "2022-05-24T16:42:11.066Z"
   },
   {
    "duration": 97,
    "start_time": "2022-05-24T16:42:15.502Z"
   },
   {
    "duration": 66,
    "start_time": "2022-05-24T16:42:16.793Z"
   },
   {
    "duration": 69,
    "start_time": "2022-05-24T16:42:18.339Z"
   },
   {
    "duration": 269,
    "start_time": "2022-05-24T16:42:21.643Z"
   },
   {
    "duration": 40,
    "start_time": "2022-05-24T16:42:25.121Z"
   },
   {
    "duration": 33,
    "start_time": "2022-05-24T16:42:27.447Z"
   },
   {
    "duration": 24,
    "start_time": "2022-05-24T16:42:29.711Z"
   },
   {
    "duration": 14,
    "start_time": "2022-05-24T16:42:30.595Z"
   },
   {
    "duration": 18,
    "start_time": "2022-05-24T16:42:31.351Z"
   },
   {
    "duration": 18,
    "start_time": "2022-05-24T16:42:31.953Z"
   },
   {
    "duration": 12,
    "start_time": "2022-05-24T16:42:33.625Z"
   },
   {
    "duration": 3,
    "start_time": "2022-05-24T16:42:35.111Z"
   },
   {
    "duration": 9,
    "start_time": "2022-05-24T16:42:35.519Z"
   },
   {
    "duration": 10,
    "start_time": "2022-05-24T16:42:36.995Z"
   },
   {
    "duration": 7,
    "start_time": "2022-05-24T16:42:38.606Z"
   },
   {
    "duration": 295,
    "start_time": "2022-05-24T16:42:43.217Z"
   },
   {
    "duration": 12,
    "start_time": "2022-05-24T16:42:55.020Z"
   },
   {
    "duration": 29,
    "start_time": "2022-05-24T16:42:56.256Z"
   },
   {
    "duration": 33,
    "start_time": "2022-05-24T16:42:58.386Z"
   },
   {
    "duration": 333,
    "start_time": "2022-05-24T16:43:49.171Z"
   },
   {
    "duration": 100,
    "start_time": "2022-05-24T16:44:12.900Z"
   },
   {
    "duration": 204,
    "start_time": "2022-05-24T16:44:19.253Z"
   },
   {
    "duration": 182,
    "start_time": "2022-05-24T16:44:36.680Z"
   },
   {
    "duration": 282,
    "start_time": "2022-05-24T16:48:33.455Z"
   },
   {
    "duration": 141,
    "start_time": "2022-05-24T16:48:55.795Z"
   },
   {
    "duration": 882,
    "start_time": "2022-05-24T16:52:13.100Z"
   },
   {
    "duration": 172,
    "start_time": "2022-05-24T16:52:31.966Z"
   },
   {
    "duration": 139,
    "start_time": "2022-05-24T16:52:42.921Z"
   },
   {
    "duration": 234,
    "start_time": "2022-05-24T16:52:51.125Z"
   },
   {
    "duration": 382,
    "start_time": "2022-05-24T16:53:09.548Z"
   },
   {
    "duration": 235,
    "start_time": "2022-05-24T16:53:33.214Z"
   },
   {
    "duration": 232,
    "start_time": "2022-05-24T16:53:50.137Z"
   },
   {
    "duration": 200,
    "start_time": "2022-05-24T16:55:03.813Z"
   },
   {
    "duration": 13,
    "start_time": "2022-05-24T16:59:07.060Z"
   },
   {
    "duration": 15,
    "start_time": "2022-05-24T16:59:17.262Z"
   },
   {
    "duration": 13964,
    "start_time": "2022-05-24T16:59:27.171Z"
   },
   {
    "duration": 12,
    "start_time": "2022-05-24T16:59:55.472Z"
   },
   {
    "duration": 36,
    "start_time": "2022-05-24T17:00:05.349Z"
   },
   {
    "duration": 18405,
    "start_time": "2022-05-24T17:00:18.147Z"
   },
   {
    "duration": 18200,
    "start_time": "2022-05-24T17:00:52.512Z"
   },
   {
    "duration": 14991,
    "start_time": "2022-05-24T17:04:39.057Z"
   },
   {
    "duration": 388,
    "start_time": "2022-05-24T17:05:06.354Z"
   },
   {
    "duration": 18,
    "start_time": "2022-05-24T17:08:12.442Z"
   },
   {
    "duration": 401,
    "start_time": "2022-05-24T17:08:23.271Z"
   },
   {
    "duration": 289,
    "start_time": "2022-05-24T17:08:35.339Z"
   },
   {
    "duration": 356,
    "start_time": "2022-05-24T17:09:02.532Z"
   },
   {
    "duration": 382,
    "start_time": "2022-05-24T17:09:55.940Z"
   },
   {
    "duration": 334,
    "start_time": "2022-05-24T18:56:03.269Z"
   },
   {
    "duration": 284,
    "start_time": "2022-05-24T18:56:12.774Z"
   },
   {
    "duration": 33,
    "start_time": "2022-05-24T18:57:23.860Z"
   },
   {
    "duration": 272,
    "start_time": "2022-05-24T18:57:42.374Z"
   },
   {
    "duration": 304,
    "start_time": "2022-05-24T18:58:07.686Z"
   },
   {
    "duration": 275,
    "start_time": "2022-05-24T18:58:17.756Z"
   },
   {
    "duration": 17,
    "start_time": "2022-05-24T18:58:52.050Z"
   },
   {
    "duration": 250,
    "start_time": "2022-05-24T18:59:50.889Z"
   },
   {
    "duration": 253,
    "start_time": "2022-05-24T18:59:55.681Z"
   },
   {
    "duration": 13,
    "start_time": "2022-05-24T19:03:30.574Z"
   },
   {
    "duration": 132,
    "start_time": "2022-05-24T19:04:49.507Z"
   },
   {
    "duration": 25149,
    "start_time": "2022-05-24T19:05:09.886Z"
   },
   {
    "duration": 29155,
    "start_time": "2022-05-24T19:07:19.095Z"
   },
   {
    "duration": 245,
    "start_time": "2022-05-24T19:10:07.486Z"
   },
   {
    "duration": 9,
    "start_time": "2022-05-24T19:10:35.660Z"
   },
   {
    "duration": 9,
    "start_time": "2022-05-24T19:11:10.602Z"
   },
   {
    "duration": 7,
    "start_time": "2022-05-24T19:12:07.361Z"
   },
   {
    "duration": 8,
    "start_time": "2022-05-24T19:12:24.138Z"
   },
   {
    "duration": 155,
    "start_time": "2022-05-24T19:12:41.480Z"
   },
   {
    "duration": 6,
    "start_time": "2022-05-24T19:12:49.716Z"
   },
   {
    "duration": 7,
    "start_time": "2022-05-24T19:12:56.602Z"
   },
   {
    "duration": 11,
    "start_time": "2022-05-24T19:13:02.543Z"
   },
   {
    "duration": 240,
    "start_time": "2022-05-24T19:14:38.262Z"
   },
   {
    "duration": 240,
    "start_time": "2022-05-24T19:14:47.441Z"
   },
   {
    "duration": 338,
    "start_time": "2022-05-24T19:21:06.338Z"
   },
   {
    "duration": 259,
    "start_time": "2022-05-24T19:23:12.388Z"
   },
   {
    "duration": 257,
    "start_time": "2022-05-24T19:23:29.150Z"
   },
   {
    "duration": 4,
    "start_time": "2022-05-24T19:28:38.660Z"
   },
   {
    "duration": 244,
    "start_time": "2022-05-24T19:28:43.171Z"
   },
   {
    "duration": 211,
    "start_time": "2022-05-24T19:29:00.178Z"
   },
   {
    "duration": 216,
    "start_time": "2022-05-24T19:29:06.015Z"
   },
   {
    "duration": 256,
    "start_time": "2022-05-24T19:29:12.767Z"
   },
   {
    "duration": 224,
    "start_time": "2022-05-24T19:29:20.016Z"
   },
   {
    "duration": 294,
    "start_time": "2022-05-24T19:29:29.460Z"
   },
   {
    "duration": 294,
    "start_time": "2022-05-24T19:29:42.532Z"
   },
   {
    "duration": 237,
    "start_time": "2022-05-24T19:29:55.337Z"
   },
   {
    "duration": 270,
    "start_time": "2022-05-24T19:30:58.078Z"
   },
   {
    "duration": 305,
    "start_time": "2022-05-24T19:31:15.947Z"
   },
   {
    "duration": 416,
    "start_time": "2022-05-24T19:31:42.606Z"
   },
   {
    "duration": 397,
    "start_time": "2022-05-24T19:32:25.808Z"
   },
   {
    "duration": 76,
    "start_time": "2022-05-24T19:32:57.851Z"
   },
   {
    "duration": 392,
    "start_time": "2022-05-24T19:33:06.565Z"
   },
   {
    "duration": 384,
    "start_time": "2022-05-24T19:33:56.174Z"
   },
   {
    "duration": 385,
    "start_time": "2022-05-24T19:34:08.995Z"
   },
   {
    "duration": 365,
    "start_time": "2022-05-24T19:36:23.410Z"
   },
   {
    "duration": 355,
    "start_time": "2022-05-24T19:36:50.670Z"
   },
   {
    "duration": 393,
    "start_time": "2022-05-24T19:37:28.108Z"
   },
   {
    "duration": 246,
    "start_time": "2022-05-24T19:37:43.775Z"
   },
   {
    "duration": 277,
    "start_time": "2022-05-24T19:37:50.743Z"
   },
   {
    "duration": 237,
    "start_time": "2022-05-24T19:38:25.903Z"
   },
   {
    "duration": 755,
    "start_time": "2022-05-24T19:50:23.313Z"
   },
   {
    "duration": 760,
    "start_time": "2022-05-24T19:50:57.927Z"
   },
   {
    "duration": 695,
    "start_time": "2022-05-24T19:51:59.118Z"
   },
   {
    "duration": 736,
    "start_time": "2022-05-24T19:52:13.867Z"
   },
   {
    "duration": 484,
    "start_time": "2022-05-24T19:53:17.833Z"
   },
   {
    "duration": 390,
    "start_time": "2022-05-24T19:53:38.348Z"
   },
   {
    "duration": 4,
    "start_time": "2022-05-24T19:53:50.892Z"
   },
   {
    "duration": 698,
    "start_time": "2022-05-24T19:53:54.655Z"
   },
   {
    "duration": 785,
    "start_time": "2022-05-24T19:56:08.691Z"
   },
   {
    "duration": 746,
    "start_time": "2022-05-24T19:56:48.004Z"
   },
   {
    "duration": 776,
    "start_time": "2022-05-24T19:57:10.775Z"
   },
   {
    "duration": 716,
    "start_time": "2022-05-24T19:57:26.111Z"
   },
   {
    "duration": 764,
    "start_time": "2022-05-24T19:58:05.478Z"
   },
   {
    "duration": 3398,
    "start_time": "2022-05-24T20:03:02.232Z"
   },
   {
    "duration": 10,
    "start_time": "2022-05-24T20:03:17.043Z"
   },
   {
    "duration": 3359,
    "start_time": "2022-05-24T20:03:22.284Z"
   },
   {
    "duration": 2569,
    "start_time": "2022-05-24T20:03:40.039Z"
   },
   {
    "duration": 7,
    "start_time": "2022-05-24T20:04:30.708Z"
   },
   {
    "duration": 10,
    "start_time": "2022-05-24T20:04:55.493Z"
   },
   {
    "duration": 9,
    "start_time": "2022-05-24T20:05:27.768Z"
   },
   {
    "duration": 5,
    "start_time": "2022-05-24T20:05:29.912Z"
   },
   {
    "duration": 119,
    "start_time": "2022-05-24T20:05:30.731Z"
   },
   {
    "duration": 5,
    "start_time": "2022-05-24T20:06:15.821Z"
   },
   {
    "duration": 117,
    "start_time": "2022-05-24T20:06:24.215Z"
   },
   {
    "duration": 1208,
    "start_time": "2022-05-24T20:07:28.305Z"
   },
   {
    "duration": 165,
    "start_time": "2022-05-24T20:08:02.835Z"
   },
   {
    "duration": 2132,
    "start_time": "2022-05-24T20:42:13.100Z"
   },
   {
    "duration": 108,
    "start_time": "2022-05-24T20:42:15.234Z"
   },
   {
    "duration": 8,
    "start_time": "2022-05-24T20:42:15.344Z"
   },
   {
    "duration": 21,
    "start_time": "2022-05-24T20:42:15.354Z"
   },
   {
    "duration": 22,
    "start_time": "2022-05-24T20:42:15.377Z"
   },
   {
    "duration": 16,
    "start_time": "2022-05-24T20:42:15.401Z"
   },
   {
    "duration": 20,
    "start_time": "2022-05-24T20:42:15.418Z"
   },
   {
    "duration": 12,
    "start_time": "2022-05-24T20:42:15.440Z"
   },
   {
    "duration": 14,
    "start_time": "2022-05-24T20:42:15.454Z"
   },
   {
    "duration": 96,
    "start_time": "2022-05-24T20:42:15.471Z"
   },
   {
    "duration": 55,
    "start_time": "2022-05-24T20:42:15.569Z"
   },
   {
    "duration": 55,
    "start_time": "2022-05-24T20:42:15.626Z"
   },
   {
    "duration": 83,
    "start_time": "2022-05-24T20:42:15.683Z"
   },
   {
    "duration": 22,
    "start_time": "2022-05-24T20:42:15.767Z"
   },
   {
    "duration": 40,
    "start_time": "2022-05-24T20:42:15.791Z"
   },
   {
    "duration": 21,
    "start_time": "2022-05-24T20:42:15.833Z"
   },
   {
    "duration": 13,
    "start_time": "2022-05-24T20:42:15.855Z"
   },
   {
    "duration": 16,
    "start_time": "2022-05-24T20:42:15.870Z"
   },
   {
    "duration": 39,
    "start_time": "2022-05-24T20:42:15.887Z"
   },
   {
    "duration": 6,
    "start_time": "2022-05-24T20:42:15.927Z"
   },
   {
    "duration": 20,
    "start_time": "2022-05-24T20:42:15.936Z"
   },
   {
    "duration": 12,
    "start_time": "2022-05-24T20:42:15.958Z"
   },
   {
    "duration": 14,
    "start_time": "2022-05-24T20:42:15.973Z"
   },
   {
    "duration": 9,
    "start_time": "2022-05-24T20:42:15.990Z"
   },
   {
    "duration": 279,
    "start_time": "2022-05-24T20:42:16.001Z"
   },
   {
    "duration": 6,
    "start_time": "2022-05-24T20:42:16.282Z"
   },
   {
    "duration": 38,
    "start_time": "2022-05-24T20:42:16.290Z"
   },
   {
    "duration": 24,
    "start_time": "2022-05-24T20:42:16.332Z"
   },
   {
    "duration": 560,
    "start_time": "2022-05-24T20:42:16.358Z"
   },
   {
    "duration": 27,
    "start_time": "2022-05-24T20:42:16.920Z"
   },
   {
    "duration": 27,
    "start_time": "2022-05-24T20:42:16.949Z"
   },
   {
    "duration": 445,
    "start_time": "2022-05-24T20:42:16.978Z"
   },
   {
    "duration": 26,
    "start_time": "2022-05-24T20:42:17.425Z"
   },
   {
    "duration": 26,
    "start_time": "2022-05-24T20:42:17.453Z"
   },
   {
    "duration": 464,
    "start_time": "2022-05-24T20:42:17.481Z"
   },
   {
    "duration": 36,
    "start_time": "2022-05-24T20:42:17.947Z"
   },
   {
    "duration": 275,
    "start_time": "2022-05-24T20:42:17.984Z"
   },
   {
    "duration": 739,
    "start_time": "2022-05-24T20:42:18.260Z"
   },
   {
    "duration": 7,
    "start_time": "2022-05-24T20:42:19.001Z"
   },
   {
    "duration": 14,
    "start_time": "2022-05-24T20:42:19.011Z"
   },
   {
    "duration": 7,
    "start_time": "2022-05-24T20:42:19.027Z"
   },
   {
    "duration": 7,
    "start_time": "2022-05-24T20:42:19.035Z"
   },
   {
    "duration": 10,
    "start_time": "2022-05-24T20:42:19.043Z"
   },
   {
    "duration": 5,
    "start_time": "2022-05-24T20:46:20.220Z"
   },
   {
    "duration": 5,
    "start_time": "2022-05-24T20:46:26.745Z"
   },
   {
    "duration": 9,
    "start_time": "2022-05-24T21:12:28.362Z"
   },
   {
    "duration": 9,
    "start_time": "2022-05-24T21:12:36.973Z"
   },
   {
    "duration": 9,
    "start_time": "2022-05-24T21:12:58.549Z"
   },
   {
    "duration": 9,
    "start_time": "2022-05-24T21:13:09.069Z"
   },
   {
    "duration": 7,
    "start_time": "2022-05-24T21:13:10.219Z"
   },
   {
    "duration": 59,
    "start_time": "2022-05-26T17:57:34.996Z"
   },
   {
    "duration": 2581,
    "start_time": "2022-05-26T17:57:40.561Z"
   },
   {
    "duration": 119,
    "start_time": "2022-05-26T17:57:43.144Z"
   },
   {
    "duration": 9,
    "start_time": "2022-05-26T17:57:43.265Z"
   },
   {
    "duration": 23,
    "start_time": "2022-05-26T17:57:43.275Z"
   },
   {
    "duration": 23,
    "start_time": "2022-05-26T17:57:43.300Z"
   },
   {
    "duration": 14,
    "start_time": "2022-05-26T17:57:43.324Z"
   },
   {
    "duration": 6,
    "start_time": "2022-05-26T17:57:43.340Z"
   },
   {
    "duration": 16,
    "start_time": "2022-05-26T17:57:43.349Z"
   },
   {
    "duration": 32,
    "start_time": "2022-05-26T17:57:43.367Z"
   },
   {
    "duration": 76,
    "start_time": "2022-05-26T17:57:43.409Z"
   },
   {
    "duration": 57,
    "start_time": "2022-05-26T17:57:43.487Z"
   },
   {
    "duration": 58,
    "start_time": "2022-05-26T17:57:43.545Z"
   },
   {
    "duration": 61,
    "start_time": "2022-05-26T17:57:43.604Z"
   },
   {
    "duration": 44,
    "start_time": "2022-05-26T17:57:43.667Z"
   },
   {
    "duration": 35,
    "start_time": "2022-05-26T17:57:43.714Z"
   },
   {
    "duration": 19,
    "start_time": "2022-05-26T17:57:43.751Z"
   },
   {
    "duration": 35,
    "start_time": "2022-05-26T17:57:43.772Z"
   },
   {
    "duration": 17,
    "start_time": "2022-05-26T17:57:43.809Z"
   },
   {
    "duration": 12,
    "start_time": "2022-05-26T17:57:43.827Z"
   },
   {
    "duration": 5,
    "start_time": "2022-05-26T17:57:43.841Z"
   },
   {
    "duration": 5,
    "start_time": "2022-05-26T17:57:43.848Z"
   },
   {
    "duration": 7,
    "start_time": "2022-05-26T17:57:43.854Z"
   },
   {
    "duration": 46,
    "start_time": "2022-05-26T17:57:43.863Z"
   },
   {
    "duration": 7,
    "start_time": "2022-05-26T17:57:43.911Z"
   },
   {
    "duration": 261,
    "start_time": "2022-05-26T17:57:43.919Z"
   },
   {
    "duration": 5,
    "start_time": "2022-05-26T17:57:44.181Z"
   },
   {
    "duration": 50,
    "start_time": "2022-05-26T17:57:44.188Z"
   },
   {
    "duration": 24,
    "start_time": "2022-05-26T17:57:44.241Z"
   },
   {
    "duration": 563,
    "start_time": "2022-05-26T17:57:44.267Z"
   },
   {
    "duration": 24,
    "start_time": "2022-05-26T17:57:44.832Z"
   },
   {
    "duration": 51,
    "start_time": "2022-05-26T17:57:44.857Z"
   },
   {
    "duration": 378,
    "start_time": "2022-05-26T17:57:44.911Z"
   },
   {
    "duration": 32,
    "start_time": "2022-05-26T17:57:45.294Z"
   },
   {
    "duration": 25,
    "start_time": "2022-05-26T17:57:45.327Z"
   },
   {
    "duration": 558,
    "start_time": "2022-05-26T17:57:45.354Z"
   },
   {
    "duration": 31,
    "start_time": "2022-05-26T17:57:45.914Z"
   },
   {
    "duration": 286,
    "start_time": "2022-05-26T17:57:45.946Z"
   },
   {
    "duration": 753,
    "start_time": "2022-05-26T17:57:46.233Z"
   },
   {
    "duration": 14,
    "start_time": "2022-05-26T17:57:46.988Z"
   },
   {
    "duration": 6,
    "start_time": "2022-05-26T17:57:47.009Z"
   },
   {
    "duration": 8,
    "start_time": "2022-05-26T17:57:47.016Z"
   },
   {
    "duration": 11,
    "start_time": "2022-05-26T17:57:47.026Z"
   },
   {
    "duration": 12,
    "start_time": "2022-05-26T17:57:47.038Z"
   }
  ],
  "kernelspec": {
   "display_name": "Python 3 (ipykernel)",
   "language": "python",
   "name": "python3"
  },
  "language_info": {
   "codemirror_mode": {
    "name": "ipython",
    "version": 3
   },
   "file_extension": ".py",
   "mimetype": "text/x-python",
   "name": "python",
   "nbconvert_exporter": "python",
   "pygments_lexer": "ipython3",
   "version": "3.9.12"
  },
  "toc": {
   "base_numbering": 1,
   "nav_menu": {},
   "number_sections": true,
   "sideBar": true,
   "skip_h1_title": true,
   "title_cell": "Table of Contents",
   "title_sidebar": "Contents",
   "toc_cell": true,
   "toc_position": {
    "height": "calc(100% - 180px)",
    "left": "10px",
    "top": "150px",
    "width": "302px"
   },
   "toc_section_display": true,
   "toc_window_display": true
  }
 },
 "nbformat": 4,
 "nbformat_minor": 2
}
