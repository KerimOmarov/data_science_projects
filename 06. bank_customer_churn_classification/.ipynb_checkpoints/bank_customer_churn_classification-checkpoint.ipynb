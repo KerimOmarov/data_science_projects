{
 "cells": [
  {
   "cell_type": "markdown",
   "metadata": {
    "toc": true
   },
   "source": [
    "<h1>Table of Contents<span class=\"tocSkip\"></span></h1>\n",
    "<div class=\"toc\"><ul class=\"toc-item\"><li><span><a href=\"#Data-Preprocessing\" data-toc-modified-id=\"Data-Preprocessing-1\"><span class=\"toc-item-num\">1&nbsp;&nbsp;</span>Data Preprocessing</a></span><ul class=\"toc-item\"><li><span><a href=\"#Import-of-required-libraries\" data-toc-modified-id=\"Import-of-required-libraries-1.1\"><span class=\"toc-item-num\">1.1&nbsp;&nbsp;</span>Import of required libraries</a></span></li><li><span><a href=\"#Data-Review\" data-toc-modified-id=\"Data-Review-1.2\"><span class=\"toc-item-num\">1.2&nbsp;&nbsp;</span>Data Review</a></span></li><li><span><a href=\"#Conclusion\" data-toc-modified-id=\"Conclusion-1.3\"><span class=\"toc-item-num\">1.3&nbsp;&nbsp;</span>Conclusion</a></span></li><li><span><a href=\"#One-Hot-Encoding\" data-toc-modified-id=\"One-Hot-Encoding-1.4\"><span class=\"toc-item-num\">1.4&nbsp;&nbsp;</span>One-Hot Encoding</a></span></li><li><span><a href=\"#Data-Split\" data-toc-modified-id=\"Data-Split-1.5\"><span class=\"toc-item-num\">1.5&nbsp;&nbsp;</span>Data Split</a></span></li><li><span><a href=\"#Scaling\" data-toc-modified-id=\"Scaling-1.6\"><span class=\"toc-item-num\">1.6&nbsp;&nbsp;</span>Scaling</a></span></li><li><span><a href=\"#Conclusion\" data-toc-modified-id=\"Conclusion-1.7\"><span class=\"toc-item-num\">1.7&nbsp;&nbsp;</span>Conclusion</a></span></li></ul></li><li><span><a href=\"#Problem-Analysis\" data-toc-modified-id=\"Problem-Analysis-2\"><span class=\"toc-item-num\">2&nbsp;&nbsp;</span>Problem Analysis</a></span><ul class=\"toc-item\"><li><span><a href=\"#Class-balance-check\" data-toc-modified-id=\"Class-balance-check-2.1\"><span class=\"toc-item-num\">2.1&nbsp;&nbsp;</span>Class balance check</a></span></li><li><span><a href=\"#Model-training-without-imbalance\" data-toc-modified-id=\"Model-training-without-imbalance-2.2\"><span class=\"toc-item-num\">2.2&nbsp;&nbsp;</span>Model training without imbalance</a></span></li></ul></li><li><span><a href=\"#Disbalance-Reduction\" data-toc-modified-id=\"Disbalance-Reduction-3\"><span class=\"toc-item-num\">3&nbsp;&nbsp;</span>Disbalance Reduction</a></span><ul class=\"toc-item\"><li><span><a href=\"#Upsampling\" data-toc-modified-id=\"Upsampling-3.1\"><span class=\"toc-item-num\">3.1&nbsp;&nbsp;</span>Upsampling</a></span></li><li><span><a href=\"#Downsampling\" data-toc-modified-id=\"Downsampling-3.2\"><span class=\"toc-item-num\">3.2&nbsp;&nbsp;</span>Downsampling</a></span></li><li><span><a href=\"#Model-training-and-hyperparameter-tuning\" data-toc-modified-id=\"Model-training-and-hyperparameter-tuning-3.3\"><span class=\"toc-item-num\">3.3&nbsp;&nbsp;</span>Model training and hyperparameter tuning</a></span></li></ul></li><li><span><a href=\"#Models-Testing\" data-toc-modified-id=\"Models-Testing-4\"><span class=\"toc-item-num\">4&nbsp;&nbsp;</span>Models Testing</a></span><ul class=\"toc-item\"><li><span><a href=\"#Conclusion\" data-toc-modified-id=\"Conclusion-4.1\"><span class=\"toc-item-num\">4.1&nbsp;&nbsp;</span>Conclusion</a></span></li></ul></li><li><span><a href=\"#Sanity-Check\" data-toc-modified-id=\"Sanity-Check-5\"><span class=\"toc-item-num\">5&nbsp;&nbsp;</span>Sanity Check</a></span></li><li><span><a href=\"#Conclusion\" data-toc-modified-id=\"Conclusion-6\"><span class=\"toc-item-num\">6&nbsp;&nbsp;</span>Conclusion</a></span></li></ul></div>"
   ]
  },
  {
   "cell_type": "markdown",
   "metadata": {},
   "source": [
    "# Customer churn"
   ]
  },
  {
   "cell_type": "markdown",
   "metadata": {},
   "source": [
    "Customers began to leave Beta-Bank. Every month. A little, but noticeable. Banking marketers figured it was cheaper to keep current customers than to attract new ones.\n",
    "\n",
    "It is necessary to predict whether the client will leave the bank in the near future or not. You are provided with historical data on customer behavior and termination of agreements with the bank.\n",
    "\n",
    "Build a model with an extremely large *F1*-measure. To pass the project successfully, you need to bring the metric to 0.59. Check the *F1*-measure on the test set yourself.\n",
    "\n",
    "Additionally measure *AUC-ROC*, compare its value with *F1*-measure.\n",
    "\n",
    "Data Source: [https://www.kaggle.com/barelydedicated/bank-customer-churn-modeling](https://www.kaggle.com/barelydedicated/bank-customer-churn-modeling)\n",
    "\n",
    "**The purpose of the project:** To build a model for a classification problem that will predict whether a client will leave the bank in the near future.\n",
    "\n",
    "\n",
    "**Research steps:**\n",
    "\n",
    "1. Data review and preprocessing.\n",
    "2. Problem Analysis.\n",
    "3. Disbalance reduction.\n",
    "4. Models Testing.\n",
    "5. Sanity Check."
   ]
  },
  {
   "cell_type": "markdown",
   "metadata": {},
   "source": [
    "## Data Preprocessing"
   ]
  },
  {
   "cell_type": "markdown",
   "metadata": {},
   "source": [
    "### Import of required libraries"
   ]
  },
  {
   "cell_type": "code",
   "execution_count": 1,
   "metadata": {},
   "outputs": [],
   "source": [
    "import matplotlib.pyplot as plt\n",
    "import numpy as np\n",
    "import pandas as pd\n",
    "import seaborn as sns\n",
    "\n",
    "from sklearn.metrics import accuracy_score, f1_score, roc_auc_score, roc_curve \n",
    "from sklearn.model_selection import train_test_split, GridSearchCV\n",
    "from sklearn.preprocessing import StandardScaler \n",
    "from sklearn.utils import shuffle\n",
    "\n",
    "from sklearn.ensemble import RandomForestClassifier\n",
    "from sklearn.linear_model import LogisticRegression \n",
    "from sklearn.tree import DecisionTreeClassifier"
   ]
  },
  {
   "cell_type": "code",
   "execution_count": 2,
   "metadata": {},
   "outputs": [],
   "source": [
    "try:\n",
    "    df = pd.read_csv('churn.csv')\n",
    "except: \n",
    "    print('Something is wrong')"
   ]
  },
  {
   "cell_type": "markdown",
   "metadata": {},
   "source": [
    "### Data Review"
   ]
  },
  {
   "cell_type": "code",
   "execution_count": 3,
   "metadata": {},
   "outputs": [
    {
     "name": "stdout",
     "output_type": "stream",
     "text": [
      "<class 'pandas.core.frame.DataFrame'>\n",
      "RangeIndex: 10000 entries, 0 to 9999\n",
      "Data columns (total 14 columns):\n",
      " #   Column           Non-Null Count  Dtype  \n",
      "---  ------           --------------  -----  \n",
      " 0   RowNumber        10000 non-null  int64  \n",
      " 1   CustomerId       10000 non-null  int64  \n",
      " 2   Surname          10000 non-null  object \n",
      " 3   CreditScore      10000 non-null  int64  \n",
      " 4   Geography        10000 non-null  object \n",
      " 5   Gender           10000 non-null  object \n",
      " 6   Age              10000 non-null  int64  \n",
      " 7   Tenure           9091 non-null   float64\n",
      " 8   Balance          10000 non-null  float64\n",
      " 9   NumOfProducts    10000 non-null  int64  \n",
      " 10  HasCrCard        10000 non-null  int64  \n",
      " 11  IsActiveMember   10000 non-null  int64  \n",
      " 12  EstimatedSalary  10000 non-null  float64\n",
      " 13  Exited           10000 non-null  int64  \n",
      "dtypes: float64(3), int64(8), object(3)\n",
      "memory usage: 1.1+ MB\n"
     ]
    }
   ],
   "source": [
    "df.info()"
   ]
  },
  {
   "cell_type": "code",
   "execution_count": 4,
   "metadata": {
    "scrolled": true
   },
   "outputs": [
    {
     "data": {
      "text/html": [
       "<div>\n",
       "<style scoped>\n",
       "    .dataframe tbody tr th:only-of-type {\n",
       "        vertical-align: middle;\n",
       "    }\n",
       "\n",
       "    .dataframe tbody tr th {\n",
       "        vertical-align: top;\n",
       "    }\n",
       "\n",
       "    .dataframe thead th {\n",
       "        text-align: right;\n",
       "    }\n",
       "</style>\n",
       "<table border=\"1\" class=\"dataframe\">\n",
       "  <thead>\n",
       "    <tr style=\"text-align: right;\">\n",
       "      <th></th>\n",
       "      <th>RowNumber</th>\n",
       "      <th>CustomerId</th>\n",
       "      <th>Surname</th>\n",
       "      <th>CreditScore</th>\n",
       "      <th>Geography</th>\n",
       "      <th>Gender</th>\n",
       "      <th>Age</th>\n",
       "      <th>Tenure</th>\n",
       "      <th>Balance</th>\n",
       "      <th>NumOfProducts</th>\n",
       "      <th>HasCrCard</th>\n",
       "      <th>IsActiveMember</th>\n",
       "      <th>EstimatedSalary</th>\n",
       "      <th>Exited</th>\n",
       "    </tr>\n",
       "  </thead>\n",
       "  <tbody>\n",
       "    <tr>\n",
       "      <th>0</th>\n",
       "      <td>1</td>\n",
       "      <td>15634602</td>\n",
       "      <td>Hargrave</td>\n",
       "      <td>619</td>\n",
       "      <td>France</td>\n",
       "      <td>Female</td>\n",
       "      <td>42</td>\n",
       "      <td>2.0</td>\n",
       "      <td>0.00</td>\n",
       "      <td>1</td>\n",
       "      <td>1</td>\n",
       "      <td>1</td>\n",
       "      <td>101348.88</td>\n",
       "      <td>1</td>\n",
       "    </tr>\n",
       "    <tr>\n",
       "      <th>1</th>\n",
       "      <td>2</td>\n",
       "      <td>15647311</td>\n",
       "      <td>Hill</td>\n",
       "      <td>608</td>\n",
       "      <td>Spain</td>\n",
       "      <td>Female</td>\n",
       "      <td>41</td>\n",
       "      <td>1.0</td>\n",
       "      <td>83807.86</td>\n",
       "      <td>1</td>\n",
       "      <td>0</td>\n",
       "      <td>1</td>\n",
       "      <td>112542.58</td>\n",
       "      <td>0</td>\n",
       "    </tr>\n",
       "    <tr>\n",
       "      <th>2</th>\n",
       "      <td>3</td>\n",
       "      <td>15619304</td>\n",
       "      <td>Onio</td>\n",
       "      <td>502</td>\n",
       "      <td>France</td>\n",
       "      <td>Female</td>\n",
       "      <td>42</td>\n",
       "      <td>8.0</td>\n",
       "      <td>159660.80</td>\n",
       "      <td>3</td>\n",
       "      <td>1</td>\n",
       "      <td>0</td>\n",
       "      <td>113931.57</td>\n",
       "      <td>1</td>\n",
       "    </tr>\n",
       "    <tr>\n",
       "      <th>3</th>\n",
       "      <td>4</td>\n",
       "      <td>15701354</td>\n",
       "      <td>Boni</td>\n",
       "      <td>699</td>\n",
       "      <td>France</td>\n",
       "      <td>Female</td>\n",
       "      <td>39</td>\n",
       "      <td>1.0</td>\n",
       "      <td>0.00</td>\n",
       "      <td>2</td>\n",
       "      <td>0</td>\n",
       "      <td>0</td>\n",
       "      <td>93826.63</td>\n",
       "      <td>0</td>\n",
       "    </tr>\n",
       "    <tr>\n",
       "      <th>4</th>\n",
       "      <td>5</td>\n",
       "      <td>15737888</td>\n",
       "      <td>Mitchell</td>\n",
       "      <td>850</td>\n",
       "      <td>Spain</td>\n",
       "      <td>Female</td>\n",
       "      <td>43</td>\n",
       "      <td>2.0</td>\n",
       "      <td>125510.82</td>\n",
       "      <td>1</td>\n",
       "      <td>1</td>\n",
       "      <td>1</td>\n",
       "      <td>79084.10</td>\n",
       "      <td>0</td>\n",
       "    </tr>\n",
       "  </tbody>\n",
       "</table>\n",
       "</div>"
      ],
      "text/plain": [
       "   RowNumber  CustomerId   Surname  CreditScore Geography  Gender  Age  \\\n",
       "0          1    15634602  Hargrave          619    France  Female   42   \n",
       "1          2    15647311      Hill          608     Spain  Female   41   \n",
       "2          3    15619304      Onio          502    France  Female   42   \n",
       "3          4    15701354      Boni          699    France  Female   39   \n",
       "4          5    15737888  Mitchell          850     Spain  Female   43   \n",
       "\n",
       "   Tenure    Balance  NumOfProducts  HasCrCard  IsActiveMember  \\\n",
       "0     2.0       0.00              1          1               1   \n",
       "1     1.0   83807.86              1          0               1   \n",
       "2     8.0  159660.80              3          1               0   \n",
       "3     1.0       0.00              2          0               0   \n",
       "4     2.0  125510.82              1          1               1   \n",
       "\n",
       "   EstimatedSalary  Exited  \n",
       "0        101348.88       1  \n",
       "1        112542.58       0  \n",
       "2        113931.57       1  \n",
       "3         93826.63       0  \n",
       "4         79084.10       0  "
      ]
     },
     "execution_count": 4,
     "metadata": {},
     "output_type": "execute_result"
    }
   ],
   "source": [
    "df.head(5)"
   ]
  },
  {
   "cell_type": "markdown",
   "metadata": {},
   "source": [
    "So, we have a table with data.\n",
    "\n",
    "According to the data documentation:\n",
    "\n",
    "Features:\n",
    "\n",
    "* `RowNumber` - row index\n",
    "* `CustomerId` - unique customer ID\n",
    "* `Surname` - surname\n",
    "* `CreditScore` - credit rating\n",
    "* `Geography` - country of residence\n",
    "* `Gender` - gender\n",
    "* `Age` — age\n",
    "* `Tenure` - how many years a person has been a client of the bank\n",
    "* `Balance` - account balance\n",
    "* `NumOfProducts` - the number of bank products used by the client\n",
    "* `HasCrCard` - has a credit card\n",
    "* `IsActiveMember` - client activity\n",
    "* `EstimatedSalary` - estimated salary\n",
    "\n",
    "Target:\n",
    "\n",
    "* `Exited` - the fact that the client left"
   ]
  },
  {
   "cell_type": "code",
   "execution_count": 5,
   "metadata": {
    "scrolled": false
   },
   "outputs": [
    {
     "data": {
      "text/html": [
       "<div>\n",
       "<style scoped>\n",
       "    .dataframe tbody tr th:only-of-type {\n",
       "        vertical-align: middle;\n",
       "    }\n",
       "\n",
       "    .dataframe tbody tr th {\n",
       "        vertical-align: top;\n",
       "    }\n",
       "\n",
       "    .dataframe thead th {\n",
       "        text-align: right;\n",
       "    }\n",
       "</style>\n",
       "<table border=\"1\" class=\"dataframe\">\n",
       "  <thead>\n",
       "    <tr style=\"text-align: right;\">\n",
       "      <th></th>\n",
       "      <th>RowNumber</th>\n",
       "      <th>CustomerId</th>\n",
       "      <th>CreditScore</th>\n",
       "      <th>Age</th>\n",
       "      <th>Tenure</th>\n",
       "      <th>Balance</th>\n",
       "      <th>NumOfProducts</th>\n",
       "      <th>HasCrCard</th>\n",
       "      <th>IsActiveMember</th>\n",
       "      <th>EstimatedSalary</th>\n",
       "      <th>Exited</th>\n",
       "    </tr>\n",
       "  </thead>\n",
       "  <tbody>\n",
       "    <tr>\n",
       "      <th>count</th>\n",
       "      <td>10000.00000</td>\n",
       "      <td>1.000000e+04</td>\n",
       "      <td>10000.000000</td>\n",
       "      <td>10000.000000</td>\n",
       "      <td>9091.000000</td>\n",
       "      <td>10000.000000</td>\n",
       "      <td>10000.000000</td>\n",
       "      <td>10000.00000</td>\n",
       "      <td>10000.000000</td>\n",
       "      <td>10000.000000</td>\n",
       "      <td>10000.000000</td>\n",
       "    </tr>\n",
       "    <tr>\n",
       "      <th>mean</th>\n",
       "      <td>5000.50000</td>\n",
       "      <td>1.569094e+07</td>\n",
       "      <td>650.528800</td>\n",
       "      <td>38.921800</td>\n",
       "      <td>4.997690</td>\n",
       "      <td>76485.889288</td>\n",
       "      <td>1.530200</td>\n",
       "      <td>0.70550</td>\n",
       "      <td>0.515100</td>\n",
       "      <td>100090.239881</td>\n",
       "      <td>0.203700</td>\n",
       "    </tr>\n",
       "    <tr>\n",
       "      <th>std</th>\n",
       "      <td>2886.89568</td>\n",
       "      <td>7.193619e+04</td>\n",
       "      <td>96.653299</td>\n",
       "      <td>10.487806</td>\n",
       "      <td>2.894723</td>\n",
       "      <td>62397.405202</td>\n",
       "      <td>0.581654</td>\n",
       "      <td>0.45584</td>\n",
       "      <td>0.499797</td>\n",
       "      <td>57510.492818</td>\n",
       "      <td>0.402769</td>\n",
       "    </tr>\n",
       "    <tr>\n",
       "      <th>min</th>\n",
       "      <td>1.00000</td>\n",
       "      <td>1.556570e+07</td>\n",
       "      <td>350.000000</td>\n",
       "      <td>18.000000</td>\n",
       "      <td>0.000000</td>\n",
       "      <td>0.000000</td>\n",
       "      <td>1.000000</td>\n",
       "      <td>0.00000</td>\n",
       "      <td>0.000000</td>\n",
       "      <td>11.580000</td>\n",
       "      <td>0.000000</td>\n",
       "    </tr>\n",
       "    <tr>\n",
       "      <th>25%</th>\n",
       "      <td>2500.75000</td>\n",
       "      <td>1.562853e+07</td>\n",
       "      <td>584.000000</td>\n",
       "      <td>32.000000</td>\n",
       "      <td>2.000000</td>\n",
       "      <td>0.000000</td>\n",
       "      <td>1.000000</td>\n",
       "      <td>0.00000</td>\n",
       "      <td>0.000000</td>\n",
       "      <td>51002.110000</td>\n",
       "      <td>0.000000</td>\n",
       "    </tr>\n",
       "    <tr>\n",
       "      <th>50%</th>\n",
       "      <td>5000.50000</td>\n",
       "      <td>1.569074e+07</td>\n",
       "      <td>652.000000</td>\n",
       "      <td>37.000000</td>\n",
       "      <td>5.000000</td>\n",
       "      <td>97198.540000</td>\n",
       "      <td>1.000000</td>\n",
       "      <td>1.00000</td>\n",
       "      <td>1.000000</td>\n",
       "      <td>100193.915000</td>\n",
       "      <td>0.000000</td>\n",
       "    </tr>\n",
       "    <tr>\n",
       "      <th>75%</th>\n",
       "      <td>7500.25000</td>\n",
       "      <td>1.575323e+07</td>\n",
       "      <td>718.000000</td>\n",
       "      <td>44.000000</td>\n",
       "      <td>7.000000</td>\n",
       "      <td>127644.240000</td>\n",
       "      <td>2.000000</td>\n",
       "      <td>1.00000</td>\n",
       "      <td>1.000000</td>\n",
       "      <td>149388.247500</td>\n",
       "      <td>0.000000</td>\n",
       "    </tr>\n",
       "    <tr>\n",
       "      <th>max</th>\n",
       "      <td>10000.00000</td>\n",
       "      <td>1.581569e+07</td>\n",
       "      <td>850.000000</td>\n",
       "      <td>92.000000</td>\n",
       "      <td>10.000000</td>\n",
       "      <td>250898.090000</td>\n",
       "      <td>4.000000</td>\n",
       "      <td>1.00000</td>\n",
       "      <td>1.000000</td>\n",
       "      <td>199992.480000</td>\n",
       "      <td>1.000000</td>\n",
       "    </tr>\n",
       "  </tbody>\n",
       "</table>\n",
       "</div>"
      ],
      "text/plain": [
       "         RowNumber    CustomerId   CreditScore           Age       Tenure  \\\n",
       "count  10000.00000  1.000000e+04  10000.000000  10000.000000  9091.000000   \n",
       "mean    5000.50000  1.569094e+07    650.528800     38.921800     4.997690   \n",
       "std     2886.89568  7.193619e+04     96.653299     10.487806     2.894723   \n",
       "min        1.00000  1.556570e+07    350.000000     18.000000     0.000000   \n",
       "25%     2500.75000  1.562853e+07    584.000000     32.000000     2.000000   \n",
       "50%     5000.50000  1.569074e+07    652.000000     37.000000     5.000000   \n",
       "75%     7500.25000  1.575323e+07    718.000000     44.000000     7.000000   \n",
       "max    10000.00000  1.581569e+07    850.000000     92.000000    10.000000   \n",
       "\n",
       "             Balance  NumOfProducts    HasCrCard  IsActiveMember  \\\n",
       "count   10000.000000   10000.000000  10000.00000    10000.000000   \n",
       "mean    76485.889288       1.530200      0.70550        0.515100   \n",
       "std     62397.405202       0.581654      0.45584        0.499797   \n",
       "min         0.000000       1.000000      0.00000        0.000000   \n",
       "25%         0.000000       1.000000      0.00000        0.000000   \n",
       "50%     97198.540000       1.000000      1.00000        1.000000   \n",
       "75%    127644.240000       2.000000      1.00000        1.000000   \n",
       "max    250898.090000       4.000000      1.00000        1.000000   \n",
       "\n",
       "       EstimatedSalary        Exited  \n",
       "count     10000.000000  10000.000000  \n",
       "mean     100090.239881      0.203700  \n",
       "std       57510.492818      0.402769  \n",
       "min          11.580000      0.000000  \n",
       "25%       51002.110000      0.000000  \n",
       "50%      100193.915000      0.000000  \n",
       "75%      149388.247500      0.000000  \n",
       "max      199992.480000      1.000000  "
      ]
     },
     "execution_count": 5,
     "metadata": {},
     "output_type": "execute_result"
    }
   ],
   "source": [
    "df.describe()"
   ]
  },
  {
   "cell_type": "markdown",
   "metadata": {},
   "source": [
    "Let's remove unnecessary features, such as `RowNumber`, `CustomerId` and `Surname`, since they are not useful for the analysis and training of the models."
   ]
  },
  {
   "cell_type": "code",
   "execution_count": 6,
   "metadata": {},
   "outputs": [],
   "source": [
    "df = df.drop(['RowNumber', 'CustomerId', 'Surname'], axis=1)"
   ]
  },
  {
   "cell_type": "code",
   "execution_count": 7,
   "metadata": {},
   "outputs": [
    {
     "data": {
      "text/html": [
       "<div>\n",
       "<style scoped>\n",
       "    .dataframe tbody tr th:only-of-type {\n",
       "        vertical-align: middle;\n",
       "    }\n",
       "\n",
       "    .dataframe tbody tr th {\n",
       "        vertical-align: top;\n",
       "    }\n",
       "\n",
       "    .dataframe thead th {\n",
       "        text-align: right;\n",
       "    }\n",
       "</style>\n",
       "<table border=\"1\" class=\"dataframe\">\n",
       "  <thead>\n",
       "    <tr style=\"text-align: right;\">\n",
       "      <th></th>\n",
       "      <th>CreditScore</th>\n",
       "      <th>Geography</th>\n",
       "      <th>Gender</th>\n",
       "      <th>Age</th>\n",
       "      <th>Tenure</th>\n",
       "      <th>Balance</th>\n",
       "      <th>NumOfProducts</th>\n",
       "      <th>HasCrCard</th>\n",
       "      <th>IsActiveMember</th>\n",
       "      <th>EstimatedSalary</th>\n",
       "      <th>Exited</th>\n",
       "    </tr>\n",
       "  </thead>\n",
       "  <tbody>\n",
       "    <tr>\n",
       "      <th>0</th>\n",
       "      <td>619</td>\n",
       "      <td>France</td>\n",
       "      <td>Female</td>\n",
       "      <td>42</td>\n",
       "      <td>2.0</td>\n",
       "      <td>0.00</td>\n",
       "      <td>1</td>\n",
       "      <td>1</td>\n",
       "      <td>1</td>\n",
       "      <td>101348.88</td>\n",
       "      <td>1</td>\n",
       "    </tr>\n",
       "    <tr>\n",
       "      <th>1</th>\n",
       "      <td>608</td>\n",
       "      <td>Spain</td>\n",
       "      <td>Female</td>\n",
       "      <td>41</td>\n",
       "      <td>1.0</td>\n",
       "      <td>83807.86</td>\n",
       "      <td>1</td>\n",
       "      <td>0</td>\n",
       "      <td>1</td>\n",
       "      <td>112542.58</td>\n",
       "      <td>0</td>\n",
       "    </tr>\n",
       "    <tr>\n",
       "      <th>2</th>\n",
       "      <td>502</td>\n",
       "      <td>France</td>\n",
       "      <td>Female</td>\n",
       "      <td>42</td>\n",
       "      <td>8.0</td>\n",
       "      <td>159660.80</td>\n",
       "      <td>3</td>\n",
       "      <td>1</td>\n",
       "      <td>0</td>\n",
       "      <td>113931.57</td>\n",
       "      <td>1</td>\n",
       "    </tr>\n",
       "    <tr>\n",
       "      <th>3</th>\n",
       "      <td>699</td>\n",
       "      <td>France</td>\n",
       "      <td>Female</td>\n",
       "      <td>39</td>\n",
       "      <td>1.0</td>\n",
       "      <td>0.00</td>\n",
       "      <td>2</td>\n",
       "      <td>0</td>\n",
       "      <td>0</td>\n",
       "      <td>93826.63</td>\n",
       "      <td>0</td>\n",
       "    </tr>\n",
       "    <tr>\n",
       "      <th>4</th>\n",
       "      <td>850</td>\n",
       "      <td>Spain</td>\n",
       "      <td>Female</td>\n",
       "      <td>43</td>\n",
       "      <td>2.0</td>\n",
       "      <td>125510.82</td>\n",
       "      <td>1</td>\n",
       "      <td>1</td>\n",
       "      <td>1</td>\n",
       "      <td>79084.10</td>\n",
       "      <td>0</td>\n",
       "    </tr>\n",
       "  </tbody>\n",
       "</table>\n",
       "</div>"
      ],
      "text/plain": [
       "   CreditScore Geography  Gender  Age  Tenure    Balance  NumOfProducts  \\\n",
       "0          619    France  Female   42     2.0       0.00              1   \n",
       "1          608     Spain  Female   41     1.0   83807.86              1   \n",
       "2          502    France  Female   42     8.0  159660.80              3   \n",
       "3          699    France  Female   39     1.0       0.00              2   \n",
       "4          850     Spain  Female   43     2.0  125510.82              1   \n",
       "\n",
       "   HasCrCard  IsActiveMember  EstimatedSalary  Exited  \n",
       "0          1               1        101348.88       1  \n",
       "1          0               1        112542.58       0  \n",
       "2          1               0        113931.57       1  \n",
       "3          0               0         93826.63       0  \n",
       "4          1               1         79084.10       0  "
      ]
     },
     "execution_count": 7,
     "metadata": {},
     "output_type": "execute_result"
    }
   ],
   "source": [
    "df.head(5)"
   ]
  },
  {
   "cell_type": "markdown",
   "metadata": {},
   "source": [
    "Let's change the column names to lowercase and change some of them to snake case"
   ]
  },
  {
   "cell_type": "code",
   "execution_count": 8,
   "metadata": {},
   "outputs": [],
   "source": [
    "df.columns = df.columns.str.lower()"
   ]
  },
  {
   "cell_type": "code",
   "execution_count": 9,
   "metadata": {},
   "outputs": [],
   "source": [
    "df = df.rename(\n",
    "    columns={\n",
    "        'creditscore': 'credit_score',\n",
    "        'numofproducts': 'num_of_products',\n",
    "        'hascrcard': 'has_cr_card',\n",
    "        'isactivemember': 'is_active_member',\n",
    "        'estimatedsalary': 'estimated_salary'}\n",
    ")"
   ]
  },
  {
   "cell_type": "code",
   "execution_count": 10,
   "metadata": {},
   "outputs": [
    {
     "data": {
      "text/html": [
       "<div>\n",
       "<style scoped>\n",
       "    .dataframe tbody tr th:only-of-type {\n",
       "        vertical-align: middle;\n",
       "    }\n",
       "\n",
       "    .dataframe tbody tr th {\n",
       "        vertical-align: top;\n",
       "    }\n",
       "\n",
       "    .dataframe thead th {\n",
       "        text-align: right;\n",
       "    }\n",
       "</style>\n",
       "<table border=\"1\" class=\"dataframe\">\n",
       "  <thead>\n",
       "    <tr style=\"text-align: right;\">\n",
       "      <th></th>\n",
       "      <th>credit_score</th>\n",
       "      <th>geography</th>\n",
       "      <th>gender</th>\n",
       "      <th>age</th>\n",
       "      <th>tenure</th>\n",
       "      <th>balance</th>\n",
       "      <th>num_of_products</th>\n",
       "      <th>has_cr_card</th>\n",
       "      <th>is_active_member</th>\n",
       "      <th>estimated_salary</th>\n",
       "      <th>exited</th>\n",
       "    </tr>\n",
       "  </thead>\n",
       "  <tbody>\n",
       "    <tr>\n",
       "      <th>0</th>\n",
       "      <td>619</td>\n",
       "      <td>France</td>\n",
       "      <td>Female</td>\n",
       "      <td>42</td>\n",
       "      <td>2.0</td>\n",
       "      <td>0.00</td>\n",
       "      <td>1</td>\n",
       "      <td>1</td>\n",
       "      <td>1</td>\n",
       "      <td>101348.88</td>\n",
       "      <td>1</td>\n",
       "    </tr>\n",
       "    <tr>\n",
       "      <th>1</th>\n",
       "      <td>608</td>\n",
       "      <td>Spain</td>\n",
       "      <td>Female</td>\n",
       "      <td>41</td>\n",
       "      <td>1.0</td>\n",
       "      <td>83807.86</td>\n",
       "      <td>1</td>\n",
       "      <td>0</td>\n",
       "      <td>1</td>\n",
       "      <td>112542.58</td>\n",
       "      <td>0</td>\n",
       "    </tr>\n",
       "    <tr>\n",
       "      <th>2</th>\n",
       "      <td>502</td>\n",
       "      <td>France</td>\n",
       "      <td>Female</td>\n",
       "      <td>42</td>\n",
       "      <td>8.0</td>\n",
       "      <td>159660.80</td>\n",
       "      <td>3</td>\n",
       "      <td>1</td>\n",
       "      <td>0</td>\n",
       "      <td>113931.57</td>\n",
       "      <td>1</td>\n",
       "    </tr>\n",
       "    <tr>\n",
       "      <th>3</th>\n",
       "      <td>699</td>\n",
       "      <td>France</td>\n",
       "      <td>Female</td>\n",
       "      <td>39</td>\n",
       "      <td>1.0</td>\n",
       "      <td>0.00</td>\n",
       "      <td>2</td>\n",
       "      <td>0</td>\n",
       "      <td>0</td>\n",
       "      <td>93826.63</td>\n",
       "      <td>0</td>\n",
       "    </tr>\n",
       "    <tr>\n",
       "      <th>4</th>\n",
       "      <td>850</td>\n",
       "      <td>Spain</td>\n",
       "      <td>Female</td>\n",
       "      <td>43</td>\n",
       "      <td>2.0</td>\n",
       "      <td>125510.82</td>\n",
       "      <td>1</td>\n",
       "      <td>1</td>\n",
       "      <td>1</td>\n",
       "      <td>79084.10</td>\n",
       "      <td>0</td>\n",
       "    </tr>\n",
       "  </tbody>\n",
       "</table>\n",
       "</div>"
      ],
      "text/plain": [
       "   credit_score geography  gender  age  tenure    balance  num_of_products  \\\n",
       "0           619    France  Female   42     2.0       0.00                1   \n",
       "1           608     Spain  Female   41     1.0   83807.86                1   \n",
       "2           502    France  Female   42     8.0  159660.80                3   \n",
       "3           699    France  Female   39     1.0       0.00                2   \n",
       "4           850     Spain  Female   43     2.0  125510.82                1   \n",
       "\n",
       "   has_cr_card  is_active_member  estimated_salary  exited  \n",
       "0            1                 1         101348.88       1  \n",
       "1            0                 1         112542.58       0  \n",
       "2            1                 0         113931.57       1  \n",
       "3            0                 0          93826.63       0  \n",
       "4            1                 1          79084.10       0  "
      ]
     },
     "execution_count": 10,
     "metadata": {},
     "output_type": "execute_result"
    }
   ],
   "source": [
    "df.head(5)"
   ]
  },
  {
   "cell_type": "markdown",
   "metadata": {},
   "source": [
    "There are missing values in the `tenure` column. Let's check how many we have and decide how to deal with them. "
   ]
  },
  {
   "cell_type": "code",
   "execution_count": 11,
   "metadata": {},
   "outputs": [
    {
     "data": {
      "text/plain": [
       "0.0909"
      ]
     },
     "execution_count": 11,
     "metadata": {},
     "output_type": "execute_result"
    }
   ],
   "source": [
    "df['tenure'].isna().mean()"
   ]
  },
  {
   "cell_type": "markdown",
   "metadata": {},
   "source": [
    "We have 9% of missing values - a relatively small amount. Let's have a look at how many bank products have customers with a missing `tenure`. "
   ]
  },
  {
   "cell_type": "code",
   "execution_count": 12,
   "metadata": {},
   "outputs": [
    {
     "data": {
      "text/plain": [
       "1    467\n",
       "2    406\n",
       "3     32\n",
       "4      4\n",
       "Name: num_of_products, dtype: int64"
      ]
     },
     "execution_count": 12,
     "metadata": {},
     "output_type": "execute_result"
    }
   ],
   "source": [
    "df[df['tenure'].isna()]['num_of_products'].value_counts()"
   ]
  },
  {
   "cell_type": "markdown",
   "metadata": {},
   "source": [
    "Mainly, these are customers with 1-2 products. We can assume that these are new customers who have been using the bank's services for less than a year. Let's replace missing values with `0` for further analysis."
   ]
  },
  {
   "cell_type": "code",
   "execution_count": 13,
   "metadata": {},
   "outputs": [],
   "source": [
    "df['tenure'] = df['tenure'].fillna(0)"
   ]
  },
  {
   "cell_type": "code",
   "execution_count": 14,
   "metadata": {
    "scrolled": true
   },
   "outputs": [
    {
     "data": {
      "text/plain": [
       "0"
      ]
     },
     "execution_count": 14,
     "metadata": {},
     "output_type": "execute_result"
    }
   ],
   "source": [
    "df['tenure'].isna().sum()"
   ]
  },
  {
   "cell_type": "markdown",
   "metadata": {},
   "source": [
    "The missing values have been removed, now we can change the column type to integer."
   ]
  },
  {
   "cell_type": "code",
   "execution_count": 15,
   "metadata": {},
   "outputs": [],
   "source": [
    "df['tenure'] = df['tenure'].astype('int64')"
   ]
  },
  {
   "cell_type": "code",
   "execution_count": 16,
   "metadata": {},
   "outputs": [
    {
     "name": "stdout",
     "output_type": "stream",
     "text": [
      "<class 'pandas.core.frame.DataFrame'>\n",
      "RangeIndex: 10000 entries, 0 to 9999\n",
      "Data columns (total 11 columns):\n",
      " #   Column            Non-Null Count  Dtype  \n",
      "---  ------            --------------  -----  \n",
      " 0   credit_score      10000 non-null  int64  \n",
      " 1   geography         10000 non-null  object \n",
      " 2   gender            10000 non-null  object \n",
      " 3   age               10000 non-null  int64  \n",
      " 4   tenure            10000 non-null  int64  \n",
      " 5   balance           10000 non-null  float64\n",
      " 6   num_of_products   10000 non-null  int64  \n",
      " 7   has_cr_card       10000 non-null  int64  \n",
      " 8   is_active_member  10000 non-null  int64  \n",
      " 9   estimated_salary  10000 non-null  float64\n",
      " 10  exited            10000 non-null  int64  \n",
      "dtypes: float64(2), int64(7), object(2)\n",
      "memory usage: 859.5+ KB\n"
     ]
    }
   ],
   "source": [
    "df.info()"
   ]
  },
  {
   "cell_type": "markdown",
   "metadata": {},
   "source": [
    "There are no missing values; all data is converted to the required types. Let's check the data for duplicates."
   ]
  },
  {
   "cell_type": "code",
   "execution_count": 17,
   "metadata": {},
   "outputs": [
    {
     "data": {
      "text/plain": [
       "0"
      ]
     },
     "execution_count": 17,
     "metadata": {},
     "output_type": "execute_result"
    }
   ],
   "source": [
    "df.duplicated().sum()"
   ]
  },
  {
   "cell_type": "markdown",
   "metadata": {},
   "source": [
    "We can see that there are no duplicates in the data, so we can move on."
   ]
  },
  {
   "cell_type": "markdown",
   "metadata": {},
   "source": [
    "### Conclusion"
   ]
  },
  {
   "cell_type": "markdown",
   "metadata": {},
   "source": [
    "The data consists of 10,000 observations and 14 columns. Each object in the data set is information about the bank's client.\n",
    "In the process of studying the data, the following was done:\n",
    "\n",
    "* removed unnecessary features, such as `RowNumber`, `CustomerId`, and `Surname`, as they are not useful for analysis and training of the model\n",
    "* converted column names to lowercase and converted some of them to snake case\n",
    "* replaced missing values in the `tenure` column with `0` and changed the column type to integer\n",
    "* checked for duplicates "
   ]
  },
  {
   "cell_type": "markdown",
   "metadata": {},
   "source": [
    "### One-Hot Encoding"
   ]
  },
  {
   "cell_type": "markdown",
   "metadata": {},
   "source": [
    "Let's encode categorical features `geography` and `gender` into quantitative ones using One-Hot Encoding. To avoid the dummy trap, let's remove the first column. "
   ]
  },
  {
   "cell_type": "code",
   "execution_count": 18,
   "metadata": {
    "scrolled": true
   },
   "outputs": [
    {
     "data": {
      "text/plain": [
       "France     5014\n",
       "Germany    2509\n",
       "Spain      2477\n",
       "Name: geography, dtype: int64"
      ]
     },
     "execution_count": 18,
     "metadata": {},
     "output_type": "execute_result"
    }
   ],
   "source": [
    "df['geography'].value_counts()"
   ]
  },
  {
   "cell_type": "code",
   "execution_count": 19,
   "metadata": {
    "scrolled": true
   },
   "outputs": [
    {
     "data": {
      "text/plain": [
       "Male      5457\n",
       "Female    4543\n",
       "Name: gender, dtype: int64"
      ]
     },
     "execution_count": 19,
     "metadata": {},
     "output_type": "execute_result"
    }
   ],
   "source": [
    "df['gender'].value_counts()"
   ]
  },
  {
   "cell_type": "code",
   "execution_count": 20,
   "metadata": {},
   "outputs": [],
   "source": [
    "# encode categorical features\n",
    "geography_ohe = pd.get_dummies(df[\"geography\"], drop_first=True)\n",
    "gender_ohe = pd.get_dummies(df[\"gender\"], drop_first=True)"
   ]
  },
  {
   "cell_type": "code",
   "execution_count": 21,
   "metadata": {},
   "outputs": [],
   "source": [
    "# delete features from dataframe\n",
    "df.drop([\"gender\", \"geography\"], axis=1, inplace=True)"
   ]
  },
  {
   "cell_type": "code",
   "execution_count": 22,
   "metadata": {},
   "outputs": [],
   "source": [
    "# add encoded features to dataframe\n",
    "df_encoded = pd.concat([df, gender_ohe, geography_ohe], axis=1)"
   ]
  },
  {
   "cell_type": "code",
   "execution_count": 23,
   "metadata": {
    "scrolled": true
   },
   "outputs": [
    {
     "data": {
      "text/html": [
       "<div>\n",
       "<style scoped>\n",
       "    .dataframe tbody tr th:only-of-type {\n",
       "        vertical-align: middle;\n",
       "    }\n",
       "\n",
       "    .dataframe tbody tr th {\n",
       "        vertical-align: top;\n",
       "    }\n",
       "\n",
       "    .dataframe thead th {\n",
       "        text-align: right;\n",
       "    }\n",
       "</style>\n",
       "<table border=\"1\" class=\"dataframe\">\n",
       "  <thead>\n",
       "    <tr style=\"text-align: right;\">\n",
       "      <th></th>\n",
       "      <th>credit_score</th>\n",
       "      <th>age</th>\n",
       "      <th>tenure</th>\n",
       "      <th>balance</th>\n",
       "      <th>num_of_products</th>\n",
       "      <th>has_cr_card</th>\n",
       "      <th>is_active_member</th>\n",
       "      <th>estimated_salary</th>\n",
       "      <th>exited</th>\n",
       "      <th>Male</th>\n",
       "      <th>Germany</th>\n",
       "      <th>Spain</th>\n",
       "    </tr>\n",
       "  </thead>\n",
       "  <tbody>\n",
       "    <tr>\n",
       "      <th>0</th>\n",
       "      <td>619</td>\n",
       "      <td>42</td>\n",
       "      <td>2</td>\n",
       "      <td>0.00</td>\n",
       "      <td>1</td>\n",
       "      <td>1</td>\n",
       "      <td>1</td>\n",
       "      <td>101348.88</td>\n",
       "      <td>1</td>\n",
       "      <td>0</td>\n",
       "      <td>0</td>\n",
       "      <td>0</td>\n",
       "    </tr>\n",
       "    <tr>\n",
       "      <th>1</th>\n",
       "      <td>608</td>\n",
       "      <td>41</td>\n",
       "      <td>1</td>\n",
       "      <td>83807.86</td>\n",
       "      <td>1</td>\n",
       "      <td>0</td>\n",
       "      <td>1</td>\n",
       "      <td>112542.58</td>\n",
       "      <td>0</td>\n",
       "      <td>0</td>\n",
       "      <td>0</td>\n",
       "      <td>1</td>\n",
       "    </tr>\n",
       "    <tr>\n",
       "      <th>2</th>\n",
       "      <td>502</td>\n",
       "      <td>42</td>\n",
       "      <td>8</td>\n",
       "      <td>159660.80</td>\n",
       "      <td>3</td>\n",
       "      <td>1</td>\n",
       "      <td>0</td>\n",
       "      <td>113931.57</td>\n",
       "      <td>1</td>\n",
       "      <td>0</td>\n",
       "      <td>0</td>\n",
       "      <td>0</td>\n",
       "    </tr>\n",
       "    <tr>\n",
       "      <th>3</th>\n",
       "      <td>699</td>\n",
       "      <td>39</td>\n",
       "      <td>1</td>\n",
       "      <td>0.00</td>\n",
       "      <td>2</td>\n",
       "      <td>0</td>\n",
       "      <td>0</td>\n",
       "      <td>93826.63</td>\n",
       "      <td>0</td>\n",
       "      <td>0</td>\n",
       "      <td>0</td>\n",
       "      <td>0</td>\n",
       "    </tr>\n",
       "    <tr>\n",
       "      <th>4</th>\n",
       "      <td>850</td>\n",
       "      <td>43</td>\n",
       "      <td>2</td>\n",
       "      <td>125510.82</td>\n",
       "      <td>1</td>\n",
       "      <td>1</td>\n",
       "      <td>1</td>\n",
       "      <td>79084.10</td>\n",
       "      <td>0</td>\n",
       "      <td>0</td>\n",
       "      <td>0</td>\n",
       "      <td>1</td>\n",
       "    </tr>\n",
       "  </tbody>\n",
       "</table>\n",
       "</div>"
      ],
      "text/plain": [
       "   credit_score  age  tenure    balance  num_of_products  has_cr_card  \\\n",
       "0           619   42       2       0.00                1            1   \n",
       "1           608   41       1   83807.86                1            0   \n",
       "2           502   42       8  159660.80                3            1   \n",
       "3           699   39       1       0.00                2            0   \n",
       "4           850   43       2  125510.82                1            1   \n",
       "\n",
       "   is_active_member  estimated_salary  exited  Male  Germany  Spain  \n",
       "0                 1         101348.88       1     0        0      0  \n",
       "1                 1         112542.58       0     0        0      1  \n",
       "2                 0         113931.57       1     0        0      0  \n",
       "3                 0          93826.63       0     0        0      0  \n",
       "4                 1          79084.10       0     0        0      1  "
      ]
     },
     "execution_count": 23,
     "metadata": {},
     "output_type": "execute_result"
    }
   ],
   "source": [
    "df_encoded.head()"
   ]
  },
  {
   "cell_type": "markdown",
   "metadata": {},
   "source": [
    "The columns are encoded, now we can split the data into three sets: training, validation and test."
   ]
  },
  {
   "cell_type": "markdown",
   "metadata": {},
   "source": [
    "### Data Split"
   ]
  },
  {
   "cell_type": "markdown",
   "metadata": {},
   "source": [
    "Let's separate features and the target feature and then split the data into three sets. We will use the training and validation sets for training and tuning hyperparameters, and the test set for testing the finished model."
   ]
  },
  {
   "cell_type": "code",
   "execution_count": 24,
   "metadata": {},
   "outputs": [],
   "source": [
    "features = df_encoded.drop(['exited'], axis=1)\n",
    "target = df_encoded['exited']"
   ]
  },
  {
   "cell_type": "code",
   "execution_count": 25,
   "metadata": {},
   "outputs": [],
   "source": [
    "# Split the data into training (60%) remaining (40%)\n",
    "features_train, features_rem, target_train, target_rem = train_test_split(features, target, train_size=0.6, random_state=12345)\n",
    "\n",
    "# Split the remaining (40%) into validation(20%) and test (20%) sets \n",
    "features_valid, features_test, target_valid, target_test = train_test_split(features_rem, target_rem, test_size=0.5, random_state=12345)"
   ]
  },
  {
   "cell_type": "code",
   "execution_count": 26,
   "metadata": {},
   "outputs": [
    {
     "name": "stdout",
     "output_type": "stream",
     "text": [
      "(6000, 11)\n",
      "(6000,)\n",
      "(2000, 11)\n",
      "(2000,)\n",
      "(2000, 11)\n",
      "(2000,)\n"
     ]
    },
    {
     "data": {
      "text/plain": [
       "(None, None)"
      ]
     },
     "execution_count": 26,
     "metadata": {},
     "output_type": "execute_result"
    }
   ],
   "source": [
    "print(features_train.shape), print(target_train.shape)\n",
    "print(features_valid.shape), print(target_valid.shape)\n",
    "print(features_test.shape), print(target_test.shape)"
   ]
  },
  {
   "cell_type": "markdown",
   "metadata": {},
   "source": [
    "We divided the data into three sets in the ratio 60/20/20:\n",
    "\n",
    "* features_train, target_train - training set\n",
    "* features_valid, target_valid - validation set\n",
    "* freatures_test, target_test - test set"
   ]
  },
  {
   "cell_type": "markdown",
   "metadata": {},
   "source": [
    "### Scaling"
   ]
  },
  {
   "cell_type": "markdown",
   "metadata": {},
   "source": [
    "Let's scale the numerical features using the standardization method to avoid prioritizing features with large values. We fit `StandardScaler` on training data, and then apply it to validation and test data. "
   ]
  },
  {
   "cell_type": "code",
   "execution_count": 27,
   "metadata": {},
   "outputs": [
    {
     "data": {
      "text/html": [
       "<style>#sk-container-id-1 {color: black;background-color: white;}#sk-container-id-1 pre{padding: 0;}#sk-container-id-1 div.sk-toggleable {background-color: white;}#sk-container-id-1 label.sk-toggleable__label {cursor: pointer;display: block;width: 100%;margin-bottom: 0;padding: 0.3em;box-sizing: border-box;text-align: center;}#sk-container-id-1 label.sk-toggleable__label-arrow:before {content: \"▸\";float: left;margin-right: 0.25em;color: #696969;}#sk-container-id-1 label.sk-toggleable__label-arrow:hover:before {color: black;}#sk-container-id-1 div.sk-estimator:hover label.sk-toggleable__label-arrow:before {color: black;}#sk-container-id-1 div.sk-toggleable__content {max-height: 0;max-width: 0;overflow: hidden;text-align: left;background-color: #f0f8ff;}#sk-container-id-1 div.sk-toggleable__content pre {margin: 0.2em;color: black;border-radius: 0.25em;background-color: #f0f8ff;}#sk-container-id-1 input.sk-toggleable__control:checked~div.sk-toggleable__content {max-height: 200px;max-width: 100%;overflow: auto;}#sk-container-id-1 input.sk-toggleable__control:checked~label.sk-toggleable__label-arrow:before {content: \"▾\";}#sk-container-id-1 div.sk-estimator input.sk-toggleable__control:checked~label.sk-toggleable__label {background-color: #d4ebff;}#sk-container-id-1 div.sk-label input.sk-toggleable__control:checked~label.sk-toggleable__label {background-color: #d4ebff;}#sk-container-id-1 input.sk-hidden--visually {border: 0;clip: rect(1px 1px 1px 1px);clip: rect(1px, 1px, 1px, 1px);height: 1px;margin: -1px;overflow: hidden;padding: 0;position: absolute;width: 1px;}#sk-container-id-1 div.sk-estimator {font-family: monospace;background-color: #f0f8ff;border: 1px dotted black;border-radius: 0.25em;box-sizing: border-box;margin-bottom: 0.5em;}#sk-container-id-1 div.sk-estimator:hover {background-color: #d4ebff;}#sk-container-id-1 div.sk-parallel-item::after {content: \"\";width: 100%;border-bottom: 1px solid gray;flex-grow: 1;}#sk-container-id-1 div.sk-label:hover label.sk-toggleable__label {background-color: #d4ebff;}#sk-container-id-1 div.sk-serial::before {content: \"\";position: absolute;border-left: 1px solid gray;box-sizing: border-box;top: 0;bottom: 0;left: 50%;z-index: 0;}#sk-container-id-1 div.sk-serial {display: flex;flex-direction: column;align-items: center;background-color: white;padding-right: 0.2em;padding-left: 0.2em;position: relative;}#sk-container-id-1 div.sk-item {position: relative;z-index: 1;}#sk-container-id-1 div.sk-parallel {display: flex;align-items: stretch;justify-content: center;background-color: white;position: relative;}#sk-container-id-1 div.sk-item::before, #sk-container-id-1 div.sk-parallel-item::before {content: \"\";position: absolute;border-left: 1px solid gray;box-sizing: border-box;top: 0;bottom: 0;left: 50%;z-index: -1;}#sk-container-id-1 div.sk-parallel-item {display: flex;flex-direction: column;z-index: 1;position: relative;background-color: white;}#sk-container-id-1 div.sk-parallel-item:first-child::after {align-self: flex-end;width: 50%;}#sk-container-id-1 div.sk-parallel-item:last-child::after {align-self: flex-start;width: 50%;}#sk-container-id-1 div.sk-parallel-item:only-child::after {width: 0;}#sk-container-id-1 div.sk-dashed-wrapped {border: 1px dashed gray;margin: 0 0.4em 0.5em 0.4em;box-sizing: border-box;padding-bottom: 0.4em;background-color: white;}#sk-container-id-1 div.sk-label label {font-family: monospace;font-weight: bold;display: inline-block;line-height: 1.2em;}#sk-container-id-1 div.sk-label-container {text-align: center;}#sk-container-id-1 div.sk-container {/* jupyter's `normalize.less` sets `[hidden] { display: none; }` but bootstrap.min.css set `[hidden] { display: none !important; }` so we also need the `!important` here to be able to override the default hidden behavior on the sphinx rendered scikit-learn.org. See: https://github.com/scikit-learn/scikit-learn/issues/21755 */display: inline-block !important;position: relative;}#sk-container-id-1 div.sk-text-repr-fallback {display: none;}</style><div id=\"sk-container-id-1\" class=\"sk-top-container\"><div class=\"sk-text-repr-fallback\"><pre>StandardScaler()</pre><b>In a Jupyter environment, please rerun this cell to show the HTML representation or trust the notebook. <br />On GitHub, the HTML representation is unable to render, please try loading this page with nbviewer.org.</b></div><div class=\"sk-container\" hidden><div class=\"sk-item\"><div class=\"sk-estimator sk-toggleable\"><input class=\"sk-toggleable__control sk-hidden--visually\" id=\"sk-estimator-id-1\" type=\"checkbox\" checked><label for=\"sk-estimator-id-1\" class=\"sk-toggleable__label sk-toggleable__label-arrow\">StandardScaler</label><div class=\"sk-toggleable__content\"><pre>StandardScaler()</pre></div></div></div></div></div>"
      ],
      "text/plain": [
       "StandardScaler()"
      ]
     },
     "execution_count": 27,
     "metadata": {},
     "output_type": "execute_result"
    }
   ],
   "source": [
    "scaler = StandardScaler()\n",
    "scaler.fit(features_train) "
   ]
  },
  {
   "cell_type": "code",
   "execution_count": 28,
   "metadata": {},
   "outputs": [
    {
     "data": {
      "text/html": [
       "<div>\n",
       "<style scoped>\n",
       "    .dataframe tbody tr th:only-of-type {\n",
       "        vertical-align: middle;\n",
       "    }\n",
       "\n",
       "    .dataframe tbody tr th {\n",
       "        vertical-align: top;\n",
       "    }\n",
       "\n",
       "    .dataframe thead th {\n",
       "        text-align: right;\n",
       "    }\n",
       "</style>\n",
       "<table border=\"1\" class=\"dataframe\">\n",
       "  <thead>\n",
       "    <tr style=\"text-align: right;\">\n",
       "      <th></th>\n",
       "      <th>credit_score</th>\n",
       "      <th>age</th>\n",
       "      <th>tenure</th>\n",
       "      <th>balance</th>\n",
       "      <th>num_of_products</th>\n",
       "      <th>has_cr_card</th>\n",
       "      <th>is_active_member</th>\n",
       "      <th>estimated_salary</th>\n",
       "      <th>Male</th>\n",
       "      <th>Germany</th>\n",
       "      <th>Spain</th>\n",
       "    </tr>\n",
       "  </thead>\n",
       "  <tbody>\n",
       "    <tr>\n",
       "      <th>7479</th>\n",
       "      <td>-0.886751</td>\n",
       "      <td>-0.373192</td>\n",
       "      <td>8</td>\n",
       "      <td>1.232271</td>\n",
       "      <td>1</td>\n",
       "      <td>1</td>\n",
       "      <td>0</td>\n",
       "      <td>-0.187705</td>\n",
       "      <td>1</td>\n",
       "      <td>0</td>\n",
       "      <td>1</td>\n",
       "    </tr>\n",
       "    <tr>\n",
       "      <th>3411</th>\n",
       "      <td>0.608663</td>\n",
       "      <td>-0.183385</td>\n",
       "      <td>8</td>\n",
       "      <td>0.600563</td>\n",
       "      <td>1</td>\n",
       "      <td>0</td>\n",
       "      <td>0</td>\n",
       "      <td>-0.333945</td>\n",
       "      <td>0</td>\n",
       "      <td>0</td>\n",
       "      <td>0</td>\n",
       "    </tr>\n",
       "    <tr>\n",
       "      <th>6027</th>\n",
       "      <td>2.052152</td>\n",
       "      <td>0.480939</td>\n",
       "      <td>3</td>\n",
       "      <td>1.027098</td>\n",
       "      <td>2</td>\n",
       "      <td>0</td>\n",
       "      <td>1</td>\n",
       "      <td>1.503095</td>\n",
       "      <td>1</td>\n",
       "      <td>1</td>\n",
       "      <td>0</td>\n",
       "    </tr>\n",
       "    <tr>\n",
       "      <th>1247</th>\n",
       "      <td>-1.457915</td>\n",
       "      <td>-1.417129</td>\n",
       "      <td>6</td>\n",
       "      <td>-1.233163</td>\n",
       "      <td>2</td>\n",
       "      <td>1</td>\n",
       "      <td>0</td>\n",
       "      <td>-1.071061</td>\n",
       "      <td>1</td>\n",
       "      <td>0</td>\n",
       "      <td>0</td>\n",
       "    </tr>\n",
       "    <tr>\n",
       "      <th>3716</th>\n",
       "      <td>0.130961</td>\n",
       "      <td>-1.132419</td>\n",
       "      <td>2</td>\n",
       "      <td>1.140475</td>\n",
       "      <td>1</td>\n",
       "      <td>0</td>\n",
       "      <td>0</td>\n",
       "      <td>1.524268</td>\n",
       "      <td>0</td>\n",
       "      <td>1</td>\n",
       "      <td>0</td>\n",
       "    </tr>\n",
       "  </tbody>\n",
       "</table>\n",
       "</div>"
      ],
      "text/plain": [
       "      credit_score       age  tenure   balance  num_of_products  has_cr_card  \\\n",
       "7479     -0.886751 -0.373192       8  1.232271                1            1   \n",
       "3411      0.608663 -0.183385       8  0.600563                1            0   \n",
       "6027      2.052152  0.480939       3  1.027098                2            0   \n",
       "1247     -1.457915 -1.417129       6 -1.233163                2            1   \n",
       "3716      0.130961 -1.132419       2  1.140475                1            0   \n",
       "\n",
       "      is_active_member  estimated_salary  Male  Germany  Spain  \n",
       "7479                 0         -0.187705     1        0      1  \n",
       "3411                 0         -0.333945     0        0      0  \n",
       "6027                 1          1.503095     1        1      0  \n",
       "1247                 0         -1.071061     1        0      0  \n",
       "3716                 0          1.524268     0        1      0  "
      ]
     },
     "execution_count": 28,
     "metadata": {},
     "output_type": "execute_result"
    }
   ],
   "source": [
    "numeric = ['credit_score', 'age', 'balance', 'estimated_salary']\n",
    "scaler = StandardScaler()\n",
    "scaler.fit(features_train[numeric])\n",
    "pd.options.mode.chained_assignment = None\n",
    "features_train[numeric] = scaler.transform(features_train[numeric])\n",
    "features_train.head()"
   ]
  },
  {
   "cell_type": "markdown",
   "metadata": {},
   "source": [
    "Let's apply the Scaler to the validation set."
   ]
  },
  {
   "cell_type": "code",
   "execution_count": 29,
   "metadata": {},
   "outputs": [
    {
     "data": {
      "text/html": [
       "<div>\n",
       "<style scoped>\n",
       "    .dataframe tbody tr th:only-of-type {\n",
       "        vertical-align: middle;\n",
       "    }\n",
       "\n",
       "    .dataframe tbody tr th {\n",
       "        vertical-align: top;\n",
       "    }\n",
       "\n",
       "    .dataframe thead th {\n",
       "        text-align: right;\n",
       "    }\n",
       "</style>\n",
       "<table border=\"1\" class=\"dataframe\">\n",
       "  <thead>\n",
       "    <tr style=\"text-align: right;\">\n",
       "      <th></th>\n",
       "      <th>credit_score</th>\n",
       "      <th>age</th>\n",
       "      <th>tenure</th>\n",
       "      <th>balance</th>\n",
       "      <th>num_of_products</th>\n",
       "      <th>has_cr_card</th>\n",
       "      <th>is_active_member</th>\n",
       "      <th>estimated_salary</th>\n",
       "      <th>Male</th>\n",
       "      <th>Germany</th>\n",
       "      <th>Spain</th>\n",
       "    </tr>\n",
       "  </thead>\n",
       "  <tbody>\n",
       "    <tr>\n",
       "      <th>8532</th>\n",
       "      <td>-0.699824</td>\n",
       "      <td>-0.373192</td>\n",
       "      <td>2</td>\n",
       "      <td>-1.233163</td>\n",
       "      <td>2</td>\n",
       "      <td>1</td>\n",
       "      <td>0</td>\n",
       "      <td>-0.015173</td>\n",
       "      <td>0</td>\n",
       "      <td>0</td>\n",
       "      <td>0</td>\n",
       "    </tr>\n",
       "    <tr>\n",
       "      <th>5799</th>\n",
       "      <td>-0.284431</td>\n",
       "      <td>0.575842</td>\n",
       "      <td>3</td>\n",
       "      <td>-1.233163</td>\n",
       "      <td>1</td>\n",
       "      <td>1</td>\n",
       "      <td>1</td>\n",
       "      <td>1.471724</td>\n",
       "      <td>0</td>\n",
       "      <td>0</td>\n",
       "      <td>0</td>\n",
       "    </tr>\n",
       "    <tr>\n",
       "      <th>5511</th>\n",
       "      <td>0.151731</td>\n",
       "      <td>-0.657902</td>\n",
       "      <td>0</td>\n",
       "      <td>0.438711</td>\n",
       "      <td>1</td>\n",
       "      <td>1</td>\n",
       "      <td>0</td>\n",
       "      <td>-1.367107</td>\n",
       "      <td>1</td>\n",
       "      <td>1</td>\n",
       "      <td>0</td>\n",
       "    </tr>\n",
       "    <tr>\n",
       "      <th>7365</th>\n",
       "      <td>-0.876366</td>\n",
       "      <td>-0.278288</td>\n",
       "      <td>10</td>\n",
       "      <td>1.239884</td>\n",
       "      <td>1</td>\n",
       "      <td>1</td>\n",
       "      <td>1</td>\n",
       "      <td>-0.786517</td>\n",
       "      <td>0</td>\n",
       "      <td>0</td>\n",
       "      <td>1</td>\n",
       "    </tr>\n",
       "    <tr>\n",
       "      <th>7367</th>\n",
       "      <td>-0.481743</td>\n",
       "      <td>0.291132</td>\n",
       "      <td>10</td>\n",
       "      <td>-1.233163</td>\n",
       "      <td>2</td>\n",
       "      <td>1</td>\n",
       "      <td>0</td>\n",
       "      <td>1.358533</td>\n",
       "      <td>1</td>\n",
       "      <td>0</td>\n",
       "      <td>1</td>\n",
       "    </tr>\n",
       "  </tbody>\n",
       "</table>\n",
       "</div>"
      ],
      "text/plain": [
       "      credit_score       age  tenure   balance  num_of_products  has_cr_card  \\\n",
       "8532     -0.699824 -0.373192       2 -1.233163                2            1   \n",
       "5799     -0.284431  0.575842       3 -1.233163                1            1   \n",
       "5511      0.151731 -0.657902       0  0.438711                1            1   \n",
       "7365     -0.876366 -0.278288      10  1.239884                1            1   \n",
       "7367     -0.481743  0.291132      10 -1.233163                2            1   \n",
       "\n",
       "      is_active_member  estimated_salary  Male  Germany  Spain  \n",
       "8532                 0         -0.015173     0        0      0  \n",
       "5799                 1          1.471724     0        0      0  \n",
       "5511                 0         -1.367107     1        1      0  \n",
       "7365                 1         -0.786517     0        0      1  \n",
       "7367                 0          1.358533     1        0      1  "
      ]
     },
     "execution_count": 29,
     "metadata": {},
     "output_type": "execute_result"
    }
   ],
   "source": [
    "features_valid[numeric] = scaler.transform(features_valid[numeric])\n",
    "features_valid.head()"
   ]
  },
  {
   "cell_type": "markdown",
   "metadata": {},
   "source": [
    "Let's apply the Scaler to the test set."
   ]
  },
  {
   "cell_type": "code",
   "execution_count": 30,
   "metadata": {
    "scrolled": true
   },
   "outputs": [
    {
     "data": {
      "text/html": [
       "<div>\n",
       "<style scoped>\n",
       "    .dataframe tbody tr th:only-of-type {\n",
       "        vertical-align: middle;\n",
       "    }\n",
       "\n",
       "    .dataframe tbody tr th {\n",
       "        vertical-align: top;\n",
       "    }\n",
       "\n",
       "    .dataframe thead th {\n",
       "        text-align: right;\n",
       "    }\n",
       "</style>\n",
       "<table border=\"1\" class=\"dataframe\">\n",
       "  <thead>\n",
       "    <tr style=\"text-align: right;\">\n",
       "      <th></th>\n",
       "      <th>credit_score</th>\n",
       "      <th>age</th>\n",
       "      <th>tenure</th>\n",
       "      <th>balance</th>\n",
       "      <th>num_of_products</th>\n",
       "      <th>has_cr_card</th>\n",
       "      <th>is_active_member</th>\n",
       "      <th>estimated_salary</th>\n",
       "      <th>Male</th>\n",
       "      <th>Germany</th>\n",
       "      <th>Spain</th>\n",
       "    </tr>\n",
       "  </thead>\n",
       "  <tbody>\n",
       "    <tr>\n",
       "      <th>7041</th>\n",
       "      <td>-2.226392</td>\n",
       "      <td>-0.088482</td>\n",
       "      <td>2</td>\n",
       "      <td>-1.233163</td>\n",
       "      <td>2</td>\n",
       "      <td>1</td>\n",
       "      <td>0</td>\n",
       "      <td>0.647083</td>\n",
       "      <td>1</td>\n",
       "      <td>0</td>\n",
       "      <td>0</td>\n",
       "    </tr>\n",
       "    <tr>\n",
       "      <th>5709</th>\n",
       "      <td>-0.087120</td>\n",
       "      <td>0.006422</td>\n",
       "      <td>9</td>\n",
       "      <td>-1.233163</td>\n",
       "      <td>1</td>\n",
       "      <td>1</td>\n",
       "      <td>0</td>\n",
       "      <td>-1.658410</td>\n",
       "      <td>0</td>\n",
       "      <td>0</td>\n",
       "      <td>0</td>\n",
       "    </tr>\n",
       "    <tr>\n",
       "      <th>7117</th>\n",
       "      <td>-0.917905</td>\n",
       "      <td>-0.752805</td>\n",
       "      <td>5</td>\n",
       "      <td>0.722307</td>\n",
       "      <td>1</td>\n",
       "      <td>1</td>\n",
       "      <td>1</td>\n",
       "      <td>-1.369334</td>\n",
       "      <td>1</td>\n",
       "      <td>0</td>\n",
       "      <td>1</td>\n",
       "    </tr>\n",
       "    <tr>\n",
       "      <th>7775</th>\n",
       "      <td>-0.253277</td>\n",
       "      <td>0.101325</td>\n",
       "      <td>10</td>\n",
       "      <td>-1.233163</td>\n",
       "      <td>2</td>\n",
       "      <td>1</td>\n",
       "      <td>0</td>\n",
       "      <td>0.075086</td>\n",
       "      <td>1</td>\n",
       "      <td>0</td>\n",
       "      <td>1</td>\n",
       "    </tr>\n",
       "    <tr>\n",
       "      <th>8735</th>\n",
       "      <td>0.785204</td>\n",
       "      <td>-0.847708</td>\n",
       "      <td>10</td>\n",
       "      <td>0.615625</td>\n",
       "      <td>1</td>\n",
       "      <td>0</td>\n",
       "      <td>1</td>\n",
       "      <td>-1.070919</td>\n",
       "      <td>1</td>\n",
       "      <td>0</td>\n",
       "      <td>0</td>\n",
       "    </tr>\n",
       "  </tbody>\n",
       "</table>\n",
       "</div>"
      ],
      "text/plain": [
       "      credit_score       age  tenure   balance  num_of_products  has_cr_card  \\\n",
       "7041     -2.226392 -0.088482       2 -1.233163                2            1   \n",
       "5709     -0.087120  0.006422       9 -1.233163                1            1   \n",
       "7117     -0.917905 -0.752805       5  0.722307                1            1   \n",
       "7775     -0.253277  0.101325      10 -1.233163                2            1   \n",
       "8735      0.785204 -0.847708      10  0.615625                1            0   \n",
       "\n",
       "      is_active_member  estimated_salary  Male  Germany  Spain  \n",
       "7041                 0          0.647083     1        0      0  \n",
       "5709                 0         -1.658410     0        0      0  \n",
       "7117                 1         -1.369334     1        0      1  \n",
       "7775                 0          0.075086     1        0      1  \n",
       "8735                 1         -1.070919     1        0      0  "
      ]
     },
     "execution_count": 30,
     "metadata": {},
     "output_type": "execute_result"
    }
   ],
   "source": [
    "features_test[numeric] = scaler.transform(features_test[numeric])\n",
    "features_test.head()"
   ]
  },
  {
   "cell_type": "markdown",
   "metadata": {},
   "source": [
    "All features are scaled so we can continue."
   ]
  },
  {
   "cell_type": "markdown",
   "metadata": {},
   "source": [
    "### Conclusion"
   ]
  },
  {
   "cell_type": "markdown",
   "metadata": {},
   "source": [
    "In the process of preparing our sets, we've done the following:\n",
    "\n",
    "* using One-Hot Encoding we converted the categorical features `geography` and `gender` into numerical\n",
    "* we divided the data into three sets (training, validation, and test) in the proportion 60/20/20\n",
    "* we scaled numerical features using standardization (StandardScaler)"
   ]
  },
  {
   "cell_type": "markdown",
   "metadata": {},
   "source": [
    "## Problem Analysis"
   ]
  },
  {
   "cell_type": "markdown",
   "metadata": {},
   "source": [
    "### Class balance check"
   ]
  },
  {
   "cell_type": "code",
   "execution_count": 31,
   "metadata": {},
   "outputs": [
    {
     "data": {
      "text/plain": [
       "0    7963\n",
       "1    2037\n",
       "Name: exited, dtype: int64"
      ]
     },
     "execution_count": 31,
     "metadata": {},
     "output_type": "execute_result"
    }
   ],
   "source": [
    "df_encoded['exited'].value_counts()"
   ]
  },
  {
   "cell_type": "markdown",
   "metadata": {},
   "source": [
    "There is a class imbalance in the data. First, we will try to train the models without taking into account the imbalance, and then we will try to get rid of it and train the models again to compare the results."
   ]
  },
  {
   "cell_type": "markdown",
   "metadata": {},
   "source": [
    "### Model training without imbalance"
   ]
  },
  {
   "cell_type": "markdown",
   "metadata": {},
   "source": [
    "Let's train a `Decision Tree` model and check the F1 metric."
   ]
  },
  {
   "cell_type": "code",
   "execution_count": 32,
   "metadata": {},
   "outputs": [
    {
     "name": "stdout",
     "output_type": "stream",
     "text": [
      "F1: 0.5413744740532961\n"
     ]
    }
   ],
   "source": [
    "model_tree = DecisionTreeClassifier(random_state=12345, max_depth=10)\n",
    "model_tree.fit(features_train, target_train) \n",
    "tree_predicted_valid = model_tree.predict(features_valid)\n",
    "print(\"F1:\", f1_score(target_valid, tree_predicted_valid))"
   ]
  },
  {
   "cell_type": "markdown",
   "metadata": {},
   "source": [
    "Now let's train the `Random Forest` model and check the result."
   ]
  },
  {
   "cell_type": "code",
   "execution_count": 33,
   "metadata": {},
   "outputs": [
    {
     "name": "stdout",
     "output_type": "stream",
     "text": [
      "F1: 0.572289156626506\n"
     ]
    }
   ],
   "source": [
    "model_rfc = RandomForestClassifier(random_state=12345, n_estimators=20, max_depth=10)\n",
    "model_rfc.fit(features_train, target_train)\n",
    "rfc_predicted_valid = model_rfc.predict(features_valid)\n",
    "print(\"F1:\", f1_score(target_valid, rfc_predicted_valid))"
   ]
  },
  {
   "cell_type": "markdown",
   "metadata": {},
   "source": [
    "`Random Forest` performed better on unbalanced data. Now we will train the `Logistic Regression` model."
   ]
  },
  {
   "cell_type": "code",
   "execution_count": 34,
   "metadata": {},
   "outputs": [
    {
     "name": "stdout",
     "output_type": "stream",
     "text": [
      "F1: 0.33389544688026984\n"
     ]
    }
   ],
   "source": [
    "model_log_reg = LogisticRegression(random_state=12345, solver='liblinear')\n",
    "model_log_reg.fit(features_train, target_train)\n",
    "log_reg_predicted_valid = model_log_reg.predict(features_valid)\n",
    "print(\"F1:\", f1_score(target_valid, log_reg_predicted_valid))"
   ]
  },
  {
   "cell_type": "markdown",
   "metadata": {},
   "source": [
    "Fairly low score. At this stage, logistic regression performs worse than other models."
   ]
  },
  {
   "cell_type": "markdown",
   "metadata": {},
   "source": [
    "## Disbalance Reduction"
   ]
  },
  {
   "cell_type": "markdown",
   "metadata": {},
   "source": [
    "Now let's try to deal with the imbalance. To do this, we will use two methods: Upsampling and Downsampling and compare which one gives the best result."
   ]
  },
  {
   "cell_type": "markdown",
   "metadata": {},
   "source": [
    "### Upsampling"
   ]
  },
  {
   "cell_type": "markdown",
   "metadata": {},
   "source": [
    "Let's try the upsampling method first. To do this we will:\n",
    "\n",
    "* divide the training set into negative and positive objects;\n",
    "* copy positive objects several times;\n",
    "* taking into account the received data, we will create a new training set;\n",
    "* shuffle the data."
   ]
  },
  {
   "cell_type": "code",
   "execution_count": 35,
   "metadata": {},
   "outputs": [],
   "source": [
    "def upsample(features, target, repeat):\n",
    "    features_zeros = features[target == 0]\n",
    "    features_ones = features[target == 1]\n",
    "    target_zeros = target[target == 0]\n",
    "    target_ones = target[target == 1]\n",
    "\n",
    "    features_upsampled = pd.concat([features_zeros] + [features_ones] * repeat)\n",
    "    target_upsampled = pd.concat([target_zeros] + [target_ones] * repeat)\n",
    "    \n",
    "    features_upsampled, target_upsampled = shuffle(\n",
    "        features_upsampled, target_upsampled, random_state=12345)\n",
    "    \n",
    "    return features_upsampled, target_upsampled\n",
    "\n",
    "features_upsampled, target_upsampled = upsample(features_train, target_train, 4)"
   ]
  },
  {
   "cell_type": "code",
   "execution_count": 36,
   "metadata": {},
   "outputs": [
    {
     "data": {
      "text/plain": [
       "0    4804\n",
       "1    1196\n",
       "Name: exited, dtype: int64"
      ]
     },
     "execution_count": 36,
     "metadata": {},
     "output_type": "execute_result"
    }
   ],
   "source": [
    "target_train.value_counts()"
   ]
  },
  {
   "cell_type": "code",
   "execution_count": 37,
   "metadata": {},
   "outputs": [
    {
     "data": {
      "text/plain": [
       "0    4804\n",
       "1    4784\n",
       "Name: exited, dtype: int64"
      ]
     },
     "execution_count": 37,
     "metadata": {},
     "output_type": "execute_result"
    }
   ],
   "source": [
    "target_upsampled.value_counts()"
   ]
  },
  {
   "cell_type": "markdown",
   "metadata": {},
   "source": [
    "Let's check how the models work on the updated data. First, let's train a `Decision Tree` model."
   ]
  },
  {
   "cell_type": "code",
   "execution_count": 38,
   "metadata": {},
   "outputs": [
    {
     "name": "stdout",
     "output_type": "stream",
     "text": [
      "F1: 0.52465483234714\n"
     ]
    }
   ],
   "source": [
    "model_tree = DecisionTreeClassifier(random_state=12345, max_depth=10) \n",
    "model_tree.fit(features_upsampled, target_upsampled) \n",
    "tree_predicted_valid = model_tree.predict(features_valid)\n",
    "print(\"F1:\", f1_score(target_valid, tree_predicted_valid))"
   ]
  },
  {
   "cell_type": "markdown",
   "metadata": {},
   "source": [
    "The `Decision Tree` model showed a slightly worse result than on unbalanced data."
   ]
  },
  {
   "cell_type": "code",
   "execution_count": 39,
   "metadata": {},
   "outputs": [
    {
     "name": "stdout",
     "output_type": "stream",
     "text": [
      "F1: 0.619934282584885\n"
     ]
    }
   ],
   "source": [
    "model_rfc = RandomForestClassifier(random_state=12345, n_estimators=20, max_depth=10)\n",
    "model_rfc.fit(features_upsampled, target_upsampled)\n",
    "rfc_predicted_valid = model_rfc.predict(features_valid)\n",
    "print(\"F1:\", f1_score(target_valid, rfc_predicted_valid))"
   ]
  },
  {
   "cell_type": "markdown",
   "metadata": {},
   "source": [
    "We can see some increase in the F1 metric for the `Random Forest` model."
   ]
  },
  {
   "cell_type": "code",
   "execution_count": 40,
   "metadata": {
    "scrolled": true
   },
   "outputs": [
    {
     "name": "stdout",
     "output_type": "stream",
     "text": [
      "F1: 0.4888888888888888\n"
     ]
    }
   ],
   "source": [
    "model_log_reg = LogisticRegression(random_state=12345, solver='liblinear')\n",
    "model_log_reg.fit(features_upsampled, target_upsampled)\n",
    "log_reg_predicted_valid = model_log_reg.predict(features_valid)\n",
    "print(\"F1:\", f1_score(target_valid, log_reg_predicted_valid))"
   ]
  },
  {
   "cell_type": "markdown",
   "metadata": {},
   "source": [
    "The value of the F1 metric for `Logistic Regression` has increased significantly."
   ]
  },
  {
   "cell_type": "markdown",
   "metadata": {},
   "source": [
    "### Downsampling"
   ]
  },
  {
   "cell_type": "markdown",
   "metadata": {},
   "source": [
    "Now let's try the downsampling method. To do this we will:\n",
    "\n",
    "* divide the training set into negative and positive objects;\n",
    "* randomly discard some of the negative objects;\n",
    "* taking into account the received data, we will create a new training set;\n",
    "* shuffle the data."
   ]
  },
  {
   "cell_type": "code",
   "execution_count": 41,
   "metadata": {},
   "outputs": [],
   "source": [
    "def downsample(features, target, fraction):\n",
    "    features_zeros = features[target == 0]\n",
    "    features_ones = features[target == 1]\n",
    "    target_zeros = target[target == 0]\n",
    "    target_ones = target[target == 1]\n",
    "\n",
    "    features_downsampled = pd.concat(\n",
    "        [features_zeros.sample(frac=fraction, random_state=12345)] + [features_ones])\n",
    "    target_downsampled = pd.concat(\n",
    "        [target_zeros.sample(frac=fraction, random_state=12345)] + [target_ones])\n",
    "    \n",
    "    features_downsampled, target_downsampled = shuffle(\n",
    "        features_downsampled, target_downsampled, random_state=12345)\n",
    "    \n",
    "    return features_downsampled, target_downsampled\n",
    "\n",
    "features_downsampled, target_downsampled = downsample(features_train, target_train, 0.25)"
   ]
  },
  {
   "cell_type": "code",
   "execution_count": 42,
   "metadata": {},
   "outputs": [
    {
     "data": {
      "text/plain": [
       "0    4804\n",
       "1    1196\n",
       "Name: exited, dtype: int64"
      ]
     },
     "execution_count": 42,
     "metadata": {},
     "output_type": "execute_result"
    }
   ],
   "source": [
    "target_train.value_counts()"
   ]
  },
  {
   "cell_type": "code",
   "execution_count": 43,
   "metadata": {
    "scrolled": false
   },
   "outputs": [
    {
     "data": {
      "text/plain": [
       "0    1201\n",
       "1    1196\n",
       "Name: exited, dtype: int64"
      ]
     },
     "execution_count": 43,
     "metadata": {},
     "output_type": "execute_result"
    }
   ],
   "source": [
    "target_downsampled.value_counts()"
   ]
  },
  {
   "cell_type": "markdown",
   "metadata": {},
   "source": [
    "Let's check how the models work on the updated data. Let's check the `Decision Tree` model first."
   ]
  },
  {
   "cell_type": "code",
   "execution_count": 44,
   "metadata": {},
   "outputs": [
    {
     "name": "stdout",
     "output_type": "stream",
     "text": [
      "F1: 0.5257249766136577\n"
     ]
    }
   ],
   "source": [
    "model_tree = DecisionTreeClassifier(random_state=12345, max_depth=10) \n",
    "model_tree.fit(features_downsampled, target_downsampled) \n",
    "tree_predicted_valid = model_tree.predict(features_valid)\n",
    "print(\"F1:\", f1_score(target_valid, tree_predicted_valid))"
   ]
  },
  {
   "cell_type": "markdown",
   "metadata": {},
   "source": [
    "The `Decision Tree` model, as well as with upsampling, showed a slightly worse result than on unbalanced data."
   ]
  },
  {
   "cell_type": "code",
   "execution_count": 45,
   "metadata": {},
   "outputs": [
    {
     "name": "stdout",
     "output_type": "stream",
     "text": [
      "F1: 0.5885714285714285\n"
     ]
    }
   ],
   "source": [
    "model_rfc = RandomForestClassifier(random_state=12345, n_estimators=20, max_depth=10)\n",
    "model_rfc.fit(features_downsampled, target_downsampled)\n",
    "rfc_predicted_valid = model_rfc.predict(features_valid)\n",
    "print(\"F1:\", f1_score(target_valid, rfc_predicted_valid))"
   ]
  },
  {
   "cell_type": "markdown",
   "metadata": {},
   "source": [
    "For the `Random Forest` model, the result improved slightly."
   ]
  },
  {
   "cell_type": "code",
   "execution_count": 46,
   "metadata": {},
   "outputs": [
    {
     "name": "stdout",
     "output_type": "stream",
     "text": [
      "F1: 0.4892703862660944\n"
     ]
    }
   ],
   "source": [
    "model_log_reg = LogisticRegression(random_state=12345, solver='liblinear')\n",
    "model_log_reg.fit(features_downsampled, target_downsampled)\n",
    "log_reg_predicted_valid = model_log_reg.predict(features_valid)\n",
    "print(\"F1:\", f1_score(target_valid, log_reg_predicted_valid))"
   ]
  },
  {
   "cell_type": "markdown",
   "metadata": {},
   "source": [
    "For `Logistic Regression`, we see a significant increase in the F1 metric."
   ]
  },
  {
   "cell_type": "markdown",
   "metadata": {},
   "source": [
    "Let's use the Upsampling method as it showed better results."
   ]
  },
  {
   "cell_type": "markdown",
   "metadata": {},
   "source": [
    "### Model training and hyperparameter tuning"
   ]
  },
  {
   "cell_type": "markdown",
   "metadata": {},
   "source": [
    "We will do the final training on an increased sample, but first we will tune hyperparameters using the GridSearchCV tool. We will evaluate the quality of the model by the F1-measure, ROC-curve and AUC-ROC area."
   ]
  },
  {
   "cell_type": "markdown",
   "metadata": {},
   "source": [
    "**Decision Tree**"
   ]
  },
  {
   "cell_type": "markdown",
   "metadata": {},
   "source": [
    "Let's tune the hyperparameters for the `Decision Tree` model."
   ]
  },
  {
   "cell_type": "code",
   "execution_count": 47,
   "metadata": {},
   "outputs": [
    {
     "data": {
      "text/plain": [
       "{'max_depth': 14}"
      ]
     },
     "execution_count": 47,
     "metadata": {},
     "output_type": "execute_result"
    }
   ],
   "source": [
    "tree_params = {'max_depth': range (1,15, 1)}\n",
    "tree = DecisionTreeClassifier(random_state=12345)\n",
    "\n",
    "grid_tree = GridSearchCV(tree, tree_params, cv=5, scoring='f1')\n",
    "grid_tree.fit(features_upsampled, target_upsampled)\n",
    "grid_tree.best_params_"
   ]
  },
  {
   "cell_type": "markdown",
   "metadata": {},
   "source": [
    "Let's apply the parameters and check the result:"
   ]
  },
  {
   "cell_type": "code",
   "execution_count": 48,
   "metadata": {},
   "outputs": [
    {
     "name": "stdout",
     "output_type": "stream",
     "text": [
      "F1: 0.4960541149943631\n"
     ]
    }
   ],
   "source": [
    "model_tree = DecisionTreeClassifier(random_state=12345, max_depth=14) \n",
    "model_tree.fit(features_upsampled, target_upsampled) \n",
    "tree_predicted_valid = model_tree.predict(features_valid)\n",
    "print(\"F1:\", f1_score(target_valid, tree_predicted_valid))"
   ]
  },
  {
   "cell_type": "markdown",
   "metadata": {},
   "source": [
    "The F1 score is below the required threshold of 0.59 on the validation data. Let's see what results we get on the test data."
   ]
  },
  {
   "cell_type": "code",
   "execution_count": 49,
   "metadata": {
    "scrolled": true
   },
   "outputs": [
    {
     "data": {
      "image/png": "[encoded data removed]",
      "text/plain": [
       "<Figure size 432x288 with 1 Axes>"
      ]
     },
     "metadata": {
      "needs_background": "light"
     },
     "output_type": "display_data"
    },
    {
     "name": "stdout",
     "output_type": "stream",
     "text": [
      "AUC-ROC: 0.6956172611738517\n"
     ]
    }
   ],
   "source": [
    "probabilities_valid = model_tree.predict_proba(features_valid)\n",
    "probabilities_one_valid = probabilities_valid[:, 1]\n",
    "\n",
    "fpr, tpr, thresholds = roc_curve(target_valid, probabilities_one_valid)\n",
    "\n",
    "plt.figure()\n",
    "plt.plot([0, 1], [0, 1], linestyle='--')\n",
    "plt.plot(fpr, tpr)\n",
    "plt.xlim([0.0, 1.0])\n",
    "plt.ylim([0.0, 1.0])\n",
    "plt.xlabel('False Positive Rate')\n",
    "plt.ylabel('True Positive Rate')\n",
    "plt.title('ROC-curve')\n",
    "plt.show()\n",
    "\n",
    "auc_roc = roc_auc_score(target_valid, probabilities_one_valid)\n",
    "print('AUC-ROC:', auc_roc)"
   ]
  },
  {
   "cell_type": "markdown",
   "metadata": {},
   "source": [
    "A ROC-AUC value greater than 0.5 means our model is better than a random one."
   ]
  },
  {
   "cell_type": "markdown",
   "metadata": {},
   "source": [
    "**Random Forest**"
   ]
  },
  {
   "cell_type": "markdown",
   "metadata": {},
   "source": [
    "Let's tune the hyperparameters for the `Random Forest` model."
   ]
  },
  {
   "cell_type": "code",
   "execution_count": 50,
   "metadata": {},
   "outputs": [
    {
     "data": {
      "text/plain": [
       "{'criterion': 'gini', 'max_depth': 13, 'n_estimators': 50}"
      ]
     },
     "execution_count": 50,
     "metadata": {},
     "output_type": "execute_result"
    }
   ],
   "source": [
    "rfc_params = {\n",
    "              'n_estimators': [3, 10, 20, 30, 40, 50],\n",
    "              'criterion': ['gini', 'entropy'],\n",
    "              'max_depth': range (1,15, 2),\n",
    "             }\n",
    "rfc = RandomForestClassifier(random_state=12345)\n",
    "\n",
    "grid_rfc = GridSearchCV(rfc, rfc_params, cv=5, scoring='f1')\n",
    "grid_rfc.fit(features_upsampled, target_upsampled)\n",
    "grid_rfc.best_params_"
   ]
  },
  {
   "cell_type": "markdown",
   "metadata": {},
   "source": [
    "Let's apply the parameters and check the result:"
   ]
  },
  {
   "cell_type": "code",
   "execution_count": 51,
   "metadata": {},
   "outputs": [
    {
     "name": "stdout",
     "output_type": "stream",
     "text": [
      "F1: 0.6230303030303032\n"
     ]
    }
   ],
   "source": [
    "model_rfc = RandomForestClassifier(random_state=12345, n_estimators=50, max_depth=13, criterion='gini')\n",
    "model_rfc.fit(features_upsampled, target_upsampled)\n",
    "rfc_predicted_valid = model_rfc.predict(features_valid)\n",
    "print(\"F1:\", f1_score(target_valid, rfc_predicted_valid))"
   ]
  },
  {
   "cell_type": "markdown",
   "metadata": {},
   "source": [
    "The F1 score is above the required threshold of 0.59 on the validation data. Let's see what results we get on the test data."
   ]
  },
  {
   "cell_type": "code",
   "execution_count": 52,
   "metadata": {
    "scrolled": true
   },
   "outputs": [
    {
     "data": {
      "image/png": "[encoded data removed]",
      "text/plain": [
       "<Figure size 432x288 with 1 Axes>"
      ]
     },
     "metadata": {
      "needs_background": "light"
     },
     "output_type": "display_data"
    },
    {
     "name": "stdout",
     "output_type": "stream",
     "text": [
      "AUC-ROC: 0.8460892274935126\n"
     ]
    }
   ],
   "source": [
    "probabilities_valid = model_rfc.predict_proba(features_valid)\n",
    "probabilities_one_valid = probabilities_valid[:, 1]\n",
    "\n",
    "fpr, tpr, thresholds = roc_curve(target_valid, probabilities_one_valid)\n",
    "\n",
    "plt.figure()\n",
    "plt.plot([0, 1], [0, 1], linestyle='--')\n",
    "plt.plot(fpr, tpr)\n",
    "plt.xlim([0.0, 1.0])\n",
    "plt.ylim([0.0, 1.0])\n",
    "plt.xlabel('False Positive Rate')\n",
    "plt.ylabel('True Positive Rate')\n",
    "plt.title('ROC-curve')\n",
    "plt.show()\n",
    "\n",
    "auc_roc = roc_auc_score(target_valid, probabilities_one_valid)\n",
    "print('AUC-ROC:', auc_roc)"
   ]
  },
  {
   "cell_type": "markdown",
   "metadata": {},
   "source": [
    "A ROC-AUC value greater than 0.5 means our model is better than a random one."
   ]
  },
  {
   "cell_type": "markdown",
   "metadata": {},
   "source": [
    "**Logistic Regression**"
   ]
  },
  {
   "cell_type": "markdown",
   "metadata": {},
   "source": [
    "Let's tune the hyperparameters for the `Logistic Regression` model."
   ]
  },
  {
   "cell_type": "code",
   "execution_count": 53,
   "metadata": {},
   "outputs": [
    {
     "data": {
      "text/plain": [
       "{'C': 0.5, 'intercept_scaling': 0.5}"
      ]
     },
     "execution_count": 53,
     "metadata": {},
     "output_type": "execute_result"
    }
   ],
   "source": [
    "log_reg_params = {\n",
    "                   'intercept_scaling': [0.5, 1.0, 1.5],\n",
    "                   'C': [0.5, 1, 1.5]\n",
    "                 }\n",
    "log_reg = LogisticRegression(solver='liblinear',random_state=12345)\n",
    "\n",
    "grid_log_reg = GridSearchCV(log_reg, log_reg_params, cv=5, scoring='f1')\n",
    "grid_log_reg.fit(features_upsampled, target_upsampled)\n",
    "grid_log_reg.best_params_"
   ]
  },
  {
   "cell_type": "markdown",
   "metadata": {},
   "source": [
    "Let's apply the parameters and check the result:"
   ]
  },
  {
   "cell_type": "code",
   "execution_count": 54,
   "metadata": {
    "scrolled": true
   },
   "outputs": [
    {
     "name": "stdout",
     "output_type": "stream",
     "text": [
      "F1: 0.488013698630137\n"
     ]
    }
   ],
   "source": [
    "model_log_reg = LogisticRegression(random_state=12345, solver='liblinear', C=0.5, intercept_scaling=0.5)\n",
    "model_log_reg.fit(features_upsampled, target_upsampled)\n",
    "log_reg_predicted_valid = model_log_reg.predict(features_valid)\n",
    "print(\"F1:\", f1_score(target_valid, log_reg_predicted_valid))"
   ]
  },
  {
   "cell_type": "markdown",
   "metadata": {},
   "source": [
    "`Logistic Regression` showed the lowest result. Let's see what results we get on the test data."
   ]
  },
  {
   "cell_type": "code",
   "execution_count": 55,
   "metadata": {
    "scrolled": false
   },
   "outputs": [
    {
     "data": {
      "image/png": "[encoded data removed]",
      "text/plain": [
       "<Figure size 432x288 with 1 Axes>"
      ]
     },
     "metadata": {
      "needs_background": "light"
     },
     "output_type": "display_data"
    },
    {
     "name": "stdout",
     "output_type": "stream",
     "text": [
      "AUC-ROC: 0.763679613353577\n"
     ]
    }
   ],
   "source": [
    "probabilities_valid = model_log_reg.predict_proba(features_valid)\n",
    "probabilities_one_valid = probabilities_valid[:, 1]\n",
    "\n",
    "fpr, tpr, thresholds = roc_curve(target_valid, probabilities_one_valid)\n",
    "\n",
    "plt.figure()\n",
    "plt.plot([0, 1], [0, 1], linestyle='--')\n",
    "plt.plot(fpr, tpr)\n",
    "plt.xlim([0.0, 1.0])\n",
    "plt.ylim([0.0, 1.0])\n",
    "plt.xlabel('False Positive Rate')\n",
    "plt.ylabel('True Positive Rate')\n",
    "plt.title('ROC-curve')\n",
    "plt.show()\n",
    "\n",
    "auc_roc = roc_auc_score(target_valid, probabilities_one_valid)\n",
    "print('AUC-ROC:', auc_roc)"
   ]
  },
  {
   "cell_type": "markdown",
   "metadata": {},
   "source": [
    "A ROC-AUC value greater than 0.5 means our model is better than a random one."
   ]
  },
  {
   "cell_type": "markdown",
   "metadata": {},
   "source": [
    "## Models Testing"
   ]
  },
  {
   "cell_type": "markdown",
   "metadata": {},
   "source": [
    "Let's check how the models perform with test data."
   ]
  },
  {
   "cell_type": "markdown",
   "metadata": {},
   "source": [
    "**Decision Tree**"
   ]
  },
  {
   "cell_type": "code",
   "execution_count": 56,
   "metadata": {},
   "outputs": [
    {
     "name": "stdout",
     "output_type": "stream",
     "text": [
      "Accuracy: 0.792\n",
      "F1: 0.5304740406320542\n"
     ]
    }
   ],
   "source": [
    "predictions_test_tree = model_tree.predict(features_test)\n",
    "tree_test_f1 = f1_score(target_test, predictions_test_tree)\n",
    "tree_test_accuracy = accuracy_score(target_test, predictions_test_tree)\n",
    "\n",
    "print('Accuracy:', tree_test_accuracy)\n",
    "print('F1:', tree_test_f1)"
   ]
  },
  {
   "cell_type": "markdown",
   "metadata": {},
   "source": [
    "**Random Forest**"
   ]
  },
  {
   "cell_type": "code",
   "execution_count": 57,
   "metadata": {},
   "outputs": [
    {
     "name": "stdout",
     "output_type": "stream",
     "text": [
      "Accuracy: 0.8385\n",
      "F1: 0.6140979689366786\n"
     ]
    }
   ],
   "source": [
    "predictions_test_rfc = model_rfc.predict(features_test)\n",
    "rfc_test_f1 = f1_score(target_test, predictions_test_rfc)\n",
    "rfc_test_accuracy = accuracy_score(target_test, predictions_test_rfc)\n",
    "\n",
    "print('Accuracy:', rfc_test_accuracy)\n",
    "print('F1:', rfc_test_f1)"
   ]
  },
  {
   "cell_type": "markdown",
   "metadata": {},
   "source": [
    "**Logistic Regression**"
   ]
  },
  {
   "cell_type": "code",
   "execution_count": 58,
   "metadata": {},
   "outputs": [
    {
     "name": "stdout",
     "output_type": "stream",
     "text": [
      "Accuracy: 0.699\n",
      "F1: 0.4783362218370884\n"
     ]
    }
   ],
   "source": [
    "predictions_test_log_reg = model_log_reg.predict(features_test)\n",
    "log_reg_test_f1 = f1_score(target_test, predictions_test_log_reg)\n",
    "log_reg_test_accuracy = accuracy_score(target_test, predictions_test_log_reg)\n",
    "\n",
    "print('Accuracy:', log_reg_test_accuracy)\n",
    "print('F1:', log_reg_test_f1)"
   ]
  },
  {
   "cell_type": "markdown",
   "metadata": {},
   "source": [
    "### Conclusion"
   ]
  },
  {
   "cell_type": "markdown",
   "metadata": {},
   "source": [
    "The `Random Forest` model showed the best result on the test data:\n",
    "* Accuracy: 0.8385\n",
    "* F1: 0.6140979689366786\n",
    "\n",
    "The `Decision Tree` and `Logistic Regression` models did not pass the required F1 threshold of 0.59."
   ]
  },
  {
   "cell_type": "markdown",
   "metadata": {},
   "source": [
    "## Sanity Check"
   ]
  },
  {
   "cell_type": "markdown",
   "metadata": {},
   "source": [
    "To check the adequacy of the models, we can compare the accuracy of their predictions with the dominant class.\n",
    "\n",
    "Let's first look at the distribution of the values of the target feature."
   ]
  },
  {
   "cell_type": "code",
   "execution_count": 59,
   "metadata": {
    "scrolled": true
   },
   "outputs": [
    {
     "data": {
      "text/plain": [
       "0    7963\n",
       "1    2037\n",
       "Name: exited, dtype: int64"
      ]
     },
     "execution_count": 59,
     "metadata": {},
     "output_type": "execute_result"
    }
   ],
   "source": [
    "df['exited'].value_counts()"
   ]
  },
  {
   "cell_type": "markdown",
   "metadata": {},
   "source": [
    "Thus, the dominant class is `0` (the current customer of the bank). Now let's calculate the percentage of values of this class in the data."
   ]
  },
  {
   "cell_type": "code",
   "execution_count": 60,
   "metadata": {
    "scrolled": true
   },
   "outputs": [
    {
     "data": {
      "text/plain": [
       "0.7963"
      ]
     },
     "execution_count": 60,
     "metadata": {},
     "output_type": "execute_result"
    }
   ],
   "source": [
    "df['exited'].loc[df['exited'] == 0].count() / df['exited'].count()"
   ]
  },
  {
   "cell_type": "markdown",
   "metadata": {},
   "source": [
    "Thus, if we simply substitute predictions with `0`, we can guess in 79.63% of cases. Therefore, if the model predicts correctly in more cases, it can be considered adequate.\n",
    "\n",
    "Also, to assess the adequacy of the model in classification tasks, we can compare it with a random one.\n",
    "\n",
    "Since we have two values of the `exited` target attribute: 1 and 0, the probability of getting one of them randomly is 50%. With the model, we have achieved an accuracy that is higher than random.\n",
    "\n",
    "Thus, since our `Random Forest` model predicts better (Accuracy: 0.8385) than if we used a dominant class or randomness, the model passed the test for adequacy."
   ]
  },
  {
   "cell_type": "markdown",
   "metadata": {},
   "source": [
    "## Conclusion"
   ]
  },
  {
   "cell_type": "markdown",
   "metadata": {},
   "source": [
    "In the course of the project, we removed features that are not useful for models, such as `RowNumber`, `CustomerId`, and `Surname`. Converted the column names to lowercase and converted some of them to snake case. Replaced missing values in the `tenure` column with `0` and changed the column type to integer. The categorical features `geography` and `gender` were encoded into numerical using the One-Hot Encoding. We divided the data into three sets (training, validation, and test) in the proportion 60/20/20. The numerical features were scaled by the standardization method. We removed the imbalance in the data using the Upsampling method. Trained and analyzed three models (`Decision Tree`, `Random Forest`, `Logistic Regression`). After tuning the hyperparameters using `GridSearchCV`, we selected models with the best results and tested them on test data. Then we performed the sanity check.\n",
    "\n",
    "As a result, we concluded that the `Random Forest` model performs the best:\n",
    "* Accuracy: 0.8385\n",
    "* F1: 0.6140979689366786 "
   ]
  }
 ],
 "metadata": {
  "ExecuteTimeLog": [
   {
    "duration": 1863,
    "start_time": "2022-06-20T12:17:10.902Z"
   },
   {
    "duration": 16,
    "start_time": "2022-06-20T12:17:15.144Z"
   },
   {
    "duration": 25,
    "start_time": "2022-06-20T12:17:18.390Z"
   },
   {
    "duration": 60152,
    "start_time": "2022-06-20T12:17:24.342Z"
   },
   {
    "duration": 64,
    "start_time": "2022-06-20T12:20:21.889Z"
   },
   {
    "duration": 5,
    "start_time": "2022-06-20T12:20:50.611Z"
   },
   {
    "duration": 5,
    "start_time": "2022-06-20T12:20:51.337Z"
   },
   {
    "duration": 29,
    "start_time": "2022-06-20T12:20:56.296Z"
   },
   {
    "duration": 28,
    "start_time": "2022-06-20T12:21:37.924Z"
   },
   {
    "duration": 5,
    "start_time": "2022-06-20T12:21:48.327Z"
   },
   {
    "duration": 21,
    "start_time": "2022-06-20T12:21:51.716Z"
   },
   {
    "duration": 20,
    "start_time": "2022-06-20T12:22:16.043Z"
   },
   {
    "duration": 48,
    "start_time": "2022-06-20T12:25:42.910Z"
   },
   {
    "duration": 20,
    "start_time": "2022-06-20T12:25:43.738Z"
   },
   {
    "duration": 13,
    "start_time": "2022-06-20T12:25:45.113Z"
   },
   {
    "duration": 42,
    "start_time": "2022-06-20T12:25:47.645Z"
   },
   {
    "duration": 4,
    "start_time": "2022-06-20T12:25:48.627Z"
   },
   {
    "duration": 5,
    "start_time": "2022-06-20T12:25:49.126Z"
   },
   {
    "duration": 5,
    "start_time": "2022-06-20T12:25:50.626Z"
   },
   {
    "duration": 13,
    "start_time": "2022-06-20T12:25:51.111Z"
   },
   {
    "duration": 41,
    "start_time": "2022-06-20T13:19:06.034Z"
   },
   {
    "duration": 15,
    "start_time": "2022-06-20T13:19:07.524Z"
   },
   {
    "duration": 14,
    "start_time": "2022-06-20T13:19:09.911Z"
   },
   {
    "duration": 55,
    "start_time": "2022-06-20T13:19:13.102Z"
   },
   {
    "duration": 5,
    "start_time": "2022-06-20T13:19:15.860Z"
   },
   {
    "duration": 13,
    "start_time": "2022-06-20T13:19:16.856Z"
   },
   {
    "duration": 4,
    "start_time": "2022-06-20T13:19:20.926Z"
   },
   {
    "duration": 4,
    "start_time": "2022-06-20T13:19:21.716Z"
   },
   {
    "duration": 14,
    "start_time": "2022-06-20T13:19:29.840Z"
   },
   {
    "duration": 1763,
    "start_time": "2022-06-22T08:45:02.639Z"
   },
   {
    "duration": 14,
    "start_time": "2022-06-22T08:45:05.483Z"
   },
   {
    "duration": 17,
    "start_time": "2022-06-22T08:45:07.086Z"
   },
   {
    "duration": 57497,
    "start_time": "2022-06-22T08:45:09.886Z"
   },
   {
    "duration": 41,
    "start_time": "2022-06-22T08:46:54.698Z"
   },
   {
    "duration": 5,
    "start_time": "2022-06-22T08:47:01.390Z"
   },
   {
    "duration": 12,
    "start_time": "2022-06-22T08:47:02.022Z"
   },
   {
    "duration": 3,
    "start_time": "2022-06-22T08:47:04.715Z"
   },
   {
    "duration": 6,
    "start_time": "2022-06-22T08:47:05.425Z"
   },
   {
    "duration": 17,
    "start_time": "2022-06-22T08:47:07.499Z"
   },
   {
    "duration": 133,
    "start_time": "2022-06-22T08:55:02.912Z"
   },
   {
    "duration": 10,
    "start_time": "2022-06-22T08:55:11.411Z"
   },
   {
    "duration": 9,
    "start_time": "2022-06-22T08:55:12.292Z"
   },
   {
    "duration": 6,
    "start_time": "2022-06-22T08:59:58.164Z"
   },
   {
    "duration": 5,
    "start_time": "2022-06-22T08:59:59.188Z"
   },
   {
    "duration": 10,
    "start_time": "2022-06-22T09:00:00.040Z"
   },
   {
    "duration": 12,
    "start_time": "2022-06-22T09:00:05.684Z"
   },
   {
    "duration": 7,
    "start_time": "2022-06-22T09:00:14.305Z"
   },
   {
    "duration": 9,
    "start_time": "2022-06-22T09:00:15.506Z"
   },
   {
    "duration": 12,
    "start_time": "2022-06-22T09:00:22.180Z"
   },
   {
    "duration": 9,
    "start_time": "2022-06-22T09:00:59.088Z"
   },
   {
    "duration": 1073,
    "start_time": "2022-06-22T09:01:03.768Z"
   },
   {
    "duration": 12,
    "start_time": "2022-06-22T09:06:44.176Z"
   },
   {
    "duration": 7,
    "start_time": "2022-06-22T09:07:03.905Z"
   },
   {
    "duration": 5,
    "start_time": "2022-06-22T09:07:16.208Z"
   },
   {
    "duration": 16,
    "start_time": "2022-06-22T09:07:26.688Z"
   },
   {
    "duration": 22,
    "start_time": "2022-06-22T09:08:03.445Z"
   },
   {
    "duration": 19,
    "start_time": "2022-06-22T09:15:49.731Z"
   },
   {
    "duration": 16,
    "start_time": "2022-06-22T09:16:06.520Z"
   },
   {
    "duration": 12,
    "start_time": "2022-06-22T09:16:51.275Z"
   },
   {
    "duration": 8,
    "start_time": "2022-06-22T09:17:09.536Z"
   },
   {
    "duration": 8,
    "start_time": "2022-06-22T09:20:16.936Z"
   },
   {
    "duration": 4,
    "start_time": "2022-06-22T09:21:34.480Z"
   },
   {
    "duration": 4,
    "start_time": "2022-06-22T09:21:43.208Z"
   },
   {
    "duration": 9,
    "start_time": "2022-06-22T09:24:20.720Z"
   },
   {
    "duration": 7,
    "start_time": "2022-06-22T09:25:20.231Z"
   },
   {
    "duration": 11,
    "start_time": "2022-06-22T09:25:40.795Z"
   },
   {
    "duration": 8,
    "start_time": "2022-06-22T09:25:45.602Z"
   },
   {
    "duration": 4,
    "start_time": "2022-06-22T09:29:44.239Z"
   },
   {
    "duration": 8,
    "start_time": "2022-06-22T09:29:47.479Z"
   },
   {
    "duration": 12,
    "start_time": "2022-06-22T09:31:22.460Z"
   },
   {
    "duration": 9,
    "start_time": "2022-06-22T09:31:27.435Z"
   },
   {
    "duration": 47,
    "start_time": "2022-06-22T17:44:29.968Z"
   },
   {
    "duration": 1653,
    "start_time": "2022-06-22T17:44:34.561Z"
   },
   {
    "duration": 18,
    "start_time": "2022-06-22T17:44:37.454Z"
   },
   {
    "duration": 20,
    "start_time": "2022-06-22T17:44:38.911Z"
   },
   {
    "duration": 39,
    "start_time": "2022-06-22T17:44:41.677Z"
   },
   {
    "duration": 4,
    "start_time": "2022-06-22T17:44:43.013Z"
   },
   {
    "duration": 18,
    "start_time": "2022-06-22T17:44:43.504Z"
   },
   {
    "duration": 4,
    "start_time": "2022-06-22T17:44:44.870Z"
   },
   {
    "duration": 5,
    "start_time": "2022-06-22T17:44:45.329Z"
   },
   {
    "duration": 17,
    "start_time": "2022-06-22T17:44:46.401Z"
   },
   {
    "duration": 6,
    "start_time": "2022-06-22T17:44:47.849Z"
   },
   {
    "duration": 8,
    "start_time": "2022-06-22T17:44:48.905Z"
   },
   {
    "duration": 4,
    "start_time": "2022-06-22T17:44:51.134Z"
   },
   {
    "duration": 17,
    "start_time": "2022-06-22T17:44:51.757Z"
   },
   {
    "duration": 7,
    "start_time": "2022-06-22T17:44:53.278Z"
   },
   {
    "duration": 7,
    "start_time": "2022-06-22T17:44:54.437Z"
   },
   {
    "duration": 9,
    "start_time": "2022-06-22T17:44:55.067Z"
   },
   {
    "duration": 4,
    "start_time": "2022-06-22T17:44:55.826Z"
   },
   {
    "duration": 4,
    "start_time": "2022-06-22T17:44:56.326Z"
   },
   {
    "duration": 11,
    "start_time": "2022-06-22T17:44:56.845Z"
   },
   {
    "duration": 80,
    "start_time": "2022-06-22T17:45:00.772Z"
   },
   {
    "duration": 5,
    "start_time": "2022-06-22T17:45:22.192Z"
   },
   {
    "duration": 7,
    "start_time": "2022-06-22T19:18:34.761Z"
   },
   {
    "duration": 7,
    "start_time": "2022-06-22T19:18:35.606Z"
   },
   {
    "duration": 5,
    "start_time": "2022-06-22T19:18:36.858Z"
   },
   {
    "duration": 5,
    "start_time": "2022-06-22T19:22:35.853Z"
   },
   {
    "duration": 13,
    "start_time": "2022-06-22T19:22:36.356Z"
   },
   {
    "duration": 10,
    "start_time": "2022-06-22T19:22:43.316Z"
   },
   {
    "duration": 8,
    "start_time": "2022-06-22T19:22:44.401Z"
   },
   {
    "duration": 9,
    "start_time": "2022-06-22T19:22:50.248Z"
   },
   {
    "duration": 15,
    "start_time": "2022-06-22T19:22:56.051Z"
   },
   {
    "duration": 26,
    "start_time": "2022-06-22T19:23:06.201Z"
   },
   {
    "duration": 21,
    "start_time": "2022-06-22T19:23:11.644Z"
   },
   {
    "duration": 24,
    "start_time": "2022-06-22T19:23:17.795Z"
   },
   {
    "duration": 4,
    "start_time": "2022-06-22T19:23:19.588Z"
   },
   {
    "duration": 16,
    "start_time": "2022-06-22T19:23:32.004Z"
   },
   {
    "duration": 21,
    "start_time": "2022-06-22T19:24:10.787Z"
   },
   {
    "duration": 17,
    "start_time": "2022-06-22T19:24:12.638Z"
   },
   {
    "duration": 23,
    "start_time": "2022-06-22T19:24:14.296Z"
   },
   {
    "duration": 16,
    "start_time": "2022-06-22T19:24:15.359Z"
   },
   {
    "duration": 14,
    "start_time": "2022-06-22T19:24:53.308Z"
   },
   {
    "duration": 9,
    "start_time": "2022-06-22T20:28:14.096Z"
   },
   {
    "duration": 20,
    "start_time": "2022-06-22T20:28:16.240Z"
   },
   {
    "duration": 34,
    "start_time": "2022-06-22T20:28:30.532Z"
   },
   {
    "duration": 16,
    "start_time": "2022-06-22T20:29:19.069Z"
   },
   {
    "duration": 24,
    "start_time": "2022-06-22T20:29:25.041Z"
   },
   {
    "duration": 20,
    "start_time": "2022-06-22T20:29:49.337Z"
   },
   {
    "duration": 5,
    "start_time": "2022-06-22T20:31:35.286Z"
   },
   {
    "duration": 10,
    "start_time": "2022-06-22T20:32:09.938Z"
   },
   {
    "duration": 38,
    "start_time": "2022-06-22T20:32:15.201Z"
   },
   {
    "duration": 1487,
    "start_time": "2022-06-22T20:32:20.271Z"
   },
   {
    "duration": 14,
    "start_time": "2022-06-22T20:32:23.948Z"
   },
   {
    "duration": 17,
    "start_time": "2022-06-22T20:32:25.332Z"
   },
   {
    "duration": 49,
    "start_time": "2022-06-22T20:32:28.199Z"
   },
   {
    "duration": 4,
    "start_time": "2022-06-22T20:32:29.689Z"
   },
   {
    "duration": 11,
    "start_time": "2022-06-22T20:32:30.036Z"
   },
   {
    "duration": 3,
    "start_time": "2022-06-22T20:32:31.377Z"
   },
   {
    "duration": 4,
    "start_time": "2022-06-22T20:32:31.838Z"
   },
   {
    "duration": 12,
    "start_time": "2022-06-22T20:32:32.914Z"
   },
   {
    "duration": 5,
    "start_time": "2022-06-22T20:32:34.519Z"
   },
   {
    "duration": 7,
    "start_time": "2022-06-22T20:32:35.511Z"
   },
   {
    "duration": 3,
    "start_time": "2022-06-22T20:32:36.689Z"
   },
   {
    "duration": 10,
    "start_time": "2022-06-22T20:32:37.841Z"
   },
   {
    "duration": 5,
    "start_time": "2022-06-22T20:32:54.782Z"
   },
   {
    "duration": 7,
    "start_time": "2022-06-22T20:33:00.553Z"
   },
   {
    "duration": 6,
    "start_time": "2022-06-22T20:33:01.774Z"
   },
   {
    "duration": 8,
    "start_time": "2022-06-22T20:33:03.031Z"
   },
   {
    "duration": 5,
    "start_time": "2022-06-22T20:33:03.561Z"
   },
   {
    "duration": 6,
    "start_time": "2022-06-22T20:33:04.265Z"
   },
   {
    "duration": 16,
    "start_time": "2022-06-22T20:33:04.672Z"
   },
   {
    "duration": 6,
    "start_time": "2022-06-22T20:33:06.606Z"
   },
   {
    "duration": 8,
    "start_time": "2022-06-22T20:33:07.114Z"
   },
   {
    "duration": 6,
    "start_time": "2022-06-22T20:33:08.066Z"
   },
   {
    "duration": 9,
    "start_time": "2022-06-22T20:33:10.876Z"
   },
   {
    "duration": 22,
    "start_time": "2022-06-22T20:33:11.637Z"
   },
   {
    "duration": 17,
    "start_time": "2022-06-22T20:33:13.748Z"
   },
   {
    "duration": 16,
    "start_time": "2022-06-22T20:33:14.977Z"
   },
   {
    "duration": 5,
    "start_time": "2022-06-22T20:33:18.799Z"
   },
   {
    "duration": 0,
    "start_time": "2022-06-22T20:40:16.109Z"
   },
   {
    "duration": 10598,
    "start_time": "2022-06-22T20:40:18.345Z"
   },
   {
    "duration": 5,
    "start_time": "2022-06-22T20:40:31.470Z"
   },
   {
    "duration": 13025,
    "start_time": "2022-06-22T20:40:56.035Z"
   },
   {
    "duration": 4,
    "start_time": "2022-06-22T20:41:22.981Z"
   },
   {
    "duration": 44,
    "start_time": "2022-06-22T20:42:36.116Z"
   },
   {
    "duration": 3,
    "start_time": "2022-06-22T20:43:10.075Z"
   },
   {
    "duration": 20,
    "start_time": "2022-06-22T20:43:25.319Z"
   },
   {
    "duration": 29,
    "start_time": "2022-06-22T20:43:44.174Z"
   },
   {
    "duration": 187,
    "start_time": "2022-06-22T20:45:20.204Z"
   },
   {
    "duration": 180,
    "start_time": "2022-06-22T20:45:30.465Z"
   },
   {
    "duration": 10830,
    "start_time": "2022-06-22T20:45:57.311Z"
   },
   {
    "duration": 10992,
    "start_time": "2022-06-22T20:46:10.872Z"
   },
   {
    "duration": 1241,
    "start_time": "2022-06-22T20:47:12.133Z"
   },
   {
    "duration": 102,
    "start_time": "2022-06-22T20:49:16.856Z"
   },
   {
    "duration": 185,
    "start_time": "2022-06-22T20:49:42.296Z"
   },
   {
    "duration": 29,
    "start_time": "2022-06-22T20:50:06.694Z"
   },
   {
    "duration": 34,
    "start_time": "2022-06-22T20:50:26.342Z"
   },
   {
    "duration": 34,
    "start_time": "2022-06-22T20:50:38.954Z"
   },
   {
    "duration": 26,
    "start_time": "2022-06-22T20:50:46.471Z"
   },
   {
    "duration": 19,
    "start_time": "2022-06-22T20:52:26.561Z"
   },
   {
    "duration": 3442,
    "start_time": "2022-06-22T20:52:27.789Z"
   },
   {
    "duration": 1634,
    "start_time": "2022-06-24T20:10:37.995Z"
   },
   {
    "duration": 17,
    "start_time": "2022-06-24T20:10:42.545Z"
   },
   {
    "duration": 15,
    "start_time": "2022-06-24T20:10:44.291Z"
   },
   {
    "duration": 40,
    "start_time": "2022-06-24T20:10:50.332Z"
   },
   {
    "duration": 4,
    "start_time": "2022-06-24T20:10:54.939Z"
   },
   {
    "duration": 21,
    "start_time": "2022-06-24T20:10:56.133Z"
   },
   {
    "duration": 3,
    "start_time": "2022-06-24T20:11:01.494Z"
   },
   {
    "duration": 5,
    "start_time": "2022-06-24T20:11:02.460Z"
   },
   {
    "duration": 11,
    "start_time": "2022-06-24T20:11:04.209Z"
   },
   {
    "duration": 5,
    "start_time": "2022-06-24T20:11:05.841Z"
   },
   {
    "duration": 7,
    "start_time": "2022-06-24T20:11:07.395Z"
   },
   {
    "duration": 3,
    "start_time": "2022-06-24T20:11:10.565Z"
   },
   {
    "duration": 4,
    "start_time": "2022-06-24T20:11:11.549Z"
   },
   {
    "duration": 9,
    "start_time": "2022-06-24T20:11:14.058Z"
   },
   {
    "duration": 6,
    "start_time": "2022-06-24T20:11:20.065Z"
   },
   {
    "duration": 5,
    "start_time": "2022-06-24T20:11:22.176Z"
   },
   {
    "duration": 6,
    "start_time": "2022-06-24T20:11:37.345Z"
   },
   {
    "duration": 4,
    "start_time": "2022-06-24T20:11:38.467Z"
   },
   {
    "duration": 5,
    "start_time": "2022-06-24T20:11:39.778Z"
   },
   {
    "duration": 13,
    "start_time": "2022-06-24T20:11:40.939Z"
   },
   {
    "duration": 5,
    "start_time": "2022-06-24T20:11:43.076Z"
   },
   {
    "duration": 7,
    "start_time": "2022-06-24T20:11:44.211Z"
   },
   {
    "duration": 5,
    "start_time": "2022-06-24T20:11:45.802Z"
   },
   {
    "duration": 8,
    "start_time": "2022-06-24T20:11:51.893Z"
   },
   {
    "duration": 20,
    "start_time": "2022-06-24T20:12:09.636Z"
   },
   {
    "duration": 15,
    "start_time": "2022-06-24T20:12:29.262Z"
   },
   {
    "duration": 17,
    "start_time": "2022-06-24T20:12:33.024Z"
   },
   {
    "duration": 6,
    "start_time": "2022-06-24T20:12:37.056Z"
   },
   {
    "duration": 1125,
    "start_time": "2022-06-24T20:13:09.204Z"
   },
   {
    "duration": 1157,
    "start_time": "2022-06-24T20:13:13.502Z"
   },
   {
    "duration": 10031,
    "start_time": "2022-06-24T20:13:16.608Z"
   },
   {
    "duration": 13092,
    "start_time": "2022-06-24T20:13:30.064Z"
   },
   {
    "duration": 19,
    "start_time": "2022-06-24T20:14:27.097Z"
   },
   {
    "duration": 23,
    "start_time": "2022-06-24T20:14:34.808Z"
   },
   {
    "duration": 19,
    "start_time": "2022-06-24T20:15:01.854Z"
   },
   {
    "duration": 264,
    "start_time": "2022-06-24T20:15:05.624Z"
   },
   {
    "duration": 173,
    "start_time": "2022-06-24T20:15:14.465Z"
   },
   {
    "duration": 2,
    "start_time": "2022-06-24T20:18:25.467Z"
   },
   {
    "duration": 15,
    "start_time": "2022-06-24T20:19:48.156Z"
   },
   {
    "duration": 16,
    "start_time": "2022-06-24T20:19:56.877Z"
   },
   {
    "duration": 5,
    "start_time": "2022-06-24T20:20:08.116Z"
   },
   {
    "duration": 5,
    "start_time": "2022-06-24T20:20:16.961Z"
   },
   {
    "duration": 8,
    "start_time": "2022-06-24T20:20:30.043Z"
   },
   {
    "duration": 6,
    "start_time": "2022-06-24T20:20:35.220Z"
   },
   {
    "duration": 5,
    "start_time": "2022-06-24T20:21:19.183Z"
   },
   {
    "duration": 17,
    "start_time": "2022-06-24T20:21:57.665Z"
   },
   {
    "duration": 5,
    "start_time": "2022-06-24T20:21:58.627Z"
   },
   {
    "duration": 5,
    "start_time": "2022-06-24T20:22:00.167Z"
   },
   {
    "duration": 9,
    "start_time": "2022-06-24T20:22:08.366Z"
   },
   {
    "duration": 5,
    "start_time": "2022-06-24T20:22:09.760Z"
   },
   {
    "duration": 34,
    "start_time": "2022-06-24T20:22:43.904Z"
   },
   {
    "duration": 5,
    "start_time": "2022-06-24T20:22:44.729Z"
   },
   {
    "duration": 24,
    "start_time": "2022-06-24T20:23:01.079Z"
   },
   {
    "duration": 6,
    "start_time": "2022-06-24T20:23:02.559Z"
   },
   {
    "duration": 100,
    "start_time": "2022-06-24T20:23:05.796Z"
   },
   {
    "duration": 6,
    "start_time": "2022-06-24T20:23:07.195Z"
   },
   {
    "duration": 12,
    "start_time": "2022-06-24T20:23:11.829Z"
   },
   {
    "duration": 5,
    "start_time": "2022-06-24T20:23:13.008Z"
   },
   {
    "duration": 11,
    "start_time": "2022-06-24T20:23:37.267Z"
   },
   {
    "duration": 5,
    "start_time": "2022-06-24T20:23:39.089Z"
   },
   {
    "duration": 11,
    "start_time": "2022-06-24T20:23:43.559Z"
   },
   {
    "duration": 5,
    "start_time": "2022-06-24T20:23:44.455Z"
   },
   {
    "duration": 14,
    "start_time": "2022-06-24T20:23:47.988Z"
   },
   {
    "duration": 6,
    "start_time": "2022-06-24T20:23:49.119Z"
   },
   {
    "duration": 12,
    "start_time": "2022-06-24T20:23:54.526Z"
   },
   {
    "duration": 5,
    "start_time": "2022-06-24T20:23:55.330Z"
   },
   {
    "duration": 9,
    "start_time": "2022-06-24T20:23:59.384Z"
   },
   {
    "duration": 5,
    "start_time": "2022-06-24T20:24:01.360Z"
   },
   {
    "duration": 233,
    "start_time": "2022-06-24T20:24:43.818Z"
   },
   {
    "duration": 11,
    "start_time": "2022-06-24T20:24:56.854Z"
   },
   {
    "duration": 265,
    "start_time": "2022-06-24T20:24:59.009Z"
   },
   {
    "duration": 10,
    "start_time": "2022-06-24T20:25:02.358Z"
   },
   {
    "duration": 190,
    "start_time": "2022-06-24T20:25:03.052Z"
   },
   {
    "duration": 10,
    "start_time": "2022-06-24T20:25:06.240Z"
   },
   {
    "duration": 207,
    "start_time": "2022-06-24T20:25:06.958Z"
   },
   {
    "duration": 11,
    "start_time": "2022-06-24T20:25:10.985Z"
   },
   {
    "duration": 229,
    "start_time": "2022-06-24T20:25:11.716Z"
   },
   {
    "duration": 12,
    "start_time": "2022-06-24T20:25:15.640Z"
   },
   {
    "duration": 318,
    "start_time": "2022-06-24T20:25:16.594Z"
   },
   {
    "duration": 11,
    "start_time": "2022-06-24T20:25:21.129Z"
   },
   {
    "duration": 244,
    "start_time": "2022-06-24T20:25:21.920Z"
   },
   {
    "duration": 12,
    "start_time": "2022-06-24T20:25:25.101Z"
   },
   {
    "duration": 254,
    "start_time": "2022-06-24T20:25:26.154Z"
   },
   {
    "duration": 11,
    "start_time": "2022-06-24T20:25:29.356Z"
   },
   {
    "duration": 287,
    "start_time": "2022-06-24T20:25:30.102Z"
   },
   {
    "duration": 12,
    "start_time": "2022-06-24T20:25:33.748Z"
   },
   {
    "duration": 311,
    "start_time": "2022-06-24T20:25:34.517Z"
   },
   {
    "duration": 10,
    "start_time": "2022-06-24T20:25:37.698Z"
   },
   {
    "duration": 212,
    "start_time": "2022-06-24T20:25:38.509Z"
   },
   {
    "duration": 12,
    "start_time": "2022-06-24T20:27:23.050Z"
   },
   {
    "duration": 5,
    "start_time": "2022-06-24T20:27:23.850Z"
   },
   {
    "duration": 11,
    "start_time": "2022-06-24T20:27:29.693Z"
   },
   {
    "duration": 5,
    "start_time": "2022-06-24T20:27:30.564Z"
   },
   {
    "duration": 12,
    "start_time": "2022-06-24T20:27:34.588Z"
   },
   {
    "duration": 5,
    "start_time": "2022-06-24T20:27:35.481Z"
   },
   {
    "duration": 11,
    "start_time": "2022-06-24T20:27:38.485Z"
   },
   {
    "duration": 5,
    "start_time": "2022-06-24T20:27:39.477Z"
   },
   {
    "duration": 11,
    "start_time": "2022-06-24T20:27:42.716Z"
   },
   {
    "duration": 5,
    "start_time": "2022-06-24T20:27:44.292Z"
   },
   {
    "duration": 11,
    "start_time": "2022-06-24T20:27:48.868Z"
   },
   {
    "duration": 5,
    "start_time": "2022-06-24T20:27:49.871Z"
   },
   {
    "duration": 11,
    "start_time": "2022-06-24T20:27:53.676Z"
   },
   {
    "duration": 5,
    "start_time": "2022-06-24T20:27:54.324Z"
   },
   {
    "duration": 11,
    "start_time": "2022-06-24T20:27:58.050Z"
   },
   {
    "duration": 5,
    "start_time": "2022-06-24T20:27:58.811Z"
   },
   {
    "duration": 103,
    "start_time": "2022-06-24T20:28:14.678Z"
   },
   {
    "duration": 11,
    "start_time": "2022-06-24T20:28:21.667Z"
   },
   {
    "duration": 86,
    "start_time": "2022-06-24T20:28:22.904Z"
   },
   {
    "duration": 12,
    "start_time": "2022-06-24T20:28:26.694Z"
   },
   {
    "duration": 100,
    "start_time": "2022-06-24T20:28:27.484Z"
   },
   {
    "duration": 11,
    "start_time": "2022-06-24T20:28:30.749Z"
   },
   {
    "duration": 115,
    "start_time": "2022-06-24T20:28:31.648Z"
   },
   {
    "duration": 12,
    "start_time": "2022-06-24T20:28:34.551Z"
   },
   {
    "duration": 122,
    "start_time": "2022-06-24T20:28:35.448Z"
   },
   {
    "duration": 11,
    "start_time": "2022-06-24T20:28:39.712Z"
   },
   {
    "duration": 109,
    "start_time": "2022-06-24T20:28:41.411Z"
   },
   {
    "duration": 15,
    "start_time": "2022-06-24T20:28:45.338Z"
   },
   {
    "duration": 122,
    "start_time": "2022-06-24T20:28:46.593Z"
   },
   {
    "duration": 10,
    "start_time": "2022-06-24T20:28:49.606Z"
   },
   {
    "duration": 149,
    "start_time": "2022-06-24T20:28:51.299Z"
   },
   {
    "duration": 13,
    "start_time": "2022-06-24T20:28:55.355Z"
   },
   {
    "duration": 112,
    "start_time": "2022-06-24T20:28:56.209Z"
   },
   {
    "duration": 11,
    "start_time": "2022-06-24T20:28:58.835Z"
   },
   {
    "duration": 115,
    "start_time": "2022-06-24T20:28:59.821Z"
   },
   {
    "duration": 12335,
    "start_time": "2022-06-24T20:33:41.177Z"
   },
   {
    "duration": 235,
    "start_time": "2022-06-24T20:34:31.948Z"
   },
   {
    "duration": 5,
    "start_time": "2022-06-24T20:34:59.196Z"
   },
   {
    "duration": 23,
    "start_time": "2022-06-24T20:35:47.758Z"
   },
   {
    "duration": 27,
    "start_time": "2022-06-24T20:35:50.034Z"
   },
   {
    "duration": 14,
    "start_time": "2022-06-24T20:36:19.218Z"
   },
   {
    "duration": 16,
    "start_time": "2022-06-24T20:36:21.047Z"
   },
   {
    "duration": 168,
    "start_time": "2022-06-24T20:36:36.552Z"
   },
   {
    "duration": 166,
    "start_time": "2022-06-24T20:36:45.438Z"
   },
   {
    "duration": 82,
    "start_time": "2022-06-24T20:37:08.475Z"
   },
   {
    "duration": 2903,
    "start_time": "2022-06-24T20:37:09.996Z"
   },
   {
    "duration": 2829,
    "start_time": "2022-06-24T20:37:22.144Z"
   },
   {
    "duration": 2057,
    "start_time": "2022-06-24T20:37:49.439Z"
   },
   {
    "duration": 12,
    "start_time": "2022-06-24T20:46:41.112Z"
   },
   {
    "duration": 8,
    "start_time": "2022-06-24T20:47:02.954Z"
   },
   {
    "duration": 21,
    "start_time": "2022-06-24T20:47:08.157Z"
   },
   {
    "duration": 20,
    "start_time": "2022-06-24T20:47:15.966Z"
   },
   {
    "duration": 3,
    "start_time": "2022-06-24T20:49:27.058Z"
   },
   {
    "duration": 8,
    "start_time": "2022-06-24T20:50:37.803Z"
   },
   {
    "duration": 9,
    "start_time": "2022-06-24T20:50:51.341Z"
   },
   {
    "duration": 11,
    "start_time": "2022-06-24T20:52:07.106Z"
   },
   {
    "duration": 5,
    "start_time": "2022-06-24T20:52:34.623Z"
   },
   {
    "duration": 11,
    "start_time": "2022-06-24T20:52:45.921Z"
   },
   {
    "duration": 3,
    "start_time": "2022-06-24T20:53:12.013Z"
   },
   {
    "duration": 124,
    "start_time": "2022-06-24T20:53:14.146Z"
   },
   {
    "duration": 19,
    "start_time": "2022-06-24T20:54:06.984Z"
   },
   {
    "duration": 109,
    "start_time": "2022-06-24T20:54:11.274Z"
   },
   {
    "duration": 14,
    "start_time": "2022-06-24T20:54:53.667Z"
   },
   {
    "duration": 129,
    "start_time": "2022-06-24T20:54:55.249Z"
   },
   {
    "duration": 1615,
    "start_time": "2022-06-29T08:01:34.404Z"
   },
   {
    "duration": 15,
    "start_time": "2022-06-29T08:01:39.125Z"
   },
   {
    "duration": 17,
    "start_time": "2022-06-29T08:01:40.923Z"
   },
   {
    "duration": 54,
    "start_time": "2022-06-29T08:01:44.789Z"
   },
   {
    "duration": 5,
    "start_time": "2022-06-29T08:01:46.230Z"
   },
   {
    "duration": 12,
    "start_time": "2022-06-29T08:01:46.771Z"
   },
   {
    "duration": 4,
    "start_time": "2022-06-29T08:01:48.040Z"
   },
   {
    "duration": 5,
    "start_time": "2022-06-29T08:01:48.359Z"
   },
   {
    "duration": 16,
    "start_time": "2022-06-29T08:01:49.457Z"
   },
   {
    "duration": 6,
    "start_time": "2022-06-29T08:01:50.788Z"
   },
   {
    "duration": 9,
    "start_time": "2022-06-29T08:01:51.581Z"
   },
   {
    "duration": 4,
    "start_time": "2022-06-29T08:01:52.531Z"
   },
   {
    "duration": 5,
    "start_time": "2022-06-29T08:01:53.818Z"
   },
   {
    "duration": 11,
    "start_time": "2022-06-29T08:01:54.578Z"
   },
   {
    "duration": 7,
    "start_time": "2022-06-29T08:01:56.923Z"
   },
   {
    "duration": 8,
    "start_time": "2022-06-29T08:01:57.965Z"
   },
   {
    "duration": 7,
    "start_time": "2022-06-29T08:01:58.848Z"
   },
   {
    "duration": 4,
    "start_time": "2022-06-29T08:02:00.049Z"
   },
   {
    "duration": 5,
    "start_time": "2022-06-29T08:02:00.729Z"
   },
   {
    "duration": 12,
    "start_time": "2022-06-29T08:02:01.233Z"
   },
   {
    "duration": 7,
    "start_time": "2022-06-29T08:02:03.730Z"
   },
   {
    "duration": 9,
    "start_time": "2022-06-29T08:02:04.332Z"
   },
   {
    "duration": 7,
    "start_time": "2022-06-29T08:02:05.035Z"
   },
   {
    "duration": 11,
    "start_time": "2022-06-29T08:02:12.359Z"
   },
   {
    "duration": 26,
    "start_time": "2022-06-29T08:02:13.181Z"
   },
   {
    "duration": 24,
    "start_time": "2022-06-29T08:02:14.873Z"
   },
   {
    "duration": 21,
    "start_time": "2022-06-29T08:02:16.383Z"
   },
   {
    "duration": 6,
    "start_time": "2022-06-29T08:02:20.358Z"
   },
   {
    "duration": 1238,
    "start_time": "2022-06-29T08:02:28.823Z"
   },
   {
    "duration": 21,
    "start_time": "2022-06-29T08:02:31.928Z"
   },
   {
    "duration": 5243,
    "start_time": "2022-06-29T08:02:33.297Z"
   },
   {
    "duration": 184,
    "start_time": "2022-06-29T08:02:40.420Z"
   },
   {
    "duration": 10572,
    "start_time": "2022-06-29T08:02:42.867Z"
   },
   {
    "duration": 30,
    "start_time": "2022-06-29T08:02:56.507Z"
   },
   {
    "duration": 16,
    "start_time": "2022-06-29T08:02:58.718Z"
   },
   {
    "duration": 34,
    "start_time": "2022-06-29T08:03:00.346Z"
   },
   {
    "duration": 11,
    "start_time": "2022-06-29T08:03:01.798Z"
   },
   {
    "duration": 187,
    "start_time": "2022-06-29T08:03:03.792Z"
   },
   {
    "duration": 259,
    "start_time": "2022-06-29T08:03:06.085Z"
   },
   {
    "duration": 21,
    "start_time": "2022-06-29T08:03:07.570Z"
   },
   {
    "duration": 115,
    "start_time": "2022-06-29T08:03:12.042Z"
   },
   {
    "duration": 33,
    "start_time": "2022-06-29T08:03:15.294Z"
   },
   {
    "duration": 9,
    "start_time": "2022-06-29T08:03:16.684Z"
   },
   {
    "duration": 113,
    "start_time": "2022-06-29T08:03:18.896Z"
   },
   {
    "duration": 19,
    "start_time": "2022-06-29T08:03:21.024Z"
   },
   {
    "duration": 6,
    "start_time": "2022-06-29T08:03:22.882Z"
   },
   {
    "duration": 15,
    "start_time": "2022-06-29T08:03:24.093Z"
   },
   {
    "duration": 135,
    "start_time": "2022-06-29T08:03:25.557Z"
   },
   {
    "duration": 21,
    "start_time": "2022-06-29T08:03:27.488Z"
   },
   {
    "duration": 117,
    "start_time": "2022-06-29T08:04:11.242Z"
   },
   {
    "duration": 15,
    "start_time": "2022-06-29T08:04:15.288Z"
   },
   {
    "duration": 5,
    "start_time": "2022-06-29T08:05:19.894Z"
   },
   {
    "duration": 20,
    "start_time": "2022-06-29T08:05:28.679Z"
   },
   {
    "duration": 6,
    "start_time": "2022-06-29T08:06:14.000Z"
   },
   {
    "duration": 6,
    "start_time": "2022-06-29T08:06:31.457Z"
   },
   {
    "duration": 31,
    "start_time": "2022-06-29T08:10:29.014Z"
   },
   {
    "duration": 222,
    "start_time": "2022-06-29T08:10:33.198Z"
   },
   {
    "duration": 34,
    "start_time": "2022-06-29T08:10:34.218Z"
   },
   {
    "duration": 11,
    "start_time": "2022-06-29T08:11:32.648Z"
   },
   {
    "duration": 23,
    "start_time": "2022-06-29T08:13:04.602Z"
   },
   {
    "duration": 11,
    "start_time": "2022-06-29T08:15:05.709Z"
   },
   {
    "duration": 33,
    "start_time": "2022-06-29T08:15:48.041Z"
   },
   {
    "duration": 256,
    "start_time": "2022-06-29T08:15:53.190Z"
   },
   {
    "duration": 9,
    "start_time": "2022-06-29T08:16:00.746Z"
   },
   {
    "duration": 35,
    "start_time": "2022-06-29T08:16:09.206Z"
   },
   {
    "duration": 10,
    "start_time": "2022-06-29T08:16:22.189Z"
   },
   {
    "duration": 1584,
    "start_time": "2022-06-29T08:30:36.741Z"
   },
   {
    "duration": 23,
    "start_time": "2022-06-29T08:30:39.719Z"
   },
   {
    "duration": 18,
    "start_time": "2022-06-29T08:30:41.071Z"
   },
   {
    "duration": 44,
    "start_time": "2022-06-29T08:30:44.738Z"
   },
   {
    "duration": 4,
    "start_time": "2022-06-29T08:30:46.105Z"
   },
   {
    "duration": 11,
    "start_time": "2022-06-29T08:30:46.785Z"
   },
   {
    "duration": 6,
    "start_time": "2022-06-29T08:30:48.123Z"
   },
   {
    "duration": 6,
    "start_time": "2022-06-29T08:30:48.758Z"
   },
   {
    "duration": 12,
    "start_time": "2022-06-29T08:30:50.078Z"
   },
   {
    "duration": 5,
    "start_time": "2022-06-29T08:30:51.187Z"
   },
   {
    "duration": 7,
    "start_time": "2022-06-29T08:30:52.379Z"
   },
   {
    "duration": 5,
    "start_time": "2022-06-29T08:30:53.300Z"
   },
   {
    "duration": 6,
    "start_time": "2022-06-29T08:30:54.472Z"
   },
   {
    "duration": 18,
    "start_time": "2022-06-29T08:30:55.437Z"
   },
   {
    "duration": 7,
    "start_time": "2022-06-29T08:30:58.218Z"
   },
   {
    "duration": 7,
    "start_time": "2022-06-29T08:30:59.370Z"
   },
   {
    "duration": 7,
    "start_time": "2022-06-29T08:30:59.981Z"
   },
   {
    "duration": 4,
    "start_time": "2022-06-29T08:31:00.510Z"
   },
   {
    "duration": 5,
    "start_time": "2022-06-29T08:31:01.106Z"
   },
   {
    "duration": 13,
    "start_time": "2022-06-29T08:31:02.173Z"
   },
   {
    "duration": 8,
    "start_time": "2022-06-29T08:31:04.454Z"
   },
   {
    "duration": 10,
    "start_time": "2022-06-29T08:31:05.170Z"
   },
   {
    "duration": 9,
    "start_time": "2022-06-29T08:31:05.795Z"
   },
   {
    "duration": 8,
    "start_time": "2022-06-29T08:31:07.900Z"
   },
   {
    "duration": 35,
    "start_time": "2022-06-29T08:31:08.462Z"
   },
   {
    "duration": 19,
    "start_time": "2022-06-29T08:31:10.189Z"
   },
   {
    "duration": 26,
    "start_time": "2022-06-29T08:31:11.154Z"
   },
   {
    "duration": 6,
    "start_time": "2022-06-29T08:31:14.514Z"
   },
   {
    "duration": 36,
    "start_time": "2022-06-29T08:31:16.710Z"
   },
   {
    "duration": 139,
    "start_time": "2022-06-29T08:31:19.875Z"
   },
   {
    "duration": 46,
    "start_time": "2022-06-29T08:31:21.351Z"
   },
   {
    "duration": 36,
    "start_time": "2022-06-29T08:31:26.530Z"
   },
   {
    "duration": 47,
    "start_time": "2022-06-29T08:31:27.950Z"
   },
   {
    "duration": 11,
    "start_time": "2022-06-29T08:31:40.261Z"
   },
   {
    "duration": 171,
    "start_time": "2022-06-29T08:31:42.147Z"
   },
   {
    "duration": 190,
    "start_time": "2022-06-29T08:31:45.496Z"
   },
   {
    "duration": 18,
    "start_time": "2022-06-29T08:31:47.700Z"
   },
   {
    "duration": 153,
    "start_time": "2022-06-29T08:31:50.149Z"
   },
   {
    "duration": 92,
    "start_time": "2022-06-29T08:31:52.261Z"
   },
   {
    "duration": 33,
    "start_time": "2022-06-29T08:31:53.553Z"
   },
   {
    "duration": 142,
    "start_time": "2022-06-29T08:31:55.164Z"
   },
   {
    "duration": 11,
    "start_time": "2022-06-29T08:31:57.472Z"
   },
   {
    "duration": 6,
    "start_time": "2022-06-29T08:31:59.204Z"
   },
   {
    "duration": 22,
    "start_time": "2022-06-29T08:32:03.271Z"
   },
   {
    "duration": 103,
    "start_time": "2022-06-29T08:32:04.782Z"
   },
   {
    "duration": 16,
    "start_time": "2022-06-29T08:32:05.909Z"
   },
   {
    "duration": 1806,
    "start_time": "2022-06-29T08:32:42.265Z"
   },
   {
    "duration": 60,
    "start_time": "2022-06-29T08:32:51.861Z"
   },
   {
    "duration": 8,
    "start_time": "2022-06-29T08:33:06.503Z"
   },
   {
    "duration": 7184,
    "start_time": "2022-06-29T08:33:08.953Z"
   },
   {
    "duration": 94,
    "start_time": "2022-06-29T08:33:24.374Z"
   },
   {
    "duration": 16,
    "start_time": "2022-06-29T08:33:27.145Z"
   },
   {
    "duration": 13121,
    "start_time": "2022-06-29T08:33:29.119Z"
   },
   {
    "duration": 5946,
    "start_time": "2022-06-29T08:33:54.281Z"
   },
   {
    "duration": 38,
    "start_time": "2022-06-29T08:34:24.409Z"
   },
   {
    "duration": 11,
    "start_time": "2022-06-29T08:34:27.260Z"
   },
   {
    "duration": 11,
    "start_time": "2022-06-29T08:34:37.042Z"
   },
   {
    "duration": 14,
    "start_time": "2022-06-29T08:34:40.553Z"
   },
   {
    "duration": 12,
    "start_time": "2022-06-29T08:34:49.445Z"
   },
   {
    "duration": 94,
    "start_time": "2022-06-29T08:35:00.658Z"
   },
   {
    "duration": 135,
    "start_time": "2022-06-29T08:35:01.556Z"
   },
   {
    "duration": 6880,
    "start_time": "2022-06-29T08:35:03.463Z"
   },
   {
    "duration": 6,
    "start_time": "2022-06-29T08:35:42.694Z"
   },
   {
    "duration": 13,
    "start_time": "2022-06-29T08:35:48.223Z"
   },
   {
    "duration": 5,
    "start_time": "2022-06-29T08:35:49.319Z"
   },
   {
    "duration": 14,
    "start_time": "2022-06-29T08:35:55.078Z"
   },
   {
    "duration": 5,
    "start_time": "2022-06-29T08:35:55.865Z"
   },
   {
    "duration": 12,
    "start_time": "2022-06-29T08:35:59.383Z"
   },
   {
    "duration": 6,
    "start_time": "2022-06-29T08:36:00.397Z"
   },
   {
    "duration": 37,
    "start_time": "2022-06-29T08:36:03.016Z"
   },
   {
    "duration": 10,
    "start_time": "2022-06-29T08:36:04.851Z"
   },
   {
    "duration": 173,
    "start_time": "2022-06-29T08:36:09.012Z"
   },
   {
    "duration": 17,
    "start_time": "2022-06-29T08:36:10.411Z"
   },
   {
    "duration": 50,
    "start_time": "2022-06-29T08:36:18.789Z"
   },
   {
    "duration": 13,
    "start_time": "2022-06-29T08:36:19.641Z"
   },
   {
    "duration": 11,
    "start_time": "2022-06-29T08:36:35.739Z"
   },
   {
    "duration": 5,
    "start_time": "2022-06-29T08:36:36.497Z"
   },
   {
    "duration": 14,
    "start_time": "2022-06-29T08:36:41.651Z"
   },
   {
    "duration": 7,
    "start_time": "2022-06-29T08:36:42.391Z"
   },
   {
    "duration": 14,
    "start_time": "2022-06-29T08:36:45.620Z"
   },
   {
    "duration": 7,
    "start_time": "2022-06-29T08:36:46.556Z"
   },
   {
    "duration": 13,
    "start_time": "2022-06-29T08:36:49.144Z"
   },
   {
    "duration": 6,
    "start_time": "2022-06-29T08:36:49.938Z"
   },
   {
    "duration": 19,
    "start_time": "2022-06-29T08:36:51.782Z"
   },
   {
    "duration": 85,
    "start_time": "2022-06-29T08:36:53.126Z"
   },
   {
    "duration": 85,
    "start_time": "2022-06-29T08:36:54.444Z"
   },
   {
    "duration": 11,
    "start_time": "2022-06-29T08:36:58.850Z"
   },
   {
    "duration": 21,
    "start_time": "2022-06-29T08:37:00.066Z"
   },
   {
    "duration": 118,
    "start_time": "2022-06-29T08:37:01.524Z"
   },
   {
    "duration": 53,
    "start_time": "2022-06-29T08:37:02.474Z"
   },
   {
    "duration": 1798,
    "start_time": "2022-06-29T08:37:10.196Z"
   },
   {
    "duration": 8,
    "start_time": "2022-06-29T08:37:13.784Z"
   },
   {
    "duration": 42,
    "start_time": "2022-06-29T08:37:15.163Z"
   },
   {
    "duration": 7029,
    "start_time": "2022-06-29T08:37:16.628Z"
   },
   {
    "duration": 249,
    "start_time": "2022-06-29T08:37:36.655Z"
   },
   {
    "duration": 22,
    "start_time": "2022-06-29T08:37:47.135Z"
   },
   {
    "duration": 6,
    "start_time": "2022-06-29T08:38:36.491Z"
   },
   {
    "duration": 1526,
    "start_time": "2022-06-29T08:39:38.354Z"
   },
   {
    "duration": 14,
    "start_time": "2022-06-29T08:39:41.301Z"
   },
   {
    "duration": 16,
    "start_time": "2022-06-29T08:39:42.686Z"
   },
   {
    "duration": 40,
    "start_time": "2022-06-29T08:39:46.186Z"
   },
   {
    "duration": 5,
    "start_time": "2022-06-29T08:39:47.820Z"
   },
   {
    "duration": 12,
    "start_time": "2022-06-29T08:39:48.291Z"
   },
   {
    "duration": 4,
    "start_time": "2022-06-29T08:39:49.766Z"
   },
   {
    "duration": 7,
    "start_time": "2022-06-29T08:39:50.440Z"
   },
   {
    "duration": 15,
    "start_time": "2022-06-29T08:39:51.849Z"
   },
   {
    "duration": 5,
    "start_time": "2022-06-29T08:39:52.967Z"
   },
   {
    "duration": 7,
    "start_time": "2022-06-29T08:39:54.200Z"
   },
   {
    "duration": 3,
    "start_time": "2022-06-29T08:39:56.278Z"
   },
   {
    "duration": 4,
    "start_time": "2022-06-29T08:39:56.869Z"
   },
   {
    "duration": 11,
    "start_time": "2022-06-29T08:39:58.114Z"
   },
   {
    "duration": 7,
    "start_time": "2022-06-29T08:39:59.559Z"
   },
   {
    "duration": 8,
    "start_time": "2022-06-29T08:40:01.292Z"
   },
   {
    "duration": 13,
    "start_time": "2022-06-29T08:40:02.151Z"
   },
   {
    "duration": 5,
    "start_time": "2022-06-29T08:40:03.604Z"
   },
   {
    "duration": 7,
    "start_time": "2022-06-29T08:40:09.508Z"
   },
   {
    "duration": 13,
    "start_time": "2022-06-29T08:40:11.864Z"
   },
   {
    "duration": 6,
    "start_time": "2022-06-29T08:40:18.882Z"
   },
   {
    "duration": 8,
    "start_time": "2022-06-29T08:40:32.360Z"
   },
   {
    "duration": 6,
    "start_time": "2022-06-29T08:40:33.100Z"
   },
   {
    "duration": 25,
    "start_time": "2022-06-29T08:41:14.626Z"
   },
   {
    "duration": 25,
    "start_time": "2022-06-29T08:41:42.086Z"
   },
   {
    "duration": 18,
    "start_time": "2022-06-29T08:42:00.282Z"
   },
   {
    "duration": 22,
    "start_time": "2022-06-29T08:42:03.209Z"
   },
   {
    "duration": 8,
    "start_time": "2022-06-29T08:42:05.760Z"
   },
   {
    "duration": 32,
    "start_time": "2022-06-29T08:42:08.960Z"
   },
   {
    "duration": 140,
    "start_time": "2022-06-29T08:42:10.557Z"
   },
   {
    "duration": 29,
    "start_time": "2022-06-29T08:42:12.288Z"
   },
   {
    "duration": 14,
    "start_time": "2022-06-29T08:42:24.882Z"
   },
   {
    "duration": 12,
    "start_time": "2022-06-29T08:42:26.094Z"
   },
   {
    "duration": 50,
    "start_time": "2022-06-29T08:42:31.243Z"
   },
   {
    "duration": 12,
    "start_time": "2022-06-29T08:42:36.180Z"
   },
   {
    "duration": 205,
    "start_time": "2022-06-29T08:42:37.276Z"
   },
   {
    "duration": 215,
    "start_time": "2022-06-29T08:42:39.569Z"
   },
   {
    "duration": 27,
    "start_time": "2022-06-29T08:42:41.459Z"
   },
   {
    "duration": 137,
    "start_time": "2022-06-29T08:42:42.868Z"
   },
   {
    "duration": 30,
    "start_time": "2022-06-29T08:42:44.767Z"
   },
   {
    "duration": 53,
    "start_time": "2022-06-29T08:42:45.724Z"
   },
   {
    "duration": 210,
    "start_time": "2022-06-29T08:42:47.149Z"
   },
   {
    "duration": 19,
    "start_time": "2022-06-29T08:42:51.557Z"
   },
   {
    "duration": 15,
    "start_time": "2022-06-29T08:42:52.821Z"
   },
   {
    "duration": 25,
    "start_time": "2022-06-29T08:42:54.761Z"
   },
   {
    "duration": 109,
    "start_time": "2022-06-29T08:42:56.568Z"
   },
   {
    "duration": 29,
    "start_time": "2022-06-29T08:43:11.024Z"
   },
   {
    "duration": 1826,
    "start_time": "2022-06-29T08:43:31.677Z"
   },
   {
    "duration": 50,
    "start_time": "2022-06-29T08:43:35.769Z"
   },
   {
    "duration": 9,
    "start_time": "2022-06-29T08:43:38.584Z"
   },
   {
    "duration": 7423,
    "start_time": "2022-06-29T08:43:40.057Z"
   },
   {
    "duration": 314,
    "start_time": "2022-06-29T08:43:50.048Z"
   },
   {
    "duration": 20,
    "start_time": "2022-06-29T08:43:52.501Z"
   },
   {
    "duration": 6800,
    "start_time": "2022-06-29T08:43:54.440Z"
   },
   {
    "duration": 44,
    "start_time": "2022-06-29T08:44:08.567Z"
   },
   {
    "duration": 13,
    "start_time": "2022-06-29T08:44:10.576Z"
   },
   {
    "duration": 11,
    "start_time": "2022-06-29T08:44:13.751Z"
   },
   {
    "duration": 24,
    "start_time": "2022-06-29T08:44:16.155Z"
   },
   {
    "duration": 14,
    "start_time": "2022-06-29T08:44:19.106Z"
   },
   {
    "duration": 13,
    "start_time": "2022-06-29T08:44:33.501Z"
   },
   {
    "duration": 6,
    "start_time": "2022-06-29T08:44:35.964Z"
   },
   {
    "duration": 49,
    "start_time": "2022-06-29T08:44:37.483Z"
   },
   {
    "duration": 9,
    "start_time": "2022-06-29T08:44:39.799Z"
   },
   {
    "duration": 160,
    "start_time": "2022-06-29T08:44:42.251Z"
   },
   {
    "duration": 16,
    "start_time": "2022-06-29T08:44:44.316Z"
   },
   {
    "duration": 12,
    "start_time": "2022-06-29T08:44:49.706Z"
   },
   {
    "duration": 46,
    "start_time": "2022-06-29T08:44:50.823Z"
   },
   {
    "duration": 9,
    "start_time": "2022-06-29T08:44:52.594Z"
   },
   {
    "duration": 197,
    "start_time": "2022-06-29T08:44:54.422Z"
   },
   {
    "duration": 22,
    "start_time": "2022-06-29T08:44:56.876Z"
   },
   {
    "duration": 22,
    "start_time": "2022-06-29T08:45:03.213Z"
   },
   {
    "duration": 52,
    "start_time": "2022-06-29T08:45:04.876Z"
   },
   {
    "duration": 13,
    "start_time": "2022-06-29T08:45:06.621Z"
   },
   {
    "duration": 197,
    "start_time": "2022-06-29T08:45:09.053Z"
   },
   {
    "duration": 14,
    "start_time": "2022-06-29T08:45:14.116Z"
   },
   {
    "duration": 48,
    "start_time": "2022-06-29T08:45:15.336Z"
   },
   {
    "duration": 220,
    "start_time": "2022-06-29T08:45:19.432Z"
   },
   {
    "duration": 24,
    "start_time": "2022-06-29T08:45:21.617Z"
   },
   {
    "duration": 857,
    "start_time": "2022-06-29T08:46:48.201Z"
   },
   {
    "duration": 17,
    "start_time": "2022-06-29T08:46:55.872Z"
   },
   {
    "duration": 4329,
    "start_time": "2022-06-29T08:46:59.624Z"
   },
   {
    "duration": 131,
    "start_time": "2022-06-29T08:47:08.767Z"
   },
   {
    "duration": 10,
    "start_time": "2022-06-29T08:47:25.064Z"
   },
   {
    "duration": 20,
    "start_time": "2022-06-29T08:47:27.071Z"
   },
   {
    "duration": 5,
    "start_time": "2022-06-29T08:51:44.260Z"
   },
   {
    "duration": 5,
    "start_time": "2022-06-29T08:54:04.797Z"
   },
   {
    "duration": 6,
    "start_time": "2022-06-29T08:56:53.613Z"
   },
   {
    "duration": 13,
    "start_time": "2022-06-29T08:56:57.486Z"
   },
   {
    "duration": 8,
    "start_time": "2022-06-29T08:56:58.452Z"
   },
   {
    "duration": 13,
    "start_time": "2022-06-29T08:57:11.315Z"
   },
   {
    "duration": 5,
    "start_time": "2022-06-29T08:57:12.298Z"
   },
   {
    "duration": 12,
    "start_time": "2022-06-29T08:57:17.226Z"
   },
   {
    "duration": 6,
    "start_time": "2022-06-29T08:57:18.498Z"
   },
   {
    "duration": 6,
    "start_time": "2022-06-29T08:58:00.252Z"
   },
   {
    "duration": 14,
    "start_time": "2022-06-29T08:59:35.948Z"
   },
   {
    "duration": 6,
    "start_time": "2022-06-29T08:59:36.914Z"
   },
   {
    "duration": 13,
    "start_time": "2022-06-29T08:59:41.197Z"
   },
   {
    "duration": 6,
    "start_time": "2022-06-29T08:59:42.144Z"
   },
   {
    "duration": 11,
    "start_time": "2022-06-29T08:59:45.491Z"
   },
   {
    "duration": 13,
    "start_time": "2022-06-29T08:59:47.128Z"
   },
   {
    "duration": 21,
    "start_time": "2022-06-29T08:59:51.349Z"
   },
   {
    "duration": 6,
    "start_time": "2022-06-29T08:59:52.407Z"
   },
   {
    "duration": 16,
    "start_time": "2022-06-29T08:59:56.349Z"
   },
   {
    "duration": 6,
    "start_time": "2022-06-29T08:59:57.497Z"
   },
   {
    "duration": 30,
    "start_time": "2022-06-29T09:00:02.808Z"
   },
   {
    "duration": 99,
    "start_time": "2022-06-29T09:00:04.473Z"
   },
   {
    "duration": 78,
    "start_time": "2022-06-29T09:00:07.459Z"
   },
   {
    "duration": 48,
    "start_time": "2022-06-29T09:00:31.693Z"
   },
   {
    "duration": 12,
    "start_time": "2022-06-29T09:00:33.129Z"
   },
   {
    "duration": 186,
    "start_time": "2022-06-29T09:00:35.595Z"
   },
   {
    "duration": 1881,
    "start_time": "2022-06-29T09:00:48.270Z"
   },
   {
    "duration": 55,
    "start_time": "2022-06-29T09:00:52.572Z"
   },
   {
    "duration": 11,
    "start_time": "2022-06-29T09:00:53.788Z"
   },
   {
    "duration": 7765,
    "start_time": "2022-06-29T09:00:56.085Z"
   },
   {
    "duration": 270,
    "start_time": "2022-06-29T09:01:06.748Z"
   },
   {
    "duration": 25,
    "start_time": "2022-06-29T09:01:09.110Z"
   },
   {
    "duration": 777,
    "start_time": "2022-06-29T09:01:13.820Z"
   },
   {
    "duration": 15,
    "start_time": "2022-06-29T09:01:18.187Z"
   },
   {
    "duration": 3786,
    "start_time": "2022-06-29T09:01:20.078Z"
   },
   {
    "duration": 124,
    "start_time": "2022-06-29T09:01:29.792Z"
   },
   {
    "duration": 257,
    "start_time": "2022-06-29T09:01:46.887Z"
   },
   {
    "duration": 23,
    "start_time": "2022-06-29T09:01:50.880Z"
   },
   {
    "duration": 191,
    "start_time": "2022-06-29T09:02:58.322Z"
   },
   {
    "duration": 22,
    "start_time": "2022-06-29T09:03:56.782Z"
   },
   {
    "duration": 1615,
    "start_time": "2022-06-29T09:21:49.000Z"
   },
   {
    "duration": 15,
    "start_time": "2022-06-29T09:21:52.089Z"
   },
   {
    "duration": 16,
    "start_time": "2022-06-29T09:21:53.302Z"
   },
   {
    "duration": 41,
    "start_time": "2022-06-29T09:21:56.362Z"
   },
   {
    "duration": 5,
    "start_time": "2022-06-29T09:21:58.520Z"
   },
   {
    "duration": 14,
    "start_time": "2022-06-29T09:21:59.300Z"
   },
   {
    "duration": 3,
    "start_time": "2022-06-29T09:22:01.373Z"
   },
   {
    "duration": 4,
    "start_time": "2022-06-29T09:22:01.874Z"
   },
   {
    "duration": 11,
    "start_time": "2022-06-29T09:22:02.943Z"
   },
   {
    "duration": 7,
    "start_time": "2022-06-29T09:22:04.141Z"
   },
   {
    "duration": 7,
    "start_time": "2022-06-29T09:22:04.842Z"
   },
   {
    "duration": 5,
    "start_time": "2022-06-29T09:22:05.745Z"
   },
   {
    "duration": 5,
    "start_time": "2022-06-29T09:22:06.182Z"
   },
   {
    "duration": 10,
    "start_time": "2022-06-29T09:22:07.811Z"
   },
   {
    "duration": 6,
    "start_time": "2022-06-29T09:22:09.580Z"
   },
   {
    "duration": 8,
    "start_time": "2022-06-29T09:22:10.838Z"
   },
   {
    "duration": 8,
    "start_time": "2022-06-29T09:22:11.461Z"
   },
   {
    "duration": 5,
    "start_time": "2022-06-29T09:22:11.992Z"
   },
   {
    "duration": 6,
    "start_time": "2022-06-29T09:22:12.577Z"
   },
   {
    "duration": 16,
    "start_time": "2022-06-29T09:22:13.195Z"
   },
   {
    "duration": 8,
    "start_time": "2022-06-29T09:22:15.021Z"
   },
   {
    "duration": 8,
    "start_time": "2022-06-29T09:22:15.443Z"
   },
   {
    "duration": 6,
    "start_time": "2022-06-29T09:22:16.090Z"
   },
   {
    "duration": 13,
    "start_time": "2022-06-29T09:22:18.244Z"
   },
   {
    "duration": 23,
    "start_time": "2022-06-29T09:22:19.302Z"
   },
   {
    "duration": 16,
    "start_time": "2022-06-29T09:22:21.102Z"
   },
   {
    "duration": 16,
    "start_time": "2022-06-29T09:22:22.343Z"
   },
   {
    "duration": 6,
    "start_time": "2022-06-29T09:22:24.669Z"
   },
   {
    "duration": 30,
    "start_time": "2022-06-29T09:22:26.740Z"
   },
   {
    "duration": 129,
    "start_time": "2022-06-29T09:22:27.915Z"
   },
   {
    "duration": 27,
    "start_time": "2022-06-29T09:22:30.183Z"
   },
   {
    "duration": 14,
    "start_time": "2022-06-29T09:22:33.446Z"
   },
   {
    "duration": 5,
    "start_time": "2022-06-29T09:22:35.197Z"
   },
   {
    "duration": 5,
    "start_time": "2022-06-29T09:22:37.249Z"
   },
   {
    "duration": 42,
    "start_time": "2022-06-29T09:22:39.824Z"
   },
   {
    "duration": 11,
    "start_time": "2022-06-29T09:22:41.768Z"
   },
   {
    "duration": 142,
    "start_time": "2022-06-29T09:22:43.783Z"
   },
   {
    "duration": 175,
    "start_time": "2022-06-29T09:22:45.719Z"
   },
   {
    "duration": 17,
    "start_time": "2022-06-29T09:22:47.445Z"
   },
   {
    "duration": 116,
    "start_time": "2022-06-29T09:22:48.944Z"
   },
   {
    "duration": 30,
    "start_time": "2022-06-29T09:22:51.155Z"
   },
   {
    "duration": 14,
    "start_time": "2022-06-29T09:22:52.542Z"
   },
   {
    "duration": 119,
    "start_time": "2022-06-29T09:22:53.593Z"
   },
   {
    "duration": 11,
    "start_time": "2022-06-29T09:22:55.682Z"
   },
   {
    "duration": 5,
    "start_time": "2022-06-29T09:22:56.905Z"
   },
   {
    "duration": 5,
    "start_time": "2022-06-29T09:22:57.963Z"
   },
   {
    "duration": 23,
    "start_time": "2022-06-29T09:22:59.853Z"
   },
   {
    "duration": 94,
    "start_time": "2022-06-29T09:23:02.156Z"
   },
   {
    "duration": 102,
    "start_time": "2022-06-29T09:23:12.946Z"
   },
   {
    "duration": 1736,
    "start_time": "2022-06-29T09:23:17.119Z"
   },
   {
    "duration": 57,
    "start_time": "2022-06-29T09:23:21.406Z"
   },
   {
    "duration": 8,
    "start_time": "2022-06-29T09:23:24.659Z"
   },
   {
    "duration": 7136,
    "start_time": "2022-06-29T09:23:26.240Z"
   },
   {
    "duration": 265,
    "start_time": "2022-06-29T09:23:36.012Z"
   },
   {
    "duration": 23,
    "start_time": "2022-06-29T09:23:40.349Z"
   },
   {
    "duration": 7139,
    "start_time": "2022-06-29T09:24:06.908Z"
   },
   {
    "duration": 38,
    "start_time": "2022-06-29T09:24:24.271Z"
   },
   {
    "duration": 8,
    "start_time": "2022-06-29T09:24:27.942Z"
   },
   {
    "duration": 725,
    "start_time": "2022-06-29T09:24:32.047Z"
   },
   {
    "duration": 14,
    "start_time": "2022-06-29T09:24:37.859Z"
   },
   {
    "duration": 3600,
    "start_time": "2022-06-29T09:24:39.985Z"
   },
   {
    "duration": 116,
    "start_time": "2022-06-29T09:24:47.768Z"
   },
   {
    "duration": 9,
    "start_time": "2022-06-29T09:24:58.910Z"
   },
   {
    "duration": 21,
    "start_time": "2022-06-29T09:25:00.494Z"
   },
   {
    "duration": 12,
    "start_time": "2022-06-29T09:25:02.479Z"
   },
   {
    "duration": 1774,
    "start_time": "2022-06-29T09:25:33.368Z"
   },
   {
    "duration": 49,
    "start_time": "2022-06-29T09:25:36.422Z"
   },
   {
    "duration": 8,
    "start_time": "2022-06-29T09:25:40.712Z"
   },
   {
    "duration": 7411,
    "start_time": "2022-06-29T09:25:42.002Z"
   },
   {
    "duration": 273,
    "start_time": "2022-06-29T09:25:50.815Z"
   },
   {
    "duration": 21,
    "start_time": "2022-06-29T09:25:54.841Z"
   },
   {
    "duration": 10,
    "start_time": "2022-06-29T09:25:57.765Z"
   },
   {
    "duration": 30,
    "start_time": "2022-06-29T09:25:59.381Z"
   },
   {
    "duration": 119,
    "start_time": "2022-06-29T09:28:21.966Z"
   },
   {
    "duration": 124,
    "start_time": "2022-06-29T09:28:44.907Z"
   },
   {
    "duration": 7,
    "start_time": "2022-06-29T09:31:38.275Z"
   },
   {
    "duration": 128,
    "start_time": "2022-06-29T09:31:40.071Z"
   },
   {
    "duration": 7,
    "start_time": "2022-06-29T09:31:42.260Z"
   },
   {
    "duration": 18,
    "start_time": "2022-06-29T09:32:04.993Z"
   },
   {
    "duration": 117,
    "start_time": "2022-06-29T09:32:06.186Z"
   },
   {
    "duration": 6,
    "start_time": "2022-06-29T09:32:08.081Z"
   },
   {
    "duration": 9,
    "start_time": "2022-06-29T09:32:21.808Z"
   },
   {
    "duration": 119,
    "start_time": "2022-06-29T09:32:23.442Z"
   },
   {
    "duration": 7,
    "start_time": "2022-06-29T09:32:24.901Z"
   },
   {
    "duration": 123,
    "start_time": "2022-06-29T09:37:23.944Z"
   },
   {
    "duration": 127,
    "start_time": "2022-06-29T09:37:41.152Z"
   },
   {
    "duration": 150,
    "start_time": "2022-06-29T09:38:08.889Z"
   },
   {
    "duration": 358,
    "start_time": "2022-06-29T09:38:31.342Z"
   },
   {
    "duration": 5,
    "start_time": "2022-06-29T09:41:22.657Z"
   },
   {
    "duration": 7,
    "start_time": "2022-06-29T09:41:41.902Z"
   },
   {
    "duration": 1835,
    "start_time": "2022-06-29T20:49:21.177Z"
   },
   {
    "duration": 14,
    "start_time": "2022-06-29T20:49:23.762Z"
   },
   {
    "duration": 18,
    "start_time": "2022-06-29T20:49:25.330Z"
   },
   {
    "duration": 42,
    "start_time": "2022-06-29T20:49:28.462Z"
   },
   {
    "duration": 5,
    "start_time": "2022-06-29T20:49:29.961Z"
   },
   {
    "duration": 12,
    "start_time": "2022-06-29T20:49:30.472Z"
   },
   {
    "duration": 6,
    "start_time": "2022-06-29T20:49:31.821Z"
   },
   {
    "duration": 4,
    "start_time": "2022-06-29T20:49:32.205Z"
   },
   {
    "duration": 20,
    "start_time": "2022-06-29T20:49:33.440Z"
   },
   {
    "duration": 5,
    "start_time": "2022-06-29T20:49:34.877Z"
   },
   {
    "duration": 7,
    "start_time": "2022-06-29T20:49:35.767Z"
   },
   {
    "duration": 4,
    "start_time": "2022-06-29T20:49:36.720Z"
   },
   {
    "duration": 5,
    "start_time": "2022-06-29T20:49:37.101Z"
   },
   {
    "duration": 9,
    "start_time": "2022-06-29T20:49:38.690Z"
   },
   {
    "duration": 7,
    "start_time": "2022-06-29T20:49:40.233Z"
   },
   {
    "duration": 5,
    "start_time": "2022-06-29T20:49:40.919Z"
   },
   {
    "duration": 6,
    "start_time": "2022-06-29T20:49:41.773Z"
   },
   {
    "duration": 4,
    "start_time": "2022-06-29T20:49:43.921Z"
   },
   {
    "duration": 7,
    "start_time": "2022-06-29T20:49:44.863Z"
   },
   {
    "duration": 11,
    "start_time": "2022-06-29T20:49:46.226Z"
   },
   {
    "duration": 7,
    "start_time": "2022-06-29T20:49:47.774Z"
   },
   {
    "duration": 7,
    "start_time": "2022-06-29T20:49:48.226Z"
   },
   {
    "duration": 5,
    "start_time": "2022-06-29T20:49:48.980Z"
   },
   {
    "duration": 9,
    "start_time": "2022-06-29T20:49:50.993Z"
   },
   {
    "duration": 23,
    "start_time": "2022-06-29T20:49:51.714Z"
   },
   {
    "duration": 16,
    "start_time": "2022-06-29T20:49:53.368Z"
   },
   {
    "duration": 17,
    "start_time": "2022-06-29T20:49:54.394Z"
   },
   {
    "duration": 5,
    "start_time": "2022-06-29T20:49:56.615Z"
   },
   {
    "duration": 33,
    "start_time": "2022-06-29T20:49:58.084Z"
   },
   {
    "duration": 130,
    "start_time": "2022-06-29T20:49:59.490Z"
   },
   {
    "duration": 26,
    "start_time": "2022-06-29T20:50:00.768Z"
   },
   {
    "duration": 13,
    "start_time": "2022-06-29T20:50:04.093Z"
   },
   {
    "duration": 7,
    "start_time": "2022-06-29T20:50:05.163Z"
   },
   {
    "duration": 5,
    "start_time": "2022-06-29T20:50:06.697Z"
   },
   {
    "duration": 36,
    "start_time": "2022-06-29T20:50:08.395Z"
   },
   {
    "duration": 190,
    "start_time": "2022-06-29T20:50:09.704Z"
   },
   {
    "duration": 30,
    "start_time": "2022-06-29T20:50:11.490Z"
   },
   {
    "duration": 12,
    "start_time": "2022-06-29T20:50:13.398Z"
   },
   {
    "duration": 5,
    "start_time": "2022-06-29T20:50:14.670Z"
   },
   {
    "duration": 5,
    "start_time": "2022-06-29T20:50:15.665Z"
   },
   {
    "duration": 16,
    "start_time": "2022-06-29T20:50:17.182Z"
   },
   {
    "duration": 86,
    "start_time": "2022-06-29T20:50:18.361Z"
   },
   {
    "duration": 21,
    "start_time": "2022-06-29T20:50:20.010Z"
   },
   {
    "duration": 1615,
    "start_time": "2022-06-29T20:50:22.190Z"
   },
   {
    "duration": 43,
    "start_time": "2022-06-29T20:50:32.252Z"
   },
   {
    "duration": 136,
    "start_time": "2022-06-29T20:50:34.126Z"
   },
   {
    "duration": 23595,
    "start_time": "2022-06-29T20:52:54.809Z"
   },
   {
    "duration": 23870,
    "start_time": "2022-06-29T20:53:36.408Z"
   },
   {
    "duration": 492,
    "start_time": "2022-06-29T20:54:12.178Z"
   },
   {
    "duration": 167,
    "start_time": "2022-06-29T20:54:20.936Z"
   },
   {
    "duration": 6028,
    "start_time": "2022-06-29T20:54:29.740Z"
   },
   {
    "duration": 32,
    "start_time": "2022-06-29T20:54:46.165Z"
   },
   {
    "duration": 217,
    "start_time": "2022-06-29T20:54:48.118Z"
   },
   {
    "duration": 855,
    "start_time": "2022-06-29T20:55:08.272Z"
   },
   {
    "duration": 9412,
    "start_time": "2022-06-29T20:55:13.767Z"
   },
   {
    "duration": 564,
    "start_time": "2022-06-29T20:55:32.041Z"
   },
   {
    "duration": 444,
    "start_time": "2022-06-29T20:55:38.371Z"
   },
   {
    "duration": 271,
    "start_time": "2022-06-29T20:55:43.373Z"
   },
   {
    "duration": 96,
    "start_time": "2022-06-29T20:55:47.688Z"
   },
   {
    "duration": 716,
    "start_time": "2022-06-29T20:55:55.184Z"
   },
   {
    "duration": 449,
    "start_time": "2022-06-29T20:56:00.887Z"
   },
   {
    "duration": 10,
    "start_time": "2022-06-29T20:56:21.924Z"
   },
   {
    "duration": 31,
    "start_time": "2022-06-29T20:56:24.181Z"
   },
   {
    "duration": 13,
    "start_time": "2022-06-29T20:56:31.192Z"
   },
   {
    "duration": 1691,
    "start_time": "2022-06-30T06:01:29.680Z"
   },
   {
    "duration": 16,
    "start_time": "2022-06-30T06:01:32.784Z"
   },
   {
    "duration": 17,
    "start_time": "2022-06-30T06:01:34.359Z"
   },
   {
    "duration": 55,
    "start_time": "2022-06-30T06:01:36.405Z"
   },
   {
    "duration": 4,
    "start_time": "2022-06-30T06:01:38.015Z"
   },
   {
    "duration": 17,
    "start_time": "2022-06-30T06:01:39.220Z"
   },
   {
    "duration": 3,
    "start_time": "2022-06-30T06:01:40.059Z"
   },
   {
    "duration": 5,
    "start_time": "2022-06-30T06:01:41.213Z"
   },
   {
    "duration": 16,
    "start_time": "2022-06-30T06:01:42.638Z"
   },
   {
    "duration": 7,
    "start_time": "2022-06-30T06:01:43.682Z"
   },
   {
    "duration": 9,
    "start_time": "2022-06-30T06:01:44.916Z"
   },
   {
    "duration": 5,
    "start_time": "2022-06-30T06:01:46.230Z"
   },
   {
    "duration": 6,
    "start_time": "2022-06-30T06:01:46.695Z"
   },
   {
    "duration": 13,
    "start_time": "2022-06-30T06:01:47.565Z"
   },
   {
    "duration": 7,
    "start_time": "2022-06-30T06:01:50.312Z"
   },
   {
    "duration": 7,
    "start_time": "2022-06-30T06:01:51.610Z"
   },
   {
    "duration": 9,
    "start_time": "2022-06-30T06:01:52.406Z"
   },
   {
    "duration": 5,
    "start_time": "2022-06-30T06:01:53.594Z"
   },
   {
    "duration": 5,
    "start_time": "2022-06-30T06:01:54.364Z"
   },
   {
    "duration": 14,
    "start_time": "2022-06-30T06:01:55.086Z"
   },
   {
    "duration": 7,
    "start_time": "2022-06-30T06:01:56.724Z"
   },
   {
    "duration": 8,
    "start_time": "2022-06-30T06:01:57.840Z"
   },
   {
    "duration": 6,
    "start_time": "2022-06-30T06:01:58.908Z"
   },
   {
    "duration": 12,
    "start_time": "2022-06-30T06:02:00.479Z"
   },
   {
    "duration": 28,
    "start_time": "2022-06-30T06:02:01.093Z"
   },
   {
    "duration": 18,
    "start_time": "2022-06-30T06:02:02.432Z"
   },
   {
    "duration": 17,
    "start_time": "2022-06-30T06:02:03.696Z"
   },
   {
    "duration": 6,
    "start_time": "2022-06-30T06:02:04.969Z"
   },
   {
    "duration": 30,
    "start_time": "2022-06-30T06:02:06.244Z"
   },
   {
    "duration": 140,
    "start_time": "2022-06-30T06:02:07.060Z"
   },
   {
    "duration": 66,
    "start_time": "2022-06-30T06:02:07.958Z"
   },
   {
    "duration": 12,
    "start_time": "2022-06-30T06:02:09.468Z"
   },
   {
    "duration": 6,
    "start_time": "2022-06-30T06:02:10.794Z"
   },
   {
    "duration": 7,
    "start_time": "2022-06-30T06:02:11.694Z"
   },
   {
    "duration": 46,
    "start_time": "2022-06-30T06:02:13.061Z"
   },
   {
    "duration": 178,
    "start_time": "2022-06-30T06:02:13.965Z"
   },
   {
    "duration": 32,
    "start_time": "2022-06-30T06:02:15.056Z"
   },
   {
    "duration": 11,
    "start_time": "2022-06-30T06:02:24.960Z"
   },
   {
    "duration": 6,
    "start_time": "2022-06-30T06:02:26.350Z"
   },
   {
    "duration": 6,
    "start_time": "2022-06-30T06:02:27.880Z"
   },
   {
    "duration": 18,
    "start_time": "2022-06-30T06:02:29.380Z"
   },
   {
    "duration": 81,
    "start_time": "2022-06-30T06:02:30.494Z"
   },
   {
    "duration": 22,
    "start_time": "2022-06-30T06:02:31.949Z"
   },
   {
    "duration": 1737,
    "start_time": "2022-06-30T06:02:39.518Z"
   },
   {
    "duration": 42,
    "start_time": "2022-06-30T06:02:46.413Z"
   },
   {
    "duration": 158,
    "start_time": "2022-06-30T06:02:50.012Z"
   },
   {
    "duration": 49134,
    "start_time": "2022-06-30T06:02:52.982Z"
   },
   {
    "duration": 419,
    "start_time": "2022-06-30T06:04:01.901Z"
   },
   {
    "duration": 145,
    "start_time": "2022-06-30T06:04:05.564Z"
   },
   {
    "duration": 8878,
    "start_time": "2022-06-30T06:04:09.958Z"
   },
   {
    "duration": 88,
    "start_time": "2022-06-30T06:04:20.537Z"
   },
   {
    "duration": 247,
    "start_time": "2022-06-30T06:04:25.681Z"
   },
   {
    "duration": 10,
    "start_time": "2022-06-30T06:04:29.565Z"
   },
   {
    "duration": 34,
    "start_time": "2022-06-30T06:04:31.061Z"
   },
   {
    "duration": 10,
    "start_time": "2022-06-30T06:04:35.108Z"
   },
   {
    "duration": 16,
    "start_time": "2022-06-30T06:10:30.596Z"
   },
   {
    "duration": 4,
    "start_time": "2022-06-30T06:10:40.092Z"
   },
   {
    "duration": 10,
    "start_time": "2022-06-30T06:10:40.854Z"
   },
   {
    "duration": 82,
    "start_time": "2022-06-30T06:57:03.343Z"
   },
   {
    "duration": 1598,
    "start_time": "2022-06-30T07:19:35.814Z"
   },
   {
    "duration": 14,
    "start_time": "2022-06-30T07:19:37.414Z"
   },
   {
    "duration": 18,
    "start_time": "2022-06-30T07:19:37.429Z"
   },
   {
    "duration": 43,
    "start_time": "2022-06-30T07:19:37.450Z"
   },
   {
    "duration": 6,
    "start_time": "2022-06-30T07:19:37.495Z"
   },
   {
    "duration": 44,
    "start_time": "2022-06-30T07:19:37.503Z"
   },
   {
    "duration": 36,
    "start_time": "2022-06-30T07:19:37.550Z"
   },
   {
    "duration": 12,
    "start_time": "2022-06-30T07:19:37.588Z"
   },
   {
    "duration": 13,
    "start_time": "2022-06-30T07:19:37.602Z"
   },
   {
    "duration": 7,
    "start_time": "2022-06-30T07:19:37.618Z"
   },
   {
    "duration": 8,
    "start_time": "2022-06-30T07:19:37.626Z"
   },
   {
    "duration": 5,
    "start_time": "2022-06-30T07:19:37.635Z"
   },
   {
    "duration": 6,
    "start_time": "2022-06-30T07:19:37.642Z"
   },
   {
    "duration": 6,
    "start_time": "2022-06-30T07:19:37.650Z"
   },
   {
    "duration": 12,
    "start_time": "2022-06-30T07:19:37.657Z"
   },
   {
    "duration": 16,
    "start_time": "2022-06-30T07:19:37.671Z"
   },
   {
    "duration": 7,
    "start_time": "2022-06-30T07:19:37.688Z"
   },
   {
    "duration": 8,
    "start_time": "2022-06-30T07:19:37.696Z"
   },
   {
    "duration": 21,
    "start_time": "2022-06-30T07:19:37.706Z"
   },
   {
    "duration": 6,
    "start_time": "2022-06-30T07:19:37.728Z"
   },
   {
    "duration": 8,
    "start_time": "2022-06-30T07:19:37.735Z"
   },
   {
    "duration": 15,
    "start_time": "2022-06-30T07:19:37.744Z"
   },
   {
    "duration": 8,
    "start_time": "2022-06-30T07:19:37.761Z"
   },
   {
    "duration": 6,
    "start_time": "2022-06-30T07:19:37.771Z"
   },
   {
    "duration": 7,
    "start_time": "2022-06-30T07:19:37.779Z"
   },
   {
    "duration": 10,
    "start_time": "2022-06-30T07:19:37.788Z"
   },
   {
    "duration": 22,
    "start_time": "2022-06-30T07:19:37.823Z"
   },
   {
    "duration": 25,
    "start_time": "2022-06-30T07:19:37.851Z"
   },
   {
    "duration": 46,
    "start_time": "2022-06-30T07:19:37.878Z"
   },
   {
    "duration": 7,
    "start_time": "2022-06-30T07:19:37.927Z"
   },
   {
    "duration": 52,
    "start_time": "2022-06-30T07:19:37.936Z"
   },
   {
    "duration": 134,
    "start_time": "2022-06-30T07:19:37.989Z"
   },
   {
    "duration": 23,
    "start_time": "2022-06-30T07:19:38.125Z"
   },
   {
    "duration": 172,
    "start_time": "2022-06-30T07:19:38.151Z"
   },
   {
    "duration": 7,
    "start_time": "2022-06-30T07:19:38.325Z"
   },
   {
    "duration": 8,
    "start_time": "2022-06-30T07:19:38.333Z"
   },
   {
    "duration": 37,
    "start_time": "2022-06-30T07:19:38.343Z"
   },
   {
    "duration": 183,
    "start_time": "2022-06-30T07:19:38.382Z"
   },
   {
    "duration": 68,
    "start_time": "2022-06-30T07:19:38.567Z"
   },
   {
    "duration": 100,
    "start_time": "2022-06-30T07:19:38.637Z"
   },
   {
    "duration": 12,
    "start_time": "2022-06-30T07:19:38.739Z"
   },
   {
    "duration": 6,
    "start_time": "2022-06-30T07:19:38.823Z"
   },
   {
    "duration": 28,
    "start_time": "2022-06-30T07:19:38.831Z"
   },
   {
    "duration": 82,
    "start_time": "2022-06-30T07:19:38.860Z"
   },
   {
    "duration": 22,
    "start_time": "2022-06-30T07:19:38.943Z"
   },
   {
    "duration": 1760,
    "start_time": "2022-06-30T07:19:38.967Z"
   },
   {
    "duration": 40,
    "start_time": "2022-06-30T07:19:40.729Z"
   },
   {
    "duration": 134,
    "start_time": "2022-06-30T07:19:40.771Z"
   },
   {
    "duration": 59712,
    "start_time": "2022-06-30T07:19:40.907Z"
   },
   {
    "duration": 406,
    "start_time": "2022-06-30T07:20:40.620Z"
   },
   {
    "duration": 140,
    "start_time": "2022-06-30T07:20:41.028Z"
   },
   {
    "duration": 8468,
    "start_time": "2022-06-30T07:20:41.170Z"
   },
   {
    "duration": 82,
    "start_time": "2022-06-30T07:20:49.640Z"
   },
   {
    "duration": 314,
    "start_time": "2022-06-30T07:20:49.725Z"
   },
   {
    "duration": 9,
    "start_time": "2022-06-30T07:20:50.041Z"
   },
   {
    "duration": 33,
    "start_time": "2022-06-30T07:20:50.052Z"
   },
   {
    "duration": 43,
    "start_time": "2022-06-30T07:20:50.086Z"
   },
   {
    "duration": 7,
    "start_time": "2022-06-30T07:20:50.131Z"
   },
   {
    "duration": 17,
    "start_time": "2022-06-30T07:20:50.224Z"
   },
   {
    "duration": 8,
    "start_time": "2022-06-30T07:25:18.839Z"
   },
   {
    "duration": 1432,
    "start_time": "2022-06-30T07:25:24.868Z"
   },
   {
    "duration": 13,
    "start_time": "2022-06-30T07:25:26.302Z"
   },
   {
    "duration": 18,
    "start_time": "2022-06-30T07:25:26.317Z"
   },
   {
    "duration": 37,
    "start_time": "2022-06-30T07:25:26.337Z"
   },
   {
    "duration": 3,
    "start_time": "2022-06-30T07:25:26.376Z"
   },
   {
    "duration": 23,
    "start_time": "2022-06-30T07:25:26.380Z"
   },
   {
    "duration": 5,
    "start_time": "2022-06-30T07:25:26.405Z"
   },
   {
    "duration": 17,
    "start_time": "2022-06-30T07:25:26.412Z"
   },
   {
    "duration": 17,
    "start_time": "2022-06-30T07:25:26.430Z"
   },
   {
    "duration": 8,
    "start_time": "2022-06-30T07:25:26.450Z"
   },
   {
    "duration": 17,
    "start_time": "2022-06-30T07:25:26.460Z"
   },
   {
    "duration": 7,
    "start_time": "2022-06-30T07:25:26.479Z"
   },
   {
    "duration": 8,
    "start_time": "2022-06-30T07:25:26.487Z"
   },
   {
    "duration": 5,
    "start_time": "2022-06-30T07:25:26.497Z"
   },
   {
    "duration": 23,
    "start_time": "2022-06-30T07:25:26.503Z"
   },
   {
    "duration": 10,
    "start_time": "2022-06-30T07:25:26.528Z"
   },
   {
    "duration": 9,
    "start_time": "2022-06-30T07:25:26.540Z"
   },
   {
    "duration": 10,
    "start_time": "2022-06-30T07:25:26.550Z"
   },
   {
    "duration": 8,
    "start_time": "2022-06-30T07:25:26.561Z"
   },
   {
    "duration": 13,
    "start_time": "2022-06-30T07:25:26.571Z"
   },
   {
    "duration": 8,
    "start_time": "2022-06-30T07:25:26.585Z"
   },
   {
    "duration": 34,
    "start_time": "2022-06-30T07:25:26.595Z"
   },
   {
    "duration": 7,
    "start_time": "2022-06-30T07:25:26.631Z"
   },
   {
    "duration": 11,
    "start_time": "2022-06-30T07:25:26.639Z"
   },
   {
    "duration": 5,
    "start_time": "2022-06-30T07:25:26.652Z"
   },
   {
    "duration": 7,
    "start_time": "2022-06-30T07:25:26.659Z"
   },
   {
    "duration": 56,
    "start_time": "2022-06-30T07:25:26.668Z"
   },
   {
    "duration": 25,
    "start_time": "2022-06-30T07:25:26.731Z"
   },
   {
    "duration": 24,
    "start_time": "2022-06-30T07:25:26.758Z"
   },
   {
    "duration": 6,
    "start_time": "2022-06-30T07:25:26.784Z"
   },
   {
    "duration": 69,
    "start_time": "2022-06-30T07:25:26.792Z"
   },
   {
    "duration": 144,
    "start_time": "2022-06-30T07:25:26.864Z"
   },
   {
    "duration": 117,
    "start_time": "2022-06-30T07:25:27.010Z"
   },
   {
    "duration": 104,
    "start_time": "2022-06-30T07:25:27.129Z"
   },
   {
    "duration": 5,
    "start_time": "2022-06-30T07:25:27.234Z"
   },
   {
    "duration": 7,
    "start_time": "2022-06-30T07:25:27.241Z"
   },
   {
    "duration": 38,
    "start_time": "2022-06-30T07:25:27.249Z"
   },
   {
    "duration": 193,
    "start_time": "2022-06-30T07:25:27.289Z"
   },
   {
    "duration": 41,
    "start_time": "2022-06-30T07:25:27.484Z"
   },
   {
    "duration": 103,
    "start_time": "2022-06-30T07:25:27.526Z"
   },
   {
    "duration": 96,
    "start_time": "2022-06-30T07:25:27.631Z"
   },
   {
    "duration": 6,
    "start_time": "2022-06-30T07:25:27.729Z"
   },
   {
    "duration": 21,
    "start_time": "2022-06-30T07:25:27.737Z"
   },
   {
    "duration": 86,
    "start_time": "2022-06-30T07:25:27.760Z"
   },
   {
    "duration": 17,
    "start_time": "2022-06-30T07:25:27.847Z"
   },
   {
    "duration": 1684,
    "start_time": "2022-06-30T07:25:27.925Z"
   },
   {
    "duration": 45,
    "start_time": "2022-06-30T07:25:29.611Z"
   },
   {
    "duration": 138,
    "start_time": "2022-06-30T07:25:29.659Z"
   },
   {
    "duration": 60524,
    "start_time": "2022-06-30T07:25:29.799Z"
   },
   {
    "duration": 155,
    "start_time": "2022-06-30T07:26:30.740Z"
   },
   {
    "duration": 8736,
    "start_time": "2022-06-30T07:26:30.897Z"
   },
   {
    "duration": 88,
    "start_time": "2022-06-30T07:26:39.635Z"
   },
   {
    "duration": 402,
    "start_time": "2022-06-30T07:26:39.726Z"
   },
   {
    "duration": 10,
    "start_time": "2022-06-30T07:26:40.131Z"
   },
   {
    "duration": 31,
    "start_time": "2022-06-30T07:26:40.143Z"
   },
   {
    "duration": 48,
    "start_time": "2022-06-30T07:26:40.176Z"
   },
   {
    "duration": 97,
    "start_time": "2022-06-30T07:26:40.227Z"
   },
   {
    "duration": 6,
    "start_time": "2022-06-30T07:26:40.325Z"
   },
   {
    "duration": 450,
    "start_time": "2022-06-30T07:27:54.264Z"
   },
   {
    "duration": 153,
    "start_time": "2022-06-30T07:28:04.533Z"
   },
   {
    "duration": 31,
    "start_time": "2022-06-30T07:28:21.125Z"
   },
   {
    "duration": 256,
    "start_time": "2022-06-30T07:28:25.868Z"
   },
   {
    "duration": 9,
    "start_time": "2022-06-30T07:28:31.757Z"
   },
   {
    "duration": 33,
    "start_time": "2022-06-30T07:28:34.375Z"
   },
   {
    "duration": 13,
    "start_time": "2022-06-30T07:28:37.129Z"
   },
   {
    "duration": 1476,
    "start_time": "2022-06-30T07:28:48.677Z"
   },
   {
    "duration": 14,
    "start_time": "2022-06-30T07:28:50.155Z"
   },
   {
    "duration": 17,
    "start_time": "2022-06-30T07:28:50.170Z"
   },
   {
    "duration": 45,
    "start_time": "2022-06-30T07:28:50.188Z"
   },
   {
    "duration": 4,
    "start_time": "2022-06-30T07:28:50.235Z"
   },
   {
    "duration": 17,
    "start_time": "2022-06-30T07:28:50.241Z"
   },
   {
    "duration": 23,
    "start_time": "2022-06-30T07:28:50.260Z"
   },
   {
    "duration": 9,
    "start_time": "2022-06-30T07:28:50.284Z"
   },
   {
    "duration": 25,
    "start_time": "2022-06-30T07:28:50.295Z"
   },
   {
    "duration": 12,
    "start_time": "2022-06-30T07:28:50.322Z"
   },
   {
    "duration": 18,
    "start_time": "2022-06-30T07:28:50.335Z"
   },
   {
    "duration": 14,
    "start_time": "2022-06-30T07:28:50.355Z"
   },
   {
    "duration": 6,
    "start_time": "2022-06-30T07:28:50.371Z"
   },
   {
    "duration": 6,
    "start_time": "2022-06-30T07:28:50.381Z"
   },
   {
    "duration": 20,
    "start_time": "2022-06-30T07:28:50.389Z"
   },
   {
    "duration": 15,
    "start_time": "2022-06-30T07:28:50.411Z"
   },
   {
    "duration": 6,
    "start_time": "2022-06-30T07:28:50.428Z"
   },
   {
    "duration": 17,
    "start_time": "2022-06-30T07:28:50.436Z"
   },
   {
    "duration": 7,
    "start_time": "2022-06-30T07:28:50.455Z"
   },
   {
    "duration": 4,
    "start_time": "2022-06-30T07:28:50.464Z"
   },
   {
    "duration": 19,
    "start_time": "2022-06-30T07:28:50.470Z"
   },
   {
    "duration": 21,
    "start_time": "2022-06-30T07:28:50.490Z"
   },
   {
    "duration": 13,
    "start_time": "2022-06-30T07:28:50.512Z"
   },
   {
    "duration": 21,
    "start_time": "2022-06-30T07:28:50.526Z"
   },
   {
    "duration": 7,
    "start_time": "2022-06-30T07:28:50.549Z"
   },
   {
    "duration": 20,
    "start_time": "2022-06-30T07:28:50.557Z"
   },
   {
    "duration": 23,
    "start_time": "2022-06-30T07:28:50.579Z"
   },
   {
    "duration": 23,
    "start_time": "2022-06-30T07:28:50.603Z"
   },
   {
    "duration": 16,
    "start_time": "2022-06-30T07:28:50.628Z"
   },
   {
    "duration": 5,
    "start_time": "2022-06-30T07:28:50.647Z"
   },
   {
    "duration": 36,
    "start_time": "2022-06-30T07:28:50.654Z"
   },
   {
    "duration": 150,
    "start_time": "2022-06-30T07:28:50.692Z"
   },
   {
    "duration": 82,
    "start_time": "2022-06-30T07:28:50.843Z"
   },
   {
    "duration": 99,
    "start_time": "2022-06-30T07:28:50.927Z"
   },
   {
    "duration": 6,
    "start_time": "2022-06-30T07:28:51.027Z"
   },
   {
    "duration": 14,
    "start_time": "2022-06-30T07:28:51.035Z"
   },
   {
    "duration": 41,
    "start_time": "2022-06-30T07:28:51.050Z"
   },
   {
    "duration": 185,
    "start_time": "2022-06-30T07:28:51.093Z"
   },
   {
    "duration": 44,
    "start_time": "2022-06-30T07:28:51.280Z"
   },
   {
    "duration": 100,
    "start_time": "2022-06-30T07:28:51.326Z"
   },
   {
    "duration": 14,
    "start_time": "2022-06-30T07:28:51.432Z"
   },
   {
    "duration": 76,
    "start_time": "2022-06-30T07:28:51.448Z"
   },
   {
    "duration": 23,
    "start_time": "2022-06-30T07:28:51.526Z"
   },
   {
    "duration": 91,
    "start_time": "2022-06-30T07:28:51.551Z"
   },
   {
    "duration": 19,
    "start_time": "2022-06-30T07:28:51.644Z"
   },
   {
    "duration": 1930,
    "start_time": "2022-06-30T07:28:51.665Z"
   },
   {
    "duration": 45,
    "start_time": "2022-06-30T07:28:53.597Z"
   },
   {
    "duration": 147,
    "start_time": "2022-06-30T07:28:53.644Z"
   },
   {
    "duration": 61514,
    "start_time": "2022-06-30T07:28:53.793Z"
   },
   {
    "duration": 431,
    "start_time": "2022-06-30T07:29:55.309Z"
   },
   {
    "duration": 149,
    "start_time": "2022-06-30T07:29:55.742Z"
   },
   {
    "duration": 8531,
    "start_time": "2022-06-30T07:29:55.892Z"
   },
   {
    "duration": 45,
    "start_time": "2022-06-30T07:30:04.426Z"
   },
   {
    "duration": 362,
    "start_time": "2022-06-30T07:30:04.474Z"
   },
   {
    "duration": 10,
    "start_time": "2022-06-30T07:30:04.838Z"
   },
   {
    "duration": 36,
    "start_time": "2022-06-30T07:30:04.850Z"
   },
   {
    "duration": 36,
    "start_time": "2022-06-30T07:30:04.888Z"
   },
   {
    "duration": 110,
    "start_time": "2022-06-30T07:30:04.927Z"
   },
   {
    "duration": 13,
    "start_time": "2022-06-30T07:30:05.039Z"
   },
   {
    "duration": 10,
    "start_time": "2022-06-30T07:43:31.486Z"
   },
   {
    "duration": 35,
    "start_time": "2022-06-30T07:45:01.695Z"
   },
   {
    "duration": 11,
    "start_time": "2022-06-30T07:45:03.139Z"
   },
   {
    "duration": 1587,
    "start_time": "2022-06-30T08:24:49.165Z"
   },
   {
    "duration": 13,
    "start_time": "2022-06-30T08:24:50.754Z"
   },
   {
    "duration": 22,
    "start_time": "2022-06-30T08:24:50.768Z"
   },
   {
    "duration": 50,
    "start_time": "2022-06-30T08:24:50.791Z"
   },
   {
    "duration": 4,
    "start_time": "2022-06-30T08:24:50.843Z"
   },
   {
    "duration": 17,
    "start_time": "2022-06-30T08:24:50.848Z"
   },
   {
    "duration": 6,
    "start_time": "2022-06-30T08:24:50.867Z"
   },
   {
    "duration": 15,
    "start_time": "2022-06-30T08:24:50.874Z"
   },
   {
    "duration": 14,
    "start_time": "2022-06-30T08:24:50.891Z"
   },
   {
    "duration": 8,
    "start_time": "2022-06-30T08:24:50.906Z"
   },
   {
    "duration": 10,
    "start_time": "2022-06-30T08:24:50.916Z"
   },
   {
    "duration": 19,
    "start_time": "2022-06-30T08:24:50.928Z"
   },
   {
    "duration": 8,
    "start_time": "2022-06-30T08:24:50.948Z"
   },
   {
    "duration": 10,
    "start_time": "2022-06-30T08:24:50.960Z"
   },
   {
    "duration": 17,
    "start_time": "2022-06-30T08:24:50.971Z"
   },
   {
    "duration": 9,
    "start_time": "2022-06-30T08:24:50.990Z"
   },
   {
    "duration": 8,
    "start_time": "2022-06-30T08:24:51.001Z"
   },
   {
    "duration": 12,
    "start_time": "2022-06-30T08:24:51.010Z"
   },
   {
    "duration": 24,
    "start_time": "2022-06-30T08:24:51.024Z"
   },
   {
    "duration": 6,
    "start_time": "2022-06-30T08:24:51.050Z"
   },
   {
    "duration": 17,
    "start_time": "2022-06-30T08:24:51.058Z"
   },
   {
    "duration": 15,
    "start_time": "2022-06-30T08:24:51.077Z"
   },
   {
    "duration": 7,
    "start_time": "2022-06-30T08:24:51.094Z"
   },
   {
    "duration": 9,
    "start_time": "2022-06-30T08:24:51.103Z"
   },
   {
    "duration": 12,
    "start_time": "2022-06-30T08:24:51.114Z"
   },
   {
    "duration": 24,
    "start_time": "2022-06-30T08:24:51.128Z"
   },
   {
    "duration": 28,
    "start_time": "2022-06-30T08:24:51.154Z"
   },
   {
    "duration": 16,
    "start_time": "2022-06-30T08:24:51.183Z"
   },
   {
    "duration": 24,
    "start_time": "2022-06-30T08:24:51.200Z"
   },
   {
    "duration": 27,
    "start_time": "2022-06-30T08:24:51.226Z"
   },
   {
    "duration": 36,
    "start_time": "2022-06-30T08:24:51.255Z"
   },
   {
    "duration": 127,
    "start_time": "2022-06-30T08:24:51.293Z"
   },
   {
    "duration": 30,
    "start_time": "2022-06-30T08:24:51.422Z"
   },
   {
    "duration": 102,
    "start_time": "2022-06-30T08:24:51.524Z"
   },
   {
    "duration": 16,
    "start_time": "2022-06-30T08:24:51.629Z"
   },
   {
    "duration": 9,
    "start_time": "2022-06-30T08:24:51.647Z"
   },
   {
    "duration": 39,
    "start_time": "2022-06-30T08:24:51.657Z"
   },
   {
    "duration": 181,
    "start_time": "2022-06-30T08:24:51.698Z"
   },
   {
    "duration": 54,
    "start_time": "2022-06-30T08:24:51.881Z"
   },
   {
    "duration": 98,
    "start_time": "2022-06-30T08:24:51.938Z"
   },
   {
    "duration": 21,
    "start_time": "2022-06-30T08:24:52.042Z"
   },
   {
    "duration": 17,
    "start_time": "2022-06-30T08:24:52.064Z"
   },
   {
    "duration": 90,
    "start_time": "2022-06-30T08:24:52.083Z"
   },
   {
    "duration": 76,
    "start_time": "2022-06-30T08:24:52.175Z"
   },
   {
    "duration": 14,
    "start_time": "2022-06-30T08:24:52.253Z"
   },
   {
    "duration": 1833,
    "start_time": "2022-06-30T08:24:52.328Z"
   },
   {
    "duration": 38,
    "start_time": "2022-06-30T08:24:54.163Z"
   },
   {
    "duration": 152,
    "start_time": "2022-06-30T08:24:54.203Z"
   },
   {
    "duration": 63900,
    "start_time": "2022-06-30T08:24:54.357Z"
   },
   {
    "duration": 458,
    "start_time": "2022-06-30T08:25:58.258Z"
   },
   {
    "duration": 151,
    "start_time": "2022-06-30T08:25:58.717Z"
   },
   {
    "duration": 6956,
    "start_time": "2022-06-30T08:25:58.869Z"
   },
   {
    "duration": 38,
    "start_time": "2022-06-30T08:26:05.826Z"
   },
   {
    "duration": 322,
    "start_time": "2022-06-30T08:26:05.925Z"
   },
   {
    "duration": 9,
    "start_time": "2022-06-30T08:26:06.248Z"
   },
   {
    "duration": 35,
    "start_time": "2022-06-30T08:26:06.258Z"
   },
   {
    "duration": 127,
    "start_time": "2022-06-30T08:26:06.295Z"
   },
   {
    "duration": 12,
    "start_time": "2022-06-30T08:26:06.425Z"
   },
   {
    "duration": 24,
    "start_time": "2022-06-30T08:26:06.440Z"
   }
  ],
  "kernelspec": {
   "display_name": "Python 3 (ipykernel)",
   "language": "python",
   "name": "python3"
  },
  "language_info": {
   "codemirror_mode": {
    "name": "ipython",
    "version": 3
   },
   "file_extension": ".py",
   "mimetype": "text/x-python",
   "name": "python",
   "nbconvert_exporter": "python",
   "pygments_lexer": "ipython3",
   "version": "3.9.12"
  },
  "toc": {
   "base_numbering": 1,
   "nav_menu": {},
   "number_sections": true,
   "sideBar": true,
   "skip_h1_title": true,
   "title_cell": "Table of Contents",
   "title_sidebar": "Contents",
   "toc_cell": true,
   "toc_position": {
    "height": "calc(100% - 180px)",
    "left": "10px",
    "top": "150px",
    "width": "314.567px"
   },
   "toc_section_display": true,
   "toc_window_display": true
  }
 },
 "nbformat": 4,
 "nbformat_minor": 2
}
